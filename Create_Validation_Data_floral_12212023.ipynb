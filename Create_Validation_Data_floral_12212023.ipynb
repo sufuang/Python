{
 "cells": [
  {
   "cell_type": "code",
   "execution_count": 0,
   "metadata": {
    "application/vnd.databricks.v1+cell": {
     "cellMetadata": {
      "byteLimit": 2048000,
      "rowLimit": 10000
     },
     "inputWidgets": {},
     "nuid": "d7ee27e2-6614-477f-9900-de3b7802f10d",
     "showTitle": false,
     "title": ""
    }
   },
   "outputs": [],
   "source": [
    "import pandas as pd, numpy as np\n",
    "import datetime as dt"
   ]
  },
  {
   "cell_type": "code",
   "execution_count": 0,
   "metadata": {
    "application/vnd.databricks.v1+cell": {
     "cellMetadata": {
      "byteLimit": 2048000,
      "rowLimit": 10000
     },
     "inputWidgets": {},
     "nuid": "72cff16d-3974-424e-bb4b-5210d6971806",
     "showTitle": false,
     "title": ""
    }
   },
   "outputs": [],
   "source": [
    "### Load file with extracted attributes\n",
    "sourcepath = '/dbfs/FileStore/tables/DATA_SCIENCE/COLOR/'\n",
    "#filename = 'COLOR_NORMALIZED_Rugs_12062023.csv'\n",
    "filename = 'COLOR_NORMALIZED_Floral_12212023.csv'\n",
    "output_field = 'NORMALIZED_COLOR'\n",
    "source = pd.read_csv(sourcepath + filename)\n",
    "#### Crate sample data for manual validation ( 5 samples from each unique attribute/ attribute combination)\n",
    "sampled = source.groupby(output_field, group_keys=False).apply(lambda x: x.sample(min(5, len(x))))\n"
   ]
  },
  {
   "cell_type": "code",
   "execution_count": 0,
   "metadata": {
    "application/vnd.databricks.v1+cell": {
     "cellMetadata": {
      "byteLimit": 2048000,
      "rowLimit": 10000
     },
     "inputWidgets": {},
     "nuid": "51106226-4c94-409e-9036-8a920a93e27a",
     "showTitle": false,
     "title": ""
    }
   },
   "outputs": [],
   "source": [
    "# Write to file\n",
    "today = dt.datetime.today().strftime(\"%m%d%Y\")\n",
    "sampled.to_csv(sourcepath + 'Validation_Data_Color_Floral_' + today + '.csv', index = None)"
   ]
  },
  {
   "cell_type": "code",
   "execution_count": 0,
   "metadata": {
    "application/vnd.databricks.v1+cell": {
     "cellMetadata": {
      "byteLimit": 2048000,
      "rowLimit": 10000
     },
     "inputWidgets": {},
     "nuid": "fded7377-ce48-4b87-912d-c6bc9a9dbafa",
     "showTitle": false,
     "title": ""
    }
   },
   "outputs": [
    {
     "output_type": "execute_result",
     "data": {
      "text/plain": [
       "(408, 7)"
      ]
     },
     "execution_count": 5,
     "metadata": {},
     "output_type": "execute_result"
    }
   ],
   "source": [
    "df_sample = pd.read_csv (sourcepath + 'Validation_Data_Color_Floral_' + today + '.csv')\n",
    "df_sample.shape "
   ]
  },
  {
   "cell_type": "code",
   "execution_count": 0,
   "metadata": {
    "application/vnd.databricks.v1+cell": {
     "cellMetadata": {
      "byteLimit": 2048000,
      "rowLimit": 10000
     },
     "inputWidgets": {},
     "nuid": "a7db5bb8-1c1d-4592-b937-6e90b7ec39c5",
     "showTitle": false,
     "title": ""
    }
   },
   "outputs": [
    {
     "output_type": "execute_result",
     "data": {
      "text/html": [
       "<div>\n",
       "<style scoped>\n",
       "    .dataframe tbody tr th:only-of-type {\n",
       "        vertical-align: middle;\n",
       "    }\n",
       "\n",
       "    .dataframe tbody tr th {\n",
       "        vertical-align: top;\n",
       "    }\n",
       "\n",
       "    .dataframe thead th {\n",
       "        text-align: right;\n",
       "    }\n",
       "</style>\n",
       "<table border=\"1\" class=\"dataframe\">\n",
       "  <thead>\n",
       "    <tr style=\"text-align: right;\">\n",
       "      <th></th>\n",
       "      <th>GTIN_NO</th>\n",
       "      <th>VND_ECOM_DSC</th>\n",
       "      <th>ITM_LVL_DSC</th>\n",
       "      <th>TAG_DSC</th>\n",
       "      <th>COLOR_CURRENT</th>\n",
       "      <th>NORMALIZED_COLOR</th>\n",
       "      <th>SLS_CHA_VLU</th>\n",
       "    </tr>\n",
       "  </thead>\n",
       "  <tbody>\n",
       "    <tr>\n",
       "      <th>0</th>\n",
       "      <td>885369575075</td>\n",
       "      <td>Sky-06 Apricot, Mist 6'-0  X 9'-0  Size Rug</td>\n",
       "      <td>NaN</td>\n",
       "      <td>NaN</td>\n",
       "      <td>NONE</td>\n",
       "      <td>APRICOT</td>\n",
       "      <td>Marketplace</td>\n",
       "    </tr>\n",
       "    <tr>\n",
       "      <th>1</th>\n",
       "      <td>885369623646</td>\n",
       "      <td>Adr-01 Natural, Apricot 2'-3  X 3'-9  Size Rug</td>\n",
       "      <td>NaN</td>\n",
       "      <td>NaN</td>\n",
       "      <td>NONE</td>\n",
       "      <td>APRICOT</td>\n",
       "      <td>Marketplace</td>\n",
       "    </tr>\n",
       "    <tr>\n",
       "      <th>2</th>\n",
       "      <td>606114028383</td>\n",
       "      <td>8' X 10' Apricot And Cream Geometric Stain Res...</td>\n",
       "      <td>NaN</td>\n",
       "      <td>NaN</td>\n",
       "      <td>NONE</td>\n",
       "      <td>APRICOT</td>\n",
       "      <td>Marketplace</td>\n",
       "    </tr>\n",
       "    <tr>\n",
       "      <th>3</th>\n",
       "      <td>885369623677</td>\n",
       "      <td>Adr-01 Natural, Apricot 2'-6  X 9'-6  Size Rug</td>\n",
       "      <td>NaN</td>\n",
       "      <td>NaN</td>\n",
       "      <td>NONE</td>\n",
       "      <td>APRICOT</td>\n",
       "      <td>Marketplace</td>\n",
       "    </tr>\n",
       "    <tr>\n",
       "      <th>4</th>\n",
       "      <td>885369623707</td>\n",
       "      <td>Adr-01 Natural, Apricot 5'-0  X 7'-6  Size Rug</td>\n",
       "      <td>NaN</td>\n",
       "      <td>NaN</td>\n",
       "      <td>NONE</td>\n",
       "      <td>APRICOT</td>\n",
       "      <td>Marketplace</td>\n",
       "    </tr>\n",
       "  </tbody>\n",
       "</table>\n",
       "</div>"
      ],
      "text/plain": [
       "        GTIN_NO  ...  SLS_CHA_VLU\n",
       "0  885369575075  ...  Marketplace\n",
       "1  885369623646  ...  Marketplace\n",
       "2  606114028383  ...  Marketplace\n",
       "3  885369623677  ...  Marketplace\n",
       "4  885369623707  ...  Marketplace\n",
       "\n",
       "[5 rows x 7 columns]"
      ]
     },
     "execution_count": 5,
     "metadata": {},
     "output_type": "execute_result"
    }
   ],
   "source": [
    "df_sample.head()"
   ]
  },
  {
   "cell_type": "code",
   "execution_count": 0,
   "metadata": {
    "application/vnd.databricks.v1+cell": {
     "cellMetadata": {
      "byteLimit": 2048000,
      "rowLimit": 10000
     },
     "inputWidgets": {},
     "nuid": "4352824c-db46-4407-ad40-9a25e2391b14",
     "showTitle": false,
     "title": ""
    }
   },
   "outputs": [
    {
     "output_type": "execute_result",
     "data": {
      "text/plain": [
       "Store                 219\n",
       "NaN                   105\n",
       "Marketplace            81\n",
       "Marketplace; Store      3\n",
       "Name: SLS_CHA_VLU, dtype: int64"
      ]
     },
     "execution_count": 6,
     "metadata": {},
     "output_type": "execute_result"
    }
   ],
   "source": [
    "df_sample.SLS_CHA_VLU.value_counts(dropna = False)"
   ]
  },
  {
   "cell_type": "code",
   "execution_count": 0,
   "metadata": {
    "application/vnd.databricks.v1+cell": {
     "cellMetadata": {},
     "inputWidgets": {},
     "nuid": "6c4bd693-a2d3-4a4b-a1fb-10d22bb48f82",
     "showTitle": false,
     "title": ""
    }
   },
   "outputs": [],
   "source": []
  }
 ],
 "metadata": {
  "application/vnd.databricks.v1+notebook": {
   "dashboards": [],
   "language": "python",
   "notebookMetadata": {
    "pythonIndentUnit": 4
   },
   "notebookName": "Create_Validation_Data_floral_12212023",
   "widgets": {}
  }
 },
 "nbformat": 4,
 "nbformat_minor": 0
}
