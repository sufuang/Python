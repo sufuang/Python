{
 "cells": [
  {
   "cell_type": "code",
   "execution_count": 1,
   "id": "06f81132",
   "metadata": {},
   "outputs": [],
   "source": [
    "import pandas as pd, numpy as np"
   ]
  },
  {
   "cell_type": "code",
   "execution_count": 2,
   "id": "a88da581",
   "metadata": {},
   "outputs": [],
   "source": [
    "results = pd.read_csv('l1_l2.csv')"
   ]
  },
  {
   "cell_type": "code",
   "execution_count": 3,
   "id": "8c442dec",
   "metadata": {},
   "outputs": [
    {
     "data": {
      "text/plain": [
       "(195175, 19)"
      ]
     },
     "execution_count": 3,
     "metadata": {},
     "output_type": "execute_result"
    }
   ],
   "source": [
    "results.shape"
   ]
  },
  {
   "cell_type": "code",
   "execution_count": 4,
   "id": "4d6dc0cb",
   "metadata": {},
   "outputs": [
    {
     "data": {
      "text/html": [
       "<div>\n",
       "<style scoped>\n",
       "    .dataframe tbody tr th:only-of-type {\n",
       "        vertical-align: middle;\n",
       "    }\n",
       "\n",
       "    .dataframe tbody tr th {\n",
       "        vertical-align: top;\n",
       "    }\n",
       "\n",
       "    .dataframe thead th {\n",
       "        text-align: right;\n",
       "    }\n",
       "</style>\n",
       "<table border=\"1\" class=\"dataframe\">\n",
       "  <thead>\n",
       "    <tr style=\"text-align: right;\">\n",
       "      <th></th>\n",
       "      <th>ITM_ID</th>\n",
       "      <th>GTIN</th>\n",
       "      <th>PMY_DPT_CD</th>\n",
       "      <th>PMY_DPT_DSC</th>\n",
       "      <th>REC_DPT_CD</th>\n",
       "      <th>REC_DPT_DSC</th>\n",
       "      <th>DPT_CD</th>\n",
       "      <th>DPT_DSC</th>\n",
       "      <th>COM_CD</th>\n",
       "      <th>COM_DSC</th>\n",
       "      <th>SUBCOM_CD</th>\n",
       "      <th>SUBCOM_DSC</th>\n",
       "      <th>VND_ECOM_DSC</th>\n",
       "      <th>Source</th>\n",
       "      <th>Actual Level 2</th>\n",
       "      <th>Actuals</th>\n",
       "      <th>Predictions</th>\n",
       "      <th>Scores</th>\n",
       "      <th>l1_l2</th>\n",
       "    </tr>\n",
       "  </thead>\n",
       "  <tbody>\n",
       "    <tr>\n",
       "      <th>0</th>\n",
       "      <td>747914864.0</td>\n",
       "      <td>3.077205e+10</td>\n",
       "      <td>1.0</td>\n",
       "      <td>GROCERY</td>\n",
       "      <td>1.0</td>\n",
       "      <td>GROCERY</td>\n",
       "      <td>80.0</td>\n",
       "      <td>GROC NON-EDIBLE</td>\n",
       "      <td>103.0</td>\n",
       "      <td>DISHWASH DETERGENTS</td>\n",
       "      <td>37716.0</td>\n",
       "      <td>LIQUID DISH DETERGENT</td>\n",
       "      <td>Dawn Antibacterial EZ-Squeeze Dishwashing Liqu...</td>\n",
       "      <td>Test</td>\n",
       "      <td>Cleaning &amp; Janitorial + Cleaning Chemicals</td>\n",
       "      <td>Cleaning &amp; Janitorial + Cleaning Chemicals</td>\n",
       "      <td>Cleaning &amp; Janitorial + Cleaning Chemicals</td>\n",
       "      <td>0.9991700988927781</td>\n",
       "      <td>Food / Beverages + Dairy &amp; Egg Products</td>\n",
       "    </tr>\n",
       "    <tr>\n",
       "      <th>1</th>\n",
       "      <td>744355938.0</td>\n",
       "      <td>7.174897e+11</td>\n",
       "      <td>3.0</td>\n",
       "      <td>DRUG/GM</td>\n",
       "      <td>3.0</td>\n",
       "      <td>HBC</td>\n",
       "      <td>16.0</td>\n",
       "      <td>BEAUTY</td>\n",
       "      <td>813.0</td>\n",
       "      <td>COLOR COSMETICS</td>\n",
       "      <td>61083.0</td>\n",
       "      <td>MILANI</td>\n",
       "      <td>Milani Orange Gina Clr Sttmnt Lipstick .14oz</td>\n",
       "      <td>Test</td>\n",
       "      <td>Health &amp; Beauty + Cosmetics &amp; Fragrances</td>\n",
       "      <td>Health &amp; Beauty + Cosmetics &amp; Fragrances</td>\n",
       "      <td>Health &amp; Beauty + Cosmetics &amp; Fragrances</td>\n",
       "      <td>0.9999913531070369</td>\n",
       "      <td>Food / Beverages + Dairy &amp; Egg Products</td>\n",
       "    </tr>\n",
       "    <tr>\n",
       "      <th>2</th>\n",
       "      <td>743758002.0</td>\n",
       "      <td>8.947710e+11</td>\n",
       "      <td>10.0</td>\n",
       "      <td>DELI/BAKE</td>\n",
       "      <td>49.0</td>\n",
       "      <td>SPECIALTY CHS</td>\n",
       "      <td>55.0</td>\n",
       "      <td>PKG SPECIALTY</td>\n",
       "      <td>455.0</td>\n",
       "      <td>DELI SPECIALTIES (RETAIL PK)</td>\n",
       "      <td>46270.0</td>\n",
       "      <td>SPECIALTY CRACKERS</td>\n",
       "      <td>34 Degrees Sesame Crisps</td>\n",
       "      <td>Test</td>\n",
       "      <td>Food / Beverages + Grocery</td>\n",
       "      <td>Food / Beverages + Grocery</td>\n",
       "      <td>Food / Beverages + Grocery</td>\n",
       "      <td>0.9999700700491345</td>\n",
       "      <td>Health &amp; Beauty + Personal Care</td>\n",
       "    </tr>\n",
       "    <tr>\n",
       "      <th>3</th>\n",
       "      <td>743633171.0</td>\n",
       "      <td>7.127931e+10</td>\n",
       "      <td>7.0</td>\n",
       "      <td>PRODUCE</td>\n",
       "      <td>19.0</td>\n",
       "      <td>FRESH PRODUCE</td>\n",
       "      <td>57.0</td>\n",
       "      <td>VEGETABLES</td>\n",
       "      <td>640.0</td>\n",
       "      <td>SALAD MIX</td>\n",
       "      <td>98104.0</td>\n",
       "      <td>KITS</td>\n",
       "      <td>Pear Gorgonzola</td>\n",
       "      <td>Test</td>\n",
       "      <td>Food / Beverages + Produce</td>\n",
       "      <td>Food / Beverages + Produce</td>\n",
       "      <td>Food / Beverages + Produce</td>\n",
       "      <td>0.8769365982097823</td>\n",
       "      <td>Health &amp; Beauty + Personal Care</td>\n",
       "    </tr>\n",
       "    <tr>\n",
       "      <th>4</th>\n",
       "      <td>745892316.0</td>\n",
       "      <td>2.149601e+10</td>\n",
       "      <td>3.0</td>\n",
       "      <td>DRUG/GM</td>\n",
       "      <td>87.0</td>\n",
       "      <td>GM</td>\n",
       "      <td>41.0</td>\n",
       "      <td>GARDEN-OUTDOOR</td>\n",
       "      <td>894.0</td>\n",
       "      <td>GARDEN TOOLS/HDW</td>\n",
       "      <td>91223.0</td>\n",
       "      <td>GRASS SEED</td>\n",
       "      <td>Pennington Seed One Step Complete Bermuda Full...</td>\n",
       "      <td>Test</td>\n",
       "      <td>Gardening &amp; Outdoors + Gardening</td>\n",
       "      <td>Gardening &amp; Outdoors + Gardening</td>\n",
       "      <td>Gardening &amp; Outdoors + Gardening</td>\n",
       "      <td>0.9585935516899028</td>\n",
       "      <td>Health &amp; Beauty + Vitamins &amp; Dietary Supplements</td>\n",
       "    </tr>\n",
       "  </tbody>\n",
       "</table>\n",
       "</div>"
      ],
      "text/plain": [
       "        ITM_ID          GTIN  PMY_DPT_CD PMY_DPT_DSC  REC_DPT_CD  \\\n",
       "0  747914864.0  3.077205e+10         1.0     GROCERY         1.0   \n",
       "1  744355938.0  7.174897e+11         3.0     DRUG/GM         3.0   \n",
       "2  743758002.0  8.947710e+11        10.0   DELI/BAKE        49.0   \n",
       "3  743633171.0  7.127931e+10         7.0     PRODUCE        19.0   \n",
       "4  745892316.0  2.149601e+10         3.0     DRUG/GM        87.0   \n",
       "\n",
       "     REC_DPT_DSC  DPT_CD          DPT_DSC  COM_CD  \\\n",
       "0        GROCERY    80.0  GROC NON-EDIBLE   103.0   \n",
       "1            HBC    16.0           BEAUTY   813.0   \n",
       "2  SPECIALTY CHS    55.0    PKG SPECIALTY   455.0   \n",
       "3  FRESH PRODUCE    57.0       VEGETABLES   640.0   \n",
       "4             GM    41.0   GARDEN-OUTDOOR   894.0   \n",
       "\n",
       "                        COM_DSC  SUBCOM_CD             SUBCOM_DSC  \\\n",
       "0           DISHWASH DETERGENTS    37716.0  LIQUID DISH DETERGENT   \n",
       "1               COLOR COSMETICS    61083.0                 MILANI   \n",
       "2  DELI SPECIALTIES (RETAIL PK)    46270.0     SPECIALTY CRACKERS   \n",
       "3                     SALAD MIX    98104.0                   KITS   \n",
       "4              GARDEN TOOLS/HDW    91223.0             GRASS SEED   \n",
       "\n",
       "                                        VND_ECOM_DSC Source  \\\n",
       "0  Dawn Antibacterial EZ-Squeeze Dishwashing Liqu...   Test   \n",
       "1       Milani Orange Gina Clr Sttmnt Lipstick .14oz   Test   \n",
       "2                           34 Degrees Sesame Crisps   Test   \n",
       "3                                    Pear Gorgonzola   Test   \n",
       "4  Pennington Seed One Step Complete Bermuda Full...   Test   \n",
       "\n",
       "                               Actual Level 2  \\\n",
       "0  Cleaning & Janitorial + Cleaning Chemicals   \n",
       "1    Health & Beauty + Cosmetics & Fragrances   \n",
       "2                  Food / Beverages + Grocery   \n",
       "3                  Food / Beverages + Produce   \n",
       "4            Gardening & Outdoors + Gardening   \n",
       "\n",
       "                                      Actuals  \\\n",
       "0  Cleaning & Janitorial + Cleaning Chemicals   \n",
       "1    Health & Beauty + Cosmetics & Fragrances   \n",
       "2                  Food / Beverages + Grocery   \n",
       "3                  Food / Beverages + Produce   \n",
       "4            Gardening & Outdoors + Gardening   \n",
       "\n",
       "                                  Predictions              Scores  \\\n",
       "0  Cleaning & Janitorial + Cleaning Chemicals  0.9991700988927781   \n",
       "1    Health & Beauty + Cosmetics & Fragrances  0.9999913531070369   \n",
       "2                  Food / Beverages + Grocery  0.9999700700491345   \n",
       "3                  Food / Beverages + Produce  0.8769365982097823   \n",
       "4            Gardening & Outdoors + Gardening  0.9585935516899028   \n",
       "\n",
       "                                              l1_l2  \n",
       "0           Food / Beverages + Dairy & Egg Products  \n",
       "1           Food / Beverages + Dairy & Egg Products  \n",
       "2                   Health & Beauty + Personal Care  \n",
       "3                   Health & Beauty + Personal Care  \n",
       "4  Health & Beauty + Vitamins & Dietary Supplements  "
      ]
     },
     "execution_count": 4,
     "metadata": {},
     "output_type": "execute_result"
    }
   ],
   "source": [
    "results.head()"
   ]
  },
  {
   "cell_type": "code",
   "execution_count": 59,
   "id": "080b0eb0",
   "metadata": {},
   "outputs": [],
   "source": [
    "results['Scores'] = results['Scores'].str.strip('[]').astype(float)"
   ]
  },
  {
   "cell_type": "code",
   "execution_count": 60,
   "id": "8adee408",
   "metadata": {},
   "outputs": [],
   "source": [
    "results['Outcome'] = (results.Actuals == results.Predictions).astype(int)"
   ]
  },
  {
   "cell_type": "code",
   "execution_count": 61,
   "id": "b4dde53a",
   "metadata": {},
   "outputs": [],
   "source": [
    "results['L1_Outcome'] = (results.Actuals.fillna('').apply(lambda x: x.split('+')[0])  ==\\\n",
    "                         results.Predictions.fillna('').apply(lambda x: x.split('+')[0])).astype(int)"
   ]
  },
  {
   "cell_type": "code",
   "execution_count": 75,
   "id": "77c2da17",
   "metadata": {},
   "outputs": [],
   "source": [
    "results_train = results[results.Source == 'Train']\n",
    "results_test = results[results.Source == 'Test']"
   ]
  },
  {
   "cell_type": "code",
   "execution_count": null,
   "id": "d66243df",
   "metadata": {},
   "outputs": [],
   "source": []
  },
  {
   "cell_type": "markdown",
   "id": "44b18e84",
   "metadata": {},
   "source": [
    "### L1-L2 accuracy"
   ]
  },
  {
   "cell_type": "code",
   "execution_count": 76,
   "id": "34bd7037",
   "metadata": {},
   "outputs": [
    {
     "data": {
      "text/plain": [
       "98.22173383904624"
      ]
     },
     "execution_count": 76,
     "metadata": {},
     "output_type": "execute_result"
    }
   ],
   "source": [
    "train_accuracy = 100*results_train.Outcome.sum()/len(results_train)\n",
    "train_accuracy"
   ]
  },
  {
   "cell_type": "code",
   "execution_count": 77,
   "id": "ef2801fb",
   "metadata": {},
   "outputs": [
    {
     "data": {
      "text/plain": [
       "89.33961171793585"
      ]
     },
     "execution_count": 77,
     "metadata": {},
     "output_type": "execute_result"
    }
   ],
   "source": [
    "test_accuracy = 100*results_test.Outcome.sum()/len(results_test)\n",
    "test_accuracy"
   ]
  },
  {
   "cell_type": "markdown",
   "id": "c6245a3a",
   "metadata": {},
   "source": [
    "### L1 accuracy"
   ]
  },
  {
   "cell_type": "code",
   "execution_count": 78,
   "id": "f321db4f",
   "metadata": {},
   "outputs": [
    {
     "data": {
      "text/plain": [
       "98.94190209492751"
      ]
     },
     "execution_count": 78,
     "metadata": {},
     "output_type": "execute_result"
    }
   ],
   "source": [
    "L1_train_accuracy = 100*results_train.L1_Outcome.sum()/len(results_train)\n",
    "L1_train_accuracy"
   ]
  },
  {
   "cell_type": "code",
   "execution_count": 79,
   "id": "1fa174cd",
   "metadata": {},
   "outputs": [
    {
     "data": {
      "text/plain": [
       "95.3799837894168"
      ]
     },
     "execution_count": 79,
     "metadata": {},
     "output_type": "execute_result"
    }
   ],
   "source": [
    "L1_test_accuracy = 100*results_test.L1_Outcome.sum()/len(results_test)\n",
    "L1_test_accuracy"
   ]
  },
  {
   "cell_type": "code",
   "execution_count": null,
   "id": "77f0d7ec",
   "metadata": {},
   "outputs": [],
   "source": []
  },
  {
   "cell_type": "code",
   "execution_count": 88,
   "id": "5d6cfaac",
   "metadata": {},
   "outputs": [],
   "source": [
    "from sklearn.metrics import classification_report"
   ]
  },
  {
   "cell_type": "code",
   "execution_count": 98,
   "id": "0f3dbaa7",
   "metadata": {},
   "outputs": [
    {
     "name": "stderr",
     "output_type": "stream",
     "text": [
      "C:\\Users\\iny8251\\AppData\\Local\\anaconda3\\lib\\site-packages\\sklearn\\metrics\\_classification.py:1469: UndefinedMetricWarning: Precision and F-score are ill-defined and being set to 0.0 in labels with no predicted samples. Use `zero_division` parameter to control this behavior.\n",
      "  _warn_prf(average, modifier, msg_start, len(result))\n",
      "C:\\Users\\iny8251\\AppData\\Local\\anaconda3\\lib\\site-packages\\sklearn\\metrics\\_classification.py:1469: UndefinedMetricWarning: Recall and F-score are ill-defined and being set to 0.0 in labels with no true samples. Use `zero_division` parameter to control this behavior.\n",
      "  _warn_prf(average, modifier, msg_start, len(result))\n",
      "C:\\Users\\iny8251\\AppData\\Local\\anaconda3\\lib\\site-packages\\sklearn\\metrics\\_classification.py:1469: UndefinedMetricWarning: Precision and F-score are ill-defined and being set to 0.0 in labels with no predicted samples. Use `zero_division` parameter to control this behavior.\n",
      "  _warn_prf(average, modifier, msg_start, len(result))\n",
      "C:\\Users\\iny8251\\AppData\\Local\\anaconda3\\lib\\site-packages\\sklearn\\metrics\\_classification.py:1469: UndefinedMetricWarning: Recall and F-score are ill-defined and being set to 0.0 in labels with no true samples. Use `zero_division` parameter to control this behavior.\n",
      "  _warn_prf(average, modifier, msg_start, len(result))\n",
      "C:\\Users\\iny8251\\AppData\\Local\\anaconda3\\lib\\site-packages\\sklearn\\metrics\\_classification.py:1469: UndefinedMetricWarning: Precision and F-score are ill-defined and being set to 0.0 in labels with no predicted samples. Use `zero_division` parameter to control this behavior.\n",
      "  _warn_prf(average, modifier, msg_start, len(result))\n",
      "C:\\Users\\iny8251\\AppData\\Local\\anaconda3\\lib\\site-packages\\sklearn\\metrics\\_classification.py:1469: UndefinedMetricWarning: Recall and F-score are ill-defined and being set to 0.0 in labels with no true samples. Use `zero_division` parameter to control this behavior.\n",
      "  _warn_prf(average, modifier, msg_start, len(result))\n"
     ]
    }
   ],
   "source": [
    "test_metrics = pd.DataFrame(classification_report(results_test.Actuals, results_test.Predictions, output_dict= True)).T"
   ]
  },
  {
   "cell_type": "code",
   "execution_count": 99,
   "id": "98e86be3",
   "metadata": {},
   "outputs": [
    {
     "data": {
      "text/html": [
       "<div>\n",
       "<style scoped>\n",
       "    .dataframe tbody tr th:only-of-type {\n",
       "        vertical-align: middle;\n",
       "    }\n",
       "\n",
       "    .dataframe tbody tr th {\n",
       "        vertical-align: top;\n",
       "    }\n",
       "\n",
       "    .dataframe thead th {\n",
       "        text-align: right;\n",
       "    }\n",
       "</style>\n",
       "<table border=\"1\" class=\"dataframe\">\n",
       "  <thead>\n",
       "    <tr style=\"text-align: right;\">\n",
       "      <th></th>\n",
       "      <th>precision</th>\n",
       "      <th>recall</th>\n",
       "      <th>f1-score</th>\n",
       "      <th>support</th>\n",
       "    </tr>\n",
       "  </thead>\n",
       "  <tbody>\n",
       "    <tr>\n",
       "      <th>Apparel + Clothing</th>\n",
       "      <td>0.963415</td>\n",
       "      <td>0.908046</td>\n",
       "      <td>0.934911</td>\n",
       "      <td>87.000000</td>\n",
       "    </tr>\n",
       "    <tr>\n",
       "      <th>Apparel + Footwear</th>\n",
       "      <td>0.833333</td>\n",
       "      <td>0.714286</td>\n",
       "      <td>0.769231</td>\n",
       "      <td>7.000000</td>\n",
       "    </tr>\n",
       "    <tr>\n",
       "      <th>Apparel + Personal Accessories</th>\n",
       "      <td>0.333333</td>\n",
       "      <td>0.285714</td>\n",
       "      <td>0.307692</td>\n",
       "      <td>28.000000</td>\n",
       "    </tr>\n",
       "    <tr>\n",
       "      <th>Apparel + Safety Apparel</th>\n",
       "      <td>0.800000</td>\n",
       "      <td>1.000000</td>\n",
       "      <td>0.888889</td>\n",
       "      <td>4.000000</td>\n",
       "    </tr>\n",
       "    <tr>\n",
       "      <th>Appliances + Microwaves</th>\n",
       "      <td>1.000000</td>\n",
       "      <td>1.000000</td>\n",
       "      <td>1.000000</td>\n",
       "      <td>1.000000</td>\n",
       "    </tr>\n",
       "    <tr>\n",
       "      <th>...</th>\n",
       "      <td>...</td>\n",
       "      <td>...</td>\n",
       "      <td>...</td>\n",
       "      <td>...</td>\n",
       "    </tr>\n",
       "    <tr>\n",
       "      <th>Toys / Games / Hobbies + Toy Figures</th>\n",
       "      <td>0.761905</td>\n",
       "      <td>0.792079</td>\n",
       "      <td>0.776699</td>\n",
       "      <td>101.000000</td>\n",
       "    </tr>\n",
       "    <tr>\n",
       "      <th>Toys / Games / Hobbies + Toy Vehicles</th>\n",
       "      <td>0.764706</td>\n",
       "      <td>0.838710</td>\n",
       "      <td>0.800000</td>\n",
       "      <td>31.000000</td>\n",
       "    </tr>\n",
       "    <tr>\n",
       "      <th>accuracy</th>\n",
       "      <td>0.893396</td>\n",
       "      <td>0.893396</td>\n",
       "      <td>0.893396</td>\n",
       "      <td>0.893396</td>\n",
       "    </tr>\n",
       "    <tr>\n",
       "      <th>macro avg</th>\n",
       "      <td>0.615835</td>\n",
       "      <td>0.556434</td>\n",
       "      <td>0.566858</td>\n",
       "      <td>25909.000000</td>\n",
       "    </tr>\n",
       "    <tr>\n",
       "      <th>weighted avg</th>\n",
       "      <td>0.890670</td>\n",
       "      <td>0.893396</td>\n",
       "      <td>0.891015</td>\n",
       "      <td>25909.000000</td>\n",
       "    </tr>\n",
       "  </tbody>\n",
       "</table>\n",
       "<p>188 rows × 4 columns</p>\n",
       "</div>"
      ],
      "text/plain": [
       "                                       precision    recall  f1-score  \\\n",
       "Apparel + Clothing                      0.963415  0.908046  0.934911   \n",
       "Apparel + Footwear                      0.833333  0.714286  0.769231   \n",
       "Apparel + Personal Accessories          0.333333  0.285714  0.307692   \n",
       "Apparel + Safety Apparel                0.800000  1.000000  0.888889   \n",
       "Appliances + Microwaves                 1.000000  1.000000  1.000000   \n",
       "...                                          ...       ...       ...   \n",
       "Toys / Games / Hobbies + Toy Figures    0.761905  0.792079  0.776699   \n",
       "Toys / Games / Hobbies + Toy Vehicles   0.764706  0.838710  0.800000   \n",
       "accuracy                                0.893396  0.893396  0.893396   \n",
       "macro avg                               0.615835  0.556434  0.566858   \n",
       "weighted avg                            0.890670  0.893396  0.891015   \n",
       "\n",
       "                                            support  \n",
       "Apparel + Clothing                        87.000000  \n",
       "Apparel + Footwear                         7.000000  \n",
       "Apparel + Personal Accessories            28.000000  \n",
       "Apparel + Safety Apparel                   4.000000  \n",
       "Appliances + Microwaves                    1.000000  \n",
       "...                                             ...  \n",
       "Toys / Games / Hobbies + Toy Figures     101.000000  \n",
       "Toys / Games / Hobbies + Toy Vehicles     31.000000  \n",
       "accuracy                                   0.893396  \n",
       "macro avg                              25909.000000  \n",
       "weighted avg                           25909.000000  \n",
       "\n",
       "[188 rows x 4 columns]"
      ]
     },
     "execution_count": 99,
     "metadata": {},
     "output_type": "execute_result"
    }
   ],
   "source": [
    "test_metrics"
   ]
  },
  {
   "cell_type": "code",
   "execution_count": 100,
   "id": "6396a66c",
   "metadata": {},
   "outputs": [],
   "source": [
    "test_metrics.to_csv('L1_L2_Test_Metrics_082223.csv', index = None)"
   ]
  }
 ],
 "metadata": {
  "kernelspec": {
   "display_name": "Python 3 (ipykernel)",
   "language": "python",
   "name": "python3"
  },
  "language_info": {
   "codemirror_mode": {
    "name": "ipython",
    "version": 3
   },
   "file_extension": ".py",
   "mimetype": "text/x-python",
   "name": "python",
   "nbconvert_exporter": "python",
   "pygments_lexer": "ipython3",
   "version": "3.10.9"
  }
 },
 "nbformat": 4,
 "nbformat_minor": 5
}
