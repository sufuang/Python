{
 "cells": [
  {
   "cell_type": "code",
   "execution_count": 0,
   "metadata": {
    "application/vnd.databricks.v1+cell": {
     "cellMetadata": {
      "byteLimit": 2048000,
      "rowLimit": 10000
     },
     "inputWidgets": {},
     "nuid": "65aa349e-195b-4fce-8c78-a9e0aca34abd",
     "showTitle": false,
     "title": ""
    }
   },
   "outputs": [],
   "source": [
    "import pandas as pd, numpy as np\n",
    "import datetime as dt"
   ]
  },
  {
   "cell_type": "code",
   "execution_count": 0,
   "metadata": {
    "application/vnd.databricks.v1+cell": {
     "cellMetadata": {
      "byteLimit": 2048000,
      "rowLimit": 10000
     },
     "inputWidgets": {},
     "nuid": "8795d4ea-cb48-4fb3-9d27-b9a1cf74e050",
     "showTitle": false,
     "title": ""
    }
   },
   "outputs": [],
   "source": [
    "### Load original attribute labelled with Fuzzy Match (Un-normalized), multiple attributes need to be delimited\n",
    "attr_path = '/dbfs/FileStore/tables/DATA_SCIENCE/COLOR/'\n",
    "attributed_df = pd.read_csv(attr_path +  'COLOR_Floral_12192023_DPT.csv', dtype={\"GTIN_NO\": 'int64'}, low_memory=False)\n",
    "attrib_field = 'EXTRACTED_COLOR'\n",
    "delim = '|'\n",
    "attributed_df = attributed_df[attributed_df[attrib_field] != 'OTHER']"
   ]
  },
  {
   "cell_type": "code",
   "execution_count": 0,
   "metadata": {
    "application/vnd.databricks.v1+cell": {
     "cellMetadata": {
      "byteLimit": 2048000,
      "rowLimit": 10000
     },
     "inputWidgets": {},
     "nuid": "9e107976-5c43-45a7-93dc-bc801315aae5",
     "showTitle": false,
     "title": ""
    }
   },
   "outputs": [],
   "source": [
    "### Replace 'OTHER' with current attribute value if available\n",
    "attributed_df['COLOR_CURRENT'] = attributed_df.COLOR_CURRENT.fillna('NONE')\n",
    "attributed_df['EXTRACTED_COLOR'] = attributed_df.\\\n",
    "    apply(lambda x: x['COLOR_CURRENT'] if x['COLOR_CURRENT'] != 'NONE' else x['EXTRACTED_COLOR'], axis = 1)"
   ]
  },
  {
   "cell_type": "code",
   "execution_count": 0,
   "metadata": {
    "application/vnd.databricks.v1+cell": {
     "cellMetadata": {
      "byteLimit": 2048000,
      "rowLimit": 10000
     },
     "inputWidgets": {},
     "nuid": "54cf4e87-204e-43f8-b20d-2bd42ae8e4b0",
     "showTitle": false,
     "title": ""
    }
   },
   "outputs": [],
   "source": [
    "single_attributes = pd.Series(attributed_df[attrib_field].apply(lambda x: x.split(delim)).sum())"
   ]
  },
  {
   "cell_type": "code",
   "execution_count": 0,
   "metadata": {
    "application/vnd.databricks.v1+cell": {
     "cellMetadata": {
      "byteLimit": 2048000,
      "rowLimit": 10000
     },
     "inputWidgets": {},
     "nuid": "fba0c2fc-abfe-4deb-9a55-028392561189",
     "showTitle": false,
     "title": ""
    }
   },
   "outputs": [
    {
     "output_type": "execute_result",
     "data": {
      "text/plain": [
       "\"attrib_cum_counts[attrib_cum_counts.PERCENT_CUMULATIVE_COUNT <= cutoff][:100]    .reset_index(drop = False).rename(columns = {'index':attrib_field}).to_csv(attr_path+'Normalized_COLOR_FLORAL_Top100.csv', index =None)\""
      ]
     },
     "execution_count": 37,
     "metadata": {},
     "output_type": "execute_result"
    }
   ],
   "source": [
    "### Cumulative Percent Prevalence of Single Attributes ranked from top\n",
    "attrib_cum_counts = pd.DataFrame(100* single_attributes.value_counts().cumsum()/len(single_attributes), columns = ['PERCENT_CUMULATIVE_COUNT'])\n",
    "cutoff = 100 # Select top attributes that add upto this percentage of all non-other attributed items)\n",
    "'''attrib_cum_counts[attrib_cum_counts.PERCENT_CUMULATIVE_COUNT <= cutoff][:100]\\\n",
    "    .reset_index(drop = False).rename(columns = {'index':attrib_field}).to_csv(attr_path+'Normalized_COLOR_FLORAL_Top100.csv', index =None)'''"
   ]
  },
  {
   "cell_type": "code",
   "execution_count": 0,
   "metadata": {
    "application/vnd.databricks.v1+cell": {
     "cellMetadata": {
      "byteLimit": 2048000,
      "rowLimit": 10000
     },
     "inputWidgets": {},
     "nuid": "160ad2a3-7bab-4988-9d14-6c4b1e9067a8",
     "showTitle": false,
     "title": ""
    }
   },
   "outputs": [],
   "source": [
    "### Cumulative Percent Prevalence of Single Attributes ranked from top\n",
    "### Cumulative Percent Prevalence of Single Attributes ranked from top\n",
    "attrib_cum_counts[attrib_cum_counts.PERCENT_CUMULATIVE_COUNT <= cutoff][:100]\\\n",
    "    .reset_index(drop = False).rename(columns = {'index':attrib_field}).to_csv(attr_path+'Normalized_COLORS_Floral.csv', index =None)"
   ]
  },
  {
   "cell_type": "code",
   "execution_count": 0,
   "metadata": {
    "application/vnd.databricks.v1+cell": {
     "cellMetadata": {
      "byteLimit": 2048000,
      "rowLimit": 10000
     },
     "inputWidgets": {},
     "nuid": "a714272c-b2bf-4eda-9c87-4280f8a316fd",
     "showTitle": false,
     "title": ""
    }
   },
   "outputs": [],
   "source": [
    "normalized_list = list(attrib_cum_counts[attrib_cum_counts.PERCENT_CUMULATIVE_COUNT <= cutoff][:100].index)"
   ]
  },
  {
   "cell_type": "code",
   "execution_count": 0,
   "metadata": {
    "application/vnd.databricks.v1+cell": {
     "cellMetadata": {
      "byteLimit": 2048000,
      "rowLimit": 10000
     },
     "inputWidgets": {},
     "nuid": "8ab0b3f9-98d9-486c-a5ce-879e4aea69b3",
     "showTitle": false,
     "title": ""
    }
   },
   "outputs": [
    {
     "output_type": "execute_result",
     "data": {
      "text/plain": [
       "['ANTIQUE',\n",
       " 'APPLE',\n",
       " 'ASSORTED',\n",
       " 'ASSORTED COLORS',\n",
       " 'AZURE',\n",
       " 'BARK',\n",
       " 'BEIGE',\n",
       " 'BERRY',\n",
       " 'BI-COLOR',\n",
       " 'BIRCH',\n",
       " 'BLACK',\n",
       " 'BLUE',\n",
       " 'BRONZE',\n",
       " 'BROWN',\n",
       " 'BURGUNDY',\n",
       " 'BURLAP',\n",
       " 'CAYENNE',\n",
       " 'CHAMPAGNE',\n",
       " 'CHOCOLATE',\n",
       " 'CLASSIC WHITE',\n",
       " 'CLAY',\n",
       " 'CLEAR',\n",
       " 'COCOA',\n",
       " 'COFFEE',\n",
       " 'CONCRETE',\n",
       " 'COPPER',\n",
       " 'CORAL',\n",
       " 'CREAM',\n",
       " 'CRUSH',\n",
       " 'DARK',\n",
       " 'DARK GREEN',\n",
       " 'DARK PINK',\n",
       " 'DARK RED',\n",
       " 'DEEP',\n",
       " 'FROST',\n",
       " 'FUCHSIA',\n",
       " 'GOLD',\n",
       " 'GOLDEN',\n",
       " 'GRAY',\n",
       " 'GREEN',\n",
       " 'GREY',\n",
       " 'HAPPY BIRTHDAY',\n",
       " 'HEIRLOOM',\n",
       " 'HIBISCUS',\n",
       " 'HOT PINK',\n",
       " 'IRON',\n",
       " 'IVORY',\n",
       " 'LAVENDER',\n",
       " 'LEMON',\n",
       " 'LIGHT',\n",
       " 'LIGHT PINK',\n",
       " 'LIME',\n",
       " 'LOVE',\n",
       " 'MAHOGANY',\n",
       " 'MARIGOLD',\n",
       " 'MEDIUM',\n",
       " 'MELON',\n",
       " 'MULTI COLOR',\n",
       " 'MULTI-COLORED',\n",
       " 'NATURAL',\n",
       " 'NEON',\n",
       " 'OLIVE',\n",
       " 'ORANGE',\n",
       " 'ORCHID',\n",
       " 'OTHER',\n",
       " 'PEACOCK',\n",
       " 'PEARL',\n",
       " 'PEONY',\n",
       " 'PINEAPPLE',\n",
       " 'PINK',\n",
       " 'PLUM',\n",
       " 'PRIMROSE',\n",
       " 'PURPLE',\n",
       " 'PURPLE RAIN',\n",
       " 'RAINBOW',\n",
       " 'RASPBERRY',\n",
       " 'RED',\n",
       " 'ROSE',\n",
       " 'ROSE GOLD',\n",
       " 'RUST',\n",
       " 'SAGE',\n",
       " 'SALMON',\n",
       " 'SAPPHIRE',\n",
       " 'SCARLET',\n",
       " 'SILVER',\n",
       " 'STEEL',\n",
       " 'STRAWBERRY',\n",
       " 'STRIPED',\n",
       " 'TAN',\n",
       " 'TEAL',\n",
       " 'TERRACOTTA',\n",
       " 'URBAN',\n",
       " 'VALENTINE',\n",
       " 'VARIETY',\n",
       " 'VIOLET',\n",
       " 'WATERMELON',\n",
       " 'WHITE',\n",
       " 'WOOD',\n",
       " 'YELLOW',\n",
       " 'ZINNIA']"
      ]
     },
     "execution_count": 40,
     "metadata": {},
     "output_type": "execute_result"
    }
   ],
   "source": [
    "sorted(normalized_list)"
   ]
  },
  {
   "cell_type": "code",
   "execution_count": 0,
   "metadata": {
    "application/vnd.databricks.v1+cell": {
     "cellMetadata": {
      "byteLimit": 2048000,
      "rowLimit": 10000
     },
     "inputWidgets": {},
     "nuid": "d9b64fe0-4b0b-454e-b966-0ff6325a6125",
     "showTitle": false,
     "title": ""
    }
   },
   "outputs": [],
   "source": [
    "### Incorporating PO Feedback\n",
    "normalized_list = list(attrib_cum_counts[attrib_cum_counts.PERCENT_CUMULATIVE_COUNT <= cutoff][:100].index)\n",
    "discard =['ANTIQUE','APPLE','BARK','BERRY','BI-COLOR','BRONZE','CAYENNE','CHAMPAGNE', \\\n",
    "'CHOCOLATE','CLAY','COCOA', 'COFFEE','CONCRETE', \\\n",
    "'COPPER','CORAL','CREAM','CRUSH','DARK','DEEP','FROST','HAPPY BIRTHDAY','HEIRLOOM', \\\n",
    "'IRON', 'LIGHT','LOVE','MARIGOLD', 'MEDIUM','MELON','NATURAL','ORCHID','PEACOCK', 'PEARL', \\\n",
    "'PEONY','PINEAPPLE','SAGE','STEEL','STRIPED','URBAN','VALENTINE','VARIETY',\\\n",
    "'WATERMELON','WOOD','ZINNIA']\n",
    "normalized_list = [ i for i in normalized_list if i not in discard] + ['OTHER']\n",
    "rename = {'ASSORTED':'MULTICOLOR','ASSORTED COLORS':'MULTICOLOR', 'CLASSIC WHITE':'WHITE', \\\n",
    "          'MULTI-COLORED':'MULTICOLOR','MULTI COLOR':'MULTICOLOR',\\\n",
    "          'GREY':'GRAY','DARK GRAY':'GRAY','LIGHT GRAY':'GRAY', \\\n",
    "          'NAVY BLUE':'NAVY','DARK BLUE' : 'BLUE', 'LIGHT BLUE': 'BLUE', \\\n",
    "          'DARK BROWN' : 'BROWN', 'LIGHT BROWN' : 'BROWN', \\\n",
    "          'DARK GREEN' :  'GREEN', 'LIGHT GREEN' :  'GREEN','GOLDEN':'GOLD', \\\n",
    "          'LIGHT PINK':'PINK', 'DARK PINK':'PINK', 'DARK RED': 'RED'}\n",
    "normalized_list += rename.values()\n",
    "\n",
    "def normalize_colors(attr_string, normalized_list = normalized_list ,delim_read = '|', delim_write = ';',rename = rename):\n",
    "    attr_list = attr_string.split(delim_read)\n",
    "    attr_list = [rename[i] if i in rename.keys() else i for i in attr_list]\n",
    "    attr_list = [i for i in attr_list if i in normalized_list]\n",
    "    if len(attr_list) > 0:\n",
    "        if( len(attr_list) == 1 ) & (attr_list[0]== 'STRIPED'): return 'OTHER'\n",
    "        return (delim_write).join(attr_list)\n",
    "    else: return 'OTHER'"
   ]
  },
  {
   "cell_type": "code",
   "execution_count": 0,
   "metadata": {
    "application/vnd.databricks.v1+cell": {
     "cellMetadata": {
      "byteLimit": 2048000,
      "rowLimit": 10000
     },
     "inputWidgets": {},
     "nuid": "036bb4c8-56b6-427f-9081-99df1d2b8608",
     "showTitle": false,
     "title": ""
    }
   },
   "outputs": [],
   "source": [
    "'''Add a flag to indicate marketplace items\n",
    "Query used to generate the list:\n",
    "\"SELECT  GTIN_NO, SLS_CHA_VLU\n",
    "FROM CURIDQ.pimmart.ITEM_VIEW\"\n",
    "'''\n",
    "mkt_flg = pd.read_csv('/dbfs/FileStore/tables/DATA_SCIENCE/MARKETPLACE_FLAG_120723.csv')\n",
    "attributed_df = attributed_df.merge(mkt_flg, how = 'left', on = 'GTIN_NO')"
   ]
  },
  {
   "cell_type": "code",
   "execution_count": 0,
   "metadata": {
    "application/vnd.databricks.v1+cell": {
     "cellMetadata": {
      "byteLimit": 2048000,
      "rowLimit": 10000
     },
     "inputWidgets": {},
     "nuid": "9b72a0fc-481c-47a5-890b-90e838b51647",
     "showTitle": false,
     "title": ""
    }
   },
   "outputs": [],
   "source": [
    "### Write normalized attributes in semicolon-separated format\n",
    "pd.options.mode.chained_assignment = None\n",
    "cf_dpt = 'Floral' # CFIC Department name\n",
    "attributed_df['NORMALIZED_COLOR'] = attributed_df.EXTRACTED_COLOR.apply(lambda x: normalize_colors(x))\n",
    "attributed_df['GTIN_NO'] = attributed_df.GTIN_NO.astype(str).apply(lambda x:(14- len(x))*'0' + x )\n",
    "display_cols = ['GTIN_NO','VND_ECOM_DSC','ITM_LVL_DSC','TAG_DSC','COLOR_CURRENT','NORMALIZED_COLOR','SLS_CHA_VLU']\n",
    "today = dt.datetime.today().strftime(\"%m%d%Y\")\n",
    "attributed_df[display_cols].drop_duplicates('GTIN_NO').to_csv(attr_path +'COLOR_NORMALIZED_'+\\\n",
    "     cf_dpt.replace(' ','_').replace('-','_') + '_' + today + '.csv', index = None)"
   ]
  },
  {
   "cell_type": "code",
   "execution_count": 0,
   "metadata": {
    "application/vnd.databricks.v1+cell": {
     "cellMetadata": {
      "byteLimit": 2048000,
      "rowLimit": 10000
     },
     "inputWidgets": {},
     "nuid": "97dc33e9-1603-48ad-85d2-6c76ede74b13",
     "showTitle": false,
     "title": ""
    }
   },
   "outputs": [],
   "source": [
    "### Please create this config file only once the normalized list is validated, sanitized and  finalized\n",
    "# Store Item group (DPT/ COM) specific configs in config - file\n",
    "import json\n",
    "config_path = '/dbfs/FileStore/tables/DATA_SCIENCE/FuzzyConfigs/'\n",
    "attrib = 'COLOR'\n",
    "me = 'SOPHIA'\n",
    "configs = {}\n",
    "configs['CFIC_DPT'] = cf_dpt\n",
    "configs['Attribute'] = attrib\n",
    "configs['Normalized_list'] = normalized_list\n",
    "configs['Substitutions'] = rename\n",
    "with open(config_path + attrib + '_' +cf_dpt + '_' + me + '_'+ today+ '.json', 'w') as fp:\n",
    "    json.dump(configs, fp)"
   ]
  },
  {
   "cell_type": "code",
   "execution_count": 0,
   "metadata": {
    "application/vnd.databricks.v1+cell": {
     "cellMetadata": {
      "byteLimit": 2048000,
      "rowLimit": 10000
     },
     "inputWidgets": {},
     "nuid": "dbf806e5-29f1-425c-82f6-7ba0071b7fc6",
     "showTitle": false,
     "title": ""
    }
   },
   "outputs": [],
   "source": [
    "#Write normalized list to csv for manual validation guidance\n",
    "pd.Series(normalized_list).to_csv(attr_path + 'NORMALIZED_LIST_'+attrib + '_' +cf_dpt +  '_'+ today+ '.csv',index = None )"
   ]
  },
  {
   "cell_type": "code",
   "execution_count": 0,
   "metadata": {
    "application/vnd.databricks.v1+cell": {
     "cellMetadata": {
      "byteLimit": 2048000,
      "rowLimit": 10000
     },
     "inputWidgets": {},
     "nuid": "afd557a4-a9fa-4f31-9b63-3e7bae624d1a",
     "showTitle": false,
     "title": ""
    }
   },
   "outputs": [
    {
     "output_type": "stream",
     "name": "stdout",
     "output_type": "stream",
     "text": [
      "{'CFIC_DPT': 'Floral', 'Attribute': 'COLOR', 'Normalized_list': ['RED', 'ROSE', 'WHITE', 'PINK', 'GREEN', 'ASSORTED', 'BLACK', 'YELLOW', 'BLUE', 'PURPLE', 'ORANGE', 'GOLD', 'MULTI-COLORED', 'SILVER', 'CLEAR', 'BROWN', 'LEMON', 'GRAY', 'RAINBOW', 'LAVENDER', 'GOLDEN', 'OTHER', 'BURGUNDY', 'LIME', 'GREY', 'VIOLET', 'BIRCH', 'BURLAP', 'BEIGE', 'HOT PINK', 'IVORY', 'NEON', 'PURPLE RAIN', 'PRIMROSE', 'OLIVE', 'SCARLET', 'LIGHT PINK', 'TERRACOTTA', 'CLASSIC WHITE', 'HIBISCUS', 'STRAWBERRY', 'DARK GREEN', 'DARK RED', 'ASSORTED COLORS', 'AZURE', 'ROSE GOLD', 'RUST', 'RASPBERRY', 'DARK PINK', 'SALMON', 'TEAL', 'SAPPHIRE', 'FUCHSIA', 'TAN', 'PLUM', 'MAHOGANY', 'MULTI COLOR', 'OTHER', 'MULTICOLOR', 'MULTICOLOR', 'WHITE', 'MULTICOLOR', 'MULTICOLOR', 'GRAY', 'GRAY', 'GRAY', 'NAVY', 'BLUE', 'BLUE', 'BROWN', 'BROWN', 'GREEN', 'GREEN', 'GOLD', 'PINK', 'PINK', 'RED'], 'Substitutions': {'ASSORTED': 'MULTICOLOR', 'ASSORTED COLORS': 'MULTICOLOR', 'CLASSIC WHITE': 'WHITE', 'MULTI-COLORED': 'MULTICOLOR', 'MULTI COLOR': 'MULTICOLOR', 'GREY': 'GRAY', 'DARK GRAY': 'GRAY', 'LIGHT GRAY': 'GRAY', 'NAVY BLUE': 'NAVY', 'DARK BLUE': 'BLUE', 'LIGHT BLUE': 'BLUE', 'DARK BROWN': 'BROWN', 'LIGHT BROWN': 'BROWN', 'DARK GREEN': 'GREEN', 'LIGHT GREEN': 'GREEN', 'GOLDEN': 'GOLD', 'LIGHT PINK': 'PINK', 'DARK PINK': 'PINK', 'DARK RED': 'RED'}}\n"
     ]
    }
   ],
   "source": [
    "with open('/dbfs/FileStore/tables/DATA_SCIENCE/FuzzyConfigs/COLOR_Floral_SOPHIA_01052024.json') as f:\n",
    "    d = json.load(f)\n",
    "    print(d)"
   ]
  },
  {
   "cell_type": "code",
   "execution_count": 0,
   "metadata": {
    "application/vnd.databricks.v1+cell": {
     "cellMetadata": {
      "byteLimit": 2048000,
      "rowLimit": 10000
     },
     "inputWidgets": {},
     "nuid": "ba53122d-0c02-49c4-96e4-d4d5cd8955ee",
     "showTitle": false,
     "title": ""
    }
   },
   "outputs": [
    {
     "output_type": "execute_result",
     "data": {
      "text/html": [
       "<div>\n",
       "<style scoped>\n",
       "    .dataframe tbody tr th:only-of-type {\n",
       "        vertical-align: middle;\n",
       "    }\n",
       "\n",
       "    .dataframe tbody tr th {\n",
       "        vertical-align: top;\n",
       "    }\n",
       "\n",
       "    .dataframe thead th {\n",
       "        text-align: right;\n",
       "    }\n",
       "</style>\n",
       "<table border=\"1\" class=\"dataframe\">\n",
       "  <thead>\n",
       "    <tr style=\"text-align: right;\">\n",
       "      <th></th>\n",
       "      <th>GTIN_NO</th>\n",
       "      <th>VND_ECOM_DSC</th>\n",
       "      <th>ITM_LVL_DSC</th>\n",
       "      <th>TAG_DSC</th>\n",
       "      <th>COLOR_CURRENT</th>\n",
       "      <th>NORMALIZED_COLOR</th>\n",
       "      <th>SLS_CHA_VLU</th>\n",
       "    </tr>\n",
       "  </thead>\n",
       "  <tbody>\n",
       "    <tr>\n",
       "      <th>0</th>\n",
       "      <td>685229045683</td>\n",
       "      <td>Amaryllis Red Lion</td>\n",
       "      <td>NaN</td>\n",
       "      <td>GSBC AMARYLLIS RED LION</td>\n",
       "      <td>NONE</td>\n",
       "      <td>RED</td>\n",
       "      <td>Store</td>\n",
       "    </tr>\n",
       "    <tr>\n",
       "      <th>1</th>\n",
       "      <td>19518120476</td>\n",
       "      <td>10 Poinsettia Red</td>\n",
       "      <td>Premium Red Poinsettia</td>\n",
       "      <td>GRCC POINSETTIA RED PLAT</td>\n",
       "      <td>NONE</td>\n",
       "      <td>RED</td>\n",
       "      <td>Store</td>\n",
       "    </tr>\n",
       "    <tr>\n",
       "      <th>2</th>\n",
       "      <td>22532136293</td>\n",
       "      <td>3.8 Exotic Angel Assorted</td>\n",
       "      <td>NaN</td>\n",
       "      <td>CSTA SUCCLNT EXOTIC ANGEL</td>\n",
       "      <td>NONE</td>\n",
       "      <td>MULTICOLOR</td>\n",
       "      <td>NaN</td>\n",
       "    </tr>\n",
       "    <tr>\n",
       "      <th>3</th>\n",
       "      <td>19518117643</td>\n",
       "      <td>6\" Poinsettia Red</td>\n",
       "      <td>Primrose in Bowl Planter</td>\n",
       "      <td>GRCC POINSETTIA RED PREM</td>\n",
       "      <td>NONE</td>\n",
       "      <td>PRIMROSE;RED</td>\n",
       "      <td>Store</td>\n",
       "    </tr>\n",
       "    <tr>\n",
       "      <th>4</th>\n",
       "      <td>22532136378</td>\n",
       "      <td>4.8 Exotic Angel Assorted</td>\n",
       "      <td>NaN</td>\n",
       "      <td>4.8 EXOTIC ANGEL PLANTS</td>\n",
       "      <td>NONE</td>\n",
       "      <td>MULTICOLOR</td>\n",
       "      <td>Store</td>\n",
       "    </tr>\n",
       "  </tbody>\n",
       "</table>\n",
       "</div>"
      ],
      "text/plain": [
       "        GTIN_NO               VND_ECOM_DSC  ... NORMALIZED_COLOR SLS_CHA_VLU\n",
       "0  685229045683         Amaryllis Red Lion  ...              RED       Store\n",
       "1   19518120476          10 Poinsettia Red  ...              RED       Store\n",
       "2   22532136293  3.8 Exotic Angel Assorted  ...       MULTICOLOR         NaN\n",
       "3   19518117643          6\" Poinsettia Red  ...     PRIMROSE;RED       Store\n",
       "4   22532136378  4.8 Exotic Angel Assorted  ...       MULTICOLOR       Store\n",
       "\n",
       "[5 rows x 7 columns]"
      ]
     },
     "execution_count": 47,
     "metadata": {},
     "output_type": "execute_result"
    }
   ],
   "source": [
    "df = pd.read_csv(attr_path +'COLOR_NORMALIZED_'+\\\n",
    "     cf_dpt.replace(' ','_').replace('-','_') + '_' + today + '.csv')\n",
    "df.head()     "
   ]
  },
  {
   "cell_type": "code",
   "execution_count": 0,
   "metadata": {
    "application/vnd.databricks.v1+cell": {
     "cellMetadata": {
      "byteLimit": 2048000,
      "rowLimit": 10000
     },
     "inputWidgets": {},
     "nuid": "29ad2875-85a8-46ce-b412-9947736668bf",
     "showTitle": false,
     "title": ""
    }
   },
   "outputs": [
    {
     "output_type": "execute_result",
     "data": {
      "text/html": [
       "<div>\n",
       "<style scoped>\n",
       "    .dataframe tbody tr th:only-of-type {\n",
       "        vertical-align: middle;\n",
       "    }\n",
       "\n",
       "    .dataframe tbody tr th {\n",
       "        vertical-align: top;\n",
       "    }\n",
       "\n",
       "    .dataframe thead th {\n",
       "        text-align: right;\n",
       "    }\n",
       "</style>\n",
       "<table border=\"1\" class=\"dataframe\">\n",
       "  <thead>\n",
       "    <tr style=\"text-align: right;\">\n",
       "      <th></th>\n",
       "      <th>0</th>\n",
       "    </tr>\n",
       "  </thead>\n",
       "  <tbody>\n",
       "    <tr>\n",
       "      <th>0</th>\n",
       "      <td>RED</td>\n",
       "    </tr>\n",
       "    <tr>\n",
       "      <th>1</th>\n",
       "      <td>ROSE</td>\n",
       "    </tr>\n",
       "    <tr>\n",
       "      <th>2</th>\n",
       "      <td>WHITE</td>\n",
       "    </tr>\n",
       "    <tr>\n",
       "      <th>3</th>\n",
       "      <td>PINK</td>\n",
       "    </tr>\n",
       "    <tr>\n",
       "      <th>4</th>\n",
       "      <td>GREEN</td>\n",
       "    </tr>\n",
       "  </tbody>\n",
       "</table>\n",
       "</div>"
      ],
      "text/plain": [
       "       0\n",
       "0    RED\n",
       "1   ROSE\n",
       "2  WHITE\n",
       "3   PINK\n",
       "4  GREEN"
      ]
     },
     "execution_count": 48,
     "metadata": {},
     "output_type": "execute_result"
    }
   ],
   "source": [
    "df1 = pd.read_csv(attr_path + 'NORMALIZED_LIST_'+attrib + '_' +cf_dpt +  '_'+ today+ '.csv')\n",
    "df1.head()"
   ]
  },
  {
   "cell_type": "code",
   "execution_count": 0,
   "metadata": {
    "application/vnd.databricks.v1+cell": {
     "cellMetadata": {
      "byteLimit": 2048000,
      "rowLimit": 10000
     },
     "inputWidgets": {},
     "nuid": "d679bffc-d4f7-48b0-85cb-628a297752f5",
     "showTitle": false,
     "title": ""
    }
   },
   "outputs": [],
   "source": []
  }
 ],
 "metadata": {
  "application/vnd.databricks.v1+notebook": {
   "dashboards": [],
   "language": "python",
   "notebookMetadata": {
    "pythonIndentUnit": 4
   },
   "notebookName": "Attribute_Normalization_color_floral_12192023",
   "widgets": {}
  }
 },
 "nbformat": 4,
 "nbformat_minor": 0
}
