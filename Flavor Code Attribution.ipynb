{
 "cells": [
  {
   "cell_type": "code",
   "execution_count": 0,
   "metadata": {
    "application/vnd.databricks.v1+cell": {
     "cellMetadata": {},
     "inputWidgets": {},
     "nuid": "69db6531-0a95-462e-acad-2e70cd5549de",
     "showTitle": false,
     "title": ""
    }
   },
   "outputs": [],
   "source": [
    "import pandas as pd, numpy as np\n",
    "DBFS = \"/dbfs/FileStore/tables/OFFSHORE/\"\n",
    "DBFO = \"/dbfs/FileStore/tables/OFFSHORE/\"\n",
    "DBFM = \"/dbfs/FileStore/tables/MALLIK/\"\n",
    "DBFR = \"/dbfs/FileStore/tables/OFFSHORE_RESULTS/\"\n",
    "\n",
    "pd.options.display.max_columns = None\n",
    "pd.options.display.max_rows = 30"
   ]
  },
  {
   "cell_type": "code",
   "execution_count": 0,
   "metadata": {
    "application/vnd.databricks.v1+cell": {
     "cellMetadata": {},
     "inputWidgets": {},
     "nuid": "ececa82a-9d01-447e-98fb-3cfb6452a7dc",
     "showTitle": false,
     "title": ""
    }
   },
   "outputs": [],
   "source": [
    "def converter(dfdf):\n",
    "    items = ['ITM_ID', 'GTIN', 'PMY_DPT_CD', 'REC_DPT_CD', 'DPT_CD', 'COM_CD', 'SUBCOM_CD', 'L1_Scores', 'L1 Scores', 'L2_Scores', 'L2 Scores', 'Score', 'L2_Flag', 'L2 Flag', 'Scores', 'Threshold', 'First Scores', 'Second Scores', 'Third Scores', 'Probability Scores', 'L1 Predictions', 'Level 1 Predictions']\n",
    "    for i in items:\n",
    "        if i in dfdf.columns.tolist():\n",
    "            dfdf[i] = dfdf[i].astype(np.float64)\n",
    "    return dfdf"
   ]
  },
  {
   "cell_type": "code",
   "execution_count": 0,
   "metadata": {
    "application/vnd.databricks.v1+cell": {
     "cellMetadata": {},
     "inputWidgets": {},
     "nuid": "66fd6957-f582-40f6-99de-bf36e20020ad",
     "showTitle": false,
     "title": ""
    }
   },
   "outputs": [],
   "source": [
    "pim_gtin_mapped = pd.read_parquet(DBFR + \"PIM_DATA_NEW_51LAKH.parquet\")\n",
    "\n",
    "groc_com = pd.read_csv(DBFM + \"GROCERY_COMs_for_Flavor_Attribution.csv\")\n",
    "flav_attb = pd.read_csv(DBFM + \"PIM_DATA_WITH_FLAVOR_ATTB_100323.csv\")\n",
    "flav_attb = converter(flav_attb)"
   ]
  },
  {
   "cell_type": "code",
   "execution_count": 0,
   "metadata": {
    "application/vnd.databricks.v1+cell": {
     "cellMetadata": {},
     "inputWidgets": {},
     "nuid": "217c3703-2901-4e83-b795-a1b57558dcba",
     "showTitle": false,
     "title": ""
    }
   },
   "outputs": [],
   "source": [
    "pim_gtin_mapped = pd.read_csv(DBFR + \"PIM_DATA_NEW_51LAKH.zip\")\n",
    "pim_gtin_mapped  =converter(pim_gtin_mapped)\n",
    "\n",
    "COMs1 = groc_com[groc_com['Has Flavor'].isna()]['COM_DSC']\n",
    "COMs = pd.read_csv(DBFO + \"COM_CD_File.csv\")\n",
    "COMs = COMs['COM_CD'].astype(np.float64)\n",
    "\n",
    "import numpy as np\n",
    "pim_gtin_mapped['Flag_COM_CD'] = np.nan\n",
    "pim_gtin_mapped['Flag_Groc'] = np.nan\n",
    "for i in pim_gtin_mapped[pim_gtin_mapped['COM_CD'].isin(COMs)].index.tolist():\n",
    "    pim_gtin_mapped.at[i, 'Flag_COM_CD'] = 1\n",
    "for i in pim_gtin_mapped[pim_gtin_mapped['COM_DSC'].isin(COMs1.tolist())].index.tolist():\n",
    "    pim_gtin_mapped.at[i, 'Flag_Groc'] = 1\n",
    "\n",
    "\n",
    "pim_gtin_mapped = converter(pim_gtin_mapped)\n",
    "flav_attb = converter(flav_attb)\n",
    "\n",
    "pim_gtin_mapped = pim_gtin_mapped.merge(flav_attb[['GTIN', 'Flavor_Code']], on=['GTIN'], how='left')"
   ]
  },
  {
   "cell_type": "code",
   "execution_count": 0,
   "metadata": {
    "application/vnd.databricks.v1+cell": {
     "cellMetadata": {},
     "inputWidgets": {},
     "nuid": "563b0256-ebf1-425f-9d3f-55c719499396",
     "showTitle": false,
     "title": ""
    }
   },
   "outputs": [],
   "source": [
    "flav_notnull = pim_gtin_mapped[pim_gtin_mapped['Flavor_Code'].notnull()]\n",
    "flav_null = pim_gtin_mapped[pim_gtin_mapped['Flavor_Code'].isna()]\n",
    "\n",
    "flav_notnull.drop(index=flav_notnull[flav_notnull['Flavor_Code'].isin(['MISCELLANEOUS', 'OTHER', 'NONE'])].index, inplace=True)\n",
    "flav_notnull['Flavor_Code'].value_counts()\n",
    "\n",
    "nulll = flav_null[flav_null.SUBCOM_CD.isin(flav_notnull['SUBCOM_CD'].unique().tolist())]"
   ]
  },
  {
   "cell_type": "code",
   "execution_count": 0,
   "metadata": {
    "application/vnd.databricks.v1+cell": {
     "cellMetadata": {},
     "inputWidgets": {},
     "nuid": "6942a46a-fc3e-4157-b2e7-a88ab9df5d89",
     "showTitle": false,
     "title": ""
    }
   },
   "outputs": [],
   "source": [
    "from rapidfuzz import fuzz, process\n",
    "def fuzzToken(ONE,TWO):\n",
    "    best = process.extract(\n",
    "       str(ONE), [str(x) for x in TWO], scorer=fuzz.token_set_ratio #, score_cutoff=10\n",
    "    )\n",
    "    return best"
   ]
  },
  {
   "cell_type": "code",
   "execution_count": 0,
   "metadata": {
    "application/vnd.databricks.v1+cell": {
     "cellMetadata": {},
     "inputWidgets": {},
     "nuid": "01e9c0b1-65a1-4abc-8fa5-4b4943ab99cd",
     "showTitle": false,
     "title": ""
    }
   },
   "outputs": [],
   "source": [
    "IC_UNIQUE_FC = ['PECAN', 'VANILLA', 'CARAMEL', 'PINEAPPLE', 'CHOCOLATE',\n",
    "'FRENCH_VANILLA', 'CHOCOLATE_CHIP', 'PEANUT_BUTTER', 'BUTTERMILK',\n",
    "'PUMPKIN_PIE', 'STRAWBERRY', 'CHERRY', 'COFFEE',\n",
    "'BROWNIE', 'MINT', 'TOFFEE', 'SALTED', 'RED_VELVET', 'LEMON',\n",
    "'PEPPERMINT', 'CHOCOLATE_MINT', 'GREEN_TEA', 'WHITE_CHOCOLATE',\n",
    "'BUTTER_PECAN', 'ORANGE', 'DARK_CHOCOLATE', 'CINNAMON', 'FRUIT',\n",
    "'ALMOND', 'BANANA', 'GINGER', 'BLUEBERRY', 'PEACH', 'MANGO',\n",
    "'BUTTER', 'BUTTERSCOTCH', 'COCOA', 'RASPBERRY', 'MOCHA', 'HONEY',\n",
    "'POPPY_SEED', 'BOURBON', 'BUTTER_TOFFEE', 'LIME', 'TRUFFLE',\n",
    "'SUGAR_SPICE', 'PUMPKIN', 'BIRTHDAY_CAKE', 'EGG', 'OATMEAL',\n",
    "'APPLE', 'WALNUT', 'MARSHMALLOW', 'PLAIN', 'COCONUT', 'PISTACHIO',\n",
    "'COTTON_CANDY', 'MAPLE', 'BERRY', 'PASSION_FRUIT', 'POMEGRANATE']"
   ]
  },
  {
   "cell_type": "code",
   "execution_count": 0,
   "metadata": {
    "application/vnd.databricks.v1+cell": {
     "cellMetadata": {},
     "inputWidgets": {},
     "nuid": "eedf7993-323b-42d4-825e-8531b12b4137",
     "showTitle": false,
     "title": ""
    }
   },
   "outputs": [],
   "source": [
    "BB = pim_gtin_mapped[pim_gtin_mapped['COM_DSC'].isin(['ICE CREAM ICE MILK & SHERBETS', 'NF FROZEN ICE CREAM','FOOD SERVICE-ICE CREAM', 'NF FRZ ICE CREAM & NOVELTIES'])]\n",
    "BB = BB.reset_index().drop(columns=['index'])"
   ]
  },
  {
   "cell_type": "code",
   "execution_count": 0,
   "metadata": {
    "application/vnd.databricks.v1+cell": {
     "cellMetadata": {},
     "inputWidgets": {},
     "nuid": "e9b88fc3-1511-495d-9f21-2131a3273ec2",
     "showTitle": false,
     "title": ""
    }
   },
   "outputs": [],
   "source": [
    "FINAL = pd.DataFrame()\n",
    "BB = BB[~BB.VND_ECOM_DSC.isna()]\n",
    "\n",
    "for i in range(len(BB.VND_ECOM_DSC)):\n",
    "    Temp = fuzzToken(BB.VND_ECOM_DSC.iloc[i].upper(), IC_UNIQUE_FC)\n",
    "    ANS = pd.DataFrame([i[0:2] + i[3:5] + i[6:8] + i[9:11] + i[12:14] for i in Temp]).T\n",
    "    ANS = ANS.unstack().to_frame().T\n",
    "    temp = BB.iloc[i]\n",
    "    data = {\n",
    "        'GTIN': temp['GTIN'],\n",
    "        'ITM_ID': temp['ITM_ID'],\n",
    "        'PMY_DPT_CD' : temp['PMY_DPT_CD'],\n",
    "        'PMY_DPT_DSC' : temp['PMY_DPT_DSC'],\n",
    "        'REC_DPT_CD' : temp['REC_DPT_CD'],\n",
    "        'REC_DPT_DSC' : temp['REC_DPT_DSC'],\n",
    "        'DPT_CD' : temp['DPT_CD'],\n",
    "        'DPT_DSC' : temp['DPT_DSC'],\n",
    "        'COM_CD' : temp['COM_CD'],\n",
    "        'COM_DSC' : temp['COM_DSC'],\n",
    "        'SUBCOM_CD' : temp['SUBCOM_CD'],\n",
    "        'SUBCOM_DSC' : temp['SUBCOM_DSC'],\n",
    "        'VND_ECOM_DSC' : temp['VND_ECOM_DSC']\n",
    "    }\n",
    "    FINAL = pd.concat([FINAL,\n",
    "                       pd.concat([pd.DataFrame(data, index=[i]), pd.DataFrame(ANS.values, index=[i])], axis=1)],\n",
    "                       ignore_index=True)\n",
    "\n",
    "FINAL.rename(columns={0:'Flavor_Code1', 1:'Scores 1',2:'Flavor_Code2',3:'Scores 2',4:'Flavor_Code3',5:'Scores 3',6:'Flavor_Code4',7:'Scores 4',8:'Flavor_Code5',9:'Scores 5'}, inplace=True)"
   ]
  },
  {
   "cell_type": "code",
   "execution_count": 0,
   "metadata": {
    "application/vnd.databricks.v1+cell": {
     "cellMetadata": {},
     "inputWidgets": {},
     "nuid": "bb4ff3be-8093-468d-9299-9636451e1993",
     "showTitle": false,
     "title": ""
    }
   },
   "outputs": [],
   "source": [
    "FINAL"
   ]
  }
 ],
 "metadata": {
  "application/vnd.databricks.v1+notebook": {
   "dashboards": [],
   "language": "python",
   "notebookMetadata": {
    "pythonIndentUnit": 4
   },
   "notebookName": "Flavor Code Attribution",
   "widgets": {}
  },
  "kernelspec": {
   "display_name": "Python 3 (ipykernel)",
   "language": "python",
   "name": "python3"
  },
  "language_info": {
   "codemirror_mode": {
    "name": "ipython",
    "version": 3
   },
   "file_extension": ".py",
   "mimetype": "text/x-python",
   "name": "python",
   "nbconvert_exporter": "python",
   "pygments_lexer": "ipython3",
   "version": "3.10.9"
  }
 },
 "nbformat": 4,
 "nbformat_minor": 1
}
