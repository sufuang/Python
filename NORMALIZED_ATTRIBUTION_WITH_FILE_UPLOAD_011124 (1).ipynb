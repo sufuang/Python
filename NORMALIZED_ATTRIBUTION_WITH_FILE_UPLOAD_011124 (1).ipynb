{
 "cells": [
  {
   "cell_type": "markdown",
   "metadata": {
    "application/vnd.databricks.v1+cell": {
     "cellMetadata": {
      "byteLimit": 2048000,
      "rowLimit": 10000
     },
     "inputWidgets": {},
     "nuid": "47491761-4c9b-4724-9317-892d8868679e",
     "showTitle": false,
     "title": ""
    }
   },
   "source": [
    "### Versions of libraries used\n",
    "numpy==1.24.3\n",
    "pandas==1.3.4\n",
    "rapidfuzz==3.6.1\n",
    "ipywidgets==8.1.1\n"
   ]
  },
  {
   "cell_type": "code",
   "execution_count": 0,
   "metadata": {
    "application/vnd.databricks.v1+cell": {
     "cellMetadata": {
      "byteLimit": 2048000,
      "rowLimit": 10000
     },
     "inputWidgets": {},
     "nuid": "a4826edf-cf3a-484f-889c-b497892dc796",
     "showTitle": true,
     "title": "Run this cell to install required libraries and load up some code"
    }
   },
   "outputs": [
    {
     "output_type": "stream",
     "name": "stdout",
     "output_type": "stream",
     "text": [
      "\u001B[43mNote: you may need to restart the kernel using dbutils.library.restartPython() to use updated packages.\u001B[0m\nRequirement already satisfied: ipywidgets==8.1.1 in /local_disk0/.ephemeral_nfs/envs/pythonEnv-72d9468c-121f-4cb2-b646-09bfa6ba4986/lib/python3.10/site-packages (8.1.1)\nRequirement already satisfied: ipython>=6.1.0 in /databricks/python3/lib/python3.10/site-packages (from ipywidgets==8.1.1) (8.14.0)\nRequirement already satisfied: jupyterlab-widgets~=3.0.9 in /local_disk0/.ephemeral_nfs/envs/pythonEnv-72d9468c-121f-4cb2-b646-09bfa6ba4986/lib/python3.10/site-packages (from ipywidgets==8.1.1) (3.0.9)\nRequirement already satisfied: widgetsnbextension~=4.0.9 in /local_disk0/.ephemeral_nfs/envs/pythonEnv-72d9468c-121f-4cb2-b646-09bfa6ba4986/lib/python3.10/site-packages (from ipywidgets==8.1.1) (4.0.9)\nRequirement already satisfied: traitlets>=4.3.1 in /databricks/python3/lib/python3.10/site-packages (from ipywidgets==8.1.1) (5.7.1)\nRequirement already satisfied: comm>=0.1.3 in /local_disk0/.ephemeral_nfs/envs/pythonEnv-72d9468c-121f-4cb2-b646-09bfa6ba4986/lib/python3.10/site-packages (from ipywidgets==8.1.1) (0.2.1)\nRequirement already satisfied: pygments>=2.4.0 in /databricks/python3/lib/python3.10/site-packages (from ipython>=6.1.0->ipywidgets==8.1.1) (2.11.2)\nRequirement already satisfied: pickleshare in /databricks/python3/lib/python3.10/site-packages (from ipython>=6.1.0->ipywidgets==8.1.1) (0.7.5)\nRequirement already satisfied: jedi>=0.16 in /databricks/python3/lib/python3.10/site-packages (from ipython>=6.1.0->ipywidgets==8.1.1) (0.18.1)\nRequirement already satisfied: pexpect>4.3 in /databricks/python3/lib/python3.10/site-packages (from ipython>=6.1.0->ipywidgets==8.1.1) (4.8.0)\nRequirement already satisfied: matplotlib-inline in /databricks/python3/lib/python3.10/site-packages (from ipython>=6.1.0->ipywidgets==8.1.1) (0.1.6)\nRequirement already satisfied: decorator in /databricks/python3/lib/python3.10/site-packages (from ipython>=6.1.0->ipywidgets==8.1.1) (5.1.1)\nRequirement already satisfied: stack-data in /databricks/python3/lib/python3.10/site-packages (from ipython>=6.1.0->ipywidgets==8.1.1) (0.2.0)\nRequirement already satisfied: backcall in /databricks/python3/lib/python3.10/site-packages (from ipython>=6.1.0->ipywidgets==8.1.1) (0.2.0)\nRequirement already satisfied: prompt-toolkit!=3.0.37,<3.1.0,>=3.0.30 in /databricks/python3/lib/python3.10/site-packages (from ipython>=6.1.0->ipywidgets==8.1.1) (3.0.36)\nRequirement already satisfied: parso<0.9.0,>=0.8.0 in /databricks/python3/lib/python3.10/site-packages (from jedi>=0.16->ipython>=6.1.0->ipywidgets==8.1.1) (0.8.3)\nRequirement already satisfied: ptyprocess>=0.5 in /databricks/python3/lib/python3.10/site-packages (from pexpect>4.3->ipython>=6.1.0->ipywidgets==8.1.1) (0.7.0)\nRequirement already satisfied: wcwidth in /databricks/python3/lib/python3.10/site-packages (from prompt-toolkit!=3.0.37,<3.1.0,>=3.0.30->ipython>=6.1.0->ipywidgets==8.1.1) (0.2.5)\nRequirement already satisfied: asttokens in /databricks/python3/lib/python3.10/site-packages (from stack-data->ipython>=6.1.0->ipywidgets==8.1.1) (2.0.5)\nRequirement already satisfied: pure-eval in /databricks/python3/lib/python3.10/site-packages (from stack-data->ipython>=6.1.0->ipywidgets==8.1.1) (0.2.2)\nRequirement already satisfied: executing in /databricks/python3/lib/python3.10/site-packages (from stack-data->ipython>=6.1.0->ipywidgets==8.1.1) (0.8.3)\nRequirement already satisfied: six in /usr/lib/python3/dist-packages (from asttokens->stack-data->ipython>=6.1.0->ipywidgets==8.1.1) (1.16.0)\n\u001B[43mNote: you may need to restart the kernel using dbutils.library.restartPython() to use updated packages.\u001B[0m\n"
     ]
    }
   ],
   "source": [
    "%pip install -U ipywidgets==8.1.1\n",
    "import pandas as pd, numpy as np\n",
    "import os\n",
    "import io\n",
    "import json\n",
    "import datetime as dt\n",
    "from rapidfuzz import process, fuzz,utils\n",
    "from ipywidgets import widgets\n",
    "import datetime as dt\n",
    "\n",
    "np.set_printoptions(threshold=np.inf)\n",
    "pd.set_option('chained_assignment',None)\n",
    "\n",
    "### List of departments applicable for each attribute type\n",
    "attr_dpt_map = {'Color':['Kitchen & Dining', 'Home Decor (excluding Rugs)', 'Home Decor (Rugs only)' ,'Floral'],\\\n",
    "                'Flavor': ['Pantry','Beverages','Ice Cream','Candy'],\\\n",
    "                 'Scent':['Cleaning & Household','Beauty','Personal Care']}\n",
    "### Substitutions to be made within the input text before performing the fuzzy match\n",
    "replacements = {          \n",
    " ',': ' ',\n",
    " '/': ' ',\n",
    " '>':' ',\n",
    "'<': ' ',\n",
    "'COFFEE TABLE':'TABLE'}\n",
    "\n",
    "### Remove substrings like 'CHOCOLATE' if 'CHOCOLATE CHIP' is also present as a top result\n",
    "def remove_substrings(string_list):\n",
    "    str_df = pd.DataFrame(string_list, columns= ['Sentence'])\n",
    "    str_df['Word Length'] = str_df.Sentence.apply(lambda x: len(x.split(' ')))\n",
    "    str_df['Drop'] = ''\n",
    "    str_df.sort_values('Word Length', inplace= True)\n",
    "    str_df.reset_index(drop = True, inplace= True)\n",
    "    for j in range(len(str_df)):\n",
    "        str_1 = str_df.Sentence.loc[j]\n",
    "        for i in range(len(str_df)-(j +1)):\n",
    "            str_2 = str_df.Sentence.loc[i+j+1]\n",
    "            if str_1 in str_2: \n",
    "                str_df.Drop.loc[j] = 'Yes'\n",
    "                break\n",
    "        if len(str_df) <2: \n",
    "            break\n",
    "    return str_df[str_df.Drop != 'Yes'].Sentence.tolist()\n",
    "\n",
    "#Match using 'token set ratio' with threshold\n",
    "def color_match(item, color_list_org, subs,cutoff = 90):\n",
    "    color_list = color_list_org \n",
    "    color_no_spaces = [ i for i in color_list_org if not '' in i]\n",
    "    color_with_spaces = [ i for i in color_list_org if i not in color_no_spaces]\n",
    "    abbrev_maps = {}\n",
    "    for i in color_no_spaces:\n",
    "        for j in color_with_spaces:\n",
    "            if j.replace(' ','') == i:\n",
    "                abbrev_maps[i] = j\n",
    "    matched = process.extract(item, color_list, score_cutoff= cutoff, scorer = fuzz.token_set_ratio, processor=utils.default_process, limit= 7)\n",
    "    color_shortlist = [i[0] for i in matched]\n",
    "    matched = [i for i in matched if i[0] in color_shortlist]\n",
    "    if len( color_shortlist) >0:\n",
    "        max_score = matched[0][1]\n",
    "        final_match = [ i for i in matched if i[1]== max_score]\n",
    "        match_list = [i[0] for i in final_match]\n",
    "        match_list = [abbrev_maps[i] if i in abbrev_maps.keys() else i for i in match_list]\n",
    "        match_list = [attb_subs[i] if i in attb_subs.keys() else i for i in match_list]\n",
    "        rematched = process.extract(item, match_list,  scorer = fuzz.partial_ratio, processor=utils.default_process, limit = 5)\n",
    "        re_max_score = rematched[0][1]\n",
    "        final_rematch = [ i for i in rematched if i[1]== re_max_score]\n",
    "        match_list =  remove_substrings([i[0] for i in final_rematch])\n",
    "        match_list_ordered =[]\n",
    "        for word in item.split(' '):#Ordering scents according to thair appearance in the description text\n",
    "            for color_token in match_list:\n",
    "                if word in color_token:\n",
    "                    match_list_ordered.append(color_token)\n",
    "                    continue\n",
    "        if len(match_list_ordered) >0:\n",
    "            match_list = pd.Series(match_list_ordered).drop_duplicates().tolist()\n",
    "        else:\n",
    "            match_list = pd.Series(match_list).drop_duplicates().tolist()\n",
    "    \n",
    "        \n",
    "        matched = ';'.join(list(pd.Series(match_list)))\n",
    "    else: \n",
    "        matched = 'OTHER'\n",
    "    return matched"
   ]
  },
  {
   "cell_type": "markdown",
   "metadata": {
    "application/vnd.databricks.v1+cell": {
     "cellMetadata": {
      "byteLimit": 2048000,
      "rowLimit": 10000
     },
     "inputWidgets": {},
     "nuid": "609dd72c-a161-435b-8897-adfca88657ec",
     "showTitle": false,
     "title": ""
    }
   },
   "source": [
    "### Select the attribute"
   ]
  },
  {
   "cell_type": "code",
   "execution_count": 0,
   "metadata": {
    "application/vnd.databricks.v1+cell": {
     "cellMetadata": {
      "byteLimit": 2048000,
      "rowLimit": 10000
     },
     "inputWidgets": {},
     "nuid": "3fd12fd4-1cd3-4c6f-ae02-6113a16deeaf",
     "showTitle": true,
     "title": "Run this cell to display the attribute selection drop-down, then make the selection"
    },
    "jupyter": {
     "source_hidden": true
    }
   },
   "outputs": [
    {
     "output_type": "stream",
     "name": "stdout",
     "output_type": "stream",
     "text": [
      "Select an attribute\n"
     ]
    },
    {
     "output_type": "display_data",
     "data": {
      "application/vnd.jupyter.widget-view+json": {
       "model_id": "aaa4f893a79c4915bfc204b235d69467",
       "version_major": 2,
       "version_minor": 0
      },
      "text/plain": [
       "Dropdown(description='Attribute:', options=('Color', 'Flavor', 'Scent'), value='Color')"
      ]
     },
     "metadata": {},
     "output_type": "display_data"
    }
   ],
   "source": [
    "### Select an Attribute\n",
    "print('Select an attribute')\n",
    "attrib_w = widgets.Dropdown(\n",
    "    options=['Color','Flavor','Scent'],\n",
    "    value='Color',\n",
    "    description='Attribute:',\n",
    "    disabled=False,\n",
    ")\n",
    "display(attrib_w)"
   ]
  },
  {
   "cell_type": "markdown",
   "metadata": {
    "application/vnd.databricks.v1+cell": {
     "cellMetadata": {},
     "inputWidgets": {},
     "nuid": "1e30c7cd-592a-4589-a399-80d384081f6b",
     "showTitle": false,
     "title": ""
    }
   },
   "source": [
    "### Select the department / item category"
   ]
  },
  {
   "cell_type": "code",
   "execution_count": 0,
   "metadata": {
    "application/vnd.databricks.v1+cell": {
     "cellMetadata": {
      "byteLimit": 2048000,
      "rowLimit": 10000
     },
     "inputWidgets": {},
     "nuid": "77644ed0-d663-4ac0-9b0f-e06da348fa72",
     "showTitle": true,
     "title": "Run this cell to display the item category selection drop-down, then make the selection"
    },
    "jupyter": {
     "source_hidden": true
    }
   },
   "outputs": [
    {
     "output_type": "stream",
     "name": "stdout",
     "output_type": "stream",
     "text": [
      "Select a Department for Flavor Attribution\n"
     ]
    },
    {
     "output_type": "display_data",
     "data": {
      "application/vnd.jupyter.widget-view+json": {
       "model_id": "d9013df0250f4e2ab19caf5b3b2d37f5",
       "version_major": 2,
       "version_minor": 0
      },
      "text/plain": [
       "Dropdown(description='Department:', options=('Pantry', 'Beverages', 'Ice Cream', 'Candy'), value='Pantry')"
      ]
     },
     "metadata": {},
     "output_type": "display_data"
    }
   ],
   "source": [
    "### Select the Customer Facing Department\n",
    "attrib = attrib_w.value\n",
    "print('Select a Department for ' + attrib +  ' Attribution')\n",
    "dpt_w = widgets.Dropdown(\n",
    "    options= attr_dpt_map[attrib],\n",
    "    value= attr_dpt_map[attrib][0],\n",
    "    description='Department:',\n",
    "    disabled=False,\n",
    ")\n",
    "display(dpt_w)"
   ]
  },
  {
   "cell_type": "markdown",
   "metadata": {
    "application/vnd.databricks.v1+cell": {
     "cellMetadata": {
      "byteLimit": 2048000,
      "rowLimit": 10000
     },
     "inputWidgets": {},
     "nuid": "56a938ed-081e-4d8c-98a9-d47ebcef3df8",
     "showTitle": false,
     "title": ""
    }
   },
   "source": [
    "### Instructions for Uploading input file containing item descriptions\n",
    "File Format requirements:\n",
    "1. Must be .csv\n",
    "2. All listed items must belong to the category selected above. \n",
    "3. Must have a column named 'DESCRIPTION' containing item description.\n",
    "4. May contain any additional columns (such as 'GTIN')\n"
   ]
  },
  {
   "cell_type": "code",
   "execution_count": 0,
   "metadata": {
    "application/vnd.databricks.v1+cell": {
     "cellMetadata": {
      "byteLimit": 2048000,
      "rowLimit": 10000
     },
     "inputWidgets": {},
     "nuid": "48859594-dcfa-438c-9783-aaa837ef6d04",
     "showTitle": true,
     "title": "Run the cell, then upload the input file"
    }
   },
   "outputs": [
    {
     "output_type": "stream",
     "name": "stdout",
     "output_type": "stream",
     "text": [
      "Upload the file containing item descriptions to be used for attribute extraction\n"
     ]
    },
    {
     "output_type": "display_data",
     "data": {
      "application/vnd.jupyter.widget-view+json": {
       "model_id": "8689d5fa9689455a86bc259c2ef4a5b7",
       "version_major": 2,
       "version_minor": 0
      },
      "text/plain": [
       "FileUpload(value={}, accept='.csv', description='Upload')"
      ]
     },
     "metadata": {},
     "output_type": "display_data"
    }
   ],
   "source": [
    "print('Upload the file containing item descriptions to be used for attribute extraction')\n",
    "upload_w = widgets.FileUpload(\n",
    "    accept='.csv',  # Accepted file extension e.g. '.txt', '.pdf', 'image/*', 'image/*,.pdf'\n",
    "    multiple=False  # True to accept multiple files upload else False\n",
    ")\n",
    "display(upload_w)"
   ]
  },
  {
   "cell_type": "markdown",
   "metadata": {
    "application/vnd.databricks.v1+cell": {
     "cellMetadata": {},
     "inputWidgets": {},
     "nuid": "f10fa2b5-df18-41a3-8e64-45036a501efe",
     "showTitle": false,
     "title": ""
    }
   },
   "source": [
    "#### Run the cell below to generate and save the output file\n",
    "#### Output path: \n",
    "filed will be saved in:\n",
    "/dbfs/FileStore/tables/NORMALIZED_ATTRIBUTE_OUTPUTS\n",
    "\n",
    "##### Filename format: \n",
    "If the input file is 'XYZ.csv', the output file will be called 'NORMALIZED_Color_<Today's Date>_XYZ.csv'\n"
   ]
  },
  {
   "cell_type": "code",
   "execution_count": 0,
   "metadata": {
    "application/vnd.databricks.v1+cell": {
     "cellMetadata": {
      "byteLimit": 2048000,
      "rowLimit": 10000
     },
     "inputWidgets": {},
     "nuid": "a59cba47-d6e6-4b6c-a386-0cf6f695786c",
     "showTitle": true,
     "title": "Run this cell to generate the output and save the results (To do: Bifurcate the code flow based on attribute) "
    }
   },
   "outputs": [
    {
     "output_type": "stream",
     "name": "stdout",
     "output_type": "stream",
     "text": [
      "Completed loading up configs.\nGenerating the output and saving the results..........\nDone. Results saved in/dbfs/FileStore/tables/NORMALIZED_ATTRIBUTE_OUTPUTS/NormalIzed_Color_01112024_Kitchen&Dining_sample_input.csv\n"
     ]
    }
   ],
   "source": [
    "### Read uploaded file\n",
    "items = pd.read_csv(io.BytesIO(list(upload_w.value.values())[0]['content']))\n",
    "\n",
    "### Load config file\n",
    "select_dpt = dpt_w.value\n",
    "rename = {'Home Decor (excluding Rugs)':'Home_Decor_NoRugs', 'Home Decor (Rugs only)':'Home_Decor_Rugs'}\n",
    "if select_dpt in rename.keys():\n",
    "    select_dpt = rename[select_dpt]\n",
    "\n",
    "\n",
    "### Look up the relevant config file based on attribute and dpt\n",
    "configs_dir = '/dbfs/FileStore/tables/DATA_SCIENCE/FuzzyConfigs'\n",
    "configsList =  os.listdir(configs_dir)\n",
    "configfile = [i for i in configsList if select_dpt.replace(' ','') in i and attrib.upper() in i][0]\n",
    "### Load configs\n",
    "with open(configs_dir + '/' + configfile, \"r\") as read_file:\n",
    "    configs = json.load(read_file)\n",
    "print('Completed loading up configs.')\n",
    "\n",
    "### Extract the configs\n",
    "attb_list = configs['Normalized_list']\n",
    "attb_subs = configs['Substitutions']\n",
    "\n",
    "print('Generating the output and saving the results..........')\n",
    "# Generate output\n",
    "items['Normalized_'+attrib] = items.DESCRIPTION.apply(lambda x: color_match(x,color_list_org = attb_list , subs = attb_subs))\n",
    "### Save results \n",
    "today = dt.datetime.today().strftime(\"%m%d%Y\")\n",
    "input_file = list(upload_w.value.values())[0]['metadata']['name']\n",
    "output_path = '/dbfs/FileStore/tables/NORMALIZED_ATTRIBUTE_OUTPUTS/'\n",
    "outfile = 'NormalIzed_'+ attrib + '_'+ today +'_' +input_file\n",
    "items.to_csv(output_path+ outfile, index = None)\n",
    "print('Done. Results saved in'+ output_path + outfile)"
   ]
  }
 ],
 "metadata": {
  "application/vnd.databricks.v1+notebook": {
   "dashboards": [
    {
     "elements": [
      {
       "dashboardResultIndex": null,
       "elementNUID": "f10fa2b5-df18-41a3-8e64-45036a501efe",
       "elementType": "command",
       "guid": "2399f5a2-9432-4476-91b6-87aef843a3b3",
       "options": null,
       "position": {
        "height": 8,
        "width": 12,
        "x": 0,
        "y": 14,
        "z": null
       },
       "resultIndex": null
      },
      {
       "dashboardResultIndex": null,
       "elementNUID": "56a938ed-081e-4d8c-98a9-d47ebcef3df8",
       "elementType": "command",
       "guid": "3c83f9bc-305e-482a-9740-a651fa3591c5",
       "options": null,
       "position": {
        "height": 7,
        "width": 12,
        "x": 0,
        "y": 7,
        "z": null
       },
       "resultIndex": null
      },
      {
       "dashboardResultIndex": null,
       "elementNUID": "609dd72c-a161-435b-8897-adfca88657ec",
       "elementType": "command",
       "guid": "65e27c9c-329c-483b-9f20-6b1bb9711b64",
       "options": null,
       "position": {
        "height": 2,
        "width": 12,
        "x": 0,
        "y": 3,
        "z": null
       },
       "resultIndex": null
      },
      {
       "dashboardResultIndex": null,
       "elementNUID": "1e30c7cd-592a-4589-a399-80d384081f6b",
       "elementType": "command",
       "guid": "eb43ae4a-521b-45c8-a568-85b9a0244473",
       "options": null,
       "position": {
        "height": 2,
        "width": 12,
        "x": 0,
        "y": 5,
        "z": null
       },
       "resultIndex": null
      },
      {
       "dashboardResultIndex": null,
       "elementNUID": "47491761-4c9b-4724-9317-892d8868679e",
       "elementType": "command",
       "guid": "ebd83e2f-d35e-43c3-84b0-92716d8cb457",
       "options": null,
       "position": {
        "height": 3,
        "width": 12,
        "x": 0,
        "y": 0,
        "z": null
       },
       "resultIndex": null
      }
     ],
     "globalVars": {},
     "guid": "",
     "layoutOption": {
      "grid": true,
      "stack": true
     },
     "nuid": "a69311be-9c91-4920-86bc-211218bef70d",
     "origId": 518940367016623,
     "title": "Untitled",
     "version": "DashboardViewV1",
     "width": 1024
    }
   ],
   "language": "python",
   "notebookMetadata": {
    "pythonIndentUnit": 4
   },
   "notebookName": "NORMALIZED_ATTRIBUTION_WITH_FILE_UPLOAD_011124 (1)",
   "widgets": {}
  },
  "kernelspec": {
   "display_name": "Python 3 (ipykernel)",
   "language": "python",
   "name": "python3"
  },
  "language_info": {
   "codemirror_mode": {
    "name": "ipython",
    "version": 3
   },
   "file_extension": ".py",
   "mimetype": "text/x-python",
   "name": "python",
   "nbconvert_exporter": "python",
   "pygments_lexer": "ipython3",
   "version": "3.10.9"
  }
 },
 "nbformat": 4,
 "nbformat_minor": 0
}
