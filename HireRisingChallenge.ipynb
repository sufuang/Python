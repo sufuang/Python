{
 "cells": [
  {
   "cell_type": "markdown",
   "metadata": {},
   "source": [
    "# Get maximum length of connection nodes\n",
    "\n",
    "## Functionality \n",
    "    - Define a function \"get_max_len\" to get the max connection nodes \n",
    "## Input\n",
    "    - Specify pair of  nodes in a  list\n",
    "# Outout\n",
    "   Get maximum length of connection nodes\n",
    "   \n",
    "- Author : Sophia Yue\n",
    "- Date   : 08/11/20     "
   ]
  },
  {
   "cell_type": "code",
   "execution_count": 1,
   "metadata": {},
   "outputs": [],
   "source": [
    "\n",
    "def chk_exist(val, l_cnt_node): \n",
    "    \"\"\" \n",
    "    Module name: chk_exist \n",
    "    Purpose : Check if 'val' in the list 'l_cnt_node' \n",
    "    Parameters \n",
    "      Input : \n",
    "        val : Var to check \n",
    "        l_cnt_node: List of values \n",
    "      output \n",
    "      Match_ind: Match indicator\n",
    "        True : if match \n",
    "        False : if not match \n",
    "    \"\"\"\n",
    "    if l_cnt_node == []:\n",
    "        match_ind = False\n",
    "        return match_ind        \n",
    "    else:    \n",
    "        for i in range(len(l_cnt_node)):\n",
    "            if val in l_cnt_node[i]:\n",
    "               match_ind = True \n",
    "               return match_ind\n",
    "        match_ind = False\n",
    "        return match_ind"
   ]
  },
  {
   "cell_type": "code",
   "execution_count": 2,
   "metadata": {},
   "outputs": [],
   "source": [
    "def get_max_len(l_inp:list) -> int:\n",
    "    \"\"\"\n",
    "      Module name: get_max_len\n",
    "      Purpose    : Process the nodes defined in l_inp and get maximum length of connection nodes\n",
    "      Parameters\n",
    "       Input       :\n",
    "         l_inp     : input nodes \n",
    "      output\n",
    "        max_len    : maximum length of connection nodes      \n",
    "    \"\"\"\n",
    "    if len(l_inp) == 0:\n",
    "       raise Exception('length of input should be > 0')\n",
    "    if type(l_inp) is not list:\n",
    "       raise Exception('type(l_inp) should be list') \n",
    "    lx= []\n",
    "    ly= []\n",
    "    for elm in l_inp:\n",
    "        lx.append(elm[0])\n",
    "        ly.append(elm[1]) \n",
    "    d_node_x = dict(zip(lx, ly))  \n",
    "    no_cnt = 0\n",
    "    l_cnt_node = []\n",
    "    for node in l_inp:\n",
    "        \n",
    "        node0 = node[0]\n",
    "        node1 = node[1]\n",
    " \n",
    "        if chk_exist(node0, l_cnt_node) == False:\n",
    "         \n",
    "           temp_node = [node0]\n",
    "           temp_node.append(node1)  \n",
    "           key = node1\n",
    "           end_loop =  False\n",
    "        \n",
    "           while end_loop == False:\n",
    "             try:\n",
    "               val = d_node_x [node1]\n",
    "               if val not in temp_node:\n",
    "                  temp_node.append(val)\n",
    "                  node1= val\n",
    "               else:\n",
    "                  end_loop = True\n",
    "                  l_cnt_node.append(temp_node)\n",
    "                  no_cnt += 1 \n",
    "             except KeyError:\n",
    "               key_list = [n1 for n1, n2 in d_node_x.items() if n2 == f'{node1}'] \n",
    "\n",
    "               var_list = [] \n",
    "               if len(key_list) == 1:\n",
    "                  val = key_list[0]\n",
    "               else:  \n",
    "                  val_list = [num for num in key_list if  num not in temp_node]  \n",
    "                  val = val_list [0] \n",
    "               if val not in temp_node: \n",
    "                  temp_node.append(val) \n",
    "               node1 = val     \n",
    "\n",
    " \n",
    "    max_len=  max([len(x) for x in l_cnt_node]) \n",
    "    print(f'l_cnt_node {l_cnt_node}')\n",
    "    print (f'max lenhth of connection is {max_len}')\n",
    "    return max_len       "
   ]
  },
  {
   "cell_type": "code",
   "execution_count": 3,
   "metadata": {},
   "outputs": [
    {
     "name": "stdout",
     "output_type": "stream",
     "text": [
      "l_cnt_node [['A', 'B', 'C', 'D'], ['E', 'F']]\n",
      "max lenhth of connection is 4\n",
      "l_cnt_node [['A', 'B', 'C', 'D'], ['E', 'F', 'G']]\n",
      "max lenhth of connection is 4\n"
     ]
    }
   ],
   "source": [
    "if __name__ == '__main__':\n",
    "   l_inp = [['A','B'], ['D', 'C'], ['E', 'F'] , ['B', 'C']]\n",
    "   assert get_max_len(l_inp)== 4, f'Icorrect return value {get_max_len(l_inp)} '\n",
    "   \n",
    "   l_inp = [['A','B'], ['D', 'C'], ['E', 'F'] , ['B', 'C'], ['F', 'G']]\n",
    "   assert get_max_len(l_inp)== 4, f'Icorrect return value {get_max_len(l_inp)} '\n"
   ]
  },
  {
   "cell_type": "code",
   "execution_count": null,
   "metadata": {},
   "outputs": [],
   "source": []
  }
 ],
 "metadata": {
  "kernelspec": {
   "display_name": "Python 3",
   "language": "python",
   "name": "python3"
  },
  "language_info": {
   "codemirror_mode": {
    "name": "ipython",
    "version": 3
   },
   "file_extension": ".py",
   "mimetype": "text/x-python",
   "name": "python",
   "nbconvert_exporter": "python",
   "pygments_lexer": "ipython3",
   "version": "3.8.3"
  }
 },
 "nbformat": 4,
 "nbformat_minor": 4
}
