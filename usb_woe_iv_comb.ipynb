{
 "cells": [
  {
   "cell_type": "code",
   "execution_count": 1,
   "id": "c77279a9",
   "metadata": {},
   "outputs": [],
   "source": [
    "import pprint\n",
    "import matplotlib.pyplot as plt\n",
    "\n",
    "import pandas as pd\n",
    "import numpy as np"
   ]
  },
  {
   "cell_type": "code",
   "execution_count": 2,
   "id": "150fc7e0",
   "metadata": {},
   "outputs": [],
   "source": [
    "pd.set_option( 'display.max_columns', 10 )\n",
    "pd.set_option('precision', 6)\n",
    "pd.set_option('max_colwidth', 20)\n",
    "pd.set_option('display.width', 120)"
   ]
  },
  {
   "cell_type": "markdown",
   "id": "172f6995",
   "metadata": {},
   "source": [
    "## function infValue"
   ]
  },
  {
   "cell_type": "code",
   "execution_count": 3,
   "id": "efbac373",
   "metadata": {},
   "outputs": [],
   "source": [
    "def infValue( x, y, labels=(0,1), names=('Neg', 'Pos'), mins=(1,1), offsets=(0,0), verb=False ):\n",
    "\n",
    "    a  = pd.crosstab( x, y ) \n",
    "    labs2keep=[g for g in a.columns if g in labels ]\n",
    "    a = a[labs2keep]\n",
    "    a.columns = names\n",
    "    \n",
    "    if sum(offsets) > 0 :\n",
    "        a = a + offsets\n",
    "    \n",
    "    #  Create column containing Column Percentages\n",
    "    pct_cols = ['Pct_'+b for b in a.columns]\n",
    "    for i in range(len(a.columns)):\n",
    "        a[pct_cols[i]]=round(a[a.columns[i]]/sum(a[a.columns[i]]), 4)\n",
    "    \n",
    "    a['use']       = np.where( np.logical_and( a[a.columns[0]] > mins[0], a[a.columns[1]] > mins[1]), 1, 0)\n",
    "    a['woe']       = np.where( a['use'] == 1, np.log(a[a.columns[len(names)]]/a[a.columns[len(names)+1]]), 0)\n",
    "    a['ivcontrib'] = (a[a.columns[len(names)]]-a[a.columns[len(names)+1]]) * a['woe' ]\n",
    "  \n",
    "    inf_val = sum( a['ivcontrib'] )\n",
    "    \n",
    "    if verb:\n",
    "        print('Inf. value = '+ str(inf_val) + ', '+ str(sum(a['use'])) + ' of '+str(len(a['use'])) + ' levels contributing')\n",
    "        print(a)\n",
    "        \n",
    "    return (inf_val, a)\n"
   ]
  },
  {
   "cell_type": "code",
   "execution_count": 4,
   "id": "6a7fc8c6",
   "metadata": {},
   "outputs": [],
   "source": [
    "def infValueEquibin( x, y, n=7, labels=(0,1), names=('Neg', 'Pos'), mins=(1,1), verb=False):\n",
    "\n",
    "    #n = np.min([np.max([n,3]),7])\n",
    "    \n",
    "    xx = pd.qcut( x, n, duplicates='drop')    \n",
    "    #xx = pd.qcut( x, n, duplicates='drop').apply(lambda x: x.left).astype(float) \n",
    "    #pd.qcut( x, n, duplicates='drop').apply(lambda x: x.right).astype(int) \n",
    "    a = pd.crosstab( xx, y ) \n",
    "    a = a.sort_index( 0 )     #  To ensure ascending order\n",
    "    labs2keep=[g for g in a.columns if g in labels ]\n",
    "    a = a[labs2keep]\n",
    "    a.columns = names\n",
    "\n",
    "    ''' \n",
    "\t From this point on merely repeats the code in infValue\n",
    "\t We can either call infValue with 'xx' instead of 'x'\n",
    "\t But a better aproach is to consolidate the below code into core functionality\n",
    "\t That leaves the door open to extend it to compute Mututal information.\n",
    "\t That code will not need to know anything about how the grouping is done, which is perfect!\n",
    "    '''\n",
    "\n",
    "    #  Create column containing Column Percentages\n",
    "    pct_cols = ['Pct_'+ b for b in a.columns]\n",
    "    for i in range(len(a.columns)):\n",
    "        a[pct_cols[i]]=a[a.columns[i]]/sum(a[a.columns[i]])\n",
    "    \n",
    "\t#  The below line should be a loop to handle any number of class labels\n",
    "    a['use']       = np.where( np.logical_and( a[a.columns[0]] > mins[0], a[a.columns[1]] > mins[1]), 1, 0)\n",
    "    a['woe']       = np.where( a['use'] == 1, np.log(a[a.columns[len(names)]]/a[a.columns[len(names)+1]]), 0)\n",
    "    a['ivcontrib'] = (a[a.columns[len(names)]]-a[a.columns[len(names)+1]]) * a['woe' ]\n",
    "  \n",
    "    inf_val = sum( a['ivcontrib'] )\n",
    "    \n",
    "    if verb:\n",
    "        print('Inf. value = '+ str(inf_val) + ', '+ str(sum(a['use'])) + ' of '+str(len(a['use'])) + ' levels contributing')\n",
    "        print(a)\n",
    "        \n",
    "    return (inf_val, a)"
   ]
  },
  {
   "cell_type": "code",
   "execution_count": 5,
   "id": "17425b0a",
   "metadata": {},
   "outputs": [],
   "source": [
    "def cr_woe_iv(df, fea, pr_typ, verb = False,  draw_ind = False):\n",
    "    l_iv=[]\n",
    "    col_dfx = ['Approved',  'Declined',  'Pct_Approved', 'Pct_Declined'] \n",
    "\n",
    "    dfy = pd.DataFrame()\n",
    "    # print(f'fea, {fea}')\n",
    "    if pr_typ == 'obj':\n",
    "       (ivx, dfx) =  infValue( df[fea],   df['target'], verb= verb, mins=( 1,1), names=('Approved','Declined') )\n",
    "    else:\n",
    "       (ivx, dfx) = infValueEquibin( df[fea], df['target'], n=7, verb= verb, mins=(1,1), names=('Approved','Declined') )\n",
    "    \n",
    "    if draw_ind:\n",
    "       plt.plot( dfx.woe); plt.grid()\n",
    "    # get sum    \n",
    "    l_sum = ['', 'Total']\n",
    "    l_sum.extend([dfx[col].sum() for col in col_dfx ]) # sum up column value for 'Approved','Declined', 'Pct_Approved', 'Pct_Declined'\n",
    "    l_sum.extend(['', '']) # not calculate 'use' and 'Woe'\n",
    "    l_sum.append( round(dfx['ivcontrib'].sum(), 4))  # add IV\n",
    "    \n",
    "    l_fea = [fea] + [''] + ['' for x in dfx.columns]\n",
    "    columns=['feature'] + ['value'] + dfx.columns.tolist()\n",
    "    df0 = pd.DataFrame([l_fea],columns=columns)\n",
    "    \n",
    "    dfx = dfx.reset_index()\n",
    "    dfx.rename(columns={fea:'value'},inplace = True)\n",
    "    dfx.insert(loc=0, column='feature', value = '')\n",
    "    \n",
    "    dfx.loc[len(dfx)] = l_sum\n",
    "    dfy  = pd.concat([dfy,  df0, dfx], axis = 0)\n",
    " \n",
    "\n",
    "    return [fea, round(ivx, 4)],  dfy"
   ]
  },
  {
   "cell_type": "code",
   "execution_count": 6,
   "id": "13fdd607",
   "metadata": {},
   "outputs": [],
   "source": [
    "def cr_woe_ivx(df, l_col, pr_typ, verb = False,  draw_ind = False):\n",
    "    \"\"\"\n",
    "    module name : cr_woe_iv\n",
    "    Purpose: \n",
    "    1. Invoke \"infValue/infValueEquibin\" to create\n",
    "       - dfx: A data frame for feature values, woe and ivcontrib\n",
    "       - ivx: Information value (sum of ivcontrib)\n",
    "    2. Create a list l_sum to sum up column value for 'Approved','Declined', 'Pct_Approved', 'Pct_Declined', and ' ivcontrib'  \n",
    "       - Not calculate the sum for 'use' and 'Woe'\n",
    "    Parameters\n",
    "      input: \n",
    "        df: data frame to calculate woe and iv\n",
    "        l_col: list of columns to calculate woe and iv\n",
    "        pr_tpy: Process type \n",
    "          obj: Process woe and iv for object features\n",
    "          num: Process woe and iv for numeric features \n",
    "        verb: Indicator to verbose\n",
    "        draw_ind: Indicator to draw the plot for woe\n",
    "      output:\n",
    "        dfy: data frame to capture value counts of 'Apprroved', counts of 'Declined', 'Pct_Approved', 'Pct_Declined', and ' ivcontrib'  \n",
    "        dfz: data frame to capture  feature name of iv\n",
    "    \"\"\"\n",
    "    l_iv=[]\n",
    "    col_dfx = ['Approved',  'Declined',  'Pct_Approved', 'Pct_Declined'] \n",
    "\n",
    "    i = 0\n",
    "    for fea in l_col:\n",
    "            i += 1\n",
    "            dfy = pd.DataFrame()\n",
    "            # print(f'fea, {fea}')\n",
    "            if pr_typ == 'obj':\n",
    "               (ivx, dfx) =  infValue( df[fea],   df['target'], verb= verb, mins=( 1,1), names=('Approved','Declined') )\n",
    "            else:\n",
    "               (ivx, dfx) = infValueEquibin( df[fea], df['target'], n=7, verb= verb, mins=(1,1), names=('Approved','Declined') )\n",
    "            \n",
    "            if draw_ind:\n",
    "               plt.plot( dfx.woe); plt.grid()\n",
    "            # get sum    \n",
    "            l_sum = ['', 'Total']\n",
    "            l_sum.extend([dfx[col].sum() for col in col_dfx ]) # sum up column value for 'Approved','Declined', 'Pct_Approved', 'Pct_Declined'\n",
    "            l_sum.extend(['', '']) # not calculate 'use' and 'Woe'\n",
    "            l_sum.append( round(dfx['ivcontrib'].sum(), 4))  # add IV\n",
    "            \n",
    "            l_fea = [fea] + [''] + ['' for x in dfx.columns]\n",
    "            columns=['feature'] + ['value'] + dfx.columns.tolist()\n",
    "            df0 = pd.DataFrame([l_fea],columns=columns)\n",
    "            \n",
    "            dfx = dfx.reset_index()\n",
    "            dfx.rename(columns={fea:'value'},inplace = True)\n",
    "            dfx.insert(loc=0, column='feature', value = '')\n",
    "            \n",
    "            dfx.loc[len(dfx)] = l_sum\n",
    "            globals()[f'df_obj_{i}'] = pd.concat([dfy,  df0, dfx], axis = 0)\n",
    "            l_iv.append([fea, round(ivx, 4)]) \n",
    "                      \n",
    "    df_iv = pd.DataFrame(l_iv,columns=['feature','iv'])  \n",
    "    return df_iv,  dfy"
   ]
  },
  {
   "cell_type": "code",
   "execution_count": 7,
   "id": "020d3bd6",
   "metadata": {},
   "outputs": [],
   "source": [
    "def f_adj_col_sheet(pdf_nm, excel_writer,sheet_nm, head_fmt_ind, max_col):    \n",
    "    \"\"\"\n",
    "      module name : f_adj_col_sheet\n",
    "      purpose     : Based on the column names and content of columns to adjust the spreadsheet column length\n",
    "                     - Return workbook with adjusted column length \n",
    "      parameters     :\n",
    "        pdf_nm       : panda data frame name for the excel sheet\n",
    "        excel_writer : XlsxWriter Excel object\n",
    "        sheet_nm     : sheet name\n",
    "        head_fmt_ind : indictor to define head format for the workbook  \n",
    "      Note: \n",
    "        The calling program needs to define the xcel_writer with e\n",
    "        - ngine='xlsxwriter', e.g.\n",
    "        - writer = pd.ExcelWriter(excel_file, engine='xlsxwriter')\n",
    "        Set grid for all cells\n",
    "         -  worksheet.hide_gridlines(False) \n",
    "         - \n",
    "    \"\"\"    \n",
    "    workbook  = excel_writer.book\n",
    "    worksheet = excel_writer.sheets[sheet_nm]\n",
    "    if ( head_fmt_ind == 'True'):\n",
    "         header_format = workbook.add_format({\n",
    "             'bold': True,\n",
    "             'text_wrap': True,\n",
    "             'valign': 'top',\n",
    "             'bg_color': 'grey', \n",
    "             'border': 1})        \n",
    "                 \n",
    "    _col = 'A'\n",
    "\n",
    "    #worksheet.show_gridlines(True)\n",
    "    i = 0\n",
    "    for col in pdf_nm.columns.values:        \n",
    "         max_col_cnt =  max(pdf_nm[col].apply(repr).apply(len).max(), len(col))\n",
    "         if i < len(max_col):\n",
    "            if   max_col_cnt > max_col[i]:\n",
    "                 max_col[i] = max_col_cnt \n",
    "            else:\n",
    "                 max_col_cnt  = max_col[i]\n",
    "         i += 1           \n",
    "         col_rang =  _col + ':' + _col \n",
    "         worksheet.set_column(col_rang , max_col_cnt) + 2\n",
    "         _col = chr(ord(_col) + 1)  \n",
    "    worksheet.hide_gridlines(False)  \n",
    "    #worksheet.setGridlinesVisible(True) \n",
    "    return max_col, workbook, worksheet "
   ]
  },
  {
   "cell_type": "code",
   "execution_count": 8,
   "id": "4130258d",
   "metadata": {},
   "outputs": [
    {
     "data": {
      "text/html": [
       "<div>\n",
       "<style scoped>\n",
       "    .dataframe tbody tr th:only-of-type {\n",
       "        vertical-align: middle;\n",
       "    }\n",
       "\n",
       "    .dataframe tbody tr th {\n",
       "        vertical-align: top;\n",
       "    }\n",
       "\n",
       "    .dataframe thead th {\n",
       "        text-align: right;\n",
       "    }\n",
       "</style>\n",
       "<table border=\"1\" class=\"dataframe\">\n",
       "  <thead>\n",
       "    <tr style=\"text-align: right;\">\n",
       "      <th></th>\n",
       "      <th>0</th>\n",
       "      <th>1</th>\n",
       "      <th>2</th>\n",
       "    </tr>\n",
       "  </thead>\n",
       "  <tbody>\n",
       "    <tr>\n",
       "      <th>Org_Struc_Desc</th>\n",
       "      <td>Corporation</td>\n",
       "      <td>Partnership</td>\n",
       "      <td>Non-Profit</td>\n",
       "    </tr>\n",
       "    <tr>\n",
       "      <th>NAICS_Cd</th>\n",
       "      <td>238160</td>\n",
       "      <td>621210</td>\n",
       "      <td>813319</td>\n",
       "    </tr>\n",
       "    <tr>\n",
       "      <th>NAICS_Desc</th>\n",
       "      <td>Roofing Contractors</td>\n",
       "      <td>Offices of Dentists</td>\n",
       "      <td>Other Social Adv...</td>\n",
       "    </tr>\n",
       "    <tr>\n",
       "      <th>Revw_Id</th>\n",
       "      <td>117882</td>\n",
       "      <td>118031</td>\n",
       "      <td>119338</td>\n",
       "    </tr>\n",
       "    <tr>\n",
       "      <th>Revw_Month</th>\n",
       "      <td>2019/01</td>\n",
       "      <td>2019/01</td>\n",
       "      <td>2019/02</td>\n",
       "    </tr>\n",
       "    <tr>\n",
       "      <th>Revw_Quarter</th>\n",
       "      <td>2019/1</td>\n",
       "      <td>2019/1</td>\n",
       "      <td>2019/1</td>\n",
       "    </tr>\n",
       "    <tr>\n",
       "      <th>Decision</th>\n",
       "      <td>Approved</td>\n",
       "      <td>Declined</td>\n",
       "      <td>Approved</td>\n",
       "    </tr>\n",
       "    <tr>\n",
       "      <th>Scored_Flag</th>\n",
       "      <td>N</td>\n",
       "      <td>N</td>\n",
       "      <td>N</td>\n",
       "    </tr>\n",
       "    <tr>\n",
       "      <th>Elan_Flag</th>\n",
       "      <td>N</td>\n",
       "      <td>N</td>\n",
       "      <td>N</td>\n",
       "    </tr>\n",
       "    <tr>\n",
       "      <th>CLI_or_New_Prod_Flag</th>\n",
       "      <td>Y</td>\n",
       "      <td>Y</td>\n",
       "      <td>N</td>\n",
       "    </tr>\n",
       "    <tr>\n",
       "      <th>Channel</th>\n",
       "      <td>Commercial Banking</td>\n",
       "      <td>Commercial Banking</td>\n",
       "      <td>Community Banking</td>\n",
       "    </tr>\n",
       "    <tr>\n",
       "      <th>Corporate_Card</th>\n",
       "      <td>0</td>\n",
       "      <td>0</td>\n",
       "      <td>0</td>\n",
       "    </tr>\n",
       "    <tr>\n",
       "      <th>Purchasing_Card</th>\n",
       "      <td>0</td>\n",
       "      <td>0</td>\n",
       "      <td>0</td>\n",
       "    </tr>\n",
       "    <tr>\n",
       "      <th>One_Card</th>\n",
       "      <td>1</td>\n",
       "      <td>1</td>\n",
       "      <td>1</td>\n",
       "    </tr>\n",
       "    <tr>\n",
       "      <th>Other_NonBankCard</th>\n",
       "      <td>0</td>\n",
       "      <td>0</td>\n",
       "      <td>0</td>\n",
       "    </tr>\n",
       "    <tr>\n",
       "      <th>Scored_Rec_Decision</th>\n",
       "      <td>Declined</td>\n",
       "      <td>Declined</td>\n",
       "      <td>Declined</td>\n",
       "    </tr>\n",
       "    <tr>\n",
       "      <th>SBFE_Score</th>\n",
       "      <td>NaN</td>\n",
       "      <td>NaN</td>\n",
       "      <td>NaN</td>\n",
       "    </tr>\n",
       "    <tr>\n",
       "      <th>CC_Score</th>\n",
       "      <td>NaN</td>\n",
       "      <td>523.0</td>\n",
       "      <td>560.0</td>\n",
       "    </tr>\n",
       "    <tr>\n",
       "      <th>Financial_Template_Found_Flag</th>\n",
       "      <td>Y</td>\n",
       "      <td>Y</td>\n",
       "      <td>Y</td>\n",
       "    </tr>\n",
       "    <tr>\n",
       "      <th>Existing_Limit</th>\n",
       "      <td>85000</td>\n",
       "      <td>50000</td>\n",
       "      <td>0</td>\n",
       "    </tr>\n",
       "    <tr>\n",
       "      <th>Request_Amount</th>\n",
       "      <td>55000</td>\n",
       "      <td>50000</td>\n",
       "      <td>500000</td>\n",
       "    </tr>\n",
       "    <tr>\n",
       "      <th>Final_Limit</th>\n",
       "      <td>140000</td>\n",
       "      <td>50000</td>\n",
       "      <td>500000</td>\n",
       "    </tr>\n",
       "  </tbody>\n",
       "</table>\n",
       "</div>"
      ],
      "text/plain": [
       "                                        0                    1                    2\n",
       "Org_Struc_Desc                Corporation          Partnership           Non-Profit\n",
       "NAICS_Cd                           238160               621210               813319\n",
       "NAICS_Desc            Roofing Contractors  Offices of Dentists  Other Social Adv...\n",
       "Revw_Id                            117882               118031               119338\n",
       "Revw_Month                        2019/01              2019/01              2019/02\n",
       "Revw_Quarter                       2019/1               2019/1               2019/1\n",
       "Decision                         Approved             Declined             Approved\n",
       "Scored_Flag                             N                    N                    N\n",
       "Elan_Flag                               N                    N                    N\n",
       "CLI_or_New_Prod_Flag                    Y                    Y                    N\n",
       "Channel                Commercial Banking   Commercial Banking    Community Banking\n",
       "Corporate_Card                          0                    0                    0\n",
       "Purchasing_Card                         0                    0                    0\n",
       "One_Card                                1                    1                    1\n",
       "Other_NonBankCard                       0                    0                    0\n",
       "Scored_Rec_Decision              Declined             Declined             Declined\n",
       "SBFE_Score                            NaN                  NaN                  NaN\n",
       "CC_Score                              NaN                523.0                560.0\n",
       "Financial_Templat...                    Y                    Y                    Y\n",
       "Existing_Limit                      85000                50000                    0\n",
       "Request_Amount                      55000                50000               500000\n",
       "Final_Limit                        140000                50000               500000"
      ]
     },
     "execution_count": 8,
     "metadata": {},
     "output_type": "execute_result"
    }
   ],
   "source": [
    "path = 'C:\\\\Users\\\\sophia.yue\\\\Infosys\\\\Sandeep Project\\\\'\n",
    "df = pd.read_excel(path + \"INFOSYS_POPULATION_new.xlsx\", sheet_name = 'INFOSYS_POPULATION_new', engine = 'openpyxl' )\n",
    "df.head(3).T"
   ]
  },
  {
   "cell_type": "markdown",
   "id": "02f2effc",
   "metadata": {},
   "source": [
    "## Replace column 'Decioned' by column 'target'\n",
    "   - Creae a new column 'target' from 'Decision'\n",
    "      - 'Declined': 1\n",
    "      - 'Approved':0\n",
    "   -  Remove 2 missing values from 'Channel'    \n",
    "      "
   ]
  },
  {
   "cell_type": "code",
   "execution_count": 9,
   "id": "ac47f229",
   "metadata": {},
   "outputs": [
    {
     "name": "stdout",
     "output_type": "stream",
     "text": [
      "<class 'pandas.core.frame.DataFrame'>\n",
      "RangeIndex: 2483 entries, 0 to 2482\n",
      "Data columns (total 22 columns):\n",
      " #   Column                         Non-Null Count  Dtype  \n",
      "---  ------                         --------------  -----  \n",
      " 0   Org_Struc_Desc                 2483 non-null   object \n",
      " 1   NAICS_Cd                       2483 non-null   int64  \n",
      " 2   NAICS_Desc                     2483 non-null   object \n",
      " 3   Revw_Id                        2483 non-null   int64  \n",
      " 4   Revw_Month                     2483 non-null   object \n",
      " 5   Revw_Quarter                   2483 non-null   object \n",
      " 6   Decision                       2483 non-null   object \n",
      " 7   Scored_Flag                    2483 non-null   object \n",
      " 8   Elan_Flag                      2483 non-null   object \n",
      " 9   CLI_or_New_Prod_Flag           2483 non-null   object \n",
      " 10  Channel                        2481 non-null   object \n",
      " 11  Corporate_Card                 2483 non-null   int64  \n",
      " 12  Purchasing_Card                2483 non-null   int64  \n",
      " 13  One_Card                       2483 non-null   int64  \n",
      " 14  Other_NonBankCard              2483 non-null   int64  \n",
      " 15  Scored_Rec_Decision            2483 non-null   object \n",
      " 16  SBFE_Score                     2032 non-null   float64\n",
      " 17  CC_Score                       1920 non-null   float64\n",
      " 18  Financial_Template_Found_Flag  2483 non-null   object \n",
      " 19  Existing_Limit                 2483 non-null   int64  \n",
      " 20  Request_Amount                 2483 non-null   int64  \n",
      " 21  Final_Limit                    2483 non-null   int64  \n",
      "dtypes: float64(2), int64(9), object(11)\n",
      "memory usage: 426.9+ KB\n"
     ]
    },
    {
     "data": {
      "text/plain": [
       "(2481, 22)"
      ]
     },
     "execution_count": 9,
     "metadata": {},
     "output_type": "execute_result"
    }
   ],
   "source": [
    "df.head()\n",
    "df.shape\n",
    "df.describe()\n",
    "df.info()\n",
    "#  Examine target values and map to 0 and 1\n",
    "df.Decision.value_counts()             \n",
    "targ_dict = {'Declined': 1, 'Approved':0 }\n",
    "df['target'] = [targ_dict[yy] for yy in df.Decision]\n",
    "df.target.value_counts() \n",
    "df.drop('Decision', axis = 1,  inplace = True)\n",
    "df = df.dropna(subset = ['Channel'])  # drop missing values from channel\n",
    "df.shape\n",
    "#df.shape"
   ]
  },
  {
   "cell_type": "markdown",
   "id": "8aff731a",
   "metadata": {},
   "source": [
    "## Get columns for type with objective and numeric   \n",
    " - l_col_obj : get features with datatype = obj\n",
    "   - include card number in l_col_obj\n",
    "  - l_col_num : get features with datatype != obj\n",
    "   - exclude features of card number in l_col_num\n",
    " "
   ]
  },
  {
   "cell_type": "code",
   "execution_count": 10,
   "id": "88ccff16",
   "metadata": {},
   "outputs": [
    {
     "name": "stdout",
     "output_type": "stream",
     "text": [
      "['Org_Struc_Desc', 'Revw_Quarter', 'Scored_Flag', 'Elan_Flag', 'CLI_or_New_Prod_Flag', 'Channel', 'Scored_Rec_Decision', 'Financial_Template_Found_Flag', 'Corporate_Card', 'Purchasing_Card', 'One_Card', 'Other_NonBankCard']\n"
     ]
    }
   ],
   "source": [
    "l_col_obj = df.dtypes[df.dtypes == 'O'].index.tolist() \n",
    "l_col_obj_rem = ['NAICS_Desc', 'Revw_Month']\n",
    "l_col_obj = [ x for x in l_col_obj if x not in l_col_obj_rem]\n",
    "card_typ = ['Corporate_Card','Purchasing_Card','One_Card','Other_NonBankCard']\n",
    "l_col_obj.extend(card_typ)\n",
    "print(l_col_obj)"
   ]
  },
  {
   "cell_type": "code",
   "execution_count": 11,
   "id": "9f52cfb4",
   "metadata": {},
   "outputs": [
    {
     "name": "stdout",
     "output_type": "stream",
     "text": [
      "['SBFE_Score', 'CC_Score', 'Existing_Limit', 'Request_Amount', 'Final_Limit']\n"
     ]
    }
   ],
   "source": [
    "l_col_num = df.dtypes[df.dtypes != 'O'].index.tolist() \n",
    "l_col_num_rem = ['NAICS_Cd', 'Revw_Id', 'Revw_Quarter', 'target'] + card_typ\n",
    "l_col_num = [ x for x in l_col_num if x not in l_col_num_rem]\n",
    "print(l_col_num)"
   ]
  },
  {
   "cell_type": "markdown",
   "id": "5b73c722",
   "metadata": {},
   "source": [
    "## Calculate woe and iv  \n",
    "  - Invoke cr_woe_iv to excute infValue/infValueEquibin to calculate woe and iv  \n",
    "    - For all features defined in l_col_obj and l_col_num"
   ]
  },
  {
   "cell_type": "code",
   "execution_count": 12,
   "id": "0d83b5a0",
   "metadata": {},
   "outputs": [
    {
     "name": "stderr",
     "output_type": "stream",
     "text": [
      "C:\\ProgramData\\Anaconda3\\lib\\site-packages\\pandas\\core\\arraylike.py:358: RuntimeWarning: divide by zero encountered in log\n",
      "  result = getattr(ufunc, method)(*inputs, **kwargs)\n"
     ]
    }
   ],
   "source": [
    "l_ivs = []\n",
    "i = 0\n",
    "for fea in l_col_obj:\n",
    "    l_iv,   globals()[f'df_obj_{i}'] = cr_woe_iv(df, fea, pr_typ = 'obj', verb = False, draw_ind = False)\n",
    "    l_ivs.append(l_iv) \n",
    "    i += 1\n",
    "    \n",
    "i = 0\n",
    "for fea in l_col_num:\n",
    "    l_iv,   globals()[f'df_num_{i}'] = cr_woe_iv(df, fea, pr_typ = 'num', verb = False, draw_ind = False)\n",
    "    l_ivs.append(l_iv) \n",
    "    i += 1 \n",
    "    \n",
    "df_iv = pd.DataFrame(l_ivs,columns=['feature','iv'])  \n",
    "df_iv = df_iv.sort_values('iv', ascending = False)"
   ]
  },
  {
   "cell_type": "code",
   "execution_count": 13,
   "id": "e1cc0cb8",
   "metadata": {},
   "outputs": [
    {
     "ename": "NameError",
     "evalue": "name 'Stop' is not defined",
     "output_type": "error",
     "traceback": [
      "\u001b[1;31m---------------------------------------------------------------------------\u001b[0m",
      "\u001b[1;31mNameError\u001b[0m                                 Traceback (most recent call last)",
      "\u001b[1;32m<ipython-input-13-c10bb777ae2e>\u001b[0m in \u001b[0;36m<module>\u001b[1;34m\u001b[0m\n\u001b[1;32m----> 1\u001b[1;33m \u001b[0mStop\u001b[0m\u001b[1;33m\u001b[0m\u001b[1;33m\u001b[0m\u001b[0m\n\u001b[0m",
      "\u001b[1;31mNameError\u001b[0m: name 'Stop' is not defined"
     ]
    }
   ],
   "source": [
    "Stop"
   ]
  },
  {
   "cell_type": "code",
   "execution_count": null,
   "id": "500a3805",
   "metadata": {},
   "outputs": [],
   "source": [
    "\n",
    "path_file = 'C:\\\\Users\\\\sophia.yue\\\\Infosys\\\\Sandeep Project\\\\usb_woe.09oct22.xlsx'\n",
    "writer = pd.ExcelWriter(path_file)\n",
    "sheet_name = 'woe for type = obj'\n",
    "s_row =0; s_col = 0\n",
    "max_col = [0, 0]\n",
    "for i in range(0, len(l_col_obj)):\n",
    "    df_woe_obj = globals()[f'df_obj_{i}'] \n",
    "    df_woe_obj.to_excel(writer, sheet_name = sheet_name, startrow = s_row, startcol = s_col, index = False)\n",
    "    max_col, worksheet = f_adj_col_sheet(df_woe_obj, writer, sheet_name, True, max_col)\n",
    "    s_row += len(df_woe_obj) + 2 \n",
    "    \n",
    "s_row =0; s_col = 0\n",
    "sheet_name = 'woe  for type = num'\n",
    "for i in range(0, len(l_col_num)):\n",
    "    df_woe_num = globals()[f'df_num_{i}'] \n",
    "    df_woe_num.to_excel(writer, sheet_name = sheet_name, index = False, float_format = \"%.4f\", \\\n",
    "                        startrow = s_row, startcol = s_col )\n",
    "    max_col, worksheet = f_adj_col_sheet(df_woe_num, writer, sheet_name , True, [])\n",
    "    s_row += len(df_woe_num) + 2 \n",
    "\n",
    "sheet_name = 'iv'\n",
    "df_iv.to_excel(writer, sheet_name = sheet_name, index = False)\n",
    "max_col, worksheet = f_adj_col_sheet(df_iv, writer, sheet_name, True, [])\n",
    "writer.save()"
   ]
  },
  {
   "cell_type": "code",
   "execution_count": null,
   "id": "a784579b",
   "metadata": {},
   "outputs": [],
   "source": [
    "#test0\n",
    "import pandas as pd\n",
    "\n",
    "# Create a Pandas dataframe from the data.\n",
    "df = pd.DataFrame({'Data': [10, 20, 30, 20, 15, 30, 45]})\n",
    "\n",
    "# Create a Pandas Excel writer using XlsxWriter as the engine.\n",
    "writer = pd.ExcelWriter('pandas_simple.xlsx', engine='xlsxwriter')\n",
    "\n",
    "# Convert the dataframe to an XlsxWriter Excel object.\n",
    "df.to_excel(writer, sheet_name='Sheet1')\n",
    "\n",
    "# Get the xlsxwriter objects from the dataframe writer object.\n",
    "workbook  = writer.book\n",
    "worksheet = writer.sheets['Sheet1']"
   ]
  },
  {
   "cell_type": "code",
   "execution_count": 14,
   "id": "85a737e2",
   "metadata": {},
   "outputs": [
    {
     "name": "stderr",
     "output_type": "stream",
     "text": [
      "C:\\ProgramData\\Anaconda3\\lib\\site-packages\\xlsxwriter\\workbook.py:1615: UserWarning: Unknown worksheet reference 'Sheet1!$H$3:' in range 'Sheet1!$H$3:!$H$9' passed to add_series()\n",
      "  warn(\"Unknown worksheet reference '%s' in range \"\n"
     ]
    }
   ],
   "source": [
    "#test1\n",
    "path_file = 'C:\\\\Users\\\\sophia.yue\\\\Infosys\\\\Sandeep Project\\\\usb_woe.chart.xlsx'\n",
    "writer = pd.ExcelWriter(path_file, engine = 'xlsxwriter')\n",
    "#sheet_name = 'woe for type = obj'\n",
    "\n",
    "sheet_name = 'Sheet1'\n",
    "\n",
    "\n",
    "\n",
    "\n",
    "df_woe_obj = df_obj_0 \n",
    "s_row = 0 ; s_col = 0\n",
    "df_woe_obj.to_excel(writer, sheet_name = sheet_name, startrow = s_row, startcol = s_col, \n",
    "                    index = False )\n",
    "\n",
    "\n",
    "workbook  = writer.book\n",
    "worksheet = writer.sheets[sheet_name]\n",
    "#worksheet = writer.sheets['Sheet1']\n",
    "chart1 =  workbook.add_chart({'type' : 'column'})\n",
    "chart1.add_series({'name': '=Sheet1!$B$1', \n",
    "                'categories':'=Sheet1!$B$3:$B$9',\n",
    "                 'values' : '=Sheet1!$H$3:!$H$9'})\n",
    "chart1.set_y_axis({'name': 'WOE'})\n",
    "chart1.set_x_axis({'name': 'Value'})\n",
    "chart1.set_title ({'name': 'WOE-value'})\n",
    "worksheet.insert_chart('L1', chart1)\n",
    "# workbook.close()\n",
    "writer.save()"
   ]
  },
  {
   "cell_type": "code",
   "execution_count": 15,
   "id": "e348da10",
   "metadata": {},
   "outputs": [
    {
     "ename": "TypeError",
     "evalue": "'value' must be an instance of str or bytes, not a float",
     "output_type": "error",
     "traceback": [
      "\u001b[1;31m---------------------------------------------------------------------------\u001b[0m",
      "\u001b[1;31mTypeError\u001b[0m                                 Traceback (most recent call last)",
      "\u001b[1;32m<ipython-input-15-26bb85e40c26>\u001b[0m in \u001b[0;36m<module>\u001b[1;34m\u001b[0m\n\u001b[0;32m      1\u001b[0m \u001b[1;31m#test\u001b[0m\u001b[1;33m\u001b[0m\u001b[1;33m\u001b[0m\u001b[1;33m\u001b[0m\u001b[0m\n\u001b[1;32m----> 2\u001b[1;33m \u001b[0mplt\u001b[0m\u001b[1;33m.\u001b[0m\u001b[0mplot\u001b[0m\u001b[1;33m(\u001b[0m \u001b[0mdf_obj_0\u001b[0m\u001b[1;33m.\u001b[0m\u001b[0mwoe\u001b[0m\u001b[1;33m)\u001b[0m\u001b[1;33m;\u001b[0m \u001b[0mplt\u001b[0m\u001b[1;33m.\u001b[0m\u001b[0mgrid\u001b[0m\u001b[1;33m(\u001b[0m\u001b[1;33m)\u001b[0m\u001b[1;33m\u001b[0m\u001b[1;33m\u001b[0m\u001b[0m\n\u001b[0m",
      "\u001b[1;32mC:\\ProgramData\\Anaconda3\\lib\\site-packages\\matplotlib\\pyplot.py\u001b[0m in \u001b[0;36mplot\u001b[1;34m(scalex, scaley, data, *args, **kwargs)\u001b[0m\n\u001b[0;32m   2838\u001b[0m \u001b[1;33m@\u001b[0m\u001b[0m_copy_docstring_and_deprecators\u001b[0m\u001b[1;33m(\u001b[0m\u001b[0mAxes\u001b[0m\u001b[1;33m.\u001b[0m\u001b[0mplot\u001b[0m\u001b[1;33m)\u001b[0m\u001b[1;33m\u001b[0m\u001b[1;33m\u001b[0m\u001b[0m\n\u001b[0;32m   2839\u001b[0m \u001b[1;32mdef\u001b[0m \u001b[0mplot\u001b[0m\u001b[1;33m(\u001b[0m\u001b[1;33m*\u001b[0m\u001b[0margs\u001b[0m\u001b[1;33m,\u001b[0m \u001b[0mscalex\u001b[0m\u001b[1;33m=\u001b[0m\u001b[1;32mTrue\u001b[0m\u001b[1;33m,\u001b[0m \u001b[0mscaley\u001b[0m\u001b[1;33m=\u001b[0m\u001b[1;32mTrue\u001b[0m\u001b[1;33m,\u001b[0m \u001b[0mdata\u001b[0m\u001b[1;33m=\u001b[0m\u001b[1;32mNone\u001b[0m\u001b[1;33m,\u001b[0m \u001b[1;33m**\u001b[0m\u001b[0mkwargs\u001b[0m\u001b[1;33m)\u001b[0m\u001b[1;33m:\u001b[0m\u001b[1;33m\u001b[0m\u001b[1;33m\u001b[0m\u001b[0m\n\u001b[1;32m-> 2840\u001b[1;33m     return gca().plot(\n\u001b[0m\u001b[0;32m   2841\u001b[0m         \u001b[1;33m*\u001b[0m\u001b[0margs\u001b[0m\u001b[1;33m,\u001b[0m \u001b[0mscalex\u001b[0m\u001b[1;33m=\u001b[0m\u001b[0mscalex\u001b[0m\u001b[1;33m,\u001b[0m \u001b[0mscaley\u001b[0m\u001b[1;33m=\u001b[0m\u001b[0mscaley\u001b[0m\u001b[1;33m,\u001b[0m\u001b[1;33m\u001b[0m\u001b[1;33m\u001b[0m\u001b[0m\n\u001b[0;32m   2842\u001b[0m         **({\"data\": data} if data is not None else {}), **kwargs)\n",
      "\u001b[1;32mC:\\ProgramData\\Anaconda3\\lib\\site-packages\\matplotlib\\axes\\_axes.py\u001b[0m in \u001b[0;36mplot\u001b[1;34m(self, scalex, scaley, data, *args, **kwargs)\u001b[0m\n\u001b[0;32m   1741\u001b[0m         \"\"\"\n\u001b[0;32m   1742\u001b[0m         \u001b[0mkwargs\u001b[0m \u001b[1;33m=\u001b[0m \u001b[0mcbook\u001b[0m\u001b[1;33m.\u001b[0m\u001b[0mnormalize_kwargs\u001b[0m\u001b[1;33m(\u001b[0m\u001b[0mkwargs\u001b[0m\u001b[1;33m,\u001b[0m \u001b[0mmlines\u001b[0m\u001b[1;33m.\u001b[0m\u001b[0mLine2D\u001b[0m\u001b[1;33m)\u001b[0m\u001b[1;33m\u001b[0m\u001b[1;33m\u001b[0m\u001b[0m\n\u001b[1;32m-> 1743\u001b[1;33m         \u001b[0mlines\u001b[0m \u001b[1;33m=\u001b[0m \u001b[1;33m[\u001b[0m\u001b[1;33m*\u001b[0m\u001b[0mself\u001b[0m\u001b[1;33m.\u001b[0m\u001b[0m_get_lines\u001b[0m\u001b[1;33m(\u001b[0m\u001b[1;33m*\u001b[0m\u001b[0margs\u001b[0m\u001b[1;33m,\u001b[0m \u001b[0mdata\u001b[0m\u001b[1;33m=\u001b[0m\u001b[0mdata\u001b[0m\u001b[1;33m,\u001b[0m \u001b[1;33m**\u001b[0m\u001b[0mkwargs\u001b[0m\u001b[1;33m)\u001b[0m\u001b[1;33m]\u001b[0m\u001b[1;33m\u001b[0m\u001b[1;33m\u001b[0m\u001b[0m\n\u001b[0m\u001b[0;32m   1744\u001b[0m         \u001b[1;32mfor\u001b[0m \u001b[0mline\u001b[0m \u001b[1;32min\u001b[0m \u001b[0mlines\u001b[0m\u001b[1;33m:\u001b[0m\u001b[1;33m\u001b[0m\u001b[1;33m\u001b[0m\u001b[0m\n\u001b[0;32m   1745\u001b[0m             \u001b[0mself\u001b[0m\u001b[1;33m.\u001b[0m\u001b[0madd_line\u001b[0m\u001b[1;33m(\u001b[0m\u001b[0mline\u001b[0m\u001b[1;33m)\u001b[0m\u001b[1;33m\u001b[0m\u001b[1;33m\u001b[0m\u001b[0m\n",
      "\u001b[1;32mC:\\ProgramData\\Anaconda3\\lib\\site-packages\\matplotlib\\axes\\_base.py\u001b[0m in \u001b[0;36m__call__\u001b[1;34m(self, data, *args, **kwargs)\u001b[0m\n\u001b[0;32m    271\u001b[0m                 \u001b[0mthis\u001b[0m \u001b[1;33m+=\u001b[0m \u001b[0margs\u001b[0m\u001b[1;33m[\u001b[0m\u001b[1;36m0\u001b[0m\u001b[1;33m]\u001b[0m\u001b[1;33m,\u001b[0m\u001b[1;33m\u001b[0m\u001b[1;33m\u001b[0m\u001b[0m\n\u001b[0;32m    272\u001b[0m                 \u001b[0margs\u001b[0m \u001b[1;33m=\u001b[0m \u001b[0margs\u001b[0m\u001b[1;33m[\u001b[0m\u001b[1;36m1\u001b[0m\u001b[1;33m:\u001b[0m\u001b[1;33m]\u001b[0m\u001b[1;33m\u001b[0m\u001b[1;33m\u001b[0m\u001b[0m\n\u001b[1;32m--> 273\u001b[1;33m             \u001b[1;32myield\u001b[0m \u001b[1;32mfrom\u001b[0m \u001b[0mself\u001b[0m\u001b[1;33m.\u001b[0m\u001b[0m_plot_args\u001b[0m\u001b[1;33m(\u001b[0m\u001b[0mthis\u001b[0m\u001b[1;33m,\u001b[0m \u001b[0mkwargs\u001b[0m\u001b[1;33m)\u001b[0m\u001b[1;33m\u001b[0m\u001b[1;33m\u001b[0m\u001b[0m\n\u001b[0m\u001b[0;32m    274\u001b[0m \u001b[1;33m\u001b[0m\u001b[0m\n\u001b[0;32m    275\u001b[0m     \u001b[1;32mdef\u001b[0m \u001b[0mget_next_color\u001b[0m\u001b[1;33m(\u001b[0m\u001b[0mself\u001b[0m\u001b[1;33m)\u001b[0m\u001b[1;33m:\u001b[0m\u001b[1;33m\u001b[0m\u001b[1;33m\u001b[0m\u001b[0m\n",
      "\u001b[1;32mC:\\ProgramData\\Anaconda3\\lib\\site-packages\\matplotlib\\axes\\_base.py\u001b[0m in \u001b[0;36m_plot_args\u001b[1;34m(self, tup, kwargs)\u001b[0m\n\u001b[0;32m    394\u001b[0m             \u001b[0mself\u001b[0m\u001b[1;33m.\u001b[0m\u001b[0maxes\u001b[0m\u001b[1;33m.\u001b[0m\u001b[0mxaxis\u001b[0m\u001b[1;33m.\u001b[0m\u001b[0mupdate_units\u001b[0m\u001b[1;33m(\u001b[0m\u001b[0mx\u001b[0m\u001b[1;33m)\u001b[0m\u001b[1;33m\u001b[0m\u001b[1;33m\u001b[0m\u001b[0m\n\u001b[0;32m    395\u001b[0m         \u001b[1;32mif\u001b[0m \u001b[0mself\u001b[0m\u001b[1;33m.\u001b[0m\u001b[0maxes\u001b[0m\u001b[1;33m.\u001b[0m\u001b[0myaxis\u001b[0m \u001b[1;32mis\u001b[0m \u001b[1;32mnot\u001b[0m \u001b[1;32mNone\u001b[0m\u001b[1;33m:\u001b[0m\u001b[1;33m\u001b[0m\u001b[1;33m\u001b[0m\u001b[0m\n\u001b[1;32m--> 396\u001b[1;33m             \u001b[0mself\u001b[0m\u001b[1;33m.\u001b[0m\u001b[0maxes\u001b[0m\u001b[1;33m.\u001b[0m\u001b[0myaxis\u001b[0m\u001b[1;33m.\u001b[0m\u001b[0mupdate_units\u001b[0m\u001b[1;33m(\u001b[0m\u001b[0my\u001b[0m\u001b[1;33m)\u001b[0m\u001b[1;33m\u001b[0m\u001b[1;33m\u001b[0m\u001b[0m\n\u001b[0m\u001b[0;32m    397\u001b[0m \u001b[1;33m\u001b[0m\u001b[0m\n\u001b[0;32m    398\u001b[0m         \u001b[1;32mif\u001b[0m \u001b[0mx\u001b[0m\u001b[1;33m.\u001b[0m\u001b[0mshape\u001b[0m\u001b[1;33m[\u001b[0m\u001b[1;36m0\u001b[0m\u001b[1;33m]\u001b[0m \u001b[1;33m!=\u001b[0m \u001b[0my\u001b[0m\u001b[1;33m.\u001b[0m\u001b[0mshape\u001b[0m\u001b[1;33m[\u001b[0m\u001b[1;36m0\u001b[0m\u001b[1;33m]\u001b[0m\u001b[1;33m:\u001b[0m\u001b[1;33m\u001b[0m\u001b[1;33m\u001b[0m\u001b[0m\n",
      "\u001b[1;32mC:\\ProgramData\\Anaconda3\\lib\\site-packages\\matplotlib\\axis.py\u001b[0m in \u001b[0;36mupdate_units\u001b[1;34m(self, data)\u001b[0m\n\u001b[0;32m   1464\u001b[0m         \u001b[0mneednew\u001b[0m \u001b[1;33m=\u001b[0m \u001b[0mself\u001b[0m\u001b[1;33m.\u001b[0m\u001b[0mconverter\u001b[0m \u001b[1;33m!=\u001b[0m \u001b[0mconverter\u001b[0m\u001b[1;33m\u001b[0m\u001b[1;33m\u001b[0m\u001b[0m\n\u001b[0;32m   1465\u001b[0m         \u001b[0mself\u001b[0m\u001b[1;33m.\u001b[0m\u001b[0mconverter\u001b[0m \u001b[1;33m=\u001b[0m \u001b[0mconverter\u001b[0m\u001b[1;33m\u001b[0m\u001b[1;33m\u001b[0m\u001b[0m\n\u001b[1;32m-> 1466\u001b[1;33m         \u001b[0mdefault\u001b[0m \u001b[1;33m=\u001b[0m \u001b[0mself\u001b[0m\u001b[1;33m.\u001b[0m\u001b[0mconverter\u001b[0m\u001b[1;33m.\u001b[0m\u001b[0mdefault_units\u001b[0m\u001b[1;33m(\u001b[0m\u001b[0mdata\u001b[0m\u001b[1;33m,\u001b[0m \u001b[0mself\u001b[0m\u001b[1;33m)\u001b[0m\u001b[1;33m\u001b[0m\u001b[1;33m\u001b[0m\u001b[0m\n\u001b[0m\u001b[0;32m   1467\u001b[0m         \u001b[1;32mif\u001b[0m \u001b[0mdefault\u001b[0m \u001b[1;32mis\u001b[0m \u001b[1;32mnot\u001b[0m \u001b[1;32mNone\u001b[0m \u001b[1;32mand\u001b[0m \u001b[0mself\u001b[0m\u001b[1;33m.\u001b[0m\u001b[0munits\u001b[0m \u001b[1;32mis\u001b[0m \u001b[1;32mNone\u001b[0m\u001b[1;33m:\u001b[0m\u001b[1;33m\u001b[0m\u001b[1;33m\u001b[0m\u001b[0m\n\u001b[0;32m   1468\u001b[0m             \u001b[0mself\u001b[0m\u001b[1;33m.\u001b[0m\u001b[0mset_units\u001b[0m\u001b[1;33m(\u001b[0m\u001b[0mdefault\u001b[0m\u001b[1;33m)\u001b[0m\u001b[1;33m\u001b[0m\u001b[1;33m\u001b[0m\u001b[0m\n",
      "\u001b[1;32mC:\\ProgramData\\Anaconda3\\lib\\site-packages\\matplotlib\\category.py\u001b[0m in \u001b[0;36mdefault_units\u001b[1;34m(data, axis)\u001b[0m\n\u001b[0;32m    105\u001b[0m         \u001b[1;31m# the conversion call stack is default_units -> axis_info -> convert\u001b[0m\u001b[1;33m\u001b[0m\u001b[1;33m\u001b[0m\u001b[1;33m\u001b[0m\u001b[0m\n\u001b[0;32m    106\u001b[0m         \u001b[1;32mif\u001b[0m \u001b[0maxis\u001b[0m\u001b[1;33m.\u001b[0m\u001b[0munits\u001b[0m \u001b[1;32mis\u001b[0m \u001b[1;32mNone\u001b[0m\u001b[1;33m:\u001b[0m\u001b[1;33m\u001b[0m\u001b[1;33m\u001b[0m\u001b[0m\n\u001b[1;32m--> 107\u001b[1;33m             \u001b[0maxis\u001b[0m\u001b[1;33m.\u001b[0m\u001b[0mset_units\u001b[0m\u001b[1;33m(\u001b[0m\u001b[0mUnitData\u001b[0m\u001b[1;33m(\u001b[0m\u001b[0mdata\u001b[0m\u001b[1;33m)\u001b[0m\u001b[1;33m)\u001b[0m\u001b[1;33m\u001b[0m\u001b[1;33m\u001b[0m\u001b[0m\n\u001b[0m\u001b[0;32m    108\u001b[0m         \u001b[1;32melse\u001b[0m\u001b[1;33m:\u001b[0m\u001b[1;33m\u001b[0m\u001b[1;33m\u001b[0m\u001b[0m\n\u001b[0;32m    109\u001b[0m             \u001b[0maxis\u001b[0m\u001b[1;33m.\u001b[0m\u001b[0munits\u001b[0m\u001b[1;33m.\u001b[0m\u001b[0mupdate\u001b[0m\u001b[1;33m(\u001b[0m\u001b[0mdata\u001b[0m\u001b[1;33m)\u001b[0m\u001b[1;33m\u001b[0m\u001b[1;33m\u001b[0m\u001b[0m\n",
      "\u001b[1;32mC:\\ProgramData\\Anaconda3\\lib\\site-packages\\matplotlib\\category.py\u001b[0m in \u001b[0;36m__init__\u001b[1;34m(self, data)\u001b[0m\n\u001b[0;32m    174\u001b[0m         \u001b[0mself\u001b[0m\u001b[1;33m.\u001b[0m\u001b[0m_counter\u001b[0m \u001b[1;33m=\u001b[0m \u001b[0mitertools\u001b[0m\u001b[1;33m.\u001b[0m\u001b[0mcount\u001b[0m\u001b[1;33m(\u001b[0m\u001b[1;33m)\u001b[0m\u001b[1;33m\u001b[0m\u001b[1;33m\u001b[0m\u001b[0m\n\u001b[0;32m    175\u001b[0m         \u001b[1;32mif\u001b[0m \u001b[0mdata\u001b[0m \u001b[1;32mis\u001b[0m \u001b[1;32mnot\u001b[0m \u001b[1;32mNone\u001b[0m\u001b[1;33m:\u001b[0m\u001b[1;33m\u001b[0m\u001b[1;33m\u001b[0m\u001b[0m\n\u001b[1;32m--> 176\u001b[1;33m             \u001b[0mself\u001b[0m\u001b[1;33m.\u001b[0m\u001b[0mupdate\u001b[0m\u001b[1;33m(\u001b[0m\u001b[0mdata\u001b[0m\u001b[1;33m)\u001b[0m\u001b[1;33m\u001b[0m\u001b[1;33m\u001b[0m\u001b[0m\n\u001b[0m\u001b[0;32m    177\u001b[0m \u001b[1;33m\u001b[0m\u001b[0m\n\u001b[0;32m    178\u001b[0m     \u001b[1;33m@\u001b[0m\u001b[0mstaticmethod\u001b[0m\u001b[1;33m\u001b[0m\u001b[1;33m\u001b[0m\u001b[0m\n",
      "\u001b[1;32mC:\\ProgramData\\Anaconda3\\lib\\site-packages\\matplotlib\\category.py\u001b[0m in \u001b[0;36mupdate\u001b[1;34m(self, data)\u001b[0m\n\u001b[0;32m    209\u001b[0m         \u001b[1;32mfor\u001b[0m \u001b[0mval\u001b[0m \u001b[1;32min\u001b[0m \u001b[0mOrderedDict\u001b[0m\u001b[1;33m.\u001b[0m\u001b[0mfromkeys\u001b[0m\u001b[1;33m(\u001b[0m\u001b[0mdata\u001b[0m\u001b[1;33m)\u001b[0m\u001b[1;33m:\u001b[0m\u001b[1;33m\u001b[0m\u001b[1;33m\u001b[0m\u001b[0m\n\u001b[0;32m    210\u001b[0m             \u001b[1;31m# OrderedDict just iterates over unique values in data.\u001b[0m\u001b[1;33m\u001b[0m\u001b[1;33m\u001b[0m\u001b[1;33m\u001b[0m\u001b[0m\n\u001b[1;32m--> 211\u001b[1;33m             \u001b[0mcbook\u001b[0m\u001b[1;33m.\u001b[0m\u001b[0m_check_isinstance\u001b[0m\u001b[1;33m(\u001b[0m\u001b[1;33m(\u001b[0m\u001b[0mstr\u001b[0m\u001b[1;33m,\u001b[0m \u001b[0mbytes\u001b[0m\u001b[1;33m)\u001b[0m\u001b[1;33m,\u001b[0m \u001b[0mvalue\u001b[0m\u001b[1;33m=\u001b[0m\u001b[0mval\u001b[0m\u001b[1;33m)\u001b[0m\u001b[1;33m\u001b[0m\u001b[1;33m\u001b[0m\u001b[0m\n\u001b[0m\u001b[0;32m    212\u001b[0m             \u001b[1;32mif\u001b[0m \u001b[0mconvertible\u001b[0m\u001b[1;33m:\u001b[0m\u001b[1;33m\u001b[0m\u001b[1;33m\u001b[0m\u001b[0m\n\u001b[0;32m    213\u001b[0m                 \u001b[1;31m# this will only be called so long as convertible is True.\u001b[0m\u001b[1;33m\u001b[0m\u001b[1;33m\u001b[0m\u001b[1;33m\u001b[0m\u001b[0m\n",
      "\u001b[1;32mC:\\ProgramData\\Anaconda3\\lib\\site-packages\\matplotlib\\cbook\\__init__.py\u001b[0m in \u001b[0;36m_check_isinstance\u001b[1;34m(_types, **kwargs)\u001b[0m\n\u001b[0;32m   2244\u001b[0m     \u001b[1;32mfor\u001b[0m \u001b[0mk\u001b[0m\u001b[1;33m,\u001b[0m \u001b[0mv\u001b[0m \u001b[1;32min\u001b[0m \u001b[0mkwargs\u001b[0m\u001b[1;33m.\u001b[0m\u001b[0mitems\u001b[0m\u001b[1;33m(\u001b[0m\u001b[1;33m)\u001b[0m\u001b[1;33m:\u001b[0m\u001b[1;33m\u001b[0m\u001b[1;33m\u001b[0m\u001b[0m\n\u001b[0;32m   2245\u001b[0m         \u001b[1;32mif\u001b[0m \u001b[1;32mnot\u001b[0m \u001b[0misinstance\u001b[0m\u001b[1;33m(\u001b[0m\u001b[0mv\u001b[0m\u001b[1;33m,\u001b[0m \u001b[0mtypes\u001b[0m\u001b[1;33m)\u001b[0m\u001b[1;33m:\u001b[0m\u001b[1;33m\u001b[0m\u001b[1;33m\u001b[0m\u001b[0m\n\u001b[1;32m-> 2246\u001b[1;33m             raise TypeError(\n\u001b[0m\u001b[0;32m   2247\u001b[0m                 \"{!r} must be an instance of {}, not a {}\".format(\n\u001b[0;32m   2248\u001b[0m                     \u001b[0mk\u001b[0m\u001b[1;33m,\u001b[0m\u001b[1;33m\u001b[0m\u001b[1;33m\u001b[0m\u001b[0m\n",
      "\u001b[1;31mTypeError\u001b[0m: 'value' must be an instance of str or bytes, not a float"
     ]
    },
    {
     "data": {
      "image/png": "[encoded data removed]",
      "text/plain": [
       "<Figure size 432x288 with 1 Axes>"
      ]
     },
     "metadata": {
      "needs_background": "light"
     },
     "output_type": "display_data"
    }
   ],
   "source": [
    "#test\n",
    "plt.plot( df_obj_0.woe); plt.grid()"
   ]
  },
  {
   "cell_type": "code",
   "execution_count": null,
   "id": "b4c47a4a",
   "metadata": {},
   "outputs": [],
   "source": [
    "\n",
    "path_file = 'C:\\\\Users\\\\sophia.yue\\\\Infosys\\\\Sandeep Project\\\\usb_woe.chart.xlsx'\n",
    "writer = pd.ExcelWriter(path_file)\n",
    "#sheet_name = 'woe for type = obj'\n",
    "\n",
    "s_row =0; s_col = 0\n",
    "max_col = [0, 0]\n",
    "for i in range(0, 1):\n",
    "    df_woe_obj = globals()[f'df_obj_{i}'] \n",
    "    df_woe_obj.to_excel(writer, sheet_name = sheet_name, startrow = s_row, startcol = s_col, index = False)\n",
    "    max_col, workbook, worksheet = f_adj_col_sheet(df_woe_obj, writer, sheet_name, True, max_col)\n",
    "    s_row += len(df_woe_obj) + 2 \n",
    "    chart1 =  workbook.add_chart({'type' : 'Column'})\n",
    "    chart1.add_series({'categories':'=Sheet1!$B$3:$B$9',\n",
    "                     'values' : '=Sheet1!$H$3:!$H$9',})\n",
    "    chart1.set_x_axis({'name': 'WOE'})\n",
    "    chart1.set_y_axis({'name': 'Value'})\n",
    "    chart1.set_title ({'name': 'WOE-value'})\n",
    "    worksheet.insert_chart('E9', chart1)\n",
    "    workbook.close()\n",
    "    "
   ]
  },
  {
   "cell_type": "code",
   "execution_count": null,
   "id": "f87d7000",
   "metadata": {},
   "outputs": [],
   "source": []
  },
  {
   "cell_type": "markdown",
   "id": "3e197e73",
   "metadata": {},
   "source": [
    "## Calculate WOE from cross_tab "
   ]
  },
  {
   "cell_type": "code",
   "execution_count": null,
   "id": "616fbfe3",
   "metadata": {},
   "outputs": [],
   "source": [
    "import pandas as pd\n",
    "import numpy as np\n",
    "from pandas import ExcelWriter\n",
    "from pandas import ExcelFile"
   ]
  },
  {
   "cell_type": "code",
   "execution_count": null,
   "id": "cf2cc929",
   "metadata": {},
   "outputs": [],
   "source": [
    "\n",
    "path_file = \"C:\\\\Users\\\\sophia.yue\\\\Infosys\\\\Sandeep Project\\\\wip Payment Audit Modeling 20180130 v1.xlsx\"\n",
    "df = pd.read_excel(path_file, engine = 'openpyxl', sheet_name = 'WoE_wip', index_col ='Value')\n",
    "dfx = df.copy()"
   ]
  },
  {
   "cell_type": "code",
   "execution_count": null,
   "id": "7642c677",
   "metadata": {},
   "outputs": [],
   "source": [
    "round(dfx['ivcontrib'].sum(), 4)"
   ]
  },
  {
   "cell_type": "code",
   "execution_count": null,
   "id": "61c60205",
   "metadata": {},
   "outputs": [],
   "source": [
    "df = dfx.copy()\n",
    "(inf, dfy) = inf_value( df , verb=True )"
   ]
  },
  {
   "cell_type": "code",
   "execution_count": null,
   "id": "c9c9b9dc",
   "metadata": {},
   "outputs": [],
   "source": [
    "fea"
   ]
  },
  {
   "cell_type": "code",
   "execution_count": null,
   "id": "98c6d73e",
   "metadata": {},
   "outputs": [],
   "source": [
    " (ivx, dfx) =  infValuex( df[fea],   df['target'], verb= verb, mins=( 1,1), names=('Approved','Declined') )"
   ]
  },
  {
   "cell_type": "code",
   "execution_count": null,
   "id": "2dbfab0b",
   "metadata": {
    "scrolled": true
   },
   "outputs": [],
   "source": [
    "def infValuex( x, y, labels=(0,1), names=('Neg', 'Pos'), mins=(1,1), offsets=(0,0), verb=False ):\n",
    "\n",
    "    a  = pd.crosstab( x, y ) \n",
    "    labs2keep=[g for g in a.columns if g in labels ]\n",
    "    a = a[labs2keep]\n",
    "    a.columns = names\n",
    "    \n",
    "    if sum(offsets) > 0 :\n",
    "        a = a + offsets\n",
    "    \n",
    "    #  Create column containing Column Percentages\n",
    "    pct_cols = ['Pct_'+b for b in a.columns]\n",
    "    for i in range(len(a.columns)):\n",
    "        a[pct_cols[i]]=round(a[a.columns[i]]/sum(a[a.columns[i]]), 4)\n",
    "    \n",
    "    a['use']       = np.where( np.logical_and( a[a.columns[0]] > mins[0], a[a.columns[1]] > mins[1]), 1, 0)\n",
    "    a['woe']       = round(np.where( a['use'] == 1, np.log(a[a.columns[len(names)]]/a[a.columns[len(names)+1]]), 0), 4)\n",
    "  \n",
    "    inf_val = round(sum( a['ivcontrib'] ), 4)\n",
    "    \n",
    "    if verb:\n",
    "        print('Inf. value = '+ str(inf_val) + ', '+ str(sum(a['use'])) + ' of '+str(len(a['use'])) + ' levels contributing')\n",
    "        print(a)\n",
    "        \n",
    "    return (inf_val, a)"
   ]
  },
  {
   "cell_type": "code",
   "execution_count": null,
   "id": "18f3a35c",
   "metadata": {},
   "outputs": [],
   "source": [
    "dfz = dfx.copy()\n",
    "dfz.insert(loc=0, column='feature', value = '')\n",
    "dfz"
   ]
  },
  {
   "cell_type": "code",
   "execution_count": null,
   "id": "d0aa672f",
   "metadata": {},
   "outputs": [],
   "source": [
    "df['pct_ total'] = (df.Passed + df.Failed)/(df['Passed'].sum() + df.Failed.sum() )"
   ]
  },
  {
   "cell_type": "code",
   "execution_count": null,
   "id": "1fad1506",
   "metadata": {},
   "outputs": [],
   "source": [
    "verb = True\n",
    "(ivx, dfx) =  infValue( df[fea],   df['target'], verb= verb, mins=( 1,1), names=('Approved','Declined') )\n",
    "l_sum = [df.col.sum() for col in dfx.columns ]"
   ]
  },
  {
   "cell_type": "code",
   "execution_count": null,
   "id": "a0e9bf53",
   "metadata": {},
   "outputs": [],
   "source": [
    "l_iv = []\n",
    "l_iv.append([fea, round(ivx,4)])\n",
    "#df_iv = pd.DataFrame(dic_iv)\n",
    "dfz.loc[len(dfz)] = l_iv\n",
    "dfz"
   ]
  },
  {
   "cell_type": "code",
   "execution_count": null,
   "id": "41a3b7c0",
   "metadata": {},
   "outputs": [],
   "source": [
    "l_sum"
   ]
  },
  {
   "cell_type": "code",
   "execution_count": null,
   "id": "4e18003c",
   "metadata": {},
   "outputs": [],
   "source": [
    "dfx.columns"
   ]
  },
  {
   "cell_type": "code",
   "execution_count": null,
   "id": "29952b16",
   "metadata": {},
   "outputs": [],
   "source": [
    "dic_iv = {}\n",
    "dic_iv.update({fea:round(ivx,4)})\n",
    "df_iv = pd.DataFrame(dic_iv)\n",
    "df_iv"
   ]
  },
  {
   "cell_type": "code",
   "execution_count": null,
   "id": "5eef89b9",
   "metadata": {},
   "outputs": [],
   "source": [
    "\n",
    "plt.plot( dfx.woe); plt.grid()"
   ]
  },
  {
   "cell_type": "code",
   "execution_count": null,
   "id": "79fef7fb",
   "metadata": {},
   "outputs": [],
   "source": [
    "df_iv"
   ]
  },
  {
   "cell_type": "code",
   "execution_count": null,
   "id": "d2c9e3ef",
   "metadata": {},
   "outputs": [],
   "source": [
    "\"\"\"\n",
    "1. Invoke \"infValue\" to\n",
    "   - dfx data frame for labels, oe and ivcontrib\n",
    "   - iv4: Information value (sum of ivcontrib)\n",
    "2. Create a list l_sum to sum up column value for 'Approved','Declined', 'Pct_Approved', 'Pct_Declined', and ' ivcontrib'  \n",
    "   - # not calculate 'use' and 'Woe'\n",
    "\"\"\"\n",
    "l_iv=[]\n",
    "l_col_obj = ['Other_NonBankCard']\n",
    "col_dfx = ['Approved',  'Declined',  'Pct_Approved', 'Pct_Declined'] \n",
    "draw_ind = False\n",
    "dfy = pd.DataFrame()\n",
    "verb= True\n",
    "for fea in l_col_obj:\n",
    "        (ivx, dfx) =  infValue( df[fea],   df['target'], verb= verb, mins=( 1,1), names=('Approved','Declined') )\n",
    "        \n",
    "        if draw_ind:\n",
    "           plt.plot( dfx.woe); plt.grid()\n",
    "        # get sum    \n",
    "        l_sum = ['', 'Total']\n",
    "        l_sum.extend([dfx[col].sum() for col in col_dfx ]) # sum up column value for 'Approved','Declined', 'Pct_Approved', 'Pct_Declined'\n",
    "        l_sum.extend(['', '']) # not calculate 'use' and 'Woe'\n",
    "        l_sum.append( round(dfx['ivcontrib'].sum(), 4))  # add IV\n",
    "        \n",
    "        l_fea = [fea] + [''] + ['' for x in dfx.columns]\n",
    "        columns=['feature'] + ['value'] + dfx.columns.tolist()\n",
    "        df0 = pd.DataFrame([l_fea],columns=columns)\n",
    "        \n",
    "        dfx = dfx.reset_index()\n",
    "        dfx.rename(columns={fea:'value'},inplace = True)\n",
    "        dfx.insert(loc=0, column='feature', value = '')\n",
    "        \n",
    "        dfx.loc[len(dfx)] = l_sum\n",
    "        dfy = pd.concat([dfy,  df0, dfx], axis = 0)\n",
    "        l_iv.append([fea, round(ivx, 4)]) \n",
    "df_iv = pd.DataFrame(l_iv,columns=['feature','iv'])      "
   ]
  },
  {
   "cell_type": "code",
   "execution_count": null,
   "id": "6b4d2fd9",
   "metadata": {},
   "outputs": [],
   "source": [
    "dfy"
   ]
  },
  {
   "cell_type": "code",
   "execution_count": null,
   "id": "f88993f0",
   "metadata": {},
   "outputs": [],
   "source": [
    "df.dtypes[df.dtypes == 'O'].index.tolist() "
   ]
  },
  {
   "cell_type": "code",
   "execution_count": null,
   "id": "88e4b422",
   "metadata": {},
   "outputs": [],
   "source": [
    "df.dtypes[df.dtypes != 'O'].index.tolist() "
   ]
  },
  {
   "cell_type": "code",
   "execution_count": null,
   "id": "1d30f384",
   "metadata": {},
   "outputs": [],
   "source": [
    "def crx_woe_iv(df, l_col, pr_typ, verb = False,  draw_ind = False):\n",
    "    \"\"\"\n",
    "    module name : cr_woe_iv\n",
    "    Purpose: \n",
    "    1. Invoke \"infValue/infValueEquibin\" to create\n",
    "       - dfx: A data frame for feature values, woe and ivcontrib\n",
    "       - ivx: Information value (sum of ivcontrib)\n",
    "    2. Create a list l_sum to sum up column value for 'Approved','Declined', 'Pct_Approved', 'Pct_Declined', and ' ivcontrib'  \n",
    "       - Not calculate the sum for 'use' and 'Woe'\n",
    "    Parameters\n",
    "      input: \n",
    "        df: data frame to calculate woe and iv\n",
    "        l_col: list of columns to calculate woe and iv\n",
    "        pr_tpy: Process type \n",
    "          obj: Process woe and iv for object features\n",
    "          num: Process woe and iv for numeric features \n",
    "        verb: Indicator to verbose\n",
    "        draw_ind: Indicator to draw the plot for woe\n",
    "      output:\n",
    "        dfy: data frame to capture value counts of 'Apprroved', counts of 'Declined', 'Pct_Approved', 'Pct_Declined', and ' ivcontrib'  \n",
    "        dfz: data frame to capture  feature name of iv\n",
    "    \"\"\"\n",
    "    l_iv=[]\n",
    "    col_dfx = ['Approved',  'Declined',  'Pct_Approved', 'Pct_Declined'] \n",
    "\n",
    "    dfy = pd.DataFrame()\n",
    "    for fea in l_col:\n",
    "            print(f'fea, {fea}')\n",
    "            if pr_typ == 'obj':\n",
    "               (ivx, dfx) =  infValue( df[fea],   df['target'], verb= verb, mins=( 1,1), names=('Approved','Declined') )\n",
    "            else:\n",
    "               infValueEquibin( df[fea], df['target'], n=7, verb= verb, mins=(1,1), names=('Approved','Declined') )\n",
    "            \n",
    "            if draw_ind:\n",
    "               plt.plot( dfx.woe); plt.grid()\n",
    "            # get sum    \n",
    "            l_sum = ['', 'Total']\n",
    "            l_sum.extend([dfx[col].sum() for col in col_dfx ]) # sum up column value for 'Approved','Declined', 'Pct_Approved', 'Pct_Declined'\n",
    "            l_sum.extend(['', '']) # not calculate 'use' and 'Woe'\n",
    "            l_sum.append( round(dfx['ivcontrib'].sum(), 4))  # add IV\n",
    "            l_sum\n",
    "            l_fea = [fea] + [''] + ['' for x in dfx.columns]\n",
    "            columns=['feature'] + ['value'] + dfx.columns.tolist()\n",
    "            df0 = pd.DataFrame([l_fea],columns=columns)\n",
    "            print(f'df0')\n",
    "            dfx = dfx.reset_index()\n",
    "            dfx.rename(columns={fea:'value'},inplace = True)\n",
    "            dfx.insert(loc=0, column='feature', value = '')\n",
    "            print(f'dfx')\n",
    "            dfx.loc[len(dfx)] = l_sum\n",
    "            dfy = pd.concat([dfy,  df0, dfx], axis = 0)\n",
    "            print(f'dfy')\n",
    "            l_iv.append([fea, round(ivx, 4)]) \n",
    "            print(f'dfz l_iv {l_iv}')\n",
    "    df_iv = pd.DataFrame(l_iv,columns=['feature','iv']) \n",
    "    return df_iv, dfy"
   ]
  },
  {
   "cell_type": "code",
   "execution_count": null,
   "id": "850d437e",
   "metadata": {},
   "outputs": [],
   "source": [
    "\n",
    "df_iv_num, df_owe_num = cr_woe_iv(df, l_col_num,pr_typ = 'num', verb = True, draw_ind = True)"
   ]
  },
  {
   "cell_type": "code",
   "execution_count": null,
   "id": "401eeb19",
   "metadata": {},
   "outputs": [],
   "source": [
    "df_new = df[(df.Channel == np.NaN)]\n",
    "df_new.shape"
   ]
  },
  {
   "cell_type": "code",
   "execution_count": null,
   "id": "59f9560d",
   "metadata": {},
   "outputs": [],
   "source": [
    "\n",
    "(ivx, dfx) =  infValue( df[fea],   df['target'], verb= verb, mins=( 1,1), names=('Approved','Declined') )\n",
    "  "
   ]
  },
  {
   "cell_type": "code",
   "execution_count": null,
   "id": "430419e8",
   "metadata": {},
   "outputs": [],
   "source": [
    "type(max_col)\n"
   ]
  },
  {
   "cell_type": "code",
   "execution_count": null,
   "id": "8405bb06",
   "metadata": {},
   "outputs": [],
   "source": [
    "SLA    Saervice Level Agreement\n",
    "SOW    Statement of Work\n",
    "DAQC   Data Analytics Quality Control\n",
    "ECMO   Enterprise Complaint Management Office\n",
    "LBP    Look Back period\n",
    "CRGC   Customer Remediation Governance Committee\n",
    "CRCD   Customer Remediation Customer Database\n",
    "ADCON  Address Confidentiality\n",
    "CRCOE  Customer Remediation Center of Excellence"
   ]
  }
 ],
 "metadata": {
  "kernelspec": {
   "display_name": "Python 3 (ipykernel)",
   "language": "python",
   "name": "python3"
  },
  "language_info": {
   "codemirror_mode": {
    "name": "ipython",
    "version": 3
   },
   "file_extension": ".py",
   "mimetype": "text/x-python",
   "name": "python",
   "nbconvert_exporter": "python",
   "pygments_lexer": "ipython3",
   "version": "3.10.9"
  }
 },
 "nbformat": 4,
 "nbformat_minor": 5
}
