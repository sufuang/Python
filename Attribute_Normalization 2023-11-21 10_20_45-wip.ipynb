{
 "cells": [
  {
   "cell_type": "code",
   "execution_count": 1,
   "metadata": {
    "application/vnd.databricks.v1+cell": {
     "cellMetadata": {
      "byteLimit": 2048000,
      "rowLimit": 10000
     },
     "inputWidgets": {},
     "nuid": "316f1085-8c1a-4dc3-bc62-554924785c01",
     "showTitle": false,
     "title": ""
    }
   },
   "outputs": [],
   "source": [
    "import pandas as pd, numpy as np\n",
    "import datetime as dt"
   ]
  },
  {
   "cell_type": "code",
   "execution_count": 2,
   "metadata": {},
   "outputs": [],
   "source": [
    "path = 'C:\\\\users\\\\iny2819\\\\Kroger\\\\Data\\\\' \n",
    "path_atb = path + 'ATB\\\\'"
   ]
  },
  {
   "cell_type": "code",
   "execution_count": 5,
   "metadata": {
    "application/vnd.databricks.v1+cell": {
     "cellMetadata": {
      "byteLimit": 2048000,
      "rowLimit": 10000
     },
     "inputWidgets": {},
     "nuid": "8795d4ea-cb48-4fb3-9d27-b9a1cf74e050",
     "showTitle": false,
     "title": ""
    }
   },
   "outputs": [],
   "source": [
    "### Load original attribute labelled with Fuzzy Match (Un-normalized), multiple attributes need to be delimited\n",
    "attr_path = '/dbfs/FileStore/tables/DATA_SCIENCE/COLOR/'\n",
    "attr_path = path_atb\n",
    "#attributed_df = pd.read_csv(attr_path + 'COLOR_HOUSEWARES_DPT.csv')\n",
    "attributed_df = pd.read_excel(attr_path + 'COLOR_WAREHOUSE_DPT_112123.xlsx')\n",
    "\n",
    "attrib_field = 'EXTRACTED_COLOR'\n",
    "delim = '|'\n",
    "attributed_df = attributed_df[attributed_df[attrib_field] != 'OTHER']"
   ]
  },
  {
   "cell_type": "code",
   "execution_count": 6,
   "metadata": {
    "application/vnd.databricks.v1+cell": {
     "cellMetadata": {
      "byteLimit": 2048000,
      "rowLimit": 10000
     },
     "inputWidgets": {},
     "nuid": "54cf4e87-204e-43f8-b20d-2bd42ae8e4b0",
     "showTitle": false,
     "title": ""
    }
   },
   "outputs": [],
   "source": [
    "single_attributes = pd.Series(attributed_df[attrib_field].apply(lambda x: x.split(delim)).sum()) # Series;  (746436,)"
   ]
  },
  {
   "cell_type": "code",
   "execution_count": 13,
   "metadata": {},
   "outputs": [
    {
     "data": {
      "text/plain": [
       "100                     31417\n",
       "BLUE                    19375\n",
       "Blue                    19085\n",
       "WHITE                   17511\n",
       "BLACK                   16853\n",
       "                        ...  \n",
       "WINE O CLOCK                1\n",
       "APPLE BUTTER                1\n",
       "ANTIQUE BLUE                1\n",
       "Apple Butter                1\n",
       "TO THE MOON AND BACK        1\n",
       "Length: 1899, dtype: int64"
      ]
     },
     "execution_count": 13,
     "metadata": {},
     "output_type": "execute_result"
    }
   ],
   "source": [
    "single_attributes.value_counts()"
   ]
  },
  {
   "cell_type": "code",
   "execution_count": 14,
   "metadata": {
    "application/vnd.databricks.v1+cell": {
     "cellMetadata": {
      "byteLimit": 2048000,
      "rowLimit": 10000
     },
     "inputWidgets": {},
     "nuid": "be005f62-8332-451c-b83f-7a2249dde414",
     "showTitle": false,
     "title": ""
    }
   },
   "outputs": [
    {
     "data": {
      "text/plain": [
       "100                       4.208934\n",
       "BLUE                      6.804602\n",
       "Blue                      9.361419\n",
       "WHITE                    11.707367\n",
       "BLACK                    13.965162\n",
       "                           ...    \n",
       "WINE O CLOCK             99.999464\n",
       "APPLE BUTTER             99.999598\n",
       "ANTIQUE BLUE             99.999732\n",
       "Apple Butter             99.999866\n",
       "TO THE MOON AND BACK    100.000000\n",
       "Length: 1899, dtype: float64"
      ]
     },
     "execution_count": 14,
     "metadata": {},
     "output_type": "execute_result"
    }
   ],
   "source": [
    "100*single_attributes.value_counts().cumsum()/len(single_attributes)"
   ]
  },
  {
   "cell_type": "code",
   "execution_count": 15,
   "metadata": {
    "application/vnd.databricks.v1+cell": {
     "cellMetadata": {
      "byteLimit": 2048000,
      "rowLimit": 10000
     },
     "inputWidgets": {},
     "nuid": "fba0c2fc-abfe-4deb-9a55-028392561189",
     "showTitle": false,
     "title": ""
    }
   },
   "outputs": [],
   "source": [
    "### Cumulative Percent Prevalence of Single Attributes ranked from top\n",
    "attrib_cum_counts = pd.DataFrame(100* single_attributes.value_counts().cumsum()/len(single_attributes), columns = ['PERCENT_CUMULATIVE_COUNT'])\n",
    "cutoff = 100 # Select top attributes that add upto this percentage of all non-other attributed items)\n",
    "attrib_cum_counts[attrib_cum_counts.PERCENT_CUMULATIVE_COUNT <= cutoff][:100]\\\n",
    "    .reset_index(drop = False).rename(columns = {'index':attrib_field}).to_csv(attr_path+'Normalized_COLOR_HOUSEWARES_Top100.csv', index =None)"
   ]
  },
  {
   "cell_type": "code",
   "execution_count": 26,
   "metadata": {
    "application/vnd.databricks.v1+cell": {
     "cellMetadata": {
      "byteLimit": 2048000,
      "rowLimit": 10000
     },
     "inputWidgets": {},
     "nuid": "d9b64fe0-4b0b-454e-b966-0ff6325a6125",
     "showTitle": false,
     "title": ""
    }
   },
   "outputs": [],
   "source": [
    "### Incorporating PO Feedback\n",
    "normalized_list = list(attrib_cum_counts.index[:100])\n",
    "discard = ['DEEP','FISH','BUTTERFLY','SCOOP','LIGHT','UNICORN','OWL','MIRROR MIRROR','ALPHABET','UNIVERSAL','HAPPY BIRTHDAY','LOVELY']\n",
    "normalized_list = [ i for i in normalized_list if i not in discard] + ['OTHER']\n",
    "rename = {'ASSORTED':'MULTI COLOR'}\n",
    "normalized_list += rename.values()\n",
    "\n",
    "def normalize_colors(attr_string, normalized_list = normalized_list ,delim = '|', rename = rename):\n",
    "    attr_list = attr_string.split(delim)\n",
    "    attr_list = [rename[i] if i in rename.keys() else i for i in attr_list]\n",
    "    attr_list = [i for i in attr_list if i in normalized_list]\n",
    "    if len(attr_list) > 0:\n",
    "        return (delim).join(attr_list)\n",
    "    else: return 'OTHER'\n",
    "\n"
   ]
  },
  {
   "cell_type": "code",
   "execution_count": 28,
   "metadata": {
    "application/vnd.databricks.v1+cell": {
     "cellMetadata": {
      "byteLimit": 2048000,
      "rowLimit": 10000
     },
     "inputWidgets": {},
     "nuid": "9b72a0fc-481c-47a5-890b-90e838b51647",
     "showTitle": false,
     "title": ""
    }
   },
   "outputs": [
    {
     "ename": "TypeError",
     "evalue": "can only concatenate str (not \"tuple\") to str",
     "output_type": "error",
     "traceback": [
      "\u001b[1;31m---------------------------------------------------------------------------\u001b[0m",
      "\u001b[1;31mTypeError\u001b[0m                                 Traceback (most recent call last)",
      "Cell \u001b[1;32mIn[28], line 5\u001b[0m\n\u001b[0;32m      3\u001b[0m display_cols \u001b[38;5;241m=\u001b[39m [\u001b[38;5;124m'\u001b[39m\u001b[38;5;124mGTIN_NO\u001b[39m\u001b[38;5;124m'\u001b[39m,\u001b[38;5;124m'\u001b[39m\u001b[38;5;124mCOM_DSC\u001b[39m\u001b[38;5;124m'\u001b[39m,\u001b[38;5;124m'\u001b[39m\u001b[38;5;124mSUBCOM_DSC\u001b[39m\u001b[38;5;124m'\u001b[39m,\u001b[38;5;124m'\u001b[39m\u001b[38;5;124mVND_ECOM_DSC\u001b[39m\u001b[38;5;124m'\u001b[39m,\u001b[38;5;124m'\u001b[39m\u001b[38;5;124mEXTRACTED_COLOR\u001b[39m\u001b[38;5;124m'\u001b[39m,\u001b[38;5;124m'\u001b[39m\u001b[38;5;124mNORMALIZED_COLOR\u001b[39m\u001b[38;5;124m'\u001b[39m]\n\u001b[0;32m      4\u001b[0m today \u001b[38;5;241m=\u001b[39m dt\u001b[38;5;241m.\u001b[39mdatetime\u001b[38;5;241m.\u001b[39mtoday()\u001b[38;5;241m.\u001b[39mstrftime(\u001b[38;5;124m\"\u001b[39m\u001b[38;5;124m%\u001b[39m\u001b[38;5;124mm\u001b[39m\u001b[38;5;132;01m%d\u001b[39;00m\u001b[38;5;124m%\u001b[39m\u001b[38;5;124mY\u001b[39m\u001b[38;5;124m\"\u001b[39m), \n\u001b[1;32m----> 5\u001b[0m attributed_df[display_cols]\u001b[38;5;241m.\u001b[39mto_csv(\u001b[43mattr_path\u001b[49m\u001b[43m \u001b[49m\u001b[38;5;241;43m+\u001b[39;49m\u001b[38;5;124;43m'\u001b[39;49m\u001b[38;5;124;43mCOLOR_NORMALIZED_HOUSEWARES_\u001b[39;49m\u001b[38;5;124;43m'\u001b[39;49m\u001b[38;5;241;43m+\u001b[39;49m\u001b[43mtoday\u001b[49m\u001b[38;5;241m+\u001b[39m\u001b[38;5;124m'\u001b[39m\u001b[38;5;124m.csv\u001b[39m\u001b[38;5;124m'\u001b[39m, index \u001b[38;5;241m=\u001b[39m \u001b[38;5;28;01mNone\u001b[39;00m)\n",
      "\u001b[1;31mTypeError\u001b[0m: can only concatenate str (not \"tuple\") to str"
     ]
    }
   ],
   "source": [
    "### Write normalized attributes in colon-separated format\n",
    "attributed_df['NORMALIZED_COLOR'] = attributed_df.EXTRACTED_COLOR.apply(lambda x: ':'.join(normalize_colors(x).split('|')))\n",
    "display_cols = ['GTIN_NO','COM_DSC','SUBCOM_DSC','VND_ECOM_DSC','EXTRACTED_COLOR','NORMALIZED_COLOR']\n",
    "today = dt.datetime.today().strftime(\"%m%d%Y\"), \n",
    "attributed_df[display_cols].to_csv(attr_path +'COLOR_NORMALIZED_HOUSEWARES_'+today+'.csv', index = None)"
   ]
  },
  {
   "cell_type": "code",
   "execution_count": 29,
   "metadata": {},
   "outputs": [],
   "source": [
    "### Write normalized attributes in colon-separated format\n",
    "attributed_df['NORMALIZED_COLOR'] = attributed_df.EXTRACTED_COLOR.apply(lambda x: ':'.join(normalize_colors(x).split('|')))\n",
    "display_cols = ['GTIN_NO','COM_DSC','SUBCOM_DSC','VND_ECOM_DSC','NORMALIZED_COLOR']\n",
    "today = dt.datetime.today().strftime(\"%m%d%Y\")\n",
    "attributed_df[display_cols].to_csv(attr_path +'COLOR_NORMALIZED_HOUSEWARES_'+today+'.csv', index = None)"
   ]
  },
  {
   "cell_type": "code",
   "execution_count": 18,
   "metadata": {
    "application/vnd.databricks.v1+cell": {
     "cellMetadata": {},
     "inputWidgets": {},
     "nuid": "139f0293-5e06-4907-9bff-5001c7b0a3eb",
     "showTitle": false,
     "title": ""
    }
   },
   "outputs": [
    {
     "data": {
      "text/html": [
       "<div>\n",
       "<style scoped>\n",
       "    .dataframe tbody tr th:only-of-type {\n",
       "        vertical-align: middle;\n",
       "    }\n",
       "\n",
       "    .dataframe tbody tr th {\n",
       "        vertical-align: top;\n",
       "    }\n",
       "\n",
       "    .dataframe thead th {\n",
       "        text-align: right;\n",
       "    }\n",
       "</style>\n",
       "<table border=\"1\" class=\"dataframe\">\n",
       "  <thead>\n",
       "    <tr style=\"text-align: right;\">\n",
       "      <th></th>\n",
       "      <th>PERCENT_CUMULATIVE_COUNT</th>\n",
       "    </tr>\n",
       "  </thead>\n",
       "  <tbody>\n",
       "    <tr>\n",
       "      <th>WINE O CLOCK</th>\n",
       "      <td>99.999464</td>\n",
       "    </tr>\n",
       "    <tr>\n",
       "      <th>APPLE BUTTER</th>\n",
       "      <td>99.999598</td>\n",
       "    </tr>\n",
       "    <tr>\n",
       "      <th>ANTIQUE BLUE</th>\n",
       "      <td>99.999732</td>\n",
       "    </tr>\n",
       "    <tr>\n",
       "      <th>Apple Butter</th>\n",
       "      <td>99.999866</td>\n",
       "    </tr>\n",
       "    <tr>\n",
       "      <th>TO THE MOON AND BACK</th>\n",
       "      <td>100.000000</td>\n",
       "    </tr>\n",
       "  </tbody>\n",
       "</table>\n",
       "</div>"
      ],
      "text/plain": [
       "                      PERCENT_CUMULATIVE_COUNT\n",
       "WINE O CLOCK                         99.999464\n",
       "APPLE BUTTER                         99.999598\n",
       "ANTIQUE BLUE                         99.999732\n",
       "Apple Butter                         99.999866\n",
       "TO THE MOON AND BACK                100.000000"
      ]
     },
     "execution_count": 18,
     "metadata": {},
     "output_type": "execute_result"
    }
   ],
   "source": [
    "attrib_cum_counts.tail()"
   ]
  },
  {
   "cell_type": "code",
   "execution_count": 19,
   "metadata": {},
   "outputs": [
    {
     "data": {
      "text/plain": [
       "(1899, 1)"
      ]
     },
     "execution_count": 19,
     "metadata": {},
     "output_type": "execute_result"
    }
   ],
   "source": [
    "attrib_cum_counts.shape"
   ]
  },
  {
   "cell_type": "code",
   "execution_count": null,
   "metadata": {},
   "outputs": [],
   "source": [
    " list(attrib_cum_counts.index[:100])"
   ]
  },
  {
   "cell_type": "code",
   "execution_count": 22,
   "metadata": {},
   "outputs": [
    {
     "data": {
      "text/plain": [
       "dict_values(['MULTI COLOR'])"
      ]
     },
     "execution_count": 22,
     "metadata": {},
     "output_type": "execute_result"
    }
   ],
   "source": [
    "rename = {'ASSORTED':'MULTI COLOR'}\n",
    "rename.values()"
   ]
  },
  {
   "cell_type": "code",
   "execution_count": 23,
   "metadata": {},
   "outputs": [
    {
     "data": {
      "text/plain": [
       "['100',\n",
       " 'BLUE',\n",
       " 'Blue',\n",
       " 'WHITE',\n",
       " 'BLACK',\n",
       " 'White',\n",
       " 'white',\n",
       " 'glass',\n",
       " 'blue',\n",
       " 'Black',\n",
       " 'Glass',\n",
       " 'black',\n",
       " 'wine',\n",
       " 'RED',\n",
       " 'Red',\n",
       " 'WINE',\n",
       " 'Stainless Steel',\n",
       " 'red',\n",
       " 'Wine',\n",
       " 'STAINLESS STEEL',\n",
       " 'green',\n",
       " 'GREEN',\n",
       " 'ROSE',\n",
       " 'Green',\n",
       " 'COFFEE',\n",
       " 'stainless steel',\n",
       " 'Coffee',\n",
       " 'PINK',\n",
       " 'Pink',\n",
       " 'STEEL',\n",
       " 'GOLD',\n",
       " 'pink',\n",
       " 'STAINLESS',\n",
       " 'Gold',\n",
       " 'WOOD',\n",
       " 'Design',\n",
       " 'Tray',\n",
       " 'wood',\n",
       " 'SILVER',\n",
       " 'GRAY',\n",
       " 'Love',\n",
       " 'FLORAL',\n",
       " 'DESIGN',\n",
       " 'CLEAR',\n",
       " 'Silver',\n",
       " 'GREY',\n",
       " 'Gray',\n",
       " 'LOVE',\n",
       " 'gold',\n",
       " 'grey',\n",
       " 'Clear',\n",
       " 'Rose',\n",
       " 'clear',\n",
       " 'Grey',\n",
       " 'gray',\n",
       " 'BROWN',\n",
       " 'Wood',\n",
       " 'ORANGE',\n",
       " 'brown',\n",
       " 'Orange',\n",
       " 'Bamboo',\n",
       " 'bamboo',\n",
       " 'YELLOW',\n",
       " 'PURPLE',\n",
       " 'TEAL',\n",
       " 'solid',\n",
       " 'silver',\n",
       " 'HYDRO',\n",
       " 'IRON',\n",
       " 'BAMBOO',\n",
       " 'Purple',\n",
       " 'Teal',\n",
       " 'NATURAL',\n",
       " 'Stripe',\n",
       " 'Yellow',\n",
       " 'Plaid',\n",
       " 'Ice',\n",
       " 'Brown',\n",
       " 'Natural',\n",
       " 'CLASSIC',\n",
       " 'CARBON',\n",
       " 'plaid',\n",
       " 'PRINT',\n",
       " 'GARDEN',\n",
       " 'TEA',\n",
       " 'yellow',\n",
       " '0',\n",
       " 'MERRY CHRISTMAS',\n",
       " 'Carbon',\n",
       " 'CANDY',\n",
       " 'MEDIUM',\n",
       " 'ALUMINUM',\n",
       " 'LINEN',\n",
       " 'Medium',\n",
       " 'orange',\n",
       " 'Metal',\n",
       " 'Steel',\n",
       " 'OR',\n",
       " 'ENGLISH',\n",
       " 'purple',\n",
       " 'OTHER',\n",
       " 'MULTI COLOR']"
      ]
     },
     "execution_count": 23,
     "metadata": {},
     "output_type": "execute_result"
    }
   ],
   "source": [
    "normalized_list = list(attrib_cum_counts.index[:100])\n",
    "discard = ['DEEP','FISH','BUTTERFLY','SCOOP','LIGHT','UNICORN','OWL','MIRROR MIRROR','ALPHABET','UNIVERSAL','HAPPY BIRTHDAY','LOVELY']\n",
    "normalized_list = [ i for i in normalized_list if i not in discard] + ['OTHER']\n",
    "rename = {'ASSORTED':'MULTI COLOR'}\n",
    "normalized_list += rename.values()\n",
    "normalized_list"
   ]
  },
  {
   "cell_type": "code",
   "execution_count": 30,
   "metadata": {},
   "outputs": [
    {
     "data": {
      "text/plain": [
       "Index(['GTIN_NO', 'PMY_DPT_DSC', 'REC_DPT_DSC', 'DPT_DSC', 'COM_DSC',\n",
       "       'SUBCOM_DSC', 'VND_ECOM_DSC', 'ITM_LVL_DSC', 'COLOR_CURRENT',\n",
       "       'EXTRACTED_COLOR', 'NORMALIZED_COLOR'],\n",
       "      dtype='object')"
      ]
     },
     "execution_count": 30,
     "metadata": {},
     "output_type": "execute_result"
    }
   ],
   "source": [
    "attributed_df.columns"
   ]
  },
  {
   "cell_type": "code",
   "execution_count": 31,
   "metadata": {},
   "outputs": [],
   "source": [
    "### Write normalized attributes in colon-separated format\n",
    "attributed_df['NORMALIZED_COLOR'] = attributed_df.EXTRACTED_COLOR.apply(lambda x: ':'.join(normalize_colors(x).split('|')))\n",
    "display_cols = ['GTIN_NO','COM_DSC','SUBCOM_DSC','VND_ECOM_DSC','EXTRACTED_COLOR','NORMALIZED_COLOR']\n",
    "today = dt.datetime.today().strftime(\"%m%d%Y\")\n",
    "attributed_df[display_cols].to_csv(attr_path +'COLOR_NORMALIZED_HOUSEWARES_'+today+'.csv', index = None)"
   ]
  },
  {
   "cell_type": "code",
   "execution_count": null,
   "metadata": {},
   "outputs": [],
   "source": []
  }
 ],
 "metadata": {
  "application/vnd.databricks.v1+notebook": {
   "dashboards": [],
   "language": "python",
   "notebookMetadata": {
    "pythonIndentUnit": 4
   },
   "notebookName": "Attribute_Normalization 2023-11-21 10:20:45",
   "widgets": {}
  },
  "kernelspec": {
   "display_name": "Python 3 (ipykernel)",
   "language": "python",
   "name": "python3"
  },
  "language_info": {
   "codemirror_mode": {
    "name": "ipython",
    "version": 3
   },
   "file_extension": ".py",
   "mimetype": "text/x-python",
   "name": "python",
   "nbconvert_exporter": "python",
   "pygments_lexer": "ipython3",
   "version": "3.10.9"
  }
 },
 "nbformat": 4,
 "nbformat_minor": 1
}
