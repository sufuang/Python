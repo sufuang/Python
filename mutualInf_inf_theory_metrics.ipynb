{
 "cells": [
  {
   "cell_type": "code",
   "execution_count": 2,
   "id": "c77279a9",
   "metadata": {},
   "outputs": [],
   "source": [
    "import pprint\n",
    "import matplotlib.pyplot as plt\n",
    "\n",
    "import pandas as pd\n",
    "import numpy as np"
   ]
  },
  {
   "cell_type": "code",
   "execution_count": 3,
   "id": "ac47f229",
   "metadata": {},
   "outputs": [
    {
     "name": "stdout",
     "output_type": "stream",
     "text": [
      "<class 'pandas.core.frame.DataFrame'>\n",
      "RangeIndex: 45211 entries, 0 to 45210\n",
      "Data columns (total 17 columns):\n",
      " #   Column     Non-Null Count  Dtype \n",
      "---  ------     --------------  ----- \n",
      " 0   age        45211 non-null  int64 \n",
      " 1   job        45211 non-null  object\n",
      " 2   marital    45211 non-null  object\n",
      " 3   education  45211 non-null  object\n",
      " 4   default    45211 non-null  object\n",
      " 5   balance    45211 non-null  int64 \n",
      " 6   housing    45211 non-null  object\n",
      " 7   loan       45211 non-null  object\n",
      " 8   contact    45211 non-null  object\n",
      " 9   day        45211 non-null  int64 \n",
      " 10  month      45211 non-null  object\n",
      " 11  duration   45211 non-null  int64 \n",
      " 12  campaign   45211 non-null  int64 \n",
      " 13  pdays      45211 non-null  int64 \n",
      " 14  previous   45211 non-null  int64 \n",
      " 15  poutcome   45211 non-null  object\n",
      " 16  y          45211 non-null  object\n",
      "dtypes: int64(7), object(10)\n",
      "memory usage: 5.9+ MB\n"
     ]
    },
    {
     "data": {
      "text/plain": [
       "0    39922\n",
       "1     5289\n",
       "Name: target, dtype: int64"
      ]
     },
     "execution_count": 3,
     "metadata": {},
     "output_type": "execute_result"
    }
   ],
   "source": [
    "pd.set_option( 'display.max_columns', 10 )\n",
    "pd.set_option('precision', 6)\n",
    "pd.set_option('max_colwidth', 20)\n",
    "pd.set_option('display.width', 120)\n",
    "\n",
    "path = 'C:\\\\Users\\\\sophia.yue\\\\Infosys\\Data\\\\'\n",
    "df = pd.read_csv(path + 'bank-full.csv', sep=';')\n",
    "df.head()\n",
    "df.shape\n",
    "df.describe()\n",
    "df.info()\n",
    "#  Examine target values and map to 0 and 1\n",
    "df.y.value_counts()             \n",
    "targ_dict = {'no': 0, 'yes':1 }\n",
    "df['target'] = [targ_dict[yy] for yy in df.y]\n",
    "df.target.value_counts()    "
   ]
  },
  {
   "cell_type": "code",
   "execution_count": 3,
   "id": "169ac7ed",
   "metadata": {},
   "outputs": [
    {
     "data": {
      "text/plain": [
       "job          object\n",
       "marital      object\n",
       "education    object\n",
       "default      object\n",
       "housing      object\n",
       "loan         object\n",
       "contact      object\n",
       "month        object\n",
       "poutcome     object\n",
       "y            object\n",
       "dtype: object"
      ]
     },
     "execution_count": 3,
     "metadata": {},
     "output_type": "execute_result"
    }
   ],
   "source": [
    "df.dtypes[df.dtypes == 'O']"
   ]
  },
  {
   "cell_type": "code",
   "execution_count": 4,
   "id": "02206d33",
   "metadata": {},
   "outputs": [
    {
     "data": {
      "text/plain": [
       "age         int64\n",
       "balance     int64\n",
       "day         int64\n",
       "duration    int64\n",
       "campaign    int64\n",
       "pdays       int64\n",
       "previous    int64\n",
       "target      int64\n",
       "dtype: object"
      ]
     },
     "execution_count": 4,
     "metadata": {},
     "output_type": "execute_result"
    }
   ],
   "source": [
    "df.dtypes[df.dtypes != 'O']"
   ]
  },
  {
   "cell_type": "code",
   "execution_count": 5,
   "id": "104e73ac",
   "metadata": {
    "scrolled": true
   },
   "outputs": [
    {
     "data": {
      "text/html": [
       "<div>\n",
       "<style scoped>\n",
       "    .dataframe tbody tr th:only-of-type {\n",
       "        vertical-align: middle;\n",
       "    }\n",
       "\n",
       "    .dataframe tbody tr th {\n",
       "        vertical-align: top;\n",
       "    }\n",
       "\n",
       "    .dataframe thead th {\n",
       "        text-align: right;\n",
       "    }\n",
       "</style>\n",
       "<table border=\"1\" class=\"dataframe\">\n",
       "  <thead>\n",
       "    <tr style=\"text-align: right;\">\n",
       "      <th></th>\n",
       "      <th>age</th>\n",
       "      <th>job</th>\n",
       "      <th>marital</th>\n",
       "      <th>education</th>\n",
       "      <th>default</th>\n",
       "      <th>...</th>\n",
       "      <th>pdays</th>\n",
       "      <th>previous</th>\n",
       "      <th>poutcome</th>\n",
       "      <th>y</th>\n",
       "      <th>target</th>\n",
       "    </tr>\n",
       "  </thead>\n",
       "  <tbody>\n",
       "    <tr>\n",
       "      <th>0</th>\n",
       "      <td>58</td>\n",
       "      <td>management</td>\n",
       "      <td>married</td>\n",
       "      <td>tertiary</td>\n",
       "      <td>no</td>\n",
       "      <td>...</td>\n",
       "      <td>-1</td>\n",
       "      <td>0</td>\n",
       "      <td>unknown</td>\n",
       "      <td>no</td>\n",
       "      <td>0</td>\n",
       "    </tr>\n",
       "    <tr>\n",
       "      <th>1</th>\n",
       "      <td>44</td>\n",
       "      <td>technician</td>\n",
       "      <td>single</td>\n",
       "      <td>secondary</td>\n",
       "      <td>no</td>\n",
       "      <td>...</td>\n",
       "      <td>-1</td>\n",
       "      <td>0</td>\n",
       "      <td>unknown</td>\n",
       "      <td>no</td>\n",
       "      <td>0</td>\n",
       "    </tr>\n",
       "    <tr>\n",
       "      <th>2</th>\n",
       "      <td>33</td>\n",
       "      <td>entrepreneur</td>\n",
       "      <td>married</td>\n",
       "      <td>secondary</td>\n",
       "      <td>no</td>\n",
       "      <td>...</td>\n",
       "      <td>-1</td>\n",
       "      <td>0</td>\n",
       "      <td>unknown</td>\n",
       "      <td>no</td>\n",
       "      <td>0</td>\n",
       "    </tr>\n",
       "    <tr>\n",
       "      <th>3</th>\n",
       "      <td>47</td>\n",
       "      <td>blue-collar</td>\n",
       "      <td>married</td>\n",
       "      <td>unknown</td>\n",
       "      <td>no</td>\n",
       "      <td>...</td>\n",
       "      <td>-1</td>\n",
       "      <td>0</td>\n",
       "      <td>unknown</td>\n",
       "      <td>no</td>\n",
       "      <td>0</td>\n",
       "    </tr>\n",
       "    <tr>\n",
       "      <th>4</th>\n",
       "      <td>33</td>\n",
       "      <td>unknown</td>\n",
       "      <td>single</td>\n",
       "      <td>unknown</td>\n",
       "      <td>no</td>\n",
       "      <td>...</td>\n",
       "      <td>-1</td>\n",
       "      <td>0</td>\n",
       "      <td>unknown</td>\n",
       "      <td>no</td>\n",
       "      <td>0</td>\n",
       "    </tr>\n",
       "  </tbody>\n",
       "</table>\n",
       "<p>5 rows × 18 columns</p>\n",
       "</div>"
      ],
      "text/plain": [
       "   age           job  marital  education default  ...  pdays previous poutcome   y  target\n",
       "0   58    management  married   tertiary      no  ...     -1        0  unknown  no       0\n",
       "1   44    technician   single  secondary      no  ...     -1        0  unknown  no       0\n",
       "2   33  entrepreneur  married  secondary      no  ...     -1        0  unknown  no       0\n",
       "3   47   blue-collar  married    unknown      no  ...     -1        0  unknown  no       0\n",
       "4   33       unknown   single    unknown      no  ...     -1        0  unknown  no       0\n",
       "\n",
       "[5 rows x 18 columns]"
      ]
     },
     "execution_count": 5,
     "metadata": {},
     "output_type": "execute_result"
    }
   ],
   "source": [
    "df.head()"
   ]
  },
  {
   "cell_type": "markdown",
   "id": "fd39bc26",
   "metadata": {},
   "source": [
    "## function  mutualInf"
   ]
  },
  {
   "cell_type": "code",
   "execution_count": null,
   "id": "53fb9cca",
   "metadata": {},
   "outputs": [],
   "source": [
    "def mutualInf( x, y, bins=(10,10), offset=0, verb=False ):\n",
    "    \n",
    "    # x_f = x\n",
    "    # y_f = y\n",
    "    if x.dtype == \"object\":\n",
    "        xx, qx = pd.factorize(x)\n",
    "        xnames = qx\n",
    "    else:\n",
    "        xx = pd.qcut( x, bins[0], duplicates='drop' )\n",
    "        xnames = xx.values.categories    \n",
    "    if y.dtype == \"object\":\n",
    "        yy, qy = pd.factorize(y)\n",
    "        ynames = qy\n",
    "    else:\n",
    "        yy = pd.qcut( y, bins[1], duplicates='drop' )\n",
    "        ynames = yy.values.categories\n",
    "\n",
    "    xx2=pd.factorize(xx)[0]\n",
    "    yy2=pd.factorize(yy)[0]\n",
    "    a = pd.crosstab( xx2, yy2 ) \n",
    "\n",
    "    if offset > 0 : a = a + offset\n",
    "\n",
    "    if verb: print(a)\n",
    "        \n",
    "    entx  = entropy( a.sum( axis=1 ))\n",
    "    enty  = entropy( a.sum( axis=0 ))\n",
    "    entxy = entropy( a )\n",
    "        \n",
    "    mutinf = entx+enty-entxy\n",
    "\n",
    "    a.columns = ynames    \n",
    "    a.index   = xnames\n",
    "    \n",
    "    \n",
    "    return(mutinf,a)\n",
    "\n",
    "#%%\n",
    "def entropy( x, normalize=False ):\n",
    "    \n",
    "    if x.sum().sum() > 1:\n",
    "        x = x/x.sum().sum()\n",
    "        \n",
    "    ent = -(x*np.log(x)).sum().sum()\n",
    "                      \n",
    "    maxent = np.log( np.prod(x.shape) )  #  Use if normalizing by max\n",
    "    if normalize:\n",
    "        ent = ent/maxent\n",
    "    return (ent)\n"
   ]
  },
  {
   "cell_type": "code",
   "execution_count": null,
   "id": "d53c319f",
   "metadata": {},
   "outputs": [],
   "source": [
    "## simulation  mutualInf"
   ]
  },
  {
   "cell_type": "code",
   "execution_count": null,
   "id": "08d25d58",
   "metadata": {},
   "outputs": [],
   "source": [
    "x=df.marital, y= df.job, verb=True)"
   ]
  }
 ],
 "metadata": {
  "kernelspec": {
   "display_name": "Python 3",
   "language": "python",
   "name": "python3"
  },
  "language_info": {
   "codemirror_mode": {
    "name": "ipython",
    "version": 3
   },
   "file_extension": ".py",
   "mimetype": "text/x-python",
   "name": "python",
   "nbconvert_exporter": "python",
   "pygments_lexer": "ipython3",
   "version": "3.8.8"
  }
 },
 "nbformat": 4,
 "nbformat_minor": 5
}
