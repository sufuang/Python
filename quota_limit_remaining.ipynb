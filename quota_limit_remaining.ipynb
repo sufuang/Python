{
 "cells": [
  {
   "cell_type": "code",
   "execution_count": 0,
   "metadata": {
    "application/vnd.databricks.v1+cell": {
     "cellMetadata": {},
     "inputWidgets": {},
     "nuid": "ef926180-d06c-47c5-b637-c1298f9405e9",
     "showTitle": false,
     "title": ""
    }
   },
   "outputs": [],
   "source": [
    "To check the quota limit remaining in the model deployment settings in Azure OpenAI, you can use the Azure SDK for Python. Here's an example code snippet to get the quota limit remaining:\n",
    "from azure.identity import DefaultAzureCredential  \n",
    "from azure.mgmt.containerinstance import ContainerInstanceManagementClient  \n",
    "  \n",
    "# Set your Azure subscription ID and resource group name  \n",
    "subscription_id = '<your_subscription_id>'  \n",
    "resource_group = '<your_resource_group>'  \n",
    "  \n",
    "# Set your Azure credentials  \n",
    "credential = DefaultAzureCredential()  \n",
    "  \n",
    "# Create the ContainerInstanceManagementClient  \n",
    "container_client = ContainerInstanceManagementClient(credential, subscription_id)  \n",
    "  \n",
    "# Set the Azure Container Instance name and resource group  \n",
    "aci_name = '<your_container_instance_name>'  \n",
    "  \n",
    "# Get the container group details  \n",
    "container_group = container_client.container_groups.get(resource_group, aci_name)  \n",
    "  \n",
    "# Get the quota limit remaining  \n",
    "quota_limit_remaining = container_group.containers[0].resources.requests.cpu  \n",
    "  \n",
    "print(f\"Quota Limit Remaining: {quota_limit_remaining}\")  \n",
    " \n",
    "Make sure to replace <your_subscription_id>, <your_resource_group>, and <your_container_instance_name> with the appropriate values for your Azure environment.\n",
    "\n",
    "Note: You need to install the necessary Azure SDK packages before running the code. You can install them using the following command:"
   ]
  }
 ],
 "metadata": {
  "application/vnd.databricks.v1+notebook": {
   "dashboards": [],
   "language": "python",
   "notebookMetadata": {
    "pythonIndentUnit": 4
   },
   "notebookName": "quota_limit_remaining",
   "widgets": {}
  }
 },
 "nbformat": 4,
 "nbformat_minor": 0
}
