{
 "cells": [
  {
   "cell_type": "code",
   "execution_count": 0,
   "metadata": {
    "application/vnd.databricks.v1+cell": {
     "cellMetadata": {
      "byteLimit": 2048000,
      "rowLimit": 10000
     },
     "inputWidgets": {},
     "nuid": "c97473d1-0f00-451a-8edc-f77a93a08262",
     "showTitle": false,
     "title": ""
    }
   },
   "outputs": [
    {
     "output_type": "stream",
     "name": "stdout",
     "output_type": "stream",
     "text": [
      "absl-py==2.0.0\naiohttp==3.9.1\naiosignal==1.3.1\nalembic==1.13.1\nanyio==3.5.0\nargon2-cffi==21.3.0\nargon2-cffi-bindings==21.2.0\nasttokens==2.0.5\nastunparse==1.6.3\nasync-timeout==4.0.3\nattrs==21.2.0\nazure-common==1.1.28\nazure-core==1.29.6\nazure-eventhub==5.11.5\nazure-identity==1.15.0\nazure-mgmt-core==1.4.0\nazure-mgmt-datafactory==4.0.0\nazure-mgmt-subscription==3.1.1\nbackcall==0.2.0\nbeautifulsoup4==4.11.1\nbertopic==0.16.0\nblack==22.6.0\nbleach==4.1.0\nblinker==1.7.0\nboto3==1.24.28\nbotocore==1.27.96\ncachetools==5.3.2\ncertifi==2021.10.8\ncffi==1.15.1\nchardet==4.0.0\ncharset-normalizer==2.0.4\nclick==8.1.7\ncloudpickle==3.0.0\ncomm==0.1.2\ncontourpy==1.0.5\ncryptography==39.0.1\ncycler==0.11.0\nCython==0.29.32\ndatabricks-cli==0.14.3\ndatabricks-connect==11.3.10\ndatabricks-sdk==0.1.6\ndbus-python==1.2.18\ndbx==0.2.0\ndebugpy==1.6.7\ndecorator==5.1.1\ndefusedxml==0.7.1\ndistlib==0.3.7\ndistro==1.7.0\ndistro-info==1.1+ubuntu0.1\ndocker==6.1.3\ndocstring-to-markdown==0.11\nentrypoints==0.4\nexecuting==0.8.3\nfacets-overview==1.1.1\nfastjsonschema==2.19.0\nfilelock==3.12.4\nfindspark==2.0.1\nFlask==3.0.0\nflatbuffers==23.5.26\nfonttools==4.25.0\nfrozenlist==1.4.1\nfsspec==2023.12.2\ngast==0.4.0\ngensim==4.3.2\ngitdb==4.0.11\nGitPython==3.1.40\ngoogle-auth==2.25.2\ngoogle-auth-oauthlib==1.0.0\ngoogle-pasta==0.2.0\ngoogleapis-common-protos==1.61.0\ngreenlet==3.0.3\ngrpcio==1.48.2\ngrpcio-status==1.48.1\ngunicorn==21.2.0\nh11==0.14.0\nh5py==3.10.0\nhdbscan==0.8.33\nhttpcore==1.0.2\nhttplib2==0.20.2\nhttpx==0.26.0\nhuggingface-hub==0.20.1\nidna==3.4\nimportlib-metadata==4.6.4\niniconfig==1.1.1\nipykernel==6.25.0\nipython==8.14.0\nipython-genutils==0.2.0\nipywidgets==7.7.2\nisodate==0.6.1\nitsdangerous==2.1.2\njedi==0.18.1\njeepney==0.7.1\nJinja2==3.1.2\njmespath==0.10.0\njoblib==1.2.0\njsonschema==4.17.3\njupyter-client==7.3.4\njupyter-server==1.23.4\njupyter_core==5.2.0\njupyterlab-pygments==0.1.2\njupyterlab-widgets==1.0.0\nkeras==2.13.1\nkeyring==23.5.0\nkiwisolver==1.4.4\nlaunchpadlib==1.10.16\nlazr.restfulclient==0.14.4\nlazr.uri==1.0.6\nlibclang==16.0.6\nllvmlite==0.41.1\nlxml==4.9.1\nMako==1.3.0\nMarkdown==3.5.1\nMarkupSafe==2.1.1\nmatplotlib==3.7.0\nmatplotlib-inline==0.1.6\nmccabe==0.7.0\nmistune==0.8.4\nmlflow==2.9.2\nmore-itertools==8.10.0\nmpmath==1.3.0\nmsal==1.26.0\nmsal-extensions==1.1.0\nmsrest==0.7.1\nmultidict==6.0.4\nmypy-extensions==0.4.3\nnbclassic==0.5.2\nnbclient==0.5.13\nnbconvert==6.5.4\nnbformat==5.7.0\nnest-asyncio==1.5.6\nnetworkx==3.2.1\nnltk==3.8.1\nnodeenv==1.8.0\nnotebook @ file:///local_disk0/tmp/addedFile51d56dbcf6ab4defad2c2f552e32ca245932173727292934825/notebook-0.0.0-py3-none-any.whl\nnotebook_shim==0.2.2\nnumba==0.58.1\nnumpy==1.24.3\nnvidia-cublas-cu12==12.1.3.1\nnvidia-cuda-cupti-cu12==12.1.105\nnvidia-cuda-nvrtc-cu12==12.1.105\nnvidia-cuda-runtime-cu12==12.1.105\nnvidia-cudnn-cu12==8.9.2.26\nnvidia-cufft-cu12==11.0.2.54\nnvidia-curand-cu12==10.3.2.106\nnvidia-cusolver-cu12==11.4.5.107\nnvidia-cusparse-cu12==12.1.0.106\nnvidia-nccl-cu12==2.18.1\nnvidia-nvjitlink-cu12==12.3.101\nnvidia-nvtx-cu12==12.1.105\noauthlib==3.2.0\nopenai==0.28.1\nopt-einsum==3.3.0\npackaging==21.2\npandas==1.3.4\npandocfilters==1.5.0\nparso==0.8.3\npath==16.9.0\npathspec==0.10.3\npatsy==0.5.3\npexpect==4.8.0\npickleshare==0.7.5\nPillow==9.4.0\nplatformdirs==2.5.2\nplotly==5.9.0\npluggy==1.0.0\nportalocker==2.8.2\nprometheus-client==0.14.1\nprompt-toolkit==3.0.36\nprotobuf==4.24.0\npsutil==5.9.0\npsycopg2==2.9.3\nptyprocess==0.7.0\npure-eval==0.2.2\npy==1.10.0\npy4j==0.10.9.5\npyarrow==6.0.0\npyarrow-hotfix==0.5\npyasn1==0.5.1\npyasn1-modules==0.3.0\npycparser==2.21\npydantic==1.10.6\npyflakes==3.1.0\nPygments==2.11.2\nPyGObject==3.42.1\nPyJWT==2.3.0\npynndescent==0.5.11\npyodbc==4.0.32\npyparsing==2.4.7\npyright==1.1.294\npyrsistent==0.18.0\npytest==6.2.5\npython-apt==2.4.0+ubuntu2\npython-dateutil==2.8.2\npython-lsp-jsonrpc==1.1.1\npython-lsp-server==1.8.0\npytoolconfig==1.2.5\npytz==2021.3\nPyYAML==6.0.1\npyzmq==23.2.0\nquerystring-parser==1.2.4\nrapidfuzz==3.6.1\nregex==2023.12.25\nrequests==2.28.1\nrequests-oauthlib==1.3.1\nretry==0.9.2\nrope==1.7.0\nrsa==4.9\nruamel.yaml==0.18.5\nruamel.yaml.clib==0.2.8\ns3transfer==0.6.2\nsafetensors==0.4.1\nscikit-learn==1.1.1\nscipy==1.10.0\nseaborn==0.12.2\nSecretStorage==3.3.1\nSend2Trash==1.8.0\nsentence-transformers==2.2.2\nsentencepiece==0.1.99\nsix==1.16.0\nsmart-open==6.4.0\nsmmap==5.0.1\nsniffio==1.2.0\nsoupsieve==2.3.2.post1\nSQLAlchemy==2.0.24\nsqlparse==0.4.4\nssh-import-id==5.11\nstack-data==0.2.0\nstatsmodels==0.13.5\nsympy==1.12\ntabulate==0.9.0\ntenacity==8.1.0\ntensorboard==2.13.0\ntensorboard-data-server==0.7.2\ntensorflow==2.13.0\ntensorflow-estimator==2.13.0\ntensorflow-io-gcs-filesystem==0.35.0\ntermcolor==2.4.0\nterminado==0.17.1\nthreadpoolctl==2.2.0\ntinycss2==1.2.1\ntokenize-rt==4.2.1\ntokenizers==0.15.0\ntoml==0.10.2\ntomli==2.0.1\ntorch==2.1.2\ntorchvision==0.16.2\ntornado==6.1\ntqdm==4.66.1\ntraitlets==5.7.1\ntransformers==4.36.2\ntriton==2.1.0\ntyping_extensions==4.5.0\nujson==5.4.0\numap-learn==0.5.5\nunattended-upgrades==0.1\nurllib3==1.26.14\nvirtualenv==20.16.7\nwadllib==1.3.6\nwcwidth==0.2.5\nwebencodings==0.5.1\nwebsocket-client==0.58.0\nWerkzeug==3.0.1\nwhatthepatch==1.0.2\nwidgetsnbextension==3.6.1\nwrapt==1.16.0\nyapf==0.33.0\nyarl==1.9.4\nzipp==1.0.0\n"
     ]
    }
   ],
   "source": [
    "!pip freeze"
   ]
  },
  {
   "cell_type": "code",
   "execution_count": 0,
   "metadata": {
    "application/vnd.databricks.v1+cell": {
     "cellMetadata": {
      "byteLimit": 2048000,
      "rowLimit": 10000
     },
     "inputWidgets": {},
     "nuid": "54c1de4f-fb95-49e6-a685-c92b73828c24",
     "showTitle": false,
     "title": ""
    }
   },
   "outputs": [
    {
     "output_type": "stream",
     "name": "stdout",
     "output_type": "stream",
     "text": [
      "Name: openai\nVersion: 0.28.1\nSummary: Python client library for the OpenAI API\nHome-page: https://github.com/openai/openai-python\nAuthor: OpenAI\nAuthor-email: support@openai.com\nLicense: \nLocation: /local_disk0/.ephemeral_nfs/envs/pythonEnv-138a6a15-f65f-49b4-819a-4b56753a4af8/lib/python3.10/site-packages\nRequires: aiohttp, requests, tqdm\nRequired-by: \n"
     ]
    }
   ],
   "source": [
    "!pip show openai"
   ]
  },
  {
   "cell_type": "code",
   "execution_count": 0,
   "metadata": {
    "application/vnd.databricks.v1+cell": {
     "cellMetadata": {
      "byteLimit": 2048000,
      "rowLimit": 10000
     },
     "inputWidgets": {},
     "nuid": "c0a77a7d-a192-43be-934e-9e435a5131d7",
     "showTitle": false,
     "title": ""
    }
   },
   "outputs": [
    {
     "output_type": "stream",
     "name": "stdout",
     "output_type": "stream",
     "text": [
      "\u001B[43mNote: you may need to restart the kernel using dbutils.library.restartPython() to use updated packages.\u001B[0m\nCollecting openai==1.6.1\n  Downloading openai-1.6.1-py3-none-any.whl (225 kB)\n     ━━━━━━━━━━━━━━━━━━━━━━━━━━━━━━━━━━━━━━━ 225.4/225.4 kB 3.5 MB/s eta 0:00:00\nCollecting typing-extensions<5,>=4.7\n  Downloading typing_extensions-4.9.0-py3-none-any.whl (32 kB)\nRequirement already satisfied: anyio<5,>=3.5.0 in /databricks/python3/lib/python3.10/site-packages (from openai==1.6.1) (3.5.0)\nRequirement already satisfied: pydantic<3,>=1.9.0 in /databricks/python3/lib/python3.10/site-packages (from openai==1.6.1) (1.10.6)\nRequirement already satisfied: distro<2,>=1.7.0 in /usr/lib/python3/dist-packages (from openai==1.6.1) (1.7.0)\nRequirement already satisfied: tqdm>4 in /local_disk0/.ephemeral_nfs/cluster_libraries/python/lib/python3.10/site-packages (from openai==1.6.1) (4.66.1)\nRequirement already satisfied: httpx<1,>=0.23.0 in /local_disk0/.ephemeral_nfs/cluster_libraries/python/lib/python3.10/site-packages (from openai==1.6.1) (0.26.0)\nRequirement already satisfied: sniffio in /databricks/python3/lib/python3.10/site-packages (from openai==1.6.1) (1.2.0)\nRequirement already satisfied: idna>=2.8 in /databricks/python3/lib/python3.10/site-packages (from anyio<5,>=3.5.0->openai==1.6.1) (3.4)\nRequirement already satisfied: httpcore==1.* in /local_disk0/.ephemeral_nfs/cluster_libraries/python/lib/python3.10/site-packages (from httpx<1,>=0.23.0->openai==1.6.1) (1.0.2)\nRequirement already satisfied: certifi in /local_disk0/.ephemeral_nfs/cluster_libraries/python/lib/python3.10/site-packages (from httpx<1,>=0.23.0->openai==1.6.1) (2021.10.8)\nRequirement already satisfied: h11<0.15,>=0.13 in /local_disk0/.ephemeral_nfs/cluster_libraries/python/lib/python3.10/site-packages (from httpcore==1.*->httpx<1,>=0.23.0->openai==1.6.1) (0.14.0)\nInstalling collected packages: typing-extensions, openai\n  Attempting uninstall: typing-extensions\n    Found existing installation: typing_extensions 4.5.0\n    Not uninstalling typing-extensions at /local_disk0/.ephemeral_nfs/cluster_libraries/python/lib/python3.10/site-packages, outside environment /local_disk0/.ephemeral_nfs/envs/pythonEnv-138a6a15-f65f-49b4-819a-4b56753a4af8\n    Can't uninstall 'typing_extensions'. No files were found to uninstall.\n  Attempting uninstall: openai\n    Found existing installation: openai 0.28.1\n    Uninstalling openai-0.28.1:\n      Successfully uninstalled openai-0.28.1\nERROR: pip's dependency resolver does not currently take into account all the packages that are installed. This behaviour is the source of the following dependency conflicts.\ntensorflow 2.13.0 requires typing-extensions<4.6.0,>=3.6.6, but you have typing-extensions 4.9.0 which is incompatible.\nSuccessfully installed openai-1.6.1 typing-extensions-4.9.0\n\u001B[43mNote: you may need to restart the kernel using dbutils.library.restartPython() to use updated packages.\u001B[0m\n"
     ]
    }
   ],
   "source": [
    "!pip install -U openai==1.6.1"
   ]
  },
  {
   "cell_type": "code",
   "execution_count": 0,
   "metadata": {
    "application/vnd.databricks.v1+cell": {
     "cellMetadata": {
      "byteLimit": 2048000,
      "rowLimit": 10000
     },
     "inputWidgets": {},
     "nuid": "5f12056d-db66-4a8a-8108-41044aa3a613",
     "showTitle": false,
     "title": ""
    }
   },
   "outputs": [
    {
     "output_type": "display_data",
     "data": {
      "text/plain": [
       "\u001B[0;31m---------------------------------------------------------------------------\u001B[0m\n",
       "\u001B[0;31mImportError\u001B[0m                               Traceback (most recent call last)\n",
       "File \u001B[0;32m<command-3058616753807963>, line 3\u001B[0m\n",
       "\u001B[1;32m      1\u001B[0m \u001B[38;5;66;03m# run instapp openai to avoid 'ImportError: cannot import name 'Iterator' from 'typing_extensions'\u001B[39;00m\n",
       "\u001B[1;32m      2\u001B[0m \u001B[38;5;28;01mimport\u001B[39;00m \u001B[38;5;21;01mos\u001B[39;00m\n",
       "\u001B[0;32m----> 3\u001B[0m \u001B[38;5;28;01mfrom\u001B[39;00m \u001B[38;5;21;01mopenai\u001B[39;00m \u001B[38;5;28;01mimport\u001B[39;00m AzureOpenAI\n",
       "\n",
       "\u001B[0;31mImportError\u001B[0m: cannot import name 'AzureOpenAI' from 'openai' (/local_disk0/.ephemeral_nfs/envs/pythonEnv-138a6a15-f65f-49b4-819a-4b56753a4af8/lib/python3.10/site-packages/openai/__init__.py)"
      ]
     },
     "metadata": {
      "application/vnd.databricks.v1+output": {
       "arguments": {},
       "data": "\u001B[0;31m---------------------------------------------------------------------------\u001B[0m\n\u001B[0;31mImportError\u001B[0m                               Traceback (most recent call last)\nFile \u001B[0;32m<command-3058616753807963>, line 3\u001B[0m\n\u001B[1;32m      1\u001B[0m \u001B[38;5;66;03m# run instapp openai to avoid 'ImportError: cannot import name 'Iterator' from 'typing_extensions'\u001B[39;00m\n\u001B[1;32m      2\u001B[0m \u001B[38;5;28;01mimport\u001B[39;00m \u001B[38;5;21;01mos\u001B[39;00m\n\u001B[0;32m----> 3\u001B[0m \u001B[38;5;28;01mfrom\u001B[39;00m \u001B[38;5;21;01mopenai\u001B[39;00m \u001B[38;5;28;01mimport\u001B[39;00m AzureOpenAI\n\n\u001B[0;31mImportError\u001B[0m: cannot import name 'AzureOpenAI' from 'openai' (/local_disk0/.ephemeral_nfs/envs/pythonEnv-138a6a15-f65f-49b4-819a-4b56753a4af8/lib/python3.10/site-packages/openai/__init__.py)",
       "errorSummary": "<span class='ansi-red-fg'>ImportError</span>: cannot import name 'AzureOpenAI' from 'openai' (/local_disk0/.ephemeral_nfs/envs/pythonEnv-138a6a15-f65f-49b4-819a-4b56753a4af8/lib/python3.10/site-packages/openai/__init__.py)",
       "errorTraceType": "ansi",
       "metadata": {},
       "type": "ipynbError"
      }
     },
     "output_type": "display_data"
    }
   ],
   "source": [
    "# run instapp openai to avoid 'ImportError: cannot import name 'Iterator' from 'typing_extensions'\n",
    "import os\n",
    "from openai import AzureOpenAI\n"
   ]
  },
  {
   "cell_type": "code",
   "execution_count": 0,
   "metadata": {
    "application/vnd.databricks.v1+cell": {
     "cellMetadata": {},
     "inputWidgets": {},
     "nuid": "39f0d9ae-9c5d-4abe-a98f-cf9b8c85f2f3",
     "showTitle": false,
     "title": ""
    }
   },
   "outputs": [],
   "source": []
  }
 ],
 "metadata": {
  "application/vnd.databricks.v1+notebook": {
   "dashboards": [],
   "language": "python",
   "notebookMetadata": {
    "pythonIndentUnit": 4
   },
   "notebookName": "AzureOpenAI",
   "widgets": {}
  }
 },
 "nbformat": 4,
 "nbformat_minor": 0
}
