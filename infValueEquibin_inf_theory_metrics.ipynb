{
 "cells": [
  {
   "cell_type": "code",
   "execution_count": 1,
   "id": "c77279a9",
   "metadata": {},
   "outputs": [],
   "source": [
    "import pprint\n",
    "import matplotlib.pyplot as plt\n",
    "\n",
    "import pandas as pd\n",
    "import numpy as np"
   ]
  },
  {
   "cell_type": "code",
   "execution_count": 2,
   "id": "ac47f229",
   "metadata": {},
   "outputs": [
    {
     "name": "stdout",
     "output_type": "stream",
     "text": [
      "<class 'pandas.core.frame.DataFrame'>\n",
      "RangeIndex: 45211 entries, 0 to 45210\n",
      "Data columns (total 17 columns):\n",
      " #   Column     Non-Null Count  Dtype \n",
      "---  ------     --------------  ----- \n",
      " 0   age        45211 non-null  int64 \n",
      " 1   job        45211 non-null  object\n",
      " 2   marital    45211 non-null  object\n",
      " 3   education  45211 non-null  object\n",
      " 4   default    45211 non-null  object\n",
      " 5   balance    45211 non-null  int64 \n",
      " 6   housing    45211 non-null  object\n",
      " 7   loan       45211 non-null  object\n",
      " 8   contact    45211 non-null  object\n",
      " 9   day        45211 non-null  int64 \n",
      " 10  month      45211 non-null  object\n",
      " 11  duration   45211 non-null  int64 \n",
      " 12  campaign   45211 non-null  int64 \n",
      " 13  pdays      45211 non-null  int64 \n",
      " 14  previous   45211 non-null  int64 \n",
      " 15  poutcome   45211 non-null  object\n",
      " 16  y          45211 non-null  object\n",
      "dtypes: int64(7), object(10)\n",
      "memory usage: 5.9+ MB\n"
     ]
    },
    {
     "data": {
      "text/plain": [
       "0    39922\n",
       "1     5289\n",
       "Name: target, dtype: int64"
      ]
     },
     "execution_count": 2,
     "metadata": {},
     "output_type": "execute_result"
    }
   ],
   "source": [
    "pd.set_option( 'display.max_columns', 10 )\n",
    "pd.set_option('precision', 6)\n",
    "pd.set_option('max_colwidth', 20)\n",
    "pd.set_option('display.width', 120)\n",
    "\n",
    "path = 'C:\\\\Users\\\\sophia.yue\\\\Data\\\\'\n",
    "df = pd.read_csv(path + 'bank-full.csv', sep=';')\n",
    "df.head()\n",
    "df.shape\n",
    "df.describe()\n",
    "df.info()\n",
    "#  Examine target values and map to 0 and 1\n",
    "df.y.value_counts()             \n",
    "targ_dict = {'no': 0, 'yes':1 }\n",
    "df['target'] = [targ_dict[yy] for yy in df.y]\n",
    "df.target.value_counts()    "
   ]
  },
  {
   "cell_type": "code",
   "execution_count": 3,
   "id": "169ac7ed",
   "metadata": {},
   "outputs": [
    {
     "data": {
      "text/plain": [
       "job          object\n",
       "marital      object\n",
       "education    object\n",
       "default      object\n",
       "housing      object\n",
       "loan         object\n",
       "contact      object\n",
       "month        object\n",
       "poutcome     object\n",
       "y            object\n",
       "dtype: object"
      ]
     },
     "execution_count": 3,
     "metadata": {},
     "output_type": "execute_result"
    }
   ],
   "source": [
    "df.dtypes[df.dtypes == 'O']"
   ]
  },
  {
   "cell_type": "code",
   "execution_count": 4,
   "id": "02206d33",
   "metadata": {},
   "outputs": [
    {
     "data": {
      "text/plain": [
       "age         int64\n",
       "balance     int64\n",
       "day         int64\n",
       "duration    int64\n",
       "campaign    int64\n",
       "pdays       int64\n",
       "previous    int64\n",
       "target      int64\n",
       "dtype: object"
      ]
     },
     "execution_count": 4,
     "metadata": {},
     "output_type": "execute_result"
    }
   ],
   "source": [
    "df.dtypes[df.dtypes != 'O']"
   ]
  },
  {
   "cell_type": "code",
   "execution_count": 5,
   "id": "104e73ac",
   "metadata": {
    "scrolled": true
   },
   "outputs": [
    {
     "data": {
      "text/html": [
       "<div>\n",
       "<style scoped>\n",
       "    .dataframe tbody tr th:only-of-type {\n",
       "        vertical-align: middle;\n",
       "    }\n",
       "\n",
       "    .dataframe tbody tr th {\n",
       "        vertical-align: top;\n",
       "    }\n",
       "\n",
       "    .dataframe thead th {\n",
       "        text-align: right;\n",
       "    }\n",
       "</style>\n",
       "<table border=\"1\" class=\"dataframe\">\n",
       "  <thead>\n",
       "    <tr style=\"text-align: right;\">\n",
       "      <th></th>\n",
       "      <th>age</th>\n",
       "      <th>job</th>\n",
       "      <th>marital</th>\n",
       "      <th>education</th>\n",
       "      <th>default</th>\n",
       "      <th>...</th>\n",
       "      <th>pdays</th>\n",
       "      <th>previous</th>\n",
       "      <th>poutcome</th>\n",
       "      <th>y</th>\n",
       "      <th>target</th>\n",
       "    </tr>\n",
       "  </thead>\n",
       "  <tbody>\n",
       "    <tr>\n",
       "      <th>0</th>\n",
       "      <td>58</td>\n",
       "      <td>management</td>\n",
       "      <td>married</td>\n",
       "      <td>tertiary</td>\n",
       "      <td>no</td>\n",
       "      <td>...</td>\n",
       "      <td>-1</td>\n",
       "      <td>0</td>\n",
       "      <td>unknown</td>\n",
       "      <td>no</td>\n",
       "      <td>0</td>\n",
       "    </tr>\n",
       "    <tr>\n",
       "      <th>1</th>\n",
       "      <td>44</td>\n",
       "      <td>technician</td>\n",
       "      <td>single</td>\n",
       "      <td>secondary</td>\n",
       "      <td>no</td>\n",
       "      <td>...</td>\n",
       "      <td>-1</td>\n",
       "      <td>0</td>\n",
       "      <td>unknown</td>\n",
       "      <td>no</td>\n",
       "      <td>0</td>\n",
       "    </tr>\n",
       "    <tr>\n",
       "      <th>2</th>\n",
       "      <td>33</td>\n",
       "      <td>entrepreneur</td>\n",
       "      <td>married</td>\n",
       "      <td>secondary</td>\n",
       "      <td>no</td>\n",
       "      <td>...</td>\n",
       "      <td>-1</td>\n",
       "      <td>0</td>\n",
       "      <td>unknown</td>\n",
       "      <td>no</td>\n",
       "      <td>0</td>\n",
       "    </tr>\n",
       "    <tr>\n",
       "      <th>3</th>\n",
       "      <td>47</td>\n",
       "      <td>blue-collar</td>\n",
       "      <td>married</td>\n",
       "      <td>unknown</td>\n",
       "      <td>no</td>\n",
       "      <td>...</td>\n",
       "      <td>-1</td>\n",
       "      <td>0</td>\n",
       "      <td>unknown</td>\n",
       "      <td>no</td>\n",
       "      <td>0</td>\n",
       "    </tr>\n",
       "    <tr>\n",
       "      <th>4</th>\n",
       "      <td>33</td>\n",
       "      <td>unknown</td>\n",
       "      <td>single</td>\n",
       "      <td>unknown</td>\n",
       "      <td>no</td>\n",
       "      <td>...</td>\n",
       "      <td>-1</td>\n",
       "      <td>0</td>\n",
       "      <td>unknown</td>\n",
       "      <td>no</td>\n",
       "      <td>0</td>\n",
       "    </tr>\n",
       "  </tbody>\n",
       "</table>\n",
       "<p>5 rows × 18 columns</p>\n",
       "</div>"
      ],
      "text/plain": [
       "   age           job  marital  education default  ...  pdays previous poutcome   y  target\n",
       "0   58    management  married   tertiary      no  ...     -1        0  unknown  no       0\n",
       "1   44    technician   single  secondary      no  ...     -1        0  unknown  no       0\n",
       "2   33  entrepreneur  married  secondary      no  ...     -1        0  unknown  no       0\n",
       "3   47   blue-collar  married    unknown      no  ...     -1        0  unknown  no       0\n",
       "4   33       unknown   single    unknown      no  ...     -1        0  unknown  no       0\n",
       "\n",
       "[5 rows x 18 columns]"
      ]
     },
     "execution_count": 5,
     "metadata": {},
     "output_type": "execute_result"
    }
   ],
   "source": [
    "df.head()"
   ]
  },
  {
   "cell_type": "markdown",
   "id": "fd39bc26",
   "metadata": {},
   "source": [
    "## function infValueEquibin"
   ]
  },
  {
   "cell_type": "code",
   "execution_count": 6,
   "id": "354ba975",
   "metadata": {},
   "outputs": [],
   "source": [
    "def infValueEquibin( x, y, n=7, labels=(0,1), names=('Neg', 'Pos'), mins=(1,1), verb=False):\n",
    "\n",
    "    #n = np.min([np.max([n,3]),7])\n",
    "    \n",
    "    xx = pd.qcut( x, n, duplicates='drop')    \n",
    "    a = pd.crosstab( xx, y ) \n",
    "    a = a.sort_index( 0 )     #  To ensure ascending order\n",
    "    labs2keep=[g for g in a.columns if g in labels ]\n",
    "    a = a[labs2keep]\n",
    "    a.columns = names\n",
    "\n",
    "    ''' \n",
    "\t From this point on merely repeats the code in infValue\n",
    "\t We can either call infValue with 'xx' instead of 'x'\n",
    "\t But a better aproach is to consolidate the below code into core functionality\n",
    "\t That leaves the door open to extend it to compute Mututal information.\n",
    "\t That code will not need to know anything about how the grouping is done, which is perfect!\n",
    "    '''\n",
    "\n",
    "    #  Create column containing Column Percentages\n",
    "    pct_cols = ['Pct_'+ b for b in a.columns]\n",
    "    for i in range(len(a.columns)):\n",
    "        a[pct_cols[i]]=a[a.columns[i]]/sum(a[a.columns[i]])\n",
    "    \n",
    "\t#  The below line should be a loop to handle any number of class labels\n",
    "    a['use']       = np.where( np.logical_and( a[a.columns[0]] > mins[0], a[a.columns[1]] > mins[1]), 1, 0)\n",
    "    a['woe']       = np.where( a['use'] == 1, np.log(a[a.columns[len(names)]]/a[a.columns[len(names)+1]]), 0)\n",
    "    a['ivcontrib'] = (a[a.columns[len(names)]]-a[a.columns[len(names)+1]]) * a['woe' ]\n",
    "  \n",
    "    inf_val = sum( a['ivcontrib'] )\n",
    "    \n",
    "    if verb:\n",
    "        print('Inf. value = '+ str(inf_val) + ', '+ str(sum(a['use'])) + ' of '+str(len(a['use'])) + ' levels contributing')\n",
    "        print(a)\n",
    "        \n",
    "    return (inf_val, a)"
   ]
  },
  {
   "cell_type": "code",
   "execution_count": 7,
   "id": "62aec3da",
   "metadata": {},
   "outputs": [
    {
     "name": "stdout",
     "output_type": "stream",
     "text": [
      "Inf. value = 0.8528696434614229, 9 of 12 levels contributing\n",
      "                 No_Deposit  Deposit  Pct_No_Deposit  Pct_Deposit  use       woe  ivcontrib\n",
      "duration                                                                                   \n",
      "(-0.001, 52.0]         3818        9        0.095636     0.001702    0  0.000000   0.000000\n",
      "(52.0, 80.0]           3812       30        0.095486     0.005672    0  0.000000   0.000000\n",
      "(80.0, 103.0]          3618       88        0.090627     0.016638    0  0.000000   0.000000\n",
      "(103.0, 126.0]         3583      118        0.089750     0.022310    1  1.391973   0.093874\n",
      "(126.0, 152.0]         3629      201        0.090902     0.038003    1  0.872109   0.046134\n",
      "(152.0, 180.0]         3491      263        0.087446     0.049726    1  0.564491   0.021292\n",
      "(180.0, 215.0]         3435      334        0.086043     0.063150    1  0.309333   0.007082\n",
      "(215.0, 258.0]         3331      419        0.083438     0.079221    1  0.051859   0.000219\n",
      "(258.0, 319.0]         3259      512        0.081634     0.096805    1 -0.170447   0.002586\n",
      "(319.0, 411.0]         3169      583        0.079380     0.110229    1 -0.328314   0.010128\n",
      "(411.0, 603.0]         2847      905        0.071314     0.171110    1 -0.875212   0.087342\n",
      "(603.0, 4918.0]        1930     1827        0.048344     0.345434    1 -1.966454   0.584213\n",
      "Inf. value = 0.06760598139189566, 5 of 5 levels contributing\n",
      "              No_Deposit  Deposit  Pct_No_Deposit  Pct_Deposit  use       woe  ivcontrib\n",
      "campaign                                                                                \n",
      "(0.999, 2.0]       26087     3962        0.653449     0.749102    1 -0.136610   0.013067\n",
      "(2.0, 3.0]          4903      618        0.122814     0.116846    1  0.049816   0.000297\n",
      "(3.0, 4.0]          3205      317        0.080282     0.059936    1  0.292267   0.005946\n",
      "(4.0, 5.0]          1625      139        0.040704     0.026281    1  0.437491   0.006310\n",
      "(5.0, 63.0]         4102      253        0.102750     0.047835    1  0.764542   0.041985\n",
      "Inf. value = 0.19125874464982168, 3 of 3 levels contributing\n",
      "                No_Deposit  Deposit  Pct_No_Deposit  Pct_Deposit  use       woe  ivcontrib\n",
      "pdays                                                                                     \n",
      "(-1.001, 91.0]       34088     3710        0.853865     0.701456    1  0.196615   0.029966\n",
      "(91.0, 216.0]         2576     1075        0.064526     0.203252    1 -1.147381   0.159172\n",
      "(216.0, 871.0]        3258      504        0.081609     0.095292    1 -0.155006   0.002121\n",
      "Inf. value = 0.13341952856234182, 12 of 12 levels contributing\n",
      "                No_Deposit  Deposit  Pct_No_Deposit  Pct_Deposit  use       woe  ivcontrib\n",
      "age                                                                                       \n",
      "(17.999, 28.0]        3331      757        0.083438     0.143127    1 -0.539634   0.032210\n",
      "(28.0, 31.0]          4344      594        0.108812     0.112309    1 -0.031627   0.000111\n",
      "(31.0, 33.0]          3626      431        0.090827     0.081490    1  0.108479   0.001013\n",
      "(33.0, 35.0]          3417      407        0.085592     0.076952    1  0.106407   0.000919\n",
      "(35.0, 37.0]          3137      365        0.078578     0.069011    1  0.129826   0.001242\n",
      "(37.0, 39.0]          2666      287        0.066780     0.054264    1  0.207554   0.002598\n",
      "(39.0, 42.0]          3541      347        0.088698     0.065608    1  0.301541   0.006963\n",
      "(42.0, 45.0]          3211      302        0.080432     0.057100    1  0.342612   0.007994\n",
      "(45.0, 48.0]          2947      313        0.073819     0.059179    1  0.221041   0.003236\n",
      "(48.0, 52.0]          3445      335        0.086293     0.063339    1  0.309250   0.007099\n",
      "(52.0, 57.0]          3723      391        0.093257     0.073927    1  0.232279   0.004490\n",
      "(57.0, 95.0]          2534      760        0.063474     0.143694    1 -0.817062   0.065545\n",
      "{'age': 0.13341952856234182,\n",
      " 'campaign': 0.06760598139189566,\n",
      " 'duration': 0.8528696434614229,\n",
      " 'pdays': 0.19125874464982168}\n"
     ]
    }
   ],
   "source": [
    "#  Information Value -- Numerical fields\n",
    "(iv5, a5) = infValueEquibin( df['duration'], df['target'], n=12, verb=True, mins=(500,100), names=('No_Deposit','Deposit') )\n",
    "(iv6, a6) = infValueEquibin( df['campaign'], df['target'], n=10, verb=True, mins=(500,100), names=('No_Deposit','Deposit') )\n",
    "(iv7, a7) = infValueEquibin( df['pdays'],    df['target'], n=12, verb=True, mins=(500,100), names=('No_Deposit','Deposit') )\n",
    "(iv8, a8) = infValueEquibin( df['age'],      df['target'], n=12, verb=True, mins=(500,100), names=('No_Deposit','Deposit') )\n",
    "\n",
    "ivdict2 = {'duration': iv5, 'campaign': iv6, 'pdays': iv7, 'age': iv8}\n",
    "pprint.pprint(ivdict2)"
   ]
  },
  {
   "cell_type": "code",
   "execution_count": 8,
   "id": "854d44e2",
   "metadata": {
    "scrolled": true
   },
   "outputs": [
    {
     "name": "stderr",
     "output_type": "stream",
     "text": [
      "C:\\ProgramData\\Anaconda3\\lib\\site-packages\\matplotlib\\axes\\_base.py:405: FutureWarning: Support for multi-dimensional indexing (e.g. `obj[:, None]`) is deprecated and will be removed in a future version.  Convert to a numpy array before indexing instead.\n",
      "  x = x[:, np.newaxis]\n"
     ]
    },
    {
     "data": {
      "image/png": "[encoded data removed]",
      "text/plain": [
       "<Figure size 432x288 with 1 Axes>"
      ]
     },
     "metadata": {
      "needs_background": "light"
     },
     "output_type": "display_data"
    }
   ],
   "source": [
    "import seaborn as sns\n",
    "plt.plot( a8.woe); plt.grid()\n",
    "#a8.index"
   ]
  },
  {
   "cell_type": "code",
   "execution_count": 23,
   "id": "38d12509",
   "metadata": {},
   "outputs": [
    {
     "data": {
      "text/html": [
       "<div>\n",
       "<style scoped>\n",
       "    .dataframe tbody tr th:only-of-type {\n",
       "        vertical-align: middle;\n",
       "    }\n",
       "\n",
       "    .dataframe tbody tr th {\n",
       "        vertical-align: top;\n",
       "    }\n",
       "\n",
       "    .dataframe thead th {\n",
       "        text-align: right;\n",
       "    }\n",
       "</style>\n",
       "<table border=\"1\" class=\"dataframe\">\n",
       "  <thead>\n",
       "    <tr style=\"text-align: right;\">\n",
       "      <th></th>\n",
       "      <th>No_Deposit</th>\n",
       "      <th>Deposit</th>\n",
       "      <th>Pct_No_Deposit</th>\n",
       "      <th>Pct_Deposit</th>\n",
       "      <th>use</th>\n",
       "      <th>woe</th>\n",
       "      <th>ivcontrib</th>\n",
       "    </tr>\n",
       "    <tr>\n",
       "      <th>age</th>\n",
       "      <th></th>\n",
       "      <th></th>\n",
       "      <th></th>\n",
       "      <th></th>\n",
       "      <th></th>\n",
       "      <th></th>\n",
       "      <th></th>\n",
       "    </tr>\n",
       "  </thead>\n",
       "  <tbody>\n",
       "    <tr>\n",
       "      <th>(17.999, 28.0]</th>\n",
       "      <td>3331</td>\n",
       "      <td>757</td>\n",
       "      <td>0.083438</td>\n",
       "      <td>0.143127</td>\n",
       "      <td>1</td>\n",
       "      <td>-0.539634</td>\n",
       "      <td>0.032210</td>\n",
       "    </tr>\n",
       "    <tr>\n",
       "      <th>(28.0, 31.0]</th>\n",
       "      <td>4344</td>\n",
       "      <td>594</td>\n",
       "      <td>0.108812</td>\n",
       "      <td>0.112309</td>\n",
       "      <td>1</td>\n",
       "      <td>-0.031627</td>\n",
       "      <td>0.000111</td>\n",
       "    </tr>\n",
       "    <tr>\n",
       "      <th>(31.0, 33.0]</th>\n",
       "      <td>3626</td>\n",
       "      <td>431</td>\n",
       "      <td>0.090827</td>\n",
       "      <td>0.081490</td>\n",
       "      <td>1</td>\n",
       "      <td>0.108479</td>\n",
       "      <td>0.001013</td>\n",
       "    </tr>\n",
       "    <tr>\n",
       "      <th>(33.0, 35.0]</th>\n",
       "      <td>3417</td>\n",
       "      <td>407</td>\n",
       "      <td>0.085592</td>\n",
       "      <td>0.076952</td>\n",
       "      <td>1</td>\n",
       "      <td>0.106407</td>\n",
       "      <td>0.000919</td>\n",
       "    </tr>\n",
       "    <tr>\n",
       "      <th>(35.0, 37.0]</th>\n",
       "      <td>3137</td>\n",
       "      <td>365</td>\n",
       "      <td>0.078578</td>\n",
       "      <td>0.069011</td>\n",
       "      <td>1</td>\n",
       "      <td>0.129826</td>\n",
       "      <td>0.001242</td>\n",
       "    </tr>\n",
       "  </tbody>\n",
       "</table>\n",
       "</div>"
      ],
      "text/plain": [
       "                No_Deposit  Deposit  Pct_No_Deposit  Pct_Deposit  use       woe  ivcontrib\n",
       "age                                                                                       \n",
       "(17.999, 28.0]        3331      757        0.083438     0.143127    1 -0.539634   0.032210\n",
       "(28.0, 31.0]          4344      594        0.108812     0.112309    1 -0.031627   0.000111\n",
       "(31.0, 33.0]          3626      431        0.090827     0.081490    1  0.108479   0.001013\n",
       "(33.0, 35.0]          3417      407        0.085592     0.076952    1  0.106407   0.000919\n",
       "(35.0, 37.0]          3137      365        0.078578     0.069011    1  0.129826   0.001242"
      ]
     },
     "execution_count": 23,
     "metadata": {},
     "output_type": "execute_result"
    }
   ],
   "source": [
    "a8.head()"
   ]
  },
  {
   "cell_type": "code",
   "execution_count": 22,
   "id": "26912356",
   "metadata": {
    "scrolled": true
   },
   "outputs": [
    {
     "data": {
      "text/plain": [
       "array([<AxesSubplot:xlabel='age'>, <AxesSubplot:xlabel='age'>,\n",
       "       <AxesSubplot:xlabel='age'>, <AxesSubplot:xlabel='age'>,\n",
       "       <AxesSubplot:xlabel='age'>, <AxesSubplot:xlabel='age'>,\n",
       "       <AxesSubplot:xlabel='age'>], dtype=object)"
      ]
     },
     "execution_count": 22,
     "metadata": {},
     "output_type": "execute_result"
    },
    {
     "data": {
      "image/png": "[encoded data removed]",
      "text/plain": [
       "<Figure size 432x288 with 7 Axes>"
      ]
     },
     "metadata": {
      "needs_background": "light"
     },
     "output_type": "display_data"
    }
   ],
   "source": [
    "a8.plot.line(subplots=True)"
   ]
  },
  {
   "cell_type": "code",
   "execution_count": 28,
   "id": "fe6989ee",
   "metadata": {},
   "outputs": [
    {
     "data": {
      "text/plain": [
       "<AxesSubplot:xlabel='age'>"
      ]
     },
     "execution_count": 28,
     "metadata": {},
     "output_type": "execute_result"
    },
    {
     "data": {
      "image/png": "[encoded data removed]",
      "text/plain": [
       "<Figure size 432x288 with 1 Axes>"
      ]
     },
     "metadata": {
      "needs_background": "light"
     },
     "output_type": "display_data"
    }
   ],
   "source": [
    "a8[['woe']].plot.line()"
   ]
  },
  {
   "cell_type": "code",
   "execution_count": 27,
   "id": "c3666152",
   "metadata": {},
   "outputs": [
    {
     "data": {
      "text/plain": [
       "<AxesSubplot:xlabel='age'>"
      ]
     },
     "execution_count": 27,
     "metadata": {},
     "output_type": "execute_result"
    },
    {
     "data": {
      "image/png": "[encoded data removed]",
      "text/plain": [
       "<Figure size 432x288 with 1 Axes>"
      ]
     },
     "metadata": {
      "needs_background": "light"
     },
     "output_type": "display_data"
    }
   ],
   "source": [
    "a8[['woe']].plot.line(rot = 0)"
   ]
  },
  {
   "cell_type": "code",
   "execution_count": null,
   "id": "61877a37",
   "metadata": {},
   "outputs": [],
   "source": [
    "a8[['woe']].plot.line()"
   ]
  },
  {
   "cell_type": "code",
   "execution_count": 24,
   "id": "f2e57d80",
   "metadata": {},
   "outputs": [
    {
     "data": {
      "text/plain": [
       "<AxesSubplot:xlabel='age'>"
      ]
     },
     "execution_count": 24,
     "metadata": {},
     "output_type": "execute_result"
    },
    {
     "data": {
      "image/png": "[encoded data removed]",
      "text/plain": [
       "<Figure size 432x288 with 1 Axes>"
      ]
     },
     "metadata": {
      "needs_background": "light"
     },
     "output_type": "display_data"
    }
   ],
   "source": [
    "a8.plot.line()"
   ]
  },
  {
   "cell_type": "code",
   "execution_count": null,
   "id": "6b17c0fc",
   "metadata": {},
   "outputs": [],
   "source": [
    "a8.hist(figsize = (14, 14))"
   ]
  },
  {
   "cell_type": "code",
   "execution_count": null,
   "id": "9ae52acf",
   "metadata": {},
   "outputs": [],
   "source": [
    "df = pd.DataFrame({\n",
    "   'pig': [20, 18, 489, 675, 1776],\n",
    "   'horse': [4, 25, 281, 600, 1900]\n",
    "   }, index=[1990, 1997, 2003, 2009, 2014])\n",
    "lines = df.plot.line()"
   ]
  },
  {
   "cell_type": "code",
   "execution_count": 26,
   "id": "d5b850bc",
   "metadata": {},
   "outputs": [
    {
     "data": {
      "text/plain": [
       "array([[<AxesSubplot:title={'center':'No_Deposit'}>,\n",
       "        <AxesSubplot:title={'center':'Deposit'}>,\n",
       "        <AxesSubplot:title={'center':'Pct_No_Deposit'}>],\n",
       "       [<AxesSubplot:title={'center':'Pct_Deposit'}>,\n",
       "        <AxesSubplot:title={'center':'use'}>,\n",
       "        <AxesSubplot:title={'center':'woe'}>],\n",
       "       [<AxesSubplot:title={'center':'ivcontrib'}>, <AxesSubplot:>,\n",
       "        <AxesSubplot:>]], dtype=object)"
      ]
     },
     "execution_count": 26,
     "metadata": {},
     "output_type": "execute_result"
    },
    {
     "data": {
      "image/png": "[encoded data removed]",
      "text/plain": [
       "<Figure size 1008x1008 with 9 Axes>"
      ]
     },
     "metadata": {
      "needs_background": "light"
     },
     "output_type": "display_data"
    }
   ],
   "source": [
    "a8.hist(figsize = (14, 14))"
   ]
  },
  {
   "cell_type": "code",
   "execution_count": 21,
   "id": "41f8e6d7",
   "metadata": {},
   "outputs": [
    {
     "ename": "KeyError",
     "evalue": "\"None of [CategoricalIndex([(17.999, 28.0],   (28.0, 31.0],   (31.0, 33.0],   (33.0, 35.0],   (35.0, 37.0],   (37.0, 39.0],\\n                    (39.0, 42.0],   (42.0, 45.0],   (45.0, 48.0],   (48.0, 52.0],   (52.0, 57.0],   (57.0, 95.0]],\\n                 categories=[(17.999, 28.0], (28.0, 31.0], (31.0, 33.0], (33.0, 35.0], (35.0, 37.0], (37.0, 39.0], (39.0, 42.0], (42.0, 45.0], ...], ordered=True, name='age', dtype='category')] are in the [columns]\"",
     "output_type": "error",
     "traceback": [
      "\u001b[1;31m---------------------------------------------------------------------------\u001b[0m",
      "\u001b[1;31mKeyError\u001b[0m                                  Traceback (most recent call last)",
      "\u001b[1;32m<ipython-input-21-b608c4a5e5ce>\u001b[0m in \u001b[0;36m<module>\u001b[1;34m\u001b[0m\n\u001b[1;32m----> 1\u001b[1;33m \u001b[0ma8\u001b[0m\u001b[1;33m.\u001b[0m\u001b[0mplot\u001b[0m\u001b[1;33m.\u001b[0m\u001b[0mline\u001b[0m\u001b[1;33m(\u001b[0m\u001b[0mx\u001b[0m \u001b[1;33m=\u001b[0m \u001b[0ma8\u001b[0m\u001b[1;33m.\u001b[0m\u001b[0mindex\u001b[0m\u001b[1;33m,\u001b[0m \u001b[0my\u001b[0m \u001b[1;33m=\u001b[0m \u001b[1;34m'age'\u001b[0m\u001b[1;33m)\u001b[0m\u001b[1;33m\u001b[0m\u001b[1;33m\u001b[0m\u001b[0m\n\u001b[0m",
      "\u001b[1;32mC:\\ProgramData\\Anaconda3\\lib\\site-packages\\pandas\\plotting\\_core.py\u001b[0m in \u001b[0;36mline\u001b[1;34m(self, x, y, **kwargs)\u001b[0m\n\u001b[0;32m   1021\u001b[0m         \u001b[1;32mas\u001b[0m \u001b[0mcoordinates\u001b[0m\u001b[1;33m.\u001b[0m\u001b[1;33m\u001b[0m\u001b[1;33m\u001b[0m\u001b[0m\n\u001b[0;32m   1022\u001b[0m         \"\"\"\n\u001b[1;32m-> 1023\u001b[1;33m         \u001b[1;32mreturn\u001b[0m \u001b[0mself\u001b[0m\u001b[1;33m(\u001b[0m\u001b[0mkind\u001b[0m\u001b[1;33m=\u001b[0m\u001b[1;34m\"line\"\u001b[0m\u001b[1;33m,\u001b[0m \u001b[0mx\u001b[0m\u001b[1;33m=\u001b[0m\u001b[0mx\u001b[0m\u001b[1;33m,\u001b[0m \u001b[0my\u001b[0m\u001b[1;33m=\u001b[0m\u001b[0my\u001b[0m\u001b[1;33m,\u001b[0m \u001b[1;33m**\u001b[0m\u001b[0mkwargs\u001b[0m\u001b[1;33m)\u001b[0m\u001b[1;33m\u001b[0m\u001b[1;33m\u001b[0m\u001b[0m\n\u001b[0m\u001b[0;32m   1024\u001b[0m \u001b[1;33m\u001b[0m\u001b[0m\n\u001b[0;32m   1025\u001b[0m     @Appender(\n",
      "\u001b[1;32mC:\\ProgramData\\Anaconda3\\lib\\site-packages\\pandas\\plotting\\_core.py\u001b[0m in \u001b[0;36m__call__\u001b[1;34m(self, *args, **kwargs)\u001b[0m\n\u001b[0;32m    918\u001b[0m                 \u001b[1;32mif\u001b[0m \u001b[0mis_integer\u001b[0m\u001b[1;33m(\u001b[0m\u001b[0mx\u001b[0m\u001b[1;33m)\u001b[0m \u001b[1;32mand\u001b[0m \u001b[1;32mnot\u001b[0m \u001b[0mdata\u001b[0m\u001b[1;33m.\u001b[0m\u001b[0mcolumns\u001b[0m\u001b[1;33m.\u001b[0m\u001b[0mholds_integer\u001b[0m\u001b[1;33m(\u001b[0m\u001b[1;33m)\u001b[0m\u001b[1;33m:\u001b[0m\u001b[1;33m\u001b[0m\u001b[1;33m\u001b[0m\u001b[0m\n\u001b[0;32m    919\u001b[0m                     \u001b[0mx\u001b[0m \u001b[1;33m=\u001b[0m \u001b[0mdata_cols\u001b[0m\u001b[1;33m[\u001b[0m\u001b[0mx\u001b[0m\u001b[1;33m]\u001b[0m\u001b[1;33m\u001b[0m\u001b[1;33m\u001b[0m\u001b[0m\n\u001b[1;32m--> 920\u001b[1;33m                 \u001b[1;32melif\u001b[0m \u001b[1;32mnot\u001b[0m \u001b[0misinstance\u001b[0m\u001b[1;33m(\u001b[0m\u001b[0mdata\u001b[0m\u001b[1;33m[\u001b[0m\u001b[0mx\u001b[0m\u001b[1;33m]\u001b[0m\u001b[1;33m,\u001b[0m \u001b[0mABCSeries\u001b[0m\u001b[1;33m)\u001b[0m\u001b[1;33m:\u001b[0m\u001b[1;33m\u001b[0m\u001b[1;33m\u001b[0m\u001b[0m\n\u001b[0m\u001b[0;32m    921\u001b[0m                     \u001b[1;32mraise\u001b[0m \u001b[0mValueError\u001b[0m\u001b[1;33m(\u001b[0m\u001b[1;34m\"x must be a label or position\"\u001b[0m\u001b[1;33m)\u001b[0m\u001b[1;33m\u001b[0m\u001b[1;33m\u001b[0m\u001b[0m\n\u001b[0;32m    922\u001b[0m                 \u001b[0mdata\u001b[0m \u001b[1;33m=\u001b[0m \u001b[0mdata\u001b[0m\u001b[1;33m.\u001b[0m\u001b[0mset_index\u001b[0m\u001b[1;33m(\u001b[0m\u001b[0mx\u001b[0m\u001b[1;33m)\u001b[0m\u001b[1;33m\u001b[0m\u001b[1;33m\u001b[0m\u001b[0m\n",
      "\u001b[1;32mC:\\ProgramData\\Anaconda3\\lib\\site-packages\\pandas\\core\\frame.py\u001b[0m in \u001b[0;36m__getitem__\u001b[1;34m(self, key)\u001b[0m\n\u001b[0;32m   3028\u001b[0m             \u001b[1;32mif\u001b[0m \u001b[0mis_iterator\u001b[0m\u001b[1;33m(\u001b[0m\u001b[0mkey\u001b[0m\u001b[1;33m)\u001b[0m\u001b[1;33m:\u001b[0m\u001b[1;33m\u001b[0m\u001b[1;33m\u001b[0m\u001b[0m\n\u001b[0;32m   3029\u001b[0m                 \u001b[0mkey\u001b[0m \u001b[1;33m=\u001b[0m \u001b[0mlist\u001b[0m\u001b[1;33m(\u001b[0m\u001b[0mkey\u001b[0m\u001b[1;33m)\u001b[0m\u001b[1;33m\u001b[0m\u001b[1;33m\u001b[0m\u001b[0m\n\u001b[1;32m-> 3030\u001b[1;33m             \u001b[0mindexer\u001b[0m \u001b[1;33m=\u001b[0m \u001b[0mself\u001b[0m\u001b[1;33m.\u001b[0m\u001b[0mloc\u001b[0m\u001b[1;33m.\u001b[0m\u001b[0m_get_listlike_indexer\u001b[0m\u001b[1;33m(\u001b[0m\u001b[0mkey\u001b[0m\u001b[1;33m,\u001b[0m \u001b[0maxis\u001b[0m\u001b[1;33m=\u001b[0m\u001b[1;36m1\u001b[0m\u001b[1;33m,\u001b[0m \u001b[0mraise_missing\u001b[0m\u001b[1;33m=\u001b[0m\u001b[1;32mTrue\u001b[0m\u001b[1;33m)\u001b[0m\u001b[1;33m[\u001b[0m\u001b[1;36m1\u001b[0m\u001b[1;33m]\u001b[0m\u001b[1;33m\u001b[0m\u001b[1;33m\u001b[0m\u001b[0m\n\u001b[0m\u001b[0;32m   3031\u001b[0m \u001b[1;33m\u001b[0m\u001b[0m\n\u001b[0;32m   3032\u001b[0m         \u001b[1;31m# take() does not accept boolean indexers\u001b[0m\u001b[1;33m\u001b[0m\u001b[1;33m\u001b[0m\u001b[1;33m\u001b[0m\u001b[0m\n",
      "\u001b[1;32mC:\\ProgramData\\Anaconda3\\lib\\site-packages\\pandas\\core\\indexing.py\u001b[0m in \u001b[0;36m_get_listlike_indexer\u001b[1;34m(self, key, axis, raise_missing)\u001b[0m\n\u001b[0;32m   1264\u001b[0m             \u001b[0mkeyarr\u001b[0m\u001b[1;33m,\u001b[0m \u001b[0mindexer\u001b[0m\u001b[1;33m,\u001b[0m \u001b[0mnew_indexer\u001b[0m \u001b[1;33m=\u001b[0m \u001b[0max\u001b[0m\u001b[1;33m.\u001b[0m\u001b[0m_reindex_non_unique\u001b[0m\u001b[1;33m(\u001b[0m\u001b[0mkeyarr\u001b[0m\u001b[1;33m)\u001b[0m\u001b[1;33m\u001b[0m\u001b[1;33m\u001b[0m\u001b[0m\n\u001b[0;32m   1265\u001b[0m \u001b[1;33m\u001b[0m\u001b[0m\n\u001b[1;32m-> 1266\u001b[1;33m         \u001b[0mself\u001b[0m\u001b[1;33m.\u001b[0m\u001b[0m_validate_read_indexer\u001b[0m\u001b[1;33m(\u001b[0m\u001b[0mkeyarr\u001b[0m\u001b[1;33m,\u001b[0m \u001b[0mindexer\u001b[0m\u001b[1;33m,\u001b[0m \u001b[0maxis\u001b[0m\u001b[1;33m,\u001b[0m \u001b[0mraise_missing\u001b[0m\u001b[1;33m=\u001b[0m\u001b[0mraise_missing\u001b[0m\u001b[1;33m)\u001b[0m\u001b[1;33m\u001b[0m\u001b[1;33m\u001b[0m\u001b[0m\n\u001b[0m\u001b[0;32m   1267\u001b[0m         \u001b[1;32mreturn\u001b[0m \u001b[0mkeyarr\u001b[0m\u001b[1;33m,\u001b[0m \u001b[0mindexer\u001b[0m\u001b[1;33m\u001b[0m\u001b[1;33m\u001b[0m\u001b[0m\n\u001b[0;32m   1268\u001b[0m \u001b[1;33m\u001b[0m\u001b[0m\n",
      "\u001b[1;32mC:\\ProgramData\\Anaconda3\\lib\\site-packages\\pandas\\core\\indexing.py\u001b[0m in \u001b[0;36m_validate_read_indexer\u001b[1;34m(self, key, indexer, axis, raise_missing)\u001b[0m\n\u001b[0;32m   1306\u001b[0m             \u001b[1;32mif\u001b[0m \u001b[0mmissing\u001b[0m \u001b[1;33m==\u001b[0m \u001b[0mlen\u001b[0m\u001b[1;33m(\u001b[0m\u001b[0mindexer\u001b[0m\u001b[1;33m)\u001b[0m\u001b[1;33m:\u001b[0m\u001b[1;33m\u001b[0m\u001b[1;33m\u001b[0m\u001b[0m\n\u001b[0;32m   1307\u001b[0m                 \u001b[0maxis_name\u001b[0m \u001b[1;33m=\u001b[0m \u001b[0mself\u001b[0m\u001b[1;33m.\u001b[0m\u001b[0mobj\u001b[0m\u001b[1;33m.\u001b[0m\u001b[0m_get_axis_name\u001b[0m\u001b[1;33m(\u001b[0m\u001b[0maxis\u001b[0m\u001b[1;33m)\u001b[0m\u001b[1;33m\u001b[0m\u001b[1;33m\u001b[0m\u001b[0m\n\u001b[1;32m-> 1308\u001b[1;33m                 \u001b[1;32mraise\u001b[0m \u001b[0mKeyError\u001b[0m\u001b[1;33m(\u001b[0m\u001b[1;34mf\"None of [{key}] are in the [{axis_name}]\"\u001b[0m\u001b[1;33m)\u001b[0m\u001b[1;33m\u001b[0m\u001b[1;33m\u001b[0m\u001b[0m\n\u001b[0m\u001b[0;32m   1309\u001b[0m \u001b[1;33m\u001b[0m\u001b[0m\n\u001b[0;32m   1310\u001b[0m             \u001b[0max\u001b[0m \u001b[1;33m=\u001b[0m \u001b[0mself\u001b[0m\u001b[1;33m.\u001b[0m\u001b[0mobj\u001b[0m\u001b[1;33m.\u001b[0m\u001b[0m_get_axis\u001b[0m\u001b[1;33m(\u001b[0m\u001b[0maxis\u001b[0m\u001b[1;33m)\u001b[0m\u001b[1;33m\u001b[0m\u001b[1;33m\u001b[0m\u001b[0m\n",
      "\u001b[1;31mKeyError\u001b[0m: \"None of [CategoricalIndex([(17.999, 28.0],   (28.0, 31.0],   (31.0, 33.0],   (33.0, 35.0],   (35.0, 37.0],   (37.0, 39.0],\\n                    (39.0, 42.0],   (42.0, 45.0],   (45.0, 48.0],   (48.0, 52.0],   (52.0, 57.0],   (57.0, 95.0]],\\n                 categories=[(17.999, 28.0], (28.0, 31.0], (31.0, 33.0], (33.0, 35.0], (35.0, 37.0], (37.0, 39.0], (39.0, 42.0], (42.0, 45.0], ...], ordered=True, name='age', dtype='category')] are in the [columns]\""
     ]
    }
   ],
   "source": [
    "a8.plot.line(x = a8.index, y = 'age')"
   ]
  },
  {
   "cell_type": "code",
   "execution_count": 20,
   "id": "11081c81",
   "metadata": {
    "scrolled": true
   },
   "outputs": [
    {
     "ename": "KeyError",
     "evalue": "\"None of [CategoricalIndex([(17.999, 28.0],   (28.0, 31.0],   (31.0, 33.0],   (33.0, 35.0],   (35.0, 37.0],   (37.0, 39.0],\\n                    (39.0, 42.0],   (42.0, 45.0],   (45.0, 48.0],   (48.0, 52.0],   (52.0, 57.0],   (57.0, 95.0]],\\n                 categories=[(17.999, 28.0], (28.0, 31.0], (31.0, 33.0], (33.0, 35.0], (35.0, 37.0], (37.0, 39.0], (39.0, 42.0], (42.0, 45.0], ...], ordered=True, name='age', dtype='category')] are in the [columns]\"",
     "output_type": "error",
     "traceback": [
      "\u001b[1;31m---------------------------------------------------------------------------\u001b[0m",
      "\u001b[1;31mKeyError\u001b[0m                                  Traceback (most recent call last)",
      "\u001b[1;32m<ipython-input-20-32bc59aa5c1e>\u001b[0m in \u001b[0;36m<module>\u001b[1;34m\u001b[0m\n\u001b[1;32m----> 1\u001b[1;33m \u001b[0ma8\u001b[0m\u001b[1;33m.\u001b[0m\u001b[0mplot\u001b[0m\u001b[1;33m.\u001b[0m\u001b[0mline\u001b[0m\u001b[1;33m(\u001b[0m\u001b[0mx\u001b[0m \u001b[1;33m=\u001b[0m \u001b[0ma8\u001b[0m\u001b[1;33m.\u001b[0m\u001b[0mindex\u001b[0m\u001b[1;33m,\u001b[0m \u001b[0my\u001b[0m \u001b[1;33m=\u001b[0m \u001b[1;34m'woe'\u001b[0m\u001b[1;33m)\u001b[0m\u001b[1;33m\u001b[0m\u001b[1;33m\u001b[0m\u001b[0m\n\u001b[0m",
      "\u001b[1;32mC:\\ProgramData\\Anaconda3\\lib\\site-packages\\pandas\\plotting\\_core.py\u001b[0m in \u001b[0;36mline\u001b[1;34m(self, x, y, **kwargs)\u001b[0m\n\u001b[0;32m   1021\u001b[0m         \u001b[1;32mas\u001b[0m \u001b[0mcoordinates\u001b[0m\u001b[1;33m.\u001b[0m\u001b[1;33m\u001b[0m\u001b[1;33m\u001b[0m\u001b[0m\n\u001b[0;32m   1022\u001b[0m         \"\"\"\n\u001b[1;32m-> 1023\u001b[1;33m         \u001b[1;32mreturn\u001b[0m \u001b[0mself\u001b[0m\u001b[1;33m(\u001b[0m\u001b[0mkind\u001b[0m\u001b[1;33m=\u001b[0m\u001b[1;34m\"line\"\u001b[0m\u001b[1;33m,\u001b[0m \u001b[0mx\u001b[0m\u001b[1;33m=\u001b[0m\u001b[0mx\u001b[0m\u001b[1;33m,\u001b[0m \u001b[0my\u001b[0m\u001b[1;33m=\u001b[0m\u001b[0my\u001b[0m\u001b[1;33m,\u001b[0m \u001b[1;33m**\u001b[0m\u001b[0mkwargs\u001b[0m\u001b[1;33m)\u001b[0m\u001b[1;33m\u001b[0m\u001b[1;33m\u001b[0m\u001b[0m\n\u001b[0m\u001b[0;32m   1024\u001b[0m \u001b[1;33m\u001b[0m\u001b[0m\n\u001b[0;32m   1025\u001b[0m     @Appender(\n",
      "\u001b[1;32mC:\\ProgramData\\Anaconda3\\lib\\site-packages\\pandas\\plotting\\_core.py\u001b[0m in \u001b[0;36m__call__\u001b[1;34m(self, *args, **kwargs)\u001b[0m\n\u001b[0;32m    918\u001b[0m                 \u001b[1;32mif\u001b[0m \u001b[0mis_integer\u001b[0m\u001b[1;33m(\u001b[0m\u001b[0mx\u001b[0m\u001b[1;33m)\u001b[0m \u001b[1;32mand\u001b[0m \u001b[1;32mnot\u001b[0m \u001b[0mdata\u001b[0m\u001b[1;33m.\u001b[0m\u001b[0mcolumns\u001b[0m\u001b[1;33m.\u001b[0m\u001b[0mholds_integer\u001b[0m\u001b[1;33m(\u001b[0m\u001b[1;33m)\u001b[0m\u001b[1;33m:\u001b[0m\u001b[1;33m\u001b[0m\u001b[1;33m\u001b[0m\u001b[0m\n\u001b[0;32m    919\u001b[0m                     \u001b[0mx\u001b[0m \u001b[1;33m=\u001b[0m \u001b[0mdata_cols\u001b[0m\u001b[1;33m[\u001b[0m\u001b[0mx\u001b[0m\u001b[1;33m]\u001b[0m\u001b[1;33m\u001b[0m\u001b[1;33m\u001b[0m\u001b[0m\n\u001b[1;32m--> 920\u001b[1;33m                 \u001b[1;32melif\u001b[0m \u001b[1;32mnot\u001b[0m \u001b[0misinstance\u001b[0m\u001b[1;33m(\u001b[0m\u001b[0mdata\u001b[0m\u001b[1;33m[\u001b[0m\u001b[0mx\u001b[0m\u001b[1;33m]\u001b[0m\u001b[1;33m,\u001b[0m \u001b[0mABCSeries\u001b[0m\u001b[1;33m)\u001b[0m\u001b[1;33m:\u001b[0m\u001b[1;33m\u001b[0m\u001b[1;33m\u001b[0m\u001b[0m\n\u001b[0m\u001b[0;32m    921\u001b[0m                     \u001b[1;32mraise\u001b[0m \u001b[0mValueError\u001b[0m\u001b[1;33m(\u001b[0m\u001b[1;34m\"x must be a label or position\"\u001b[0m\u001b[1;33m)\u001b[0m\u001b[1;33m\u001b[0m\u001b[1;33m\u001b[0m\u001b[0m\n\u001b[0;32m    922\u001b[0m                 \u001b[0mdata\u001b[0m \u001b[1;33m=\u001b[0m \u001b[0mdata\u001b[0m\u001b[1;33m.\u001b[0m\u001b[0mset_index\u001b[0m\u001b[1;33m(\u001b[0m\u001b[0mx\u001b[0m\u001b[1;33m)\u001b[0m\u001b[1;33m\u001b[0m\u001b[1;33m\u001b[0m\u001b[0m\n",
      "\u001b[1;32mC:\\ProgramData\\Anaconda3\\lib\\site-packages\\pandas\\core\\frame.py\u001b[0m in \u001b[0;36m__getitem__\u001b[1;34m(self, key)\u001b[0m\n\u001b[0;32m   3028\u001b[0m             \u001b[1;32mif\u001b[0m \u001b[0mis_iterator\u001b[0m\u001b[1;33m(\u001b[0m\u001b[0mkey\u001b[0m\u001b[1;33m)\u001b[0m\u001b[1;33m:\u001b[0m\u001b[1;33m\u001b[0m\u001b[1;33m\u001b[0m\u001b[0m\n\u001b[0;32m   3029\u001b[0m                 \u001b[0mkey\u001b[0m \u001b[1;33m=\u001b[0m \u001b[0mlist\u001b[0m\u001b[1;33m(\u001b[0m\u001b[0mkey\u001b[0m\u001b[1;33m)\u001b[0m\u001b[1;33m\u001b[0m\u001b[1;33m\u001b[0m\u001b[0m\n\u001b[1;32m-> 3030\u001b[1;33m             \u001b[0mindexer\u001b[0m \u001b[1;33m=\u001b[0m \u001b[0mself\u001b[0m\u001b[1;33m.\u001b[0m\u001b[0mloc\u001b[0m\u001b[1;33m.\u001b[0m\u001b[0m_get_listlike_indexer\u001b[0m\u001b[1;33m(\u001b[0m\u001b[0mkey\u001b[0m\u001b[1;33m,\u001b[0m \u001b[0maxis\u001b[0m\u001b[1;33m=\u001b[0m\u001b[1;36m1\u001b[0m\u001b[1;33m,\u001b[0m \u001b[0mraise_missing\u001b[0m\u001b[1;33m=\u001b[0m\u001b[1;32mTrue\u001b[0m\u001b[1;33m)\u001b[0m\u001b[1;33m[\u001b[0m\u001b[1;36m1\u001b[0m\u001b[1;33m]\u001b[0m\u001b[1;33m\u001b[0m\u001b[1;33m\u001b[0m\u001b[0m\n\u001b[0m\u001b[0;32m   3031\u001b[0m \u001b[1;33m\u001b[0m\u001b[0m\n\u001b[0;32m   3032\u001b[0m         \u001b[1;31m# take() does not accept boolean indexers\u001b[0m\u001b[1;33m\u001b[0m\u001b[1;33m\u001b[0m\u001b[1;33m\u001b[0m\u001b[0m\n",
      "\u001b[1;32mC:\\ProgramData\\Anaconda3\\lib\\site-packages\\pandas\\core\\indexing.py\u001b[0m in \u001b[0;36m_get_listlike_indexer\u001b[1;34m(self, key, axis, raise_missing)\u001b[0m\n\u001b[0;32m   1264\u001b[0m             \u001b[0mkeyarr\u001b[0m\u001b[1;33m,\u001b[0m \u001b[0mindexer\u001b[0m\u001b[1;33m,\u001b[0m \u001b[0mnew_indexer\u001b[0m \u001b[1;33m=\u001b[0m \u001b[0max\u001b[0m\u001b[1;33m.\u001b[0m\u001b[0m_reindex_non_unique\u001b[0m\u001b[1;33m(\u001b[0m\u001b[0mkeyarr\u001b[0m\u001b[1;33m)\u001b[0m\u001b[1;33m\u001b[0m\u001b[1;33m\u001b[0m\u001b[0m\n\u001b[0;32m   1265\u001b[0m \u001b[1;33m\u001b[0m\u001b[0m\n\u001b[1;32m-> 1266\u001b[1;33m         \u001b[0mself\u001b[0m\u001b[1;33m.\u001b[0m\u001b[0m_validate_read_indexer\u001b[0m\u001b[1;33m(\u001b[0m\u001b[0mkeyarr\u001b[0m\u001b[1;33m,\u001b[0m \u001b[0mindexer\u001b[0m\u001b[1;33m,\u001b[0m \u001b[0maxis\u001b[0m\u001b[1;33m,\u001b[0m \u001b[0mraise_missing\u001b[0m\u001b[1;33m=\u001b[0m\u001b[0mraise_missing\u001b[0m\u001b[1;33m)\u001b[0m\u001b[1;33m\u001b[0m\u001b[1;33m\u001b[0m\u001b[0m\n\u001b[0m\u001b[0;32m   1267\u001b[0m         \u001b[1;32mreturn\u001b[0m \u001b[0mkeyarr\u001b[0m\u001b[1;33m,\u001b[0m \u001b[0mindexer\u001b[0m\u001b[1;33m\u001b[0m\u001b[1;33m\u001b[0m\u001b[0m\n\u001b[0;32m   1268\u001b[0m \u001b[1;33m\u001b[0m\u001b[0m\n",
      "\u001b[1;32mC:\\ProgramData\\Anaconda3\\lib\\site-packages\\pandas\\core\\indexing.py\u001b[0m in \u001b[0;36m_validate_read_indexer\u001b[1;34m(self, key, indexer, axis, raise_missing)\u001b[0m\n\u001b[0;32m   1306\u001b[0m             \u001b[1;32mif\u001b[0m \u001b[0mmissing\u001b[0m \u001b[1;33m==\u001b[0m \u001b[0mlen\u001b[0m\u001b[1;33m(\u001b[0m\u001b[0mindexer\u001b[0m\u001b[1;33m)\u001b[0m\u001b[1;33m:\u001b[0m\u001b[1;33m\u001b[0m\u001b[1;33m\u001b[0m\u001b[0m\n\u001b[0;32m   1307\u001b[0m                 \u001b[0maxis_name\u001b[0m \u001b[1;33m=\u001b[0m \u001b[0mself\u001b[0m\u001b[1;33m.\u001b[0m\u001b[0mobj\u001b[0m\u001b[1;33m.\u001b[0m\u001b[0m_get_axis_name\u001b[0m\u001b[1;33m(\u001b[0m\u001b[0maxis\u001b[0m\u001b[1;33m)\u001b[0m\u001b[1;33m\u001b[0m\u001b[1;33m\u001b[0m\u001b[0m\n\u001b[1;32m-> 1308\u001b[1;33m                 \u001b[1;32mraise\u001b[0m \u001b[0mKeyError\u001b[0m\u001b[1;33m(\u001b[0m\u001b[1;34mf\"None of [{key}] are in the [{axis_name}]\"\u001b[0m\u001b[1;33m)\u001b[0m\u001b[1;33m\u001b[0m\u001b[1;33m\u001b[0m\u001b[0m\n\u001b[0m\u001b[0;32m   1309\u001b[0m \u001b[1;33m\u001b[0m\u001b[0m\n\u001b[0;32m   1310\u001b[0m             \u001b[0max\u001b[0m \u001b[1;33m=\u001b[0m \u001b[0mself\u001b[0m\u001b[1;33m.\u001b[0m\u001b[0mobj\u001b[0m\u001b[1;33m.\u001b[0m\u001b[0m_get_axis\u001b[0m\u001b[1;33m(\u001b[0m\u001b[0maxis\u001b[0m\u001b[1;33m)\u001b[0m\u001b[1;33m\u001b[0m\u001b[1;33m\u001b[0m\u001b[0m\n",
      "\u001b[1;31mKeyError\u001b[0m: \"None of [CategoricalIndex([(17.999, 28.0],   (28.0, 31.0],   (31.0, 33.0],   (33.0, 35.0],   (35.0, 37.0],   (37.0, 39.0],\\n                    (39.0, 42.0],   (42.0, 45.0],   (45.0, 48.0],   (48.0, 52.0],   (52.0, 57.0],   (57.0, 95.0]],\\n                 categories=[(17.999, 28.0], (28.0, 31.0], (31.0, 33.0], (33.0, 35.0], (35.0, 37.0], (37.0, 39.0], (39.0, 42.0], (42.0, 45.0], ...], ordered=True, name='age', dtype='category')] are in the [columns]\""
     ]
    }
   ],
   "source": [
    "a8.plot.line(x = a8.index, y = 'woe')"
   ]
  },
  {
   "cell_type": "code",
   "execution_count": 9,
   "id": "d53c319f",
   "metadata": {},
   "outputs": [],
   "source": [
    "## simulation infValueEquibin"
   ]
  },
  {
   "cell_type": "code",
   "execution_count": 10,
   "id": "34c4b6d0",
   "metadata": {},
   "outputs": [],
   "source": [
    "    n=12; labels=(0,1); names=('No_Deposit','Deposit') ; mins=(500,100); verb=False \n",
    "    x  = df['duration']; y =df['target']\n",
    "    xx = pd.qcut( x, n, duplicates='drop')    # pandas.core.series.Series"
   ]
  },
  {
   "cell_type": "code",
   "execution_count": 11,
   "id": "49a0e761",
   "metadata": {},
   "outputs": [
    {
     "data": {
      "text/plain": [
       "0         (258.0, 319.0]\n",
       "1         (126.0, 152.0]\n",
       "2           (52.0, 80.0]\n",
       "3          (80.0, 103.0]\n",
       "4         (180.0, 215.0]\n",
       "              ...       \n",
       "45206    (603.0, 4918.0]\n",
       "45207     (411.0, 603.0]\n",
       "45208    (603.0, 4918.0]\n",
       "45209     (411.0, 603.0]\n",
       "45210     (319.0, 411.0]\n",
       "Name: duration, Length: 45211, dtype: category\n",
       "Categories (12, interval[float64]): [(-0.001, 52.0] < (52.0, 80.0] < (80.0, 103.0] < (103.0, 126.0] ... (258.0, 319.0] < (319.0, 411.0] < (411.0, 603.0] < (603.0, 4918.0]]"
      ]
     },
     "execution_count": 11,
     "metadata": {},
     "output_type": "execute_result"
    }
   ],
   "source": [
    "xx"
   ]
  },
  {
   "cell_type": "code",
   "execution_count": 12,
   "id": "f24e1aa4",
   "metadata": {
    "scrolled": true
   },
   "outputs": [
    {
     "data": {
      "text/plain": [
       "(52.0, 80.0]       3842\n",
       "(126.0, 152.0]     3830\n",
       "(-0.001, 52.0]     3827\n",
       "(258.0, 319.0]     3771\n",
       "(180.0, 215.0]     3769\n",
       "(603.0, 4918.0]    3757\n",
       "(152.0, 180.0]     3754\n",
       "(319.0, 411.0]     3752\n",
       "(411.0, 603.0]     3752\n",
       "(215.0, 258.0]     3750\n",
       "(80.0, 103.0]      3706\n",
       "(103.0, 126.0]     3701\n",
       "Name: duration, dtype: int64"
      ]
     },
     "execution_count": 12,
     "metadata": {},
     "output_type": "execute_result"
    }
   ],
   "source": [
    "xx.value_counts()  # get counts of y"
   ]
  },
  {
   "cell_type": "code",
   "execution_count": 13,
   "id": "03e1c15c",
   "metadata": {},
   "outputs": [
    {
     "data": {
      "text/html": [
       "<div>\n",
       "<style scoped>\n",
       "    .dataframe tbody tr th:only-of-type {\n",
       "        vertical-align: middle;\n",
       "    }\n",
       "\n",
       "    .dataframe tbody tr th {\n",
       "        vertical-align: top;\n",
       "    }\n",
       "\n",
       "    .dataframe thead th {\n",
       "        text-align: right;\n",
       "    }\n",
       "</style>\n",
       "<table border=\"1\" class=\"dataframe\">\n",
       "  <thead>\n",
       "    <tr style=\"text-align: right;\">\n",
       "      <th></th>\n",
       "      <th>age</th>\n",
       "      <th>job</th>\n",
       "      <th>marital</th>\n",
       "      <th>education</th>\n",
       "      <th>default</th>\n",
       "      <th>...</th>\n",
       "      <th>previous</th>\n",
       "      <th>poutcome</th>\n",
       "      <th>y</th>\n",
       "      <th>target</th>\n",
       "      <th>duration_gp</th>\n",
       "    </tr>\n",
       "  </thead>\n",
       "  <tbody>\n",
       "    <tr>\n",
       "      <th>0</th>\n",
       "      <td>58</td>\n",
       "      <td>management</td>\n",
       "      <td>married</td>\n",
       "      <td>tertiary</td>\n",
       "      <td>no</td>\n",
       "      <td>...</td>\n",
       "      <td>0</td>\n",
       "      <td>unknown</td>\n",
       "      <td>no</td>\n",
       "      <td>0</td>\n",
       "      <td>(258.0, 4918.0]</td>\n",
       "    </tr>\n",
       "    <tr>\n",
       "      <th>1</th>\n",
       "      <td>44</td>\n",
       "      <td>technician</td>\n",
       "      <td>single</td>\n",
       "      <td>secondary</td>\n",
       "      <td>no</td>\n",
       "      <td>...</td>\n",
       "      <td>0</td>\n",
       "      <td>unknown</td>\n",
       "      <td>no</td>\n",
       "      <td>0</td>\n",
       "      <td>(126.0, 258.0]</td>\n",
       "    </tr>\n",
       "    <tr>\n",
       "      <th>2</th>\n",
       "      <td>33</td>\n",
       "      <td>entrepreneur</td>\n",
       "      <td>married</td>\n",
       "      <td>secondary</td>\n",
       "      <td>no</td>\n",
       "      <td>...</td>\n",
       "      <td>0</td>\n",
       "      <td>unknown</td>\n",
       "      <td>no</td>\n",
       "      <td>0</td>\n",
       "      <td>(-0.001, 126.0]</td>\n",
       "    </tr>\n",
       "    <tr>\n",
       "      <th>3</th>\n",
       "      <td>47</td>\n",
       "      <td>blue-collar</td>\n",
       "      <td>married</td>\n",
       "      <td>unknown</td>\n",
       "      <td>no</td>\n",
       "      <td>...</td>\n",
       "      <td>0</td>\n",
       "      <td>unknown</td>\n",
       "      <td>no</td>\n",
       "      <td>0</td>\n",
       "      <td>(-0.001, 126.0]</td>\n",
       "    </tr>\n",
       "    <tr>\n",
       "      <th>4</th>\n",
       "      <td>33</td>\n",
       "      <td>unknown</td>\n",
       "      <td>single</td>\n",
       "      <td>unknown</td>\n",
       "      <td>no</td>\n",
       "      <td>...</td>\n",
       "      <td>0</td>\n",
       "      <td>unknown</td>\n",
       "      <td>no</td>\n",
       "      <td>0</td>\n",
       "      <td>(126.0, 258.0]</td>\n",
       "    </tr>\n",
       "  </tbody>\n",
       "</table>\n",
       "<p>5 rows × 19 columns</p>\n",
       "</div>"
      ],
      "text/plain": [
       "   age           job  marital  education default  ...  previous poutcome   y target      duration_gp\n",
       "0   58    management  married   tertiary      no  ...         0  unknown  no      0  (258.0, 4918.0]\n",
       "1   44    technician   single  secondary      no  ...         0  unknown  no      0   (126.0, 258.0]\n",
       "2   33  entrepreneur  married  secondary      no  ...         0  unknown  no      0  (-0.001, 126.0]\n",
       "3   47   blue-collar  married    unknown      no  ...         0  unknown  no      0  (-0.001, 126.0]\n",
       "4   33       unknown   single    unknown      no  ...         0  unknown  no      0   (126.0, 258.0]\n",
       "\n",
       "[5 rows x 19 columns]"
      ]
     },
     "execution_count": 13,
     "metadata": {},
     "output_type": "execute_result"
    }
   ],
   "source": [
    "\n",
    "df1 = df.copy()\n",
    "df1['duration_gp'] = pd.qcut(df1['duration'], 3)\n",
    "df1.head()"
   ]
  },
  {
   "cell_type": "code",
   "execution_count": 14,
   "id": "4e991bac",
   "metadata": {},
   "outputs": [
    {
     "data": {
      "text/html": [
       "<div>\n",
       "<style scoped>\n",
       "    .dataframe tbody tr th:only-of-type {\n",
       "        vertical-align: middle;\n",
       "    }\n",
       "\n",
       "    .dataframe tbody tr th {\n",
       "        vertical-align: top;\n",
       "    }\n",
       "\n",
       "    .dataframe thead th {\n",
       "        text-align: right;\n",
       "    }\n",
       "</style>\n",
       "<table border=\"1\" class=\"dataframe\">\n",
       "  <thead>\n",
       "    <tr style=\"text-align: right;\">\n",
       "      <th></th>\n",
       "      <th>duration</th>\n",
       "      <th>duration_gp</th>\n",
       "    </tr>\n",
       "  </thead>\n",
       "  <tbody>\n",
       "    <tr>\n",
       "      <th>0</th>\n",
       "      <td>261</td>\n",
       "      <td>(258.0, 4918.0]</td>\n",
       "    </tr>\n",
       "    <tr>\n",
       "      <th>1</th>\n",
       "      <td>151</td>\n",
       "      <td>(126.0, 258.0]</td>\n",
       "    </tr>\n",
       "    <tr>\n",
       "      <th>2</th>\n",
       "      <td>76</td>\n",
       "      <td>(-0.001, 126.0]</td>\n",
       "    </tr>\n",
       "    <tr>\n",
       "      <th>3</th>\n",
       "      <td>92</td>\n",
       "      <td>(-0.001, 126.0]</td>\n",
       "    </tr>\n",
       "    <tr>\n",
       "      <th>4</th>\n",
       "      <td>198</td>\n",
       "      <td>(126.0, 258.0]</td>\n",
       "    </tr>\n",
       "  </tbody>\n",
       "</table>\n",
       "</div>"
      ],
      "text/plain": [
       "   duration      duration_gp\n",
       "0       261  (258.0, 4918.0]\n",
       "1       151   (126.0, 258.0]\n",
       "2        76  (-0.001, 126.0]\n",
       "3        92  (-0.001, 126.0]\n",
       "4       198   (126.0, 258.0]"
      ]
     },
     "execution_count": 14,
     "metadata": {},
     "output_type": "execute_result"
    }
   ],
   "source": [
    "df1[['duration', 'duration_gp']].head()"
   ]
  },
  {
   "cell_type": "code",
   "execution_count": 15,
   "id": "a711746b",
   "metadata": {},
   "outputs": [
    {
     "data": {
      "text/html": [
       "<div>\n",
       "<style scoped>\n",
       "    .dataframe tbody tr th:only-of-type {\n",
       "        vertical-align: middle;\n",
       "    }\n",
       "\n",
       "    .dataframe tbody tr th {\n",
       "        vertical-align: top;\n",
       "    }\n",
       "\n",
       "    .dataframe thead th {\n",
       "        text-align: right;\n",
       "    }\n",
       "</style>\n",
       "<table border=\"1\" class=\"dataframe\">\n",
       "  <thead>\n",
       "    <tr style=\"text-align: right;\">\n",
       "      <th>target</th>\n",
       "      <th>0</th>\n",
       "      <th>1</th>\n",
       "    </tr>\n",
       "    <tr>\n",
       "      <th>duration</th>\n",
       "      <th></th>\n",
       "      <th></th>\n",
       "    </tr>\n",
       "  </thead>\n",
       "  <tbody>\n",
       "    <tr>\n",
       "      <th>(-0.001, 52.0]</th>\n",
       "      <td>3818</td>\n",
       "      <td>9</td>\n",
       "    </tr>\n",
       "    <tr>\n",
       "      <th>(52.0, 80.0]</th>\n",
       "      <td>3812</td>\n",
       "      <td>30</td>\n",
       "    </tr>\n",
       "    <tr>\n",
       "      <th>(80.0, 103.0]</th>\n",
       "      <td>3618</td>\n",
       "      <td>88</td>\n",
       "    </tr>\n",
       "    <tr>\n",
       "      <th>(103.0, 126.0]</th>\n",
       "      <td>3583</td>\n",
       "      <td>118</td>\n",
       "    </tr>\n",
       "    <tr>\n",
       "      <th>(126.0, 152.0]</th>\n",
       "      <td>3629</td>\n",
       "      <td>201</td>\n",
       "    </tr>\n",
       "    <tr>\n",
       "      <th>(152.0, 180.0]</th>\n",
       "      <td>3491</td>\n",
       "      <td>263</td>\n",
       "    </tr>\n",
       "    <tr>\n",
       "      <th>(180.0, 215.0]</th>\n",
       "      <td>3435</td>\n",
       "      <td>334</td>\n",
       "    </tr>\n",
       "    <tr>\n",
       "      <th>(215.0, 258.0]</th>\n",
       "      <td>3331</td>\n",
       "      <td>419</td>\n",
       "    </tr>\n",
       "    <tr>\n",
       "      <th>(258.0, 319.0]</th>\n",
       "      <td>3259</td>\n",
       "      <td>512</td>\n",
       "    </tr>\n",
       "    <tr>\n",
       "      <th>(319.0, 411.0]</th>\n",
       "      <td>3169</td>\n",
       "      <td>583</td>\n",
       "    </tr>\n",
       "    <tr>\n",
       "      <th>(411.0, 603.0]</th>\n",
       "      <td>2847</td>\n",
       "      <td>905</td>\n",
       "    </tr>\n",
       "    <tr>\n",
       "      <th>(603.0, 4918.0]</th>\n",
       "      <td>1930</td>\n",
       "      <td>1827</td>\n",
       "    </tr>\n",
       "  </tbody>\n",
       "</table>\n",
       "</div>"
      ],
      "text/plain": [
       "target              0     1\n",
       "duration                   \n",
       "(-0.001, 52.0]   3818     9\n",
       "(52.0, 80.0]     3812    30\n",
       "(80.0, 103.0]    3618    88\n",
       "(103.0, 126.0]   3583   118\n",
       "(126.0, 152.0]   3629   201\n",
       "(152.0, 180.0]   3491   263\n",
       "(180.0, 215.0]   3435   334\n",
       "(215.0, 258.0]   3331   419\n",
       "(258.0, 319.0]   3259   512\n",
       "(319.0, 411.0]   3169   583\n",
       "(411.0, 603.0]   2847   905\n",
       "(603.0, 4918.0]  1930  1827"
      ]
     },
     "execution_count": 15,
     "metadata": {},
     "output_type": "execute_result"
    }
   ],
   "source": [
    "    xx = pd.qcut( x, n, duplicates='drop')    \n",
    "    a = pd.crosstab( xx, y )\n",
    "    a"
   ]
  },
  {
   "cell_type": "code",
   "execution_count": 16,
   "id": "08bcec57",
   "metadata": {},
   "outputs": [
    {
     "data": {
      "text/html": [
       "<div>\n",
       "<style scoped>\n",
       "    .dataframe tbody tr th:only-of-type {\n",
       "        vertical-align: middle;\n",
       "    }\n",
       "\n",
       "    .dataframe tbody tr th {\n",
       "        vertical-align: top;\n",
       "    }\n",
       "\n",
       "    .dataframe thead th {\n",
       "        text-align: right;\n",
       "    }\n",
       "</style>\n",
       "<table border=\"1\" class=\"dataframe\">\n",
       "  <thead>\n",
       "    <tr style=\"text-align: right;\">\n",
       "      <th>target</th>\n",
       "      <th>0</th>\n",
       "      <th>1</th>\n",
       "    </tr>\n",
       "    <tr>\n",
       "      <th>duration</th>\n",
       "      <th></th>\n",
       "      <th></th>\n",
       "    </tr>\n",
       "  </thead>\n",
       "  <tbody>\n",
       "    <tr>\n",
       "      <th>(-0.001, 52.0]</th>\n",
       "      <td>3818</td>\n",
       "      <td>9</td>\n",
       "    </tr>\n",
       "    <tr>\n",
       "      <th>(52.0, 80.0]</th>\n",
       "      <td>3812</td>\n",
       "      <td>30</td>\n",
       "    </tr>\n",
       "    <tr>\n",
       "      <th>(80.0, 103.0]</th>\n",
       "      <td>3618</td>\n",
       "      <td>88</td>\n",
       "    </tr>\n",
       "    <tr>\n",
       "      <th>(103.0, 126.0]</th>\n",
       "      <td>3583</td>\n",
       "      <td>118</td>\n",
       "    </tr>\n",
       "    <tr>\n",
       "      <th>(126.0, 152.0]</th>\n",
       "      <td>3629</td>\n",
       "      <td>201</td>\n",
       "    </tr>\n",
       "    <tr>\n",
       "      <th>(152.0, 180.0]</th>\n",
       "      <td>3491</td>\n",
       "      <td>263</td>\n",
       "    </tr>\n",
       "    <tr>\n",
       "      <th>(180.0, 215.0]</th>\n",
       "      <td>3435</td>\n",
       "      <td>334</td>\n",
       "    </tr>\n",
       "    <tr>\n",
       "      <th>(215.0, 258.0]</th>\n",
       "      <td>3331</td>\n",
       "      <td>419</td>\n",
       "    </tr>\n",
       "    <tr>\n",
       "      <th>(258.0, 319.0]</th>\n",
       "      <td>3259</td>\n",
       "      <td>512</td>\n",
       "    </tr>\n",
       "    <tr>\n",
       "      <th>(319.0, 411.0]</th>\n",
       "      <td>3169</td>\n",
       "      <td>583</td>\n",
       "    </tr>\n",
       "    <tr>\n",
       "      <th>(411.0, 603.0]</th>\n",
       "      <td>2847</td>\n",
       "      <td>905</td>\n",
       "    </tr>\n",
       "    <tr>\n",
       "      <th>(603.0, 4918.0]</th>\n",
       "      <td>1930</td>\n",
       "      <td>1827</td>\n",
       "    </tr>\n",
       "  </tbody>\n",
       "</table>\n",
       "</div>"
      ],
      "text/plain": [
       "target              0     1\n",
       "duration                   \n",
       "(-0.001, 52.0]   3818     9\n",
       "(52.0, 80.0]     3812    30\n",
       "(80.0, 103.0]    3618    88\n",
       "(103.0, 126.0]   3583   118\n",
       "(126.0, 152.0]   3629   201\n",
       "(152.0, 180.0]   3491   263\n",
       "(180.0, 215.0]   3435   334\n",
       "(215.0, 258.0]   3331   419\n",
       "(258.0, 319.0]   3259   512\n",
       "(319.0, 411.0]   3169   583\n",
       "(411.0, 603.0]   2847   905\n",
       "(603.0, 4918.0]  1930  1827"
      ]
     },
     "execution_count": 16,
     "metadata": {},
     "output_type": "execute_result"
    }
   ],
   "source": [
    " a = a.sort_index( 0 ) \n",
    " a   "
   ]
  },
  {
   "cell_type": "code",
   "execution_count": 17,
   "id": "79d1ccdc",
   "metadata": {},
   "outputs": [
    {
     "ename": "IndentationError",
     "evalue": "unexpected indent (<ipython-input-17-fffc923472a1>, line 4)",
     "output_type": "error",
     "traceback": [
      "\u001b[1;36m  File \u001b[1;32m\"<ipython-input-17-fffc923472a1>\"\u001b[1;36m, line \u001b[1;32m4\u001b[0m\n\u001b[1;33m    xx = pd.qcut( x, n, duplicates='drop')\u001b[0m\n\u001b[1;37m    ^\u001b[0m\n\u001b[1;31mIndentationError\u001b[0m\u001b[1;31m:\u001b[0m unexpected indent\n"
     ]
    }
   ],
   "source": [
    "#def infValueEquibin( x, y, n=7, labels=(0,1), names=('Neg', 'Pos'), mins=(1,1), verb=False):\n",
    "\n",
    "    \n",
    "    xx = pd.qcut( x, n, duplicates='drop')    \n",
    "    a = pd.crosstab( xx, y ) \n",
    "    a = a.sort_index( 0 )     #  To ensure ascending order\n",
    "    labs2keep=[g for g in a.columns if g in labels ]\n",
    "    a = a[labs2keep]\n",
    "    a.columns = names\n",
    "\n",
    "    #n = np.min([np.max([n,3]),7])\n",
    "    \n",
    "    xx = pd.qcut( x, n, duplicates='drop')    \n",
    "    a = pd.crosstab( xx, y ) \n",
    "    a = a.sort_index( 0 )     #  To ensure ascending order\n",
    "    labs2keep=[g for g in a.columns if g in labels ]\n",
    "    a = a[labs2keep]\n",
    "    a.columns = names"
   ]
  }
 ],
 "metadata": {
  "kernelspec": {
   "display_name": "Python 3",
   "language": "python",
   "name": "python3"
  },
  "language_info": {
   "codemirror_mode": {
    "name": "ipython",
    "version": 3
   },
   "file_extension": ".py",
   "mimetype": "text/x-python",
   "name": "python",
   "nbconvert_exporter": "python",
   "pygments_lexer": "ipython3",
   "version": "3.8.8"
  }
 },
 "nbformat": 4,
 "nbformat_minor": 5
}
