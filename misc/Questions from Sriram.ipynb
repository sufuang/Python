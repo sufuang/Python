{
 "cells": [
  {
   "cell_type": "markdown",
   "id": "3dce411a",
   "metadata": {},
   "source": [
    "## 1. SQL example\n",
    "   - Create a data frame 'my_data' with columns: \"employee_name\", \"department\", \"salary\"\n",
    "   - Use it to create a sqlite3 table 'my_data' under 'chinook.db' which can be download from \n",
    "     -  https://www.sqlitetutorial.net/sqlite-sample-database/                                        \n",
    "   - Rank the salary by using window function rank() \n",
    "   - Rank the salary by using window function dense_rank()                                           \n",
    "   - Apply row_column() to get the employee_name with the highest salary\n",
    "                                     "
   ]
  },
  {
   "cell_type": "code",
   "execution_count": 1,
   "id": "83201323",
   "metadata": {},
   "outputs": [],
   "source": [
    "import sqlite3\n",
    "import pandas as pd"
   ]
  },
  {
   "cell_type": "markdown",
   "id": "89c8dbca",
   "metadata": {},
   "source": [
    "### Establish connection"
   ]
  },
  {
   "cell_type": "code",
   "execution_count": 2,
   "id": "bf08c9eb",
   "metadata": {},
   "outputs": [],
   "source": [
    "path = 'C:\\\\Users\\\\sophia.yue\\\\Infosys\\Data\\\\'\n",
    "conn = sqlite3.connect(path + 'chinook.db')\n",
    "# create a lambda function to execute sql \n",
    "exec_sql = lambda title, sql_cmd: print(f'{title} \\n {pd.read_sql_query(sql_cmd, conn)}') \n",
    "\n",
    "# Get table attributes \n",
    "def tbl_attr(tbl_nam):\n",
    "    tbl_attr = f'PRAGMA table_info({tbl_nam})'\n",
    "    exec_sql (f\"Attritube of {tbl_nam}\", tbl_attr)"
   ]
  },
  {
   "cell_type": "markdown",
   "id": "1f06f4e1",
   "metadata": {},
   "source": [
    "### Create a table from a data frame"
   ]
  },
  {
   "cell_type": "code",
   "execution_count": 3,
   "id": "ab7286b7",
   "metadata": {},
   "outputs": [
    {
     "data": {
      "text/html": [
       "<div>\n",
       "<style scoped>\n",
       "    .dataframe tbody tr th:only-of-type {\n",
       "        vertical-align: middle;\n",
       "    }\n",
       "\n",
       "    .dataframe tbody tr th {\n",
       "        vertical-align: top;\n",
       "    }\n",
       "\n",
       "    .dataframe thead th {\n",
       "        text-align: right;\n",
       "    }\n",
       "</style>\n",
       "<table border=\"1\" class=\"dataframe\">\n",
       "  <thead>\n",
       "    <tr style=\"text-align: right;\">\n",
       "      <th></th>\n",
       "      <th>employee_name</th>\n",
       "      <th>department</th>\n",
       "      <th>salary</th>\n",
       "    </tr>\n",
       "  </thead>\n",
       "  <tbody>\n",
       "    <tr>\n",
       "      <th>0</th>\n",
       "      <td>James</td>\n",
       "      <td>Sales</td>\n",
       "      <td>3000</td>\n",
       "    </tr>\n",
       "    <tr>\n",
       "      <th>1</th>\n",
       "      <td>Michael</td>\n",
       "      <td>Sales</td>\n",
       "      <td>4600</td>\n",
       "    </tr>\n",
       "    <tr>\n",
       "      <th>2</th>\n",
       "      <td>Robert</td>\n",
       "      <td>Sales</td>\n",
       "      <td>4100</td>\n",
       "    </tr>\n",
       "    <tr>\n",
       "      <th>3</th>\n",
       "      <td>Maria</td>\n",
       "      <td>Finance</td>\n",
       "      <td>3000</td>\n",
       "    </tr>\n",
       "    <tr>\n",
       "      <th>4</th>\n",
       "      <td>James</td>\n",
       "      <td>Sales</td>\n",
       "      <td>3000</td>\n",
       "    </tr>\n",
       "    <tr>\n",
       "      <th>5</th>\n",
       "      <td>Scott</td>\n",
       "      <td>Finance</td>\n",
       "      <td>3300</td>\n",
       "    </tr>\n",
       "    <tr>\n",
       "      <th>6</th>\n",
       "      <td>Jen</td>\n",
       "      <td>Finance</td>\n",
       "      <td>3900</td>\n",
       "    </tr>\n",
       "    <tr>\n",
       "      <th>7</th>\n",
       "      <td>Jeff</td>\n",
       "      <td>Marketing</td>\n",
       "      <td>3000</td>\n",
       "    </tr>\n",
       "    <tr>\n",
       "      <th>8</th>\n",
       "      <td>Kumar</td>\n",
       "      <td>Marketing</td>\n",
       "      <td>2000</td>\n",
       "    </tr>\n",
       "    <tr>\n",
       "      <th>9</th>\n",
       "      <td>Saif</td>\n",
       "      <td>Sales</td>\n",
       "      <td>4100</td>\n",
       "    </tr>\n",
       "  </tbody>\n",
       "</table>\n",
       "</div>"
      ],
      "text/plain": [
       "  employee_name department  salary\n",
       "0         James      Sales    3000\n",
       "1       Michael      Sales    4600\n",
       "2        Robert      Sales    4100\n",
       "3         Maria    Finance    3000\n",
       "4         James      Sales    3000\n",
       "5         Scott    Finance    3300\n",
       "6           Jen    Finance    3900\n",
       "7          Jeff  Marketing    3000\n",
       "8         Kumar  Marketing    2000\n",
       "9          Saif      Sales    4100"
      ]
     },
     "execution_count": 3,
     "metadata": {},
     "output_type": "execute_result"
    }
   ],
   "source": [
    "simp_data = ((\"James\", \"Sales\", 3000), \\\n",
    "    (\"Michael\", \"Sales\", 4600),  \\\n",
    "    (\"Robert\", \"Sales\", 4100),   \\\n",
    "    (\"Maria\", \"Finance\", 3000),  \\\n",
    "    (\"James\", \"Sales\", 3000),    \\\n",
    "    (\"Scott\", \"Finance\", 3300),  \\\n",
    "    (\"Jen\", \"Finance\", 3900),    \\\n",
    "    (\"Jeff\", \"Marketing\", 3000), \\\n",
    "    (\"Kumar\", \"Marketing\", 2000),\\\n",
    "    (\"Saif\", \"Sales\", 4100) \\\n",
    "  )\n",
    " \n",
    "columns= [\"employee_name\", \"department\", \"salary\"]\n",
    "my_data = pd.DataFrame(data = simp_data, columns = columns)\n",
    "my_data"
   ]
  },
  {
   "cell_type": "code",
   "execution_count": 4,
   "id": "d3a983c1",
   "metadata": {},
   "outputs": [
    {
     "name": "stdout",
     "output_type": "stream",
     "text": [
      "Attritube of my_data \n",
      "    cid           name     type  notnull dflt_value  pk\n",
      "0    0  employee_name     TEXT        0       None   0\n",
      "1    1     department     TEXT        0       None   0\n",
      "2    2         salary  INTEGER        0       None   0\n",
      "employees top 10 \n",
      "   employee_name department  salary\n",
      "0       Michael      Sales    4600\n",
      "1        Robert      Sales    4100\n",
      "2          Saif      Sales    4100\n",
      "3           Jen    Finance    3900\n",
      "4         Scott    Finance    3300\n",
      "5         James      Sales    3000\n",
      "6         Maria    Finance    3000\n",
      "7         James      Sales    3000\n",
      "8          Jeff  Marketing    3000\n",
      "9         Kumar  Marketing    2000\n"
     ]
    }
   ],
   "source": [
    "my_data.to_sql(\"my_data\", conn, if_exists=\"replace\", index = False)\n",
    "tbl_attr('my_data')\n",
    "sql = \"\"\"select * from my_data order by salary desc\n",
    "\"\"\"\n",
    "exec_sql (f\"employees top 10\", sql)"
   ]
  },
  {
   "cell_type": "markdown",
   "id": "5a911311",
   "metadata": {},
   "source": [
    "### 1.1 Rank the salary by using window function rank() \n"
   ]
  },
  {
   "cell_type": "code",
   "execution_count": 5,
   "id": "259f46f8",
   "metadata": {},
   "outputs": [
    {
     "name": "stdout",
     "output_type": "stream",
     "text": [
      "rank \n",
      "   employee_name department  salary  salary_rank\n",
      "0       Michael      Sales    4600            1\n",
      "1        Robert      Sales    4100            2\n",
      "2          Saif      Sales    4100            2\n",
      "3           Jen    Finance    3900            4\n",
      "4         Scott    Finance    3300            5\n",
      "5         James      Sales    3000            6\n",
      "6         Maria    Finance    3000            6\n",
      "7         James      Sales    3000            6\n",
      "8          Jeff  Marketing    3000            6\n",
      "9         Kumar  Marketing    2000           10\n"
     ]
    }
   ],
   "source": [
    "sql = \"\"\"\n",
    "select *, rank() over (order by salary desc) salary_rank from my_data\n",
    "\"\"\"\n",
    "exec_sql (f\"rank\", sql)"
   ]
  },
  {
   "cell_type": "markdown",
   "id": "90babc02",
   "metadata": {},
   "source": [
    "### 1.2 Rank the salary by using window function dense_rank()                                           \n"
   ]
  },
  {
   "cell_type": "code",
   "execution_count": 6,
   "id": "86cd3635",
   "metadata": {},
   "outputs": [
    {
     "name": "stdout",
     "output_type": "stream",
     "text": [
      "dense_rank \n",
      "   employee_name department  salary  salary_rank\n",
      "0       Michael      Sales    4600            1\n",
      "1        Robert      Sales    4100            2\n",
      "2          Saif      Sales    4100            2\n",
      "3           Jen    Finance    3900            3\n",
      "4         Scott    Finance    3300            4\n",
      "5         James      Sales    3000            5\n",
      "6         Maria    Finance    3000            5\n",
      "7         James      Sales    3000            5\n",
      "8          Jeff  Marketing    3000            5\n",
      "9         Kumar  Marketing    2000            6\n"
     ]
    }
   ],
   "source": [
    "sql = \"\"\"\n",
    "select *, dense_rank() over (order by salary desc) salary_rank from my_data\n",
    "\"\"\"\n",
    "exec_sql (f\"dense_rank\", sql)"
   ]
  },
  {
   "cell_type": "markdown",
   "id": "7b5502d0",
   "metadata": {},
   "source": [
    "### 1.3 Apply row_column() to get the employee_name with the highest salary"
   ]
  },
  {
   "cell_type": "code",
   "execution_count": 7,
   "id": "e321f71c",
   "metadata": {},
   "outputs": [
    {
     "name": "stdout",
     "output_type": "stream",
     "text": [
      "department top salary \n",
      "   employee_name department  salary  seqnum\n",
      "0           Jen    Finance    3900       1\n",
      "1          Jeff  Marketing    3000       1\n",
      "2       Michael      Sales    4600       1\n"
     ]
    }
   ],
   "source": [
    "sql= \"\"\"\n",
    "select * from \n",
    "(select *, row_number() over (partition  by department order by salary desc) as seqnum\n",
    "          from my_data) tmp\n",
    "where seqnum = 1 \n",
    "\"\"\"\n",
    "exec_sql (f\"department top salary\", sql)"
   ]
  },
  {
   "cell_type": "markdown",
   "id": "7e35aec2",
   "metadata": {},
   "source": [
    "## 2. Get counts of a string \n",
    "   - Write a function get counts of each character from a string, e.g.,\n",
    "   - Write a function get counts of consecutive characters from a string"
   ]
  },
  {
   "cell_type": "markdown",
   "id": "4905202a",
   "metadata": {},
   "source": [
    "### 2.1 Write a function get count of each character from a string"
   ]
  },
  {
   "cell_type": "code",
   "execution_count": 8,
   "id": "20e5e12f",
   "metadata": {},
   "outputs": [],
   "source": [
    " def cnt_char(str):\n",
    "     \"\"\"\n",
    "      Purpose: Get count of consecutive characters from a string\n",
    "     \"\"\"   \n",
    "     l_str = list(char for char in str) # convert  a str to a list of char\n",
    "     # get count of char\n",
    "     l_str_cnt = list(set((k,l_str.count(k)) for k in l_str))\n",
    "     print(\"Given string: \", str)\n",
    "     print(f'Count of character in a given string: {l_str_cnt}')    \n",
    "   "
   ]
  },
  {
   "cell_type": "code",
   "execution_count": 9,
   "id": "0bb0c623",
   "metadata": {},
   "outputs": [
    {
     "name": "stdout",
     "output_type": "stream",
     "text": [
      "Given string:  XXXXYYYZZWX\n",
      "Count of character in a given string: [('X', 5), ('W', 1), ('Y', 3), ('Z', 2)]\n",
      "Given string:  XXXXYYYZZ\n",
      "Count of character in a given string: [('X', 4), ('Z', 2), ('Y', 3)]\n",
      "Given string:  XXXXYYYZZX\n",
      "Count of character in a given string: [('X', 5), ('Y', 3), ('Z', 2)]\n",
      "Given string:  \n",
      "Count of character in a given string: []\n"
     ]
    }
   ],
   "source": [
    "cnt_char(str = \"XXXXYYYZZWX\") \n",
    "cnt_char(str = \"XXXXYYYZZ\") \n",
    "cnt_char(str = \"XXXXYYYZZX\")\n",
    "cnt_char(str = \"\")"
   ]
  },
  {
   "cell_type": "markdown",
   "id": "10cfa96c",
   "metadata": {},
   "source": [
    "### 2.1 Write a function get count of consecutive characters from a string"
   ]
  },
  {
   "cell_type": "code",
   "execution_count": 10,
   "id": "483189fd",
   "metadata": {},
   "outputs": [],
   "source": [
    "def cnt_cons_char(str):\n",
    "    \"\"\"\n",
    "     Purpose: Get count of consecutive characters from a string\n",
    "    \"\"\"\n",
    "    str = re.sub(' +', '', str)  \n",
    "    l_cons_str = [] \n",
    "    k = 0\n",
    "    for i in range(0, len(str)):  \n",
    "        count = 1;      \n",
    "        if k == len(str):\n",
    "           break \n",
    "            \n",
    "        for j in range(k+1, len(str)):  \n",
    "            if(str[k] == str[j] ):  \n",
    "                count = count + 1;                \n",
    "            else:\n",
    "                if count == 1:\n",
    "                   k = j \n",
    "                   break\n",
    "                else: \n",
    "                   l_cons_str.append((str[k], count))         \n",
    "                   k = j \n",
    "                   break\n",
    "    print(\"Given string: \", str)\n",
    "    print(f'Count of duplicate characters in a given string: {l_cons_str}') "
   ]
  },
  {
   "cell_type": "code",
   "execution_count": 11,
   "id": "3fd85ed8",
   "metadata": {},
   "outputs": [
    {
     "name": "stdout",
     "output_type": "stream",
     "text": [
      "Given string:  XXXXYYYZZWX\n",
      "Count of duplicate characters in a given string: [('X', 4), ('Y', 3), ('Z', 2)]\n",
      "Given string:  XXXXYYYZZX\n",
      "Count of duplicate characters in a given string: [('X', 4), ('Y', 3), ('Z', 2)]\n",
      "Given string:  XXXXYYYWZZX\n",
      "Count of duplicate characters in a given string: [('X', 4), ('Y', 3), ('Z', 2)]\n"
     ]
    }
   ],
   "source": [
    "import re\n",
    "cnt_cons_char(str = \"XXXXYYYZZWX\") \n",
    "cnt_cons_char(str = \"XXXXYYYZZX\")\n",
    "cnt_cons_char(str = \"XXXXYYYWZZX\")"
   ]
  }
 ],
 "metadata": {
  "kernelspec": {
   "display_name": "Python 3 (ipykernel)",
   "language": "python",
   "name": "python3"
  },
  "language_info": {
   "codemirror_mode": {
    "name": "ipython",
    "version": 3
   },
   "file_extension": ".py",
   "mimetype": "text/x-python",
   "name": "python",
   "nbconvert_exporter": "python",
   "pygments_lexer": "ipython3",
   "version": "3.10.9"
  }
 },
 "nbformat": 4,
 "nbformat_minor": 5
}
