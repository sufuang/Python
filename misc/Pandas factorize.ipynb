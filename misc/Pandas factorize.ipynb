{
 "cells": [
  {
   "cell_type": "markdown",
   "id": "feec5a21",
   "metadata": {},
   "source": [
    "# Pandas.factorize()\n",
    "  - factorize(values, sort=False, na_sentinel=- 1, size_hint=None)\n",
    "  - Encode the object as an enumerated type or categorical variable.\n",
    "     - This method is useful for obtaining a numeric representation of an array \n",
    "       - when all that matters is identifying distinct values.  \n",
    "  - Parameters:\n",
    "     - values : 1D sequence.\n",
    "     - sort : [bool, Default is False] Sort uniques and shuffle labels.\n",
    "     - na_sentinel : [ int, default -1] Missing Values to mark ‘not found’.\n",
    "     - Return: Numeric representation of array\n",
    "   - https://www.geeksforgeeks.org/python-pandas-factorize/\n",
    "   - https://pandas.pydata.org/docs/reference/api/pandas.factorize.html \n"
   ]
  },
  {
   "cell_type": "code",
   "execution_count": 8,
   "id": "74804c77",
   "metadata": {},
   "outputs": [],
   "source": [
    "\n",
    "# importing libraries\n",
    "import numpy as np\n",
    "import pandas as pd\n",
    "from pandas.api.types import CategoricalDtype\n"
   ]
  },
  {
   "cell_type": "code",
   "execution_count": 5,
   "id": "28b38577",
   "metadata": {},
   "outputs": [
    {
     "data": {
      "text/plain": [
       "[('d', 2), ('a', 2), ('b', 2), ('c', 2)]"
      ]
     },
     "execution_count": 5,
     "metadata": {},
     "output_type": "execute_result"
    }
   ],
   "source": [
    "l_inp = ['b', 'd', 'd', 'c', 'a', 'c', 'a', 'b']\n",
    "list(set((k,l_inp.count(k)) for k in l_inp))\n",
    "\n"
   ]
  },
  {
   "cell_type": "code",
   "execution_count": null,
   "id": "4cc68b74",
   "metadata": {},
   "outputs": [],
   "source": []
  },
  {
   "cell_type": "code",
   "execution_count": 9,
   "id": "272083ea",
   "metadata": {},
   "outputs": [
    {
     "name": "stdout",
     "output_type": "stream",
     "text": [
      "Numeric Representation : \n",
      " [0 1 1 2 3 2 3 0]\n",
      "Unique Values : \n",
      " ['b' 'd' 'c' 'a']\n"
     ]
    }
   ],
   "source": [
    "\n",
    "\"\"\"\n",
    "b: 0; d: 1; c: 2;  a:4\n",
    "\"\"\"bels, uniques = pd.factorize(l_inp)\n",
    "print(\"Numeric Representation : \\n\", labels)\n",
    "print(\"Unique Values : \\n\", uniques)"
   ]
  },
  {
   "cell_type": "code",
   "execution_count": 10,
   "id": "5128a629",
   "metadata": {},
   "outputs": [
    {
     "name": "stdout",
     "output_type": "stream",
     "text": [
      "\n",
      "\n",
      "Numeric Representation : \n",
      " [1 3 3 2 0 2 0 1]\n",
      "Unique Values : \n",
      " ['a' 'b' 'c' 'd']\n"
     ]
    }
   ],
   "source": [
    "# sorting the numerics\n",
    "label1, unique1 = pd.factorize(['b', 'd', 'd', 'c', 'a', 'c', 'a', 'b'], \n",
    "                                                           sort = True)\n",
    "  \n",
    "print(\"\\n\\nNumeric Representation : \\n\", label1)\n",
    "print(\"Unique Values : \\n\", unique1)"
   ]
  },
  {
   "cell_type": "code",
   "execution_count": 11,
   "id": "414b2b23",
   "metadata": {},
   "outputs": [
    {
     "name": "stdout",
     "output_type": "stream",
     "text": [
      "\n",
      "\n",
      "Numeric Representation : \n",
      " [   0 -101    1    2 -101    3]\n",
      "Unique Values : \n",
      " ['b' 'd' 'c' 'a']\n"
     ]
    }
   ],
   "source": [
    "# Missing values indicated\n",
    "label2, unique2 = pd.factorize(['b', None, 'd', 'c', None, 'a', ], \n",
    "                                              na_sentinel = -101)\n",
    "  \n",
    "print(\"\\n\\nNumeric Representation : \\n\", label2)\n",
    "print(\"Unique Values : \\n\", unique2)"
   ]
  },
  {
   "cell_type": "code",
   "execution_count": 12,
   "id": "12027f12",
   "metadata": {},
   "outputs": [
    {
     "name": "stdout",
     "output_type": "stream",
     "text": [
      "\n",
      "\n",
      "Numeric Representation : \n",
      " [0 0 1]\n",
      "Unique Values : \n",
      " ['a', 'c']\n",
      "Categories (3, object): ['a', 'b', 'c']\n"
     ]
    }
   ],
   "source": [
    "\n",
    "# When factorizing pandas object; unique will differ \n",
    "a = pd.Categorical(['a', 'a', 'c'], categories =['a', 'b', 'c'])  # ????\n",
    "  \n",
    "label3, unique3 = pd.factorize(a)\n",
    "  \n",
    "print(\"\\n\\nNumeric Representation : \\n\", label3)\n",
    "print(\"Unique Values : \\n\", unique3)"
   ]
  },
  {
   "cell_type": "code",
   "execution_count": null,
   "id": "c0b2df26",
   "metadata": {},
   "outputs": [],
   "source": []
  }
 ],
 "metadata": {
  "kernelspec": {
   "display_name": "Python 3 (ipykernel)",
   "language": "python",
   "name": "python3"
  },
  "language_info": {
   "codemirror_mode": {
    "name": "ipython",
    "version": 3
   },
   "file_extension": ".py",
   "mimetype": "text/x-python",
   "name": "python",
   "nbconvert_exporter": "python",
   "pygments_lexer": "ipython3",
   "version": "3.10.9"
  }
 },
 "nbformat": 4,
 "nbformat_minor": 5
}
