{
 "cells": [
  {
   "cell_type": "markdown",
   "id": "ca88c395",
   "metadata": {},
   "source": [
    "# USB Modeling \n",
    "  - Input\n",
    "    - INFOSYS_POPULATION_new.xlsx\n",
    "      - The data was originally from INFOSYS_POPULATION.xlsx and applied the code USB_Data_wrangling.ipynb to impute missing values for categorical data \n",
    "  - Data Prepration  \n",
    "  - Apply TargetEncoder to convert categorical variables to numeric data\n",
    "  - Apply MinMaxScaler to nomalize data \n",
    "  - Apply KNNImputer to impute SBFE_Score and CC_Score  \n",
    "  - Apply ADASYN to handle the imblance data set\n",
    "  - Apply cross_val_score to various models and select the winner \n",
    "  - Build LogisticRegression model and evaluate the model\n",
    "  - Build XGBClassifier model and evaluate the model\n",
    "  - Notes\n",
    "    - use 'pip install category-encoders' to resove \"No module named 'category_encoders'\" \n",
    "    - use 'pip install category-encoders --user' to resolve \"No module named 'imblearn'\"\n",
    "    - use 'pip install xgboost' to resolve \"No module named 'xgboost'\""
   ]
  },
  {
   "cell_type": "code",
   "execution_count": 1,
   "id": "b684abaf",
   "metadata": {},
   "outputs": [],
   "source": [
    "import pandas as pd\n",
    "import numpy as np\n",
    "import seaborn as sns\n",
    "import matplotlib.pyplot as plt\n",
    "import category_encoders as ce\n",
    "from category_encoders import TargetEncoder\n",
    "from imblearn.over_sampling import ADASYN\n",
    "from sklearn.impute import KNNImputer\n",
    "\n",
    "\n",
    "from numpy import mean\n",
    "from numpy import std\n",
    "from numpy import absolute\n",
    "\n",
    "from sklearn.preprocessing import MinMaxScaler\n",
    "\n",
    "from sklearn.model_selection import KFold\n",
    "from sklearn.model_selection import cross_val_score\n",
    "from sklearn.model_selection import cross_val_predict\n",
    "\n",
    "from sklearn import metrics\n",
    "from sklearn.metrics import confusion_matrix\n",
    "from sklearn.metrics import classification_report\n",
    "\n",
    "from sklearn.model_selection import StratifiedKFold\n",
    "from sklearn.linear_model import LogisticRegression\n",
    "from sklearn.tree import DecisionTreeClassifier\n",
    "from sklearn.neighbors import KNeighborsClassifier\n",
    "from sklearn.discriminant_analysis import LinearDiscriminantAnalysis\n",
    "from sklearn.naive_bayes import GaussianNB\n",
    "from sklearn.svm import SVC\n",
    "from xgboost import XGBClassifier"
   ]
  },
  {
   "cell_type": "markdown",
   "id": "a3c46948",
   "metadata": {},
   "source": [
    "## Ignore warning message"
   ]
  },
  {
   "cell_type": "code",
   "execution_count": 2,
   "id": "e21c1731",
   "metadata": {},
   "outputs": [],
   "source": [
    "import warnings\n",
    "warnings.filterwarnings('ignore')"
   ]
  },
  {
   "cell_type": "code",
   "execution_count": 3,
   "id": "1f5a5985",
   "metadata": {},
   "outputs": [],
   "source": [
    "pd.set_option( 'display.max_columns', 10 )\n",
    "pd.set_option('precision', 6)\n",
    "pd.set_option('max_colwidth', 20)\n",
    "pd.set_option('display.width', 120)\n",
    "pd.set_option('display.float_format', lambda x: '%.5f' %x)\n",
    "#pd.set_printoptions(suppress = True)"
   ]
  },
  {
   "cell_type": "code",
   "execution_count": 4,
   "id": "3724c3c3",
   "metadata": {},
   "outputs": [],
   "source": [
    "## Evaluation\n",
    "def mdl_eva(X_test, y_test, mdl, mdl_desc):\n",
    "    \"\"\"\n",
    "     Purpose: Evaluate model and print confusion matric and classification report\n",
    "     Parameters:\n",
    "       Input:\n",
    "       X_test: Trian test\n",
    "       y_test: Test data for validation\n",
    "       mdl: Model to be evaluated\n",
    "       mdl_desc: Model description\n",
    "    \"\"\"\n",
    "    print(f'{mdl_desc} Model Evalation')\n",
    "    predictions = mdl.predict(X_test)\n",
    "    y_pred = predictions \n",
    "    print(\"Accuracy Score :\",metrics.accuracy_score(y_test, y_pred))\n",
    "    print(\"Precision Score:\",metrics.precision_score(y_test, y_pred))\n",
    "    print(\"Recall Score   :\",metrics.recall_score(y_test, y_pred)) \n",
    "    \n",
    "    print(classification_report(y_test,predictions))\n",
    "    cmtx = pd.DataFrame(\n",
    "    confusion_matrix(y_test, y_pred, labels=[0, 1]), \n",
    "    index=['true:0', 'true:1'], \n",
    "    columns=['pred:0', 'pred:1'])\n",
    "    print(cmtx)\n",
    "    \n",
    "    # Draw ROC\n",
    "    # AUC score 1 represents perfect classifier, and 0.5 represents a worthless classifier.\n",
    "    y_pred_proba = mdl.predict_proba(X_test)[::,1]\n",
    "    fpr, tpr, _ = metrics.roc_curve(y_test,  y_pred_proba)\n",
    "    auc = metrics.roc_auc_score(y_test, y_pred_proba)\n",
    "\n",
    "    plt.title(\"ROC for \" + mdl_desc)\n",
    "    plt.plot(fpr,tpr,label=\" auc=\"+str(auc))\n",
    "    plt.ylabel('True Positive Rate')\n",
    "    plt.xlabel('False Positive Rate')\n",
    "    plt.plot([0,1],[0,1],'k--')\n",
    "    plt.legend(loc=4)\n",
    "    plt.show()"
   ]
  },
  {
   "cell_type": "markdown",
   "id": "5bc6962a",
   "metadata": {},
   "source": [
    "## data preparation\n",
    "   - Replace column 'Decioned' by column 'target'\n",
    "     - Creae a new column 'target' from 'Decision'\n",
    "        - 'Declined': 1\n",
    "        - 'Approved':0\n",
    "     -  Remove 2 missing values from 'Channel'\n",
    "     -  Remove 'NAICS_Desc', 'NAICS_Cd', 'Revw_Id', 'Revw_Month'\n",
    "        - will not use these colmns for modeling"
   ]
  },
  {
   "cell_type": "code",
   "execution_count": null,
   "id": "fe9fece4",
   "metadata": {},
   "outputs": [],
   "source": []
  },
  {
   "cell_type": "code",
   "execution_count": 5,
   "id": "be83677e",
   "metadata": {},
   "outputs": [
    {
     "name": "stdout",
     "output_type": "stream",
     "text": [
      "<class 'pandas.core.frame.DataFrame'>\n",
      "Int64Index: 2481 entries, 0 to 2482\n",
      "Data columns (total 18 columns):\n",
      " #   Column                         Non-Null Count  Dtype  \n",
      "---  ------                         --------------  -----  \n",
      " 0   Org_Struc_Desc                 2481 non-null   object \n",
      " 1   Revw_Quarter                   2481 non-null   object \n",
      " 2   Scored_Flag                    2481 non-null   object \n",
      " 3   Elan_Flag                      2481 non-null   object \n",
      " 4   CLI_or_New_Prod_Flag           2481 non-null   object \n",
      " 5   Channel                        2481 non-null   object \n",
      " 6   Corporate_Card                 2481 non-null   int64  \n",
      " 7   Purchasing_Card                2481 non-null   int64  \n",
      " 8   One_Card                       2481 non-null   int64  \n",
      " 9   Other_NonBankCard              2481 non-null   int64  \n",
      " 10  Scored_Rec_Decision            2481 non-null   object \n",
      " 11  SBFE_Score                     2031 non-null   float64\n",
      " 12  CC_Score                       1919 non-null   float64\n",
      " 13  Financial_Template_Found_Flag  2481 non-null   object \n",
      " 14  Existing_Limit                 2481 non-null   int64  \n",
      " 15  Request_Amount                 2481 non-null   int64  \n",
      " 16  Final_Limit                    2481 non-null   int64  \n",
      " 17  target                         2481 non-null   int64  \n",
      "dtypes: float64(2), int64(8), object(8)\n",
      "memory usage: 368.3+ KB\n"
     ]
    }
   ],
   "source": [
    "path = 'C:\\\\Users\\\\sophia.yue\\\\Infosys\\\\Sandeep Project\\\\'\n",
    "df = pd.read_excel(path + \"INFOSYS_POPULATION_new.xlsx\", sheet_name = 'INFOSYS_POPULATION_new', engine = 'openpyxl' )\n",
    "#df.head(3).T\n",
    "#df.head()\n",
    "#df.shape\n",
    "#df.describe()\n",
    "#df.info()\n",
    "\n",
    "df.Decision.value_counts()             \n",
    "targ_dict = {'Declined': 1, 'Approved':0 }\n",
    "df['target'] = [targ_dict[yy] for yy in df.Decision]\n",
    "df.target.value_counts() \n",
    "df = df.dropna(subset = ['Channel'])  # drop missing values from channel\n",
    "l_col_rem = ['NAICS_Desc', 'NAICS_Cd', 'Revw_Id', 'Revw_Month', 'Decision' ]\n",
    "df.drop(l_col_rem, axis = 1,  inplace = True)\n",
    "card_typ = ['Corporate_Card','Purchasing_Card','One_Card','Other_NonBankCard']\n",
    "#df.astype({'Corporate_Card':'category',\n",
    "df.astype({'Corporate_Card':'object',\n",
    "           'Purchasing_Card':'object',\n",
    "           'One_Card':'object',\n",
    "           'Other_NonBankCard':'object'})\n",
    "df.info()"
   ]
  },
  {
   "cell_type": "markdown",
   "id": "4274d284",
   "metadata": {},
   "source": [
    "## Get columns for type with objective and numeric   \n",
    " - l_col_obj : get features with datatype = obj\n",
    "   - include card number in l_col_obj\n"
   ]
  },
  {
   "cell_type": "code",
   "execution_count": 6,
   "id": "517c5f0b",
   "metadata": {},
   "outputs": [
    {
     "name": "stdout",
     "output_type": "stream",
     "text": [
      "['Org_Struc_Desc', 'Revw_Quarter', 'Scored_Flag', 'Elan_Flag', 'CLI_or_New_Prod_Flag', 'Channel', 'Scored_Rec_Decision', 'Financial_Template_Found_Flag']\n"
     ]
    }
   ],
   "source": [
    "l_col_obj = df.dtypes[df.dtypes == 'O'].index.tolist() \n",
    "#l_col_obj_rem = ['NAICS_Desc', 'Revw_Month', 'Revw_Quarter']\n",
    "#l_col_obj = [ x for x in l_col_obj if x not in l_col_obj_rem]\n",
    "#card_typ = ['Corporate_Card','Purchasing_Card','One_Card','Other_NonBankCard']\n",
    "#l_col_obj.extend(card_typ)\n",
    "print(l_col_obj)"
   ]
  },
  {
   "cell_type": "markdown",
   "id": "b00d261c",
   "metadata": {},
   "source": [
    "## Categorical feature encoding \n",
    "  - Invoke 'impute_cat' to impute missing values\n",
    "  - Define a function 'tar_enc' to use target encoding to convert categorical feature to numerical feature\n",
    "  - Will apply to all categorical features\n"
   ]
  },
  {
   "cell_type": "code",
   "execution_count": 7,
   "id": "acfd7685",
   "metadata": {},
   "outputs": [],
   "source": [
    "#Apply target encoding for df\n",
    "for feature in l_col_obj:\n",
    "    tenc=ce.TargetEncoder() \n",
    "    df_fea =tenc.fit_transform(df[feature],df['target'])\n",
    "    df[feature] = df_fea "
   ]
  },
  {
   "cell_type": "markdown",
   "id": "bcf21992",
   "metadata": {},
   "source": [
    "## scale the numerical features"
   ]
  },
  {
   "cell_type": "code",
   "execution_count": 8,
   "id": "70b8f72a",
   "metadata": {},
   "outputs": [
    {
     "data": {
      "text/html": [
       "<div>\n",
       "<style scoped>\n",
       "    .dataframe tbody tr th:only-of-type {\n",
       "        vertical-align: middle;\n",
       "    }\n",
       "\n",
       "    .dataframe tbody tr th {\n",
       "        vertical-align: top;\n",
       "    }\n",
       "\n",
       "    .dataframe thead th {\n",
       "        text-align: right;\n",
       "    }\n",
       "</style>\n",
       "<table border=\"1\" class=\"dataframe\">\n",
       "  <thead>\n",
       "    <tr style=\"text-align: right;\">\n",
       "      <th></th>\n",
       "      <th>Org_Struc_Desc</th>\n",
       "      <th>Revw_Quarter</th>\n",
       "      <th>Scored_Flag</th>\n",
       "      <th>Elan_Flag</th>\n",
       "      <th>CLI_or_New_Prod_Flag</th>\n",
       "      <th>...</th>\n",
       "      <th>Financial_Template_Found_Flag</th>\n",
       "      <th>Existing_Limit</th>\n",
       "      <th>Request_Amount</th>\n",
       "      <th>Final_Limit</th>\n",
       "      <th>target</th>\n",
       "    </tr>\n",
       "  </thead>\n",
       "  <tbody>\n",
       "    <tr>\n",
       "      <th>0</th>\n",
       "      <td>0.26812</td>\n",
       "      <td>0.38418</td>\n",
       "      <td>1.00000</td>\n",
       "      <td>0.00000</td>\n",
       "      <td>0.00000</td>\n",
       "      <td>...</td>\n",
       "      <td>1.00000</td>\n",
       "      <td>0.20238</td>\n",
       "      <td>0.11000</td>\n",
       "      <td>0.28000</td>\n",
       "      <td>0.00000</td>\n",
       "    </tr>\n",
       "    <tr>\n",
       "      <th>1</th>\n",
       "      <td>0.17471</td>\n",
       "      <td>0.38418</td>\n",
       "      <td>1.00000</td>\n",
       "      <td>0.00000</td>\n",
       "      <td>0.00000</td>\n",
       "      <td>...</td>\n",
       "      <td>1.00000</td>\n",
       "      <td>0.11905</td>\n",
       "      <td>0.10000</td>\n",
       "      <td>0.10000</td>\n",
       "      <td>1.00000</td>\n",
       "    </tr>\n",
       "    <tr>\n",
       "      <th>2</th>\n",
       "      <td>0.00000</td>\n",
       "      <td>0.38418</td>\n",
       "      <td>1.00000</td>\n",
       "      <td>0.00000</td>\n",
       "      <td>1.00000</td>\n",
       "      <td>...</td>\n",
       "      <td>1.00000</td>\n",
       "      <td>0.00000</td>\n",
       "      <td>1.00000</td>\n",
       "      <td>1.00000</td>\n",
       "      <td>0.00000</td>\n",
       "    </tr>\n",
       "  </tbody>\n",
       "</table>\n",
       "<p>3 rows × 18 columns</p>\n",
       "</div>"
      ],
      "text/plain": [
       "   Org_Struc_Desc  Revw_Quarter  Scored_Flag  Elan_Flag  CLI_or_New_Prod_Flag  ...  Financial_Template_Found_Flag  \\\n",
       "0         0.26812       0.38418      1.00000    0.00000              0.00000   ...              1.00000             \n",
       "1         0.17471       0.38418      1.00000    0.00000              0.00000   ...              1.00000             \n",
       "2         0.00000       0.38418      1.00000    0.00000              1.00000   ...              1.00000             \n",
       "\n",
       "   Existing_Limit  Request_Amount  Final_Limit  target  \n",
       "0         0.20238         0.11000      0.28000 0.00000  \n",
       "1         0.11905         0.10000      0.10000 1.00000  \n",
       "2         0.00000         1.00000      1.00000 0.00000  \n",
       "\n",
       "[3 rows x 18 columns]"
      ]
     },
     "execution_count": 8,
     "metadata": {},
     "output_type": "execute_result"
    }
   ],
   "source": [
    "scaler = MinMaxScaler()\n",
    "df = pd.DataFrame(scaler.fit_transform(df), columns = df.columns)\n",
    "df.head(3)"
   ]
  },
  {
   "cell_type": "markdown",
   "id": "ada322a8",
   "metadata": {},
   "source": [
    "## Impute numerical feature"
   ]
  },
  {
   "cell_type": "code",
   "execution_count": 9,
   "id": "7552fcbb",
   "metadata": {},
   "outputs": [
    {
     "data": {
      "text/html": [
       "<div>\n",
       "<style scoped>\n",
       "    .dataframe tbody tr th:only-of-type {\n",
       "        vertical-align: middle;\n",
       "    }\n",
       "\n",
       "    .dataframe tbody tr th {\n",
       "        vertical-align: top;\n",
       "    }\n",
       "\n",
       "    .dataframe thead th {\n",
       "        text-align: right;\n",
       "    }\n",
       "</style>\n",
       "<table border=\"1\" class=\"dataframe\">\n",
       "  <thead>\n",
       "    <tr style=\"text-align: right;\">\n",
       "      <th></th>\n",
       "      <th>Org_Struc_Desc</th>\n",
       "      <th>Revw_Quarter</th>\n",
       "      <th>Scored_Flag</th>\n",
       "      <th>Elan_Flag</th>\n",
       "      <th>CLI_or_New_Prod_Flag</th>\n",
       "      <th>...</th>\n",
       "      <th>Financial_Template_Found_Flag</th>\n",
       "      <th>Existing_Limit</th>\n",
       "      <th>Request_Amount</th>\n",
       "      <th>Final_Limit</th>\n",
       "      <th>target</th>\n",
       "    </tr>\n",
       "  </thead>\n",
       "  <tbody>\n",
       "    <tr>\n",
       "      <th>0</th>\n",
       "      <td>0.26812</td>\n",
       "      <td>0.38418</td>\n",
       "      <td>1.00000</td>\n",
       "      <td>0.00000</td>\n",
       "      <td>0.00000</td>\n",
       "      <td>...</td>\n",
       "      <td>1.00000</td>\n",
       "      <td>0.20238</td>\n",
       "      <td>0.11000</td>\n",
       "      <td>0.28000</td>\n",
       "      <td>0.00000</td>\n",
       "    </tr>\n",
       "    <tr>\n",
       "      <th>1</th>\n",
       "      <td>0.17471</td>\n",
       "      <td>0.38418</td>\n",
       "      <td>1.00000</td>\n",
       "      <td>0.00000</td>\n",
       "      <td>0.00000</td>\n",
       "      <td>...</td>\n",
       "      <td>1.00000</td>\n",
       "      <td>0.11905</td>\n",
       "      <td>0.10000</td>\n",
       "      <td>0.10000</td>\n",
       "      <td>1.00000</td>\n",
       "    </tr>\n",
       "    <tr>\n",
       "      <th>2</th>\n",
       "      <td>0.00000</td>\n",
       "      <td>0.38418</td>\n",
       "      <td>1.00000</td>\n",
       "      <td>0.00000</td>\n",
       "      <td>1.00000</td>\n",
       "      <td>...</td>\n",
       "      <td>1.00000</td>\n",
       "      <td>0.00000</td>\n",
       "      <td>1.00000</td>\n",
       "      <td>1.00000</td>\n",
       "      <td>0.00000</td>\n",
       "    </tr>\n",
       "  </tbody>\n",
       "</table>\n",
       "<p>3 rows × 18 columns</p>\n",
       "</div>"
      ],
      "text/plain": [
       "   Org_Struc_Desc  Revw_Quarter  Scored_Flag  Elan_Flag  CLI_or_New_Prod_Flag  ...  Financial_Template_Found_Flag  \\\n",
       "0         0.26812       0.38418      1.00000    0.00000              0.00000   ...              1.00000             \n",
       "1         0.17471       0.38418      1.00000    0.00000              0.00000   ...              1.00000             \n",
       "2         0.00000       0.38418      1.00000    0.00000              1.00000   ...              1.00000             \n",
       "\n",
       "   Existing_Limit  Request_Amount  Final_Limit  target  \n",
       "0         0.20238         0.11000      0.28000 0.00000  \n",
       "1         0.11905         0.10000      0.10000 1.00000  \n",
       "2         0.00000         1.00000      1.00000 0.00000  \n",
       "\n",
       "[3 rows x 18 columns]"
      ]
     },
     "execution_count": 9,
     "metadata": {},
     "output_type": "execute_result"
    }
   ],
   "source": [
    "imputer = KNNImputer(n_neighbors=5)\n",
    "#df =  pd.DataFrame(imputer.fit_transform(df),columns = df.columns)       \n",
    "#df['SBFE_Score'] = pd.DataFrame(imputer.fit_transform(df),columns = 'SBFE_Score')\n",
    "df[\"SBFE_Score\"] = imputer.fit_transform(df[[\"SBFE_Score\"]]).ravel() # Ravel: Return a contiguous flattened array\n",
    "df['CC_Score'] = imputer.fit_transform(df[['CC_Score']]).ravel()\n",
    "df.head(3)                   "
   ]
  },
  {
   "cell_type": "code",
   "execution_count": 10,
   "id": "f699d2e3",
   "metadata": {},
   "outputs": [
    {
     "data": {
      "text/plain": [
       "Org_Struc_Desc                   False\n",
       "Revw_Quarter                     False\n",
       "Scored_Flag                      False\n",
       "Elan_Flag                        False\n",
       "CLI_or_New_Prod_Flag             False\n",
       "Channel                          False\n",
       "Corporate_Card                   False\n",
       "Purchasing_Card                  False\n",
       "One_Card                         False\n",
       "Other_NonBankCard                False\n",
       "Scored_Rec_Decision              False\n",
       "SBFE_Score                       False\n",
       "CC_Score                         False\n",
       "Financial_Template_Found_Flag    False\n",
       "Existing_Limit                   False\n",
       "Request_Amount                   False\n",
       "Final_Limit                      False\n",
       "target                           False\n",
       "dtype: bool"
      ]
     },
     "execution_count": 10,
     "metadata": {},
     "output_type": "execute_result"
    }
   ],
   "source": [
    "df.isnull().any()"
   ]
  },
  {
   "cell_type": "markdown",
   "id": "fd41ede3",
   "metadata": {},
   "source": [
    "## ADASYN - to handle imbalance data\n",
    "  - The ADASYN (adaptive synthetic sampling) approach\n",
    "  - uses a weighted distribution for different minority class examples according to their level of difficulty in learning\n",
    "    - where more synthetic data is generated for minority class examples that are harder to learn.\n",
    "    - fit_sample had been ewplaced by fit_resample  "
   ]
  },
  {
   "cell_type": "code",
   "execution_count": 11,
   "id": "63e0142a",
   "metadata": {},
   "outputs": [],
   "source": [
    "y = df[\"target\"]\n",
    "X = df.drop('target', axis = 1)\n",
    "ada = ADASYN() \n",
    "X_resampled, y_resampled = ada.fit_resample(X, y) \n"
   ]
  },
  {
   "cell_type": "code",
   "execution_count": 12,
   "id": "8e01b231",
   "metadata": {},
   "outputs": [],
   "source": [
    "from sklearn.model_selection import train_test_split\n",
    "X_train, X_test, y_train, y_test = train_test_split(X_resampled, y_resampled,\n",
    "                                                    test_size=0.20, \n",
    "                                                    random_state=101)"
   ]
  },
  {
   "cell_type": "markdown",
   "id": "1c8022cc",
   "metadata": {},
   "source": [
    "##  Apply cross_val_score to various models and select the winner"
   ]
  },
  {
   "cell_type": "code",
   "execution_count": 13,
   "id": "2ece910e",
   "metadata": {},
   "outputs": [
    {
     "name": "stdout",
     "output_type": "stream",
     "text": [
      "LGR: 0.994779 (0.002764)\n",
      "LDA: 0.989141 (0.004637)\n",
      "KNN: 0.986213 (0.005101)\n",
      "CART: 0.991093 (0.005121)\n",
      "NB: 0.875334 (0.016781)\n",
      "XGB: 0.999988 (0.000035)\n",
      "SVM: 0.993992 (0.002491)\n"
     ]
    }
   ],
   "source": [
    "models = []\n",
    "#models.append(('LR', LogisticRegression(solver='liblinear', multi_class='ovr')))\n",
    "models.append(('LGR', LogisticRegression()))\n",
    "models.append(('LDA', LinearDiscriminantAnalysis()))\n",
    "models.append(('KNN', KNeighborsClassifier()))\n",
    "models.append(('CART', DecisionTreeClassifier()))\n",
    "models.append(('NB', GaussianNB()))\n",
    "models.append(('XGB', XGBClassifier()))\n",
    "models.append(('SVM', SVC(gamma='auto')))\n",
    "# evaluate each model in turn\n",
    "results = []\n",
    "names = []\n",
    "for name, model in models:\n",
    "    cv = StratifiedKFold(n_splits=10, random_state=1, shuffle=True)\n",
    "    cv_results  = cross_val_score(model, X_resampled, y_resampled, scoring='roc_auc', cv=cv, n_jobs=-1)\n",
    "    results.append(cv_results)\n",
    "    names.append(name)\n",
    "    print('%s: %f (%f)' % (name, cv_results.mean(), cv_results.std()))"
   ]
  },
  {
   "cell_type": "markdown",
   "id": "749b25b2",
   "metadata": {},
   "source": [
    "##  XGBClassifier is the winner\n",
    "    - will build LogisticRegression Model and XGBClassifier model"
   ]
  },
  {
   "cell_type": "markdown",
   "id": "e4b62a21",
   "metadata": {},
   "source": [
    "###  Build LogisticRegression Model & evaluation\n"
   ]
  },
  {
   "cell_type": "code",
   "execution_count": 14,
   "id": "f1372494",
   "metadata": {},
   "outputs": [],
   "source": [
    "lgr = LogisticRegression() \n",
    "# fit the model\n",
    "lgr.fit(X_train, y_train)\n",
    "# get importance\n",
    "feature_importance = lgr.coef_[0]\n"
   ]
  },
  {
   "cell_type": "markdown",
   "id": "7783f0fd",
   "metadata": {},
   "source": [
    "### Summarize coefficients "
   ]
  },
  {
   "cell_type": "code",
   "execution_count": 15,
   "id": "9b3ac0be",
   "metadata": {},
   "outputs": [
    {
     "data": {
      "text/html": [
       "<div>\n",
       "<style scoped>\n",
       "    .dataframe tbody tr th:only-of-type {\n",
       "        vertical-align: middle;\n",
       "    }\n",
       "\n",
       "    .dataframe tbody tr th {\n",
       "        vertical-align: top;\n",
       "    }\n",
       "\n",
       "    .dataframe thead th {\n",
       "        text-align: right;\n",
       "    }\n",
       "</style>\n",
       "<table border=\"1\" class=\"dataframe\">\n",
       "  <thead>\n",
       "    <tr style=\"text-align: right;\">\n",
       "      <th></th>\n",
       "      <th>coef</th>\n",
       "    </tr>\n",
       "  </thead>\n",
       "  <tbody>\n",
       "    <tr>\n",
       "      <th>Existing_Limit</th>\n",
       "      <td>9.96850</td>\n",
       "    </tr>\n",
       "    <tr>\n",
       "      <th>Request_Amount</th>\n",
       "      <td>6.21373</td>\n",
       "    </tr>\n",
       "    <tr>\n",
       "      <th>Org_Struc_Desc</th>\n",
       "      <td>2.19400</td>\n",
       "    </tr>\n",
       "    <tr>\n",
       "      <th>Financial_Template_Found_Flag</th>\n",
       "      <td>2.05782</td>\n",
       "    </tr>\n",
       "    <tr>\n",
       "      <th>Scored_Rec_Decision</th>\n",
       "      <td>1.59709</td>\n",
       "    </tr>\n",
       "    <tr>\n",
       "      <th>Corporate_Card</th>\n",
       "      <td>0.71896</td>\n",
       "    </tr>\n",
       "    <tr>\n",
       "      <th>Channel</th>\n",
       "      <td>0.51045</td>\n",
       "    </tr>\n",
       "    <tr>\n",
       "      <th>One_Card</th>\n",
       "      <td>0.17747</td>\n",
       "    </tr>\n",
       "    <tr>\n",
       "      <th>Revw_Quarter</th>\n",
       "      <td>0.10473</td>\n",
       "    </tr>\n",
       "    <tr>\n",
       "      <th>Purchasing_Card</th>\n",
       "      <td>-0.14494</td>\n",
       "    </tr>\n",
       "    <tr>\n",
       "      <th>Other_NonBankCard</th>\n",
       "      <td>-0.20247</td>\n",
       "    </tr>\n",
       "    <tr>\n",
       "      <th>Scored_Flag</th>\n",
       "      <td>-0.23723</td>\n",
       "    </tr>\n",
       "    <tr>\n",
       "      <th>Elan_Flag</th>\n",
       "      <td>-0.40145</td>\n",
       "    </tr>\n",
       "    <tr>\n",
       "      <th>CLI_or_New_Prod_Flag</th>\n",
       "      <td>-0.45063</td>\n",
       "    </tr>\n",
       "    <tr>\n",
       "      <th>CC_Score</th>\n",
       "      <td>-0.67346</td>\n",
       "    </tr>\n",
       "    <tr>\n",
       "      <th>SBFE_Score</th>\n",
       "      <td>-0.78656</td>\n",
       "    </tr>\n",
       "    <tr>\n",
       "      <th>Final_Limit</th>\n",
       "      <td>-16.04236</td>\n",
       "    </tr>\n",
       "  </tbody>\n",
       "</table>\n",
       "</div>"
      ],
      "text/plain": [
       "                          coef\n",
       "Existing_Limit         9.96850\n",
       "Request_Amount         6.21373\n",
       "Org_Struc_Desc         2.19400\n",
       "Financial_Templat...   2.05782\n",
       "Scored_Rec_Decision    1.59709\n",
       "Corporate_Card         0.71896\n",
       "Channel                0.51045\n",
       "One_Card               0.17747\n",
       "Revw_Quarter           0.10473\n",
       "Purchasing_Card       -0.14494\n",
       "Other_NonBankCard     -0.20247\n",
       "Scored_Flag           -0.23723\n",
       "Elan_Flag             -0.40145\n",
       "CLI_or_New_Prod_Flag  -0.45063\n",
       "CC_Score              -0.67346\n",
       "SBFE_Score            -0.78656\n",
       "Final_Limit          -16.04236"
      ]
     },
     "execution_count": 15,
     "metadata": {},
     "output_type": "execute_result"
    }
   ],
   "source": [
    "\n",
    "pd.DataFrame(feature_importance, \n",
    "             X.columns, \n",
    "             columns=['coef'])\\\n",
    "            .sort_values(by='coef', ascending=False)"
   ]
  },
  {
   "cell_type": "code",
   "execution_count": 16,
   "id": "03c90080",
   "metadata": {},
   "outputs": [
    {
     "data": {
      "text/html": [
       "<div>\n",
       "<style scoped>\n",
       "    .dataframe tbody tr th:only-of-type {\n",
       "        vertical-align: middle;\n",
       "    }\n",
       "\n",
       "    .dataframe tbody tr th {\n",
       "        vertical-align: top;\n",
       "    }\n",
       "\n",
       "    .dataframe thead th {\n",
       "        text-align: right;\n",
       "    }\n",
       "</style>\n",
       "<table border=\"1\" class=\"dataframe\">\n",
       "  <thead>\n",
       "    <tr style=\"text-align: right;\">\n",
       "      <th></th>\n",
       "      <th>coef_aft_exp</th>\n",
       "    </tr>\n",
       "  </thead>\n",
       "  <tbody>\n",
       "    <tr>\n",
       "      <th>Existing_Limit</th>\n",
       "      <td>21343.36908</td>\n",
       "    </tr>\n",
       "    <tr>\n",
       "      <th>Request_Amount</th>\n",
       "      <td>499.56057</td>\n",
       "    </tr>\n",
       "    <tr>\n",
       "      <th>Org_Struc_Desc</th>\n",
       "      <td>8.97105</td>\n",
       "    </tr>\n",
       "    <tr>\n",
       "      <th>Financial_Template_Found_Flag</th>\n",
       "      <td>7.82887</td>\n",
       "    </tr>\n",
       "    <tr>\n",
       "      <th>Scored_Rec_Decision</th>\n",
       "      <td>4.93863</td>\n",
       "    </tr>\n",
       "    <tr>\n",
       "      <th>Corporate_Card</th>\n",
       "      <td>2.05230</td>\n",
       "    </tr>\n",
       "    <tr>\n",
       "      <th>Channel</th>\n",
       "      <td>1.66604</td>\n",
       "    </tr>\n",
       "    <tr>\n",
       "      <th>One_Card</th>\n",
       "      <td>1.19419</td>\n",
       "    </tr>\n",
       "    <tr>\n",
       "      <th>Revw_Quarter</th>\n",
       "      <td>1.11041</td>\n",
       "    </tr>\n",
       "    <tr>\n",
       "      <th>Purchasing_Card</th>\n",
       "      <td>0.86507</td>\n",
       "    </tr>\n",
       "    <tr>\n",
       "      <th>Other_NonBankCard</th>\n",
       "      <td>0.81671</td>\n",
       "    </tr>\n",
       "    <tr>\n",
       "      <th>Scored_Flag</th>\n",
       "      <td>0.78881</td>\n",
       "    </tr>\n",
       "    <tr>\n",
       "      <th>Elan_Flag</th>\n",
       "      <td>0.66935</td>\n",
       "    </tr>\n",
       "    <tr>\n",
       "      <th>CLI_or_New_Prod_Flag</th>\n",
       "      <td>0.63723</td>\n",
       "    </tr>\n",
       "    <tr>\n",
       "      <th>CC_Score</th>\n",
       "      <td>0.50994</td>\n",
       "    </tr>\n",
       "    <tr>\n",
       "      <th>SBFE_Score</th>\n",
       "      <td>0.45541</td>\n",
       "    </tr>\n",
       "    <tr>\n",
       "      <th>Final_Limit</th>\n",
       "      <td>0.00000</td>\n",
       "    </tr>\n",
       "  </tbody>\n",
       "</table>\n",
       "</div>"
      ],
      "text/plain": [
       "                      coef_aft_exp\n",
       "Existing_Limit         21343.36908\n",
       "Request_Amount           499.56057\n",
       "Org_Struc_Desc             8.97105\n",
       "Financial_Templat...       7.82887\n",
       "Scored_Rec_Decision        4.93863\n",
       "Corporate_Card             2.05230\n",
       "Channel                    1.66604\n",
       "One_Card                   1.19419\n",
       "Revw_Quarter               1.11041\n",
       "Purchasing_Card            0.86507\n",
       "Other_NonBankCard          0.81671\n",
       "Scored_Flag                0.78881\n",
       "Elan_Flag                  0.66935\n",
       "CLI_or_New_Prod_Flag       0.63723\n",
       "CC_Score                   0.50994\n",
       "SBFE_Score                 0.45541\n",
       "Final_Limit                0.00000"
      ]
     },
     "execution_count": 16,
     "metadata": {},
     "output_type": "execute_result"
    }
   ],
   "source": [
    "coef_aft_exp = np.exp(feature_importance)\n",
    "pd.DataFrame(coef_aft_exp, \n",
    "             X.columns, \n",
    "             columns=['coef_aft_exp'])\\\n",
    "            .sort_values(by='coef_aft_exp', ascending=False)"
   ]
  },
  {
   "cell_type": "markdown",
   "id": "8d6fd5cc",
   "metadata": {},
   "source": [
    "### Evaluate model"
   ]
  },
  {
   "cell_type": "code",
   "execution_count": 17,
   "id": "52601770",
   "metadata": {},
   "outputs": [
    {
     "name": "stdout",
     "output_type": "stream",
     "text": [
      "LogisticRegression Model Evalation\n",
      "Accuracy Score : 0.9689608636977058\n",
      "Precision Score: 0.9522613065326633\n",
      "Recall Score   : 0.9895561357702349\n",
      "              precision    recall  f1-score   support\n",
      "\n",
      "         0.0       0.99      0.95      0.97       358\n",
      "         1.0       0.95      0.99      0.97       383\n",
      "\n",
      "    accuracy                           0.97       741\n",
      "   macro avg       0.97      0.97      0.97       741\n",
      "weighted avg       0.97      0.97      0.97       741\n",
      "\n",
      "        pred:0  pred:1\n",
      "true:0     339      19\n",
      "true:1       4     379\n"
     ]
    },
    {
     "data": {
      "image/png": "[encoded data removed]",
      "text/plain": [
       "<Figure size 432x288 with 1 Axes>"
      ]
     },
     "metadata": {
      "needs_background": "light"
     },
     "output_type": "display_data"
    }
   ],
   "source": [
    "mdl_eva(X_test, y_test, lgr,'LogisticRegression')"
   ]
  },
  {
   "cell_type": "markdown",
   "id": "6a4faaeb",
   "metadata": {},
   "source": [
    "### Build XGBClassaifier model"
   ]
  },
  {
   "cell_type": "code",
   "execution_count": 18,
   "id": "a86c6e25",
   "metadata": {},
   "outputs": [
    {
     "data": {
      "text/html": [
       "<style>#sk-container-id-1 {color: black;background-color: white;}#sk-container-id-1 pre{padding: 0;}#sk-container-id-1 div.sk-toggleable {background-color: white;}#sk-container-id-1 label.sk-toggleable__label {cursor: pointer;display: block;width: 100%;margin-bottom: 0;padding: 0.3em;box-sizing: border-box;text-align: center;}#sk-container-id-1 label.sk-toggleable__label-arrow:before {content: \"▸\";float: left;margin-right: 0.25em;color: #696969;}#sk-container-id-1 label.sk-toggleable__label-arrow:hover:before {color: black;}#sk-container-id-1 div.sk-estimator:hover label.sk-toggleable__label-arrow:before {color: black;}#sk-container-id-1 div.sk-toggleable__content {max-height: 0;max-width: 0;overflow: hidden;text-align: left;background-color: #f0f8ff;}#sk-container-id-1 div.sk-toggleable__content pre {margin: 0.2em;color: black;border-radius: 0.25em;background-color: #f0f8ff;}#sk-container-id-1 input.sk-toggleable__control:checked~div.sk-toggleable__content {max-height: 200px;max-width: 100%;overflow: auto;}#sk-container-id-1 input.sk-toggleable__control:checked~label.sk-toggleable__label-arrow:before {content: \"▾\";}#sk-container-id-1 div.sk-estimator input.sk-toggleable__control:checked~label.sk-toggleable__label {background-color: #d4ebff;}#sk-container-id-1 div.sk-label input.sk-toggleable__control:checked~label.sk-toggleable__label {background-color: #d4ebff;}#sk-container-id-1 input.sk-hidden--visually {border: 0;clip: rect(1px 1px 1px 1px);clip: rect(1px, 1px, 1px, 1px);height: 1px;margin: -1px;overflow: hidden;padding: 0;position: absolute;width: 1px;}#sk-container-id-1 div.sk-estimator {font-family: monospace;background-color: #f0f8ff;border: 1px dotted black;border-radius: 0.25em;box-sizing: border-box;margin-bottom: 0.5em;}#sk-container-id-1 div.sk-estimator:hover {background-color: #d4ebff;}#sk-container-id-1 div.sk-parallel-item::after {content: \"\";width: 100%;border-bottom: 1px solid gray;flex-grow: 1;}#sk-container-id-1 div.sk-label:hover label.sk-toggleable__label {background-color: #d4ebff;}#sk-container-id-1 div.sk-serial::before {content: \"\";position: absolute;border-left: 1px solid gray;box-sizing: border-box;top: 0;bottom: 0;left: 50%;z-index: 0;}#sk-container-id-1 div.sk-serial {display: flex;flex-direction: column;align-items: center;background-color: white;padding-right: 0.2em;padding-left: 0.2em;position: relative;}#sk-container-id-1 div.sk-item {position: relative;z-index: 1;}#sk-container-id-1 div.sk-parallel {display: flex;align-items: stretch;justify-content: center;background-color: white;position: relative;}#sk-container-id-1 div.sk-item::before, #sk-container-id-1 div.sk-parallel-item::before {content: \"\";position: absolute;border-left: 1px solid gray;box-sizing: border-box;top: 0;bottom: 0;left: 50%;z-index: -1;}#sk-container-id-1 div.sk-parallel-item {display: flex;flex-direction: column;z-index: 1;position: relative;background-color: white;}#sk-container-id-1 div.sk-parallel-item:first-child::after {align-self: flex-end;width: 50%;}#sk-container-id-1 div.sk-parallel-item:last-child::after {align-self: flex-start;width: 50%;}#sk-container-id-1 div.sk-parallel-item:only-child::after {width: 0;}#sk-container-id-1 div.sk-dashed-wrapped {border: 1px dashed gray;margin: 0 0.4em 0.5em 0.4em;box-sizing: border-box;padding-bottom: 0.4em;background-color: white;}#sk-container-id-1 div.sk-label label {font-family: monospace;font-weight: bold;display: inline-block;line-height: 1.2em;}#sk-container-id-1 div.sk-label-container {text-align: center;}#sk-container-id-1 div.sk-container {/* jupyter's `normalize.less` sets `[hidden] { display: none; }` but bootstrap.min.css set `[hidden] { display: none !important; }` so we also need the `!important` here to be able to override the default hidden behavior on the sphinx rendered scikit-learn.org. See: https://github.com/scikit-learn/scikit-learn/issues/21755 */display: inline-block !important;position: relative;}#sk-container-id-1 div.sk-text-repr-fallback {display: none;}</style><div id=\"sk-container-id-1\" class=\"sk-top-container\"><div class=\"sk-text-repr-fallback\"><pre>XGBClassifier(base_score=0.5, booster=&#x27;gbtree&#x27;, callbacks=None,\n",
       "              colsample_bylevel=1, colsample_bynode=1, colsample_bytree=1,\n",
       "              early_stopping_rounds=None, enable_categorical=False,\n",
       "              eval_metric=None, gamma=0, gpu_id=-1, grow_policy=&#x27;depthwise&#x27;,\n",
       "              importance_type=None, interaction_constraints=&#x27;&#x27;,\n",
       "              learning_rate=0.300000012, max_bin=256, max_cat_to_onehot=4,\n",
       "              max_delta_step=0, max_depth=6, max_leaves=0, min_child_weight=1,\n",
       "              missing=nan, monotone_constraints=&#x27;()&#x27;, n_estimators=100,\n",
       "              n_jobs=0, num_parallel_tree=1, predictor=&#x27;auto&#x27;, random_state=0,\n",
       "              reg_alpha=0, reg_lambda=1, ...)</pre><b>In a Jupyter environment, please rerun this cell to show the HTML representation or trust the notebook. <br />On GitHub, the HTML representation is unable to render, please try loading this page with nbviewer.org.</b></div><div class=\"sk-container\" hidden><div class=\"sk-item\"><div class=\"sk-estimator sk-toggleable\"><input class=\"sk-toggleable__control sk-hidden--visually\" id=\"sk-estimator-id-1\" type=\"checkbox\" checked><label for=\"sk-estimator-id-1\" class=\"sk-toggleable__label sk-toggleable__label-arrow\">XGBClassifier</label><div class=\"sk-toggleable__content\"><pre>XGBClassifier(base_score=0.5, booster=&#x27;gbtree&#x27;, callbacks=None,\n",
       "              colsample_bylevel=1, colsample_bynode=1, colsample_bytree=1,\n",
       "              early_stopping_rounds=None, enable_categorical=False,\n",
       "              eval_metric=None, gamma=0, gpu_id=-1, grow_policy=&#x27;depthwise&#x27;,\n",
       "              importance_type=None, interaction_constraints=&#x27;&#x27;,\n",
       "              learning_rate=0.300000012, max_bin=256, max_cat_to_onehot=4,\n",
       "              max_delta_step=0, max_depth=6, max_leaves=0, min_child_weight=1,\n",
       "              missing=nan, monotone_constraints=&#x27;()&#x27;, n_estimators=100,\n",
       "              n_jobs=0, num_parallel_tree=1, predictor=&#x27;auto&#x27;, random_state=0,\n",
       "              reg_alpha=0, reg_lambda=1, ...)</pre></div></div></div></div></div>"
      ],
      "text/plain": [
       "XGBClassifier(base_score=0.5, booster='gbtree', callbacks=None,\n",
       "              colsample_bylevel=1, colsample_bynode=1, colsample_bytree=1,\n",
       "              early_stopping_rounds=None, enable_categorical=False,\n",
       "              eval_metric=None, gamma=0, gpu_id=-1, grow_policy='depthwise',\n",
       "              importance_type=None, interaction_constraints='',\n",
       "              learning_rate=0.300000012, max_bin=256, max_cat_to_onehot=4,\n",
       "              max_delta_step=0, max_depth=6, max_leaves=0, min_child_weight=1,\n",
       "              missing=nan, monotone_constraints='()', n_estimators=100,\n",
       "              n_jobs=0, num_parallel_tree=1, predictor='auto', random_state=0,\n",
       "              reg_alpha=0, reg_lambda=1, ...)"
      ]
     },
     "execution_count": 18,
     "metadata": {},
     "output_type": "execute_result"
    }
   ],
   "source": [
    "xgb = XGBClassifier()\n",
    "xgb.fit(X_train, y_train)"
   ]
  },
  {
   "cell_type": "code",
   "execution_count": 19,
   "id": "3bcfc2e4",
   "metadata": {},
   "outputs": [
    {
     "data": {
      "text/html": [
       "<div>\n",
       "<style scoped>\n",
       "    .dataframe tbody tr th:only-of-type {\n",
       "        vertical-align: middle;\n",
       "    }\n",
       "\n",
       "    .dataframe tbody tr th {\n",
       "        vertical-align: top;\n",
       "    }\n",
       "\n",
       "    .dataframe thead th {\n",
       "        text-align: right;\n",
       "    }\n",
       "</style>\n",
       "<table border=\"1\" class=\"dataframe\">\n",
       "  <thead>\n",
       "    <tr style=\"text-align: right;\">\n",
       "      <th></th>\n",
       "      <th>feature_importances</th>\n",
       "    </tr>\n",
       "  </thead>\n",
       "  <tbody>\n",
       "    <tr>\n",
       "      <th>Final_Limit</th>\n",
       "      <td>0.47575</td>\n",
       "    </tr>\n",
       "    <tr>\n",
       "      <th>Existing_Limit</th>\n",
       "      <td>0.28660</td>\n",
       "    </tr>\n",
       "    <tr>\n",
       "      <th>Org_Struc_Desc</th>\n",
       "      <td>0.07265</td>\n",
       "    </tr>\n",
       "    <tr>\n",
       "      <th>Request_Amount</th>\n",
       "      <td>0.06915</td>\n",
       "    </tr>\n",
       "    <tr>\n",
       "      <th>Financial_Template_Found_Flag</th>\n",
       "      <td>0.04756</td>\n",
       "    </tr>\n",
       "    <tr>\n",
       "      <th>Revw_Quarter</th>\n",
       "      <td>0.01390</td>\n",
       "    </tr>\n",
       "    <tr>\n",
       "      <th>SBFE_Score</th>\n",
       "      <td>0.01382</td>\n",
       "    </tr>\n",
       "    <tr>\n",
       "      <th>Channel</th>\n",
       "      <td>0.00911</td>\n",
       "    </tr>\n",
       "    <tr>\n",
       "      <th>Elan_Flag</th>\n",
       "      <td>0.00828</td>\n",
       "    </tr>\n",
       "    <tr>\n",
       "      <th>CC_Score</th>\n",
       "      <td>0.00318</td>\n",
       "    </tr>\n",
       "    <tr>\n",
       "      <th>CLI_or_New_Prod_Flag</th>\n",
       "      <td>0.00000</td>\n",
       "    </tr>\n",
       "    <tr>\n",
       "      <th>Corporate_Card</th>\n",
       "      <td>0.00000</td>\n",
       "    </tr>\n",
       "    <tr>\n",
       "      <th>Purchasing_Card</th>\n",
       "      <td>0.00000</td>\n",
       "    </tr>\n",
       "    <tr>\n",
       "      <th>Other_NonBankCard</th>\n",
       "      <td>0.00000</td>\n",
       "    </tr>\n",
       "    <tr>\n",
       "      <th>Scored_Rec_Decision</th>\n",
       "      <td>0.00000</td>\n",
       "    </tr>\n",
       "    <tr>\n",
       "      <th>Scored_Flag</th>\n",
       "      <td>0.00000</td>\n",
       "    </tr>\n",
       "    <tr>\n",
       "      <th>One_Card</th>\n",
       "      <td>0.00000</td>\n",
       "    </tr>\n",
       "  </tbody>\n",
       "</table>\n",
       "</div>"
      ],
      "text/plain": [
       "                      feature_importances\n",
       "Final_Limit                       0.47575\n",
       "Existing_Limit                    0.28660\n",
       "Org_Struc_Desc                    0.07265\n",
       "Request_Amount                    0.06915\n",
       "Financial_Templat...              0.04756\n",
       "Revw_Quarter                      0.01390\n",
       "SBFE_Score                        0.01382\n",
       "Channel                           0.00911\n",
       "Elan_Flag                         0.00828\n",
       "CC_Score                          0.00318\n",
       "CLI_or_New_Prod_Flag              0.00000\n",
       "Corporate_Card                    0.00000\n",
       "Purchasing_Card                   0.00000\n",
       "Other_NonBankCard                 0.00000\n",
       "Scored_Rec_Decision               0.00000\n",
       "Scored_Flag                       0.00000\n",
       "One_Card                          0.00000"
      ]
     },
     "execution_count": 19,
     "metadata": {},
     "output_type": "execute_result"
    }
   ],
   "source": [
    "pd.DataFrame(xgb.feature_importances_, \n",
    "             X.columns, \n",
    "             columns=['feature_importances'])\\\n",
    "            .sort_values(by='feature_importances', ascending=False)\n",
    "                       \n",
    "                         "
   ]
  },
  {
   "cell_type": "code",
   "execution_count": 20,
   "id": "1800dbe4",
   "metadata": {},
   "outputs": [
    {
     "name": "stdout",
     "output_type": "stream",
     "text": [
      "XGBClassifier Model Evalation\n",
      "Accuracy Score : 0.9986504723346828\n",
      "Precision Score: 1.0\n",
      "Recall Score   : 0.9973890339425587\n",
      "              precision    recall  f1-score   support\n",
      "\n",
      "         0.0       1.00      1.00      1.00       358\n",
      "         1.0       1.00      1.00      1.00       383\n",
      "\n",
      "    accuracy                           1.00       741\n",
      "   macro avg       1.00      1.00      1.00       741\n",
      "weighted avg       1.00      1.00      1.00       741\n",
      "\n",
      "        pred:0  pred:1\n",
      "true:0     358       0\n",
      "true:1       1     382\n"
     ]
    },
    {
     "data": {
      "image/png": "[encoded data removed]",
      "text/plain": [
       "<Figure size 432x288 with 1 Axes>"
      ]
     },
     "metadata": {
      "needs_background": "light"
     },
     "output_type": "display_data"
    }
   ],
   "source": [
    "mdl_eva(X_test, y_test, xgb,'XGBClassifier')"
   ]
  }
 ],
 "metadata": {
  "kernelspec": {
   "display_name": "Python 3 (ipykernel)",
   "language": "python",
   "name": "python3"
  },
  "language_info": {
   "codemirror_mode": {
    "name": "ipython",
    "version": 3
   },
   "file_extension": ".py",
   "mimetype": "text/x-python",
   "name": "python",
   "nbconvert_exporter": "python",
   "pygments_lexer": "ipython3",
   "version": "3.10.9"
  }
 },
 "nbformat": 4,
 "nbformat_minor": 5
}
