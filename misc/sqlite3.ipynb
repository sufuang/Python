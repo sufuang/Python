{
 "cells": [
  {
   "cell_type": "code",
   "execution_count": 8,
   "id": "99d09253",
   "metadata": {},
   "outputs": [],
   "source": [
    "import sqlite3\n",
    "import pandas as pd"
   ]
  },
  {
   "cell_type": "code",
   "execution_count": 3,
   "id": "0b8b7149",
   "metadata": {},
   "outputs": [],
   "source": [
    "path = 'C:\\\\Users\\\\sophia.yue\\\\Infosys\\Data\\\\'\n",
    "conn = sqlite3.connect(path + 'chinook.db')"
   ]
  },
  {
   "cell_type": "code",
   "execution_count": 6,
   "id": "a7ee7d28",
   "metadata": {},
   "outputs": [],
   "source": [
    "def cr_df_sql(tbl_nam, cond = ''):\n",
    "    sql = f'select * from {tbl_nam} {cond}'\n",
    "    df_rt = pd.readsql_query(sql, conn)\n",
    "    return df_rt\n",
    "\n",
    "exec_sql = lambda title, sql_cmd: print(f'{title} \\n {pd.read_sql_query(sql_cmd, conn)}') \n",
    "\n",
    "def tbl_attr(tbl_nam):\n",
    "    tbl_attr = f'PRAGMA table_info({tbl_nam})'\n",
    "    exec_sql (f\"Attritube of {tbl_nam}\", tbl_attr)"
   ]
  },
  {
   "cell_type": "code",
   "execution_count": 9,
   "id": "8416ddc0",
   "metadata": {},
   "outputs": [
    {
     "name": "stdout",
     "output_type": "stream",
     "text": [
      "Attritube of employees \n",
      "     cid        name          type  notnull dflt_value  pk\n",
      "0     0  EmployeeId       INTEGER        1       None   1\n",
      "1     1    LastName  NVARCHAR(20)        1       None   0\n",
      "2     2   FirstName  NVARCHAR(20)        1       None   0\n",
      "3     3       Title  NVARCHAR(30)        0       None   0\n",
      "4     4   ReportsTo       INTEGER        0       None   0\n",
      "5     5   BirthDate      DATETIME        0       None   0\n",
      "6     6    HireDate      DATETIME        0       None   0\n",
      "7     7     Address  NVARCHAR(70)        0       None   0\n",
      "8     8        City  NVARCHAR(40)        0       None   0\n",
      "9     9       State  NVARCHAR(40)        0       None   0\n",
      "10   10     Country  NVARCHAR(40)        0       None   0\n",
      "11   11  PostalCode  NVARCHAR(10)        0       None   0\n",
      "12   12       Phone  NVARCHAR(24)        0       None   0\n",
      "13   13         Fax  NVARCHAR(24)        0       None   0\n",
      "14   14       Email  NVARCHAR(60)        0       None   0\n"
     ]
    }
   ],
   "source": [
    "tbl_attr('employees')"
   ]
  },
  {
   "cell_type": "code",
   "execution_count": 14,
   "id": "7797179d",
   "metadata": {},
   "outputs": [
    {
     "name": "stdout",
     "output_type": "stream",
     "text": [
      "employees top 10 \n",
      "    EmployeeId  LastName FirstName                Title  ReportsTo  \\\n",
      "0           1     Adams    Andrew      General Manager        NaN   \n",
      "1           2   Edwards     Nancy        Sales Manager        1.0   \n",
      "2           3   Peacock      Jane  Sales Support Agent        2.0   \n",
      "3           4      Park  Margaret  Sales Support Agent        2.0   \n",
      "4           5   Johnson     Steve  Sales Support Agent        2.0   \n",
      "5           6  Mitchell   Michael           IT Manager        1.0   \n",
      "6           7      King    Robert             IT Staff        6.0   \n",
      "7           8  Callahan     Laura             IT Staff        6.0   \n",
      "\n",
      "             BirthDate             HireDate                      Address  \\\n",
      "0  1962-02-18 00:00:00  2002-08-14 00:00:00          11120 Jasper Ave NW   \n",
      "1  1958-12-08 00:00:00  2002-05-01 00:00:00                 825 8 Ave SW   \n",
      "2  1973-08-29 00:00:00  2002-04-01 00:00:00                1111 6 Ave SW   \n",
      "3  1947-09-19 00:00:00  2003-05-03 00:00:00             683 10 Street SW   \n",
      "4  1965-03-03 00:00:00  2003-10-17 00:00:00                 7727B 41 Ave   \n",
      "5  1973-07-01 00:00:00  2003-10-17 00:00:00         5827 Bowness Road NW   \n",
      "6  1970-05-29 00:00:00  2004-01-02 00:00:00  590 Columbia Boulevard West   \n",
      "7  1968-01-09 00:00:00  2004-03-04 00:00:00                  923 7 ST NW   \n",
      "\n",
      "         City State Country PostalCode              Phone                Fax  \\\n",
      "0    Edmonton    AB  Canada    T5K 2N1  +1 (780) 428-9482  +1 (780) 428-3457   \n",
      "1     Calgary    AB  Canada    T2P 2T3  +1 (403) 262-3443  +1 (403) 262-3322   \n",
      "2     Calgary    AB  Canada    T2P 5M5  +1 (403) 262-3443  +1 (403) 262-6712   \n",
      "3     Calgary    AB  Canada    T2P 5G3  +1 (403) 263-4423  +1 (403) 263-4289   \n",
      "4     Calgary    AB  Canada    T3B 1Y7   1 (780) 836-9987   1 (780) 836-9543   \n",
      "5     Calgary    AB  Canada    T3B 0C5  +1 (403) 246-9887  +1 (403) 246-9899   \n",
      "6  Lethbridge    AB  Canada    T1K 5N8  +1 (403) 456-9986  +1 (403) 456-8485   \n",
      "7  Lethbridge    AB  Canada    T1H 1Y8  +1 (403) 467-3351  +1 (403) 467-8772   \n",
      "\n",
      "                      Email  \n",
      "0    andrew@chinookcorp.com  \n",
      "1     nancy@chinookcorp.com  \n",
      "2      jane@chinookcorp.com  \n",
      "3  margaret@chinookcorp.com  \n",
      "4     steve@chinookcorp.com  \n",
      "5   michael@chinookcorp.com  \n",
      "6    robert@chinookcorp.com  \n",
      "7     laura@chinookcorp.com  \n"
     ]
    }
   ],
   "source": [
    "sql = \"\"\"select * from employees limit 10\n",
    "\"\"\"\n",
    "exec_sql (f\"employees top 10\", sql)"
   ]
  },
  {
   "cell_type": "code",
   "execution_count": 15,
   "id": "2865db5e",
   "metadata": {},
   "outputs": [
    {
     "name": "stdout",
     "output_type": "stream",
     "text": [
      "employees top 10 \n",
      "    EmployeeId            BirthDate\n",
      "0           3  1973-08-29 00:00:00\n",
      "1           6  1973-07-01 00:00:00\n",
      "2           7  1970-05-29 00:00:00\n",
      "3           8  1968-01-09 00:00:00\n",
      "4           5  1965-03-03 00:00:00\n",
      "5           1  1962-02-18 00:00:00\n",
      "6           2  1958-12-08 00:00:00\n",
      "7           4  1947-09-19 00:00:00\n"
     ]
    }
   ],
   "source": [
    "sql = \"\"\"select EmployeeId, BirthDate   from employees  order by BirthDate desc  limit 10\n",
    "\"\"\"\n",
    "exec_sql (f\"employees top 10\", sql)"
   ]
  },
  {
   "cell_type": "code",
   "execution_count": 12,
   "id": "e9419b1e",
   "metadata": {},
   "outputs": [
    {
     "name": "stdout",
     "output_type": "stream",
     "text": [
      "Self join employees \n",
      "             Manager     Direct report\n",
      "0      Andrew Adams     Nancy Edwards\n",
      "1      Andrew Adams  Michael Mitchell\n",
      "2  Michael Mitchell       Robert King\n",
      "3  Michael Mitchell    Laura Callahan\n",
      "4     Nancy Edwards      Jane Peacock\n",
      "5     Nancy Edwards     Margaret Park\n",
      "6     Nancy Edwards     Steve Johnson\n"
     ]
    }
   ],
   "source": [
    "sql = \"\"\"SELECT m.firstname || ' ' || m.lastname AS 'Manager',\n",
    "       e.firstname || ' ' || e.lastname AS 'Direct report' \n",
    "FROM employees e\n",
    "INNER JOIN employees m ON m.employeeid = e.reportsto\n",
    "ORDER BY manager\"\"\"\n",
    "exec_sql (f\"Self join employees\", sql)"
   ]
  },
  {
   "cell_type": "code",
   "execution_count": 25,
   "id": "f78eb900",
   "metadata": {},
   "outputs": [
    {
     "data": {
      "text/html": [
       "<div>\n",
       "<style scoped>\n",
       "    .dataframe tbody tr th:only-of-type {\n",
       "        vertical-align: middle;\n",
       "    }\n",
       "\n",
       "    .dataframe tbody tr th {\n",
       "        vertical-align: top;\n",
       "    }\n",
       "\n",
       "    .dataframe thead th {\n",
       "        text-align: right;\n",
       "    }\n",
       "</style>\n",
       "<table border=\"1\" class=\"dataframe\">\n",
       "  <thead>\n",
       "    <tr style=\"text-align: right;\">\n",
       "      <th></th>\n",
       "      <th>employee_name</th>\n",
       "      <th>department</th>\n",
       "      <th>salary</th>\n",
       "    </tr>\n",
       "  </thead>\n",
       "  <tbody>\n",
       "    <tr>\n",
       "      <th>0</th>\n",
       "      <td>James</td>\n",
       "      <td>Sales</td>\n",
       "      <td>3000</td>\n",
       "    </tr>\n",
       "    <tr>\n",
       "      <th>1</th>\n",
       "      <td>Michael</td>\n",
       "      <td>Sales</td>\n",
       "      <td>4600</td>\n",
       "    </tr>\n",
       "    <tr>\n",
       "      <th>2</th>\n",
       "      <td>Robert</td>\n",
       "      <td>Sales</td>\n",
       "      <td>4100</td>\n",
       "    </tr>\n",
       "    <tr>\n",
       "      <th>3</th>\n",
       "      <td>Maria</td>\n",
       "      <td>Finance</td>\n",
       "      <td>3000</td>\n",
       "    </tr>\n",
       "    <tr>\n",
       "      <th>4</th>\n",
       "      <td>James</td>\n",
       "      <td>Sales</td>\n",
       "      <td>3000</td>\n",
       "    </tr>\n",
       "    <tr>\n",
       "      <th>5</th>\n",
       "      <td>Scott</td>\n",
       "      <td>Finance</td>\n",
       "      <td>3300</td>\n",
       "    </tr>\n",
       "    <tr>\n",
       "      <th>6</th>\n",
       "      <td>Jen</td>\n",
       "      <td>Finance</td>\n",
       "      <td>3900</td>\n",
       "    </tr>\n",
       "    <tr>\n",
       "      <th>7</th>\n",
       "      <td>Jeff</td>\n",
       "      <td>Marketing</td>\n",
       "      <td>3000</td>\n",
       "    </tr>\n",
       "    <tr>\n",
       "      <th>8</th>\n",
       "      <td>Kumar</td>\n",
       "      <td>Marketing</td>\n",
       "      <td>2000</td>\n",
       "    </tr>\n",
       "    <tr>\n",
       "      <th>9</th>\n",
       "      <td>Saif</td>\n",
       "      <td>Sales</td>\n",
       "      <td>4100</td>\n",
       "    </tr>\n",
       "  </tbody>\n",
       "</table>\n",
       "</div>"
      ],
      "text/plain": [
       "  employee_name department  salary\n",
       "0         James      Sales    3000\n",
       "1       Michael      Sales    4600\n",
       "2        Robert      Sales    4100\n",
       "3         Maria    Finance    3000\n",
       "4         James      Sales    3000\n",
       "5         Scott    Finance    3300\n",
       "6           Jen    Finance    3900\n",
       "7          Jeff  Marketing    3000\n",
       "8         Kumar  Marketing    2000\n",
       "9          Saif      Sales    4100"
      ]
     },
     "execution_count": 25,
     "metadata": {},
     "output_type": "execute_result"
    }
   ],
   "source": [
    "simp_data = ((\"James\", \"Sales\", 3000), \\\n",
    "    (\"Michael\", \"Sales\", 4600),  \\\n",
    "    (\"Robert\", \"Sales\", 4100),   \\\n",
    "    (\"Maria\", \"Finance\", 3000),  \\\n",
    "    (\"James\", \"Sales\", 3000),    \\\n",
    "    (\"Scott\", \"Finance\", 3300),  \\\n",
    "    (\"Jen\", \"Finance\", 3900),    \\\n",
    "    (\"Jeff\", \"Marketing\", 3000), \\\n",
    "    (\"Kumar\", \"Marketing\", 2000),\\\n",
    "    (\"Saif\", \"Sales\", 4100) \\\n",
    "  )\n",
    " \n",
    "columns= [\"employee_name\", \"department\", \"salary\"]\n",
    "my_data = pd.DataFrame(data = simp_data, columns = columns)\n",
    "my_data = my_data.reset_index(drop = True)\n",
    "my_data"
   ]
  },
  {
   "cell_type": "code",
   "execution_count": 20,
   "id": "50a03ad4",
   "metadata": {},
   "outputs": [
    {
     "data": {
      "text/html": [
       "<div>\n",
       "<style scoped>\n",
       "    .dataframe tbody tr th:only-of-type {\n",
       "        vertical-align: middle;\n",
       "    }\n",
       "\n",
       "    .dataframe tbody tr th {\n",
       "        vertical-align: top;\n",
       "    }\n",
       "\n",
       "    .dataframe thead th {\n",
       "        text-align: right;\n",
       "    }\n",
       "</style>\n",
       "<table border=\"1\" class=\"dataframe\">\n",
       "  <thead>\n",
       "    <tr style=\"text-align: right;\">\n",
       "      <th></th>\n",
       "      <th>employee_name</th>\n",
       "      <th>department</th>\n",
       "      <th>salary</th>\n",
       "    </tr>\n",
       "  </thead>\n",
       "  <tbody>\n",
       "    <tr>\n",
       "      <th>0</th>\n",
       "      <td>James</td>\n",
       "      <td>Sales</td>\n",
       "      <td>3000</td>\n",
       "    </tr>\n",
       "    <tr>\n",
       "      <th>1</th>\n",
       "      <td>Michael</td>\n",
       "      <td>Sales</td>\n",
       "      <td>4600</td>\n",
       "    </tr>\n",
       "    <tr>\n",
       "      <th>2</th>\n",
       "      <td>Robert</td>\n",
       "      <td>Sales</td>\n",
       "      <td>4100</td>\n",
       "    </tr>\n",
       "    <tr>\n",
       "      <th>3</th>\n",
       "      <td>Maria</td>\n",
       "      <td>Finance</td>\n",
       "      <td>3000</td>\n",
       "    </tr>\n",
       "    <tr>\n",
       "      <th>4</th>\n",
       "      <td>James</td>\n",
       "      <td>Sales</td>\n",
       "      <td>3000</td>\n",
       "    </tr>\n",
       "    <tr>\n",
       "      <th>5</th>\n",
       "      <td>Scott</td>\n",
       "      <td>Finance</td>\n",
       "      <td>3300</td>\n",
       "    </tr>\n",
       "    <tr>\n",
       "      <th>6</th>\n",
       "      <td>Jen</td>\n",
       "      <td>Finance</td>\n",
       "      <td>3900</td>\n",
       "    </tr>\n",
       "    <tr>\n",
       "      <th>7</th>\n",
       "      <td>Jeff</td>\n",
       "      <td>Marketing</td>\n",
       "      <td>3000</td>\n",
       "    </tr>\n",
       "    <tr>\n",
       "      <th>8</th>\n",
       "      <td>Kumar</td>\n",
       "      <td>Marketing</td>\n",
       "      <td>2000</td>\n",
       "    </tr>\n",
       "    <tr>\n",
       "      <th>9</th>\n",
       "      <td>Saif</td>\n",
       "      <td>Sales</td>\n",
       "      <td>4100</td>\n",
       "    </tr>\n",
       "  </tbody>\n",
       "</table>\n",
       "</div>"
      ],
      "text/plain": [
       "  employee_name department  salary\n",
       "0         James      Sales    3000\n",
       "1       Michael      Sales    4600\n",
       "2        Robert      Sales    4100\n",
       "3         Maria    Finance    3000\n",
       "4         James      Sales    3000\n",
       "5         Scott    Finance    3300\n",
       "6           Jen    Finance    3900\n",
       "7          Jeff  Marketing    3000\n",
       "8         Kumar  Marketing    2000\n",
       "9          Saif      Sales    4100"
      ]
     },
     "execution_count": 20,
     "metadata": {},
     "output_type": "execute_result"
    }
   ],
   "source": [
    "my_data"
   ]
  },
  {
   "cell_type": "code",
   "execution_count": 28,
   "id": "0f201233",
   "metadata": {},
   "outputs": [],
   "source": [
    "my_data.to_sql(\"my_data\", conn, if_exists=\"replace\", index = False)"
   ]
  },
  {
   "cell_type": "code",
   "execution_count": 32,
   "id": "284a6ce3",
   "metadata": {},
   "outputs": [
    {
     "name": "stdout",
     "output_type": "stream",
     "text": [
      "employees top 10 \n",
      "   employee_name department  salary\n",
      "0       Michael      Sales    4600\n",
      "1        Robert      Sales    4100\n",
      "2          Saif      Sales    4100\n",
      "3           Jen    Finance    3900\n",
      "4         Scott    Finance    3300\n",
      "5         James      Sales    3000\n",
      "6         Maria    Finance    3000\n",
      "7         James      Sales    3000\n",
      "8          Jeff  Marketing    3000\n",
      "9         Kumar  Marketing    2000\n"
     ]
    }
   ],
   "source": [
    "sql = \"\"\"select * from my_data order by salary desc\n",
    "\"\"\"\n",
    "exec_sql (f\"employees top 10\", sql)"
   ]
  },
  {
   "cell_type": "code",
   "execution_count": null,
   "id": "8ade5881",
   "metadata": {},
   "outputs": [],
   "source": [
    "SELECT\n",
    "\tVal,\n",
    "\tDENSE_RANK () OVER ( \n",
    "\t\tORDER BY Val ) \n",
    "\tValRank \n",
    "FROM\n",
    "\tDenseRankDemo;"
   ]
  },
  {
   "cell_type": "code",
   "execution_count": 33,
   "id": "e8e63db9",
   "metadata": {},
   "outputs": [
    {
     "name": "stdout",
     "output_type": "stream",
     "text": [
      "dense_rank \n",
      "   employee_name department  salary  salary_rank\n",
      "0       Michael      Sales    4600            1\n",
      "1        Robert      Sales    4100            2\n",
      "2          Saif      Sales    4100            2\n",
      "3           Jen    Finance    3900            3\n",
      "4         Scott    Finance    3300            4\n",
      "5         James      Sales    3000            5\n",
      "6         Maria    Finance    3000            5\n",
      "7         James      Sales    3000            5\n",
      "8          Jeff  Marketing    3000            5\n",
      "9         Kumar  Marketing    2000            6\n"
     ]
    }
   ],
   "source": [
    "sql = \"\"\"\n",
    "select *, dense_rank() over (order by salary desc) salary_rank from my_data\n",
    "\"\"\"\n",
    "exec_sql (f\"dense_rank\", sql)"
   ]
  },
  {
   "cell_type": "code",
   "execution_count": 34,
   "id": "db80002e",
   "metadata": {},
   "outputs": [
    {
     "name": "stdout",
     "output_type": "stream",
     "text": [
      "rank \n",
      "   employee_name department  salary  salary_rank\n",
      "0       Michael      Sales    4600            1\n",
      "1        Robert      Sales    4100            2\n",
      "2          Saif      Sales    4100            2\n",
      "3           Jen    Finance    3900            4\n",
      "4         Scott    Finance    3300            5\n",
      "5         James      Sales    3000            6\n",
      "6         Maria    Finance    3000            6\n",
      "7         James      Sales    3000            6\n",
      "8          Jeff  Marketing    3000            6\n",
      "9         Kumar  Marketing    2000           10\n"
     ]
    }
   ],
   "source": [
    "sql = \"\"\"\n",
    "select *, rank() over (order by salary desc) salary_rank from my_data\n",
    "\"\"\"\n",
    "exec_sql (f\"rank\", sql)"
   ]
  },
  {
   "cell_type": "code",
   "execution_count": 36,
   "id": "930e21c3",
   "metadata": {},
   "outputs": [
    {
     "name": "stdout",
     "output_type": "stream",
     "text": [
      "department top salary \n",
      "   employee_name department  salary  seqnum\n",
      "0           Jen    Finance    3900       1\n",
      "1          Jeff  Marketing    3000       1\n",
      "2       Michael      Sales    4600       1\n"
     ]
    }
   ],
   "source": [
    "sql= \"\"\"\n",
    "select * from \n",
    "(select *, row_number() over (partition  by department order by salary desc) as seqnum\n",
    "          from my_data) tmp\n",
    "where seqnum = 1 \n",
    "\"\"\"\n",
    "exec_sql (f\"department top salary\", sql)"
   ]
  },
  {
   "cell_type": "code",
   "execution_count": null,
   "id": "3e686298",
   "metadata": {},
   "outputs": [],
   "source": []
  }
 ],
 "metadata": {
  "kernelspec": {
   "display_name": "Python 3",
   "language": "python",
   "name": "python3"
  },
  "language_info": {
   "codemirror_mode": {
    "name": "ipython",
    "version": 3
   },
   "file_extension": ".py",
   "mimetype": "text/x-python",
   "name": "python",
   "nbconvert_exporter": "python",
   "pygments_lexer": "ipython3",
   "version": "3.8.8"
  }
 },
 "nbformat": 4,
 "nbformat_minor": 5
}
