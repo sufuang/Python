{
 "cells": [
  {
   "cell_type": "markdown",
   "id": "ca88c395",
   "metadata": {},
   "source": [
    "# USB Modeling \n",
    "  - Input\n",
    "    - INFOSYS_POPULATION_new.xlsx\n",
    "      - The data was originally from INFOSYS_POPULATION.xlsx and applied the code USB_Data_wrangling.ipynb to impute missing values for categorical data \n",
    "  - Data Prepration  \n",
    "    -  Create a new variable ElRmFl_ind to replace 'Existing_Limit', 'Request_Amount', 'Final_Limit’ \n",
    "       - ElRmEQFl \n",
    "          - if 'Existing_Limit' + 'Request_Amount' = 'Final_Limit'\n",
    "      - ElRmNEFl \n",
    "          - if 'Existing_Limit' + 'Request_Amount' != 'Final_Limit'\n",
    "  - Apply TargetEncoder to convert categorical variables to numeric data\n",
    "  - Apply MinMaxScaler to nomalize data \n",
    "  - Apply KNNImputer to impute SBFE_Score and CC_Score  \n",
    "  - Apply ADASYN to handle the imblance data set\n",
    "  - Get  correlation among feature variables\n",
    "    - Only include one feature if correlation coefficient > 0.8\n",
    "      - The correlation coefficient between orporate_Card and one_card is -0.82.  Not include one_card for the modelin \n",
    "    - The correlation coefficient between target and ElRmFl_ind is 0.98. Not include ElRmFl_ind for the modeling \n",
    "  - Apply cross_val_score to various models and select the winner \n",
    "  - Build LogisticRegression model and evaluate the model\n",
    "    - The roc_auc is 0.8063\n",
    "  - Build XGBClassifier model and evaluate the model\n",
    "    - The roc_auc is 0.9257\n",
    "  - Notes\n",
    "    - use 'pip install category-encoders' to resove \"No module named 'category_encoders'\" \n",
    "    - use 'pip install category-encoders --user' to resolve \"No module named 'imblearn'\"\n",
    "    - use 'pip install xgboost' to resolve \"No module named 'xgboost'\"\n",
    "   - Author: Sophia Yue \n",
    "   - Written Date: Oct 07, 2022 \n",
    " - Enhancenment oct 27, 2022  \n",
    "   - The  IV for final limit is high, will not drop final limit    "
   ]
  },
  {
   "cell_type": "code",
   "execution_count": 1,
   "id": "b684abaf",
   "metadata": {},
   "outputs": [],
   "source": [
    "import pandas as pd\n",
    "import numpy as np\n",
    "import seaborn as sns\n",
    "import matplotlib.pyplot as plt\n",
    "import category_encoders as ce\n",
    "from category_encoders import TargetEncoder\n",
    "from imblearn.over_sampling import ADASYN\n",
    "from sklearn.impute import KNNImputer\n",
    "\n",
    "\n",
    "from numpy import mean\n",
    "from numpy import std\n",
    "from numpy import absolute\n",
    "\n",
    "from sklearn.preprocessing import MinMaxScaler\n",
    "\n",
    "from sklearn.model_selection import KFold\n",
    "from sklearn.model_selection import cross_val_score\n",
    "from sklearn.model_selection import cross_val_predict\n",
    "from sklearn.feature_selection import RFECV\n",
    "\n",
    "from sklearn import metrics\n",
    "from sklearn.metrics import confusion_matrix\n",
    "from sklearn.metrics import classification_report\n",
    "\n",
    "from sklearn.model_selection import StratifiedKFold\n",
    "from sklearn.linear_model import LogisticRegression\n",
    "from sklearn.tree import DecisionTreeClassifier\n",
    "from sklearn.neighbors import KNeighborsClassifier\n",
    "from sklearn.discriminant_analysis import LinearDiscriminantAnalysis\n",
    "from sklearn.naive_bayes import GaussianNB\n",
    "from sklearn.svm import SVC\n",
    "from xgboost import XGBClassifier"
   ]
  },
  {
   "cell_type": "markdown",
   "id": "a3c46948",
   "metadata": {},
   "source": [
    "## Ignore warning message"
   ]
  },
  {
   "cell_type": "code",
   "execution_count": 2,
   "id": "e21c1731",
   "metadata": {},
   "outputs": [],
   "source": [
    "import warnings\n",
    "warnings.filterwarnings('ignore')"
   ]
  },
  {
   "cell_type": "code",
   "execution_count": 3,
   "id": "1f5a5985",
   "metadata": {},
   "outputs": [],
   "source": [
    "pd.set_option( 'display.max_columns', 10 )\n",
    "pd.set_option('precision', 6)\n",
    "pd.set_option('max_colwidth', 20)\n",
    "pd.set_option('display.width', 120)\n",
    "pd.set_option('display.float_format', lambda x: '%.5f' %x)\n",
    "#pd.set_printoptions(suppress = True)"
   ]
  },
  {
   "cell_type": "code",
   "execution_count": 4,
   "id": "3724c3c3",
   "metadata": {},
   "outputs": [],
   "source": [
    "## Evaluation\n",
    "def mdl_eva(X_test, y_test, mdl, mdl_desc):\n",
    "    \"\"\"\n",
    "     Purpose: Evaluate model and print confusion matric and classification report\n",
    "     Parameters:\n",
    "       Input:\n",
    "       X_test: Trian test\n",
    "       y_test: Test data for validation\n",
    "       mdl: Model to be evaluated\n",
    "       mdl_desc: Model description\n",
    "    \"\"\"\n",
    "    print(f'{mdl_desc} Model Evalation')\n",
    "    predictions = mdl.predict(X_test)\n",
    "    y_pred = predictions \n",
    "    print(\"Accuracy Score :\",metrics.accuracy_score(y_test, y_pred))\n",
    "    print(\"Precision Score:\",metrics.precision_score(y_test, y_pred))\n",
    "    print(\"Recall Score   :\",metrics.recall_score(y_test, y_pred)) \n",
    "    print(\"Auc Score      :\",metrics.roc_auc_score(y_test, y_pred)) \n",
    "    \n",
    "    print(classification_report(y_test,predictions))\n",
    "    cmtx = pd.DataFrame(\n",
    "    confusion_matrix(y_test, y_pred, labels=[0, 1]), \n",
    "    index=['true:0', 'true:1'], \n",
    "    columns=['pred:0', 'pred:1'])\n",
    "    print(cmtx)\n",
    "    \n",
    "    # Draw ROC\n",
    "    # AUC score 1 represents perfect classifier, and 0.5 represents a worthless classifier.\n",
    "    y_pred_proba = mdl.predict_proba(X_test)[::,1]\n",
    "    fpr, tpr, _ = metrics.roc_curve(y_test,  y_pred_proba)\n",
    "    auc = metrics.roc_auc_score(y_test, y_pred_proba)\n",
    "\n",
    "    plt.title(\"ROC for \" + mdl_desc)\n",
    "    plt.plot(fpr,tpr,label=\" auc=\"+str(auc))\n",
    "    plt.ylabel('True Positive Rate')\n",
    "    plt.xlabel('False Positive Rate')\n",
    "    plt.plot([0,1],[0,1],'k--')\n",
    "    plt.legend(loc=4)\n",
    "    plt.show()"
   ]
  },
  {
   "cell_type": "markdown",
   "id": "5bc6962a",
   "metadata": {},
   "source": [
    "## data preparation\n",
    "   - Replace column 'Decioned' by column 'target'\n",
    "     - Creae a new column 'target' from 'Decision'\n",
    "        - 'Declined': 1\n",
    "        - 'Approved':0\n",
    "     -  Remove 2 missing values from 'Channel'\n",
    "     -  Remove 'NAICS_Desc', 'NAICS_Cd', 'Revw_Id', 'Revw_Month'\n",
    "        - will not use these colmns for modeling"
   ]
  },
  {
   "cell_type": "code",
   "execution_count": null,
   "id": "f0875b91",
   "metadata": {},
   "outputs": [],
   "source": []
  },
  {
   "cell_type": "code",
   "execution_count": 5,
   "id": "be83677e",
   "metadata": {},
   "outputs": [
    {
     "name": "stdout",
     "output_type": "stream",
     "text": [
      "<class 'pandas.core.frame.DataFrame'>\n",
      "Int64Index: 2481 entries, 0 to 2482\n",
      "Data columns (total 17 columns):\n",
      " #   Column                         Non-Null Count  Dtype  \n",
      "---  ------                         --------------  -----  \n",
      " 0   Org_Struc_Desc                 2481 non-null   object \n",
      " 1   Revw_Quarter                   2481 non-null   object \n",
      " 2   Scored_Flag                    2481 non-null   object \n",
      " 3   Elan_Flag                      2481 non-null   object \n",
      " 4   CLI_or_New_Prod_Flag           2481 non-null   object \n",
      " 5   Channel                        2481 non-null   object \n",
      " 6   Corporate_Card                 2481 non-null   int64  \n",
      " 7   Purchasing_Card                2481 non-null   int64  \n",
      " 8   One_Card                       2481 non-null   int64  \n",
      " 9   Other_NonBankCard              2481 non-null   int64  \n",
      " 10  Scored_Rec_Decision            2481 non-null   object \n",
      " 11  SBFE_Score                     2031 non-null   float64\n",
      " 12  CC_Score                       1919 non-null   float64\n",
      " 13  Financial_Template_Found_Flag  2481 non-null   object \n",
      " 14  Final_Limit                    2481 non-null   int64  \n",
      " 15  target                         2481 non-null   int64  \n",
      " 16  ElRmFl_ind                     2481 non-null   object \n",
      "dtypes: float64(2), int64(6), object(9)\n",
      "memory usage: 348.9+ KB\n"
     ]
    }
   ],
   "source": [
    "path = 'C:\\\\Users\\\\sophia.yue\\\\Infosys\\\\Sandeep Project\\\\'\n",
    "df = pd.read_excel(path + \"INFOSYS_POPULATION_new.xlsx\", sheet_name = 'INFOSYS_POPULATION_new', engine = 'openpyxl' )\n",
    "#df.head(3).T\n",
    "#df.head()\n",
    "#df.shape\n",
    "#df.describe()\n",
    "#df.info()\n",
    "\n",
    "df.Decision.value_counts()             \n",
    "targ_dict = {'Declined': 1, 'Approved':0 }\n",
    "df['target'] = [targ_dict[yy] for yy in df.Decision]\n",
    "df.target.value_counts() \n",
    "df = df.dropna(subset = ['Channel'])  # drop missing values from channel\n",
    "\n",
    "df['ElRmFl_ind']  = list(map(lambda x, y, z:'ElRmEqFl' if x + y == z else 'ElRmNEFl', df['Existing_Limit'], df['Request_Amount'], df['Final_Limit']))\n",
    "l_col_rem = ['NAICS_Desc', 'NAICS_Cd', 'Revw_Id', 'Revw_Month', 'Decision', 'Existing_Limit', 'Request_Amount'] # not drop 'Final_Limit'\n",
    "df.drop(l_col_rem, axis = 1,  inplace = True)\n",
    "card_typ = ['Corporate_Card','Purchasing_Card','One_Card','Other_NonBankCard']\n",
    "#df.astype({'Corporate_Card':'object',\n",
    "df.astype({'Corporate_Card':'object',\n",
    "           'Purchasing_Card':'object',\n",
    "           'One_Card':'object',\n",
    "           'Other_NonBankCard':'object'})\n",
    "df.info()\n"
   ]
  },
  {
   "cell_type": "code",
   "execution_count": 6,
   "id": "ba4c807a",
   "metadata": {},
   "outputs": [
    {
     "data": {
      "text/plain": [
       "0    1848\n",
       "1     633\n",
       "Name: target, dtype: int64"
      ]
     },
     "execution_count": 6,
     "metadata": {},
     "output_type": "execute_result"
    }
   ],
   "source": [
    "df['target'].value_counts()"
   ]
  },
  {
   "cell_type": "code",
   "execution_count": 7,
   "id": "51e44a68",
   "metadata": {},
   "outputs": [
    {
     "data": {
      "text/plain": [
       "ElRmEqFl    1813\n",
       "ElRmNEFl     668\n",
       "Name: ElRmFl_ind, dtype: int64"
      ]
     },
     "execution_count": 7,
     "metadata": {},
     "output_type": "execute_result"
    }
   ],
   "source": [
    "df['ElRmFl_ind'].value_counts()"
   ]
  },
  {
   "cell_type": "markdown",
   "id": "4274d284",
   "metadata": {},
   "source": [
    "## Get columns for type with objective and numeric   \n",
    " - l_col_obj : get features with datatype = obj\n",
    "   - include card number in l_col_obj\n"
   ]
  },
  {
   "cell_type": "code",
   "execution_count": 8,
   "id": "517c5f0b",
   "metadata": {},
   "outputs": [
    {
     "name": "stdout",
     "output_type": "stream",
     "text": [
      "['Org_Struc_Desc', 'Revw_Quarter', 'Scored_Flag', 'Elan_Flag', 'CLI_or_New_Prod_Flag', 'Channel', 'Scored_Rec_Decision', 'Financial_Template_Found_Flag', 'ElRmFl_ind']\n"
     ]
    }
   ],
   "source": [
    "l_col_obj = df.dtypes[df.dtypes == 'O'].index.tolist() \n",
    "print(l_col_obj)"
   ]
  },
  {
   "cell_type": "markdown",
   "id": "b00d261c",
   "metadata": {},
   "source": [
    "## Categorical feature encoding \n",
    "  - Invoke 'impute_cat' to impute missing values\n",
    "  - Define a function 'tar_enc' to use target encoding to convert categorical feature to numerical feature\n",
    "  - Will apply to all categorical features\n"
   ]
  },
  {
   "cell_type": "code",
   "execution_count": 9,
   "id": "acfd7685",
   "metadata": {},
   "outputs": [],
   "source": [
    "#Apply target encoding for df\n",
    "for feature in l_col_obj:\n",
    "    tenc=ce.TargetEncoder() \n",
    "    df_fea =tenc.fit_transform(df[feature],df['target'])\n",
    "    df[feature] = df_fea "
   ]
  },
  {
   "cell_type": "markdown",
   "id": "bcf21992",
   "metadata": {},
   "source": [
    "## scale the numerical features"
   ]
  },
  {
   "cell_type": "code",
   "execution_count": 10,
   "id": "70b8f72a",
   "metadata": {},
   "outputs": [
    {
     "data": {
      "text/html": [
       "<div>\n",
       "<style scoped>\n",
       "    .dataframe tbody tr th:only-of-type {\n",
       "        vertical-align: middle;\n",
       "    }\n",
       "\n",
       "    .dataframe tbody tr th {\n",
       "        vertical-align: top;\n",
       "    }\n",
       "\n",
       "    .dataframe thead th {\n",
       "        text-align: right;\n",
       "    }\n",
       "</style>\n",
       "<table border=\"1\" class=\"dataframe\">\n",
       "  <thead>\n",
       "    <tr style=\"text-align: right;\">\n",
       "      <th></th>\n",
       "      <th>Org_Struc_Desc</th>\n",
       "      <th>Revw_Quarter</th>\n",
       "      <th>Scored_Flag</th>\n",
       "      <th>Elan_Flag</th>\n",
       "      <th>CLI_or_New_Prod_Flag</th>\n",
       "      <th>...</th>\n",
       "      <th>CC_Score</th>\n",
       "      <th>Financial_Template_Found_Flag</th>\n",
       "      <th>Final_Limit</th>\n",
       "      <th>target</th>\n",
       "      <th>ElRmFl_ind</th>\n",
       "    </tr>\n",
       "  </thead>\n",
       "  <tbody>\n",
       "    <tr>\n",
       "      <th>0</th>\n",
       "      <td>0.26812</td>\n",
       "      <td>0.38418</td>\n",
       "      <td>1.00000</td>\n",
       "      <td>0.00000</td>\n",
       "      <td>0.00000</td>\n",
       "      <td>...</td>\n",
       "      <td>NaN</td>\n",
       "      <td>1.00000</td>\n",
       "      <td>0.28000</td>\n",
       "      <td>0.00000</td>\n",
       "      <td>0.00000</td>\n",
       "    </tr>\n",
       "    <tr>\n",
       "      <th>1</th>\n",
       "      <td>0.17471</td>\n",
       "      <td>0.38418</td>\n",
       "      <td>1.00000</td>\n",
       "      <td>0.00000</td>\n",
       "      <td>0.00000</td>\n",
       "      <td>...</td>\n",
       "      <td>0.50781</td>\n",
       "      <td>1.00000</td>\n",
       "      <td>0.10000</td>\n",
       "      <td>1.00000</td>\n",
       "      <td>1.00000</td>\n",
       "    </tr>\n",
       "    <tr>\n",
       "      <th>2</th>\n",
       "      <td>0.00000</td>\n",
       "      <td>0.38418</td>\n",
       "      <td>1.00000</td>\n",
       "      <td>0.00000</td>\n",
       "      <td>1.00000</td>\n",
       "      <td>...</td>\n",
       "      <td>0.54911</td>\n",
       "      <td>1.00000</td>\n",
       "      <td>1.00000</td>\n",
       "      <td>0.00000</td>\n",
       "      <td>0.00000</td>\n",
       "    </tr>\n",
       "  </tbody>\n",
       "</table>\n",
       "<p>3 rows × 17 columns</p>\n",
       "</div>"
      ],
      "text/plain": [
       "   Org_Struc_Desc  Revw_Quarter  Scored_Flag  Elan_Flag  CLI_or_New_Prod_Flag  ...  CC_Score  \\\n",
       "0         0.26812       0.38418      1.00000    0.00000              0.00000   ...       NaN   \n",
       "1         0.17471       0.38418      1.00000    0.00000              0.00000   ...   0.50781   \n",
       "2         0.00000       0.38418      1.00000    0.00000              1.00000   ...   0.54911   \n",
       "\n",
       "   Financial_Template_Found_Flag  Final_Limit  target  ElRmFl_ind  \n",
       "0              1.00000                0.28000 0.00000     0.00000  \n",
       "1              1.00000                0.10000 1.00000     1.00000  \n",
       "2              1.00000                1.00000 0.00000     0.00000  \n",
       "\n",
       "[3 rows x 17 columns]"
      ]
     },
     "execution_count": 10,
     "metadata": {},
     "output_type": "execute_result"
    }
   ],
   "source": [
    "scaler = MinMaxScaler()\n",
    "df = pd.DataFrame(scaler.fit_transform(df), columns = df.columns)\n",
    "df.head(3)"
   ]
  },
  {
   "cell_type": "markdown",
   "id": "ada322a8",
   "metadata": {},
   "source": [
    "## Impute numerical feature"
   ]
  },
  {
   "cell_type": "code",
   "execution_count": 11,
   "id": "7552fcbb",
   "metadata": {},
   "outputs": [
    {
     "data": {
      "text/html": [
       "<div>\n",
       "<style scoped>\n",
       "    .dataframe tbody tr th:only-of-type {\n",
       "        vertical-align: middle;\n",
       "    }\n",
       "\n",
       "    .dataframe tbody tr th {\n",
       "        vertical-align: top;\n",
       "    }\n",
       "\n",
       "    .dataframe thead th {\n",
       "        text-align: right;\n",
       "    }\n",
       "</style>\n",
       "<table border=\"1\" class=\"dataframe\">\n",
       "  <thead>\n",
       "    <tr style=\"text-align: right;\">\n",
       "      <th></th>\n",
       "      <th>Org_Struc_Desc</th>\n",
       "      <th>Revw_Quarter</th>\n",
       "      <th>Scored_Flag</th>\n",
       "      <th>Elan_Flag</th>\n",
       "      <th>CLI_or_New_Prod_Flag</th>\n",
       "      <th>...</th>\n",
       "      <th>CC_Score</th>\n",
       "      <th>Financial_Template_Found_Flag</th>\n",
       "      <th>Final_Limit</th>\n",
       "      <th>target</th>\n",
       "      <th>ElRmFl_ind</th>\n",
       "    </tr>\n",
       "  </thead>\n",
       "  <tbody>\n",
       "    <tr>\n",
       "      <th>0</th>\n",
       "      <td>0.26812</td>\n",
       "      <td>0.38418</td>\n",
       "      <td>1.00000</td>\n",
       "      <td>0.00000</td>\n",
       "      <td>0.00000</td>\n",
       "      <td>...</td>\n",
       "      <td>0.51420</td>\n",
       "      <td>1.00000</td>\n",
       "      <td>0.28000</td>\n",
       "      <td>0.00000</td>\n",
       "      <td>0.00000</td>\n",
       "    </tr>\n",
       "    <tr>\n",
       "      <th>1</th>\n",
       "      <td>0.17471</td>\n",
       "      <td>0.38418</td>\n",
       "      <td>1.00000</td>\n",
       "      <td>0.00000</td>\n",
       "      <td>0.00000</td>\n",
       "      <td>...</td>\n",
       "      <td>0.50781</td>\n",
       "      <td>1.00000</td>\n",
       "      <td>0.10000</td>\n",
       "      <td>1.00000</td>\n",
       "      <td>1.00000</td>\n",
       "    </tr>\n",
       "    <tr>\n",
       "      <th>2</th>\n",
       "      <td>0.00000</td>\n",
       "      <td>0.38418</td>\n",
       "      <td>1.00000</td>\n",
       "      <td>0.00000</td>\n",
       "      <td>1.00000</td>\n",
       "      <td>...</td>\n",
       "      <td>0.54911</td>\n",
       "      <td>1.00000</td>\n",
       "      <td>1.00000</td>\n",
       "      <td>0.00000</td>\n",
       "      <td>0.00000</td>\n",
       "    </tr>\n",
       "  </tbody>\n",
       "</table>\n",
       "<p>3 rows × 17 columns</p>\n",
       "</div>"
      ],
      "text/plain": [
       "   Org_Struc_Desc  Revw_Quarter  Scored_Flag  Elan_Flag  CLI_or_New_Prod_Flag  ...  CC_Score  \\\n",
       "0         0.26812       0.38418      1.00000    0.00000              0.00000   ...   0.51420   \n",
       "1         0.17471       0.38418      1.00000    0.00000              0.00000   ...   0.50781   \n",
       "2         0.00000       0.38418      1.00000    0.00000              1.00000   ...   0.54911   \n",
       "\n",
       "   Financial_Template_Found_Flag  Final_Limit  target  ElRmFl_ind  \n",
       "0              1.00000                0.28000 0.00000     0.00000  \n",
       "1              1.00000                0.10000 1.00000     1.00000  \n",
       "2              1.00000                1.00000 0.00000     0.00000  \n",
       "\n",
       "[3 rows x 17 columns]"
      ]
     },
     "execution_count": 11,
     "metadata": {},
     "output_type": "execute_result"
    }
   ],
   "source": [
    "imputer = KNNImputer(n_neighbors=5)\n",
    "#df =  pd.DataFrame(imputer.fit_transform(df),columns = df.columns)       \n",
    "#df['SBFE_Score'] = pd.DataFrame(imputer.fit_transform(df),columns = 'SBFE_Score')\n",
    "df[\"SBFE_Score\"] = imputer.fit_transform(df[[\"SBFE_Score\"]]).ravel() # Ravel: Return a contiguous flattened array\n",
    "df['CC_Score'] = imputer.fit_transform(df[['CC_Score']]).ravel()\n",
    "df.head(3)                   "
   ]
  },
  {
   "cell_type": "code",
   "execution_count": 12,
   "id": "f699d2e3",
   "metadata": {},
   "outputs": [
    {
     "data": {
      "text/plain": [
       "Org_Struc_Desc                   False\n",
       "Revw_Quarter                     False\n",
       "Scored_Flag                      False\n",
       "Elan_Flag                        False\n",
       "CLI_or_New_Prod_Flag             False\n",
       "Channel                          False\n",
       "Corporate_Card                   False\n",
       "Purchasing_Card                  False\n",
       "One_Card                         False\n",
       "Other_NonBankCard                False\n",
       "Scored_Rec_Decision              False\n",
       "SBFE_Score                       False\n",
       "CC_Score                         False\n",
       "Financial_Template_Found_Flag    False\n",
       "Final_Limit                      False\n",
       "target                           False\n",
       "ElRmFl_ind                       False\n",
       "dtype: bool"
      ]
     },
     "execution_count": 12,
     "metadata": {},
     "output_type": "execute_result"
    }
   ],
   "source": [
    "df.isnull().any()"
   ]
  },
  {
   "cell_type": "markdown",
   "id": "fd41ede3",
   "metadata": {},
   "source": [
    "## ADASYN - to handle imbalance data\n",
    "  - The ADASYN (adaptive synthetic sampling) approach\n",
    "  - uses a weighted distribution for different minority class examples according to their level of difficulty in learning\n",
    "    - where more synthetic data is generated for minority class examples that are harder to learn.\n",
    "    - fit_sample had been ewplaced by fit_resample  \n",
    "    - type(X_resampled) is a dataFrame\n",
    "    - type(X_resampled) is a series"
   ]
  },
  {
   "cell_type": "code",
   "execution_count": 13,
   "id": "63e0142a",
   "metadata": {},
   "outputs": [],
   "source": [
    "y = df[\"target\"]\n",
    "X = df.drop('target', axis = 1)\n",
    "ada = ADASYN() \n",
    "X_resampled, y_resampled = ada.fit_resample(X, y) \n"
   ]
  },
  {
   "cell_type": "markdown",
   "id": "9a2a69c0",
   "metadata": {},
   "source": [
    "## check correlation"
   ]
  },
  {
   "cell_type": "code",
   "execution_count": 14,
   "id": "6dc4e2e0",
   "metadata": {},
   "outputs": [
    {
     "data": {
      "text/plain": [
       "0.9813003159393353"
      ]
     },
     "execution_count": 14,
     "metadata": {},
     "output_type": "execute_result"
    }
   ],
   "source": [
    "\n",
    "# The correlation between target and ElRmFl_ind is 0.98. Not include ElRmFl_ind for the modeling \n",
    "col_ElRmFl_ind = X_resampled['ElRmFl_ind']\n",
    "cor = col_ElRmFl_ind.corr(y_resampled )\n",
    "cor"
   ]
  },
  {
   "cell_type": "code",
   "execution_count": 15,
   "id": "4e150ca4",
   "metadata": {},
   "outputs": [
    {
     "data": {
      "text/plain": [
       "<AxesSubplot:>"
      ]
     },
     "execution_count": 15,
     "metadata": {},
     "output_type": "execute_result"
    },
    {
     "data": {
      "image/png": "[encoded data removed]",
      "text/plain": [
       "<Figure size 432x288 with 1 Axes>"
      ]
     },
     "metadata": {
      "needs_background": "light"
     },
     "output_type": "display_data"
    }
   ],
   "source": [
    "\n",
    "correlation_matrix = X_resampled.corr()\n",
    "mask = np.zeros_like(correlation_matrix , dtype=np.bool) # Create a mask from correlations with all value = \"False\" \n",
    "# Create a mask from correlations with all value = \"True\" for element in the upper-triangle of arr (include diagonal and above the diagonal)  \n",
    "mask[np.triu_indices_from(mask)] = True\n",
    "sns.heatmap(correlation_matrix  * 100, annot=True, fmt='.0f', mask=mask, cbar = False)"
   ]
  },
  {
   "cell_type": "code",
   "execution_count": 16,
   "id": "696045d8",
   "metadata": {},
   "outputs": [],
   "source": [
    "correlated_features = set()\n",
    "\n",
    "for i in range(len(correlation_matrix .columns)):\n",
    "    for j in range(i):\n",
    "        if abs(correlation_matrix.iloc[i, j]) > 0.8:\n",
    "            colname = correlation_matrix.columns[i]\n",
    "            correlated_features.add(colname)\n",
    "\n",
    "correlated_features.add('ElRmFl_ind') \n",
    "X_resampled.drop(labels=correlated_features, axis=1, inplace=True)\n",
    "           "
   ]
  },
  {
   "cell_type": "code",
   "execution_count": 17,
   "id": "b3ab28c7",
   "metadata": {},
   "outputs": [
    {
     "data": {
      "text/plain": [
       "Index(['Org_Struc_Desc', 'Revw_Quarter', 'Scored_Flag', 'Elan_Flag', 'CLI_or_New_Prod_Flag', 'Channel',\n",
       "       'Corporate_Card', 'Purchasing_Card', 'One_Card', 'Other_NonBankCard', 'Scored_Rec_Decision', 'SBFE_Score',\n",
       "       'CC_Score', 'Financial_Template_Found_Flag', 'Final_Limit'],\n",
       "      dtype='object')"
      ]
     },
     "execution_count": 17,
     "metadata": {},
     "output_type": "execute_result"
    }
   ],
   "source": [
    "X_resampled.columns"
   ]
  },
  {
   "cell_type": "code",
   "execution_count": 18,
   "id": "8e01b231",
   "metadata": {},
   "outputs": [],
   "source": [
    "from sklearn.model_selection import train_test_split\n",
    "X_train, X_test, y_train, y_test = train_test_split(X_resampled, y_resampled,\n",
    "                                                    test_size=0.20, \n",
    "                                                    random_state=101)"
   ]
  },
  {
   "cell_type": "markdown",
   "id": "1c8022cc",
   "metadata": {},
   "source": [
    "##  Apply cross_val_score to various models and select the winner"
   ]
  },
  {
   "cell_type": "code",
   "execution_count": 19,
   "id": "2ece910e",
   "metadata": {},
   "outputs": [
    {
     "name": "stdout",
     "output_type": "stream",
     "text": [
      "LGR: 0.933720 (0.011901)\n",
      "LDA: 0.930217 (0.011978)\n",
      "KNN: 0.977433 (0.005461)\n",
      "CART: 0.970059 (0.009473)\n",
      "NB: 0.856129 (0.020360)\n",
      "XGB: 0.997853 (0.001067)\n",
      "SVM: 0.946945 (0.010981)\n"
     ]
    }
   ],
   "source": [
    "models = []\n",
    "#models.append(('LR', LogisticRegression(solver='liblinear', multi_class='ovr')))\n",
    "models.append(('LGR', LogisticRegression()))\n",
    "models.append(('LDA', LinearDiscriminantAnalysis()))\n",
    "models.append(('KNN', KNeighborsClassifier()))\n",
    "models.append(('CART', DecisionTreeClassifier()))\n",
    "models.append(('NB', GaussianNB()))\n",
    "models.append(('XGB', XGBClassifier(learning_rate=0.1,  max_depth= 5)))\n",
    "models.append(('SVM', SVC(gamma='auto')))\n",
    "# evaluate each model in turn\n",
    "results = []\n",
    "names = []\n",
    "for name, model in models:\n",
    "    cv = StratifiedKFold(n_splits=10, random_state=1, shuffle=True)\n",
    "    cv_results  = cross_val_score(model, X_resampled, y_resampled, scoring='roc_auc', cv=cv, n_jobs=-1)\n",
    "    results.append(cv_results)\n",
    "    names.append(name)\n",
    "    print('%s: %f (%f)' % (name, cv_results.mean(), cv_results.std()))"
   ]
  },
  {
   "cell_type": "markdown",
   "id": "749b25b2",
   "metadata": {},
   "source": [
    "##  XGBClassifier is the winner\n",
    "    - will build LogisticRegression Model and XGBClassifier model"
   ]
  },
  {
   "cell_type": "markdown",
   "id": "e4b62a21",
   "metadata": {},
   "source": [
    "###  Build LogisticRegression Model & evaluation\n"
   ]
  },
  {
   "cell_type": "code",
   "execution_count": 20,
   "id": "f1372494",
   "metadata": {},
   "outputs": [],
   "source": [
    "lgr = LogisticRegression() \n",
    "# fit the model\n",
    "lgr.fit(X_train, y_train)\n",
    "# get importance\n",
    "feature_importance = lgr.coef_[0]\n"
   ]
  },
  {
   "cell_type": "markdown",
   "id": "7783f0fd",
   "metadata": {},
   "source": [
    "### Summarize coefficients "
   ]
  },
  {
   "cell_type": "code",
   "execution_count": 21,
   "id": "9b3ac0be",
   "metadata": {},
   "outputs": [
    {
     "data": {
      "text/html": [
       "<div>\n",
       "<style scoped>\n",
       "    .dataframe tbody tr th:only-of-type {\n",
       "        vertical-align: middle;\n",
       "    }\n",
       "\n",
       "    .dataframe tbody tr th {\n",
       "        vertical-align: top;\n",
       "    }\n",
       "\n",
       "    .dataframe thead th {\n",
       "        text-align: right;\n",
       "    }\n",
       "</style>\n",
       "<table border=\"1\" class=\"dataframe\">\n",
       "  <thead>\n",
       "    <tr style=\"text-align: right;\">\n",
       "      <th></th>\n",
       "      <th>coef</th>\n",
       "    </tr>\n",
       "  </thead>\n",
       "  <tbody>\n",
       "    <tr>\n",
       "      <th>Org_Struc_Desc</th>\n",
       "      <td>3.83533</td>\n",
       "    </tr>\n",
       "    <tr>\n",
       "      <th>Financial_Template_Found_Flag</th>\n",
       "      <td>1.81723</td>\n",
       "    </tr>\n",
       "    <tr>\n",
       "      <th>Scored_Rec_Decision</th>\n",
       "      <td>0.89876</td>\n",
       "    </tr>\n",
       "    <tr>\n",
       "      <th>Scored_Flag</th>\n",
       "      <td>0.88306</td>\n",
       "    </tr>\n",
       "    <tr>\n",
       "      <th>One_Card</th>\n",
       "      <td>0.76229</td>\n",
       "    </tr>\n",
       "    <tr>\n",
       "      <th>Purchasing_Card</th>\n",
       "      <td>0.21590</td>\n",
       "    </tr>\n",
       "    <tr>\n",
       "      <th>Channel</th>\n",
       "      <td>-0.08346</td>\n",
       "    </tr>\n",
       "    <tr>\n",
       "      <th>Revw_Quarter</th>\n",
       "      <td>-0.32915</td>\n",
       "    </tr>\n",
       "    <tr>\n",
       "      <th>Corporate_Card</th>\n",
       "      <td>-0.38330</td>\n",
       "    </tr>\n",
       "    <tr>\n",
       "      <th>Elan_Flag</th>\n",
       "      <td>-0.52276</td>\n",
       "    </tr>\n",
       "    <tr>\n",
       "      <th>Other_NonBankCard</th>\n",
       "      <td>-0.58507</td>\n",
       "    </tr>\n",
       "    <tr>\n",
       "      <th>SBFE_Score</th>\n",
       "      <td>-0.93359</td>\n",
       "    </tr>\n",
       "    <tr>\n",
       "      <th>CC_Score</th>\n",
       "      <td>-1.88961</td>\n",
       "    </tr>\n",
       "    <tr>\n",
       "      <th>CLI_or_New_Prod_Flag</th>\n",
       "      <td>-2.45537</td>\n",
       "    </tr>\n",
       "    <tr>\n",
       "      <th>Final_Limit</th>\n",
       "      <td>-8.56334</td>\n",
       "    </tr>\n",
       "  </tbody>\n",
       "</table>\n",
       "</div>"
      ],
      "text/plain": [
       "                         coef\n",
       "Org_Struc_Desc        3.83533\n",
       "Financial_Templat...  1.81723\n",
       "Scored_Rec_Decision   0.89876\n",
       "Scored_Flag           0.88306\n",
       "One_Card              0.76229\n",
       "Purchasing_Card       0.21590\n",
       "Channel              -0.08346\n",
       "Revw_Quarter         -0.32915\n",
       "Corporate_Card       -0.38330\n",
       "Elan_Flag            -0.52276\n",
       "Other_NonBankCard    -0.58507\n",
       "SBFE_Score           -0.93359\n",
       "CC_Score             -1.88961\n",
       "CLI_or_New_Prod_Flag -2.45537\n",
       "Final_Limit          -8.56334"
      ]
     },
     "execution_count": 21,
     "metadata": {},
     "output_type": "execute_result"
    }
   ],
   "source": [
    "\n",
    "pd.DataFrame(feature_importance, \n",
    "             X_train.columns, \n",
    "             columns=['coef'])\\\n",
    "            .sort_values(by='coef', ascending=False)"
   ]
  },
  {
   "cell_type": "code",
   "execution_count": 22,
   "id": "03c90080",
   "metadata": {},
   "outputs": [
    {
     "data": {
      "text/html": [
       "<div>\n",
       "<style scoped>\n",
       "    .dataframe tbody tr th:only-of-type {\n",
       "        vertical-align: middle;\n",
       "    }\n",
       "\n",
       "    .dataframe tbody tr th {\n",
       "        vertical-align: top;\n",
       "    }\n",
       "\n",
       "    .dataframe thead th {\n",
       "        text-align: right;\n",
       "    }\n",
       "</style>\n",
       "<table border=\"1\" class=\"dataframe\">\n",
       "  <thead>\n",
       "    <tr style=\"text-align: right;\">\n",
       "      <th></th>\n",
       "      <th>coef_aft_exp</th>\n",
       "    </tr>\n",
       "  </thead>\n",
       "  <tbody>\n",
       "    <tr>\n",
       "      <th>Org_Struc_Desc</th>\n",
       "      <td>46.30854</td>\n",
       "    </tr>\n",
       "    <tr>\n",
       "      <th>Financial_Template_Found_Flag</th>\n",
       "      <td>6.15480</td>\n",
       "    </tr>\n",
       "    <tr>\n",
       "      <th>Scored_Rec_Decision</th>\n",
       "      <td>2.45654</td>\n",
       "    </tr>\n",
       "    <tr>\n",
       "      <th>Scored_Flag</th>\n",
       "      <td>2.41829</td>\n",
       "    </tr>\n",
       "    <tr>\n",
       "      <th>One_Card</th>\n",
       "      <td>2.14319</td>\n",
       "    </tr>\n",
       "    <tr>\n",
       "      <th>Purchasing_Card</th>\n",
       "      <td>1.24097</td>\n",
       "    </tr>\n",
       "    <tr>\n",
       "      <th>Channel</th>\n",
       "      <td>0.91993</td>\n",
       "    </tr>\n",
       "    <tr>\n",
       "      <th>Revw_Quarter</th>\n",
       "      <td>0.71953</td>\n",
       "    </tr>\n",
       "    <tr>\n",
       "      <th>Corporate_Card</th>\n",
       "      <td>0.68161</td>\n",
       "    </tr>\n",
       "    <tr>\n",
       "      <th>Elan_Flag</th>\n",
       "      <td>0.59288</td>\n",
       "    </tr>\n",
       "    <tr>\n",
       "      <th>Other_NonBankCard</th>\n",
       "      <td>0.55707</td>\n",
       "    </tr>\n",
       "    <tr>\n",
       "      <th>SBFE_Score</th>\n",
       "      <td>0.39314</td>\n",
       "    </tr>\n",
       "    <tr>\n",
       "      <th>CC_Score</th>\n",
       "      <td>0.15113</td>\n",
       "    </tr>\n",
       "    <tr>\n",
       "      <th>CLI_or_New_Prod_Flag</th>\n",
       "      <td>0.08583</td>\n",
       "    </tr>\n",
       "    <tr>\n",
       "      <th>Final_Limit</th>\n",
       "      <td>0.00019</td>\n",
       "    </tr>\n",
       "  </tbody>\n",
       "</table>\n",
       "</div>"
      ],
      "text/plain": [
       "                      coef_aft_exp\n",
       "Org_Struc_Desc            46.30854\n",
       "Financial_Templat...       6.15480\n",
       "Scored_Rec_Decision        2.45654\n",
       "Scored_Flag                2.41829\n",
       "One_Card                   2.14319\n",
       "Purchasing_Card            1.24097\n",
       "Channel                    0.91993\n",
       "Revw_Quarter               0.71953\n",
       "Corporate_Card             0.68161\n",
       "Elan_Flag                  0.59288\n",
       "Other_NonBankCard          0.55707\n",
       "SBFE_Score                 0.39314\n",
       "CC_Score                   0.15113\n",
       "CLI_or_New_Prod_Flag       0.08583\n",
       "Final_Limit                0.00019"
      ]
     },
     "execution_count": 22,
     "metadata": {},
     "output_type": "execute_result"
    }
   ],
   "source": [
    "coef_aft_exp = np.exp(feature_importance)\n",
    "pd.DataFrame(coef_aft_exp, \n",
    "             X_train.columns, \n",
    "             columns=['coef_aft_exp'])\\\n",
    "            .sort_values(by='coef_aft_exp', ascending=False)"
   ]
  },
  {
   "cell_type": "markdown",
   "id": "8d6fd5cc",
   "metadata": {},
   "source": [
    "### Evaluate model"
   ]
  },
  {
   "cell_type": "code",
   "execution_count": 23,
   "id": "52601770",
   "metadata": {},
   "outputs": [
    {
     "name": "stdout",
     "output_type": "stream",
     "text": [
      "LogisticRegression Model Evalation\n",
      "Accuracy Score : 0.8773584905660378\n",
      "Precision Score: 0.8673740053050398\n",
      "Recall Score   : 0.8885869565217391\n",
      "Auc Score      : 0.8774485584747734\n",
      "              precision    recall  f1-score   support\n",
      "\n",
      "         0.0       0.89      0.87      0.88       374\n",
      "         1.0       0.87      0.89      0.88       368\n",
      "\n",
      "    accuracy                           0.88       742\n",
      "   macro avg       0.88      0.88      0.88       742\n",
      "weighted avg       0.88      0.88      0.88       742\n",
      "\n",
      "        pred:0  pred:1\n",
      "true:0     324      50\n",
      "true:1      41     327\n"
     ]
    },
    {
     "data": {
      "image/png": "[encoded data removed]",
      "text/plain": [
       "<Figure size 432x288 with 1 Axes>"
      ]
     },
     "metadata": {
      "needs_background": "light"
     },
     "output_type": "display_data"
    }
   ],
   "source": [
    "mdl_eva(X_test, y_test, lgr,'LogisticRegression')"
   ]
  },
  {
   "cell_type": "markdown",
   "id": "6a4faaeb",
   "metadata": {},
   "source": [
    "### Build XGBClassaifier model"
   ]
  },
  {
   "cell_type": "code",
   "execution_count": 24,
   "id": "a86c6e25",
   "metadata": {},
   "outputs": [
    {
     "data": {
      "text/html": [
       "<style>#sk-container-id-1 {color: black;background-color: white;}#sk-container-id-1 pre{padding: 0;}#sk-container-id-1 div.sk-toggleable {background-color: white;}#sk-container-id-1 label.sk-toggleable__label {cursor: pointer;display: block;width: 100%;margin-bottom: 0;padding: 0.3em;box-sizing: border-box;text-align: center;}#sk-container-id-1 label.sk-toggleable__label-arrow:before {content: \"▸\";float: left;margin-right: 0.25em;color: #696969;}#sk-container-id-1 label.sk-toggleable__label-arrow:hover:before {color: black;}#sk-container-id-1 div.sk-estimator:hover label.sk-toggleable__label-arrow:before {color: black;}#sk-container-id-1 div.sk-toggleable__content {max-height: 0;max-width: 0;overflow: hidden;text-align: left;background-color: #f0f8ff;}#sk-container-id-1 div.sk-toggleable__content pre {margin: 0.2em;color: black;border-radius: 0.25em;background-color: #f0f8ff;}#sk-container-id-1 input.sk-toggleable__control:checked~div.sk-toggleable__content {max-height: 200px;max-width: 100%;overflow: auto;}#sk-container-id-1 input.sk-toggleable__control:checked~label.sk-toggleable__label-arrow:before {content: \"▾\";}#sk-container-id-1 div.sk-estimator input.sk-toggleable__control:checked~label.sk-toggleable__label {background-color: #d4ebff;}#sk-container-id-1 div.sk-label input.sk-toggleable__control:checked~label.sk-toggleable__label {background-color: #d4ebff;}#sk-container-id-1 input.sk-hidden--visually {border: 0;clip: rect(1px 1px 1px 1px);clip: rect(1px, 1px, 1px, 1px);height: 1px;margin: -1px;overflow: hidden;padding: 0;position: absolute;width: 1px;}#sk-container-id-1 div.sk-estimator {font-family: monospace;background-color: #f0f8ff;border: 1px dotted black;border-radius: 0.25em;box-sizing: border-box;margin-bottom: 0.5em;}#sk-container-id-1 div.sk-estimator:hover {background-color: #d4ebff;}#sk-container-id-1 div.sk-parallel-item::after {content: \"\";width: 100%;border-bottom: 1px solid gray;flex-grow: 1;}#sk-container-id-1 div.sk-label:hover label.sk-toggleable__label {background-color: #d4ebff;}#sk-container-id-1 div.sk-serial::before {content: \"\";position: absolute;border-left: 1px solid gray;box-sizing: border-box;top: 0;bottom: 0;left: 50%;z-index: 0;}#sk-container-id-1 div.sk-serial {display: flex;flex-direction: column;align-items: center;background-color: white;padding-right: 0.2em;padding-left: 0.2em;position: relative;}#sk-container-id-1 div.sk-item {position: relative;z-index: 1;}#sk-container-id-1 div.sk-parallel {display: flex;align-items: stretch;justify-content: center;background-color: white;position: relative;}#sk-container-id-1 div.sk-item::before, #sk-container-id-1 div.sk-parallel-item::before {content: \"\";position: absolute;border-left: 1px solid gray;box-sizing: border-box;top: 0;bottom: 0;left: 50%;z-index: -1;}#sk-container-id-1 div.sk-parallel-item {display: flex;flex-direction: column;z-index: 1;position: relative;background-color: white;}#sk-container-id-1 div.sk-parallel-item:first-child::after {align-self: flex-end;width: 50%;}#sk-container-id-1 div.sk-parallel-item:last-child::after {align-self: flex-start;width: 50%;}#sk-container-id-1 div.sk-parallel-item:only-child::after {width: 0;}#sk-container-id-1 div.sk-dashed-wrapped {border: 1px dashed gray;margin: 0 0.4em 0.5em 0.4em;box-sizing: border-box;padding-bottom: 0.4em;background-color: white;}#sk-container-id-1 div.sk-label label {font-family: monospace;font-weight: bold;display: inline-block;line-height: 1.2em;}#sk-container-id-1 div.sk-label-container {text-align: center;}#sk-container-id-1 div.sk-container {/* jupyter's `normalize.less` sets `[hidden] { display: none; }` but bootstrap.min.css set `[hidden] { display: none !important; }` so we also need the `!important` here to be able to override the default hidden behavior on the sphinx rendered scikit-learn.org. See: https://github.com/scikit-learn/scikit-learn/issues/21755 */display: inline-block !important;position: relative;}#sk-container-id-1 div.sk-text-repr-fallback {display: none;}</style><div id=\"sk-container-id-1\" class=\"sk-top-container\"><div class=\"sk-text-repr-fallback\"><pre>XGBClassifier(base_score=0.5, booster=&#x27;gbtree&#x27;, callbacks=None,\n",
       "              colsample_bylevel=1, colsample_bynode=1, colsample_bytree=1,\n",
       "              early_stopping_rounds=None, enable_categorical=False,\n",
       "              eval_metric=None, gamma=0, gpu_id=-1, grow_policy=&#x27;depthwise&#x27;,\n",
       "              importance_type=None, interaction_constraints=&#x27;&#x27;,\n",
       "              learning_rate=0.1, max_bin=256, max_cat_to_onehot=4,\n",
       "              max_delta_step=0, max_depth=5, max_leaves=0, min_child_weight=1,\n",
       "              missing=nan, monotone_constraints=&#x27;()&#x27;, n_estimators=100,\n",
       "              n_jobs=0, num_parallel_tree=1, predictor=&#x27;auto&#x27;, random_state=0,\n",
       "              reg_alpha=0, reg_lambda=1, ...)</pre><b>In a Jupyter environment, please rerun this cell to show the HTML representation or trust the notebook. <br />On GitHub, the HTML representation is unable to render, please try loading this page with nbviewer.org.</b></div><div class=\"sk-container\" hidden><div class=\"sk-item\"><div class=\"sk-estimator sk-toggleable\"><input class=\"sk-toggleable__control sk-hidden--visually\" id=\"sk-estimator-id-1\" type=\"checkbox\" checked><label for=\"sk-estimator-id-1\" class=\"sk-toggleable__label sk-toggleable__label-arrow\">XGBClassifier</label><div class=\"sk-toggleable__content\"><pre>XGBClassifier(base_score=0.5, booster=&#x27;gbtree&#x27;, callbacks=None,\n",
       "              colsample_bylevel=1, colsample_bynode=1, colsample_bytree=1,\n",
       "              early_stopping_rounds=None, enable_categorical=False,\n",
       "              eval_metric=None, gamma=0, gpu_id=-1, grow_policy=&#x27;depthwise&#x27;,\n",
       "              importance_type=None, interaction_constraints=&#x27;&#x27;,\n",
       "              learning_rate=0.1, max_bin=256, max_cat_to_onehot=4,\n",
       "              max_delta_step=0, max_depth=5, max_leaves=0, min_child_weight=1,\n",
       "              missing=nan, monotone_constraints=&#x27;()&#x27;, n_estimators=100,\n",
       "              n_jobs=0, num_parallel_tree=1, predictor=&#x27;auto&#x27;, random_state=0,\n",
       "              reg_alpha=0, reg_lambda=1, ...)</pre></div></div></div></div></div>"
      ],
      "text/plain": [
       "XGBClassifier(base_score=0.5, booster='gbtree', callbacks=None,\n",
       "              colsample_bylevel=1, colsample_bynode=1, colsample_bytree=1,\n",
       "              early_stopping_rounds=None, enable_categorical=False,\n",
       "              eval_metric=None, gamma=0, gpu_id=-1, grow_policy='depthwise',\n",
       "              importance_type=None, interaction_constraints='',\n",
       "              learning_rate=0.1, max_bin=256, max_cat_to_onehot=4,\n",
       "              max_delta_step=0, max_depth=5, max_leaves=0, min_child_weight=1,\n",
       "              missing=nan, monotone_constraints='()', n_estimators=100,\n",
       "              n_jobs=0, num_parallel_tree=1, predictor='auto', random_state=0,\n",
       "              reg_alpha=0, reg_lambda=1, ...)"
      ]
     },
     "execution_count": 24,
     "metadata": {},
     "output_type": "execute_result"
    }
   ],
   "source": [
    "xgb = XGBClassifier(learning_rate=0.1,  max_depth= 5)\n",
    "xgb.fit(X_train, y_train)\n"
   ]
  },
  {
   "cell_type": "code",
   "execution_count": 25,
   "id": "3bcfc2e4",
   "metadata": {},
   "outputs": [
    {
     "data": {
      "text/html": [
       "<div>\n",
       "<style scoped>\n",
       "    .dataframe tbody tr th:only-of-type {\n",
       "        vertical-align: middle;\n",
       "    }\n",
       "\n",
       "    .dataframe tbody tr th {\n",
       "        vertical-align: top;\n",
       "    }\n",
       "\n",
       "    .dataframe thead th {\n",
       "        text-align: right;\n",
       "    }\n",
       "</style>\n",
       "<table border=\"1\" class=\"dataframe\">\n",
       "  <thead>\n",
       "    <tr style=\"text-align: right;\">\n",
       "      <th></th>\n",
       "      <th>feature_importances</th>\n",
       "    </tr>\n",
       "  </thead>\n",
       "  <tbody>\n",
       "    <tr>\n",
       "      <th>CLI_or_New_Prod_Flag</th>\n",
       "      <td>0.42259</td>\n",
       "    </tr>\n",
       "    <tr>\n",
       "      <th>Final_Limit</th>\n",
       "      <td>0.18205</td>\n",
       "    </tr>\n",
       "    <tr>\n",
       "      <th>Org_Struc_Desc</th>\n",
       "      <td>0.07023</td>\n",
       "    </tr>\n",
       "    <tr>\n",
       "      <th>Scored_Flag</th>\n",
       "      <td>0.04954</td>\n",
       "    </tr>\n",
       "    <tr>\n",
       "      <th>Financial_Template_Found_Flag</th>\n",
       "      <td>0.04817</td>\n",
       "    </tr>\n",
       "    <tr>\n",
       "      <th>Elan_Flag</th>\n",
       "      <td>0.04153</td>\n",
       "    </tr>\n",
       "    <tr>\n",
       "      <th>Other_NonBankCard</th>\n",
       "      <td>0.03557</td>\n",
       "    </tr>\n",
       "    <tr>\n",
       "      <th>CC_Score</th>\n",
       "      <td>0.03030</td>\n",
       "    </tr>\n",
       "    <tr>\n",
       "      <th>Revw_Quarter</th>\n",
       "      <td>0.02992</td>\n",
       "    </tr>\n",
       "    <tr>\n",
       "      <th>Scored_Rec_Decision</th>\n",
       "      <td>0.02648</td>\n",
       "    </tr>\n",
       "    <tr>\n",
       "      <th>Channel</th>\n",
       "      <td>0.02229</td>\n",
       "    </tr>\n",
       "    <tr>\n",
       "      <th>SBFE_Score</th>\n",
       "      <td>0.02154</td>\n",
       "    </tr>\n",
       "    <tr>\n",
       "      <th>Corporate_Card</th>\n",
       "      <td>0.01392</td>\n",
       "    </tr>\n",
       "    <tr>\n",
       "      <th>One_Card</th>\n",
       "      <td>0.00586</td>\n",
       "    </tr>\n",
       "    <tr>\n",
       "      <th>Purchasing_Card</th>\n",
       "      <td>0.00000</td>\n",
       "    </tr>\n",
       "  </tbody>\n",
       "</table>\n",
       "</div>"
      ],
      "text/plain": [
       "                      feature_importances\n",
       "CLI_or_New_Prod_Flag              0.42259\n",
       "Final_Limit                       0.18205\n",
       "Org_Struc_Desc                    0.07023\n",
       "Scored_Flag                       0.04954\n",
       "Financial_Templat...              0.04817\n",
       "Elan_Flag                         0.04153\n",
       "Other_NonBankCard                 0.03557\n",
       "CC_Score                          0.03030\n",
       "Revw_Quarter                      0.02992\n",
       "Scored_Rec_Decision               0.02648\n",
       "Channel                           0.02229\n",
       "SBFE_Score                        0.02154\n",
       "Corporate_Card                    0.01392\n",
       "One_Card                          0.00586\n",
       "Purchasing_Card                   0.00000"
      ]
     },
     "execution_count": 25,
     "metadata": {},
     "output_type": "execute_result"
    }
   ],
   "source": [
    "pd.DataFrame(xgb.feature_importances_, \n",
    "             X_train.columns, \n",
    "             columns=['feature_importances'])\\\n",
    "            .sort_values(by='feature_importances', ascending=False)\n",
    "                       \n",
    "                         "
   ]
  },
  {
   "cell_type": "code",
   "execution_count": 26,
   "id": "1800dbe4",
   "metadata": {},
   "outputs": [
    {
     "name": "stdout",
     "output_type": "stream",
     "text": [
      "XGBClassifier Model Evalation\n",
      "Accuracy Score : 0.9824797843665768\n",
      "Precision Score: 0.9758713136729222\n",
      "Recall Score   : 0.9891304347826086\n",
      "Auc Score      : 0.982533131829807\n",
      "              precision    recall  f1-score   support\n",
      "\n",
      "         0.0       0.99      0.98      0.98       374\n",
      "         1.0       0.98      0.99      0.98       368\n",
      "\n",
      "    accuracy                           0.98       742\n",
      "   macro avg       0.98      0.98      0.98       742\n",
      "weighted avg       0.98      0.98      0.98       742\n",
      "\n",
      "        pred:0  pred:1\n",
      "true:0     365       9\n",
      "true:1       4     364\n"
     ]
    },
    {
     "data": {
      "image/png": "[encoded data removed]",
      "text/plain": [
       "<Figure size 432x288 with 1 Axes>"
      ]
     },
     "metadata": {
      "needs_background": "light"
     },
     "output_type": "display_data"
    }
   ],
   "source": [
    "mdl_eva(X_test, y_test, xgb,'XGBClassifier')"
   ]
  },
  {
   "cell_type": "code",
   "execution_count": 27,
   "id": "b86652c9",
   "metadata": {},
   "outputs": [
    {
     "data": {
      "text/html": [
       "<style>#sk-container-id-2 {color: black;background-color: white;}#sk-container-id-2 pre{padding: 0;}#sk-container-id-2 div.sk-toggleable {background-color: white;}#sk-container-id-2 label.sk-toggleable__label {cursor: pointer;display: block;width: 100%;margin-bottom: 0;padding: 0.3em;box-sizing: border-box;text-align: center;}#sk-container-id-2 label.sk-toggleable__label-arrow:before {content: \"▸\";float: left;margin-right: 0.25em;color: #696969;}#sk-container-id-2 label.sk-toggleable__label-arrow:hover:before {color: black;}#sk-container-id-2 div.sk-estimator:hover label.sk-toggleable__label-arrow:before {color: black;}#sk-container-id-2 div.sk-toggleable__content {max-height: 0;max-width: 0;overflow: hidden;text-align: left;background-color: #f0f8ff;}#sk-container-id-2 div.sk-toggleable__content pre {margin: 0.2em;color: black;border-radius: 0.25em;background-color: #f0f8ff;}#sk-container-id-2 input.sk-toggleable__control:checked~div.sk-toggleable__content {max-height: 200px;max-width: 100%;overflow: auto;}#sk-container-id-2 input.sk-toggleable__control:checked~label.sk-toggleable__label-arrow:before {content: \"▾\";}#sk-container-id-2 div.sk-estimator input.sk-toggleable__control:checked~label.sk-toggleable__label {background-color: #d4ebff;}#sk-container-id-2 div.sk-label input.sk-toggleable__control:checked~label.sk-toggleable__label {background-color: #d4ebff;}#sk-container-id-2 input.sk-hidden--visually {border: 0;clip: rect(1px 1px 1px 1px);clip: rect(1px, 1px, 1px, 1px);height: 1px;margin: -1px;overflow: hidden;padding: 0;position: absolute;width: 1px;}#sk-container-id-2 div.sk-estimator {font-family: monospace;background-color: #f0f8ff;border: 1px dotted black;border-radius: 0.25em;box-sizing: border-box;margin-bottom: 0.5em;}#sk-container-id-2 div.sk-estimator:hover {background-color: #d4ebff;}#sk-container-id-2 div.sk-parallel-item::after {content: \"\";width: 100%;border-bottom: 1px solid gray;flex-grow: 1;}#sk-container-id-2 div.sk-label:hover label.sk-toggleable__label {background-color: #d4ebff;}#sk-container-id-2 div.sk-serial::before {content: \"\";position: absolute;border-left: 1px solid gray;box-sizing: border-box;top: 0;bottom: 0;left: 50%;z-index: 0;}#sk-container-id-2 div.sk-serial {display: flex;flex-direction: column;align-items: center;background-color: white;padding-right: 0.2em;padding-left: 0.2em;position: relative;}#sk-container-id-2 div.sk-item {position: relative;z-index: 1;}#sk-container-id-2 div.sk-parallel {display: flex;align-items: stretch;justify-content: center;background-color: white;position: relative;}#sk-container-id-2 div.sk-item::before, #sk-container-id-2 div.sk-parallel-item::before {content: \"\";position: absolute;border-left: 1px solid gray;box-sizing: border-box;top: 0;bottom: 0;left: 50%;z-index: -1;}#sk-container-id-2 div.sk-parallel-item {display: flex;flex-direction: column;z-index: 1;position: relative;background-color: white;}#sk-container-id-2 div.sk-parallel-item:first-child::after {align-self: flex-end;width: 50%;}#sk-container-id-2 div.sk-parallel-item:last-child::after {align-self: flex-start;width: 50%;}#sk-container-id-2 div.sk-parallel-item:only-child::after {width: 0;}#sk-container-id-2 div.sk-dashed-wrapped {border: 1px dashed gray;margin: 0 0.4em 0.5em 0.4em;box-sizing: border-box;padding-bottom: 0.4em;background-color: white;}#sk-container-id-2 div.sk-label label {font-family: monospace;font-weight: bold;display: inline-block;line-height: 1.2em;}#sk-container-id-2 div.sk-label-container {text-align: center;}#sk-container-id-2 div.sk-container {/* jupyter's `normalize.less` sets `[hidden] { display: none; }` but bootstrap.min.css set `[hidden] { display: none !important; }` so we also need the `!important` here to be able to override the default hidden behavior on the sphinx rendered scikit-learn.org. See: https://github.com/scikit-learn/scikit-learn/issues/21755 */display: inline-block !important;position: relative;}#sk-container-id-2 div.sk-text-repr-fallback {display: none;}</style><div id=\"sk-container-id-2\" class=\"sk-top-container\"><div class=\"sk-text-repr-fallback\"><pre>RFECV(cv=10,\n",
       "      estimator=XGBClassifier(base_score=None, booster=None, callbacks=None,\n",
       "                              colsample_bylevel=None, colsample_bynode=None,\n",
       "                              colsample_bytree=None, early_stopping_rounds=None,\n",
       "                              enable_categorical=False, eval_metric=None,\n",
       "                              gamma=None, gpu_id=None, grow_policy=None,\n",
       "                              importance_type=None,\n",
       "                              interaction_constraints=None, learning_rate=0.1,\n",
       "                              max_bin=None, max_cat_to_onehot=None,\n",
       "                              max_delta_step=None, max_depth=5, max_leaves=None,\n",
       "                              min_child_weight=None, missing=nan,\n",
       "                              monotone_constraints=None, n_estimators=100,\n",
       "                              n_jobs=None, num_parallel_tree=None,\n",
       "                              predictor=None, random_state=None, reg_alpha=None,\n",
       "                              reg_lambda=None, ...),\n",
       "      scoring=&#x27;roc_auc&#x27;)</pre><b>In a Jupyter environment, please rerun this cell to show the HTML representation or trust the notebook. <br />On GitHub, the HTML representation is unable to render, please try loading this page with nbviewer.org.</b></div><div class=\"sk-container\" hidden><div class=\"sk-item sk-dashed-wrapped\"><div class=\"sk-label-container\"><div class=\"sk-label sk-toggleable\"><input class=\"sk-toggleable__control sk-hidden--visually\" id=\"sk-estimator-id-2\" type=\"checkbox\" ><label for=\"sk-estimator-id-2\" class=\"sk-toggleable__label sk-toggleable__label-arrow\">RFECV</label><div class=\"sk-toggleable__content\"><pre>RFECV(cv=10,\n",
       "      estimator=XGBClassifier(base_score=None, booster=None, callbacks=None,\n",
       "                              colsample_bylevel=None, colsample_bynode=None,\n",
       "                              colsample_bytree=None, early_stopping_rounds=None,\n",
       "                              enable_categorical=False, eval_metric=None,\n",
       "                              gamma=None, gpu_id=None, grow_policy=None,\n",
       "                              importance_type=None,\n",
       "                              interaction_constraints=None, learning_rate=0.1,\n",
       "                              max_bin=None, max_cat_to_onehot=None,\n",
       "                              max_delta_step=None, max_depth=5, max_leaves=None,\n",
       "                              min_child_weight=None, missing=nan,\n",
       "                              monotone_constraints=None, n_estimators=100,\n",
       "                              n_jobs=None, num_parallel_tree=None,\n",
       "                              predictor=None, random_state=None, reg_alpha=None,\n",
       "                              reg_lambda=None, ...),\n",
       "      scoring=&#x27;roc_auc&#x27;)</pre></div></div></div><div class=\"sk-parallel\"><div class=\"sk-parallel-item\"><div class=\"sk-item\"><div class=\"sk-label-container\"><div class=\"sk-label sk-toggleable\"><input class=\"sk-toggleable__control sk-hidden--visually\" id=\"sk-estimator-id-3\" type=\"checkbox\" ><label for=\"sk-estimator-id-3\" class=\"sk-toggleable__label sk-toggleable__label-arrow\">estimator: XGBClassifier</label><div class=\"sk-toggleable__content\"><pre>XGBClassifier(base_score=None, booster=None, callbacks=None,\n",
       "              colsample_bylevel=None, colsample_bynode=None,\n",
       "              colsample_bytree=None, early_stopping_rounds=None,\n",
       "              enable_categorical=False, eval_metric=None, gamma=None,\n",
       "              gpu_id=None, grow_policy=None, importance_type=None,\n",
       "              interaction_constraints=None, learning_rate=0.1, max_bin=None,\n",
       "              max_cat_to_onehot=None, max_delta_step=None, max_depth=5,\n",
       "              max_leaves=None, min_child_weight=None, missing=nan,\n",
       "              monotone_constraints=None, n_estimators=100, n_jobs=None,\n",
       "              num_parallel_tree=None, predictor=None, random_state=None,\n",
       "              reg_alpha=None, reg_lambda=None, ...)</pre></div></div></div><div class=\"sk-serial\"><div class=\"sk-item\"><div class=\"sk-estimator sk-toggleable\"><input class=\"sk-toggleable__control sk-hidden--visually\" id=\"sk-estimator-id-4\" type=\"checkbox\" ><label for=\"sk-estimator-id-4\" class=\"sk-toggleable__label sk-toggleable__label-arrow\">XGBClassifier</label><div class=\"sk-toggleable__content\"><pre>XGBClassifier(base_score=None, booster=None, callbacks=None,\n",
       "              colsample_bylevel=None, colsample_bynode=None,\n",
       "              colsample_bytree=None, early_stopping_rounds=None,\n",
       "              enable_categorical=False, eval_metric=None, gamma=None,\n",
       "              gpu_id=None, grow_policy=None, importance_type=None,\n",
       "              interaction_constraints=None, learning_rate=0.1, max_bin=None,\n",
       "              max_cat_to_onehot=None, max_delta_step=None, max_depth=5,\n",
       "              max_leaves=None, min_child_weight=None, missing=nan,\n",
       "              monotone_constraints=None, n_estimators=100, n_jobs=None,\n",
       "              num_parallel_tree=None, predictor=None, random_state=None,\n",
       "              reg_alpha=None, reg_lambda=None, ...)</pre></div></div></div></div></div></div></div></div></div></div>"
      ],
      "text/plain": [
       "RFECV(cv=10,\n",
       "      estimator=XGBClassifier(base_score=None, booster=None, callbacks=None,\n",
       "                              colsample_bylevel=None, colsample_bynode=None,\n",
       "                              colsample_bytree=None, early_stopping_rounds=None,\n",
       "                              enable_categorical=False, eval_metric=None,\n",
       "                              gamma=None, gpu_id=None, grow_policy=None,\n",
       "                              importance_type=None,\n",
       "                              interaction_constraints=None, learning_rate=0.1,\n",
       "                              max_bin=None, max_cat_to_onehot=None,\n",
       "                              max_delta_step=None, max_depth=5, max_leaves=None,\n",
       "                              min_child_weight=None, missing=nan,\n",
       "                              monotone_constraints=None, n_estimators=100,\n",
       "                              n_jobs=None, num_parallel_tree=None,\n",
       "                              predictor=None, random_state=None, reg_alpha=None,\n",
       "                              reg_lambda=None, ...),\n",
       "      scoring='roc_auc')"
      ]
     },
     "execution_count": 27,
     "metadata": {},
     "output_type": "execute_result"
    }
   ],
   "source": [
    "sel = RFECV(estimator = XGBClassifier(learning_rate=0.1,  max_depth= 5), cv = 10, scoring = 'roc_auc')\n",
    "sel.fit(X_test, y_test)"
   ]
  },
  {
   "cell_type": "code",
   "execution_count": 28,
   "id": "ea40c588",
   "metadata": {},
   "outputs": [
    {
     "name": "stdout",
     "output_type": "stream",
     "text": [
      "optimal number of features = 5\n"
     ]
    }
   ],
   "source": [
    "print(f'optimal number of features = {sel.n_features_}')"
   ]
  },
  {
   "cell_type": "code",
   "execution_count": 41,
   "id": "7c61b668",
   "metadata": {},
   "outputs": [
    {
     "name": "stdout",
     "output_type": "stream",
     "text": [
      "[ True False  True False  True False False False False False False False\n",
      " False  True  True]\n"
     ]
    }
   ],
   "source": [
    "print(sel.support_)"
   ]
  },
  {
   "cell_type": "code",
   "execution_count": 40,
   "id": "bcfbef10",
   "metadata": {},
   "outputs": [
    {
     "ename": "AttributeError",
     "evalue": "'RFECV' object has no attribute 'estimators_'",
     "output_type": "error",
     "traceback": [
      "\u001b[1;31m---------------------------------------------------------------------------\u001b[0m",
      "\u001b[1;31mAttributeError\u001b[0m                            Traceback (most recent call last)",
      "\u001b[1;32m<ipython-input-40-30234ca1ac6a>\u001b[0m in \u001b[0;36m<module>\u001b[1;34m\u001b[0m\n\u001b[1;32m----> 1\u001b[1;33m \u001b[0mprint\u001b[0m\u001b[1;33m(\u001b[0m\u001b[0msel\u001b[0m\u001b[1;33m.\u001b[0m\u001b[0mestimators_\u001b[0m\u001b[1;33m)\u001b[0m\u001b[1;33m\u001b[0m\u001b[1;33m\u001b[0m\u001b[0m\n\u001b[0m",
      "\u001b[1;31mAttributeError\u001b[0m: 'RFECV' object has no attribute 'estimators_'"
     ]
    }
   ],
   "source": [
    "print(sel.estimators_)"
   ]
  },
  {
   "cell_type": "code",
   "execution_count": 42,
   "id": "be47b815",
   "metadata": {},
   "outputs": [
    {
     "name": "stdout",
     "output_type": "stream",
     "text": [
      "[[0.78876245 0.81721195 0.74159357 0.64766082 0.7027027  0.78487947\n",
      "  0.63038714 0.67567568 0.69247626 0.7330168 ]\n",
      " [0.95554765 0.99857752 0.99378655 0.97660819 0.98210373 0.96018992\n",
      "  0.97516435 0.96018992 0.98392988 0.96018992]\n",
      " [0.98577525 0.99857752 0.99342105 0.98501462 0.97479912 0.96457268\n",
      "  0.98283419 0.95325055 0.99123448 0.96274653]\n",
      " [0.98648649 0.99857752 0.99597953 0.99342105 0.9806428  0.97151205\n",
      "  0.99707816 0.96639883 0.99561724 0.97808619]\n",
      " [1.         0.99893314 0.99780702 0.99707602 0.98721695 0.97552958\n",
      "  0.99853908 0.96895544 0.99488678 0.97808619]\n",
      " [1.         0.99751067 0.99634503 0.99853801 0.9853908  0.96712929\n",
      "  0.99853908 0.96785975 0.99561724 0.97297297]\n",
      " [1.         1.         0.99780702 0.99707602 0.98319942 0.96859021\n",
      "  0.9963477  0.97443389 0.99853908 0.96785975]\n",
      " [1.         0.99857752 0.99853801 0.99853801 0.99050402 0.96128561\n",
      "  0.99853908 0.96932067 0.99853908 0.96639883]\n",
      " [1.         0.99928876 0.99707602 0.99926901 0.98246896 0.96639883\n",
      "  0.99853908 0.97662527 0.99926954 0.96712929]\n",
      " [1.         0.99928876 0.99707602 0.99926901 0.98685172 0.96639883\n",
      "  0.99780862 0.97954711 0.99853908 0.96712929]\n",
      " [1.         0.99928876 0.99707602 0.99926901 0.98246896 0.96493791\n",
      "  0.99853908 0.9817385  0.99707816 0.96785975]\n",
      " [1.         0.99928876 0.99707602 0.99926901 0.98246896 0.96493791\n",
      "  0.99926954 0.9817385  0.99707816 0.96785975]\n",
      " [1.         0.99928876 0.99707602 0.99926901 0.98246896 0.96493791\n",
      "  0.99926954 0.9817385  0.99707816 0.96785975]\n",
      " [1.         0.99928876 0.99707602 0.99926901 0.98246896 0.96493791\n",
      "  0.99926954 0.9817385  0.99707816 0.96785975]\n",
      " [1.         0.99928876 0.99707602 0.99926901 0.98246896 0.96493791\n",
      "  0.99926954 0.9817385  0.99707816 0.96785975]]\n"
     ]
    }
   ],
   "source": [
    "print(sel.grid_scores_)"
   ]
  },
  {
   "cell_type": "code",
   "execution_count": 32,
   "id": "ec0127d7",
   "metadata": {},
   "outputs": [
    {
     "name": "stdout",
     "output_type": "stream",
     "text": [
      "Index(['Org_Struc_Desc', 'Scored_Flag', 'CLI_or_New_Prod_Flag', 'Financial_Template_Found_Flag', 'Final_Limit'], dtype='object')\n"
     ]
    }
   ],
   "source": [
    "print(X_test.columns[sel.support_])"
   ]
  },
  {
   "cell_type": "code",
   "execution_count": 36,
   "id": "0a639042",
   "metadata": {},
   "outputs": [
    {
     "name": "stdout",
     "output_type": "stream",
     "text": [
      "Column:0, Select:True, rank: 1\n",
      "Column:1, Select:False, rank: 5\n",
      "Column:2, Select:True, rank: 1\n",
      "Column:3, Select:False, rank: 6\n",
      "Column:4, Select:True, rank: 1\n",
      "Column:5, Select:False, rank: 4\n",
      "Column:6, Select:False, rank: 11\n",
      "Column:7, Select:False, rank: 10\n",
      "Column:8, Select:False, rank: 9\n",
      "Column:9, Select:False, rank: 7\n",
      "Column:10, Select:False, rank: 8\n",
      "Column:11, Select:False, rank: 3\n",
      "Column:12, Select:False, rank: 2\n",
      "Column:13, Select:True, rank: 1\n",
      "Column:14, Select:True, rank: 1\n"
     ]
    }
   ],
   "source": [
    "for i in range(X_test.shape[1]):\n",
    "              print(f'Column:{i}, Select:{sel.support_[i]}, rank: {sel.ranking_[i]}')"
   ]
  },
  {
   "cell_type": "code",
   "execution_count": 38,
   "id": "f246858e",
   "metadata": {},
   "outputs": [
    {
     "name": "stdout",
     "output_type": "stream",
     "text": [
      "Column:Org_Struc_Desc, Select:True, rank: 1\n",
      "Column:Revw_Quarter, Select:False, rank: 5\n",
      "Column:Scored_Flag, Select:True, rank: 1\n",
      "Column:Elan_Flag, Select:False, rank: 6\n",
      "Column:CLI_or_New_Prod_Flag, Select:True, rank: 1\n",
      "Column:Channel, Select:False, rank: 4\n",
      "Column:Corporate_Card, Select:False, rank: 11\n",
      "Column:Purchasing_Card, Select:False, rank: 10\n",
      "Column:One_Card, Select:False, rank: 9\n",
      "Column:Other_NonBankCard, Select:False, rank: 7\n",
      "Column:Scored_Rec_Decision, Select:False, rank: 8\n",
      "Column:SBFE_Score, Select:False, rank: 3\n",
      "Column:CC_Score, Select:False, rank: 2\n",
      "Column:Financial_Template_Found_Flag, Select:True, rank: 1\n",
      "Column:Final_Limit, Select:True, rank: 1\n"
     ]
    }
   ],
   "source": [
    "for i in range(X_test.shape[1]):\n",
    "              print(f'Column:{X_test.columns[i]}, Select:{sel.support_[i]}, rank: {sel.ranking_[i]}')"
   ]
  },
  {
   "cell_type": "code",
   "execution_count": 43,
   "id": "0190828d",
   "metadata": {},
   "outputs": [],
   "source": [
    "sel_fea = sel.get_support(1)"
   ]
  },
  {
   "cell_type": "code",
   "execution_count": 44,
   "id": "4e6dcdde",
   "metadata": {},
   "outputs": [
    {
     "data": {
      "text/plain": [
       "array([ 0,  2,  4, 13, 14], dtype=int64)"
      ]
     },
     "execution_count": 44,
     "metadata": {},
     "output_type": "execute_result"
    }
   ],
   "source": [
    "sel_fea"
   ]
  },
  {
   "cell_type": "code",
   "execution_count": null,
   "id": "09ab0c7c",
   "metadata": {},
   "outputs": [],
   "source": [
    "\n",
    "from sklearn.pipeline import Pipeline\n",
    "rfe = RFECV(estimator = XGBClassifier(learning_rate=0.1,  max_depth= 5))\n",
    "model = XGBClassifier(learning_rate=0.1,  max_depth= 5)\n",
    "pipeline = Pipeline(steps=[('s', rfe), ('m', model)])\n",
    "cv = RepeatedStratifiedKFold(n_splits = 10, n_repeats = 3, random_state = 1)"
   ]
  },
  {
   "cell_type": "code",
   "execution_count": 39,
   "id": "442cd44d",
   "metadata": {},
   "outputs": [
    {
     "name": "stdout",
     "output_type": "stream",
     "text": [
      "Accuracy: 0.988 (0.007)\n"
     ]
    }
   ],
   "source": [
    "\n",
    "# automatically select the number of features for RFE\n",
    "from numpy import mean\n",
    "from numpy import std\n",
    "\n",
    "from sklearn.model_selection import cross_val_score\n",
    "from sklearn.model_selection import RepeatedStratifiedKFold\n",
    "from sklearn.feature_selection import RFECV\n",
    "from sklearn.tree import DecisionTreeClassifier\n",
    "from sklearn.pipeline import Pipeline\n",
    "# define dataset\n",
    "\n",
    "# create pipeline\n",
    "rfe = RFECV(estimator=XGBClassifier())\n",
    "model =XGBClassifier()\n",
    "pipeline = Pipeline(steps=[('s',rfe),('m',model)])\n",
    "# evaluate model\n",
    "cv = RepeatedStratifiedKFold(n_splits=10, n_repeats=3, random_state=1)\n",
    "n_scores = cross_val_score(pipeline, X, y, scoring='accuracy', cv=cv, n_jobs=-1, error_score='raise')\n",
    "# report performance\n",
    "print('Accuracy: %.3f (%.3f)' % (mean(n_scores), std(n_scores)))"
   ]
  },
  {
   "cell_type": "code",
   "execution_count": null,
   "id": "ceded5f8",
   "metadata": {},
   "outputs": [],
   "source": [
    "\n"
   ]
  }
 ],
 "metadata": {
  "kernelspec": {
   "display_name": "Python 3 (ipykernel)",
   "language": "python",
   "name": "python3"
  },
  "language_info": {
   "codemirror_mode": {
    "name": "ipython",
    "version": 3
   },
   "file_extension": ".py",
   "mimetype": "text/x-python",
   "name": "python",
   "nbconvert_exporter": "python",
   "pygments_lexer": "ipython3",
   "version": "3.10.9"
  }
 },
 "nbformat": 4,
 "nbformat_minor": 5
}
