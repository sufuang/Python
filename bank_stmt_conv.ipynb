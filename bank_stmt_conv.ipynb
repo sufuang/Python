{
 "cells": [
  {
   "cell_type": "markdown",
   "metadata": {},
   "source": [
    "# Convert year end bank statements to a csv file\n",
    "## Module nane : bank_stmt_conv.ipynb\n",
    "## Functionality\n",
    "* Read bank statement from a text file\n",
    "* Process transactions \n",
    "  * Line starts with '0', '1', '2' or '3' are transactions which will be scaned\n",
    "  * Will pass non transaction statements\n",
    "  * The fields are seperated by space\n",
    "  * The first field is the transaction date, the last field is the transaction amount\n",
    "    * Need to convert the transaction amount to decimal\n",
    "    * If the transaction amount ends withs 'CR', the amount would be nagative, e.g. 123.5CR would be -123.5\n",
    "    * Remove ',' from the transaction amount, .e.g. 1,234.34 would be 1234.34 \n",
    "  * The transaction description is  bwtween the transaction date and transaction amount  \n",
    "  * Create a list with tuple of tran_dte, tran_dsc, and tran_amt\n",
    "* After process all the lines/statements, save the list to a datafram \n",
    "* Sava the dataframe to a CSV file  \n",
    "#### Author: Sophia Yue\n",
    "#### Creation date: 07-28-2018"
   ]
  },
  {
   "cell_type": "markdown",
   "metadata": {},
   "source": [
    "## Import package"
   ]
  },
  {
   "cell_type": "code",
   "execution_count": 1,
   "metadata": {},
   "outputs": [],
   "source": [
    " from decimal import *\n",
    " import pandas as pd"
   ]
  },
  {
   "cell_type": "markdown",
   "metadata": {},
   "source": [
    "## Open/Read input file"
   ]
  },
  {
   "cell_type": "code",
   "execution_count": 3,
   "metadata": {},
   "outputs": [
    {
     "data": {
      "text/plain": [
       "list"
      ]
     },
     "execution_count": 3,
     "metadata": {},
     "output_type": "execute_result"
    }
   ],
   "source": [
    "with open('2017_ye_stmt.txt', 'r') as visa_file:\n",
    "     data =  visa_file.readlines()\n",
    "type(data)"
   ]
  },
  {
   "cell_type": "code",
   "execution_count": 4,
   "metadata": {},
   "outputs": [
    {
     "data": {
      "text/plain": [
       "['Other Stores/Retail\\n',\n",
       " 'Date Description Location Amount Deduct\\n',\n",
       " '01/02/17 THE HOME DEPOT 0459 GLENDALE,AZ 9.76\\n',\n",
       " '01/20/17 THE HOME DEPOT 0475 GLENDALE,AZ 36.88\\n',\n",
       " '01/23/17 AMAZING AWARDS PHOENIX,AZ 13.03\\n',\n",
       " '01/26/17 HARBOR FREIGHT TOOLS 1 GLENDALE,AZ 73.84\\n',\n",
       " '01/27/17 HARBOR FREIGHT TOOLS 1 GLENDALE,AZ 3.89\\n',\n",
       " '02/01/17 THE HOME DEPOT 0475 GLENDALE,AZ 4.34\\n',\n",
       " '02/06/17 SAMS CLUB 4732 GLENDALE,AZ 11.24\\n',\n",
       " '02/15/17 HARBOR FREIGHT TOOLS 1 GLENDALE,AZ 4.33\\n',\n",
       " '03/01/17 THE HOME DEPOT 0459 GLENDALE,AZ 35.78\\n']"
      ]
     },
     "execution_count": 4,
     "metadata": {},
     "output_type": "execute_result"
    }
   ],
   "source": [
    "data [0:11]"
   ]
  },
  {
   "cell_type": "markdown",
   "metadata": {},
   "source": [
    "## Remove non transaction statements"
   ]
  },
  {
   "cell_type": "code",
   "execution_count": 5,
   "metadata": {},
   "outputs": [],
   "source": [
    "input_trans = list(filter(lambda line: line.startswith(('0', '1', '2', '3')), data))"
   ]
  },
  {
   "cell_type": "markdown",
   "metadata": {},
   "source": [
    "## Scan transaction and assign values to tran_dte, tran_dsc and tran_exp\n"
   ]
  },
  {
   "cell_type": "code",
   "execution_count": 7,
   "metadata": {},
   "outputs": [],
   "source": [
    "d = []\n",
    "for stmt in input_trans[0:10]:\n",
    "    tran_split =  stmt.split(' ')\n",
    "    tran_dte  =  tran_split[0]\n",
    "    \n",
    "    tran_dsc =  tran_split[1:-2]  \n",
    "    tran_dsc = ' '.join(tran_dsc)\n",
    "      \n",
    "    tran_exp  =  tran_split[-1].rstrip()\n",
    "    if tran_exp.endswith('CR'):\n",
    "       tran_exp = -1 * Decimal(tran_exp.replace('CR',''))\n",
    "    else:\n",
    "       tran_exp = Decimal(tran_exp)\n",
    "    d.append({'tran_dte' : tran_dte, 'tran_dsc' : tran_dsc,  'tran_exp' : tran_exp })"
   ]
  },
  {
   "cell_type": "markdown",
   "metadata": {},
   "source": [
    "## Create a dataframe from the list 'd'"
   ]
  },
  {
   "cell_type": "code",
   "execution_count": 8,
   "metadata": {},
   "outputs": [
    {
     "data": {
      "text/html": [
       "<div>\n",
       "<style scoped>\n",
       "    .dataframe tbody tr th:only-of-type {\n",
       "        vertical-align: middle;\n",
       "    }\n",
       "\n",
       "    .dataframe tbody tr th {\n",
       "        vertical-align: top;\n",
       "    }\n",
       "\n",
       "    .dataframe thead th {\n",
       "        text-align: right;\n",
       "    }\n",
       "</style>\n",
       "<table border=\"1\" class=\"dataframe\">\n",
       "  <thead>\n",
       "    <tr style=\"text-align: right;\">\n",
       "      <th></th>\n",
       "      <th>tran_dsc</th>\n",
       "      <th>tran_dte</th>\n",
       "      <th>tran_exp</th>\n",
       "    </tr>\n",
       "  </thead>\n",
       "  <tbody>\n",
       "    <tr>\n",
       "      <th>0</th>\n",
       "      <td>THE HOME DEPOT 0459</td>\n",
       "      <td>01/02/17</td>\n",
       "      <td>9.76</td>\n",
       "    </tr>\n",
       "    <tr>\n",
       "      <th>1</th>\n",
       "      <td>THE HOME DEPOT 0475</td>\n",
       "      <td>01/20/17</td>\n",
       "      <td>36.88</td>\n",
       "    </tr>\n",
       "    <tr>\n",
       "      <th>2</th>\n",
       "      <td>AMAZING AWARDS</td>\n",
       "      <td>01/23/17</td>\n",
       "      <td>13.03</td>\n",
       "    </tr>\n",
       "    <tr>\n",
       "      <th>3</th>\n",
       "      <td>HARBOR FREIGHT TOOLS 1</td>\n",
       "      <td>01/26/17</td>\n",
       "      <td>73.84</td>\n",
       "    </tr>\n",
       "    <tr>\n",
       "      <th>4</th>\n",
       "      <td>HARBOR FREIGHT TOOLS 1</td>\n",
       "      <td>01/27/17</td>\n",
       "      <td>3.89</td>\n",
       "    </tr>\n",
       "    <tr>\n",
       "      <th>5</th>\n",
       "      <td>THE HOME DEPOT 0475</td>\n",
       "      <td>02/01/17</td>\n",
       "      <td>4.34</td>\n",
       "    </tr>\n",
       "    <tr>\n",
       "      <th>6</th>\n",
       "      <td>SAMS CLUB 4732</td>\n",
       "      <td>02/06/17</td>\n",
       "      <td>11.24</td>\n",
       "    </tr>\n",
       "    <tr>\n",
       "      <th>7</th>\n",
       "      <td>HARBOR FREIGHT TOOLS 1</td>\n",
       "      <td>02/15/17</td>\n",
       "      <td>4.33</td>\n",
       "    </tr>\n",
       "    <tr>\n",
       "      <th>8</th>\n",
       "      <td>THE HOME DEPOT 0459</td>\n",
       "      <td>03/01/17</td>\n",
       "      <td>35.78</td>\n",
       "    </tr>\n",
       "    <tr>\n",
       "      <th>9</th>\n",
       "      <td>THE HOME DEPOT 0459</td>\n",
       "      <td>03/04/17</td>\n",
       "      <td>45.87</td>\n",
       "    </tr>\n",
       "  </tbody>\n",
       "</table>\n",
       "</div>"
      ],
      "text/plain": [
       "                 tran_dsc  tran_dte tran_exp\n",
       "0     THE HOME DEPOT 0459  01/02/17     9.76\n",
       "1     THE HOME DEPOT 0475  01/20/17    36.88\n",
       "2          AMAZING AWARDS  01/23/17    13.03\n",
       "3  HARBOR FREIGHT TOOLS 1  01/26/17    73.84\n",
       "4  HARBOR FREIGHT TOOLS 1  01/27/17     3.89\n",
       "5     THE HOME DEPOT 0475  02/01/17     4.34\n",
       "6          SAMS CLUB 4732  02/06/17    11.24\n",
       "7  HARBOR FREIGHT TOOLS 1  02/15/17     4.33\n",
       "8     THE HOME DEPOT 0459  03/01/17    35.78\n",
       "9     THE HOME DEPOT 0459  03/04/17    45.87"
      ]
     },
     "execution_count": 8,
     "metadata": {},
     "output_type": "execute_result"
    }
   ],
   "source": [
    "df = pd.DataFrame(d)\n",
    "df[0:10]"
   ]
  },
  {
   "cell_type": "markdown",
   "metadata": {},
   "source": [
    "## Create a CSV file"
   ]
  },
  {
   "cell_type": "code",
   "execution_count": 9,
   "metadata": {},
   "outputs": [],
   "source": [
    "df.to_csv('2017_ye_stmt.csv')"
   ]
  },
  {
   "cell_type": "code",
   "execution_count": null,
   "metadata": {},
   "outputs": [],
   "source": []
  }
 ],
 "metadata": {
  "kernelspec": {
   "display_name": "Python 3",
   "language": "python",
   "name": "python3"
  },
  "language_info": {
   "codemirror_mode": {
    "name": "ipython",
    "version": 3
   },
   "file_extension": ".py",
   "mimetype": "text/x-python",
   "name": "python",
   "nbconvert_exporter": "python",
   "pygments_lexer": "ipython3",
   "version": "3.6.4"
  }
 },
 "nbformat": 4,
 "nbformat_minor": 2
}
