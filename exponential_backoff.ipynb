{
 "cells": [
  {
   "cell_type": "code",
   "execution_count": 0,
   "metadata": {
    "application/vnd.databricks.v1+cell": {
     "cellMetadata": {},
     "inputWidgets": {},
     "nuid": "bd1bb3c8-98f4-427e-8b5b-b533d7c021de",
     "showTitle": false,
     "title": ""
    }
   },
   "outputs": [],
   "source": [
    "import random\n",
    "import time\n",
    "\n",
    "def exponential_backoff(max_retries, base_delay=1, max_delay=10):\n",
    "    retries = 0\n",
    "    delay = base_delay\n",
    "\n",
    "    while retries < max_retries:\n",
    "        try:\n",
    "            # Perform your operation here\n",
    "            # For example, make an API request\n",
    "            # response = make_api_request()\n",
    "\n",
    "            # If the operation is successful, break the loop\n",
    "            # if response.status_code == 200:\n",
    "            #     break\n",
    "\n",
    "            # If the operation fails, retry after delay\n",
    "            print(f'Retry #{retries + 1}')\n",
    "            time.sleep(delay)\n",
    "\n",
    "            # Exponentially increase the delay for next retry\n",
    "            delay = min(max_delay, delay * 2)\n",
    "\n",
    "            retries += 1\n",
    "\n",
    "        except Exception as e:\n",
    "            print(f'Error: {str(e)}')\n",
    "            break\n",
    "\n",
    "exponential_backoff(max_retries=5)\n"
   ]
  }
 ],
 "metadata": {
  "application/vnd.databricks.v1+notebook": {
   "dashboards": [],
   "language": "python",
   "notebookMetadata": {
    "pythonIndentUnit": 4
   },
   "notebookName": "exponential_backoff",
   "widgets": {}
  }
 },
 "nbformat": 4,
 "nbformat_minor": 0
}
