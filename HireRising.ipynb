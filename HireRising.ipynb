{
 "cells": [
  {
   "cell_type": "code",
   "execution_count": 1,
   "metadata": {},
   "outputs": [],
   "source": [
    "def chk_exist(val, l_cnt_node, no_cnt):\n",
    "    if l_cnt_node == []:\n",
    "        match_ind = False\n",
    "        return match_ind        \n",
    "    else:    \n",
    "        for i in range(no_cnt):\n",
    "            print (f' i = {i}')\n",
    "            print(f'l_cnt_node[i] {l_cnt_node[i]}')\n",
    "            if val in l_cnt_node[i]:\n",
    "               match_ind = True \n",
    "               return match_ind\n",
    "        match_ind = False\n",
    "        return match_ind"
   ]
  },
  {
   "cell_type": "code",
   "execution_count": 3,
   "metadata": {},
   "outputs": [],
   "source": [
    "def get_max_len(l_inp:list) -> int:\n",
    "    if len(l_inp) == 0:\n",
    "       raise Exception('length of input should be > 0')\n",
    "    if type(l_inp) is not list:\n",
    "       raise Exception('type(l_inp) should be list') \n",
    "    lx= []\n",
    "    ly= []\n",
    "    for elm in l_inp:\n",
    "        lx.append(elm[0])\n",
    "        ly.append(elm[1]) \n",
    "    d_node_x = dict(zip(lx, ly))  \n",
    "    no_cnt = 0\n",
    "    l_cnt_node = []\n",
    "    for node in l_inp:\n",
    "        \n",
    "        node0 = node[0]\n",
    "        node1 = node[1]\n",
    "        print(f'node[0]=  {node[0]} node[1]=  {node[1]}') \n",
    "        if chk_exist(node0, l_cnt_node, no_cnt) == False:\n",
    "         \n",
    "           temp_node = [node0]\n",
    "           temp_node.append(node1)  \n",
    "           key = node1\n",
    "           end_loop =  False\n",
    "           while end_loop == False:\n",
    "             try:\n",
    "               val = d_node_x [node1]\n",
    "               if val not in temp_node:\n",
    "                  temp_node.append(val)\n",
    "                  node1= val\n",
    "               else:\n",
    "                  end_loop = True\n",
    "                  l_cnt_node.append(temp_node)\n",
    "                  no_cnt += 1 \n",
    "             except KeyError:\n",
    "               key_list = list(d_node_x.keys()) \n",
    "               val_list = list(d_node_x.values())  \n",
    "               val =  key_list[val_list.index(node1)]\n",
    "               if val not in temp_node: \n",
    "                  temp_node.append(key_list[val_list.index(node1)])   \n",
    "               end_loop =  True           \n",
    "               l_cnt_node.append(temp_node)  \n",
    "               no_cnt += 1\n",
    " \n",
    "    max_len=  max([len(x) for x in l_cnt_node]) \n",
    "    print(f'l_cnt_node {l_cnt_node}')\n",
    "    print (f'max lenhth of connection is {max_len}')\n",
    "    return max_len  "
   ]
  },
  {
   "cell_type": "code",
   "execution_count": 4,
   "metadata": {},
   "outputs": [
    {
     "name": "stdout",
     "output_type": "stream",
     "text": [
      "node[0]=  A node[1]=  B\n",
      "node[0]=  D node[1]=  C\n",
      " i = 0\n",
      "l_cnt_node[i] ['A', 'B', 'C', 'D']\n",
      "node[0]=  E node[1]=  F\n",
      " i = 0\n",
      "l_cnt_node[i] ['A', 'B', 'C', 'D']\n",
      "node[0]=  B node[1]=  C\n",
      " i = 0\n",
      "l_cnt_node[i] ['A', 'B', 'C', 'D']\n",
      "node[0]=  F node[1]=  G\n",
      " i = 0\n",
      "l_cnt_node[i] ['A', 'B', 'C', 'D']\n",
      " i = 1\n",
      "l_cnt_node[i] ['E', 'F', 'G']\n",
      "node[0]=  H node[1]=  G\n",
      " i = 0\n",
      "l_cnt_node[i] ['A', 'B', 'C', 'D']\n",
      " i = 1\n",
      "l_cnt_node[i] ['E', 'F', 'G']\n",
      "node[0]=  K node[1]=  H\n",
      " i = 0\n",
      "l_cnt_node[i] ['A', 'B', 'C', 'D']\n",
      " i = 1\n",
      "l_cnt_node[i] ['E', 'F', 'G']\n",
      " i = 2\n",
      "l_cnt_node[i] ['H', 'G', 'F']\n",
      "l_cnt_node [['A', 'B', 'C', 'D'], ['E', 'F', 'G'], ['H', 'G', 'F'], ['K', 'H', 'G', 'F']]\n",
      "max lenhth of connection is 4\n"
     ]
    },
    {
     "data": {
      "text/plain": [
       "4"
      ]
     },
     "execution_count": 4,
     "metadata": {},
     "output_type": "execute_result"
    }
   ],
   "source": [
    "l_inp = [['A','B'], ['D', 'C'], ['E', 'F'] , ['B', 'C'], ['F', 'G'],['H', 'G'], ['K', 'H']]\n",
    "get_max_len(l_inp)"
   ]
  },
  {
   "cell_type": "code",
   "execution_count": null,
   "metadata": {},
   "outputs": [],
   "source": []
  }
 ],
 "metadata": {
  "kernelspec": {
   "display_name": "Python 3",
   "language": "python",
   "name": "python3"
  },
  "language_info": {
   "codemirror_mode": {
    "name": "ipython",
    "version": 3
   },
   "file_extension": ".py",
   "mimetype": "text/x-python",
   "name": "python",
   "nbconvert_exporter": "python",
   "pygments_lexer": "ipython3",
   "version": "3.8.3"
  }
 },
 "nbformat": 4,
 "nbformat_minor": 4
}
