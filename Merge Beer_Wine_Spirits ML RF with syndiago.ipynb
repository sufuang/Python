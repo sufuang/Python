{
 "cells": [
  {
   "cell_type": "markdown",
   "id": "f4938436",
   "metadata": {},
   "source": [
    "# Merge Beer_Wine_Spirits ML RF with Syndiago\n",
    "  - Module name: Merge Beer_Wine_Spirits ML RF with Syndiago\n",
    "  - Process \n",
    "  \n",
    "    1). Process 'Beer_Wine_Spirits_ML and RF.xlsx' --> df_ml_rf\n",
    "    - No missing value in GTIN  \n",
    "    - There are 78912 unique GTIN\n",
    "    - There are 3326 duplicate GTIN\n",
    "    - read 'Beer_Wine_Spirits_ML and RF.xlsx' -> df_ml_rf_org  -> use index to create a column 'row_no'\n",
    "    -  df_ml_rf_org - keep certain col ->  df_ml_rf\n",
    "    \n",
    "    2). process 'Syndigo 113k  Levels.xlsx' --> df_syndiago\n",
    "      - No missing value in GTIN  \n",
    "      - There are 67839 unique GTIN\n",
    "      - There are 12692 duplicate GTIN\n",
    "      - 'Syndigo 113k  Levels.xlsx' -> df_syndiago_org ; shape = (113898, 14)\n",
    "      - two col names as 'GTIN' from 'Syndigo 113k  Levels.xlsx' \n",
    "      - df_syndiago_org will save then as 'GTIN' and  'GTIN.1'\n",
    "        - All the gtin in 'GTIN' and  'GTIN.1' are identical \n",
    "      - df_syndiago_org -> df_syndiago_a (keep_col = ['GTIN', 'Level 1', 'Level 2','Level 3' ] ) \n",
    "      - df_syndiago_a -> df_syndiago (deduplicate GTIN;  shape = (113898, 14) )\n",
    "        \n",
    "     3). Merge df_ml_rf with  df_syndiago --> df_merge \n",
    "       - df_ml_rf +  df_syndiago - left out join with key = GTIN -> df_merge\n",
    "       - df_merge -- reorder col ->  df_merge\n",
    "       \n",
    "     4). Validate df_merge  "
   ]
  },
  {
   "cell_type": "code",
   "execution_count": null,
   "id": "3d7752c3",
   "metadata": {},
   "outputs": [],
   "source": []
  },
  {
   "cell_type": "code",
   "execution_count": 1,
   "id": "3f82b12c",
   "metadata": {},
   "outputs": [],
   "source": [
    "import numpy as np\n",
    "import pandas as pd \n",
    "\n",
    "pd.options.display.float_format = '{:,.4f}'.format\n",
    "pd.set_option('display.max_columns', None) \n",
    "pd.set_option(\"display.max_rows\", None)\n",
    "path = 'C:\\\\users\\\\iny2819\\\\kroger\\\\Data\\\\'"
   ]
  },
  {
   "cell_type": "markdown",
   "id": "fe5ba2a0",
   "metadata": {},
   "source": [
    "## Process 'Beer_Wine_Spirits_ML and RF.xlsx' --> df_ml_rf"
   ]
  },
  {
   "cell_type": "code",
   "execution_count": 2,
   "id": "080f4da4",
   "metadata": {},
   "outputs": [],
   "source": [
    "\n",
    "path_file = path + 'Beer_Wine_Spirits_ML and RF.xlsx'\n",
    "df_ml_rf_org = pd.read_excel(path_file)\n",
    "df_ml_rf_org = df_ml_rf_org.rename_axis('row_num').reset_index()\n",
    "keep_col = ['row_num', 'GTIN','PMY_DPT_DSC', 'REC_DPT_DSC', 'DPT_DSC', 'COM_DSC', 'SUBCOM_DSC','VND_ECOM_DSC', 'ML L1 Predictions',\n",
    "           'ML L2 Predictions', 'RF Level 1', 'RF Level 2', 'RF Level 3']\n",
    "df_ml_rf = df_ml_rf_org[keep_col]\n"
   ]
  },
  {
   "cell_type": "code",
   "execution_count": 15,
   "id": "0dec5dcb",
   "metadata": {},
   "outputs": [
    {
     "data": {
      "text/plain": [
       "(82580, 13)"
      ]
     },
     "execution_count": 15,
     "metadata": {},
     "output_type": "execute_result"
    }
   ],
   "source": [
    "df_ml_rf.shape # (82580, 13)"
   ]
  },
  {
   "cell_type": "code",
   "execution_count": 16,
   "id": "a65d850a",
   "metadata": {},
   "outputs": [
    {
     "data": {
      "text/plain": [
       "78912"
      ]
     },
     "execution_count": 16,
     "metadata": {},
     "output_type": "execute_result"
    }
   ],
   "source": [
    "gtin = df_ml_rf['GTIN'].value_counts(dropna = False)\n",
    "len(gtin)  #  78912 unique gtin"
   ]
  },
  {
   "cell_type": "code",
   "execution_count": 17,
   "id": "1e894399",
   "metadata": {},
   "outputs": [
    {
     "data": {
      "text/plain": [
       "3326"
      ]
     },
     "execution_count": 17,
     "metadata": {},
     "output_type": "execute_result"
    }
   ],
   "source": [
    "&gtin = gtin[gtin != 1]\n",
    "len(gtin) #  duplicate gtin = 3326"
   ]
  },
  {
   "cell_type": "markdown",
   "id": "7bcf93ad",
   "metadata": {},
   "source": [
    "## process 'Syndigo 113k Levels.xlsx' --> df_syndiago"
   ]
  },
  {
   "cell_type": "code",
   "execution_count": 32,
   "id": "b3ccddb6",
   "metadata": {},
   "outputs": [
    {
     "data": {
      "text/plain": [
       "(113898, 13)"
      ]
     },
     "execution_count": 32,
     "metadata": {},
     "output_type": "execute_result"
    }
   ],
   "source": [
    "path_file = path + 'Syndigo_GTIN_Mapping_060723.xlsx'\n",
    "df_syndiago_org = pd.read_excel(path_file)\n",
    "df_syndiago_org.shape  #(113898, 14)\n"
   ]
  },
  {
   "cell_type": "code",
   "execution_count": 33,
   "id": "95a4fb7b",
   "metadata": {},
   "outputs": [
    {
     "data": {
      "text/plain": [
       "Index(['GTIN', 'Syndigo Taxonomy', 'Level Mapped', 'Level 1', 'Level 2',\n",
       "       'Level 3', 'Level 4', 'Level 5', 'Level 6', 'Level 7', 'Level 8',\n",
       "       'Level 9', 'Level 10'],\n",
       "      dtype='object')"
      ]
     },
     "execution_count": 33,
     "metadata": {},
     "output_type": "execute_result"
    }
   ],
   "source": [
    "df_syndiago_org.columns"
   ]
  },
  {
   "cell_type": "code",
   "execution_count": 6,
   "id": "0fdb81f0",
   "metadata": {},
   "outputs": [
    {
     "data": {
      "text/plain": [
       "(113898, 14)"
      ]
     },
     "execution_count": 6,
     "metadata": {},
     "output_type": "execute_result"
    }
   ],
   "source": [
    "# check if values in  'GTIN' and 'GTIN.1' are all identical\n",
    "#df_syndiago_org[df_syndiago_org['GTIN'] == df_syndiago_org['GTIN.1'] ].shape # (113898, 14)"
   ]
  },
  {
   "cell_type": "code",
   "execution_count": 34,
   "id": "a95c7225",
   "metadata": {},
   "outputs": [
    {
     "data": {
      "text/plain": [
       "(113898, 4)"
      ]
     },
     "execution_count": 34,
     "metadata": {},
     "output_type": "execute_result"
    }
   ],
   "source": [
    "# keep certain cols\n",
    "keep_col = ['GTIN', 'Level 1', 'Level 2','Level 3' ]\n",
    "df_syndiago_a = df_syndiago_org[keep_col] # (113898, 4)\n",
    "df_syndiago_a.shape"
   ]
  },
  {
   "cell_type": "code",
   "execution_count": 35,
   "id": "9ea18ba5",
   "metadata": {},
   "outputs": [
    {
     "data": {
      "text/plain": [
       "95032"
      ]
     },
     "execution_count": 35,
     "metadata": {},
     "output_type": "execute_result"
    }
   ],
   "source": [
    "\"\"\"\n",
    " 1. find duplicate GTIN in df_syndiago_a\n",
    " 2. there are 13 rows with gtin = 851718000000 with 13 duplicate  h\n",
    "\"\"\"\n",
    "gtin = df_syndiago_a['GTIN'].value_counts(dropna = False)\n",
    "len(gtin)  # 95032 unique gtin"
   ]
  },
  {
   "cell_type": "code",
   "execution_count": 36,
   "id": "5fd115ec",
   "metadata": {},
   "outputs": [
    {
     "data": {
      "text/plain": [
       "13444"
      ]
     },
     "execution_count": 36,
     "metadata": {},
     "output_type": "execute_result"
    }
   ],
   "source": [
    "gtin = gtin[gtin != 1]\n",
    "len(gtin) #  duplicate gtin = 13444"
   ]
  },
  {
   "cell_type": "code",
   "execution_count": 3,
   "id": "78514de7",
   "metadata": {},
   "outputs": [
    {
     "ename": "NameError",
     "evalue": "name 'gtin' is not defined",
     "output_type": "error",
     "traceback": [
      "\u001b[1;31m---------------------------------------------------------------------------\u001b[0m",
      "\u001b[1;31mNameError\u001b[0m                                 Traceback (most recent call last)",
      "Cell \u001b[1;32mIn[3], line 4\u001b[0m\n\u001b[0;32m      1\u001b[0m \u001b[38;5;66;03m# display duplicate gtin\u001b[39;00m\n\u001b[0;32m      2\u001b[0m \u001b[38;5;124;03m\"\"\"\u001b[39;00m\n\u001b[0;32m      3\u001b[0m \u001b[38;5;124;03m\"\"\"\u001b[39;00m\n\u001b[1;32m----> 4\u001b[0m \u001b[43mgtin\u001b[49m[\u001b[38;5;241m0\u001b[39m:\u001b[38;5;241m10\u001b[39m]\n",
      "\u001b[1;31mNameError\u001b[0m: name 'gtin' is not defined"
     ]
    }
   ],
   "source": [
    "# display duplicate gtin\n",
    "\"\"\" (duplicate)\n",
    "   - 11110046208 (duplicate)\n",
    "\"\"\"\n",
    "gtin[0:10]  "
   ]
  },
  {
   "cell_type": "code",
   "execution_count": null,
   "id": "daafd6e2",
   "metadata": {},
   "outputs": [],
   "source": [
    " "
   ]
  },
  {
   "cell_type": "code",
   "execution_count": null,
   "id": "7b7b1fe6",
   "metadata": {},
   "outputs": [],
   "source": []
  },
  {
   "cell_type": "code",
   "execution_count": null,
   "id": "be48e0a7",
   "metadata": {},
   "outputs": [],
   "source": []
  },
  {
   "cell_type": "code",
   "execution_count": 38,
   "id": "d9f0a3b6",
   "metadata": {},
   "outputs": [
    {
     "data": {
      "text/plain": [
       "(95032, 4)"
      ]
     },
     "execution_count": 38,
     "metadata": {},
     "output_type": "execute_result"
    }
   ],
   "source": [
    "# drop duplicates GTIN from df_syndiago_a\n",
    "df_syndiago = df_syndiago_a.drop_duplicates(subset='GTIN', keep=\"first\")\n",
    "df_syndiago.shape # (95032, 4)"
   ]
  },
  {
   "cell_type": "markdown",
   "id": "3589a98f",
   "metadata": {},
   "source": [
    "## Merge files"
   ]
  },
  {
   "cell_type": "code",
   "execution_count": 48,
   "id": "962c163a",
   "metadata": {},
   "outputs": [
    {
     "data": {
      "text/plain": [
       "(82580, 16)"
      ]
     },
     "execution_count": 48,
     "metadata": {},
     "output_type": "execute_result"
    }
   ],
   "source": [
    "# Merge files\n",
    "df_merge = df_ml_rf.merge(df_syndiago, on = 'GTIN', how = 'left') # LEFT OUTER JOIN\n",
    "df_merge.shape # (82580, 16)"
   ]
  },
  {
   "cell_type": "code",
   "execution_count": 40,
   "id": "74bb5c12",
   "metadata": {},
   "outputs": [],
   "source": [
    "reo_col = ['row_num','GTIN', 'Level 1', 'Level 2','Level 3',   'RF Level 1', 'RF Level 2', 'RF Level 3','ML L1 Predictions',\n",
    "           'ML L2 Predictions','PMY_DPT_DSC', 'REC_DPT_DSC', 'DPT_DSC', 'COM_DSC', 'SUBCOM_DSC','VND_ECOM_DSC']\n",
    "df_merge = df_merge[reo_col]"
   ]
  },
  {
   "cell_type": "code",
   "execution_count": 41,
   "id": "82e70683",
   "metadata": {},
   "outputs": [
    {
     "data": {
      "text/plain": [
       "78912"
      ]
     },
     "execution_count": 41,
     "metadata": {},
     "output_type": "execute_result"
    }
   ],
   "source": [
    "# find duplicate GTIN after merge\n",
    "gtin = df_merge['GTIN'].value_counts(dropna = False)\n",
    "len(gtin)  # 78912"
   ]
  },
  {
   "cell_type": "code",
   "execution_count": 42,
   "id": "e2b748e3",
   "metadata": {},
   "outputs": [
    {
     "data": {
      "text/plain": [
       "3326"
      ]
     },
     "execution_count": 42,
     "metadata": {},
     "output_type": "execute_result"
    }
   ],
   "source": [
    "gtin = gtin[gtin != 1]\n",
    "len(gtin) #  duplicate gtin = 3326"
   ]
  },
  {
   "cell_type": "code",
   "execution_count": 21,
   "id": "1f03efc2",
   "metadata": {},
   "outputs": [
    {
     "data": {
      "text/plain": [
       "72036820891       5\n",
       "72036838384       5\n",
       "88508848065       5\n",
       "77890763674       5\n",
       "89809103631       5\n",
       "10083085420007    4\n",
       "10083085904088    4\n",
       "18200962721       4\n",
       "850013004119      4\n",
       "18200039973       4\n",
       "Name: GTIN, dtype: int64"
      ]
     },
     "execution_count": 21,
     "metadata": {},
     "output_type": "execute_result"
    }
   ],
   "source": [
    "gtin[0:10]"
   ]
  },
  {
   "cell_type": "code",
   "execution_count": null,
   "id": "09cfa7c7",
   "metadata": {},
   "outputs": [],
   "source": [
    "# drop _duplicates GTIN from df_syndiago\n",
    "df_syndiago_1 = df_syndiago.drop_duplicates(subset='GTIN', keep=\"first\")"
   ]
  },
  {
   "cell_type": "code",
   "execution_count": null,
   "id": "363630ba",
   "metadata": {},
   "outputs": [],
   "source": [
    " df_syndiago_1.shape # (113898, 4) # (67879, 4);  why not 95k"
   ]
  },
  {
   "cell_type": "code",
   "execution_count": null,
   "id": "48d311fd",
   "metadata": {},
   "outputs": [],
   "source": [
    "merge_df = df_org.merge(df_syndiago, on = 'GTIN', how = 'left') # LEFT OUTER JOIN\n",
    "#merge_df.shape"
   ]
  },
  {
   "cell_type": "code",
   "execution_count": 28,
   "id": "6d55f1f6",
   "metadata": {},
   "outputs": [
    {
     "data": {
      "text/plain": [
       "(82580, 16)"
      ]
     },
     "execution_count": 28,
     "metadata": {},
     "output_type": "execute_result"
    }
   ],
   "source": [
    " merge_df.shape"
   ]
  },
  {
   "cell_type": "code",
   "execution_count": null,
   "id": "30b43ce7",
   "metadata": {},
   "outputs": [],
   "source": [
    "merge_df.shape"
   ]
  },
  {
   "cell_type": "code",
   "execution_count": null,
   "id": "f1dcba38",
   "metadata": {},
   "outputs": [],
   "source": [
    "# find duplicate GTIN after merge\n",
    "gtin = merge_df['GTIN'].value_counts(dropna = False)\n",
    "len(gtin)  # 78912"
   ]
  },
  {
   "cell_type": "code",
   "execution_count": null,
   "id": "49d8f51a",
   "metadata": {},
   "outputs": [],
   "source": [
    "gtin = gtin[gtin != 1]\n",
    "len(gtin) #  duplicate gtin = 3340\n"
   ]
  },
  {
   "cell_type": "code",
   "execution_count": null,
   "id": "a554e5e5",
   "metadata": {},
   "outputs": [],
   "source": [
    "gtin [0:10]"
   ]
  },
  {
   "cell_type": "code",
   "execution_count": null,
   "id": "3a638409",
   "metadata": {},
   "outputs": [],
   "source": [
    "df_syndiago[df_syndiago['GTIN'] == 851718000000]"
   ]
  },
  {
   "cell_type": "code",
   "execution_count": 31,
   "id": "e6cb222e",
   "metadata": {},
   "outputs": [
    {
     "data": {
      "text/plain": [
       "NaN                      82579\n",
       "Beer / Wine / Spirits        1\n",
       "Name: Level 1, dtype: int64"
      ]
     },
     "execution_count": 31,
     "metadata": {},
     "output_type": "execute_result"
    }
   ],
   "source": [
    "df_merge['Level 1'].value_counts(dropna = False)"
   ]
  },
  {
   "cell_type": "code",
   "execution_count": 29,
   "id": "535720e1",
   "metadata": {},
   "outputs": [
    {
     "data": {
      "text/html": [
       "<div>\n",
       "<style scoped>\n",
       "    .dataframe tbody tr th:only-of-type {\n",
       "        vertical-align: middle;\n",
       "    }\n",
       "\n",
       "    .dataframe tbody tr th {\n",
       "        vertical-align: top;\n",
       "    }\n",
       "\n",
       "    .dataframe thead th {\n",
       "        text-align: right;\n",
       "    }\n",
       "</style>\n",
       "<table border=\"1\" class=\"dataframe\">\n",
       "  <thead>\n",
       "    <tr style=\"text-align: right;\">\n",
       "      <th></th>\n",
       "      <th>row_num</th>\n",
       "      <th>GTIN</th>\n",
       "      <th>Level 1</th>\n",
       "      <th>Level 2</th>\n",
       "      <th>Level 3</th>\n",
       "      <th>RF Level 1</th>\n",
       "      <th>RF Level 2</th>\n",
       "      <th>RF Level 3</th>\n",
       "      <th>ML L1 Predictions</th>\n",
       "      <th>ML L2 Predictions</th>\n",
       "      <th>PMY_DPT_DSC</th>\n",
       "      <th>REC_DPT_DSC</th>\n",
       "      <th>DPT_DSC</th>\n",
       "      <th>COM_DSC</th>\n",
       "      <th>SUBCOM_DSC</th>\n",
       "      <th>VND_ECOM_DSC</th>\n",
       "    </tr>\n",
       "  </thead>\n",
       "  <tbody>\n",
       "    <tr>\n",
       "      <th>70285</th>\n",
       "      <td>70285</td>\n",
       "      <td>72036820891</td>\n",
       "      <td>NaN</td>\n",
       "      <td>NaN</td>\n",
       "      <td>NaN</td>\n",
       "      <td>Beer / Wine / Spirits</td>\n",
       "      <td>Wine</td>\n",
       "      <td>Still</td>\n",
       "      <td>Beer / Wine / Spirits</td>\n",
       "      <td>Wine</td>\n",
       "      <td>GROCERY</td>\n",
       "      <td>LIQUOR</td>\n",
       "      <td>WINE</td>\n",
       "      <td>TABLE WINE</td>\n",
       "      <td>750ML RED VALUE WINES $0-$7.99</td>\n",
       "      <td>) CAKEBREAD CHARDONNAY</td>\n",
       "    </tr>\n",
       "    <tr>\n",
       "      <th>70286</th>\n",
       "      <td>70286</td>\n",
       "      <td>72036820891</td>\n",
       "      <td>NaN</td>\n",
       "      <td>NaN</td>\n",
       "      <td>NaN</td>\n",
       "      <td>Beer / Wine / Spirits</td>\n",
       "      <td>Wine</td>\n",
       "      <td>Still</td>\n",
       "      <td>Beer / Wine / Spirits</td>\n",
       "      <td>Wine</td>\n",
       "      <td>GROCERY</td>\n",
       "      <td>LIQUOR</td>\n",
       "      <td>WINE</td>\n",
       "      <td>TABLE WINE</td>\n",
       "      <td>750ML RED VALUE WINES $0-$7.99</td>\n",
       "      <td>) CAKEBREAD CHARDONNAY</td>\n",
       "    </tr>\n",
       "    <tr>\n",
       "      <th>70287</th>\n",
       "      <td>70287</td>\n",
       "      <td>72036820891</td>\n",
       "      <td>NaN</td>\n",
       "      <td>NaN</td>\n",
       "      <td>NaN</td>\n",
       "      <td>Beer / Wine / Spirits</td>\n",
       "      <td>Wine</td>\n",
       "      <td>Still</td>\n",
       "      <td>Beer / Wine / Spirits</td>\n",
       "      <td>Wine</td>\n",
       "      <td>GROCERY</td>\n",
       "      <td>LIQUOR</td>\n",
       "      <td>WINE</td>\n",
       "      <td>TABLE WINE</td>\n",
       "      <td>750ML RED VALUE WINES $0-$7.99</td>\n",
       "      <td>) CAKEBREAD CHARDONNAY</td>\n",
       "    </tr>\n",
       "    <tr>\n",
       "      <th>70288</th>\n",
       "      <td>70288</td>\n",
       "      <td>72036820891</td>\n",
       "      <td>NaN</td>\n",
       "      <td>NaN</td>\n",
       "      <td>NaN</td>\n",
       "      <td>Beer / Wine / Spirits</td>\n",
       "      <td>Wine</td>\n",
       "      <td>Still</td>\n",
       "      <td>Beer / Wine / Spirits</td>\n",
       "      <td>Wine</td>\n",
       "      <td>GROCERY</td>\n",
       "      <td>LIQUOR</td>\n",
       "      <td>WINE</td>\n",
       "      <td>TABLE WINE</td>\n",
       "      <td>750ML RED VALUE WINES $0-$7.99</td>\n",
       "      <td>) CAKEBREAD CHARDONNAY</td>\n",
       "    </tr>\n",
       "    <tr>\n",
       "      <th>70289</th>\n",
       "      <td>70289</td>\n",
       "      <td>72036820891</td>\n",
       "      <td>NaN</td>\n",
       "      <td>NaN</td>\n",
       "      <td>NaN</td>\n",
       "      <td>Beer / Wine / Spirits</td>\n",
       "      <td>Beer</td>\n",
       "      <td>NaN</td>\n",
       "      <td>Beer / Wine / Spirits</td>\n",
       "      <td>Wine</td>\n",
       "      <td>GROCERY</td>\n",
       "      <td>LIQUOR</td>\n",
       "      <td>WINE</td>\n",
       "      <td>TABLE WINE</td>\n",
       "      <td>750ML RED VALUE WINES $0-$7.99</td>\n",
       "      <td>) CAKEBREAD CHARDONNAY</td>\n",
       "    </tr>\n",
       "  </tbody>\n",
       "</table>\n",
       "</div>"
      ],
      "text/plain": [
       "       row_num         GTIN Level 1 Level 2 Level 3             RF Level 1  \\\n",
       "70285    70285  72036820891     NaN     NaN     NaN  Beer / Wine / Spirits   \n",
       "70286    70286  72036820891     NaN     NaN     NaN  Beer / Wine / Spirits   \n",
       "70287    70287  72036820891     NaN     NaN     NaN  Beer / Wine / Spirits   \n",
       "70288    70288  72036820891     NaN     NaN     NaN  Beer / Wine / Spirits   \n",
       "70289    70289  72036820891     NaN     NaN     NaN  Beer / Wine / Spirits   \n",
       "\n",
       "      RF Level 2 RF Level 3      ML L1 Predictions ML L2 Predictions  \\\n",
       "70285       Wine      Still  Beer / Wine / Spirits              Wine   \n",
       "70286       Wine      Still  Beer / Wine / Spirits              Wine   \n",
       "70287       Wine      Still  Beer / Wine / Spirits              Wine   \n",
       "70288       Wine      Still  Beer / Wine / Spirits              Wine   \n",
       "70289       Beer        NaN  Beer / Wine / Spirits              Wine   \n",
       "\n",
       "      PMY_DPT_DSC REC_DPT_DSC DPT_DSC     COM_DSC  \\\n",
       "70285     GROCERY      LIQUOR    WINE  TABLE WINE   \n",
       "70286     GROCERY      LIQUOR    WINE  TABLE WINE   \n",
       "70287     GROCERY      LIQUOR    WINE  TABLE WINE   \n",
       "70288     GROCERY      LIQUOR    WINE  TABLE WINE   \n",
       "70289     GROCERY      LIQUOR    WINE  TABLE WINE   \n",
       "\n",
       "                           SUBCOM_DSC            VND_ECOM_DSC  \n",
       "70285  750ML RED VALUE WINES $0-$7.99  ) CAKEBREAD CHARDONNAY  \n",
       "70286  750ML RED VALUE WINES $0-$7.99  ) CAKEBREAD CHARDONNAY  \n",
       "70287  750ML RED VALUE WINES $0-$7.99  ) CAKEBREAD CHARDONNAY  \n",
       "70288  750ML RED VALUE WINES $0-$7.99  ) CAKEBREAD CHARDONNAY  \n",
       "70289  750ML RED VALUE WINES $0-$7.99  ) CAKEBREAD CHARDONNAY  "
      ]
     },
     "execution_count": 29,
     "metadata": {},
     "output_type": "execute_result"
    }
   ],
   "source": [
    "df_merge[df_merge['GTIN'] == 72036820891]"
   ]
  },
  {
   "cell_type": "code",
   "execution_count": 23,
   "id": "b927da17",
   "metadata": {},
   "outputs": [
    {
     "data": {
      "text/html": [
       "<div>\n",
       "<style scoped>\n",
       "    .dataframe tbody tr th:only-of-type {\n",
       "        vertical-align: middle;\n",
       "    }\n",
       "\n",
       "    .dataframe tbody tr th {\n",
       "        vertical-align: top;\n",
       "    }\n",
       "\n",
       "    .dataframe thead th {\n",
       "        text-align: right;\n",
       "    }\n",
       "</style>\n",
       "<table border=\"1\" class=\"dataframe\">\n",
       "  <thead>\n",
       "    <tr style=\"text-align: right;\">\n",
       "      <th></th>\n",
       "      <th>row_num</th>\n",
       "      <th>GTIN</th>\n",
       "      <th>PMY_DPT_DSC</th>\n",
       "      <th>REC_DPT_DSC</th>\n",
       "      <th>DPT_DSC</th>\n",
       "      <th>COM_DSC</th>\n",
       "      <th>SUBCOM_DSC</th>\n",
       "      <th>VND_ECOM_DSC</th>\n",
       "      <th>ML L1 Predictions</th>\n",
       "      <th>ML L2 Predictions</th>\n",
       "      <th>RF Level 1</th>\n",
       "      <th>RF Level 2</th>\n",
       "      <th>RF Level 3</th>\n",
       "      <th>Level 1</th>\n",
       "      <th>Level 2</th>\n",
       "      <th>Level 3</th>\n",
       "    </tr>\n",
       "  </thead>\n",
       "  <tbody>\n",
       "    <tr>\n",
       "      <th>32644</th>\n",
       "      <td>32644</td>\n",
       "      <td>851718000000</td>\n",
       "      <td>GROCERY</td>\n",
       "      <td>LIQUOR</td>\n",
       "      <td>WINE</td>\n",
       "      <td>TABLE WINE</td>\n",
       "      <td>750ML RED LUXURY WINES ABOVE $15</td>\n",
       "      <td>Calista Coast Range Pinot Noir 25.4 Oz</td>\n",
       "      <td>Beer / Wine / Spirits</td>\n",
       "      <td>Wine</td>\n",
       "      <td>Beer / Wine / Spirits</td>\n",
       "      <td>Wine</td>\n",
       "      <td>Still</td>\n",
       "      <td>Beer / Wine / Spirits</td>\n",
       "      <td>Spirits</td>\n",
       "      <td>Whisky / Whiskey</td>\n",
       "    </tr>\n",
       "  </tbody>\n",
       "</table>\n",
       "</div>"
      ],
      "text/plain": [
       "       row_num          GTIN PMY_DPT_DSC REC_DPT_DSC DPT_DSC     COM_DSC  \\\n",
       "32644    32644  851718000000     GROCERY      LIQUOR    WINE  TABLE WINE   \n",
       "\n",
       "                             SUBCOM_DSC  \\\n",
       "32644  750ML RED LUXURY WINES ABOVE $15   \n",
       "\n",
       "                                 VND_ECOM_DSC      ML L1 Predictions  \\\n",
       "32644  Calista Coast Range Pinot Noir 25.4 Oz  Beer / Wine / Spirits   \n",
       "\n",
       "      ML L2 Predictions             RF Level 1 RF Level 2 RF Level 3  \\\n",
       "32644              Wine  Beer / Wine / Spirits       Wine      Still   \n",
       "\n",
       "                     Level 1  Level 2           Level 3  \n",
       "32644  Beer / Wine / Spirits  Spirits  Whisky / Whiskey  "
      ]
     },
     "execution_count": 23,
     "metadata": {},
     "output_type": "execute_result"
    }
   ],
   "source": [
    "df_merge[df_merge['GTIN'] == 851718000000]  # no duplicate"
   ]
  },
  {
   "cell_type": "code",
   "execution_count": 65,
   "id": "ba4a6fb9",
   "metadata": {},
   "outputs": [
    {
     "data": {
      "text/html": [
       "<div>\n",
       "<style scoped>\n",
       "    .dataframe tbody tr th:only-of-type {\n",
       "        vertical-align: middle;\n",
       "    }\n",
       "\n",
       "    .dataframe tbody tr th {\n",
       "        vertical-align: top;\n",
       "    }\n",
       "\n",
       "    .dataframe thead th {\n",
       "        text-align: right;\n",
       "    }\n",
       "</style>\n",
       "<table border=\"1\" class=\"dataframe\">\n",
       "  <thead>\n",
       "    <tr style=\"text-align: right;\">\n",
       "      <th></th>\n",
       "      <th>GTIN</th>\n",
       "      <th>Level 1</th>\n",
       "      <th>Level 2</th>\n",
       "      <th>Level 3</th>\n",
       "    </tr>\n",
       "  </thead>\n",
       "  <tbody>\n",
       "  </tbody>\n",
       "</table>\n",
       "</div>"
      ],
      "text/plain": [
       "Empty DataFrame\n",
       "Columns: [GTIN, Level 1, Level 2, Level 3]\n",
       "Index: []"
      ]
     },
     "execution_count": 65,
     "metadata": {},
     "output_type": "execute_result"
    }
   ],
   "source": [
    "df_syndiago[df_syndiago['GTIN'] == 82928206832]"
   ]
  },
  {
   "cell_type": "code",
   "execution_count": 67,
   "id": "bd09a718",
   "metadata": {},
   "outputs": [
    {
     "data": {
      "text/html": [
       "<div>\n",
       "<style scoped>\n",
       "    .dataframe tbody tr th:only-of-type {\n",
       "        vertical-align: middle;\n",
       "    }\n",
       "\n",
       "    .dataframe tbody tr th {\n",
       "        vertical-align: top;\n",
       "    }\n",
       "\n",
       "    .dataframe thead th {\n",
       "        text-align: right;\n",
       "    }\n",
       "</style>\n",
       "<table border=\"1\" class=\"dataframe\">\n",
       "  <thead>\n",
       "    <tr style=\"text-align: right;\">\n",
       "      <th></th>\n",
       "      <th>row_num</th>\n",
       "      <th>GTIN</th>\n",
       "      <th>PMY_DPT_DSC</th>\n",
       "      <th>REC_DPT_DSC</th>\n",
       "      <th>DPT_DSC</th>\n",
       "      <th>COM_DSC</th>\n",
       "      <th>SUBCOM_DSC</th>\n",
       "      <th>VND_ECOM_DSC</th>\n",
       "      <th>ML L1 Predictions</th>\n",
       "      <th>ML L2 Predictions</th>\n",
       "      <th>RF Level 1</th>\n",
       "      <th>RF Level 2</th>\n",
       "      <th>RF Level 3</th>\n",
       "    </tr>\n",
       "  </thead>\n",
       "  <tbody>\n",
       "    <tr>\n",
       "      <th>0</th>\n",
       "      <td>0</td>\n",
       "      <td>82928206832</td>\n",
       "      <td>GROCERY</td>\n",
       "      <td>LIQUOR</td>\n",
       "      <td>SPIRITS</td>\n",
       "      <td>TEQUILA</td>\n",
       "      <td>TRADITIONAL TEQUILA</td>\n",
       "      <td>El Toro Silver Tequila</td>\n",
       "      <td>Beer / Wine / Spirits</td>\n",
       "      <td>Spirits</td>\n",
       "      <td>Beer / Wine / Spirits</td>\n",
       "      <td>Spirits</td>\n",
       "      <td>Tequila / Mezcal</td>\n",
       "    </tr>\n",
       "  </tbody>\n",
       "</table>\n",
       "</div>"
      ],
      "text/plain": [
       "   row_num         GTIN PMY_DPT_DSC REC_DPT_DSC  DPT_DSC  COM_DSC  \\\n",
       "0        0  82928206832     GROCERY      LIQUOR  SPIRITS  TEQUILA   \n",
       "\n",
       "            SUBCOM_DSC            VND_ECOM_DSC      ML L1 Predictions  \\\n",
       "0  TRADITIONAL TEQUILA  El Toro Silver Tequila  Beer / Wine / Spirits   \n",
       "\n",
       "  ML L2 Predictions             RF Level 1 RF Level 2        RF Level 3  \n",
       "0           Spirits  Beer / Wine / Spirits    Spirits  Tequila / Mezcal  "
      ]
     },
     "execution_count": 67,
     "metadata": {},
     "output_type": "execute_result"
    }
   ],
   "source": [
    "df_ml_rf[df_ml_rf['GTIN'] == 82928206832]"
   ]
  },
  {
   "cell_type": "code",
   "execution_count": null,
   "id": "17a7eb87",
   "metadata": {},
   "outputs": [],
   "source": [
    "df_merge[df_merge['GTIN'] == 851718000000]  # no duplicate"
   ]
  },
  {
   "cell_type": "code",
   "execution_count": null,
   "id": "f370e4aa",
   "metadata": {},
   "outputs": [],
   "source": [
    "#NW merge_df[merge_df['Level 1'] == pd.NaN].head(2)\n",
    "merge_df[merge_df['Level 1'] == pd.nan].head(2)"
   ]
  },
  {
   "cell_type": "code",
   "execution_count": null,
   "id": "a777943e",
   "metadata": {},
   "outputs": [],
   "source": [
    "\n",
    "# merge_df.shape # (82609, 16); some GTIN might duplicate\n",
    "df_org.shape  # (82580, 13)"
   ]
  },
  {
   "cell_type": "code",
   "execution_count": null,
   "id": "ef5458be",
   "metadata": {},
   "outputs": [],
   "source": [
    "df_syndiago [df_syndiago['Level 1'] == 'Beer / Wine / Spirits'].shape  # (11899, 4)\n",
    "df_syndiago.shape # (113898, 4)"
   ]
  },
  {
   "cell_type": "code",
   "execution_count": null,
   "id": "64062c93",
   "metadata": {},
   "outputs": [],
   "source": [
    "df_syndiago [df_syndiago['Level 1'] == 'Beer / Wine / Spirits'].value_counts()"
   ]
  },
  {
   "cell_type": "code",
   "execution_count": null,
   "id": "c1390b09",
   "metadata": {},
   "outputs": [],
   "source": [
    "## WIP"
   ]
  },
  {
   "cell_type": "code",
   "execution_count": null,
   "id": "bdd803fe",
   "metadata": {},
   "outputs": [],
   "source": [
    "type(merge_df['Level 1'].value_counts(dropna = False)  ) # pandas.core.series.Series"
   ]
  },
  {
   "cell_type": "code",
   "execution_count": 47,
   "id": "57c9e832",
   "metadata": {},
   "outputs": [
    {
     "data": {
      "text/plain": [
       "NaN    82580\n",
       "Name: Level 1, dtype: int64"
      ]
     },
     "execution_count": 47,
     "metadata": {},
     "output_type": "execute_result"
    }
   ],
   "source": [
    "df_merge['Level 1'].value_counts(dropna = False).sort_index() "
   ]
  },
  {
   "cell_type": "code",
   "execution_count": 51,
   "id": "02c624a3",
   "metadata": {},
   "outputs": [
    {
     "data": {
      "text/plain": [
       "NaN                 82579\n",
       "Whisky / Whiskey        1\n",
       "Name: Level 3, dtype: int64"
      ]
     },
     "execution_count": 51,
     "metadata": {},
     "output_type": "execute_result"
    }
   ],
   "source": [
    "merge_df['Level 3'].value_counts(dropna = False)  # df_org has 84280 not match with Syndiago "
   ]
  },
  {
   "cell_type": "code",
   "execution_count": 52,
   "id": "3dee38de",
   "metadata": {},
   "outputs": [
    {
     "data": {
      "text/plain": [
       "GTIN        int64\n",
       "Level 1    object\n",
       "Level 2    object\n",
       "Level 3    object\n",
       "dtype: object"
      ]
     },
     "execution_count": 52,
     "metadata": {},
     "output_type": "execute_result"
    }
   ],
   "source": [
    "df_syndiago.dtypes"
   ]
  },
  {
   "cell_type": "code",
   "execution_count": 54,
   "id": "249ca455",
   "metadata": {},
   "outputs": [
    {
     "data": {
      "text/plain": [
       "row_num               int64\n",
       "GTIN                  int64\n",
       "PMY_DPT_DSC          object\n",
       "REC_DPT_DSC          object\n",
       "DPT_DSC              object\n",
       "COM_DSC              object\n",
       "SUBCOM_DSC           object\n",
       "VND_ECOM_DSC         object\n",
       "ML L1 Predictions    object\n",
       "ML L2 Predictions    object\n",
       "RF Level 1           object\n",
       "RF Level 2           object\n",
       "RF Level 3           object\n",
       "dtype: object"
      ]
     },
     "execution_count": 54,
     "metadata": {},
     "output_type": "execute_result"
    }
   ],
   "source": [
    "df_ml_rf.dtypes"
   ]
  },
  {
   "cell_type": "code",
   "execution_count": 64,
   "id": "0781636c",
   "metadata": {},
   "outputs": [],
   "source": [
    "l_gtin_ml = df_ml_rf[\"GTIN\"].to_list()"
   ]
  },
  {
   "cell_type": "code",
   "execution_count": 56,
   "id": "15e7cdb7",
   "metadata": {},
   "outputs": [
    {
     "data": {
      "text/plain": [
       "[82928206832,\n",
       " 10082928206839,\n",
       " 10012000027212,\n",
       " 10012000151269,\n",
       " 10051500286828,\n",
       " 30051500286822,\n",
       " 10078314211754,\n",
       " 78314211757,\n",
       " 10689352009984,\n",
       " 10051500204747]"
      ]
     },
     "execution_count": 56,
     "metadata": {},
     "output_type": "execute_result"
    }
   ],
   "source": [
    "l_gtin_ml[0:10]"
   ]
  },
  {
   "cell_type": "code",
   "execution_count": 58,
   "id": "a5a1ed25",
   "metadata": {},
   "outputs": [
    {
     "data": {
      "text/plain": [
       "(78912, 13)"
      ]
     },
     "execution_count": 58,
     "metadata": {},
     "output_type": "execute_result"
    }
   ],
   "source": [
    "# drop duplicates GTIN from df_syndiago_a\n",
    "df_mlrf_dedup = df_ml_rf.drop_duplicates(subset='GTIN', keep=\"first\")\n",
    "df_mlrf_dedup.shape # (78912, 4)"
   ]
  },
  {
   "cell_type": "code",
   "execution_count": 76,
   "id": "80aef506",
   "metadata": {},
   "outputs": [
    {
     "data": {
      "text/plain": [
       "list"
      ]
     },
     "execution_count": 76,
     "metadata": {},
     "output_type": "execute_result"
    }
   ],
   "source": [
    "l_mlrf = sorted(df_mlrf_dedup['GTIN']) # lisr\n",
    "type(l_mlrf) "
   ]
  },
  {
   "cell_type": "code",
   "execution_count": 77,
   "id": "8cf67609",
   "metadata": {},
   "outputs": [
    {
     "data": {
      "text/plain": [
       "[222, 284, 765, 2004, 2011, 2035, 2042, 2066, 2073, 2080]"
      ]
     },
     "execution_count": 77,
     "metadata": {},
     "output_type": "execute_result"
    }
   ],
   "source": [
    "l_mlrf[0:10]"
   ]
  },
  {
   "cell_type": "code",
   "execution_count": 74,
   "id": "02a237ee",
   "metadata": {},
   "outputs": [
    {
     "data": {
      "text/plain": [
       "list"
      ]
     },
     "execution_count": 74,
     "metadata": {},
     "output_type": "execute_result"
    }
   ],
   "source": [
    "l_mlrf = df_mlrf_dedup['GTIN'].to_list()\n",
    "\n",
    "type(l_mlrf)  # 78912 unique gtin"
   ]
  },
  {
   "cell_type": "code",
   "execution_count": 72,
   "id": "7911e583",
   "metadata": {},
   "outputs": [
    {
     "data": {
      "text/plain": [
       "82928206832       1\n",
       "40089854010067    1\n",
       "50085000028211    1\n",
       "401034000408      1\n",
       "30085000023342    1\n",
       "20085000024229    1\n",
       "401034377968      1\n",
       "40085000026562    1\n",
       "30085000030968    1\n",
       "30085000021324    1\n",
       "Name: GTIN, dtype: int64"
      ]
     },
     "execution_count": 72,
     "metadata": {},
     "output_type": "execute_result"
    }
   ],
   "source": [
    "l_mlrf[0:10]"
   ]
  },
  {
   "cell_type": "code",
   "execution_count": 78,
   "id": "fc7a84b8",
   "metadata": {},
   "outputs": [
    {
     "data": {
      "text/plain": [
       "[56454666,\n",
       " 80773443,\n",
       " 80776307,\n",
       " 80790990,\n",
       " 80794233,\n",
       " 111301201,\n",
       " 338004183,\n",
       " 338004404,\n",
       " 370000051,\n",
       " 513072921]"
      ]
     },
     "execution_count": 78,
     "metadata": {},
     "output_type": "execute_result"
    }
   ],
   "source": [
    "l_synd = sorted(df_syndiago['GTIN'])\n",
    "l_synd[0:10]  # 95032 unique gtin\n"
   ]
  },
  {
   "cell_type": "code",
   "execution_count": 79,
   "id": "649321bc",
   "metadata": {},
   "outputs": [
    {
     "data": {
      "text/plain": [
       "93"
      ]
     },
     "execution_count": 79,
     "metadata": {},
     "output_type": "execute_result"
    }
   ],
   "source": [
    "l_com = [x for x in l_mlrf if x in l_synd]\n",
    "len(l_com) # 93"
   ]
  },
  {
   "cell_type": "code",
   "execution_count": 81,
   "id": "c59f0965",
   "metadata": {},
   "outputs": [
    {
     "data": {
      "text/plain": [
       "[11034410055,\n",
       " 11034410079,\n",
       " 11034420054,\n",
       " 11034420078,\n",
       " 11034430053,\n",
       " 12354071995,\n",
       " 21296602419,\n",
       " 26861102974,\n",
       " 26861103162,\n",
       " 39383011587]"
      ]
     },
     "execution_count": 81,
     "metadata": {},
     "output_type": "execute_result"
    }
   ],
   "source": [
    "l_com[0:10] "
   ]
  },
  {
   "cell_type": "code",
   "execution_count": 82,
   "id": "62daa2f2",
   "metadata": {},
   "outputs": [
    {
     "data": {
      "text/plain": [
       "93"
      ]
     },
     "execution_count": 82,
     "metadata": {},
     "output_type": "execute_result"
    }
   ],
   "source": [
    "l_in_mlrf_not_in_synd  = [x for x in l_mlrf if x not in l_synd]\n",
    "len(l_in_mlrf_not_in_synd) # 78819"
   ]
  },
  {
   "cell_type": "code",
   "execution_count": 84,
   "id": "67e96767",
   "metadata": {},
   "outputs": [
    {
     "data": {
      "text/plain": [
       "78819"
      ]
     },
     "execution_count": 84,
     "metadata": {},
     "output_type": "execute_result"
    }
   ],
   "source": [
    "len(l_in_mlrf_not_in_synd)"
   ]
  },
  {
   "cell_type": "code",
   "execution_count": 83,
   "id": "7058eb38",
   "metadata": {},
   "outputs": [
    {
     "data": {
      "text/plain": [
       "[222, 284, 765, 2004, 2011, 2035, 2042, 2066, 2073, 2080]"
      ]
     },
     "execution_count": 83,
     "metadata": {},
     "output_type": "execute_result"
    }
   ],
   "source": [
    "l_in_mlrf_not_in_synd[0:10]"
   ]
  },
  {
   "cell_type": "code",
   "execution_count": null,
   "id": "6ab3bd86",
   "metadata": {},
   "outputs": [],
   "source": []
  }
 ],
 "metadata": {
  "kernelspec": {
   "display_name": "Python 3 (ipykernel)",
   "language": "python",
   "name": "python3"
  },
  "language_info": {
   "codemirror_mode": {
    "name": "ipython",
    "version": 3
   },
   "file_extension": ".py",
   "mimetype": "text/x-python",
   "name": "python",
   "nbconvert_exporter": "python",
   "pygments_lexer": "ipython3",
   "version": "3.10.9"
  }
 },
 "nbformat": 4,
 "nbformat_minor": 5
}
