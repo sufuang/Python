{
 "cells": [
  {
   "cell_type": "markdown",
   "id": "2afa1a79",
   "metadata": {},
   "source": [
    "# dim_itm_oc_atb_col\n",
    " - purpose: Create an excel file to have all the  value count distribution for all the 'Attribute Value Column Name\" with \"Table in PIM-Mart\" = \"ITM_OC_ATB\" \n"
   ]
  },
  {
   "cell_type": "code",
   "execution_count": 56,
   "id": "490f4a2c",
   "metadata": {},
   "outputs": [],
   "source": [
    "\n",
    "def wrap_unq_val(df, l_col_x, l_col_y, writer ):\n",
    "    \"\"\"\n",
    "    Loop through all the col name defined in l_col_x\n",
    "        - Invoke unq_val to create dataframe with value count distribution for col in l_col and ignore the null value\n",
    "    \"\"\" \n",
    "    for fea in l_col_x: \n",
    "        df_x =   df.dropna(subset = [fea]) #  create dataframe with col in l_col and ignore the missing value\n",
    "        df_val_cnt  =  unq_val(df_x,l_col_y)\n",
    "        sheet_name = fea.lower()\n",
    "        df_val_cnt.to_excel(writer, sheet_name = sheet_name, index = False )\n",
    "    writer.close()\n",
    "    return    \n",
    "    \n",
    "        "
   ]
  },
  {
   "cell_type": "code",
   "execution_count": null,
   "id": "4ffe9ac6",
   "metadata": {},
   "outputs": [],
   "source": []
  },
  {
   "cell_type": "code",
   "execution_count": 8,
   "id": "59a00190",
   "metadata": {},
   "outputs": [],
   "source": [
    "def unq_val(df, l_col):\n",
    "    \"\"\"\n",
    "    Purpose:\n",
    "      - Create dataframe to include  \n",
    "        - df0: keep feature name \n",
    "        - df1: get count for unique values from the feature\n",
    "        - df2: get ratio of count for unique values from the feature \n",
    "        - df3: Merge df1 and df2 \n",
    "      - Concating dfy, df0, df3 with axis = 0 \n",
    "    Parameter\n",
    "     input \n",
    "      df : df to be analyzed \n",
    "      l_col:  list of features\n",
    "     output \n",
    "      dfy : dataframe for the count of unique values and  ratio of unique values    \n",
    "    \"\"\"\n",
    "    dfy =  pd.DataFrame() \n",
    "    l_comment=[]\n",
    "    for fea in l_col:   \n",
    "       \n",
    "          \n",
    "           df0 = pd.DataFrame([[fea,'','', ' ']],columns=['feature','value','cnt','ratio_cnt'] )\n",
    "           df1 = df[fea].value_counts(dropna = False).to_frame(name = 'cnt').reset_index()\n",
    "           df1.rename(columns={'index':'value'}, inplace = True)\n",
    "           sd =  df[fea].value_counts(dropna = False)/len(df)\n",
    "           df2 = sd.to_frame(name='ratio_cnt').reset_index()\n",
    "           df2.rename(columns={'index':'value'}, inplace = True)\n",
    "           df3 = df1.merge(df2, on = 'value',how = 'inner')\n",
    "           dfy = pd.concat([dfy,  df0, df3], axis = 0)\n",
    "    dfy['feature'] = dfy['feature'].replace(np.NaN, '')\n",
    "    dfy['value'] = dfy['value'].replace(np.NaN, 'missing')\n",
    "\n",
    "    return dfy  "
   ]
  },
  {
   "cell_type": "code",
   "execution_count": 35,
   "id": "ce987a0a",
   "metadata": {},
   "outputs": [],
   "source": [
    "import numpy as np\n",
    "import pandas as pd\n",
    "from pandas import ExcelWriter \n",
    "import openpyxl\n",
    "pd.options.display.float_format = '{:,.4f}'.format\n",
    "pd.set_option('display.max_columns', None) \n",
    "pd.set_option(\"display.max_rows\", None)"
   ]
  },
  {
   "cell_type": "markdown",
   "id": "6dc04d44",
   "metadata": {},
   "source": [
    "## 1. Read files"
   ]
  },
  {
   "cell_type": "code",
   "execution_count": 20,
   "id": "c2e7be5d",
   "metadata": {},
   "outputs": [
    {
     "name": "stderr",
     "output_type": "stream",
     "text": [
      "C:\\Users\\iny2819\\AppData\\Local\\Temp\\ipykernel_6928\\3865685424.py:6: DtypeWarning: Columns (3,4,6,7,8,9,12,13,17,18,19,20,21,22,23,24,25,26,27,28,29,30,31,32,34,35,36,37,42,43,44,45,46,47,48,49,50,51,52,53,55,56,57,58,61,62,64,66,67,70,71,72,73,77,78,79,80,81,83) have mixed types. Specify dtype option on import or set low_memory=False.\n",
      "  df_itm_oc_atb  = pd.read_csv(path_file_itm_oc_atb)\n"
     ]
    }
   ],
   "source": [
    "path = 'C:\\\\users\\\\iny2819\\\\kroger\\\\Data\\\\'\n",
    "path_file_atb_idx = path + 'Attributes_Index_Readable_Headers_060923.csv'\n",
    "df_atb_idx = pd.read_csv(path_file_atb_idx)\n",
    "\n",
    "path_file_itm_oc_atb =  path + 'itm_oc_atb.csv'\n",
    "df_itm_oc_atb  = pd.read_csv(path_file_itm_oc_atb)"
   ]
  },
  {
   "cell_type": "markdown",
   "id": "ea930fa6",
   "metadata": {},
   "source": [
    "## 2. Define columns "
   ]
  },
  {
   "cell_type": "code",
   "execution_count": 52,
   "id": "59026f21",
   "metadata": {},
   "outputs": [],
   "source": [
    "l_col_itm_oc_atb = df_itm_oc_atb.columns \n",
    "l_rmv =['ITM_OC_ATB_ID', 'ITM_ID']\n",
    "l_col_itm_oc_atb = [x for x in  l_col_itm_oc_atb if x not  in l_rmv]  "
   ]
  },
  {
   "cell_type": "code",
   "execution_count": 53,
   "id": "90a64153",
   "metadata": {},
   "outputs": [],
   "source": [
    "l_col_atb_idx = list(df_atb_idx[df_atb_idx['Table in PIM-Mart'] == 'ITM_OC_ATB']['Attribute Value Column Name']) \n",
    "l_rmv =['FLD_TO_OVD_VLU', 'KRG_IDCd_FIRE_PVNN_SGE_FL', 'OVD_VLU','PLUM_DPT_NO','SUP_ID_FOR_OVD_VLU']\n",
    "l_col_atb_idx = [x for x in  l_col_atb_idx if x not  in l_rmv]  \n",
    "l_col_atb_idx = l_col_atb_idx + ['KRG_IDC_FIRE_PVNN_SGE_FL', 'PLUM_DPT_VLU']"
   ]
  },
  {
   "cell_type": "markdown",
   "id": "71ee9945",
   "metadata": {},
   "source": [
    "## 3. Invoke wrap_unq_val to get couunt value distribution"
   ]
  },
  {
   "cell_type": "code",
   "execution_count": 54,
   "id": "aa6d4003",
   "metadata": {},
   "outputs": [],
   "source": [
    "pim_tbl = 'ITM_OC_ATB'\n",
    "pim_tbl = pim_tbl.lower() \n",
    "xlsx_file = path + pim_tbl + '.xlsx'\n",
    "\n",
    "#writer = pd.ExcelWriter(xlsx_file, engine='xlsxwriter') \n",
    "writer = pd.ExcelWriter(xlsx_file)\n",
    "wrap_unq_val(df_itm_oc_atb, l_col_atb_idx,l_col_itm_oc_atb, writer )\n",
    "\n"
   ]
  },
  {
   "cell_type": "code",
   "execution_count": null,
   "id": "fe3fb307",
   "metadata": {},
   "outputs": [],
   "source": []
  }
 ],
 "metadata": {
  "kernelspec": {
   "display_name": "Python 3 (ipykernel)",
   "language": "python",
   "name": "python3"
  },
  "language_info": {
   "codemirror_mode": {
    "name": "ipython",
    "version": 3
   },
   "file_extension": ".py",
   "mimetype": "text/x-python",
   "name": "python",
   "nbconvert_exporter": "python",
   "pygments_lexer": "ipython3",
   "version": "3.10.9"
  }
 },
 "nbformat": 4,
 "nbformat_minor": 5
}
