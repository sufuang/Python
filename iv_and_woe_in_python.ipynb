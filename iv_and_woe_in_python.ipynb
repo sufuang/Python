{
 "cells": [
  {
   "cell_type": "markdown",
   "metadata": {},
   "source": [
    "# Information Value (IV) and Weight of Evidence (WOE) in Python\n",
    "\n",
    "Information value (IV) and weight of evidence (WOE) are simple and powerful techniques of conducting attribute relevance analysis. They provide a great framework for exploratory analysis and have been used extensively in the credit risk world for several decades.\n",
    "\n",
    "This simple module enables quick attribute relevance analysis: calculation of IV and WOE, creation of readable visualizations and evaluation of statistical significance and effect size.\n",
    "\n",
    "- In order to see how it can be used in practice, check [**Telco Customer Churn Analysis**](https://github.com/klaudia-nazarko/iv-and-woe-python/blob/master/telco_customer_churn_analysis.ipynb).\n",
    "- What about statistical significance? Check [**Information Value vs Statistical Significance Analysis**](https://github.com/klaudia-nazarko/iv-and-woe-python/blob/master/statistical_significance_of_information_value.ipynb)."
   ]
  },
  {
   "cell_type": "code",
   "execution_count": 1,
   "metadata": {},
   "outputs": [],
   "source": [
    "import pandas as pd\n",
    "from pandas.api.types import is_numeric_dtype\n",
    "\n",
    "from Features import *\n",
    "from F import *"
   ]
  },
  {
   "cell_type": "code",
   "execution_count": 2,
   "metadata": {},
   "outputs": [],
   "source": [
    "pd.options.display.float_format = '{:,.2f}'.format\n",
    "pd.set_option('display.max_columns', None)  "
   ]
  },
  {
   "cell_type": "code",
   "execution_count": 3,
   "metadata": {},
   "outputs": [],
   "source": [
    "df = pd.read_csv('data/telco_churn.csv', na_values=[' '])"
   ]
  },
  {
   "cell_type": "code",
   "execution_count": 4,
   "metadata": {},
   "outputs": [],
   "source": [
    "df.columns = [c[0].lower() + c[1:] for c in df.columns]\n",
    "df['label'] = df['churn'].map({'Yes': 0, 'No': 1})\n",
    "df['seniorCitizen'] = df['seniorCitizen'].map({1: 'Yes', 0: 'No'})\n",
    "df.drop(['customerID', 'churn'], axis=1, inplace=True)"
   ]
  },
  {
   "cell_type": "code",
   "execution_count": 5,
   "metadata": {},
   "outputs": [
    {
     "data": {
      "text/html": [
       "<div>\n",
       "<style scoped>\n",
       "    .dataframe tbody tr th:only-of-type {\n",
       "        vertical-align: middle;\n",
       "    }\n",
       "\n",
       "    .dataframe tbody tr th {\n",
       "        vertical-align: top;\n",
       "    }\n",
       "\n",
       "    .dataframe thead th {\n",
       "        text-align: right;\n",
       "    }\n",
       "</style>\n",
       "<table border=\"1\" class=\"dataframe\">\n",
       "  <thead>\n",
       "    <tr style=\"text-align: right;\">\n",
       "      <th></th>\n",
       "      <th>gender</th>\n",
       "      <th>seniorCitizen</th>\n",
       "      <th>partner</th>\n",
       "      <th>dependents</th>\n",
       "      <th>tenure</th>\n",
       "      <th>phoneService</th>\n",
       "      <th>multipleLines</th>\n",
       "      <th>internetService</th>\n",
       "      <th>onlineSecurity</th>\n",
       "      <th>onlineBackup</th>\n",
       "      <th>deviceProtection</th>\n",
       "      <th>techSupport</th>\n",
       "      <th>streamingTV</th>\n",
       "      <th>streamingMovies</th>\n",
       "      <th>contract</th>\n",
       "      <th>paperlessBilling</th>\n",
       "      <th>paymentMethod</th>\n",
       "      <th>monthlyCharges</th>\n",
       "      <th>totalCharges</th>\n",
       "      <th>label</th>\n",
       "    </tr>\n",
       "  </thead>\n",
       "  <tbody>\n",
       "    <tr>\n",
       "      <th>94</th>\n",
       "      <td>Male</td>\n",
       "      <td>No</td>\n",
       "      <td>No</td>\n",
       "      <td>No</td>\n",
       "      <td>72</td>\n",
       "      <td>Yes</td>\n",
       "      <td>Yes</td>\n",
       "      <td>Fiber optic</td>\n",
       "      <td>No</td>\n",
       "      <td>Yes</td>\n",
       "      <td>Yes</td>\n",
       "      <td>No</td>\n",
       "      <td>Yes</td>\n",
       "      <td>Yes</td>\n",
       "      <td>Two year</td>\n",
       "      <td>Yes</td>\n",
       "      <td>Bank transfer (automatic)</td>\n",
       "      <td>100.90</td>\n",
       "      <td>7,459.05</td>\n",
       "      <td>1</td>\n",
       "    </tr>\n",
       "    <tr>\n",
       "      <th>14</th>\n",
       "      <td>Male</td>\n",
       "      <td>No</td>\n",
       "      <td>No</td>\n",
       "      <td>No</td>\n",
       "      <td>25</td>\n",
       "      <td>Yes</td>\n",
       "      <td>No</td>\n",
       "      <td>Fiber optic</td>\n",
       "      <td>Yes</td>\n",
       "      <td>No</td>\n",
       "      <td>Yes</td>\n",
       "      <td>Yes</td>\n",
       "      <td>Yes</td>\n",
       "      <td>Yes</td>\n",
       "      <td>Month-to-month</td>\n",
       "      <td>Yes</td>\n",
       "      <td>Electronic check</td>\n",
       "      <td>105.50</td>\n",
       "      <td>2,686.05</td>\n",
       "      <td>1</td>\n",
       "    </tr>\n",
       "    <tr>\n",
       "      <th>6381</th>\n",
       "      <td>Male</td>\n",
       "      <td>No</td>\n",
       "      <td>No</td>\n",
       "      <td>Yes</td>\n",
       "      <td>1</td>\n",
       "      <td>Yes</td>\n",
       "      <td>No</td>\n",
       "      <td>No</td>\n",
       "      <td>No internet service</td>\n",
       "      <td>No internet service</td>\n",
       "      <td>No internet service</td>\n",
       "      <td>No internet service</td>\n",
       "      <td>No internet service</td>\n",
       "      <td>No internet service</td>\n",
       "      <td>Month-to-month</td>\n",
       "      <td>No</td>\n",
       "      <td>Mailed check</td>\n",
       "      <td>19.55</td>\n",
       "      <td>19.55</td>\n",
       "      <td>1</td>\n",
       "    </tr>\n",
       "    <tr>\n",
       "      <th>6869</th>\n",
       "      <td>Female</td>\n",
       "      <td>No</td>\n",
       "      <td>Yes</td>\n",
       "      <td>Yes</td>\n",
       "      <td>45</td>\n",
       "      <td>Yes</td>\n",
       "      <td>No</td>\n",
       "      <td>DSL</td>\n",
       "      <td>No</td>\n",
       "      <td>Yes</td>\n",
       "      <td>No</td>\n",
       "      <td>Yes</td>\n",
       "      <td>No</td>\n",
       "      <td>No</td>\n",
       "      <td>One year</td>\n",
       "      <td>Yes</td>\n",
       "      <td>Credit card (automatic)</td>\n",
       "      <td>54.15</td>\n",
       "      <td>2,319.80</td>\n",
       "      <td>0</td>\n",
       "    </tr>\n",
       "    <tr>\n",
       "      <th>4217</th>\n",
       "      <td>Male</td>\n",
       "      <td>Yes</td>\n",
       "      <td>Yes</td>\n",
       "      <td>No</td>\n",
       "      <td>14</td>\n",
       "      <td>Yes</td>\n",
       "      <td>Yes</td>\n",
       "      <td>Fiber optic</td>\n",
       "      <td>No</td>\n",
       "      <td>No</td>\n",
       "      <td>No</td>\n",
       "      <td>No</td>\n",
       "      <td>No</td>\n",
       "      <td>No</td>\n",
       "      <td>Month-to-month</td>\n",
       "      <td>Yes</td>\n",
       "      <td>Electronic check</td>\n",
       "      <td>75.10</td>\n",
       "      <td>1,013.35</td>\n",
       "      <td>1</td>\n",
       "    </tr>\n",
       "  </tbody>\n",
       "</table>\n",
       "</div>"
      ],
      "text/plain": [
       "      gender seniorCitizen partner dependents  tenure phoneService  \\\n",
       "94      Male            No      No         No      72          Yes   \n",
       "14      Male            No      No         No      25          Yes   \n",
       "6381    Male            No      No        Yes       1          Yes   \n",
       "6869  Female            No     Yes        Yes      45          Yes   \n",
       "4217    Male           Yes     Yes         No      14          Yes   \n",
       "\n",
       "     multipleLines internetService       onlineSecurity         onlineBackup  \\\n",
       "94             Yes     Fiber optic                   No                  Yes   \n",
       "14              No     Fiber optic                  Yes                   No   \n",
       "6381            No              No  No internet service  No internet service   \n",
       "6869            No             DSL                   No                  Yes   \n",
       "4217           Yes     Fiber optic                   No                   No   \n",
       "\n",
       "         deviceProtection          techSupport          streamingTV  \\\n",
       "94                    Yes                   No                  Yes   \n",
       "14                    Yes                  Yes                  Yes   \n",
       "6381  No internet service  No internet service  No internet service   \n",
       "6869                   No                  Yes                   No   \n",
       "4217                   No                   No                   No   \n",
       "\n",
       "          streamingMovies        contract paperlessBilling  \\\n",
       "94                    Yes        Two year              Yes   \n",
       "14                    Yes  Month-to-month              Yes   \n",
       "6381  No internet service  Month-to-month               No   \n",
       "6869                   No        One year              Yes   \n",
       "4217                   No  Month-to-month              Yes   \n",
       "\n",
       "                  paymentMethod  monthlyCharges  totalCharges  label  \n",
       "94    Bank transfer (automatic)          100.90      7,459.05      1  \n",
       "14             Electronic check          105.50      2,686.05      1  \n",
       "6381               Mailed check           19.55         19.55      1  \n",
       "6869    Credit card (automatic)           54.15      2,319.80      0  \n",
       "4217           Electronic check           75.10      1,013.35      1  "
      ]
     },
     "execution_count": 5,
     "metadata": {},
     "output_type": "execute_result"
    }
   ],
   "source": [
    "df.sample(5)"
   ]
  },
  {
   "cell_type": "markdown",
   "metadata": {},
   "source": [
    "## Create Feature Objects\n",
    "\n",
    "Basic object in IV & WOE analysis is a single feature. There are two types of features: categorical and continuous.\n",
    "\n",
    "Create feature objects by instantiating CategoricalFeature and ContinuousFeature class.\n",
    "\n",
    "**CategoricalFeature(df, colname)**\n",
    "\n",
    "Creates a feature object.\n",
    "* df - DataFrame with data\n",
    "* colname - name of the column containing a feature\n",
    "\n",
    "Attributes and methods:\n",
    "* feature - returns name of a column\n",
    "* df - returns a dataframe\n",
    "* df_lite - returns a new dataframe limited to bin and label\n",
    "\n",
    "**ContinuousFeature(df, colname)**\n",
    "\n",
    "Creates a feature object. Groups continuous values into bins.\n",
    "* df - DataFrame with data\n",
    "* colname - name of the column containing a feature\n",
    "\n",
    "Attributes and methods:\n",
    "* feature - returns name of a column\n",
    "* df - returns a dataframe\n",
    "* df_lite - returns a new dataframe limited to bin and label"
   ]
  },
  {
   "cell_type": "code",
   "execution_count": 6,
   "metadata": {},
   "outputs": [],
   "source": [
    "feat_gender = CategoricalFeature(df, 'gender')\n",
    "feat_charges = ContinuousFeature(df, 'totalCharges')\n",
    "feat_contract = CategoricalFeature(df, 'contract')\n",
    "feat_tenure = ContinuousFeature(df, 'tenure')"
   ]
  },
  {
   "cell_type": "code",
   "execution_count": 7,
   "metadata": {},
   "outputs": [
    {
     "data": {
      "text/html": [
       "<div>\n",
       "<style scoped>\n",
       "    .dataframe tbody tr th:only-of-type {\n",
       "        vertical-align: middle;\n",
       "    }\n",
       "\n",
       "    .dataframe tbody tr th {\n",
       "        vertical-align: top;\n",
       "    }\n",
       "\n",
       "    .dataframe thead th {\n",
       "        text-align: right;\n",
       "    }\n",
       "</style>\n",
       "<table border=\"1\" class=\"dataframe\">\n",
       "  <thead>\n",
       "    <tr style=\"text-align: right;\">\n",
       "      <th></th>\n",
       "      <th>bin</th>\n",
       "      <th>label</th>\n",
       "    </tr>\n",
       "  </thead>\n",
       "  <tbody>\n",
       "    <tr>\n",
       "      <th>0</th>\n",
       "      <td>Female</td>\n",
       "      <td>1</td>\n",
       "    </tr>\n",
       "    <tr>\n",
       "      <th>1</th>\n",
       "      <td>Male</td>\n",
       "      <td>1</td>\n",
       "    </tr>\n",
       "    <tr>\n",
       "      <th>2</th>\n",
       "      <td>Male</td>\n",
       "      <td>0</td>\n",
       "    </tr>\n",
       "    <tr>\n",
       "      <th>3</th>\n",
       "      <td>Male</td>\n",
       "      <td>1</td>\n",
       "    </tr>\n",
       "    <tr>\n",
       "      <th>4</th>\n",
       "      <td>Female</td>\n",
       "      <td>0</td>\n",
       "    </tr>\n",
       "  </tbody>\n",
       "</table>\n",
       "</div>"
      ],
      "text/plain": [
       "      bin  label\n",
       "0  Female      1\n",
       "1    Male      1\n",
       "2    Male      0\n",
       "3    Male      1\n",
       "4  Female      0"
      ]
     },
     "execution_count": 7,
     "metadata": {},
     "output_type": "execute_result"
    }
   ],
   "source": [
    "feat_gender.df_lite.head()"
   ]
  },
  {
   "cell_type": "markdown",
   "metadata": {},
   "source": [
    "Create a list of features that will be analyzed. It can be done manually or dynamically, as below:"
   ]
  },
  {
   "cell_type": "code",
   "execution_count": 8,
   "metadata": {},
   "outputs": [],
   "source": [
    "feats_manual = [feat_gender, feat_charges, feat_contract, feat_tenure]"
   ]
  },
  {
   "cell_type": "code",
   "execution_count": 9,
   "metadata": {},
   "outputs": [],
   "source": [
    "feats_dict = {}\n",
    "\n",
    "for col in [c for c in df.columns if c != 'label']:\n",
    "    if is_numeric_dtype(df[col]):\n",
    "        feats_dict[col] = ContinuousFeature(df, col)\n",
    "    else:\n",
    "        feats_dict[col] = CategoricalFeature(df, col)\n",
    "\n",
    "feats = list(feats_dict.values())"
   ]
  },
  {
   "cell_type": "markdown",
   "metadata": {},
   "source": [
    "## Information Value Class\n",
    "\n",
    "**IV()**\n",
    "\n",
    "Attributes and methods:\n",
    "- group_by_feature(feature) - returns a dataframe with number of observations in each bin and count of good and bad\n",
    "- calculate_iv(feature) - returns a dataframe (with calculation of WOE and IV) and IV for a single feature\n",
    "- draw_woe(feature) - draws a chart with visualization of WOE values for a single feature\n",
    "- interpretation(iv_value) - returns the predictive power based on input IV\n",
    "- interpret_iv(feature) - returns the predictive power based on IV of a single feature\n",
    "- print_iv(feature) - prints interpretation of IV of a single feature"
   ]
  },
  {
   "cell_type": "code",
   "execution_count": 10,
   "metadata": {},
   "outputs": [],
   "source": [
    "iv = IV()"
   ]
  },
  {
   "cell_type": "code",
   "execution_count": 11,
   "metadata": {},
   "outputs": [
    {
     "data": {
      "text/html": [
       "<div>\n",
       "<style scoped>\n",
       "    .dataframe tbody tr th:only-of-type {\n",
       "        vertical-align: middle;\n",
       "    }\n",
       "\n",
       "    .dataframe tbody tr th {\n",
       "        vertical-align: top;\n",
       "    }\n",
       "\n",
       "    .dataframe thead th {\n",
       "        text-align: right;\n",
       "    }\n",
       "</style>\n",
       "<table border=\"1\" class=\"dataframe\">\n",
       "  <thead>\n",
       "    <tr style=\"text-align: right;\">\n",
       "      <th></th>\n",
       "      <th>totalCharges</th>\n",
       "      <th>count</th>\n",
       "      <th>good</th>\n",
       "      <th>bad</th>\n",
       "    </tr>\n",
       "  </thead>\n",
       "  <tbody>\n",
       "    <tr>\n",
       "      <th>0</th>\n",
       "      <td>18.80</td>\n",
       "      <td>1172</td>\n",
       "      <td>599</td>\n",
       "      <td>573</td>\n",
       "    </tr>\n",
       "    <tr>\n",
       "      <th>1</th>\n",
       "      <td>197.95</td>\n",
       "      <td>1172</td>\n",
       "      <td>819</td>\n",
       "      <td>353</td>\n",
       "    </tr>\n",
       "    <tr>\n",
       "      <th>2</th>\n",
       "      <td>678.37</td>\n",
       "      <td>1172</td>\n",
       "      <td>889</td>\n",
       "      <td>283</td>\n",
       "    </tr>\n",
       "    <tr>\n",
       "      <th>3</th>\n",
       "      <td>1,397.47</td>\n",
       "      <td>1172</td>\n",
       "      <td>899</td>\n",
       "      <td>273</td>\n",
       "    </tr>\n",
       "    <tr>\n",
       "      <th>4</th>\n",
       "      <td>2,745.37</td>\n",
       "      <td>1172</td>\n",
       "      <td>944</td>\n",
       "      <td>228</td>\n",
       "    </tr>\n",
       "    <tr>\n",
       "      <th>5</th>\n",
       "      <td>4,919.84</td>\n",
       "      <td>1172</td>\n",
       "      <td>1013</td>\n",
       "      <td>159</td>\n",
       "    </tr>\n",
       "    <tr>\n",
       "      <th>6</th>\n",
       "      <td>MISSING</td>\n",
       "      <td>11</td>\n",
       "      <td>11</td>\n",
       "      <td>0</td>\n",
       "    </tr>\n",
       "  </tbody>\n",
       "</table>\n",
       "</div>"
      ],
      "text/plain": [
       "  totalCharges  count  good  bad\n",
       "0        18.80   1172   599  573\n",
       "1       197.95   1172   819  353\n",
       "2       678.37   1172   889  283\n",
       "3     1,397.47   1172   899  273\n",
       "4     2,745.37   1172   944  228\n",
       "5     4,919.84   1172  1013  159\n",
       "6      MISSING     11    11    0"
      ]
     },
     "execution_count": 11,
     "metadata": {},
     "output_type": "execute_result"
    }
   ],
   "source": [
    "iv.group_by_feature(feat_charges)"
   ]
  },
  {
   "cell_type": "code",
   "execution_count": 12,
   "metadata": {},
   "outputs": [
    {
     "data": {
      "text/html": [
       "<div>\n",
       "<style scoped>\n",
       "    .dataframe tbody tr th:only-of-type {\n",
       "        vertical-align: middle;\n",
       "    }\n",
       "\n",
       "    .dataframe tbody tr th {\n",
       "        vertical-align: top;\n",
       "    }\n",
       "\n",
       "    .dataframe thead th {\n",
       "        text-align: right;\n",
       "    }\n",
       "</style>\n",
       "<table border=\"1\" class=\"dataframe\">\n",
       "  <thead>\n",
       "    <tr style=\"text-align: right;\">\n",
       "      <th></th>\n",
       "      <th>totalCharges</th>\n",
       "      <th>count</th>\n",
       "      <th>good</th>\n",
       "      <th>bad</th>\n",
       "      <th>perc_good</th>\n",
       "      <th>perc_bad</th>\n",
       "      <th>perc_diff</th>\n",
       "      <th>woe</th>\n",
       "      <th>iv</th>\n",
       "    </tr>\n",
       "  </thead>\n",
       "  <tbody>\n",
       "    <tr>\n",
       "      <th>0</th>\n",
       "      <td>18.80</td>\n",
       "      <td>1172</td>\n",
       "      <td>599</td>\n",
       "      <td>573</td>\n",
       "      <td>0.12</td>\n",
       "      <td>0.31</td>\n",
       "      <td>-0.19</td>\n",
       "      <td>-0.97</td>\n",
       "      <td>0.19</td>\n",
       "    </tr>\n",
       "    <tr>\n",
       "      <th>1</th>\n",
       "      <td>197.95</td>\n",
       "      <td>1172</td>\n",
       "      <td>819</td>\n",
       "      <td>353</td>\n",
       "      <td>0.16</td>\n",
       "      <td>0.19</td>\n",
       "      <td>-0.03</td>\n",
       "      <td>-0.18</td>\n",
       "      <td>0.01</td>\n",
       "    </tr>\n",
       "    <tr>\n",
       "      <th>2</th>\n",
       "      <td>678.37</td>\n",
       "      <td>1172</td>\n",
       "      <td>889</td>\n",
       "      <td>283</td>\n",
       "      <td>0.17</td>\n",
       "      <td>0.15</td>\n",
       "      <td>0.02</td>\n",
       "      <td>0.13</td>\n",
       "      <td>0.00</td>\n",
       "    </tr>\n",
       "    <tr>\n",
       "      <th>3</th>\n",
       "      <td>1,397.47</td>\n",
       "      <td>1172</td>\n",
       "      <td>899</td>\n",
       "      <td>273</td>\n",
       "      <td>0.17</td>\n",
       "      <td>0.15</td>\n",
       "      <td>0.03</td>\n",
       "      <td>0.17</td>\n",
       "      <td>0.00</td>\n",
       "    </tr>\n",
       "    <tr>\n",
       "      <th>4</th>\n",
       "      <td>2,745.37</td>\n",
       "      <td>1172</td>\n",
       "      <td>944</td>\n",
       "      <td>228</td>\n",
       "      <td>0.18</td>\n",
       "      <td>0.12</td>\n",
       "      <td>0.06</td>\n",
       "      <td>0.40</td>\n",
       "      <td>0.02</td>\n",
       "    </tr>\n",
       "    <tr>\n",
       "      <th>5</th>\n",
       "      <td>4,919.84</td>\n",
       "      <td>1172</td>\n",
       "      <td>1013</td>\n",
       "      <td>159</td>\n",
       "      <td>0.20</td>\n",
       "      <td>0.09</td>\n",
       "      <td>0.11</td>\n",
       "      <td>0.83</td>\n",
       "      <td>0.09</td>\n",
       "    </tr>\n",
       "    <tr>\n",
       "      <th>6</th>\n",
       "      <td>MISSING</td>\n",
       "      <td>11</td>\n",
       "      <td>11</td>\n",
       "      <td>0</td>\n",
       "      <td>0.00</td>\n",
       "      <td>0.00</td>\n",
       "      <td>0.00</td>\n",
       "      <td>0.00</td>\n",
       "      <td>0.00</td>\n",
       "    </tr>\n",
       "  </tbody>\n",
       "</table>\n",
       "</div>"
      ],
      "text/plain": [
       "  totalCharges  count  good  bad  perc_good  perc_bad  perc_diff   woe   iv\n",
       "0        18.80   1172   599  573       0.12      0.31      -0.19 -0.97 0.19\n",
       "1       197.95   1172   819  353       0.16      0.19      -0.03 -0.18 0.01\n",
       "2       678.37   1172   889  283       0.17      0.15       0.02  0.13 0.00\n",
       "3     1,397.47   1172   899  273       0.17      0.15       0.03  0.17 0.00\n",
       "4     2,745.37   1172   944  228       0.18      0.12       0.06  0.40 0.02\n",
       "5     4,919.84   1172  1013  159       0.20      0.09       0.11  0.83 0.09\n",
       "6      MISSING     11    11    0       0.00      0.00       0.00  0.00 0.00"
      ]
     },
     "metadata": {},
     "output_type": "display_data"
    },
    {
     "name": "stdout",
     "output_type": "stream",
     "text": [
      "Information value:  0.3152298256031499\n"
     ]
    }
   ],
   "source": [
    "iv_df, iv_value = iv.calculate_iv(feat_charges)\n",
    "display(iv_df)\n",
    "print('Information value: ', iv_value)"
   ]
  },
  {
   "cell_type": "code",
   "execution_count": 13,
   "metadata": {},
   "outputs": [
    {
     "data": {
      "image/png": "[encoded data removed]",
      "text/plain": [
       "<Figure size 720x432 with 1 Axes>"
      ]
     },
     "metadata": {
      "needs_background": "light"
     },
     "output_type": "display_data"
    }
   ],
   "source": [
    "iv.draw_woe(feat_charges)"
   ]
  },
  {
   "cell_type": "code",
   "execution_count": 14,
   "metadata": {},
   "outputs": [
    {
     "name": "stdout",
     "output_type": "stream",
     "text": [
      "Totalcharges is a strong predictor.\n",
      "A feature with IV = 0.2 is a medium predictor.\n",
      "\n",
      "Information value: 0.32\n",
      "Totalcharges is a strong predictor\n"
     ]
    }
   ],
   "source": [
    "print('%s is a %s predictor.' % (feat_charges.feature.capitalize(), iv.interpret_iv(feat_charges)))\n",
    "print('A feature with IV = 0.2 is a %s predictor.' % iv.interpretation(0.2))\n",
    "print()\n",
    "iv.print_iv(feat_charges)"
   ]
  },
  {
   "cell_type": "markdown",
   "metadata": {},
   "source": [
    "## Statistical Significance Class\n",
    "\n",
    "**StatsSignificance()**\n",
    "\n",
    "Attributes and methods:\n",
    "- group_by_feature(feature) - returns a dataframe with number of observations in each bin and count of good and bad\n",
    "- calculate_chi(feature) - returns p-value and effect size (Cramer's V) for a single feature\n",
    "- interpretation(effect_size) - returns the predictive power based on input effect size\n",
    "- interpret_iv(feature) - returns the predictive power based on effect size of a single feature\n",
    "- print_iv(feature) - prints interpretation of p-value and effect size of a single feature"
   ]
  },
  {
   "cell_type": "code",
   "execution_count": 15,
   "metadata": {},
   "outputs": [],
   "source": [
    "s = StatsSignificance()"
   ]
  },
  {
   "cell_type": "code",
   "execution_count": 16,
   "metadata": {},
   "outputs": [
    {
     "name": "stdout",
     "output_type": "stream",
     "text": [
      "p-value: 0.00\n",
      "effect size: 0.25\n"
     ]
    }
   ],
   "source": [
    "p_value, effect_size = s.calculate_chi(feat_charges)\n",
    "print('p-value: %0.2f' % p_value)\n",
    "print('effect size: %0.2f' % effect_size)"
   ]
  },
  {
   "cell_type": "code",
   "execution_count": 17,
   "metadata": {},
   "outputs": [
    {
     "name": "stdout",
     "output_type": "stream",
     "text": [
      "Totalcharges is a medium predictor.\n",
      "A feature with effect size = 0.2 is a medium predictor.\n",
      "\n",
      "P-value: 0.00\n",
      "Effect size: 0.25\n",
      "Totalcharges is a medium predictor\n"
     ]
    }
   ],
   "source": [
    "print('%s is a %s predictor.' % (feat_charges.feature.capitalize(), s.interpret_chi(feat_charges)))\n",
    "print('A feature with effect size = 0.2 is a %s predictor.' % s.interpretation(0.2))\n",
    "print()\n",
    "s.print_chi(feat_charges)"
   ]
  },
  {
   "cell_type": "markdown",
   "metadata": {},
   "source": [
    "## Attribute Relevance Class\n",
    "\n",
    "**AttributeRelevance()**\n",
    "\n",
    "Attributes and methods:\n",
    "- bulk_iv(features_list, iv, woe_extremes=False) - returns IV for features from the list; optionally: returns min and max WOE\n",
    "- bulk_stats(features_list, s) - returns p-value and effect size for features from the list\n",
    "- analyze(features_list, iv, s=None, interpretation=False) - returns IV (and p-value and effect size) for features from the list; optionally: returns interpretation of predictive power based on IV and effect size"
   ]
  },
  {
   "cell_type": "code",
   "execution_count": 18,
   "metadata": {},
   "outputs": [],
   "source": [
    "ar = AttributeRelevance()"
   ]
  },
  {
   "cell_type": "code",
   "execution_count": 19,
   "metadata": {},
   "outputs": [
    {
     "data": {
      "text/html": [
       "<div>\n",
       "<style scoped>\n",
       "    .dataframe tbody tr th:only-of-type {\n",
       "        vertical-align: middle;\n",
       "    }\n",
       "\n",
       "    .dataframe tbody tr th {\n",
       "        vertical-align: top;\n",
       "    }\n",
       "\n",
       "    .dataframe thead th {\n",
       "        text-align: right;\n",
       "    }\n",
       "</style>\n",
       "<table border=\"1\" class=\"dataframe\">\n",
       "  <thead>\n",
       "    <tr style=\"text-align: right;\">\n",
       "      <th></th>\n",
       "      <th>iv</th>\n",
       "    </tr>\n",
       "  </thead>\n",
       "  <tbody>\n",
       "    <tr>\n",
       "      <th>gender</th>\n",
       "      <td>0.00</td>\n",
       "    </tr>\n",
       "    <tr>\n",
       "      <th>seniorCitizen</th>\n",
       "      <td>0.11</td>\n",
       "    </tr>\n",
       "    <tr>\n",
       "      <th>partner</th>\n",
       "      <td>0.12</td>\n",
       "    </tr>\n",
       "    <tr>\n",
       "      <th>dependents</th>\n",
       "      <td>0.16</td>\n",
       "    </tr>\n",
       "    <tr>\n",
       "      <th>tenure</th>\n",
       "      <td>0.78</td>\n",
       "    </tr>\n",
       "  </tbody>\n",
       "</table>\n",
       "</div>"
      ],
      "text/plain": [
       "                iv\n",
       "gender        0.00\n",
       "seniorCitizen 0.11\n",
       "partner       0.12\n",
       "dependents    0.16\n",
       "tenure        0.78"
      ]
     },
     "execution_count": 19,
     "metadata": {},
     "output_type": "execute_result"
    }
   ],
   "source": [
    "ar.bulk_iv(feats, iv).head()"
   ]
  },
  {
   "cell_type": "code",
   "execution_count": 20,
   "metadata": {},
   "outputs": [
    {
     "data": {
      "text/html": [
       "<div>\n",
       "<style scoped>\n",
       "    .dataframe tbody tr th:only-of-type {\n",
       "        vertical-align: middle;\n",
       "    }\n",
       "\n",
       "    .dataframe tbody tr th {\n",
       "        vertical-align: top;\n",
       "    }\n",
       "\n",
       "    .dataframe thead th {\n",
       "        text-align: right;\n",
       "    }\n",
       "</style>\n",
       "<table border=\"1\" class=\"dataframe\">\n",
       "  <thead>\n",
       "    <tr style=\"text-align: right;\">\n",
       "      <th></th>\n",
       "      <th>iv</th>\n",
       "      <th>woe_min</th>\n",
       "      <th>woe_max</th>\n",
       "    </tr>\n",
       "  </thead>\n",
       "  <tbody>\n",
       "    <tr>\n",
       "      <th>gender</th>\n",
       "      <td>0.00</td>\n",
       "      <td>-0.02</td>\n",
       "      <td>0.02</td>\n",
       "    </tr>\n",
       "    <tr>\n",
       "      <th>seniorCitizen</th>\n",
       "      <td>0.11</td>\n",
       "      <td>-0.68</td>\n",
       "      <td>0.16</td>\n",
       "    </tr>\n",
       "    <tr>\n",
       "      <th>partner</th>\n",
       "      <td>0.12</td>\n",
       "      <td>-0.31</td>\n",
       "      <td>0.39</td>\n",
       "    </tr>\n",
       "    <tr>\n",
       "      <th>dependents</th>\n",
       "      <td>0.16</td>\n",
       "      <td>-0.23</td>\n",
       "      <td>0.68</td>\n",
       "    </tr>\n",
       "    <tr>\n",
       "      <th>tenure</th>\n",
       "      <td>0.78</td>\n",
       "      <td>-1.27</td>\n",
       "      <td>1.87</td>\n",
       "    </tr>\n",
       "  </tbody>\n",
       "</table>\n",
       "</div>"
      ],
      "text/plain": [
       "                iv  woe_min  woe_max\n",
       "gender        0.00    -0.02     0.02\n",
       "seniorCitizen 0.11    -0.68     0.16\n",
       "partner       0.12    -0.31     0.39\n",
       "dependents    0.16    -0.23     0.68\n",
       "tenure        0.78    -1.27     1.87"
      ]
     },
     "execution_count": 20,
     "metadata": {},
     "output_type": "execute_result"
    }
   ],
   "source": [
    "ar.bulk_iv(feats, iv, woe_extremes=True).head()"
   ]
  },
  {
   "cell_type": "code",
   "execution_count": 21,
   "metadata": {},
   "outputs": [
    {
     "data": {
      "text/html": [
       "<div>\n",
       "<style scoped>\n",
       "    .dataframe tbody tr th:only-of-type {\n",
       "        vertical-align: middle;\n",
       "    }\n",
       "\n",
       "    .dataframe tbody tr th {\n",
       "        vertical-align: top;\n",
       "    }\n",
       "\n",
       "    .dataframe thead th {\n",
       "        text-align: right;\n",
       "    }\n",
       "</style>\n",
       "<table border=\"1\" class=\"dataframe\">\n",
       "  <thead>\n",
       "    <tr style=\"text-align: right;\">\n",
       "      <th></th>\n",
       "      <th>p-value</th>\n",
       "      <th>effect_size</th>\n",
       "    </tr>\n",
       "  </thead>\n",
       "  <tbody>\n",
       "    <tr>\n",
       "      <th>gender</th>\n",
       "      <td>0.49</td>\n",
       "      <td>0.01</td>\n",
       "    </tr>\n",
       "    <tr>\n",
       "      <th>seniorCitizen</th>\n",
       "      <td>0.00</td>\n",
       "      <td>0.15</td>\n",
       "    </tr>\n",
       "    <tr>\n",
       "      <th>partner</th>\n",
       "      <td>0.00</td>\n",
       "      <td>0.15</td>\n",
       "    </tr>\n",
       "    <tr>\n",
       "      <th>dependents</th>\n",
       "      <td>0.00</td>\n",
       "      <td>0.16</td>\n",
       "    </tr>\n",
       "    <tr>\n",
       "      <th>tenure</th>\n",
       "      <td>0.00</td>\n",
       "      <td>0.37</td>\n",
       "    </tr>\n",
       "  </tbody>\n",
       "</table>\n",
       "</div>"
      ],
      "text/plain": [
       "               p-value  effect_size\n",
       "gender            0.49         0.01\n",
       "seniorCitizen     0.00         0.15\n",
       "partner           0.00         0.15\n",
       "dependents        0.00         0.16\n",
       "tenure            0.00         0.37"
      ]
     },
     "execution_count": 21,
     "metadata": {},
     "output_type": "execute_result"
    }
   ],
   "source": [
    "ar.bulk_stats(feats, s).head()"
   ]
  },
  {
   "cell_type": "code",
   "execution_count": 22,
   "metadata": {},
   "outputs": [
    {
     "data": {
      "text/html": [
       "<div>\n",
       "<style scoped>\n",
       "    .dataframe tbody tr th:only-of-type {\n",
       "        vertical-align: middle;\n",
       "    }\n",
       "\n",
       "    .dataframe tbody tr th {\n",
       "        vertical-align: top;\n",
       "    }\n",
       "\n",
       "    .dataframe thead th {\n",
       "        text-align: right;\n",
       "    }\n",
       "</style>\n",
       "<table border=\"1\" class=\"dataframe\">\n",
       "  <thead>\n",
       "    <tr style=\"text-align: right;\">\n",
       "      <th></th>\n",
       "      <th>iv</th>\n",
       "    </tr>\n",
       "  </thead>\n",
       "  <tbody>\n",
       "    <tr>\n",
       "      <th>contract</th>\n",
       "      <td>1.24</td>\n",
       "    </tr>\n",
       "    <tr>\n",
       "      <th>tenure</th>\n",
       "      <td>0.78</td>\n",
       "    </tr>\n",
       "    <tr>\n",
       "      <th>onlineSecurity</th>\n",
       "      <td>0.72</td>\n",
       "    </tr>\n",
       "    <tr>\n",
       "      <th>techSupport</th>\n",
       "      <td>0.70</td>\n",
       "    </tr>\n",
       "    <tr>\n",
       "      <th>internetService</th>\n",
       "      <td>0.62</td>\n",
       "    </tr>\n",
       "  </tbody>\n",
       "</table>\n",
       "</div>"
      ],
      "text/plain": [
       "                  iv\n",
       "contract        1.24\n",
       "tenure          0.78\n",
       "onlineSecurity  0.72\n",
       "techSupport     0.70\n",
       "internetService 0.62"
      ]
     },
     "execution_count": 22,
     "metadata": {},
     "output_type": "execute_result"
    }
   ],
   "source": [
    "ar.analyze(feats, iv).head()"
   ]
  },
  {
   "cell_type": "code",
   "execution_count": 23,
   "metadata": {},
   "outputs": [
    {
     "data": {
      "text/html": [
       "<div>\n",
       "<style scoped>\n",
       "    .dataframe tbody tr th:only-of-type {\n",
       "        vertical-align: middle;\n",
       "    }\n",
       "\n",
       "    .dataframe tbody tr th {\n",
       "        vertical-align: top;\n",
       "    }\n",
       "\n",
       "    .dataframe thead th {\n",
       "        text-align: right;\n",
       "    }\n",
       "</style>\n",
       "<table border=\"1\" class=\"dataframe\">\n",
       "  <thead>\n",
       "    <tr style=\"text-align: right;\">\n",
       "      <th></th>\n",
       "      <th>iv</th>\n",
       "      <th>p-value</th>\n",
       "      <th>effect_size</th>\n",
       "    </tr>\n",
       "  </thead>\n",
       "  <tbody>\n",
       "    <tr>\n",
       "      <th>contract</th>\n",
       "      <td>1.24</td>\n",
       "      <td>0.00</td>\n",
       "      <td>0.41</td>\n",
       "    </tr>\n",
       "    <tr>\n",
       "      <th>tenure</th>\n",
       "      <td>0.78</td>\n",
       "      <td>0.00</td>\n",
       "      <td>0.37</td>\n",
       "    </tr>\n",
       "    <tr>\n",
       "      <th>onlineSecurity</th>\n",
       "      <td>0.72</td>\n",
       "      <td>0.00</td>\n",
       "      <td>0.35</td>\n",
       "    </tr>\n",
       "    <tr>\n",
       "      <th>techSupport</th>\n",
       "      <td>0.70</td>\n",
       "      <td>0.00</td>\n",
       "      <td>0.34</td>\n",
       "    </tr>\n",
       "    <tr>\n",
       "      <th>internetService</th>\n",
       "      <td>0.62</td>\n",
       "      <td>0.00</td>\n",
       "      <td>0.32</td>\n",
       "    </tr>\n",
       "  </tbody>\n",
       "</table>\n",
       "</div>"
      ],
      "text/plain": [
       "                  iv  p-value  effect_size\n",
       "contract        1.24     0.00         0.41\n",
       "tenure          0.78     0.00         0.37\n",
       "onlineSecurity  0.72     0.00         0.35\n",
       "techSupport     0.70     0.00         0.34\n",
       "internetService 0.62     0.00         0.32"
      ]
     },
     "execution_count": 23,
     "metadata": {},
     "output_type": "execute_result"
    }
   ],
   "source": [
    "ar.analyze(feats, iv, s).head()"
   ]
  },
  {
   "cell_type": "code",
   "execution_count": 24,
   "metadata": {},
   "outputs": [
    {
     "data": {
      "text/html": [
       "<div>\n",
       "<style scoped>\n",
       "    .dataframe tbody tr th:only-of-type {\n",
       "        vertical-align: middle;\n",
       "    }\n",
       "\n",
       "    .dataframe tbody tr th {\n",
       "        vertical-align: top;\n",
       "    }\n",
       "\n",
       "    .dataframe thead th {\n",
       "        text-align: right;\n",
       "    }\n",
       "</style>\n",
       "<table border=\"1\" class=\"dataframe\">\n",
       "  <thead>\n",
       "    <tr style=\"text-align: right;\">\n",
       "      <th></th>\n",
       "      <th>iv</th>\n",
       "      <th>p-value</th>\n",
       "      <th>effect_size</th>\n",
       "      <th>iv_interpretation</th>\n",
       "      <th>es_interpretation</th>\n",
       "    </tr>\n",
       "  </thead>\n",
       "  <tbody>\n",
       "    <tr>\n",
       "      <th>contract</th>\n",
       "      <td>1.24</td>\n",
       "      <td>0.00</td>\n",
       "      <td>0.41</td>\n",
       "      <td>suspicious</td>\n",
       "      <td>strong</td>\n",
       "    </tr>\n",
       "    <tr>\n",
       "      <th>tenure</th>\n",
       "      <td>0.78</td>\n",
       "      <td>0.00</td>\n",
       "      <td>0.37</td>\n",
       "      <td>suspicious</td>\n",
       "      <td>medium</td>\n",
       "    </tr>\n",
       "    <tr>\n",
       "      <th>onlineSecurity</th>\n",
       "      <td>0.72</td>\n",
       "      <td>0.00</td>\n",
       "      <td>0.35</td>\n",
       "      <td>suspicious</td>\n",
       "      <td>medium</td>\n",
       "    </tr>\n",
       "    <tr>\n",
       "      <th>techSupport</th>\n",
       "      <td>0.70</td>\n",
       "      <td>0.00</td>\n",
       "      <td>0.34</td>\n",
       "      <td>suspicious</td>\n",
       "      <td>medium</td>\n",
       "    </tr>\n",
       "    <tr>\n",
       "      <th>internetService</th>\n",
       "      <td>0.62</td>\n",
       "      <td>0.00</td>\n",
       "      <td>0.32</td>\n",
       "      <td>suspicious</td>\n",
       "      <td>medium</td>\n",
       "    </tr>\n",
       "  </tbody>\n",
       "</table>\n",
       "</div>"
      ],
      "text/plain": [
       "                  iv  p-value  effect_size iv_interpretation es_interpretation\n",
       "contract        1.24     0.00         0.41        suspicious            strong\n",
       "tenure          0.78     0.00         0.37        suspicious            medium\n",
       "onlineSecurity  0.72     0.00         0.35        suspicious            medium\n",
       "techSupport     0.70     0.00         0.34        suspicious            medium\n",
       "internetService 0.62     0.00         0.32        suspicious            medium"
      ]
     },
     "execution_count": 24,
     "metadata": {},
     "output_type": "execute_result"
    }
   ],
   "source": [
    "ar.analyze(feats, iv, s, interpretation=True).head()"
   ]
  },
  {
   "cell_type": "markdown",
   "metadata": {},
   "source": [
    "## Visualizations of Information Value\n",
    "\n",
    "**IV()**\n",
    "\n",
    "Attributes and methods:\n",
    "- draw_iv(features_list, iv) - draws a chart with visualization of IV of features from the list\n",
    "- draw extremes(features_list, iv) - draws a chart with visualization of min and max WOE of features from the list\n",
    "- draw multiplot(features_list, iv) - draws a multi-chart with visualization of WOE of features from the list"
   ]
  },
  {
   "cell_type": "code",
   "execution_count": 25,
   "metadata": {},
   "outputs": [
    {
     "data": {
      "image/png": "[encoded data removed]",
      "text/plain": [
       "<Figure size 720x432 with 1 Axes>"
      ]
     },
     "metadata": {
      "needs_background": "light"
     },
     "output_type": "display_data"
    }
   ],
   "source": [
    "ar.draw_iv(feats, iv)"
   ]
  },
  {
   "cell_type": "code",
   "execution_count": 26,
   "metadata": {},
   "outputs": [
    {
     "data": {
      "image/png": "[encoded data removed]",
      "text/plain": [
       "<Figure size 720x432 with 1 Axes>"
      ]
     },
     "metadata": {
      "needs_background": "light"
     },
     "output_type": "display_data"
    }
   ],
   "source": [
    "ar.draw_woe_extremes(feats, iv)"
   ]
  },
  {
   "cell_type": "code",
   "execution_count": 27,
   "metadata": {
    "scrolled": false
   },
   "outputs": [
    {
     "data": {
      "image/png": "[encoded data removed]",
      "text/plain": [
       "<Figure size 1080x576 with 6 Axes>"
      ]
     },
     "metadata": {
      "needs_background": "light"
     },
     "output_type": "display_data"
    }
   ],
   "source": [
    "ar.draw_woe_multiplot(feats[:6], iv)"
   ]
  },
  {
   "cell_type": "markdown",
   "metadata": {},
   "source": [
    "### Grouping continuous values into bins\n",
    "\n",
    "Values in continuous features are grouped according to the following rules:\n",
    "- Each bin should have at least 5% of the observations.\n",
    "- Each bin should be non-zero for both non-events and events.\n",
    "- The WOE should be monotonic, i.e. either growing or decreasing with the groupings.\n",
    "- Missing values are binned separately."
   ]
  },
  {
   "cell_type": "markdown",
   "metadata": {},
   "source": [
    "### Reference\n",
    "\n",
    "1. https://stats.stackexchange.com/questions/93170/why-do-we-calculate-information-value\n",
    "2. https://www.listendata.com/2015/03/weight-of-evidence-woe-and-information.html#What-is-Information-Value-IV-\n",
    "3. https://towardsdatascience.com/attribute-relevance-analysis-in-python-iv-and-woe-b5651443fc04\n",
    "4. https://www.kaggle.com/pavansanagapati/weight-of-evidence-woe-information-value-iv\n",
    "5. https://medium.com/@sundarstyles89/weight-of-evidence-and-information-value-using-python-6f05072e83eb\n",
    "6. https://multithreaded.stitchfix.com/blog/2015/08/13/weight-of-evidence/"
   ]
  }
 ],
 "metadata": {
  "kernelspec": {
   "display_name": "Python 3 (ipykernel)",
   "language": "python",
   "name": "python3"
  },
  "language_info": {
   "codemirror_mode": {
    "name": "ipython",
    "version": 3
   },
   "file_extension": ".py",
   "mimetype": "text/x-python",
   "name": "python",
   "nbconvert_exporter": "python",
   "pygments_lexer": "ipython3",
   "version": "3.10.9"
  }
 },
 "nbformat": 4,
 "nbformat_minor": 2
}
