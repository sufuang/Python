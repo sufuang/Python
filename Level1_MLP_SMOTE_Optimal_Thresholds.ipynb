{
 "cells": [
  {
   "cell_type": "markdown",
   "id": "1efb782d",
   "metadata": {},
   "source": [
    "#  Level1_MLP_SMOTE_Optimal_Thresholds\n",
    " - module name: Level1_MLP_SMOTE_Optimal_Thresholds \n",
    " - input file \n",
    "    - Level1_MLP_SMOTE.xlsx\n",
    "       - tab/worksheet: MLP_SMOTE_Test\n",
    " - Accuracy based on column 'check' = True is 73289/77078 =  0.9508\n",
    " - Based on the thereshold to calculate the accuracy. The accuracy should increase as threshold is raised\n",
    "    - For a given threshold, filter the results by only selecting Score >= thereshold\n",
    "    - Accuracy is simply the proportion of true samples count to all samples count within the filtered dataset"
   ]
  },
  {
   "cell_type": "code",
   "execution_count": 1,
   "id": "62671936",
   "metadata": {},
   "outputs": [],
   "source": [
    " \n",
    "import pandas as pd, numpy as np\n",
    "from datetime import date\n",
    "#pd.options.display.float_format = '{:20,.4f}'.format \n",
    "pd.set_option('display.float_format', lambda x: '%.7f' % x)\n",
    " "
   ]
  },
  {
   "cell_type": "code",
   "execution_count": 2,
   "id": "88eadaaa",
   "metadata": {},
   "outputs": [],
   "source": [
    "DBFS = \"/dbfs/FileStore/tables/OFFSHORE/\"\n",
    "DBFO = \"/dbfs/FileStore/tables/OFFSHORE/\"\n",
    "DBFM = \"/dbfs/FileStore/tables/MALLIK/\"\n",
    "DBFR = \"/dbfs/FileStore/tables/OFFSHORE_RESULTS/\"\n",
    "path = 'C:\\\\users\\\\iny2819\\\\kroger\\\\Data\\\\'   \n",
    "DBFS = path\n",
    "DBFO = path\n",
    "DBFM = path\n",
    "DBFR = path\n"
   ]
  },
  {
   "cell_type": "code",
   "execution_count": 3,
   "id": "65d8165b",
   "metadata": {},
   "outputs": [
    {
     "data": {
      "text/plain": [
       "(77078, 5)"
      ]
     },
     "execution_count": 3,
     "metadata": {},
     "output_type": "execute_result"
    }
   ],
   "source": [
    "file = \"Level1_MLP_SMOTE.xlsx\"\n",
    "df  = pd.read_excel(DBFR + file, sheet_name = 'MLP_SMOTE_Test')\n",
    "df.shape "
   ]
  },
  {
   "cell_type": "code",
   "execution_count": 4,
   "id": "1af11115",
   "metadata": {},
   "outputs": [],
   "source": [
    "l_accuracy = []\n",
    "true_cnt = len(df[df.Check == True])\n",
    "false_cnt = len(df[df.Check == False])\n",
    "accuracy = true_cnt /len(df)\n",
    "threshold = 'N/A'\n",
    "l_accuracy.append([threshold, accuracy, true_cnt, false_cnt])                    "
   ]
  },
  {
   "cell_type": "code",
   "execution_count": 5,
   "id": "f9d37c17",
   "metadata": {},
   "outputs": [
    {
     "name": "stdout",
     "output_type": "stream",
     "text": [
      "threshold = 0.5, accuracy = 0.951841985575986 true_cnt= 73249, false_cnt 3706 \n",
      "threshold = 0.55, accuracy = 0.9538788716958484 true_cnt= 73111, false_cnt 3535 \n",
      "threshold = 0.6, accuracy = 0.9556793602936358 true_cnt= 72904, false_cnt 3381 \n",
      "threshold = 0.65, accuracy = 0.957807129594269 true_cnt= 72733, false_cnt 3204 \n",
      "threshold = 0.7, accuracy = 0.9600630722548331 true_cnt= 72455, false_cnt 3014 \n",
      "threshold = 0.75, accuracy = 0.961978402879616 true_cnt= 72158, false_cnt 2852 \n",
      "threshold = 0.8, accuracy = 0.9641241155224963 true_cnt= 71807, false_cnt 2672 \n",
      "threshold = 0.85, accuracy = 0.9664314065484496 true_cnt= 71341, false_cnt 2478 \n",
      "threshold = 0.9, accuracy = 0.9691165777161909 true_cnt= 70636, false_cnt 2251 \n",
      "threshold = 0.95, accuracy = 0.9726334679228353 true_cnt= 69376, false_cnt 1952 \n",
      "threshold = 0.96, accuracy = 0.9735410100210597 true_cnt= 68879, false_cnt 1872 \n",
      "threshold = 0.97, accuracy = 0.9747591687391018 true_cnt= 68200, false_cnt 1766 \n",
      "threshold = 0.98, accuracy = 0.9761749205104752 true_cnt= 67236, false_cnt 1641 \n",
      "threshold = 0.99, accuracy = 0.9783834727063294 true_cnt= 65402, false_cnt 1445 \n"
     ]
    }
   ],
   "source": [
    "#l_threshold = [0.5, 0.55, 0.6, 0.65, 0.7, 0.75, 0.8]\n",
    "l_threshold = [0.5, 0.55, 0.6, 0.65, 0.7, 0.75, 0.8, 0.85, 0.9, 0.95, 0.96, 0.97, 0.98,0.99]\n",
    "\n",
    "for threshold in l_threshold:\n",
    "    df1 =  df[df.Scores >= threshold]\n",
    "    true_cnt  = len(df1[df1.Check == True])\n",
    "    false_cnt = len(df1[df1.Check == False])\n",
    "    accuracy = true_cnt /len(df1)\n",
    "   \n",
    "    l_accuracy.append([threshold, accuracy, true_cnt, false_cnt]) \n",
    "    print(f'threshold = {threshold}, accuracy = { accuracy} true_cnt= {true_cnt}, false_cnt {false_cnt} ') \n",
    "#df[df.Scores >= threshold]['Scolen(df[df.Scores >= threshold])res'].value_counts()/len(df[df.Preds >= threshold])}"
   ]
  },
  {
   "cell_type": "code",
   "execution_count": 6,
   "id": "80036741",
   "metadata": {},
   "outputs": [],
   "source": [
    "df_accuracy = pd.DataFrame(l_accuracy,  columns = ['threshold', 'accuracy', 'true_cnt', 'false_cnt' ] )\n",
    "dte = date.today().strftime('%m%d%y')\n",
    "file = f\"Level1_MLP_SMOTE_Optimal_Thresholds_{dte}.csv\"\n",
    "df_accuracy.to_csv(DBFR + file , index=None)"
   ]
  }
 ],
 "metadata": {
  "kernelspec": {
   "display_name": "Python 3 (ipykernel)",
   "language": "python",
   "name": "python3"
  },
  "language_info": {
   "codemirror_mode": {
    "name": "ipython",
    "version": 3
   },
   "file_extension": ".py",
   "mimetype": "text/x-python",
   "name": "python",
   "nbconvert_exporter": "python",
   "pygments_lexer": "ipython3",
   "version": "3.10.9"
  }
 },
 "nbformat": 4,
 "nbformat_minor": 5
}
