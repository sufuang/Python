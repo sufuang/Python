{
 "cells": [
  {
   "cell_type": "code",
   "execution_count": 0,
   "metadata": {
    "application/vnd.databricks.v1+cell": {
     "cellMetadata": {
      "byteLimit": 2048000,
      "rowLimit": 10000
     },
     "inputWidgets": {},
     "nuid": "30276463-8fd4-4629-884b-c78592b6e041",
     "showTitle": false,
     "title": ""
    }
   },
   "outputs": [
    {
     "output_type": "stream",
     "name": "stdout",
     "output_type": "stream",
     "text": [
      "\u001B[43mNote: you may need to restart the kernel using dbutils.library.restartPython() to use updated packages.\u001B[0m\nCollecting openai==0.28\n  Downloading openai-0.28.0-py3-none-any.whl (76 kB)\n     ━━━━━━━━━━━━━━━━━━━━━━━━━━━━━━━━━━━━━━━━ 76.5/76.5 kB 2.0 MB/s eta 0:00:00\nCollecting aiohttp\n  Downloading aiohttp-3.9.1-cp310-cp310-manylinux_2_17_x86_64.manylinux2014_x86_64.whl (1.2 MB)\n     ━━━━━━━━━━━━━━━━━━━━━━━━━━━━━━━━━━━━━━━━ 1.2/1.2 MB 11.3 MB/s eta 0:00:00\nRequirement already satisfied: requests>=2.20 in /databricks/python3/lib/python3.10/site-packages (from openai==0.28) (2.28.1)\nRequirement already satisfied: tqdm in /local_disk0/.ephemeral_nfs/cluster_libraries/python/lib/python3.10/site-packages (from openai==0.28) (4.66.1)\nRequirement already satisfied: certifi>=2017.4.17 in /local_disk0/.ephemeral_nfs/cluster_libraries/python/lib/python3.10/site-packages (from requests>=2.20->openai==0.28) (2021.10.8)\nRequirement already satisfied: urllib3<1.27,>=1.21.1 in /databricks/python3/lib/python3.10/site-packages (from requests>=2.20->openai==0.28) (1.26.14)\nRequirement already satisfied: charset-normalizer<3,>=2 in /databricks/python3/lib/python3.10/site-packages (from requests>=2.20->openai==0.28) (2.0.4)\nRequirement already satisfied: idna<4,>=2.5 in /databricks/python3/lib/python3.10/site-packages (from requests>=2.20->openai==0.28) (3.4)\nRequirement already satisfied: attrs>=17.3.0 in /local_disk0/.ephemeral_nfs/cluster_libraries/python/lib/python3.10/site-packages (from aiohttp->openai==0.28) (21.2.0)\nCollecting yarl<2.0,>=1.0\n  Downloading yarl-1.9.4-cp310-cp310-manylinux_2_17_x86_64.manylinux2014_x86_64.whl (301 kB)\n     ━━━━━━━━━━━━━━━━━━━━━━━━━━━━━━━━━━━━━━ 301.6/301.6 kB 13.2 MB/s eta 0:00:00\nCollecting async-timeout<5.0,>=4.0\n  Downloading async_timeout-4.0.3-py3-none-any.whl (5.7 kB)\nCollecting multidict<7.0,>=4.5\n  Downloading multidict-6.0.4-cp310-cp310-manylinux_2_17_x86_64.manylinux2014_x86_64.whl (114 kB)\n     ━━━━━━━━━━━━━━━━━━━━━━━━━━━━━━━━━━━━━━━ 114.5/114.5 kB 7.4 MB/s eta 0:00:00\nCollecting frozenlist>=1.1.1\n  Downloading frozenlist-1.4.1-cp310-cp310-manylinux_2_5_x86_64.manylinux1_x86_64.manylinux_2_17_x86_64.manylinux2014_x86_64.whl (239 kB)\n     ━━━━━━━━━━━━━━━━━━━━━━━━━━━━━━━━━━━━━━ 239.5/239.5 kB 11.4 MB/s eta 0:00:00\nCollecting aiosignal>=1.1.2\n  Downloading aiosignal-1.3.1-py3-none-any.whl (7.6 kB)\nInstalling collected packages: multidict, frozenlist, async-timeout, yarl, aiosignal, aiohttp, openai\n  Attempting uninstall: openai\n    Found existing installation: openai 1.9.0\n    Not uninstalling openai at /local_disk0/.ephemeral_nfs/cluster_libraries/python/lib/python3.10/site-packages, outside environment /local_disk0/.ephemeral_nfs/envs/pythonEnv-1cb5a838-9f4a-4f90-beb6-c4e1bbc87b60\n    Can't uninstall 'openai'. No files were found to uninstall.\nSuccessfully installed aiohttp-3.9.1 aiosignal-1.3.1 async-timeout-4.0.3 frozenlist-1.4.1 multidict-6.0.4 openai-0.28.0 yarl-1.9.4\n\u001B[43mNote: you may need to restart the kernel using dbutils.library.restartPython() to use updated packages.\u001B[0m\n"
     ]
    }
   ],
   "source": [
    "%pip install -U openai==0.28"
   ]
  },
  {
   "cell_type": "code",
   "execution_count": 0,
   "metadata": {
    "application/vnd.databricks.v1+cell": {
     "cellMetadata": {
      "byteLimit": 2048000,
      "rowLimit": 10000
     },
     "inputWidgets": {},
     "nuid": "2195d0d1-311b-42b1-b7e0-2d8d244e55ef",
     "showTitle": false,
     "title": ""
    }
   },
   "outputs": [
    {
     "output_type": "stream",
     "name": "stdout",
     "output_type": "stream",
     "text": [
      "\u001B[43mNote: you may need to restart the kernel using dbutils.library.restartPython() to use updated packages.\u001B[0m\nRequirement already satisfied: tenacity in /databricks/python3/lib/python3.10/site-packages (8.1.0)\n\u001B[43mNote: you may need to restart the kernel using dbutils.library.restartPython() to use updated packages.\u001B[0m\n"
     ]
    }
   ],
   "source": [
    "%pip install tenacity"
   ]
  },
  {
   "cell_type": "code",
   "execution_count": 0,
   "metadata": {
    "application/vnd.databricks.v1+cell": {
     "cellMetadata": {
      "byteLimit": 2048000,
      "rowLimit": 10000
     },
     "inputWidgets": {},
     "nuid": "c8084d2d-a09c-40e3-942d-852ade3ad987",
     "showTitle": false,
     "title": ""
    }
   },
   "outputs": [],
   "source": [
    "import os\n",
    "import pandas as pd, numpy as np\n",
    "import ast\n",
    "import tenacity"
   ]
  },
  {
   "cell_type": "code",
   "execution_count": 0,
   "metadata": {
    "application/vnd.databricks.v1+cell": {
     "cellMetadata": {
      "byteLimit": 2048000,
      "rowLimit": 10000
     },
     "inputWidgets": {},
     "nuid": "59a14207-7587-44f5-8137-30a8ce8a87ba",
     "showTitle": false,
     "title": ""
    }
   },
   "outputs": [],
   "source": [
    "import os\n",
    "MY_OPENAPI_KEY = '4db7f4f08cb141669f15d67fd73bfb38'                 \n",
    "os.environ[\"OPENAI_API_KEY\"] = MY_OPENAPI_KEY\n",
    "# os.environ[\"OPENAI_API_KEY\"] = my_key"
   ]
  },
  {
   "cell_type": "markdown",
   "metadata": {
    "application/vnd.databricks.v1+cell": {
     "cellMetadata": {
      "byteLimit": 2048000,
      "rowLimit": 10000
     },
     "inputWidgets": {},
     "nuid": "32edb187-96ae-48e9-9566-ede782db66b6",
     "showTitle": false,
     "title": ""
    }
   },
   "source": [
    "### Color  Extraction"
   ]
  },
  {
   "cell_type": "code",
   "execution_count": 0,
   "metadata": {
    "application/vnd.databricks.v1+cell": {
     "cellMetadata": {
      "byteLimit": 2048000,
      "rowLimit": 10000
     },
     "inputWidgets": {},
     "nuid": "dc99d2e3-bbcd-4dd2-89d9-54d3118f4cd4",
     "showTitle": false,
     "title": ""
    }
   },
   "outputs": [],
   "source": [
    "### Ingest Item Data\n",
    "items = pd.read_parquet('/dbfs/FileStore/tables/MALLIK/MASTER_DATA.parquet')\n",
    "good_GTINs = items[(items.INACTIVE_FLAG != 'Yes')\\\n",
    "& (items.VERIFIED_FLAG == True)\\\n",
    "& (items['Sales Variant'] == 'Yes')].GTIN_NO.unique()\n",
    "items = items[items.GTIN_NO.isin(good_GTINs)]"
   ]
  },
  {
   "cell_type": "markdown",
   "metadata": {
    "application/vnd.databricks.v1+cell": {
     "cellMetadata": {
      "byteLimit": 2048000,
      "rowLimit": 10000
     },
     "inputWidgets": {},
     "nuid": "1d343aed-ca7b-4533-942b-28ef709b9cde",
     "showTitle": false,
     "title": ""
    }
   },
   "source": [
    "### To add sales channel flag\n",
    "sls_chn_map = dict(zip(items.GTIN_NO, items.SLS_CHA_VLU))"
   ]
  },
  {
   "cell_type": "markdown",
   "metadata": {
    "application/vnd.databricks.v1+cell": {
     "cellMetadata": {
      "byteLimit": 2048000,
      "rowLimit": 10000
     },
     "inputWidgets": {},
     "nuid": "8d8c6f30-cafc-45f0-8f30-1fd2f961de08",
     "showTitle": false,
     "title": ""
    }
   },
   "source": [
    "\n",
    "### Incorporate CFIC fields\n",
    "'''\n",
    "Source Table with CF Taxonomy:   pimmart.ITM_CFIC_FYT\n",
    "'''\n",
    "cust_facing_df = pd.read_csv('/dbfs/FileStore/tables/DATA_SCIENCE/CUSTOMER_FACING_ITEM_DATA_112823.zip', low_memory = False)\n",
    "cfic_cols = ['GTIN_NO', 'ITM_CFIC_FYT_DPT_CD', 'ITM_CFIC_FYT_COM_CD',\n",
    "       'ITM_CFIC_FYT_SUB_COM_CD', 'ITM_CFIC_FYT_DPT_NAM',\n",
    "       'ITM_CFIC_FYT_COM_NAM', 'ITM_CFIC_FYT_SUB_COM_NAM',\n",
    "       'ITM_CFIC_FYT_CGY_CD', 'ITM_CFIC_FYT_CGY_VLU']\n",
    "items = items.merge(cust_facing_df[cfic_cols], how = 'left', on = 'GTIN_NO')  "
   ]
  },
  {
   "cell_type": "code",
   "execution_count": 0,
   "metadata": {
    "application/vnd.databricks.v1+cell": {
     "cellMetadata": {
      "byteLimit": 2048000,
      "rowLimit": 10000
     },
     "inputWidgets": {},
     "nuid": "581634cb-055c-4ff4-bcbe-b146efb48c0e",
     "showTitle": false,
     "title": ""
    }
   },
   "outputs": [
    {
     "output_type": "execute_result",
     "data": {
      "text/plain": [
       "ITM_ID                               int64\n",
       "GTIN_NO                              int64\n",
       "VND_BRN_NAM                         object\n",
       "NET_CONT_EQV_QY_VIP_TO_KRG_QY      float64\n",
       "NET_CONT_EQV_UOM_VIP_TO_KRG_UOM     object\n",
       "CON_UNT_ITM_DSC                     object\n",
       "PDT_FRE_FRO_CD                      object\n",
       "PDT_FRE_FRO_VLU                     object\n",
       "NET_CONT_VND_QY                    float64\n",
       "NET_CONT_UOM_VND_CD                 object\n",
       "NET_CONT_UOM_VND_VLU                object\n",
       "GTIN_NAM                            object\n",
       "NO_OF_SERV_PER_PKG_NO              float64\n",
       "PMY_DPT_CD                         float64\n",
       "PMY_DPT_DSC                         object\n",
       "REC_DPT_CD                         float64\n",
       "REC_DPT_DSC                         object\n",
       "DPT_CD                             float64\n",
       "DPT_DSC                             object\n",
       "COM_CD                             float64\n",
       "COM_DSC                             object\n",
       "SUBCOM_CD                          float64\n",
       "SUBCOM_DSC                          object\n",
       "MKT_BRN_CD                         float64\n",
       "MKT_BRN_VLU                         object\n",
       "TAG_DSC                             object\n",
       "RCT_DSC                             object\n",
       "ITM_SIZ_TX                          object\n",
       "SIZ_CD                              object\n",
       "SIZ_CD_VLU                          object\n",
       "SIZ_QY                             float64\n",
       "RBP_GRP_NAM                         object\n",
       "ITM_LVL_BRN                         object\n",
       "ITM_LVL_DSC                         object\n",
       "ITM_LVL_SIZ                         object\n",
       "GRP_LVL_BRN                         object\n",
       "GRP_LVL_DSC                         object\n",
       "GRP_LVL_SIZ                         object\n",
       "KRG_OWN_HGT                        float64\n",
       "KRG_OWN_LTH                        float64\n",
       "KRG_OWN_WTH                        float64\n",
       "KRG_OWN_GRS_WGT                    float64\n",
       "FLV_DSC                             object\n",
       "VND_ECOM_DSC                        object\n",
       "Flag_COM_CD                        float64\n",
       "Flag_Groc                          float64\n",
       "Flavor_Code                         object\n",
       "ITM_CFIC_FYT_DPT_CD                float64\n",
       "ITM_CFIC_FYT_COM_CD                float64\n",
       "ITM_CFIC_FYT_SUB_COM_CD            float64\n",
       "ITM_CFIC_FYT_DPT_NAM                object\n",
       "ITM_CFIC_FYT_COM_NAM                object\n",
       "ITM_CFIC_FYT_SUB_COM_NAM            object\n",
       "ITM_CFIC_FYT_CGY_CD                float64\n",
       "ITM_CFIC_FYT_CGY_VLU                object\n",
       "INACTIVE_FLAG                       object\n",
       "VERIFIED_FLAG                       object\n",
       "Sales Variant                       object\n",
       "SLS_CHA_VLU                         object\n",
       "SCENT ATTR                          object\n",
       "dtype: object"
      ]
     },
     "execution_count": 7,
     "metadata": {},
     "output_type": "execute_result"
    }
   ],
   "source": [
    "items.dtypes"
   ]
  },
  {
   "cell_type": "code",
   "execution_count": 0,
   "metadata": {
    "application/vnd.databricks.v1+cell": {
     "cellMetadata": {
      "byteLimit": 2048000,
      "rowLimit": 10000
     },
     "inputWidgets": {},
     "nuid": "04c9fd5e-7ca6-4a51-bd19-9b1cdda6fd4c",
     "showTitle": false,
     "title": ""
    }
   },
   "outputs": [
    {
     "output_type": "execute_result",
     "data": {
      "text/plain": [
       "[' Sparkling Water & Seltzer Water',\n",
       " 'Action Figures & Playsets',\n",
       " 'Activewear',\n",
       " 'Air Fresheners',\n",
       " 'Alcohol Pairings',\n",
       " 'Allergy & Sinus',\n",
       " 'Americana',\n",
       " 'Angel Food, Pound, & Pudding Cakes',\n",
       " 'Aquarium Needs',\n",
       " 'Artificial Flowers, Plants, & Wreaths',\n",
       " 'Artisan Breads',\n",
       " 'As Seen on TV',\n",
       " 'Audio & MP3 Players',\n",
       " 'Automotive',\n",
       " 'Baby',\n",
       " 'Baby Apparel',\n",
       " 'Baby Bath & Skin Care',\n",
       " 'Baby Bedding & Accessories',\n",
       " 'Baby Formula',\n",
       " 'Baby Gates',\n",
       " 'Baby Gear, Activity & Toys',\n",
       " 'Baby Monitors',\n",
       " 'Baby Proofing',\n",
       " 'Baby Shoes',\n",
       " 'Bacon & Breakfast Sausage',\n",
       " 'Bakery & Bread',\n",
       " 'Bakeware',\n",
       " 'Baking & Cooking',\n",
       " 'Baking Paper & Foils',\n",
       " 'Balloons',\n",
       " 'Bar & Wine Accessories',\n",
       " 'Bath & Body',\n",
       " 'Bath Towels and Rugs',\n",
       " 'Bath Towels, Washcloths',\n",
       " 'Bath Toys',\n",
       " 'Bath Tubs & Accessories',\n",
       " 'Bathroom Accessories',\n",
       " 'Bathroom Furniture',\n",
       " 'Bathroom Hardware',\n",
       " 'Bathroom Mirrors And Lighting',\n",
       " 'Bathroom Storage',\n",
       " 'Batteries',\n",
       " 'Beads & Jewelry',\n",
       " 'Beauty & Personal Care',\n",
       " 'Beauty Gifting',\n",
       " 'Bedding Accessories',\n",
       " 'Bedroom',\n",
       " 'Beef',\n",
       " 'Belts & Suspenders',\n",
       " 'Beverages',\n",
       " 'Big & Tall',\n",
       " 'Binders & Filing',\n",
       " 'Bird Care',\n",
       " 'Blankets',\n",
       " 'Bleach',\n",
       " 'Blinds And Shades',\n",
       " 'Boards, Easels & Accessories',\n",
       " 'Body & Hair Care',\n",
       " 'Body Moisturizers',\n",
       " 'Books',\n",
       " 'Books & Magazines',\n",
       " 'Bottle Feeding, Pacifiers, And Teethers',\n",
       " 'Bottoms',\n",
       " 'Bouquets',\n",
       " 'Box Wine',\n",
       " 'Boy Accessories',\n",
       " 'Boy Clothing',\n",
       " \"Boy's Clothing\",\n",
       " \"Boys' Clothing\",\n",
       " \"Boys' Shoes\",\n",
       " 'Bracelets',\n",
       " 'Bread by Lifestyle',\n",
       " 'Bread, Bagels & Muffins',\n",
       " 'Bread, Buns & Rolls',\n",
       " 'Breakfast & Cereal Bars',\n",
       " 'Breakfast Breads',\n",
       " 'Brooms, Mops & Dusters',\n",
       " 'Brownies',\n",
       " 'Building Materials',\n",
       " 'Bulk',\n",
       " 'Burp Cloths & Bibs',\n",
       " 'Butter & Margarine',\n",
       " 'Cakes & Cupcakes',\n",
       " 'Cameras & Camcorders',\n",
       " 'Camping',\n",
       " 'Candles & Home Fragrances',\n",
       " 'Canned Foods',\n",
       " 'Car Seats',\n",
       " 'Cat Treats',\n",
       " 'Celebration Sizes',\n",
       " 'Cereal & Granola',\n",
       " 'Champagne & Sparkling Wine',\n",
       " 'Cheese',\n",
       " 'Cheesecakes',\n",
       " 'Chicken',\n",
       " 'Chicken and Hot Meals',\n",
       " \"Children's Medicine\",\n",
       " \"Children's Special Occasions\",\n",
       " 'Chocolate',\n",
       " 'Christmas',\n",
       " 'Cigars',\n",
       " 'Cleaning & Household',\n",
       " 'Cleaning Supplies',\n",
       " 'Climbing, Hiking & Outdoor Recreation',\n",
       " 'Clocks',\n",
       " 'Closet Storage',\n",
       " 'Coffee',\n",
       " 'Coffee & Tea',\n",
       " 'Cold Side Dishes',\n",
       " 'Cold Weather Accessories',\n",
       " 'Cold, Cough & Flu',\n",
       " 'Comforter Sets',\n",
       " 'Computer Supplies & Accessories',\n",
       " 'Computers, Laptops, & Tablets',\n",
       " 'Condiments & Salad Dressings',\n",
       " 'Connected Home',\n",
       " 'Cookies',\n",
       " 'Cookies, Candy & Snacks',\n",
       " 'Cookware',\n",
       " 'Costumes & Dress Up',\n",
       " 'Craft Beer',\n",
       " 'Craft Storage & Furniture',\n",
       " 'Crafts & Hobbies',\n",
       " 'Crayons and Markers',\n",
       " 'Cream & Creamer',\n",
       " 'Creative, Activity, & Educational',\n",
       " 'Curtain Rods And Hardware',\n",
       " 'Curtains',\n",
       " 'Cutlery & Knife Accessories',\n",
       " 'Dairy & Cheeses',\n",
       " 'Dairy & Eggs',\n",
       " 'Dairy & Refrigerated Breakfast',\n",
       " 'Decorative Accents',\n",
       " 'Deli',\n",
       " 'Deodorants/Antiperspirant',\n",
       " 'Desserts',\n",
       " 'Desserts & Vermouth Wine',\n",
       " 'Diaper Essentials',\n",
       " 'Diapering Essentials',\n",
       " 'Diapers & Training Pants',\n",
       " 'Diet & Adult Nutrition',\n",
       " 'Digestive Health & Nausea',\n",
       " 'Dinner Bread and Rolls',\n",
       " 'Dinner Sausage',\n",
       " 'Dinnerware',\n",
       " 'Dishes, Utensils, & Cups',\n",
       " 'Dishwashing Needs',\n",
       " 'Disposable Tableware',\n",
       " 'Dog Treats',\n",
       " 'Dolls, Preschool & Baby',\n",
       " 'Domestic & Imported Beer',\n",
       " 'Donuts & Pastries',\n",
       " 'Donuts, Danishes, & Muffins',\n",
       " 'Dresses & One-Piece Outfits',\n",
       " 'Dressings & Dips',\n",
       " 'Dried Fruit & Nuts',\n",
       " 'Drink Boxes & Pouches',\n",
       " 'Drink Mixes & Beverage Enhancers',\n",
       " 'Dry Cat Food',\n",
       " 'Dry Dog Food',\n",
       " 'Duvet Covers',\n",
       " 'Ear Care',\n",
       " 'Earrings',\n",
       " 'Easter',\n",
       " 'Eggs & Egg Substitutes',\n",
       " 'Electrical',\n",
       " 'Energy & Stimulants',\n",
       " 'Energy Drinks',\n",
       " 'Entryway & Accent Furniture',\n",
       " 'Exercise & Fitness',\n",
       " 'Eye Care',\n",
       " 'Fabric Softeners',\n",
       " 'Face Care',\n",
       " 'Featured',\n",
       " 'Feminine Care',\n",
       " 'Ferns & Outdoor Floral',\n",
       " 'First Aid',\n",
       " 'Fish',\n",
       " 'Fishing & Boating',\n",
       " 'Fitness & Wearable Tech',\n",
       " 'Flatware',\n",
       " 'Flooring',\n",
       " 'Floral',\n",
       " 'Floral Arrangements',\n",
       " 'Foliage',\n",
       " 'Food Prep',\n",
       " 'Food Storage',\n",
       " 'Food, Snacks & Beverages',\n",
       " 'Food, Snacks, & Beverage',\n",
       " 'Foot Care',\n",
       " 'Fragrance',\n",
       " 'Freeze Dried',\n",
       " 'Fresh Cut Fruit & Vegetables',\n",
       " 'Fresh Cut Roses',\n",
       " 'Fresh Deli Cheese',\n",
       " 'Fresh Deli Meats',\n",
       " 'Fresh Fruit',\n",
       " 'Fresh Herbs',\n",
       " 'Fresh Juice & Smoothies',\n",
       " 'Fresh Vegetables',\n",
       " 'Frozen',\n",
       " 'Frozen & Refrigerated',\n",
       " 'Frozen & Refrigerated Cat Food',\n",
       " 'Frozen & Refrigerated Dog Food',\n",
       " 'Frozen Appetizers & Snacks',\n",
       " 'Frozen Bread',\n",
       " 'Frozen Breakfast',\n",
       " 'Frozen Chicken, Meat, Seafood',\n",
       " 'Frozen Desserts & Pies',\n",
       " 'Frozen Fruit',\n",
       " 'Frozen International Foods',\n",
       " 'Frozen Juice & Mixers',\n",
       " 'Frozen Meals & Sides',\n",
       " 'Frozen Pizza',\n",
       " 'Frozen Potatoes & Onion Rings',\n",
       " 'Frozen Vegetables',\n",
       " 'Furniture',\n",
       " 'GPS & Navigation',\n",
       " 'Games & Puzzles',\n",
       " 'Gift Cards',\n",
       " 'Gifts & Fruit Baskets',\n",
       " 'Girl Accessories',\n",
       " 'Girl Clothing',\n",
       " \"Girl's Clothing\",\n",
       " \"Girls' Clothing\",\n",
       " \"Girls' Shoes\",\n",
       " 'Glassware & Drinkware',\n",
       " 'Gloves & Mittens',\n",
       " 'Grab & Go Meals',\n",
       " 'Grains, Beans & Rice',\n",
       " 'Grills & Outdoor Cooking',\n",
       " 'Grocery',\n",
       " 'Grooming & Wellness',\n",
       " 'Gum & Mints',\n",
       " 'Gummy & Chewy',\n",
       " 'Hair Care',\n",
       " 'Halloween',\n",
       " 'Hand Soap & Sanitizer',\n",
       " 'Hand Tools',\n",
       " 'Hard Candy & Lollipops',\n",
       " 'Hard Seltzers & Ready to Drink Alcohol',\n",
       " 'Harvest & Thanksgiving',\n",
       " 'Hats',\n",
       " 'Health',\n",
       " 'Health & Beauty',\n",
       " 'Health & Safety',\n",
       " 'Healthier Options',\n",
       " 'Heating/Cooling/Weatherization & Purification',\n",
       " 'High Chairs',\n",
       " 'Home Healthcare Solutions',\n",
       " 'Hot Dogs & Franks',\n",
       " 'Household & Celebrations',\n",
       " 'Hummus, Salsa, Dips & Snacks',\n",
       " 'Hunting & Shooting Sports',\n",
       " 'Ice',\n",
       " 'Ice Cream',\n",
       " 'Incontinence',\n",
       " 'Individual Sports',\n",
       " 'Infant Toys',\n",
       " 'International',\n",
       " 'Intimates',\n",
       " 'Jackets & Coats',\n",
       " 'Jeans',\n",
       " 'Jewelry Sets',\n",
       " 'Judaica Celebrations',\n",
       " 'Juice',\n",
       " 'Juice & Breakfast Drinks',\n",
       " 'Kids Bedding',\n",
       " 'Kids Crafts & Activities',\n",
       " 'Kids Furniture',\n",
       " 'Kitchen & Bath',\n",
       " 'Kitchen & Dining Furniture',\n",
       " 'Kitchen & Table Linens',\n",
       " 'Kitchen Appliances',\n",
       " 'Kitchen Linens',\n",
       " 'Kitchen Maintenance',\n",
       " 'Kitchen Organization',\n",
       " 'Kitchen Storage & Organization',\n",
       " 'Kitchen Tools & Gadgets',\n",
       " 'Lamb, Veal & Bison',\n",
       " 'Lamps & Lighting',\n",
       " 'Laundry Care',\n",
       " 'Laundry Care Accessories',\n",
       " 'Laundry Detergents',\n",
       " 'Lawn & Garden',\n",
       " 'Light Bulbs',\n",
       " 'Lighting',\n",
       " 'Lip Care',\n",
       " 'Liquor',\n",
       " 'Litter & Potty',\n",
       " 'Living Room',\n",
       " 'Lunch & Snack Kits',\n",
       " 'Makeup',\n",
       " 'Maternity Health & Wellness',\n",
       " 'Mattresses, Pads & Toppers',\n",
       " 'Meat & Seafood',\n",
       " \"Men's Grooming\",\n",
       " \"Men's Shoes\",\n",
       " 'Milk & Plant-Based Milk',\n",
       " 'Minis & Travel Size',\n",
       " 'Mirrors',\n",
       " 'Misc. Checkout',\n",
       " 'Money Services',\n",
       " 'Necklaces & Broaches',\n",
       " 'Newborn Essentials',\n",
       " 'No Contract Wireless',\n",
       " 'Non Alcoholic Beer & Wine',\n",
       " 'Notebooks, Journals & Calendars',\n",
       " 'Nursery Furniture',\n",
       " 'Nursing',\n",
       " 'Nursing & Feeding',\n",
       " 'Office Furniture',\n",
       " 'Office Organization',\n",
       " 'Oral Care',\n",
       " 'Orchids',\n",
       " 'Organic Produce',\n",
       " 'Other Tobacco',\n",
       " 'Outdoor Play',\n",
       " 'Outdoor, Riding & Remote Control',\n",
       " 'Packaged Deli Meat',\n",
       " 'Packaged Deli Sliced Cheese and Cubes',\n",
       " 'Packaged Meals & Sides',\n",
       " 'Packaged Produce',\n",
       " 'Packing and Mailing Supplies',\n",
       " 'Pain & Fever',\n",
       " 'Paint & Accessories',\n",
       " 'Painting & Drawing',\n",
       " 'Pajamas & Loungewear',\n",
       " 'Pajamas & Robes',\n",
       " 'Pancake, Waffle & Baking Mixes',\n",
       " 'Pantry',\n",
       " 'Paper Products',\n",
       " 'Party Platters',\n",
       " 'Party Supplies & Cards',\n",
       " 'Party Trays',\n",
       " 'Pasta & Pasta Sauces',\n",
       " 'Patio Furniture',\n",
       " 'Pepperoni, Salami & Summer Sausage',\n",
       " 'Pest Control',\n",
       " 'Pet Supplies',\n",
       " 'Pet Toys',\n",
       " 'Phones',\n",
       " 'Picture frames and albums',\n",
       " 'Pies',\n",
       " 'Pillows',\n",
       " 'Placemats & Floormats',\n",
       " 'Pool & Beach Gear',\n",
       " 'Pork & Ham',\n",
       " 'Potted Plants',\n",
       " 'Potty',\n",
       " 'Powder',\n",
       " 'Power Tools',\n",
       " 'Premium Chocolate',\n",
       " 'Prepared Meals',\n",
       " 'Prepared Salads & Spreads',\n",
       " 'Printers & Supplies',\n",
       " 'Pudding, Gelatin, & Desserts',\n",
       " 'Purses & Handbags',\n",
       " 'Quilts',\n",
       " 'Ready To Heat Meals & Soups',\n",
       " 'Red Wine',\n",
       " 'Refrigerated Dough & Crust',\n",
       " 'Refrigerated Pickles & Sauerkraut',\n",
       " 'Reusable Bags & Totes',\n",
       " 'Rings',\n",
       " 'Room & Wall Décor',\n",
       " 'Rose & Blush Wine',\n",
       " 'Rugs',\n",
       " 'Safety',\n",
       " 'Salad',\n",
       " 'Salsas, Sauces & Dips',\n",
       " 'Sandwich Bread, Buns and Rolls',\n",
       " 'Scaffolding & Step Stools',\n",
       " 'Scarves & Head Wraps',\n",
       " 'School & Office Accessories',\n",
       " 'Scrapbooking & Paper Crafts',\n",
       " 'Sculptures, Globes, & Figurines',\n",
       " 'Seasonal',\n",
       " 'Seasonings & Sauces',\n",
       " 'Serveware',\n",
       " 'Sewing',\n",
       " 'Sexual Health',\n",
       " 'Shaving & Hair Removal',\n",
       " 'Sheets And Pillowcases',\n",
       " 'Shoe Accessories & Care',\n",
       " 'Shower',\n",
       " 'Shrimp & Shellfish',\n",
       " 'Silverware & Flatware',\n",
       " 'Single Cans and Bottles',\n",
       " 'Single Serve Beverages',\n",
       " 'Single Serve Candy',\n",
       " 'Single Serve Snacks',\n",
       " 'Sleep Aids',\n",
       " 'Small Appliances',\n",
       " 'Small Pet',\n",
       " 'Smoking Cessation',\n",
       " 'Snacks',\n",
       " 'Socks',\n",
       " 'Socks & Hosiery',\n",
       " 'Soda & Pop',\n",
       " 'Soother & Sound Machines',\n",
       " 'Sour Cream & Dips',\n",
       " 'Specialty Breads and Rolls',\n",
       " 'Specialty Butters and Spreads',\n",
       " 'Specialty Cheeses',\n",
       " 'Specialty Meat',\n",
       " 'Spices & Baking',\n",
       " 'Spices & Seasonings',\n",
       " 'Sports & Outdoors',\n",
       " 'Sports Drinks',\n",
       " 'Spreads, Jelly & Honey',\n",
       " 'St Patricks Day',\n",
       " 'Stationery & Paper',\n",
       " 'Storage & Organization',\n",
       " 'Storage Solutions',\n",
       " 'Stroller',\n",
       " 'Sun & Tanning',\n",
       " 'Sunglasses & Eyeglasses',\n",
       " 'Swaddle',\n",
       " 'Swaddle & Wearable Blankets',\n",
       " 'Sweet Goods & Snacks',\n",
       " 'Swimsuits & Swimwear',\n",
       " 'TVs & Home Theater',\n",
       " 'Table Linens',\n",
       " 'Tableware',\n",
       " 'Tape, Adhesives & Fasteners',\n",
       " 'Tea & Kombucha',\n",
       " 'Teacher Supplies, Classroom Furniture & Décor',\n",
       " 'Team Sports',\n",
       " 'Thanksgiving',\n",
       " 'Thermal & Water Bottles',\n",
       " 'Throw Pillows & Blankets',\n",
       " 'Ties & Suit Accessories',\n",
       " 'Toddler & Kids Bedding',\n",
       " 'Toddler Shoes',\n",
       " 'Toddler Toys',\n",
       " 'Tofu/Soy Products',\n",
       " 'Tool Storage',\n",
       " 'Tools & Accessories',\n",
       " 'Tops',\n",
       " 'Tortillas, Taco Shells & Tostadas',\n",
       " 'Trash And Recycling',\n",
       " 'Trash Bags',\n",
       " 'Travel',\n",
       " 'Travel, Luggage, Backpacks, & Sports Bags',\n",
       " 'Turkey',\n",
       " 'Umbrellas',\n",
       " 'Undershirts & Underwear',\n",
       " 'Unisex & Gender-Neutral',\n",
       " 'Vacuums',\n",
       " 'Vacuums & Floor Care',\n",
       " 'Valentines',\n",
       " 'Video & Computer Gaming',\n",
       " 'Vitamins & Supplements',\n",
       " 'Wall Art',\n",
       " 'Wall Décor',\n",
       " 'Wallets & Purses',\n",
       " 'Watches',\n",
       " 'Water',\n",
       " 'Water And Filters',\n",
       " 'Water Filtration',\n",
       " 'Water Sports',\n",
       " 'Wet Cat Food',\n",
       " 'Wet Dog Food',\n",
       " 'White Wine',\n",
       " 'Window Treatments',\n",
       " 'Wine And Bar Essentials',\n",
       " \"Women's Shoes\",\n",
       " 'Workout Clothes & Activewear',\n",
       " 'Writing Supplies & Accessories',\n",
       " 'Yarn, Knitting & Crochet',\n",
       " 'Yogurt']"
      ]
     },
     "execution_count": 7,
     "metadata": {},
     "output_type": "execute_result"
    }
   ],
   "source": [
    "# List Unique CFIC COM names\n",
    "sorted(items.ITM_CFIC_FYT_COM_NAM.dropna().unique().tolist())"
   ]
  },
  {
   "cell_type": "code",
   "execution_count": 0,
   "metadata": {
    "application/vnd.databricks.v1+cell": {
     "cellMetadata": {
      "byteLimit": 2048000,
      "rowLimit": 10000
     },
     "inputWidgets": {},
     "nuid": "4fc79207-4fb8-46a7-af9f-9e04103cc012",
     "showTitle": false,
     "title": ""
    }
   },
   "outputs": [],
   "source": [
    "#SUBSET TO COMMODITY OF INTEREST\n",
    "dpt_name = 'Floral'\n",
    "items_dpt = items[items.ITM_CFIC_FYT_DPT_NAM == dpt_name]"
   ]
  },
  {
   "cell_type": "markdown",
   "metadata": {
    "application/vnd.databricks.v1+cell": {
     "cellMetadata": {
      "byteLimit": 2048000,
      "rowLimit": 10000
     },
     "inputWidgets": {},
     "nuid": "ccdf0305-6387-4bab-aac0-eb49e122cb02",
     "showTitle": false,
     "title": ""
    }
   },
   "source": [
    "# Provide one-shot examples\n",
    "oneshot_dsc = 'Almay 503 Black Brown Multi-Benefit Mascara'\n",
    "oneshot_output = \"{'Color': 'Black;Brown', 'Confidence': 100}\""
   ]
  },
  {
   "cell_type": "code",
   "execution_count": 0,
   "metadata": {
    "application/vnd.databricks.v1+cell": {
     "cellMetadata": {
      "byteLimit": 2048000,
      "rowLimit": 10000
     },
     "inputWidgets": {},
     "nuid": "560b0624-c1d5-4515-8547-adf95283776c",
     "showTitle": false,
     "title": ""
    }
   },
   "outputs": [],
   "source": [
    "#Note: The openai-python library support for Azure OpenAI is in preview.\n",
    "      #Note: This code sample requires OpenAI Python library version 0.28.1 or lower.\n",
    "import os\n",
    "import openai\n",
    "import time\n",
    "\n",
    "from tenacity import (\n",
    "    retry,\n",
    "    stop_after_attempt,\n",
    "    wait_random_exponential,\n",
    ")  # for exponential backoff\n",
    "\n",
    "#@retry(wait=wait_random_exponential(min=1, max=60), stop=stop_after_attempt(6))\n",
    "def extract_attribute(input, attribute = 'color',cat = dpt_name, time_delay = 0.08):\n",
    "  openai.api_type = \"azure\"\n",
    "  openai.api_base = \"https://eastus2.api.cognitive.microsoft.com/\"\n",
    "  openai.api_version = \"2023-07-01-preview\"\n",
    "  openai.api_key = os.getenv(\"OPENAI_API_KEY\")\n",
    "  #openai.api_key_path = <API-KEY>\n",
    "  \n",
    "  message_text = [{\"role\":\"system\",\"content\":\"What is the  \" + attribute + \" for this \" + cat +  \" item?: \" + input + \". Separate multiple \" + attribute + \" values with a / and provide the answer and the confidence percentage in a JSON-like format. If no value is detected, return 'OTHER' with a confidence of 100. If the description contains a very rare color, report the more common variant of that color. Example: If the input is 'Delphinium', return {'Color': 'BLUE', 'Confidence': 90}\"}]\n",
    "  time.sleep(time_delay)\n",
    "  completion = openai.ChatCompletion.create(\n",
    "    engine=\"gpt35modelfn\",\n",
    "    messages = message_text,\n",
    "    temperature=0.05,\n",
    "    max_tokens= 100,\n",
    "    top_p=0.95,\n",
    "    frequency_penalty=0,\n",
    "    presence_penalty=0,\n",
    "    stop=None\n",
    "  )\n",
    "  try:\n",
    "    print(f'completion:  {completion}')\n",
    "    return completion['choices'][0]['message']['content']\n",
    "  except:\n",
    "    return \"{\"+attribute+\":'OTHER',Confidence:100}\"\n",
    "  "
   ]
  },
  {
   "cell_type": "code",
   "execution_count": 0,
   "metadata": {
    "application/vnd.databricks.v1+cell": {
     "cellMetadata": {
      "byteLimit": 2048000,
      "rowLimit": 10000
     },
     "inputWidgets": {},
     "nuid": "4ddd222f-6e94-46f9-afcd-90f908922ce2",
     "showTitle": false,
     "title": ""
    }
   },
   "outputs": [
    {
     "output_type": "stream",
     "name": "stdout",
     "output_type": "stream",
     "text": [
      "completion:  {\n  \"id\": \"chatcmpl-8jwrkbyTCU14dI0NNV1pfH3Ci3KXi\",\n  \"object\": \"chat.completion\",\n  \"created\": 1705961732,\n  \"model\": \"gpt-35-turbo\",\n  \"prompt_filter_results\": [\n    {\n      \"prompt_index\": 0,\n      \"content_filter_results\": {\n        \"hate\": {\n          \"filtered\": false,\n          \"severity\": \"safe\"\n        },\n        \"self_harm\": {\n          \"filtered\": false,\n          \"severity\": \"safe\"\n        },\n        \"sexual\": {\n          \"filtered\": false,\n          \"severity\": \"safe\"\n        },\n        \"violence\": {\n          \"filtered\": false,\n          \"severity\": \"safe\"\n        }\n      }\n    }\n  ],\n  \"choices\": [\n    {\n      \"finish_reason\": \"stop\",\n      \"index\": 0,\n      \"message\": {\n        \"role\": \"assistant\",\n        \"content\": \"{'Color': 'YELLOW/ORANGE', 'Confidence': 90}\"\n      },\n      \"content_filter_results\": {\n        \"hate\": {\n          \"filtered\": false,\n          \"severity\": \"safe\"\n        },\n        \"self_harm\": {\n          \"filtered\": false,\n          \"severity\": \"safe\"\n        },\n        \"sexual\": {\n          \"filtered\": false,\n          \"severity\": \"safe\"\n        },\n        \"violence\": {\n          \"filtered\": false,\n          \"severity\": \"safe\"\n        }\n      }\n    }\n  ],\n  \"usage\": {\n    \"prompt_tokens\": 102,\n    \"completion_tokens\": 15,\n    \"total_tokens\": 117\n  }\n}\nInput: marigold \n Response: {'Color': 'YELLOW/ORANGE', 'Confidence': 90}\n"
     ]
    }
   ],
   "source": [
    "### Test output\n",
    "sample_input = 'marigold'\n",
    "sample_output = extract_attribute(sample_input)\n",
    "print('Input:',sample_input,'\\n','Response:' ,sample_output)"
   ]
  },
  {
   "cell_type": "code",
   "execution_count": 0,
   "metadata": {
    "application/vnd.databricks.v1+cell": {
     "cellMetadata": {
      "byteLimit": 2048000,
      "rowLimit": 10000
     },
     "inputWidgets": {},
     "nuid": "e3720bf5-8575-462b-bb00-75b50e0e165d",
     "showTitle": false,
     "title": ""
    }
   },
   "outputs": [
    {
     "output_type": "stream",
     "name": "stdout",
     "output_type": "stream",
     "text": [
      "completion:  {\n  \"id\": \"chatcmpl-8jx8itslqufPt5B5tDqXys76t9YLh\",\n  \"object\": \"chat.completion\",\n  \"created\": 1705962784,\n  \"model\": \"gpt-35-turbo\",\n  \"prompt_filter_results\": [\n    {\n      \"prompt_index\": 0,\n      \"content_filter_results\": {\n        \"hate\": {\n          \"filtered\": false,\n          \"severity\": \"safe\"\n        },\n        \"self_harm\": {\n          \"filtered\": false,\n          \"severity\": \"safe\"\n        },\n        \"sexual\": {\n          \"filtered\": false,\n          \"severity\": \"safe\"\n        },\n        \"violence\": {\n          \"filtered\": false,\n          \"severity\": \"safe\"\n        }\n      }\n    }\n  ],\n  \"choices\": [\n    {\n      \"finish_reason\": \"stop\",\n      \"index\": 0,\n      \"message\": {\n        \"role\": \"assistant\",\n        \"content\": \"{'Color': 'OTHER', 'Confidence': 100}\"\n      },\n      \"content_filter_results\": {\n        \"hate\": {\n          \"filtered\": false,\n          \"severity\": \"safe\"\n        },\n        \"self_harm\": {\n          \"filtered\": false,\n          \"severity\": \"safe\"\n        },\n        \"sexual\": {\n          \"filtered\": false,\n          \"severity\": \"safe\"\n        },\n        \"violence\": {\n          \"filtered\": false,\n          \"severity\": \"safe\"\n        }\n      }\n    }\n  ],\n  \"usage\": {\n    \"prompt_tokens\": 100,\n    \"completion_tokens\": 13,\n    \"total_tokens\": 113\n  }\n}\nInput: bleach \n Response: {'Color': 'OTHER', 'Confidence': 100}\n"
     ]
    }
   ],
   "source": [
    "\n",
    "sample_input = 'bleach'\n",
    "sample_output = extract_attribute(sample_input)\n",
    "print('Input:',sample_input,'\\n','Response:' ,sample_output)"
   ]
  },
  {
   "cell_type": "code",
   "execution_count": 0,
   "metadata": {
    "application/vnd.databricks.v1+cell": {
     "cellMetadata": {
      "byteLimit": 2048000,
      "rowLimit": 10000
     },
     "inputWidgets": {},
     "nuid": "73719ce5-b828-4538-9fb7-d4695ca153b8",
     "showTitle": false,
     "title": ""
    }
   },
   "outputs": [
    {
     "output_type": "execute_result",
     "data": {
      "text/plain": [
       "(8091, 60)"
      ]
     },
     "execution_count": 11,
     "metadata": {},
     "output_type": "execute_result"
    }
   ],
   "source": [
    "items_dpt.shape"
   ]
  },
  {
   "cell_type": "code",
   "execution_count": 0,
   "metadata": {
    "application/vnd.databricks.v1+cell": {
     "cellMetadata": {
      "byteLimit": 2048000,
      "rowLimit": 10000
     },
     "inputWidgets": {},
     "nuid": "5b046673-04d2-4302-87cb-68fed7adf597",
     "showTitle": false,
     "title": ""
    }
   },
   "outputs": [
    {
     "output_type": "display_data",
     "data": {
      "text/html": [
       "<style scoped>\n",
       "  .ansiout {\n",
       "    display: block;\n",
       "    unicode-bidi: embed;\n",
       "    white-space: pre-wrap;\n",
       "    word-wrap: break-word;\n",
       "    word-break: break-all;\n",
       "    font-family: \"Menlo\", \"Monaco\", \"Consolas\", \"Ubuntu Mono\", \"Source Code Pro\", monospace;\n",
       "    font-size: 13px;\n",
       "    color: #555;\n",
       "    margin-left: 4px;\n",
       "    line-height: 19px;\n",
       "  }\n",
       "</style>"
      ]
     },
     "metadata": {
      "application/vnd.databricks.v1+output": {
       "arguments": {},
       "data": "",
       "errorSummary": "Cancelled",
       "errorTraceType": "html",
       "metadata": {},
       "type": "ipynbError"
      }
     },
     "output_type": "display_data"
    }
   ],
   "source": [
    "### Write outputs to file\n",
    "batch_size = 1000\n",
    "n_chunks = int(np.ceil(len(items_dpt)/batch_size))\n",
    "batch = range(1, n_chunks + 1)\n",
    "for batch_id in batch:\n",
    "    item_samp = items_dpt[['GTIN_NO','VND_ECOM_DSC','ITM_LVL_DSC']][1000*(batch_id -1):1000*batch_id]\n",
    "    item_samp['OpenAI_Output'] = item_samp.VND_ECOM_DSC.fillna('None').apply(lambda x: extract_attribute(x))\n",
    "    item_samp['OpenAI_Output'] = item_samp.OpenAI_Output.apply(lambda x: ast.literal_eval(x))\n",
    "    item_samp['Color'] = item_samp.OpenAI_Output.apply(lambda x: x['Color'].upper() if x != None else 'OTHER')\n",
    "    item_samp['Confidence'] = item_samp.OpenAI_Output.apply(lambda x: x['Confidence'] if x != None else 0)\n",
    "    item_samp[['GTIN_NO','VND_ECOM_DSC','Color','Confidence']].to_csv('/dbfs/FileStore/tables/DATA_SCIENCE/OpenAI/Shiladitya/Color_' + dpt_name.replace(' ','_') +'SingleValue_'+ str(batch_id)+'.csv', index = None)"
   ]
  },
  {
   "cell_type": "code",
   "execution_count": 0,
   "metadata": {
    "application/vnd.databricks.v1+cell": {
     "cellMetadata": {
      "byteLimit": 2048000,
      "rowLimit": 10000
     },
     "inputWidgets": {},
     "nuid": "c40aa04c-ab65-46de-8fd6-f3b03941a933",
     "showTitle": false,
     "title": ""
    }
   },
   "outputs": [],
   "source": [
    "#Test\n",
    "batch_id = 9\n",
    "item_samp = items_dpt[['GTIN_NO','VND_ECOM_DSC','ITM_LVL_DSC']][1000*(batch_id -1):1000*batch_id]\n",
    "item_samp['OpenAI_Output'] = item_samp.VND_ECOM_DSC.fillna('None').apply(lambda x: extract_attribute(x))\n",
    "item_samp['OpenAI_Output'] = item_samp.OpenAI_Output.apply(lambda x: ast.literal_eval(x))\n",
    "item_samp['Color'] = item_samp.OpenAI_Output.apply(lambda x: x['Color'].upper() if x != None else 'OTHER')\n",
    "item_samp['Confidence'] = item_samp.OpenAI_Output.apply(lambda x: x['Confidence'] if x != None else 0)\n",
    "item_samp[['GTIN_NO','VND_ECOM_DSC','Color','Confidence']].to_csv('/dbfs/FileStore/tables/DATA_SCIENCE/OpenAI/Shiladitya/Color_' + dpt_name.replace(' ','_') +'SingleValue_'+ str(batch_id)+'.csv', index = None)"
   ]
  },
  {
   "cell_type": "code",
   "execution_count": 0,
   "metadata": {
    "application/vnd.databricks.v1+cell": {
     "cellMetadata": {
      "byteLimit": 2048000,
      "rowLimit": 10000
     },
     "inputWidgets": {},
     "nuid": "a607f1df-e1f7-4cb9-8825-25c35d68fe05",
     "showTitle": false,
     "title": ""
    }
   },
   "outputs": [],
   "source": [
    "out1 = pd.read_csv('/dbfs/FileStore/tables/DATA_SCIENCE/OpenAI/Shiladitya/Color_FloralSingleValue_1.csv')\n",
    "out2 = pd.read_csv('/dbfs/FileStore/tables/DATA_SCIENCE/OpenAI/Shiladitya/Color_FloralSingleValue_2.csv')\n",
    "out3 = pd.read_csv('/dbfs/FileStore/tables/DATA_SCIENCE/OpenAI/Shiladitya/Color_FloralSingleValue_3.csv')\n",
    "out4 = pd.read_csv('/dbfs/FileStore/tables/DATA_SCIENCE/OpenAI/Shiladitya/Color_FloralSingleValue_4.csv')\n",
    "out5 = pd.read_csv('/dbfs/FileStore/tables/DATA_SCIENCE/OpenAI/Shiladitya/Color_FloralSingleValue_5.csv')\n",
    "out6 = pd.read_csv('/dbfs/FileStore/tables/DATA_SCIENCE/OpenAI/Shiladitya/Color_FloralSingleValue_6.csv')\n",
    "out7 = pd.read_csv('/dbfs/FileStore/tables/DATA_SCIENCE/OpenAI/Shiladitya/Color_FloralSingleValue_7.csv')\n",
    "out8 = pd.read_csv('/dbfs/FileStore/tables/DATA_SCIENCE/OpenAI/Shiladitya/Color_FloralSingleValue_8.csv')\n",
    "out9 = pd.read_csv('/dbfs/FileStore/tables/DATA_SCIENCE/OpenAI/Shiladitya/Color_FloralSingleValue_9.csv')"
   ]
  },
  {
   "cell_type": "code",
   "execution_count": 0,
   "metadata": {
    "application/vnd.databricks.v1+cell": {
     "cellMetadata": {
      "byteLimit": 2048000,
      "rowLimit": 10000
     },
     "inputWidgets": {},
     "nuid": "a65c15d2-884d-445e-9926-09007b48545a",
     "showTitle": false,
     "title": ""
    }
   },
   "outputs": [],
   "source": [
    "pd.concat([out1, out2, out3, out4,out5,out6,out7,out8,out9]).to_csv('Color_Floral_111724.csv',index = None)"
   ]
  }
 ],
 "metadata": {
  "application/vnd.databricks.v1+notebook": {
   "dashboards": [],
   "language": "python",
   "notebookMetadata": {
    "pythonIndentUnit": 4
   },
   "notebookName": "Flavor Extraction OpenAI",
   "widgets": {}
  }
 },
 "nbformat": 4,
 "nbformat_minor": 0
}
