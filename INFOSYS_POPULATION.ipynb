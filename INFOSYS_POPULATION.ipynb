{
 "cells": [
  {
   "cell_type": "markdown",
   "id": "2f13ea09",
   "metadata": {},
   "source": [
    "# INFOSYS_POPULATION"
   ]
  },
  {
   "cell_type": "code",
   "execution_count": 1,
   "id": "32c60a00",
   "metadata": {},
   "outputs": [],
   "source": [
    "import pandas as pd\n",
    "import numpy as np\n",
    "from pandas import ExcelWriter\n",
    "import matplotlib.pyplot as plt"
   ]
  },
  {
   "cell_type": "code",
   "execution_count": 5,
   "id": "c7eae285",
   "metadata": {},
   "outputs": [
    {
     "data": {
      "text/html": [
       "<div>\n",
       "<style scoped>\n",
       "    .dataframe tbody tr th:only-of-type {\n",
       "        vertical-align: middle;\n",
       "    }\n",
       "\n",
       "    .dataframe tbody tr th {\n",
       "        vertical-align: top;\n",
       "    }\n",
       "\n",
       "    .dataframe thead th {\n",
       "        text-align: right;\n",
       "    }\n",
       "</style>\n",
       "<table border=\"1\" class=\"dataframe\">\n",
       "  <thead>\n",
       "    <tr style=\"text-align: right;\">\n",
       "      <th></th>\n",
       "      <th>Org_Struc_Desc</th>\n",
       "      <th>NAICS_Cd</th>\n",
       "      <th>NAICS_Desc</th>\n",
       "      <th>Revw_Id</th>\n",
       "      <th>Revw_Month</th>\n",
       "      <th>Revw_Quarter</th>\n",
       "      <th>Decision</th>\n",
       "      <th>Scored_Flag</th>\n",
       "      <th>Elan_Flag</th>\n",
       "      <th>CLI_or_New_Prod_Flag</th>\n",
       "      <th>...</th>\n",
       "      <th>Purchasing_Card</th>\n",
       "      <th>One_Card</th>\n",
       "      <th>Other_NonBankCard</th>\n",
       "      <th>Scored_Rec_Decision</th>\n",
       "      <th>SBFE_Score</th>\n",
       "      <th>CC_Score</th>\n",
       "      <th>Financial_Template_Found_Flag</th>\n",
       "      <th>Existing_Limit</th>\n",
       "      <th>Request_Amount</th>\n",
       "      <th>Final_Limit</th>\n",
       "    </tr>\n",
       "  </thead>\n",
       "  <tbody>\n",
       "    <tr>\n",
       "      <th>0</th>\n",
       "      <td>Corporation</td>\n",
       "      <td>238160</td>\n",
       "      <td>Roofing Contractors</td>\n",
       "      <td>117882</td>\n",
       "      <td>2019/01</td>\n",
       "      <td>2019/1</td>\n",
       "      <td>Approved</td>\n",
       "      <td>NaN</td>\n",
       "      <td>NaN</td>\n",
       "      <td>Y</td>\n",
       "      <td>...</td>\n",
       "      <td>0</td>\n",
       "      <td>1</td>\n",
       "      <td>0</td>\n",
       "      <td>NaN</td>\n",
       "      <td>NaN</td>\n",
       "      <td>NaN</td>\n",
       "      <td>Y</td>\n",
       "      <td>85000</td>\n",
       "      <td>55000</td>\n",
       "      <td>140000</td>\n",
       "    </tr>\n",
       "    <tr>\n",
       "      <th>1</th>\n",
       "      <td>Partnership</td>\n",
       "      <td>621210</td>\n",
       "      <td>Offices of Dentists</td>\n",
       "      <td>118031</td>\n",
       "      <td>2019/01</td>\n",
       "      <td>2019/1</td>\n",
       "      <td>Declined</td>\n",
       "      <td>NaN</td>\n",
       "      <td>NaN</td>\n",
       "      <td>Y</td>\n",
       "      <td>...</td>\n",
       "      <td>0</td>\n",
       "      <td>1</td>\n",
       "      <td>0</td>\n",
       "      <td>NaN</td>\n",
       "      <td>NaN</td>\n",
       "      <td>523.0</td>\n",
       "      <td>Y</td>\n",
       "      <td>50000</td>\n",
       "      <td>50000</td>\n",
       "      <td>50000</td>\n",
       "    </tr>\n",
       "    <tr>\n",
       "      <th>2</th>\n",
       "      <td>Non-Profit</td>\n",
       "      <td>813319</td>\n",
       "      <td>Other Social Advocacy Organizations</td>\n",
       "      <td>119338</td>\n",
       "      <td>2019/02</td>\n",
       "      <td>2019/1</td>\n",
       "      <td>Approved</td>\n",
       "      <td>NaN</td>\n",
       "      <td>NaN</td>\n",
       "      <td>NaN</td>\n",
       "      <td>...</td>\n",
       "      <td>0</td>\n",
       "      <td>1</td>\n",
       "      <td>0</td>\n",
       "      <td>NaN</td>\n",
       "      <td>NaN</td>\n",
       "      <td>560.0</td>\n",
       "      <td>Y</td>\n",
       "      <td>0</td>\n",
       "      <td>500000</td>\n",
       "      <td>500000</td>\n",
       "    </tr>\n",
       "    <tr>\n",
       "      <th>3</th>\n",
       "      <td>Non-Profit</td>\n",
       "      <td>624190</td>\n",
       "      <td>Other Individual and Family Services</td>\n",
       "      <td>119351</td>\n",
       "      <td>2019/03</td>\n",
       "      <td>2019/1</td>\n",
       "      <td>Approved</td>\n",
       "      <td>NaN</td>\n",
       "      <td>Y</td>\n",
       "      <td>Y</td>\n",
       "      <td>...</td>\n",
       "      <td>0</td>\n",
       "      <td>1</td>\n",
       "      <td>0</td>\n",
       "      <td>NaN</td>\n",
       "      <td>853.0</td>\n",
       "      <td>581.0</td>\n",
       "      <td>Y</td>\n",
       "      <td>45000</td>\n",
       "      <td>105000</td>\n",
       "      <td>150000</td>\n",
       "    </tr>\n",
       "    <tr>\n",
       "      <th>4</th>\n",
       "      <td>Non-Profit</td>\n",
       "      <td>813930</td>\n",
       "      <td>Labor Unions and Similar Labor Organizations</td>\n",
       "      <td>119531</td>\n",
       "      <td>2019/01</td>\n",
       "      <td>2019/1</td>\n",
       "      <td>Approved</td>\n",
       "      <td>NaN</td>\n",
       "      <td>NaN</td>\n",
       "      <td>NaN</td>\n",
       "      <td>...</td>\n",
       "      <td>0</td>\n",
       "      <td>1</td>\n",
       "      <td>0</td>\n",
       "      <td>NaN</td>\n",
       "      <td>NaN</td>\n",
       "      <td>NaN</td>\n",
       "      <td>NaN</td>\n",
       "      <td>0</td>\n",
       "      <td>200000</td>\n",
       "      <td>200000</td>\n",
       "    </tr>\n",
       "  </tbody>\n",
       "</table>\n",
       "<p>5 rows × 22 columns</p>\n",
       "</div>"
      ],
      "text/plain": [
       "  Org_Struc_Desc  NAICS_Cd                                    NAICS_Desc  \\\n",
       "0    Corporation    238160                           Roofing Contractors   \n",
       "1    Partnership    621210                           Offices of Dentists   \n",
       "2     Non-Profit    813319           Other Social Advocacy Organizations   \n",
       "3     Non-Profit    624190          Other Individual and Family Services   \n",
       "4     Non-Profit    813930  Labor Unions and Similar Labor Organizations   \n",
       "\n",
       "   Revw_Id Revw_Month Revw_Quarter  Decision Scored_Flag Elan_Flag  \\\n",
       "0   117882    2019/01       2019/1  Approved         NaN       NaN   \n",
       "1   118031    2019/01       2019/1  Declined         NaN       NaN   \n",
       "2   119338    2019/02       2019/1  Approved         NaN       NaN   \n",
       "3   119351    2019/03       2019/1  Approved         NaN         Y   \n",
       "4   119531    2019/01       2019/1  Approved         NaN       NaN   \n",
       "\n",
       "  CLI_or_New_Prod_Flag  ... Purchasing_Card  One_Card  Other_NonBankCard  \\\n",
       "0                    Y  ...               0         1                  0   \n",
       "1                    Y  ...               0         1                  0   \n",
       "2                  NaN  ...               0         1                  0   \n",
       "3                    Y  ...               0         1                  0   \n",
       "4                  NaN  ...               0         1                  0   \n",
       "\n",
       "   Scored_Rec_Decision  SBFE_Score CC_Score  Financial_Template_Found_Flag  \\\n",
       "0                  NaN         NaN      NaN                              Y   \n",
       "1                  NaN         NaN    523.0                              Y   \n",
       "2                  NaN         NaN    560.0                              Y   \n",
       "3                  NaN       853.0    581.0                              Y   \n",
       "4                  NaN         NaN      NaN                            NaN   \n",
       "\n",
       "   Existing_Limit Request_Amount  Final_Limit  \n",
       "0           85000          55000       140000  \n",
       "1           50000          50000        50000  \n",
       "2               0         500000       500000  \n",
       "3           45000         105000       150000  \n",
       "4               0         200000       200000  \n",
       "\n",
       "[5 rows x 22 columns]"
      ]
     },
     "execution_count": 5,
     "metadata": {},
     "output_type": "execute_result"
    }
   ],
   "source": [
    "path = 'C:\\\\Users\\\\sophia.yue\\\\Infosys\\\\Sandeep Project\\\\'\n",
    "df = pd.read_excel(path + \"INFOSYS_POPULATION.xlsx\", sheet_name = 'INFOSYS_POPULATION', engine = 'openpyxl' )\n",
    "df.head()"
   ]
  },
  {
   "cell_type": "code",
   "execution_count": 16,
   "id": "c7f93a13",
   "metadata": {},
   "outputs": [
    {
     "data": {
      "text/plain": [
       "Index(['Org_Struc_Desc', 'NAICS_Cd', 'NAICS_Desc', 'Revw_Id', 'Revw_Month',\n",
       "       'Revw_Quarter', 'Decision', 'Scored_Flag', 'Elan_Flag',\n",
       "       'CLI_or_New_Prod_Flag', 'Channel', 'Corporate_Card', 'Purchasing_Card',\n",
       "       'One_Card', 'Other_NonBankCard', 'Scored_Rec_Decision', 'SBFE_Score',\n",
       "       'CC_Score', 'Financial_Template_Found_Flag', 'Existing_Limit',\n",
       "       'Request_Amount', 'Final_Limit'],\n",
       "      dtype='object')"
      ]
     },
     "execution_count": 16,
     "metadata": {},
     "output_type": "execute_result"
    }
   ],
   "source": [
    "df.columns"
   ]
  },
  {
   "cell_type": "code",
   "execution_count": 21,
   "id": "78b71a2a",
   "metadata": {},
   "outputs": [
    {
     "data": {
      "text/plain": [
       "Org_Struc_Desc                    object\n",
       "NAICS_Cd                           int64\n",
       "NAICS_Desc                        object\n",
       "Revw_Id                            int64\n",
       "Revw_Month                        object\n",
       "Revw_Quarter                      object\n",
       "Decision                          object\n",
       "Scored_Flag                       object\n",
       "Elan_Flag                         object\n",
       "CLI_or_New_Prod_Flag              object\n",
       "Channel                           object\n",
       "Corporate_Card                     int64\n",
       "Purchasing_Card                    int64\n",
       "One_Card                           int64\n",
       "Other_NonBankCard                  int64\n",
       "Scored_Rec_Decision               object\n",
       "SBFE_Score                       float64\n",
       "CC_Score                         float64\n",
       "Financial_Template_Found_Flag     object\n",
       "Existing_Limit                     int64\n",
       "Request_Amount                     int64\n",
       "Final_Limit                        int64\n",
       "dtype: object"
      ]
     },
     "execution_count": 21,
     "metadata": {},
     "output_type": "execute_result"
    }
   ],
   "source": [
    "df.dtypes"
   ]
  },
  {
   "cell_type": "code",
   "execution_count": 15,
   "id": "483fdb60",
   "metadata": {},
   "outputs": [
    {
     "data": {
      "text/html": [
       "<div>\n",
       "<style scoped>\n",
       "    .dataframe tbody tr th:only-of-type {\n",
       "        vertical-align: middle;\n",
       "    }\n",
       "\n",
       "    .dataframe tbody tr th {\n",
       "        vertical-align: top;\n",
       "    }\n",
       "\n",
       "    .dataframe thead th {\n",
       "        text-align: right;\n",
       "    }\n",
       "</style>\n",
       "<table border=\"1\" class=\"dataframe\">\n",
       "  <thead>\n",
       "    <tr style=\"text-align: right;\">\n",
       "      <th></th>\n",
       "      <th>0</th>\n",
       "      <th>1</th>\n",
       "      <th>2</th>\n",
       "      <th>3</th>\n",
       "      <th>4</th>\n",
       "    </tr>\n",
       "  </thead>\n",
       "  <tbody>\n",
       "    <tr>\n",
       "      <th>Org_Struc_Desc</th>\n",
       "      <td>Corporation</td>\n",
       "      <td>Partnership</td>\n",
       "      <td>Non-Profit</td>\n",
       "      <td>Non-Profit</td>\n",
       "      <td>Non-Profit</td>\n",
       "    </tr>\n",
       "    <tr>\n",
       "      <th>NAICS_Cd</th>\n",
       "      <td>238160</td>\n",
       "      <td>621210</td>\n",
       "      <td>813319</td>\n",
       "      <td>624190</td>\n",
       "      <td>813930</td>\n",
       "    </tr>\n",
       "    <tr>\n",
       "      <th>NAICS_Desc</th>\n",
       "      <td>Roofing Contractors</td>\n",
       "      <td>Offices of Dentists</td>\n",
       "      <td>Other Social Advocacy Organizations</td>\n",
       "      <td>Other Individual and Family Services</td>\n",
       "      <td>Labor Unions and Similar Labor Organizations</td>\n",
       "    </tr>\n",
       "    <tr>\n",
       "      <th>Revw_Id</th>\n",
       "      <td>117882</td>\n",
       "      <td>118031</td>\n",
       "      <td>119338</td>\n",
       "      <td>119351</td>\n",
       "      <td>119531</td>\n",
       "    </tr>\n",
       "    <tr>\n",
       "      <th>Revw_Month</th>\n",
       "      <td>2019/01</td>\n",
       "      <td>2019/01</td>\n",
       "      <td>2019/02</td>\n",
       "      <td>2019/03</td>\n",
       "      <td>2019/01</td>\n",
       "    </tr>\n",
       "    <tr>\n",
       "      <th>Revw_Quarter</th>\n",
       "      <td>2019/1</td>\n",
       "      <td>2019/1</td>\n",
       "      <td>2019/1</td>\n",
       "      <td>2019/1</td>\n",
       "      <td>2019/1</td>\n",
       "    </tr>\n",
       "    <tr>\n",
       "      <th>Decision</th>\n",
       "      <td>Approved</td>\n",
       "      <td>Declined</td>\n",
       "      <td>Approved</td>\n",
       "      <td>Approved</td>\n",
       "      <td>Approved</td>\n",
       "    </tr>\n",
       "    <tr>\n",
       "      <th>Scored_Flag</th>\n",
       "      <td>NaN</td>\n",
       "      <td>NaN</td>\n",
       "      <td>NaN</td>\n",
       "      <td>NaN</td>\n",
       "      <td>NaN</td>\n",
       "    </tr>\n",
       "    <tr>\n",
       "      <th>Elan_Flag</th>\n",
       "      <td>NaN</td>\n",
       "      <td>NaN</td>\n",
       "      <td>NaN</td>\n",
       "      <td>Y</td>\n",
       "      <td>NaN</td>\n",
       "    </tr>\n",
       "    <tr>\n",
       "      <th>CLI_or_New_Prod_Flag</th>\n",
       "      <td>Y</td>\n",
       "      <td>Y</td>\n",
       "      <td>NaN</td>\n",
       "      <td>Y</td>\n",
       "      <td>NaN</td>\n",
       "    </tr>\n",
       "    <tr>\n",
       "      <th>Channel</th>\n",
       "      <td>Commercial Banking</td>\n",
       "      <td>Commercial Banking</td>\n",
       "      <td>Community Banking</td>\n",
       "      <td>Indirect</td>\n",
       "      <td>Community Banking</td>\n",
       "    </tr>\n",
       "    <tr>\n",
       "      <th>Corporate_Card</th>\n",
       "      <td>0</td>\n",
       "      <td>0</td>\n",
       "      <td>0</td>\n",
       "      <td>0</td>\n",
       "      <td>0</td>\n",
       "    </tr>\n",
       "    <tr>\n",
       "      <th>Purchasing_Card</th>\n",
       "      <td>0</td>\n",
       "      <td>0</td>\n",
       "      <td>0</td>\n",
       "      <td>0</td>\n",
       "      <td>0</td>\n",
       "    </tr>\n",
       "    <tr>\n",
       "      <th>One_Card</th>\n",
       "      <td>1</td>\n",
       "      <td>1</td>\n",
       "      <td>1</td>\n",
       "      <td>1</td>\n",
       "      <td>1</td>\n",
       "    </tr>\n",
       "    <tr>\n",
       "      <th>Other_NonBankCard</th>\n",
       "      <td>0</td>\n",
       "      <td>0</td>\n",
       "      <td>0</td>\n",
       "      <td>0</td>\n",
       "      <td>0</td>\n",
       "    </tr>\n",
       "    <tr>\n",
       "      <th>Scored_Rec_Decision</th>\n",
       "      <td>NaN</td>\n",
       "      <td>NaN</td>\n",
       "      <td>NaN</td>\n",
       "      <td>NaN</td>\n",
       "      <td>NaN</td>\n",
       "    </tr>\n",
       "    <tr>\n",
       "      <th>SBFE_Score</th>\n",
       "      <td>NaN</td>\n",
       "      <td>NaN</td>\n",
       "      <td>NaN</td>\n",
       "      <td>853.0</td>\n",
       "      <td>NaN</td>\n",
       "    </tr>\n",
       "    <tr>\n",
       "      <th>CC_Score</th>\n",
       "      <td>NaN</td>\n",
       "      <td>523.0</td>\n",
       "      <td>560.0</td>\n",
       "      <td>581.0</td>\n",
       "      <td>NaN</td>\n",
       "    </tr>\n",
       "    <tr>\n",
       "      <th>Financial_Template_Found_Flag</th>\n",
       "      <td>Y</td>\n",
       "      <td>Y</td>\n",
       "      <td>Y</td>\n",
       "      <td>Y</td>\n",
       "      <td>NaN</td>\n",
       "    </tr>\n",
       "    <tr>\n",
       "      <th>Existing_Limit</th>\n",
       "      <td>85000</td>\n",
       "      <td>50000</td>\n",
       "      <td>0</td>\n",
       "      <td>45000</td>\n",
       "      <td>0</td>\n",
       "    </tr>\n",
       "    <tr>\n",
       "      <th>Request_Amount</th>\n",
       "      <td>55000</td>\n",
       "      <td>50000</td>\n",
       "      <td>500000</td>\n",
       "      <td>105000</td>\n",
       "      <td>200000</td>\n",
       "    </tr>\n",
       "    <tr>\n",
       "      <th>Final_Limit</th>\n",
       "      <td>140000</td>\n",
       "      <td>50000</td>\n",
       "      <td>500000</td>\n",
       "      <td>150000</td>\n",
       "      <td>200000</td>\n",
       "    </tr>\n",
       "  </tbody>\n",
       "</table>\n",
       "</div>"
      ],
      "text/plain": [
       "                                                 0                    1  \\\n",
       "Org_Struc_Desc                         Corporation          Partnership   \n",
       "NAICS_Cd                                    238160               621210   \n",
       "NAICS_Desc                     Roofing Contractors  Offices of Dentists   \n",
       "Revw_Id                                     117882               118031   \n",
       "Revw_Month                                 2019/01              2019/01   \n",
       "Revw_Quarter                                2019/1               2019/1   \n",
       "Decision                                  Approved             Declined   \n",
       "Scored_Flag                                    NaN                  NaN   \n",
       "Elan_Flag                                      NaN                  NaN   \n",
       "CLI_or_New_Prod_Flag                             Y                    Y   \n",
       "Channel                         Commercial Banking   Commercial Banking   \n",
       "Corporate_Card                                   0                    0   \n",
       "Purchasing_Card                                  0                    0   \n",
       "One_Card                                         1                    1   \n",
       "Other_NonBankCard                                0                    0   \n",
       "Scored_Rec_Decision                            NaN                  NaN   \n",
       "SBFE_Score                                     NaN                  NaN   \n",
       "CC_Score                                       NaN                523.0   \n",
       "Financial_Template_Found_Flag                    Y                    Y   \n",
       "Existing_Limit                               85000                50000   \n",
       "Request_Amount                               55000                50000   \n",
       "Final_Limit                                 140000                50000   \n",
       "\n",
       "                                                                 2  \\\n",
       "Org_Struc_Desc                                          Non-Profit   \n",
       "NAICS_Cd                                                    813319   \n",
       "NAICS_Desc                     Other Social Advocacy Organizations   \n",
       "Revw_Id                                                     119338   \n",
       "Revw_Month                                                 2019/02   \n",
       "Revw_Quarter                                                2019/1   \n",
       "Decision                                                  Approved   \n",
       "Scored_Flag                                                    NaN   \n",
       "Elan_Flag                                                      NaN   \n",
       "CLI_or_New_Prod_Flag                                           NaN   \n",
       "Channel                                          Community Banking   \n",
       "Corporate_Card                                                   0   \n",
       "Purchasing_Card                                                  0   \n",
       "One_Card                                                         1   \n",
       "Other_NonBankCard                                                0   \n",
       "Scored_Rec_Decision                                            NaN   \n",
       "SBFE_Score                                                     NaN   \n",
       "CC_Score                                                     560.0   \n",
       "Financial_Template_Found_Flag                                    Y   \n",
       "Existing_Limit                                                   0   \n",
       "Request_Amount                                              500000   \n",
       "Final_Limit                                                 500000   \n",
       "\n",
       "                                                                  3  \\\n",
       "Org_Struc_Desc                                           Non-Profit   \n",
       "NAICS_Cd                                                     624190   \n",
       "NAICS_Desc                     Other Individual and Family Services   \n",
       "Revw_Id                                                      119351   \n",
       "Revw_Month                                                  2019/03   \n",
       "Revw_Quarter                                                 2019/1   \n",
       "Decision                                                   Approved   \n",
       "Scored_Flag                                                     NaN   \n",
       "Elan_Flag                                                         Y   \n",
       "CLI_or_New_Prod_Flag                                              Y   \n",
       "Channel                                                    Indirect   \n",
       "Corporate_Card                                                    0   \n",
       "Purchasing_Card                                                   0   \n",
       "One_Card                                                          1   \n",
       "Other_NonBankCard                                                 0   \n",
       "Scored_Rec_Decision                                             NaN   \n",
       "SBFE_Score                                                    853.0   \n",
       "CC_Score                                                      581.0   \n",
       "Financial_Template_Found_Flag                                     Y   \n",
       "Existing_Limit                                                45000   \n",
       "Request_Amount                                               105000   \n",
       "Final_Limit                                                  150000   \n",
       "\n",
       "                                                                          4  \n",
       "Org_Struc_Desc                                                   Non-Profit  \n",
       "NAICS_Cd                                                             813930  \n",
       "NAICS_Desc                     Labor Unions and Similar Labor Organizations  \n",
       "Revw_Id                                                              119531  \n",
       "Revw_Month                                                          2019/01  \n",
       "Revw_Quarter                                                         2019/1  \n",
       "Decision                                                           Approved  \n",
       "Scored_Flag                                                             NaN  \n",
       "Elan_Flag                                                               NaN  \n",
       "CLI_or_New_Prod_Flag                                                    NaN  \n",
       "Channel                                                   Community Banking  \n",
       "Corporate_Card                                                            0  \n",
       "Purchasing_Card                                                           0  \n",
       "One_Card                                                                  1  \n",
       "Other_NonBankCard                                                         0  \n",
       "Scored_Rec_Decision                                                     NaN  \n",
       "SBFE_Score                                                              NaN  \n",
       "CC_Score                                                                NaN  \n",
       "Financial_Template_Found_Flag                                           NaN  \n",
       "Existing_Limit                                                            0  \n",
       "Request_Amount                                                       200000  \n",
       "Final_Limit                                                          200000  "
      ]
     },
     "execution_count": 15,
     "metadata": {},
     "output_type": "execute_result"
    }
   ],
   "source": [
    "df.head().T"
   ]
  },
  {
   "cell_type": "code",
   "execution_count": 6,
   "id": "ca64b1ba",
   "metadata": {},
   "outputs": [
    {
     "data": {
      "text/plain": [
       "7"
      ]
     },
     "execution_count": 6,
     "metadata": {},
     "output_type": "execute_result"
    }
   ],
   "source": [
    "vu = lambda df, fea: len(df[fea].unique())\n",
    "vu(df, 'Org_Struc_Desc')"
   ]
  },
  {
   "cell_type": "code",
   "execution_count": 40,
   "id": "234b2cf3",
   "metadata": {},
   "outputs": [],
   "source": [
    "vc = lambda df, feature: df[feature].value_counts(dropna = False)/len(df)"
   ]
  },
  {
   "cell_type": "code",
   "execution_count": 8,
   "id": "b818fddc",
   "metadata": {},
   "outputs": [],
   "source": [
    "#vc = lambda df, feature: df[feature].value_counts()/len(df)"
   ]
  },
  {
   "cell_type": "code",
   "execution_count": 20,
   "id": "d506ab0a",
   "metadata": {},
   "outputs": [
    {
     "data": {
      "text/plain": [
       "0    0.959323\n",
       "1    0.039871\n",
       "2    0.000805\n",
       "Name: Corporate_Card, dtype: float64"
      ]
     },
     "execution_count": 20,
     "metadata": {},
     "output_type": "execute_result"
    }
   ],
   "source": [
    "vc(df, 'Corporate_Card')       "
   ]
  },
  {
   "cell_type": "code",
   "execution_count": 20,
   "id": "b79e38b1",
   "metadata": {},
   "outputs": [
    {
     "data": {
      "text/plain": [
       "Corporation            0.505840\n",
       "LLC                    0.249698\n",
       "Non-Profit             0.209021\n",
       "Partnership            0.028594\n",
       "Other                  0.005638\n",
       "Sole Proprietorship    0.000805\n",
       "MSA Av Consumer        0.000403\n",
       "Name: Org_Struc_Desc, dtype: float64"
      ]
     },
     "execution_count": 20,
     "metadata": {},
     "output_type": "execute_result"
    }
   ],
   "source": [
    "vc(df, 'Org_Struc_Desc')"
   ]
  },
  {
   "cell_type": "code",
   "execution_count": 14,
   "id": "40bbedd7",
   "metadata": {},
   "outputs": [
    {
     "data": {
      "text/plain": [
       "NaN    0.751913\n",
       "Y      0.248087\n",
       "Name: CLI_or_New_Prod_Flag, dtype: float64"
      ]
     },
     "execution_count": 14,
     "metadata": {},
     "output_type": "execute_result"
    }
   ],
   "source": [
    "vc(df, 'CLI_or_New_Prod_Flag')"
   ]
  },
  {
   "cell_type": "code",
   "execution_count": 37,
   "id": "fab80a0b",
   "metadata": {},
   "outputs": [
    {
     "name": "stdout",
     "output_type": "stream",
     "text": [
      "Org_Struc_Desc                 7\n",
      "NAICS_Cd                       541\n",
      "NAICS_Desc                     541\n",
      "Revw_Id                        2483\n",
      "Revw_Month                     42\n",
      "Revw_Quarter                   14\n",
      "Decision                       2\n",
      "Scored_Flag                    2\n",
      "Elan_Flag                      2\n",
      "CLI_or_New_Prod_Flag           2\n",
      "Channel                        10\n",
      "Corporate_Card                 3\n",
      "Purchasing_Card                2\n",
      "One_Card                       3\n",
      "Other_NonBankCard              3\n",
      "Scored_Rec_Decision            3\n",
      "SBFE_Score                     189\n",
      "CC_Score                       320\n",
      "Financial_Template_Found_Flag  2\n",
      "Existing_Limit                 64\n",
      "Request_Amount                 144\n",
      "Final_Limit                    85\n"
     ]
    },
    {
     "data": {
      "text/plain": [
       "[None,\n",
       " None,\n",
       " None,\n",
       " None,\n",
       " None,\n",
       " None,\n",
       " None,\n",
       " None,\n",
       " None,\n",
       " None,\n",
       " None,\n",
       " None,\n",
       " None,\n",
       " None,\n",
       " None,\n",
       " None,\n",
       " None,\n",
       " None,\n",
       " None,\n",
       " None,\n",
       " None,\n",
       " None]"
      ]
     },
     "execution_count": 37,
     "metadata": {},
     "output_type": "execute_result"
    }
   ],
   "source": [
    "# [vu(df, feature) for feature in df.columns]  # Print no col name\n",
    "[print(f'{feature:{30}} {vu(df, feature)}') for feature in df.columns]"
   ]
  },
  {
   "cell_type": "markdown",
   "id": "ff9eecec",
   "metadata": {},
   "source": [
    "## missing values"
   ]
  },
  {
   "cell_type": "code",
   "execution_count": 48,
   "id": "5c883ddd",
   "metadata": {},
   "outputs": [
    {
     "data": {
      "text/plain": [
       "Scored_Flag                      0.702779\n",
       "Elan_Flag                        0.370117\n",
       "CLI_or_New_Prod_Flag             0.751913\n",
       "Channel                          0.000805\n",
       "Scored_Rec_Decision              0.708014\n",
       "SBFE_Score                       0.181635\n",
       "CC_Score                         0.226742\n",
       "Financial_Template_Found_Flag    0.370117\n",
       "dtype: float64"
      ]
     },
     "execution_count": 48,
     "metadata": {},
     "output_type": "execute_result"
    }
   ],
   "source": [
    "s = df.isnull().sum()\n",
    "s [s != 0]/len(df)"
   ]
  },
  {
   "cell_type": "markdown",
   "id": "ea2f5341",
   "metadata": {},
   "source": [
    "## unique values"
   ]
  },
  {
   "cell_type": "code",
   "execution_count": 38,
   "id": "5b94394f",
   "metadata": {},
   "outputs": [
    {
     "data": {
      "text/plain": [
       "Indirect                                             0.660089\n",
       "Commercial Banking                                   0.132501\n",
       "CPS Only                                             0.088200\n",
       "Community Banking                                    0.084575\n",
       "Public Sector & Depository Financial Institutions    0.012082\n",
       "Commercial Real Estate                               0.010874\n",
       "Specialized Industries & Finance                     0.005638\n",
       "National Corporate & Institutional Banking           0.004833\n",
       "Leveraged Finance                                    0.000403\n",
       "Name: Channel, dtype: float64"
      ]
     },
     "execution_count": 38,
     "metadata": {},
     "output_type": "execute_result"
    }
   ],
   "source": [
    "vc(df, 'Org_Struc_Desc')\n",
    "vc(df, 'Channel')"
   ]
  },
  {
   "cell_type": "code",
   "execution_count": 55,
   "id": "0c842659",
   "metadata": {},
   "outputs": [
    {
     "data": {
      "text/plain": [
       "NaN            0.708014\n",
       "Approved       0.251309\n",
       "Investigate    0.040677\n",
       "Name: Scored_Rec_Decision, dtype: float64"
      ]
     },
     "execution_count": 55,
     "metadata": {},
     "output_type": "execute_result"
    }
   ],
   "source": [
    "vc(df, 'Scored_Rec_Decision')    "
   ]
  },
  {
   "cell_type": "code",
   "execution_count": 56,
   "id": "034f2073",
   "metadata": {},
   "outputs": [
    {
     "data": {
      "text/plain": [
       "Y      0.629883\n",
       "NaN    0.370117\n",
       "Name: Financial_Template_Found_Flag, dtype: float64"
      ]
     },
     "execution_count": 56,
     "metadata": {},
     "output_type": "execute_result"
    }
   ],
   "source": [
    "vc(df, 'Financial_Template_Found_Flag')    "
   ]
  },
  {
   "cell_type": "code",
   "execution_count": null,
   "id": "15947af9",
   "metadata": {},
   "outputs": [],
   "source": [
    "vc(df, 'Channel')"
   ]
  },
  {
   "cell_type": "code",
   "execution_count": 27,
   "id": "b7df6e5e",
   "metadata": {},
   "outputs": [
    {
     "data": {
      "text/plain": [
       "[Corporation            0.505840\n",
       " LLC                    0.249698\n",
       " Non-Profit             0.209021\n",
       " Partnership            0.028594\n",
       " Other                  0.005638\n",
       " Sole Proprietorship    0.000805\n",
       " MSA Av Consumer        0.000403\n",
       " Name: Org_Struc_Desc, dtype: float64,\n",
       " 541330    0.024567\n",
       " 813110    0.023359\n",
       " 624190    0.018929\n",
       " 621111    0.018929\n",
       " 238210    0.017318\n",
       "             ...   \n",
       " 333914    0.000403\n",
       " 333922    0.000403\n",
       " 335991    0.000403\n",
       " 311421    0.000403\n",
       " 481212    0.000403\n",
       " Name: NAICS_Cd, Length: 541, dtype: float64,\n",
       " Engineering Services                                                          0.024567\n",
       " Religious Organizations                                                       0.023359\n",
       " Offices of Physicians (except Mental Health Specialists)                      0.018929\n",
       " Other Individual and Family Services                                          0.018929\n",
       " Electrical Contractors                                                        0.017318\n",
       "                                                                                 ...   \n",
       " Coffee and Tea Manufacturing                                                  0.000403\n",
       " Toilet Preparation Manufacturing                                              0.000403\n",
       " Promoters of Performing Arts, Sports, and Similar Events with Facilities      0.000403\n",
       " Other Commercial and Industrial Machinery and Equipment Rental and Leasing    0.000403\n",
       " Business to Business Electronic Markets                                       0.000403\n",
       " Name: NAICS_Desc, Length: 541, dtype: float64,\n",
       " 135168    0.000403\n",
       " 139666    0.000403\n",
       " 148129    0.000403\n",
       " 127651    0.000403\n",
       " 127653    0.000403\n",
       "             ...   \n",
       " 144724    0.000403\n",
       " 151527    0.000403\n",
       " 144728    0.000403\n",
       " 126297    0.000403\n",
       " 151750    0.000403\n",
       " Name: Revw_Id, Length: 2483, dtype: float64,\n",
       " 2022/05    0.041482\n",
       " 2022/06    0.040677\n",
       " 2022/04    0.033427\n",
       " 2021/08    0.029803\n",
       " 2021/06    0.029400\n",
       " 2021/09    0.028594\n",
       " 2019/03    0.028192\n",
       " 2021/11    0.028192\n",
       " 2021/03    0.027789\n",
       " 2021/05    0.027789\n",
       " 2019/06    0.027386\n",
       " 2022/03    0.026983\n",
       " 2019/04    0.026178\n",
       " 2021/04    0.026178\n",
       " 2021/10    0.026178\n",
       " 2019/08    0.025775\n",
       " 2019/05    0.024970\n",
       " 2021/12    0.024164\n",
       " 2019/01    0.024164\n",
       " 2019/07    0.024164\n",
       " 2019/10    0.023762\n",
       " 2020/06    0.023762\n",
       " 2019/02    0.023359\n",
       " 2022/02    0.023359\n",
       " 2020/09    0.022956\n",
       " 2020/10    0.022956\n",
       " 2020/03    0.021748\n",
       " 2021/07    0.021345\n",
       " 2019/11    0.020942\n",
       " 2022/01    0.020540\n",
       " 2020/07    0.020540\n",
       " 2020/01    0.019331\n",
       " 2021/02    0.019331\n",
       " 2020/11    0.019331\n",
       " 2019/09    0.018929\n",
       " 2020/02    0.018123\n",
       " 2020/12    0.017318\n",
       " 2020/08    0.015707\n",
       " 2020/04    0.014499\n",
       " 2021/01    0.014096\n",
       " 2019/12    0.013693\n",
       " 2020/05    0.012888\n",
       " Name: Revw_Month, dtype: float64,\n",
       " 2022/2    0.115586\n",
       " 2021/2    0.083367\n",
       " 2021/3    0.079742\n",
       " 2021/4    0.078534\n",
       " 2019/2    0.078534\n",
       " 2019/1    0.075715\n",
       " 2022/1    0.070882\n",
       " 2019/3    0.068868\n",
       " 2021/1    0.061216\n",
       " 2020/4    0.059605\n",
       " 2020/1    0.059203\n",
       " 2020/3    0.059203\n",
       " 2019/4    0.058397\n",
       " 2020/2    0.051148\n",
       " Name: Revw_Quarter, dtype: float64,\n",
       " Approved    0.745066\n",
       " Declined    0.254934\n",
       " Name: Decision, dtype: float64,\n",
       " Y    0.297221\n",
       " Name: Scored_Flag, dtype: float64,\n",
       " Y    0.629883\n",
       " Name: Elan_Flag, dtype: float64,\n",
       " Y    0.248087\n",
       " Name: CLI_or_New_Prod_Flag, dtype: float64,\n",
       " Indirect                                             0.660089\n",
       " Commercial Banking                                   0.132501\n",
       " CPS Only                                             0.088200\n",
       " Community Banking                                    0.084575\n",
       " Public Sector & Depository Financial Institutions    0.012082\n",
       " Commercial Real Estate                               0.010874\n",
       " Specialized Industries & Finance                     0.005638\n",
       " National Corporate & Institutional Banking           0.004833\n",
       " Leveraged Finance                                    0.000403\n",
       " Name: Channel, dtype: float64,\n",
       " 0    0.959323\n",
       " 1    0.039871\n",
       " 2    0.000805\n",
       " Name: Corporate_Card, dtype: float64,\n",
       " 0    0.980266\n",
       " 1    0.019734\n",
       " Name: Purchasing_Card, dtype: float64,\n",
       " 1    0.946033\n",
       " 0    0.046718\n",
       " 2    0.007249\n",
       " Name: One_Card, dtype: float64,\n",
       " 0    0.989126\n",
       " 1    0.010471\n",
       " 2    0.000403\n",
       " Name: Other_NonBankCard, dtype: float64,\n",
       " Approved       0.251309\n",
       " Investigate    0.040677\n",
       " Name: Scored_Rec_Decision, dtype: float64,\n",
       " 877.0    0.014901\n",
       " 876.0    0.011679\n",
       " 914.0    0.010874\n",
       " 886.0    0.010471\n",
       " 912.0    0.010471\n",
       "            ...   \n",
       " 90.0     0.000403\n",
       " 769.0    0.000403\n",
       " 785.0    0.000403\n",
       " 818.0    0.000403\n",
       " 544.0    0.000403\n",
       " Name: SBFE_Score, Length: 188, dtype: float64,\n",
       " 580.0    0.008860\n",
       " 583.0    0.008860\n",
       " 565.0    0.008860\n",
       " 545.0    0.008055\n",
       " 589.0    0.008055\n",
       "            ...   \n",
       " 656.0    0.000403\n",
       " 637.0    0.000403\n",
       " 964.0    0.000403\n",
       " 268.0    0.000403\n",
       " 232.0    0.000403\n",
       " Name: CC_Score, Length: 319, dtype: float64,\n",
       " Y    0.629883\n",
       " Name: Financial_Template_Found_Flag, dtype: float64,\n",
       " 0         0.751913\n",
       " 50000     0.044704\n",
       " 100000    0.025775\n",
       " 25000     0.024164\n",
       " 1         0.022151\n",
       "             ...   \n",
       " 31000     0.000403\n",
       " 27000     0.000403\n",
       " 25001     0.000403\n",
       " 201000    0.000403\n",
       " 330000    0.000403\n",
       " Name: Existing_Limit, Length: 64, dtype: float64,\n",
       " 50000     0.124043\n",
       " 25000     0.096255\n",
       " 100000    0.095852\n",
       " 200000    0.062827\n",
       " 500000    0.053564\n",
       "             ...   \n",
       " 458333    0.000403\n",
       " 333332    0.000403\n",
       " 91666     0.000403\n",
       " 22000     0.000403\n",
       " 104500    0.000403\n",
       " Name: Request_Amount, Length: 144, dtype: float64,\n",
       " 0         0.211438\n",
       " 50000     0.113572\n",
       " 25000     0.083367\n",
       " 100000    0.071285\n",
       " 500000    0.056383\n",
       "             ...   \n",
       " 96000     0.000403\n",
       " 216000    0.000403\n",
       " 74000     0.000403\n",
       " 145000    0.000403\n",
       " 385000    0.000403\n",
       " Name: Final_Limit, Length: 85, dtype: float64]"
      ]
     },
     "execution_count": 27,
     "metadata": {},
     "output_type": "execute_result"
    }
   ],
   "source": [
    "#[vc(df, f'Org_Struc_Desc') for \n",
    "[vc(df, feature) for feature in df.columns] \n",
    "#nw [vc(df, feature) for feature in df.columns().to_list()] \n",
    "#for feature in df.columns\n",
    "#df.columns"
   ]
  },
  {
   "cell_type": "code",
   "execution_count": 4,
   "id": "1b7279a9",
   "metadata": {
    "scrolled": true
   },
   "outputs": [
    {
     "data": {
      "text/plain": [
       "Org_Struc_Desc                    object\n",
       "NAICS_Cd                           int64\n",
       "NAICS_Desc                        object\n",
       "Revw_Id                            int64\n",
       "Revw_Month                        object\n",
       "Revw_Quarter                      object\n",
       "Decision                          object\n",
       "Scored_Flag                       object\n",
       "Elan_Flag                         object\n",
       "CLI_or_New_Prod_Flag              object\n",
       "Channel                           object\n",
       "Corporate_Card                     int64\n",
       "Purchasing_Card                    int64\n",
       "One_Card                           int64\n",
       "Other_NonBankCard                  int64\n",
       "Scored_Rec_Decision               object\n",
       "SBFE_Score                       float64\n",
       "CC_Score                         float64\n",
       "Financial_Template_Found_Flag     object\n",
       "Existing_Limit                     int64\n",
       "Request_Amount                     int64\n",
       "Final_Limit                        int64\n",
       "dtype: object"
      ]
     },
     "execution_count": 4,
     "metadata": {},
     "output_type": "execute_result"
    }
   ],
   "source": [
    "df.dtypes"
   ]
  },
  {
   "cell_type": "code",
   "execution_count": 5,
   "id": "888c0649",
   "metadata": {},
   "outputs": [
    {
     "data": {
      "text/plain": [
       "22"
      ]
     },
     "execution_count": 5,
     "metadata": {},
     "output_type": "execute_result"
    }
   ],
   "source": [
    "len(df. columns)"
   ]
  },
  {
   "cell_type": "code",
   "execution_count": 6,
   "id": "ac15ed5d",
   "metadata": {},
   "outputs": [
    {
     "data": {
      "text/plain": [
       "(2483, 22)"
      ]
     },
     "execution_count": 6,
     "metadata": {},
     "output_type": "execute_result"
    }
   ],
   "source": [
    "df.shape"
   ]
  },
  {
   "cell_type": "code",
   "execution_count": 11,
   "id": "ac2474a5",
   "metadata": {},
   "outputs": [
    {
     "data": {
      "text/plain": [
       "(2483, 11)"
      ]
     },
     "execution_count": 11,
     "metadata": {},
     "output_type": "execute_result"
    }
   ],
   "source": [
    "dfn= df.select_dtypes([np.number])\n",
    "dfn.shape"
   ]
  },
  {
   "cell_type": "code",
   "execution_count": 12,
   "id": "16d9a276",
   "metadata": {},
   "outputs": [
    {
     "name": "stderr",
     "output_type": "stream",
     "text": [
      "<ipython-input-12-3029199ded7f>:1: DeprecationWarning: `np.object` is a deprecated alias for the builtin `object`. To silence this warning, use `object` by itself. Doing this will not modify any behavior and is safe. \n",
      "Deprecated in NumPy 1.20; for more details and guidance: https://numpy.org/devdocs/release/1.20.0-notes.html#deprecations\n",
      "  dfn= df.select_dtypes([np.object])\n"
     ]
    },
    {
     "data": {
      "text/plain": [
       "(2483, 11)"
      ]
     },
     "execution_count": 12,
     "metadata": {},
     "output_type": "execute_result"
    }
   ],
   "source": [
    "dfn= df.select_dtypes([np.object])\n",
    "dfn.shape"
   ]
  },
  {
   "cell_type": "code",
   "execution_count": 40,
   "id": "f2c76fb6",
   "metadata": {},
   "outputs": [
    {
     "data": {
      "text/plain": [
       "Org_Struc_Desc                   0.000000\n",
       "NAICS_Cd                         0.000000\n",
       "NAICS_Desc                       0.000000\n",
       "Revw_Id                          0.000000\n",
       "Revw_Month                       0.000000\n",
       "Revw_Quarter                     0.000000\n",
       "Decision                         0.000000\n",
       "Scored_Flag                      0.702779\n",
       "Elan_Flag                        0.370117\n",
       "CLI_or_New_Prod_Flag             0.751913\n",
       "Channel                          0.000805\n",
       "Corporate_Card                   0.000000\n",
       "Purchasing_Card                  0.000000\n",
       "One_Card                         0.000000\n",
       "Other_NonBankCard                0.000000\n",
       "Scored_Rec_Decision              0.708014\n",
       "SBFE_Score                       0.181635\n",
       "CC_Score                         0.226742\n",
       "Financial_Template_Found_Flag    0.370117\n",
       "Existing_Limit                   0.000000\n",
       "Request_Amount                   0.000000\n",
       "Final_Limit                      0.000000\n",
       "dtype: float64"
      ]
     },
     "execution_count": 40,
     "metadata": {},
     "output_type": "execute_result"
    }
   ],
   "source": [
    "#df.isnull().sum()/len(df)\n",
    "df.isnull().dropna().sum()/len(df)"
   ]
  },
  {
   "cell_type": "code",
   "execution_count": 16,
   "id": "cf9db01a",
   "metadata": {},
   "outputs": [
    {
     "data": {
      "text/plain": [
       "Corporation            1256\n",
       "LLC                     620\n",
       "Non-Profit              519\n",
       "Partnership              71\n",
       "Other                    14\n",
       "Sole Proprietorship       2\n",
       "MSA Av Consumer           1\n",
       "Name: Org_Struc_Desc, dtype: int64"
      ]
     },
     "execution_count": 16,
     "metadata": {},
     "output_type": "execute_result"
    }
   ],
   "source": [
    "#df.Org_Struc_Desc.value_counts()\n",
    "df.Org_Struc_Desc.value_counts()"
   ]
  },
  {
   "cell_type": "code",
   "execution_count": 39,
   "id": "56bf05bf",
   "metadata": {},
   "outputs": [
    {
     "data": {
      "text/plain": [
       "Approved    0.745066\n",
       "Declined    0.254934\n",
       "Name: Decision, dtype: float64"
      ]
     },
     "execution_count": 39,
     "metadata": {},
     "output_type": "execute_result"
    }
   ],
   "source": [
    "vc(df, 'Decision')"
   ]
  },
  {
   "cell_type": "markdown",
   "id": "fc35f649",
   "metadata": {},
   "source": [
    "## WIP"
   ]
  },
  {
   "cell_type": "code",
   "execution_count": 41,
   "id": "f475d29b",
   "metadata": {},
   "outputs": [
    {
     "data": {
      "text/html": [
       "<div>\n",
       "<style scoped>\n",
       "    .dataframe tbody tr th:only-of-type {\n",
       "        vertical-align: middle;\n",
       "    }\n",
       "\n",
       "    .dataframe tbody tr th {\n",
       "        vertical-align: top;\n",
       "    }\n",
       "\n",
       "    .dataframe thead th {\n",
       "        text-align: right;\n",
       "    }\n",
       "</style>\n",
       "<table border=\"1\" class=\"dataframe\">\n",
       "  <thead>\n",
       "    <tr style=\"text-align: right;\">\n",
       "      <th></th>\n",
       "      <th>Org_Struc_Desc</th>\n",
       "      <th>NAICS_Cd</th>\n",
       "      <th>NAICS_Desc</th>\n",
       "      <th>Revw_Id</th>\n",
       "      <th>Revw_Month</th>\n",
       "      <th>Revw_Quarter</th>\n",
       "      <th>Decision</th>\n",
       "      <th>Scored_Flag</th>\n",
       "      <th>Elan_Flag</th>\n",
       "      <th>CLI_or_New_Prod_Flag</th>\n",
       "      <th>...</th>\n",
       "      <th>Purchasing_Card</th>\n",
       "      <th>One_Card</th>\n",
       "      <th>Other_NonBankCard</th>\n",
       "      <th>Scored_Rec_Decision</th>\n",
       "      <th>SBFE_Score</th>\n",
       "      <th>CC_Score</th>\n",
       "      <th>Financial_Template_Found_Flag</th>\n",
       "      <th>Existing_Limit</th>\n",
       "      <th>Request_Amount</th>\n",
       "      <th>Final_Limit</th>\n",
       "    </tr>\n",
       "  </thead>\n",
       "  <tbody>\n",
       "    <tr>\n",
       "      <th>0</th>\n",
       "      <td>False</td>\n",
       "      <td>False</td>\n",
       "      <td>False</td>\n",
       "      <td>False</td>\n",
       "      <td>False</td>\n",
       "      <td>False</td>\n",
       "      <td>False</td>\n",
       "      <td>True</td>\n",
       "      <td>True</td>\n",
       "      <td>False</td>\n",
       "      <td>...</td>\n",
       "      <td>False</td>\n",
       "      <td>False</td>\n",
       "      <td>False</td>\n",
       "      <td>True</td>\n",
       "      <td>True</td>\n",
       "      <td>True</td>\n",
       "      <td>False</td>\n",
       "      <td>False</td>\n",
       "      <td>False</td>\n",
       "      <td>False</td>\n",
       "    </tr>\n",
       "    <tr>\n",
       "      <th>1</th>\n",
       "      <td>False</td>\n",
       "      <td>False</td>\n",
       "      <td>False</td>\n",
       "      <td>False</td>\n",
       "      <td>False</td>\n",
       "      <td>False</td>\n",
       "      <td>False</td>\n",
       "      <td>True</td>\n",
       "      <td>True</td>\n",
       "      <td>False</td>\n",
       "      <td>...</td>\n",
       "      <td>False</td>\n",
       "      <td>False</td>\n",
       "      <td>False</td>\n",
       "      <td>True</td>\n",
       "      <td>True</td>\n",
       "      <td>False</td>\n",
       "      <td>False</td>\n",
       "      <td>False</td>\n",
       "      <td>False</td>\n",
       "      <td>False</td>\n",
       "    </tr>\n",
       "    <tr>\n",
       "      <th>2</th>\n",
       "      <td>False</td>\n",
       "      <td>False</td>\n",
       "      <td>False</td>\n",
       "      <td>False</td>\n",
       "      <td>False</td>\n",
       "      <td>False</td>\n",
       "      <td>False</td>\n",
       "      <td>True</td>\n",
       "      <td>True</td>\n",
       "      <td>True</td>\n",
       "      <td>...</td>\n",
       "      <td>False</td>\n",
       "      <td>False</td>\n",
       "      <td>False</td>\n",
       "      <td>True</td>\n",
       "      <td>True</td>\n",
       "      <td>False</td>\n",
       "      <td>False</td>\n",
       "      <td>False</td>\n",
       "      <td>False</td>\n",
       "      <td>False</td>\n",
       "    </tr>\n",
       "    <tr>\n",
       "      <th>3</th>\n",
       "      <td>False</td>\n",
       "      <td>False</td>\n",
       "      <td>False</td>\n",
       "      <td>False</td>\n",
       "      <td>False</td>\n",
       "      <td>False</td>\n",
       "      <td>False</td>\n",
       "      <td>True</td>\n",
       "      <td>False</td>\n",
       "      <td>False</td>\n",
       "      <td>...</td>\n",
       "      <td>False</td>\n",
       "      <td>False</td>\n",
       "      <td>False</td>\n",
       "      <td>True</td>\n",
       "      <td>False</td>\n",
       "      <td>False</td>\n",
       "      <td>False</td>\n",
       "      <td>False</td>\n",
       "      <td>False</td>\n",
       "      <td>False</td>\n",
       "    </tr>\n",
       "    <tr>\n",
       "      <th>4</th>\n",
       "      <td>False</td>\n",
       "      <td>False</td>\n",
       "      <td>False</td>\n",
       "      <td>False</td>\n",
       "      <td>False</td>\n",
       "      <td>False</td>\n",
       "      <td>False</td>\n",
       "      <td>True</td>\n",
       "      <td>True</td>\n",
       "      <td>True</td>\n",
       "      <td>...</td>\n",
       "      <td>False</td>\n",
       "      <td>False</td>\n",
       "      <td>False</td>\n",
       "      <td>True</td>\n",
       "      <td>True</td>\n",
       "      <td>True</td>\n",
       "      <td>True</td>\n",
       "      <td>False</td>\n",
       "      <td>False</td>\n",
       "      <td>False</td>\n",
       "    </tr>\n",
       "  </tbody>\n",
       "</table>\n",
       "<p>5 rows × 22 columns</p>\n",
       "</div>"
      ],
      "text/plain": [
       "   Org_Struc_Desc  NAICS_Cd  NAICS_Desc  Revw_Id  Revw_Month  Revw_Quarter  \\\n",
       "0           False     False       False    False       False         False   \n",
       "1           False     False       False    False       False         False   \n",
       "2           False     False       False    False       False         False   \n",
       "3           False     False       False    False       False         False   \n",
       "4           False     False       False    False       False         False   \n",
       "\n",
       "   Decision  Scored_Flag  Elan_Flag  CLI_or_New_Prod_Flag  ...  \\\n",
       "0     False         True       True                 False  ...   \n",
       "1     False         True       True                 False  ...   \n",
       "2     False         True       True                  True  ...   \n",
       "3     False         True      False                 False  ...   \n",
       "4     False         True       True                  True  ...   \n",
       "\n",
       "   Purchasing_Card  One_Card  Other_NonBankCard  Scored_Rec_Decision  \\\n",
       "0            False     False              False                 True   \n",
       "1            False     False              False                 True   \n",
       "2            False     False              False                 True   \n",
       "3            False     False              False                 True   \n",
       "4            False     False              False                 True   \n",
       "\n",
       "   SBFE_Score  CC_Score  Financial_Template_Found_Flag  Existing_Limit  \\\n",
       "0        True      True                          False           False   \n",
       "1        True     False                          False           False   \n",
       "2        True     False                          False           False   \n",
       "3       False     False                          False           False   \n",
       "4        True      True                           True           False   \n",
       "\n",
       "   Request_Amount  Final_Limit  \n",
       "0           False        False  \n",
       "1           False        False  \n",
       "2           False        False  \n",
       "3           False        False  \n",
       "4           False        False  \n",
       "\n",
       "[5 rows x 22 columns]"
      ]
     },
     "execution_count": 41,
     "metadata": {},
     "output_type": "execute_result"
    }
   ],
   "source": [
    "df.isnull().head()"
   ]
  },
  {
   "cell_type": "code",
   "execution_count": 42,
   "id": "18586752",
   "metadata": {},
   "outputs": [
    {
     "data": {
      "text/plain": [
       "pandas.core.series.Series"
      ]
     },
     "execution_count": 42,
     "metadata": {},
     "output_type": "execute_result"
    }
   ],
   "source": [
    "type(df.isnull().sum()) # pandas.core.series.Series"
   ]
  },
  {
   "cell_type": "code",
   "execution_count": 50,
   "id": "5ec21cec",
   "metadata": {},
   "outputs": [
    {
     "data": {
      "text/html": [
       "<div>\n",
       "<style scoped>\n",
       "    .dataframe tbody tr th:only-of-type {\n",
       "        vertical-align: middle;\n",
       "    }\n",
       "\n",
       "    .dataframe tbody tr th {\n",
       "        vertical-align: top;\n",
       "    }\n",
       "\n",
       "    .dataframe thead th {\n",
       "        text-align: right;\n",
       "    }\n",
       "</style>\n",
       "<table border=\"1\" class=\"dataframe\">\n",
       "  <thead>\n",
       "    <tr style=\"text-align: right;\">\n",
       "      <th></th>\n",
       "      <th>NAICS_Cd</th>\n",
       "      <th>Revw_Id</th>\n",
       "      <th>Corporate_Card</th>\n",
       "      <th>Purchasing_Card</th>\n",
       "      <th>One_Card</th>\n",
       "      <th>Other_NonBankCard</th>\n",
       "      <th>SBFE_Score</th>\n",
       "      <th>CC_Score</th>\n",
       "      <th>Existing_Limit</th>\n",
       "      <th>Request_Amount</th>\n",
       "      <th>Final_Limit</th>\n",
       "    </tr>\n",
       "  </thead>\n",
       "  <tbody>\n",
       "    <tr>\n",
       "      <th>count</th>\n",
       "      <td>2483.000000</td>\n",
       "      <td>2483.000000</td>\n",
       "      <td>2483.000000</td>\n",
       "      <td>2483.000000</td>\n",
       "      <td>2483.000000</td>\n",
       "      <td>2483.000000</td>\n",
       "      <td>2032.000000</td>\n",
       "      <td>1920.000000</td>\n",
       "      <td>2483.000000</td>\n",
       "      <td>2483.000000</td>\n",
       "      <td>2483.000000</td>\n",
       "    </tr>\n",
       "    <tr>\n",
       "      <th>mean</th>\n",
       "      <td>496518.563834</td>\n",
       "      <td>138918.415626</td>\n",
       "      <td>0.041482</td>\n",
       "      <td>0.019734</td>\n",
       "      <td>0.960532</td>\n",
       "      <td>0.011277</td>\n",
       "      <td>897.401575</td>\n",
       "      <td>528.708854</td>\n",
       "      <td>23380.817962</td>\n",
       "      <td>148882.351591</td>\n",
       "      <td>125193.799436</td>\n",
       "    </tr>\n",
       "    <tr>\n",
       "      <th>std</th>\n",
       "      <td>173471.574905</td>\n",
       "      <td>10821.331623</td>\n",
       "      <td>0.203443</td>\n",
       "      <td>0.139113</td>\n",
       "      <td>0.228977</td>\n",
       "      <td>0.109361</td>\n",
       "      <td>48.129259</td>\n",
       "      <td>77.549494</td>\n",
       "      <td>60577.896169</td>\n",
       "      <td>131384.438062</td>\n",
       "      <td>142760.405885</td>\n",
       "    </tr>\n",
       "    <tr>\n",
       "      <th>min</th>\n",
       "      <td>111150.000000</td>\n",
       "      <td>117882.000000</td>\n",
       "      <td>0.000000</td>\n",
       "      <td>0.000000</td>\n",
       "      <td>0.000000</td>\n",
       "      <td>0.000000</td>\n",
       "      <td>90.000000</td>\n",
       "      <td>68.000000</td>\n",
       "      <td>0.000000</td>\n",
       "      <td>1.000000</td>\n",
       "      <td>0.000000</td>\n",
       "    </tr>\n",
       "    <tr>\n",
       "      <th>25%</th>\n",
       "      <td>334516.000000</td>\n",
       "      <td>128806.500000</td>\n",
       "      <td>0.000000</td>\n",
       "      <td>0.000000</td>\n",
       "      <td>1.000000</td>\n",
       "      <td>0.000000</td>\n",
       "      <td>874.000000</td>\n",
       "      <td>493.750000</td>\n",
       "      <td>0.000000</td>\n",
       "      <td>50000.000000</td>\n",
       "      <td>25000.000000</td>\n",
       "    </tr>\n",
       "    <tr>\n",
       "      <th>50%</th>\n",
       "      <td>531120.000000</td>\n",
       "      <td>140524.000000</td>\n",
       "      <td>0.000000</td>\n",
       "      <td>0.000000</td>\n",
       "      <td>1.000000</td>\n",
       "      <td>0.000000</td>\n",
       "      <td>898.000000</td>\n",
       "      <td>543.000000</td>\n",
       "      <td>0.000000</td>\n",
       "      <td>100000.000000</td>\n",
       "      <td>50000.000000</td>\n",
       "    </tr>\n",
       "    <tr>\n",
       "      <th>75%</th>\n",
       "      <td>621111.000000</td>\n",
       "      <td>148333.000000</td>\n",
       "      <td>0.000000</td>\n",
       "      <td>0.000000</td>\n",
       "      <td>1.000000</td>\n",
       "      <td>0.000000</td>\n",
       "      <td>926.000000</td>\n",
       "      <td>579.000000</td>\n",
       "      <td>0.000000</td>\n",
       "      <td>200000.000000</td>\n",
       "      <td>200000.000000</td>\n",
       "    </tr>\n",
       "    <tr>\n",
       "      <th>max</th>\n",
       "      <td>926110.000000</td>\n",
       "      <td>155162.000000</td>\n",
       "      <td>2.000000</td>\n",
       "      <td>1.000000</td>\n",
       "      <td>2.000000</td>\n",
       "      <td>2.000000</td>\n",
       "      <td>1566.000000</td>\n",
       "      <td>964.000000</td>\n",
       "      <td>420000.000000</td>\n",
       "      <td>500000.000000</td>\n",
       "      <td>500000.000000</td>\n",
       "    </tr>\n",
       "  </tbody>\n",
       "</table>\n",
       "</div>"
      ],
      "text/plain": [
       "            NAICS_Cd        Revw_Id  Corporate_Card  Purchasing_Card  \\\n",
       "count    2483.000000    2483.000000     2483.000000      2483.000000   \n",
       "mean   496518.563834  138918.415626        0.041482         0.019734   \n",
       "std    173471.574905   10821.331623        0.203443         0.139113   \n",
       "min    111150.000000  117882.000000        0.000000         0.000000   \n",
       "25%    334516.000000  128806.500000        0.000000         0.000000   \n",
       "50%    531120.000000  140524.000000        0.000000         0.000000   \n",
       "75%    621111.000000  148333.000000        0.000000         0.000000   \n",
       "max    926110.000000  155162.000000        2.000000         1.000000   \n",
       "\n",
       "          One_Card  Other_NonBankCard   SBFE_Score     CC_Score  \\\n",
       "count  2483.000000        2483.000000  2032.000000  1920.000000   \n",
       "mean      0.960532           0.011277   897.401575   528.708854   \n",
       "std       0.228977           0.109361    48.129259    77.549494   \n",
       "min       0.000000           0.000000    90.000000    68.000000   \n",
       "25%       1.000000           0.000000   874.000000   493.750000   \n",
       "50%       1.000000           0.000000   898.000000   543.000000   \n",
       "75%       1.000000           0.000000   926.000000   579.000000   \n",
       "max       2.000000           2.000000  1566.000000   964.000000   \n",
       "\n",
       "       Existing_Limit  Request_Amount    Final_Limit  \n",
       "count     2483.000000     2483.000000    2483.000000  \n",
       "mean     23380.817962   148882.351591  125193.799436  \n",
       "std      60577.896169   131384.438062  142760.405885  \n",
       "min          0.000000        1.000000       0.000000  \n",
       "25%          0.000000    50000.000000   25000.000000  \n",
       "50%          0.000000   100000.000000   50000.000000  \n",
       "75%          0.000000   200000.000000  200000.000000  \n",
       "max     420000.000000   500000.000000  500000.000000  "
      ]
     },
     "execution_count": 50,
     "metadata": {},
     "output_type": "execute_result"
    }
   ],
   "source": [
    "df.describe()"
   ]
  },
  {
   "cell_type": "code",
   "execution_count": null,
   "id": "06d4ffef",
   "metadata": {},
   "outputs": [],
   "source": [
    "df.pivot_table('Count', index='Period', columns='Decision_Flow', aggfunc='sum').plot()\n",
    "plt.ylabel('Total count per quarter')"
   ]
  },
  {
   "cell_type": "code",
   "execution_count": 47,
   "id": "b130ce06",
   "metadata": {},
   "outputs": [
    {
     "ename": "AttributeError",
     "evalue": "module 'numpy' has no attribute 'o'",
     "output_type": "error",
     "traceback": [
      "\u001b[1;31m---------------------------------------------------------------------------\u001b[0m",
      "\u001b[1;31mAttributeError\u001b[0m                            Traceback (most recent call last)",
      "\u001b[1;32m<ipython-input-47-4ebc38b8b518>\u001b[0m in \u001b[0;36m<module>\u001b[1;34m\u001b[0m\n\u001b[1;32m----> 1\u001b[1;33m \u001b[0mdfn\u001b[0m\u001b[1;33m=\u001b[0m \u001b[0mdf\u001b[0m\u001b[1;33m.\u001b[0m\u001b[0mselect_dtypes\u001b[0m\u001b[1;33m(\u001b[0m\u001b[1;33m[\u001b[0m\u001b[0mnp\u001b[0m\u001b[1;33m.\u001b[0m\u001b[0mo\u001b[0m\u001b[1;33m]\u001b[0m\u001b[1;33m)\u001b[0m\u001b[1;33m\u001b[0m\u001b[1;33m\u001b[0m\u001b[0m\n\u001b[0m\u001b[0;32m      2\u001b[0m \u001b[0mdfn\u001b[0m\u001b[1;33m.\u001b[0m\u001b[0mshape\u001b[0m\u001b[1;33m\u001b[0m\u001b[1;33m\u001b[0m\u001b[0m\n",
      "\u001b[1;32mC:\\ProgramData\\Anaconda3\\lib\\site-packages\\numpy\\__init__.py\u001b[0m in \u001b[0;36m__getattr__\u001b[1;34m(attr)\u001b[0m\n\u001b[0;32m    301\u001b[0m                 \u001b[1;32mreturn\u001b[0m \u001b[0mTester\u001b[0m\u001b[1;33m\u001b[0m\u001b[1;33m\u001b[0m\u001b[0m\n\u001b[0;32m    302\u001b[0m \u001b[1;33m\u001b[0m\u001b[0m\n\u001b[1;32m--> 303\u001b[1;33m             raise AttributeError(\"module {!r} has no attribute \"\n\u001b[0m\u001b[0;32m    304\u001b[0m                                  \"{!r}\".format(__name__, attr))\n\u001b[0;32m    305\u001b[0m \u001b[1;33m\u001b[0m\u001b[0m\n",
      "\u001b[1;31mAttributeError\u001b[0m: module 'numpy' has no attribute 'o'"
     ]
    }
   ],
   "source": [
    "dfn= df.select_dtypes([np.o])\n",
    "dfn.shape"
   ]
  },
  {
   "cell_type": "code",
   "execution_count": null,
   "id": "0b59b22c",
   "metadata": {},
   "outputs": [],
   "source": [
    "[lambda df, fea: len(df[fea].unique()) for fea in df.columns] "
   ]
  },
  {
   "cell_type": "code",
   "execution_count": null,
   "id": "7c9eae50",
   "metadata": {},
   "outputs": [],
   "source": [
    "[lambda df, fea: len(df[fea].unique()) for fea in df.columns] \n"
   ]
  },
  {
   "cell_type": "code",
   "execution_count": 52,
   "id": "b3054017",
   "metadata": {},
   "outputs": [
    {
     "data": {
      "text/plain": [
       "Org_Struc_Desc                      0\n",
       "NAICS_Cd                            0\n",
       "NAICS_Desc                          0\n",
       "Revw_Id                             0\n",
       "Revw_Month                          0\n",
       "Revw_Quarter                        0\n",
       "Decision                            0\n",
       "Scored_Flag                      1745\n",
       "Elan_Flag                         919\n",
       "CLI_or_New_Prod_Flag             1867\n",
       "Channel                             2\n",
       "Corporate_Card                      0\n",
       "Purchasing_Card                     0\n",
       "One_Card                            0\n",
       "Other_NonBankCard                   0\n",
       "Scored_Rec_Decision              1758\n",
       "SBFE_Score                        451\n",
       "CC_Score                          563\n",
       "Financial_Template_Found_Flag     919\n",
       "Existing_Limit                      0\n",
       "Request_Amount                      0\n",
       "Final_Limit                         0\n",
       "dtype: int64"
      ]
     },
     "execution_count": 52,
     "metadata": {},
     "output_type": "execute_result"
    }
   ],
   "source": [
    "df.isnull().sum()"
   ]
  },
  {
   "cell_type": "code",
   "execution_count": 24,
   "id": "ccb774e8",
   "metadata": {},
   "outputs": [
    {
     "data": {
      "text/plain": [
       "'2019'"
      ]
     },
     "execution_count": 24,
     "metadata": {},
     "output_type": "execute_result"
    }
   ],
   "source": [
    "yer"
   ]
  },
  {
   "cell_type": "code",
   "execution_count": 23,
   "id": "bf128305",
   "metadata": {},
   "outputs": [],
   "source": [
    "yer, mth = '2019/2'.split('/')"
   ]
  },
  {
   "cell_type": "code",
   "execution_count": 25,
   "id": "7b8d3b68",
   "metadata": {},
   "outputs": [],
   "source": [
    "yer = int( '2019/2'.split('/')[0])"
   ]
  },
  {
   "cell_type": "code",
   "execution_count": 39,
   "id": "15b197fe",
   "metadata": {},
   "outputs": [
    {
     "data": {
      "text/html": [
       "<div>\n",
       "<style scoped>\n",
       "    .dataframe tbody tr th:only-of-type {\n",
       "        vertical-align: middle;\n",
       "    }\n",
       "\n",
       "    .dataframe tbody tr th {\n",
       "        vertical-align: top;\n",
       "    }\n",
       "\n",
       "    .dataframe thead th {\n",
       "        text-align: right;\n",
       "    }\n",
       "</style>\n",
       "<table border=\"1\" class=\"dataframe\">\n",
       "  <thead>\n",
       "    <tr style=\"text-align: right;\">\n",
       "      <th></th>\n",
       "      <th>0</th>\n",
       "      <th>1</th>\n",
       "      <th>2</th>\n",
       "      <th>3</th>\n",
       "    </tr>\n",
       "  </thead>\n",
       "  <tbody>\n",
       "    <tr>\n",
       "      <th>Yer</th>\n",
       "      <td>2019</td>\n",
       "      <td>2019</td>\n",
       "      <td>2019</td>\n",
       "      <td>2019</td>\n",
       "    </tr>\n",
       "    <tr>\n",
       "      <th>Qty</th>\n",
       "      <td>1</td>\n",
       "      <td>1</td>\n",
       "      <td>1</td>\n",
       "      <td>1</td>\n",
       "    </tr>\n",
       "    <tr>\n",
       "      <th>Mth</th>\n",
       "      <td>1</td>\n",
       "      <td>1</td>\n",
       "      <td>2</td>\n",
       "      <td>3</td>\n",
       "    </tr>\n",
       "  </tbody>\n",
       "</table>\n",
       "</div>"
      ],
      "text/plain": [
       "        0     1     2     3\n",
       "Yer  2019  2019  2019  2019\n",
       "Qty     1     1     1     1\n",
       "Mth     1     1     2     3"
      ]
     },
     "execution_count": 39,
     "metadata": {},
     "output_type": "execute_result"
    }
   ],
   "source": [
    "#df['yer']= [lambda str : int(str.split('/')[0]) for str in df['Revw_Month']]\n",
    "df['Yer']= list( map(lambda str : int(str.split('/')[0]), df['Revw_Month']))\n",
    "df['Qty']= list( map(lambda str : int(str.split('/')[1]), df['Revw_Quarter']))\n",
    "df['Mth']= list( map(lambda str : int(str.split('/')[1]), df['Revw_Month']))\n",
    "df[['Yer','Qty', 'Mth']].head(4).T                             "
   ]
  },
  {
   "cell_type": "code",
   "execution_count": null,
   "id": "ed8e869d",
   "metadata": {},
   "outputs": [],
   "source": [
    "Org_Struc_Desc                    object\n",
    "NAICS_Cd                           int64\n",
    "NAICS_Desc                        object\n",
    "Revw_Id                            int64\n",
    "Revw_Month                        object\n",
    "Revw_Quarter                      object\n",
    "Decision                          object\n",
    "Scored_Flag                       object\n",
    "Elan_Flag                         object\n",
    "CLI_or_New_Prod_Flag              object\n",
    "Channel                           object\n",
    "Corporate_Card                     int64\n",
    "Purchasing_Card                    int64\n",
    "One_Card                           int64\n",
    "Other_NonBankCard                  int64\n",
    "Scored_Rec_Decision               object\n",
    "SBFE_Score                       float64\n",
    "CC_Score                         float64\n",
    "Financial_Template_Found_Flag     object\n",
    "Existing_Limit                     int64\n",
    "Request_Amount                     int64\n",
    "Final_Limit                        int64\n"
   ]
  }
 ],
 "metadata": {
  "kernelspec": {
   "display_name": "Python 3 (ipykernel)",
   "language": "python",
   "name": "python3"
  },
  "language_info": {
   "codemirror_mode": {
    "name": "ipython",
    "version": 3
   },
   "file_extension": ".py",
   "mimetype": "text/x-python",
   "name": "python",
   "nbconvert_exporter": "python",
   "pygments_lexer": "ipython3",
   "version": "3.10.9"
  }
 },
 "nbformat": 4,
 "nbformat_minor": 5
}
