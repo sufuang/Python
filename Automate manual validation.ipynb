{
 "cells": [
  {
   "cell_type": "markdown",
   "id": "fb1722f2",
   "metadata": {},
   "source": [
    "# Automate manual validation "
   ]
  },
  {
   "cell_type": "code",
   "execution_count": 1,
   "id": "cf1db2f6",
   "metadata": {},
   "outputs": [],
   "source": [
    "def data_preparation_1():\n",
    "   \n",
    "    path_file = path + 'Beer_Wine_Spirits_ML and RF.xlsx'\n",
    "    df_org = pd.read_excel(path_file)\n",
    "    df_org = df_org.rename_axis('row_num').reset_index()\n",
    "    return df_org"
   ]
  },
  {
   "cell_type": "code",
   "execution_count": 2,
   "id": "cebda9bd",
   "metadata": {},
   "outputs": [],
   "source": [
    "def data_preparation_2(df_org):\n",
    " \n",
    "    df = df_org.copy()\n",
    "    keep_col = ['row_num', 'PMY_DPT_DSC', 'REC_DPT_DSC', 'DPT_DSC', 'COM_DSC', 'SUBCOM_DSC','VND_ECOM_DSC', 'ML L1 Predictions',\n",
    "           'ML L2 Predictions', 'RF Level 1', 'RF Level 2']\n",
    "    df = df[keep_col]\n",
    "    l_val_ml_rf = [ 'VML1', 'VML2','VRF1', 'VRF2']\n",
    "    l_mth_ml_rf_ind = [ 'VML1_MTH_IND', 'VML2_MTH_IND', 'VRF1_MTH_IND', 'VRF2_MTH_IND']\n",
    "    l_new_var = l_val_ml_rf + l_mth_ml_rf_ind\n",
    "    \n",
    "    for fea in l_val_ml_rf:\n",
    "        df[fea] = '???' \n",
    "        \n",
    "    for fea in l_mth_ml_rf_ind:   \n",
    "        df[fea] = False\n",
    "    df['MANU_VAL_REQ'] = 'NO'\n",
    "    df['MANU_VAL_DONE'] = 'No Need'   \n",
    "    return df, l_new_var"
   ]
  },
  {
   "cell_type": "code",
   "execution_count": 3,
   "id": "7851199a",
   "metadata": {},
   "outputs": [],
   "source": [
    "def set_indicator(df): \n",
    "    df.loc[df['ML L1 Predictions'] == df['VML1'] , 'VML1_MTH_IND'] = 'True'\n",
    "    df.loc[df['ML L2 Predictions'] == df['VML2'] , 'VML2_MTH_IND'] = 'True'\n",
    "    df.loc[df['RF Level 1'] == df['VRF1'] , 'VRF1_MTH_IND'] = 'True'\n",
    "    df.loc[df['RF Level 2'] == df['VRF2'] , 'VRF2_MTH_IND'] = 'True'\n",
    "    df.loc[(df['VML1_MTH_IND'] == False) |(df['VML2_MTH_IND'] == False) |(df['VRF1_MTH_IND'] == False) |(df['VRF2_MTH_IND'] == False)  , 'MANU_VAL_REQ'] = 'YES'    \n",
    "    df.loc[df['MANU_VAL_REQ'] == 'YES' , 'MANU_VAL_DONE'] = 'Yes'\n",
    "    return df"
   ]
  },
  {
   "cell_type": "code",
   "execution_count": 4,
   "id": "df5f5687",
   "metadata": {},
   "outputs": [],
   "source": [
    "def merge_file(df):\n",
    "    l_val_df= [df_beer, df_spirits, df_wine, df_hbc, df_gm]\n",
    "    df_val = pd.concat(l_val_df, ignore_index=True, sort=False)\n",
    "    keep_col = ['row_num','VML1', 'VML2', 'VRF1', 'VRF2', 'VML1_MTH_IND', 'VML2_MTH_IND', 'VRF1_MTH_IND', 'VRF2_MTH_IND',\n",
    "               'MANU_VAL_REQ', 'MANU_VAL_DONE']\n",
    "      \n",
    "    df_val = df_val[keep_col]\n",
    "    \n",
    "    df_merged = pd.merge(df,\n",
    "                    df_val,\n",
    "                    on='row_num', how='left')\n",
    "    df_merged.to_excel(path + \"Beer_Wine_Spirits_ML_RF_val.xlsx\",index=None)\n",
    "    return df_merged   "
   ]
  },
  {
   "cell_type": "code",
   "execution_count": 5,
   "id": "f6f4c4e2",
   "metadata": {},
   "outputs": [],
   "source": [
    "def process_beer(df):\n",
    "    df_beer = df[(df[\"PMY_DPT_DSC\"] == 'GROCERY') & (df[\"REC_DPT_DSC\"] == 'LIQUOR') & (df[\"DPT_DSC\"] == 'BEER')]\n",
    "    df_beer.loc[df[\"DPT_DSC\"] == 'BEER','VML1'] = 'Beer / Wine / Spirits'\n",
    "    df_beer.loc[df[\"DPT_DSC\"] == 'BEER','VRF1'] = 'Beer / Wine / Spirits'\n",
    "    l2_key_word  = ['BEER', 'BEERS', 'PREMIUM', 'NON-ALCOHOLIC', 'SINGLES','SINGLES']                                                         \n",
    "    for key_word in l2_key_word:  \n",
    "        df_beer.loc[(df_beer['COM_DSC'].str.contains(key_word)) | (df_beer['SUBCOM_DSC'].str.contains(key_word)), ['VML2', 'VRF2']] = 'Beer'\n",
    "    \n",
    "    df_beer.loc[df_beer['SUBCOM_DSC'].str.contains('CIDER'), ['VML2', 'VRF2']] = 'Ciders & Perrys'   \n",
    "    df_beer.loc[(df_beer['COM_DSC'].str.contains('BEVERAGES')) | (df_beer['SUBCOM_DSC'].str.contains('BEVERAGES')), ['VML2', 'VRF2']] = 'Flavored Alcoholic Beverages'\n",
    "    \n",
    "    df_beer.loc[df_beer['ML L1 Predictions'] == df_beer['VML1'] , 'VML1_MTH_IND'] = 'True'\n",
    "    df_beer.loc[df_beer['ML L2 Predictions'] == df_beer['VML2'] , 'VML2_MTH_IND'] = 'True'\n",
    "    df_beer.loc[df_beer['RF Level 1'] == df_beer['VRF1'] , 'VRF1_MTH_IND'] = 'True'\n",
    "    df_beer.loc[df_beer['RF Level 2'] == df_beer['VRF2'] , 'VRF2_MTH_IND'] = 'True'\n",
    "    \n",
    "    df_beer.loc[(df_beer['VML1_MTH_IND'] == False) |(df_beer['VML2_MTH_IND'] == False) |(df_beer['VRF1_MTH_IND'] == False) |(df_beer['VRF2_MTH_IND'] == False)  , 'MANU_VAL_REQ'] = 'YES'\n",
    "    df_beer['MANU_VAL_REQ'].value_counts()\n",
    "    df_beer.loc[df_beer['MANU_VAL_REQ'] == 'YES' , 'MANU_VAL_DONE'] = 'No'\n",
    "\n",
    "    return df_beer"
   ]
  },
  {
   "cell_type": "code",
   "execution_count": 6,
   "id": "a8fc62ae",
   "metadata": {},
   "outputs": [],
   "source": [
    "def process_spirits(df):\n",
    "    df_spc = df[(df[\"PMY_DPT_DSC\"] == 'GROCERY') & (df[\"REC_DPT_DSC\"] == 'LIQUOR') & (df[\"DPT_DSC\"] == 'SPIRITS')]\n",
    "    df_spc.loc[df[\"DPT_DSC\"] == 'SPIRITS','VML1'] = 'Beer / Wine / Spirits'\n",
    "    df_spc.loc[df[\"DPT_DSC\"] == 'SPIRITS','VRF1'] = 'Beer / Wine / Spirits'\n",
    "    \n",
    "    l2_key_word  =['TEQUILA', 'VODKA',  'WHISKEY', 'RUM','SCOTCH', 'GIN', 'CORDIALS', 'BRANDY']\n",
    "\n",
    "    for key_word in l2_key_word:\n",
    "        df_spc.loc[(df_spc['COM_DSC'].str.contains(key_word)) | (df_spc['SUBCOM_DSC'].str.contains(key_word)), ['VML2', 'VRF2']] = 'Spirits' \n",
    "    \n",
    "    df_spc.loc[df_spc['COM_DSC'].str.contains('RTD COCKTAILS'), ['VML2', 'VRF2']] = 'Flavored Alcoholic Beveragess'\n",
    "    df_spc.loc[df_spc['SUBCOM_DSC'].str.contains('SPIRIT NON ALCOHOL'), ['VML2', 'VRF2']] = 'Flavored Alcoholic Beveragess'\n",
    "\n",
    "    df_spc.loc[df_spc['ML L1 Predictions'] == df_spc['VML1'] , 'VML1_MTH_IND'] = 'True'\n",
    "    df_spc.loc[df_spc['ML L2 Predictions'] == df_spc['VML2'] , 'VML2_MTH_IND'] = 'True'\n",
    "    df_spc.loc[df_spc['RF Level 1'] == df_spc['VRF1'] , 'VRF1_MTH_IND'] = 'True'\n",
    "    df_spc.loc[df_spc['RF Level 2'] == df_spc['VRF2'] , 'VRF2_MTH_IND'] = 'True'\n",
    "    \n",
    "    df_spc.loc[(df_spc['VML1_MTH_IND'] == False) |(df_spc['VML2_MTH_IND'] == False) |(df_spc['VRF1_MTH_IND'] == False) |(df_spc['VRF2_MTH_IND'] == False)  , 'MANU_VAL_REQ'] = 'YES'\n",
    "    df_spc['MANU_VAL_REQ'].value_counts()\n",
    "    df_spc.loc[df_spc['MANU_VAL_REQ'] == 'YES' , 'MANU_VAL_DONE'] = 'No'\n",
    "\n",
    "    return df_spc"
   ]
  },
  {
   "cell_type": "code",
   "execution_count": 7,
   "id": "511243a6",
   "metadata": {},
   "outputs": [],
   "source": [
    "def process_wine(df_spc):\n",
    "    df_spc = df[(df[\"PMY_DPT_DSC\"] == 'GROCERY') & (df[\"REC_DPT_DSC\"] == 'LIQUOR') & (df[\"DPT_DSC\"] == 'WINE')]\n",
    "    df_spc.loc[df[\"DPT_DSC\"] == 'WINE','VML1'] = 'Beer / Wine / Spirits'\n",
    "    df_spc.loc[df[\"DPT_DSC\"] == 'WINE','VRF1'] = 'Beer / Wine / Spirits'\n",
    "    df_spc.loc[df[\"DPT_DSC\"] == 'WINE','VML2'] = 'Wine'\n",
    "    df_spc.loc[df[\"DPT_DSC\"] == 'WINE','VRF2'] = 'Wine'\n",
    "    df_spc.loc[(df_spc['VND_ECOM_DSC'].str.lower().str.contains('margarita|rtd|rtd|cocktail|ccktl')), ['VML2', 'VRF2']] = 'Flavored Alcoholic Beverages'\n",
    "        \n",
    "    df_spc = set_indicator(df_spc)  \n",
    "    df_spc.VML2.value_counts() \n",
    "    return df_spc"
   ]
  },
  {
   "cell_type": "code",
   "execution_count": 8,
   "id": "34cb7361",
   "metadata": {},
   "outputs": [],
   "source": [
    "def process_hbc(df_spc):\n",
    "    df_spc = df[(df[\"PMY_DPT_DSC\"] == 'DRUG/GM') & (df[\"REC_DPT_DSC\"] == 'HBC')]\n",
    "    \n",
    "    df_spc.loc[df_spc[\"DPT_DSC\"] == 'HEALTH',['VML1', 'VRF1']] = 'Health & Beauty'\n",
    "    df_spc.loc[(df_spc[\"DPT_DSC\"] == 'HEALTH') & (df_spc['COM_DSC']=='SPORTS NUTRITION') ,['VML1', 'VRF1']] = 'Food / Beverages'\n",
    "    df_spc.loc[(df_spc[\"DPT_DSC\"] == 'HEALTH') & (df_spc['COM_DSC']=='SPORTS NUTRITION') ,['VML2', 'VRF2']] = 'Beverages'\n",
    "    df_spc.loc[(df_spc[\"DPT_DSC\"] == 'HEALTH') & (df_spc['COM_DSC']=='SPORTS NUTRITION') & (df_spc['SUBCOM_DSC'].str.contains('BAR')), ['VML2', 'VRF2']] = 'Grocery'\n",
    "    df_spc.loc[(df_spc[\"DPT_DSC\"] == 'HEALTH') & (df_spc['SUBCOM_DSC'].str.contains('GROOMING')) ,['VML2', 'VRF2']] = 'Personal Care'\n",
    "    df_spc.loc[(df_spc[\"DPT_DSC\"] == 'HEALTH') & (df_spc['COM_DSC'].str.contains('FIRST AID PRODUCTS')) ,['VML2', 'VRF2']] = 'Health Treatments'                                          \n",
    "    df_spc.loc[(df_spc[\"DPT_DSC\"] == 'HEALTH') & (df_spc['COM_DSC']=='VITAMIN PRODUCTS') ,['VML2', 'VRF2']] = 'Vitamins & Dietary Supplements'                                          \n",
    "    df_spc.loc[(df_spc[\"DPT_DSC\"] == 'HEALTH') & (df_spc['VND_ECOM_DSC'].str.contains('Elix')) ,['VML2', 'VRF2']] = 'Health Treatments'\n",
    "       \n",
    "    df_spc.loc[df[\"DPT_DSC\"] == 'BEAUTY',['VML1', 'VRF1']] = 'Health & Beauty'\n",
    "    df_spc.loc[df_spc['COM_DSC'].str.contains('FRAGRANCES|COLOR COSMETICS|NAILCARE/LASH/COTTON'), ['VML2', 'VRF2']] = 'Cosmetics & Fragrances'\n",
    "    df_spc.loc[df_spc['COM_DSC'].str.contains('SPECIALTY BATH'), ['VML2', 'VRF2']] = 'Personal Care' \n",
    "    \n",
    "    df_spc.loc[df[\"DPT_DSC\"] == 'CANDY',['VML1', 'VRF1']] = 'Food / Beverages'\n",
    "    df_spc.loc[(df_spc['COM_DSC'].str.contains('CANDY'))  | (df_spc['SUBCOM_DSC'].str.contains('CANDY')), ['VML2', 'VRF2']] = 'Candy'\n",
    "       \n",
    "    df_spc.loc[df[\"DPT_DSC\"] == 'CARDS',['VML1', 'VRF1']] = 'Office Supplies'\n",
    "    df_spc.loc[df_spc['SUBCOM_DSC'].str.contains('CARDS SEASONAL'), ['VML2', 'VRF2']] = 'Greeting Cards & Gift Packaging'\n",
    "    \n",
    "    df_spc.loc[df[\"DPT_DSC\"] == 'PERSONAL CARE',['VML1', 'VRF1']] = 'Health & Beauty'\n",
    "    df_spc.loc[df[\"DPT_DSC\"] == 'PERSONAL CARE',['VML2', 'VRF2']] = 'Personal Care'\n",
    "    df_spc.loc[df_spc['SUBCOM_DSC'].str.contains('CONTRACEPTIVES'), ['VML2', 'VRF2']] = 'Healthcare'   \n",
    "    \n",
    "    df_spc.loc[df[\"DPT_DSC\"] == 'TOBACCO',['VML1', 'VRF1']] = 'Tobacco Products'\n",
    "    df_spc.loc[df_spc['SUBCOM_DSC'].str.contains('TOBACCO|CIGARS|CIGARETTE'), ['VML2', 'VRF2']] = 'Cigarettes'\n",
    "    \n",
    "    df_spc = set_indicator(df_spc)  \n",
    "    return df_spc"
   ]
  },
  {
   "cell_type": "code",
   "execution_count": 9,
   "id": "7ea19d95",
   "metadata": {},
   "outputs": [],
   "source": [
    "def process_gm(df_spc):\n",
    "    df_spc = df[(df[\"PMY_DPT_DSC\"] == 'DRUG/GM') & (df[\"REC_DPT_DSC\"] == 'GM')]\n",
    "    df_spc =  process_gm_1(df_spc)\n",
    "    df_spc =  process_gm_2(df_spc)\n",
    "    df_spc =  process_gm_3(df_spc)\n",
    "    df_spc =  process_gm_4(df_spc)\n",
    "    df_spc =  process_gm_5(df_spc)\n",
    "    df_spc =  process_gm_6(df_spc)\n",
    "    df_spc = set_indicator(df_spc)  \n",
    "    return df_spc    "
   ]
  },
  {
   "cell_type": "code",
   "execution_count": 10,
   "id": "143110e0",
   "metadata": {},
   "outputs": [],
   "source": [
    "def process_gm_1(df_spc):\n",
    "   \n",
    "    df_spc.loc[(df_spc[\"DPT_DSC\"] == 'SEASONAL') & (df_spc['COM_DSC']=='CHRISTMAS') & (df_spc['SUBCOM_DSC']=='WRAP/ACCESSORIES') ,['VML1', 'VRF1']] = 'Office Supplies'\n",
    "    df_spc.loc[(df_spc[\"DPT_DSC\"] == 'SEASONAL') & (df_spc['COM_DSC']=='CHRISTMAS') & (df_spc['SUBCOM_DSC']=='WRAP/ACCESSORIES') ,['VML2', 'VRF2']] = 'Greeting Cards & Gift Packaging'\n",
    "\n",
    "    df_spc.loc[(df_spc[\"DPT_DSC\"] == 'SEASONAL') & (df_spc['COM_DSC']=='CHRISTMAS') & (df_spc['SUBCOM_DSC']=='NOVELTY AND DECOR') ,['VML1', 'VRF1']] = 'Home & Venue Decoration'\n",
    "    df_spc.loc[(df_spc[\"DPT_DSC\"] == 'SEASONAL') & (df_spc['COM_DSC']=='CHRISTMAS') & (df_spc['SUBCOM_DSC']=='NOVELTY AND DECOR') ,['VML2', 'VRF2']] = 'Holiday Decorations'\n",
    "    \n",
    "    df_spc.loc[(df_spc[\"DPT_DSC\"] == 'SEASONAL') & ((df_spc['COM_DSC'].str.contains('SOUVENIRS|HALLOWEEN')) | (df_spc['SUBCOM_DSC'].str.contains('SOUVENIRS'))) ,['VML1', 'VRF1']] = 'Home & Venue Decoration'\n",
    "    df_spc.loc[(df_spc[\"DPT_DSC\"] == 'SEASONAL') & ((df_spc['COM_DSC'].str.contains('SOUVENIRS|HALLOWEEN')) | (df_spc['SUBCOM_DSC'].str.contains('SOUVENIRS'))) ,['VML2', 'VRF2']] = 'Special Occasion & Party Supplies'\n",
    "    \n",
    "    df_spc.loc[(df_spc[\"DPT_DSC\"] == 'ACCESSORIES') & (df_spc['COM_DSC'].str.contains('BAG')) ,['VML1', 'VRF1']] = 'Apparel'\n",
    "    df_spc.loc[(df_spc[\"DPT_DSC\"] == 'ACCESSORIES') & (df_spc['COM_DSC'].str.contains('BAG')) ,['VML2', 'VRF2']] = 'Personal Accessories'\n",
    "\n",
    "    df_spc.loc[(df_spc[\"DPT_DSC\"] == 'DOMESTICS') & ((df_spc['COM_DSC']=='BATH') | (df_spc['SUBCOM_DSC'].str.contains('BATH'))), ['VML1','VRF1']] = 'Kitchen & Bathroom' \n",
    "    df_spc.loc[(df_spc[\"DPT_DSC\"] == 'DOMESTICS') & ((df_spc['COM_DSC']=='BATH') | (df_spc['SUBCOM_DSC'].str.contains('BATH'))), ['VML2','VRF2']] = 'Bathroom'\n",
    "    \n",
    "    df_spc.loc[(df_spc[\"DPT_DSC\"] == 'FURN/HOME DEC') & (df_spc['COM_DSC']=='HOME ACCESSORIES') & (df_spc['SUBCOM_DSC']=='DECORATIVE ACCENTS') , ['VML1', 'VRF1']] = 'Home & Venue Decoration'   \n",
    "    df_spc.loc[(df_spc[\"DPT_DSC\"] == 'FURN/HOME DEC') & (df_spc['COM_DSC']=='HOME ACCESSORIES') & (df_spc['SUBCOM_DSC']=='DECORATIVE ACCENTS') , ['VML2', 'VRF2']] = 'Decorative Accessories'       \n",
    "    df_spc.loc[(df_spc[\"DPT_DSC\"] == 'FURN/HOME DEC') & (df_spc['COM_DSC']=='CANDLES AND GIFTWARE'), ['VML1', 'VRF1']] = 'Home & Venue Decoration'   \n",
    "    df_spc.loc[(df_spc[\"DPT_DSC\"] == 'FURN/HOME DEC') & (df_spc['COM_DSC']=='CANDLES AND GIFTWARE'), ['VML2', 'VRF2']] = 'Candles & Accessories'     \n",
    "    df_spc.loc[(df_spc[\"DPT_DSC\"] == 'FURN/HOME DEC') & (df_spc['COM_DSC']=='WALL DECOR AND FRAMES') & (df_spc['SUBCOM_DSC']=='CLOCKS'), ['VML1', 'VRF1']] = 'Home & Venue Decoration'         \n",
    "    df_spc.loc[(df_spc[\"DPT_DSC\"] == 'FURN/HOME DEC') & (df_spc['COM_DSC']=='WALL DECOR AND FRAMES') & (df_spc['SUBCOM_DSC']=='CLOCKS'), ['VML2', 'VRF2']] = 'Clocks & Thermometers'   \n",
    "\n",
    "    df_spc.loc[(df_spc[\"DPT_DSC\"] == 'GARDEN-OUTDOOR'),['VML1', 'VRF1']] = 'Gardening & Outdoors'    \n",
    "    df_spc.loc[(df_spc[\"DPT_DSC\"] == 'GARDEN-OUTDOOR') & (df_spc['COM_DSC'] == 'PLANTERS/ACCESSORIES') & (df_spc['SUBCOM_DSC']== 'GROWER POTS/ACCESSORIES'),['VML2', 'VRF2']] = 'Gardening'\n",
    "    df_spc.loc[(df_spc[\"DPT_DSC\"] == 'GARDEN-OUTDOOR') & (df_spc['COM_DSC'] == 'BIRD/SQRL') & (df_spc['SUBCOM_DSC']== 'FEEDERS & ACCESSORIES'),['VML1', 'VRF1']] = 'Livestock & Pet Supplies'    \n",
    "    df_spc.loc[(df_spc[\"DPT_DSC\"] == 'GARDEN-OUTDOOR') & (df_spc['COM_DSC'] == 'BIRD/SQRL') & (df_spc['SUBCOM_DSC']== 'FEEDERS & ACCESSORIES'),['VML2', 'VRF2']] = 'Pet Supplies'    \n",
    "    df_spc.loc[(df_spc[\"DPT_DSC\"] == 'GARDEN-OUTDOOR') & (df_spc['COM_DSC'] == 'FIREWOOD/FIRESTARTS') & (df_spc['SUBCOM_DSC']== 'FIREWOOD'),['VML2', 'VRF2']] = 'Outdoor Living' \n",
    "    df_spc.loc[(df_spc[\"DPT_DSC\"] == 'GARDEN-OUTDOOR') & (df_spc['COM_DSC'] == 'GARDEN POWER EQUIP') & (df_spc['SUBCOM_DSC']== 'GARDEN POWER TOOLS'),['VML2', 'VRF2']] = 'Outdoor Power Equipment'                                                                                                \n",
    "    df_spc.loc[(df_spc[\"DPT_DSC\"] == 'GARDEN-OUTDOOR') & (df_spc['COM_DSC'] == 'GARDEN TOOLS/HDW') & (df_spc['SUBCOM_DSC'].str.contains('ENCE/EDGE/FABRIC|GARDEN APPAREL')), ['VML2', 'VRF2']] = 'Outdoor Living'                          \n",
    "  \n",
    "    return df_spc"
   ]
  },
  {
   "cell_type": "code",
   "execution_count": 11,
   "id": "78a350b9",
   "metadata": {},
   "outputs": [],
   "source": [
    "def process_gm_2(df_spc):\n",
    "    df_spc.loc[(df_spc[\"DPT_DSC\"] == 'GM-MISC') & (df_spc['COM_DSC'] == 'CHARCOAL & LIGHTER FLUID') & (df_spc['SUBCOM_DSC'].str.contains('CHARCOAL|MATCHES')), ['VML1', 'VRF1']] = 'Gardening & Outdoors' \n",
    "    df_spc.loc[(df_spc[\"DPT_DSC\"] == 'GM-MISC') & (df_spc['COM_DSC'] == 'CHARCOAL & LIGHTER FLUID') & (df_spc['SUBCOM_DSC'].str.contains('CHARCOAL|MATCHES')), ['VML2', 'VRF2']] = 'Outdoor Living'  \n",
    "      \n",
    "    df_spc.loc[(df_spc[\"DPT_DSC\"] == 'HOME IMPRVMNT') & (df_spc['COM_DSC'] == 'HARDWARE') & (df_spc['SUBCOM_DSC'] == 'FASTENERS')  & (df_spc['VND_ECOM_DSC'].str.contains('Hat Rack|Key Holder|Hook')), ['VML1', 'VRF1']] = 'Home & Venue Decoration' \n",
    "    df_spc.loc[(df_spc[\"DPT_DSC\"] == 'HOME IMPRVMNT') & (df_spc['COM_DSC'] == 'HARDWARE') & (df_spc['SUBCOM_DSC'] == 'FASTENERS')  & (df_spc['VND_ECOM_DSC'].str.contains('Hat Rack|Key Holder|Hook')), ['VML2', 'VRF2']] = 'Decorative Accessories'                                                                                                 \n",
    "    # - 3 items HOME IMPRVMNT\n",
    "    ##   BASIC POWER TOOLS - 3 items                                                                                        \n",
    "    df_spc.loc[(df_spc[\"DPT_DSC\"] == 'HOME IMPRVMNT') & (df_spc['COM_DSC'] == 'POWER TOOL/ACCSSR') & (df_spc['SUBCOM_DSC'] == 'BASIC POWER TOOLS')  & (df_spc['VND_ECOM_DSC'].str.contains('HDMI Adapter')), ['VML1', 'VRF1']] = 'Electronics' \n",
    "    df_spc.loc[(df_spc[\"DPT_DSC\"] == 'HOME IMPRVMNT') & (df_spc['COM_DSC'] == 'POWER TOOL/ACCSSR') & (df_spc['SUBCOM_DSC'] == 'BASIC POWER TOOLS')  & (df_spc['VND_ECOM_DSC'].str.contains('HDMI Adapter')), ['VML2', 'VRF2']] = 'Computer'                                                                                        \n",
    "    df_spc.loc[(df_spc[\"DPT_DSC\"] == 'HOME IMPRVMNT') & (df_spc['COM_DSC'] == 'POWER TOOL/ACCSSR') & (df_spc['SUBCOM_DSC'] == 'BASIC POWER TOOLS')  & (df_spc['VND_ECOM_DSC'].str.contains('Beer Growle')), ['VML1', 'VRF1']] = 'Beer / Wine / Spirits' \n",
    "    df_spc.loc[(df_spc[\"DPT_DSC\"] == 'HOME IMPRVMNT') & (df_spc['COM_DSC'] == 'POWER TOOL/ACCSSR') & (df_spc['SUBCOM_DSC'] == 'BASIC POWER TOOLS')  & (df_spc['VND_ECOM_DSC'].str.contains('Beer Growle')), ['VML2', 'VRF2']] = 'Alcohol Making Supplies' \n",
    "    df_spc.loc[(df_spc[\"DPT_DSC\"] == 'HOME IMPRVMNT') & (df_spc['COM_DSC'] == 'POWER TOOL/ACCSSR') & (df_spc['SUBCOM_DSC'] == 'BASIC POWER TOOLS')  & (df_spc['VND_ECOM_DSC'].str.contains('Handrail')), ['VML1', 'VRF1']] = 'Gardening & Outdoors' \n",
    "    df_spc.loc[(df_spc[\"DPT_DSC\"] == 'HOME IMPRVMNT') & (df_spc['COM_DSC'] == 'POWER TOOL/ACCSSR') & (df_spc['SUBCOM_DSC'] == 'BASIC POWER TOOLS')  & (df_spc['VND_ECOM_DSC'].str.contains('Handrail')), ['VML2', 'VRF2']] = 'Outdoor Living'                                                                                               \n",
    "    \n",
    "    df_spc.loc[(df_spc[\"DPT_DSC\"] == 'HOME IMPRVMNT') & (df_spc['COM_DSC'] == 'HOUSEHOLD ELECTRIC') & (df_spc['SUBCOM_DSC'] == 'DIY ELECTRICAL')  & (df_spc['VND_ECOM_DSC'].str.contains('Light Sconce')), ['VML1', 'VRF1']] = 'Home & Venue Decoration' \n",
    "    df_spc.loc[(df_spc[\"DPT_DSC\"] == 'HOME IMPRVMNT') & (df_spc['COM_DSC'] == 'HOUSEHOLD ELECTRIC') & (df_spc['SUBCOM_DSC'] == 'DIY ELECTRICAL')  & (df_spc['VND_ECOM_DSC'].str.contains('Light Sconce')), ['VML2', 'VRF2']] = 'Decorative Accessories'   \n",
    "    df_spc.loc[(df_spc[\"DPT_DSC\"] == 'HOME IMPRVMNT') & (df_spc['COM_DSC'] == 'HOUSEHOLD ELECTRIC') & (df_spc['SUBCOM_DSC'] == 'DIY ELECTRICAL')  & (df_spc['VND_ECOM_DSC'].str.contains('Gardner Bender')), ['VML1', 'VRF1']] = 'Electrical' \n",
    "    df_spc.loc[(df_spc[\"DPT_DSC\"] == 'HOME IMPRVMNT') & (df_spc['COM_DSC'] == 'HOUSEHOLD ELECTRIC') & (df_spc['SUBCOM_DSC'] == 'DIY ELECTRICAL')  & (df_spc['VND_ECOM_DSC'].str.contains('Gardner Bender')), ['VML2', 'VRF2']] = 'Wire, Cable & Cord' \n",
    "    df_spc.loc[(df_spc[\"DPT_DSC\"] == 'HOME IMPRVMNT') & (df_spc['COM_DSC'] == 'HEATERS & FANS') & (df_spc['SUBCOM_DSC'] == 'HEATERS'), ['VML1', 'VRF1']] = 'Heating / Ventilation / Air Conditioning' \n",
    "    df_spc.loc[(df_spc[\"DPT_DSC\"] == 'HOME IMPRVMNT') & (df_spc['COM_DSC'] == 'HEATERS & FANS') & (df_spc['SUBCOM_DSC'] == 'HEATERS'), ['VML2', 'VRF2']] = 'Heating' \n",
    "    df_spc.loc[(df_spc[\"DPT_DSC\"] == 'HOME IMPRVMNT') & (df_spc['COM_DSC'] == 'AUTO CHEMICALS') & (df_spc['SUBCOM_DSC'] == 'WINDSHIELD'), ['VML1', 'VRF1']] = 'Automotive' \n",
    "    df_spc.loc[(df_spc[\"DPT_DSC\"] == 'HOME IMPRVMNT') & (df_spc['COM_DSC'] == 'AUTO CHEMICALS') & (df_spc['SUBCOM_DSC'] == 'WINDSHIELD'), ['VML2', 'VRF2']] = 'Fluids, Chemicals, Compounds'  \n",
    "    df_spc.loc[(df_spc[\"DPT_DSC\"] == 'HOME IMPRVMNT') & (df_spc['COM_DSC'] == 'AUTO ACCESSORIES') & (df_spc['SUBCOM_DSC'] == 'FALL & WINTER SEASONAL'), ['VML1', 'VRF1']] = 'Automotive' \n",
    "    df_spc.loc[(df_spc[\"DPT_DSC\"] == 'HOME IMPRVMNT') & (df_spc['COM_DSC'] == 'AUTO ACCESSORIES') & (df_spc['SUBCOM_DSC'] == 'FALL & WINTER SEASONAL'), ['VML2', 'VRF2']] = 'Fluids, Chemicals, Compounds'  \n",
    "    df_spc.loc[(df_spc[\"DPT_DSC\"] == 'HOME IMPRVMNT') & (df_spc['COM_DSC'] == 'AUTO ACCESSORIES') & (df_spc['SUBCOM_DSC'] == 'FALL & WINTER SEASONAL') & (df_spc['VND_ECOM_DSC'].str.contains('SNWBRM')), ['VML1', 'VRF1']] = 'Automotive' \n",
    "    df_spc.loc[(df_spc[\"DPT_DSC\"] == 'HOME IMPRVMNT') & (df_spc['COM_DSC'] == 'AUTO ACCESSORIES') & (df_spc['SUBCOM_DSC'] == 'FALL & WINTER SEASONAL') & (df_spc['VND_ECOM_DSC'].str.contains('SNWBRM')), ['VML2', 'VRF2']] = 'Tools'                                                                                               \n",
    "    return df_spc    "
   ]
  },
  {
   "cell_type": "code",
   "execution_count": 12,
   "id": "817d17ee",
   "metadata": {},
   "outputs": [],
   "source": [
    " def process_gm_3(df_spc): \n",
    "     \"\"\"\n",
    "       HOUSEWARES\n",
    "        - APPLIANCES\n",
    "        - BAKEWARE \n",
    "     \"\"\"   \n",
    "     df_spc.loc[(df_spc[\"DPT_DSC\"] == 'HOUSEWARES') & (df_spc['COM_DSC'] == 'APPLIANCES') & (df_spc['SUBCOM_DSC'].str.contains('GENERAL USE/MISC')) & (df_spc['VND_ECOM_DSC'].str.contains('Wine Brewing|Beer Growler')), ['VML1', 'VRF1']] = 'Beer / Wine / Spirits' \n",
    "     df_spc.loc[(df_spc[\"DPT_DSC\"] == 'HOUSEWARES') & (df_spc['COM_DSC'] == 'APPLIANCES') & (df_spc['SUBCOM_DSC'].str.contains('GENERAL USE/MISC')) & (df_spc['VND_ECOM_DSC'].str.contains('Wine Brewing|Beer Growler')), ['VML2', 'VRF2']] = 'Alcohol Making Supplies'  \n",
    "                                                                                              \n",
    "     # - 3 items HOUSEWARES\n",
    "     ##   BASIC POWER TOOLS - 3 items                                                                                        \n",
    "     df_spc.loc[(df_spc[\"DPT_DSC\"] == 'HOUSEWARES') & (df_spc['COM_DSC'] == 'BAKEWARE') & (df_spc['SUBCOM_DSC'] == 'SEASONAL')  & (df_spc['VND_ECOM_DSC'].str.contains('NONPAREILS TALL|FISH|DRNK')), ['VML1', 'VRF1']] = 'Food / Beverages' \n",
    "     df_spc.loc[(df_spc[\"DPT_DSC\"] == 'HOUSEWARES') & (df_spc['COM_DSC'] == 'BAKEWARE') & (df_spc['SUBCOM_DSC'] == 'SEASONAL')  & (df_spc['VND_ECOM_DSC'].str.contains('NONPAREILS TALL|FISH|DRNK')), ['VML2', 'VRF2']] = 'Grocery'                                                                                        \n",
    "     df_spc.loc[(df_spc[\"DPT_DSC\"] == 'HOUSEWARES') & (df_spc['COM_DSC'] == 'BAKEWARE') & (df_spc['SUBCOM_DSC'] == 'PANTRY')  & (df_spc['VND_ECOM_DSC'].str.contains('Condiment Holder')), ['VML1', 'VRF1']] = 'Kitchen & Bathroom' \n",
    "     df_spc.loc[(df_spc[\"DPT_DSC\"] == 'HOUSEWARES') & (df_spc['COM_DSC'] == 'BAKEWARE') & (df_spc['SUBCOM_DSC'] == 'PANTRY')  & (df_spc['VND_ECOM_DSC'].str.contains('Condiment Holder')), ['VML2', 'VRF2']] = 'Kitchen'\n",
    "     df_spc.loc[(df_spc[\"DPT_DSC\"] == 'HOUSEWARES') & (df_spc['COM_DSC'] == 'BAKEWARE') & (df_spc['SUBCOM_DSC'] == 'SEASONAL')  & (df_spc['VND_ECOM_DSC'].str.contains('CUPCAKE  BTL STAND')), ['VML1', 'VRF1']] = 'Kitchen & Bathroom' \n",
    "     df_spc.loc[(df_spc[\"DPT_DSC\"] == 'HOUSEWARES') & (df_spc['COM_DSC'] == 'BAKEWARE') & (df_spc['SUBCOM_DSC'] == 'SEASONAL')  & (df_spc['VND_ECOM_DSC'].str.contains('CUPCAKE  BTL STAND')), ['VML2', 'VRF2']] = 'Kitchen'      \n",
    "     df_spc.loc[(df_spc[\"DPT_DSC\"] == 'HOUSEWARES') & (df_spc['COM_DSC'] == 'BAKEWARE') & (df_spc['SUBCOM_DSC'] == 'SEASONAL')  & (df_spc['VND_ECOM_DSC'].str.contains('Swivel Riser')), ['VML1', 'VRF1']] = 'Office Supplies' \n",
    "     df_spc.loc[(df_spc[\"DPT_DSC\"] == 'HOUSEWARES') & (df_spc['COM_DSC'] == 'BAKEWARE') & (df_spc['SUBCOM_DSC'] == 'SEASONAL')  & (df_spc['VND_ECOM_DSC'].str.contains('Swivel Riser')), ['VML2', 'VRF2']] = 'Office Machinery'\n",
    "     \n",
    "     df_spc.loc[(df_spc[\"DPT_DSC\"] == 'HOUSEWARES') & (df_spc['COM_DSC'] == 'BEVERAGE') & (df_spc['SUBCOM_DSC'] == 'COFFEE')  & (df_spc['VND_ECOM_DSC'].str.contains('Mug|Glass Carafe')), ['VML1', 'VRF1']] = 'Kitchen & Bathroom' \n",
    "     df_spc.loc[(df_spc[\"DPT_DSC\"] == 'HOUSEWARES') & (df_spc['COM_DSC'] == 'BEVERAGE') & (df_spc['SUBCOM_DSC'] == 'COFFEE')  & (df_spc['VND_ECOM_DSC'].str.contains('Mug|Glass Carafe')), ['VML2', 'VRF2']] = 'Kitchen'                                                                                               \n",
    "     df_spc.loc[(df_spc[\"DPT_DSC\"] == 'HOUSEWARES') & (df_spc['COM_DSC'] == 'BEVERAGE') & (df_spc['SUBCOM_DSC'] == 'COFFEE')  & (df_spc['VND_ECOM_DSC'].str.contains('Beer Bong by True')), ['VML1', 'VRF1']] = 'Home & Venue Decoration' \n",
    "     df_spc.loc[(df_spc[\"DPT_DSC\"] == 'HOUSEWARES') & (df_spc['COM_DSC'] == 'BEVERAGE') & (df_spc['SUBCOM_DSC'] == 'COFFEE')  & (df_spc['VND_ECOM_DSC'].str.contains('Beer Bong by True')), ['VML2', 'VRF2']] = 'Special Occasion & Party Supplies'       \n",
    "     \n",
    "     df_spc.loc[(df_spc[\"DPT_DSC\"] == 'HOUSEWARES') & (df_spc['COM_DSC'] == 'BEVERAGE') & (df_spc['SUBCOM_DSC'] == 'SPECIALTY BEVERAGE')  & (df_spc['VND_ECOM_DSC'].str.contains('WINE GROWLER')), ['VML1', 'VRF1']] = 'Kitchen & Bathroom' \n",
    "     df_spc.loc[(df_spc[\"DPT_DSC\"] == 'HOUSEWARES') & (df_spc['COM_DSC'] == 'BEVERAGE') & (df_spc['SUBCOM_DSC'] == 'SPECIALTY BEVERAGE')  & (df_spc['VND_ECOM_DSC'].str.contains('WINE GROWLER')), ['VML2', 'VRF2']] = 'Kitchen'\n",
    "     df_spc.loc[(df_spc[\"DPT_DSC\"] == 'HOUSEWARES') & (df_spc['COM_DSC'] == 'BEVERAGE') & (df_spc['SUBCOM_DSC'] == 'THERMAL BEVERAGEWARE'), ['VML1', 'VRF1']] = 'Kitchen & Bathroom' \n",
    "     df_spc.loc[(df_spc[\"DPT_DSC\"] == 'HOUSEWARES') & (df_spc['COM_DSC'] == 'BEVERAGE') & (df_spc['SUBCOM_DSC'] == 'THERMAL BEVERAGEWARE'), ['VML2', 'VRF2']] = 'Kitchen'     \n",
    "    \n",
    "     \n",
    "     df_spc.loc[(df_spc[\"DPT_DSC\"] == 'HOUSEWARES') & (df_spc['COM_DSC'] == 'BEVERAGE') & (df_spc['SUBCOM_DSC'] == 'SPECIALTY BEVERAGE')  & (df_spc['VND_ECOM_DSC'].str.contains('Beer Bong by True')), ['VML1', 'VRF1']] = 'Home & Venue Decoration' \n",
    "     df_spc.loc[(df_spc[\"DPT_DSC\"] == 'HOUSEWARES') & (df_spc['COM_DSC'] == 'BEVERAGE') & (df_spc['SUBCOM_DSC'] == 'SPECIALTY BEVERAGE')  & (df_spc['VND_ECOM_DSC'].str.contains('Beer Bong by True')), ['VML2', 'VRF2']] = 'Special Occasion & Party Supplies'                     \n",
    "     df_spc.loc[(df_spc[\"DPT_DSC\"] == 'HOUSEWARES') & (df_spc['COM_DSC'] == 'BEVERAGE') & (df_spc['SUBCOM_DSC'] == 'SPECIALTY BEVERAGE')  & (df_spc['VND_ECOM_DSC'].str.contains('Brewing System')), ['VML1', 'VRF1']] = 'Office Supplies' \n",
    "     df_spc.loc[(df_spc[\"DPT_DSC\"] == 'HOUSEWARES') & (df_spc['COM_DSC'] == 'BEVERAGE') & (df_spc['SUBCOM_DSC'] == 'SPECIALTY BEVERAGE')  & (df_spc['VND_ECOM_DSC'].str.contains('Brewing System')), ['VML2', 'VRF2']] = 'Office Machinery'            \n",
    "     \n",
    "     df_spc.loc[(df_spc[\"DPT_DSC\"] == 'HOUSEWARES') & (df_spc['COM_DSC'] == 'DINNERWARE/SERVEWARE') & (df_spc['SUBCOM_DSC'] == 'SEASONAL'), ['VML1', 'VRF1']] = 'Kitchen & Bathroom' \n",
    "     df_spc.loc[(df_spc[\"DPT_DSC\"] == 'HOUSEWARES') & (df_spc['COM_DSC'] == 'DINNERWARE/SERVEWARE') & (df_spc['SUBCOM_DSC'] == 'SEASONAL'), ['VML2', 'VRF2']] = 'Kitchen'  \n",
    "     df_spc.loc[(df_spc[\"DPT_DSC\"] == 'HOUSEWARES') & (df_spc['COM_DSC'] == 'DINNERWARE/SERVEWARE') & (df_spc['SUBCOM_DSC'] == 'SEASONAL')  & (df_spc['VND_ECOM_DSC'].str.contains('HALLOWEEN ASSORTED HALF PALLET')), ['VML1', 'VRF1']] = 'Home & Venue Decoration' \n",
    "     df_spc.loc[(df_spc[\"DPT_DSC\"] == 'HOUSEWARES') & (df_spc['COM_DSC'] == 'DINNERWARE/SERVEWARE') & (df_spc['SUBCOM_DSC'] == 'SEASONAL')  & (df_spc['VND_ECOM_DSC'].str.contains('HALLOWEEN ASSORTED HALF PALLET')), ['VML2', 'VRF2']] = 'Special Occasion & Party Supplies' \n",
    "     \n",
    "     df_spc.loc[(df_spc[\"DPT_DSC\"] == 'HOUSEWARES') & (df_spc['COM_DSC'] == 'DRINKWARE/FLATWARE') & (df_spc['SUBCOM_DSC'] == 'DRINKWARE')  & (df_spc['VND_ECOM_DSC'].str.lower().str.contains('glass|cathys Concepts|decanter|growler|tumbler|hug|bag|caddy|stein|craft|opener|carolines treasures|koozie|markers|sleeves|mug|holder|cooler|wine preserver kit|crystal|spiegelau|wine carafe|beer flight by true')), ['VML1', 'VRF1']] = 'Kitchen & Bathroom' \n",
    "     df_spc.loc[(df_spc[\"DPT_DSC\"] == 'HOUSEWARES') & (df_spc['COM_DSC'] == 'DRINKWARE/FLATWARE') & (df_spc['SUBCOM_DSC'] == 'DRINKWARE')  & (df_spc['VND_ECOM_DSC'].str.lower().str.contains('glass|cathys Concepts|decanter|growler|tumbler|hug|bag|caddy|stein|craft|opener|carolines treasures|koozie|markers|sleeves|mug|holder|cooler|wine preserver kit|crystal|spiegelau|wine carafe|beer flight by true')), ['VML2', 'VRF2']] = 'Kitchen'\n",
    "       \n",
    "     df_spc.loc[(df_spc[\"DPT_DSC\"] == 'HOUSEWARES') & (df_spc['COM_DSC'] == 'DRINKWARE/FLATWARE') & (df_spc['SUBCOM_DSC'] == 'DRINKWARE')  & (df_spc['VND_ECOM_DSC'].str.lower().str.contains('shooter dispenser|beer tower')), ['VML1', 'VRF1']] = 'Hospitality Supplies' \n",
    "     df_spc.loc[(df_spc[\"DPT_DSC\"] == 'HOUSEWARES') & (df_spc['COM_DSC'] == 'DRINKWARE/FLATWARE') & (df_spc['SUBCOM_DSC'] == 'DRINKWARE')  & (df_spc['VND_ECOM_DSC'].str.lower().str.contains('shooter dispenser|beer tower')), ['VML2', 'VRF2']] = 'Dispensers'   \n",
    "     df_spc.loc[(df_spc[\"DPT_DSC\"] == 'HOUSEWARES') & (df_spc['COM_DSC'] == 'DRINKWARE/FLATWARE') & (df_spc['SUBCOM_DSC'] == 'DRINKWARE')  & (df_spc['VND_ECOM_DSC'].str.lower().str.contains('wine charms')), ['VML1', 'VRF1']] = 'Home & Venue Decoration'\n",
    "     df_spc.loc[(df_spc[\"DPT_DSC\"] == 'HOUSEWARES') & (df_spc['COM_DSC'] == 'DRINKWARE/FLATWARE') & (df_spc['SUBCOM_DSC'] == 'DRINKWARE')  & (df_spc['VND_ECOM_DSC'].str.lower().str.contains('wine charms')), ['VML2', 'VRF2']] = 'Special Occasion & Party Supplies'\n",
    "     df_spc.loc[(df_spc[\"DPT_DSC\"] == 'HOUSEWARES') & (df_spc['COM_DSC'] == 'HEATERS & FANS') & (df_spc['SUBCOM_DSC'] == 'HEATERS'), ['VML1', 'VRF1']] = 'Heating / Ventilation / Air Conditioning' \n",
    "     df_spc.loc[(df_spc[\"DPT_DSC\"] == 'HOUSEWARES') & (df_spc['COM_DSC'] == 'HEATERS & FANS') & (df_spc['SUBCOM_DSC'] == 'HEATERS'), ['VML2', 'VRF2']] = 'Heating' \n",
    "     df_spc.loc[(df_spc[\"DPT_DSC\"] == 'HOUSEWARES') & (df_spc['COM_DSC'] == 'AUTO CHEMICALS') & (df_spc['SUBCOM_DSC'] == 'WINDSHIELD'), ['VML1', 'VRF1']] = 'Automotive' \n",
    "     df_spc.loc[(df_spc[\"DPT_DSC\"] == 'HOUSEWARES') & (df_spc['COM_DSC'] == 'AUTO CHEMICALS') & (df_spc['SUBCOM_DSC'] == 'WINDSHIELD'), ['VML2', 'VRF2']] = 'Fluids, Chemicals, Compounds'  \n",
    "     df_spc.loc[(df_spc[\"DPT_DSC\"] == 'HOUSEWARES') & (df_spc['COM_DSC'] == 'AUTO ACCESSORIES') & (df_spc['SUBCOM_DSC'] == 'FALL & WINTER SEASONAL'), ['VML1', 'VRF1']] = 'Automotive' \n",
    "     df_spc.loc[(df_spc[\"DPT_DSC\"] == 'HOUSEWARES') & (df_spc['COM_DSC'] == 'AUTO ACCESSORIES') & (df_spc['SUBCOM_DSC'] == 'FALL & WINTER SEASONAL'), ['VML2', 'VRF2']] = 'Fluids, Chemicals, Compounds'  \n",
    "     df_spc.loc[(df_spc[\"DPT_DSC\"] == 'HOUSEWARES') & (df_spc['COM_DSC'] == 'AUTO ACCESSORIES') & (df_spc['SUBCOM_DSC'] == 'FALL & WINTER SEASONAL') & (df_spc['VND_ECOM_DSC'].str.contains('SNWBRM')), ['VML1', 'VRF1']] = 'Automotive' \n",
    "     df_spc.loc[(df_spc[\"DPT_DSC\"] == 'HOUSEWARES') & (df_spc['COM_DSC'] == 'AUTO ACCESSORIES') & (df_spc['SUBCOM_DSC'] == 'FALL & WINTER SEASONAL') & (df_spc['VND_ECOM_DSC'].str.contains('SNWBRM')), ['VML2', 'VRF2']] = 'Tools'\n",
    "     \n",
    "     df_spc.loc[(df_spc[\"DPT_DSC\"] == 'HOUSEWARES') & (df_spc['COM_DSC'] == 'DRINKWARE/FLATWARE') & (df_spc['SUBCOM_DSC'] == 'DRINKWARE')  \n",
    "              & (df_spc['VND_ECOM_DSC'].str.lower().str.contains('glass|cathys concepts|decanter|growler|tumbler|hug|bag|caddy|stein|craft|opener|carolines treasures|koozie|markers|sleeves|mug|holder|cooler|wine preserver kit|crystal|spiegelau|wine carafe|beer flight by true')), ['VML1', 'VRF1']] = 'Kitchen & Bathroom' \n",
    "     df_spc.loc[(df_spc[\"DPT_DSC\"] == 'HOUSEWARES') & (df_spc['COM_DSC'] == 'DRINKWARE/FLATWARE') & (df_spc['SUBCOM_DSC'] == 'DRINKWARE')  \n",
    "              & (df_spc['VND_ECOM_DSC'].str.lower().str.contains('glass|cathys concepts|decanter|growler|tumbler|hug|bag|caddy|stein|craft|opener|carolines treasures|koozie|markers|sleeves|mug|holder|cooler|wine preserver kit|crystal|spiegelau|wine carafe|beer flight by true')), ['VML2', 'VRF2']] = 'Kitchen'        \n",
    "     df_spc.loc[(df_spc[\"DPT_DSC\"] == 'HOUSEWARES') & (df_spc['COM_DSC'] == 'DRINKWARE/FLATWARE') & (df_spc['SUBCOM_DSC'] == 'DRINKWARE')  & (df_spc['VND_ECOM_DSC'].str.lower().str.contains('shooter dispenser|beer tower')), ['VML1', 'VRF1']] = 'Hospitality Supplies' \n",
    "     df_spc.loc[(df_spc[\"DPT_DSC\"] == 'HOUSEWARES') & (df_spc['COM_DSC'] == 'DRINKWARE/FLATWARE') & (df_spc['SUBCOM_DSC'] == 'DRINKWARE')  & (df_spc['VND_ECOM_DSC'].str.lower().str.contains('shooter dispenser|beer tower')), ['VML2', 'VRF2']] = 'Dispensers'   \n",
    "     df_spc.loc[(df_spc[\"DPT_DSC\"] == 'HOUSEWARES') & (df_spc['COM_DSC'] == 'DRINKWARE/FLATWARE') & (df_spc['SUBCOM_DSC'] == 'DRINKWARE')  & (df_spc['VND_ECOM_DSC'].str.lower().str.contains('wine charms')), ['VML1', 'VRF1']] = 'Home & Venue Decoration'\n",
    "     df_spc.loc[(df_spc[\"DPT_DSC\"] == 'HOUSEWARES') & (df_spc['COM_DSC'] == 'DRINKWARE/FLATWARE') & (df_spc['SUBCOM_DSC'] == 'DRINKWARE')  & (df_spc['VND_ECOM_DSC'].str.lower().str.contains('wine charms')), ['VML2', 'VRF2']] = 'Special Occasion & Party Supplies'\n",
    "     df_spc.loc[(df_spc[\"DPT_DSC\"] == 'HOUSEWARES') & (df_spc['COM_DSC'] == 'DRINKWARE/FLATWARE') & (df_spc['SUBCOM_DSC'] == 'FLATWARE')   & (df_spc['VND_ECOM_DSC'].str.lower().str.contains('Tier Stand')), ['VML1', 'VRF1']] = 'Kitchen & Bathroom'\n",
    "     df_spc.loc[(df_spc[\"DPT_DSC\"] == 'HOUSEWARES') & (df_spc['COM_DSC'] == 'DRINKWARE/FLATWARE') & (df_spc['SUBCOM_DSC'] == 'FLATWARE')   & (df_spc['VND_ECOM_DSC'].str.lower().str.contains('Tier Stand')), ['VML2', 'VRF2']] = 'Kitchen'\n",
    "     df_spc.loc[(df_spc[\"DPT_DSC\"] == 'HOUSEWARES') & (df_spc['COM_DSC'] == 'DRINKWARE/FLATWARE') & (df_spc['SUBCOM_DSC'] == 'SEASONAL')   & (df_spc['VND_ECOM_DSC'].str.lower().str.contains('glass|gls|goblets|wine box')), ['VML1', 'VRF1']] = 'Kitchen & Bathroom'\n",
    "     df_spc.loc[(df_spc[\"DPT_DSC\"] == 'HOUSEWARES') & (df_spc['COM_DSC'] == 'DRINKWARE/FLATWARE') & (df_spc['SUBCOM_DSC'] == 'SEASONAL')   & (df_spc['VND_ECOM_DSC'].str.lower().str.contains('glass|gls|goblets|wine box')), ['VML2', 'VRF2']] = 'Kitchen'\n",
    "     df_spc.loc[(df_spc[\"DPT_DSC\"] == 'HOUSEWARES') & (df_spc['COM_DSC'] == 'DRINKWARE/FLATWARE') & (df_spc['SUBCOM_DSC'] == 'SEASONAL')  & (df_spc['VND_ECOM_DSC'].str.lower().str.contains('wine charms')), ['VML1', 'VRF1']] = 'Home & Venue Decoration'\n",
    "     df_spc.loc[(df_spc[\"DPT_DSC\"] == 'HOUSEWARES') & (df_spc['COM_DSC'] == 'DRINKWARE/FLATWARE') & (df_spc['SUBCOM_DSC'] == 'SEASONAL')  & (df_spc['VND_ECOM_DSC'].str.lower().str.contains('wine charms')), ['VML2', 'VRF2']] = 'Special Occasion & Party Supplies'  \n",
    "\n",
    "     df_spc.loc[(df_spc[\"DPT_DSC\"] == 'HOUSEWARES') & (df_spc['COM_DSC'] == 'FOOD STORAGE') & (df_spc['SUBCOM_DSC'] == 'KITCHEN ACCESSORIES')   & (df_spc['VND_ECOM_DSC'].str.lower().str.contains('cabinet|credenza|cupboard hood')), ['VML1', 'VRF1']] = 'Kitchen & Bathroom'\n",
    "     df_spc.loc[(df_spc[\"DPT_DSC\"] == 'HOUSEWARES') & (df_spc['COM_DSC'] == 'FOOD STORAGE') & (df_spc['SUBCOM_DSC'] == 'KITCHEN ACCESSORIES')   & (df_spc['VND_ECOM_DSC'].str.lower().str.contains('cabinet|credenza|cupboard hood')), ['VML2', 'VRF2']] = 'Cabinets'\n",
    "     df_spc.loc[(df_spc[\"DPT_DSC\"] == 'HOUSEWARES') & (df_spc['COM_DSC'] == 'FOOD STORAGE') & (df_spc['SUBCOM_DSC'] == 'KITCHEN ACCESSORIES')   & (df_spc['VND_ECOM_DSC'].str.lower().str.contains('rack|holder|basket|convenience concepts|floating shelves|decanter|etagere')), ['VML1', 'VRF1']] = 'Kitchen & Bathroom'\n",
    "     df_spc.loc[(df_spc[\"DPT_DSC\"] == 'HOUSEWARES') & (df_spc['COM_DSC'] == 'FOOD STORAGE') & (df_spc['SUBCOM_DSC'] == 'KITCHEN ACCESSORIES')   & (df_spc['VND_ECOM_DSC'].str.lower().str.contains('rack|holder|basket|convenience concepts|floating shelves|decanter|etagere')), ['VML2', 'VRF2']] = 'Kitchen' \n",
    "     df_spc.loc[(df_spc[\"DPT_DSC\"] == 'HOUSEWARES') & (df_spc['COM_DSC'] == 'FOOD STORAGE') & (df_spc['SUBCOM_DSC'] == 'FOOD')   & (df_spc['VND_ECOM_DSC'].str.lower().str.contains('clamshell')), ['VML1', 'VRF1']] = 'Kitchen & Bathroom'\n",
    "     df_spc.loc[(df_spc[\"DPT_DSC\"] == 'HOUSEWARES') & (df_spc['COM_DSC'] == 'FOOD STORAGE') & (df_spc['SUBCOM_DSC'] == 'FOOD')   & (df_spc['VND_ECOM_DSC'].str.lower().str.contains('clamshell')), ['VML2', 'VRF2']] = 'Kitchen'       \n",
    "     df_spc.loc[(df_spc[\"DPT_DSC\"] == 'HOUSEWARES') & (df_spc['COM_DSC'] == 'FOOD STORAGE') & (df_spc['SUBCOM_DSC'] == 'KITCHEN ACCESSORIES')   & (df_spc['VND_ECOM_DSC'].str.lower().str.contains('bookcase|bookshelf ladder')), ['VML1', 'VRF1']] = 'Office Supplies'\n",
    "     df_spc.loc[(df_spc[\"DPT_DSC\"] == 'HOUSEWARES') & (df_spc['COM_DSC'] == 'FOOD STORAGE') & (df_spc['SUBCOM_DSC'] == 'KITCHEN ACCESSORIES')   & (df_spc['VND_ECOM_DSC'].str.lower().str.contains('bookcase|bookshelf ladder')), ['VML2', 'VRF2']] = 'Office Machinery'         \n",
    "     df_spc.loc[(df_spc[\"DPT_DSC\"] == 'HOUSEWARES') & (df_spc['COM_DSC'] == 'FOOD STORAGE') & (df_spc['SUBCOM_DSC'] == 'KITCHEN ACCESSORIES')  & (df_spc['VND_ECOM_DSC'].str.lower().str.contains('cart')), ['VML1', 'VRF1']] = 'Home & Venue Decoration'\n",
    "     df_spc.loc[(df_spc[\"DPT_DSC\"] == 'HOUSEWARES') & (df_spc['COM_DSC'] == 'FOOD STORAGE') & (df_spc['SUBCOM_DSC'] == 'KITCHEN ACCESSORIES')  & (df_spc['VND_ECOM_DSC'].str.lower().str.contains('cart')), ['VML2', 'VRF2']] = 'Special Occasion & Party Supplies' \n",
    "     df_spc.loc[(df_spc[\"DPT_DSC\"] == 'HOUSEWARES') & (df_spc['COM_DSC'] == 'FOOD STORAGE') & (df_spc['SUBCOM_DSC'] == 'KITCHEN ACCESSORIES')  & (df_spc['VND_ECOM_DSC'].str.lower().str.contains('gun chest')), ['VML1', 'VRF1']] = 'Sports & Outdoor Recreation Equipment'\n",
    "     df_spc.loc[(df_spc[\"DPT_DSC\"] == 'HOUSEWARES') & (df_spc['COM_DSC'] == 'FOOD STORAGE') & (df_spc['SUBCOM_DSC'] == 'KITCHEN ACCESSORIES')  & (df_spc['VND_ECOM_DSC'].str.lower().str.contains('gun chest')), ['VML2', 'VRF2']] = 'Hunting & Fishing'            \n",
    "\n",
    "     df_spc.loc[(df_spc[\"DPT_DSC\"] == 'HOUSEWARES') & (df_spc['COM_DSC'] == 'TEXTILES') & (df_spc['SUBCOM_DSC'].str.contains('SEASONAL|KITCHEN TEXTILES'))   & (df_spc['VND_ECOM_DSC'].str.lower().str.contains('sack|towl|tc|potholder|holder|ecovinyl|apr spruce happy hanukkah')), ['VML1', 'VRF1']] = 'Kitchen & Bathroom'\n",
    "     df_spc.loc[(df_spc[\"DPT_DSC\"] == 'HOUSEWARES') & (df_spc['COM_DSC'] == 'TEXTILES') & (df_spc['SUBCOM_DSC'].str.contains('SEASONAL|KITCHEN TEXTILES'))   & (df_spc['VND_ECOM_DSC'].str.lower().str.contains('sack|towl|tc|potholder|holder|ecovinyl|apr spruce happy hanukkah')), ['VML2', 'VRF2']] = 'Kitchen'        \n",
    "     df_spc.loc[(df_spc[\"DPT_DSC\"] == 'HOUSEWARES') & (df_spc['COM_DSC'] == 'TEXTILES') & (df_spc['SUBCOM_DSC'] == 'SEASONAL')  & (df_spc['VND_ECOM_DSC'].str.lower().str.contains('assorted dollar pallet')), ['VML1', 'VRF1']] = 'Office Supplies'\n",
    "     df_spc.loc[(df_spc[\"DPT_DSC\"] == 'HOUSEWARES') & (df_spc['COM_DSC'] == 'TEXTILES') & (df_spc['SUBCOM_DSC'] == 'SEASONAL')  & (df_spc['VND_ECOM_DSC'].str.lower().str.contains('assorted dollar pallet')), ['VML2', 'VRF2']] = 'Office Machinery'  \n",
    "     df_spc.loc[(df_spc[\"DPT_DSC\"] == 'HOUSEWARES') & (df_spc['COM_DSC'] == 'TEXTILES') & (df_spc['SUBCOM_DSC'] == 'SEASONAL')  & (df_spc['VND_ECOM_DSC'].str.contains('HALLOWEEN ASST. SINGLE')), ['VML1', 'VRF1']] = 'Home & Venue Decoration'\n",
    "     df_spc.loc[(df_spc[\"DPT_DSC\"] == 'HOUSEWARES') & (df_spc['COM_DSC'] == 'TEXTILES') & (df_spc['SUBCOM_DSC'] == 'SEASONAL')  & (df_spc['VND_ECOM_DSC'].str.contains('HALLOWEEN ASST. SINGLE')), ['VML2', 'VRF2']] = 'Special Occasion & Party Supplies'        \n",
    "     df_spc.loc[(df_spc[\"DPT_DSC\"] == 'HOUSEWARES') & (df_spc['COM_DSC'] == 'TEXTILES') & (df_spc['SUBCOM_DSC'] == 'SEASONAL')  & (df_spc['VND_ECOM_DSC'].str.contains('BLB TO -GO  OPEN STOCK|Montana Check 70 RD')), ['VML1', 'VRF1']] = 'Misc'\n",
    "     df_spc.loc[(df_spc[\"DPT_DSC\"] == 'HOUSEWARES') & (df_spc['COM_DSC'] == 'TEXTILES') & (df_spc['SUBCOM_DSC'] == 'SEASONAL')  & (df_spc['VND_ECOM_DSC'].str.contains('BLB TO -GO  OPEN STOCK|Montana Check 70 RD')), ['VML2', 'VRF2']] = 'Misc'        \n",
    "     return df_spc "
   ]
  },
  {
   "cell_type": "code",
   "execution_count": 13,
   "id": "1e526683",
   "metadata": {},
   "outputs": [],
   "source": [
    " def process_gm_4(df_spc): \n",
    "     \"\"\"\n",
    "       DPT_DSC: VIDEO/ELEC/COMP\n",
    "\n",
    "     \"\"\" \n",
    "     df_spc.loc[(df_spc[\"DPT_DSC\"] == 'VIDEO/ELEC/COMP') & (df_spc['COM_DSC'] == 'AUDIO') & (df_spc['SUBCOM_DSC'].str.contains('APPLE'))  & (df_spc['VND_ECOM_DSC'].str.lower().str.contains('earpod|earphones|adapter|lightning')), ['VML1', 'VRF1']] = 'Electronics'\n",
    "     df_spc.loc[(df_spc[\"DPT_DSC\"] == 'VIDEO/ELEC/COMP') & (df_spc['COM_DSC'] == 'AUDIO') & (df_spc['SUBCOM_DSC'].str.contains('APPLE'))  & (df_spc['VND_ECOM_DSC'].str.lower().str.contains('earpod|earphones|adapter|lightning')), ['VML2', 'VRF2']] = 'Audio & Video' \n",
    "     df_spc.loc[(df_spc[\"DPT_DSC\"] == 'VIDEO/ELEC/COMP') & (df_spc['COM_DSC'] == 'AUDIO') & (df_spc['SUBCOM_DSC'].str.contains('APPLE'))  & (df_spc['VND_ECOM_DSC'].str.lower().str.contains('drive')), ['VML1', 'VRF1']] = 'Elec'\n",
    "     df_spc.loc[(df_spc[\"DPT_DSC\"] == 'VIDEO/ELEC/COMP') & (df_spc['COM_DSC'] == 'AUDIO') & (df_spc['SUBCOM_DSC'].str.contains('APPLE'))  & (df_spc['VND_ECOM_DSC'].str.lower().str.contains('drive')), ['VML2', 'VRF2']] = 'Computers'        \n",
    "     df_spc.loc[(df_spc[\"DPT_DSC\"] == 'VIDEO/ELEC/COMP') & (df_spc['COM_DSC'] == 'AUDIO') & (df_spc['SUBCOM_DSC'].str.contains('SPEAKERS')), ['VML1', 'VRF1']] = 'Electronics'\n",
    "     df_spc.loc[(df_spc[\"DPT_DSC\"] == 'VIDEO/ELEC/COMP') & (df_spc['COM_DSC'] == 'AUDIO') & (df_spc['SUBCOM_DSC'].str.contains('SPEAKERS')), ['VML2', 'VRF2']] = 'Audio & Video'    \n",
    "       \n",
    "     df_spc.loc[(df_spc[\"DPT_DSC\"] == 'VIDEO/ELEC/COMP') & (df_spc['COM_DSC'] == 'HOME ELCTRNIC ACCSS') & (df_spc['SUBCOM_DSC'] == 'HOME OFFICE ACCESSORIES')  & (df_spc['VND_ECOM_DSC'].str.lower().str.contains('mousepad|mouse pad|pad|scanner')), ['VML1', 'VRF1']] = 'Electronics'\n",
    "     df_spc.loc[(df_spc[\"DPT_DSC\"] == 'VIDEO/ELEC/COMP') & (df_spc['COM_DSC'] == 'HOME ELCTRNIC ACCSS') & (df_spc['SUBCOM_DSC'] == 'HOME OFFICE ACCESSORIES')  & (df_spc['VND_ECOM_DSC'].str.lower().str.contains('mousepad|mouse pad|pad|scanner')), ['VML2', 'VRF2']] = 'Computers'         \n",
    "     df_spc.loc[(df_spc[\"DPT_DSC\"] == 'VIDEO/ELEC/COMP') & (df_spc['COM_DSC'] == 'HOME OFFICE HARDWARE') & (df_spc['SUBCOM_DSC'] == 'CONNECTED HOME')  & (df_spc['VND_ECOM_DSC'].str.lower().str.contains('speaker')), ['VML1', 'VRF1']] = 'Electronics'\n",
    "     df_spc.loc[(df_spc[\"DPT_DSC\"] == 'VIDEO/ELEC/COMP') & (df_spc['COM_DSC'] == 'HOME OFFICE HARDWARE') & (df_spc['SUBCOM_DSC'] == 'CONNECTED HOME')  & (df_spc['VND_ECOM_DSC'].str.lower().str.contains('speaker')), ['VML2', 'VRF2']] = 'Audio & Video'  \n",
    "     df_spc.loc[(df_spc[\"DPT_DSC\"] == 'VIDEO/ELEC/COMP') & (df_spc['COM_DSC'] == 'HOME OFFICE HARDWARE') & (df_spc['SUBCOM_DSC'] == 'CONNECTED HOME')  & (df_spc['VND_ECOM_DSC'].str.lower().str.contains('hat holder')), ['VML1', 'VRF1']] = 'Office Supplies'\n",
    "     df_spc.loc[(df_spc[\"DPT_DSC\"] == 'VIDEO/ELEC/COMP') & (df_spc['COM_DSC'] == 'HOME OFFICE HARDWARE') & (df_spc['SUBCOM_DSC'] == 'CONNECTED HOME')  & (df_spc['VND_ECOM_DSC'].str.lower().str.contains('hat holder')), ['VML2', 'VRF2']] = 'Office Machinery' \n",
    "     df_spc.loc[(df_spc[\"DPT_DSC\"] == 'VIDEO/ELEC/COMP') & (df_spc['COM_DSC'] == 'HOME OFFICE HARDWARE') & (df_spc['SUBCOM_DSC'] == 'COMPUTER DEVICES')  & (df_spc['VND_ECOM_DSC'].str.lower().str.contains('adapt')), ['VML1', 'VRF1']] = 'Electronics'\n",
    "     df_spc.loc[(df_spc[\"DPT_DSC\"] == 'VIDEO/ELEC/COMP') & (df_spc['COM_DSC'] == 'HOME OFFICE HARDWARE') & (df_spc['SUBCOM_DSC'] == 'COMPUTER DEVICES')  & (df_spc['VND_ECOM_DSC'].str.lower().str.contains('adapt')), ['VML2', 'VRF2']] = 'Computers'         \n",
    "     df_spc.loc[(df_spc[\"DPT_DSC\"] == 'VIDEO/ELEC/COMP') & (df_spc['COM_DSC'] == 'HOME OFFICE HARDWARE') & (df_spc['SUBCOM_DSC'] == 'COMPUTER DEVICES')  & (df_spc['VND_ECOM_DSC'].str.lower().str.contains('network cabinet')), ['VML1', 'VRF1']] = 'Electronics'\n",
    "     df_spc.loc[(df_spc[\"DPT_DSC\"] == 'VIDEO/ELEC/COMP') & (df_spc['COM_DSC'] == 'HOME OFFICE HARDWARE') & (df_spc['SUBCOM_DSC'] == 'COMPUTER DEVICES')  & (df_spc['VND_ECOM_DSC'].str.lower().str.contains('network cabinet')), ['VML2', 'VRF2']] = 'Security Systems & Components'  \n",
    "     df_spc.loc[(df_spc[\"DPT_DSC\"] == 'VIDEO/ELEC/COMP') & (df_spc['COM_DSC'] == 'VIDEO HARDWARE') & (df_spc['SUBCOM_DSC'] == 'BD/DVD/STREAMING DEVICES')  & (df_spc['VND_ECOM_DSC'].str.contains('LAST STAND AT SABER RIV')), ['VML1', 'VRF1']] = 'Books & Videos'\n",
    "     df_spc.loc[(df_spc[\"DPT_DSC\"] == 'VIDEO/ELEC/COMP') & (df_spc['COM_DSC'] == 'VIDEO HARDWARE') & (df_spc['SUBCOM_DSC'] == 'BD/DVD/STREAMING DEVICES')  & (df_spc['VND_ECOM_DSC'].str.contains('LAST STAND AT SABER RIV')), ['VML2', 'VRF2']] = 'Film & Television'   \n",
    "        \n",
    "     df_spc.loc[(df_spc[\"DPT_DSC\"] == 'MUSIC MKT') & (df_spc['COM_DSC'] == 'DVDS'), ['VML1', 'VRF1']] = 'Books & Videos'\n",
    "     df_spc.loc[(df_spc[\"DPT_DSC\"] == 'MUSIC MKT') & (df_spc['COM_DSC'] == 'DVDS'), ['VML2', 'VRF2']] = 'Film & Television'  \n",
    "     df_spc.loc[(df_spc[\"DPT_DSC\"] == 'MUSIC MKT') & (df_spc['COM_DSC'] == 'DVDS') & (df_spc['SUBCOM_DSC'] == \"DVD'S\")  & (df_spc['VND_ECOM_DSC'].str.contains('LEAPFROG')), ['VML1', 'VRF1']] = 'Toys / Games / Hobbies'\n",
    "     df_spc.loc[(df_spc[\"DPT_DSC\"] == 'MUSIC MKT') & (df_spc['COM_DSC'] == 'DVDS') & (df_spc['SUBCOM_DSC'] == \"DVD'S\")  & (df_spc['VND_ECOM_DSC'].str.contains('LEAPFROG')), ['VML2', 'VRF2']] = 'Games & Puzzles'        \n",
    "     df_spc.loc[(df_spc[\"DPT_DSC\"] == 'MUSIC MKT') & (df_spc['COM_DSC'] == 'VIDEO ACCESSORIES') & (df_spc['SUBCOM_DSC'] == \"CONSOLE ACCESSORIES\")  & (df_spc['VND_ECOM_DSC'].str.contains('DecalGirl PS3S-ALE PS3 Slim Skin - Beer Bubbles')), ['VML1', 'VRF1']] = 'Electronics'\n",
    "     df_spc.loc[(df_spc[\"DPT_DSC\"] == 'MUSIC MKT') & (df_spc['COM_DSC'] == 'VIDEO ACCESSORIES') & (df_spc['SUBCOM_DSC'] == \"CONSOLE ACCESSORIES\")  & (df_spc['VND_ECOM_DSC'].str.contains('DecalGirl PS3S-ALE PS3 Slim Skin - Beer Bubbles')), ['VML2', 'VRF2']] = 'Computers'        \n",
    "        \n",
    "     df_spc.loc[(df_spc[\"DPT_DSC\"] == 'SCHOOL/OFFICE') & (df_spc['COM_DSC'] == 'CRAFTS/NOTIONS/YARN') & (df_spc['SUBCOM_DSC'] == \"NOTIONS & YARN\")  & (df_spc['VND_ECOM_DSC'].str.lower().str.contains(\"knit|crochet|needle|stitch kit|ptrn|batting santa sock|sewing|sugar'n cream|c&c|zipper\")), ['VML1', 'VRF1']] = 'Arts & Crafts'\n",
    "     df_spc.loc[(df_spc[\"DPT_DSC\"] == 'SCHOOL/OFFICE') & (df_spc['COM_DSC'] == 'CRAFTS/NOTIONS/YARN') & (df_spc['SUBCOM_DSC'] == \"NOTIONS & YARN\")  & (df_spc['VND_ECOM_DSC'].str.lower().str.contains(\"knit|crochet|needle|stitch kit|ptrn|batting santa sock|sewing|sugar'n cream|c&c|zipper\")), ['VML2', 'VRF2']] = 'Needlework & Toy Makibg'\n",
    "     df_spc.loc[(df_spc[\"DPT_DSC\"] == 'SCHOOL/OFFICE') & (df_spc['COM_DSC'] == 'CRAFTS/NOTIONS/YARN') & (df_spc['SUBCOM_DSC'] == \"NOTIONS & YARN\")  & (df_spc['VND_ECOM_DSC'].str.lower().str.contains(\"ribbon\")), ['VML1', 'VRF1']] = 'Office Supplies'\n",
    "     df_spc.loc[(df_spc[\"DPT_DSC\"] == 'SCHOOL/OFFICE') & (df_spc['COM_DSC'] == 'CRAFTS/NOTIONS/YARN') & (df_spc['SUBCOM_DSC'] == \"NOTIONS & YARN\")  & (df_spc['VND_ECOM_DSC'].str.lower().str.contains(\"ribbon\")), ['VML2', 'VRF2']] = 'Greeting Cards & Gift Packaging'        \n",
    "     df_spc.loc[(df_spc[\"DPT_DSC\"] == 'SCHOOL/OFFICE') & (df_spc['COM_DSC'] == 'CRAFTS/NOTIONS/YARN') & (df_spc['SUBCOM_DSC'] == \"NOTIONS & YARN\")  & (df_spc['VND_ECOM_DSC'].str.lower().str.contains(\"logo patch\")), ['VML1', 'VRF1']] = 'Toys / Games / Hobbies'\n",
    "     df_spc.loc[(df_spc[\"DPT_DSC\"] == 'SCHOOL/OFFICE') & (df_spc['COM_DSC'] == 'CRAFTS/NOTIONS/YARN') & (df_spc['SUBCOM_DSC'] == \"NOTIONS & YARN\")  & (df_spc['VND_ECOM_DSC'].str.lower().str.contains(\"logo patch\")), ['VML2', 'VRF2']] = 'Games & Puzzles'  \n",
    "        \n",
    "     return df_spc     "
   ]
  },
  {
   "cell_type": "code",
   "execution_count": 14,
   "id": "136414b0",
   "metadata": {},
   "outputs": [],
   "source": [
    " def process_gm_5(df_spc): \n",
    "     \"\"\"\n",
    "       DPT_DSC: SCHOOL/OFFICE\n",
    "       COM_DSC: CRAFTS/NOTIONS/YARN + NOTIONS & YARN\n",
    "\n",
    "     \"\"\" \n",
    "\n",
    "     df_spc.loc[(df_spc[\"DPT_DSC\"] == 'SCHOOL/OFFICE') & (df_spc['COM_DSC'] == 'CRAFTS/NOTIONS/YARN') & (df_spc['SUBCOM_DSC'] == \"ART & CRAFT SUPPLIES\")  & (df_spc['VND_ECOM_DSC'].str.lower().str.contains('clear stamp|cling stamp|stamp|stencil|gold acryl')), ['VML1', 'VRF1']] = 'Arts & Crafts'\n",
    "     df_spc.loc[(df_spc[\"DPT_DSC\"] == 'SCHOOL/OFFICE') & (df_spc['COM_DSC'] == 'CRAFTS/NOTIONS/YARN') & (df_spc['SUBCOM_DSC'] == \"ART & CRAFT SUPPLIES\")  & (df_spc['VND_ECOM_DSC'].str.lower().str.contains('clear stamp|cling stamp|stamp|stencil|gold acryl')), ['VML2', 'VRF2']] = 'Drawing Tools'\n",
    "     df_spc.loc[(df_spc[\"DPT_DSC\"] == 'SCHOOL/OFFICE') & (df_spc['COM_DSC'] == 'CRAFTS/NOTIONS/YARN') & (df_spc['SUBCOM_DSC'] == \"ART & CRAFT SUPPLIES\")  & (df_spc['VND_ECOM_DSC'].str.lower().str.contains('die|love odds & ends|tutti designs|ceramcoat acrylic|airbrush tabletop stand holder|mt gold acryl ancient pink')), ['VML1', 'VRF1']] = 'Arts & Crafts'\n",
    "     df_spc.loc[(df_spc[\"DPT_DSC\"] == 'SCHOOL/OFFICE') & (df_spc['COM_DSC'] == 'CRAFTS/NOTIONS/YARN') & (df_spc['SUBCOM_DSC'] == \"ART & CRAFT SUPPLIES\")  & (df_spc['VND_ECOM_DSC'].str.lower().str.contains('die|love odds & ends|tutti designs|ceramcoat acrylic|airbrush tabletop stand holder|mt gold acryl ancient pink')), ['VML2', 'VRF2']] = 'Drawing Tools'\n",
    "     df_spc.loc[(df_spc[\"DPT_DSC\"] == 'SCHOOL/OFFICE') & (df_spc['COM_DSC'] == 'CRAFTS/NOTIONS/YARN') & (df_spc['SUBCOM_DSC'] == \"ART & CRAFT SUPPLIES\")  & (df_spc['VND_ECOM_DSC'].str.lower().str.contains('sticker|doodle pops|big dot of happiness|home sweet haunted|eks jolee')), ['VML1', 'VRF1']] = 'Arts & Crafts'\n",
    "     df_spc.loc[(df_spc[\"DPT_DSC\"] == 'SCHOOL/OFFICE') & (df_spc['COM_DSC'] == 'CRAFTS/NOTIONS/YARN') & (df_spc['SUBCOM_DSC'] == \"ART & CRAFT SUPPLIES\")  & (df_spc['VND_ECOM_DSC'].str.lower().str.contains('sticker|doodle pops|big dot of happiness|home sweet haunted|eks jolee')), ['VML2', 'VRF2']] = 'Stickers'   \n",
    "     df_spc.loc[(df_spc[\"DPT_DSC\"] == 'SCHOOL/OFFICE') & (df_spc['COM_DSC'] == 'CRAFTS/NOTIONS/YARN') & (df_spc['SUBCOM_DSC'] == \"ART & CRAFT SUPPLIES\")  & (df_spc['VND_ECOM_DSC'].str.lower().str.contains('vintage sewing machine|craft sticks|glass glitter|feather domestic goose|river rock|embellishment|tassel end|wood letters|home & welcome|garden tags ribbon accents')), ['VML1', 'VRF1']] = 'Arts & Crafts'\n",
    "     df_spc.loc[(df_spc[\"DPT_DSC\"] == 'SCHOOL/OFFICE') & (df_spc['COM_DSC'] == 'CRAFTS/NOTIONS/YARN') & (df_spc['SUBCOM_DSC'] == \"ART & CRAFT SUPPLIES\")  & (df_spc['VND_ECOM_DSC'].str.lower().str.contains('vintage sewing machine|craft sticks|glass glitter|feather domestic goose|river rock|embellishment|tassel end|wood letters|home & welcome|garden tags ribbon accents')), ['VML2', 'VRF2']] = 'Craft Sticks'  \n",
    "     \n",
    "     df_spc.loc[(df_spc[\"DPT_DSC\"] == 'SCHOOL/OFFICE') & (df_spc['COM_DSC'] == 'CRAFTS/NOTIONS/YARN') & (df_spc['SUBCOM_DSC'] == \"ART & CRAFT SUPPLIES\")  & (df_spc['VND_ECOM_DSC'].str.lower().str.contains('knit|quilt|lazy girl designs iron on vinyl|mango madness')), ['VML1', 'VRF1']] = 'Arts & Crafts'\n",
    "     df_spc.loc[(df_spc[\"DPT_DSC\"] == 'SCHOOL/OFFICE') & (df_spc['COM_DSC'] == 'CRAFTS/NOTIONS/YARN') & (df_spc['SUBCOM_DSC'] == \"ART & CRAFT SUPPLIES\")  & (df_spc['VND_ECOM_DSC'].str.lower().str.contains('knit|quilt|lazy girl designs iron on vinyl|mango madness')), ['VML2', 'VRF2']] = 'Needlework & Toy Makibg'\n",
    "     df_spc.loc[(df_spc[\"DPT_DSC\"] == 'SCHOOL/OFFICE') & (df_spc['COM_DSC'] == 'CRAFTS/NOTIONS/YARN') & (df_spc['SUBCOM_DSC'] == \"ART & CRAFT SUPPLIES\")  & (df_spc['VND_ECOM_DSC'].str.lower().str.contains('slvr/crys|sft suede lace')), ['VML1', 'VRF1']] = 'Arts & Crafts'\n",
    "     df_spc.loc[(df_spc[\"DPT_DSC\"] == 'SCHOOL/OFFICE') & (df_spc['COM_DSC'] == 'CRAFTS/NOTIONS/YARN') & (df_spc['SUBCOM_DSC'] == \"ART & CRAFT SUPPLIES\")  & (df_spc['VND_ECOM_DSC'].str.lower().str.contains('slvr/crys|sft suede lace')), ['VML2', 'VRF2']] = 'Jewelry Making'\n",
    "     df_spc.loc[(df_spc[\"DPT_DSC\"] == 'SCHOOL/OFFICE') & (df_spc['COM_DSC'] == 'CRAFTS/NOTIONS/YARN') & (df_spc['SUBCOM_DSC'] == \"ART & CRAFT SUPPLIES\")  & (df_spc['VND_ECOM_DSC'].str.lower().str.contains('plank|art wood house')), ['VML1', 'VRF1']] = 'Arts & Crafts'\n",
    "     df_spc.loc[(df_spc[\"DPT_DSC\"] == 'SCHOOL/OFFICE') & (df_spc['COM_DSC'] == 'CRAFTS/NOTIONS/YARN') & (df_spc['SUBCOM_DSC'] == \"ART & CRAFT SUPPLIES\")  & (df_spc['VND_ECOM_DSC'].str.lower().str.contains('plank|art wood house')), ['VML2', 'VRF2']] = 'Paper / Canvas / Wood Boards'    \n",
    "     df_spc.loc[(df_spc[\"DPT_DSC\"] == 'SCHOOL/OFFICE') & (df_spc['COM_DSC'] =='CRAFTS/NOTIONS/YARN')  & (df_spc['SUBCOM_DSC'] == \"ART & CRAFT SUPPLIES\")  & (df_spc['VND_ECOM_DSC'].str.lower().str.contains('variety pack|value variety|hole punch|signboard|clip stand|bookmark|album')), ['VML1', 'VRF1']] = 'Office Supplies'\n",
    "     df_spc.loc[(df_spc[\"DPT_DSC\"] == 'SCHOOL/OFFICE') & (df_spc['COM_DSC'] =='CRAFTS/NOTIONS/YARN')  & (df_spc['SUBCOM_DSC'] == \"ART & CRAFT SUPPLIES\")  & (df_spc['VND_ECOM_DSC'].str.lower().str.contains('variety pack|value variety|hole punch|signboard|clip stand|bookmark|album')), ['VML2', 'VRF2']] = 'Stationery' \n",
    "     df_spc.loc[(df_spc[\"DPT_DSC\"] == 'SCHOOL/OFFICE') & (df_spc['COM_DSC'] == 'CRAFTS/NOTIONS/YARN') & (df_spc['SUBCOM_DSC'] == \"ART & CRAFT SUPPLIES\")  & (df_spc['VND_ECOM_DSC'].str.lower().str.contains('recipe card')), ['VML1', 'VRF1']] = 'Kitchen & Bathroom'\n",
    "     df_spc.loc[(df_spc[\"DPT_DSC\"] == 'SCHOOL/OFFICE') & (df_spc['COM_DSC'] == 'CRAFTS/NOTIONS/YARN') & (df_spc['SUBCOM_DSC'] == \"ART & CRAFT SUPPLIES\")  & (df_spc['VND_ECOM_DSC'].str.lower().str.contains('recipe card')), ['VML2', 'VRF2']] = 'Kitchen'\n",
    "     df_spc.loc[(df_spc[\"DPT_DSC\"] == 'SCHOOL/OFFICE') & (df_spc['COM_DSC'] == 'CRAFTS/NOTIONS/YARN') & (df_spc['SUBCOM_DSC'] == \"ART & CRAFT SUPPLIES\")  & (df_spc['VND_ECOM_DSC'].str.lower().str.contains('wooden bar unit')), ['VML1', 'VRF1']] = 'Kitchen & Bathroom'\n",
    "     df_spc.loc[(df_spc[\"DPT_DSC\"] == 'SCHOOL/OFFICE') & (df_spc['COM_DSC'] == 'CRAFTS/NOTIONS/YARN') & (df_spc['SUBCOM_DSC'] == \"ART & CRAFT SUPPLIES\")  & (df_spc['VND_ECOM_DSC'].str.lower().str.contains('wooden bar unit')), ['VML2', 'VRF2']] = 'Cabinets'        \n",
    "     df_spc.loc[(df_spc[\"DPT_DSC\"] == 'SCHOOL/OFFICE') & (df_spc['COM_DSC'] == 'CRAFTS/NOTIONS/YARN') & (df_spc['SUBCOM_DSC'] == \"ART & CRAFT SUPPLIES\")  & (df_spc['VND_ECOM_DSC'].str.lower().str.contains('artificial|pink rose glass cube')), ['VML1', 'VRF1']] = 'Home & Venue Decoration'\n",
    "     df_spc.loc[(df_spc[\"DPT_DSC\"] == 'SCHOOL/OFFICE') & (df_spc['COM_DSC'] == 'CRAFTS/NOTIONS/YARN') & (df_spc['SUBCOM_DSC'] == \"ART & CRAFT SUPPLIES\")  & (df_spc['VND_ECOM_DSC'].str.lower().str.contains('artificial|pink rose glass cube')), ['VML2', 'VRF2']] = 'Floral & Foliage - Artifical'    \n",
    "     df_spc.loc[(df_spc[\"DPT_DSC\"] == 'SCHOOL/OFFICE') & (df_spc['COM_DSC'] == 'CRAFTS/NOTIONS/YARN') & (df_spc['SUBCOM_DSC'] == \"ART & CRAFT SUPPLIES\")  & (df_spc['VND_ECOM_DSC'].str.lower().str.contains('plaid wood hanger w/3 crystal knobs')), ['VML1', 'VRF1']] = 'Home & Venue Decoration'\n",
    "     df_spc.loc[(df_spc[\"DPT_DSC\"] == 'SCHOOL/OFFICE') & (df_spc['COM_DSC'] == 'CRAFTS/NOTIONS/YARN') & (df_spc['SUBCOM_DSC'] == \"ART & CRAFT SUPPLIES\")  & (df_spc['VND_ECOM_DSC'].str.lower().str.contains('plaid wood hanger w/3 crystal knobs')), ['VML2', 'VRF2']] = 'Decorative Accessories'       \n",
    "       \n",
    "     df_spc.loc[(df_spc[\"DPT_DSC\"] == 'SCHOOL/OFFICE') & (df_spc['COM_DSC'] == 'CRAFTS/NOTIONS/YARN') & (df_spc['SUBCOM_DSC'] == \"ART & CRAFT SUPPLIES\")  & (df_spc['VND_ECOM_DSC'].str.lower().str.contains('cdstk|doodlebug petite prints buffalo check/wood grain|cardstock|card stock|photoplay collection pack|colorplay collection pack|echo park|super satchel|scenescapes sea breeze|water droplet embellishments|med root beer|no place like home')), ['VML1', 'VRF1']] = 'Arts & Crafts'\n",
    "     df_spc.loc[(df_spc[\"DPT_DSC\"] == 'SCHOOL/OFFICE') & (df_spc['COM_DSC'] == 'CRAFTS/NOTIONS/YARN') & (df_spc['SUBCOM_DSC'] == \"ART & CRAFT SUPPLIES\")  & (df_spc['VND_ECOM_DSC'].str.lower().str.contains('cdstk|doodlebug petite prints buffalo check/wood grain|cardstock|card stock|photoplay collection pack|colorplay collection pack|echo park|super satchel|scenescapes sea breeze|water droplet embellishments|med root beer|no place like home')), ['VML2', 'VRF2']] = 'Paper & Card Making'\n",
    "     df_spc.loc[(df_spc[\"DPT_DSC\"] == 'SCHOOL/OFFICE') & (df_spc['COM_DSC'] == 'CRAFTS/NOTIONS/YARN') & (df_spc['SUBCOM_DSC'] == \"ART & CRAFT SUPPLIES\")  & (df_spc['VND_ECOM_DSC'].str.lower().str.contains('canvas')), ['VML1', 'VRF1']] = 'Arts & Crafts'\n",
    "     df_spc.loc[(df_spc[\"DPT_DSC\"] == 'SCHOOL/OFFICE') & (df_spc['COM_DSC'] == 'CRAFTS/NOTIONS/YARN') & (df_spc['SUBCOM_DSC'] == \"ART & CRAFT SUPPLIES\")  & (df_spc['VND_ECOM_DSC'].str.lower().str.contains('canvas')), ['VML2', 'VRF2']] = 'Paper / Canvas / Wood Boards'  \n",
    "     df_spc.loc[(df_spc[\"DPT_DSC\"] == 'SCHOOL/OFFICE') & (df_spc['COM_DSC'] == 'CRAFTS/NOTIONS/YARN') & (df_spc['SUBCOM_DSC'] == \"ART & CRAFT SUPPLIES\")  & (df_spc['VND_ECOM_DSC'].str.lower().str.contains('alcohol ink')), ['VML1', 'VRF1']] = 'Office Supplies'\n",
    "     df_spc.loc[(df_spc[\"DPT_DSC\"] == 'SCHOOL/OFFICE') & (df_spc['COM_DSC'] == 'CRAFTS/NOTIONS/YARN') & (df_spc['SUBCOM_DSC'] == \"ART & CRAFT SUPPLIES\")  & (df_spc['VND_ECOM_DSC'].str.lower().str.contains('alcohol ink')), ['VML2', 'VRF2']] = 'Stationery'    \n",
    "     df_spc.loc[(df_spc[\"DPT_DSC\"] == 'SCHOOL/OFFICE') & (df_spc['COM_DSC'] == 'CRAFTS/NOTIONS/YARN') & (df_spc['SUBCOM_DSC'] == \"ART & CRAFT SUPPLIES\")  & (df_spc['VND_ECOM_DSC'].str.lower().str.contains('wooden links|premium rose head|beaded cyrstal ornament kit')), ['VML1', 'VRF1']] = 'Home & Venue Decoration'\n",
    "     df_spc.loc[(df_spc[\"DPT_DSC\"] == 'SCHOOL/OFFICE') & (df_spc['COM_DSC'] == 'CRAFTS/NOTIONS/YARN') & (df_spc['SUBCOM_DSC'] == \"ART & CRAFT SUPPLIES\")  & (df_spc['VND_ECOM_DSC'].str.lower().str.contains('wooden links|premium rose head|beaded cyrstal ornament kit')), ['VML2', 'VRF2']] = 'Decorative Accessories'  \n",
    "     df_spc.loc[(df_spc[\"DPT_DSC\"] == 'SCHOOL/OFFICE') & (df_spc['COM_DSC'] == 'CRAFTS/NOTIONS/YARN') & (df_spc['SUBCOM_DSC'] == \"ART & CRAFT SUPPLIES\")  & (df_spc['VND_ECOM_DSC'].str.lower().str.contains('keyboard stand')), ['VML1', 'VRF1']] = 'Books & Videos'\n",
    "     df_spc.loc[(df_spc[\"DPT_DSC\"] == 'SCHOOL/OFFICE') & (df_spc['COM_DSC'] == 'CRAFTS/NOTIONS/YARN') & (df_spc['SUBCOM_DSC'] == \"ART & CRAFT SUPPLIES\")  & (df_spc['VND_ECOM_DSC'].str.lower().str.contains('keyboard stand')), ['VML2', 'VRF2']] = 'Music'         \n",
    "     df_spc.loc[(df_spc[\"DPT_DSC\"] == 'SCHOOL/OFFICE') & (df_spc['COM_DSC'] == 'CRAFTS/NOTIONS/YARN') & (df_spc['SUBCOM_DSC'] == \"ART & CRAFT SUPPLIES\")  & (df_spc['VND_ECOM_DSC'].str.lower().str.contains('bird house kit')), ['VML1', 'VRF1']] = 'Gardening & Outdoors'\n",
    "     df_spc.loc[(df_spc[\"DPT_DSC\"] == 'SCHOOL/OFFICE') & (df_spc['COM_DSC'] == 'CRAFTS/NOTIONS/YARN') & (df_spc['SUBCOM_DSC'] == \"ART & CRAFT SUPPLIES\")  & (df_spc['VND_ECOM_DSC'].str.lower().str.contains('bird house kit')), ['VML2', 'VRF2']] = 'Outdoor Living'    \n",
    "      \n",
    "     df_spc.loc[(df_spc[\"DPT_DSC\"] == 'SCHOOL/OFFICE') & (df_spc['COM_DSC'] == 'CRAFTS/NOTIONS/YARN') & (df_spc['SUBCOM_DSC'] == \"ART & CRAFT SUPPLIES\")  & (df_spc['VND_ECOM_DSC'].str.lower().str.contains(\"template|rub ' n buff|story card|wood crate set|diy\")), ['VML1', 'VRF1']] = 'Arts & Crafts'\n",
    "     df_spc.loc[(df_spc[\"DPT_DSC\"] == 'SCHOOL/OFFICE') & (df_spc['COM_DSC'] == 'CRAFTS/NOTIONS/YARN') & (df_spc['SUBCOM_DSC'] == \"ART & CRAFT SUPPLIES\")  & (df_spc['VND_ECOM_DSC'].str.lower().str.contains(\"template|rub ' n buff|story card|wood crate set|diy\")), ['VML2', 'VRF2']] = 'Misc'        \n",
    "     df_spc.loc[(df_spc[\"DPT_DSC\"] == 'SCHOOL/OFFICE') & (df_spc['COM_DSC'] == 'CRAFTS/NOTIONS/YARN') & (df_spc['SUBCOM_DSC'] == \"ART & CRAFT SUPPLIES\")  & (df_spc['VND_ECOM_DSC'].str.contains('SIMPLY WILD WEEKENDER')), ['VML2', 'VRF2']] = 'Misc' \n",
    "     df_spc.loc[(df_spc[\"DPT_DSC\"] == 'SCHOOL/OFFICE') & (df_spc['COM_DSC'] == 'CRAFTS/NOTIONS/YARN') & (df_spc['SUBCOM_DSC'] == \"ART & CRAFT SUPPLIES\")  & (df_spc['VND_ECOM_DSC'].str.contains('SIMPLY WILD WEEKENDER')), ['VML1', 'VRF1']] = 'Misc'\n",
    "     return df_spc  "
   ]
  },
  {
   "cell_type": "code",
   "execution_count": 15,
   "id": "fa4d5113",
   "metadata": {},
   "outputs": [],
   "source": [
    " def process_gm_6(df_spc): \n",
    "     \"\"\"\n",
    "       DPT_DSC: SCHOOL/OFFICE\n",
    "       COM_DSC: HOME AND OFFICE\n",
    "\n",
    "     \"\"\" \n",
    "      \n",
    "     df_spc.loc[(df_spc[\"DPT_DSC\"] == 'SCHOOL/OFFICE') & (df_spc['COM_DSC'].str.contains('HOME AND OFFICE')) & (df_spc['SUBCOM_DSC'].str.contains(\"MESSAGE CENTER\"))  & (df_spc['VND_ECOM_DSC'].str.lower().str.contains('dry erase|hole punch|board')), ['VML1', 'VRF1']] = 'Office Supplies'\n",
    "     df_spc.loc[(df_spc[\"DPT_DSC\"] == 'SCHOOL/OFFICE') & (df_spc['COM_DSC'].str.contains('HOME AND OFFICE')) & (df_spc['SUBCOM_DSC'].str.contains(\"MESSAGE CENTER\"))  & (df_spc['VND_ECOM_DSC'].str.lower().str.contains('dry erase|hole punch|board')), ['VML2', 'VRF2']] = 'Stationery'\n",
    "     df_spc.loc[(df_spc[\"DPT_DSC\"] == 'SCHOOL/OFFICE') & (df_spc['COM_DSC'].str.contains('HOME AND OFFICE')) & (df_spc['SUBCOM_DSC'].str.contains(\"MESSAGE CENTER\"))  & (df_spc['VND_ECOM_DSC'].str.lower().str.contains('dry erase|hole punch|board')), ['VML1', 'VRF1']] = 'Office Supplies'\n",
    "     df_spc.loc[(df_spc[\"DPT_DSC\"] == 'SCHOOL/OFFICE') & (df_spc['COM_DSC'].str.contains('HOME AND OFFICE')) & (df_spc['SUBCOM_DSC'].str.contains(\"MESSAGE CENTER\"))  & (df_spc['VND_ECOM_DSC'].str.lower().str.contains('dry erase|hole punch|board')), ['VML2', 'VRF2']] = 'Stationery'  \n",
    "     df_spc.loc[(df_spc[\"DPT_DSC\"] == 'SCHOOL/OFFICE') & (df_spc['COM_DSC'].str.contains('HOME AND OFFICE')) & (df_spc['SUBCOM_DSC'].str.contains(\"MESSAGE CENTER\"))  & (df_spc['VND_ECOM_DSC'].str.lower().str.contains('lamp')), ['VML1', 'VRF1']] = 'Office Supplies'\n",
    "     df_spc.loc[(df_spc[\"DPT_DSC\"] == 'SCHOOL/OFFICE') & (df_spc['COM_DSC'].str.contains('HOME AND OFFICE')) & (df_spc['SUBCOM_DSC'].str.contains(\"MESSAGE CENTER\"))  & (df_spc['VND_ECOM_DSC'].str.lower().str.contains('lamp')), ['VML2', 'VRF2']] = 'Office Machinery'  \n",
    "     df_spc.loc[(df_spc[\"DPT_DSC\"] == 'SCHOOL/OFFICE') & (df_spc['COM_DSC'].str.contains('HOME AND OFFICE')) & (df_spc['SUBCOM_DSC'].str.contains(\"MESSAGE CENTER\"))  & (df_spc['VND_ECOM_DSC'].str.contains('MEGA 22X18 DE CAL CORX MAG')), ['VML1', 'VRF1']] = 'Misc'\n",
    "     df_spc.loc[(df_spc[\"DPT_DSC\"] == 'SCHOOL/OFFICE') & (df_spc['COM_DSC'].str.contains('HOME AND OFFICE')) & (df_spc['SUBCOM_DSC'].str.contains(\"MESSAGE CENTER\"))  & (df_spc['VND_ECOM_DSC'].str.contains('MEGA 22X18 DE CAL CORX MAG')), ['VML2', 'VRF2']] = 'Misc'    \n",
    "     df_spc.loc[(df_spc[\"DPT_DSC\"] == 'SCHOOL/OFFICE') & (df_spc['COM_DSC'] == 'HOME AND OFFICE') & (df_spc['SUBCOM_DSC'] == \"OFFICE ACCESSORIES\")  & (df_spc['VND_ECOM_DSC'].str.lower().str.contains(\"pwr calc\")), ['VML1', 'VRF1']] = 'Office Supplies'\n",
    "     df_spc.loc[(df_spc[\"DPT_DSC\"] == 'SCHOOL/OFFICE') & (df_spc['COM_DSC'] == 'HOME AND OFFICE') & (df_spc['SUBCOM_DSC'] == \"OFFICE ACCESSORIES\")  & (df_spc['VND_ECOM_DSC'].str.lower().str.contains(\"pwr calc\")), ['VML2', 'VRF2']] = 'Office Machinery'\n",
    "     df_spc.loc[(df_spc[\"DPT_DSC\"] == 'SCHOOL/OFFICE') & (df_spc['COM_DSC'] == 'HOME AND OFFICE') & (df_spc['SUBCOM_DSC'] == \"OFFICE ACCESSORIES\")  & (df_spc['VND_ECOM_DSC'].str.lower().str.contains(\"rose globe\")), ['VML1', 'VRF1']] = 'Home & Venue Decoration'\n",
    "     df_spc.loc[(df_spc[\"DPT_DSC\"] == 'SCHOOL/OFFICE') & (df_spc['COM_DSC'] == 'HOME AND OFFICE') & (df_spc['SUBCOM_DSC'] == \"OFFICE ACCESSORIES\")  & (df_spc['VND_ECOM_DSC'].str.lower().str.contains(\"rose globe\")), ['VML2', 'VRF2']] = 'Decorative Accessories'    \n",
    "     df_spc.loc[(df_spc[\"DPT_DSC\"] == 'SCHOOL/OFFICE') & (df_spc['COM_DSC'] == 'HOME AND OFFICE')  & (df_spc['SUBCOM_DSC'] == \"OFFICE PAPER\")  & (df_spc['VND_ECOM_DSC'].str.lower().str.contains('sticky note holder')), ['VML1', 'VRF1']] = 'Office Supplies'\n",
    "     df_spc.loc[(df_spc[\"DPT_DSC\"] == 'SCHOOL/OFFICE') & (df_spc['COM_DSC'] == 'HOME AND OFFICE')  & (df_spc['SUBCOM_DSC'] == \"OFFICE PAPER\")  & (df_spc['VND_ECOM_DSC'].str.lower().str.contains('sticky note holder')), ['VML2', 'VRF2']] = 'Stationery' \n",
    "     df_spc.loc[(df_spc[\"DPT_DSC\"] == 'SCHOOL/OFFICE') & (df_spc['COM_DSC'] == 'HOME AND OFFICE')  & (df_spc['SUBCOM_DSC'] == \"OFFICE PAPER\")  & (df_spc['VND_ECOM_DSC'].str.lower().str.contains('cardstock')), ['VML1', 'VRF1']] = 'Arts & Crafts'\n",
    "     df_spc.loc[(df_spc[\"DPT_DSC\"] == 'SCHOOL/OFFICE') & (df_spc['COM_DSC'] == 'HOME AND OFFICE')  & (df_spc['SUBCOM_DSC'] == \"OFFICE PAPER\")  & (df_spc['VND_ECOM_DSC'].str.lower().str.contains('cardstock')), ['VML2', 'VRF2']] = 'Paper & Card Making'\n",
    "     df_spc.loc[(df_spc[\"DPT_DSC\"] == 'SCHOOL/OFFICE') & (df_spc['COM_DSC'] == 'HOME AND OFFICE') & (df_spc['SUBCOM_DSC'] == \"OFFICE PAPER\")  & (df_spc['VND_ECOM_DSC'].str.lower().str.contains('sticky note holder')), ['VML1', 'VRF1']] = 'Office Supplies'\n",
    "     df_spc.loc[(df_spc[\"DPT_DSC\"] == 'SCHOOL/OFFICE') & (df_spc['COM_DSC'] == 'HOME AND OFFICE') & (df_spc['SUBCOM_DSC'] == \"OFFICE PAPER\")  & (df_spc['VND_ECOM_DSC'].str.lower().str.contains('sticky note holder')), ['VML2', 'VRF2']] = 'Stationery' \n",
    "     df_spc.loc[(df_spc[\"DPT_DSC\"] == 'SCHOOL/OFFICE') & (df_spc['COM_DSC'] == 'HOME AND OFFICE') & (df_spc['SUBCOM_DSC'] == \"OFFICE PAPER\")  & (df_spc['VND_ECOM_DSC'].str.lower().str.contains('cardstock')), ['VML1', 'VRF1']] = 'Arts & Crafts'\n",
    "     df_spc.loc[(df_spc[\"DPT_DSC\"] == 'SCHOOL/OFFICE') & (df_spc['COM_DSC'] == 'HOME AND OFFICE') & (df_spc['SUBCOM_DSC'] == \"OFFICE PAPER\")  & (df_spc['VND_ECOM_DSC'].str.lower().str.contains('cardstock')), ['VML2', 'VRF2']] = 'Paper & Card Making'        \n",
    "     df_spc.loc[(df_spc[\"DPT_DSC\"] == 'SCHOOL/OFFICE') & (df_spc['COM_DSC'] == 'HOME AND OFFICE') & (df_spc['SUBCOM_DSC'] == \"TAPE & MAILING PRODUCTS\")  & (df_spc['VND_ECOM_DSC'].str.lower().str.contains('shipping box')), ['VML1', 'VRF1']] = 'Office Supplies'\n",
    "     df_spc.loc[(df_spc[\"DPT_DSC\"] == 'SCHOOL/OFFICE') & (df_spc['COM_DSC'] == 'HOME AND OFFICE') & (df_spc['SUBCOM_DSC'] == \"TAPE & MAILING PRODUCTS\")  & (df_spc['VND_ECOM_DSC'].str.lower().str.contains('shipping box')), ['VML2', 'VRF2']] = 'Shipping and Packaging' \n",
    "     df_spc.loc[(df_spc[\"DPT_DSC\"] == 'SCHOOL/OFFICE') & (df_spc['COM_DSC'] == 'HOME AND OFFICE') & (df_spc['SUBCOM_DSC'] == \"LABELS/POST-IT/INDEX CARD\")  & (df_spc['VND_ECOM_DSC'].str.lower().str.contains('signmission|post-it flags|label')), ['VML1', 'VRF1']] = 'Office Supplies'\n",
    "     df_spc.loc[(df_spc[\"DPT_DSC\"] == 'SCHOOL/OFFICE') & (df_spc['COM_DSC'] == 'HOME AND OFFICE') & (df_spc['SUBCOM_DSC'] == \"LABELS/POST-IT/INDEX CARD\")  & (df_spc['VND_ECOM_DSC'].str.lower().str.contains('signmission|post-it flags|label')), ['VML2', 'VRF2']] = 'Sationary'\n",
    "     df_spc.loc[(df_spc[\"DPT_DSC\"] == 'SCHOOL/OFFICE') & (df_spc['COM_DSC'] == 'HOME AND OFFICE') & (df_spc['SUBCOM_DSC'] == \"LABELS/POST-IT/INDEX CARD\")  & (df_spc['VND_ECOM_DSC'].str.lower().str.contains('slim pack')), ['VML1', 'VRF1']] = 'Office Supplies'\n",
    "     df_spc.loc[(df_spc[\"DPT_DSC\"] == 'SCHOOL/OFFICE') & (df_spc['COM_DSC'] == 'HOME AND OFFICE') & (df_spc['SUBCOM_DSC'] == \"LABELS/POST-IT/INDEX CARD\")  & (df_spc['VND_ECOM_DSC'].str.lower().str.contains('slim pack')), ['VML2', 'VRF2']] = 'Organizational Planning Stationery'        \n",
    "     df_spc.loc[(df_spc[\"DPT_DSC\"] == 'SCHOOL/OFFICE') & (df_spc['COM_DSC'] == 'HOME AND OFFICE') & (df_spc['SUBCOM_DSC'] == \"LABELS/POST-IT/INDEX CARD\")  & (df_spc['VND_ECOM_DSC'].str.lower().str.contains('banner stand')), ['VML1', 'VRF1']] = 'Office Supplies'\n",
    "     df_spc.loc[(df_spc[\"DPT_DSC\"] == 'SCHOOL/OFFICE') & (df_spc['COM_DSC'] == 'HOME AND OFFICE') & (df_spc['SUBCOM_DSC'] == \"LABELS/POST-IT/INDEX CARD\")  & (df_spc['VND_ECOM_DSC'].str.lower().str.contains('banner stand')), ['VML2', 'VRF2']] = 'Office Machinery'        \n",
    "     df_spc.loc[(df_spc[\"DPT_DSC\"] == 'SCHOOL/OFFICE') & (df_spc['COM_DSC'] == 'HOME AND OFFICE') & (df_spc['SUBCOM_DSC'] == \"PLANNERS & JOURNALS\")  & (df_spc['VND_ECOM_DSC'].str.lower().str.contains('cor display 0001 single tier')), ['VML1', 'VRF1']] = 'Misc'\n",
    "     df_spc.loc[(df_spc[\"DPT_DSC\"] == 'SCHOOL/OFFICE') & (df_spc['COM_DSC'] == 'HOME AND OFFICE') & (df_spc['SUBCOM_DSC'] == \"PLANNERS & JOURNALS\")  & (df_spc['VND_ECOM_DSC'].str.lower().str.contains('cor display 0001 single tier')), ['VML2', 'VRF2']] = 'Misc'        \n",
    "     \n",
    "     df_spc.loc[(df_spc[\"DPT_DSC\"] == 'SCHOOL/OFFICE') & (df_spc['COM_DSC'] == 'SCHOOL') & (df_spc['SUBCOM_DSC'] == \"SCHOOL SUPPLIES\")  & (df_spc['VND_ECOM_DSC'].str.lower().str.contains('chalkboard wall hanging')), ['VML1', 'VRF1']] = 'Home & Venue Decoration'\n",
    "     df_spc.loc[(df_spc[\"DPT_DSC\"] == 'SCHOOL/OFFICE') & (df_spc['COM_DSC'] == 'SCHOOL') & (df_spc['SUBCOM_DSC'] == \"SCHOOL SUPPLIES\")  & (df_spc['VND_ECOM_DSC'].str.lower().str.contains('chalkboard wall hanging')), ['VML2', 'VRF2']] = 'Decorative Accessories' \n",
    "     df_spc.loc[(df_spc[\"DPT_DSC\"] == 'SCHOOL/OFFICE') & (df_spc['COM_DSC'] == 'SCHOOL') & (df_spc['SUBCOM_DSC'] == \"SCHOOL SUPPLIES\")  & (df_spc['VND_ECOM_DSC'].str.lower().str.contains('chartlet|accents|variety pack|pencil')), ['VML1', 'VRF1']] = 'Office Supplies'\n",
    "     df_spc.loc[(df_spc[\"DPT_DSC\"] == 'SCHOOL/OFFICE') & (df_spc['COM_DSC'] == 'SCHOOL') & (df_spc['SUBCOM_DSC'] == \"SCHOOL SUPPLIES\")  & (df_spc['VND_ECOM_DSC'].str.lower().str.contains('chartlet|accents|variety pack|pencil')), ['VML2', 'VRF2']] = 'Sationary'\n",
    "     df_spc.loc[(df_spc[\"DPT_DSC\"] == 'SCHOOL/OFFICE') & (df_spc['COM_DSC'] == 'SCHOOL') & (df_spc['SUBCOM_DSC'] == \"SCHOOL SUPPLIES\")  & (df_spc['VND_ECOM_DSC'].str.lower().str.contains('globe|bulletin board')), ['VML1', 'VRF1']] = 'Office Supplies'\n",
    "     df_spc.loc[(df_spc[\"DPT_DSC\"] == 'SCHOOL/OFFICE') & (df_spc['COM_DSC'] == 'SCHOOL') & (df_spc['SUBCOM_DSC'] == \"SCHOOL SUPPLIES\")  & (df_spc['VND_ECOM_DSC'].str.lower().str.contains('globe|bulletin board')), ['VML2', 'VRF2']] = 'Office Machinery'        \n",
    "        \n",
    "     return df_spc"
   ]
  },
  {
   "cell_type": "code",
   "execution_count": 16,
   "id": "86eec842",
   "metadata": {
    "scrolled": true
   },
   "outputs": [],
   "source": [
    "import numpy as np\n",
    "import pandas as pd\n",
    " \n",
    "\n",
    "pd.options.display.float_format = '{:,.4f}'.format\n",
    "pd.set_option('display.max_columns', None) \n",
    "pd.set_option(\"display.max_rows\", None)\n",
    "path = 'C:\\\\users\\\\iny2819\\\\kroger\\\\Data\\\\'"
   ]
  },
  {
   "cell_type": "code",
   "execution_count": null,
   "id": "bac59467",
   "metadata": {},
   "outputs": [],
   "source": []
  },
  {
   "cell_type": "code",
   "execution_count": 17,
   "id": "78fb956c",
   "metadata": {
    "scrolled": false
   },
   "outputs": [],
   "source": [
    "df_org = data_preparation_1()\n",
    "df, l_new_var = data_preparation_2(df_org)\n",
    "df_bkup = df.copy()\n",
    "df_org_bkup = df_org.copy()\n"
   ]
  },
  {
   "cell_type": "code",
   "execution_count": 18,
   "id": "4db0299b",
   "metadata": {},
   "outputs": [
    {
     "data": {
      "text/plain": [
       "NO     20200\n",
       "YES     3173\n",
       "Name: MANU_VAL_REQ, dtype: int64"
      ]
     },
     "execution_count": 18,
     "metadata": {},
     "output_type": "execute_result"
    }
   ],
   "source": [
    "df_beer = process_beer(df)\n",
    "df_beer.MANU_VAL_REQ.value_counts()"
   ]
  },
  {
   "cell_type": "code",
   "execution_count": 19,
   "id": "7ce296e8",
   "metadata": {},
   "outputs": [
    {
     "data": {
      "text/plain": [
       "NO     19419\n",
       "YES     2984\n",
       "Name: MANU_VAL_REQ, dtype: int64"
      ]
     },
     "execution_count": 19,
     "metadata": {},
     "output_type": "execute_result"
    }
   ],
   "source": [
    "df_spirits = process_spirits(df)\n",
    "df_spirits.MANU_VAL_REQ.value_counts()"
   ]
  },
  {
   "cell_type": "code",
   "execution_count": 20,
   "id": "e9392316",
   "metadata": {},
   "outputs": [
    {
     "data": {
      "text/plain": [
       "NO     32244\n",
       "YES     1501\n",
       "Name: MANU_VAL_REQ, dtype: int64"
      ]
     },
     "execution_count": 20,
     "metadata": {},
     "output_type": "execute_result"
    }
   ],
   "source": [
    "df_wine = process_wine(df)\n",
    "df_wine.MANU_VAL_REQ.value_counts() "
   ]
  },
  {
   "cell_type": "code",
   "execution_count": 21,
   "id": "31e96852",
   "metadata": {},
   "outputs": [
    {
     "data": {
      "text/plain": [
       "YES    132\n",
       "Name: MANU_VAL_REQ, dtype: int64"
      ]
     },
     "execution_count": 21,
     "metadata": {},
     "output_type": "execute_result"
    }
   ],
   "source": [
    "df_hbc = process_hbc(df)\n",
    "df_hbc.MANU_VAL_REQ.value_counts() "
   ]
  },
  {
   "cell_type": "code",
   "execution_count": 22,
   "id": "fffb311c",
   "metadata": {},
   "outputs": [
    {
     "data": {
      "text/plain": [
       "YES    2376\n",
       "Name: MANU_VAL_REQ, dtype: int64"
      ]
     },
     "execution_count": 22,
     "metadata": {},
     "output_type": "execute_result"
    }
   ],
   "source": [
    "df_gm = process_gm(df)\n",
    "df_gm.MANU_VAL_REQ.value_counts() "
   ]
  },
  {
   "cell_type": "code",
   "execution_count": 23,
   "id": "d6b3b60c",
   "metadata": {},
   "outputs": [
    {
     "data": {
      "text/plain": [
       "(2376, 21)"
      ]
     },
     "execution_count": 23,
     "metadata": {},
     "output_type": "execute_result"
    }
   ],
   "source": [
    "df_gm.shape"
   ]
  },
  {
   "cell_type": "code",
   "execution_count": 24,
   "id": "d16a3f20",
   "metadata": {},
   "outputs": [
    {
     "data": {
      "text/plain": [
       "Kitchen & Bathroom                          843\n",
       "Home & Venue Decoration                     582\n",
       "Arts & Crafts                               514\n",
       "Office Supplies                             246\n",
       "???                                          47\n",
       "Books & Videos                               40\n",
       "Gardening & Outdoors                         32\n",
       "Electronics                                  31\n",
       "Automotive                                    8\n",
       "Food / Beverages                              7\n",
       "Misc                                          5\n",
       "Apparel                                       4\n",
       "Toys / Games / Hobbies                        3\n",
       "Livestock & Pet Supplies                      3\n",
       "Hospitality Supplies                          3\n",
       "Beer / Wine / Spirits                         3\n",
       "Elec                                          2\n",
       "Electrical                                    1\n",
       "Sports & Outdoor Recreation Equipment         1\n",
       "Heating / Ventilation / Air Conditioning      1\n",
       "Name: VML1, dtype: int64"
      ]
     },
     "execution_count": 24,
     "metadata": {},
     "output_type": "execute_result"
    }
   ],
   "source": [
    "df_gm ['VML1'].value_counts()"
   ]
  },
  {
   "cell_type": "code",
   "execution_count": 25,
   "id": "4c0e9e10",
   "metadata": {},
   "outputs": [
    {
     "data": {
      "text/plain": [
       "Kitchen                               825\n",
       "Decorative Accessories                375\n",
       "Drawing Tools                         177\n",
       "Paper & Card Making                   151\n",
       "Greeting Cards & Gift Packaging       130\n",
       "Special Occasion & Party Supplies     108\n",
       "Needlework & Toy Makibg               107\n",
       "Stationery                             85\n",
       "Holiday Decorations                    64\n",
       "Stickers                               50\n",
       "???                                    47\n",
       "Film & Television                      39\n",
       "Gardening                              21\n",
       "Candles & Accessories                  21\n",
       "Computers                              20\n",
       "Cabinets                               17\n",
       "Sationary                              15\n",
       "Craft Sticks                           13\n",
       "Misc                                   13\n",
       "Office Machinery                       12\n",
       "Floral & Foliage - Artifical           11\n",
       "Audio & Video                          11\n",
       "Outdoor Living                         10\n",
       "Grocery                                 7\n",
       "Fluids, Chemicals, Compounds            7\n",
       "Paper / Canvas / Wood Boards            6\n",
       "Personal Accessories                    4\n",
       "Dispensers                              3\n",
       "Clocks & Thermometers                   3\n",
       "Pet Supplies                            3\n",
       "Games & Puzzles                         3\n",
       "Alcohol Making Supplies                 3\n",
       "Jewelry Making                          2\n",
       "Organizational Planning Stationery      2\n",
       "Outdoor Power Equipment                 1\n",
       "Tools                                   1\n",
       "Music                                   1\n",
       "Wire, Cable & Cord                      1\n",
       "Shipping and Packaging                  1\n",
       "Hunting & Fishing                       1\n",
       "Security Systems & Components           1\n",
       "Computer                                1\n",
       "Bathroom                                1\n",
       "Heating                                 1\n",
       "Office Machiner                         1\n",
       "Name: VML2, dtype: int64"
      ]
     },
     "execution_count": 25,
     "metadata": {},
     "output_type": "execute_result"
    }
   ],
   "source": [
    "df_gm ['VML2'].value_counts() "
   ]
  },
  {
   "cell_type": "code",
   "execution_count": 33,
   "id": "56c8368e",
   "metadata": {},
   "outputs": [
    {
     "ename": "PermissionError",
     "evalue": "[Errno 13] Permission denied: 'C:\\\\users\\\\iny2819\\\\kroger\\\\Data\\\\Beer_Wine_Spirits_ML_RF_val.xlsx'",
     "output_type": "error",
     "traceback": [
      "\u001b[1;31m---------------------------------------------------------------------------\u001b[0m",
      "\u001b[1;31mPermissionError\u001b[0m                           Traceback (most recent call last)",
      "Cell \u001b[1;32mIn[33], line 1\u001b[0m\n\u001b[1;32m----> 1\u001b[0m merged_file \u001b[38;5;241m=\u001b[39m \u001b[43mmerge_file\u001b[49m\u001b[43m(\u001b[49m\u001b[43mdf\u001b[49m\u001b[43m)\u001b[49m\n",
      "Cell \u001b[1;32mIn[4], line 12\u001b[0m, in \u001b[0;36mmerge_file\u001b[1;34m(df)\u001b[0m\n\u001b[0;32m      7\u001b[0m df_val \u001b[38;5;241m=\u001b[39m df_val[keep_col]\n\u001b[0;32m      9\u001b[0m df_merged \u001b[38;5;241m=\u001b[39m pd\u001b[38;5;241m.\u001b[39mmerge(df,\n\u001b[0;32m     10\u001b[0m                 df_val,\n\u001b[0;32m     11\u001b[0m                 on\u001b[38;5;241m=\u001b[39m\u001b[38;5;124m'\u001b[39m\u001b[38;5;124mrow_num\u001b[39m\u001b[38;5;124m'\u001b[39m, how\u001b[38;5;241m=\u001b[39m\u001b[38;5;124m'\u001b[39m\u001b[38;5;124mleft\u001b[39m\u001b[38;5;124m'\u001b[39m)\n\u001b[1;32m---> 12\u001b[0m \u001b[43mdf_merged\u001b[49m\u001b[38;5;241;43m.\u001b[39;49m\u001b[43mto_excel\u001b[49m\u001b[43m(\u001b[49m\u001b[43mpath\u001b[49m\u001b[43m \u001b[49m\u001b[38;5;241;43m+\u001b[39;49m\u001b[43m \u001b[49m\u001b[38;5;124;43m\"\u001b[39;49m\u001b[38;5;124;43mBeer_Wine_Spirits_ML_RF_val.xlsx\u001b[39;49m\u001b[38;5;124;43m\"\u001b[39;49m\u001b[43m,\u001b[49m\u001b[43mindex\u001b[49m\u001b[38;5;241;43m=\u001b[39;49m\u001b[38;5;28;43;01mNone\u001b[39;49;00m\u001b[43m)\u001b[49m\n\u001b[0;32m     13\u001b[0m \u001b[38;5;28;01mreturn\u001b[39;00m df_merged\n",
      "File \u001b[1;32m~\\AppData\\Local\\anaconda3\\lib\\site-packages\\pandas\\util\\_decorators.py:211\u001b[0m, in \u001b[0;36mdeprecate_kwarg.<locals>._deprecate_kwarg.<locals>.wrapper\u001b[1;34m(*args, **kwargs)\u001b[0m\n\u001b[0;32m    209\u001b[0m     \u001b[38;5;28;01melse\u001b[39;00m:\n\u001b[0;32m    210\u001b[0m         kwargs[new_arg_name] \u001b[38;5;241m=\u001b[39m new_arg_value\n\u001b[1;32m--> 211\u001b[0m \u001b[38;5;28;01mreturn\u001b[39;00m func(\u001b[38;5;241m*\u001b[39margs, \u001b[38;5;241m*\u001b[39m\u001b[38;5;241m*\u001b[39mkwargs)\n",
      "File \u001b[1;32m~\\AppData\\Local\\anaconda3\\lib\\site-packages\\pandas\\util\\_decorators.py:211\u001b[0m, in \u001b[0;36mdeprecate_kwarg.<locals>._deprecate_kwarg.<locals>.wrapper\u001b[1;34m(*args, **kwargs)\u001b[0m\n\u001b[0;32m    209\u001b[0m     \u001b[38;5;28;01melse\u001b[39;00m:\n\u001b[0;32m    210\u001b[0m         kwargs[new_arg_name] \u001b[38;5;241m=\u001b[39m new_arg_value\n\u001b[1;32m--> 211\u001b[0m \u001b[38;5;28;01mreturn\u001b[39;00m func(\u001b[38;5;241m*\u001b[39margs, \u001b[38;5;241m*\u001b[39m\u001b[38;5;241m*\u001b[39mkwargs)\n",
      "File \u001b[1;32m~\\AppData\\Local\\anaconda3\\lib\\site-packages\\pandas\\core\\generic.py:2374\u001b[0m, in \u001b[0;36mNDFrame.to_excel\u001b[1;34m(self, excel_writer, sheet_name, na_rep, float_format, columns, header, index, index_label, startrow, startcol, engine, merge_cells, encoding, inf_rep, verbose, freeze_panes, storage_options)\u001b[0m\n\u001b[0;32m   2361\u001b[0m \u001b[38;5;28;01mfrom\u001b[39;00m \u001b[38;5;21;01mpandas\u001b[39;00m\u001b[38;5;21;01m.\u001b[39;00m\u001b[38;5;21;01mio\u001b[39;00m\u001b[38;5;21;01m.\u001b[39;00m\u001b[38;5;21;01mformats\u001b[39;00m\u001b[38;5;21;01m.\u001b[39;00m\u001b[38;5;21;01mexcel\u001b[39;00m \u001b[38;5;28;01mimport\u001b[39;00m ExcelFormatter\n\u001b[0;32m   2363\u001b[0m formatter \u001b[38;5;241m=\u001b[39m ExcelFormatter(\n\u001b[0;32m   2364\u001b[0m     df,\n\u001b[0;32m   2365\u001b[0m     na_rep\u001b[38;5;241m=\u001b[39mna_rep,\n\u001b[1;32m   (...)\u001b[0m\n\u001b[0;32m   2372\u001b[0m     inf_rep\u001b[38;5;241m=\u001b[39minf_rep,\n\u001b[0;32m   2373\u001b[0m )\n\u001b[1;32m-> 2374\u001b[0m \u001b[43mformatter\u001b[49m\u001b[38;5;241;43m.\u001b[39;49m\u001b[43mwrite\u001b[49m\u001b[43m(\u001b[49m\n\u001b[0;32m   2375\u001b[0m \u001b[43m    \u001b[49m\u001b[43mexcel_writer\u001b[49m\u001b[43m,\u001b[49m\n\u001b[0;32m   2376\u001b[0m \u001b[43m    \u001b[49m\u001b[43msheet_name\u001b[49m\u001b[38;5;241;43m=\u001b[39;49m\u001b[43msheet_name\u001b[49m\u001b[43m,\u001b[49m\n\u001b[0;32m   2377\u001b[0m \u001b[43m    \u001b[49m\u001b[43mstartrow\u001b[49m\u001b[38;5;241;43m=\u001b[39;49m\u001b[43mstartrow\u001b[49m\u001b[43m,\u001b[49m\n\u001b[0;32m   2378\u001b[0m \u001b[43m    \u001b[49m\u001b[43mstartcol\u001b[49m\u001b[38;5;241;43m=\u001b[39;49m\u001b[43mstartcol\u001b[49m\u001b[43m,\u001b[49m\n\u001b[0;32m   2379\u001b[0m \u001b[43m    \u001b[49m\u001b[43mfreeze_panes\u001b[49m\u001b[38;5;241;43m=\u001b[39;49m\u001b[43mfreeze_panes\u001b[49m\u001b[43m,\u001b[49m\n\u001b[0;32m   2380\u001b[0m \u001b[43m    \u001b[49m\u001b[43mengine\u001b[49m\u001b[38;5;241;43m=\u001b[39;49m\u001b[43mengine\u001b[49m\u001b[43m,\u001b[49m\n\u001b[0;32m   2381\u001b[0m \u001b[43m    \u001b[49m\u001b[43mstorage_options\u001b[49m\u001b[38;5;241;43m=\u001b[39;49m\u001b[43mstorage_options\u001b[49m\u001b[43m,\u001b[49m\n\u001b[0;32m   2382\u001b[0m \u001b[43m\u001b[49m\u001b[43m)\u001b[49m\n",
      "File \u001b[1;32m~\\AppData\\Local\\anaconda3\\lib\\site-packages\\pandas\\io\\formats\\excel.py:944\u001b[0m, in \u001b[0;36mExcelFormatter.write\u001b[1;34m(self, writer, sheet_name, startrow, startcol, freeze_panes, engine, storage_options)\u001b[0m\n\u001b[0;32m    940\u001b[0m     need_save \u001b[38;5;241m=\u001b[39m \u001b[38;5;28;01mFalse\u001b[39;00m\n\u001b[0;32m    941\u001b[0m \u001b[38;5;28;01melse\u001b[39;00m:\n\u001b[0;32m    942\u001b[0m     \u001b[38;5;66;03m# error: Cannot instantiate abstract class 'ExcelWriter' with abstract\u001b[39;00m\n\u001b[0;32m    943\u001b[0m     \u001b[38;5;66;03m# attributes 'engine', 'save', 'supported_extensions' and 'write_cells'\u001b[39;00m\n\u001b[1;32m--> 944\u001b[0m     writer \u001b[38;5;241m=\u001b[39m \u001b[43mExcelWriter\u001b[49m\u001b[43m(\u001b[49m\u001b[43m  \u001b[49m\u001b[38;5;66;43;03m# type: ignore[abstract]\u001b[39;49;00m\n\u001b[0;32m    945\u001b[0m \u001b[43m        \u001b[49m\u001b[43mwriter\u001b[49m\u001b[43m,\u001b[49m\u001b[43m \u001b[49m\u001b[43mengine\u001b[49m\u001b[38;5;241;43m=\u001b[39;49m\u001b[43mengine\u001b[49m\u001b[43m,\u001b[49m\u001b[43m \u001b[49m\u001b[43mstorage_options\u001b[49m\u001b[38;5;241;43m=\u001b[39;49m\u001b[43mstorage_options\u001b[49m\n\u001b[0;32m    946\u001b[0m \u001b[43m    \u001b[49m\u001b[43m)\u001b[49m\n\u001b[0;32m    947\u001b[0m     need_save \u001b[38;5;241m=\u001b[39m \u001b[38;5;28;01mTrue\u001b[39;00m\n\u001b[0;32m    949\u001b[0m \u001b[38;5;28;01mtry\u001b[39;00m:\n",
      "File \u001b[1;32m~\\AppData\\Local\\anaconda3\\lib\\site-packages\\pandas\\io\\excel\\_xlsxwriter.py:205\u001b[0m, in \u001b[0;36mXlsxWriter.__init__\u001b[1;34m(self, path, engine, date_format, datetime_format, mode, storage_options, if_sheet_exists, engine_kwargs, **kwargs)\u001b[0m\n\u001b[0;32m    202\u001b[0m \u001b[38;5;28;01mif\u001b[39;00m mode \u001b[38;5;241m==\u001b[39m \u001b[38;5;124m\"\u001b[39m\u001b[38;5;124ma\u001b[39m\u001b[38;5;124m\"\u001b[39m:\n\u001b[0;32m    203\u001b[0m     \u001b[38;5;28;01mraise\u001b[39;00m \u001b[38;5;167;01mValueError\u001b[39;00m(\u001b[38;5;124m\"\u001b[39m\u001b[38;5;124mAppend mode is not supported with xlsxwriter!\u001b[39m\u001b[38;5;124m\"\u001b[39m)\n\u001b[1;32m--> 205\u001b[0m \u001b[38;5;28;43msuper\u001b[39;49m\u001b[43m(\u001b[49m\u001b[43m)\u001b[49m\u001b[38;5;241;43m.\u001b[39;49m\u001b[38;5;21;43m__init__\u001b[39;49m\u001b[43m(\u001b[49m\n\u001b[0;32m    206\u001b[0m \u001b[43m    \u001b[49m\u001b[43mpath\u001b[49m\u001b[43m,\u001b[49m\n\u001b[0;32m    207\u001b[0m \u001b[43m    \u001b[49m\u001b[43mengine\u001b[49m\u001b[38;5;241;43m=\u001b[39;49m\u001b[43mengine\u001b[49m\u001b[43m,\u001b[49m\n\u001b[0;32m    208\u001b[0m \u001b[43m    \u001b[49m\u001b[43mdate_format\u001b[49m\u001b[38;5;241;43m=\u001b[39;49m\u001b[43mdate_format\u001b[49m\u001b[43m,\u001b[49m\n\u001b[0;32m    209\u001b[0m \u001b[43m    \u001b[49m\u001b[43mdatetime_format\u001b[49m\u001b[38;5;241;43m=\u001b[39;49m\u001b[43mdatetime_format\u001b[49m\u001b[43m,\u001b[49m\n\u001b[0;32m    210\u001b[0m \u001b[43m    \u001b[49m\u001b[43mmode\u001b[49m\u001b[38;5;241;43m=\u001b[39;49m\u001b[43mmode\u001b[49m\u001b[43m,\u001b[49m\n\u001b[0;32m    211\u001b[0m \u001b[43m    \u001b[49m\u001b[43mstorage_options\u001b[49m\u001b[38;5;241;43m=\u001b[39;49m\u001b[43mstorage_options\u001b[49m\u001b[43m,\u001b[49m\n\u001b[0;32m    212\u001b[0m \u001b[43m    \u001b[49m\u001b[43mif_sheet_exists\u001b[49m\u001b[38;5;241;43m=\u001b[39;49m\u001b[43mif_sheet_exists\u001b[49m\u001b[43m,\u001b[49m\n\u001b[0;32m    213\u001b[0m \u001b[43m    \u001b[49m\u001b[43mengine_kwargs\u001b[49m\u001b[38;5;241;43m=\u001b[39;49m\u001b[43mengine_kwargs\u001b[49m\u001b[43m,\u001b[49m\n\u001b[0;32m    214\u001b[0m \u001b[43m\u001b[49m\u001b[43m)\u001b[49m\n\u001b[0;32m    216\u001b[0m \u001b[38;5;28mself\u001b[39m\u001b[38;5;241m.\u001b[39m_book \u001b[38;5;241m=\u001b[39m Workbook(\u001b[38;5;28mself\u001b[39m\u001b[38;5;241m.\u001b[39m_handles\u001b[38;5;241m.\u001b[39mhandle, \u001b[38;5;241m*\u001b[39m\u001b[38;5;241m*\u001b[39mengine_kwargs)\n",
      "File \u001b[1;32m~\\AppData\\Local\\anaconda3\\lib\\site-packages\\pandas\\io\\excel\\_base.py:1313\u001b[0m, in \u001b[0;36mExcelWriter.__init__\u001b[1;34m(self, path, engine, date_format, datetime_format, mode, storage_options, if_sheet_exists, engine_kwargs, **kwargs)\u001b[0m\n\u001b[0;32m   1309\u001b[0m \u001b[38;5;28mself\u001b[39m\u001b[38;5;241m.\u001b[39m_handles \u001b[38;5;241m=\u001b[39m IOHandles(\n\u001b[0;32m   1310\u001b[0m     cast(IO[\u001b[38;5;28mbytes\u001b[39m], path), compression\u001b[38;5;241m=\u001b[39m{\u001b[38;5;124m\"\u001b[39m\u001b[38;5;124mcompression\u001b[39m\u001b[38;5;124m\"\u001b[39m: \u001b[38;5;28;01mNone\u001b[39;00m}\n\u001b[0;32m   1311\u001b[0m )\n\u001b[0;32m   1312\u001b[0m \u001b[38;5;28;01mif\u001b[39;00m \u001b[38;5;129;01mnot\u001b[39;00m \u001b[38;5;28misinstance\u001b[39m(path, ExcelWriter):\n\u001b[1;32m-> 1313\u001b[0m     \u001b[38;5;28mself\u001b[39m\u001b[38;5;241m.\u001b[39m_handles \u001b[38;5;241m=\u001b[39m \u001b[43mget_handle\u001b[49m\u001b[43m(\u001b[49m\n\u001b[0;32m   1314\u001b[0m \u001b[43m        \u001b[49m\u001b[43mpath\u001b[49m\u001b[43m,\u001b[49m\u001b[43m \u001b[49m\u001b[43mmode\u001b[49m\u001b[43m,\u001b[49m\u001b[43m \u001b[49m\u001b[43mstorage_options\u001b[49m\u001b[38;5;241;43m=\u001b[39;49m\u001b[43mstorage_options\u001b[49m\u001b[43m,\u001b[49m\u001b[43m \u001b[49m\u001b[43mis_text\u001b[49m\u001b[38;5;241;43m=\u001b[39;49m\u001b[38;5;28;43;01mFalse\u001b[39;49;00m\n\u001b[0;32m   1315\u001b[0m \u001b[43m    \u001b[49m\u001b[43m)\u001b[49m\n\u001b[0;32m   1316\u001b[0m \u001b[38;5;28mself\u001b[39m\u001b[38;5;241m.\u001b[39m_cur_sheet \u001b[38;5;241m=\u001b[39m \u001b[38;5;28;01mNone\u001b[39;00m\n\u001b[0;32m   1318\u001b[0m \u001b[38;5;28;01mif\u001b[39;00m date_format \u001b[38;5;129;01mis\u001b[39;00m \u001b[38;5;28;01mNone\u001b[39;00m:\n",
      "File \u001b[1;32m~\\AppData\\Local\\anaconda3\\lib\\site-packages\\pandas\\io\\common.py:865\u001b[0m, in \u001b[0;36mget_handle\u001b[1;34m(path_or_buf, mode, encoding, compression, memory_map, is_text, errors, storage_options)\u001b[0m\n\u001b[0;32m    856\u001b[0m         handle \u001b[38;5;241m=\u001b[39m \u001b[38;5;28mopen\u001b[39m(\n\u001b[0;32m    857\u001b[0m             handle,\n\u001b[0;32m    858\u001b[0m             ioargs\u001b[38;5;241m.\u001b[39mmode,\n\u001b[1;32m   (...)\u001b[0m\n\u001b[0;32m    861\u001b[0m             newline\u001b[38;5;241m=\u001b[39m\u001b[38;5;124m\"\u001b[39m\u001b[38;5;124m\"\u001b[39m,\n\u001b[0;32m    862\u001b[0m         )\n\u001b[0;32m    863\u001b[0m     \u001b[38;5;28;01melse\u001b[39;00m:\n\u001b[0;32m    864\u001b[0m         \u001b[38;5;66;03m# Binary mode\u001b[39;00m\n\u001b[1;32m--> 865\u001b[0m         handle \u001b[38;5;241m=\u001b[39m \u001b[38;5;28;43mopen\u001b[39;49m\u001b[43m(\u001b[49m\u001b[43mhandle\u001b[49m\u001b[43m,\u001b[49m\u001b[43m \u001b[49m\u001b[43mioargs\u001b[49m\u001b[38;5;241;43m.\u001b[39;49m\u001b[43mmode\u001b[49m\u001b[43m)\u001b[49m\n\u001b[0;32m    866\u001b[0m     handles\u001b[38;5;241m.\u001b[39mappend(handle)\n\u001b[0;32m    868\u001b[0m \u001b[38;5;66;03m# Convert BytesIO or file objects passed with an encoding\u001b[39;00m\n",
      "\u001b[1;31mPermissionError\u001b[0m: [Errno 13] Permission denied: 'C:\\\\users\\\\iny2819\\\\kroger\\\\Data\\\\Beer_Wine_Spirits_ML_RF_val.xlsx'"
     ]
    }
   ],
   "source": [
    "merged_file = merge_file(df_org)"
   ]
  },
  {
   "cell_type": "code",
   "execution_count": 27,
   "id": "2d8aa560",
   "metadata": {},
   "outputs": [
    {
     "data": {
      "text/plain": [
       "Beer / Wine / Spirits                       79524\n",
       "Kitchen & Bathroom                            843\n",
       "Home & Venue Decoration                       582\n",
       "Arts & Crafts                                 514\n",
       "Office Supplies                               261\n",
       "Health & Beauty                                88\n",
       "???                                            47\n",
       "Books & Videos                                 40\n",
       "Gardening & Outdoors                           32\n",
       "Electronics                                    31\n",
       "Food / Beverages                               20\n",
       "Tobacco Products                               16\n",
       "Automotive                                      8\n",
       "Misc                                            5\n",
       "Apparel                                         4\n",
       "Toys / Games / Hobbies                          3\n",
       "Livestock & Pet Supplies                        3\n",
       "Hospitality Supplies                            3\n",
       "Elec                                            2\n",
       "Electrical                                      1\n",
       "Sports & Outdoor Recreation Equipment           1\n",
       "Heating / Ventilation / Air Conditioning        1\n",
       "Name: VML1, dtype: int64"
      ]
     },
     "execution_count": 27,
     "metadata": {},
     "output_type": "execute_result"
    }
   ],
   "source": [
    "merged_file ['VML1'].value_counts() "
   ]
  },
  {
   "cell_type": "code",
   "execution_count": 28,
   "id": "570b81fa",
   "metadata": {},
   "outputs": [
    {
     "data": {
      "text/plain": [
       "Wine                                  33582\n",
       "Spirits                               20189\n",
       "Beer                                  19882\n",
       "Flavored Alcoholic Beverages           2572\n",
       "Flavored Alcoholic Beveragess          2214\n",
       "Ciders & Perrys                        1082\n",
       "Kitchen                                 825\n",
       "Decorative Accessories                  375\n",
       "Drawing Tools                           177\n",
       "Paper & Card Making                     151\n",
       "Greeting Cards & Gift Packaging         145\n",
       "Special Occasion & Party Supplies       108\n",
       "Needlework & Toy Makibg                 107\n",
       "Stationery                               85\n",
       "Cosmetics & Fragrances                   75\n",
       "Holiday Decorations                      64\n",
       "Stickers                                 50\n",
       "???                                      47\n",
       "Film & Television                        39\n",
       "Gardening                                21\n",
       "Candles & Accessories                    21\n",
       "Computers                                20\n",
       "Cabinets                                 17\n",
       "Cigarettes                               16\n",
       "Sationary                                15\n",
       "Craft Sticks                             13\n",
       "Misc                                     13\n",
       "Office Machinery                         12\n",
       "Floral & Foliage - Artifical             11\n",
       "Audio & Video                            11\n",
       "Grocery                                  10\n",
       "Outdoor Living                           10\n",
       "Candy                                     9\n",
       "Personal Care                             7\n",
       "Fluids, Chemicals, Compounds              7\n",
       "Paper / Canvas / Wood Boards              6\n",
       "Personal Accessories                      4\n",
       "Dispensers                                3\n",
       "Healthcare                                3\n",
       "Alcohol Making Supplies                   3\n",
       "Games & Puzzles                           3\n",
       "Pet Supplies                              3\n",
       "Clocks & Thermometers                     3\n",
       "Jewelry Making                            2\n",
       "Organizational Planning Stationery        2\n",
       "Health Treatments                         2\n",
       "Tools                                     1\n",
       "Beverages                                 1\n",
       "Music                                     1\n",
       "Wire, Cable & Cord                        1\n",
       "Shipping and Packaging                    1\n",
       "Hunting & Fishing                         1\n",
       "Security Systems & Components             1\n",
       "Computer                                  1\n",
       "Vitamins & Dietary Supplements            1\n",
       "Bathroom                                  1\n",
       "Heating                                   1\n",
       "Office Machiner                           1\n",
       "Outdoor Power Equipment                   1\n",
       "Name: VML2, dtype: int64"
      ]
     },
     "execution_count": 28,
     "metadata": {},
     "output_type": "execute_result"
    }
   ],
   "source": [
    "merged_file ['VML2'].value_counts()"
   ]
  },
  {
   "cell_type": "code",
   "execution_count": 29,
   "id": "4e242148",
   "metadata": {},
   "outputs": [
    {
     "data": {
      "text/plain": [
       "(82580, 34)"
      ]
     },
     "execution_count": 29,
     "metadata": {},
     "output_type": "execute_result"
    }
   ],
   "source": [
    "merged_file.shape"
   ]
  },
  {
   "cell_type": "code",
   "execution_count": 30,
   "id": "813b2a7a",
   "metadata": {},
   "outputs": [
    {
     "ename": "NameError",
     "evalue": "name 'Stop' is not defined",
     "output_type": "error",
     "traceback": [
      "\u001b[1;31m---------------------------------------------------------------------------\u001b[0m",
      "\u001b[1;31mNameError\u001b[0m                                 Traceback (most recent call last)",
      "Cell \u001b[1;32mIn[30], line 1\u001b[0m\n\u001b[1;32m----> 1\u001b[0m \u001b[43mStop\u001b[49m\n",
      "\u001b[1;31mNameError\u001b[0m: name 'Stop' is not defined"
     ]
    }
   ],
   "source": [
    "Stop"
   ]
  },
  {
   "cell_type": "code",
   "execution_count": null,
   "id": "155dfd3c",
   "metadata": {},
   "outputs": [],
   "source": [
    "     "
   ]
  },
  {
   "cell_type": "code",
   "execution_count": null,
   "id": "bc37daaa",
   "metadata": {},
   "outputs": [],
   "source": [
    "l_val_df= [dfx, df_beer, df_spirits, df_wine, df_hbc, df_gm]\n",
    "df_val = pd.concat(l_val_df, ignore_index=True, sort=False)"
   ]
  },
  {
   "cell_type": "code",
   "execution_count": null,
   "id": "b5869449",
   "metadata": {},
   "outputs": [],
   "source": [
    "    keep_col = ['row_num','VML1', 'VML2', 'VRF1', 'VRF2', 'VML1_MTH_IND', 'VML2_MTH_IND', 'VRF1_MTH_IND', 'VRF2_MTH_IND',\n",
    "               'MANU_VAL_REQ', 'MANU_VAL_DONE']\n",
    "      \n",
    "    df_val = df_val[keep_col]"
   ]
  },
  {
   "cell_type": "code",
   "execution_count": null,
   "id": "c136bbae",
   "metadata": {
    "scrolled": true
   },
   "outputs": [],
   "source": [
    "df_merged = pd.merge(df_org,\n",
    "                    df_val,\n",
    "                    on='row_num', how='left')"
   ]
  },
  {
   "cell_type": "code",
   "execution_count": null,
   "id": "80d70109",
   "metadata": {},
   "outputs": [],
   "source": [
    "path = 'C:\\\\users\\\\iny2819\\\\kroger\\\\Data\\\\'\n",
    "df_merged.to_csv(path + \"Beer_Wine_Spirits_ML_RF_val.csv\",index=None)"
   ]
  },
  {
   "cell_type": "code",
   "execution_count": null,
   "id": "f025bdc2",
   "metadata": {},
   "outputs": [],
   "source": [
    "df_beer['VML1_MTH_IND'].value_counts()\n"
   ]
  },
  {
   "cell_type": "code",
   "execution_count": null,
   "id": "57c43622",
   "metadata": {},
   "outputs": [],
   "source": [
    "df_beer['VML2_MTH_IND'].value_counts()"
   ]
  },
  {
   "cell_type": "code",
   "execution_count": null,
   "id": "3c55bb2c",
   "metadata": {},
   "outputs": [],
   "source": [
    "df_beer['VRF1_MTH_IND'].value_counts()"
   ]
  },
  {
   "cell_type": "code",
   "execution_count": null,
   "id": "534f6997",
   "metadata": {},
   "outputs": [],
   "source": [
    "df_beer['VRF2_MTH_IND'].value_counts()"
   ]
  },
  {
   "cell_type": "code",
   "execution_count": null,
   "id": "b63d2995",
   "metadata": {},
   "outputs": [],
   "source": [
    "df_beer.loc[(df_beer['VML1_IND'] == False) |(df_beer['VML2_IND'] == False) |(df_beer['VRF1_IND'] == False) |(df_beer['VRF2_IND'] == False)  , 'MANU_VAL_IND'] = 'True'"
   ]
  },
  {
   "cell_type": "code",
   "execution_count": null,
   "id": "81d0e649",
   "metadata": {},
   "outputs": [],
   "source": [
    "df_gm['VML1'].value_counts()"
   ]
  },
  {
   "cell_type": "code",
   "execution_count": null,
   "id": "7548ca4c",
   "metadata": {},
   "outputs": [],
   "source": []
  },
  {
   "cell_type": "code",
   "execution_count": null,
   "id": "5d8804f8",
   "metadata": {},
   "outputs": [],
   "source": [
    "stop"
   ]
  },
  {
   "cell_type": "code",
   "execution_count": null,
   "id": "a5752191",
   "metadata": {},
   "outputs": [],
   "source": [
    "df[df[\"PMY_DPT_DSC\"] == 'MEAT'][\"REC_DPT_DSC\"].value_counts()"
   ]
  },
  {
   "cell_type": "code",
   "execution_count": null,
   "id": "c0191d26",
   "metadata": {},
   "outputs": [],
   "source": [
    "df[df[\"PMY_DPT_DSC\"] == 'DELI/BAKE'][\"REC_DPT_DSC\"].value_counts()"
   ]
  },
  {
   "cell_type": "code",
   "execution_count": null,
   "id": "886d2f6f",
   "metadata": {},
   "outputs": [],
   "source": [
    "df[df[\"PMY_DPT_DSC\"] == 'DRUG/GM'][\"REC_DPT_DSC\"].value_counts()"
   ]
  },
  {
   "cell_type": "code",
   "execution_count": null,
   "id": "95c14fb1",
   "metadata": {},
   "outputs": [],
   "source": [
    "df[(df[\"PMY_DPT_DSC\"] == 'DRUG/GM') & (df[\"REC_DPT_DSC\"] == 'GM')][\"DPT_DSC\"].value_counts()"
   ]
  },
  {
   "cell_type": "code",
   "execution_count": null,
   "id": "64e05b72",
   "metadata": {
    "scrolled": true
   },
   "outputs": [],
   "source": [
    "df[df[\"PMY_DPT_DSC\"] == 'GROCERY'][\"REC_DPT_DSC\"].value_counts()\n"
   ]
  },
  {
   "cell_type": "code",
   "execution_count": null,
   "id": "353465cf",
   "metadata": {},
   "outputs": [],
   "source": [
    "df[(df[\"PMY_DPT_DSC\"] == 'GROCERY') & (df[\"REC_DPT_DSC\"] == 'LIQUOR')][\"DPT_DSC\"].value_counts()"
   ]
  },
  {
   "cell_type": "markdown",
   "id": "0ed402b6",
   "metadata": {},
   "source": [
    "## wip"
   ]
  },
  {
   "cell_type": "code",
   "execution_count": null,
   "id": "40b2f937",
   "metadata": {},
   "outputs": [],
   "source": [
    "type(df[df[\"PMY_DPT_DSC\"] == 'GROCERY'])"
   ]
  },
  {
   "cell_type": "code",
   "execution_count": null,
   "id": "599d0f68",
   "metadata": {},
   "outputs": [],
   "source": [
    "df.columns"
   ]
  },
  {
   "cell_type": "code",
   "execution_count": null,
   "id": "cfc3bc36",
   "metadata": {},
   "outputs": [],
   "source": [
    "gtin = df_val['row_num'].value_counts(dropna = False)\n",
    "len(gtin) "
   ]
  },
  {
   "cell_type": "code",
   "execution_count": null,
   "id": "8207dc14",
   "metadata": {},
   "outputs": [],
   "source": [
    "gtin = gtin[gtin != 1]\n",
    "len(gtin) #  duplicate gtin = 3326"
   ]
  },
  {
   "cell_type": "code",
   "execution_count": null,
   "id": "0317f6f0",
   "metadata": {},
   "outputs": [],
   "source": [
    "gtin = df_org['row_num'].value_counts(dropna = False)\n",
    "len(gtin) "
   ]
  },
  {
   "cell_type": "code",
   "execution_count": null,
   "id": "d56e770d",
   "metadata": {},
   "outputs": [],
   "source": [
    "gtin = gtin[gtin != 1]\n",
    "len(gtin) #  duplicate gtin = 3326"
   ]
  },
  {
   "cell_type": "code",
   "execution_count": null,
   "id": "f8d2c45e",
   "metadata": {},
   "outputs": [],
   "source": [
    "df_val.info()"
   ]
  },
  {
   "cell_type": "code",
   "execution_count": null,
   "id": "953ccbf6",
   "metadata": {},
   "outputs": [],
   "source": [
    "print(l_new_var)"
   ]
  },
  {
   "cell_type": "code",
   "execution_count": null,
   "id": "1df34087",
   "metadata": {},
   "outputs": [],
   "source": [
    "df_merged.head(2)\n",
    "F"
   ]
  },
  {
   "cell_type": "code",
   "execution_count": null,
   "id": "1eaed356",
   "metadata": {},
   "outputs": [],
   "source": [
    "    df_beer.loc[(df_beer['VML1_MTH_IND'] == False) |(df_beer['VML2_MTH_IND'] == False) |(df_beer['VRF1_MTH_IND'] == False) |(df_beer['VRF2_MTH_IND'] == False)  , 'MANU_VAL_REQ'] = 'YES'"
   ]
  },
  {
   "cell_type": "code",
   "execution_count": null,
   "id": "023e7d4e",
   "metadata": {},
   "outputs": [],
   "source": [
    "#df_spc1 = df_gm.loc[df_gm['VML2'] == '???']\n",
    "df_spc1 = df_gm.loc[(df_gm['VML1'] != '???') & (df_gm['VML2'] == '???')]\n",
    "path = 'C:\\\\users\\\\iny2819\\\\kroger\\\\Data\\\\'\n",
    "df_spc1.to_excel(path + \"wip_ML_RF_val.xlsx\",index=None)"
   ]
  },
  {
   "cell_type": "code",
   "execution_count": null,
   "id": "dcf5c67d",
   "metadata": {},
   "outputs": [],
   "source": [
    "df_spc1.shape"
   ]
  },
  {
   "cell_type": "code",
   "execution_count": null,
   "id": "1f4942db",
   "metadata": {},
   "outputs": [],
   "source": [
    " df_gm.loc[(df_gm['VML1'] == '???') &  (df_gm[\"DPT_DSC\"] == \"HOUSEWARES\")][\"COM_DSC\"].value_counts(dropna = False)"
   ]
  },
  {
   "cell_type": "code",
   "execution_count": null,
   "id": "5bcf5ac0",
   "metadata": {},
   "outputs": [],
   "source": [
    "df.shape"
   ]
  },
  {
   "cell_type": "code",
   "execution_count": null,
   "id": "5c8afce6",
   "metadata": {},
   "outputs": [],
   "source": [
    "df_val.shape"
   ]
  },
  {
   "cell_type": "code",
   "execution_count": null,
   "id": "6a0a7e7a",
   "metadata": {},
   "outputs": [],
   "source": [
    "dfx = df.copy()"
   ]
  },
  {
   "cell_type": "code",
   "execution_count": null,
   "id": "3d85c993",
   "metadata": {},
   "outputs": [],
   "source": [
    "\n",
    "dfx[\"ind\"] = (~df.row_num.isin(df_val.row_num))\n",
    "dfx = dfx.loc[dfx[\"ind\"] == True]\n",
    "dfx = dfx.drop(['ind'], axis = 1)\n"
   ]
  },
  {
   "cell_type": "code",
   "execution_count": null,
   "id": "98712b7b",
   "metadata": {},
   "outputs": [],
   "source": [
    "dfx.head()"
   ]
  },
  {
   "cell_type": "code",
   "execution_count": null,
   "id": "da9dd4a0",
   "metadata": {},
   "outputs": [],
   "source": [
    "#l_val_df= [dfx, df_beer, df_spirits, df_wine, df_hbc, df_gm]\n",
    "l_val_df= [dfx, df_hbc]\n",
    "df_val = pd.concat(l_val_df, ignore_index=True, sort=False)"
   ]
  },
  {
   "cell_type": "code",
   "execution_count": null,
   "id": "4d10230d",
   "metadata": {},
   "outputs": [],
   "source": [
    "dfx.columns\n"
   ]
  },
  {
   "cell_type": "code",
   "execution_count": null,
   "id": "cd483d8b",
   "metadata": {},
   "outputs": [],
   "source": [
    "df_gm.columns\n"
   ]
  },
  {
   "cell_type": "code",
   "execution_count": null,
   "id": "4387c693",
   "metadata": {},
   "outputs": [],
   "source": [
    "df_spc1 = df_gm.loc[(df_gm['VML1'] == '???' ) & (df_gm['VML2'] != '???' )]\n",
    "df_spc1.to_excel(path + \"wip_ML_RF_val.xlsx\",index=None)"
   ]
  },
  {
   "cell_type": "code",
   "execution_count": null,
   "id": "b3e6a485",
   "metadata": {},
   "outputs": [],
   "source": [
    "df_hbc.columns"
   ]
  },
  {
   "cell_type": "code",
   "execution_count": null,
   "id": "47fba83c",
   "metadata": {},
   "outputs": [],
   "source": [
    "\n",
    "path = 'C:\\\\users\\\\iny2819\\\\kroger\\\\Data\\\\'\n",
    "df_gm.to_excel(path + \"wip_ML_RF_val.xlsx\",index=None)"
   ]
  },
  {
   "cell_type": "code",
   "execution_count": 31,
   "id": "6d6fd97c",
   "metadata": {},
   "outputs": [
    {
     "data": {
      "text/plain": [
       "???    82580\n",
       "Name: VML1, dtype: int64"
      ]
     },
     "execution_count": 31,
     "metadata": {},
     "output_type": "execute_result"
    }
   ],
   "source": [
    "df['VML1'].value_counts() "
   ]
  },
  {
   "cell_type": "code",
   "execution_count": 32,
   "id": "6cc1ee30",
   "metadata": {},
   "outputs": [
    {
     "data": {
      "text/plain": [
       "???    82580\n",
       "Name: VML2, dtype: int64"
      ]
     },
     "execution_count": 32,
     "metadata": {},
     "output_type": "execute_result"
    }
   ],
   "source": [
    "df['VML2'].value_counts() "
   ]
  },
  {
   "cell_type": "code",
   "execution_count": null,
   "id": "9fe6142d",
   "metadata": {},
   "outputs": [],
   "source": []
  }
 ],
 "metadata": {
  "kernelspec": {
   "display_name": "Python 3 (ipykernel)",
   "language": "python",
   "name": "python3"
  },
  "language_info": {
   "codemirror_mode": {
    "name": "ipython",
    "version": 3
   },
   "file_extension": ".py",
   "mimetype": "text/x-python",
   "name": "python",
   "nbconvert_exporter": "python",
   "pygments_lexer": "ipython3",
   "version": "3.10.9"
  }
 },
 "nbformat": 4,
 "nbformat_minor": 5
}
