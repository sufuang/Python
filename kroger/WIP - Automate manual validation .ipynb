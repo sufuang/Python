{
 "cells": [
  {
   "cell_type": "markdown",
   "id": "fb1722f2",
   "metadata": {},
   "source": [
    "# Automate manual validation "
   ]
  },
  {
   "cell_type": "code",
   "execution_count": 2,
   "id": "40d56935",
   "metadata": {},
   "outputs": [],
   "source": [
    "def data_preparation_1():\n",
    "    path = 'C:\\\\users\\\\iny2819\\\\kroger\\\\Data\\\\'\n",
    "    path_file = path + 'Beer_Wine_Spirits_ML and RF.xlsx'\n",
    "    df_org = pd.read_excel(path_file)\n",
    "    df_org = df_org.rename_axis('row_num').reset_index()\n",
    "    return df_org"
   ]
  },
  {
   "cell_type": "code",
   "execution_count": 3,
   "id": "bc1a1fda",
   "metadata": {},
   "outputs": [],
   "source": [
    "def data_preparation_2(df_org):\n",
    " \n",
    "    df = df_org.copy()\n",
    "    keep_col = ['row_num', 'PMY_DPT_DSC', 'REC_DPT_DSC', 'DPT_DSC', 'COM_DSC', 'SUBCOM_DSC','VND_ECOM_DSC', 'ML L1 Predictions',\n",
    "           'ML L2 Predictions', 'RF Level 1', 'RF Level 2']\n",
    "    df = df[keep_col]\n",
    "    l_val_ml_rf = [ 'VML1', 'VML2','VRF1', 'VRF2']\n",
    "    l_val_ml_rf = [ 'VML1', 'VML2', 'VRF1', 'VRF2']\n",
    "    l_mth_ml_rf_ind = [ 'VML1_MTH_IND', 'VML2_MTH_IND', 'VRF1_MTH_IND', 'VRF2_MTH_IND']\n",
    "    for fea in l_val_ml_rf:\n",
    "        df[fea] = '???' \n",
    "        \n",
    "    for fea in l_mth_ml_rf_ind:   \n",
    "        df[fea] = False\n",
    "    df['MANU_VAL_REQ'] = 'NO'\n",
    "    df['MANU_VAL_DONE'] = 'No Need'   \n",
    "    return df"
   ]
  },
  {
   "cell_type": "code",
   "execution_count": 4,
   "id": "1617143e",
   "metadata": {},
   "outputs": [],
   "source": [
    "def set_indicator(df): \n",
    "    df.loc[df['ML L1 Predictions'] == df['VML1'] , 'VML1_MTH_IND'] = 'True'\n",
    "    df.loc[df['ML L2 Predictions'] == df['VML2'] , 'VML2_MTH_IND'] = 'True'\n",
    "    df.loc[df['RF Level 1'] == df['VRF1'] , 'VRF1_MTH_IND'] = 'True'\n",
    "    df.loc[df['RF Level 2'] == df['VRF2'] , 'VRF2_MTH_IND'] = 'True'\n",
    "    df.loc[(df['VML1_MTH_IND'] == False) |(df['VML2_MTH_IND'] == False) |(df['VRF1_MTH_IND'] == False) |(df['VRF2_MTH_IND'] == False)  , 'MANU_VAL_REQ'] = 'YES'    \n",
    "    df.loc[df['MANU_VAL_REQ'] == 'YES' , 'MANU_VAL_DONE'] = 'No'\n",
    "    return df"
   ]
  },
  {
   "cell_type": "code",
   "execution_count": 5,
   "id": "86eec842",
   "metadata": {
    "scrolled": true
   },
   "outputs": [],
   "source": [
    "import numpy as np\n",
    "import pandas as pd\n",
    " \n",
    "\n",
    "pd.options.display.float_format = '{:,.4f}'.format\n",
    "pd.set_option('display.max_columns', None) \n",
    "pd.set_option(\"display.max_rows\", None)"
   ]
  },
  {
   "cell_type": "code",
   "execution_count": 6,
   "id": "0efa442c",
   "metadata": {},
   "outputs": [],
   "source": [
    "df_org = data_preparation_1()\n",
    "df = data_preparation_2(df_org)\n",
    "df_bkup = df.copy()\n"
   ]
  },
  {
   "cell_type": "code",
   "execution_count": 6,
   "id": "da83aefe",
   "metadata": {},
   "outputs": [
    {
     "ename": "NameError",
     "evalue": "name 'stop' is not defined",
     "output_type": "error",
     "traceback": [
      "\u001b[1;31m---------------------------------------------------------------------------\u001b[0m",
      "\u001b[1;31mNameError\u001b[0m                                 Traceback (most recent call last)",
      "Cell \u001b[1;32mIn[6], line 1\u001b[0m\n\u001b[1;32m----> 1\u001b[0m \u001b[43mstop\u001b[49m\n",
      "\u001b[1;31mNameError\u001b[0m: name 'stop' is not defined"
     ]
    }
   ],
   "source": [
    "stop"
   ]
  },
  {
   "cell_type": "code",
   "execution_count": null,
   "id": "78fb956c",
   "metadata": {
    "scrolled": true
   },
   "outputs": [],
   "source": [
    "df_spc = df[(df[\"PMY_DPT_DSC\"] == 'DRUG/GM') & (df[\"REC_DPT_DSC\"] == 'GM')]\n"
   ]
  },
  {
   "cell_type": "code",
   "execution_count": null,
   "id": "e1f8c98b",
   "metadata": {},
   "outputs": [],
   "source": [
    "\"\"\"\n",
    "process HBC\n",
    "   DPT_DSC = BEAUTY & COM_DSC = COLOR COSMETICS\n",
    "   - SUBCOM_DSC NOT PROVIDE TOO MUCH information\n",
    "   - Can't find VND_ECOM_DSC from Google\n",
    "     - Whiskey & Tobacco The Dopp Kit -> is Dopp Kit  for Whi? skey & Tobacco? \n",
    "   DPT_DSC = BEAUTY & COM_DSC = NAILCARE/LASH/COTTON\n",
    "\"\"\""
   ]
  },
  {
   "cell_type": "code",
   "execution_count": null,
   "id": "82fa0841",
   "metadata": {},
   "outputs": [],
   "source": [
    "    df_spc = set_indicator(df_spc)  \n",
    "    df_spc.MANU_VAL_REQ.value_counts()   "
   ]
  },
  {
   "cell_type": "code",
   "execution_count": null,
   "id": "38d3d2ee",
   "metadata": {},
   "outputs": [],
   "source": [
    "df_spc.MANU_VAL_REQ.value_counts()"
   ]
  },
  {
   "cell_type": "code",
   "execution_count": null,
   "id": "2df24a32",
   "metadata": {},
   "outputs": [],
   "source": [
    "df_spc ['VML1'].value_counts() "
   ]
  },
  {
   "cell_type": "code",
   "execution_count": null,
   "id": "ac9fee30",
   "metadata": {},
   "outputs": [],
   "source": [
    "df_spc ['VML2'].value_counts() "
   ]
  },
  {
   "cell_type": "code",
   "execution_count": null,
   "id": "716e1787",
   "metadata": {},
   "outputs": [],
   "source": [
    "df_spc[(df_spc['DPT_DSC'] == 'GARDEN-OUTDOOR') & (df_spc['VML2'] == '???') ]"
   ]
  },
  {
   "cell_type": "code",
   "execution_count": null,
   "id": "e0235357",
   "metadata": {},
   "outputs": [],
   "source": [
    "df_org[(df_org['DPT_DSC'] == 'GARDEN-OUTDOOR') & (df_org['COM_DSC'] == 'GARDEN TOOLS/HDW') ]"
   ]
  },
  {
   "cell_type": "code",
   "execution_count": null,
   "id": "7ba9c555",
   "metadata": {},
   "outputs": [],
   "source": [
    "df_spc[df_spc['VML2'] == '???']"
   ]
  },
  {
   "cell_type": "code",
   "execution_count": null,
   "id": "eb287599",
   "metadata": {},
   "outputs": [],
   "source": [
    "#df_org.reset_index(inplace = True, drop=True) # inplace = True is not required\n",
    "df_org = df_org.rename_axis('row_num').reset_index()"
   ]
  },
  {
   "cell_type": "code",
   "execution_count": null,
   "id": "cbc4264f",
   "metadata": {
    "scrolled": false
   },
   "outputs": [],
   "source": [
    "# df1.index  # RangeIndex(start=0, stop=82580, step=1)\n",
    "df_org.columns"
   ]
  },
  {
   "cell_type": "code",
   "execution_count": null,
   "id": "e5cfb80e",
   "metadata": {
    "scrolled": true
   },
   "outputs": [],
   "source": [
    "# create index column to keep the sequence of rows\n",
    "#df1.reset_index(inplace = True, )\n",
    "df = df_org.copy()\n"
   ]
  },
  {
   "cell_type": "code",
   "execution_count": null,
   "id": "6bbe3612",
   "metadata": {
    "scrolled": true
   },
   "outputs": [],
   "source": [
    "keep_col = ['row_num', 'PMY_DPT_DSC', 'REC_DPT_DSC', 'DPT_DSC', 'COM_DSC', 'SUBCOM_DSC','VND_ECOM_DSC', 'ML L1 Predictions',\n",
    "       'ML L2 Predictions', 'RF Level 1', 'RF Level 2']\n",
    "df = df[keep_col]\n"
   ]
  },
  {
   "cell_type": "code",
   "execution_count": null,
   "id": "f65c9b06",
   "metadata": {},
   "outputs": [],
   "source": []
  },
  {
   "cell_type": "code",
   "execution_count": null,
   "id": "d177d719",
   "metadata": {},
   "outputs": [],
   "source": [
    "l_val_ml_rf = [ 'VML1', 'VML2', 'VRF1', 'VRF2']\n",
    "l_val_ml_rf = [ 'VML1', 'VML2', 'VRF1', 'VRF2']\n",
    "l_mth_ml_rf_ind = [ 'VML1_MTH_IND', 'VML2_MTH_IND', 'VRF1_MTH_IND', 'VRF2_MTH_IND']\n",
    "\n"
   ]
  },
  {
   "cell_type": "code",
   "execution_count": null,
   "id": "a97ebdf7",
   "metadata": {
    "scrolled": false
   },
   "outputs": [],
   "source": [
    "for fea in l_val_ml_rf:\n",
    "    df[fea] = '???' \n",
    "    \n",
    "for fea in l_mth_ml_rf_ind:   \n",
    "    df[fea] = False\n",
    "df['MANU_VAL_REQ'] = 'NO'\n",
    "df['MANU_VAL_DONE'] = 'No Need'    \n",
    " "
   ]
  },
  {
   "cell_type": "code",
   "execution_count": null,
   "id": "d75536b2",
   "metadata": {},
   "outputs": [],
   "source": [
    "df_bkup = df.copy()"
   ]
  },
  {
   "cell_type": "code",
   "execution_count": null,
   "id": "6eba349e",
   "metadata": {},
   "outputs": [],
   "source": [
    "df_bkup['VML2_MTH_IND'].unique()"
   ]
  },
  {
   "cell_type": "markdown",
   "id": "19e47b9f",
   "metadata": {},
   "source": [
    "## process PMY_DPT_DSC = \"GROCERY\",  REC_DPT_DSC = \"LIQUOR\", DPT_DSC = 'BEER'"
   ]
  },
  {
   "cell_type": "code",
   "execution_count": null,
   "id": "3223dc88",
   "metadata": {},
   "outputs": [],
   "source": [
    "df_hbc = df[(df[\"PMY_DPT_DSC\"] == 'DRUG/GM') & (df[\"REC_DPT_DSC\"] == 'HBC')]"
   ]
  },
  {
   "cell_type": "code",
   "execution_count": null,
   "id": "ba1544d3",
   "metadata": {},
   "outputs": [],
   "source": [
    "df_spirits['VML2_MTH_IND'].unique()"
   ]
  },
  {
   "cell_type": "code",
   "execution_count": null,
   "id": "b837ec51",
   "metadata": {},
   "outputs": [],
   "source": [
    "df_wine.loc[df[\"DPT_DSC\"] == 'WINE','VML1'] = 'Beer / Wine / Spirits'\n",
    "df_wine.loc[df[\"DPT_DSC\"] == 'WINE','VRF1'] = 'Beer / Wine / Spirits'\n",
    "df_wine.loc[df[\"DPT_DSC\"] == 'WINE','VML2'] = 'Wine'\n",
    "df_wine.loc[df[\"DPT_DSC\"] == 'WINE','VRF2'] = 'Wine'\n",
    "df_wine.loc[(df_wine['VND_ECOM_DSC'].str.lower().str.contains('margarita|rtd|rtd|cocktail|ccktl')), ['VML2', 'VRF2']] = 'Flavored Alcoholic Beverages'\n",
    "#df_wine.loc[(df_wine['COM_DSC'] == 'MISC WINE') & (df_wine['VND_ECOM_DSC'].str.lower().str.contains('margarita | rtd | cocktails | ccktl')), ['VML2', 'VRF2']] = 'Flavored Alcoholic Beverages'"
   ]
  },
  {
   "cell_type": "code",
   "execution_count": null,
   "id": "76470a83",
   "metadata": {},
   "outputs": [],
   "source": [
    "df_wine = df[(df[\"PMY_DPT_DSC\"] == 'GROCERY') & (df[\"REC_DPT_DSC\"] == 'LIQUOR') & (df[\"DPT_DSC\"] == 'WINE')]\n",
    "df_wine.loc[(df_wine['VND_ECOM_DSC'].str.lower().str.contains('margarita|rtd|rtd|cocktail|ccktl')), ['VML2', 'VRF2']] = 'Flavored Alcoholic Beverages'\n",
    "#df_wine.loc[(df_wine['VND_ECOM_DSC'].str.lower().str.contains('cocktail')), ['VML2', 'VRF2']] = 'Flavored Alcoholic Beverages'\n",
    "df_wine ['VML2'].value_counts() \n",
    "#df_wine.loc[(df_wine['VND_ECOM_DSC'].str.lower().str.contains('cocktails | ccktl')), ['VML2', 'VRF2']] = 'Flavored Alcoholic Beverages'"
   ]
  },
  {
   "cell_type": "code",
   "execution_count": null,
   "id": "f8356abe",
   "metadata": {},
   "outputs": [],
   "source": [
    "#df_wine.loc[(df_wine['COM_DSC'] == 'TABLE WINE') & (df_wine['SUBCOM_DSC'].str.contains('WINES')), ['VML2', 'VRF2']] = 'Wine'\n",
    "df_wine.loc[df_wine['COM_DSC'] == 'TABLE WINE' , ['VML2', 'VRF2']] = 'Wine'\n",
    "# Misc wine\n",
    "df_wine.loc[df_wine['COM_DSC'] == 'MISC WINE' , ['VML2', 'VRF2']] = 'Wine'\n",
    "df_wine.loc[(df_wine['COM_DSC'] == 'MISC WINE') & (df_wine['SUBCOM_DSC'].str.contains('KOSHER')), ['VML2', 'VRF2']] = 'Spirits'\n",
    "df_wine.loc[(df_wine['COM_DSC'] == 'MISC WINE') & (df_wine['VND_ECOM_DSC'](apply str.lower()).str.contains('margarita')), ['VML2', 'VRF2']] = 'Flavored Alcoholic Beverages'\n",
    "\n",
    "df_wine.loc[(df_wine['COM_DSC'] == 'MISC WINE') & (df_wine['SUBCOM_DSC'].str.contains('KOSHER')), ['VML2', 'VRF2']] = 'Flavritsverages'\n",
    "l_wine_subcom = ['VERMOUTH','POUCHES' ]"
   ]
  },
  {
   "cell_type": "code",
   "execution_count": null,
   "id": "8a25098c",
   "metadata": {},
   "outputs": [],
   "source": []
  },
  {
   "cell_type": "code",
   "execution_count": null,
   "id": "dbe8b3b2",
   "metadata": {},
   "outputs": [],
   "source": [
    "# NW -  SettingWithCopyWarning \n",
    "cond = \"(df_wine['COM_DSC'] == 'MISC WINE') & (df_wine['SUBCOM_DSC'].str.contains('KOSHER'))\"\n",
    "df_wine.loc[cond, ['VML2', 'VRF2']] = 'Flavored Alcoholic Beverages'\n",
    "#l_wine_subcom = ['VERMOUTH','POUCHES' ]"
   ]
  },
  {
   "cell_type": "code",
   "execution_count": null,
   "id": "a31e62d2",
   "metadata": {},
   "outputs": [],
   "source": [
    "\n",
    "df_wine.loc[(df_wine['COM_DSC'] == 'MISC WINE') & (df_wine['VND_ECOM_DSC'].str.lower().str.contains('margarita')), ['VML2', 'VRF2']] = 'Flavored Alcoholic Beverages'\n",
    "# descriptor 'lower' for 'str' objects doesn't apply to a 'float' object\n",
    "#nw df_wine.loc[(df_wine['COM_DSC'] == 'MISC WINE') & (df_wine['VND_ECOM_DSC'].apply(str.lower).str.contains('margarita')), ['VML2', 'VRF2']] = 'Flavored Alcoholic Beverages'\n",
    "\n",
    "# df_wine.loc[(df_wine['COM_DSC'] == 'MISC WINE') & (df_wine['VND_ECOM_DSC'].apply (lambdax  : x.lower()).str.contains('margarita')), ['VML2', 'VRF2']] = 'Flavored Alcoholic Beverages'"
   ]
  },
  {
   "cell_type": "code",
   "execution_count": null,
   "id": "f386cf9b",
   "metadata": {},
   "outputs": [],
   "source": [
    "df_wine.loc[(df_wine['COM_DSC'] == 'MISC WINE') & (df_wine['VND_ECOM_DSC'].str.lower().str.contains('margarita | rtd | cocktails | ccktl')), ['VML2', 'VRF2']] = 'Flavored Alcoholic Beverages'"
   ]
  },
  {
   "cell_type": "code",
   "execution_count": null,
   "id": "bfc973c3",
   "metadata": {},
   "outputs": [],
   "source": [
    "df_wine ['VML2'].value_counts() "
   ]
  },
  {
   "cell_type": "code",
   "execution_count": null,
   "id": "186eebff",
   "metadata": {},
   "outputs": [],
   "source": [
    "type(df_wine['VND_ECOM_DSC'].str.lower())   # core.series.Series\n",
    "type(df_wine['VND_ECOM_DSC'].str.lower().str)  # pandas.core.strings.accessor.StringMethods\n",
    "df_wine['VND_ECOM_DSC'].str.lower().str"
   ]
  },
  {
   "cell_type": "code",
   "execution_count": null,
   "id": "6ca084e0",
   "metadata": {},
   "outputs": [],
   "source": []
  },
  {
   "cell_type": "code",
   "execution_count": null,
   "id": "76969242",
   "metadata": {},
   "outputs": [],
   "source": []
  },
  {
   "cell_type": "code",
   "execution_count": null,
   "id": "8da4a06d",
   "metadata": {},
   "outputs": [],
   "source": [
    "df_org.columns"
   ]
  },
  {
   "cell_type": "code",
   "execution_count": null,
   "id": "01cfa704",
   "metadata": {},
   "outputs": [],
   "source": [
    "df_wine['COM_DSC'].value_counts() "
   ]
  },
  {
   "cell_type": "code",
   "execution_count": null,
   "id": "218e5f70",
   "metadata": {},
   "outputs": [],
   "source": [
    "df_wine ['VML2'].value_counts() "
   ]
  },
  {
   "cell_type": "code",
   "execution_count": null,
   "id": "825189df",
   "metadata": {},
   "outputs": [],
   "source": [
    "df_spirits.head(1) "
   ]
  },
  {
   "cell_type": "code",
   "execution_count": null,
   "id": "d4b2f88e",
   "metadata": {},
   "outputs": [],
   "source": [
    "df_wine[['VML1', 'VRF1']].value_counts()"
   ]
  },
  {
   "cell_type": "markdown",
   "id": "5cc279f1",
   "metadata": {},
   "source": [
    "## process 'VML2', 'VRF2' for [\"DPT_DSC\"] == 'BEER (df_beer)"
   ]
  },
  {
   "cell_type": "code",
   "execution_count": null,
   "id": "affe60be",
   "metadata": {},
   "outputs": [],
   "source": [
    "#NW  df_beer.loc[df_beer['SUBCOM_DSC'].isin(['PREMIUM', 'BEER']), ['VML2', 'VRF2']] = 'BEER'"
   ]
  },
  {
   "cell_type": "code",
   "execution_count": null,
   "id": "85347506",
   "metadata": {},
   "outputs": [],
   "source": [
    "\n",
    "l2_spirits_key_word  =['TEQUILA', 'VODKA',  'WHISKEY', 'RUM','SCOTCH', 'GIN', 'CORDIALS', 'BRANDY']\n",
    "\n",
    "#'RTD COCKTAILS','SPIRIT/MISC OTHER'\n",
    "for key_word in l2_spirits_key_word:\n",
    "    df_spirits.loc[(df_spirits['COM_DSC'].str.contains(key_word)) | (df_spirits['SUBCOM_DSC'].str.contains(key_word)), ['VML2', 'VRF2']] = 'Spirits'"
   ]
  },
  {
   "cell_type": "code",
   "execution_count": null,
   "id": "6cba84b3",
   "metadata": {},
   "outputs": [],
   "source": [
    "df_wine.loc[(df_wine['COM_DSC'] == 'TABLE WINE') & (df_wine['SUBCOM_DSC'].str.contains('WINES')), ['VML2', 'VRF2']] = 'Wine'"
   ]
  },
  {
   "cell_type": "code",
   "execution_count": null,
   "id": "ceedd6a1",
   "metadata": {},
   "outputs": [],
   "source": [
    "#NW df_beer.loc[df_beer['SUBCOM_DSC'].str.contains(['PREMIUM', 'BEER']), ['VML2', 'VRF2']] = 'BEER'\n",
    "df_spirits.loc[df_spirits['COM_DSC'].str.contains('RTD COCKTAILS'), ['VML2', 'VRF2']] = 'Flavored Alcoholic Beveragess'\n",
    "df_spirits.loc[df_spirits['SUBCOM_DSC'].str.contains('SPIRIT NON ALCOHOL'), ['VML2', 'VRF2']] = 'Flavored Alcoholic Beveragess'\n"
   ]
  },
  {
   "cell_type": "code",
   "execution_count": null,
   "id": "d6c883ec",
   "metadata": {},
   "outputs": [],
   "source": [
    "#df_beer.loc[(df_beer['COM_DSC'].str.contains('BEERS')) | (df_beer['SUBCOM_DSC'].str.contains('BEERS')), ['VML2', 'VRF2']] = 'BEER'"
   ]
  },
  {
   "cell_type": "code",
   "execution_count": null,
   "id": "c136bbae",
   "metadata": {
    "scrolled": true
   },
   "outputs": [],
   "source": [
    "df_spirits.VML2.value_counts() "
   ]
  },
  {
   "cell_type": "code",
   "execution_count": null,
   "id": "f1bafc57",
   "metadata": {},
   "outputs": [],
   "source": [
    "def set_indicator(df): \n",
    "    df.loc[df['ML L1 Predictions'] == df['VML1'] , 'VML1_MTH_IND'] = 'True'\n",
    "    df.loc[df['ML L2 Predictions'] == df['VML2'] , 'VML2_MTH_IND'] = 'True'\n",
    "    df.loc[df['RF Level 1'] == df['VRF1'] , 'VRF1_MTH_IND'] = 'True'\n",
    "    df.loc[df['RF Level 2'] == df['VRF2'] , 'VRF2_MTH_IND'] = 'True'\n",
    "    df.loc[(df['VML1_MTH_IND'] == False) |(df['VML2_MTH_IND'] == False) |(df['VRF1_MTH_IND'] == False) |(df['VRF2_MTH_IND'] == False)  , 'MANU_VAL_REQ'] = 'YES'    \n",
    "    df.loc[df['MANU_VAL_REQ'] == 'YES' , 'MANU_VAL_DONE'] = 'No'\n",
    "    return df"
   ]
  },
  {
   "cell_type": "code",
   "execution_count": null,
   "id": "bc1f65a8",
   "metadata": {},
   "outputs": [],
   "source": [
    "df_wine = set_indicator(df_wine)  "
   ]
  },
  {
   "cell_type": "code",
   "execution_count": null,
   "id": "1a0aa166",
   "metadata": {},
   "outputs": [],
   "source": []
  },
  {
   "cell_type": "code",
   "execution_count": null,
   "id": "66c3b44c",
   "metadata": {},
   "outputs": [],
   "source": [
    "df_spirits.loc[df_spirits['ML L1 Predictions'] == df_spirits['VML1'] , 'VML1_MTH_IND'] = 'True'\n",
    "df_spirits.loc[df_spirits['ML L2 Predictions'] == df_spirits['VML2'] , 'VML2_MTH_IND'] = 'True'\n",
    "df_spirits.loc[df_spirits['RF Level 1'] == df_spirits['VRF1'] , 'VRF1_MTH_IND'] = 'True'\n",
    "df_spirits.loc[df_spirits['RF Level 2'] == df_spirits['VRF2'] , 'VRF2_MTH_IND'] = 'True'\n",
    "df_spirits.loc[(df_spirits['VML1_MTH_IND'] == False) |(df_spirits['VML2_MTH_IND'] == False) |(df_spirits['VRF1_MTH_IND'] == False) |(df_spirits['VRF2_MTH_IND'] == False)  , 'MANU_VAL_REQ'] = 'YES'    \n",
    "df_spirits.loc[df_spirits['MANU_VAL_REQ'] == 'YES' , 'MANU_VAL_DONE'] = 'No'\n"
   ]
  },
  {
   "cell_type": "code",
   "execution_count": null,
   "id": "93efd783",
   "metadata": {},
   "outputs": [],
   "source": [
    "df_wine.VML2.value_counts()  "
   ]
  },
  {
   "cell_type": "code",
   "execution_count": null,
   "id": "2919dca6",
   "metadata": {},
   "outputs": [],
   "source": [
    "df_spirits[df_spirits['VML2'] == '???'].head(2)"
   ]
  },
  {
   "cell_type": "code",
   "execution_count": null,
   "id": "494b6644",
   "metadata": {},
   "outputs": [],
   "source": [
    "df_wine['VML1_MTH_IND'].value_counts()\n"
   ]
  },
  {
   "cell_type": "code",
   "execution_count": null,
   "id": "4d90263a",
   "metadata": {},
   "outputs": [],
   "source": [
    "df_spirits['VML2_MTH_IND'].unique()"
   ]
  },
  {
   "cell_type": "code",
   "execution_count": null,
   "id": "f9c20355",
   "metadata": {},
   "outputs": [],
   "source": [
    "df_wine['VML2_MTH_IND'].value_counts()"
   ]
  },
  {
   "cell_type": "code",
   "execution_count": null,
   "id": "dd146e1c",
   "metadata": {},
   "outputs": [],
   "source": [
    "df_spirits['VRF1_MTH_IND'].unique()"
   ]
  },
  {
   "cell_type": "code",
   "execution_count": null,
   "id": "434e227d",
   "metadata": {},
   "outputs": [],
   "source": [
    "df_spirits['VRF2_MTH_IND'].unique()"
   ]
  },
  {
   "cell_type": "code",
   "execution_count": null,
   "id": "0db2a051",
   "metadata": {},
   "outputs": [],
   "source": [
    "df_wine['VRF1_MTH_IND'].value_counts()"
   ]
  },
  {
   "cell_type": "code",
   "execution_count": null,
   "id": "9d49adbd",
   "metadata": {},
   "outputs": [],
   "source": [
    "df_wine['VRF2_MTH_IND'].value_counts()"
   ]
  },
  {
   "cell_type": "code",
   "execution_count": null,
   "id": "b2a2cb4d",
   "metadata": {},
   "outputs": [],
   "source": [
    "df_beer.loc[(df_beer['VML1_MTH_IND'] == False) |(df_beer['VML2_MTH_IND'] == False) |(df_beer['VRF1_MTH_IND'] == False) |(df_beer['VRF2_MTH_IND'] == False)  , 'MANU_VAL_REQ'] = 'YES'"
   ]
  },
  {
   "cell_type": "code",
   "execution_count": null,
   "id": "5f35ec53",
   "metadata": {},
   "outputs": [],
   "source": [
    "df_beer.loc[(df_beer['VML1_IND'] == False) |(df_beer['VML2_MTH_IND'] == False) |(df_beer['VRF1_MTH_IND'] == False) |(df_beer['VRF2_MTH_IND'] == False)  , 'MANU_VAL_REQ'] = 'YES'"
   ]
  },
  {
   "cell_type": "code",
   "execution_count": null,
   "id": "53d11846",
   "metadata": {},
   "outputs": [],
   "source": [
    "df_wine['MANU_VAL_REQ'].value_counts()"
   ]
  },
  {
   "cell_type": "code",
   "execution_count": null,
   "id": "68140f19",
   "metadata": {},
   "outputs": [],
   "source": [
    "df_wine['MANU_VAL_DONE'].value_counts()"
   ]
  },
  {
   "cell_type": "code",
   "execution_count": null,
   "id": "7548ca4c",
   "metadata": {},
   "outputs": [],
   "source": [
    "df[df[\"PMY_DPT_DSC\"] == 'PRODUCE'][\"REC_DPT_DSC\"].value_counts()"
   ]
  },
  {
   "cell_type": "code",
   "execution_count": null,
   "id": "a5752191",
   "metadata": {},
   "outputs": [],
   "source": [
    "df[df[\"PMY_DPT_DSC\"] == 'MEAT'][\"REC_DPT_DSC\"].value_counts()"
   ]
  },
  {
   "cell_type": "code",
   "execution_count": null,
   "id": "c0191d26",
   "metadata": {},
   "outputs": [],
   "source": [
    "df[df[\"PMY_DPT_DSC\"] == 'DELI/BAKE'][\"REC_DPT_DSC\"].value_counts()"
   ]
  },
  {
   "cell_type": "code",
   "execution_count": null,
   "id": "886d2f6f",
   "metadata": {},
   "outputs": [],
   "source": [
    "df[df[\"PMY_DPT_DSC\"] == 'DRUG/GM'][\"REC_DPT_DSC\"].value_counts()"
   ]
  },
  {
   "cell_type": "code",
   "execution_count": null,
   "id": "95c14fb1",
   "metadata": {},
   "outputs": [],
   "source": [
    "df[(df[\"PMY_DPT_DSC\"] == 'DRUG/GM') & (df[\"REC_DPT_DSC\"] == 'GM')][\"DPT_DSC\"].value_counts()"
   ]
  },
  {
   "cell_type": "code",
   "execution_count": null,
   "id": "64e05b72",
   "metadata": {
    "scrolled": true
   },
   "outputs": [],
   "source": [
    "df[df[\"PMY_DPT_DSC\"] == 'GROCERY'][\"REC_DPT_DSC\"].value_counts()\n"
   ]
  },
  {
   "cell_type": "code",
   "execution_count": null,
   "id": "353465cf",
   "metadata": {},
   "outputs": [],
   "source": [
    "df[(df[\"PMY_DPT_DSC\"] == 'GROCERY') & (df[\"REC_DPT_DSC\"] == 'LIQUOR')][\"DPT_DSC\"].value_counts()"
   ]
  },
  {
   "cell_type": "markdown",
   "id": "0ed402b6",
   "metadata": {},
   "source": [
    "## wip"
   ]
  },
  {
   "cell_type": "code",
   "execution_count": null,
   "id": "40b2f937",
   "metadata": {},
   "outputs": [],
   "source": [
    "type(df[df[\"PMY_DPT_DSC\"] == 'GROCERY'])"
   ]
  },
  {
   "cell_type": "code",
   "execution_count": null,
   "id": "599d0f68",
   "metadata": {},
   "outputs": [],
   "source": [
    "df_wine[df_wine[\"COM_DSC\"] == 'MISC WINE']['SUBCOM_DSC'].value_counts()"
   ]
  },
  {
   "cell_type": "code",
   "execution_count": 52,
   "id": "26f42f12",
   "metadata": {},
   "outputs": [],
   "source": [
    "#wp_spc\n",
    "df_spc = df[(df[\"PMY_DPT_DSC\"] == 'DRUG/GM') & (df[\"REC_DPT_DSC\"] == 'GM') & (df[\"DPT_DSC\"] == 'SEASONAL') \n",
    "            & (df['COM_DSC']=='CHRISTMAS') \n",
    "            & (df['SUBCOM_DSC'].str.contains('WRAP/ACCESSORIES'))]\n",
    "\tCHRISTMAS\tWRAP/ACCESSORIES\n"
   ]
  },
  {
   "cell_type": "code",
   "execution_count": 66,
   "id": "eb19f907",
   "metadata": {},
   "outputs": [
    {
     "data": {
      "text/plain": [
       "(129, 21)"
      ]
     },
     "execution_count": 66,
     "metadata": {},
     "output_type": "execute_result"
    }
   ],
   "source": [
    "df_spc.shape"
   ]
  },
  {
   "cell_type": "code",
   "execution_count": 70,
   "id": "11d6f3fb",
   "metadata": {},
   "outputs": [],
   "source": [
    "      df_spc.loc[(df_spc[\"DPT_DSC\"] == 'SEASONAL') & (df_spc['COM_DSC'].str.contains('CHRISTMAS')) & (df_spc['SUBCOM_DSC'].str.contains(\"WRAP/ACCESSORIES\")), ['VML1', 'VRF1']] = 'Office Supplies'\n",
    "      df_spc.loc[(df_spc[\"DPT_DSC\"] == 'SEASONAL') & (df_spc['COM_DSC'].str.contains('CHRISTMAS')) & (df_spc['SUBCOM_DSC'].str.contains(\"WRAP/ACCESSORIES\")), ['VML2', 'VRF2']] = 'Greeting Cards & Gift Packaging'\n",
    "      df_spc.loc[(df_spc[\"DPT_DSC\"] == 'SEASONAL') & (df_spc['COM_DSC'].str.contains('CHRISTMAS')) & (df_spc['SUBCOM_DSC'].str.contains(\"WRAP/ACCESSORIES\"))  & (df_spc['VND_ECOM_DSC'].str.contains('WINE TRAD|Keg Traditional')), ['VML1', 'VRF1']] = 'Beer / Wine / Spirits'\n",
    "      df_spc.loc[(df_spc[\"DPT_DSC\"] == 'SEASONAL') & (df_spc['COM_DSC'].str.contains('CHRISTMAS')) & (df_spc['SUBCOM_DSC'].str.contains(\"WRAP/ACCESSORIES\"))  & (df_spc['VND_ECOM_DSC'].str.contains('WINE TRAD|Keg Traditional')), ['VML2', 'VRF2']] = 'Wine'\n",
    "      df_spc.loc[(df_spc[\"DPT_DSC\"] == 'SEASONAL') & (df_spc['COM_DSC'].str.contains('CHRISTMAS')) & (df_spc['SUBCOM_DSC'].str.contains(\"WRAP/ACCESSORIES\"))  & (df_spc['VND_ECOM_DSC'].str.contains('BOTANICALS')), ['VML1', 'VRF1']] = 'Gardening & Outdoors'\n",
    "      df_spc.loc[(df_spc[\"DPT_DSC\"] == 'SEASONAL') & (df_spc['COM_DSC'].str.contains('CHRISTMAS')) & (df_spc['SUBCOM_DSC'].str.contains(\"WRAP/ACCESSORIES\"))  & (df_spc['VND_ECOM_DSC'].str.contains('BOTANICALS')), ['VML2', 'VRF2']] = 'Gardening'        "
   ]
  },
  {
   "cell_type": "code",
   "execution_count": 33,
   "id": "2361c5c2",
   "metadata": {
    "scrolled": true
   },
   "outputs": [],
   "source": [
    "  \n",
    "      df_spc.loc[(df_spc[\"DPT_DSC\"] == 'SCHOOL/OFFICE') & (df_spc['COM_DSC'].str.contains('HOME AND OFFICE')) & (df_spc['SUBCOM_DSC'].str.contains(\"MESSAGE CENTER\"))  & (df_spc['VND_ECOM_DSC'].str.lower().str.contains('dry erase|hole punch|board')), ['VML1', 'VRF1']] = 'Office Supplies'\n",
    "      df_spc.loc[(df_spc[\"DPT_DSC\"] == 'SCHOOL/OFFICE') & (df_spc['COM_DSC'].str.contains('HOME AND OFFICE')) & (df_spc['SUBCOM_DSC'].str.contains(\"MESSAGE CENTER\"))  & (df_spc['VND_ECOM_DSC'].str.lower().str.contains('dry erase|hole punch|board')), ['VML2', 'VRF2']] = 'Stationery'\n",
    "      df_spc.loc[(df_spc[\"DPT_DSC\"] == 'SCHOOL/OFFICE') & (df_spc['COM_DSC'].str.contains('HOME AND OFFICE')) & (df_spc['SUBCOM_DSC'].str.contains(\"MESSAGE CENTER\"))  & (df_spc['VND_ECOM_DSC'].str.lower().str.contains('dry erase|hole punch|board')), ['VML1', 'VRF1']] = 'Office Supplies'\n",
    "      df_spc.loc[(df_spc[\"DPT_DSC\"] == 'SCHOOL/OFFICE') & (df_spc['COM_DSC'].str.contains('HOME AND OFFICE')) & (df_spc['SUBCOM_DSC'].str.contains(\"MESSAGE CENTER\"))  & (df_spc['VND_ECOM_DSC'].str.lower().str.contains('dry erase|hole punch|board')), ['VML2', 'VRF2']] = 'Stationery'  \n",
    "      df_spc.loc[(df_spc[\"DPT_DSC\"] == 'SCHOOL/OFFICE') & (df_spc['COM_DSC'].str.contains('HOME AND OFFICE')) & (df_spc['SUBCOM_DSC'].str.contains(\"MESSAGE CENTER\"))  & (df_spc['VND_ECOM_DSC'].str.lower().str.contains('lamp')), ['VML1', 'VRF1']] = 'Office Supplies'\n",
    "      df_spc.loc[(df_spc[\"DPT_DSC\"] == 'SCHOOL/OFFICE') & (df_spc['COM_DSC'].str.contains('HOME AND OFFICE')) & (df_spc['SUBCOM_DSC'].str.contains(\"MESSAGE CENTER\"))  & (df_spc['VND_ECOM_DSC'].str.lower().str.contains('lamp')), ['VML2', 'VRF2']] = 'Office Machinery'  \n",
    "      df_spc.loc[(df_spc[\"DPT_DSC\"] == 'SCHOOL/OFFICE') & (df_spc['COM_DSC'].str.contains('HOME AND OFFICE')) & (df_spc['SUBCOM_DSC'].str.contains(\"MESSAGE CENTER\"))  & (df_spc['VND_ECOM_DSC'].str.contains('MEGA 22X18 DE CAL CORX MAG')), ['VML1', 'VRF1']] = 'Misc'\n",
    "      df_spc.loc[(df_spc[\"DPT_DSC\"] == 'SCHOOL/OFFICE') & (df_spc['COM_DSC'].str.contains('HOME AND OFFICE')) & (df_spc['SUBCOM_DSC'].str.contains(\"MESSAGE CENTER\"))  & (df_spc['VND_ECOM_DSC'].str.contains('MEGA 22X18 DE CAL CORX MAG')), ['VML2', 'VRF2']] = 'Misc'    \n",
    "      df_spc.loc[(df_spc[\"DPT_DSC\"] == 'SCHOOL/OFFICE') & (df_spc['COM_DSC'] == 'HOME AND OFFICE') & (df_spc['SUBCOM_DSC'] == \"OFFICE ACCESSORIES\")  & (df_spc['VND_ECOM_DSC'].str.lower().str.contains(\"pwr calc\")), ['VML1', 'VRF1']] = 'Office Supplies'\n",
    "      df_spc.loc[(df_spc[\"DPT_DSC\"] == 'SCHOOL/OFFICE') & (df_spc['COM_DSC'] == 'HOME AND OFFICE') & (df_spc['SUBCOM_DSC'] == \"OFFICE ACCESSORIES\")  & (df_spc['VND_ECOM_DSC'].str.lower().str.contains(\"pwr calc\")), ['VML2', 'VRF2']] = 'Office Machinery'\n",
    "      df_spc.loc[(df_spc[\"DPT_DSC\"] == 'SCHOOL/OFFICE') & (df_spc['COM_DSC'] == 'HOME AND OFFICE') & (df_spc['SUBCOM_DSC'] == \"OFFICE ACCESSORIES\")  & (df_spc['VND_ECOM_DSC'].str.lower().str.contains(\"rose globe\")), ['VML1', 'VRF1']] = 'Home & Venue Decoration'\n",
    "      df_spc.loc[(df_spc[\"DPT_DSC\"] == 'SCHOOL/OFFICE') & (df_spc['COM_DSC'] == 'HOME AND OFFICE') & (df_spc['SUBCOM_DSC'] == \"OFFICE ACCESSORIES\")  & (df_spc['VND_ECOM_DSC'].str.lower().str.contains(\"rose globe\")), ['VML2', 'VRF2']] = 'Decorative Accessories'    \n",
    "    \n",
    "      df_spc.loc[(df_spc[\"DPT_DSC\"] == 'SCHOOL/OFFICE') & (df_spc['COM_DSC'] == 'HOME AND OFFICE')  & (df_spc['SUBCOM_DSC'] == \"OFFICE PAPER\")  & (df_spc['VND_ECOM_DSC'].str.lower().str.contains('sticky note holder')), ['VML1', 'VRF1']] = 'Office Supplies'\n",
    "      df_spc.loc[(df_spc[\"DPT_DSC\"] == 'SCHOOL/OFFICE') & (df_spc['COM_DSC'] == 'HOME AND OFFICE')  & (df_spc['SUBCOM_DSC'] == \"OFFICE PAPER\")  & (df_spc['VND_ECOM_DSC'].str.lower().str.contains('sticky note holder')), ['VML2', 'VRF2']] = 'Stationery' \n",
    "      df_spc.loc[(df_spc[\"DPT_DSC\"] == 'SCHOOL/OFFICE') & (df_spc['COM_DSC'] == 'HOME AND OFFICE')  & (df_spc['SUBCOM_DSC'] == \"OFFICE PAPER\")  & (df_spc['VND_ECOM_DSC'].str.lower().str.contains('cardstock')), ['VML1', 'VRF1']] = 'Arts & Crafts'\n",
    "      df_spc.loc[(df_spc[\"DPT_DSC\"] == 'SCHOOL/OFFICE') & (df_spc['COM_DSC'] == 'HOME AND OFFICE')  & (df_spc['SUBCOM_DSC'] == \"OFFICE PAPER\")  & (df_spc['VND_ECOM_DSC'].str.lower().str.contains('cardstock')), ['VML2', 'VRF2']] = 'Paper & Card Making' "
   ]
  },
  {
   "cell_type": "code",
   "execution_count": 71,
   "id": "85878bbc",
   "metadata": {},
   "outputs": [
    {
     "data": {
      "text/plain": [
       "Greeting Cards & Gift Packaging    118\n",
       "Wine                                10\n",
       "Gardening                            1\n",
       "Name: VML2, dtype: int64"
      ]
     },
     "execution_count": 71,
     "metadata": {},
     "output_type": "execute_result"
    }
   ],
   "source": [
    "df_spc ['VML2'].value_counts() "
   ]
  },
  {
   "cell_type": "code",
   "execution_count": 65,
   "id": "2df18dd3",
   "metadata": {},
   "outputs": [],
   "source": [
    "df_spc1 = df_spc.loc[df_spc['VML2'] == '???']\n",
    "path = 'C:\\\\users\\\\iny2819\\\\kroger\\\\Data\\\\'\n",
    "df_spc1.to_excel(path + \"wip_ML_RF_val.xlsx\",index=None)"
   ]
  },
  {
   "cell_type": "code",
   "execution_count": null,
   "id": "ce152e48",
   "metadata": {},
   "outputs": [],
   "source": []
  }
 ],
 "metadata": {
  "kernelspec": {
   "display_name": "Python 3 (ipykernel)",
   "language": "python",
   "name": "python3"
  },
  "language_info": {
   "codemirror_mode": {
    "name": "ipython",
    "version": 3
   },
   "file_extension": ".py",
   "mimetype": "text/x-python",
   "name": "python",
   "nbconvert_exporter": "python",
   "pygments_lexer": "ipython3",
   "version": "3.10.9"
  }
 },
 "nbformat": 4,
 "nbformat_minor": 5
}
