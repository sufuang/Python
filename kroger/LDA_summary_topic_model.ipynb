{
 "cells": [
  {
   "cell_type": "markdown",
   "metadata": {},
   "source": [
    "___\n",
    "\n",
    "<a href='http://www.pieriandata.com'> <img src='../Pierian_Data_Logo.png' /></a>\n",
    "___"
   ]
  },
  {
   "cell_type": "markdown",
   "metadata": {},
   "source": [
    "# LDA_summary_topic_model\n",
    "   - Latent Dirichlet Allocation"
   ]
  },
  {
   "cell_type": "code",
   "execution_count": 3,
   "metadata": {},
   "outputs": [],
   "source": [
    "import pandas as pd\n",
    "import numpy as np\n",
    "import pprint\n",
    "from pprint import pprint\n",
    "from sklearn.model_selection import RandomizedSearchCV\n",
    "from sklearn.feature_extraction.text import CountVectorizer\n",
    "from sklearn.decomposition import LatentDirichletAllocation\n",
    "import random"
   ]
  },
  {
   "cell_type": "markdown",
   "metadata": {},
   "source": [
    "## Data\n",
    "\n",
    "We will be using Cluster_Summaries_0627.xlsx"
   ]
  },
  {
   "cell_type": "code",
   "execution_count": 4,
   "metadata": {},
   "outputs": [],
   "source": [
    "path = 'C:\\\\users\\\\iny2819\\\\kroger\\\\Data\\\\'\n",
    "sumy = pd.read_excel( path + 'Cluster_Summaries_0627.xlsx',sheet_name = 'Cluster_Summaries_0627')"
   ]
  },
  {
   "cell_type": "code",
   "execution_count": 24,
   "metadata": {},
   "outputs": [
    {
     "data": {
      "text/plain": [
       "(8880, 9)"
      ]
     },
     "execution_count": 24,
     "metadata": {},
     "output_type": "execute_result"
    }
   ],
   "source": [
    "sumy.shape"
   ]
  },
  {
   "cell_type": "code",
   "execution_count": 25,
   "metadata": {},
   "outputs": [
    {
     "data": {
      "text/html": [
       "<div>\n",
       "<style scoped>\n",
       "    .dataframe tbody tr th:only-of-type {\n",
       "        vertical-align: middle;\n",
       "    }\n",
       "\n",
       "    .dataframe tbody tr th {\n",
       "        vertical-align: top;\n",
       "    }\n",
       "\n",
       "    .dataframe thead th {\n",
       "        text-align: right;\n",
       "    }\n",
       "</style>\n",
       "<table border=\"1\" class=\"dataframe\">\n",
       "  <thead>\n",
       "    <tr style=\"text-align: right;\">\n",
       "      <th></th>\n",
       "      <th>ClusterLabel</th>\n",
       "      <th>Cluster Name</th>\n",
       "      <th>Cluster Size</th>\n",
       "      <th>ITM_ID</th>\n",
       "      <th>PMY_DPT_DSC</th>\n",
       "      <th>REC_DPT_DSC</th>\n",
       "      <th>DPT_DSC</th>\n",
       "      <th>COM_DSC</th>\n",
       "      <th>SUBCOM_DSC</th>\n",
       "    </tr>\n",
       "  </thead>\n",
       "  <tbody>\n",
       "    <tr>\n",
       "      <th>0</th>\n",
       "      <td>0</td>\n",
       "      <td>KITCHEN/DINING,HOME OFFICE,UPHOLSTERED GROUPS/...</td>\n",
       "      <td>2299</td>\n",
       "      <td>2299</td>\n",
       "      <td>1</td>\n",
       "      <td>1</td>\n",
       "      <td>8</td>\n",
       "      <td>12</td>\n",
       "      <td>20</td>\n",
       "    </tr>\n",
       "    <tr>\n",
       "      <th>1</th>\n",
       "      <td>1</td>\n",
       "      <td>ART &amp; CRAFT SUPPLIES,WALL ART,PLANT STANDS &amp; A...</td>\n",
       "      <td>1471</td>\n",
       "      <td>1471</td>\n",
       "      <td>1</td>\n",
       "      <td>1</td>\n",
       "      <td>7</td>\n",
       "      <td>10</td>\n",
       "      <td>11</td>\n",
       "    </tr>\n",
       "    <tr>\n",
       "      <th>2</th>\n",
       "      <td>2</td>\n",
       "      <td>KITCHEN/DINING,ACCENT FURNITURE,PLANT STANDS &amp;...</td>\n",
       "      <td>1413</td>\n",
       "      <td>1413</td>\n",
       "      <td>1</td>\n",
       "      <td>1</td>\n",
       "      <td>10</td>\n",
       "      <td>14</td>\n",
       "      <td>22</td>\n",
       "    </tr>\n",
       "    <tr>\n",
       "      <th>3</th>\n",
       "      <td>3</td>\n",
       "      <td>OSU COLLEGIATE,UO COLLEGIATE,BOISE STATE UNIVE...</td>\n",
       "      <td>1063</td>\n",
       "      <td>1063</td>\n",
       "      <td>1</td>\n",
       "      <td>1</td>\n",
       "      <td>12</td>\n",
       "      <td>25</td>\n",
       "      <td>39</td>\n",
       "    </tr>\n",
       "    <tr>\n",
       "      <th>4</th>\n",
       "      <td>4</td>\n",
       "      <td>FASHION SOCKS,NCAA OTHER,NFL (NON SEAHAWKS),HO...</td>\n",
       "      <td>1027</td>\n",
       "      <td>1027</td>\n",
       "      <td>1</td>\n",
       "      <td>1</td>\n",
       "      <td>13</td>\n",
       "      <td>41</td>\n",
       "      <td>86</td>\n",
       "    </tr>\n",
       "  </tbody>\n",
       "</table>\n",
       "</div>"
      ],
      "text/plain": [
       "   ClusterLabel                                       Cluster Name  \\\n",
       "0             0  KITCHEN/DINING,HOME OFFICE,UPHOLSTERED GROUPS/...   \n",
       "1             1  ART & CRAFT SUPPLIES,WALL ART,PLANT STANDS & A...   \n",
       "2             2  KITCHEN/DINING,ACCENT FURNITURE,PLANT STANDS &...   \n",
       "3             3  OSU COLLEGIATE,UO COLLEGIATE,BOISE STATE UNIVE...   \n",
       "4             4  FASHION SOCKS,NCAA OTHER,NFL (NON SEAHAWKS),HO...   \n",
       "\n",
       "   Cluster Size  ITM_ID  PMY_DPT_DSC  REC_DPT_DSC  DPT_DSC  COM_DSC  \\\n",
       "0          2299    2299            1            1        8       12   \n",
       "1          1471    1471            1            1        7       10   \n",
       "2          1413    1413            1            1       10       14   \n",
       "3          1063    1063            1            1       12       25   \n",
       "4          1027    1027            1            1       13       41   \n",
       "\n",
       "   SUBCOM_DSC  \n",
       "0          20  \n",
       "1          11  \n",
       "2          22  \n",
       "3          39  \n",
       "4          86  "
      ]
     },
     "execution_count": 25,
     "metadata": {},
     "output_type": "execute_result"
    }
   ],
   "source": [
    "sumy.head()"
   ]
  },
  {
   "cell_type": "code",
   "execution_count": null,
   "metadata": {},
   "outputs": [],
   "source": []
  },
  {
   "cell_type": "markdown",
   "metadata": {},
   "source": [
    "Notice how we don't have the topic of the articles! Let's use LDA to attempt to figure out clusters of the articles."
   ]
  },
  {
   "cell_type": "code",
   "execution_count": null,
   "metadata": {},
   "outputs": [],
   "source": [
    "# Define Search Param\n",
    "search_params = {'n_components': [7, 10, 15, 20, 25, 30], 'learning_decay': [.5, .7, .9]}\n",
    "\n",
    "# Init the Model\n",
    "lda = LatentDirichletAllocation()\n",
    "\n",
    "# Init Grid Search Class\n",
    "#model = GridSearchCV(lda, param_grid=search_params)\n",
    "model = RandomizedSearchCV(lda, param_distributions=search_params)\n",
    "# Do the Grid Search\n",
    "model.fit(dtm)"
   ]
  },
  {
   "cell_type": "markdown",
   "metadata": {},
   "source": [
    "## Preprocessing"
   ]
  },
  {
   "cell_type": "markdown",
   "metadata": {},
   "source": [
    "**`max_df`**` : float in range [0.0, 1.0] or int, default=1.0`<br>\n",
    "When building the vocabulary ignore terms that have a document frequency strictly higher than the given threshold (corpus-specific stop words). If float, the parameter represents a proportion of documents, integer absolute counts. This parameter is ignored if vocabulary is not None.\n",
    "\n",
    "**`min_df`**` : float in range [0.0, 1.0] or int, default=1`<br>\n",
    "When building the vocabulary ignore terms that have a document frequency strictly lower than the given threshold. This value is also called cut-off in the literature. If float, the parameter represents a proportion of documents, integer absolute counts. This parameter is ignored if vocabulary is not None."
   ]
  },
  {
   "cell_type": "code",
   "execution_count": 5,
   "metadata": {},
   "outputs": [],
   "source": [
    "cv = CountVectorizer(max_df=0.95, min_df=2, stop_words='english')"
   ]
  },
  {
   "cell_type": "code",
   "execution_count": 6,
   "metadata": {},
   "outputs": [],
   "source": [
    "dtm = cv.fit_transform(sumy['Cluster Name'])"
   ]
  },
  {
   "cell_type": "code",
   "execution_count": 7,
   "metadata": {},
   "outputs": [
    {
     "data": {
      "text/plain": [
       "<11992x54777 sparse matrix of type '<class 'numpy.int64'>'\n",
       "\twith 3033388 stored elements in Compressed Sparse Row format>"
      ]
     },
     "execution_count": 7,
     "metadata": {},
     "output_type": "execute_result"
    }
   ],
   "source": [
    "dtm"
   ]
  },
  {
   "cell_type": "markdown",
   "metadata": {},
   "source": [
    "## LDA"
   ]
  },
  {
   "cell_type": "code",
   "execution_count": 7,
   "metadata": {},
   "outputs": [
    {
     "data": {
      "text/html": [
       "<style>#sk-container-id-1 {color: black;background-color: white;}#sk-container-id-1 pre{padding: 0;}#sk-container-id-1 div.sk-toggleable {background-color: white;}#sk-container-id-1 label.sk-toggleable__label {cursor: pointer;display: block;width: 100%;margin-bottom: 0;padding: 0.3em;box-sizing: border-box;text-align: center;}#sk-container-id-1 label.sk-toggleable__label-arrow:before {content: \"▸\";float: left;margin-right: 0.25em;color: #696969;}#sk-container-id-1 label.sk-toggleable__label-arrow:hover:before {color: black;}#sk-container-id-1 div.sk-estimator:hover label.sk-toggleable__label-arrow:before {color: black;}#sk-container-id-1 div.sk-toggleable__content {max-height: 0;max-width: 0;overflow: hidden;text-align: left;background-color: #f0f8ff;}#sk-container-id-1 div.sk-toggleable__content pre {margin: 0.2em;color: black;border-radius: 0.25em;background-color: #f0f8ff;}#sk-container-id-1 input.sk-toggleable__control:checked~div.sk-toggleable__content {max-height: 200px;max-width: 100%;overflow: auto;}#sk-container-id-1 input.sk-toggleable__control:checked~label.sk-toggleable__label-arrow:before {content: \"▾\";}#sk-container-id-1 div.sk-estimator input.sk-toggleable__control:checked~label.sk-toggleable__label {background-color: #d4ebff;}#sk-container-id-1 div.sk-label input.sk-toggleable__control:checked~label.sk-toggleable__label {background-color: #d4ebff;}#sk-container-id-1 input.sk-hidden--visually {border: 0;clip: rect(1px 1px 1px 1px);clip: rect(1px, 1px, 1px, 1px);height: 1px;margin: -1px;overflow: hidden;padding: 0;position: absolute;width: 1px;}#sk-container-id-1 div.sk-estimator {font-family: monospace;background-color: #f0f8ff;border: 1px dotted black;border-radius: 0.25em;box-sizing: border-box;margin-bottom: 0.5em;}#sk-container-id-1 div.sk-estimator:hover {background-color: #d4ebff;}#sk-container-id-1 div.sk-parallel-item::after {content: \"\";width: 100%;border-bottom: 1px solid gray;flex-grow: 1;}#sk-container-id-1 div.sk-label:hover label.sk-toggleable__label {background-color: #d4ebff;}#sk-container-id-1 div.sk-serial::before {content: \"\";position: absolute;border-left: 1px solid gray;box-sizing: border-box;top: 0;bottom: 0;left: 50%;z-index: 0;}#sk-container-id-1 div.sk-serial {display: flex;flex-direction: column;align-items: center;background-color: white;padding-right: 0.2em;padding-left: 0.2em;position: relative;}#sk-container-id-1 div.sk-item {position: relative;z-index: 1;}#sk-container-id-1 div.sk-parallel {display: flex;align-items: stretch;justify-content: center;background-color: white;position: relative;}#sk-container-id-1 div.sk-item::before, #sk-container-id-1 div.sk-parallel-item::before {content: \"\";position: absolute;border-left: 1px solid gray;box-sizing: border-box;top: 0;bottom: 0;left: 50%;z-index: -1;}#sk-container-id-1 div.sk-parallel-item {display: flex;flex-direction: column;z-index: 1;position: relative;background-color: white;}#sk-container-id-1 div.sk-parallel-item:first-child::after {align-self: flex-end;width: 50%;}#sk-container-id-1 div.sk-parallel-item:last-child::after {align-self: flex-start;width: 50%;}#sk-container-id-1 div.sk-parallel-item:only-child::after {width: 0;}#sk-container-id-1 div.sk-dashed-wrapped {border: 1px dashed gray;margin: 0 0.4em 0.5em 0.4em;box-sizing: border-box;padding-bottom: 0.4em;background-color: white;}#sk-container-id-1 div.sk-label label {font-family: monospace;font-weight: bold;display: inline-block;line-height: 1.2em;}#sk-container-id-1 div.sk-label-container {text-align: center;}#sk-container-id-1 div.sk-container {/* jupyter's `normalize.less` sets `[hidden] { display: none; }` but bootstrap.min.css set `[hidden] { display: none !important; }` so we also need the `!important` here to be able to override the default hidden behavior on the sphinx rendered scikit-learn.org. See: https://github.com/scikit-learn/scikit-learn/issues/21755 */display: inline-block !important;position: relative;}#sk-container-id-1 div.sk-text-repr-fallback {display: none;}</style><div id=\"sk-container-id-1\" class=\"sk-top-container\"><div class=\"sk-text-repr-fallback\"><pre>RandomizedSearchCV(estimator=LatentDirichletAllocation(),\n",
       "                   param_distributions={&#x27;learning_decay&#x27;: [0.5, 0.7, 0.9],\n",
       "                                        &#x27;n_components&#x27;: [7, 10, 15, 20, 25,\n",
       "                                                         30]})</pre><b>In a Jupyter environment, please rerun this cell to show the HTML representation or trust the notebook. <br />On GitHub, the HTML representation is unable to render, please try loading this page with nbviewer.org.</b></div><div class=\"sk-container\" hidden><div class=\"sk-item sk-dashed-wrapped\"><div class=\"sk-label-container\"><div class=\"sk-label sk-toggleable\"><input class=\"sk-toggleable__control sk-hidden--visually\" id=\"sk-estimator-id-1\" type=\"checkbox\" ><label for=\"sk-estimator-id-1\" class=\"sk-toggleable__label sk-toggleable__label-arrow\">RandomizedSearchCV</label><div class=\"sk-toggleable__content\"><pre>RandomizedSearchCV(estimator=LatentDirichletAllocation(),\n",
       "                   param_distributions={&#x27;learning_decay&#x27;: [0.5, 0.7, 0.9],\n",
       "                                        &#x27;n_components&#x27;: [7, 10, 15, 20, 25,\n",
       "                                                         30]})</pre></div></div></div><div class=\"sk-parallel\"><div class=\"sk-parallel-item\"><div class=\"sk-item\"><div class=\"sk-label-container\"><div class=\"sk-label sk-toggleable\"><input class=\"sk-toggleable__control sk-hidden--visually\" id=\"sk-estimator-id-2\" type=\"checkbox\" ><label for=\"sk-estimator-id-2\" class=\"sk-toggleable__label sk-toggleable__label-arrow\">estimator: LatentDirichletAllocation</label><div class=\"sk-toggleable__content\"><pre>LatentDirichletAllocation()</pre></div></div></div><div class=\"sk-serial\"><div class=\"sk-item\"><div class=\"sk-estimator sk-toggleable\"><input class=\"sk-toggleable__control sk-hidden--visually\" id=\"sk-estimator-id-3\" type=\"checkbox\" ><label for=\"sk-estimator-id-3\" class=\"sk-toggleable__label sk-toggleable__label-arrow\">LatentDirichletAllocation</label><div class=\"sk-toggleable__content\"><pre>LatentDirichletAllocation()</pre></div></div></div></div></div></div></div></div></div></div>"
      ],
      "text/plain": [
       "RandomizedSearchCV(estimator=LatentDirichletAllocation(),\n",
       "                   param_distributions={'learning_decay': [0.5, 0.7, 0.9],\n",
       "                                        'n_components': [7, 10, 15, 20, 25,\n",
       "                                                         30]})"
      ]
     },
     "execution_count": 7,
     "metadata": {},
     "output_type": "execute_result"
    }
   ],
   "source": [
    "# Define Search Param\n",
    "search_params = {'n_components': [7, 10, 15, 20, 25, 30], 'learning_decay': [.5, .7, .9]}\n",
    "\n",
    "# Init the Model\n",
    "lda = LatentDirichletAllocation()\n",
    "\n",
    "# Init Grid Search Class\n",
    "#model = GridSearchCV(lda, param_grid=search_params)\n",
    "model = RandomizedSearchCV(lda, param_distributions=search_params)\n",
    "# Do the Grid Search\n",
    "model.fit(dtm)"
   ]
  },
  {
   "cell_type": "code",
   "execution_count": 8,
   "metadata": {},
   "outputs": [
    {
     "name": "stdout",
     "output_type": "stream",
     "text": [
      "Best parameters: {'n_components': 25, 'learning_decay': 0.5}\n"
     ]
    }
   ],
   "source": [
    " print ('Best parameters: %s' % model.best_params_)"
   ]
  },
  {
   "cell_type": "code",
   "execution_count": 9,
   "metadata": {},
   "outputs": [
    {
     "name": "stdout",
     "output_type": "stream",
     "text": [
      "Best Log Likelihood Score:  -58641.86360795966\n"
     ]
    }
   ],
   "source": [
    "# Log Likelihood Score\n",
    "print(\"Best Log Likelihood Score: \", model.best_score_)"
   ]
  },
  {
   "cell_type": "code",
   "execution_count": 10,
   "metadata": {},
   "outputs": [
    {
     "name": "stdout",
     "output_type": "stream",
     "text": [
      "Model Perplexity:  132.4199530707927\n"
     ]
    }
   ],
   "source": [
    "# Perplexity\n",
    "best_lda_model = model.best_estimator_\n",
    "print(\"Model Perplexity: \", best_lda_model.perplexity(dtm))"
   ]
  },
  {
   "cell_type": "code",
   "execution_count": 28,
   "metadata": {},
   "outputs": [],
   "source": [
    "LDA = LatentDirichletAllocation(n_components=10,random_state=42)"
   ]
  },
  {
   "cell_type": "code",
   "execution_count": 29,
   "metadata": {},
   "outputs": [
    {
     "data": {
      "text/html": [
       "<style>#sk-container-id-1 {color: black;background-color: white;}#sk-container-id-1 pre{padding: 0;}#sk-container-id-1 div.sk-toggleable {background-color: white;}#sk-container-id-1 label.sk-toggleable__label {cursor: pointer;display: block;width: 100%;margin-bottom: 0;padding: 0.3em;box-sizing: border-box;text-align: center;}#sk-container-id-1 label.sk-toggleable__label-arrow:before {content: \"▸\";float: left;margin-right: 0.25em;color: #696969;}#sk-container-id-1 label.sk-toggleable__label-arrow:hover:before {color: black;}#sk-container-id-1 div.sk-estimator:hover label.sk-toggleable__label-arrow:before {color: black;}#sk-container-id-1 div.sk-toggleable__content {max-height: 0;max-width: 0;overflow: hidden;text-align: left;background-color: #f0f8ff;}#sk-container-id-1 div.sk-toggleable__content pre {margin: 0.2em;color: black;border-radius: 0.25em;background-color: #f0f8ff;}#sk-container-id-1 input.sk-toggleable__control:checked~div.sk-toggleable__content {max-height: 200px;max-width: 100%;overflow: auto;}#sk-container-id-1 input.sk-toggleable__control:checked~label.sk-toggleable__label-arrow:before {content: \"▾\";}#sk-container-id-1 div.sk-estimator input.sk-toggleable__control:checked~label.sk-toggleable__label {background-color: #d4ebff;}#sk-container-id-1 div.sk-label input.sk-toggleable__control:checked~label.sk-toggleable__label {background-color: #d4ebff;}#sk-container-id-1 input.sk-hidden--visually {border: 0;clip: rect(1px 1px 1px 1px);clip: rect(1px, 1px, 1px, 1px);height: 1px;margin: -1px;overflow: hidden;padding: 0;position: absolute;width: 1px;}#sk-container-id-1 div.sk-estimator {font-family: monospace;background-color: #f0f8ff;border: 1px dotted black;border-radius: 0.25em;box-sizing: border-box;margin-bottom: 0.5em;}#sk-container-id-1 div.sk-estimator:hover {background-color: #d4ebff;}#sk-container-id-1 div.sk-parallel-item::after {content: \"\";width: 100%;border-bottom: 1px solid gray;flex-grow: 1;}#sk-container-id-1 div.sk-label:hover label.sk-toggleable__label {background-color: #d4ebff;}#sk-container-id-1 div.sk-serial::before {content: \"\";position: absolute;border-left: 1px solid gray;box-sizing: border-box;top: 0;bottom: 0;left: 50%;z-index: 0;}#sk-container-id-1 div.sk-serial {display: flex;flex-direction: column;align-items: center;background-color: white;padding-right: 0.2em;padding-left: 0.2em;position: relative;}#sk-container-id-1 div.sk-item {position: relative;z-index: 1;}#sk-container-id-1 div.sk-parallel {display: flex;align-items: stretch;justify-content: center;background-color: white;position: relative;}#sk-container-id-1 div.sk-item::before, #sk-container-id-1 div.sk-parallel-item::before {content: \"\";position: absolute;border-left: 1px solid gray;box-sizing: border-box;top: 0;bottom: 0;left: 50%;z-index: -1;}#sk-container-id-1 div.sk-parallel-item {display: flex;flex-direction: column;z-index: 1;position: relative;background-color: white;}#sk-container-id-1 div.sk-parallel-item:first-child::after {align-self: flex-end;width: 50%;}#sk-container-id-1 div.sk-parallel-item:last-child::after {align-self: flex-start;width: 50%;}#sk-container-id-1 div.sk-parallel-item:only-child::after {width: 0;}#sk-container-id-1 div.sk-dashed-wrapped {border: 1px dashed gray;margin: 0 0.4em 0.5em 0.4em;box-sizing: border-box;padding-bottom: 0.4em;background-color: white;}#sk-container-id-1 div.sk-label label {font-family: monospace;font-weight: bold;display: inline-block;line-height: 1.2em;}#sk-container-id-1 div.sk-label-container {text-align: center;}#sk-container-id-1 div.sk-container {/* jupyter's `normalize.less` sets `[hidden] { display: none; }` but bootstrap.min.css set `[hidden] { display: none !important; }` so we also need the `!important` here to be able to override the default hidden behavior on the sphinx rendered scikit-learn.org. See: https://github.com/scikit-learn/scikit-learn/issues/21755 */display: inline-block !important;position: relative;}#sk-container-id-1 div.sk-text-repr-fallback {display: none;}</style><div id=\"sk-container-id-1\" class=\"sk-top-container\"><div class=\"sk-text-repr-fallback\"><pre>LatentDirichletAllocation(random_state=42)</pre><b>In a Jupyter environment, please rerun this cell to show the HTML representation or trust the notebook. <br />On GitHub, the HTML representation is unable to render, please try loading this page with nbviewer.org.</b></div><div class=\"sk-container\" hidden><div class=\"sk-item\"><div class=\"sk-estimator sk-toggleable\"><input class=\"sk-toggleable__control sk-hidden--visually\" id=\"sk-estimator-id-1\" type=\"checkbox\" checked><label for=\"sk-estimator-id-1\" class=\"sk-toggleable__label sk-toggleable__label-arrow\">LatentDirichletAllocation</label><div class=\"sk-toggleable__content\"><pre>LatentDirichletAllocation(random_state=42)</pre></div></div></div></div></div>"
      ],
      "text/plain": [
       "LatentDirichletAllocation(random_state=42)"
      ]
     },
     "execution_count": 29,
     "metadata": {},
     "output_type": "execute_result"
    }
   ],
   "source": [
    "# This can take awhile, we're dealing with a large amount of documents!\n",
    "LDA.fit(dtm)"
   ]
  },
  {
   "cell_type": "markdown",
   "metadata": {},
   "source": [
    "## Showing Stored Words"
   ]
  },
  {
   "cell_type": "code",
   "execution_count": 41,
   "metadata": {},
   "outputs": [
    {
     "data": {
      "text/plain": [
       "755"
      ]
     },
     "execution_count": 41,
     "metadata": {},
     "output_type": "execute_result"
    }
   ],
   "source": [
    "len(cv.get_feature_names_out())"
   ]
  },
  {
   "cell_type": "code",
   "execution_count": 42,
   "metadata": {
    "collapsed": true
   },
   "outputs": [],
   "source": [
    "import random"
   ]
  },
  {
   "cell_type": "code",
   "execution_count": 43,
   "metadata": {},
   "outputs": [
    {
     "name": "stdout",
     "output_type": "stream",
     "text": [
      "cred\n",
      "fairly\n",
      "occupational\n",
      "temer\n",
      "tamil\n",
      "closest\n",
      "condone\n",
      "breathes\n",
      "tendrils\n",
      "pivot\n"
     ]
    }
   ],
   "source": [
    "for i in range(10):\n",
    "    random_word_id = random.randint(0,54776)\n",
    "    print(cv.get_feature_names()[random_word_id])"
   ]
  },
  {
   "cell_type": "code",
   "execution_count": 44,
   "metadata": {},
   "outputs": [
    {
     "name": "stdout",
     "output_type": "stream",
     "text": [
      "foremothers\n",
      "mocoa\n",
      "ellroy\n",
      "liron\n",
      "ally\n",
      "discouraged\n",
      "utterance\n",
      "provo\n",
      "videgaray\n",
      "archivist\n"
     ]
    }
   ],
   "source": [
    "for i in range(10):\n",
    "    random_word_id = random.randint(0,54776)\n",
    "    print(cv.get_feature_names()[random_word_id])"
   ]
  },
  {
   "cell_type": "markdown",
   "metadata": {
    "collapsed": true
   },
   "source": [
    "### Showing Top Words Per Topic"
   ]
  },
  {
   "cell_type": "code",
   "execution_count": 31,
   "metadata": {},
   "outputs": [
    {
     "data": {
      "text/plain": [
       "10"
      ]
     },
     "execution_count": 31,
     "metadata": {},
     "output_type": "execute_result"
    }
   ],
   "source": [
    "len(LDA.components_)"
   ]
  },
  {
   "cell_type": "code",
   "execution_count": 47,
   "metadata": {},
   "outputs": [
    {
     "data": {
      "text/plain": [
       "array([[8.64332806e+00, 2.38014333e+03, 1.42900522e-01, ...,\n",
       "        1.43006821e-01, 1.42902042e-01, 1.42861626e-01],\n",
       "       [2.76191749e+01, 5.36394437e+02, 1.42857148e-01, ...,\n",
       "        1.42861973e-01, 1.42857147e-01, 1.42906875e-01],\n",
       "       [7.22783888e+00, 8.24033986e+02, 1.42857148e-01, ...,\n",
       "        6.14236247e+00, 2.14061364e+00, 1.42923753e-01],\n",
       "       ...,\n",
       "       [3.11488651e+00, 3.50409655e+02, 1.42857147e-01, ...,\n",
       "        1.42859912e-01, 1.42857146e-01, 1.42866614e-01],\n",
       "       [4.61486388e+01, 5.14408600e+01, 3.14281373e+00, ...,\n",
       "        1.43107628e-01, 1.43902481e-01, 2.14271779e+00],\n",
       "       [4.93991422e-01, 4.18841042e+02, 1.42857151e-01, ...,\n",
       "        1.42857146e-01, 1.43760101e-01, 1.42866201e-01]])"
      ]
     },
     "execution_count": 47,
     "metadata": {},
     "output_type": "execute_result"
    }
   ],
   "source": [
    "LDA.components_"
   ]
  },
  {
   "cell_type": "code",
   "execution_count": 32,
   "metadata": {},
   "outputs": [
    {
     "data": {
      "text/plain": [
       "755"
      ]
     },
     "execution_count": 32,
     "metadata": {},
     "output_type": "execute_result"
    }
   ],
   "source": [
    "len(LDA.components_[0])"
   ]
  },
  {
   "cell_type": "code",
   "execution_count": 33,
   "metadata": {},
   "outputs": [],
   "source": [
    "single_topic = LDA.components_[0]"
   ]
  },
  {
   "cell_type": "code",
   "execution_count": 35,
   "metadata": {},
   "outputs": [
    {
     "data": {
      "text/plain": [
       "array([492, 364, 216, 616, 716, 246, 723, 402, 291, 523,  80, 697, 540,\n",
       "       370,  10, 289, 171, 611, 459, 682, 218, 159, 621, 647, 180, 334,\n",
       "       449, 207, 481, 752, 704, 681, 423, 646, 156, 626, 214, 457, 690,\n",
       "       230, 299,  40, 374, 726,  17, 460, 257, 285,  44, 128, 596, 322,\n",
       "       106, 471, 413, 609, 444, 500, 607, 631, 292, 499, 397, 255, 318,\n",
       "       593, 112, 341, 452, 215, 143, 321, 433,  21,  20, 183, 437, 396,\n",
       "       511, 539, 532, 209, 692, 194, 625, 166, 733, 395, 483, 354, 651,\n",
       "       548, 506, 310, 239, 203, 708, 617,   8, 620, 175, 504, 719, 592,\n",
       "       622, 597, 537, 678, 664, 479, 510, 324, 237, 327, 573, 728, 196,\n",
       "       602,  48, 201, 217, 229, 643, 189, 705, 131, 658, 233,  27, 507,\n",
       "       205, 661, 464,  56, 623, 653, 142, 347, 732, 221, 720, 731, 603,\n",
       "       280,  28, 534, 525, 687, 182,  98, 346,  68, 715, 272, 309, 296,\n",
       "       568,  95, 116, 302, 496, 744,  93, 478, 304, 703, 387, 753, 372,\n",
       "       177, 589, 357, 721, 689, 118, 406, 410, 178, 165, 528, 264, 102,\n",
       "       359, 420, 561,  51, 288, 388,  62,  83, 373,  15,  78, 515, 502,\n",
       "       702, 567, 654, 718,  25, 432,  74, 662, 637, 170, 301, 286, 100,\n",
       "       350, 312,  26,  35, 127, 101, 281,  85, 149, 565, 389,  29, 371,\n",
       "       447, 556, 342, 212, 644, 326, 403,  54, 614, 279,  70, 438, 605,\n",
       "        46, 328, 638, 407, 683, 110, 271, 590, 107,  65, 571, 367, 121,\n",
       "       275, 522, 273, 474, 195, 691, 411, 208,  32, 739, 244, 419, 473,\n",
       "       222, 475, 235, 104, 232, 247, 361, 665, 440, 545, 245,  50, 298,\n",
       "       113, 558, 652, 240, 134, 725, 514, 148, 169, 345, 424, 553, 472,\n",
       "       498, 366, 335,  60, 265, 630, 161,   4, 451, 612, 204, 154, 290,\n",
       "       685, 270, 746,  34, 714, 186, 669, 595, 303, 684, 331, 267, 712,\n",
       "       394,  87, 461, 200, 386, 484, 655, 226, 287,   5, 536, 140, 197,\n",
       "        94, 468, 615, 695,  79,  59, 455, 297,  49,  99, 360, 493, 495,\n",
       "        31, 554,  33, 672,  42, 501, 144,  36, 130, 454, 224, 145, 242,\n",
       "       505, 544, 426, 486, 659, 734,  53, 206, 518, 379, 674, 276, 368,\n",
       "       117, 248, 308, 225,  63, 547, 579, 587, 151, 463, 673, 172, 749,\n",
       "       441, 122, 337, 470, 488, 162, 266, 384, 253, 711,  76, 494, 709,\n",
       "       546, 152, 482, 701, 747, 343, 491, 269, 417, 577,  14, 679, 722,\n",
       "       657, 119, 628, 629,  55,  12, 231,  96, 578, 199, 306, 453,   6,\n",
       "       173, 369, 707, 220, 497,  67, 555, 538, 325, 193,  92, 124, 344,\n",
       "       105, 315, 542, 466, 115, 167, 250, 252, 219, 608,  77, 187, 572,\n",
       "       480, 717, 336, 745, 458, 408, 268, 443,  22, 550,  86, 435, 740,\n",
       "       606, 618,  52, 639, 700, 557, 688, 521, 425,  75,  38, 576, 188,\n",
       "       358, 632, 513, 211, 168,  81, 519, 676, 512,  57, 442, 503, 202,\n",
       "       137, 670, 730, 465, 634, 667, 431, 529, 274, 698, 706, 527,  90,\n",
       "       489, 636, 307, 401, 462, 531,  18, 729, 564, 123, 338, 520, 418,\n",
       "       317, 146, 262, 668, 228, 430, 552, 251,   9, 485, 136, 125, 516,\n",
       "       283, 648, 429, 416,  45, 530,  88, 666, 385,  69, 258, 598, 254,\n",
       "       263, 150, 243, 155, 323,  30, 467, 541,   0, 132, 448, 601, 382,\n",
       "       524,  23, 234, 320, 604,  41, 696, 256, 640, 738,  19, 261, 340,\n",
       "       671,   7, 377, 381, 339, 210,  16, 686, 535, 563, 487, 139, 600,\n",
       "       580, 353, 158, 549, 508, 294, 560, 551, 517, 450, 282, 694, 699,\n",
       "       427, 599, 333, 456, 445, 376,  61, 378, 434, 277, 656,  71, 677,\n",
       "       356, 748, 238, 585, 680,  47, 727, 414,  97,  66,  11, 619,  43,\n",
       "       649, 314,  58, 126, 393,  13,   3, 141, 284, 181, 594, 409, 179,\n",
       "       581, 311, 133, 724, 300, 348, 330, 446, 559, 436, 135, 693, 278,\n",
       "       399, 192, 351, 213, 754, 305, 190, 120, 588, 163, 613, 584,  39,\n",
       "       543, 295, 157, 713, 236, 108, 570, 476, 329, 710,  82,  37, 293,\n",
       "       400, 645, 490, 153,   2, 422, 591, 313, 198, 428, 138, 111, 439,\n",
       "        89, 650, 383, 129, 390, 751, 663, 259, 332, 477, 241, 562, 391,\n",
       "       660,  91, 627, 147, 227, 185, 223, 421, 260, 526,  73,  64, 641,\n",
       "       316, 574,  84, 109, 533, 176, 164,  72, 415, 741, 160, 404, 735,\n",
       "       363, 319, 582, 114, 352, 375, 103, 586,  24, 742, 398, 736, 624,\n",
       "       380, 349, 737,   1, 174, 412, 575, 469, 184, 569, 635, 509, 365,\n",
       "       750, 566, 249, 633, 191, 642, 583, 743, 392, 405, 355, 610, 362,\n",
       "       675], dtype=int64)"
      ]
     },
     "execution_count": 35,
     "metadata": {},
     "output_type": "execute_result"
    }
   ],
   "source": [
    "# Returns the indices that would sort this array.\n",
    "single_topic.argsort()"
   ]
  },
  {
   "cell_type": "code",
   "execution_count": 36,
   "metadata": {},
   "outputs": [
    {
     "data": {
      "text/plain": [
       "0.10000000009316022"
      ]
     },
     "execution_count": 36,
     "metadata": {},
     "output_type": "execute_result"
    }
   ],
   "source": [
    "# Word least representative of this topic\n",
    "single_topic[492]"
   ]
  },
  {
   "cell_type": "code",
   "execution_count": 52,
   "metadata": {},
   "outputs": [
    {
     "data": {
      "text/plain": [
       "6247.245510521082"
      ]
     },
     "execution_count": 52,
     "metadata": {},
     "output_type": "execute_result"
    }
   ],
   "source": [
    "# Word most representative of this topic\n",
    "single_topic[42993]"
   ]
  },
  {
   "cell_type": "code",
   "execution_count": 37,
   "metadata": {},
   "outputs": [
    {
     "data": {
      "text/plain": [
       "array([191, 642, 583, 743, 392, 405, 355, 610, 362, 675], dtype=int64)"
      ]
     },
     "execution_count": 37,
     "metadata": {},
     "output_type": "execute_result"
    }
   ],
   "source": [
    "# Top 10 words for this topic:\n",
    "single_topic.argsort()[-10:]"
   ]
  },
  {
   "cell_type": "code",
   "execution_count": 38,
   "metadata": {},
   "outputs": [],
   "source": [
    "top_word_indices = single_topic.argsort()[-10:]"
   ]
  },
  {
   "cell_type": "code",
   "execution_count": 42,
   "metadata": {},
   "outputs": [
    {
     "name": "stdout",
     "output_type": "stream",
     "text": [
      "dresses\n",
      "tanks\n",
      "sleep\n",
      "wovens\n",
      "ls\n",
      "mens\n",
      "jr\n",
      "ss\n",
      "knit\n",
      "tops\n"
     ]
    }
   ],
   "source": [
    "for index in top_word_indices:\n",
    "    print(cv.get_feature_names_out()[index])"
   ]
  },
  {
   "cell_type": "markdown",
   "metadata": {},
   "source": [
    "These look like business articles perhaps... Let's confirm by using .transform() on our vectorized articles to attach a label number. But first, let's view all the 10 topics found."
   ]
  },
  {
   "cell_type": "code",
   "execution_count": 40,
   "metadata": {},
   "outputs": [
    {
     "name": "stdout",
     "output_type": "stream",
     "text": [
      "THE TOP 15 WORDS FOR TOPIC #0\n",
      "['label', 'ym', 'shells', 'fleece', 'sweaters', 'dresses', 'tanks', 'sleep', 'wovens', 'ls', 'mens', 'jr', 'ss', 'knit', 'tops']\n",
      "\n",
      "\n",
      "THE TOP 15 WORDS FOR TOPIC #1\n",
      "['models', 'preschool', 'summer', 'games', 'dolls', 'figures', 'action', 'diy', 'fisher', 'price', 'electrical', 'collegiate', 'creative', 'play', 'toys']\n",
      "\n",
      "\n",
      "THE TOP 15 WORDS FOR TOPIC #2\n",
      "['casuals', 'athletic', 'ladies', 'linens', 'accessories', 'table', 'pillows', 'trim', 'decorative', 'accents', 'novelty', 'tree', 'seasonal', 'skechers', 'decor']\n",
      "\n",
      "\n",
      "THE TOP 15 WORDS FOR TOPIC #3\n",
      "['use', 'general', 'fasteners', 'special', 'seasonal', 'sports', 'events', 'openstock', 'accessories', 'misc', 'hand', 'power', 'gadgets', 'basic', 'tools']\n",
      "\n",
      "\n",
      "THE TOP 15 WORDS FOR TOPIC #4\n",
      "['bath', 'restricted', 'age', 'heavy', 'dvds', 'outerwear', 'weight', 'sbt', 'souvenirs', 'accent', 'stands', 'plant', 'accessories', 'area', 'rugs']\n",
      "\n",
      "\n",
      "THE TOP 15 WORDS FOR TOPIC #5\n",
      "['upholstered', 'jar', 'candles', 'bedroom', 'office', 'home', 'dining', 'accent', 'seating', 'assorted', 'patio', 'garden', 'kitchen', 'furniture', 'accessories']\n",
      "\n",
      "\n",
      "THE TOP 15 WORDS FOR TOPIC #6\n",
      "['window', 'hardware', 'hardscapes', 'pool', 'textiles', 'chemicals', 'swim', 'kitchen', 'fasteners', 'stands', 'plant', 'art', 'wall', 'garden', 'accessories']\n",
      "\n",
      "\n",
      "THE TOP 15 WORDS FOR TOPIC #7\n",
      "['toddler', 'plush', 'socks', 'yarn', 'notions', 'paper', 'office', 'tops', 'national', 'school', 'sleepwear', 'branded', 'craft', 'art', 'supplies']\n",
      "\n",
      "\n",
      "THE TOP 15 WORDS FOR TOPIC #8\n",
      "['champion', 'columbia', 'seahawks', 'sandals', 'adidas', 'marika', 'mlb', 'traj3ctory', 'casual', 'misses', 'womens', 'reebok', 'ncaa', 'nfl', 'mens']\n",
      "\n",
      "\n",
      "THE TOP 15 WORDS FOR TOPIC #9\n",
      "['inf', 'active', 'wms', 'boys', 'bottoms', 'nwb', 'tb', 'tg', '16', 'fashion', 'collections', 'girls', 'carters', '18', 'dip']\n",
      "\n",
      "\n"
     ]
    }
   ],
   "source": [
    "for index,topic in enumerate(LDA.components_):\n",
    "    print(f'THE TOP 15 WORDS FOR TOPIC #{index}')\n",
    "    print([cv.get_feature_names_out()[i] for i in topic.argsort()[-15:]])\n",
    "    print('\\n')"
   ]
  },
  {
   "cell_type": "markdown",
   "metadata": {},
   "source": [
    "### Attaching Discovered Topic Labels to Original Articles"
   ]
  },
  {
   "cell_type": "code",
   "execution_count": 57,
   "metadata": {},
   "outputs": [
    {
     "data": {
      "text/plain": [
       "<11992x54777 sparse matrix of type '<class 'numpy.int64'>'\n",
       "\twith 3033388 stored elements in Compressed Sparse Row format>"
      ]
     },
     "execution_count": 57,
     "metadata": {},
     "output_type": "execute_result"
    }
   ],
   "source": [
    "dtm"
   ]
  },
  {
   "cell_type": "code",
   "execution_count": 43,
   "metadata": {},
   "outputs": [
    {
     "data": {
      "text/plain": [
       "(8880, 755)"
      ]
     },
     "execution_count": 43,
     "metadata": {},
     "output_type": "execute_result"
    }
   ],
   "source": [
    "dtm.shape"
   ]
  },
  {
   "cell_type": "code",
   "execution_count": 59,
   "metadata": {},
   "outputs": [
    {
     "data": {
      "text/plain": [
       "11992"
      ]
     },
     "execution_count": 59,
     "metadata": {},
     "output_type": "execute_result"
    }
   ],
   "source": [
    "len(npr)"
   ]
  },
  {
   "cell_type": "code",
   "execution_count": 44,
   "metadata": {},
   "outputs": [],
   "source": [
    "topic_results = LDA.transform(dtm)"
   ]
  },
  {
   "cell_type": "code",
   "execution_count": 45,
   "metadata": {},
   "outputs": [
    {
     "data": {
      "text/plain": [
       "(8880, 10)"
      ]
     },
     "execution_count": 45,
     "metadata": {},
     "output_type": "execute_result"
    }
   ],
   "source": [
    "topic_results.shape"
   ]
  },
  {
   "cell_type": "code",
   "execution_count": 46,
   "metadata": {},
   "outputs": [
    {
     "data": {
      "text/plain": [
       "array([0.01      , 0.01      , 0.01      , 0.01      , 0.01000086,\n",
       "       0.90999847, 0.01000024, 0.01000043, 0.01      , 0.01      ])"
      ]
     },
     "execution_count": 46,
     "metadata": {},
     "output_type": "execute_result"
    }
   ],
   "source": [
    "topic_results[0]"
   ]
  },
  {
   "cell_type": "code",
   "execution_count": 47,
   "metadata": {},
   "outputs": [
    {
     "data": {
      "text/plain": [
       "array([0.01, 0.01, 0.01, 0.01, 0.01, 0.91, 0.01, 0.01, 0.01, 0.01])"
      ]
     },
     "execution_count": 47,
     "metadata": {},
     "output_type": "execute_result"
    }
   ],
   "source": [
    "topic_results[0].round(2)"
   ]
  },
  {
   "cell_type": "code",
   "execution_count": 48,
   "metadata": {},
   "outputs": [
    {
     "data": {
      "text/plain": [
       "5"
      ]
     },
     "execution_count": 48,
     "metadata": {},
     "output_type": "execute_result"
    }
   ],
   "source": [
    "topic_results[0].argmax()"
   ]
  },
  {
   "cell_type": "markdown",
   "metadata": {},
   "source": [
    "This means that our model thinks that the first article belongs to topic #1."
   ]
  },
  {
   "cell_type": "markdown",
   "metadata": {},
   "source": [
    "### Combining with Original Data"
   ]
  },
  {
   "cell_type": "code",
   "execution_count": 50,
   "metadata": {},
   "outputs": [
    {
     "data": {
      "text/html": [
       "<div>\n",
       "<style scoped>\n",
       "    .dataframe tbody tr th:only-of-type {\n",
       "        vertical-align: middle;\n",
       "    }\n",
       "\n",
       "    .dataframe tbody tr th {\n",
       "        vertical-align: top;\n",
       "    }\n",
       "\n",
       "    .dataframe thead th {\n",
       "        text-align: right;\n",
       "    }\n",
       "</style>\n",
       "<table border=\"1\" class=\"dataframe\">\n",
       "  <thead>\n",
       "    <tr style=\"text-align: right;\">\n",
       "      <th></th>\n",
       "      <th>ClusterLabel</th>\n",
       "      <th>Cluster Name</th>\n",
       "      <th>Cluster Size</th>\n",
       "      <th>ITM_ID</th>\n",
       "      <th>PMY_DPT_DSC</th>\n",
       "      <th>REC_DPT_DSC</th>\n",
       "      <th>DPT_DSC</th>\n",
       "      <th>COM_DSC</th>\n",
       "      <th>SUBCOM_DSC</th>\n",
       "    </tr>\n",
       "  </thead>\n",
       "  <tbody>\n",
       "    <tr>\n",
       "      <th>0</th>\n",
       "      <td>0</td>\n",
       "      <td>KITCHEN/DINING,HOME OFFICE,UPHOLSTERED GROUPS/...</td>\n",
       "      <td>2299</td>\n",
       "      <td>2299</td>\n",
       "      <td>1</td>\n",
       "      <td>1</td>\n",
       "      <td>8</td>\n",
       "      <td>12</td>\n",
       "      <td>20</td>\n",
       "    </tr>\n",
       "    <tr>\n",
       "      <th>1</th>\n",
       "      <td>1</td>\n",
       "      <td>ART &amp; CRAFT SUPPLIES,WALL ART,PLANT STANDS &amp; A...</td>\n",
       "      <td>1471</td>\n",
       "      <td>1471</td>\n",
       "      <td>1</td>\n",
       "      <td>1</td>\n",
       "      <td>7</td>\n",
       "      <td>10</td>\n",
       "      <td>11</td>\n",
       "    </tr>\n",
       "    <tr>\n",
       "      <th>2</th>\n",
       "      <td>2</td>\n",
       "      <td>KITCHEN/DINING,ACCENT FURNITURE,PLANT STANDS &amp;...</td>\n",
       "      <td>1413</td>\n",
       "      <td>1413</td>\n",
       "      <td>1</td>\n",
       "      <td>1</td>\n",
       "      <td>10</td>\n",
       "      <td>14</td>\n",
       "      <td>22</td>\n",
       "    </tr>\n",
       "    <tr>\n",
       "      <th>3</th>\n",
       "      <td>3</td>\n",
       "      <td>OSU COLLEGIATE,UO COLLEGIATE,BOISE STATE UNIVE...</td>\n",
       "      <td>1063</td>\n",
       "      <td>1063</td>\n",
       "      <td>1</td>\n",
       "      <td>1</td>\n",
       "      <td>12</td>\n",
       "      <td>25</td>\n",
       "      <td>39</td>\n",
       "    </tr>\n",
       "    <tr>\n",
       "      <th>4</th>\n",
       "      <td>4</td>\n",
       "      <td>FASHION SOCKS,NCAA OTHER,NFL (NON SEAHAWKS),HO...</td>\n",
       "      <td>1027</td>\n",
       "      <td>1027</td>\n",
       "      <td>1</td>\n",
       "      <td>1</td>\n",
       "      <td>13</td>\n",
       "      <td>41</td>\n",
       "      <td>86</td>\n",
       "    </tr>\n",
       "  </tbody>\n",
       "</table>\n",
       "</div>"
      ],
      "text/plain": [
       "   ClusterLabel                                       Cluster Name  \\\n",
       "0             0  KITCHEN/DINING,HOME OFFICE,UPHOLSTERED GROUPS/...   \n",
       "1             1  ART & CRAFT SUPPLIES,WALL ART,PLANT STANDS & A...   \n",
       "2             2  KITCHEN/DINING,ACCENT FURNITURE,PLANT STANDS &...   \n",
       "3             3  OSU COLLEGIATE,UO COLLEGIATE,BOISE STATE UNIVE...   \n",
       "4             4  FASHION SOCKS,NCAA OTHER,NFL (NON SEAHAWKS),HO...   \n",
       "\n",
       "   Cluster Size  ITM_ID  PMY_DPT_DSC  REC_DPT_DSC  DPT_DSC  COM_DSC  \\\n",
       "0          2299    2299            1            1        8       12   \n",
       "1          1471    1471            1            1        7       10   \n",
       "2          1413    1413            1            1       10       14   \n",
       "3          1063    1063            1            1       12       25   \n",
       "4          1027    1027            1            1       13       41   \n",
       "\n",
       "   SUBCOM_DSC  \n",
       "0          20  \n",
       "1          11  \n",
       "2          22  \n",
       "3          39  \n",
       "4          86  "
      ]
     },
     "execution_count": 50,
     "metadata": {},
     "output_type": "execute_result"
    }
   ],
   "source": [
    "sumy.head()"
   ]
  },
  {
   "cell_type": "code",
   "execution_count": 51,
   "metadata": {},
   "outputs": [
    {
     "data": {
      "text/plain": [
       "array([5, 4, 5, ..., 5, 3, 8], dtype=int64)"
      ]
     },
     "execution_count": 51,
     "metadata": {},
     "output_type": "execute_result"
    }
   ],
   "source": [
    "topic_results.argmax(axis=1)"
   ]
  },
  {
   "cell_type": "code",
   "execution_count": 54,
   "metadata": {},
   "outputs": [],
   "source": [
    "sumy['Topic'] = topic_results.argmax(axis=1)"
   ]
  },
  {
   "cell_type": "code",
   "execution_count": 55,
   "metadata": {},
   "outputs": [
    {
     "data": {
      "text/html": [
       "<div>\n",
       "<style scoped>\n",
       "    .dataframe tbody tr th:only-of-type {\n",
       "        vertical-align: middle;\n",
       "    }\n",
       "\n",
       "    .dataframe tbody tr th {\n",
       "        vertical-align: top;\n",
       "    }\n",
       "\n",
       "    .dataframe thead th {\n",
       "        text-align: right;\n",
       "    }\n",
       "</style>\n",
       "<table border=\"1\" class=\"dataframe\">\n",
       "  <thead>\n",
       "    <tr style=\"text-align: right;\">\n",
       "      <th></th>\n",
       "      <th>ClusterLabel</th>\n",
       "      <th>Cluster Name</th>\n",
       "      <th>Cluster Size</th>\n",
       "      <th>ITM_ID</th>\n",
       "      <th>PMY_DPT_DSC</th>\n",
       "      <th>REC_DPT_DSC</th>\n",
       "      <th>DPT_DSC</th>\n",
       "      <th>COM_DSC</th>\n",
       "      <th>SUBCOM_DSC</th>\n",
       "      <th>Topic</th>\n",
       "    </tr>\n",
       "  </thead>\n",
       "  <tbody>\n",
       "    <tr>\n",
       "      <th>0</th>\n",
       "      <td>0</td>\n",
       "      <td>KITCHEN/DINING,HOME OFFICE,UPHOLSTERED GROUPS/...</td>\n",
       "      <td>2299</td>\n",
       "      <td>2299</td>\n",
       "      <td>1</td>\n",
       "      <td>1</td>\n",
       "      <td>8</td>\n",
       "      <td>12</td>\n",
       "      <td>20</td>\n",
       "      <td>5</td>\n",
       "    </tr>\n",
       "    <tr>\n",
       "      <th>1</th>\n",
       "      <td>1</td>\n",
       "      <td>ART &amp; CRAFT SUPPLIES,WALL ART,PLANT STANDS &amp; A...</td>\n",
       "      <td>1471</td>\n",
       "      <td>1471</td>\n",
       "      <td>1</td>\n",
       "      <td>1</td>\n",
       "      <td>7</td>\n",
       "      <td>10</td>\n",
       "      <td>11</td>\n",
       "      <td>4</td>\n",
       "    </tr>\n",
       "    <tr>\n",
       "      <th>2</th>\n",
       "      <td>2</td>\n",
       "      <td>KITCHEN/DINING,ACCENT FURNITURE,PLANT STANDS &amp;...</td>\n",
       "      <td>1413</td>\n",
       "      <td>1413</td>\n",
       "      <td>1</td>\n",
       "      <td>1</td>\n",
       "      <td>10</td>\n",
       "      <td>14</td>\n",
       "      <td>22</td>\n",
       "      <td>5</td>\n",
       "    </tr>\n",
       "    <tr>\n",
       "      <th>3</th>\n",
       "      <td>3</td>\n",
       "      <td>OSU COLLEGIATE,UO COLLEGIATE,BOISE STATE UNIVE...</td>\n",
       "      <td>1063</td>\n",
       "      <td>1063</td>\n",
       "      <td>1</td>\n",
       "      <td>1</td>\n",
       "      <td>12</td>\n",
       "      <td>25</td>\n",
       "      <td>39</td>\n",
       "      <td>1</td>\n",
       "    </tr>\n",
       "    <tr>\n",
       "      <th>4</th>\n",
       "      <td>4</td>\n",
       "      <td>FASHION SOCKS,NCAA OTHER,NFL (NON SEAHAWKS),HO...</td>\n",
       "      <td>1027</td>\n",
       "      <td>1027</td>\n",
       "      <td>1</td>\n",
       "      <td>1</td>\n",
       "      <td>13</td>\n",
       "      <td>41</td>\n",
       "      <td>86</td>\n",
       "      <td>8</td>\n",
       "    </tr>\n",
       "    <tr>\n",
       "      <th>5</th>\n",
       "      <td>5</td>\n",
       "      <td>ASSORTED GARDEN,PATIO ACCESSORIES,SMALL ACCESS...</td>\n",
       "      <td>980</td>\n",
       "      <td>980</td>\n",
       "      <td>1</td>\n",
       "      <td>1</td>\n",
       "      <td>11</td>\n",
       "      <td>28</td>\n",
       "      <td>37</td>\n",
       "      <td>5</td>\n",
       "    </tr>\n",
       "    <tr>\n",
       "      <th>6</th>\n",
       "      <td>6</td>\n",
       "      <td>GARDEN HARDSCAPES,WALL ART,CREATIVE PLAY TOYS,...</td>\n",
       "      <td>953</td>\n",
       "      <td>953</td>\n",
       "      <td>1</td>\n",
       "      <td>1</td>\n",
       "      <td>4</td>\n",
       "      <td>4</td>\n",
       "      <td>4</td>\n",
       "      <td>1</td>\n",
       "    </tr>\n",
       "    <tr>\n",
       "      <th>7</th>\n",
       "      <td>7</td>\n",
       "      <td>JAR CANDLES,WARMERS/WAX MELTS/FLAMELESS,ESSENT...</td>\n",
       "      <td>945</td>\n",
       "      <td>945</td>\n",
       "      <td>1</td>\n",
       "      <td>1</td>\n",
       "      <td>12</td>\n",
       "      <td>23</td>\n",
       "      <td>34</td>\n",
       "      <td>1</td>\n",
       "    </tr>\n",
       "    <tr>\n",
       "      <th>8</th>\n",
       "      <td>8</td>\n",
       "      <td>TAPE &amp; MAILING PRODUCTS,TAPE,PLUMBING REPAIR,A...</td>\n",
       "      <td>944</td>\n",
       "      <td>944</td>\n",
       "      <td>1</td>\n",
       "      <td>1</td>\n",
       "      <td>13</td>\n",
       "      <td>46</td>\n",
       "      <td>61</td>\n",
       "      <td>2</td>\n",
       "    </tr>\n",
       "    <tr>\n",
       "      <th>9</th>\n",
       "      <td>9</td>\n",
       "      <td>UPHOLSTERED GROUPS/RECLINERS,ACCENT FURNITURE,...</td>\n",
       "      <td>820</td>\n",
       "      <td>820</td>\n",
       "      <td>1</td>\n",
       "      <td>1</td>\n",
       "      <td>5</td>\n",
       "      <td>6</td>\n",
       "      <td>10</td>\n",
       "      <td>5</td>\n",
       "    </tr>\n",
       "  </tbody>\n",
       "</table>\n",
       "</div>"
      ],
      "text/plain": [
       "   ClusterLabel                                       Cluster Name  \\\n",
       "0             0  KITCHEN/DINING,HOME OFFICE,UPHOLSTERED GROUPS/...   \n",
       "1             1  ART & CRAFT SUPPLIES,WALL ART,PLANT STANDS & A...   \n",
       "2             2  KITCHEN/DINING,ACCENT FURNITURE,PLANT STANDS &...   \n",
       "3             3  OSU COLLEGIATE,UO COLLEGIATE,BOISE STATE UNIVE...   \n",
       "4             4  FASHION SOCKS,NCAA OTHER,NFL (NON SEAHAWKS),HO...   \n",
       "5             5  ASSORTED GARDEN,PATIO ACCESSORIES,SMALL ACCESS...   \n",
       "6             6  GARDEN HARDSCAPES,WALL ART,CREATIVE PLAY TOYS,...   \n",
       "7             7  JAR CANDLES,WARMERS/WAX MELTS/FLAMELESS,ESSENT...   \n",
       "8             8  TAPE & MAILING PRODUCTS,TAPE,PLUMBING REPAIR,A...   \n",
       "9             9  UPHOLSTERED GROUPS/RECLINERS,ACCENT FURNITURE,...   \n",
       "\n",
       "   Cluster Size  ITM_ID  PMY_DPT_DSC  REC_DPT_DSC  DPT_DSC  COM_DSC  \\\n",
       "0          2299    2299            1            1        8       12   \n",
       "1          1471    1471            1            1        7       10   \n",
       "2          1413    1413            1            1       10       14   \n",
       "3          1063    1063            1            1       12       25   \n",
       "4          1027    1027            1            1       13       41   \n",
       "5           980     980            1            1       11       28   \n",
       "6           953     953            1            1        4        4   \n",
       "7           945     945            1            1       12       23   \n",
       "8           944     944            1            1       13       46   \n",
       "9           820     820            1            1        5        6   \n",
       "\n",
       "   SUBCOM_DSC  Topic  \n",
       "0          20      5  \n",
       "1          11      4  \n",
       "2          22      5  \n",
       "3          39      1  \n",
       "4          86      8  \n",
       "5          37      5  \n",
       "6           4      1  \n",
       "7          34      1  \n",
       "8          61      2  \n",
       "9          10      5  "
      ]
     },
     "execution_count": 55,
     "metadata": {},
     "output_type": "execute_result"
    }
   ],
   "source": [
    "sumy.head(10)"
   ]
  },
  {
   "cell_type": "code",
   "execution_count": 56,
   "metadata": {},
   "outputs": [],
   "source": [
    "sumy.to_csv(path + 'Cluster_Summaries_063023.csv',  index=None)"
   ]
  },
  {
   "cell_type": "markdown",
   "metadata": {},
   "source": [
    "## Great work!"
   ]
  }
 ],
 "metadata": {
  "kernelspec": {
   "display_name": "Python 3 (ipykernel)",
   "language": "python",
   "name": "python3"
  },
  "language_info": {
   "codemirror_mode": {
    "name": "ipython",
    "version": 3
   },
   "file_extension": ".py",
   "mimetype": "text/x-python",
   "name": "python",
   "nbconvert_exporter": "python",
   "pygments_lexer": "ipython3",
   "version": "3.10.9"
  }
 },
 "nbformat": 4,
 "nbformat_minor": 2
}
