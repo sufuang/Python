{
 "cells": [
  {
   "cell_type": "markdown",
   "id": "e0a066df",
   "metadata": {},
   "source": [
    "# unlabel_L2_MLP_predict\n",
    "  - input\n",
    "      -  Syndigo_Levels_L1_L2_L3.zip\n",
    "      -  Inactive GTINs as of Sept 6.xlsx"
   ]
  },
  {
   "cell_type": "code",
   "execution_count": null,
   "id": "e22d4b3b",
   "metadata": {},
   "outputs": [],
   "source": []
  },
  {
   "cell_type": "code",
   "execution_count": 1,
   "id": "1182d571",
   "metadata": {},
   "outputs": [],
   "source": [
    "def unique_no_nan(x):\n",
    "    return x.dropna().unique()"
   ]
  },
  {
   "cell_type": "code",
   "execution_count": 2,
   "id": "457a0ee7",
   "metadata": {},
   "outputs": [],
   "source": [
    "def constrcut_dic():\n",
    "    key = unique_no_nan(syndigo_mapped['Level 1'])\n",
    "    value = list( map(lambda x : re.sub('&|/', '', x), key))\n",
    "    value = list( map(lambda x : re.sub(' +', '_', x), value))\n",
    "    value = list(map(str.lower, value))\n",
    "    #value = ['-'.join(['tfidf'+ str]), value]\n",
    "\n",
    "    # print(f'key: {key}') \n",
    "    # print(f'value: {value}')\n",
    "    return dict(zip(key, value)) "
   ]
  },
  {
   "cell_type": "code",
   "execution_count": 3,
   "id": "b3e85fc2",
   "metadata": {},
   "outputs": [],
   "source": [
    "def prepare_data_1_label():\n",
    "    \n",
    "    # Reading Syndigo 259K data\n",
    "    synd_ALL = pd.read_csv(DBFR + 'Syndigo_Final_ALL.csv', dtype='unicode') # 259k Syndigo Data\n",
    "    for i in ['SUBCOM_CD', 'DPT_CD', 'COM_CD', 'GTIN', 'ITM_ID', 'PMY_DPT_CD']:\n",
    "        synd_ALL[i] = synd_ALL[i].astype(np.float64)\n",
    "    \n",
    "    # Stripping spaces from all columns\n",
    "    df_obj = synd_ALL.select_dtypes(['object'])\n",
    "    synd_ALL[df_obj.columns] = df_obj.apply(lambda x: x.str.strip())\n",
    "    \n",
    "    syndigo_mapped = synd_ALL\n",
    "\n",
    "    syndigo_mapped.drop_duplicates('GTIN', inplace = True)\n",
    "    syndigo_mapped['ITEM_SUBCOM_text'] = \\\n",
    "    (syndigo_mapped.VND_ECOM_DSC + ' ' + syndigo_mapped.SUBCOM_DSC).fillna('').str.lower()\n",
    "    #syndigo_mapped['Level 1'].value_counts()\n",
    "    print(f'syndigo_mapped.shape {syndigo_mapped.shape}') \n",
    "\n",
    "    print(f\"syndigo_mapped['Level 1'].value_counts() {syndigo_mapped['Level 1'].value_counts(dropna = False)}\")    \n",
    "    return syndigo_mapped"
   ]
  },
  {
   "cell_type": "code",
   "execution_count": 4,
   "id": "064222af",
   "metadata": {},
   "outputs": [],
   "source": [
    "def prepare_data_1_unlabel():\n",
    "    pgm = inspect.currentframe().f_code.co_name  \n",
    "    start_time = time.time() \n",
    "    # Reading PIMMART data\n",
    "    pim_gtin_mapped = pd.read_csv(DBFR + \"Syndigo_Levels_L1_L2_L3.zip\",compression=\"zip\") # (5211106, 22)    \n",
    "    # Remove inactive GTIN \n",
    "    print(f'Before drop inactive GTIN, pim_gtin_mapped.shape {pim_gtin_mapped.shape}')    \n",
    "    df = pd.read_excel(DBFR + \"Inactive GTINs as of Sept 6.xlsx\")\n",
    "    l_gtin_inc = list(df['GTIN|Ecommerce Description'].apply(lambda x:  x.split('|')[0]))\n",
    "    l_gtin_ex = [float(x) for x in l_gtin_inc]\n",
    "    pim_gtin_mapped = pim_gtin_mapped[~pim_gtin_mapped.GTIN.isin(l_gtin_ex)]     \n",
    "    print(f'After drop inactive GTIN, pim_gtin_mapped.shape {pim_gtin_mapped.shape}')    \n",
    "\n",
    "    \n",
    "    for i in ['SUBCOM_CD', 'DPT_CD', 'COM_CD','PMY_DPT_CD', 'REC_DPT_CD', 'ITM_ID', 'GTIN']:\n",
    "         pim_gtin_mapped[i] = pim_gtin_mapped[i].astype(np.float64)\n",
    "    \n",
    "    pim_gtin_mapped.drop_duplicates('GTIN', inplace = True)\n",
    "    pim_gtin_mapped['ITEM_SUBCOM_text'] = \\\n",
    "    (pim_gtin_mapped.VND_ECOM_DSC + ' ' + pim_gtin_mapped.SUBCOM_DSC).fillna('').str.lower()\n",
    "  \n",
    "    return pim_gtin_mapped"
   ]
  },
  {
   "cell_type": "code",
   "execution_count": 5,
   "id": "f50dfab0",
   "metadata": {},
   "outputs": [],
   "source": [
    "def prepare_data_2(level_1):\n",
    "\n",
    "    subset_df = syndigo_mapped[syndigo_mapped['Level 1'] == level_1]\n",
    "    series =  subset_df['Level 2'].value_counts(ascending=True, dropna = False)\n",
    "    subset_df = subset_df.drop(subset_df[subset_df['Level 2'].isin(series[series  == 1 ].index.tolist())].index)  \n",
    "    \n",
    "    x_subset_w2v = np.array(list(subset_df.ITEM_SUBCOM_text.apply(lambda x: get_item_vector(x.split(' ')))))                                            \n",
    "    level2_id_map = dict(zip(subset_df['Level 2'].fillna('Other').unique(), range(subset_df['Level 2'].fillna('Other').nunique())))\n",
    "    id2_level_map = dict(zip(range(subset_df['Level 2'].fillna('Other').nunique()), subset_df['Level 2'].fillna('Other').unique()))\n",
    "    y_subset_w2v  = subset_df['Level 2'].fillna('Other').map(level2_id_map)\n",
    "    \n",
    "    subset_df_unl = pim_gtin_mapped[pim_gtin_mapped['Level1'] == level_1]\n",
    "    subset_df_unl.reset_index(inplace = True, drop=True)\n",
    "    X  = np.array(list(subset_df_unl.ITEM_SUBCOM_text.apply(lambda x: get_item_vector(x.split(' '))))) \n",
    "    \n",
    "    return  x_subset_w2v, y_subset_w2v, subset_df, level2_id_map,  id2_level_map, subset_df, X, subset_df_unl"
   ]
  },
  {
   "cell_type": "code",
   "execution_count": 6,
   "id": "2cc647f6",
   "metadata": {},
   "outputs": [],
   "source": [
    "def prepare_data_2_unlabel(level_1):\n",
    "\n",
    "    subset_df_unl = pim_gtin_mapped[pim_gtin_mapped['Level 1'] == level_1]\n",
    "    \n",
    "    X  = np.array(list(subset_df_unl.ITEM_SUBCOM_text.apply(lambda x: get_item_vector(x.split(' ')))))                                            \n",
    "    level2_id_map = dict(zip(subset_df['Level 2'].fillna('Other').unique(), range(subset_df['Level 2'].fillna('Other').nunique())))\n",
    "    id2_level_map = dict(zip(range(subset_df['Level 2'].fillna('Other').nunique()), subset_df['Level 2'].fillna('Other').unique()))\n",
    "    y_subset_w2v  = subset_df['Level 2'].fillna('Other').map(level2_id_map)\n",
    "    \n",
    "    return  x_subset_w2v, y"
   ]
  },
  {
   "cell_type": "code",
   "execution_count": 7,
   "id": "22a42140",
   "metadata": {},
   "outputs": [],
   "source": [
    "#Build item vectors\n",
    "def get_item_vector(item_vocab):\n",
    "    vect = np.zeros_like(model.get_vector('chips'))\n",
    "    for word in item_vocab:\n",
    "        if word in model:\n",
    "            vect += model.get_vector(word)\n",
    "    return vect#/max(1,len(item_vocab))"
   ]
  },
  {
   "cell_type": "code",
   "execution_count": 8,
   "id": "f475444a",
   "metadata": {},
   "outputs": [],
   "source": [
    "\n",
    "def proc_pred_mlp(level_1):\n",
    "     global df_label, df_unlabel, mlp\n",
    "     mlp = MLPClassifier(hidden_layer_sizes=(200,), activation = 'relu', learning_rate= 'adaptive', early_stopping= True)\n",
    "     #print(f\"Test size: {len(A_test)}\\nTrain size: {len(A_train)}\\n\")\n",
    "     print(f\"Training - w2v + MLP \\\"{level_1}\\\"\")\n",
    "     warnings.filterwarnings(\"ignore\", category=UserWarning)\n",
    "     mlp.fit(X_train, y_train)\n",
    "     print(' Display MLP test  metrics')\n",
    "     preds_test_mlp = mlp.predict(X_test)\n",
    "     #df_test = proc_prob(X_test, A_test, desc= \"Test\")   \n",
    "                         \n",
    "     preds_train_mlp = mlp.predict(X_train)\n",
    "     #df_train = proc_prob(X_test, A_test, desc= \"Train\")     \n",
    "                          \n",
    "     df_unl  = proc_prob(X, df_subset_unl)\n",
    "     #df_label  = df_label +  df_test +  df_train    \n",
    "    \n",
    "     df_unlabel  = pd.concat([df_unlabel, df_unl])\n",
    "     # print(classdf_label +nification_report(y_test, preds_test_mlp,labels = mlp.classes_, target_names = [id2_level_map[i] for i in mlp.classes_]))      \n",
    "     return \n"
   ]
  },
  {
   "cell_type": "code",
   "execution_count": 9,
   "id": "9caadfff",
   "metadata": {},
   "outputs": [],
   "source": [
    "def proc_prob(mdl_data, df_base, desc= False):\n",
    "\n",
    "    preds = list(mlp.predict(mdl_data)) \n",
    "    probx = mlp.predict_proba(mdl_data)\n",
    "    probs = []\n",
    "    for i in range(len(mdl_data)):\n",
    "      probs.append(probx[i][np.argsort(probx[i])][::-1][:1])\n",
    "    probs = [element for sublist in list(probs) for element in sublist]\n",
    "    data = {'Predict': preds, 'Scores': probs}\n",
    "    df_pred= pd.DataFrame(data)\n",
    "    if desc == False: pass\n",
    "    else:\n",
    "       df_pred['Type'] = desc\n",
    "    df_pred['Predict'] = df_pred['Predict'].fillna('Other').map(id2_level_map) \n",
    "    df_merg = pd.merge( df_base, df_pred, left_index=True, right_index=True)\n",
    "    return df_merg"
   ]
  },
  {
   "cell_type": "code",
   "execution_count": 10,
   "id": "f69c18be",
   "metadata": {},
   "outputs": [],
   "source": [
    "import pandas as pd, numpy as np\n",
    "from sklearn.ensemble import RandomForestClassifier, GradientBoostingClassifier\n",
    "from sklearn.linear_model import LogisticRegression, LogisticRegressionCV, SGDClassifier,  RidgeClassifier\n",
    "from sklearn.feature_extraction.text import TfidfVectorizer\n",
    "from gensim.models import Word2Vec, KeyedVectors\n",
    "from sklearn.model_selection import train_test_split\n",
    "from datetime import date\n",
    "from sklearn.neural_network import MLPClassifier\n",
    "\n",
    "\n",
    "from sklearn.metrics import ConfusionMatrixDisplay, classification_report, confusion_matrix, accuracy_score\n",
    "from sklearn.metrics import roc_auc_score, f1_score\n",
    "import re, time, inspect, pickle\n",
    "import warnings\n",
    "import logging\n",
    "warnings.filterwarnings(\"ignore\", category=UserWarning)\n",
    "\n",
    "pd.options.display.float_format = '{:20,.4f}'.format \n",
    "pd.set_option(\"display.max_rows\", None)\n",
    "\n",
    "# load  function of 'elapse_time'\n",
    "path_code = 'C:\\\\users\\\\iny2819\\\\kroger\\\\Code\\\\'  \n",
    "f_com_code = path_code + \"com_code.py\"\n",
    "exec(compile(open(f_com_code , \"rb\").read(), f_com_code, 'exec' ))"
   ]
  },
  {
   "cell_type": "code",
   "execution_count": 11,
   "id": "82596b6f",
   "metadata": {},
   "outputs": [],
   "source": [
    "DBFS = \"/dbfs/FileStore/tables/OFFSHORE/\"\n",
    "DBFO = \"/dbfs/FileStore/tables/OFFSHORE/\"\n",
    "DBFM = \"/dbfs/FileStore/tables/MALLIK/\"\n",
    "DBFR = \"/dbfs/FileStore/tables/OFFSHORE_RESULTS/\"\n",
    "path = 'C:\\\\users\\\\iny2819\\\\kroger\\\\Data\\\\'   \n",
    "DBFS = path\n",
    "DBFO = path\n",
    "DBFM = path\n",
    "DBFR = path"
   ]
  },
  {
   "cell_type": "code",
   "execution_count": 12,
   "id": "0cf98fdd",
   "metadata": {},
   "outputs": [
    {
     "name": "stdout",
     "output_type": "stream",
     "text": [
      "syndigo_mapped.shape (259085, 24)\n",
      "syndigo_mapped['Level 1'].value_counts() Food / Beverages                            131593\n",
      "Health & Beauty                              62259\n",
      "Beer / Wine / Spirits                        17992\n",
      "Cleaning & Janitorial                         9084\n",
      "Livestock & Pet Supplies                      6325\n",
      "Kitchen & Bathroom                            5268\n",
      "Home & Venue Decoration                       3924\n",
      "Toys / Games / Hobbies                        3191\n",
      "Gardening & Outdoors                          2208\n",
      "Childcare                                     2111\n",
      "Office Supplies                               1671\n",
      "Electronics                                   1499\n",
      "Apparel                                       1283\n",
      "Lighting & Fans                               1252\n",
      "Tobacco Products                              1252\n",
      "NaN                                           1132\n",
      "Not classified                                1018\n",
      "Hardware                                       923\n",
      "Arts & Crafts                                  803\n",
      "Automotive                                     778\n",
      "Appliances                                     689\n",
      "Sports & Outdoor Recreation Equipment          684\n",
      "Hospitality Supplies                           496\n",
      "Tools                                          474\n",
      "Books & Videos                                 377\n",
      "Electrical                                     215\n",
      "Heating / Ventilation / Air Conditioning       196\n",
      "Plumbing & Water Service                       172\n",
      "Paints & Coatings                               60\n",
      "Building Supplies                               40\n",
      "Power Sports                                    39\n",
      "Furniture                                       37\n",
      "Marine                                          16\n",
      "Flooring                                        13\n",
      "Material Handling                                6\n",
      "Agricultural Equipment                           3\n",
      "Musical Instruments                              1\n",
      "Power Transmission & Motion Control              1\n",
      "Name: Level 1, dtype: int64\n",
      "Before drop inactive GTIN, pim_gtin_mapped.shape (5211106, 22)\n",
      "After drop inactive GTIN, pim_gtin_mapped.shape (4185721, 22)\n"
     ]
    }
   ],
   "source": [
    "\n",
    "syndigo_mapped= prepare_data_1_label()\n",
    "pim_gtin_mapped = prepare_data_1_unlabel()"
   ]
  },
  {
   "cell_type": "code",
   "execution_count": 32,
   "id": "e4180299",
   "metadata": {},
   "outputs": [
    {
     "data": {
      "text/plain": [
       "(3800926, 23)"
      ]
     },
     "execution_count": 32,
     "metadata": {},
     "output_type": "execute_result"
    }
   ],
   "source": [
    " pim_gtin_mapped.shape"
   ]
  },
  {
   "cell_type": "code",
   "execution_count": 13,
   "id": "4738bec8",
   "metadata": {},
   "outputs": [
    {
     "name": "stdout",
     "output_type": "stream",
     "text": [
      "0. Process level 1 = Food / Beverages\n",
      "Training - w2v + MLP \"Food / Beverages\"\n",
      " Display MLP test  metrics\n",
      "1. Process level 1 = Health & Beauty\n",
      "Training - w2v + MLP \"Health & Beauty\"\n",
      " Display MLP test  metrics\n",
      "2. Process level 1 = Beer / Wine / Spirits\n",
      "Training - w2v + MLP \"Beer / Wine / Spirits\"\n",
      " Display MLP test  metrics\n",
      "3. Process level 1 = Kitchen & Bathroom\n",
      "Training - w2v + MLP \"Kitchen & Bathroom\"\n",
      " Display MLP test  metrics\n",
      "4. Process level 1 = Cleaning & Janitorial\n",
      "Training - w2v + MLP \"Cleaning & Janitorial\"\n",
      " Display MLP test  metrics\n",
      "5. Process level 1 = Home & Venue Decoration\n",
      "Training - w2v + MLP \"Home & Venue Decoration\"\n",
      " Display MLP test  metrics\n",
      "6. Process level 1 = Livestock & Pet Supplies\n",
      "Training - w2v + MLP \"Livestock & Pet Supplies\"\n",
      " Display MLP test  metrics\n",
      "7. Process level 1 = Toys / Games / Hobbies\n",
      "Training - w2v + MLP \"Toys / Games / Hobbies\"\n",
      " Display MLP test  metrics\n",
      "8. Process level 1 = Childcare\n",
      "Training - w2v + MLP \"Childcare\"\n",
      " Display MLP test  metrics\n",
      "9. Process level 1 = Tobacco Products\n",
      "Training - w2v + MLP \"Tobacco Products\"\n",
      " Display MLP test  metrics\n",
      "10. Process level 1 = Apparel\n",
      "Training - w2v + MLP \"Apparel\"\n",
      " Display MLP test  metrics\n",
      "11. Process level 1 = Gardening & Outdoors\n",
      "Training - w2v + MLP \"Gardening & Outdoors\"\n",
      " Display MLP test  metrics\n",
      "12. Process level 1 = Sports & Outdoor Recreation Equipment\n",
      "Training - w2v + MLP \"Sports & Outdoor Recreation Equipment\"\n",
      " Display MLP test  metrics\n",
      "13. Process level 1 = Office Supplies\n",
      "Training - w2v + MLP \"Office Supplies\"\n",
      " Display MLP test  metrics\n",
      "14. Process level 1 = Plumbing & Water Service\n",
      "Training - w2v + MLP \"Plumbing & Water Service\"\n",
      " Display MLP test  metrics\n",
      "15. Process level 1 = Lighting & Fans\n",
      "Training - w2v + MLP \"Lighting & Fans\"\n",
      " Display MLP test  metrics\n",
      "16. Process level 1 = Appliances\n",
      "Training - w2v + MLP \"Appliances\"\n",
      " Display MLP test  metrics\n",
      "17. Process level 1 = Electronics\n",
      "Training - w2v + MLP \"Electronics\"\n",
      " Display MLP test  metrics\n",
      "18. Process level 1 = Not classified\n",
      "Level1 Not classified only has one level2. Will skip SMOTE\n",
      "19. Process level 1 = Automotive\n",
      "Training - w2v + MLP \"Automotive\"\n",
      " Display MLP test  metrics\n",
      "20. Process level 1 = Tools\n",
      "Training - w2v + MLP \"Tools\"\n",
      " Display MLP test  metrics\n",
      "21. Process level 1 = Hardware\n",
      "Training - w2v + MLP \"Hardware\"\n",
      " Display MLP test  metrics\n",
      "22. Process level 1 = Books & Videos\n",
      "Training - w2v + MLP \"Books & Videos\"\n",
      " Display MLP test  metrics\n",
      "23. Process level 1 = Arts & Crafts\n",
      "Training - w2v + MLP \"Arts & Crafts\"\n",
      " Display MLP test  metrics\n",
      "24. Process level 1 = Electrical\n",
      "Training - w2v + MLP \"Electrical\"\n",
      " Display MLP test  metrics\n",
      "25. Process level 1 = Heating / Ventilation / Air Conditioning\n",
      "Training - w2v + MLP \"Heating / Ventilation / Air Conditioning\"\n",
      " Display MLP test  metrics\n",
      "26. Process level 1 = Hospitality Supplies\n",
      "Training - w2v + MLP \"Hospitality Supplies\"\n",
      " Display MLP test  metrics\n",
      "27. Process level 1 = Furniture\n",
      "Training - w2v + MLP \"Furniture\"\n",
      " Display MLP test  metrics\n",
      "28. Process level 1 = Power Sports\n",
      "Training - w2v + MLP \"Power Sports\"\n",
      " Display MLP test  metrics\n",
      "29. Process level 1 = Power Transmission & Motion Control\n",
      "len(x_subset_w2v) = 0. Not  process len(x_subset_w2v) < 10\n",
      "30. Process level 1 = Marine\n"
     ]
    },
    {
     "name": "stderr",
     "output_type": "stream",
     "text": [
      "ERROR:root:number of smaple error 1. len ( x_subset_w2v) = 12.  Exception occurred: The test_size = 1 should be greater or equal to the number of classes = 2\n",
      "Traceback (most recent call last):\n",
      "  File \"C:\\Users\\iny2819\\AppData\\Local\\Temp\\ipykernel_23904\\3530044818.py\", line 41, in <module>\n",
      "    proc_pred_mlp(level_1)\n",
      "  File \"C:\\Users\\iny2819\\AppData\\Local\\Temp\\ipykernel_23904\\2984912218.py\", line 7, in proc_pred_mlp\n",
      "    mlp.fit(X_train, y_train)\n",
      "  File \"C:\\Users\\iny2819\\AppData\\Local\\anaconda3\\lib\\site-packages\\sklearn\\neural_network\\_multilayer_perceptron.py\", line 747, in fit\n",
      "    return self._fit(X, y, incremental=False)\n",
      "  File \"C:\\Users\\iny2819\\AppData\\Local\\anaconda3\\lib\\site-packages\\sklearn\\neural_network\\_multilayer_perceptron.py\", line 471, in _fit\n",
      "    self._fit_stochastic(\n",
      "  File \"C:\\Users\\iny2819\\AppData\\Local\\anaconda3\\lib\\site-packages\\sklearn\\neural_network\\_multilayer_perceptron.py\", line 583, in _fit_stochastic\n",
      "    X, X_val, y, y_val = train_test_split(\n",
      "  File \"C:\\Users\\iny2819\\AppData\\Local\\anaconda3\\lib\\site-packages\\sklearn\\model_selection\\_split.py\", line 2583, in train_test_split\n",
      "    train, test = next(cv.split(X=arrays[0], y=stratify))\n",
      "  File \"C:\\Users\\iny2819\\AppData\\Local\\anaconda3\\lib\\site-packages\\sklearn\\model_selection\\_split.py\", line 1689, in split\n",
      "    for train, test in self._iter_indices(X, y, groups):\n",
      "  File \"C:\\Users\\iny2819\\AppData\\Local\\anaconda3\\lib\\site-packages\\sklearn\\model_selection\\_split.py\", line 2091, in _iter_indices\n",
      "    raise ValueError(\n",
      "ValueError: The test_size = 1 should be greater or equal to the number of classes = 2\n"
     ]
    },
    {
     "name": "stdout",
     "output_type": "stream",
     "text": [
      "Training - w2v + MLP \"Marine\"\n",
      "31. Process level 1 = Flooring\n",
      "len(x_subset_w2v) = 9. Not  process len(x_subset_w2v) < 10\n",
      "32. Process level 1 = Paints & Coatings\n",
      "Training - w2v + MLP \"Paints & Coatings\"\n",
      " Display MLP test  metrics\n",
      "33. Process level 1 = Building Supplies\n",
      "Training - w2v + MLP \"Building Supplies\"\n",
      " Display MLP test  metrics\n",
      "34. Process level 1 = Musical Instruments\n",
      "len(x_subset_w2v) = 0. Not  process len(x_subset_w2v) < 10\n",
      "35. Process level 1 = Material Handling\n",
      "len(x_subset_w2v) = 3. Not  process len(x_subset_w2v) < 10\n",
      "36. Process level 1 = Agricultural Equipment\n",
      "len(x_subset_w2v) = 2. Not  process len(x_subset_w2v) < 10\n",
      " Elapse_time for evluating LR, MLP and MLP_SMOTE It took 197.238285 seconds - 0hh:3mm:17ss.\n",
      " start time: Sep 14 2023 11:47:05  end time:  Sep 14 2023 11:50:23\n"
     ]
    },
    {
     "data": {
      "text/plain": [
       "(0, 3, 17)"
      ]
     },
     "execution_count": 13,
     "metadata": {},
     "output_type": "execute_result"
    }
   ],
   "source": [
    "start_time = time.time() \n",
    "\n",
    "### import word2vec model trained on entire PIMMART data\n",
    "#model = KeyedVectors.load_word2vec_format('/dbfs/FileStore/tables/DATA_SCIENCE/w2vmodel_053123_PIM_ALL.bin', binary=True)\n",
    "model = KeyedVectors.load_word2vec_format(path + 'w2vmodel_053123_PIM_ALL.bin', binary=True)                                        \n",
    "model.most_similar('chips')\n",
    "adj_ratio = 0.2\n",
    "i =0\n",
    "err_smote_cnt = 0\n",
    "err_smp_cnt = 0\n",
    "#N = 5 \n",
    "dic_level1= constrcut_dic()\n",
    "#dic_level1 = dict(list(dic_level1.items())[3: 5])\n",
    "dic_scure={}\n",
    "l_metrics = []\n",
    "l_metrics_v = []\n",
    "l_no_mdl = []\n",
    "df_unlabel = pd.DataFrame() \n",
    "df_label = pd.DataFrame() \n",
    "\n",
    "\n",
    "for level_1, _ in dic_level1.items():    \n",
    "    print(f'{i}. Process level 1 = {level_1}')    \n",
    "    i += 1    \n",
    "    x_subset_w2v, y_subset_w2v, subset_df, level2_id_map,  id2_level_map, df_subset, X, df_subset_unl =  prepare_data_2(level_1)\n",
    "    \n",
    "    if  len ( x_subset_w2v) < 10: \n",
    "        len_x_subset_w2v = len(x_subset_w2v)\n",
    "        print(f'len(x_subset_w2v) = {len_x_subset_w2v}. Not  process len(x_subset_w2v) < 10')\n",
    "        l_no_mdl.append([level_1, 'Not  process len of data  < 10']) \n",
    "        continue\n",
    "    dic_y = dict(pd.Series(y_subset_w2v).value_counts())  \n",
    "    if len(dic_y.items())  == 1:\n",
    "       print(f'Level1 {level_1} only has one level2. Will skip SMOTE' )\n",
    "       l_no_mdl.append([level_1, 'Only has one level2'])  \n",
    "       continue\n",
    "    try:\n",
    "       #A_train, A_test, B_train, B_test = train_test_split(x_subset_w2v, y_subset_w2v.values, test_size= 0.2, stratify=y_subset_w2v, random_state=42) \n",
    "       X_train, X_test, y_train, y_test = train_test_split(x_subset_w2v, y_subset_w2v.values, test_size= 0.2, stratify=y_subset_w2v, random_state=42)\n",
    "  \n",
    "       proc_pred_mlp(level_1)\n",
    "    except Exception as smp_ve:\n",
    "       err_smp_cnt += 1 \n",
    "       len_x_subset_w2v  = len ( x_subset_w2v)\n",
    "       logging.exception(\"number of smaple error %d. len ( x_subset_w2v) = %d.  Exception occurred: %s\", err_smp_cnt , len_x_subset_w2v,  str(smp_ve))\n",
    "        \n",
    "end_time = time.time()   \n",
    "desc = f'Elapse_time for evluating LR, MLP and MLP_SMOTE'\n",
    "elapse_time (  start_time, end_time, desc)"
   ]
  },
  {
   "cell_type": "code",
   "execution_count": 14,
   "id": "ab505185",
   "metadata": {},
   "outputs": [
    {
     "ename": "NameError",
     "evalue": "name 'stop' is not defined",
     "output_type": "error",
     "traceback": [
      "\u001b[1;31m---------------------------------------------------------------------------\u001b[0m",
      "\u001b[1;31mNameError\u001b[0m                                 Traceback (most recent call last)",
      "Cell \u001b[1;32mIn[14], line 1\u001b[0m\n\u001b[1;32m----> 1\u001b[0m \u001b[43mstop\u001b[49m\n",
      "\u001b[1;31mNameError\u001b[0m: name 'stop' is not defined"
     ]
    }
   ],
   "source": [
    "stop"
   ]
  },
  {
   "cell_type": "code",
   "execution_count": null,
   "id": "30bc5c47",
   "metadata": {},
   "outputs": [],
   "source": [
    "pim_gtin_mapped = pd.read_csv(DBFR + \"Syndigo_Levels_L1_L2_L3.zip\",compression=\"zip\")\n",
    "zip_file = path + \"mlp_unlbel_scores_\"+dte + '.zip'\n",
    "df_unlabel.to_csv(zip_file,compression=\"zip\")"
   ]
  },
  {
   "cell_type": "code",
   "execution_count": null,
   "id": "c1c1a3cf",
   "metadata": {},
   "outputs": [],
   "source": [
    "from datetime import date\n",
    "dte = date.today().strftime('%m%d%y')\n",
    "excel_file = path + \"mlp_unlbel_scores_\"+dte + '.xlsx'\n",
    "from pandas import ExcelWriter\n",
    "from pandas import ExcelFile\n",
    "writer = pd.ExcelWriter(excel_file)\n",
    "df_unlabel.to_excel(writer,'mlp_unlbel_scores')  \n",
    "     \n",
    "writer.close()"
   ]
  },
  {
   "cell_type": "code",
   "execution_count": null,
   "id": "f4abc69f",
   "metadata": {},
   "outputs": [],
   "source": [
    "level_1 = \"Food / Beverages\""
   ]
  },
  {
   "cell_type": "code",
   "execution_count": null,
   "id": "5f5deec0",
   "metadata": {},
   "outputs": [],
   "source": [
    "gtin_inactive = pd.DataFrame() \n",
    "gtin_inactive['GTIN'] = df['GTIN|Ecommerce Description'].apply(lambda x:  x.split('|')[0])\n",
    "                   #synd_ALL[df_obj.columns] = df_obj.apply(lambda x: x.str.strip())\n",
    "gtin_inactive.head()                       "
   ]
  },
  {
   "cell_type": "code",
   "execution_count": null,
   "id": "e6bad2b7",
   "metadata": {},
   "outputs": [],
   "source": [
    "l_gtin_inc = list(df['GTIN|Ecommerce Description'].apply(lambda x:  x.split('|')[0]))\n",
    "l_gtin_ex = [float(x) for x in l_gtin_inc]\n",
    "pim_gtin_mappedx = pim_gtin_mapped[~pim_gtin_mapped.GTIN.isin(l_gtin_ex)] "
   ]
  },
  {
   "cell_type": "code",
   "execution_count": null,
   "id": "4448cfba",
   "metadata": {},
   "outputs": [],
   "source": [
    "l_gtin_ex = [float(x) for x in l_gtin_inc]\n",
    "l_gtin_ex[0:10]"
   ]
  },
  {
   "cell_type": "code",
   "execution_count": null,
   "id": "1f29cb8a",
   "metadata": {},
   "outputs": [],
   "source": [
    "pim_gtin_mappedx = pim_gtin_mapped[~pim_gtin_mapped.GTIN.isin(l_gtin_ex)] \n",
    "pim_gtin_mappedx.shape"
   ]
  },
  {
   "cell_type": "code",
   "execution_count": null,
   "id": "fc2fcb40",
   "metadata": {},
   "outputs": [],
   "source": [
    "df_subset_unl.head()"
   ]
  },
  {
   "cell_type": "code",
   "execution_count": null,
   "id": "75f3d99d",
   "metadata": {},
   "outputs": [],
   "source": [
    "pim_gtin_mappedx.dtypes"
   ]
  },
  {
   "cell_type": "code",
   "execution_count": null,
   "id": "d9bb7856",
   "metadata": {},
   "outputs": [],
   "source": [
    "df.dtypes"
   ]
  },
  {
   "cell_type": "code",
   "execution_count": null,
   "id": "551278f2",
   "metadata": {},
   "outputs": [],
   "source": [
    "type(A_test)"
   ]
  },
  {
   "cell_type": "code",
   "execution_count": null,
   "id": "b2d8e3cd",
   "metadata": {},
   "outputs": [],
   "source": [
    "df_unlabel.head()"
   ]
  },
  {
   "cell_type": "code",
   "execution_count": null,
   "id": "21bbf2aa",
   "metadata": {},
   "outputs": [],
   "source": [
    "df_subset_unl.shape"
   ]
  },
  {
   "cell_type": "code",
   "execution_count": null,
   "id": "20b75dab",
   "metadata": {},
   "outputs": [],
   "source": [
    "len(X)"
   ]
  },
  {
   "cell_type": "code",
   "execution_count": null,
   "id": "aecf44d7",
   "metadata": {},
   "outputs": [],
   "source": [
    "level_1 = \"Marine\"\n",
    "x_subset_w2v, y_subset_w2v, subset_df, level2_id_map,  id2_level_map, df_subset, X, df_subset_unl =  prepare_data_2(level_1)"
   ]
  },
  {
   "cell_type": "code",
   "execution_count": null,
   "id": "46078d53",
   "metadata": {},
   "outputs": [],
   "source": [
    "    X_train, X_test, y_train, y_test = train_test_split(x_subset_w2v, y_subset_w2v.values, test_size= 0.2, stratify=y_subset_w2v, random_state=42)"
   ]
  },
  {
   "cell_type": "code",
   "execution_count": null,
   "id": "98a8903c",
   "metadata": {},
   "outputs": [],
   "source": [
    "     mlp = MLPClassifier(hidden_layer_sizes=(200,), activation = 'relu', learning_rate= 'adaptive', early_stopping= True)\n",
    "     #print(f\"Test size: {len(A_test)}\\nTrain size: {len(A_train)}\\n\")\n",
    "     print(f\"Training - w2v + MLP \\\"{level_1}\\\"\")\n",
    "     warnings.filterwarnings(\"ignore\", category=UserWarning)\n",
    "     mlp.fit(X_train, y_train)\n",
    "     print(' Display MLP test  metrics')\n",
    "     preds_test_mlp = mlp.predict(X_test)\n",
    "     #df_test = proc_prob(X_test, A_test, desc= \"Test\") "
   ]
  },
  {
   "cell_type": "code",
   "execution_count": null,
   "id": "eb271d83",
   "metadata": {},
   "outputs": [],
   "source": [
    "    mdl_data = X\n",
    "    df_base = df_subset_unl\n",
    "    desc= False\n",
    "\n",
    "    preds = list(mlp.predict(mdl_data)) \n",
    "    probx = mlp.predict_proba(mdl_data)\n",
    "    probs = []\n",
    "    for i in range(len(mdl_data)):\n",
    "      probs.append(probx[i][np.argsort(probx[i])][::-1][:1])\n",
    "    probs = [element for sublist in list(probs) for element in sublist]\n",
    "    data = {'Predict': preds, 'Scores': probs}\n",
    "    df_pred= pd.DataFrame(data)\n",
    "    if desc == False: pass\n",
    "    else:\n",
    "       df_pred['Type'] = desc\n",
    "    df_pred['Predict'] = df_pred['Predict'].fillna('Other').map(id2_level_map) \n",
    "    df_merg = pd.merge( df_base, df_pred, left_index=True, right_index=True)\n",
    "    "
   ]
  },
  {
   "cell_type": "code",
   "execution_count": null,
   "id": "93bbbadd",
   "metadata": {},
   "outputs": [],
   "source": [
    "    subset_df_unl = pim_gtin_mapped[pim_gtin_mapped['Level1'] == level_1]\n",
    "    subset_df_unl.reset_index(inplace = True)\n",
    "    X  = np.array(list(subset_df_unl.ITEM_SUBCOM_text.apply(lambda x: get_item_vector(x.split(' ')))))"
   ]
  },
  {
   "cell_type": "code",
   "execution_count": null,
   "id": "c3f4d3c8",
   "metadata": {},
   "outputs": [],
   "source": [
    "df_base.reset_index(inplace = True)"
   ]
  },
  {
   "cell_type": "code",
   "execution_count": null,
   "id": "ef5a8edb",
   "metadata": {},
   "outputs": [],
   "source": [
    " df_pred.shape"
   ]
  },
  {
   "cell_type": "code",
   "execution_count": null,
   "id": "c3a7234b",
   "metadata": {},
   "outputs": [],
   "source": [
    "len(X)"
   ]
  },
  {
   "cell_type": "code",
   "execution_count": null,
   "id": "b6f17ffb",
   "metadata": {},
   "outputs": [],
   "source": [
    " subset_df_unl.head()"
   ]
  },
  {
   "cell_type": "code",
   "execution_count": null,
   "id": "3a9eb41b",
   "metadata": {},
   "outputs": [],
   "source": [
    " type(subset_df_unl)"
   ]
  },
  {
   "cell_type": "code",
   "execution_count": null,
   "id": "33904830",
   "metadata": {},
   "outputs": [],
   "source": [
    "df_merg = pd.merge( df_base, df_pred, left_index=True, right_index=True)"
   ]
  },
  {
   "cell_type": "code",
   "execution_count": null,
   "id": "47e6ff93",
   "metadata": {},
   "outputs": [],
   "source": [
    "df_merg.head()"
   ]
  },
  {
   "cell_type": "code",
   "execution_count": null,
   "id": "a838c95d",
   "metadata": {},
   "outputs": [],
   "source": [
    "df_unlabel.shape"
   ]
  },
  {
   "cell_type": "code",
   "execution_count": null,
   "id": "a4ffeb2f",
   "metadata": {},
   "outputs": [],
   "source": [
    "df_unl  = proc_prob(X, df_subset_unl)"
   ]
  },
  {
   "cell_type": "code",
   "execution_count": null,
   "id": "d0c4c4c1",
   "metadata": {},
   "outputs": [],
   "source": [
    "df_unl.head()"
   ]
  },
  {
   "cell_type": "code",
   "execution_count": null,
   "id": "f15c7881",
   "metadata": {},
   "outputs": [],
   "source": [
    "df_unlabel  = df_unlabel + df_unl"
   ]
  },
  {
   "cell_type": "code",
   "execution_count": null,
   "id": "0f5f61f3",
   "metadata": {},
   "outputs": [],
   "source": [
    "df_unlabel= "
   ]
  },
  {
   "cell_type": "code",
   "execution_count": null,
   "id": "f15e23e8",
   "metadata": {},
   "outputs": [],
   "source": [
    "df_unlabel.head()"
   ]
  },
  {
   "cell_type": "code",
   "execution_count": null,
   "id": "dae02d70",
   "metadata": {},
   "outputs": [],
   "source": [
    "df_unlabel = pd.DataFrame() "
   ]
  },
  {
   "cell_type": "code",
   "execution_count": null,
   "id": "bb12ec9d",
   "metadata": {},
   "outputs": [],
   "source": [
    "df_unlabel  = df_unlabel + df_unl"
   ]
  },
  {
   "cell_type": "code",
   "execution_count": null,
   "id": "cb917ed4",
   "metadata": {},
   "outputs": [],
   "source": [
    "df_unl.columns.values"
   ]
  },
  {
   "cell_type": "code",
   "execution_count": null,
   "id": "d1910681",
   "metadata": {},
   "outputs": [],
   "source": [
    "col = ['index', 'VND_ECOM_DSC', 'Level1', 'L1_Scores', 'Level2',\n",
    "       'L2_Scores', 'GTIN', 'PMY_DPT_CD', 'PMY_DPT_DSC', 'REC_DPT_CD',\n",
    "       'REC_DPT_DSC', 'DPT_CD', 'DPT_DSC', 'COM_CD', 'COM_DSC',\n",
    "       'SUBCOM_CD', 'SUBCOM_DSC', 'ITM_ID', 'L1_Percent', 'L2_Percent',\n",
    "       'L2_Flag', 'Score', 'Level3', 'ITEM_SUBCOM_text', 'Predict',\n",
    "       'Scores']\n",
    "df_unlabel= pd.DataFrame(columns=col)"
   ]
  },
  {
   "cell_type": "code",
   "execution_count": null,
   "id": "7b420e30",
   "metadata": {},
   "outputs": [],
   "source": [
    "df_unlabel  = pd.concat([df_unlabel, df_unl])"
   ]
  },
  {
   "cell_type": "code",
   "execution_count": null,
   "id": "7bec928c",
   "metadata": {},
   "outputs": [],
   "source": [
    "df_unlabel.head()"
   ]
  },
  {
   "cell_type": "code",
   "execution_count": null,
   "id": "6c7d67b2",
   "metadata": {},
   "outputs": [],
   "source": [
    "df_unx = pd.DataFrame()\n",
    "df_unx   = pd.concat([df_unx, df_unl])"
   ]
  },
  {
   "cell_type": "code",
   "execution_count": null,
   "id": "8df23912",
   "metadata": {},
   "outputs": [],
   "source": [
    "subset_df_unl.head()"
   ]
  },
  {
   "cell_type": "code",
   "execution_count": 15,
   "id": "fa6ef1e2",
   "metadata": {},
   "outputs": [],
   "source": [
    "level_1 = \"Marine\""
   ]
  },
  {
   "cell_type": "code",
   "execution_count": 16,
   "id": "63d78f99",
   "metadata": {
    "scrolled": true
   },
   "outputs": [],
   "source": [
    "    subset_df = syndigo_mapped[syndigo_mapped['Level 1'] == level_1]\n",
    "    series =  subset_df['Level 2'].value_counts(ascending=True, dropna = False)\n",
    "    subset_df = subset_df.drop(subset_df[subset_df['Level 2'].isin(series[series  == 1 ].index.tolist())].index)  \n",
    "    \n",
    "    x_subset_w2v = np.array(list(subset_df.ITEM_SUBCOM_text.apply(lambda x: get_item_vector(x.split(' ')))))                                            \n",
    "    level2_id_map = dict(zip(subset_df['Level 2'].fillna('Other').unique(), range(subset_df['Level 2'].fillna('Other').nunique())))\n",
    "    id2_level_map = dict(zip(range(subset_df['Level 2'].fillna('Other').nunique()), subset_df['Level 2'].fillna('Other').unique()))\n",
    "    y_subset_w2v  = subset_df['Level 2'].fillna('Other').map(level2_id_map)\n",
    "    \n",
    "    subset_df_unl = pim_gtin_mapped[pim_gtin_mapped['Level1'] == level_1]\n",
    "    subset_df_unl.reset_index(inplace = True, drop=True)\n",
    "    X  = np.array(list(subset_df_unl.ITEM_SUBCOM_text.apply(lambda x: get_item_vector(x.split(' '))))) "
   ]
  },
  {
   "cell_type": "code",
   "execution_count": 18,
   "id": "5859c4d8",
   "metadata": {},
   "outputs": [
    {
     "data": {
      "text/plain": [
       "(12, 24)"
      ]
     },
     "execution_count": 18,
     "metadata": {},
     "output_type": "execute_result"
    }
   ],
   "source": [
    "subset_df.shape"
   ]
  },
  {
   "cell_type": "code",
   "execution_count": null,
   "id": "f6e49521",
   "metadata": {},
   "outputs": [],
   "source": [
    "subset_df_unl.columns.values"
   ]
  },
  {
   "cell_type": "code",
   "execution_count": null,
   "id": "144a0233",
   "metadata": {},
   "outputs": [],
   "source": [
    "pim_gtin_mappedsubset_df.columns.values"
   ]
  },
  {
   "cell_type": "code",
   "execution_count": 22,
   "id": "9b1d96e9",
   "metadata": {},
   "outputs": [
    {
     "data": {
      "text/plain": [
       "Heating, Ventilation, & Air Conditioning    9\n",
       "Docking & Mooring                           3\n",
       "Name: Level 2, dtype: int64"
      ]
     },
     "execution_count": 22,
     "metadata": {},
     "output_type": "execute_result"
    }
   ],
   "source": [
    "subset_df['Level 2'].value_counts()"
   ]
  },
  {
   "cell_type": "code",
   "execution_count": 24,
   "id": "6dcb9c01",
   "metadata": {},
   "outputs": [],
   "source": [
    "  X_train, X_test, y_train, y_test = train_test_split(x_subset_w2v, y_subset_w2v.values, test_size= 0.2, stratify=y_subset_w2v, random_state=42)"
   ]
  },
  {
   "cell_type": "code",
   "execution_count": 26,
   "id": "32e674e8",
   "metadata": {},
   "outputs": [
    {
     "ename": "AttributeError",
     "evalue": "'numpy.ndarray' object has no attribute 'value_counts'",
     "output_type": "error",
     "traceback": [
      "\u001b[1;31m---------------------------------------------------------------------------\u001b[0m",
      "\u001b[1;31mAttributeError\u001b[0m                            Traceback (most recent call last)",
      "Cell \u001b[1;32mIn[26], line 1\u001b[0m\n\u001b[1;32m----> 1\u001b[0m \u001b[43my_train\u001b[49m\u001b[38;5;241;43m.\u001b[39;49m\u001b[43mvalue_counts\u001b[49m()\n",
      "\u001b[1;31mAttributeError\u001b[0m: 'numpy.ndarray' object has no attribute 'value_counts'"
     ]
    }
   ],
   "source": [
    "y_train.value_counts()"
   ]
  },
  {
   "cell_type": "code",
   "execution_count": 28,
   "id": "f01a6f62",
   "metadata": {},
   "outputs": [
    {
     "data": {
      "text/plain": [
       "9"
      ]
     },
     "execution_count": 28,
     "metadata": {},
     "output_type": "execute_result"
    }
   ],
   "source": [
    "syndigo_mapped['Level 1'].value_counts() "
   ]
  },
  {
   "cell_type": "code",
   "execution_count": 29,
   "id": "96220672",
   "metadata": {},
   "outputs": [
    {
     "data": {
      "text/plain": [
       "Level1                                    Level2                                                  \n",
       "Agricultural Equipment                    Tires                                                           25\n",
       "Apparel                                   Clothing                                                    265350\n",
       "                                          Personal Accessories                                          7229\n",
       "                                          Footwear                                                       509\n",
       "                                          Safety Apparel                                                  77\n",
       "Appliances                                Small Appliances                                             15865\n",
       "                                          Parts & Accessories                                              3\n",
       "Arts & Crafts                             Drawing Tools                                                58903\n",
       "                                          Craft Kits                                                    8372\n",
       "                                          Paper / Canvas / Wood Boards                                  3557\n",
       "                                          Painting & Drawing                                            2547\n",
       "                                          Stickers                                                      1039\n",
       "                                          Weaving & Spinning                                             321\n",
       "                                          Needlework & Toy Making                                         72\n",
       "                                          Pottery & Sculpting                                             56\n",
       "                                          Paper & Card Making                                             12\n",
       "Automotive                                Fluids, Chemicals, Compounds                                 24035\n",
       "                                          Accessories                                                    809\n",
       "                                          Electrical & Electronics                                       245\n",
       "                                          Chassis Interior & Exterior                                     12\n",
       "                                          Engine                                                           5\n",
       "                                          Tools                                                            1\n",
       "Beer / Wine / Spirits                     Wine                                                         41548\n",
       "                                          Beer                                                         25692\n",
       "                                          Spirits                                                      19959\n",
       "                                          Flavored Alcoholic Beverages                                  2072\n",
       "                                          Ciders & Perrys                                                486\n",
       "Books & Videos                            Printed Media                                                74099\n",
       "Building Supplies                         Concrete, Asphalt, Rebar & Accessories                        2359\n",
       "                                          Fencing                                                        354\n",
       "                                          Rain Guttering                                                 226\n",
       "                                          Blocks & Bricks                                                142\n",
       "                                          Drywall, Wallboard, Gypsum & Stucco                             25\n",
       "Childcare                                 Baby Care                                                    36519\n",
       "Cleaning & Janitorial                     Cleaning Chemicals                                           72051\n",
       "                                          General Cleaning Tools                                       15191\n",
       "                                          Storage & Organization                                       14844\n",
       "                                          Air Fresheners                                               14582\n",
       "                                          Paper Products                                                6801\n",
       "                                          Trash & Recycling                                             2983\n",
       "                                          Vacuum Parts & Accessories                                      41\n",
       "                                          Vacuums & Air Dusters                                           33\n",
       "                                          Moisture & Mildew Absorbers                                     27\n",
       "                                          Product Dispensers                                              11\n",
       "Electrical                                Wire, Cable & Cord                                           14887\n",
       "                                          Distribution                                                  1096\n",
       "                                          Wall Plates                                                    215\n",
       "                                          Accessories                                                     32\n",
       "                                          Switches                                                        30\n",
       "                                          Conduit, Raceways, Fittings & Accessories                       16\n",
       "Electronics                               Audio & Video                                                38981\n",
       "                                          Computers                                                    35288\n",
       "                                          Power Management                                             26925\n",
       "                                          Video Games & Systems                                        11512\n",
       "                                          Telephones & Communications                                   4975\n",
       "                                          Cables & Cable Adapters                                       2918\n",
       "                                          Data Storage                                                  1102\n",
       "                                          Cameras & Camcorders                                           359\n",
       "                                          Office Electronics                                             110\n",
       "                                          Emergency Alert Radios                                           2\n",
       "Flooring                                  Carpeting & Area Rugs                                         1237\n",
       "Food / Beverages                          Grocery                                                     548126\n",
       "                                          Beverages                                                    61432\n",
       "                                          Meat / Poultry / Seafood / Meat Substitutes (Perishable)     45274\n",
       "                                          Bakery / Deli                                                43211\n",
       "                                          Frozen Foods                                                 43076\n",
       "                                          Dairy & Egg Products                                         24363\n",
       "                                          Produce                                                      11539\n",
       "                                          Baby & Toddler Food                                           4403\n",
       "                                          Meal Kits (Perishable)                                         185\n",
       "Furniture                                 Office                                                       11889\n",
       "                                          Childrens Furniture                                           1309\n",
       "                                          Dining Room                                                      5\n",
       "Gardening & Outdoors                      Gardening                                                   149475\n",
       "                                          Outdoor Living                                               38196\n",
       "                                          Outdoor Power Equipment                                        468\n",
       "Hardware                                  Fasteners                                                    43816\n",
       "                                          Adhesives & Sealing Products                                  2275\n",
       "                                          Keys & Padlocks                                               1688\n",
       "                                          Builders Hardware                                              495\n",
       "                                          Chain & Rope                                                     7\n",
       "                                          Lubricants                                                       1\n",
       "Health & Beauty                           Personal Care                                               264590\n",
       "                                          Cosmetics & Fragrances                                      250710\n",
       "                                          Healthcare                                                   53612\n",
       "                                          Vitamins & Dietary Supplements                               46158\n",
       "                                          Health Treatments                                            21466\n",
       "Heating / Ventilation / Air Conditioning  Air Treatment                                                 5996\n",
       "                                          Heating                                                       2232\n",
       "Home & Venue Decoration                   Holiday Decorations                                         227084\n",
       "                                          Special Occasion & Party Supplies                           134262\n",
       "                                          Candles & Accessories                                        65864\n",
       "                                          Linens                                                       61879\n",
       "                                          Window Treatments                                             3720\n",
       "                                          Wall Decoration                                                532\n",
       "                                          Clocks & Thermometers                                          440\n",
       "                                          Decorative Accessories                                         228\n",
       "                                          Incense & Accessories                                           95\n",
       "Hospitality Supplies                      Paper / Plastic / Foam Plates & Bowls                         4662\n",
       "                                          Paper / Plastic / Foam Cups                                   1949\n",
       "                                          Plastic Flatware                                               277\n",
       "Kitchen & Bathroom                        Kitchen                                                     135772\n",
       "                                          Bathroom                                                      1637\n",
       "                                          Faucets                                                         78\n",
       "                                          Utility Sinks & Accessories                                      5\n",
       "Lighting & Fans                           Light Bulbs                                                  35160\n",
       "                                          Flashlights & Chargers                                        1177\n",
       "                                          Fans                                                          1075\n",
       "                                          Interior Lighting                                              625\n",
       "                                          Exterior Lighting                                                5\n",
       "                                          Stage / Event Lighting & Effects                                 1\n",
       "Livestock & Pet Supplies                  Pet Supplies                                                 83135\n",
       "Marine                                    Heating, Ventilation, & Air Conditioning                       140\n",
       "Material Handling                         Drum & Barrel Parts / Accessories                                5\n",
       "Office Supplies                           Greeting Cards & Gift Packaging                             195676\n",
       "                                          Writing Instruments & Accessories                            48006\n",
       "                                          Stationery                                                   12149\n",
       "                                          Shipping and Packaging                                        9167\n",
       "                                          Filing & Storage                                              6485\n",
       "                                          Organizational Planning Stationery                            3888\n",
       "                                          Office Fasteners                                              2464\n",
       "                                          Stationery Cutters & Trimmers                                  639\n",
       "                                          Binding                                                         75\n",
       "Paints & Coatings                         Tools & Supplies                                              1826\n",
       "Plumbing & Water Service                  Plumbing                                                      6684\n",
       "Power Sports                              Apparel                                                       1920\n",
       "Sports & Outdoor Recreation Equipment     Water Bottles & Caps                                         24853\n",
       "                                          Exercise / Fitness                                            1293\n",
       "                                          Cycling                                                        943\n",
       "                                          Golf                                                           265\n",
       "                                          Camping & Hiking                                               178\n",
       "                                          Baseball / Softball                                            160\n",
       "                                          Water Sports & Recreation                                       33\n",
       "                                          Hunting & Fishing                                               27\n",
       "                                          Lawn Games                                                      12\n",
       "                                          Racquet Sports                                                   9\n",
       "                                          Football                                                         8\n",
       "Tobacco Products                          Cigars                                                        4104\n",
       "                                          Cigarettes                                                    1555\n",
       "                                          Snuff                                                          110\n",
       "                                          Vaporizers                                                      95\n",
       "                                          Chewing Tobacco                                                 64\n",
       "                                          Raw Tobacco                                                     12\n",
       "Tools                                     Hand Tools                                                   31137\n",
       "                                          Power Tool Accessories                                        1246\n",
       "                                          Portable Powered Tools                                         193\n",
       "                                          Air Compressors                                                 23\n",
       "Toys / Games / Hobbies                    Toy Figures                                                  94279\n",
       "                                          Games & Puzzles                                              25417\n",
       "                                          Baby Toys & Games                                            11717\n",
       "                                          Toy Vehicles                                                  8872\n",
       "                                          Role Playing & Pretend Play                                   5460\n",
       "                                          Construction & Modeling                                       3584\n",
       "                                          Outdoor Toys & Games                                          1415\n",
       "                                          Sports Toys & Games                                            305\n",
       "Name: Level2, dtype: int64"
      ]
     },
     "execution_count": 29,
     "metadata": {},
     "output_type": "execute_result"
    }
   ],
   "source": [
    "pim_gtin_mapped.groupby('Level1')['Level2'].value_counts(dropna = False)\n"
   ]
  },
  {
   "cell_type": "code",
   "execution_count": 31,
   "id": "27e7b1b9",
   "metadata": {},
   "outputs": [
    {
     "data": {
      "text/plain": [
       "MultiIndex([('Agricultural Equipment',                        'Tires'),\n",
       "            (               'Apparel',                     'Clothing'),\n",
       "            (               'Apparel',         'Personal Accessories'),\n",
       "            (               'Apparel',                     'Footwear'),\n",
       "            (               'Apparel',               'Safety Apparel'),\n",
       "            (            'Appliances',             'Small Appliances'),\n",
       "            (            'Appliances',          'Parts & Accessories'),\n",
       "            (         'Arts & Crafts',                'Drawing Tools'),\n",
       "            (         'Arts & Crafts',                   'Craft Kits'),\n",
       "            (         'Arts & Crafts', 'Paper / Canvas / Wood Boards'),\n",
       "            ...\n",
       "            (                 'Tools',       'Portable Powered Tools'),\n",
       "            (                 'Tools',              'Air Compressors'),\n",
       "            ('Toys / Games / Hobbies',                  'Toy Figures'),\n",
       "            ('Toys / Games / Hobbies',              'Games & Puzzles'),\n",
       "            ('Toys / Games / Hobbies',            'Baby Toys & Games'),\n",
       "            ('Toys / Games / Hobbies',                 'Toy Vehicles'),\n",
       "            ('Toys / Games / Hobbies',  'Role Playing & Pretend Play'),\n",
       "            ('Toys / Games / Hobbies',      'Construction & Modeling'),\n",
       "            ('Toys / Games / Hobbies',         'Outdoor Toys & Games'),\n",
       "            ('Toys / Games / Hobbies',          'Sports Toys & Games')],\n",
       "           names=['Level1', 'Level2'], length=155)"
      ]
     },
     "execution_count": 31,
     "metadata": {},
     "output_type": "execute_result"
    }
   ],
   "source": [
    "#type(pim_gtin_mapped.groupby('Level1')['Level2'].value_counts(dropna = False)) # pandas.core.series.Series\n",
    "s_pim = pim_gtin_mapped.groupby('Level1')['Level2'].value_counts(dropna = False)\n",
    "s_pim.index "
   ]
  },
  {
   "cell_type": "code",
   "execution_count": null,
   "id": "8292bdad",
   "metadata": {},
   "outputs": [],
   "source": []
  }
 ],
 "metadata": {
  "kernelspec": {
   "display_name": "Python 3 (ipykernel)",
   "language": "python",
   "name": "python3"
  },
  "language_info": {
   "codemirror_mode": {
    "name": "ipython",
    "version": 3
   },
   "file_extension": ".py",
   "mimetype": "text/x-python",
   "name": "python",
   "nbconvert_exporter": "python",
   "pygments_lexer": "ipython3",
   "version": "3.10.9"
  }
 },
 "nbformat": 4,
 "nbformat_minor": 5
}
