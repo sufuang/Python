{
 "cells": [
  {
   "cell_type": "markdown",
   "id": "67066974",
   "metadata": {},
   "source": [
    "# wip_ds"
   ]
  },
  {
   "cell_type": "markdown",
   "id": "5a1e9b77",
   "metadata": {},
   "source": [
    "## gensim.models:  Word2Vec"
   ]
  },
  {
   "cell_type": "code",
   "execution_count": 1,
   "id": "43ff5818",
   "metadata": {},
   "outputs": [
    {
     "data": {
      "text/plain": [
       "[('chips,', 0.7620069980621338),\n",
       " ('puffed/popped', 0.6928106546401978),\n",
       " ('veggie/grain', 0.6568589210510254),\n",
       " ('chips.', 0.6461755037307739),\n",
       " ('popped', 0.6434525847434998),\n",
       " ('snacks', 0.6221341490745544),\n",
       " ('crisps', 0.6071634292602539),\n",
       " ('thins', 0.5962806344032288),\n",
       " ('<', 0.570486307144165),\n",
       " ('kurokirishima', 0.5686667561531067)]"
      ]
     },
     "execution_count": 1,
     "metadata": {},
     "output_type": "execute_result"
    }
   ],
   "source": [
    "from gensim.models import Word2Vec, KeyedVectors\n",
    "path = 'C:\\\\users\\\\iny2819\\\\kroger\\\\Data\\\\'   \n",
    "model = KeyedVectors.load_word2vec_format(path+'w2vmodel_053123_PIM_ALL.bin', binary=True)\n",
    "model.most_similar('chips')"
   ]
  },
  {
   "cell_type": "code",
   "execution_count": 4,
   "id": "3c78226f",
   "metadata": {},
   "outputs": [
    {
     "data": {
      "text/plain": [
       "array([0., 0., 0., 0., 0., 0., 0., 0., 0., 0., 0., 0., 0., 0., 0., 0., 0.,\n",
       "       0., 0., 0., 0., 0., 0., 0., 0., 0., 0., 0., 0., 0., 0., 0., 0., 0.,\n",
       "       0., 0., 0., 0., 0., 0., 0., 0., 0., 0., 0., 0., 0., 0., 0., 0., 0.,\n",
       "       0., 0., 0., 0., 0., 0., 0., 0., 0., 0., 0., 0., 0., 0., 0., 0., 0.,\n",
       "       0., 0., 0., 0., 0., 0., 0., 0., 0., 0., 0., 0., 0., 0., 0., 0., 0.,\n",
       "       0., 0., 0., 0., 0., 0., 0., 0., 0., 0., 0., 0., 0., 0., 0., 0., 0.,\n",
       "       0., 0., 0., 0., 0., 0., 0., 0., 0., 0., 0., 0., 0., 0., 0., 0., 0.,\n",
       "       0., 0., 0., 0., 0., 0., 0., 0., 0., 0., 0., 0., 0., 0., 0., 0., 0.,\n",
       "       0., 0., 0., 0., 0., 0., 0., 0., 0., 0., 0., 0., 0., 0.],\n",
       "      dtype=float32)"
      ]
     },
     "execution_count": 4,
     "metadata": {},
     "output_type": "execute_result"
    }
   ],
   "source": [
    " \n",
    "import numpy as np\n",
    "vect = np.zeros_like(model.get_vector('chips'))\n",
    "vect   "
   ]
  },
  {
   "cell_type": "markdown",
   "id": "67edc2eb",
   "metadata": {},
   "source": [
    "## Save ML algorithm "
   ]
  },
  {
   "cell_type": "code",
   "execution_count": 2,
   "id": "2baaae3d",
   "metadata": {},
   "outputs": [
    {
     "data": {
      "text/plain": [
       "array([0, 1, 1, 1, 0, 1, 2, 1, 2, 0, 0, 2, 2, 2, 0, 2, 2, 0, 1, 1, 1, 0,\n",
       "       2, 0, 0, 2, 0, 0, 2, 1, 0, 2, 0, 1, 2, 0, 0, 0, 0, 1, 0, 2, 2, 2,\n",
       "       1])"
      ]
     },
     "execution_count": 2,
     "metadata": {},
     "output_type": "execute_result"
    }
   ],
   "source": [
    "# https://www.geeksforgeeks.org/saving-a-machine-learning-model/\n",
    "from sklearn.neighbors import KNeighborsClassifier as KNN\n",
    "import numpy as np\n",
    "from sklearn.model_selection import train_test_split\n",
    "  \n",
    "# Load dataset\n",
    "from sklearn.datasets import load_iris\n",
    "iris = load_iris()\n",
    "  \n",
    "X = iris.data\n",
    "y = iris.target\n",
    "  \n",
    "# Split dataset into train and test\n",
    "X_train, X_test, y_train, y_test = \\\n",
    "    train_test_split(X, y, test_size=0.3,\n",
    "                     random_state=2018)\n",
    "  \n",
    "# import KNeighborsClassifier model\n",
    "knn = KNN(n_neighbors=3)\n",
    "  \n",
    "# train model\n",
    "knn.fit(X_train, y_train)\n",
    "\n",
    "\n",
    "import pickle\n",
    "  \n",
    "# Save the trained model as a pickle string.\n",
    "saved_model = pickle.dumps(knn)\n",
    "  \n",
    "# Load the pickled model\n",
    "knn_from_pickle = pickle.loads(saved_model)\n",
    "  \n",
    "# Use the loaded pickled model to make predictions\n",
    "knn_from_pickle.predict(X_test)\n"
   ]
  },
  {
   "cell_type": "code",
   "execution_count": null,
   "id": "6f3407e8",
   "metadata": {},
   "outputs": [],
   "source": [
    "import joblib\n",
    "  \n",
    "  \n",
    "# Save the model as a pickle in a file\n",
    "joblib.dump(knn, 'filename.pkl')\n",
    "  \n",
    "# Load the model from the file\n",
    "knn_from_joblib = joblib.load('filename.pkl')\n",
    "  \n",
    "# Use the loaded model to make predictions\n",
    "knn_from_joblib.predict(X_test)"
   ]
  }
 ],
 "metadata": {
  "kernelspec": {
   "display_name": "Python 3 (ipykernel)",
   "language": "python",
   "name": "python3"
  },
  "language_info": {
   "codemirror_mode": {
    "name": "ipython",
    "version": 3
   },
   "file_extension": ".py",
   "mimetype": "text/x-python",
   "name": "python",
   "nbconvert_exporter": "python",
   "pygments_lexer": "ipython3",
   "version": "3.10.9"
  }
 },
 "nbformat": 4,
 "nbformat_minor": 5
}
