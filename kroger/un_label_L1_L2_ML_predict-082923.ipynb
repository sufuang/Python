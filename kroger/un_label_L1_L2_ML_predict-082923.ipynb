{
 "cells": [
  {
   "cell_type": "markdown",
   "metadata": {},
   "source": [
    "# un_label_L1_L2_ML_predict\n",
    "  - module name: un_label_L1_L2_ML_predict.ipynb\n",
    "  - Purpose: Load pickle file and predict unlable data "
   ]
  },
  {
   "cell_type": "code",
   "execution_count": 1,
   "metadata": {},
   "outputs": [],
   "source": [
    "def prepare_data_1():\n",
    "    pgm = inspect.currentframe().f_code.co_name  \n",
    "    start_time = time.time() \n",
    "    # Reading PIMMART data\n",
    "    pim_gtin_mapped = pd.read_csv(DBFR + \"PIM_Data_New_50_82Mn.csv\", dtype=object) # (5082212, 24)\n",
    "    for i in ['SUBCOM_CD', 'DPT_CD', 'COM_CD','PMY_DPT_CD', 'REC_DPT_CD', 'ITM_ID', 'GTIN']:\n",
    "         pim_gtin_mapped[i] = pim_gtin_mapped[i].astype(np.float64)\n",
    "    \n",
    "    # drop 'Level 1' ~ 'Level 10'\n",
    "    l_rmv_col =['ITM_ID_y','Level 1', 'Level 2',\n",
    "       'Level 3', 'Level 4', 'Level 5', 'Level 6', 'Level 7', 'Level 8',\n",
    "       'Level 9', 'Level 10']\n",
    "    pim_gtin_mapped.drop(columns = l_rmv_col, inplace = True ) \n",
    "\n",
    "    pim_gtin_mapped.drop_duplicates('GTIN', inplace = True)\n",
    "    pim_gtin_mapped['ITEM_SUBCOM_text'] = \\\n",
    "    (pim_gtin_mapped.VND_ECOM_DSC + ' ' + pim_gtin_mapped.SUBCOM_DSC).fillna('').str.lower()\n",
    "    #syndigo_mapped['Level 1'].value_counts()\n",
    "    #print(f'syndigo_mapped.shape {syndigo_mapped.shape}') \n",
    "    #print(f'syndigo_mapped.info() {syndigo_mapped.info()}') \n",
    "    #print(f'syndigo_mapped.head() {syndigo_mapped.head()}') \n",
    "    #print(f'syndigo_mapped.columns {syndigo_mapped.columns}') \n",
    " \n",
    "    return pim_gtin_mapped"
   ]
  },
  {
   "cell_type": "code",
   "execution_count": 2,
   "metadata": {},
   "outputs": [],
   "source": [
    "def prepare_data_2(samp_frac = 1, embed_typ = 'tfidf'):\n",
    "  \n",
    "    start_time = time.time()\n",
    "    pgm = inspect.currentframe().f_code.co_name \n",
    "    global pim_gtin_mapped, model\n",
    "    print(f' samp_frac = {samp_frac}') \n",
    "\n",
    "    pim_gtin_mapped = pim_gtin_mapped_bkup.copy()\n",
    "    print (f'Before sample pim_gtin_mapped.shape {pim_gtin_mapped.shape }')\n",
    "    whole_frac = 1\n",
    "    if samp_frac  < whole_frac :   pim_gtin_mapped = pim_gtin_mapped.sample(frac = samp_frac,  random_state=42)   \n",
    "    print (f'After sample pim_gtin_mapped.shape {pim_gtin_mapped.shape }')    \n",
    "    \n",
    "   \n",
    "    if embed_typ == 'tfidf': \n",
    "        vect = TfidfVectorizer(ngram_range = (1,2), max_features = 50000) \n",
    "        X = vect.fit_transform(pim_gtin_mapped.ITEM_SUBCOM_text) #scipy.sparse._csr.csr_matrix\n",
    "    else:\n",
    "        model = KeyedVectors.load_word2vec_format(DBFO + 'w2vmodel_053123_PIM_ALL.bin', binary=True)\n",
    "        X = np.array(list(pim_gtin_mapped.ITEM_SUBCOM_text.apply(lambda x: get_item_vector(x.split(' ')))))\n",
    "\n",
    "    \n",
    "    end_time = time.time()   \n",
    "    desc = f' Elapse_time for \"{pgm}\".' \n",
    "    elapse_time (  start_time, end_time, desc)\n",
    "    return  X"
   ]
  },
  {
   "cell_type": "code",
   "execution_count": 3,
   "metadata": {},
   "outputs": [],
   "source": [
    "#Build item vectors\n",
    "def get_item_vector(item_vocab):\n",
    "    vect = np.zeros_like(model.get_vector('chips'))\n",
    "    for word in item_vocab:\n",
    "        if word in model:\n",
    "            vect += model.get_vector(word)\n",
    "    return vect#/max(1,len(item_vocab))"
   ]
  },
  {
   "cell_type": "code",
   "execution_count": 4,
   "metadata": {},
   "outputs": [],
   "source": [
    "def proc_pred(embed_typ):\n",
    "    start_time = time.time()\n",
    "    pgm = inspect.currentframe().f_code.co_name \n",
    "    save_model =  DBFR + f'L1_l2_LR_{embed_typ}_tst_siz0.3_C100.pkl'\n",
    "    with open(save_model , 'rb') as f:\n",
    "         model = pickle.load(f)\n",
    "    preds = list(model.predict(X))    \n",
    "    probx =model.predict_proba(X)\n",
    "    probs = []\n",
    "    for i in range(len(preds)):\n",
    "      probs.append(probx[i][np.argsort(probx[i])][::-1][:1])\n",
    "    probs = [element for sublist in list(probs) for element in sublist]\n",
    "    \n",
    "    data = {'Predict': preds, 'Accuracy': probs}\n",
    "    df_pred= pd.DataFrame(data)\n",
    "    df_pred['Predict'] = df_pred['Predict'].fillna('Other').map(id_l1_l2_map) \n",
    "    df_merg = pd.merge( pim_gtin_mapped, df_pred, left_index=True, right_index=True)\n",
    "    dte = date.today().strftime('%m%d%y')  \n",
    "    file_name = DBFR + f'l1_l2_unlabel_pred_map_{embed_typ}_{dte}.csv'\n",
    "    df_merg.to_csv(file_name, index=None)\n",
    "    end_time = time.time() \n",
    "    desc = f' Elapse_time to predict un-label data for embed_typ= {embed_typ}' \n",
    "    hh, mm, ss= elapse_time (  start_time, end_time, desc)\n",
    "                                   \n",
    "    return"
   ]
  },
  {
   "cell_type": "code",
   "execution_count": null,
   "metadata": {},
   "outputs": [],
   "source": []
  },
  {
   "cell_type": "code",
   "execution_count": null,
   "metadata": {},
   "outputs": [],
   "source": []
  },
  {
   "cell_type": "code",
   "execution_count": 5,
   "metadata": {
    "application/vnd.databricks.v1+cell": {
     "cellMetadata": {
      "byteLimit": 2048000,
      "rowLimit": 10000
     },
     "inputWidgets": {},
     "nuid": "38b64183-34df-46b6-b1c9-6bbe78776fd9",
     "showTitle": false,
     "title": ""
    }
   },
   "outputs": [],
   "source": [
    "import pandas as pd, numpy as np\n",
    "from sklearn.ensemble import RandomForestClassifier, GradientBoostingClassifier\n",
    "from sklearn.linear_model import LogisticRegression, LogisticRegressionCV, SGDClassifier,  RidgeClassifier\n",
    "from sklearn.feature_extraction.text import TfidfVectorizer\n",
    "from gensim.models import Word2Vec, KeyedVectors\n",
    "from sklearn.model_selection import train_test_split\n",
    "from datetime import date\n",
    "\n",
    "\n",
    "from sklearn.metrics import ConfusionMatrixDisplay, classification_report, confusion_matrix, accuracy_score\n",
    "from sklearn.metrics import roc_auc_score, f1_score\n",
    "import re, time, inspect, pickle\n",
    "import warnings\n",
    "warnings.filterwarnings(\"ignore\", category=UserWarning)\n",
    "\n",
    "pd.options.display.float_format = '{:20,.4f}'.format \n",
    "pd.set_option(\"display.max_rows\", None)\n",
    "\n",
    "# load  function of 'elapse_time'\n",
    "path_code = 'C:\\\\users\\\\iny2819\\\\kroger\\\\Code\\\\'  \n",
    "f_com_code = path_code + \"com_code.py\"\n",
    "exec(compile(open(f_com_code , \"rb\").read(), f_com_code, 'exec' ))\n"
   ]
  },
  {
   "cell_type": "code",
   "execution_count": 6,
   "metadata": {},
   "outputs": [],
   "source": [
    "DBFS = \"/dbfs/FileStore/tables/OFFSHORE/\"\n",
    "DBFO = \"/dbfs/FileStore/tables/OFFSHORE/\"\n",
    "DBFM = \"/dbfs/FileStore/tables/MALLIK/\"\n",
    "DBFR = \"/dbfs/FileStore/tables/OFFSHORE_RESULTS/\"\n",
    "path = 'C:\\\\users\\\\iny2819\\\\kroger\\\\Data\\\\'   \n",
    "DBFS = path\n",
    "DBFO = path\n",
    "DBFM = path\n",
    "DBFR = path\n"
   ]
  },
  {
   "cell_type": "code",
   "execution_count": null,
   "metadata": {},
   "outputs": [],
   "source": []
  },
  {
   "cell_type": "code",
   "execution_count": 7,
   "metadata": {
    "scrolled": false
   },
   "outputs": [],
   "source": [
    "pim_gtin_mapped = prepare_data_1()\n",
    "pim_gtin_mapped_bkup =  pim_gtin_mapped.copy()\n"
   ]
  },
  {
   "cell_type": "code",
   "execution_count": 8,
   "metadata": {},
   "outputs": [],
   "source": [
    "pim_gtin_mapped_bkup = pim_gtin_mapped.copy()"
   ]
  },
  {
   "cell_type": "code",
   "execution_count": 10,
   "metadata": {},
   "outputs": [
    {
     "name": "stdout",
     "output_type": "stream",
     "text": [
      " samp_frac = 0.5\n",
      "Before sample pim_gtin_mapped.shape (5082212, 14)\n",
      "After sample pim_gtin_mapped.shape (2541106, 14)\n",
      "  Elapse_time for \"prepare_data_2\". It took 85.233235 seconds - 0hh:1mm:25ss.\n",
      " start time: Aug 30 2023 02:13:24  end time:  Aug 30 2023 02:14:50\n",
      "  Elapse_time to predict un-label data for embed_typ= tfidf It took 174.607263 seconds - 0hh:2mm:54ss.\n",
      " start time: Aug 30 2023 02:14:50  end time:  Aug 30 2023 02:17:45\n",
      " samp_frac = 0.5\n",
      "Before sample pim_gtin_mapped.shape (5082212, 14)\n",
      "After sample pim_gtin_mapped.shape (2541106, 14)\n",
      "  Elapse_time for \"prepare_data_2\". It took 94.584244 seconds - 0hh:1mm:34ss.\n",
      " start time: Aug 30 2023 02:17:45  end time:  Aug 30 2023 02:19:20\n",
      "  Elapse_time to predict un-label data for embed_typ= W2vec It took 74.967677 seconds - 0hh:1mm:14ss.\n",
      " start time: Aug 30 2023 02:19:20  end time:  Aug 30 2023 02:20:35\n"
     ]
    }
   ],
   "source": [
    " \n",
    "l_embed_typ = ['tfidf', 'W2vec']\n",
    "#l_embed_typ = ['W2vec']\n",
    "c_parm = 100\n",
    "\n",
    "\n",
    "#l_embed_typ = ['tfidf', 'W2vec']\n",
    "\n",
    "map_csv = pd.read_csv(DBFR + \"id_l1_l2_map.csv\")\n",
    "l_key = map_csv['index']\n",
    "l_val = map_csv['l1_l2']\n",
    "id_l1_l2_map =  dict (zip(l_key, l_val))\n",
    "\n",
    "for embed_typ in l_embed_typ:\n",
    "    X= prepare_data_2(samp_frac = 0.5, embed_typ = embed_typ )\n",
    "    proc_pred(embed_typ)\n",
    "    \n",
    "\n"
   ]
  },
  {
   "cell_type": "code",
   "execution_count": null,
   "metadata": {},
   "outputs": [],
   "source": [
    "stop"
   ]
  },
  {
   "cell_type": "code",
   "execution_count": null,
   "metadata": {},
   "outputs": [],
   "source": [
    "save_model =  DBFR + 'L1_l2_LR_tfidf_tst_siz0.3_C100.pkl'\n",
    "with open(save_model , 'rb') as f:\n",
    "     model = pickle.load(f)"
   ]
  },
  {
   "cell_type": "code",
   "execution_count": null,
   "metadata": {},
   "outputs": [],
   "source": [
    "preds = model.predict(X)  # max(pred)+  200; type[array([ 1, 20, 12, ...,  6, 20,  6], dtype=int64)]"
   ]
  },
  {
   "cell_type": "code",
   "execution_count": null,
   "metadata": {},
   "outputs": [],
   "source": [
    "pred.fillna('Other').map(id_l1_l2_map)"
   ]
  },
  {
   "cell_type": "code",
   "execution_count": null,
   "metadata": {},
   "outputs": [],
   "source": [
    "predx = list(preds)\n",
    "probx = list(probs)\n",
    "type(predx)"
   ]
  },
  {
   "cell_type": "code",
   "execution_count": null,
   "metadata": {
    "scrolled": true
   },
   "outputs": [],
   "source": [
    "data = {'preds': predx, 'probs': probx}\n",
    "df_pred= pd.DataFrame(data)\n",
    "df_pred"
   ]
  },
  {
   "cell_type": "code",
   "execution_count": null,
   "metadata": {},
   "outputs": [],
   "source": [
    "probs = model.predict_proba(X)  #numpy.ndarray; len = 1524664"
   ]
  },
  {
   "cell_type": "code",
   "execution_count": null,
   "metadata": {},
   "outputs": [],
   "source": [
    "len(pred)"
   ]
  },
  {
   "cell_type": "code",
   "execution_count": null,
   "metadata": {},
   "outputs": [],
   "source": [
    "path = 'C:\\\\users\\\\iny2819\\\\kroger\\\\Data\\\\'\n",
    "map_csv = pd.read_csv(path + \"id_l1_l2_map.csv\")\n",
    "l_val = map_csv['index']\n",
    "l_key = map_csv['l1_l2'].tolist()\n",
    "id_l1_l2_map =  dict (zip(l_key, l_val))"
   ]
  },
  {
   "cell_type": "code",
   "execution_count": null,
   "metadata": {},
   "outputs": [],
   "source": [
    "map_csv.head()"
   ]
  },
  {
   "cell_type": "code",
   "execution_count": null,
   "metadata": {},
   "outputs": [],
   "source": [
    "l_c_parm = a0.1, 1, 10, 100] \n",
    "l_embed_typ = ['tfidf', 'W2vec']\n",
    "\n",
    "dic_metric={}\n",
    "dic_predict = {}\n",
    "l_metric=[]\n",
    "test_size = 0.3\n",
    "i = 0\n",
    "for embed_typ in l_embed_typ:\n",
    "    X, y, l1_l2_id_map, id_l1_l2_map = prepare_data_2(samp_frac = 1, embed_typ = embed_typ )\n",
    "    for c_parm in l_c_parm:\n",
    "        start_time = time.time()        \n",
    "        \n",
    "        preds, preds_lrtf, probs, preds_train, probs_train, lr_tf = proc_predict(test_size = 0.3, c_parm =c_parm,  embed_typ= embed_typ )\n",
    " \n",
    "        test_metrics, vtab, l_metrics  =  validation(test_size = 0.3, c_parm =c_parm, embed_typ=embed_typ) \n",
    "        key = 'test_metric' + str(i)\n",
    "        dic_metric [key] = (test_metrics, vtab)\n",
    "        \n",
    "        test_new_proobs, train_new_proobs, testLevels, testLevelss, trainLevelss = proc_append()\n",
    "        df_save, ftab  = proc_cr_df(test_size=0.3, c_parm=c_parm, embed_typ= embed_typ )\n",
    "        key = 'predict'+ str(i)\n",
    "        dic_predict[key] = (df_save, ftab)\n",
    "        i = i + 1   \n",
    "        end_time = time.time() \n",
    "        desc = f' Elapse_time to build model for for test_size = 0.3, c_parm = {c_parm}, embed_typ= {embed_typ}' \n",
    "        hh, mm, ss= elapse_time (  start_time, end_time, desc)\n",
    "                                 \n",
    "        l_metrics = l_metrics +  [f\"{hh:2d}hh:{mm:2d}mm:{ss:2d}ss\"]   \n",
    "        l_metric.append(l_metrics)\n",
    "dte = date.today().strftime('%m%d%y')                                  \n",
    "excel_file = DBFO + f'L1_L2_syndigo_pred_cls_rpt_size{test_size}_{dte}.xlsx'\n",
    "save_excel_metric( excel_file, dic_metric, l_metric)\n",
    "\n",
    "\n",
    "excel_file = DBFO + f'L1_L2_syndigo_pred_tst_size{test_size}_{dte}.xlsx'\n",
    "save_excel_pred( excel_file, dic_predict)"
   ]
  },
  {
   "cell_type": "code",
   "execution_count": null,
   "metadata": {},
   "outputs": [],
   "source": [
    "stop"
   ]
  },
  {
   "cell_type": "code",
   "execution_count": null,
   "metadata": {},
   "outputs": [],
   "source": [
    "excel_file = DBFO + f'L1_L2_syndigo_pred_tst_size{test_size}_082527.xlsx'\n",
    "save_excel( excel_file, dic_predict)"
   ]
  },
  {
   "cell_type": "code",
   "execution_count": null,
   "metadata": {},
   "outputs": [],
   "source": [
    "dic_predict.items()"
   ]
  },
  {
   "cell_type": "code",
   "execution_count": null,
   "metadata": {},
   "outputs": [],
   "source": [
    "test_size = 0.3 \n",
    "excel_file = DBFO + f'L1_L2_syndigo_pred_cls_rpt_size{test_size}_082527.xlsx'\n",
    "save_excel_metric( excel_file, dic_metric, l_metric)\n",
    "\n",
    "\n",
    "excel_file = DBFO + f'L1_L2_syndigo_pred_tst_size{test_size}_082527.xlsx'\n",
    "save_excel_pred( excel_file, dic_predict)"
   ]
  },
  {
   "cell_type": "code",
   "execution_count": null,
   "metadata": {},
   "outputs": [],
   "source": [
    "multi_class = 'multinomial'\n",
    "score = roc_auc_score(y_test, preds, multi_class= multi_class)\n",
    "print(f\"ROC AUC score for Multiclass= {multi_class}: {score:.2f}\")"
   ]
  },
  {
   "cell_type": "code",
   "execution_count": null,
   "metadata": {},
   "outputs": [],
   "source": [
    "pim_gtin_mapped.columns"
   ]
  },
  {
   "cell_type": "code",
   "execution_count": null,
   "metadata": {},
   "outputs": [],
   "source": [
    "pim_gtin_mapped.shape"
   ]
  },
  {
   "cell_type": "code",
   "execution_count": null,
   "metadata": {},
   "outputs": [],
   "source": [
    "pim_gtin_mapped.head()"
   ]
  },
  {
   "cell_type": "code",
   "execution_count": null,
   "metadata": {},
   "outputs": [],
   "source": []
  }
 ],
 "metadata": {
  "application/vnd.databricks.v1+notebook": {
   "dashboards": [],
   "language": "python",
   "notebookMetadata": {
    "pythonIndentUnit": 4
   },
   "notebookName": "Syndigo Mapping MachineLearning",
   "widgets": {}
  },
  "kernelspec": {
   "display_name": "Python 3 (ipykernel)",
   "language": "python",
   "name": "python3"
  },
  "language_info": {
   "codemirror_mode": {
    "name": "ipython",
    "version": 3
   },
   "file_extension": ".py",
   "mimetype": "text/x-python",
   "name": "python",
   "nbconvert_exporter": "python",
   "pygments_lexer": "ipython3",
   "version": "3.10.9"
  }
 },
 "nbformat": 4,
 "nbformat_minor": 1
}
