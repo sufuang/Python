{
 "cells": [
  {
   "cell_type": "code",
   "execution_count": 1,
   "metadata": {
    "application/vnd.databricks.v1+cell": {
     "cellMetadata": {
      "byteLimit": 2048000,
      "rowLimit": 10000
     },
     "inputWidgets": {},
     "nuid": "38b64183-34df-46b6-b1c9-6bbe78776fd9",
     "showTitle": false,
     "title": ""
    }
   },
   "outputs": [],
   "source": [
    "import pandas as pd, numpy as np\n",
    "from sklearn.ensemble import RandomForestClassifier, GradientBoostingClassifier\n",
    "from sklearn.linear_model import LogisticRegression, LogisticRegressionCV\n",
    "from sklearn.feature_extraction.text import TfidfVectorizer\n",
    "from sklearn.model_selection import train_test_split\n",
    "import gensim\n",
    "from sklearn.metrics import ConfusionMatrixDisplay, classification_report, confusion_matrix"
   ]
  },
  {
   "cell_type": "code",
   "execution_count": 2,
   "metadata": {
    "application/vnd.databricks.v1+cell": {
     "cellMetadata": {
      "byteLimit": 2048000,
      "rowLimit": 10000
     },
     "inputWidgets": {},
     "nuid": "8a1a5c73-5356-4b00-89a8-c87c775a321a",
     "showTitle": false,
     "title": ""
    }
   },
   "outputs": [],
   "source": [
    "import pandas as pd, numpy as np\n",
    "DBFS = \"/dbfs/FileStore/tables/OFFSHORE/\"\n",
    "DBFO = \"/dbfs/FileStore/tables/OFFSHORE/\"\n",
    "DBFM = \"/dbfs/FileStore/tables/MALLIK/\"\n",
    "DBFR = \"/dbfs/FileStore/tables/OFFSHORE_RESULTS/\"\n",
    "path = 'C:\\\\users\\\\iny2819\\\\kroger\\\\Data\\\\'   \n",
    "DBFS = path\n",
    "DBFO = path\n",
    "DBFM = path\n",
    "DBFR = path"
   ]
  },
  {
   "cell_type": "code",
   "execution_count": 3,
   "metadata": {
    "application/vnd.databricks.v1+cell": {
     "cellMetadata": {},
     "inputWidgets": {},
     "nuid": "323b9a6b-839b-432c-b6a5-f246845c4e3a",
     "showTitle": false,
     "title": ""
    }
   },
   "outputs": [],
   "source": [
    "# Reading PIMMART data\n",
    "pim_gtin_mapped = pd.read_csv(DBFR + \"PIM_Data_New_50_82Mn.csv\", dtype=object)\n",
    "for i in ['SUBCOM_CD', 'DPT_CD', 'COM_CD','PMY_DPT_CD', 'REC_DPT_CD', 'ITM_ID', 'GTIN']:\n",
    "    pim_gtin_mapped[i] = pim_gtin_mapped[i].astype(np.float64)\n",
    "\n",
    "# Reading Syndigo 259K data\n",
    "synd_ALL = pd.read_csv(DBFR + 'Syndigo_Final_ALL.csv', dtype='unicode') # 259k Syndigo Data\n",
    "for i in ['SUBCOM_CD', 'DPT_CD', 'COM_CD', 'GTIN', 'ITM_ID', 'PMY_DPT_CD']:\n",
    "    synd_ALL[i] = synd_ALL[i].astype(np.float64)\n",
    "\n",
    "# Stripping spaces from all columns\n",
    "df_obj = synd_ALL.select_dtypes(['object'])\n",
    "synd_ALL[df_obj.columns] = df_obj.apply(lambda x: x.str.strip())"
   ]
  },
  {
   "cell_type": "code",
   "execution_count": 4,
   "metadata": {
    "application/vnd.databricks.v1+cell": {
     "cellMetadata": {},
     "inputWidgets": {},
     "nuid": "0add1fd8-ce00-476d-8ef5-148dd7ed93c8",
     "showTitle": false,
     "title": ""
    }
   },
   "outputs": [],
   "source": [
    "syndigo_mapped = synd_ALL\n",
    "pimmart = pim_gtin_mapped"
   ]
  },
  {
   "cell_type": "code",
   "execution_count": 5,
   "metadata": {
    "application/vnd.databricks.v1+cell": {
     "cellMetadata": {},
     "inputWidgets": {},
     "nuid": "468865de-5785-4aa8-88ce-eb09127442f3",
     "showTitle": false,
     "title": ""
    }
   },
   "outputs": [],
   "source": [
    "syndigo_mapped.drop_duplicates('GTIN', inplace = True)"
   ]
  },
  {
   "cell_type": "code",
   "execution_count": 6,
   "metadata": {
    "application/vnd.databricks.v1+cell": {
     "cellMetadata": {},
     "inputWidgets": {},
     "nuid": "35a8bc41-1917-40ec-942e-c78e178a71b3",
     "showTitle": false,
     "title": ""
    }
   },
   "outputs": [],
   "source": [
    "syndigo_mapped['ITEM_SUBCOM_text'] = \\\n",
    "(syndigo_mapped.VND_ECOM_DSC + ' ' + syndigo_mapped.SUBCOM_DSC).fillna('').str.lower()"
   ]
  },
  {
   "cell_type": "code",
   "execution_count": 7,
   "metadata": {
    "application/vnd.databricks.v1+cell": {
     "cellMetadata": {},
     "inputWidgets": {},
     "nuid": "573044f9-3feb-48ea-9744-48d5d9c89b92",
     "showTitle": false,
     "title": ""
    }
   },
   "outputs": [
    {
     "data": {
      "text/plain": [
       "Food / Beverages                            131593\n",
       "Health & Beauty                              62259\n",
       "Beer / Wine / Spirits                        17992\n",
       "Cleaning & Janitorial                         9084\n",
       "Livestock & Pet Supplies                      6325\n",
       "Kitchen & Bathroom                            5268\n",
       "Home & Venue Decoration                       3924\n",
       "Toys / Games / Hobbies                        3191\n",
       "Gardening & Outdoors                          2208\n",
       "Childcare                                     2111\n",
       "Office Supplies                               1671\n",
       "Electronics                                   1499\n",
       "Apparel                                       1283\n",
       "Lighting & Fans                               1252\n",
       "Tobacco Products                              1252\n",
       "Not classified                                1018\n",
       "Hardware                                       923\n",
       "Arts & Crafts                                  803\n",
       "Automotive                                     778\n",
       "Appliances                                     689\n",
       "Sports & Outdoor Recreation Equipment          684\n",
       "Hospitality Supplies                           496\n",
       "Tools                                          474\n",
       "Books & Videos                                 377\n",
       "Electrical                                     215\n",
       "Heating / Ventilation / Air Conditioning       196\n",
       "Plumbing & Water Service                       172\n",
       "Paints & Coatings                               60\n",
       "Building Supplies                               40\n",
       "Power Sports                                    39\n",
       "Furniture                                       37\n",
       "Marine                                          16\n",
       "Flooring                                        13\n",
       "Material Handling                                6\n",
       "Agricultural Equipment                           3\n",
       "Power Transmission & Motion Control              1\n",
       "Musical Instruments                              1\n",
       "Name: Level 1, dtype: int64"
      ]
     },
     "execution_count": 7,
     "metadata": {},
     "output_type": "execute_result"
    }
   ],
   "source": [
    "syndigo_mapped['Level 1'].value_counts()"
   ]
  },
  {
   "cell_type": "code",
   "execution_count": 8,
   "metadata": {
    "application/vnd.databricks.v1+cell": {
     "cellMetadata": {},
     "inputWidgets": {},
     "nuid": "eeb8719e-7b17-40ae-a855-dc4f3df7a006",
     "showTitle": false,
     "title": ""
    }
   },
   "outputs": [],
   "source": [
    "from sklearn.feature_extraction.text import TfidfVectorizer\n",
    "vect = TfidfVectorizer(ngram_range= (1,2), max_features = 100000) # from 800000 to 100000"
   ]
  },
  {
   "cell_type": "code",
   "execution_count": 9,
   "metadata": {
    "application/vnd.databricks.v1+cell": {
     "cellMetadata": {},
     "inputWidgets": {},
     "nuid": "d61f83c5-88d4-4788-beae-41be8e02577c",
     "showTitle": false,
     "title": ""
    }
   },
   "outputs": [
    {
     "data": {
      "text/plain": [
       "Food / Beverages                            131593\n",
       "Health & Beauty                              62259\n",
       "Beer / Wine / Spirits                        17992\n",
       "Cleaning & Janitorial                         9084\n",
       "Livestock & Pet Supplies                      6325\n",
       "Kitchen & Bathroom                            5268\n",
       "Home & Venue Decoration                       3924\n",
       "Toys / Games / Hobbies                        3191\n",
       "Gardening & Outdoors                          2208\n",
       "Childcare                                     2111\n",
       "Office Supplies                               1671\n",
       "Electronics                                   1499\n",
       "Apparel                                       1283\n",
       "Lighting & Fans                               1252\n",
       "Tobacco Products                              1252\n",
       "Not classified                                1018\n",
       "Hardware                                       923\n",
       "Arts & Crafts                                  803\n",
       "Automotive                                     778\n",
       "Appliances                                     689\n",
       "Sports & Outdoor Recreation Equipment          684\n",
       "Hospitality Supplies                           496\n",
       "Tools                                          474\n",
       "Books & Videos                                 377\n",
       "Electrical                                     215\n",
       "Heating / Ventilation / Air Conditioning       196\n",
       "Plumbing & Water Service                       172\n",
       "Paints & Coatings                               60\n",
       "Building Supplies                               40\n",
       "Power Sports                                    39\n",
       "Furniture                                       37\n",
       "Marine                                          16\n",
       "Flooring                                        13\n",
       "Material Handling                                6\n",
       "Agricultural Equipment                           3\n",
       "Power Transmission & Motion Control              1\n",
       "Musical Instruments                              1\n",
       "Name: Level 1, dtype: int64"
      ]
     },
     "execution_count": 9,
     "metadata": {},
     "output_type": "execute_result"
    }
   ],
   "source": [
    "syndigo_mapped['Level 1'].value_counts()"
   ]
  },
  {
   "cell_type": "markdown",
   "metadata": {
    "application/vnd.databricks.v1+cell": {
     "cellMetadata": {},
     "inputWidgets": {},
     "nuid": "478d3b32-9d94-4764-957f-d0fb53421831",
     "showTitle": false,
     "title": ""
    }
   },
   "source": [
    "## RUN UNTIL HERE only ONCE"
   ]
  },
  {
   "cell_type": "code",
   "execution_count": 10,
   "metadata": {
    "application/vnd.databricks.v1+cell": {
     "cellMetadata": {
      "byteLimit": 2048000,
      "rowLimit": 10000
     },
     "inputWidgets": {},
     "nuid": "5231bbdc-be06-4e19-acf9-c2713de758cc",
     "showTitle": false,
     "title": ""
    }
   },
   "outputs": [
    {
     "data": {
      "text/plain": [
       "Hobbies                           1\n",
       "Nature / Science                 12\n",
       "Remote & Radio Control           38\n",
       "Sports Toys & Games              82\n",
       "Role Playing & Pretend Play     164\n",
       "Outdoor Toys & Games            191\n",
       "Toy Vehicles                    258\n",
       "Baby Toys & Games               372\n",
       "Construction & Modeling         394\n",
       "Games & Puzzles                 540\n",
       "Toy Figures                    1139\n",
       "Name: Level 2, dtype: int64"
      ]
     },
     "execution_count": 10,
     "metadata": {},
     "output_type": "execute_result"
    }
   ],
   "source": [
    "level__1 = \"Toys / Games / Hobbies\"\n",
    "filenamee = \"TOYS_GAMES_HOBBIES\"\n",
    "\n",
    "#level__1 = \"Tobacco Products\"\n",
    "#filenamee = \"TOBACCO_PRODUCTS\"\n",
    "\n",
    "#level__1 = \"Cleaning & Janitorial\"\n",
    "#filenamee = \"CLEANING_JANITORIAL\"\n",
    "\n",
    "# level__1 = \"Office Supplies\"\n",
    "# filenamee = \"OFFICE_SUPPLIES\"\n",
    "\n",
    "# level__1 = \"Beer / Wine / Spirits\"\n",
    "# filenamee = \"BEER_WINE_SPIRITS\"\n",
    "\n",
    "# level__1 = \"Livestock & Pet Supplies\"\n",
    "# filenamee = \"LIVESTOCK_PET_SUPPLIES\"\n",
    "\n",
    "# level__1 = \"Kitchen & Bathroom\"\n",
    "# filenamee = \"KITCHEN_BATHROOM\"\n",
    "\n",
    "# level__1 = \"Hospitality Supplies\"\n",
    "# filenamee = \"HOSPITALITY_SUPPLIES\"\n",
    "\n",
    "# level__1 = \"Home & Venue Decoration\"\n",
    "# filenamee = \"HOME_VENUE_DECORATION\"\n",
    "\n",
    "# level__1 = \"Heating / Ventilation / Air Conditioning\"\n",
    "# filenamee = \"HEATING_VENTILATION_AIR_CONDITIONING\"\n",
    "\n",
    "# level__1 = \"Gardening & Outdoors\"\n",
    "# filenamee = \"GARDENING_OUTDOORS\"\n",
    "\n",
    "# level__1 = \"Sports & Outdoor Recreation Equipment\"\n",
    "# filenamee = \"SPORTS_OUTDOOR_RECREATION_EQUIPMENT\"\n",
    "\n",
    "syndigo_mapped[syndigo_mapped['Level 1']==level__1]['Level 2'].value_counts(ascending=True)"
   ]
  },
  {
   "cell_type": "code",
   "execution_count": null,
   "metadata": {
    "application/vnd.databricks.v1+cell": {
     "cellMetadata": {},
     "inputWidgets": {},
     "nuid": "3bceb8e8-d0bf-497a-be4b-2ff5adb2c80f",
     "showTitle": true,
     "title": "Ignore any warnings from this cell"
    }
   },
   "outputs": [
    {
     "name": "stdout",
     "output_type": "stream",
     "text": [
      "Training - \"Toys / Games / Hobbies\"\n"
     ]
    }
   ],
   "source": [
    "level_1 = level__1\n",
    "subset_df = syndigo_mapped[syndigo_mapped['Level 1'] == level_1]\n",
    "series = syndigo_mapped[syndigo_mapped['Level 1']==level__1]['Level 2'].value_counts(ascending=True)\n",
    "if series.tolist():\n",
    "    subset_df = subset_df.drop(subset_df[subset_df['Level 2'].isin(series[series==1].index.tolist())].index)\n",
    "\n",
    "vect_subset = TfidfVectorizer(ngram_range = (1,2), max_features = 100000)# from 1000000 to 100000\n",
    "X_subset = vect_subset.fit_transform(subset_df.ITEM_SUBCOM_text)\n",
    "level2_id_map = dict(zip(subset_df['Level 2'].fillna('Other').unique(), range(subset_df['Level 2'].fillna('Other').nunique())))\n",
    "id2_level_map = dict(zip(range(subset_df['Level 2'].fillna('Other').nunique()), subset_df['Level 2'].fillna('Other').unique()))\n",
    "y_subset  = subset_df['Level 2'].fillna('Other').map(level2_id_map)\n",
    "A_train, A_test, B_train, B_test = train_test_split(subset_df.GTIN.tolist(), subset_df['Level 2'].tolist(), test_size=0.1, stratify=y_subset, random_state=42)\n",
    "X_train, X_test, y_train, y_test = train_test_split(X_subset, y_subset, test_size= 0.1, stratify=y_subset, random_state=42)\n",
    "lr_tf = LogisticRegressionCV(cv = 5, multi_class = 'multinomial', solver = 'saga', n_jobs=-1, max_iter=10000000)\n",
    "\n",
    "print(f\"Training - \\\"{level_1}\\\"\")\n",
    "lr_tf.fit(X_train, y_train)\n",
    "preds = lr_tf.predict(X_test)\n",
    "preds_lrtf = preds\n",
    "probs = lr_tf.predict_proba(X_test)\n",
    "preds_train = lr_tf.predict(X_train)\n",
    "probs_train = lr_tf.predict_proba(X_train)\n",
    "print(f\"Done Training - \\\"{level_1}\\\"\")"
   ]
  },
  {
   "cell_type": "code",
   "execution_count": null,
   "metadata": {
    "application/vnd.databricks.v1+cell": {
     "cellMetadata": {},
     "inputWidgets": {},
     "nuid": "6dda9f8b-f131-4178-9a9e-0fe8bd02ddc4",
     "showTitle": false,
     "title": ""
    }
   },
   "outputs": [],
   "source": [
    "level_num = []\n",
    "testProobs = []\n",
    "number = 1\n",
    "\n",
    "print(len(preds))\n",
    "for i in range(len(preds)):\n",
    "    for j in range(number):\n",
    "        try:\n",
    "            level_num.append(int(np.where(probs[i]==probs[i][np.argsort(probs[i])][::-1][:3][j])[0]))\n",
    "        except TypeError:\n",
    "            level_num.append(int(np.where(probs[i]==probs[i][np.argsort(probs[i])][::-1][:3][2])[0][0]))\n",
    "            print(\"problem occurred with: \", i, j, flush=True)\n",
    "    testProobs.append(probs[i][np.argsort(probs[i])][::-1][:1])\n",
    "\n",
    "test_new_proobs = []\n",
    "for i in range(len(testProobs)):\n",
    "    test_new_proobs.append(testProobs[i].tolist())\n",
    "test_new_proobs = [element for sublist in list(test_new_proobs) for element in sublist]"
   ]
  },
  {
   "cell_type": "code",
   "execution_count": null,
   "metadata": {
    "application/vnd.databricks.v1+cell": {
     "cellMetadata": {},
     "inputWidgets": {},
     "nuid": "5d1f23cd-b044-493a-999c-25de1351083e",
     "showTitle": false,
     "title": ""
    }
   },
   "outputs": [],
   "source": [
    "level_num = []\n",
    "trainProobs = []\n",
    "\n",
    "print(len(preds_train))\n",
    "for i in range(len(preds_train)):\n",
    "    for j in range(number):\n",
    "        try:\n",
    "            level_num.append(int(np.where(probs_train[i]==probs_train[i][np.argsort(probs_train[i])][::-1][:3][j])[0]))\n",
    "        except TypeError:\n",
    "            level_num.append(int(np.where(probs_train[i]==probs_train[i][np.argsort(probs_train[i])][::-1][:3][2])[0][0]))\n",
    "            print(\"problem occurred with: \", i, j, flush=True)\n",
    "    trainProobs.append(probs_train[i][np.argsort(probs_train[i])][::-1][:1]) \n",
    "\n",
    "train_new_proobs = []\n",
    "for i in range(len(trainProobs)):\n",
    "    train_new_proobs.append(trainProobs[i].tolist())\n",
    "train_new_proobs = [element for sublist in list(train_new_proobs) for element in sublist]"
   ]
  },
  {
   "cell_type": "code",
   "execution_count": null,
   "metadata": {
    "application/vnd.databricks.v1+cell": {
     "cellMetadata": {},
     "inputWidgets": {},
     "nuid": "df06039a-7117-48ed-9673-2c712f1b0d2e",
     "showTitle": false,
     "title": ""
    }
   },
   "outputs": [],
   "source": [
    "testLevels = []\n",
    "for j in y_test:\n",
    "    testLevels.append([i for i in level2_id_map if level2_id_map[i]==j][0])\n",
    "\n",
    "testLevelss = []\n",
    "for j in preds:\n",
    "    testLevelss.append([i for i in level2_id_map if level2_id_map[i]==j][0])\n",
    "\n",
    "trainLevelss = []\n",
    "for j in preds_train:\n",
    "    trainLevelss.append([i for i in level2_id_map if level2_id_map[i]==j][0])"
   ]
  },
  {
   "cell_type": "code",
   "execution_count": null,
   "metadata": {
    "application/vnd.databricks.v1+cell": {
     "cellMetadata": {},
     "inputWidgets": {},
     "nuid": "5dba2fa9-97bc-4807-a06b-6f7a8f2189b3",
     "showTitle": false,
     "title": ""
    }
   },
   "outputs": [],
   "source": [
    "print(\"---------------------------------------------\\FINAL COUNTS:\\n---------------------------------------------\")\n",
    "print(\"1)\", len(A_test + A_train))\n",
    "print(\"2)\", len(['Test']*len(A_test) + ['Train']*len(A_train)))\n",
    "print(\"3)\", len(B_test + B_train))\n",
    "print(\"4)\", len(testLevels + B_train))\n",
    "print(\"5)\", len(testLevelss + trainLevelss))\n",
    "print(\"6)\", int(len(test_new_proobs + train_new_proobs)))"
   ]
  },
  {
   "cell_type": "code",
   "execution_count": null,
   "metadata": {
    "application/vnd.databricks.v1+cell": {
     "cellMetadata": {},
     "inputWidgets": {},
     "nuid": "c7349f53-6f3a-4a5c-83d4-70ee595fb4b6",
     "showTitle": false,
     "title": ""
    }
   },
   "outputs": [],
   "source": [
    "data = {\n",
    "    'GTIN' : A_test + A_train,\n",
    "    'Source': ['Test']*len(A_test) + ['Train']*len(A_train),\n",
    "    'Actual Level 2' : B_test + B_train,\n",
    "    'Actuals' : testLevels + B_train,\n",
    "    'Predictions' : testLevelss + trainLevelss,\n",
    "    'Scores' : test_new_proobs + train_new_proobs,\n",
    "    'L1 Name' : level_1\n",
    "}\n",
    "\n",
    "df = pd.DataFrame(data)\n",
    "df = df.merge(pim_gtin_mapped[['GTIN', 'ITM_ID', 'PMY_DPT_CD', 'PMY_DPT_DSC', 'REC_DPT_CD',\n",
    "    'REC_DPT_DSC', 'DPT_CD', 'DPT_DSC', 'COM_CD', 'COM_DSC', 'SUBCOM_CD',\n",
    "    'SUBCOM_DSC', 'VND_ECOM_DSC']], on='GTIN', how='left')\n",
    "df = df[['ITM_ID', 'GTIN', 'PMY_DPT_CD', 'PMY_DPT_DSC', 'REC_DPT_CD', 'REC_DPT_DSC', 'DPT_CD',\n",
    "    'DPT_DSC', 'COM_CD', 'COM_DSC', 'SUBCOM_CD', 'SUBCOM_DSC',\n",
    "    'VND_ECOM_DSC', 'Source', 'Actual Level 2', 'Actuals', 'Predictions', 'Scores', 'L1 Name']]"
   ]
  },
  {
   "cell_type": "markdown",
   "metadata": {
    "application/vnd.databricks.v1+cell": {
     "cellMetadata": {},
     "inputWidgets": {},
     "nuid": "27ee1c73-72c8-4226-a81b-10f4556206e8",
     "showTitle": false,
     "title": ""
    }
   },
   "source": [
    "## Keep the output of the below cell for all Level 1 executed"
   ]
  },
  {
   "cell_type": "code",
   "execution_count": null,
   "metadata": {
    "application/vnd.databricks.v1+cell": {
     "cellMetadata": {
      "byteLimit": 2048000,
      "rowLimit": 10000
     },
     "inputWidgets": {},
     "nuid": "74055d3e-c020-4172-9b52-44358f40546a",
     "showTitle": false,
     "title": ""
    }
   },
   "outputs": [],
   "source": [
    "df.to_csv(DBFO + filenamee + '.csv', index=False)\n",
    "print(f\"{filenamee}.csv   --file created successfully\")"
   ]
  }
 ],
 "metadata": {
  "application/vnd.databricks.v1+notebook": {
   "dashboards": [],
   "language": "python",
   "notebookMetadata": {
    "pythonIndentUnit": 4
   },
   "notebookName": "Syndigo Mapping MachineLearning",
   "widgets": {}
  },
  "kernelspec": {
   "display_name": "Python 3 (ipykernel)",
   "language": "python",
   "name": "python3"
  },
  "language_info": {
   "codemirror_mode": {
    "name": "ipython",
    "version": 3
   },
   "file_extension": ".py",
   "mimetype": "text/x-python",
   "name": "python",
   "nbconvert_exporter": "python",
   "pygments_lexer": "ipython3",
   "version": "3.10.9"
  }
 },
 "nbformat": 4,
 "nbformat_minor": 1
}
