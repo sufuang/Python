{
 "cells": [
  {
   "cell_type": "markdown",
   "id": "9b138760",
   "metadata": {},
   "source": [
    "#\n",
    "  - Module name: Syndigo_1_2_3_4_5_with_level_073123.ipynb\n",
    "  - Input file Parts 1-2-3-4-5 Syndigo matches w taxonomy .xlsx\n",
    "    - Upload the file to Databricks with name as 'Syndigo Parts 1-2-3-4-5 matches w taxonomy.csv'"
   ]
  },
  {
   "cell_type": "code",
   "execution_count": null,
   "id": "b0dd05c1",
   "metadata": {},
   "outputs": [],
   "source": []
  },
  {
   "cell_type": "code",
   "execution_count": 1,
   "id": "02a08c8a",
   "metadata": {},
   "outputs": [],
   "source": [
    "import numpy as np\n",
    "import pandas as pd \n",
    "\n",
    "pd.options.display.float_format = '{:,.4f}'.format\n",
    "pd.set_option('display.max_columns', None) \n",
    "pd.set_option(\"display.max_rows\", None)\n",
    "path = 'C:\\\\users\\\\iny2819\\\\kroger\\\\Data\\\\'"
   ]
  },
  {
   "cell_type": "code",
   "execution_count": 2,
   "id": "d68831ec",
   "metadata": {},
   "outputs": [],
   "source": [
    "#path_file = path + 'Parts 1-2-3-4-5 Syndigo matches w taxonomy .xlsx' \n",
    "path_file = path + 'Parts 1-2-3-4-5 Syndigo matches w Syndigo Taxonomy.xlsx'\n",
    "                  \n",
    "syndigo_1  = pd.read_excel(path_file, sheet_name  = 'Part 1') # (70046, 2)/(70046, 2)\n",
    "syndigo_2  = pd.read_excel(path_file, sheet_name  = 'Part 2') # (50506, 2)/(50506, 2)\n",
    "syndigo_3  = pd.read_excel(path_file, sheet_name  = 'Part 3') # (20180, 2)/(20180, 2)\n",
    "syndigo_4  = pd.read_excel(path_file, sheet_name  = 'Part 4') # (11397, 2)/(11397, 2)\n",
    "syndigo_5  = pd.read_excel(path_file, sheet_name  = 'Part 5') # (11924, 2)/(11924, 2)"
   ]
  },
  {
   "cell_type": "code",
   "execution_count": 9,
   "id": "17a42432",
   "metadata": {},
   "outputs": [
    {
     "data": {
      "text/plain": [
       "(11924, 2)"
      ]
     },
     "execution_count": 9,
     "metadata": {},
     "output_type": "execute_result"
    }
   ],
   "source": [
    "syndigo_5.shape"
   ]
  },
  {
   "cell_type": "code",
   "execution_count": 10,
   "id": "f1982e89",
   "metadata": {},
   "outputs": [
    {
     "data": {
      "text/html": [
       "<div>\n",
       "<style scoped>\n",
       "    .dataframe tbody tr th:only-of-type {\n",
       "        vertical-align: middle;\n",
       "    }\n",
       "\n",
       "    .dataframe tbody tr th {\n",
       "        vertical-align: top;\n",
       "    }\n",
       "\n",
       "    .dataframe thead th {\n",
       "        text-align: right;\n",
       "    }\n",
       "</style>\n",
       "<table border=\"1\" class=\"dataframe\">\n",
       "  <thead>\n",
       "    <tr style=\"text-align: right;\">\n",
       "      <th></th>\n",
       "      <th>GTIN</th>\n",
       "      <th>Syndigo Taxo</th>\n",
       "    </tr>\n",
       "  </thead>\n",
       "  <tbody>\n",
       "    <tr>\n",
       "      <th>0</th>\n",
       "      <td>16000289192</td>\n",
       "      <td>Food / Beverages &gt; Grocery &gt; Breads / Cereals ...</td>\n",
       "    </tr>\n",
       "    <tr>\n",
       "      <th>1</th>\n",
       "      <td>16000274730</td>\n",
       "      <td>Food / Beverages &gt; Grocery &gt; Breads / Cereals ...</td>\n",
       "    </tr>\n",
       "    <tr>\n",
       "      <th>2</th>\n",
       "      <td>44325120067</td>\n",
       "      <td>Food / Beverages &gt; Meat / Poultry / Seafood / ...</td>\n",
       "    </tr>\n",
       "    <tr>\n",
       "      <th>3</th>\n",
       "      <td>29702041135</td>\n",
       "      <td>Food / Beverages &gt; Grocery &gt; Confectionery / D...</td>\n",
       "    </tr>\n",
       "    <tr>\n",
       "      <th>4</th>\n",
       "      <td>18000113613</td>\n",
       "      <td>Food / Beverages &gt; Bakery / Deli &gt; Prepared &amp; ...</td>\n",
       "    </tr>\n",
       "  </tbody>\n",
       "</table>\n",
       "</div>"
      ],
      "text/plain": [
       "          GTIN                                       Syndigo Taxo\n",
       "0  16000289192  Food / Beverages > Grocery > Breads / Cereals ...\n",
       "1  16000274730  Food / Beverages > Grocery > Breads / Cereals ...\n",
       "2  44325120067  Food / Beverages > Meat / Poultry / Seafood / ...\n",
       "3  29702041135  Food / Beverages > Grocery > Confectionery / D...\n",
       "4  18000113613  Food / Beverages > Bakery / Deli > Prepared & ..."
      ]
     },
     "execution_count": 10,
     "metadata": {},
     "output_type": "execute_result"
    }
   ],
   "source": [
    "syndigo_2.head()"
   ]
  },
  {
   "cell_type": "code",
   "execution_count": 11,
   "id": "9233e6bc",
   "metadata": {},
   "outputs": [
    {
     "data": {
      "text/plain": [
       "164053"
      ]
     },
     "execution_count": 11,
     "metadata": {},
     "output_type": "execute_result"
    }
   ],
   "source": [
    "syndigo_1.shape[0] + syndigo_2.shape[0] + syndigo_3.shape[0] + syndigo_4.shape[0] + syndigo_5.shape[0] # 164053/ 164053"
   ]
  },
  {
   "cell_type": "code",
   "execution_count": 12,
   "id": "0b3876d2",
   "metadata": {},
   "outputs": [
    {
     "data": {
      "text/plain": [
       "(164053, 3)"
      ]
     },
     "execution_count": 12,
     "metadata": {},
     "output_type": "execute_result"
    }
   ],
   "source": [
    "syndigo_concat = pd.concat([syndigo_1, syndigo_2, syndigo_3, syndigo_4,syndigo_5]).reset_index()\n",
    "syndigo_concat.dropna(how = 'all',inplace= True)\n",
    "\n",
    "#sysyndigo_concatndigo_concat = pd.concat([ syndigo_3, syndigo_4,syndigo_5]) # 43501\n",
    "\n",
    "#syndigo_concat = pd.concat([syndigo_2])  #  (50506, 2)\n",
    "syndigo_concat.shape"
   ]
  },
  {
   "cell_type": "code",
   "execution_count": 13,
   "id": "17cb22f9",
   "metadata": {},
   "outputs": [
    {
     "data": {
      "text/html": [
       "<div>\n",
       "<style scoped>\n",
       "    .dataframe tbody tr th:only-of-type {\n",
       "        vertical-align: middle;\n",
       "    }\n",
       "\n",
       "    .dataframe tbody tr th {\n",
       "        vertical-align: top;\n",
       "    }\n",
       "\n",
       "    .dataframe thead th {\n",
       "        text-align: right;\n",
       "    }\n",
       "</style>\n",
       "<table border=\"1\" class=\"dataframe\">\n",
       "  <thead>\n",
       "    <tr style=\"text-align: right;\">\n",
       "      <th></th>\n",
       "      <th>index</th>\n",
       "      <th>GTIN</th>\n",
       "      <th>Syndigo Taxo</th>\n",
       "    </tr>\n",
       "  </thead>\n",
       "  <tbody>\n",
       "    <tr>\n",
       "      <th>0</th>\n",
       "      <td>0</td>\n",
       "      <td>796252800375</td>\n",
       "      <td>Food / Beverages &gt; Dairy &amp; Egg Products &gt; Cheeses</td>\n",
       "    </tr>\n",
       "    <tr>\n",
       "      <th>1</th>\n",
       "      <td>1</td>\n",
       "      <td>97073240594</td>\n",
       "      <td>Food / Beverages &gt; Dairy &amp; Egg Products &gt; Cheeses</td>\n",
       "    </tr>\n",
       "    <tr>\n",
       "      <th>2</th>\n",
       "      <td>2</td>\n",
       "      <td>632169113262</td>\n",
       "      <td>Health &amp; Beauty &gt; Personal Care &gt; Hair Care &gt; ...</td>\n",
       "    </tr>\n",
       "    <tr>\n",
       "      <th>3</th>\n",
       "      <td>3</td>\n",
       "      <td>87300000329</td>\n",
       "      <td>Health &amp; Beauty &gt; Personal Care &gt; Soaps &gt; Foam...</td>\n",
       "    </tr>\n",
       "    <tr>\n",
       "      <th>4</th>\n",
       "      <td>4</td>\n",
       "      <td>763948052295</td>\n",
       "      <td>Health &amp; Beauty &gt; Vitamins &amp; Dietary Supplemen...</td>\n",
       "    </tr>\n",
       "  </tbody>\n",
       "</table>\n",
       "</div>"
      ],
      "text/plain": [
       "   index          GTIN                                       Syndigo Taxo\n",
       "0      0  796252800375  Food / Beverages > Dairy & Egg Products > Cheeses\n",
       "1      1   97073240594  Food / Beverages > Dairy & Egg Products > Cheeses\n",
       "2      2  632169113262  Health & Beauty > Personal Care > Hair Care > ...\n",
       "3      3   87300000329  Health & Beauty > Personal Care > Soaps > Foam...\n",
       "4      4  763948052295  Health & Beauty > Vitamins & Dietary Supplemen..."
      ]
     },
     "execution_count": 13,
     "metadata": {},
     "output_type": "execute_result"
    }
   ],
   "source": [
    "syndigo_concat.head() "
   ]
  },
  {
   "cell_type": "code",
   "execution_count": 15,
   "id": "93497610",
   "metadata": {},
   "outputs": [],
   "source": [
    "syndigo_concat['Levels_map'] = syndigo_concat['Syndigo Taxo'].fillna('None').apply(lambda x: dict(zip(['Level '+str(i+1) for i in range(len(x.split('>')))],[i.strip() for i in x.split('>')])))"
   ]
  },
  {
   "cell_type": "code",
   "execution_count": 16,
   "id": "37956beb",
   "metadata": {},
   "outputs": [
    {
     "data": {
      "text/html": [
       "<div>\n",
       "<style scoped>\n",
       "    .dataframe tbody tr th:only-of-type {\n",
       "        vertical-align: middle;\n",
       "    }\n",
       "\n",
       "    .dataframe tbody tr th {\n",
       "        vertical-align: top;\n",
       "    }\n",
       "\n",
       "    .dataframe thead th {\n",
       "        text-align: right;\n",
       "    }\n",
       "</style>\n",
       "<table border=\"1\" class=\"dataframe\">\n",
       "  <thead>\n",
       "    <tr style=\"text-align: right;\">\n",
       "      <th></th>\n",
       "      <th>index</th>\n",
       "      <th>GTIN</th>\n",
       "      <th>Syndigo Taxo</th>\n",
       "      <th>Levels_map</th>\n",
       "    </tr>\n",
       "  </thead>\n",
       "  <tbody>\n",
       "    <tr>\n",
       "      <th>0</th>\n",
       "      <td>0</td>\n",
       "      <td>796252800375</td>\n",
       "      <td>Food / Beverages &gt; Dairy &amp; Egg Products &gt; Cheeses</td>\n",
       "      <td>{'Level 1': 'Food / Beverages', 'Level 2': 'Da...</td>\n",
       "    </tr>\n",
       "    <tr>\n",
       "      <th>1</th>\n",
       "      <td>1</td>\n",
       "      <td>97073240594</td>\n",
       "      <td>Food / Beverages &gt; Dairy &amp; Egg Products &gt; Cheeses</td>\n",
       "      <td>{'Level 1': 'Food / Beverages', 'Level 2': 'Da...</td>\n",
       "    </tr>\n",
       "    <tr>\n",
       "      <th>2</th>\n",
       "      <td>2</td>\n",
       "      <td>632169113262</td>\n",
       "      <td>Health &amp; Beauty &gt; Personal Care &gt; Hair Care &gt; ...</td>\n",
       "      <td>{'Level 1': 'Health &amp; Beauty', 'Level 2': 'Per...</td>\n",
       "    </tr>\n",
       "    <tr>\n",
       "      <th>3</th>\n",
       "      <td>3</td>\n",
       "      <td>87300000329</td>\n",
       "      <td>Health &amp; Beauty &gt; Personal Care &gt; Soaps &gt; Foam...</td>\n",
       "      <td>{'Level 1': 'Health &amp; Beauty', 'Level 2': 'Per...</td>\n",
       "    </tr>\n",
       "    <tr>\n",
       "      <th>4</th>\n",
       "      <td>4</td>\n",
       "      <td>763948052295</td>\n",
       "      <td>Health &amp; Beauty &gt; Vitamins &amp; Dietary Supplemen...</td>\n",
       "      <td>{'Level 1': 'Health &amp; Beauty', 'Level 2': 'Vit...</td>\n",
       "    </tr>\n",
       "  </tbody>\n",
       "</table>\n",
       "</div>"
      ],
      "text/plain": [
       "   index          GTIN                                       Syndigo Taxo  \\\n",
       "0      0  796252800375  Food / Beverages > Dairy & Egg Products > Cheeses   \n",
       "1      1   97073240594  Food / Beverages > Dairy & Egg Products > Cheeses   \n",
       "2      2  632169113262  Health & Beauty > Personal Care > Hair Care > ...   \n",
       "3      3   87300000329  Health & Beauty > Personal Care > Soaps > Foam...   \n",
       "4      4  763948052295  Health & Beauty > Vitamins & Dietary Supplemen...   \n",
       "\n",
       "                                          Levels_map  \n",
       "0  {'Level 1': 'Food / Beverages', 'Level 2': 'Da...  \n",
       "1  {'Level 1': 'Food / Beverages', 'Level 2': 'Da...  \n",
       "2  {'Level 1': 'Health & Beauty', 'Level 2': 'Per...  \n",
       "3  {'Level 1': 'Health & Beauty', 'Level 2': 'Per...  \n",
       "4  {'Level 1': 'Health & Beauty', 'Level 2': 'Vit...  "
      ]
     },
     "execution_count": 16,
     "metadata": {},
     "output_type": "execute_result"
    }
   ],
   "source": [
    "syndigo_concat.head()"
   ]
  },
  {
   "cell_type": "code",
   "execution_count": 17,
   "id": "6d70d253",
   "metadata": {},
   "outputs": [],
   "source": [
    "max_lvl = max (map(lambda x: x.count('>') + 1, syndigo_concat['Syndigo Taxo'])) \n",
    "level_var = list(map(lambda x: 'Level ' + str(x), range(1, max_lvl + 1)))\n",
    "#level_var = ['Level 1', 'Level 2', 'Level 3', 'Level 4' ,'Level 5', 'Level 6', 'Level 7', 'Level 8', 'Level 9']\n",
    "\n",
    "for var in level_var:\n",
    "    syndigo_concat[var] = np.nan"
   ]
  },
  {
   "cell_type": "code",
   "execution_count": 18,
   "id": "b3ccbd7f",
   "metadata": {},
   "outputs": [
    {
     "data": {
      "text/html": [
       "<div>\n",
       "<style scoped>\n",
       "    .dataframe tbody tr th:only-of-type {\n",
       "        vertical-align: middle;\n",
       "    }\n",
       "\n",
       "    .dataframe tbody tr th {\n",
       "        vertical-align: top;\n",
       "    }\n",
       "\n",
       "    .dataframe thead th {\n",
       "        text-align: right;\n",
       "    }\n",
       "</style>\n",
       "<table border=\"1\" class=\"dataframe\">\n",
       "  <thead>\n",
       "    <tr style=\"text-align: right;\">\n",
       "      <th></th>\n",
       "      <th>index</th>\n",
       "      <th>GTIN</th>\n",
       "      <th>Syndigo Taxo</th>\n",
       "      <th>Levels_map</th>\n",
       "      <th>Level 1</th>\n",
       "      <th>Level 2</th>\n",
       "      <th>Level 3</th>\n",
       "      <th>Level 4</th>\n",
       "      <th>Level 5</th>\n",
       "      <th>Level 6</th>\n",
       "      <th>Level 7</th>\n",
       "      <th>Level 8</th>\n",
       "      <th>Level 9</th>\n",
       "    </tr>\n",
       "  </thead>\n",
       "  <tbody>\n",
       "    <tr>\n",
       "      <th>0</th>\n",
       "      <td>0</td>\n",
       "      <td>796252800375</td>\n",
       "      <td>Food / Beverages &gt; Dairy &amp; Egg Products &gt; Cheeses</td>\n",
       "      <td>{'Level 1': 'Food / Beverages', 'Level 2': 'Da...</td>\n",
       "      <td>NaN</td>\n",
       "      <td>NaN</td>\n",
       "      <td>NaN</td>\n",
       "      <td>NaN</td>\n",
       "      <td>NaN</td>\n",
       "      <td>NaN</td>\n",
       "      <td>NaN</td>\n",
       "      <td>NaN</td>\n",
       "      <td>NaN</td>\n",
       "    </tr>\n",
       "    <tr>\n",
       "      <th>1</th>\n",
       "      <td>1</td>\n",
       "      <td>97073240594</td>\n",
       "      <td>Food / Beverages &gt; Dairy &amp; Egg Products &gt; Cheeses</td>\n",
       "      <td>{'Level 1': 'Food / Beverages', 'Level 2': 'Da...</td>\n",
       "      <td>NaN</td>\n",
       "      <td>NaN</td>\n",
       "      <td>NaN</td>\n",
       "      <td>NaN</td>\n",
       "      <td>NaN</td>\n",
       "      <td>NaN</td>\n",
       "      <td>NaN</td>\n",
       "      <td>NaN</td>\n",
       "      <td>NaN</td>\n",
       "    </tr>\n",
       "    <tr>\n",
       "      <th>2</th>\n",
       "      <td>2</td>\n",
       "      <td>632169113262</td>\n",
       "      <td>Health &amp; Beauty &gt; Personal Care &gt; Hair Care &gt; ...</td>\n",
       "      <td>{'Level 1': 'Health &amp; Beauty', 'Level 2': 'Per...</td>\n",
       "      <td>NaN</td>\n",
       "      <td>NaN</td>\n",
       "      <td>NaN</td>\n",
       "      <td>NaN</td>\n",
       "      <td>NaN</td>\n",
       "      <td>NaN</td>\n",
       "      <td>NaN</td>\n",
       "      <td>NaN</td>\n",
       "      <td>NaN</td>\n",
       "    </tr>\n",
       "    <tr>\n",
       "      <th>3</th>\n",
       "      <td>3</td>\n",
       "      <td>87300000329</td>\n",
       "      <td>Health &amp; Beauty &gt; Personal Care &gt; Soaps &gt; Foam...</td>\n",
       "      <td>{'Level 1': 'Health &amp; Beauty', 'Level 2': 'Per...</td>\n",
       "      <td>NaN</td>\n",
       "      <td>NaN</td>\n",
       "      <td>NaN</td>\n",
       "      <td>NaN</td>\n",
       "      <td>NaN</td>\n",
       "      <td>NaN</td>\n",
       "      <td>NaN</td>\n",
       "      <td>NaN</td>\n",
       "      <td>NaN</td>\n",
       "    </tr>\n",
       "    <tr>\n",
       "      <th>4</th>\n",
       "      <td>4</td>\n",
       "      <td>763948052295</td>\n",
       "      <td>Health &amp; Beauty &gt; Vitamins &amp; Dietary Supplemen...</td>\n",
       "      <td>{'Level 1': 'Health &amp; Beauty', 'Level 2': 'Vit...</td>\n",
       "      <td>NaN</td>\n",
       "      <td>NaN</td>\n",
       "      <td>NaN</td>\n",
       "      <td>NaN</td>\n",
       "      <td>NaN</td>\n",
       "      <td>NaN</td>\n",
       "      <td>NaN</td>\n",
       "      <td>NaN</td>\n",
       "      <td>NaN</td>\n",
       "    </tr>\n",
       "  </tbody>\n",
       "</table>\n",
       "</div>"
      ],
      "text/plain": [
       "   index          GTIN                                       Syndigo Taxo  \\\n",
       "0      0  796252800375  Food / Beverages > Dairy & Egg Products > Cheeses   \n",
       "1      1   97073240594  Food / Beverages > Dairy & Egg Products > Cheeses   \n",
       "2      2  632169113262  Health & Beauty > Personal Care > Hair Care > ...   \n",
       "3      3   87300000329  Health & Beauty > Personal Care > Soaps > Foam...   \n",
       "4      4  763948052295  Health & Beauty > Vitamins & Dietary Supplemen...   \n",
       "\n",
       "                                          Levels_map  Level 1  Level 2  \\\n",
       "0  {'Level 1': 'Food / Beverages', 'Level 2': 'Da...      NaN      NaN   \n",
       "1  {'Level 1': 'Food / Beverages', 'Level 2': 'Da...      NaN      NaN   \n",
       "2  {'Level 1': 'Health & Beauty', 'Level 2': 'Per...      NaN      NaN   \n",
       "3  {'Level 1': 'Health & Beauty', 'Level 2': 'Per...      NaN      NaN   \n",
       "4  {'Level 1': 'Health & Beauty', 'Level 2': 'Vit...      NaN      NaN   \n",
       "\n",
       "   Level 3  Level 4  Level 5  Level 6  Level 7  Level 8  Level 9  \n",
       "0      NaN      NaN      NaN      NaN      NaN      NaN      NaN  \n",
       "1      NaN      NaN      NaN      NaN      NaN      NaN      NaN  \n",
       "2      NaN      NaN      NaN      NaN      NaN      NaN      NaN  \n",
       "3      NaN      NaN      NaN      NaN      NaN      NaN      NaN  \n",
       "4      NaN      NaN      NaN      NaN      NaN      NaN      NaN  "
      ]
     },
     "execution_count": 18,
     "metadata": {},
     "output_type": "execute_result"
    }
   ],
   "source": [
    "syndigo_concat.head()"
   ]
  },
  {
   "cell_type": "code",
   "execution_count": 19,
   "id": "05b1923f",
   "metadata": {},
   "outputs": [],
   "source": [
    "for i in range(len(syndigo_concat)):\n",
    "    mapping = syndigo_concat['Levels_map'].iloc[i]\n",
    "    for (k,v) in mapping.items():\n",
    "        if  k in syndigo_concat.columns:   \n",
    "            syndigo_concat.loc[i, k] = v"
   ]
  },
  {
   "cell_type": "code",
   "execution_count": 13,
   "id": "257163fc",
   "metadata": {},
   "outputs": [
    {
     "data": {
      "text/html": [
       "<div>\n",
       "<style scoped>\n",
       "    .dataframe tbody tr th:only-of-type {\n",
       "        vertical-align: middle;\n",
       "    }\n",
       "\n",
       "    .dataframe tbody tr th {\n",
       "        vertical-align: top;\n",
       "    }\n",
       "\n",
       "    .dataframe thead th {\n",
       "        text-align: right;\n",
       "    }\n",
       "</style>\n",
       "<table border=\"1\" class=\"dataframe\">\n",
       "  <thead>\n",
       "    <tr style=\"text-align: right;\">\n",
       "      <th></th>\n",
       "      <th>index</th>\n",
       "      <th>GTIN</th>\n",
       "      <th>taxo</th>\n",
       "      <th>Levels_map</th>\n",
       "      <th>Level 1</th>\n",
       "      <th>Level 2</th>\n",
       "      <th>Level 3</th>\n",
       "      <th>Level 4</th>\n",
       "      <th>Level 5</th>\n",
       "      <th>Level 6</th>\n",
       "      <th>Level 7</th>\n",
       "      <th>Level 8</th>\n",
       "      <th>Level 9</th>\n",
       "    </tr>\n",
       "  </thead>\n",
       "  <tbody>\n",
       "    <tr>\n",
       "      <th>0</th>\n",
       "      <td>0</td>\n",
       "      <td>796252800375</td>\n",
       "      <td>Food / Beverages &gt; Dairy &amp; Egg Products &gt; Cheeses</td>\n",
       "      <td>{'Level 1': 'Food / Beverages', 'Level 2': 'Da...</td>\n",
       "      <td>Food / Beverages</td>\n",
       "      <td>Dairy &amp; Egg Products</td>\n",
       "      <td>Cheeses</td>\n",
       "      <td>NaN</td>\n",
       "      <td>NaN</td>\n",
       "      <td>NaN</td>\n",
       "      <td>NaN</td>\n",
       "      <td>NaN</td>\n",
       "      <td>NaN</td>\n",
       "    </tr>\n",
       "    <tr>\n",
       "      <th>1</th>\n",
       "      <td>1</td>\n",
       "      <td>97073240594</td>\n",
       "      <td>Food / Beverages &gt; Dairy &amp; Egg Products &gt; Cheeses</td>\n",
       "      <td>{'Level 1': 'Food / Beverages', 'Level 2': 'Da...</td>\n",
       "      <td>Food / Beverages</td>\n",
       "      <td>Dairy &amp; Egg Products</td>\n",
       "      <td>Cheeses</td>\n",
       "      <td>NaN</td>\n",
       "      <td>NaN</td>\n",
       "      <td>NaN</td>\n",
       "      <td>NaN</td>\n",
       "      <td>NaN</td>\n",
       "      <td>NaN</td>\n",
       "    </tr>\n",
       "    <tr>\n",
       "      <th>2</th>\n",
       "      <td>2</td>\n",
       "      <td>632169113262</td>\n",
       "      <td>Health &amp; Beauty &gt; Personal Care &gt; Hair Care &gt; ...</td>\n",
       "      <td>{'Level 1': 'Health &amp; Beauty', 'Level 2': 'Per...</td>\n",
       "      <td>Health &amp; Beauty</td>\n",
       "      <td>Personal Care</td>\n",
       "      <td>Hair Care</td>\n",
       "      <td>Treatments &amp; Primers</td>\n",
       "      <td>NaN</td>\n",
       "      <td>NaN</td>\n",
       "      <td>NaN</td>\n",
       "      <td>NaN</td>\n",
       "      <td>NaN</td>\n",
       "    </tr>\n",
       "    <tr>\n",
       "      <th>3</th>\n",
       "      <td>3</td>\n",
       "      <td>87300000329</td>\n",
       "      <td>Health &amp; Beauty &gt; Personal Care &gt; Soaps &gt; Foam...</td>\n",
       "      <td>{'Level 1': 'Health &amp; Beauty', 'Level 2': 'Per...</td>\n",
       "      <td>Health &amp; Beauty</td>\n",
       "      <td>Personal Care</td>\n",
       "      <td>Soaps</td>\n",
       "      <td>Foam &amp; Liquid</td>\n",
       "      <td>NaN</td>\n",
       "      <td>NaN</td>\n",
       "      <td>NaN</td>\n",
       "      <td>NaN</td>\n",
       "      <td>NaN</td>\n",
       "    </tr>\n",
       "    <tr>\n",
       "      <th>4</th>\n",
       "      <td>4</td>\n",
       "      <td>763948052295</td>\n",
       "      <td>Health &amp; Beauty &gt; Vitamins &amp; Dietary Supplemen...</td>\n",
       "      <td>{'Level 1': 'Health &amp; Beauty', 'Level 2': 'Vit...</td>\n",
       "      <td>Health &amp; Beauty</td>\n",
       "      <td>Vitamins &amp; Dietary Supplements</td>\n",
       "      <td>Pills &amp; Chews Supplements</td>\n",
       "      <td>NaN</td>\n",
       "      <td>NaN</td>\n",
       "      <td>NaN</td>\n",
       "      <td>NaN</td>\n",
       "      <td>NaN</td>\n",
       "      <td>NaN</td>\n",
       "    </tr>\n",
       "  </tbody>\n",
       "</table>\n",
       "</div>"
      ],
      "text/plain": [
       "   index          GTIN                                               taxo  \\\n",
       "0      0  796252800375  Food / Beverages > Dairy & Egg Products > Cheeses   \n",
       "1      1   97073240594  Food / Beverages > Dairy & Egg Products > Cheeses   \n",
       "2      2  632169113262  Health & Beauty > Personal Care > Hair Care > ...   \n",
       "3      3   87300000329  Health & Beauty > Personal Care > Soaps > Foam...   \n",
       "4      4  763948052295  Health & Beauty > Vitamins & Dietary Supplemen...   \n",
       "\n",
       "                                          Levels_map           Level 1  \\\n",
       "0  {'Level 1': 'Food / Beverages', 'Level 2': 'Da...  Food / Beverages   \n",
       "1  {'Level 1': 'Food / Beverages', 'Level 2': 'Da...  Food / Beverages   \n",
       "2  {'Level 1': 'Health & Beauty', 'Level 2': 'Per...   Health & Beauty   \n",
       "3  {'Level 1': 'Health & Beauty', 'Level 2': 'Per...   Health & Beauty   \n",
       "4  {'Level 1': 'Health & Beauty', 'Level 2': 'Vit...   Health & Beauty   \n",
       "\n",
       "                          Level 2                    Level 3  \\\n",
       "0            Dairy & Egg Products                    Cheeses   \n",
       "1            Dairy & Egg Products                    Cheeses   \n",
       "2                   Personal Care                  Hair Care   \n",
       "3                   Personal Care                      Soaps   \n",
       "4  Vitamins & Dietary Supplements  Pills & Chews Supplements   \n",
       "\n",
       "                Level 4 Level 5 Level 6 Level 7 Level 8 Level 9  \n",
       "0                   NaN     NaN     NaN     NaN     NaN     NaN  \n",
       "1                   NaN     NaN     NaN     NaN     NaN     NaN  \n",
       "2  Treatments & Primers     NaN     NaN     NaN     NaN     NaN  \n",
       "3         Foam & Liquid     NaN     NaN     NaN     NaN     NaN  \n",
       "4                   NaN     NaN     NaN     NaN     NaN     NaN  "
      ]
     },
     "execution_count": 13,
     "metadata": {},
     "output_type": "execute_result"
    }
   ],
   "source": [
    "syndigo_concat.head()"
   ]
  },
  {
   "cell_type": "code",
   "execution_count": 20,
   "id": "4ed0b8a0",
   "metadata": {},
   "outputs": [
    {
     "data": {
      "text/html": [
       "<div>\n",
       "<style scoped>\n",
       "    .dataframe tbody tr th:only-of-type {\n",
       "        vertical-align: middle;\n",
       "    }\n",
       "\n",
       "    .dataframe tbody tr th {\n",
       "        vertical-align: top;\n",
       "    }\n",
       "\n",
       "    .dataframe thead th {\n",
       "        text-align: right;\n",
       "    }\n",
       "</style>\n",
       "<table border=\"1\" class=\"dataframe\">\n",
       "  <thead>\n",
       "    <tr style=\"text-align: right;\">\n",
       "      <th></th>\n",
       "      <th>GTIN</th>\n",
       "      <th>Syndigo Taxo</th>\n",
       "      <th>Levels_map</th>\n",
       "      <th>Level 1</th>\n",
       "      <th>Level 2</th>\n",
       "      <th>Level 3</th>\n",
       "      <th>Level 4</th>\n",
       "      <th>Level 5</th>\n",
       "      <th>Level 6</th>\n",
       "      <th>Level 7</th>\n",
       "      <th>Level 8</th>\n",
       "      <th>Level 9</th>\n",
       "    </tr>\n",
       "  </thead>\n",
       "  <tbody>\n",
       "    <tr>\n",
       "      <th>0</th>\n",
       "      <td>796252800375</td>\n",
       "      <td>Food / Beverages &gt; Dairy &amp; Egg Products &gt; Cheeses</td>\n",
       "      <td>{'Level 1': 'Food / Beverages', 'Level 2': 'Da...</td>\n",
       "      <td>Food / Beverages</td>\n",
       "      <td>Dairy &amp; Egg Products</td>\n",
       "      <td>Cheeses</td>\n",
       "      <td>NaN</td>\n",
       "      <td>NaN</td>\n",
       "      <td>NaN</td>\n",
       "      <td>NaN</td>\n",
       "      <td>NaN</td>\n",
       "      <td>NaN</td>\n",
       "    </tr>\n",
       "    <tr>\n",
       "      <th>1</th>\n",
       "      <td>97073240594</td>\n",
       "      <td>Food / Beverages &gt; Dairy &amp; Egg Products &gt; Cheeses</td>\n",
       "      <td>{'Level 1': 'Food / Beverages', 'Level 2': 'Da...</td>\n",
       "      <td>Food / Beverages</td>\n",
       "      <td>Dairy &amp; Egg Products</td>\n",
       "      <td>Cheeses</td>\n",
       "      <td>NaN</td>\n",
       "      <td>NaN</td>\n",
       "      <td>NaN</td>\n",
       "      <td>NaN</td>\n",
       "      <td>NaN</td>\n",
       "      <td>NaN</td>\n",
       "    </tr>\n",
       "    <tr>\n",
       "      <th>2</th>\n",
       "      <td>632169113262</td>\n",
       "      <td>Health &amp; Beauty &gt; Personal Care &gt; Hair Care &gt; ...</td>\n",
       "      <td>{'Level 1': 'Health &amp; Beauty', 'Level 2': 'Per...</td>\n",
       "      <td>Health &amp; Beauty</td>\n",
       "      <td>Personal Care</td>\n",
       "      <td>Hair Care</td>\n",
       "      <td>Treatments &amp; Primers</td>\n",
       "      <td>NaN</td>\n",
       "      <td>NaN</td>\n",
       "      <td>NaN</td>\n",
       "      <td>NaN</td>\n",
       "      <td>NaN</td>\n",
       "    </tr>\n",
       "    <tr>\n",
       "      <th>3</th>\n",
       "      <td>87300000329</td>\n",
       "      <td>Health &amp; Beauty &gt; Personal Care &gt; Soaps &gt; Foam...</td>\n",
       "      <td>{'Level 1': 'Health &amp; Beauty', 'Level 2': 'Per...</td>\n",
       "      <td>Health &amp; Beauty</td>\n",
       "      <td>Personal Care</td>\n",
       "      <td>Soaps</td>\n",
       "      <td>Foam &amp; Liquid</td>\n",
       "      <td>NaN</td>\n",
       "      <td>NaN</td>\n",
       "      <td>NaN</td>\n",
       "      <td>NaN</td>\n",
       "      <td>NaN</td>\n",
       "    </tr>\n",
       "    <tr>\n",
       "      <th>4</th>\n",
       "      <td>763948052295</td>\n",
       "      <td>Health &amp; Beauty &gt; Vitamins &amp; Dietary Supplemen...</td>\n",
       "      <td>{'Level 1': 'Health &amp; Beauty', 'Level 2': 'Vit...</td>\n",
       "      <td>Health &amp; Beauty</td>\n",
       "      <td>Vitamins &amp; Dietary Supplements</td>\n",
       "      <td>Pills &amp; Chews Supplements</td>\n",
       "      <td>NaN</td>\n",
       "      <td>NaN</td>\n",
       "      <td>NaN</td>\n",
       "      <td>NaN</td>\n",
       "      <td>NaN</td>\n",
       "      <td>NaN</td>\n",
       "    </tr>\n",
       "  </tbody>\n",
       "</table>\n",
       "</div>"
      ],
      "text/plain": [
       "           GTIN                                       Syndigo Taxo  \\\n",
       "0  796252800375  Food / Beverages > Dairy & Egg Products > Cheeses   \n",
       "1   97073240594  Food / Beverages > Dairy & Egg Products > Cheeses   \n",
       "2  632169113262  Health & Beauty > Personal Care > Hair Care > ...   \n",
       "3   87300000329  Health & Beauty > Personal Care > Soaps > Foam...   \n",
       "4  763948052295  Health & Beauty > Vitamins & Dietary Supplemen...   \n",
       "\n",
       "                                          Levels_map           Level 1  \\\n",
       "0  {'Level 1': 'Food / Beverages', 'Level 2': 'Da...  Food / Beverages   \n",
       "1  {'Level 1': 'Food / Beverages', 'Level 2': 'Da...  Food / Beverages   \n",
       "2  {'Level 1': 'Health & Beauty', 'Level 2': 'Per...   Health & Beauty   \n",
       "3  {'Level 1': 'Health & Beauty', 'Level 2': 'Per...   Health & Beauty   \n",
       "4  {'Level 1': 'Health & Beauty', 'Level 2': 'Vit...   Health & Beauty   \n",
       "\n",
       "                          Level 2                    Level 3  \\\n",
       "0            Dairy & Egg Products                    Cheeses   \n",
       "1            Dairy & Egg Products                    Cheeses   \n",
       "2                   Personal Care                  Hair Care   \n",
       "3                   Personal Care                      Soaps   \n",
       "4  Vitamins & Dietary Supplements  Pills & Chews Supplements   \n",
       "\n",
       "                Level 4 Level 5 Level 6 Level 7 Level 8 Level 9  \n",
       "0                   NaN     NaN     NaN     NaN     NaN     NaN  \n",
       "1                   NaN     NaN     NaN     NaN     NaN     NaN  \n",
       "2  Treatments & Primers     NaN     NaN     NaN     NaN     NaN  \n",
       "3         Foam & Liquid     NaN     NaN     NaN     NaN     NaN  \n",
       "4                   NaN     NaN     NaN     NaN     NaN     NaN  "
      ]
     },
     "execution_count": 20,
     "metadata": {},
     "output_type": "execute_result"
    }
   ],
   "source": [
    "syndigo_concat.drop('index', axis=1, inplace=True) \n",
    "syndigo_concat.head()"
   ]
  },
  {
   "cell_type": "code",
   "execution_count": 21,
   "id": "dcb7e191",
   "metadata": {},
   "outputs": [],
   "source": [
    "path = 'C:\\\\users\\\\iny2819\\\\kroger\\\\Data\\\\'\n",
    "\n",
    "from datetime import date\n",
    "dte = date.today().strftime('%m%d%y')\n",
    "syndigo_concat.to_excel(path + \"syndiago Parts 1-2-3-4-5 matches w taxonomy classification_\" + dte +\".xlsx\",index=None)\n",
    "syndigo_concat.to_csv(path + \"syndiago Parts 1-2-3-4-5 matches w taxonomy classification_\" +dte + \".csv\",index=None)"
   ]
  },
  {
   "cell_type": "code",
   "execution_count": null,
   "id": "3df1f343",
   "metadata": {},
   "outputs": [],
   "source": [
    "stopdte"
   ]
  },
  {
   "cell_type": "code",
   "execution_count": null,
   "id": "8d0a27d1",
   "metadata": {},
   "outputs": [],
   "source": [
    "syndigo_concat.GTIN.nunique()"
   ]
  },
  {
   "cell_type": "code",
   "execution_count": null,
   "id": "c1eab3e4",
   "metadata": {
    "scrolled": true
   },
   "outputs": [],
   "source": [
    "syndigo_1.shape "
   ]
  },
  {
   "cell_type": "code",
   "execution_count": null,
   "id": "1509e848",
   "metadata": {},
   "outputs": [],
   "source": [
    "max_lvl = max (map(lambda x: x.count('>') + 1, syndigo_concat['taxo'])) "
   ]
  },
  {
   "cell_type": "code",
   "execution_count": null,
   "id": "4aa86e65",
   "metadata": {},
   "outputs": [],
   "source": [
    "list(map(lambda x: 'Level ' + str(x), range(1, max_lvl + 1)))"
   ]
  },
  {
   "cell_type": "code",
   "execution_count": 17,
   "id": "8d5fea15",
   "metadata": {},
   "outputs": [
    {
     "name": "stderr",
     "output_type": "stream",
     "text": [
      "C:\\Users\\iny2819\\AppData\\Local\\Temp\\ipykernel_23332\\4199457436.py:1: DtypeWarning: Columns (11) have mixed types. Specify dtype option on import or set low_memory=False.\n",
      "  df = pd.read_csv(path + \"syndiago Parts 1-2-3-4-5 matches w taxonomy classification.csv\")\n"
     ]
    }
   ],
   "source": [
    "df = pd.read_csv(path + \"syndiago Parts 1-2-3-4-5 matches w taxonomy classification.csv\")"
   ]
  },
  {
   "cell_type": "code",
   "execution_count": 23,
   "id": "02cb4f2c",
   "metadata": {},
   "outputs": [],
   "source": [
    "df = pd.read_csv(path + \"syndiago Parts 1-2-3-4-5 matches w taxonomy classification.csv\", dtype='unicode')"
   ]
  },
  {
   "cell_type": "code",
   "execution_count": 25,
   "id": "854f4978",
   "metadata": {},
   "outputs": [
    {
     "data": {
      "text/plain": [
       "(164053, 12)"
      ]
     },
     "execution_count": 25,
     "metadata": {},
     "output_type": "execute_result"
    }
   ],
   "source": [
    "df.shape"
   ]
  },
  {
   "cell_type": "code",
   "execution_count": 26,
   "id": "59c3c1ef",
   "metadata": {},
   "outputs": [],
   "source": [
    "df.drop_duplicates('GTIN', inplace = True)"
   ]
  },
  {
   "cell_type": "code",
   "execution_count": 27,
   "id": "086f5e31",
   "metadata": {},
   "outputs": [
    {
     "data": {
      "text/plain": [
       "(164053, 12)"
      ]
     },
     "execution_count": 27,
     "metadata": {},
     "output_type": "execute_result"
    }
   ],
   "source": [
    "df.shape"
   ]
  },
  {
   "cell_type": "code",
   "execution_count": null,
   "id": "5ca979bd",
   "metadata": {},
   "outputs": [],
   "source": []
  }
 ],
 "metadata": {
  "kernelspec": {
   "display_name": "Python 3 (ipykernel)",
   "language": "python",
   "name": "python3"
  },
  "language_info": {
   "codemirror_mode": {
    "name": "ipython",
    "version": 3
   },
   "file_extension": ".py",
   "mimetype": "text/x-python",
   "name": "python",
   "nbconvert_exporter": "python",
   "pygments_lexer": "ipython3",
   "version": "3.10.9"
  }
 },
 "nbformat": 4,
 "nbformat_minor": 5
}
