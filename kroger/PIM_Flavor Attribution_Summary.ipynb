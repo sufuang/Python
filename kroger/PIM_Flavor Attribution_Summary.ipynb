{
 "cells": [
  {
   "cell_type": "code",
   "execution_count": 1,
   "id": "7310b528",
   "metadata": {},
   "outputs": [],
   "source": [
    "import pandas as pd, numpy as np"
   ]
  },
  {
   "cell_type": "code",
   "execution_count": 106,
   "id": "3946924d",
   "metadata": {},
   "outputs": [],
   "source": [
    "#Load PIMMART data\n",
    "pim_df = pd.read_csv('PIM_Data_New_50_82Mn.zip')"
   ]
  },
  {
   "cell_type": "code",
   "execution_count": 109,
   "id": "1c50f2ce",
   "metadata": {
    "scrolled": true
   },
   "outputs": [
    {
     "data": {
      "text/plain": [
       "Index(['ITM_ID', 'GTIN_NO', 'GTIN_NAM', 'PMY_DPT_CD', 'PMY_DPT_DSC',\n",
       "       'REC_DPT_CD', 'REC_DPT_DSC', 'DPT_CD', 'DPT_DSC', 'COM_CD', 'COM_DSC',\n",
       "       'SUBCOM_CD', 'SUBCOM_DSC', 'ITM_LVL_DSC', 'VND_ECOM_DSC'],\n",
       "      dtype='object')"
      ]
     },
     "execution_count": 109,
     "metadata": {},
     "output_type": "execute_result"
    }
   ],
   "source": [
    "pim_df.columns"
   ]
  },
  {
   "cell_type": "code",
   "execution_count": 110,
   "id": "7af5d40f",
   "metadata": {
    "scrolled": true
   },
   "outputs": [],
   "source": [
    "pim_load = pd.read_csv('PIM_DATA_WITH_FLAVOR_ATTB_100323.csv')\n",
    "pim_load = pim_load.merge(pim_df, how = 'right', on = list(pim_df.columns))"
   ]
  },
  {
   "cell_type": "code",
   "execution_count": 112,
   "id": "bb9f9c57",
   "metadata": {},
   "outputs": [],
   "source": [
    "pim_load['Flavor_Flag'] = pim_load.Flavor_Code.fillna('Null').apply(lambda x: 'Y' if x != 'Null'  else 'N')"
   ]
  },
  {
   "cell_type": "code",
   "execution_count": 113,
   "id": "ea4ecf2c",
   "metadata": {},
   "outputs": [],
   "source": [
    "#Exclude SUBCOMs with no flavor flag avilable\n",
    "pim_load = pim_load[pim_load.Flavor_Code != 'NONE']\n",
    "flavor_subcom_cds = pim_load[pim_load.Flavor_Flag == 'Y'].SUBCOM_CD.unique()\n",
    "pim_load = pim_load[pim_load.SUBCOM_CD.isin(flavor_subcom_cds)]"
   ]
  },
  {
   "cell_type": "code",
   "execution_count": 114,
   "id": "fb19834e",
   "metadata": {},
   "outputs": [
    {
     "data": {
      "text/plain": [
       "(944931, 18)"
      ]
     },
     "execution_count": 114,
     "metadata": {},
     "output_type": "execute_result"
    }
   ],
   "source": [
    "pim_load.shape"
   ]
  },
  {
   "cell_type": "code",
   "execution_count": 115,
   "id": "35df6e93",
   "metadata": {},
   "outputs": [
    {
     "data": {
      "text/plain": [
       "N    913725\n",
       "Y     31206\n",
       "Name: Flavor_Flag, dtype: int64"
      ]
     },
     "execution_count": 115,
     "metadata": {},
     "output_type": "execute_result"
    }
   ],
   "source": [
    "pim_load.Flavor_Flag.value_counts()"
   ]
  },
  {
   "cell_type": "code",
   "execution_count": 103,
   "id": "268466b7",
   "metadata": {},
   "outputs": [],
   "source": [
    "flavor_df = pd.DataFrame(pim_load.groupby('SUBCOM_DSC').apply(lambda x:dict( x.Flavor_Flag.value_counts())), columns= ['Flavor Attribution Counts']).reset_index()\n",
    "flavor_df[\"DPT_DSC\"] = flavor_df.SUBCOM_DSC.map(dict(zip(pim_load.SUBCOM_DSC, pim_load.DPT_DSC)))\n",
    "flavor_df['Flavor Distribution'] = flavor_df.SUBCOM_DSC.map(dict(pim_load.groupby('SUBCOM_DSC').\\\n",
    "                                                                 apply(lambda x:dict( x.Flavor_Code.value_counts()))))\n",
    "flavor_df['Item Count'] = flavor_df.SUBCOM_DSC.map(dict(pim_load.groupby('SUBCOM_DSC').size()))                                                        "
   ]
  },
  {
   "cell_type": "code",
   "execution_count": 105,
   "id": "9f3efa6d",
   "metadata": {},
   "outputs": [],
   "source": [
    "flavor_df.to_csv('PIM_Flavor_Attributes_current.csv', index = None)"
   ]
  },
  {
   "cell_type": "code",
   "execution_count": null,
   "id": "b45a5f57",
   "metadata": {},
   "outputs": [],
   "source": [
    "flavor_df = pd.DataFrame(pim_load.groupby('SUBCOM_DSC').apply(lambda x:dict( x.Flavor_Flag.value_counts())), columns= ['Flavor Attribution Counts']).reset_index()\n"
   ]
  }
 ],
 "metadata": {
  "kernelspec": {
   "display_name": "Python 3 (ipykernel)",
   "language": "python",
   "name": "python3"
  },
  "language_info": {
   "codemirror_mode": {
    "name": "ipython",
    "version": 3
   },
   "file_extension": ".py",
   "mimetype": "text/x-python",
   "name": "python",
   "nbconvert_exporter": "python",
   "pygments_lexer": "ipython3",
   "version": "3.10.9"
  }
 },
 "nbformat": 4,
 "nbformat_minor": 5
}
