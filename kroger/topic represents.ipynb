{
 "cells": [
  {
   "cell_type": "markdown",
   "metadata": {},
   "source": [
    "# use Similarity to get the topic represents\n",
    "   - CONVERT WORD TO VECTOR\n",
    "   - apply word algebra to calculate the similarity "
   ]
  },
  {
   "cell_type": "code",
   "execution_count": 1,
   "metadata": {},
   "outputs": [],
   "source": [
    "import spacy\n",
    "# nlp = spacy.load('en_core_web_lg')\n",
    "nlp = spacy.load('en_core_web_md')\n",
    " \n",
    "# Import spatial and define a cosine_similarity function\n",
    "from scipy import spatial\n",
    "cosine_similarity = lambda vec1, vec2: 1 - spatial.distance.cosine(vec1,vec2)"
   ]
  },
  {
   "cell_type": "code",
   "execution_count": 7,
   "metadata": {},
   "outputs": [],
   "source": [
    "#grab 15 best words, but i want the best first\n",
    "#words = [tfidf.get_feature_names()[i] for i in nmf_model.components_[0].argsort()[-15:][::-1]]\n",
    "# the words:\n",
    "# ['says', 'health', 'disease', 'people', 'study', 'patients', 'risk', 'studies', 'research', 'diseases'] \n",
    "# words= ['companies', 'money', 'year', 'federal', '000', 'new', 'percent', 'government', 'company', 'million', 'care', 'people', 'health', 'said', 'says'] \n",
    "# ['milllion', 'milion', 'dollars', 'shekels', 'dolars', 'rupees', 'that', 'pay', 'moolah', 'oney']\n",
    "# words = ['military', 'house', 'security', 'russia', 'government', 'npr', 'reports', 'says', 'news', 'people', \n",
    "#     'told', 'police', 'president', 'trump', 'said']\n",
    "#['companies', 'gardaí', 'plainclothes', 'garda', 'policemen', 'gardai', 'saying', 'spokesman', 'officials', 'officals']\n",
    "l =['king', 'man', 'woman']\n",
    "# ['woma', 'businesswoman', 'lady', 'boy', 'girl', 'father', 'stepfather', 'men', 'he', 'guy']\n",
    "word_vectors = [nlp.vocab[w].vector for w in l]"
   ]
  },
  {
   "cell_type": "code",
   "execution_count": 8,
   "metadata": {},
   "outputs": [],
   "source": [
    "# add the vectors\n",
    "new_vector = word_vectors[0]\n",
    "for i in range(1,len(word_vectors)):\n",
    "    new_vector += word_vectors[i]"
   ]
  },
  {
   "cell_type": "code",
   "execution_count": 9,
   "metadata": {},
   "outputs": [],
   "source": [
    "\n",
    "king = nlp.vocab['king'].vector\n",
    "man = nlp.vocab['man'].vector\n",
    "woman = nlp.vocab['woman'].vector\n",
    "\n",
    "# Now we find the closest vector in the vocabulary to the result of \"man\" - \"woman\" + \"queen\"\n",
    "new_vector = king - man + woman"
   ]
  },
  {
   "cell_type": "code",
   "execution_count": 10,
   "metadata": {},
   "outputs": [],
   "source": [
    " \n",
    "# List the top ten closest vectors in the vocabulary to the result of the expression above\n",
    "computed_similarities = []\n",
    " \n",
    "#check all words\n",
    "for word in nlp.vocab:\n",
    "    if word.has_vector:\n",
    "        if word.is_lower:\n",
    "            if word.is_alpha:\n",
    "                similarity  = cosine_similarity(new_vector, word.vector)\n",
    "                # to avoid getting same list back\n",
    "                if word not in words:\n",
    "                    computed_similarities.append((word, similarity))\n",
    "                \n"
   ]
  },
  {
   "cell_type": "code",
   "execution_count": 11,
   "metadata": {},
   "outputs": [
    {
     "name": "stdout",
     "output_type": "stream",
     "text": [
      "['woma', 'businesswoman', 'lady', 'girl', 'boy', 'mother', 'wife', 'men', 'women', 'wome']\n"
     ]
    }
   ],
   "source": [
    "computed_similarities = sorted(computed_similarities, key=lambda item:-item[1])\n",
    "print([t[0].text for t in computed_similarities[:10]])"
   ]
  },
  {
   "cell_type": "code",
   "execution_count": null,
   "metadata": {},
   "outputs": [],
   "source": []
  }
 ],
 "metadata": {
  "kernelspec": {
   "display_name": "Python 3 (ipykernel)",
   "language": "python",
   "name": "python3"
  },
  "language_info": {
   "codemirror_mode": {
    "name": "ipython",
    "version": 3
   },
   "file_extension": ".py",
   "mimetype": "text/x-python",
   "name": "python",
   "nbconvert_exporter": "python",
   "pygments_lexer": "ipython3",
   "version": "3.10.9"
  }
 },
 "nbformat": 4,
 "nbformat_minor": 4
}
