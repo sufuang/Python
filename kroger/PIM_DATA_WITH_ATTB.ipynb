{
 "cells": [
  {
   "cell_type": "markdown",
   "id": "77a53e64",
   "metadata": {},
   "source": [
    "# PIM_DATA_WITH_ATTB\n",
    "   - Module name : PIM_DATA_WITH_ATTB.ipynb \n",
    "   - purpose: \n",
    "      Based on the value 'NAM_IN_KEY_LNG_NAM' to extract 'ITM_ID', 'ATB_CD', 'ATB_VLU' from the table 'CLS_SPC_ATB'  \n",
    "        please use this file 'PIM_Flavor_Attributes_current.csv',  to list out the unique flavors available for each department\n",
    "   - input:\n",
    "       - sheet_name 'Flavor(s)' = in Flavor_CLS_SPC_ATB .xlsx\n",
    "       - sheet_name 'Other Flavor' = in Flavor_CLS_SPC_ATB .xlsx   \n",
    "       - ITM_ID_GTIN_Map_100323.csv  i  the \n",
    "       - PIM_Data_New_50_82Mn.csv  (5082212, 24)\n",
    "   - Output:  PIM_DATA_WITH_FLAVOR_ATTB_yymmdd.xlsxF\n",
    "   - Written by: Sophia Yue\n",
    "   - Date: 10-08-23"
   ]
  },
  {
   "cell_type": "code",
   "execution_count": 1,
   "id": "f2c6d2d3",
   "metadata": {},
   "outputs": [],
   "source": [
    "def f_prepare_pim_data():\n",
    "    \n",
    "    keep_col =['GTIN', 'PMY_DPT_CD', 'PMY_DPT_DSC',\n",
    "    'REC_DPT_CD', 'REC_DPT_DSC', 'DPT_CD', 'DPT_DSC', 'COM_CD', 'COM_DSC',\n",
    "    'SUBCOM_CD', 'SUBCOM_DSC','VND_ECOM_DSC']    \n",
    "    df_pim_data_new = pd.read_csv(path + 'PIM_Data_New_50_82Mn.csv',  dtype={\"GTIN\": 'int64', \"ITM_ID\": 'int64'},  usecols= keep_col )\n",
    "    df_pim_data_new.rename(columns ={'GTIN': 'GTIN_NO'}, inplace = True) \n",
    "    \n",
    "    df_pim_data_new_parquet  = pd.read_parquet(path + 'ITM_DSC_ATTRIBUTES_NEW_parquet.gzip', columns=['GTIN_NO', 'GTIN_NAM', 'ITM_LVL_DSC'] )\n",
    "    df_pim_data=  pd.merge(df_pim_data_new, df_pim_data_new_parquet,  on ='GTIN_NO', how = 'left')             \n",
    "     \n",
    "    # NW df_gtin_map  = pd.read_csv(path + 'IIM_ID_GTIN_Map_101123.csv',  dtype={\"GTIN_NO\": 'int64', \"ITM_ID\": 'int64'})\n",
    "\n",
    "    df_gtin_map  = f_read(path, 'ITM_ID_GTIN_Map_102323.csv')\n",
    "    df_gtin_map['GTIN_NO'] = df_gtin_map['GTIN_NO'].astype(np.float64).astype(np.int64)\n",
    "    df_gtin_map['ITM_ID']  = df_gtin_map['ITM_ID'].astype(np.float64).astype(np.int64)    \n",
    "    \n",
    "    df_pim_data_adj = pd.merge( df_pim_data, df_gtin_map, on=['GTIN_NO'],  how='inner')\n",
    "    print (f' df_pim_data_adj.shape { df_pim_data_adj.shape} \\n columns: {df_pim_data_adj.columns.values}')\n",
    "               \n",
    "    print (f'df_pim_data_adj.dtypes: \\n {df_pim_data_adj.dtypes}')\n",
    "    print (f'head df_pim_data_adj: \\n {df_pim_data_adj.head()}')\n",
    "    return  df_pim_data_adj, df_pim_data_new,  df_pim_data, df_pim_data_new_parquet, df_gtin_map  "
   ]
  },
  {
   "cell_type": "code",
   "execution_count": 2,
   "id": "1bc8f72a",
   "metadata": {},
   "outputs": [],
   "source": [
    "def f_comb_atb_gtin(df_atb, df_gtin, col_order, save_file, save_loc):\n",
    "    df_mrg = pd.merge(df_atb, df_gtin, on =  'ITM_ID', how ='left')\n",
    "    df_mrg = df_mrg[col_order]\n",
    "    file_name = save_file.split('.')[0]\n",
    "    file_ext = save_file.split('.')[1]\n",
    "    dte = date.today().strftime('%m%d%y')\n",
    "    path_file = save_loc + file_name + '_' +  dte + '.' + file_ext\n",
    "    print(f'path_file = {path_file}')\n",
    "    if file_ext   == 'csv':   df_mrg.to_csv(path_file,  index=False )  \n",
    "    elif file_ext == 'xlsx':  df_mrg.to_excel(path_file,  index=False ) \n",
    "    else: pass\n",
    "    print(f'df_mrg.shape {df_mrg.shape} \\n columns: {df_mrg.columns}')\n",
    "    print (f'dtypes: \\n {df_mrg.dtypes}')\n",
    "    print(f'df_mrg.head() \\n {df_mrg.head()}' )\n",
    "    return df_mrg"
   ]
  },
  {
   "cell_type": "code",
   "execution_count": 3,
   "id": "d83f95b2",
   "metadata": {},
   "outputs": [],
   "source": [
    "#df_scent_gtin = f_comb_atb_gtin(df_scent, df_pim_data_adj,scent_gtin_col, scent_file, path_atb)"
   ]
  },
  {
   "cell_type": "code",
   "execution_count": 4,
   "id": "1c51ec68",
   "metadata": {},
   "outputs": [],
   "source": [
    "import pandas as pd, numpy as np\n",
    "from datetime import date\n",
    "pd.options.display.float_format = '{:20,.2f}'.format \n",
    "pd.set_option(\"display.max_rows\", None)\n",
    "path = 'C:\\\\users\\\\iny2819\\\\Kroger\\\\Data\\\\' \n",
    "path_atb = path + 'ATB\\\\'\n",
    "gtin_col =['ITM_ID', 'GTIN_NO', 'GTIN_NAM', 'PMY_DPT_CD', 'PMY_DPT_DSC',\n",
    "       'REC_DPT_CD', 'REC_DPT_DSC', 'DPT_CD', 'DPT_DSC', 'COM_CD', 'COM_DSC',\n",
    "       'SUBCOM_CD', 'SUBCOM_DSC', 'ITM_LVL_DSC', 'VND_ECOM_DSC']\n",
    "    "
   ]
  },
  {
   "cell_type": "code",
   "execution_count": 5,
   "id": "f4989425",
   "metadata": {},
   "outputs": [],
   "source": [
    "path_code = 'C:\\\\users\\\\iny2819\\\\kroger\\\\Code\\\\'  \n",
    "f_com_code = path_code + \"com_code.py\"\n",
    "exec(compile(open(f_com_code , \"rb\").read(), f_com_code, 'exec' ))"
   ]
  },
  {
   "cell_type": "code",
   "execution_count": 6,
   "id": "10adcf74",
   "metadata": {},
   "outputs": [
    {
     "name": "stdout",
     "output_type": "stream",
     "text": [
      "file ITM_ID_GTIN_Map_102323.csv shape (5213311, 2) \n",
      " columns: Index(['GTIN_NO', 'ITM_ID'], dtype='object')\n",
      "dtypes: \n",
      " GTIN_NO    object\n",
      "ITM_ID     object\n",
      "dtype: object\n",
      "head: \n",
      "           GTIN_NO     ITM_ID\n",
      "0  00202442400008  800084981\n",
      "1  00011110001207  800084982\n",
      "2  10011110001204  800084983\n",
      "3  00810845012096  800084984\n",
      "4  10810845012093  800084985\n",
      " df_pim_data_adj.shape (5081808, 15) \n",
      " columns: ['GTIN_NO' 'PMY_DPT_CD' 'PMY_DPT_DSC' 'REC_DPT_CD' 'REC_DPT_DSC' 'DPT_CD'\n",
      " 'DPT_DSC' 'COM_CD' 'COM_DSC' 'SUBCOM_CD' 'SUBCOM_DSC' 'VND_ECOM_DSC'\n",
      " 'GTIN_NAM' 'ITM_LVL_DSC' 'ITM_ID']\n",
      "df_pim_data_adj.dtypes: \n",
      " GTIN_NO           int64\n",
      "PMY_DPT_CD      float64\n",
      "PMY_DPT_DSC      object\n",
      "REC_DPT_CD      float64\n",
      "REC_DPT_DSC      object\n",
      "DPT_CD          float64\n",
      "DPT_DSC          object\n",
      "COM_CD          float64\n",
      "COM_DSC          object\n",
      "SUBCOM_CD       float64\n",
      "SUBCOM_DSC       object\n",
      "VND_ECOM_DSC     object\n",
      "GTIN_NAM         object\n",
      "ITM_LVL_DSC      object\n",
      "ITM_ID            int64\n",
      "dtype: object\n",
      "head df_pim_data_adj: \n",
      "        GTIN_NO           PMY_DPT_CD PMY_DPT_DSC           REC_DPT_CD  \\\n",
      "0  38000136429                 1.00     GROCERY                 1.00   \n",
      "1  38000165153                 1.00     GROCERY                 1.00   \n",
      "2  38000170423                 1.00     GROCERY                 1.00   \n",
      "3  38000189746                 1.00     GROCERY                 1.00   \n",
      "4  38000180392                 1.00     GROCERY                 1.00   \n",
      "\n",
      "  REC_DPT_DSC               DPT_CD         DPT_DSC               COM_CD  \\\n",
      "0     GROCERY                 1.00  GROC-ALL OTHER                85.00   \n",
      "1     GROCERY                 1.00  GROC-ALL OTHER                85.00   \n",
      "2     GROCERY                 1.00  GROC-ALL OTHER                85.00   \n",
      "3     GROCERY                 1.00  GROC-ALL OTHER                85.00   \n",
      "4     GROCERY                 1.00  GROC-ALL OTHER                85.00   \n",
      "\n",
      "       COM_DSC            SUBCOM_CD    SUBCOM_DSC  \\\n",
      "0  COLD CEREAL            29,460.00  ADULT CEREAL   \n",
      "1  COLD CEREAL            29,460.00  ADULT CEREAL   \n",
      "2  COLD CEREAL            29,460.00  ADULT CEREAL   \n",
      "3  COLD CEREAL            29,460.00  ADULT CEREAL   \n",
      "4  COLD CEREAL            29,460.00  ADULT CEREAL   \n",
      "\n",
      "                                        VND_ECOM_DSC  \\\n",
      "0    Special K Nourish Apple Raspberry Almond Cereal   \n",
      "1                 KELLOGG SPECIAL K CEREAL 5 FLAVORS   \n",
      "2  Kellogg's Special K Blueberry with Lemon Clust...   \n",
      "3               Kellogg's Special K Cereal 5 Flavors   \n",
      "4               Kellogg's Special K Cereal 4 Flavors   \n",
      "\n",
      "                                            GTIN_NAM  \\\n",
      "0     KELLOGG SPECIAL K CEREAL RASPBERRY ALMOND 14OZ   \n",
      "1                 KELLOGG SPECIAL K CEREAL 5 FLAVORS   \n",
      "2  Kellogg's Special K Cereal Blueberry Lemon 12.3oz   \n",
      "3               Kellogg's Special K Cereal 5 Flavors   \n",
      "4               Kellogg's Special K Cereal 4 Flavors   \n",
      "\n",
      "                      ITM_LVL_DSC     ITM_ID  \n",
      "0  Nourish Apple Raspberry Almond  800085778  \n",
      "1                            None  800085781  \n",
      "2   Blueberry with Lemon Clusters  800085783  \n",
      "3                          Cereal  800085786  \n",
      "4                            None  800085789  \n"
     ]
    }
   ],
   "source": [
    "df_pim_data_adj, df_pim_data_new,  df_pim_data, df_pim_data_new_parquet, df_gtin_map   = f_prepare_pim_data() "
   ]
  },
  {
   "cell_type": "code",
   "execution_count": 10,
   "id": "3be8779a",
   "metadata": {
    "scrolled": true
   },
   "outputs": [
    {
     "name": "stdout",
     "output_type": "stream",
     "text": [
      "file Flavor_CLS_SPC_ATB_102323.xlsx shape (60340, 5) \n",
      " columns: Index(['NAM_IN_KEY_LNG_NAM', 'ITM_ID', 'Flavor_Code', 'Flavor_Value',\n",
      "       'comb_flavor_cod_val'],\n",
      "      dtype='object')\n",
      "dtypes: \n",
      " NAM_IN_KEY_LNG_NAM     object\n",
      "ITM_ID                  int64\n",
      "Flavor_Code            object\n",
      "Flavor_Value           object\n",
      "comb_flavor_cod_val    object\n",
      "dtype: object\n",
      "head: \n",
      "   NAM_IN_KEY_LNG_NAM     ITM_ID    Flavor_Code Flavor_Value  \\\n",
      "0          Flavor(s)  800084984           NONE         NONE   \n",
      "1          Flavor(s)  800085035           MINT         MINT   \n",
      "2          Flavor(s)  800085038  MISCELLANEOUS          NaN   \n",
      "3          Flavor(s)  800085038         COFFEE       COFFEE   \n",
      "4          Flavor(s)  800085047  MISCELLANEOUS          NaN   \n",
      "\n",
      "  comb_flavor_cod_val  \n",
      "0                NONE  \n",
      "1                MINT  \n",
      "2       MISCELLANEOUS  \n",
      "3              COFFEE  \n",
      "4       MISCELLANEOUS  \n",
      "path_file = C:\\users\\iny2819\\Kroger\\Data\\ATB\\PIM_DATA_WITH_FLAVOR_ATTB_102423.xlsx\n",
      "df_mrg.shape (60340, 18) \n",
      " columns: Index(['ITM_ID', 'GTIN_NO', 'GTIN_NAM', 'PMY_DPT_CD', 'PMY_DPT_DSC',\n",
      "       'REC_DPT_CD', 'REC_DPT_DSC', 'DPT_CD', 'DPT_DSC', 'COM_CD', 'COM_DSC',\n",
      "       'SUBCOM_CD', 'SUBCOM_DSC', 'ITM_LVL_DSC', 'VND_ECOM_DSC', 'Flavor_Code',\n",
      "       'Flavor_Value', 'comb_flavor_cod_val'],\n",
      "      dtype='object')\n",
      "dtypes: \n",
      " ITM_ID                   int64\n",
      "GTIN_NO                float64\n",
      "GTIN_NAM                object\n",
      "PMY_DPT_CD             float64\n",
      "PMY_DPT_DSC             object\n",
      "REC_DPT_CD             float64\n",
      "REC_DPT_DSC             object\n",
      "DPT_CD                 float64\n",
      "DPT_DSC                 object\n",
      "COM_CD                 float64\n",
      "COM_DSC                 object\n",
      "SUBCOM_CD              float64\n",
      "SUBCOM_DSC              object\n",
      "ITM_LVL_DSC             object\n",
      "VND_ECOM_DSC            object\n",
      "Flavor_Code             object\n",
      "Flavor_Value            object\n",
      "comb_flavor_cod_val     object\n",
      "dtype: object\n",
      "df_mrg.head() \n",
      "       ITM_ID              GTIN_NO                             GTIN_NAM  \\\n",
      "0  800084984   810,845,012,096.00  PetAlive Analglandz, 2 Fl Oz Bottle   \n",
      "1  800085035   857,668,007,151.00             Healthy Gut Powder, Mint   \n",
      "2  800085038   857,668,007,229.00            Greens Superfoods, Coffee   \n",
      "3  800085038   857,668,007,229.00            Greens Superfoods, Coffee   \n",
      "4  800085047   857,944,006,052.00                         Marshmallows   \n",
      "\n",
      "            PMY_DPT_CD PMY_DPT_DSC           REC_DPT_CD REC_DPT_DSC  \\\n",
      "0                 1.00     GROCERY                 1.00     GROCERY   \n",
      "1                 3.00     DRUG/GM                 3.00         HBC   \n",
      "2                 3.00     DRUG/GM                 3.00         HBC   \n",
      "3                 3.00     DRUG/GM                 3.00         HBC   \n",
      "4                 3.00     DRUG/GM                 3.00         HBC   \n",
      "\n",
      "                DPT_CD DPT_DSC               COM_CD                COM_DSC  \\\n",
      "0                52.00     PET               212.00      PET CARE SUPPLIES   \n",
      "1                 3.00  HEALTH               678.00  NF NUTRITION VITAMINS   \n",
      "2                 3.00  HEALTH               678.00  NF NUTRITION VITAMINS   \n",
      "3                 3.00  HEALTH               678.00  NF NUTRITION VITAMINS   \n",
      "4                 4.00   CANDY               634.00       NF NATURAL CANDY   \n",
      "\n",
      "             SUBCOM_CD                             SUBCOM_DSC  \\\n",
      "0            18,341.00  DOG AND CAT HEALTH CARE/VITAMINS/MEDI   \n",
      "1            98,341.00            NUT SUPP-HERBAL SUPPLEMENTS   \n",
      "2            98,348.00                    NUT SUPP-HOMEOPATHY   \n",
      "3            98,348.00                    NUT SUPP-HOMEOPATHY   \n",
      "4            63,414.00                NATURAL SWEETS W/ FLOUR   \n",
      "\n",
      "       ITM_LVL_DSC                           VND_ECOM_DSC    Flavor_Code  \\\n",
      "0             None  AnalGlandz™ for Cleansing Anal Glands           NONE   \n",
      "1             None                Healthy Gut Mint Powder           MINT   \n",
      "2             None       Greens Superfoods Powder, Coffee  MISCELLANEOUS   \n",
      "3             None       Greens Superfoods Powder, Coffee         COFFEE   \n",
      "4  Cinnamon Churro      SmashMallow Cinnamon Churro Candy  MISCELLANEOUS   \n",
      "\n",
      "  Flavor_Value comb_flavor_cod_val  \n",
      "0         NONE                NONE  \n",
      "1         MINT                MINT  \n",
      "2          NaN       MISCELLANEOUS  \n",
      "3       COFFEE              COFFEE  \n",
      "4          NaN       MISCELLANEOUS  \n"
     ]
    }
   ],
   "source": [
    "df_flavor_all = f_read(path_atb, 'Flavor_CLS_SPC_ATB_102323.xlsx')\n",
    "flavor_gtin_col = gtin_col + [ 'Flavor_Code', 'Flavor_Value', 'comb_flavor_cod_val']\n",
    "flavor_file = 'PIM_DATA_WITH_FLAVOR_ATTB.xlsx'\n",
    "df_flavor_gtin = f_comb_atb_gtin(df_flavor_all, df_pim_data_adj,flavor_gtin_col, flavor_file, path_atb)"
   ]
  },
  {
   "cell_type": "code",
   "execution_count": 8,
   "id": "34355bd3",
   "metadata": {},
   "outputs": [
    {
     "ename": "NameError",
     "evalue": "name 'Stop' is not defined",
     "output_type": "error",
     "traceback": [
      "\u001b[1;31m---------------------------------------------------------------------------\u001b[0m",
      "\u001b[1;31mNameError\u001b[0m                                 Traceback (most recent call last)",
      "Cell \u001b[1;32mIn[8], line 1\u001b[0m\n\u001b[1;32m----> 1\u001b[0m \u001b[43mStop\u001b[49m\n",
      "\u001b[1;31mNameError\u001b[0m: name 'Stop' is not defined"
     ]
    }
   ],
   "source": [
    "Stop"
   ]
  },
  {
   "cell_type": "code",
   "execution_count": null,
   "id": "824cd483",
   "metadata": {},
   "outputs": [],
   "source": [
    "df_scent a= f_read(path_atb, 'Scent_CLS_SPC_ATB.xlsx')\n",
    "scent_gtin_col = gtin_col + [ 'Scent_Code', 'Scent_Value']\n",
    "df_scent = f_read(path_atb, 'Scent_CLS_SPC_ATB.xlsx')\n",
    "scent_file = 'PIM_DATA_WITH_SCENT_ATTB.xlsx'\n",
    "df_scent_gtin = f_comb_atb_gtin(df_scent, df_pim_data_adj,scent_gtin_col, scent_file, path_atb)"
   ]
  },
  {
   "cell_type": "code",
   "execution_count": null,
   "id": "3b9e0121",
   "metadata": {},
   "outputs": [],
   "source": [
    "\n",
    "df_scent = f_read(path_atb, 'Scent_CLS_SPC_ATB.xlsx')\n",
    "df_scent_gtin = pd.merge(df_scent, df_pim_data_adj, on = 'ITM_ID', how ='left')                  "
   ]
  },
  {
   "cell_type": "code",
   "execution_count": null,
   "id": "a4843d08",
   "metadata": {},
   "outputs": [],
   "source": [
    "#df_secnt_gtin = pd.merge(df_scent, df_pim_data_adj, on =  'ITM_ID', how ='left') \n",
    "df_scent_gtin.columns "
   ]
  },
  {
   "cell_type": "code",
   "execution_count": null,
   "id": "e3a3ac49",
   "metadata": {},
   "outputs": [],
   "source": [
    "keep_col =['ITM_ID', 'GTIN_NO', 'GTIN_NAM', 'PMY_DPT_CD', 'PMY_DPT_DSC',\n",
    "       'REC_DPT_CD', 'REC_DPT_DSC', 'DPT_CD', 'DPT_DSC', 'COM_CD', 'COM_DSC',\n",
    "       'SUBCOM_CD', 'SUBCOM_DSC', 'ITM_LVL_DSC', 'VND_ECOM_DSC',\n",
    "       'Scent_Value', 'Scent_Code']\n",
    "#df_pim_data_parquet = df_pim_data_new_parquet[df_pim_data_new_parquet.columns[keep_col]]  \n",
    "df_scent_gtin= df_scent_gtin[keep_col] "
   ]
  },
  {
   "cell_type": "code",
   "execution_count": null,
   "id": "989aca42",
   "metadata": {},
   "outputs": [],
   "source": [
    "df_scent_gtin_col = ['ITM_ID', 'Scent_Code', 'Scent_Value', 'GTIN_NO', 'PMY_DPT_CD',\n",
    "       'PMY_DPT_DSC', 'REC_DPT_CD', 'REC_DPT_DSC', 'DPT_CD', 'DPT_DSC',\n",
    "       'COM_CD', 'COM_DSC', 'SUBCOM_CD', 'SUBCOM_DSC', 'VND_ECOM_DSC',\n",
    "       'GTIN_NAM', 'ITM_LVL_DSC'],\n",
    "df_secnt_gtin = "
   ]
  },
  {
   "cell_type": "code",
   "execution_count": null,
   "id": "d7af7259",
   "metadata": {},
   "outputs": [],
   "source": [
    " df_pim_data_adj.dtypes"
   ]
  },
  {
   "cell_type": "code",
   "execution_count": null,
   "id": "2b3123d0",
   "metadata": {},
   "outputs": [],
   "source": [
    " df_pim_data_adjx = pd.merge( df_pim_data, df_gtin_map, on=['GTIN_NO'],  how='left') \n",
    " df_pim_data_adjx.dtypes"
   ]
  },
  {
   "cell_type": "code",
   "execution_count": null,
   "id": "b1dd1b98",
   "metadata": {},
   "outputs": [],
   "source": [
    " df_pim_data_adjx.head()"
   ]
  },
  {
   "cell_type": "code",
   "execution_count": null,
   "id": "69532c0c",
   "metadata": {},
   "outputs": [],
   "source": [
    " df_flavor_gtin.isnull().sum()"
   ]
  },
  {
   "cell_type": "code",
   "execution_count": null,
   "id": "6fd549eb",
   "metadata": {},
   "outputs": [],
   "source": [
    " df_pim_data_adj.dtypes"
   ]
  },
  {
   "cell_type": "code",
   "execution_count": null,
   "id": "40ae1472",
   "metadata": {},
   "outputs": [],
   "source": [
    " df_flavor_gtin['GTIN_NO'] = df_flavor_gtin['GTIN_NO'].apply( lambda x: int(x) if x != np.NaN else 0)"
   ]
  },
  {
   "cell_type": "code",
   "execution_count": null,
   "id": "b6d00aa8",
   "metadata": {},
   "outputs": [],
   "source": [
    "df_gtin_map  = pd.read_csv(path + 'IIM_ID_GTIN_Map_101123.csv',  dtype={\"GTIN_NO\": 'int64', \"ITM_ID\": 'int64'})"
   ]
  },
  {
   "cell_type": "code",
   "execution_count": null,
   "id": "ca336e22",
   "metadata": {},
   "outputs": [],
   "source": [
    "df_gtin_map  = f_read(path, 'ITM_ID_GTIN_Map_101123_x.csv')"
   ]
  },
  {
   "cell_type": "code",
   "execution_count": null,
   "id": "2b4d4424",
   "metadata": {},
   "outputs": [],
   "source": [
    "df_gtin_map  = f_read(path, 'ITM_ID_GTIN_Map_102323.csv')"
   ]
  },
  {
   "cell_type": "code",
   "execution_count": null,
   "id": "3b3c4dc8",
   "metadata": {},
   "outputs": [],
   "source": [
    "df_gtin_map  = pd.read_csv(path + 'IIM_ID_GTIN_Map_102323.csv',  dtype={\"GTIN_NO\": 'int64', \"ITM_ID\": 'int64'})"
   ]
  },
  {
   "cell_type": "code",
   "execution_count": null,
   "id": "624c756c",
   "metadata": {},
   "outputs": [],
   "source": []
  }
 ],
 "metadata": {
  "kernelspec": {
   "display_name": "Python 3 (ipykernel)",
   "language": "python",
   "name": "python3"
  },
  "language_info": {
   "codemirror_mode": {
    "name": "ipython",
    "version": 3
   },
   "file_extension": ".py",
   "mimetype": "text/x-python",
   "name": "python",
   "nbconvert_exporter": "python",
   "pygments_lexer": "ipython3",
   "version": "3.10.9"
  }
 },
 "nbformat": 4,
 "nbformat_minor": 5
}
