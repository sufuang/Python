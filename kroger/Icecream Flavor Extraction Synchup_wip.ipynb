{
 "cells": [
  {
   "cell_type": "markdown",
   "id": "e0c5599d",
   "metadata": {},
   "source": [
    "# Icecream Flavor Extraction Synchup\n",
    "   - module name: Icecream Flavor Extraction Synchup.ipynb\n",
    "   - purpose: Detect new icecream flavors for GTIN_NO being  classified as  'OTHER' in Detected_Flavor(s) from the input file  \n",
    "   - input:\n",
    "      - ICECREAM_OTHER_FLAVORS_101323.csv\n",
    "      - ice_cream_items_org.csv\n",
    "   - output:  \n",
    "     ICECREAM_OTHER_NEW_DETECTED_FLAVORS_mmddyy.csv\n",
    "   - functions:\n",
    "      -  proc_bnj: Get flavors of 'Ben & Jerry' in VND_ECOM_DSC\n",
    "      -  proc_blue_bunny: Get flavors of ' 'BLUE BUNNY' in VND_ECOM_DSC\n",
    "      -  proc_oth_res : Get flavors for the GTIN_NO not been identified with flavor\n",
    "   - Writen by: Sophia Yue  \n",
    "   - Date: 10-19-23\n",
    "   "
   ]
  },
  {
   "cell_type": "code",
   "execution_count": 1,
   "id": "44fa3a0a",
   "metadata": {},
   "outputs": [],
   "source": [
    "\n",
    "def extract_bnj_flavor(desc):\n",
    "    pattern = r'[0-9]' #Split on number\n",
    "    splitted = re.split(pattern, desc.upper())[0]\n",
    "    if 'ICE CREAM' in splitted: return splitted.split('ICE CREAM')[1]\n",
    "    else: return splitted "
   ]
  },
  {
   "cell_type": "code",
   "execution_count": 2,
   "id": "d636c9ef",
   "metadata": {},
   "outputs": [],
   "source": [
    "def proc_bnj(df_oth):\n",
    "    \n",
    "    bnjry = df_oth[df_oth.VND_ECOM_DSC.str.contains('Ben &')]\n",
    "    bnj_flvs_ct = pd.read_csv(path_atb + 'Ben_Jerrys_Flavors_CTribune.csv').Flavor.tolist()\n",
    "    bnjry['Possible_Flavors'] = bnjry.VND_ECOM_DSC.\\\n",
    "    str.lower().replace('chuncky','chunky')\\\n",
    "    .apply(lambda x: process.extract(x,bnj_flvs_ct , processor= utils.default_process, scorer= fuzz.token_set_ratio, score_cutoff= 90))\n",
    "    bnjry['New_Detected_Flavor(s)'] = bnjry.Possible_Flavors.apply(lambda x: x[0][0] if len(x) >0 else None)\n",
    "    \n",
    "    labeled_descs = bnjry[bnjry['New_Detected_Flavor(s)'].notnull()].VND_ECOM_DSC.unique()\n",
    "    flavor_maps = dict(zip(bnjry.VND_ECOM_DSC, bnjry['New_Detected_Flavor(s)']))\n",
    "    bnjry['New_Detected_Flavor(s)'] = bnjry.VND_ECOM_DSC.apply(lambda x: extract_bnj_flavor(x) if not x in labeled_descs else flavor_maps[x])\n",
    "    bnjry['New_Detected_Flavor(s)'] = bnjry['New_Detected_Flavor(s)'].replace({\"BEN & JERRY'S\":'','NON-DAIRY':'','FROZEN DESSERT':'','ICE CREAM':'', 'NONE DAIRY':''},regex = True)                                                               \n",
    "    bnjry = bnjry.drop(columns =['Possible_Flavors'])\n",
    "    print(f\"proc_bnj shape before drop '' = {bnjry.shape}\")\n",
    "    #bnjry = bnjry.dropna(subset=['New_Detected_Flavor(s)'], how = 'all')\n",
    "    bnjry = bnjry[bnjry['New_Detected_Flavor(s)'] != '']\n",
    "    \n",
    "    print(f\"proc_bnj shape after drop '' = {bnjry.shape}\")\n",
    "    \n",
    "    print (f'head: \\n {bnjry.head()}')\n",
    "    print (f\"value_count: \\n {bnjry['New_Detected_Flavor(s)'].value_counts(dropna = False)}\")\n",
    "    return bnjry"
   ]
  },
  {
   "cell_type": "code",
   "execution_count": 3,
   "id": "5e9d97f8",
   "metadata": {},
   "outputs": [],
   "source": [
    "def proc_blue_bunny(df_oth):\n",
    "    \n",
    "    pattern = 'BLUE BUNNY'\n",
    "    blue_bunny = df_oth[df_oth.VND_ECOM_DSC.fillna('').str.upper().str.contains(pattern)]\n",
    "    blue_bunny['New_Detected_Flavor(s)'] = blue_bunny.VND_ECOM_DSC.str.upper()\\\n",
    "    .replace({'ICE CREAM':'','BLUE BUNNY':'','PREMIUM':'','REDUCED FAT':'','SANDWICH':'','SANDWICHES':''}, regex = True)\\\n",
    "    .apply( extract_bnj_flavor)\n",
    "    \n",
    "    print(f\"proc_blue_bunny shape before drop '' = {blue_bunny.shape}\")\n",
    "    #blue_bunny = blue_bunny.dropna(subset=['New_Detected_Flavor(s)'], how = 'all')\n",
    "    blue_bunny= blue_bunny[blue_bunny['New_Detected_Flavor(s)'] != '']\n",
    "    blue_bunny['New_Detected_Flavor(s)']= blue_bunny['New_Detected_Flavor(s)'].str.rstrip(',') # Drop the last comma\n",
    "    print(f\"proc_blue_bunny shape after drop '' = {blue_bunny.shape}\")\n",
    "    print (f'blue_ bunny head: \\n {blue_bunny.head()}')\n",
    "    print (f\"value_count: \\n {blue_bunny['New_Detected_Flavor(s)'].value_counts(dropna = False)}\")\n",
    "    return blue_bunny"
   ]
  },
  {
   "cell_type": "code",
   "execution_count": 55,
   "id": "645d2e9f",
   "metadata": {},
   "outputs": [],
   "source": [
    "def proc_oth_res1(df_oth, cutoff = 98,  scorer = fuzz.token_set_ratio ):\n",
    "   \n",
    "    df_oth_res = df_oth[~df_oth.GTIN_NO.isin(bnjry.GTIN_NO)]\n",
    "    df_oth_res = df_oth_res[~df_oth_res.GTIN_NO.isin(blue_bunny.GTIN_NO)] \n",
    "    df_oth_res['GTIN_NO'] = df_oth_res.GTIN_NO.apply(lambda x: int(x)).astype(str).apply(lambda x: (14- len(x))*'0'+x)\n",
    "    keep_col = [ 'GTIN_NO', 'RECEIPT_DESCRIPTION','TAG_DESCRIPTION', 'PRODUCT_DESCRIPTION/MKT_MSG']\n",
    "    df_oth_res = pd.merge(df_oth_res , ic_gtins[keep_col], on = 'GTIN_NO', how ='left')\n",
    "    \n",
    "    df_oth_res['desc'] =  df_oth_res ['VND_ECOM_DSC'] + ' ' +  df_oth_res ['RECEIPT_DESCRIPTION'] \\\n",
    "                          + ' ' + df_oth_res ['TAG_DESCRIPTION']\n",
    "    #df_oth_res['desc'] =  df_oth_res ['VND_ECOM_DSC']\n",
    "    df_oth_res ['New_Detected_Flavor(s)'] =  df_oth_res ['desc'].str.upper().apply(lambda x:flavor_match(x, flavor_list = Flavors_combo, cutoff = cutoff, scorer = scorer))\n",
    "    #df_oth_res.drop(columns =['desc'])\n",
    "    df_oth_res1 = df_oth_res[df_oth_res['New_Detected_Flavor(s)']   != 'OTHER']\n",
    "    df_oth_res2 = df_oth_res[df_oth_res['New_Detected_Flavor(s)'] == 'OTHER']\n",
    "    df_oth_res1['cutooff'] = cutoff\n",
    "    df_oth_res1   =   df_oth_res1[['GTIN_NO', 'VND_ECOM_DSC', 'Original_Flavor', 'Detected_Flavor(s)', 'New_Detected_Flavor(s)','cutooff']]\n",
    "    print (f'pr =   df_oth_resoc_oth_res head: \\n {df_oth_res1.head()}')\n",
    "    print (f\"value_count: \\n {df_oth_res1['New_Detected_Flavor(s)'].value_counts(dropna = False)}\")\n",
    "    return df_oth_res1, df_oth_res2, df_oth_res"
   ]
  },
  {
   "cell_type": "code",
   "execution_count": 37,
   "id": "8a7058b9",
   "metadata": {},
   "outputs": [],
   "source": [
    "def proc_oth_res2(df, cutoff = 98,  scorer = fuzz.token_set_ratio ):\n",
    "    print(f\"proc_oth_res_2 shape bef = {df.shape}\")\n",
    "\n",
    "    df ['New_Detected_Flavor(s)'] =  df['desc'].str.upper().apply(lambda x:flavor_match(x, flavor_list = Flavors_combo, cutoff =cutoff, scorer = scorer))\n",
    "    #df_oth_res.drop(columns =['desc'])))\n",
    "      \n",
    "    df['cutooff'] = cutoff\n",
    "    df  =   df[['GTIN_NO', 'VND_ECOM_DSC', 'Original_Flavor', 'Detected_Flavor(s)', 'New_Detected_Flavor(s)','cutooff']]\n",
    "    print(f\"proc_oth_res_2 shape  = {df.shape}\")\n",
    "    print (f'blue_ bunny head: \\n {df.head()}')\n",
    "    print (f\"value_count: \\n {df['New_Detected_Flavor(s)'].value_counts(dropna = False)}\")\n",
    "    return df"
   ]
  },
  {
   "cell_type": "code",
   "execution_count": 7,
   "id": "8d40d93f",
   "metadata": {},
   "outputs": [],
   "source": [
    "def proc_oth_res(df_oth):\n",
    "    \"\"\"\n",
    "     Replace flavor_list = IC_flavors_new with flavor_list = Flavors_combo \n",
    "     \n",
    "    \"\"\"\n",
    "    df_oth_res = df_oth[~df_oth.GTIN_NO.isin(bnjry.GTIN_NO)]\n",
    "    df_oth_res = df_oth_res[~df_oth_res.GTIN_NO.isin(blue_bunny.GTIN_NO)] \n",
    "    df_oth_res['GTIN_NO'] = df_oth_res.GTIN_NO.apply(lambda x: int(x)).astype(str).apply(lambda x: (14- len(x))*'0'+x)\n",
    "    keep_col = [ 'GTIN_NO', 'RECEIPT_DESCRIPTION','TAG_DESCRIPTION', 'PRODUCT_DESCRIPTION/MKT_MSG']\n",
    "    df_oth_res = pd.merge(df_oth_res , ic_gtins[keep_col], on = 'GTIN_NO', how ='left')\n",
    "    \n",
    "    df_oth_res['desc'] =  df_oth_res ['VND_ECOM_DSC'] + ' ' +  df_oth_res ['RECEIPT_DESCRIPTION'] \\\n",
    "                          + ' ' + df_oth_res ['TAG_DESCRIPTION']\n",
    "    df_oth_res ['New_Detected_Flavor(s)'] =  df_oth_res ['desc'].str.upper().apply(lambda x:flavor_match(x, flavor_list = Flavors_combo, cutoff =98))\n",
    "    #df_oth_res.drop(columns =['desc'])\n",
    "    df_oth_res =   df_oth_res[['GTIN_NO', 'VND_ECOM_DSC', 'Original_Flavor', 'Detected_Flavor(s)', 'New_Detected_Flavor(s)']]\n",
    "    print (f'pr =   df_oth_resoc_oth_res head: \\n {df_oth_res.head()}')\n",
    "    print (f\"value_count: \\n {df_oth_res['New_Detected_Flavor(s)'].value_counts(dropna = False)}\")\n",
    "    return df_oth_res"
   ]
  },
  {
   "cell_type": "code",
   "execution_count": 8,
   "id": "ef2868d7",
   "metadata": {},
   "outputs": [],
   "source": [
    "### Remove substrings like 'CHOCOLATE' if 'CHOCOLATE CHIP' is also present as a top result\n",
    "def remove_substrings(string_list):\n",
    "    str_df = pd.DataFrame(string_list, columns= ['Sentence'])\n",
    "    str_df['Word Length'] = str_df.Sentence.apply(lambda x: len(x.split(' ')))\n",
    "    str_df['Drop'] = ''\n",
    "    str_df.sort_values('Word Length', inplace= True)\n",
    "    str_df.reset_index(drop = True, inplace= True)\n",
    "    for j in range(len(str_df)):\n",
    "        str_1 = str_df.Sentence.loc[j]\n",
    "        for i in range(len(str_df)-(j +1)):\n",
    "            str_2 = str_df.Sentence.loc[i+j+1]\n",
    "            if str_1 in str_2: \n",
    "                str_df.Drop.loc[j] = 'Yes'\n",
    "                break\n",
    "        if len(str_df) <2: \n",
    "            break\n",
    "    return str_df[str_df.Drop != 'Yes'].Sentence.tolist()"
   ]
  },
  {
   "cell_type": "code",
   "execution_count": 29,
   "id": "89eb5ead",
   "metadata": {},
   "outputs": [],
   "source": [
    "#MAtch using 'token set ratio' with threshold\n",
    "def flavor_match(item, flavor_list, cutoff = 98, scorer = fuzz.token_set_ratio):\n",
    "    matched = process.extract(item, flavor_list, score_cutoff= cutoff, scorer = scorer, processor=utils.default_process)\n",
    "    flavor_shortlist = remove_substrings([i[0] for i in matched])\n",
    "    matched = [i for i in matched if i[0] in flavor_shortlist]\n",
    "    if len( flavor_shortlist) >0:\n",
    "        max_score = matched[0][1]\n",
    "        final_match = [ i for i in matched if i[1]== max_score]\n",
    "        match_list = [i[0] for i in final_match]\n",
    "    \n",
    "        '''\n",
    "        match_list = [flavor_maps[i] if i in flavor_maps.keys() else i for i in match_list]\n",
    "        if set(match_list) == {'STRAWBERRY','FRUIT'}: \n",
    "            match_list = ['FRUIT']#Drop Strawberry if fruit is the only other flavor\n",
    "        if  set(match_list) != {'FRUIT'} : match_list = [ i for i in match_list if i != 'FRUIT']#Drop Fruit if it appears with something else\n",
    " \n",
    "        if matched in multiflavor_dict.keys(): #Mapping multi-flavors to intended labels\n",
    "            matched = multiflavor_dict[matched]\n",
    "        '''\n",
    "        matched = ','.join(sorted(list(set(pd.Series(match_list)))))   \n",
    "    else: matched = 'OTHER'\n",
    "    return matched"
   ]
  },
  {
   "cell_type": "code",
   "execution_count": 3,
   "id": "5abec3ce",
   "metadata": {},
   "outputs": [],
   "source": [
    "import pandas as pd, numpy as np\n",
    "from rapidfuzz import process, fuzz,utils\n",
    "import re\n",
    "np.set_printoptions(threshold=np.inf)\n",
    "path = 'C:\\\\users\\\\iny2819\\\\kroger\\\\Data\\\\' \n",
    "path_atb = 'C:\\\\users\\\\iny2819\\\\kroger\\\\Data\\\\ATB\\\\' \n",
    "path_atb_yue = 'C:\\\\users\\\\iny2819\\\\kroger\\\\Data\\\\ATB\\\\atb_yue\\\\' "
   ]
  },
  {
   "cell_type": "code",
   "execution_count": 4,
   "id": "4f220d53",
   "metadata": {},
   "outputs": [],
   "source": [
    "path_code = 'C:\\\\users\\\\iny2819\\\\kroger\\\\Code\\\\'  \n",
    "f_com_code = path_code + \"com_code.py\"\n",
    "exec(compile(open(f_com_code , \"rb\").read(), f_com_code, 'exec' ))"
   ]
  },
  {
   "cell_type": "code",
   "execution_count": 13,
   "id": "42cc6754",
   "metadata": {},
   "outputs": [],
   "source": [
    "# Flavor List and desired mappings From business (interim) based on \"Initial ice cream flavor list.xlsx\"\n",
    "IC_flavors_new =\\\n",
    "['VANILLA','CHOCOLATE','FRUIT','COOKIES AND CREAM','CHOCOLATE CHIP','CARAMEL','TOFFEE','MINT CHOCOLATE CHIP','PEANUT BUTTER','COOKIE DOUGH',\\\n",
    "'BUTTER PECAN','COFFEE','STRAWBERRY','MOOSE TRACKS','ROCKY ROAD','COTTON CANDY','BIRTHDAY CAKE','PUMPKIN','RED VELVET','NEAPOLITAN']\n",
    "flavor_maps = {'MOCHA':'COFFEE','BROWNIE':'CHOCOLATE','COCOA':'CHOCOLATE','TOFFEE':'CARAMEL','CHERRY':'FRUIT', 'LEMON': 'FRUIT',\n",
    " 'ORANGE': 'FRUIT',\n",
    " 'LIME': 'FRUIT',\n",
    " 'PEACH': 'FRUIT',\n",
    " 'BANANA': 'FRUIT',\n",
    " 'PINEAPPLE': 'FRUIT',\n",
    " 'BERRY': 'FRUIT',\n",
    " 'APPLE': 'FRUIT',\n",
    " 'MANGO': 'FRUIT',\n",
    " 'RASPBERRY': 'FRUIT',\n",
    " 'PASSION FRUIT': 'FRUIT',\n",
    " 'POMEGRANATE': 'FRUIT',\n",
    " 'BLUEBERRY': 'FRUIT'}\n",
    "IC_flavors_new += flavor_maps.keys()"
   ]
  },
  {
   "cell_type": "code",
   "execution_count": 14,
   "id": "af6fff1f",
   "metadata": {},
   "outputs": [],
   "source": [
    "#### BASE FLAVOR CATEGORIES\n",
    "# PRIVATE SELECTION\n",
    "# Yue: added pepper in Spices; not include pvt_slc_flavors\n",
    "#pvt_slc_flavors = [i.replace('PREMIUM','') for i in pvt_slc.Flavor.unique()]\n",
    "#Fruits\n",
    "original_fruits = ['CHERRY', 'LEMON', 'ORANGE', 'LIME', 'PEACH', 'BANANA', 'PINEAPPLE', 'BERRY', 'APPLE', 'MANGO', 'RASPBERRY', 'PASSION FRUIT', 'POMEGRANATE', 'BLUEBERRY']\n",
    "Fruits =  original_fruits + \\\n",
    "['MARIONBERRY','HUCKLEBERRY','BLACKBERRY','BILBERRY','BOYSENBERRY','LUCUMA','CHERIMOYA','DURIAN','RED BEAN','UBE','GRAPE','GRAPEFRUIT', 'LYCHEE',\\\n",
    " 'RAISIN','APRICOT','PLUM','YUZU','DRAGON FRUIT','HIBISCUS', 'PUMPKIN','COCONUT','CARROT','SWEET POTATO','TARO','WATERMELON','MELON','CANTALOUPE','HONEYDEW','FIGS']\n",
    "#Nuts /Seeds\n",
    "Nuts = ['PEANUT','ALMOND','PISTACHIO','WALNUT','BLACK WALNUT','MACADAMIA','CASHEW', 'HAZELNUT','BLACK SESAME','PECAN','NUTS','FLAX','OATMEAL','COCONUT MILK','OAT MILK']\n",
    "#Candies / Confections\n",
    "Candy = ['CHOCOLATE','PEPPERMINT','FUDGE','TAFFY','BUBBLEGUM','BUBBLE GUM','MARSHMALLOW','BUTTERSCOTCH','WHITE CHOCOLATE', 'TRUFFLE', 'TIRAMISU', 'NAPOLEON','MACARON','GUMMY BEARS', 'GIANDUJA','NUTELLA','CAJETA','DULCE DE LECHE', 'LICORICE','SOUR PATCH KIDS','TURTLE']\n",
    "#Desserts / Baked goods\n",
    "Desserts = ['TOFFEE','CARAMEL','BROWNIE','CAKE','COOKIE','DONUT','DOUGHNUT','WAFER','WAFFLE','WAFFLE CONE','SWIRL','FRENCH TOAST','PANCAKE','PIE','COBBLER','CHEESECAKE','SNICKERDDODLE', \"S'MORES\",'SMORES','SMORES', 'GRAHAM','GINGERBREAD','PRALINE','BRITTLE','CRISP','CRUMBLE','CLUSTERS','SHORTBREAD', 'TORTE', 'BLACK FOREST','TRES LECHES','FLAN','BAKLAVA','BOSTON CREAM PIE','PUDDING','ECLAIR','CREAM PUFF','CROISSANT','BREAD PUDDDING']\n",
    "#Dairy products\n",
    "Dairy = ['MILK','BUTTER','BROWN BUTTER','SOUR CREAM','YOGURT','CHEESE','CREAM CHEESE','RICOTTA','MASCARPONE']\n",
    "#Sweeteners\n",
    "Sweeteners = ['HONEY','BROWN SUGAR','MOLASSES','MAPLE','DATES','PALM SUGAR']\n",
    "#Spices\n",
    "Spices = ['GINGER','CARDAMOM','CINNAMON','NUTMEG','TURMERIC','ANISE','ALLSPICE','SPICE', 'PEPPER']\n",
    "#Alcohol\n",
    "Boozes = ['RUM','BRANDY','BOURBON','VODKA','TEQUILA','MEZCAL','IRISH CREAM','KAHLUA','WHISKEY','BEER','COGNAC','WINE','CHAMPAGNE','PROSECCO','MERLOT','MARGARITA','LIQUOR','LIQUEUR','AMARETTO','COINTREAU','AMARULA']\n",
    "#Herbs\n",
    "Herbs = ['BASIL','MINT','LAVENDER']\n",
    "#Aromas\n",
    "Aromas = ['ROSE','ELDERFLOWER','PANDAN','SAFFRON']\n",
    "#Cereals\n",
    "Cereals = ['FROSTED','FRUIT LOOPS','CHEERIOS','CORN','RICE','RICE KRISPIES','MALT','BARLEY']\n",
    "##Beverages\n",
    "Bevs = ['COFFEE','GREEN TEA','CHAI','ESPRESSO','CAPPUCCINO', 'MOCHA','COCOA','EGGNOG','EGG NOG','COLA','SPRITE','PEPSI','FANTA','SODA','POP','LEMONADE','LATTE']\n",
    "Others = ['UNICORN','SPUMONI','STRACCIATELLA','RAINBOW','BACON', 'RED, WHITE AND BLUE','SUPERMAN','BLUE MOON','SPRINKLES']\n",
    "Ethnic = ['ITALIAN','FRENCH','ENGLISH','BRITISH','DUTCH','DANISH','POLISH','SCOTCH','IRISH','GERMAN','GREEK','SWEDISH','INDIAN','JAPANESE','ICELANDIC','MEXICAN','SPANISH','RUSSIAN','AMERICAN','KOREAN','LATIN','ARABIC','TURKISH','PERSIAN','CHINESE','FILIPINO','THAI', 'VIETNAMESE', 'ASIAN','EUROPEAN','AFRICAN','AUSTRALIAN']\n",
    "Processing = ['TOASTED','BAKED','ROASTED','FROSTED','SHAVED','CRUSHED','SLICED','WHIPPED']\n",
    "pvt_slc_flavors = [] # YUe\n",
    "Flavors_combo = list(set(pvt_slc_flavors + Fruits + Nuts + Candy + Desserts + Dairy + Sweeteners + Spices + Boozes + Herbs + Cereals + Aromas + Bevs +Others + Ethnic + Processing))\n"
   ]
  },
  {
   "cell_type": "code",
   "execution_count": 15,
   "id": "ca19e47e",
   "metadata": {},
   "outputs": [
    {
     "name": "stdout",
     "output_type": "stream",
     "text": [
      "file ice_cream_items_org.csv shape (12386, 12) \n",
      " columns: Index(['GTIN_NO', 'ECOMMERCE_DESCRIPTION', 'RECEIPT_DESCRIPTION',\n",
      "       'TAG_DESCRIPTION', 'PRODUCT_DESCRIPTION/MKT_MSG', 'KROGER_OWNED_FLAVOR',\n",
      "       'FLV_DSC', 'PID_COM_DSC', 'PID_SUBCOM_DSC', 'CFIC_DEPT_NAM',\n",
      "       'CFIC_COM_NAM', 'CFIC_SUBCOM_NAM'],\n",
      "      dtype='object')\n",
      "dtypes: \n",
      " GTIN_NO                        object\n",
      "ECOMMERCE_DESCRIPTION          object\n",
      "RECEIPT_DESCRIPTION            object\n",
      "TAG_DESCRIPTION                object\n",
      "PRODUCT_DESCRIPTION/MKT_MSG    object\n",
      "KROGER_OWNED_FLAVOR            object\n",
      "FLV_DSC                        object\n",
      "PID_COM_DSC                    object\n",
      "PID_SUBCOM_DSC                 object\n",
      "CFIC_DEPT_NAM                  object\n",
      "CFIC_COM_NAM                   object\n",
      "CFIC_SUBCOM_NAM                object\n",
      "dtype: object\n",
      "head: \n",
      "           GTIN_NO ECOMMERCE_DESCRIPTION RECEIPT_DESCRIPTION  \\\n",
      "0  00000000001175        Frys Snow Cone        SNOW CONE LG   \n",
      "1  00000000013772                (null)              GELATO   \n",
      "2  00000000022231                (null)        DELI GELTO S   \n",
      "3  00000000022248                (null)        DELI GELTO M   \n",
      "4  00000000022255                (null)        DELI GELTO P   \n",
      "\n",
      "      TAG_DESCRIPTION PRODUCT_DESCRIPTION/MKT_MSG KROGER_OWNED_FLAVOR FLV_DSC  \\\n",
      "0      FRYS SNOW CONE                      (null)              (null)  (null)   \n",
      "1          GNG GELATO                      (null)              (null)  (null)   \n",
      "2   DELI GELATO SMALL                      (null)              (null)  (null)   \n",
      "3  DELI GELATO MEDIUM                      (null)              (null)  (null)   \n",
      "4   DELI GELATO LARGE                      (null)              (null)  (null)   \n",
      "\n",
      "              PID_COM_DSC                         PID_SUBCOM_DSC  \\\n",
      "0                   WATER  STILL WATER FLVRD DRNK/MNRL WTR SWEET   \n",
      "1  FOOD SERVICE-ICE CREAM        ICE CREAM/GELATO SHOP:ICE CREAM   \n",
      "2  FOOD SERVICE-ICE CREAM        ICE CREAM/GELATO SHOP:ICE CREAM   \n",
      "3  FOOD SERVICE-ICE CREAM        ICE CREAM/GELATO SHOP:ICE CREAM   \n",
      "4  FOOD SERVICE-ICE CREAM        ICE CREAM/GELATO SHOP:ICE CREAM   \n",
      "\n",
      "  CFIC_DEPT_NAM CFIC_COM_NAM CFIC_SUBCOM_NAM  \n",
      "0  Frozen Foods    Ice Cream        Toppings  \n",
      "1           NaN          NaN             NaN  \n",
      "2           NaN          NaN             NaN  \n",
      "3           NaN          NaN             NaN  \n",
      "4           NaN          NaN             NaN  \n"
     ]
    }
   ],
   "source": [
    "ic_gtins = f_read(path_atb, 'ice_cream_items_org.csv', encoding= 'ISO-8859-1', sep = '|')\n",
    "ic_gtins = as "
   ]
  },
  {
   "cell_type": "code",
   "execution_count": 16,
   "id": "77de410e",
   "metadata": {},
   "outputs": [
    {
     "data": {
      "text/plain": [
       "GTIN_NO                            0\n",
       "ECOMMERCE_DESCRIPTION           4409\n",
       "RECEIPT_DESCRIPTION             5852\n",
       "TAG_DESCRIPTION                 4970\n",
       "PRODUCT_DESCRIPTION/MKT_MSG     8159\n",
       "KROGER_OWNED_FLAVOR            12386\n",
       "FLV_DSC                        11369\n",
       "PID_COM_DSC                       59\n",
       "PID_SUBCOM_DSC                    59\n",
       "CFIC_DEPT_NAM                   5679\n",
       "CFIC_COM_NAM                    5679\n",
       "CFIC_SUBCOM_NAM                 5679\n",
       "dtype: int64"
      ]
     },
     "execution_count": 16,
     "metadata": {},
     "output_type": "execute_result"
    }
   ],
   "source": [
    "ic_gtins.replace('(null)', None, inplace = True)\n",
    "ic_gtins.isnull().sum()                  "
   ]
  },
  {
   "cell_type": "code",
   "execution_count": 17,
   "id": "1a77feb3",
   "metadata": {},
   "outputs": [
    {
     "name": "stdout",
     "output_type": "stream",
     "text": [
      "file ICECREAM_OTHER_FLAVORS_101323.csv shape (3417, 4) \n",
      " columns: Index(['GTIN_NO', 'VND_ECOM_DSC', 'Original_Flavor', 'Detected_Flavor(s)'], dtype='object')\n",
      "dtypes: \n",
      " GTIN_NO               object\n",
      "VND_ECOM_DSC          object\n",
      "Original_Flavor       object\n",
      "Detected_Flavor(s)    object\n",
      "dtype: object\n",
      "head: \n",
      "   GTIN_NO        VND_ECOM_DSC Original_Flavor Detected_Flavor(s)\n",
      "0   22231   DELI GELATO SMALL           OTHER              OTHER\n",
      "1   22248  DELI GELATO MEDIUM           OTHER              OTHER\n",
      "2   22255   DELI GELATO LARGE           OTHER              OTHER\n",
      "3   22262    DELI GELATO PINT           OTHER              OTHER\n",
      "4   22279   DELI GELATO QUART           OTHER              OTHER\n"
     ]
    }
   ],
   "source": [
    "df_oth = f_read(path_atb, 'ICECREAM_OTHER_FLAVORS_101323.csv')"
   ]
  },
  {
   "cell_type": "code",
   "execution_count": 18,
   "id": "5d5f7e27",
   "metadata": {},
   "outputs": [],
   "source": [
    "df_oth = df_oth[df_oth['Detected_Flavor(s)'] == 'OTHER' ]"
   ]
  },
  {
   "cell_type": "code",
   "execution_count": 19,
   "id": "a85601c1",
   "metadata": {},
   "outputs": [
    {
     "data": {
      "text/plain": [
       "(1837, 4)"
      ]
     },
     "execution_count": 19,
     "metadata": {},
     "output_type": "execute_result"
    }
   ],
   "source": [
    "df_oth = df_oth.dropna(subset=['VND_ECOM_DSC'], how = 'all')\n",
    "df_oth.shape"
   ]
  },
  {
   "cell_type": "code",
   "execution_count": 20,
   "id": "0ef31aa0",
   "metadata": {},
   "outputs": [
    {
     "data": {
      "text/plain": [
       "(3417, 3)"
      ]
     },
     "execution_count": 20,
     "metadata": {},
     "output_type": "execute_result"
    }
   ],
   "source": [
    "ic_df = pd.read_csv(path_atb + 'ICECREAM_FLAVORS_101223_pipe_delim.csv', sep = '|')\n",
    "ic_df = ic_df[ic_df.Flavor == 'OTHER']\n",
    "ic_df['VND_ECOM_DSC'] = ic_df.VND_ECOM_DSC.fillna('')\n",
    "ic_df.shape"
   ]
  },
  {
   "cell_type": "code",
   "execution_count": 21,
   "id": "ee5da1d6",
   "metadata": {},
   "outputs": [
    {
     "name": "stdout",
     "output_type": "stream",
     "text": [
      "proc_bnj shape before drop '' = (59, 5)\n",
      "proc_bnj shape after drop '' = (48, 5)\n",
      "head: \n",
      "           GTIN_NO                                    VND_ECOM_DSC  \\\n",
      "1555  76840000722  Ben & Jerry's Ice Cream Chillin The Roast 1 PT   \n",
      "1556  76840001002      Ben & Jerry's Ice Cream Tonight Dough 3 PC   \n",
      "1559  76840001750   Ben & Jerry's Ice Cream Gimme Some Sugar 1 PT   \n",
      "1560  76840001767        Ben & Jerry's Ice Cream Wake N Bake 1 PT   \n",
      "1562  76840002351           Ben & Jerry's Gimme S'more! Ice Cream   \n",
      "\n",
      "     Original_Flavor Detected_Flavor(s) New_Detected_Flavor(s)  \n",
      "1555           OTHER              OTHER     Chillin' the Roast  \n",
      "1556           OTHER              OTHER         TONIGHT DOUGH   \n",
      "1559           OTHER              OTHER      GIMME SOME SUGAR   \n",
      "1560           OTHER              OTHER           WAKE N BAKE   \n",
      "1562           OTHER              OTHER           Gimme S'more  \n",
      "value_count: \n",
      " Americone Dream                                            3\n",
      " LIGHTSCARAMELACTION                                       3\n",
      "Chillin' the Roast                                         2\n",
      " OATMEALDREAMPIE                                           2\n",
      "Oat of This Swirled                                        2\n",
      " CHUNCKY MONKEY                                            2\n",
      " KARAMELSUTRA                                              2\n",
      " TONIGHT DOUGH                                             2\n",
      " CHUBBYHUBBY                                               2\n",
      " MIXED                                                     2\n",
      "Chunky Monkey                                              2\n",
      " GIMME SOME SUGAR                                          2\n",
      "Phish Food                                                 2\n",
      " AMERICONEDREAM                                            2\n",
      "  TONIGHT DOUGH                                            2\n",
      " WAKE N BAKE                                               2\n",
      "  NETFLIX + CHILLED                                        1\n",
      " MINTCHOCCOOKIE                                            1\n",
      " CHURRAYFORCHURROS                                         1\n",
      " MOUSSEPIE                                                 1\n",
      "  CHANGE THE WHIRLED                                       1\n",
      " PHISHFOOD                                                 1\n",
      "The Tonight Dough                                          1\n",
      " NETFLIX+CHILLLED                                          1\n",
      " GIMMESMORE                                                1\n",
      " COLIN KAEPERNICK'S CHANGE THE WHIRLED™ FROZEN  DESSERT    1\n",
      "Gimme S'more                                               1\n",
      " CINNAMONBUN                                               1\n",
      " NETFLIX & CHILLL’D™ FROZEN  DESSERT                       1\n",
      "Everything But The...                                      1\n",
      "Name: New_Detected_Flavor(s), dtype: int64\n"
     ]
    },
    {
     "name": "stderr",
     "output_type": "stream",
     "text": [
      "C:\\Users\\iny2819\\AppData\\Local\\Temp\\ipykernel_26268\\830016752.py:5: SettingWithCopyWarning: \n",
      "A value is trying to be set on a copy of a slice from a DataFrame.\n",
      "Try using .loc[row_indexer,col_indexer] = value instead\n",
      "\n",
      "See the caveats in the documentation: https://pandas.pydata.org/pandas-docs/stable/user_guide/indexing.html#returning-a-view-versus-a-copy\n",
      "  bnjry['Possible_Flavors'] = bnjry.VND_ECOM_DSC.\\\n",
      "C:\\Users\\iny2819\\AppData\\Local\\Temp\\ipykernel_26268\\830016752.py:8: SettingWithCopyWarning: \n",
      "A value is trying to be set on a copy of a slice from a DataFrame.\n",
      "Try using .loc[row_indexer,col_indexer] = value instead\n",
      "\n",
      "See the caveats in the documentation: https://pandas.pydata.org/pandas-docs/stable/user_guide/indexing.html#returning-a-view-versus-a-copy\n",
      "  bnjry['New_Detected_Flavor(s)'] = bnjry.Possible_Flavors.apply(lambda x: x[0][0] if len(x) >0 else None)\n",
      "C:\\Users\\iny2819\\AppData\\Local\\Temp\\ipykernel_26268\\830016752.py:12: SettingWithCopyWarning: \n",
      "A value is trying to be set on a copy of a slice from a DataFrame.\n",
      "Try using .loc[row_indexer,col_indexer] = value instead\n",
      "\n",
      "See the caveats in the documentation: https://pandas.pydata.org/pandas-docs/stable/user_guide/indexing.html#returning-a-view-versus-a-copy\n",
      "  bnjry['New_Detected_Flavor(s)'] = bnjry.VND_ECOM_DSC.apply(lambda x: extract_bnj_flavor(x) if not x in labeled_descs else flavor_maps[x])\n",
      "C:\\Users\\iny2819\\AppData\\Local\\Temp\\ipykernel_26268\\830016752.py:13: SettingWithCopyWarning: \n",
      "A value is trying to be set on a copy of a slice from a DataFrame.\n",
      "Try using .loc[row_indexer,col_indexer] = value instead\n",
      "\n",
      "See the caveats in the documentation: https://pandas.pydata.org/pandas-docs/stable/user_guide/indexing.html#returning-a-view-versus-a-copy\n",
      "  bnjry['New_Detected_Flavor(s)'] = bnjry['New_Detected_Flavor(s)'].replace({\"BEN & JERRY'S\":'','NON-DAIRY':'','FROZEN DESSERT':'','ICE CREAM':'', 'NONE DAIRY':''},regex = True)\n"
     ]
    }
   ],
   "source": [
    "bnjry = proc_bnj(df_oth)"
   ]
  },
  {
   "cell_type": "code",
   "execution_count": 22,
   "id": "89dd97d7",
   "metadata": {},
   "outputs": [
    {
     "name": "stdout",
     "output_type": "stream",
     "text": [
      "proc_blue_bunny shape before drop '' = (43, 5)\n",
      "proc_blue_bunny shape after drop '' = (40, 5)\n",
      "blue_ bunny head: \n",
      "          GTIN_NO                                       VND_ECOM_DSC  \\\n",
      "894  70640001767     Blue Bunny Birthday Party Ice Cream Sandwiches   \n",
      "896  70640003112        Blue Bunny Premium Birthday Party Ice Cream   \n",
      "897  70640003808          Blue Bunny Premium Bunny Tracks Ice Cream   \n",
      "899  70640003938  Blue Bunny No Sugar Added Reduced Fat Bunny Tr...   \n",
      "903  70640004508  ELLIPTICAL 5.5 FLUID OUNCE BLUE BUNNY PERSONAL...   \n",
      "\n",
      "    Original_Flavor Detected_Flavor(s)          New_Detected_Flavor(s)  \n",
      "894           OTHER              OTHER              BIRTHDAY PARTY  ES  \n",
      "896           OTHER              OTHER                 BIRTHDAY PARTY   \n",
      "897           OTHER              OTHER                   BUNNY TRACKS   \n",
      "899           OTHER              OTHER   NO SUGAR ADDED  BUNNY TRACKS   \n",
      "903           OTHER              OTHER                     ELLIPTICAL   \n",
      "value_count: \n",
      " ELLIPTICAL                                                                   4\n",
      "BRANDED                                                                      3\n",
      " SIGNATURE BLU'S BIRTHDAY PARTY                                              2\n",
      "  BUNNY TRACKS                                                               2\n",
      " LOAD'D SUNDAES BUNNY TRACKS, FROZEN DESSERT CUP FOR SUMMER,                 2\n",
      " SWEET FREEDOM BUNNY TRACKS LIGHT ,                                          2\n",
      " SIGNATURE BUNNY TRACKS FROZEN DESSERT,                                      2\n",
      " SWEET FREEDOM BUNNY TRACKS                                                  2\n",
      " MINI SWIRLS CLASSIC MINI CONES VARIETY PACK, FROZEN DESSERT FOR SUMMER,     1\n",
      " CHOCOPOLITAN FROZEN DESSERT,                                                1\n",
      " SWEET FREEDOM KRUNCH LITES                                                  1\n",
      " LOAD'D BARS BUNNY TRACKS, FROZEN DESSERT FOR FALL,                          1\n",
      " LOAD'D CONES BUNNY TRACKS, FROZEN DESSERT,                                  1\n",
      " BIRTHDAY PARTY                                                              1\n",
      " MINI SWIRLS CLASSIC VARIETY PACK CONES,                                     1\n",
      "® PB 'N CONES™                                                               1\n",
      " BIRTHDAY PARTY  ES                                                          1\n",
      " S'MORE PLEASE                                                               1\n",
      "  BIRTHDAY PARTY                                                             1\n",
      " CUATRO LECHES                                                               1\n",
      " MINI SWIRLS CONES BDAY PARTY                                                1\n",
      " CADBURY CARAMELLO BARS                                                      1\n",
      " BLUE RIBBON CLASSICS BUNNY TRACKS LIGHT                                     1\n",
      " BLUE RIBBON CLASSICS BIRTHDAY PARTY                                         1\n",
      " CHAMP! MINI SWIRLS BIRTHDAY PARTY CONES                                     1\n",
      " SWEET FREEDOM VARIETY  SANWICHES                                            1\n",
      " MINI  ES VARIETY PACK                                                       1\n",
      " NO SUGAR ADDED  BUNNY TRACKS                                                1\n",
      " BIRTHDAY PARTY ,                                                            1\n",
      "Name: New_Detected_Flavor(s), dtype: int64\n"
     ]
    },
    {
     "name": "stderr",
     "output_type": "stream",
     "text": [
      "C:\\Users\\iny2819\\AppData\\Local\\Temp\\ipykernel_26268\\2235983728.py:5: SettingWithCopyWarning: \n",
      "A value is trying to be set on a copy of a slice from a DataFrame.\n",
      "Try using .loc[row_indexer,col_indexer] = value instead\n",
      "\n",
      "See the caveats in the documentation: https://pandas.pydata.org/pandas-docs/stable/user_guide/indexing.html#returning-a-view-versus-a-copy\n",
      "  blue_bunny['New_Detected_Flavor(s)'] = blue_bunny.VND_ECOM_DSC.str.upper()\\\n"
     ]
    }
   ],
   "source": [
    "blue_bunny = proc_blue_bunny(df_oth)"
   ]
  },
  {
   "cell_type": "code",
   "execution_count": 23,
   "id": "f2ad1178",
   "metadata": {},
   "outputs": [
    {
     "ename": "TypeError",
     "evalue": "'str' object is not callable",
     "output_type": "error",
     "traceback": [
      "\u001b[1;31m---------------------------------------------------------------------------\u001b[0m",
      "\u001b[1;31mTypeError\u001b[0m                                 Traceback (most recent call last)",
      "Cell \u001b[1;32mIn[23], line 1\u001b[0m\n\u001b[1;32m----> 1\u001b[0m df_oth_res \u001b[38;5;241m=\u001b[39m \u001b[43mproc_oth_res\u001b[49m\u001b[43m(\u001b[49m\u001b[43mdf_oth\u001b[49m\u001b[43m)\u001b[49m\n",
      "Cell \u001b[1;32mIn[7], line 14\u001b[0m, in \u001b[0;36mproc_oth_res\u001b[1;34m(df_oth)\u001b[0m\n\u001b[0;32m     10\u001b[0m df_oth_res \u001b[38;5;241m=\u001b[39m pd\u001b[38;5;241m.\u001b[39mmerge(df_oth_res , ic_gtins[keep_col], on \u001b[38;5;241m=\u001b[39m \u001b[38;5;124m'\u001b[39m\u001b[38;5;124mGTIN_NO\u001b[39m\u001b[38;5;124m'\u001b[39m, how \u001b[38;5;241m=\u001b[39m\u001b[38;5;124m'\u001b[39m\u001b[38;5;124mleft\u001b[39m\u001b[38;5;124m'\u001b[39m)\n\u001b[0;32m     12\u001b[0m df_oth_res[\u001b[38;5;124m'\u001b[39m\u001b[38;5;124mdesc\u001b[39m\u001b[38;5;124m'\u001b[39m] \u001b[38;5;241m=\u001b[39m  df_oth_res [\u001b[38;5;124m'\u001b[39m\u001b[38;5;124mVND_ECOM_DSC\u001b[39m\u001b[38;5;124m'\u001b[39m] \u001b[38;5;241m+\u001b[39m \u001b[38;5;124m'\u001b[39m\u001b[38;5;124m \u001b[39m\u001b[38;5;124m'\u001b[39m \u001b[38;5;241m+\u001b[39m  df_oth_res [\u001b[38;5;124m'\u001b[39m\u001b[38;5;124mRECEIPT_DESCRIPTION\u001b[39m\u001b[38;5;124m'\u001b[39m] \\\n\u001b[0;32m     13\u001b[0m                       \u001b[38;5;241m+\u001b[39m \u001b[38;5;124m'\u001b[39m\u001b[38;5;124m \u001b[39m\u001b[38;5;124m'\u001b[39m \u001b[38;5;241m+\u001b[39m df_oth_res [\u001b[38;5;124m'\u001b[39m\u001b[38;5;124mTAG_DESCRIPTION\u001b[39m\u001b[38;5;124m'\u001b[39m]\n\u001b[1;32m---> 14\u001b[0m df_oth_res [\u001b[38;5;124m'\u001b[39m\u001b[38;5;124mNew_Detected_Flavor(s)\u001b[39m\u001b[38;5;124m'\u001b[39m] \u001b[38;5;241m=\u001b[39m  \u001b[43mdf_oth_res\u001b[49m\u001b[43m \u001b[49m\u001b[43m[\u001b[49m\u001b[38;5;124;43m'\u001b[39;49m\u001b[38;5;124;43mdesc\u001b[39;49m\u001b[38;5;124;43m'\u001b[39;49m\u001b[43m]\u001b[49m\u001b[38;5;241;43m.\u001b[39;49m\u001b[43mstr\u001b[49m\u001b[38;5;241;43m.\u001b[39;49m\u001b[43mupper\u001b[49m\u001b[43m(\u001b[49m\u001b[43m)\u001b[49m\u001b[38;5;241;43m.\u001b[39;49m\u001b[43mapply\u001b[49m\u001b[43m(\u001b[49m\u001b[38;5;28;43;01mlambda\u001b[39;49;00m\u001b[43m \u001b[49m\u001b[43mx\u001b[49m\u001b[43m:\u001b[49m\u001b[43mflavor_match\u001b[49m\u001b[43m(\u001b[49m\u001b[43mx\u001b[49m\u001b[43m,\u001b[49m\u001b[43m \u001b[49m\u001b[43mflavor_list\u001b[49m\u001b[43m \u001b[49m\u001b[38;5;241;43m=\u001b[39;49m\u001b[43m \u001b[49m\u001b[43mFlavors_combo\u001b[49m\u001b[43m,\u001b[49m\u001b[43m \u001b[49m\u001b[43mcutoff\u001b[49m\u001b[43m \u001b[49m\u001b[38;5;241;43m=\u001b[39;49m\u001b[38;5;241;43m98\u001b[39;49m\u001b[43m)\u001b[49m\u001b[43m)\u001b[49m\n\u001b[0;32m     15\u001b[0m \u001b[38;5;66;03m#df_oth_res.drop(columns =['desc'])\u001b[39;00m\n\u001b[0;32m     16\u001b[0m df_oth_res \u001b[38;5;241m=\u001b[39m   df_oth_res[[\u001b[38;5;124m'\u001b[39m\u001b[38;5;124mGTIN_NO\u001b[39m\u001b[38;5;124m'\u001b[39m, \u001b[38;5;124m'\u001b[39m\u001b[38;5;124mVND_ECOM_DSC\u001b[39m\u001b[38;5;124m'\u001b[39m, \u001b[38;5;124m'\u001b[39m\u001b[38;5;124mOriginal_Flavor\u001b[39m\u001b[38;5;124m'\u001b[39m, \u001b[38;5;124m'\u001b[39m\u001b[38;5;124mDetected_Flavor(s)\u001b[39m\u001b[38;5;124m'\u001b[39m, \u001b[38;5;124m'\u001b[39m\u001b[38;5;124mNew_Detected_Flavor(s)\u001b[39m\u001b[38;5;124m'\u001b[39m]]\n",
      "File \u001b[1;32m~\\AppData\\Local\\anaconda3\\lib\\site-packages\\pandas\\core\\series.py:4771\u001b[0m, in \u001b[0;36mSeries.apply\u001b[1;34m(self, func, convert_dtype, args, **kwargs)\u001b[0m\n\u001b[0;32m   4661\u001b[0m \u001b[38;5;28;01mdef\u001b[39;00m \u001b[38;5;21mapply\u001b[39m(\n\u001b[0;32m   4662\u001b[0m     \u001b[38;5;28mself\u001b[39m,\n\u001b[0;32m   4663\u001b[0m     func: AggFuncType,\n\u001b[1;32m   (...)\u001b[0m\n\u001b[0;32m   4666\u001b[0m     \u001b[38;5;241m*\u001b[39m\u001b[38;5;241m*\u001b[39mkwargs,\n\u001b[0;32m   4667\u001b[0m ) \u001b[38;5;241m-\u001b[39m\u001b[38;5;241m>\u001b[39m DataFrame \u001b[38;5;241m|\u001b[39m Series:\n\u001b[0;32m   4668\u001b[0m     \u001b[38;5;124;03m\"\"\"\u001b[39;00m\n\u001b[0;32m   4669\u001b[0m \u001b[38;5;124;03m    Invoke function on values of Series.\u001b[39;00m\n\u001b[0;32m   4670\u001b[0m \n\u001b[1;32m   (...)\u001b[0m\n\u001b[0;32m   4769\u001b[0m \u001b[38;5;124;03m    dtype: float64\u001b[39;00m\n\u001b[0;32m   4770\u001b[0m \u001b[38;5;124;03m    \"\"\"\u001b[39;00m\n\u001b[1;32m-> 4771\u001b[0m     \u001b[38;5;28;01mreturn\u001b[39;00m \u001b[43mSeriesApply\u001b[49m\u001b[43m(\u001b[49m\u001b[38;5;28;43mself\u001b[39;49m\u001b[43m,\u001b[49m\u001b[43m \u001b[49m\u001b[43mfunc\u001b[49m\u001b[43m,\u001b[49m\u001b[43m \u001b[49m\u001b[43mconvert_dtype\u001b[49m\u001b[43m,\u001b[49m\u001b[43m \u001b[49m\u001b[43margs\u001b[49m\u001b[43m,\u001b[49m\u001b[43m \u001b[49m\u001b[43mkwargs\u001b[49m\u001b[43m)\u001b[49m\u001b[38;5;241;43m.\u001b[39;49m\u001b[43mapply\u001b[49m\u001b[43m(\u001b[49m\u001b[43m)\u001b[49m\n",
      "File \u001b[1;32m~\\AppData\\Local\\anaconda3\\lib\\site-packages\\pandas\\core\\apply.py:1123\u001b[0m, in \u001b[0;36mSeriesApply.apply\u001b[1;34m(self)\u001b[0m\n\u001b[0;32m   1120\u001b[0m     \u001b[38;5;28;01mreturn\u001b[39;00m \u001b[38;5;28mself\u001b[39m\u001b[38;5;241m.\u001b[39mapply_str()\n\u001b[0;32m   1122\u001b[0m \u001b[38;5;66;03m# self.f is Callable\u001b[39;00m\n\u001b[1;32m-> 1123\u001b[0m \u001b[38;5;28;01mreturn\u001b[39;00m \u001b[38;5;28;43mself\u001b[39;49m\u001b[38;5;241;43m.\u001b[39;49m\u001b[43mapply_standard\u001b[49m\u001b[43m(\u001b[49m\u001b[43m)\u001b[49m\n",
      "File \u001b[1;32m~\\AppData\\Local\\anaconda3\\lib\\site-packages\\pandas\\core\\apply.py:1174\u001b[0m, in \u001b[0;36mSeriesApply.apply_standard\u001b[1;34m(self)\u001b[0m\n\u001b[0;32m   1172\u001b[0m     \u001b[38;5;28;01melse\u001b[39;00m:\n\u001b[0;32m   1173\u001b[0m         values \u001b[38;5;241m=\u001b[39m obj\u001b[38;5;241m.\u001b[39mastype(\u001b[38;5;28mobject\u001b[39m)\u001b[38;5;241m.\u001b[39m_values\n\u001b[1;32m-> 1174\u001b[0m         mapped \u001b[38;5;241m=\u001b[39m \u001b[43mlib\u001b[49m\u001b[38;5;241;43m.\u001b[39;49m\u001b[43mmap_infer\u001b[49m\u001b[43m(\u001b[49m\n\u001b[0;32m   1175\u001b[0m \u001b[43m            \u001b[49m\u001b[43mvalues\u001b[49m\u001b[43m,\u001b[49m\n\u001b[0;32m   1176\u001b[0m \u001b[43m            \u001b[49m\u001b[43mf\u001b[49m\u001b[43m,\u001b[49m\n\u001b[0;32m   1177\u001b[0m \u001b[43m            \u001b[49m\u001b[43mconvert\u001b[49m\u001b[38;5;241;43m=\u001b[39;49m\u001b[38;5;28;43mself\u001b[39;49m\u001b[38;5;241;43m.\u001b[39;49m\u001b[43mconvert_dtype\u001b[49m\u001b[43m,\u001b[49m\n\u001b[0;32m   1178\u001b[0m \u001b[43m        \u001b[49m\u001b[43m)\u001b[49m\n\u001b[0;32m   1180\u001b[0m \u001b[38;5;28;01mif\u001b[39;00m \u001b[38;5;28mlen\u001b[39m(mapped) \u001b[38;5;129;01mand\u001b[39;00m \u001b[38;5;28misinstance\u001b[39m(mapped[\u001b[38;5;241m0\u001b[39m], ABCSeries):\n\u001b[0;32m   1181\u001b[0m     \u001b[38;5;66;03m# GH#43986 Need to do list(mapped) in order to get treated as nested\u001b[39;00m\n\u001b[0;32m   1182\u001b[0m     \u001b[38;5;66;03m#  See also GH#25959 regarding EA support\u001b[39;00m\n\u001b[0;32m   1183\u001b[0m     \u001b[38;5;28;01mreturn\u001b[39;00m obj\u001b[38;5;241m.\u001b[39m_constructor_expanddim(\u001b[38;5;28mlist\u001b[39m(mapped), index\u001b[38;5;241m=\u001b[39mobj\u001b[38;5;241m.\u001b[39mindex)\n",
      "File \u001b[1;32m~\\AppData\\Local\\anaconda3\\lib\\site-packages\\pandas\\_libs\\lib.pyx:2924\u001b[0m, in \u001b[0;36mpandas._libs.lib.map_infer\u001b[1;34m()\u001b[0m\n",
      "Cell \u001b[1;32mIn[7], line 14\u001b[0m, in \u001b[0;36mproc_oth_res.<locals>.<lambda>\u001b[1;34m(x)\u001b[0m\n\u001b[0;32m     10\u001b[0m df_oth_res \u001b[38;5;241m=\u001b[39m pd\u001b[38;5;241m.\u001b[39mmerge(df_oth_res , ic_gtins[keep_col], on \u001b[38;5;241m=\u001b[39m \u001b[38;5;124m'\u001b[39m\u001b[38;5;124mGTIN_NO\u001b[39m\u001b[38;5;124m'\u001b[39m, how \u001b[38;5;241m=\u001b[39m\u001b[38;5;124m'\u001b[39m\u001b[38;5;124mleft\u001b[39m\u001b[38;5;124m'\u001b[39m)\n\u001b[0;32m     12\u001b[0m df_oth_res[\u001b[38;5;124m'\u001b[39m\u001b[38;5;124mdesc\u001b[39m\u001b[38;5;124m'\u001b[39m] \u001b[38;5;241m=\u001b[39m  df_oth_res [\u001b[38;5;124m'\u001b[39m\u001b[38;5;124mVND_ECOM_DSC\u001b[39m\u001b[38;5;124m'\u001b[39m] \u001b[38;5;241m+\u001b[39m \u001b[38;5;124m'\u001b[39m\u001b[38;5;124m \u001b[39m\u001b[38;5;124m'\u001b[39m \u001b[38;5;241m+\u001b[39m  df_oth_res [\u001b[38;5;124m'\u001b[39m\u001b[38;5;124mRECEIPT_DESCRIPTION\u001b[39m\u001b[38;5;124m'\u001b[39m] \\\n\u001b[0;32m     13\u001b[0m                       \u001b[38;5;241m+\u001b[39m \u001b[38;5;124m'\u001b[39m\u001b[38;5;124m \u001b[39m\u001b[38;5;124m'\u001b[39m \u001b[38;5;241m+\u001b[39m df_oth_res [\u001b[38;5;124m'\u001b[39m\u001b[38;5;124mTAG_DESCRIPTION\u001b[39m\u001b[38;5;124m'\u001b[39m]\n\u001b[1;32m---> 14\u001b[0m df_oth_res [\u001b[38;5;124m'\u001b[39m\u001b[38;5;124mNew_Detected_Flavor(s)\u001b[39m\u001b[38;5;124m'\u001b[39m] \u001b[38;5;241m=\u001b[39m  df_oth_res [\u001b[38;5;124m'\u001b[39m\u001b[38;5;124mdesc\u001b[39m\u001b[38;5;124m'\u001b[39m]\u001b[38;5;241m.\u001b[39mstr\u001b[38;5;241m.\u001b[39mupper()\u001b[38;5;241m.\u001b[39mapply(\u001b[38;5;28;01mlambda\u001b[39;00m x:\u001b[43mflavor_match\u001b[49m\u001b[43m(\u001b[49m\u001b[43mx\u001b[49m\u001b[43m,\u001b[49m\u001b[43m \u001b[49m\u001b[43mflavor_list\u001b[49m\u001b[43m \u001b[49m\u001b[38;5;241;43m=\u001b[39;49m\u001b[43m \u001b[49m\u001b[43mFlavors_combo\u001b[49m\u001b[43m,\u001b[49m\u001b[43m \u001b[49m\u001b[43mcutoff\u001b[49m\u001b[43m \u001b[49m\u001b[38;5;241;43m=\u001b[39;49m\u001b[38;5;241;43m98\u001b[39;49m\u001b[43m)\u001b[49m)\n\u001b[0;32m     15\u001b[0m \u001b[38;5;66;03m#df_oth_res.drop(columns =['desc'])\u001b[39;00m\n\u001b[0;32m     16\u001b[0m df_oth_res \u001b[38;5;241m=\u001b[39m   df_oth_res[[\u001b[38;5;124m'\u001b[39m\u001b[38;5;124mGTIN_NO\u001b[39m\u001b[38;5;124m'\u001b[39m, \u001b[38;5;124m'\u001b[39m\u001b[38;5;124mVND_ECOM_DSC\u001b[39m\u001b[38;5;124m'\u001b[39m, \u001b[38;5;124m'\u001b[39m\u001b[38;5;124mOriginal_Flavor\u001b[39m\u001b[38;5;124m'\u001b[39m, \u001b[38;5;124m'\u001b[39m\u001b[38;5;124mDetected_Flavor(s)\u001b[39m\u001b[38;5;124m'\u001b[39m, \u001b[38;5;124m'\u001b[39m\u001b[38;5;124mNew_Detected_Flavor(s)\u001b[39m\u001b[38;5;124m'\u001b[39m]]\n",
      "Cell \u001b[1;32mIn[10], line 3\u001b[0m, in \u001b[0;36mflavor_match\u001b[1;34m(item, flavor_list, cutoff, scorer)\u001b[0m\n\u001b[0;32m      2\u001b[0m \u001b[38;5;28;01mdef\u001b[39;00m \u001b[38;5;21mflavor_match\u001b[39m(item, flavor_list, cutoff \u001b[38;5;241m=\u001b[39m \u001b[38;5;241m98\u001b[39m, scorer \u001b[38;5;241m=\u001b[39m \u001b[38;5;124m'\u001b[39m\u001b[38;5;124mfuzz.token_set_ratio\u001b[39m\u001b[38;5;124m'\u001b[39m):\n\u001b[1;32m----> 3\u001b[0m     matched \u001b[38;5;241m=\u001b[39m \u001b[43mprocess\u001b[49m\u001b[38;5;241;43m.\u001b[39;49m\u001b[43mextract\u001b[49m\u001b[43m(\u001b[49m\u001b[43mitem\u001b[49m\u001b[43m,\u001b[49m\u001b[43m \u001b[49m\u001b[43mflavor_list\u001b[49m\u001b[43m,\u001b[49m\u001b[43m \u001b[49m\u001b[43mscore_cutoff\u001b[49m\u001b[38;5;241;43m=\u001b[39;49m\u001b[43m \u001b[49m\u001b[43mcutoff\u001b[49m\u001b[43m,\u001b[49m\u001b[43m \u001b[49m\u001b[43mscorer\u001b[49m\u001b[43m \u001b[49m\u001b[38;5;241;43m=\u001b[39;49m\u001b[43m \u001b[49m\u001b[43mscorer\u001b[49m\u001b[43m,\u001b[49m\u001b[43m \u001b[49m\u001b[43mprocessor\u001b[49m\u001b[38;5;241;43m=\u001b[39;49m\u001b[43mutils\u001b[49m\u001b[38;5;241;43m.\u001b[39;49m\u001b[43mdefault_process\u001b[49m\u001b[43m)\u001b[49m\n\u001b[0;32m      4\u001b[0m     flavor_shortlist \u001b[38;5;241m=\u001b[39m remove_substrings([i[\u001b[38;5;241m0\u001b[39m] \u001b[38;5;28;01mfor\u001b[39;00m i \u001b[38;5;129;01min\u001b[39;00m matched])\n\u001b[0;32m      5\u001b[0m     matched \u001b[38;5;241m=\u001b[39m [i \u001b[38;5;28;01mfor\u001b[39;00m i \u001b[38;5;129;01min\u001b[39;00m matched \u001b[38;5;28;01mif\u001b[39;00m i[\u001b[38;5;241m0\u001b[39m] \u001b[38;5;129;01min\u001b[39;00m flavor_shortlist]\n",
      "File \u001b[1;32msrc/rapidfuzz/process_cpp_impl.pyx:1002\u001b[0m, in \u001b[0;36mrapidfuzz.process_cpp_impl.extract\u001b[1;34m()\u001b[0m\n",
      "File \u001b[1;32msrc/rapidfuzz/process_cpp_impl.pyx:936\u001b[0m, in \u001b[0;36mrapidfuzz.process_cpp_impl.py_extract_list\u001b[1;34m()\u001b[0m\n",
      "\u001b[1;31mTypeError\u001b[0m: 'str' object is not callable"
     ]
    }
   ],
   "source": [
    "df_oth_res = proc_oth_res(df_oth)"
   ]
  },
  {
   "cell_type": "code",
   "execution_count": 57,
   "id": "6092c994",
   "metadata": {},
   "outputs": [
    {
     "name": "stderr",
     "output_type": "stream",
     "text": [
      "C:\\Users\\iny2819\\AppData\\Local\\Temp\\ipykernel_26268\\540123340.py:13: SettingWithCopyWarning: \n",
      "A value is trying to be set on a copy of a slice from a DataFrame\n",
      "\n",
      "See the caveats in the documentation: https://pandas.pydata.org/pandas-docs/stable/user_guide/indexing.html#returning-a-view-versus-a-copy\n",
      "  str_df.Drop.loc[j] = 'Yes'\n",
      "C:\\Users\\iny2819\\AppData\\Local\\Temp\\ipykernel_26268\\540123340.py:13: SettingWithCopyWarning: \n",
      "A value is trying to be set on a copy of a slice from a DataFrame\n",
      "\n",
      "See the caveats in the documentation: https://pandas.pydata.org/pandas-docs/stable/user_guide/indexing.html#returning-a-view-versus-a-copy\n",
      "  str_df.Drop.loc[j] = 'Yes'\n"
     ]
    },
    {
     "name": "stdout",
     "output_type": "stream",
     "text": [
      "pr =   df_oth_resoc_oth_res head: \n",
      "             GTIN_NO                                       VND_ECOM_DSC  \\\n",
      "104  00009073102130                     Sharons Wildberry Sorbet 16 Oz   \n",
      "121  00011110084095  DELUXE CHURNED CELEBRATION FAMILY SIZE - KROGE...   \n",
      "124  00011110085283  DELUXE CHURNED CELEBRATION FAMILY SIZE NATURAL...   \n",
      "127  00011110096531                       Kroger® Jumbo Ice Cream Cups   \n",
      "136  00011110502438               Kroger Deluxe Bunch Crunch Ice Cream   \n",
      "\n",
      "    Original_Flavor Detected_Flavor(s) New_Detected_Flavor(s)  cutooff  \n",
      "104           OTHER              OTHER                  BERRY       98  \n",
      "121           OTHER              OTHER                   CAKE       98  \n",
      "124           OTHER              OTHER                   CAKE       98  \n",
      "127           OTHER              OTHER                   CAKE       98  \n",
      "136           OTHER              OTHER                   MILK       98  \n",
      "value_count: \n",
      " POP               22\n",
      "CHOCOLATE         10\n",
      "CAKE              10\n",
      "YOGURT            10\n",
      "FUDGE              8\n",
      "                  ..\n",
      "MARSHMALLOW        1\n",
      "PINEAPPLE          1\n",
      "DULCE DE LECHE     1\n",
      "HUCKLEBERRY        1\n",
      "HAZELNUT           1\n",
      "Name: New_Detected_Flavor(s), Length: 64, dtype: int64\n"
     ]
    },
    {
     "name": "stderr",
     "output_type": "stream",
     "text": [
      "C:\\Users\\iny2819\\AppData\\Local\\Temp\\ipykernel_26268\\3323732749.py:16: SettingWithCopyWarning: \n",
      "A value is trying to be set on a copy of a slice from a DataFrame.\n",
      "Try using .loc[row_indexer,col_indexer] = value instead\n",
      "\n",
      "See the caveats in the documentation: https://pandas.pydata.org/pandas-docs/stable/user_guide/indexing.html#returning-a-view-versus-a-copy\n",
      "  df_oth_res1['cutooff'] = cutoff\n"
     ]
    }
   ],
   "source": [
    "df_oth_res1, df_oth_res2, df_oth_res = proc_oth_res1(df_oth, scorer = fuzz.token_set_ratio)"
   ]
  },
  {
   "cell_type": "code",
   "execution_count": null,
   "id": "2d7c7dc8",
   "metadata": {},
   "outputs": [],
   "source": [
    "df_oth_res2 = proc_oth_res2(df_oth_res2, cutoff = 50, scorer = fuzz.WRatio )"
   ]
  },
  {
   "cell_type": "code",
   "execution_count": null,
   "id": "9ab15e5f",
   "metadata": {},
   "outputs": [],
   "source": [
    "df_ic_flavor_new_detect = pd.concat([bnjry, blue_bunny, df_oth_res1, df_oth_res2]) \n",
    "df_ic_flavor_new_detect.shape"
   ]
  },
  {
   "cell_type": "code",
   "execution_count": null,
   "id": "64bfa9c8",
   "metadata": {},
   "outputs": [],
   "source": [
    "df_ic_flavor_new_detect['New_Detected_Flavor(s)'].value_counts(dropna = False )"
   ]
  },
  {
   "cell_type": "code",
   "execution_count": null,
   "id": "60339e2e",
   "metadata": {},
   "outputs": [],
   "source": [
    "from datetime import date\n",
    "from pandas import ExcelWriter\n",
    "from pandas import ExcelFile\n",
    "\n",
    "dte = date.today().strftime('%m%d%y')\n",
    "excel_file = path_atb + \"CECREAM_OTHER_NEW_DETECTED_FLAVORS_\"+dte + '.xlsx'\n",
    "writer = pd.ExcelWriter(excel_file)\n",
    "df_ic_flavor_new_detect.to_excel(writer,'New_Detected_Flavor', index = False)\n",
    "     \n",
    "writer.close()"
   ]
  },
  {
   "cell_type": "code",
   "execution_count": null,
   "id": "fd7d3d1e",
   "metadata": {},
   "outputs": [],
   "source": [
    "stop"
   ]
  },
  {
   "cell_type": "code",
   "execution_count": null,
   "id": "57b996ad",
   "metadata": {},
   "outputs": [],
   "source": [
    "len(ic_flavor_new_detect[ic_flavor_new_detect['New_Detected_Flavor(s)'] == ''])"
   ]
  },
  {
   "cell_type": "code",
   "execution_count": null,
   "id": "dd60cc6e",
   "metadata": {},
   "outputs": [],
   "source": [
    "df_oth_det = df_oth [df_oth['Detected_Flavor(s)'] == 'OTHER' ]\n",
    "df_oth_det.shape"
   ]
  },
  {
   "cell_type": "code",
   "execution_count": null,
   "id": "d92c4974",
   "metadata": {},
   "outputs": [],
   "source": [
    "df_oth_det['GTIN_NO'] = df_oth_det.GTIN_NO.apply(lambda x: int(x)).astype(str).apply(lambda x: (14- len(x))*'0'+x)\n",
    "df_oth_det.head()"
   ]
  },
  {
   "cell_type": "code",
   "execution_count": null,
   "id": "4ede20f0",
   "metadata": {},
   "outputs": [],
   "source": [
    "keep_col = [ 'GTIN_NO', 'RECEIPT_DESCRIPTION','TAG_DESCRIPTION', 'PRODUCT_DESCRIPTION/MKT_MSG']\n",
    "df_oth_det_mrg = pd.merge(df_oth_det , ic_gtins[keep_col], on = 'GTIN_NO', how ='left')\n",
    "df_oth_det_mrg "
   ]
  },
  {
   "cell_type": "code",
   "execution_count": null,
   "id": "056d89cc",
   "metadata": {},
   "outputs": [],
   "source": [
    "df_oth_det_mrg_bkup = df_oth_det_mrg.copy()  "
   ]
  },
  {
   "cell_type": "code",
   "execution_count": null,
   "id": "c63eec27",
   "metadata": {},
   "outputs": [],
   "source": [
    "df_oth_det_mrg = df_oth_det_mrg_bkup.copy()\n",
    "df_oth_det_mrg.head() "
   ]
  },
  {
   "cell_type": "code",
   "execution_count": null,
   "id": "9c1f4368",
   "metadata": {},
   "outputs": [],
   "source": [
    "# not inlucde PRODUCT_DESCRIPTION/MKT_MSG Which has NaN. After combine, the col 'dsc' will be NaN '\n",
    "# Use ' ' as the seperator between columns\n",
    "\n",
    "df_oth_det_mrg['desc'] =  df_oth_det_mrg ['VND_ECOM_DSC'] + ' ' +  df_oth_det_mrg ['RECEIPT_DESCRIPTION'] \\\n",
    "                               + ' ' + df_oth_det_mrg ['TAG_DESCRIPTION']\n",
    "df_oth_det_mrg.head() "
   ]
  },
  {
   "cell_type": "code",
   "execution_count": null,
   "id": "2763a3f9",
   "metadata": {},
   "outputs": [],
   "source": [
    "df_oth_det_mrg['desc'][0:2] "
   ]
  },
  {
   "cell_type": "code",
   "execution_count": null,
   "id": "15a8d7a2",
   "metadata": {
    "scrolled": true
   },
   "outputs": [],
   "source": [
    "df_oth_det_mrg ['Dected_Flavor_Cutoff98'] =  df_oth_det_mrg ['desc'].str.upper().apply(lambda x:flavor_match(x, flavor_list = IC_flavors_new, cutoff =98))\n",
    "df_oth_det_mrg ['Dected_Flavor_Cutoff90'] =  df_oth_det_mrg ['desc'].str.upper().apply(lambda x:flavor_match(x, flavor_list = IC_flavors_new, cutoff= 90))\n",
    "df_oth_det_mrg ['Dected_Flavor_Cutoff85'] =  df_oth_det_mrg ['desc'].str.upper().apply(lambda x:flavor_match(x, flavor_list = IC_flavors_new, cutoff= 85))\n",
    "df_oth_det_mrg ['Dected_Flavor_Cutoff80'] =  df_oth_det_mrg ['desc'].str.upper().apply(lambda x:flavor_match(x, flavor_list = IC_flavors_new, cutoff= 80))\n",
    "df_oth_det_mrg ['Dected_Flavor_Cutoff75'] =  df_oth_det_mrg ['desc'].str.upper().apply(lambda x:flavor_match(x, flavor_list = IC_flavors_new, cutoff= 75))"
   ]
  },
  {
   "cell_type": "code",
   "execution_count": null,
   "id": "705de685",
   "metadata": {},
   "outputs": [],
   "source": [
    "df_oth_det_mrg [''Dected_Flavor_Cutoff98'] =  df_oth_det_mrg ['desc'].str.upper().apply(lambda x:flavor_match(x, flavor_list = IC_flavors_new))\n",
    "df_oth_det_mrg.head() .value_counts(dropna = False)"
   ]
  },
  {
   "cell_type": "code",
   "execution_count": null,
   "id": "912ae6f7",
   "metadata": {},
   "outputs": [],
   "source": [
    "df_oth_det_mrg ['Dected_Flavor_Cutoff75'].value_counts(dropna = False) "
   ]
  },
  {
   "cell_type": "code",
   "execution_count": null,
   "id": "04c53dc7",
   "metadata": {},
   "outputs": [],
   "source": [
    "#df['period'] = df[['Year', 'quarter', ...]].agg('-'.join, axis=1)\n",
    "df_oth_det_mrg ['desc']  = df_oth_det_mrg [['VND_ECOM_DSC' ,'RECEIPT_DESCRIPTION','TAG_DESCRIPTION', 'PRODUCT_DESCRIPTION/MKT_MSG']].str().agg('-'.join, axis=1)"
   ]
  },
  {
   "cell_type": "code",
   "execution_count": null,
   "id": "c8b633f3",
   "metadata": {},
   "outputs": [],
   "source": [
    "df_oth_det_mrg ['desc']  = df_oth_det_mrg [['VND_ECOM_DSC' ,'RECEIPT_DESCRIPTION','TAG_DESCRIPTION']].agg('-'.join, axis=1)"
   ]
  },
  {
   "cell_type": "code",
   "execution_count": null,
   "id": "9c5bbfc0",
   "metadata": {},
   "outputs": [],
   "source": []
  },
  {
   "cell_type": "code",
   "execution_count": null,
   "id": "12ab4ea9",
   "metadata": {},
   "outputs": [],
   "source": [
    "df_oth_det_mrg ['desc']  = df_oth_det_mrg [['VND_ECOM_DSC' ,'RECEIPT_DESCRIPTION','TAG_DESCRIPTION']].agg('-'.join, axis=1)"
   ]
  },
  {
   "cell_type": "code",
   "execution_count": null,
   "id": "74e47549",
   "metadata": {},
   "outputs": [],
   "source": [
    "df_oth_det_mrg ['desc']  = df_oth_det_mrg [['VND_ECOM_DSC' ,'RECEIPT_DESCRIPTION','TAG_DESCRIPTION', 'PRODUCT_DESCRIPTION/MKT_MSG']].str().agg('-'.join, axis=1)"
   ]
  },
  {
   "cell_type": "code",
   "execution_count": null,
   "id": "1bf01d53",
   "metadata": {},
   "outputs": [],
   "source": [
    "df_oth_det_mrg.head() "
   ]
  },
  {
   "cell_type": "code",
   "execution_count": null,
   "id": "6faf792d",
   "metadata": {},
   "outputs": [],
   "source": [
    "from datetime import date\n",
    "dte = date.today().strftime('%m%d%y')\n",
    "excel_file = path_atb_yue + \"df_oth_det_mrg_\"+dte + '.xlsx'\n",
    "df_oth_det_mrg.to_excel(excel_file,  index=False )"
   ]
  },
  {
   "cell_type": "code",
   "execution_count": null,
   "id": "9bde8f79",
   "metadata": {},
   "outputs": [],
   "source": [
    "len(blue_bunny[\"New_Detected_Flavor(s)\"] == '')"
   ]
  },
  {
   "cell_type": "code",
   "execution_count": 25,
   "id": "6277ba14",
   "metadata": {
    "scrolled": false
   },
   "outputs": [],
   "source": [
    "\n",
    "def flavor_matchx(item, flavor_list, cutoff = 98, score_name = fuzz.token_set_ratio):\n",
    "    matched = process.extract(item, flavor_list, score_cutoff= cutoff, scorer = score_name, processor=utils.default_process)\n",
    "    print(f' matched1 = {matched}' )\n",
    "    flavor_shortlist = remove_substrings([i[0] for i in matched])\n",
    "    print(f' flavor_shortlist = {flavor_shortlist}' )\n",
    "    matched = [i for i in matched if i[0] in flavor_shortlist]\n",
    "    print(f' matched2 = {matched}' )\n",
    "    if len( flavor_shortlist) >0:\n",
    "        max_score = matched[0][1]\n",
    "        print(f' max_score = {max_score}' )\n",
    "        final_match = [ i for i in matched if i[1]== max_score]\n",
    "        print(f' final_match  = {final_match}' )\n",
    "        match_list = [i[0] for i in final_match]\n",
    "        print(f' match_list = {match_list}' )\n",
    "        '''\n",
    "        match_list = [flavor_maps[i] if i in flavor_maps.keys() else i for i in match_list]\n",
    "        if set(match_list) == {'STRAWBERRY','FRUIT'}: \n",
    "            match_list = ['FRUIT']#Drop Strawberry if fruit is the only other flavor\n",
    "        if  set(match_list) != {'FRUIT'} : match_list = [ i for i in match_list if i != 'FRUIT']#Drop Fruit if it appears with something else\n",
    " \n",
    "        if matched in multiflavor_dict.keys(): #Mapping multi-flavors to intended labels\n",
    "            matched = multiflavor_dict[matched]\n",
    "        '''\n",
    "        matched = ','.join(sorted(list(set(pd.Series(match_list)))))   \n",
    "    else: matched = 'OTHER'\n",
    "    return matched"
   ]
  },
  {
   "cell_type": "code",
   "execution_count": 26,
   "id": "da04ae4c",
   "metadata": {
    "scrolled": true
   },
   "outputs": [
    {
     "name": "stdout",
     "output_type": "stream",
     "text": [
      " matched1 = [('BLACK SESAME', 58.8235294117647, 14), ('BLACK FOREST', 58.8235294117647, 165), ('BLACK WALNUT', 58.8235294117647, 179)]\n",
      " flavor_shortlist = ['BLACK SESAME', 'BLACK FOREST', 'BLACK WALNUT']\n",
      " matched2 = [('BLACK SESAME', 58.8235294117647, 14), ('BLACK FOREST', 58.8235294117647, 165), ('BLACK WALNUT', 58.8235294117647, 179)]\n",
      " max_score = 58.8235294117647\n",
      " final_match  = [('BLACK SESAME', 58.8235294117647, 14), ('BLACK FOREST', 58.8235294117647, 165), ('BLACK WALNUT', 58.8235294117647, 179)]\n",
      " match_list = ['BLACK SESAME', 'BLACK FOREST', 'BLACK WALNUT']\n"
     ]
    }
   ],
   "source": [
    "item = \"Simply Organic Daily Grind Black Peppercorns - Organic - Grinder - 3 oz\"\n",
    "\n",
    "mth = flavor_matchx(item, Flavors_combo, cutoff = 50,  score_name = fuzz.token_set_ratio)"
   ]
  },
  {
   "cell_type": "code",
   "execution_count": 27,
   "id": "9848a6f8",
   "metadata": {},
   "outputs": [
    {
     "name": "stdout",
     "output_type": "stream",
     "text": [
      " matched1 = [('BLACK SESAME', 85.5, 14), ('BLACK FOREST', 85.5, 165), ('BLACK WALNUT', 85.5, 179), ('PEPPERMINT', 63.0, 1), ('PEPPER', 60.0, 59)]\n",
      " flavor_shortlist = ['PEPPERMINT', 'PEPPER', 'BLACK SESAME', 'BLACK FOREST', 'BLACK WALNUT']\n",
      " matched2 = [('BLACK SESAME', 85.5, 14), ('BLACK FOREST', 85.5, 165), ('BLACK WALNUT', 85.5, 179), ('PEPPERMINT', 63.0, 1), ('PEPPER', 60.0, 59)]\n",
      " max_score = 85.5\n",
      " final_match  = [('BLACK SESAME', 85.5, 14), ('BLACK FOREST', 85.5, 165), ('BLACK WALNUT', 85.5, 179)]\n",
      " match_list = ['BLACK SESAME', 'BLACK FOREST', 'BLACK WALNUT']\n"
     ]
    }
   ],
   "source": [
    "mth = flavor_matchx(item, Flavors_combo, cutoff = 50,  score_name = fuzz.WRatio)"
   ]
  },
  {
   "cell_type": "code",
   "execution_count": 35,
   "id": "24171d83",
   "metadata": {},
   "outputs": [
    {
     "name": "stdout",
     "output_type": "stream",
     "text": [
      " matched1 = [('BLACK SESAME', 85.5, 14), ('BLACK FOREST', 85.5, 165), ('BLACK WALNUT', 85.5, 179), ('PEPPERMINT', 63.0, 1), ('PEPPER', 60.0, 59)]\n",
      " flavor_shortlist = ['PEPPERMINT', 'PEPPER', 'BLACK SESAME', 'BLACK FOREST', 'BLACK WALNUT']\n",
      " matched2 = [('BLACK SESAME', 85.5, 14), ('BLACK FOREST', 85.5, 165), ('BLACK WALNUT', 85.5, 179), ('PEPPERMINT', 63.0, 1), ('PEPPER', 60.0, 59)]\n",
      " max_score = 85.5\n",
      " final_match  = [('BLACK SESAME', 85.5, 14), ('BLACK FOREST', 85.5, 165), ('BLACK WALNUT', 85.5, 179)]\n",
      " match_list = ['BLACK SESAME', 'BLACK FOREST', 'BLACK WALNUT']\n"
     ]
    }
   ],
   "source": [
    "score_name = fuzz.WRatio\n",
    "mth = flavor_matchx(item, Flavors_combo, cutoff = 50,  score_name = score_name)"
   ]
  },
  {
   "cell_type": "code",
   "execution_count": null,
   "id": "cfda1777",
   "metadata": {},
   "outputs": [],
   "source": [
    "\n",
    "print(process.extract(item, Flavors_combo, scorer=fuzz.ratio))"
   ]
  },
  {
   "cell_type": "code",
   "execution_count": null,
   "id": "9af88ed2",
   "metadata": {},
   "outputs": [],
   "source": [
    "df_oth_res2.desc.str.upper()"
   ]
  },
  {
   "cell_type": "code",
   "execution_count": null,
   "id": "8844b4ec",
   "metadata": {},
   "outputs": [],
   "source": [
    "print(process.extract(item, Flavors_combo, scorer=fuzz.token_set_ratio))"
   ]
  },
  {
   "cell_type": "code",
   "execution_count": null,
   "id": "1215d922",
   "metadata": {},
   "outputs": [],
   "source": [
    " print( process.extract(item, Flavors_combo, score_cutoff= 98, scorer =fuzz.token_set_ratio, processor=utils.default_process))"
   ]
  },
  {
   "cell_type": "code",
   "execution_count": null,
   "id": "81d737ad",
   "metadata": {
    "scrolled": true
   },
   "outputs": [],
   "source": [
    " print( process.extract(item, Flavors_combo,  scorer =fuzz.token_set_ratio, processor=utils.default_process))"
   ]
  },
  {
   "cell_type": "code",
   "execution_count": null,
   "id": "0812c549",
   "metadata": {},
   "outputs": [],
   "source": [
    " print( process.extract(item, Flavors_combo,  scorer =fuzz.ratio, processor=utils.default_process))"
   ]
  },
  {
   "cell_type": "code",
   "execution_count": null,
   "id": "02894056",
   "metadata": {},
   "outputs": [],
   "source": [
    " print( process.extract(item, Flavors_combo, score_cutoff= 0, scorer =fuzz.token_set_ratio, processor=utils.default_process))"
   ]
  },
  {
   "cell_type": "code",
   "execution_count": null,
   "id": "6850ba0e",
   "metadata": {},
   "outputs": [],
   "source": [
    " print( process.extract(item, Flavors_combo, score_cutoff= 50, scorer =fuzz.token_set_ratio, processor=utils.default_process))"
   ]
  },
  {
   "cell_type": "code",
   "execution_count": null,
   "id": "8a2db01c",
   "metadata": {},
   "outputs": [],
   "source": [
    "item = \"Simply Organic Daily Grind Black Peppercorns - Organic - Grinder - 3 oz\"\n"
   ]
  },
  {
   "cell_type": "code",
   "execution_count": null,
   "id": "03bc9880",
   "metadata": {},
   "outputs": [],
   "source": [
    " print( process.extract(item, Flavors_combo, score_cutoff= 50, scorer =fuzz.WRatio, processor=utils.default_process))"
   ]
  },
  {
   "cell_type": "code",
   "execution_count": null,
   "id": "f15330db",
   "metadata": {},
   "outputs": [],
   "source": [
    "\n",
    "df_oth_res1x, df_oth_res2x = proc_oth_res1(df_oth, scorer = fuzz.WRatio)\n",
    "df_oth_res2x = proc_oth_res2(df_oth_res2x, cutoff = 50, scorer = fuzz.WRatio )\n",
    "df_ic_flavor_new_detectx = pd.concat([bnjry, blue_bunny, df_oth_res1x, df_oth_res2x]) \n",
    "df_ic_flavor_new_detectx.to_excel(path_atb_yue + \"ic_flavor_new_detect_yue\", index = False)"
   ]
  },
  {
   "cell_type": "code",
   "execution_count": 40,
   "id": "91db9553",
   "metadata": {},
   "outputs": [
    {
     "name": "stderr",
     "output_type": "stream",
     "text": [
      "C:\\Users\\iny2819\\AppData\\Local\\Temp\\ipykernel_26268\\540123340.py:13: SettingWithCopyWarning: \n",
      "A value is trying to be set on a copy of a slice from a DataFrame\n",
      "\n",
      "See the caveats in the documentation: https://pandas.pydata.org/pandas-docs/stable/user_guide/indexing.html#returning-a-view-versus-a-copy\n",
      "  str_df.Drop.loc[j] = 'Yes'\n",
      "C:\\Users\\iny2819\\AppData\\Local\\Temp\\ipykernel_26268\\540123340.py:13: SettingWithCopyWarning: \n",
      "A value is trying to be set on a copy of a slice from a DataFrame\n",
      "\n",
      "See the caveats in the documentation: https://pandas.pydata.org/pandas-docs/stable/user_guide/indexing.html#returning-a-view-versus-a-copy\n",
      "  str_df.Drop.loc[j] = 'Yes'\n",
      "C:\\Users\\iny2819\\AppData\\Local\\Temp\\ipykernel_26268\\540123340.py:13: SettingWithCopyWarning: \n",
      "A value is trying to be set on a copy of a slice from a DataFrame\n",
      "\n",
      "See the caveats in the documentation: https://pandas.pydata.org/pandas-docs/stable/user_guide/indexing.html#returning-a-view-versus-a-copy\n",
      "  str_df.Drop.loc[j] = 'Yes'\n",
      "C:\\Users\\iny2819\\AppData\\Local\\Temp\\ipykernel_26268\\540123340.py:13: SettingWithCopyWarning: \n",
      "A value is trying to be set on a copy of a slice from a DataFrame\n",
      "\n",
      "See the caveats in the documentation: https://pandas.pydata.org/pandas-docs/stable/user_guide/indexing.html#returning-a-view-versus-a-copy\n",
      "  str_df.Drop.loc[j] = 'Yes'\n",
      "C:\\Users\\iny2819\\AppData\\Local\\Temp\\ipykernel_26268\\540123340.py:13: SettingWithCopyWarning: \n",
      "A value is trying to be set on a copy of a slice from a DataFrame\n",
      "\n",
      "See the caveats in the documentation: https://pandas.pydata.org/pandas-docs/stable/user_guide/indexing.html#returning-a-view-versus-a-copy\n",
      "  str_df.Drop.loc[j] = 'Yes'\n",
      "C:\\Users\\iny2819\\AppData\\Local\\Temp\\ipykernel_26268\\540123340.py:13: SettingWithCopyWarning: \n",
      "A value is trying to be set on a copy of a slice from a DataFrame\n",
      "\n",
      "See the caveats in the documentation: https://pandas.pydata.org/pandas-docs/stable/user_guide/indexing.html#returning-a-view-versus-a-copy\n",
      "  str_df.Drop.loc[j] = 'Yes'\n",
      "C:\\Users\\iny2819\\AppData\\Local\\Temp\\ipykernel_26268\\540123340.py:13: SettingWithCopyWarning: \n",
      "A value is trying to be set on a copy of a slice from a DataFrame\n",
      "\n",
      "See the caveats in the documentation: https://pandas.pydata.org/pandas-docs/stable/user_guide/indexing.html#returning-a-view-versus-a-copy\n",
      "  str_df.Drop.loc[j] = 'Yes'\n",
      "C:\\Users\\iny2819\\AppData\\Local\\Temp\\ipykernel_26268\\540123340.py:13: SettingWithCopyWarning: \n",
      "A value is trying to be set on a copy of a slice from a DataFrame\n",
      "\n",
      "See the caveats in the documentation: https://pandas.pydata.org/pandas-docs/stable/user_guide/indexing.html#returning-a-view-versus-a-copy\n",
      "  str_df.Drop.loc[j] = 'Yes'\n",
      "C:\\Users\\iny2819\\AppData\\Local\\Temp\\ipykernel_26268\\540123340.py:13: SettingWithCopyWarning: \n",
      "A value is trying to be set on a copy of a slice from a DataFrame\n",
      "\n",
      "See the caveats in the documentation: https://pandas.pydata.org/pandas-docs/stable/user_guide/indexing.html#returning-a-view-versus-a-copy\n",
      "  str_df.Drop.loc[j] = 'Yes'\n",
      "C:\\Users\\iny2819\\AppData\\Local\\Temp\\ipykernel_26268\\540123340.py:13: SettingWithCopyWarning: \n",
      "A value is trying to be set on a copy of a slice from a DataFrame\n",
      "\n",
      "See the caveats in the documentation: https://pandas.pydata.org/pandas-docs/stable/user_guide/indexing.html#returning-a-view-versus-a-copy\n",
      "  str_df.Drop.loc[j] = 'Yes'\n",
      "C:\\Users\\iny2819\\AppData\\Local\\Temp\\ipykernel_26268\\540123340.py:13: SettingWithCopyWarning: \n",
      "A value is trying to be set on a copy of a slice from a DataFrame\n",
      "\n",
      "See the caveats in the documentation: https://pandas.pydata.org/pandas-docs/stable/user_guide/indexing.html#returning-a-view-versus-a-copy\n",
      "  str_df.Drop.loc[j] = 'Yes'\n",
      "C:\\Users\\iny2819\\AppData\\Local\\Temp\\ipykernel_26268\\540123340.py:13: SettingWithCopyWarning: \n",
      "A value is trying to be set on a copy of a slice from a DataFrame\n",
      "\n",
      "See the caveats in the documentation: https://pandas.pydata.org/pandas-docs/stable/user_guide/indexing.html#returning-a-view-versus-a-copy\n",
      "  str_df.Drop.loc[j] = 'Yes'\n",
      "C:\\Users\\iny2819\\AppData\\Local\\Temp\\ipykernel_26268\\540123340.py:13: SettingWithCopyWarning: \n",
      "A value is trying to be set on a copy of a slice from a DataFrame\n",
      "\n",
      "See the caveats in the documentation: https://pandas.pydata.org/pandas-docs/stable/user_guide/indexing.html#returning-a-view-versus-a-copy\n",
      "  str_df.Drop.loc[j] = 'Yes'\n",
      "C:\\Users\\iny2819\\AppData\\Local\\Temp\\ipykernel_26268\\540123340.py:13: SettingWithCopyWarning: \n",
      "A value is trying to be set on a copy of a slice from a DataFrame\n",
      "\n",
      "See the caveats in the documentation: https://pandas.pydata.org/pandas-docs/stable/user_guide/indexing.html#returning-a-view-versus-a-copy\n",
      "  str_df.Drop.loc[j] = 'Yes'\n",
      "C:\\Users\\iny2819\\AppData\\Local\\Temp\\ipykernel_26268\\540123340.py:13: SettingWithCopyWarning: \n",
      "A value is trying to be set on a copy of a slice from a DataFrame\n",
      "\n",
      "See the caveats in the documentation: https://pandas.pydata.org/pandas-docs/stable/user_guide/indexing.html#returning-a-view-versus-a-copy\n",
      "  str_df.Drop.loc[j] = 'Yes'\n",
      "C:\\Users\\iny2819\\AppData\\Local\\Temp\\ipykernel_26268\\540123340.py:13: SettingWithCopyWarning: \n",
      "A value is trying to be set on a copy of a slice from a DataFrame\n",
      "\n",
      "See the caveats in the documentation: https://pandas.pydata.org/pandas-docs/stable/user_guide/indexing.html#returning-a-view-versus-a-copy\n",
      "  str_df.Drop.loc[j] = 'Yes'\n",
      "C:\\Users\\iny2819\\AppData\\Local\\Temp\\ipykernel_26268\\540123340.py:13: SettingWithCopyWarning: \n",
      "A value is trying to be set on a copy of a slice from a DataFrame\n",
      "\n",
      "See the caveats in the documentation: https://pandas.pydata.org/pandas-docs/stable/user_guide/indexing.html#returning-a-view-versus-a-copy\n",
      "  str_df.Drop.loc[j] = 'Yes'\n",
      "C:\\Users\\iny2819\\AppData\\Local\\Temp\\ipykernel_26268\\540123340.py:13: SettingWithCopyWarning: \n",
      "A value is trying to be set on a copy of a slice from a DataFrame\n",
      "\n",
      "See the caveats in the documentation: https://pandas.pydata.org/pandas-docs/stable/user_guide/indexing.html#returning-a-view-versus-a-copy\n",
      "  str_df.Drop.loc[j] = 'Yes'\n",
      "C:\\Users\\iny2819\\AppData\\Local\\Temp\\ipykernel_26268\\540123340.py:13: SettingWithCopyWarning: \n",
      "A value is trying to be set on a copy of a slice from a DataFrame\n",
      "\n",
      "See the caveats in the documentation: https://pandas.pydata.org/pandas-docs/stable/user_guide/indexing.html#returning-a-view-versus-a-copy\n",
      "  str_df.Drop.loc[j] = 'Yes'\n",
      "C:\\Users\\iny2819\\AppData\\Local\\Temp\\ipykernel_26268\\540123340.py:13: SettingWithCopyWarning: \n",
      "A value is trying to be set on a copy of a slice from a DataFrame\n",
      "\n",
      "See the caveats in the documentation: https://pandas.pydata.org/pandas-docs/stable/user_guide/indexing.html#returning-a-view-versus-a-copy\n",
      "  str_df.Drop.loc[j] = 'Yes'\n",
      "C:\\Users\\iny2819\\AppData\\Local\\Temp\\ipykernel_26268\\540123340.py:13: SettingWithCopyWarning: \n",
      "A value is trying to be set on a copy of a slice from a DataFrame\n",
      "\n",
      "See the caveats in the documentation: https://pandas.pydata.org/pandas-docs/stable/user_guide/indexing.html#returning-a-view-versus-a-copy\n",
      "  str_df.Drop.loc[j] = 'Yes'\n",
      "C:\\Users\\iny2819\\AppData\\Local\\Temp\\ipykernel_26268\\540123340.py:13: SettingWithCopyWarning: \n",
      "A value is trying to be set on a copy of a slice from a DataFrame\n",
      "\n",
      "See the caveats in the documentation: https://pandas.pydata.org/pandas-docs/stable/user_guide/indexing.html#returning-a-view-versus-a-copy\n",
      "  str_df.Drop.loc[j] = 'Yes'\n",
      "C:\\Users\\iny2819\\AppData\\Local\\Temp\\ipykernel_26268\\540123340.py:13: SettingWithCopyWarning: \n",
      "A value is trying to be set on a copy of a slice from a DataFrame\n",
      "\n",
      "See the caveats in the documentation: https://pandas.pydata.org/pandas-docs/stable/user_guide/indexing.html#returning-a-view-versus-a-copy\n",
      "  str_df.Drop.loc[j] = 'Yes'\n",
      "C:\\Users\\iny2819\\AppData\\Local\\Temp\\ipykernel_26268\\540123340.py:13: SettingWithCopyWarning: \n",
      "A value is trying to be set on a copy of a slice from a DataFrame\n",
      "\n",
      "See the caveats in the documentation: https://pandas.pydata.org/pandas-docs/stable/user_guide/indexing.html#returning-a-view-versus-a-copy\n",
      "  str_df.Drop.loc[j] = 'Yes'\n",
      "C:\\Users\\iny2819\\AppData\\Local\\Temp\\ipykernel_26268\\540123340.py:13: SettingWithCopyWarning: \n",
      "A value is trying to be set on a copy of a slice from a DataFrame\n",
      "\n",
      "See the caveats in the documentation: https://pandas.pydata.org/pandas-docs/stable/user_guide/indexing.html#returning-a-view-versus-a-copy\n",
      "  str_df.Drop.loc[j] = 'Yes'\n",
      "C:\\Users\\iny2819\\AppData\\Local\\Temp\\ipykernel_26268\\540123340.py:13: SettingWithCopyWarning: \n",
      "A value is trying to be set on a copy of a slice from a DataFrame\n",
      "\n",
      "See the caveats in the documentation: https://pandas.pydata.org/pandas-docs/stable/user_guide/indexing.html#returning-a-view-versus-a-copy\n",
      "  str_df.Drop.loc[j] = 'Yes'\n",
      "C:\\Users\\iny2819\\AppData\\Local\\Temp\\ipykernel_26268\\540123340.py:13: SettingWithCopyWarning: \n",
      "A value is trying to be set on a copy of a slice from a DataFrame\n",
      "\n",
      "See the caveats in the documentation: https://pandas.pydata.org/pandas-docs/stable/user_guide/indexing.html#returning-a-view-versus-a-copy\n",
      "  str_df.Drop.loc[j] = 'Yes'\n",
      "C:\\Users\\iny2819\\AppData\\Local\\Temp\\ipykernel_26268\\540123340.py:13: SettingWithCopyWarning: \n",
      "A value is trying to be set on a copy of a slice from a DataFrame\n",
      "\n",
      "See the caveats in the documentation: https://pandas.pydata.org/pandas-docs/stable/user_guide/indexing.html#returning-a-view-versus-a-copy\n",
      "  str_df.Drop.loc[j] = 'Yes'\n",
      "C:\\Users\\iny2819\\AppData\\Local\\Temp\\ipykernel_26268\\540123340.py:13: SettingWithCopyWarning: \n",
      "A value is trying to be set on a copy of a slice from a DataFrame\n",
      "\n",
      "See the caveats in the documentation: https://pandas.pydata.org/pandas-docs/stable/user_guide/indexing.html#returning-a-view-versus-a-copy\n",
      "  str_df.Drop.loc[j] = 'Yes'\n",
      "C:\\Users\\iny2819\\AppData\\Local\\Temp\\ipykernel_26268\\540123340.py:13: SettingWithCopyWarning: \n",
      "A value is trying to be set on a copy of a slice from a DataFrame\n",
      "\n",
      "See the caveats in the documentation: https://pandas.pydata.org/pandas-docs/stable/user_guide/indexing.html#returning-a-view-versus-a-copy\n",
      "  str_df.Drop.loc[j] = 'Yes'\n"
     ]
    },
    {
     "name": "stderr",
     "output_type": "stream",
     "text": [
      "C:\\Users\\iny2819\\AppData\\Local\\Temp\\ipykernel_26268\\540123340.py:13: SettingWithCopyWarning: \n",
      "A value is trying to be set on a copy of a slice from a DataFrame\n",
      "\n",
      "See the caveats in the documentation: https://pandas.pydata.org/pandas-docs/stable/user_guide/indexing.html#returning-a-view-versus-a-copy\n",
      "  str_df.Drop.loc[j] = 'Yes'\n",
      "C:\\Users\\iny2819\\AppData\\Local\\Temp\\ipykernel_26268\\540123340.py:13: SettingWithCopyWarning: \n",
      "A value is trying to be set on a copy of a slice from a DataFrame\n",
      "\n",
      "See the caveats in the documentation: https://pandas.pydata.org/pandas-docs/stable/user_guide/indexing.html#returning-a-view-versus-a-copy\n",
      "  str_df.Drop.loc[j] = 'Yes'\n",
      "C:\\Users\\iny2819\\AppData\\Local\\Temp\\ipykernel_26268\\540123340.py:13: SettingWithCopyWarning: \n",
      "A value is trying to be set on a copy of a slice from a DataFrame\n",
      "\n",
      "See the caveats in the documentation: https://pandas.pydata.org/pandas-docs/stable/user_guide/indexing.html#returning-a-view-versus-a-copy\n",
      "  str_df.Drop.loc[j] = 'Yes'\n",
      "C:\\Users\\iny2819\\AppData\\Local\\Temp\\ipykernel_26268\\540123340.py:13: SettingWithCopyWarning: \n",
      "A value is trying to be set on a copy of a slice from a DataFrame\n",
      "\n",
      "See the caveats in the documentation: https://pandas.pydata.org/pandas-docs/stable/user_guide/indexing.html#returning-a-view-versus-a-copy\n",
      "  str_df.Drop.loc[j] = 'Yes'\n",
      "C:\\Users\\iny2819\\AppData\\Local\\Temp\\ipykernel_26268\\540123340.py:13: SettingWithCopyWarning: \n",
      "A value is trying to be set on a copy of a slice from a DataFrame\n",
      "\n",
      "See the caveats in the documentation: https://pandas.pydata.org/pandas-docs/stable/user_guide/indexing.html#returning-a-view-versus-a-copy\n",
      "  str_df.Drop.loc[j] = 'Yes'\n",
      "C:\\Users\\iny2819\\AppData\\Local\\Temp\\ipykernel_26268\\540123340.py:13: SettingWithCopyWarning: \n",
      "A value is trying to be set on a copy of a slice from a DataFrame\n",
      "\n",
      "See the caveats in the documentation: https://pandas.pydata.org/pandas-docs/stable/user_guide/indexing.html#returning-a-view-versus-a-copy\n",
      "  str_df.Drop.loc[j] = 'Yes'\n",
      "C:\\Users\\iny2819\\AppData\\Local\\Temp\\ipykernel_26268\\540123340.py:13: SettingWithCopyWarning: \n",
      "A value is trying to be set on a copy of a slice from a DataFrame\n",
      "\n",
      "See the caveats in the documentation: https://pandas.pydata.org/pandas-docs/stable/user_guide/indexing.html#returning-a-view-versus-a-copy\n",
      "  str_df.Drop.loc[j] = 'Yes'\n",
      "C:\\Users\\iny2819\\AppData\\Local\\Temp\\ipykernel_26268\\540123340.py:13: SettingWithCopyWarning: \n",
      "A value is trying to be set on a copy of a slice from a DataFrame\n",
      "\n",
      "See the caveats in the documentation: https://pandas.pydata.org/pandas-docs/stable/user_guide/indexing.html#returning-a-view-versus-a-copy\n",
      "  str_df.Drop.loc[j] = 'Yes'\n",
      "C:\\Users\\iny2819\\AppData\\Local\\Temp\\ipykernel_26268\\540123340.py:13: SettingWithCopyWarning: \n",
      "A value is trying to be set on a copy of a slice from a DataFrame\n",
      "\n",
      "See the caveats in the documentation: https://pandas.pydata.org/pandas-docs/stable/user_guide/indexing.html#returning-a-view-versus-a-copy\n",
      "  str_df.Drop.loc[j] = 'Yes'\n",
      "C:\\Users\\iny2819\\AppData\\Local\\Temp\\ipykernel_26268\\540123340.py:13: SettingWithCopyWarning: \n",
      "A value is trying to be set on a copy of a slice from a DataFrame\n",
      "\n",
      "See the caveats in the documentation: https://pandas.pydata.org/pandas-docs/stable/user_guide/indexing.html#returning-a-view-versus-a-copy\n",
      "  str_df.Drop.loc[j] = 'Yes'\n",
      "C:\\Users\\iny2819\\AppData\\Local\\Temp\\ipykernel_26268\\540123340.py:13: SettingWithCopyWarning: \n",
      "A value is trying to be set on a copy of a slice from a DataFrame\n",
      "\n",
      "See the caveats in the documentation: https://pandas.pydata.org/pandas-docs/stable/user_guide/indexing.html#returning-a-view-versus-a-copy\n",
      "  str_df.Drop.loc[j] = 'Yes'\n",
      "C:\\Users\\iny2819\\AppData\\Local\\Temp\\ipykernel_26268\\540123340.py:13: SettingWithCopyWarning: \n",
      "A value is trying to be set on a copy of a slice from a DataFrame\n",
      "\n",
      "See the caveats in the documentation: https://pandas.pydata.org/pandas-docs/stable/user_guide/indexing.html#returning-a-view-versus-a-copy\n",
      "  str_df.Drop.loc[j] = 'Yes'\n",
      "C:\\Users\\iny2819\\AppData\\Local\\Temp\\ipykernel_26268\\540123340.py:13: SettingWithCopyWarning: \n",
      "A value is trying to be set on a copy of a slice from a DataFrame\n",
      "\n",
      "See the caveats in the documentation: https://pandas.pydata.org/pandas-docs/stable/user_guide/indexing.html#returning-a-view-versus-a-copy\n",
      "  str_df.Drop.loc[j] = 'Yes'\n",
      "C:\\Users\\iny2819\\AppData\\Local\\Temp\\ipykernel_26268\\540123340.py:13: SettingWithCopyWarning: \n",
      "A value is trying to be set on a copy of a slice from a DataFrame\n",
      "\n",
      "See the caveats in the documentation: https://pandas.pydata.org/pandas-docs/stable/user_guide/indexing.html#returning-a-view-versus-a-copy\n",
      "  str_df.Drop.loc[j] = 'Yes'\n",
      "C:\\Users\\iny2819\\AppData\\Local\\Temp\\ipykernel_26268\\540123340.py:13: SettingWithCopyWarning: \n",
      "A value is trying to be set on a copy of a slice from a DataFrame\n",
      "\n",
      "See the caveats in the documentation: https://pandas.pydata.org/pandas-docs/stable/user_guide/indexing.html#returning-a-view-versus-a-copy\n",
      "  str_df.Drop.loc[j] = 'Yes'\n",
      "C:\\Users\\iny2819\\AppData\\Local\\Temp\\ipykernel_26268\\540123340.py:13: SettingWithCopyWarning: \n",
      "A value is trying to be set on a copy of a slice from a DataFrame\n",
      "\n",
      "See the caveats in the documentation: https://pandas.pydata.org/pandas-docs/stable/user_guide/indexing.html#returning-a-view-versus-a-copy\n",
      "  str_df.Drop.loc[j] = 'Yes'\n",
      "C:\\Users\\iny2819\\AppData\\Local\\Temp\\ipykernel_26268\\540123340.py:13: SettingWithCopyWarning: \n",
      "A value is trying to be set on a copy of a slice from a DataFrame\n",
      "\n",
      "See the caveats in the documentation: https://pandas.pydata.org/pandas-docs/stable/user_guide/indexing.html#returning-a-view-versus-a-copy\n",
      "  str_df.Drop.loc[j] = 'Yes'\n",
      "C:\\Users\\iny2819\\AppData\\Local\\Temp\\ipykernel_26268\\540123340.py:13: SettingWithCopyWarning: \n",
      "A value is trying to be set on a copy of a slice from a DataFrame\n",
      "\n",
      "See the caveats in the documentation: https://pandas.pydata.org/pandas-docs/stable/user_guide/indexing.html#returning-a-view-versus-a-copy\n",
      "  str_df.Drop.loc[j] = 'Yes'\n",
      "C:\\Users\\iny2819\\AppData\\Local\\Temp\\ipykernel_26268\\540123340.py:13: SettingWithCopyWarning: \n",
      "A value is trying to be set on a copy of a slice from a DataFrame\n",
      "\n",
      "See the caveats in the documentation: https://pandas.pydata.org/pandas-docs/stable/user_guide/indexing.html#returning-a-view-versus-a-copy\n",
      "  str_df.Drop.loc[j] = 'Yes'\n",
      "C:\\Users\\iny2819\\AppData\\Local\\Temp\\ipykernel_26268\\540123340.py:13: SettingWithCopyWarning: \n",
      "A value is trying to be set on a copy of a slice from a DataFrame\n",
      "\n",
      "See the caveats in the documentation: https://pandas.pydata.org/pandas-docs/stable/user_guide/indexing.html#returning-a-view-versus-a-copy\n",
      "  str_df.Drop.loc[j] = 'Yes'\n",
      "C:\\Users\\iny2819\\AppData\\Local\\Temp\\ipykernel_26268\\540123340.py:13: SettingWithCopyWarning: \n",
      "A value is trying to be set on a copy of a slice from a DataFrame\n",
      "\n",
      "See the caveats in the documentation: https://pandas.pydata.org/pandas-docs/stable/user_guide/indexing.html#returning-a-view-versus-a-copy\n",
      "  str_df.Drop.loc[j] = 'Yes'\n",
      "C:\\Users\\iny2819\\AppData\\Local\\Temp\\ipykernel_26268\\540123340.py:13: SettingWithCopyWarning: \n",
      "A value is trying to be set on a copy of a slice from a DataFrame\n",
      "\n",
      "See the caveats in the documentation: https://pandas.pydata.org/pandas-docs/stable/user_guide/indexing.html#returning-a-view-versus-a-copy\n",
      "  str_df.Drop.loc[j] = 'Yes'\n",
      "C:\\Users\\iny2819\\AppData\\Local\\Temp\\ipykernel_26268\\540123340.py:13: SettingWithCopyWarning: \n",
      "A value is trying to be set on a copy of a slice from a DataFrame\n",
      "\n",
      "See the caveats in the documentation: https://pandas.pydata.org/pandas-docs/stable/user_guide/indexing.html#returning-a-view-versus-a-copy\n",
      "  str_df.Drop.loc[j] = 'Yes'\n",
      "C:\\Users\\iny2819\\AppData\\Local\\Temp\\ipykernel_26268\\540123340.py:13: SettingWithCopyWarning: \n",
      "A value is trying to be set on a copy of a slice from a DataFrame\n",
      "\n",
      "See the caveats in the documentation: https://pandas.pydata.org/pandas-docs/stable/user_guide/indexing.html#returning-a-view-versus-a-copy\n",
      "  str_df.Drop.loc[j] = 'Yes'\n",
      "C:\\Users\\iny2819\\AppData\\Local\\Temp\\ipykernel_26268\\540123340.py:13: SettingWithCopyWarning: \n",
      "A value is trying to be set on a copy of a slice from a DataFrame\n",
      "\n",
      "See the caveats in the documentation: https://pandas.pydata.org/pandas-docs/stable/user_guide/indexing.html#returning-a-view-versus-a-copy\n",
      "  str_df.Drop.loc[j] = 'Yes'\n",
      "C:\\Users\\iny2819\\AppData\\Local\\Temp\\ipykernel_26268\\540123340.py:13: SettingWithCopyWarning: \n",
      "A value is trying to be set on a copy of a slice from a DataFrame\n",
      "\n",
      "See the caveats in the documentation: https://pandas.pydata.org/pandas-docs/stable/user_guide/indexing.html#returning-a-view-versus-a-copy\n",
      "  str_df.Drop.loc[j] = 'Yes'\n",
      "C:\\Users\\iny2819\\AppData\\Local\\Temp\\ipykernel_26268\\540123340.py:13: SettingWithCopyWarning: \n",
      "A value is trying to be set on a copy of a slice from a DataFrame\n",
      "\n",
      "See the caveats in the documentation: https://pandas.pydata.org/pandas-docs/stable/user_guide/indexing.html#returning-a-view-versus-a-copy\n",
      "  str_df.Drop.loc[j] = 'Yes'\n",
      "C:\\Users\\iny2819\\AppData\\Local\\Temp\\ipykernel_26268\\540123340.py:13: SettingWithCopyWarning: \n",
      "A value is trying to be set on a copy of a slice from a DataFrame\n",
      "\n",
      "See the caveats in the documentation: https://pandas.pydata.org/pandas-docs/stable/user_guide/indexing.html#returning-a-view-versus-a-copy\n",
      "  str_df.Drop.loc[j] = 'Yes'\n",
      "C:\\Users\\iny2819\\AppData\\Local\\Temp\\ipykernel_26268\\540123340.py:13: SettingWithCopyWarning: \n",
      "A value is trying to be set on a copy of a slice from a DataFrame\n",
      "\n",
      "See the caveats in the documentation: https://pandas.pydata.org/pandas-docs/stable/user_guide/indexing.html#returning-a-view-versus-a-copy\n",
      "  str_df.Drop.loc[j] = 'Yes'\n",
      "C:\\Users\\iny2819\\AppData\\Local\\Temp\\ipykernel_26268\\540123340.py:13: SettingWithCopyWarning: \n",
      "A value is trying to be set on a copy of a slice from a DataFrame\n",
      "\n",
      "See the caveats in the documentation: https://pandas.pydata.org/pandas-docs/stable/user_guide/indexing.html#returning-a-view-versus-a-copy\n",
      "  str_df.Drop.loc[j] = 'Yes'\n"
     ]
    },
    {
     "name": "stderr",
     "output_type": "stream",
     "text": [
      "C:\\Users\\iny2819\\AppData\\Local\\Temp\\ipykernel_26268\\540123340.py:13: SettingWithCopyWarning: \n",
      "A value is trying to be set on a copy of a slice from a DataFrame\n",
      "\n",
      "See the caveats in the documentation: https://pandas.pydata.org/pandas-docs/stable/user_guide/indexing.html#returning-a-view-versus-a-copy\n",
      "  str_df.Drop.loc[j] = 'Yes'\n",
      "C:\\Users\\iny2819\\AppData\\Local\\Temp\\ipykernel_26268\\540123340.py:13: SettingWithCopyWarning: \n",
      "A value is trying to be set on a copy of a slice from a DataFrame\n",
      "\n",
      "See the caveats in the documentation: https://pandas.pydata.org/pandas-docs/stable/user_guide/indexing.html#returning-a-view-versus-a-copy\n",
      "  str_df.Drop.loc[j] = 'Yes'\n"
     ]
    },
    {
     "name": "stdout",
     "output_type": "stream",
     "text": [
      "pr =   df_oth_resoc_oth_res head: \n",
      "           GTIN_NO        VND_ECOM_DSC Original_Flavor Detected_Flavor(s)  \\\n",
      "0  00000000022231   DELI GELATO SMALL           OTHER              OTHER   \n",
      "1  00000000022248  DELI GELATO MEDIUM           OTHER              OTHER   \n",
      "2  00000000022255   DELI GELATO LARGE           OTHER              OTHER   \n",
      "3  00000000022262    DELI GELATO PINT           OTHER              OTHER   \n",
      "4  00000000022279   DELI GELATO QUART           OTHER              OTHER   \n",
      "\n",
      "  New_Detected_Flavor(s)  cutooff  \n",
      "0                S'MORES       50  \n",
      "1               OAT MILK       50  \n",
      "2               LAVENDER       50  \n",
      "3   ECLAIR,PEANUT,SPRITE       50  \n",
      "4                 CARROT       50  \n",
      "value_count: \n",
      " BOSTON CREAM PIE,CREAM CHEESE,CREAM PUFF,IRISH CREAM,SOUR CREAM    292\n",
      "BOSTON CREAM PIE,CREAM CHEESE,IRISH CREAM                           68\n",
      "POP                                                                 44\n",
      "WAFFLE CONE                                                         42\n",
      "BOSTON CREAM PIE                                                    40\n",
      "                                                                  ... \n",
      "CHOCOLATE,RASPBERRY                                                  1\n",
      "SHORTBREAD,SOUR CREAM                                                1\n",
      "TURTLE                                                               1\n",
      "CARROT                                                               1\n",
      "CLUSTERS,LAVENDER,SUPERMAN                                           1\n",
      "Name: New_Detected_Flavor(s), Length: 204, dtype: int64\n"
     ]
    },
    {
     "name": "stderr",
     "output_type": "stream",
     "text": [
      "C:\\Users\\iny2819\\AppData\\Local\\Temp\\ipykernel_26268\\2370636311.py:15: SettingWithCopyWarning: \n",
      "A value is trying to be set on a copy of a slice from a DataFrame.\n",
      "Try using .loc[row_indexer,col_indexer] = value instead\n",
      "\n",
      "See the caveats in the documentation: https://pandas.pydata.org/pandas-docs/stable/user_guide/indexing.html#returning-a-view-versus-a-copy\n",
      "  df_oth_res1['cutooff'] = cutoff\n"
     ]
    }
   ],
   "source": [
    "df_oth_res1x, df_oth_res2x = proc_oth_res1(df_oth, scorer = fuzz.WRatio, cutoff=50)"
   ]
  },
  {
   "cell_type": "code",
   "execution_count": null,
   "id": "b95ecb60",
   "metadata": {},
   "outputs": [],
   "source": [
    "df_oth.shape"
   ]
  },
  {
   "cell_type": "code",
   "execution_count": 32,
   "id": "981b57e5",
   "metadata": {},
   "outputs": [
    {
     "name": "stdout",
     "output_type": "stream",
     "text": [
      "pr =   df_oth_resoc_oth_res head: \n",
      " Empty DataFrame\n",
      "Columns: [GTIN_NO, VND_ECOM_DSC, Original_Flavor, Detected_Flavor(s), New_Detected_Flavor(s), cutooff]\n",
      "Index: []\n",
      "value_count: \n",
      " Series([], Name: New_Detected_Flavor(s), dtype: int64)\n"
     ]
    }
   ],
   "source": [
    "df_oth_res2x = proc_oth_res2(df_res2x, scorer = fuzz.WRatio)"
   ]
  },
  {
   "cell_type": "code",
   "execution_count": 34,
   "id": "819157dd",
   "metadata": {},
   "outputs": [
    {
     "data": {
      "text/plain": [
       "(1749, 9)"
      ]
     },
     "execution_count": 34,
     "metadata": {},
     "output_type": "execute_result"
    }
   ],
   "source": [
    "flavor_match(item, flavor_list, cutoff = 98, scorer = fuzz.token_set_ratio)"
   ]
  },
  {
   "cell_type": "code",
   "execution_count": null,
   "id": "9cab629b",
   "metadata": {},
   "outputs": [],
   "source": []
  },
  {
   "cell_type": "code",
   "execution_count": 39,
   "id": "8240e8fc",
   "metadata": {},
   "outputs": [
    {
     "name": "stderr",
     "output_type": "stream",
     "text": [
      "C:\\Users\\iny2819\\AppData\\Local\\Temp\\ipykernel_26268\\540123340.py:13: SettingWithCopyWarning: \n",
      "A value is trying to be set on a copy of a slice from a DataFrame\n",
      "\n",
      "See the caveats in the documentation: https://pandas.pydata.org/pandas-docs/stable/user_guide/indexing.html#returning-a-view-versus-a-copy\n",
      "  str_df.Drop.loc[j] = 'Yes'\n",
      "C:\\Users\\iny2819\\AppData\\Local\\Temp\\ipykernel_26268\\540123340.py:13: SettingWithCopyWarning: \n",
      "A value is trying to be set on a copy of a slice from a DataFrame\n",
      "\n",
      "See the caveats in the documentation: https://pandas.pydata.org/pandas-docs/stable/user_guide/indexing.html#returning-a-view-versus-a-copy\n",
      "  str_df.Drop.loc[j] = 'Yes'\n"
     ]
    },
    {
     "name": "stdout",
     "output_type": "stream",
     "text": [
      "pr =   df_oth_resoc_oth_res head: \n",
      "             GTIN_NO                                       VND_ECOM_DSC  \\\n",
      "104  00009073102130                     Sharons Wildberry Sorbet 16 Oz   \n",
      "121  00011110084095  DELUXE CHURNED CELEBRATION FAMILY SIZE - KROGE...   \n",
      "124  00011110085283  DELUXE CHURNED CELEBRATION FAMILY SIZE NATURAL...   \n",
      "127  00011110096531                       Kroger® Jumbo Ice Cream Cups   \n",
      "136  00011110502438               Kroger Deluxe Bunch Crunch Ice Cream   \n",
      "\n",
      "    Original_Flavor Detected_Flavor(s) New_Detected_Flavor(s)  cutooff  \n",
      "104           OTHER              OTHER                  BERRY       98  \n",
      "121           OTHER              OTHER                   CAKE       98  \n",
      "124           OTHER              OTHER                   CAKE       98  \n",
      "127           OTHER              OTHER                   CAKE       98  \n",
      "136           OTHER              OTHER                   MILK       98  \n",
      "value_count: \n",
      " POP               22\n",
      "CHOCOLATE         10\n",
      "CAKE              10\n",
      "YOGURT            10\n",
      "FUDGE              8\n",
      "                  ..\n",
      "MARSHMALLOW        1\n",
      "PINEAPPLE          1\n",
      "DULCE DE LECHE     1\n",
      "HUCKLEBERRY        1\n",
      "HAZELNUT           1\n",
      "Name: New_Detected_Flavor(s), Length: 64, dtype: int64\n"
     ]
    },
    {
     "name": "stderr",
     "output_type": "stream",
     "text": [
      "C:\\Users\\iny2819\\AppData\\Local\\Temp\\ipykernel_26268\\2370636311.py:15: SettingWithCopyWarning: \n",
      "A value is trying to be set on a copy of a slice from a DataFrame.\n",
      "Try using .loc[row_indexer,col_indexer] = value instead\n",
      "\n",
      "See the caveats in the documentation: https://pandas.pydata.org/pandas-docs/stable/user_guide/indexing.html#returning-a-view-versus-a-copy\n",
      "  df_oth_res1['cutooff'] = cutoff\n"
     ]
    }
   ],
   "source": [
    "df_oth_res1x, df_oth_res2x = proc_oth_res1(df_oth, scorer = fuzz.token_set_ratio)"
   ]
  },
  {
   "cell_type": "code",
   "execution_count": 42,
   "id": "b6799555",
   "metadata": {},
   "outputs": [],
   "source": [
    "df_oth_res2.to_excel(path_atb_yue + 'oth_res2_Wratio.xlsx', index = False)"
   ]
  },
  {
   "cell_type": "code",
   "execution_count": 47,
   "id": "206e12d0",
   "metadata": {},
   "outputs": [
    {
     "name": "stdout",
     "output_type": "stream",
     "text": [
      "pr =   df_oth_resoc_oth_res head: \n",
      "             GTIN_NO                                       VND_ECOM_DSC  \\\n",
      "261  00016291441910  Morton & Bassett Aleppo Pepper  - Case of 3 - ...   \n",
      "735  00072736042111               Vita Dr Pepper Dessert Topping 14 Oz   \n",
      "981  00096619164981  Kirkland Signature Fine Ground Black Pepper, 1...   \n",
      "982  00096619164998  Kirkland Signature Coarse Ground Black Pepper,...   \n",
      "983  00096619332724  Kirkland Signature Black Pepper with Grinder, ...   \n",
      "\n",
      "    Original_Flavor Detected_Flavor(s) New_Detected_Flavor(s)  cutooff  \n",
      "261           OTHER              OTHER                 PEPPER       98  \n",
      "735           OTHER              OTHER                 PEPPER       98  \n",
      "981           OTHER              OTHER                 PEPPER       98  \n",
      "982           OTHER              OTHER                 PEPPER       98  \n",
      "983           OTHER              OTHER                 PEPPER       98  \n",
      "value_count: \n",
      " PEPPER    32\n",
      "Name: New_Detected_Flavor(s), dtype: int64\n"
     ]
    },
    {
     "name": "stderr",
     "output_type": "stream",
     "text": [
      "C:\\Users\\iny2819\\AppData\\Local\\Temp\\ipykernel_26268\\878198234.py:16: SettingWithCopyWarning: \n",
      "A value is trying to be set on a copy of a slice from a DataFrame.\n",
      "Try using .loc[row_indexer,col_indexer] = value instead\n",
      "\n",
      "See the caveats in the documentation: https://pandas.pydata.org/pandas-docs/stable/user_guide/indexing.html#returning-a-view-versus-a-copy\n",
      "  df_oth_res1['cutooff'] = cutoff\n"
     ]
    }
   ],
   "source": [
    "df_oth_res1se, df_oth_res2se1, df_oth_res = proc_oth_res1(df_oth, scorer =  fuzz.token_set_ratio) # use dsc as VND_ECOM_DSC"
   ]
  },
  {
   "cell_type": "code",
   "execution_count": 48,
   "id": "e1e72e3e",
   "metadata": {},
   "outputs": [
    {
     "name": "stdout",
     "output_type": "stream",
     "text": [
      "pr =   df_oth_resoc_oth_res head: \n",
      " Empty DataFrame\n",
      "Columns: [GTIN_NO, VND_ECOM_DSC, Original_Flavor, Detected_Flavor(s), New_Detected_Flavor(s), cutooff]\n",
      "Index: []\n",
      "value_count: \n",
      " Series([], Name: New_Detected_Flavor(s), dtype: int64)\n"
     ]
    }
   ],
   "source": [
    "df_oth_res1we, df_oth_res2we, df_oth_res = proc_oth_res1(df_oth, scorer = fuzz.WRatio)"
   ]
  },
  {
   "cell_type": "markdown",
   "id": "7cb4a695",
   "metadata": {},
   "source": [
    "## wip"
   ]
  },
  {
   "cell_type": "code",
   "execution_count": 60,
   "id": "601e5538",
   "metadata": {},
   "outputs": [
    {
     "data": {
      "text/html": [
       "<div>\n",
       "<style scoped>\n",
       "    .dataframe tbody tr th:only-of-type {\n",
       "        vertical-align: middle;\n",
       "    }\n",
       "\n",
       "    .dataframe tbody tr th {\n",
       "        vertical-align: top;\n",
       "    }\n",
       "\n",
       "    .dataframe thead th {\n",
       "        text-align: right;\n",
       "    }\n",
       "</style>\n",
       "<table border=\"1\" class=\"dataframe\">\n",
       "  <thead>\n",
       "    <tr style=\"text-align: right;\">\n",
       "      <th></th>\n",
       "      <th>GTIN_NO</th>\n",
       "      <th>VND_ECOM_DSC</th>\n",
       "      <th>Original_Flavor</th>\n",
       "      <th>Detected_Flavor(s)</th>\n",
       "    </tr>\n",
       "  </thead>\n",
       "  <tbody>\n",
       "    <tr>\n",
       "      <th>0</th>\n",
       "      <td>22231</td>\n",
       "      <td>DELI GELATO SMALL</td>\n",
       "      <td>OTHER</td>\n",
       "      <td>OTHER</td>\n",
       "    </tr>\n",
       "    <tr>\n",
       "      <th>1</th>\n",
       "      <td>22248</td>\n",
       "      <td>DELI GELATO MEDIUM</td>\n",
       "      <td>OTHER</td>\n",
       "      <td>OTHER</td>\n",
       "    </tr>\n",
       "    <tr>\n",
       "      <th>2</th>\n",
       "      <td>22255</td>\n",
       "      <td>DELI GELATO LARGE</td>\n",
       "      <td>OTHER</td>\n",
       "      <td>OTHER</td>\n",
       "    </tr>\n",
       "    <tr>\n",
       "      <th>3</th>\n",
       "      <td>22262</td>\n",
       "      <td>DELI GELATO PINT</td>\n",
       "      <td>OTHER</td>\n",
       "      <td>OTHER</td>\n",
       "    </tr>\n",
       "    <tr>\n",
       "      <th>4</th>\n",
       "      <td>22279</td>\n",
       "      <td>DELI GELATO QUART</td>\n",
       "      <td>OTHER</td>\n",
       "      <td>OTHER</td>\n",
       "    </tr>\n",
       "  </tbody>\n",
       "</table>\n",
       "</div>"
      ],
      "text/plain": [
       "   GTIN_NO        VND_ECOM_DSC Original_Flavor Detected_Flavor(s)\n",
       "0    22231   DELI GELATO SMALL           OTHER              OTHER\n",
       "1    22248  DELI GELATO MEDIUM           OTHER              OTHER\n",
       "2    22255   DELI GELATO LARGE           OTHER              OTHER\n",
       "3    22262    DELI GELATO PINT           OTHER              OTHER\n",
       "4    22279   DELI GELATO QUART           OTHER              OTHER"
      ]
     },
     "execution_count": 60,
     "metadata": {},
     "output_type": "execute_result"
    }
   ],
   "source": [
    "df_oth[\"GTIN_NO\"] =  df_oth[\"GTIN_NO\"].astype(np.int64)\n",
    "df_oth.head()"
   ]
  },
  {
   "cell_type": "code",
   "execution_count": 58,
   "id": "0491dd3a",
   "metadata": {},
   "outputs": [
    {
     "data": {
      "text/plain": [
       "159"
      ]
     },
     "execution_count": 58,
     "metadata": {},
     "output_type": "execute_result"
    }
   ],
   "source": [
    "\n",
    "len(df_oth_res1se) # 32\n",
    "len(df_oth_res1) # 159 with desc = the combination of  'VND_ECOM_DSC'] + ['RECEIPT_DESCRIPTION']  + ['TAG_DESCRIPTION']\n"
   ]
  },
  {
   "cell_type": "code",
   "execution_count": 61,
   "id": "3b5c0d86",
   "metadata": {},
   "outputs": [
    {
     "name": "stdout",
     "output_type": "stream",
     "text": [
      "file PIM_DATA_WITH_FLAVOR_ATTB_101123.xlsx shape (60302, 17) \n",
      " columns: Index(['ITM_ID', 'GTIN_NO', 'GTIN_NAM', 'PMY_DPT_CD', 'PMY_DPT_DSC',\n",
      "       'REC_DPT_CD', 'REC_DPT_DSC', 'DPT_CD', 'DPT_DSC', 'COM_CD', 'COM_DSC',\n",
      "       'SUBCOM_CD', 'SUBCOM_DSC', 'ITM_LVL_DSC', 'VND_ECOM_DSC', 'Flavor_Code',\n",
      "       'Flavor_Value'],\n",
      "      dtype='object')\n",
      "dtypes: \n",
      " ITM_ID            int64\n",
      "GTIN_NO         float64\n",
      "GTIN_NAM         object\n",
      "PMY_DPT_CD      float64\n",
      "PMY_DPT_DSC      object\n",
      "REC_DPT_CD      float64\n",
      "REC_DPT_DSC      object\n",
      "DPT_CD          float64\n",
      "DPT_DSC          object\n",
      "COM_CD          float64\n",
      "COM_DSC          object\n",
      "SUBCOM_CD       float64\n",
      "SUBCOM_DSC       object\n",
      "ITM_LVL_DSC      object\n",
      "VND_ECOM_DSC     object\n",
      "Flavor_Code      object\n",
      "Flavor_Value     object\n",
      "dtype: object\n",
      "head: \n",
      "       ITM_ID       GTIN_NO                             GTIN_NAM  PMY_DPT_CD  \\\n",
      "0  789667094  8.576680e+11             Healthy Gut Powder, Mint         3.0   \n",
      "1  789667097  8.108450e+11  PetAlive Analglandz, 2 Fl Oz Bottle         1.0   \n",
      "2  789667132  8.576680e+11            Greens Superfoods, Coffee         3.0   \n",
      "3  789667132  8.576680e+11            Greens Superfoods, Coffee         3.0   \n",
      "4  789667141  8.579440e+11                         Marshmallows         3.0   \n",
      "\n",
      "  PMY_DPT_DSC  REC_DPT_CD REC_DPT_DSC  DPT_CD DPT_DSC  COM_CD  \\\n",
      "0     DRUG/GM         3.0         HBC     3.0  HEALTH   678.0   \n",
      "1     GROCERY         1.0     GROCERY    52.0     PET   212.0   \n",
      "2     DRUG/GM         3.0         HBC     3.0  HEALTH   678.0   \n",
      "3     DRUG/GM         3.0         HBC     3.0  HEALTH   678.0   \n",
      "4     DRUG/GM         3.0         HBC     4.0   CANDY   634.0   \n",
      "\n",
      "                 COM_DSC  SUBCOM_CD                             SUBCOM_DSC  \\\n",
      "0  NF NUTRITION VITAMINS    98341.0            NUT SUPP-HERBAL SUPPLEMENTS   \n",
      "1      PET CARE SUPPLIES    18341.0  DOG AND CAT HEALTH CARE/VITAMINS/MEDI   \n",
      "2  NF NUTRITION VITAMINS    98348.0                    NUT SUPP-HOMEOPATHY   \n",
      "3  NF NUTRITION VITAMINS    98348.0                    NUT SUPP-HOMEOPATHY   \n",
      "4       NF NATURAL CANDY    63414.0                NATURAL SWEETS W/ FLOUR   \n",
      "\n",
      "       ITM_LVL_DSC                           VND_ECOM_DSC    Flavor_Code  \\\n",
      "0              NaN                Healthy Gut Mint Powder           MINT   \n",
      "1              NaN  AnalGlandz™ for Cleansing Anal Glands           NONE   \n",
      "2              NaN       Greens Superfoods Powder, Coffee  MISCELLANEOUS   \n",
      "3              NaN       Greens Superfoods Powder, Coffee         COFFEE   \n",
      "4  Cinnamon Churro      SmashMallow Cinnamon Churro Candy  MISCELLANEOUS   \n",
      "\n",
      "  Flavor_Value  \n",
      "0         MINT  \n",
      "1         NONE  \n",
      "2          NaN  \n",
      "3       COFFEE  \n",
      "4          NaN  \n"
     ]
    }
   ],
   "source": [
    "df_gtin_atb = f_read(path_atb, 'PIM_DATA_WITH_FLAVOR_ATTB_101123.xlsx')"
   ]
  },
  {
   "cell_type": "code",
   "execution_count": 64,
   "id": "9841bf26",
   "metadata": {},
   "outputs": [
    {
     "name": "stderr",
     "output_type": "stream",
     "text": [
      "C:\\Users\\iny2819\\AppData\\Local\\Temp\\ipykernel_26268\\696294021.py:3: SettingWithCopyWarning: \n",
      "A value is trying to be set on a copy of a slice from a DataFrame.\n",
      "Try using .loc[row_indexer,col_indexer] = value instead\n",
      "\n",
      "See the caveats in the documentation: https://pandas.pydata.org/pandas-docs/stable/user_guide/indexing.html#returning-a-view-versus-a-copy\n",
      "  df_gtin_atb_flavor[\"GTIN_NO\"]=df_gtin_atb_flavor[\"GTIN_NO\"].astype(np.int64)\n"
     ]
    },
    {
     "data": {
      "text/plain": [
       "ITM_ID            int64\n",
       "GTIN_NO           int64\n",
       "GTIN_NAM         object\n",
       "PMY_DPT_CD      float64\n",
       "PMY_DPT_DSC      object\n",
       "REC_DPT_CD      float64\n",
       "REC_DPT_DSC      object\n",
       "DPT_CD          float64\n",
       "DPT_DSC          object\n",
       "COM_CD          float64\n",
       "COM_DSC          object\n",
       "SUBCOM_CD       float64\n",
       "SUBCOM_DSC       object\n",
       "ITM_LVL_DSC      object\n",
       "VND_ECOM_DSC     object\n",
       "Flavor_Code      object\n",
       "Flavor_Value     object\n",
       "dtype: object"
      ]
     },
     "execution_count": 64,
     "metadata": {},
     "output_type": "execute_result"
    }
   ],
   "source": [
    "df_gtin_atb_flavor = df_gtin_atb\n",
    "df_gtin_atb_flavor = df_gtin_atb_flavor.dropna(subset=[\"GTIN_NO\"], how = 'all')\n",
    "df_gtin_atb_flavor[\"GTIN_NO\"]=df_gtin_atb_flavor[\"GTIN_NO\"].astype(np.int64)\n",
    "df_gtin_atb_flavor.dtypes\n"
   ]
  },
  {
   "cell_type": "code",
   "execution_count": 65,
   "id": "0d75dd38",
   "metadata": {},
   "outputs": [
    {
     "data": {
      "text/plain": [
       "(60099, 17)"
      ]
     },
     "execution_count": 65,
     "metadata": {},
     "output_type": "execute_result"
    }
   ],
   "source": [
    "df_gtin_atb_flavor.shape"
   ]
  },
  {
   "cell_type": "code",
   "execution_count": 67,
   "id": "0eb3231e",
   "metadata": {},
   "outputs": [
    {
     "data": {
      "text/plain": [
       "0"
      ]
     },
     "execution_count": 67,
     "metadata": {},
     "output_type": "execute_result"
    }
   ],
   "source": [
    "\n",
    "len(df_oth[df_oth.GTIN_NO.isin(df_gtin_atb_flavor)])"
   ]
  },
  {
   "cell_type": "code",
   "execution_count": 68,
   "id": "61720547",
   "metadata": {},
   "outputs": [
    {
     "ename": "AttributeError",
     "evalue": "'DataFrame' object has no attribute 'haed'",
     "output_type": "error",
     "traceback": [
      "\u001b[1;31m---------------------------------------------------------------------------\u001b[0m",
      "\u001b[1;31mAttributeError\u001b[0m                            Traceback (most recent call last)",
      "Cell \u001b[1;32mIn[68], line 2\u001b[0m\n\u001b[0;32m      1\u001b[0m df_pim \u001b[38;5;241m=\u001b[39m pd\u001b[38;5;241m.\u001b[39mread_csv(path \u001b[38;5;241m+\u001b[39m \u001b[38;5;124m\"\u001b[39m\u001b[38;5;124mPIM_Data_New_50_82Mn.csv\u001b[39m\u001b[38;5;124m\"\u001b[39m, usecols\u001b[38;5;241m=\u001b[39m[\u001b[38;5;124m'\u001b[39m\u001b[38;5;124mGTIN\u001b[39m\u001b[38;5;124m'\u001b[39m, \u001b[38;5;124m'\u001b[39m\u001b[38;5;124mCOM_DSC\u001b[39m\u001b[38;5;124m'\u001b[39m, \u001b[38;5;124m'\u001b[39m\u001b[38;5;124mSUBCOM_DSC\u001b[39m\u001b[38;5;124m'\u001b[39m])\n\u001b[1;32m----> 2\u001b[0m \u001b[43mdf_pim\u001b[49m\u001b[38;5;241;43m.\u001b[39;49m\u001b[43mhaed\u001b[49m()\n",
      "File \u001b[1;32m~\\AppData\\Local\\anaconda3\\lib\\site-packages\\pandas\\core\\generic.py:5902\u001b[0m, in \u001b[0;36mNDFrame.__getattr__\u001b[1;34m(self, name)\u001b[0m\n\u001b[0;32m   5895\u001b[0m \u001b[38;5;28;01mif\u001b[39;00m (\n\u001b[0;32m   5896\u001b[0m     name \u001b[38;5;129;01mnot\u001b[39;00m \u001b[38;5;129;01min\u001b[39;00m \u001b[38;5;28mself\u001b[39m\u001b[38;5;241m.\u001b[39m_internal_names_set\n\u001b[0;32m   5897\u001b[0m     \u001b[38;5;129;01mand\u001b[39;00m name \u001b[38;5;129;01mnot\u001b[39;00m \u001b[38;5;129;01min\u001b[39;00m \u001b[38;5;28mself\u001b[39m\u001b[38;5;241m.\u001b[39m_metadata\n\u001b[0;32m   5898\u001b[0m     \u001b[38;5;129;01mand\u001b[39;00m name \u001b[38;5;129;01mnot\u001b[39;00m \u001b[38;5;129;01min\u001b[39;00m \u001b[38;5;28mself\u001b[39m\u001b[38;5;241m.\u001b[39m_accessors\n\u001b[0;32m   5899\u001b[0m     \u001b[38;5;129;01mand\u001b[39;00m \u001b[38;5;28mself\u001b[39m\u001b[38;5;241m.\u001b[39m_info_axis\u001b[38;5;241m.\u001b[39m_can_hold_identifiers_and_holds_name(name)\n\u001b[0;32m   5900\u001b[0m ):\n\u001b[0;32m   5901\u001b[0m     \u001b[38;5;28;01mreturn\u001b[39;00m \u001b[38;5;28mself\u001b[39m[name]\n\u001b[1;32m-> 5902\u001b[0m \u001b[38;5;28;01mreturn\u001b[39;00m \u001b[38;5;28;43mobject\u001b[39;49m\u001b[38;5;241;43m.\u001b[39;49m\u001b[38;5;21;43m__getattribute__\u001b[39;49m\u001b[43m(\u001b[49m\u001b[38;5;28;43mself\u001b[39;49m\u001b[43m,\u001b[49m\u001b[43m \u001b[49m\u001b[43mname\u001b[49m\u001b[43m)\u001b[49m\n",
      "\u001b[1;31mAttributeError\u001b[0m: 'DataFrame' object has no attribute 'haed'"
     ]
    }
   ],
   "source": [
    "\n",
    "df_pim = pd.read_csv(path + \"PIM_Data_New_50_82Mn.csv\", usecols=['GTIN', 'COM_DSC', 'SUBCOM_DSC'])\n",
    "df_pim.haed()"
   ]
  },
  {
   "cell_type": "code",
   "execution_count": 69,
   "id": "2106b06d",
   "metadata": {},
   "outputs": [
    {
     "data": {
      "text/html": [
       "<div>\n",
       "<style scoped>\n",
       "    .dataframe tbody tr th:only-of-type {\n",
       "        vertical-align: middle;\n",
       "    }\n",
       "\n",
       "    .dataframe tbody tr th {\n",
       "        vertical-align: top;\n",
       "    }\n",
       "\n",
       "    .dataframe thead th {\n",
       "        text-align: right;\n",
       "    }\n",
       "</style>\n",
       "<table border=\"1\" class=\"dataframe\">\n",
       "  <thead>\n",
       "    <tr style=\"text-align: right;\">\n",
       "      <th></th>\n",
       "      <th>GTIN</th>\n",
       "      <th>COM_DSC</th>\n",
       "      <th>SUBCOM_DSC</th>\n",
       "    </tr>\n",
       "  </thead>\n",
       "  <tbody>\n",
       "    <tr>\n",
       "      <th>0</th>\n",
       "      <td>3.800014e+10</td>\n",
       "      <td>COLD CEREAL</td>\n",
       "      <td>ADULT CEREAL</td>\n",
       "    </tr>\n",
       "    <tr>\n",
       "      <th>1</th>\n",
       "      <td>3.800017e+10</td>\n",
       "      <td>COLD CEREAL</td>\n",
       "      <td>ADULT CEREAL</td>\n",
       "    </tr>\n",
       "    <tr>\n",
       "      <th>2</th>\n",
       "      <td>3.800017e+10</td>\n",
       "      <td>COLD CEREAL</td>\n",
       "      <td>ADULT CEREAL</td>\n",
       "    </tr>\n",
       "    <tr>\n",
       "      <th>3</th>\n",
       "      <td>3.800019e+10</td>\n",
       "      <td>COLD CEREAL</td>\n",
       "      <td>ADULT CEREAL</td>\n",
       "    </tr>\n",
       "    <tr>\n",
       "      <th>4</th>\n",
       "      <td>3.800018e+10</td>\n",
       "      <td>COLD CEREAL</td>\n",
       "      <td>ADULT CEREAL</td>\n",
       "    </tr>\n",
       "  </tbody>\n",
       "</table>\n",
       "</div>"
      ],
      "text/plain": [
       "           GTIN      COM_DSC    SUBCOM_DSC\n",
       "0  3.800014e+10  COLD CEREAL  ADULT CEREAL\n",
       "1  3.800017e+10  COLD CEREAL  ADULT CEREAL\n",
       "2  3.800017e+10  COLD CEREAL  ADULT CEREAL\n",
       "3  3.800019e+10  COLD CEREAL  ADULT CEREAL\n",
       "4  3.800018e+10  COLD CEREAL  ADULT CEREAL"
      ]
     },
     "execution_count": 69,
     "metadata": {},
     "output_type": "execute_result"
    }
   ],
   "source": [
    "df_pim.head()"
   ]
  },
  {
   "cell_type": "code",
   "execution_count": 2,
   "id": "40991f42",
   "metadata": {},
   "outputs": [
    {
     "ename": "NameError",
     "evalue": "name 'df_oth' is not defined",
     "output_type": "error",
     "traceback": [
      "\u001b[1;31m---------------------------------------------------------------------------\u001b[0m",
      "\u001b[1;31mNameError\u001b[0m                                 Traceback (most recent call last)",
      "Cell \u001b[1;32mIn[2], line 1\u001b[0m\n\u001b[1;32m----> 1\u001b[0m \u001b[43mdf_oth\u001b[49m\u001b[38;5;241m.\u001b[39mdtypes\n",
      "\u001b[1;31mNameError\u001b[0m: name 'df_oth' is not defined"
     ]
    }
   ],
   "source": [
    "df_oth.dtypes"
   ]
  },
  {
   "cell_type": "code",
   "execution_count": null,
   "id": "1d5e947b",
   "metadata": {},
   "outputs": [],
   "source": []
  }
 ],
 "metadata": {
  "kernelspec": {
   "display_name": "Python 3 (ipykernel)",
   "language": "python",
   "name": "python3"
  },
  "language_info": {
   "codemirror_mode": {
    "name": "ipython",
    "version": 3
   },
   "file_extension": ".py",
   "mimetype": "text/x-python",
   "name": "python",
   "nbconvert_exporter": "python",
   "pygments_lexer": "ipython3",
   "version": "3.10.9"
  }
 },
 "nbformat": 4,
 "nbformat_minor": 5
}
