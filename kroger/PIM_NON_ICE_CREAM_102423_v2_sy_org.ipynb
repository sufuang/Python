{
 "cells": [
  {
   "cell_type": "code",
   "execution_count": 1,
   "id": "89e31170",
   "metadata": {},
   "outputs": [],
   "source": [
    "import pandas as pd, numpy as np, re\n",
    "from rapidfuzz import process, fuzz,utils\n",
    "np.set_printoptions(threshold=np.inf)\n",
    "\n",
    "pd.options.display.float_format = '{:20,.2f}'.format \n",
    "pd.set_option(\"display.max_rows\", None)\n",
    "path = 'C:\\\\users\\\\iny2819\\\\Kroger\\\\Data\\\\' \n",
    "path_atb = path + 'ATB\\\\'\n",
    "path_atb_yue = path + 'ATB\\\\atb_yue\\\\'"
   ]
  },
  {
   "cell_type": "code",
   "execution_count": 2,
   "id": "ad03102c",
   "metadata": {},
   "outputs": [],
   "source": [
    "import warnings\n",
    "from pandas.errors import SettingWithCopyWarning\n",
    "warnings.simplefilter(action=\"ignore\", category=SettingWithCopyWarning)"
   ]
  },
  {
   "cell_type": "code",
   "execution_count": 3,
   "id": "48efdddd",
   "metadata": {},
   "outputs": [],
   "source": [
    "pim_flavors = pd.read_csv(path_atb + 'PIM_DATA_WITH_FLAVOR_ATTB_100323.csv')\n",
    "flavors_COM = pd.DataFrame(pim_flavors.groupby('COM_CD').apply(lambda x: '|'.join(x.Flavor_Code.unique())), columns= ['UNIQUE FLAVORS']).reset_index()"
   ]
  },
  {
   "cell_type": "code",
   "execution_count": 34,
   "id": "e318f5f1",
   "metadata": {},
   "outputs": [],
   "source": [
    "#pim_df = pd.read_csv(path + 'PIM_Data_New_50_82Mn.zip')\n",
    "pim_load = pd.read_csv(path_atb + 'PIM_DATA_WITH_FLAVOR_ATTB_100323.csv')\n",
    "pim_load = pim_load.merge(pim_df, how = 'right', on = list(pim_df.columns))\n",
    "#gtin_itm_id = pd.read_csv(path + 'ITM_NO_GTIN_100323.csv')\n",
    "#gtin_itm_id = pd.read_csv(path + 'ITM_ID_GTIN_Map_100323.csv')\n",
    "other_flavor = pd.read_csv(path_atb + 'OtherFlavors.csv')\n",
    "other_flavor['GTIN_NO'] = other_flavor.ITM_ID.map(dict(zip(gtin_itm_id.ITM_ID, gtin_itm_id.GTIN_NO)))\n",
    "pim_load = pim_load.merge(other_flavor, how = 'left', on = 'GTIN_NO')"
   ]
  },
  {
   "cell_type": "code",
   "execution_count": 35,
   "id": "fa387ca7",
   "metadata": {},
   "outputs": [
    {
     "data": {
      "text/plain": [
       "372"
      ]
     },
     "execution_count": 35,
     "metadata": {},
     "output_type": "execute_result"
    }
   ],
   "source": [
    "flavored_COM_CDs = flavors_COM[~flavors_COM['UNIQUE FLAVORS'].isin(['NONE','OTHER','MISCELLANEOUS'])].COM_CD.unique()\n",
    "len(flavored_COM_CDs)"
   ]
  },
  {
   "cell_type": "code",
   "execution_count": 36,
   "id": "5b5b291e",
   "metadata": {},
   "outputs": [
    {
     "data": {
      "text/plain": [
       "(1796229, 19)"
      ]
     },
     "execution_count": 36,
     "metadata": {},
     "output_type": "execute_result"
    }
   ],
   "source": [
    "pim_load[(pim_load.COM_CD.isin(flavors_COM.COM_CD.unique())) & (~pim_load.Flavor_Code.isin(['NONE']))].shape"
   ]
  },
  {
   "cell_type": "code",
   "execution_count": 37,
   "id": "4d53ba8e",
   "metadata": {},
   "outputs": [
    {
     "data": {
      "text/plain": [
       "20921"
      ]
     },
     "execution_count": 37,
     "metadata": {},
     "output_type": "execute_result"
    }
   ],
   "source": [
    "pim_load['Flavor_Code'].value_counts().sum()"
   ]
  },
  {
   "cell_type": "code",
   "execution_count": 38,
   "id": "0394bd6b",
   "metadata": {},
   "outputs": [
    {
     "data": {
      "text/plain": [
       "(14415, 19)"
      ]
     },
     "execution_count": 38,
     "metadata": {},
     "output_type": "execute_result"
    }
   ],
   "source": [
    "pim_load['Flavor_Code'] = pim_load.Flavor_Code.fillna('NONE')\n",
    "pim_load[~pim_load.Flavor_Code.isin(['NONE','OTHER','MISECLLANEOUS'])].shape"
   ]
  },
  {
   "cell_type": "code",
   "execution_count": 39,
   "id": "47dc34e0",
   "metadata": {},
   "outputs": [],
   "source": [
    "pim_load  = pim_load[pim_load.COM_CD.isin(flavored_COM_CDs)]\n",
    "ic_df = pd.read_csv(path_atb + 'ICECREAM_FLAVORS_101223_pipe_delim.csv', sep = '|')\n",
    "ice_cream_GTINs = ic_df.GTIN_NO.unique()\n",
    "pim_load = pim_load[~pim_load.GTIN_NO.isin(ice_cream_GTINs)]"
   ]
  },
  {
   "cell_type": "code",
   "execution_count": 40,
   "id": "96d9abf9",
   "metadata": {},
   "outputs": [
    {
     "data": {
      "text/plain": [
       "(1465017, 19)"
      ]
     },
     "execution_count": 40,
     "metadata": {},
     "output_type": "execute_result"
    }
   ],
   "source": [
    "pim_load.shape"
   ]
  },
  {
   "cell_type": "code",
   "execution_count": 41,
   "id": "3c026cd0",
   "metadata": {},
   "outputs": [
    {
     "data": {
      "text/plain": [
       "37"
      ]
     },
     "execution_count": 41,
     "metadata": {},
     "output_type": "execute_result"
    }
   ],
   "source": [
    "pim_flavors = pim_flavors[pim_flavors.GTIN_NO.isin(pim_load.GTIN_NO.unique())]\n",
    "flavors_DPT = pd.DataFrame(pim_flavors.groupby('DPT_CD').apply(lambda x: '|'.join(x.Flavor_Code.unique())), columns= ['UNIQUE FLAVORS']).reset_index()\n",
    "flavored_DPT_CDs = flavors_DPT[~flavors_DPT['UNIQUE FLAVORS'].isin(['NONE','OTHER','MISCELLANEOUS'])].DPT_CD.unique()\n",
    "len(flavored_DPT_CDs)"
   ]
  },
  {
   "cell_type": "code",
   "execution_count": 42,
   "id": "bdb48615",
   "metadata": {},
   "outputs": [],
   "source": [
    "replacements = {          \n",
    " ',': ' ',\n",
    " '/': ' ',\n",
    " '>':' ',\n",
    "'<': ' '}\n"
   ]
  },
  {
   "cell_type": "code",
   "execution_count": 43,
   "id": "1035d13d",
   "metadata": {},
   "outputs": [],
   "source": [
    "### Remove substrings like 'CHOCOLATE' if 'CHOCOLATE CHIP' is also present as a top result\n",
    "def remove_substrings(string_list):\n",
    "    str_df = pd.DataFrame(string_list, columns= ['Sentence'])\n",
    "    str_df['Word Length'] = str_df.Sentence.apply(lambda x: len(x.split(' ')))\n",
    "    str_df['Drop'] = ''\n",
    "    str_df.sort_values('Word Length', inplace= True)\n",
    "    str_df.reset_index(drop = True, inplace= True)\n",
    "    for j in range(len(str_df)):\n",
    "        str_1 = str_df.Sentence.loc[j]\n",
    "        for i in range(len(str_df)-(j +1)):\n",
    "            str_2 = str_df.Sentence.loc[i+j+1]\n",
    "            if str_1 in str_2: \n",
    "                str_df.Drop.loc[j] = 'Yes'\n",
    "                break\n",
    "        if len(str_df) <2: \n",
    "            break\n",
    "    return str_df[str_df.Drop != 'Yes'].Sentence.tolist()"
   ]
  },
  {
   "cell_type": "code",
   "execution_count": 44,
   "id": "4b4900d8",
   "metadata": {},
   "outputs": [],
   "source": [
    "#MAtch using 'token set ratio' with threshold\n",
    "def flavor_match(item, flavor_list_org, cutoff = 90):\n",
    "    #devowelized = [devowelize(i) for i in flavor_list_org]\n",
    "    #derepeated = [remove_adjacent_repititions(i) for i in flavor_list_org]\n",
    "    flavor_list = flavor_list_org #+ devowelized\n",
    "    #flavor_list += derepeated\n",
    "    #abbrev_maps = dict(zip(devowelized+ derepeated, flavor_list_org + flavor_list_org))\n",
    "    flavor_no_spaces = [ i for i in flavor_list_org if not '' in i]\n",
    "    flavor_with_spaces = [ i for i in flavor_list_org if i not in flavor_no_spaces]\n",
    "    abbrev_maps = {}\n",
    "    for i in flavor_no_spaces:\n",
    "        for j in flavor_with_spaces:\n",
    "            if j.replace(' ','') == i:\n",
    "                abbrev_maps[i] = j\n",
    "    matched = process.extract(item, flavor_list, score_cutoff= cutoff, scorer = fuzz.token_set_ratio, processor=utils.default_process, limit= 7)\n",
    "    flavor_shortlist = remove_substrings([i[0] for i in matched])\n",
    "    matched = [i for i in matched if i[0] in flavor_shortlist]\n",
    "    if len( flavor_shortlist) >0:\n",
    "        max_score = matched[0][1]\n",
    "        final_match = [ i for i in matched if i[1]== max_score]\n",
    "        match_list = [i[0] for i in final_match]\n",
    "        match_list = [abbrev_maps[i] if i in abbrev_maps.keys() else i for i in match_list]\n",
    "        rematched = process.extract(item, match_list,  scorer = fuzz.partial_ratio, processor=utils.default_process, limit = 3)\n",
    "        re_max_score = rematched[0][1]\n",
    "        final_rematch = [ i for i in rematched if i[1]== re_max_score]\n",
    "        match_list =  [i[0] for i in final_rematch]\n",
    "    \n",
    "        '''\n",
    "        match_list = [flavor_maps[i] if i in flavor_maps.keys() else i for i in match_list]\n",
    "        if set(match_list) == {'STRAWBERRY','FRUIT'}: \n",
    "            match_list = ['FRUIT']#Drop Strawberry if fruit is the only other flavor\n",
    "        if  set(match_list) != {'FRUIT'} : match_list = [ i for i in match_list if i != 'FRUIT']#Drop Fruit if it appears with something else\n",
    " \n",
    "        if matched in multiflavor_dict.keys(): #Mapping multi-flavors to intended labels\n",
    "            matched = multiflavor_dict[matched]\n",
    "        '''\n",
    "        matched = ','.join(sorted(list(set(pd.Series(match_list)))))   \n",
    "    else: matched = 'OTHER'\n",
    "    return matched"
   ]
  },
  {
   "cell_type": "markdown",
   "id": "1d6bb6b2",
   "metadata": {},
   "source": [
    "### Match within COM"
   ]
  },
  {
   "cell_type": "code",
   "execution_count": 45,
   "id": "6f3c9a95",
   "metadata": {},
   "outputs": [
    {
     "data": {
      "text/plain": [
       "'\\nflavors_df = pd.DataFrame()\\nfor com in flavored_COM_CDs[:5]:\\n    pim_com = pim_load[pim_load.COM_CD == com]\\n    flavor_list = [i.replace(\\'_\\',\\' \\') for i in pim_com[\\'Flavor_Code\\'].unique() if not i in  [\\'OTHER\\',\\'NONE\\',\\'MISCELLANEOUS\\']]\\n    pim_com[\\'Detected_Flavor(s)\\']  =                     pim_com.VND_ECOM_DSC.str.upper().replace(replacements, regex = True).apply(lambda x:flavor_match(x, flavor_list_org= flavor_list + [i.replace(\" \",\"\") for  i in  flavor_list] ))   \\n    flavors_df = flavors_df.append(pim_com)\\n'"
      ]
     },
     "execution_count": 45,
     "metadata": {},
     "output_type": "execute_result"
    }
   ],
   "source": [
    "###\n",
    "\"\"\"\n",
    "flavors_df = pd.DataFrame()\n",
    "for com in flavored_COM_CDs[:5]:\n",
    "    pim_com = pim_load[pim_load.COM_CD == com]\n",
    "    flavor_list = [i.replace('_',' ') for i in pim_com['Flavor_Code'].unique() if not i in  ['OTHER','NONE','MISCELLANEOUS']]\n",
    "    pim_com['Detected_Flavor(s)']  =  \\\n",
    "                   pim_com.VND_ECOM_DSC.str.upper().replace(replacements, regex = True).apply(lambda x:flavor_match(x, flavor_list_org= flavor_list + [i.replace(\" \",\"\") for  i in  flavor_list] ))   \n",
    "    flavors_df = flavors_df.append(pim_com)\n",
    "\"\"\"    "
   ]
  },
  {
   "cell_type": "code",
   "execution_count": 46,
   "id": "038add3f",
   "metadata": {},
   "outputs": [],
   "source": [
    "#flavors_df.Flavor_Code.unique()"
   ]
  },
  {
   "cell_type": "code",
   "execution_count": 47,
   "id": "105117ab",
   "metadata": {},
   "outputs": [],
   "source": [
    "#flavors_df['Detected_Flavor(s)'].value_counts()"
   ]
  },
  {
   "cell_type": "code",
   "execution_count": 48,
   "id": "b1d124ee",
   "metadata": {},
   "outputs": [],
   "source": [
    "#flavors_df.shape"
   ]
  },
  {
   "cell_type": "code",
   "execution_count": 49,
   "id": "0b75696f",
   "metadata": {},
   "outputs": [
    {
     "data": {
      "text/plain": [
       "\" flavors_df[['GTIN_NO','COM_DSC','COM_CD','SUBCOM_DSC','SUBCOM_CD','VND_ECOM_DSC','Flavor_Code','Detected_Flavor(s)']].to_csv('FLAVORS_NON_ICE_CREAM_102123_sample.csv', index = None)\\n\""
      ]
     },
     "execution_count": 49,
     "metadata": {},
     "output_type": "execute_result"
    }
   ],
   "source": [
    "\"\"\" flavors_df[['GTIN_NO','COM_DSC','COM_CD','SUBCOM_DSC','SUBCOM_CD','VND_ECOM_DSC','Flavor_Code','Detected_Flavor(s)']]\\\n",
    ".to_csv('FLAVORS_NON_ICE_CREAM_102123_sample.csv', index = None)\n",
    "\"\"\""
   ]
  },
  {
   "cell_type": "markdown",
   "id": "a404cce7",
   "metadata": {},
   "source": [
    "### Match within DPT"
   ]
  },
  {
   "cell_type": "code",
   "execution_count": 50,
   "id": "e83c487e",
   "metadata": {},
   "outputs": [],
   "source": [
    "#flavors_DPT_df['Detected_Flavor(s)'].value_counts()"
   ]
  },
  {
   "cell_type": "code",
   "execution_count": 51,
   "id": "993948db",
   "metadata": {},
   "outputs": [],
   "source": [
    "#100*flavors_DPT_df['Detected_Flavor(s)'].value_counts()/len(flavors_DPT_df)"
   ]
  },
  {
   "cell_type": "code",
   "execution_count": 52,
   "id": "63b22f6f",
   "metadata": {},
   "outputs": [],
   "source": [
    "#100*flavors_DPT_df['Flavor_Code'].value_counts()/len(flavors_DPT_df)"
   ]
  },
  {
   "cell_type": "code",
   "execution_count": 53,
   "id": "11e30d36",
   "metadata": {},
   "outputs": [
    {
     "data": {
      "text/plain": [
       "37"
      ]
     },
     "execution_count": 53,
     "metadata": {},
     "output_type": "execute_result"
    }
   ],
   "source": [
    "flavors_DPT = pd.DataFrame(pim_flavors.groupby('DPT_DSC').apply(lambda x: ','.join(x.Flavor_Code.unique())), columns= ['UNIQUE FLAVORS']).reset_index()\n",
    "flavored_DPT_DSCs = flavors_DPT[~flavors_DPT['UNIQUE FLAVORS'].isin(['NONE','OTHER','MISCELLANEOUS'])].DPT_DSC.unique()\n",
    "len(flavored_DPT_DSCs)"
   ]
  },
  {
   "cell_type": "code",
   "execution_count": 54,
   "id": "38bffe62",
   "metadata": {},
   "outputs": [],
   "source": [
    "flavors_DPT = flavors_DPT[flavors_DPT.DPT_DSC.isin(flavored_DPT_DSCs)].reset_index(drop = True)\n",
    "flavors_DPT['UNIQUE FLAVOR COUNT'] = flavors_DPT['UNIQUE FLAVORS'].\\\n",
    "apply(lambda x: len(','.join([i for i in x.split(',') if not i in ['NONE','OTHER','MISCELLANEOUS']]).split(',')))"
   ]
  },
  {
   "cell_type": "code",
   "execution_count": 55,
   "id": "5667acd5",
   "metadata": {},
   "outputs": [],
   "source": [
    "flavors_DPT['ITEM_WITH_FLAVOR_COUNT'] = flavors_DPT.DPT_DSC.map(dict(pim_flavors.groupby('DPT_DSC').size()))"
   ]
  },
  {
   "cell_type": "code",
   "execution_count": 56,
   "id": "067e0981",
   "metadata": {},
   "outputs": [],
   "source": [
    "flavors_DPT['TOTAL_ITEM_COUNT'] = flavors_DPT.DPT_DSC.map(dict(pim_load.drop_duplicates('GTIN_NO').groupby('DPT_DSC').size()))"
   ]
  },
  {
   "cell_type": "code",
   "execution_count": 57,
   "id": "8d3fb204",
   "metadata": {},
   "outputs": [],
   "source": [
    "flavors_DPT.to_excel('Flavors_DEPT_102523.xlsx')"
   ]
  },
  {
   "cell_type": "code",
   "execution_count": 58,
   "id": "5cf91e70",
   "metadata": {},
   "outputs": [],
   "source": [
    "DPT_remove = ['CARDS','GM-MISC','HOUSEWARES','MEAT/SEAF WRAP','NF NON-EDIBLE']\n",
    "DPT_review = ['RX-OTC','SPECIALTY MEAT','WINE']#Isolate lower levels for flavor relevant items"
   ]
  },
  {
   "cell_type": "code",
   "execution_count": 59,
   "id": "7f86ad6b",
   "metadata": {},
   "outputs": [],
   "source": [
    "flavors_DPT = flavors_DPT[~flavors_DPT.DPT_DSC.isin(DPT_remove + DPT_review)]"
   ]
  },
  {
   "cell_type": "code",
   "execution_count": 60,
   "id": "63983a6c",
   "metadata": {},
   "outputs": [
    {
     "data": {
      "text/plain": [
       "1067312"
      ]
     },
     "execution_count": 60,
     "metadata": {},
     "output_type": "execute_result"
    }
   ],
   "source": [
    "flavors_DPT.TOTAL_ITEM_COUNT.sum()"
   ]
  },
  {
   "cell_type": "code",
   "execution_count": 61,
   "id": "b2d3e5e2",
   "metadata": {},
   "outputs": [
    {
     "data": {
      "text/plain": [
       "20473"
      ]
     },
     "execution_count": 61,
     "metadata": {},
     "output_type": "execute_result"
    }
   ],
   "source": [
    "flavors_DPT.ITEM_WITH_FLAVOR_COUNT.sum()"
   ]
  },
  {
   "cell_type": "code",
   "execution_count": 63,
   "id": "bc18138d",
   "metadata": {
    "scrolled": true
   },
   "outputs": [
    {
     "name": "stdout",
     "output_type": "stream",
     "text": [
      "BAKERY\n"
     ]
    }
   ],
   "source": [
    "#Match within DPT\n",
    "#flavors_DPT_df = pd.DataFrame()\n",
    "#for dpt in ['COFFEE SHOP']:#flavors_DPT.DPT_DSC.unique():\n",
    "for dpt in ['BAKERY']:#flavors_DPT.DPT_DSC.unique():    \n",
    "    print(dpt)\n",
    "    pim_dpt = pim_load[pim_load.DPT_DSC == dpt]\n",
    "    flavor_list = [i.replace('_',' ') for i in pim_load['Flavor_Code'].unique() if not i in  ['OTHER','NONE','MISCELLANEOUS']]\n",
    "    pim_dpt['Detected_Flavor(s)']  =  \\\n",
    "                   pim_dpt.VND_ECOM_DSC.str.upper().replace(replacements, regex = True).apply(lambda x:flavor_match(x, flavor_list_org= flavor_list + [i.replace(\" \",\"\") for  i in  flavor_list]))   \n",
    "    pim_dpt.to_excel(path_atb + 'FLAVOR_MAPPING_'+dpt+'_DEPARTMENT_syorg.xlsx', sheet_name= dpt)"
   ]
  },
  {
   "cell_type": "code",
   "execution_count": null,
   "id": "0f75767b",
   "metadata": {},
   "outputs": [],
   "source": [
    "flavors_DPT.DPT_DSC.unique()"
   ]
  }
 ],
 "metadata": {
  "kernelspec": {
   "display_name": "Python 3 (ipykernel)",
   "language": "python",
   "name": "python3"
  },
  "language_info": {
   "codemirror_mode": {
    "name": "ipython",
    "version": 3
   },
   "file_extension": ".py",
   "mimetype": "text/x-python",
   "name": "python",
   "nbconvert_exporter": "python",
   "pygments_lexer": "ipython3",
   "version": "3.10.9"
  }
 },
 "nbformat": 4,
 "nbformat_minor": 5
}
