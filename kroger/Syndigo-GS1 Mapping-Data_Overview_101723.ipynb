{
 "cells": [
  {
   "cell_type": "code",
   "execution_count": 1,
   "id": "d0bea0a9",
   "metadata": {},
   "outputs": [],
   "source": [
    "import pandas as pd, numpy as np"
   ]
  },
  {
   "cell_type": "code",
   "execution_count": 2,
   "id": "abce4b56",
   "metadata": {},
   "outputs": [],
   "source": [
    "syn_gs1_maps = pd.read_excel('Syndigo Taxo to GS1 Taxo.xlsx')"
   ]
  },
  {
   "cell_type": "code",
   "execution_count": 4,
   "id": "13919563",
   "metadata": {},
   "outputs": [
    {
     "data": {
      "text/plain": [
       "3222"
      ]
     },
     "execution_count": 4,
     "metadata": {},
     "output_type": "execute_result"
    }
   ],
   "source": [
    "syn_gs1_maps['GS1 Taxonomy'].nunique()"
   ]
  },
  {
   "cell_type": "code",
   "execution_count": 5,
   "id": "953db0f7",
   "metadata": {},
   "outputs": [
    {
     "data": {
      "text/plain": [
       "25286"
      ]
     },
     "execution_count": 5,
     "metadata": {},
     "output_type": "execute_result"
    }
   ],
   "source": [
    "syn_gs1_maps['Syndigo Taxonomy'].nunique()"
   ]
  },
  {
   "cell_type": "code",
   "execution_count": 6,
   "id": "1faebc7d",
   "metadata": {},
   "outputs": [
    {
     "data": {
      "text/plain": [
       "26761"
      ]
     },
     "execution_count": 6,
     "metadata": {},
     "output_type": "execute_result"
    }
   ],
   "source": [
    "len(syn_gs1_maps)"
   ]
  },
  {
   "cell_type": "code",
   "execution_count": 7,
   "id": "6b62203f",
   "metadata": {},
   "outputs": [
    {
     "data": {
      "text/plain": [
       "(25826, 2)"
      ]
     },
     "execution_count": 7,
     "metadata": {},
     "output_type": "execute_result"
    }
   ],
   "source": [
    "syn_gs1_maps.drop_duplicates().shape"
   ]
  },
  {
   "cell_type": "code",
   "execution_count": 31,
   "id": "706f7702",
   "metadata": {},
   "outputs": [],
   "source": [
    "for i in range(8):\n",
    "    syn_gs1_maps['Syndigo_Level_'+str(i+1)] = syn_gs1_maps['Syndigo Taxonomy'].fillna('Unclassified').apply(lambda x: x.split('|')[i+1] if (len(x.split('|')) >i+1) else None)"
   ]
  },
  {
   "cell_type": "code",
   "execution_count": 32,
   "id": "dc083e03",
   "metadata": {},
   "outputs": [],
   "source": [
    "for i ,j in enumerate(['Segment','Family','Class','Brick']):\n",
    "    syn_gs1_maps['GS1_'+j] = syn_gs1_maps['GS1 Taxonomy'].fillna('Unclassified').apply(lambda x: x.split('|')[i+1] if (len(x.split('|')) >i+1) else None)"
   ]
  },
  {
   "cell_type": "code",
   "execution_count": 33,
   "id": "79bf5c25",
   "metadata": {},
   "outputs": [
    {
     "data": {
      "text/html": [
       "<div>\n",
       "<style scoped>\n",
       "    .dataframe tbody tr th:only-of-type {\n",
       "        vertical-align: middle;\n",
       "    }\n",
       "\n",
       "    .dataframe tbody tr th {\n",
       "        vertical-align: top;\n",
       "    }\n",
       "\n",
       "    .dataframe thead th {\n",
       "        text-align: right;\n",
       "    }\n",
       "</style>\n",
       "<table border=\"1\" class=\"dataframe\">\n",
       "  <thead>\n",
       "    <tr style=\"text-align: right;\">\n",
       "      <th></th>\n",
       "      <th>GS1 Taxonomy</th>\n",
       "      <th>Syndigo Taxonomy</th>\n",
       "      <th>Syndigo_Level_1</th>\n",
       "      <th>Syndigo_Level_2</th>\n",
       "      <th>Syndigo_Level_3</th>\n",
       "      <th>Syndigo_Level_4</th>\n",
       "      <th>Syndigo_Level_5</th>\n",
       "      <th>Syndigo_Level_6</th>\n",
       "      <th>Syndigo_Level_7</th>\n",
       "      <th>Syndigo_Level_8</th>\n",
       "      <th>GS1_Segment</th>\n",
       "      <th>GS1_Family</th>\n",
       "      <th>GS1_Class</th>\n",
       "      <th>GS1_Brick</th>\n",
       "    </tr>\n",
       "  </thead>\n",
       "  <tbody>\n",
       "    <tr>\n",
       "      <th>0</th>\n",
       "      <td>Root|Arts/Crafts/Needlework|Arts/Crafts/Needle...</td>\n",
       "      <td>Root|Arts &amp; Crafts|Airbrushing|Accessories|Air...</td>\n",
       "      <td>Arts &amp; Crafts</td>\n",
       "      <td>Airbrushing</td>\n",
       "      <td>Accessories</td>\n",
       "      <td>Air Hoses</td>\n",
       "      <td>None</td>\n",
       "      <td>None</td>\n",
       "      <td>None</td>\n",
       "      <td>None</td>\n",
       "      <td>Arts/Crafts/Needlework</td>\n",
       "      <td>Arts/Crafts/Needlework Supplies</td>\n",
       "      <td>Airbrushing Supplies</td>\n",
       "      <td>Airbrushing Equipment - Replacement Parts/Acce...</td>\n",
       "    </tr>\n",
       "    <tr>\n",
       "      <th>1</th>\n",
       "      <td>Root|Arts/Crafts/Needlework|Arts/Crafts/Needle...</td>\n",
       "      <td>Root|Arts &amp; Crafts|Airbrushing|Accessories|Air...</td>\n",
       "      <td>Arts &amp; Crafts</td>\n",
       "      <td>Airbrushing</td>\n",
       "      <td>Accessories</td>\n",
       "      <td>Air Regulators</td>\n",
       "      <td>None</td>\n",
       "      <td>None</td>\n",
       "      <td>None</td>\n",
       "      <td>None</td>\n",
       "      <td>Arts/Crafts/Needlework</td>\n",
       "      <td>Arts/Crafts/Needlework Supplies</td>\n",
       "      <td>Airbrushing Supplies</td>\n",
       "      <td>Airbrushing Equipment - Replacement Parts/Acce...</td>\n",
       "    </tr>\n",
       "    <tr>\n",
       "      <th>2</th>\n",
       "      <td>Root|Arts/Crafts/Needlework|Arts/Crafts/Needle...</td>\n",
       "      <td>Root|Arts &amp; Crafts|Airbrushing|Accessories|Air...</td>\n",
       "      <td>Arts &amp; Crafts</td>\n",
       "      <td>Airbrushing</td>\n",
       "      <td>Accessories</td>\n",
       "      <td>Airbrush Lubricants</td>\n",
       "      <td>None</td>\n",
       "      <td>None</td>\n",
       "      <td>None</td>\n",
       "      <td>None</td>\n",
       "      <td>Arts/Crafts/Needlework</td>\n",
       "      <td>Arts/Crafts/Needlework Supplies</td>\n",
       "      <td>Airbrushing Supplies</td>\n",
       "      <td>Airbrushing Equipment - Replacement Parts/Acce...</td>\n",
       "    </tr>\n",
       "    <tr>\n",
       "      <th>3</th>\n",
       "      <td>Root|Arts/Crafts/Needlework|Arts/Crafts/Needle...</td>\n",
       "      <td>Root|Arts &amp; Crafts|Airbrushing|Accessories|Air...</td>\n",
       "      <td>Arts &amp; Crafts</td>\n",
       "      <td>Airbrushing</td>\n",
       "      <td>Accessories</td>\n",
       "      <td>Airbrush Stands</td>\n",
       "      <td>None</td>\n",
       "      <td>None</td>\n",
       "      <td>None</td>\n",
       "      <td>None</td>\n",
       "      <td>Arts/Crafts/Needlework</td>\n",
       "      <td>Arts/Crafts/Needlework Supplies</td>\n",
       "      <td>Airbrushing Supplies</td>\n",
       "      <td>Airbrushing Equipment - Replacement Parts/Acce...</td>\n",
       "    </tr>\n",
       "    <tr>\n",
       "      <th>4</th>\n",
       "      <td>Root|Arts/Crafts/Needlework|Arts/Crafts/Needle...</td>\n",
       "      <td>Root|Arts &amp; Crafts|Airbrushing|Accessories|Air...</td>\n",
       "      <td>Arts &amp; Crafts</td>\n",
       "      <td>Airbrushing</td>\n",
       "      <td>Accessories</td>\n",
       "      <td>Airbrush Wrenches</td>\n",
       "      <td>None</td>\n",
       "      <td>None</td>\n",
       "      <td>None</td>\n",
       "      <td>None</td>\n",
       "      <td>Arts/Crafts/Needlework</td>\n",
       "      <td>Arts/Crafts/Needlework Supplies</td>\n",
       "      <td>Airbrushing Supplies</td>\n",
       "      <td>Airbrushing Equipment - Replacement Parts/Acce...</td>\n",
       "    </tr>\n",
       "    <tr>\n",
       "      <th>...</th>\n",
       "      <td>...</td>\n",
       "      <td>...</td>\n",
       "      <td>...</td>\n",
       "      <td>...</td>\n",
       "      <td>...</td>\n",
       "      <td>...</td>\n",
       "      <td>...</td>\n",
       "      <td>...</td>\n",
       "      <td>...</td>\n",
       "      <td>...</td>\n",
       "      <td>...</td>\n",
       "      <td>...</td>\n",
       "      <td>...</td>\n",
       "      <td>...</td>\n",
       "    </tr>\n",
       "    <tr>\n",
       "      <th>25821</th>\n",
       "      <td>Root|Vehicle|Automotive Accessories and Mainte...</td>\n",
       "      <td>Root|Automotive|Electrical &amp; Electronics|Motor...</td>\n",
       "      <td>Automotive</td>\n",
       "      <td>Electrical &amp; Electronics</td>\n",
       "      <td>Motors</td>\n",
       "      <td>Windshield Wiper</td>\n",
       "      <td>None</td>\n",
       "      <td>None</td>\n",
       "      <td>None</td>\n",
       "      <td>None</td>\n",
       "      <td>Vehicle</td>\n",
       "      <td>Automotive Accessories and Maintenance</td>\n",
       "      <td>Automotive Wipers/Wiper Parts</td>\n",
       "      <td>Wiper Motors</td>\n",
       "    </tr>\n",
       "    <tr>\n",
       "      <th>25822</th>\n",
       "      <td>Root|Vehicle|Automotive Accessories and Mainte...</td>\n",
       "      <td>Root|Automotive|Chassis Interior &amp; Exterior|Gl...</td>\n",
       "      <td>Automotive</td>\n",
       "      <td>Chassis Interior &amp; Exterior</td>\n",
       "      <td>Glass / Window</td>\n",
       "      <td>Washer</td>\n",
       "      <td>Washer Nozzles</td>\n",
       "      <td>None</td>\n",
       "      <td>None</td>\n",
       "      <td>None</td>\n",
       "      <td>Vehicle</td>\n",
       "      <td>Automotive Accessories and Maintenance</td>\n",
       "      <td>Automotive Wipers/Wiper Parts</td>\n",
       "      <td>Wiper Nozzles</td>\n",
       "    </tr>\n",
       "    <tr>\n",
       "      <th>25823</th>\n",
       "      <td>Root|Vehicle|Automotive Accessories and Mainte...</td>\n",
       "      <td>Root|Automotive|Chassis Interior &amp; Exterior|Gl...</td>\n",
       "      <td>Automotive</td>\n",
       "      <td>Chassis Interior &amp; Exterior</td>\n",
       "      <td>Glass / Window</td>\n",
       "      <td>Washer</td>\n",
       "      <td>Washer Pumps</td>\n",
       "      <td>None</td>\n",
       "      <td>None</td>\n",
       "      <td>None</td>\n",
       "      <td>Vehicle</td>\n",
       "      <td>Automotive Accessories and Maintenance</td>\n",
       "      <td>Automotive Wipers/Wiper Parts</td>\n",
       "      <td>Wiper Pumps</td>\n",
       "    </tr>\n",
       "    <tr>\n",
       "      <th>25824</th>\n",
       "      <td>NaN</td>\n",
       "      <td>NaN</td>\n",
       "      <td>None</td>\n",
       "      <td>None</td>\n",
       "      <td>None</td>\n",
       "      <td>None</td>\n",
       "      <td>None</td>\n",
       "      <td>None</td>\n",
       "      <td>None</td>\n",
       "      <td>None</td>\n",
       "      <td>None</td>\n",
       "      <td>None</td>\n",
       "      <td>None</td>\n",
       "      <td>None</td>\n",
       "    </tr>\n",
       "    <tr>\n",
       "      <th>26468</th>\n",
       "      <td>Root|Crops|Crops for Food Production|Crops for...</td>\n",
       "      <td>Root|Food / Beverages|Produce|Berries|Hackberr...</td>\n",
       "      <td>Food / Beverages</td>\n",
       "      <td>Produce</td>\n",
       "      <td>Berries</td>\n",
       "      <td>Hackberries (Fresh)</td>\n",
       "      <td>None</td>\n",
       "      <td>None</td>\n",
       "      <td>None</td>\n",
       "      <td>None</td>\n",
       "      <td>Crops</td>\n",
       "      <td>Crops for Food Production</td>\n",
       "      <td>Crops for Production of Edible Fruit from Othe...</td>\n",
       "      <td>None</td>\n",
       "    </tr>\n",
       "  </tbody>\n",
       "</table>\n",
       "<p>25826 rows × 14 columns</p>\n",
       "</div>"
      ],
      "text/plain": [
       "                                            GS1 Taxonomy  \\\n",
       "0      Root|Arts/Crafts/Needlework|Arts/Crafts/Needle...   \n",
       "1      Root|Arts/Crafts/Needlework|Arts/Crafts/Needle...   \n",
       "2      Root|Arts/Crafts/Needlework|Arts/Crafts/Needle...   \n",
       "3      Root|Arts/Crafts/Needlework|Arts/Crafts/Needle...   \n",
       "4      Root|Arts/Crafts/Needlework|Arts/Crafts/Needle...   \n",
       "...                                                  ...   \n",
       "25821  Root|Vehicle|Automotive Accessories and Mainte...   \n",
       "25822  Root|Vehicle|Automotive Accessories and Mainte...   \n",
       "25823  Root|Vehicle|Automotive Accessories and Mainte...   \n",
       "25824                                                NaN   \n",
       "26468  Root|Crops|Crops for Food Production|Crops for...   \n",
       "\n",
       "                                        Syndigo Taxonomy   Syndigo_Level_1  \\\n",
       "0      Root|Arts & Crafts|Airbrushing|Accessories|Air...     Arts & Crafts   \n",
       "1      Root|Arts & Crafts|Airbrushing|Accessories|Air...     Arts & Crafts   \n",
       "2      Root|Arts & Crafts|Airbrushing|Accessories|Air...     Arts & Crafts   \n",
       "3      Root|Arts & Crafts|Airbrushing|Accessories|Air...     Arts & Crafts   \n",
       "4      Root|Arts & Crafts|Airbrushing|Accessories|Air...     Arts & Crafts   \n",
       "...                                                  ...               ...   \n",
       "25821  Root|Automotive|Electrical & Electronics|Motor...        Automotive   \n",
       "25822  Root|Automotive|Chassis Interior & Exterior|Gl...        Automotive   \n",
       "25823  Root|Automotive|Chassis Interior & Exterior|Gl...        Automotive   \n",
       "25824                                                NaN              None   \n",
       "26468  Root|Food / Beverages|Produce|Berries|Hackberr...  Food / Beverages   \n",
       "\n",
       "                   Syndigo_Level_2 Syndigo_Level_3      Syndigo_Level_4  \\\n",
       "0                      Airbrushing     Accessories            Air Hoses   \n",
       "1                      Airbrushing     Accessories       Air Regulators   \n",
       "2                      Airbrushing     Accessories  Airbrush Lubricants   \n",
       "3                      Airbrushing     Accessories      Airbrush Stands   \n",
       "4                      Airbrushing     Accessories    Airbrush Wrenches   \n",
       "...                            ...             ...                  ...   \n",
       "25821     Electrical & Electronics          Motors     Windshield Wiper   \n",
       "25822  Chassis Interior & Exterior  Glass / Window               Washer   \n",
       "25823  Chassis Interior & Exterior  Glass / Window               Washer   \n",
       "25824                         None            None                 None   \n",
       "26468                      Produce         Berries  Hackberries (Fresh)   \n",
       "\n",
       "      Syndigo_Level_5 Syndigo_Level_6 Syndigo_Level_7 Syndigo_Level_8  \\\n",
       "0                None            None            None            None   \n",
       "1                None            None            None            None   \n",
       "2                None            None            None            None   \n",
       "3                None            None            None            None   \n",
       "4                None            None            None            None   \n",
       "...               ...             ...             ...             ...   \n",
       "25821            None            None            None            None   \n",
       "25822  Washer Nozzles            None            None            None   \n",
       "25823    Washer Pumps            None            None            None   \n",
       "25824            None            None            None            None   \n",
       "26468            None            None            None            None   \n",
       "\n",
       "                  GS1_Segment                              GS1_Family  \\\n",
       "0      Arts/Crafts/Needlework         Arts/Crafts/Needlework Supplies   \n",
       "1      Arts/Crafts/Needlework         Arts/Crafts/Needlework Supplies   \n",
       "2      Arts/Crafts/Needlework         Arts/Crafts/Needlework Supplies   \n",
       "3      Arts/Crafts/Needlework         Arts/Crafts/Needlework Supplies   \n",
       "4      Arts/Crafts/Needlework         Arts/Crafts/Needlework Supplies   \n",
       "...                       ...                                     ...   \n",
       "25821                 Vehicle  Automotive Accessories and Maintenance   \n",
       "25822                 Vehicle  Automotive Accessories and Maintenance   \n",
       "25823                 Vehicle  Automotive Accessories and Maintenance   \n",
       "25824                    None                                    None   \n",
       "26468                   Crops               Crops for Food Production   \n",
       "\n",
       "                                               GS1_Class  \\\n",
       "0                                   Airbrushing Supplies   \n",
       "1                                   Airbrushing Supplies   \n",
       "2                                   Airbrushing Supplies   \n",
       "3                                   Airbrushing Supplies   \n",
       "4                                   Airbrushing Supplies   \n",
       "...                                                  ...   \n",
       "25821                      Automotive Wipers/Wiper Parts   \n",
       "25822                      Automotive Wipers/Wiper Parts   \n",
       "25823                      Automotive Wipers/Wiper Parts   \n",
       "25824                                               None   \n",
       "26468  Crops for Production of Edible Fruit from Othe...   \n",
       "\n",
       "                                               GS1_Brick  \n",
       "0      Airbrushing Equipment - Replacement Parts/Acce...  \n",
       "1      Airbrushing Equipment - Replacement Parts/Acce...  \n",
       "2      Airbrushing Equipment - Replacement Parts/Acce...  \n",
       "3      Airbrushing Equipment - Replacement Parts/Acce...  \n",
       "4      Airbrushing Equipment - Replacement Parts/Acce...  \n",
       "...                                                  ...  \n",
       "25821                                       Wiper Motors  \n",
       "25822                                      Wiper Nozzles  \n",
       "25823                                        Wiper Pumps  \n",
       "25824                                               None  \n",
       "26468                                               None  \n",
       "\n",
       "[25826 rows x 14 columns]"
      ]
     },
     "execution_count": 33,
     "metadata": {},
     "output_type": "execute_result"
    }
   ],
   "source": [
    "syn_gs1_maps"
   ]
  },
  {
   "cell_type": "code",
   "execution_count": 36,
   "id": "9e91f8f8",
   "metadata": {},
   "outputs": [
    {
     "data": {
      "text/plain": [
       "Syndigo_Level_1\n",
       "Agricultural Equipment                       3\n",
       "Apparel                                      7\n",
       "Appliances                                   4\n",
       "Arts & Crafts                                6\n",
       "Automotive                                   8\n",
       "Beer / Wine / Spirits                        1\n",
       "Books & Videos                               5\n",
       "Building Supplies                           11\n",
       "Childcare                                   11\n",
       "Cleaning & Janitorial                       17\n",
       "Electrical                                   9\n",
       "Electronics                                 10\n",
       "Flooring                                     5\n",
       "Food / Beverages                             5\n",
       "Furniture                                    5\n",
       "Gardening & Outdoors                        21\n",
       "Hardware                                    18\n",
       "Health & Beauty                             18\n",
       "Heating / Ventilation / Air Conditioning     6\n",
       "Home & Venue Decoration                     16\n",
       "Hospitality Supplies                         9\n",
       "Kitchen & Bathroom                          10\n",
       "Lighting & Fans                             12\n",
       "Livestock & Pet Supplies                     6\n",
       "Marine                                       8\n",
       "Material Handling                           13\n",
       "Musical Instruments                          1\n",
       "Office Supplies                              1\n",
       "Paints & Coatings                            6\n",
       "Plumbing & Water Service                    11\n",
       "Power Sports                                 5\n",
       "Power Transmission & Motion Control          5\n",
       "Sports & Outdoor Recreation Equipment       10\n",
       "Tobacco Products                             1\n",
       "Tools                                       14\n",
       "Toys / Games / Hobbies                       8\n",
       "Name: GS1_Segment, dtype: int64"
      ]
     },
     "execution_count": 36,
     "metadata": {},
     "output_type": "execute_result"
    }
   ],
   "source": [
    "#Syndigo Level1 to GS1 Segment Mappings\n",
    "syn_gs1_maps.groupby('Syndigo_Level_1')['GS1_Segment'].nunique()"
   ]
  },
  {
   "cell_type": "code",
   "execution_count": 48,
   "id": "12eda14d",
   "metadata": {},
   "outputs": [
    {
     "data": {
      "text/plain": [
       "count    479.000000\n",
       "mean       1.839248\n",
       "std        1.665941\n",
       "min        1.000000\n",
       "25%        1.000000\n",
       "50%        1.000000\n",
       "75%        2.000000\n",
       "max       17.000000\n",
       "Name: GS1_Segment, dtype: float64"
      ]
     },
     "execution_count": 48,
     "metadata": {},
     "output_type": "execute_result"
    }
   ],
   "source": [
    "#Syndigo Level2 to GS1 Segment Mappings\n",
    "syn_gs1_maps.groupby('Syndigo_Level_2')['GS1_Segment'].nunique().describe()"
   ]
  },
  {
   "cell_type": "code",
   "execution_count": 52,
   "id": "21934136",
   "metadata": {},
   "outputs": [
    {
     "data": {
      "text/plain": [
       "Syndigo_Level_2\n",
       "Writing Instruments & Accessories          1\n",
       "Shipping and Packaging                     1\n",
       "Shoe Mitts                                 1\n",
       "Garage Flooring / Multipurpose Flooring    1\n",
       "Garage Door Openers & Accessories          1\n",
       "Shopping Bags                              1\n",
       "Short Stature Kits                         1\n",
       "Services                                   1\n",
       "Freezers                                   1\n",
       "Foundation Coatings                        1\n",
       "Forklifts                                  1\n",
       "Skylights                                  1\n",
       "Food & Beverage Condiments                 1\n",
       "Folding Chairs                             1\n",
       "Small Engine Performance                   1\n",
       "Free Reed                                  1\n",
       "Smartwatches                               1\n",
       "Service Bells                              1\n",
       "Glasswork / Enamelling / Marquetry         1\n",
       "Roofing                                    1\n",
       "Name: GS1_Family, dtype: int64"
      ]
     },
     "execution_count": 52,
     "metadata": {},
     "output_type": "execute_result"
    }
   ],
   "source": [
    "#Syndigo Level2 to GS1 Family Mappings\n",
    "syn_gs1_maps.groupby('Syndigo_Level_2')['GS1_Family'].nunique().sort_values()[:20]"
   ]
  },
  {
   "cell_type": "code",
   "execution_count": 44,
   "id": "b3f63d8e",
   "metadata": {},
   "outputs": [
    {
     "data": {
      "text/plain": [
       "38"
      ]
     },
     "execution_count": 44,
     "metadata": {},
     "output_type": "execute_result"
    }
   ],
   "source": [
    "syn_gs1_maps.GS1_Segment.nunique()"
   ]
  },
  {
   "cell_type": "code",
   "execution_count": null,
   "id": "fdc2ea40",
   "metadata": {},
   "outputs": [],
   "source": []
  }
 ],
 "metadata": {
  "kernelspec": {
   "display_name": "Python 3 (ipykernel)",
   "language": "python",
   "name": "python3"
  },
  "language_info": {
   "codemirror_mode": {
    "name": "ipython",
    "version": 3
   },
   "file_extension": ".py",
   "mimetype": "text/x-python",
   "name": "python",
   "nbconvert_exporter": "python",
   "pygments_lexer": "ipython3",
   "version": "3.10.9"
  }
 },
 "nbformat": 4,
 "nbformat_minor": 5
}
