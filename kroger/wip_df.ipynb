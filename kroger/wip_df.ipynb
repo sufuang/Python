{
 "cells": [
  {
   "cell_type": "code",
   "execution_count": 1,
   "id": "f72da2f6",
   "metadata": {},
   "outputs": [],
   "source": [
    "import  pandas as pd\n",
    "path = 'C:\\\\users\\\\iny2819\\\\Kroger\\\\Data\\\\' \n",
    "path_atb = path + 'ATB\\\\'\n",
    "import functools as ft\n"
   ]
  },
  {
   "cell_type": "code",
   "execution_count": 2,
   "id": "f6005cac",
   "metadata": {},
   "outputs": [],
   "source": [
    "def cr_norm_clr_df(norm_clr_file, discard, rename, suffix):\n",
    "    df1 = pd.read_csv(path_atb + norm_clr_file)\n",
    "    df1[\"discard_ind\"] = df1.\\\n",
    "        apply(lambda x: 'YES' if x['EXTRACTED_COLOR'] in discard else '', axis = 1)\n",
    " \n",
    "    df1[\"rename\"] = df1.\\\n",
    "        apply(lambda x: rename[x['EXTRACTED_COLOR']] if x['EXTRACTED_COLOR'] in rename.keys() else '', axis = 1)\n",
    "  \n",
    "    rencol = {'EXTRACTED_COLOR': 'ext_clr', 'PERCENT_CUMULATIVE_COUNT': 'pct_cum_cnt'+ suffix,  \\\n",
    "              \"discard_ind\": \"dcard\"+ suffix, \"rename\": \"ren\"+ suffix }\n",
    "    df1 = df1.rename(columns=rencol)\n",
    "    \n",
    "    df1.head()\n",
    "    return df1"
   ]
  },
  {
   "cell_type": "code",
   "execution_count": 3,
   "id": "b489b368",
   "metadata": {},
   "outputs": [
    {
     "data": {
      "text/html": [
       "<div>\n",
       "<style scoped>\n",
       "    .dataframe tbody tr th:only-of-type {\n",
       "        vertical-align: middle;\n",
       "    }\n",
       "\n",
       "    .dataframe tbody tr th {\n",
       "        vertical-align: top;\n",
       "    }\n",
       "\n",
       "    .dataframe thead th {\n",
       "        text-align: right;\n",
       "    }\n",
       "</style>\n",
       "<table border=\"1\" class=\"dataframe\">\n",
       "  <thead>\n",
       "    <tr style=\"text-align: right;\">\n",
       "      <th></th>\n",
       "      <th>ext_clr</th>\n",
       "      <th>pct_cum_cnt_rug</th>\n",
       "      <th>dcard_rug</th>\n",
       "      <th>ren_rug</th>\n",
       "    </tr>\n",
       "  </thead>\n",
       "  <tbody>\n",
       "    <tr>\n",
       "      <th>0</th>\n",
       "      <td>BLUE</td>\n",
       "      <td>14.844229</td>\n",
       "      <td></td>\n",
       "      <td></td>\n",
       "    </tr>\n",
       "    <tr>\n",
       "      <th>1</th>\n",
       "      <td>CREAM</td>\n",
       "      <td>28.433124</td>\n",
       "      <td>YES</td>\n",
       "      <td></td>\n",
       "    </tr>\n",
       "    <tr>\n",
       "      <th>2</th>\n",
       "      <td>GRAY</td>\n",
       "      <td>40.572646</td>\n",
       "      <td></td>\n",
       "      <td></td>\n",
       "    </tr>\n",
       "    <tr>\n",
       "      <th>3</th>\n",
       "      <td>IVORY</td>\n",
       "      <td>46.933208</td>\n",
       "      <td></td>\n",
       "      <td></td>\n",
       "    </tr>\n",
       "    <tr>\n",
       "      <th>4</th>\n",
       "      <td>BLACK</td>\n",
       "      <td>52.009100</td>\n",
       "      <td></td>\n",
       "      <td></td>\n",
       "    </tr>\n",
       "  </tbody>\n",
       "</table>\n",
       "</div>"
      ],
      "text/plain": [
       "  ext_clr  pct_cum_cnt_rug dcard_rug ren_rug\n",
       "0    BLUE        14.844229                  \n",
       "1   CREAM        28.433124       YES        \n",
       "2    GRAY        40.572646                  \n",
       "3   IVORY        46.933208                  \n",
       "4   BLACK        52.009100                  "
      ]
     },
     "execution_count": 3,
     "metadata": {},
     "output_type": "execute_result"
    }
   ],
   "source": [
    "# rugs\n",
    "#norm_clr_rug = \"Normalized_COLORS_Rugs.xlsx\" \n",
    "norm_clr_rug ='Normalized_COLORS_HomeDecor_Rugs.csv'\n",
    "discard_rug =['NATURAL', 'MEDIUM', 'DARK', 'LIGHT', 'STRIPED', 'ANTIQUE', 'BARK', 'LINEN', 'URBAN', 'TOBACCO', 'SEA','WALNUT',  \\\n",
    "          'BERRY','CAPRI','CORAL', 'SAND','SAGE','CLAY','PEARL', 'COPPER', 'STEEL','BRONZE', 'CHAMPAGNE','PEWTER', 'CHOCOLATE', 'CREAM']\n",
    "rename_rug = {'ASSORTED':'MULTICOLOR','MULTI-COLORED':'MULTICOLOR','MULTI COLOR':'MULTICOLOR',\\\n",
    "          'GREY':'GRAY','DARK GRAY':'GRAY','LIGHT GRAY':'GRAY', \\\n",
    "          'NAVY BLUE':'NAVY','DARK BLUE' : 'BLUE', 'LIGHT BLUE': 'BLUE', 'DARK BROWN' : 'BROWN', 'LIGHT BROWN' : 'BROWN', \\\n",
    "          'DARK GREEN' :  'GREEN', 'LIGHT GREEN' :  'GREEN'} \n",
    "df_rug = cr_norm_clr_df(norm_clr_rug, discard_rug, rename_rug, '_rug')\n",
    "df_rug.head()"
   ]
  },
  {
   "cell_type": "code",
   "execution_count": 4,
   "id": "ce253ed1",
   "metadata": {},
   "outputs": [
    {
     "data": {
      "text/html": [
       "<div>\n",
       "<style scoped>\n",
       "    .dataframe tbody tr th:only-of-type {\n",
       "        vertical-align: middle;\n",
       "    }\n",
       "\n",
       "    .dataframe tbody tr th {\n",
       "        vertical-align: top;\n",
       "    }\n",
       "\n",
       "    .dataframe thead th {\n",
       "        text-align: right;\n",
       "    }\n",
       "</style>\n",
       "<table border=\"1\" class=\"dataframe\">\n",
       "  <thead>\n",
       "    <tr style=\"text-align: right;\">\n",
       "      <th></th>\n",
       "      <th>ext_clr</th>\n",
       "      <th>pct_cum_cnt_hd_norug</th>\n",
       "      <th>dcard_hd_norug</th>\n",
       "      <th>ren_hd_norug</th>\n",
       "    </tr>\n",
       "  </thead>\n",
       "  <tbody>\n",
       "    <tr>\n",
       "      <th>0</th>\n",
       "      <td>WHITE</td>\n",
       "      <td>9.736195</td>\n",
       "      <td></td>\n",
       "      <td></td>\n",
       "    </tr>\n",
       "    <tr>\n",
       "      <th>1</th>\n",
       "      <td>BLACK</td>\n",
       "      <td>17.829164</td>\n",
       "      <td></td>\n",
       "      <td></td>\n",
       "    </tr>\n",
       "    <tr>\n",
       "      <th>2</th>\n",
       "      <td>LIGHT</td>\n",
       "      <td>23.624574</td>\n",
       "      <td>YES</td>\n",
       "      <td></td>\n",
       "    </tr>\n",
       "    <tr>\n",
       "      <th>3</th>\n",
       "      <td>GREEN</td>\n",
       "      <td>29.046928</td>\n",
       "      <td></td>\n",
       "      <td></td>\n",
       "    </tr>\n",
       "    <tr>\n",
       "      <th>4</th>\n",
       "      <td>WOOD</td>\n",
       "      <td>34.249001</td>\n",
       "      <td>YES</td>\n",
       "      <td></td>\n",
       "    </tr>\n",
       "  </tbody>\n",
       "</table>\n",
       "</div>"
      ],
      "text/plain": [
       "  ext_clr  pct_cum_cnt_hd_norug dcard_hd_norug ren_hd_norug\n",
       "0   WHITE              9.736195                            \n",
       "1   BLACK             17.829164                            \n",
       "2   LIGHT             23.624574            YES             \n",
       "3   GREEN             29.046928                            \n",
       "4    WOOD             34.249001            YES             "
      ]
     },
     "execution_count": 4,
     "metadata": {},
     "output_type": "execute_result"
    }
   ],
   "source": [
    "#Home decor - norug\n",
    "norm_clr_hd_norug = \"Normalized_COLORS_HomeDecor_NoRugs.csv\"\n",
    "discard_hd_norug = ['LIGHT','WOOD','LOVE','NATURAL','LINEN','IRON','ANTIQUE','MIRROR MIRROR','DARK','MEDIUM','SEA','WALNUT',\\\n",
    "                    'ORCHID','BERRY','PACIFIC','URBAN','PEONY','PEACOCK','APPLE','CAPRI','CORAL','VALENTINE','SAND','LEMON', \\\n",
    "                    'VANILLA','D-7','MANGO','SAGE','MAPLE','PEARL','DEEP','CLAY']\n",
    "rename_hd_norug = {'ASSORTED':'MULTI COLOR','GREY':'GRAY','VIOLET':'PURPLE','NAVY':'NAVY BLUE','MULTI-COLORED':'MULTI COLOR', \\\n",
    "                   'LIGHT GREEN':'GREEN','LIGHT BLUE':'BLUE','DARK BROWN':'BROWN','BLUE/WHITE':'BLUE;WHITE','DARK GREEN':'GREEN',\n",
    "                   'MOSS GREEN':'GREEN'}\n",
    "df_hd_norug = cr_norm_clr_df(norm_clr_hd_norug, discard_hd_norug, rename_hd_norug, '_hd_norug')   \n",
    "df_hd_norug.head()                "
   ]
  },
  {
   "cell_type": "code",
   "execution_count": 5,
   "id": "86afe4ab",
   "metadata": {},
   "outputs": [
    {
     "data": {
      "text/html": [
       "<div>\n",
       "<style scoped>\n",
       "    .dataframe tbody tr th:only-of-type {\n",
       "        vertical-align: middle;\n",
       "    }\n",
       "\n",
       "    .dataframe tbody tr th {\n",
       "        vertical-align: top;\n",
       "    }\n",
       "\n",
       "    .dataframe thead th {\n",
       "        text-align: right;\n",
       "    }\n",
       "</style>\n",
       "<table border=\"1\" class=\"dataframe\">\n",
       "  <thead>\n",
       "    <tr style=\"text-align: right;\">\n",
       "      <th></th>\n",
       "      <th>ext_clr</th>\n",
       "      <th>pct_cum_cnt_kitdin</th>\n",
       "      <th>dcard_kitdin</th>\n",
       "      <th>ren_kitdin</th>\n",
       "    </tr>\n",
       "  </thead>\n",
       "  <tbody>\n",
       "    <tr>\n",
       "      <th>0</th>\n",
       "      <td>MULTI-COLORED</td>\n",
       "      <td>16.507111</td>\n",
       "      <td></td>\n",
       "      <td>MULTI COLOR</td>\n",
       "    </tr>\n",
       "    <tr>\n",
       "      <th>1</th>\n",
       "      <td>BLUE</td>\n",
       "      <td>27.072158</td>\n",
       "      <td></td>\n",
       "      <td></td>\n",
       "    </tr>\n",
       "    <tr>\n",
       "      <th>2</th>\n",
       "      <td>BLACK</td>\n",
       "      <td>34.601524</td>\n",
       "      <td></td>\n",
       "      <td></td>\n",
       "    </tr>\n",
       "    <tr>\n",
       "      <th>3</th>\n",
       "      <td>WHITE</td>\n",
       "      <td>41.674920</td>\n",
       "      <td></td>\n",
       "      <td></td>\n",
       "    </tr>\n",
       "    <tr>\n",
       "      <th>4</th>\n",
       "      <td>SILVER</td>\n",
       "      <td>46.317845</td>\n",
       "      <td></td>\n",
       "      <td></td>\n",
       "    </tr>\n",
       "  </tbody>\n",
       "</table>\n",
       "</div>"
      ],
      "text/plain": [
       "         ext_clr  pct_cum_cnt_kitdin dcard_kitdin   ren_kitdin\n",
       "0  MULTI-COLORED           16.507111               MULTI COLOR\n",
       "1           BLUE           27.072158                          \n",
       "2          BLACK           34.601524                          \n",
       "3          WHITE           41.674920                          \n",
       "4         SILVER           46.317845                          "
      ]
     },
     "execution_count": 5,
     "metadata": {},
     "output_type": "execute_result"
    }
   ],
   "source": [
    "#  kitchen& dinning - kitdin \n",
    "norm_clr_kitdin = \"Normalized_COLORS_Kitchen&Dining.csv\"\n",
    "discard_kitdin = ['ANTIQUE','DEEP','FISH','BUTTERFLY','SCOOP','LIGHT','UNICORN','OWL','MIRROR MIRROR','ALPHABET','UNIVERSAL','HAPPY BIRTHDAY', \\\n",
    "'LOVELY','STAINLESS-STEEL','STAINLESS STEEL','COFFEE','IRON','ZINC','COPPER','NATURAL','STAINLESS','STEEL','MEDIUM','BRONZE','LOVE','PORCELAIN',\\\n",
    "'MAPLE','PINEAPPLE','CHAMPAGNE','WALNUT','APPLE','BRASS','PEWTER','NICKEL','CHOCOLATE','ESPRESSO','BUTTER','CREAM','CARBON','DARK','JUNGLE','DRINK']\n",
    "rename_kitdin = {'ASSORTED':'MULTI COLOR','GREY':'GRAY','VIOLET':'PURPLE','NAVY':'NAVY BLUE','MULTI-COLORED':'MULTI COLOR'}\n",
    "df_kitdin = cr_norm_clr_df(norm_clr_kitdin, discard_kitdin, rename_kitdin, '_kitdin')   \n",
    "df_kitdin.head()  "
   ]
  },
  {
   "cell_type": "code",
   "execution_count": 7,
   "id": "1298d8bf",
   "metadata": {},
   "outputs": [
    {
     "data": {
      "text/html": [
       "<div>\n",
       "<style scoped>\n",
       "    .dataframe tbody tr th:only-of-type {\n",
       "        vertical-align: middle;\n",
       "    }\n",
       "\n",
       "    .dataframe tbody tr th {\n",
       "        vertical-align: top;\n",
       "    }\n",
       "\n",
       "    .dataframe thead th {\n",
       "        text-align: right;\n",
       "    }\n",
       "</style>\n",
       "<table border=\"1\" class=\"dataframe\">\n",
       "  <thead>\n",
       "    <tr style=\"text-align: right;\">\n",
       "      <th></th>\n",
       "      <th>ext_clr</th>\n",
       "      <th>pct_cum_cnt_floral</th>\n",
       "      <th>dcard_floral</th>\n",
       "      <th>ren_floral</th>\n",
       "    </tr>\n",
       "  </thead>\n",
       "  <tbody>\n",
       "    <tr>\n",
       "      <th>0</th>\n",
       "      <td>RED</td>\n",
       "      <td>11.351223</td>\n",
       "      <td></td>\n",
       "      <td></td>\n",
       "    </tr>\n",
       "    <tr>\n",
       "      <th>1</th>\n",
       "      <td>ROSE</td>\n",
       "      <td>20.612681</td>\n",
       "      <td></td>\n",
       "      <td></td>\n",
       "    </tr>\n",
       "    <tr>\n",
       "      <th>2</th>\n",
       "      <td>WHITE</td>\n",
       "      <td>28.639278</td>\n",
       "      <td></td>\n",
       "      <td></td>\n",
       "    </tr>\n",
       "    <tr>\n",
       "      <th>3</th>\n",
       "      <td>PINK</td>\n",
       "      <td>33.768701</td>\n",
       "      <td></td>\n",
       "      <td></td>\n",
       "    </tr>\n",
       "    <tr>\n",
       "      <th>4</th>\n",
       "      <td>ORCHID</td>\n",
       "      <td>37.425790</td>\n",
       "      <td>YES</td>\n",
       "      <td></td>\n",
       "    </tr>\n",
       "  </tbody>\n",
       "</table>\n",
       "</div>"
      ],
      "text/plain": [
       "  ext_clr  pct_cum_cnt_floral dcard_floral ren_floral\n",
       "0     RED           11.351223                        \n",
       "1    ROSE           20.612681                        \n",
       "2   WHITE           28.639278                        \n",
       "3    PINK           33.768701                        \n",
       "4  ORCHID           37.425790          YES           "
      ]
     },
     "execution_count": 7,
     "metadata": {},
     "output_type": "execute_result"
    }
   ],
   "source": [
    "norm_clr_floral = \"Normalized_COLORS_Floral.csv\"\n",
    "df_norm_clr_floral= pd.read_csv(path_atb + norm_clr_floral)\n",
    "discard_floral =['ANTIQUE','APPLE','BARK','BERRY','BI-COLOR','BRONZE','CAYENNE','CHAMPAGNE', \\\n",
    "'CHOCOLATE','CLAY','COFFEE','CONCRETE', \\\n",
    "'COPPER','CORAL','CREAM','CRUSH','DARK','DEEP','FROST','HAPPY BIRTHDAY','HEIRLOOM', \\\n",
    "'IRON', 'LIGHT','LOVE','MARIGOLD', 'MEDIUM','MELON','NATURAL','ORCHID','PEARL', \\\n",
    "'PEONY','PINEAPPLE','SAGE','STEEL','STRIPED','URBAN','VALENTINE','VARIETY',\\\n",
    "'WATERMELON','WOOD','ZINNIA']\n",
    "\n",
    "rename_floral = {'ASSORTED':'MULTICOLOR','ASSORTED COLORS':'MULTICOLOR', 'CLASSIC WHITE':'WHITE', \\\n",
    "          'MULTI-COLORED':'MULTICOLOR','MULTI COLOR':'MULTICOLOR',\\\n",
    "          'GREY':'GRAY','DARK GRAY':'GRAY','LIGHT GRAY':'GRAY', \\\n",
    "          'NAVY BLUE':'NAVY','DARK BLUE' : 'BLUE', 'LIGHT BLUE': 'BLUE', \\\n",
    "          'DARK BROWN' : 'BROWN', 'LIGHT BROWN' : 'BROWN', \\\n",
    "          'DARK GREEN' :  'GREEN', 'LIGHT GREEN' :  'GREEN','GOLDEN':'GOLD', \\\n",
    "          'LIGHT PINK':'PINK', 'DARK PINK':'PINK', 'DARK RED': 'RED'}\n",
    "\n",
    "df_floral = cr_norm_clr_df(norm_clr_floral, discard_floral, rename_floral, '_floral')\n",
    "df_floral.head() "
   ]
  },
  {
   "cell_type": "code",
   "execution_count": 8,
   "id": "0b39cad1",
   "metadata": {},
   "outputs": [
    {
     "data": {
      "text/html": [
       "<div>\n",
       "<style scoped>\n",
       "    .dataframe tbody tr th:only-of-type {\n",
       "        vertical-align: middle;\n",
       "    }\n",
       "\n",
       "    .dataframe tbody tr th {\n",
       "        vertical-align: top;\n",
       "    }\n",
       "\n",
       "    .dataframe thead th {\n",
       "        text-align: right;\n",
       "    }\n",
       "</style>\n",
       "<table border=\"1\" class=\"dataframe\">\n",
       "  <thead>\n",
       "    <tr style=\"text-align: right;\">\n",
       "      <th></th>\n",
       "      <th>ext_clr</th>\n",
       "      <th>pct_cum_cnt_floral</th>\n",
       "      <th>dcard_floral</th>\n",
       "      <th>ren_floral</th>\n",
       "      <th>pct_cum_cnt_rug</th>\n",
       "      <th>dcard_rug</th>\n",
       "      <th>ren_rug</th>\n",
       "      <th>pct_cum_cnt_hd_norug</th>\n",
       "      <th>dcard_hd_norug</th>\n",
       "      <th>ren_hd_norug</th>\n",
       "      <th>pct_cum_cnt_kitdin</th>\n",
       "      <th>dcard_kitdin</th>\n",
       "      <th>ren_kitdin</th>\n",
       "    </tr>\n",
       "  </thead>\n",
       "  <tbody>\n",
       "    <tr>\n",
       "      <th>0</th>\n",
       "      <td>RED</td>\n",
       "      <td>11.351223</td>\n",
       "      <td></td>\n",
       "      <td></td>\n",
       "      <td>56.464273</td>\n",
       "      <td></td>\n",
       "      <td></td>\n",
       "      <td>57.391562</td>\n",
       "      <td></td>\n",
       "      <td></td>\n",
       "      <td>55.098209</td>\n",
       "      <td></td>\n",
       "      <td></td>\n",
       "    </tr>\n",
       "    <tr>\n",
       "      <th>1</th>\n",
       "      <td>ROSE</td>\n",
       "      <td>20.612681</td>\n",
       "      <td></td>\n",
       "      <td></td>\n",
       "      <td>96.628768</td>\n",
       "      <td></td>\n",
       "      <td></td>\n",
       "      <td>79.101110</td>\n",
       "      <td></td>\n",
       "      <td></td>\n",
       "      <td>85.992132</td>\n",
       "      <td></td>\n",
       "      <td></td>\n",
       "    </tr>\n",
       "    <tr>\n",
       "      <th>2</th>\n",
       "      <td>WHITE</td>\n",
       "      <td>28.639278</td>\n",
       "      <td></td>\n",
       "      <td></td>\n",
       "      <td>85.966411</td>\n",
       "      <td></td>\n",
       "      <td></td>\n",
       "      <td>9.736195</td>\n",
       "      <td></td>\n",
       "      <td></td>\n",
       "      <td>41.674920</td>\n",
       "      <td></td>\n",
       "      <td></td>\n",
       "    </tr>\n",
       "    <tr>\n",
       "      <th>3</th>\n",
       "      <td>PINK</td>\n",
       "      <td>33.768701</td>\n",
       "      <td></td>\n",
       "      <td></td>\n",
       "      <td>80.948165</td>\n",
       "      <td></td>\n",
       "      <td></td>\n",
       "      <td>59.795115</td>\n",
       "      <td></td>\n",
       "      <td></td>\n",
       "      <td>65.818684</td>\n",
       "      <td></td>\n",
       "      <td></td>\n",
       "    </tr>\n",
       "    <tr>\n",
       "      <th>4</th>\n",
       "      <td>ORCHID</td>\n",
       "      <td>37.425790</td>\n",
       "      <td>YES</td>\n",
       "      <td></td>\n",
       "      <td>NaN</td>\n",
       "      <td>NaN</td>\n",
       "      <td>NaN</td>\n",
       "      <td>88.301406</td>\n",
       "      <td>YES</td>\n",
       "      <td></td>\n",
       "      <td>NaN</td>\n",
       "      <td>NaN</td>\n",
       "      <td>NaN</td>\n",
       "    </tr>\n",
       "  </tbody>\n",
       "</table>\n",
       "</div>"
      ],
      "text/plain": [
       "  ext_clr  pct_cum_cnt_floral dcard_floral ren_floral  pct_cum_cnt_rug  \\\n",
       "0     RED           11.351223                                56.464273   \n",
       "1    ROSE           20.612681                                96.628768   \n",
       "2   WHITE           28.639278                                85.966411   \n",
       "3    PINK           33.768701                                80.948165   \n",
       "4  ORCHID           37.425790          YES                         NaN   \n",
       "\n",
       "  dcard_rug ren_rug  pct_cum_cnt_hd_norug dcard_hd_norug ren_hd_norug  \\\n",
       "0                               57.391562                               \n",
       "1                               79.101110                               \n",
       "2                                9.736195                               \n",
       "3                               59.795115                               \n",
       "4       NaN     NaN             88.301406            YES                \n",
       "\n",
       "   pct_cum_cnt_kitdin dcard_kitdin ren_kitdin  \n",
       "0           55.098209                          \n",
       "1           85.992132                          \n",
       "2           41.674920                          \n",
       "3           65.818684                          \n",
       "4                 NaN          NaN        NaN  "
      ]
     },
     "execution_count": 8,
     "metadata": {},
     "output_type": "execute_result"
    }
   ],
   "source": [
    "import functools as ft\n",
    "dfs = [df_floral, df_rug, df_hd_norug, df_kitdin ]\n",
    "df_final = ft.reduce(lambda left, right: pd.merge(left, right, on='ext_clr', how ='outer'), dfs)\n",
    "df_final.head()"
   ]
  },
  {
   "cell_type": "code",
   "execution_count": null,
   "id": "38891736",
   "metadata": {},
   "outputs": [],
   "source": [
    "df_final.shape"
   ]
  },
  {
   "cell_type": "code",
   "execution_count": 9,
   "id": "8773937a",
   "metadata": {},
   "outputs": [],
   "source": [
    "from datetime import date\n",
    "from pandas import ExcelWriter\n",
    "from pandas import ExcelFile\n",
    "\n",
    "dte = date.today().strftime('%m%d%y')\n",
    "excel_file = path_atb + \"Normalized_COLORS_FLORA_\"+dte + '.xlsx'\n",
    "writer = pd.ExcelWriter(excel_file)\n",
    "df_norm_clr_floral.to_excel(writer,'Normalized_COLORS_FLORAL', index = False)\n",
    "df_final.to_excel(writer,'Normalized_COLORS_Combine', index = False)\n",
    "   \n",
    "writer.close()\n"
   ]
  },
  {
   "cell_type": "code",
   "execution_count": null,
   "id": "766c44ee",
   "metadata": {},
   "outputs": [],
   "source": [
    "stop"
   ]
  },
  {
   "cell_type": "code",
   "execution_count": null,
   "id": "dc347c98",
   "metadata": {},
   "outputs": [],
   "source": [
    "df_final.to_excel(path_atb + \"color_norm.xlsx\", index = False  )"
   ]
  },
  {
   "cell_type": "code",
   "execution_count": null,
   "id": "d58b7fd5",
   "metadata": {},
   "outputs": [],
   "source": [
    "\n",
    "df1 = pd.read_excel(path_atb + \"Normalized_COLORS_Rugs.xlsx\" )\n",
    "discard =['NATURAL', 'MEDIUM', 'DARK', 'LIGHT', 'STRIPED', 'ANTIQUE', 'BARK', 'LINEN', 'URBAN', 'TOBACCO', 'SEA','WALNUT',  \\\n",
    "          'BERRY','CAPRI','CORAL', 'SAND','SAGE','CLAY','PEARL', 'COPPER', 'STEEL','BRONZE', 'CHAMPAGNE','PEWTER', 'CHOCOLATE', 'CREAM']\n",
    "\n",
    "df1[\"discard_ind\"] = df1.\\\n",
    "    apply(lambda x: 'YES' if x['EXTRACTED_COLOR'] in discard else 'NO', axis = 1)\n",
    "df1.head()\n",
    "\n",
    "rename = {'ASSORTED':'MULTICOLOR','MULTI-COLORED':'MULTICOLOR','MULTI COLOR':'MULTICOLOR',\\\n",
    "          'GREY':'GRAY','DARK GRAY':'GRAY','LIGHT GRAY':'GRAY', \\\n",
    "          'NAVY BLUE':'NAVY','DARK BLUE' : 'BLUE', 'LIGHT BLUE': 'BLUE', 'DARK BROWN' : 'BROWN', 'LIGHT BROWN' : 'BROWN', \\\n",
    "          'DARK GREEN' :  'GREEN', 'LIGHT GREEN' :  'GREEN'} \n",
    "df1[\"rename\"] = df1.\\\n",
    "    apply(lambda x: rename[x['EXTRACTED_COLOR']] if x['EXTRACTED_COLOR'] in rename.keys() else '', axis = 1)\n",
    "df1.head(100)\n",
    "\n",
    "\n",
    "\n",
    "#attributed_df['EXTRACTED_COLOR'] = attributed_df.\\\n",
    "#    apply(lambda x: x['COLOR_CURRENT'] if x['COLOR_CURRENT'] != 'NONE' else x['EXTRACTED_COLOR'], axis = 1)\n",
    "#\n",
    "#normalized_list = [ i for i in normalized_list if i not in discard] + ['OTHER']\n",
    "\n"
   ]
  },
  {
   "cell_type": "code",
   "execution_count": null,
   "id": "5f9e4699",
   "metadata": {},
   "outputs": [],
   "source": [
    "#rename['ASSORTED'] # 'MULTICOLOR'\n",
    "rename['ASSORTE']"
   ]
  },
  {
   "cell_type": "code",
   "execution_count": null,
   "id": "a5118d72",
   "metadata": {},
   "outputs": [],
   "source": [
    "\n",
    "rename = {'ASSORTED':'MULTICOLOR','MULTI-COLORED':'MULTICOLOR','MULTI COLOR':'MULTICOLOR',\\\n",
    "          'GREY':'GRAY','DARK GRAY':'GRAY','LIGHT GRAY':'GRAY', \\\n",
    "          'NAVY BLUE':'NAVY','DARK BLUE' : 'BLUE', 'LIGHT BLUE': 'BLUE', 'DARK BROWN' : 'BROWN', 'LIGHT BROWN' : 'BROWN', \\\n",
    "          'DARK GREEN' :  'GREEN', 'LIGHT GREEN' :  'GREEN'} \n",
    "df1[\"rename\"] = df1.\\\n",
    "    apply(lambda x: rename[x['EXTRACTED_COLOR']] if x['EXTRACTED_COLOR'] in rename.keys() else '', axis = 1)\n",
    "df1.head(100)\n",
    "\n"
   ]
  },
  {
   "cell_type": "code",
   "execution_count": null,
   "id": "7bb14e89",
   "metadata": {},
   "outputs": [],
   "source": [
    "pd.set_option(\"display.max_rows\", None)\n",
    "pd.set_option('display.max_colwidth', None)  \n",
    "\n",
    "df1\n"
   ]
  },
  {
   "cell_type": "code",
   "execution_count": null,
   "id": "52cd39dd",
   "metadata": {},
   "outputs": [],
   "source": []
  },
  {
   "cell_type": "code",
   "execution_count": null,
   "id": "ed76dd95",
   "metadata": {},
   "outputs": [],
   "source": [
    "import  pandas as pd\n",
    "path = 'C:\\\\users\\\\iny2819\\\\Kroger\\\\Data\\\\' \n",
    "path_atb = path + 'ATB\\\\'\n",
    "#df1 = pd.read_csv(path_atb + \"COLOR_NORMALIZED_Home_Decor_Rugs_12152023.csv\", dtype={\"GTIN_NO\": 'int64'}, low_memory=False)\n",
    "df1 = pd.read_excel(path_atb + \"COLOR_NORMALIZED_Home_Decor_Rugs_12152023.xlsx\", dtype={\"GTIN_NO\": 'int64'})\n",
    "\n",
    "\n",
    "df2 = pd.read_excel(path_atb + \"Validation_Data_Color_HomeDecor_Rugs_12122023_Prateek.xlsx\")\n",
    "mrg_df = df1.merge(df2[[ 'Review Status', 'Issue']], how = 'left', on = 'GTIN_NO')\n",
    "mrg_df.shape"
   ]
  },
  {
   "cell_type": "code",
   "execution_count": null,
   "id": "888d818d",
   "metadata": {},
   "outputs": [],
   "source": [
    "df2.head()"
   ]
  },
  {
   "cell_type": "code",
   "execution_count": null,
   "id": "2b47faff",
   "metadata": {},
   "outputs": [],
   "source": [
    "df1.head()"
   ]
  },
  {
   "cell_type": "markdown",
   "id": "6bac28ae",
   "metadata": {},
   "source": [
    "# DF \n",
    "   - How to Compare Pandas Dataframes by Multiple Columns  - "
   ]
  },
  {
   "cell_type": "code",
   "execution_count": null,
   "id": "0952734c",
   "metadata": {},
   "outputs": [],
   "source": [
    "\n",
    "# https://stackoverflow.com/questions/2582138/finding-and-replacing-elements-in-a-list\n",
    "a = [1, 2, 3, 4, 1, 5, 3, 2, 6, 1, 1]\n",
    "replacements = {1:10, 2:20, 3:'foo'}\n",
    "replacer = replacements.get  # For faster gets.\n",
    "print([replacer(n, n) for n in a])\n"
   ]
  },
  {
   "cell_type": "code",
   "execution_count": null,
   "id": "f0ef4609",
   "metadata": {},
   "outputs": [],
   "source": [
    "a = [replacer(n, n) for n in a]\n",
    "a"
   ]
  },
  {
   "cell_type": "code",
   "execution_count": null,
   "id": "21baa5b5",
   "metadata": {},
   "outputs": [],
   "source": [
    "discard =['Natural','Medium','Dark','Striped','Antique','Bark','Linen','Urban','Tobacco']"
   ]
  },
  {
   "cell_type": "code",
   "execution_count": null,
   "id": "6b6331c3",
   "metadata": {},
   "outputs": [],
   "source": []
  },
  {
   "cell_type": "code",
   "execution_count": null,
   "id": "1a2ff9d0",
   "metadata": {},
   "outputs": [],
   "source": [
    "str= 'Multi-color & Multi Color to Multicolor \\\n",
    "Dark green to Green \\\n",
    "Dark Gray to Gray \\\n",
    "Dark Blue to Blue \\\n",
    "Dark Brown to Brown \\\n",
    "Grey to Gray  \\\n",
    "Light blue to Blue \\\n",
    "Light Brown to Brown \\\n",
    "Light Gray to Gray \\\n",
    "Light Green to Green \\\n",
    "Navy blue to Navy'\n",
    "str_up = upper(str)\n",
    "str_up"
   ]
  },
  {
   "cell_type": "code",
   "execution_count": null,
   "id": "201f12d1",
   "metadata": {},
   "outputs": [],
   "source": [
    "str_up = str.upper()\n",
    "str_up"
   ]
  },
  {
   "cell_type": "code",
   "execution_count": null,
   "id": "b40909b3",
   "metadata": {},
   "outputs": [],
   "source": [
    "discard =['Natural','Medium','Dark','Striped','Antique','Bark','Linen','Urban','Tobacco']\n",
    "[x.upper() for x in discard] # ['NATURAL', 'MEDIUM', 'DARK', 'STRIPED', 'ANTIQUE', 'BARK', 'LINEN', 'URBAN', 'TOBACCO']"
   ]
  },
  {
   "cell_type": "code",
   "execution_count": null,
   "id": "6a0572d7",
   "metadata": {},
   "outputs": [],
   "source": [
    "# https://www.w3schools.com/python/pandas/ref_df_reset_index.asp\n",
    "import pandas as pd\n",
    "\n",
    "data = {\n",
    "  \"name\": [\"Sally\", \"Mary\", \"John\"],\n",
    "  \"age\": [50, 40, 30],\n",
    "  \"qualified\": [True, False, False]\n",
    "}\n",
    "idx = [\"X\", \"Y\", \"Z\"]\n",
    "\n",
    "df = pd.DataFrame(data, index=idx)\n",
    "\n",
    "newdf = df.reset_index()\n",
    "\n",
    "print(newdf1)"
   ]
  },
  {
   "cell_type": "code",
   "execution_count": null,
   "id": "8813122b",
   "metadata": {},
   "outputs": [],
   "source": [
    "newdf1 = df.reset_index(drop = True)  # will drop index column  \n",
    "print(newdf1)"
   ]
  },
  {
   "cell_type": "code",
   "execution_count": null,
   "id": "0026aa24",
   "metadata": {},
   "outputs": [],
   "source": [
    "\"\"\"\n",
    "\n",
    "I have a data frame like this\n",
    "\n",
    "----------------\n",
    "RecID| A  |B\n",
    "----------------\n",
    "1    |NaN | x \n",
    "2    |y   | NaN \n",
    "3    |z   | NaN\n",
    "4    |NaN | a \n",
    "5    |NaN | b \n",
    "And I want to create a new column, C, from A and B such that if A is null then fill with B and if B is null then fill with A:\n",
    "\n",
    "----------------------\n",
    "RecID|A   |B    |C \n",
    "----------------------\n",
    "1    |NaN | x   |x\n",
    "2    |y   | NaN |y \n",
    "3    |z   | NaN |z\n",
    "4    |NaN | a   |a\n",
    "5    |NaN | b   |b\n",
    "\n",
    "\n",
    "\"\"\""
   ]
  },
  {
   "cell_type": "code",
   "execution_count": null,
   "id": "b62329fa",
   "metadata": {},
   "outputs": [],
   "source": [
    "fillna\n",
    "\n",
    "df.assign(C=df.A.fillna(df.B))\n",
    "\n",
    "   RecID    A    B  C\n",
    "0      1  NaN    x  x\n",
    "1      2    y  NaN  y\n",
    "2      3    z  NaN  z\n",
    "3      4  NaN    a  a\n",
    "4      5  NaN    b  b"
   ]
  },
  {
   "cell_type": "code",
   "execution_count": null,
   "id": "23d761ea",
   "metadata": {},
   "outputs": [],
   "source": [
    "## How to Compare Pandas Dataframes by Multiple Columns\n",
    " - https://saturncloud.io/blog/how-to-compare-pandas-dataframes-by-multiple-columns/"
   ]
  },
  {
   "cell_type": "code",
   "execution_count": null,
   "id": "286251b2",
   "metadata": {},
   "outputs": [],
   "source": [
    "import pandas as pd\n",
    "\n",
    "# Create the first dataframe\n",
    "df1 = pd.DataFrame({\n",
    "    'Name': ['John', 'Mary', 'Peter', 'Anna'],\n",
    "    'Age': [25, 30, 35, 40],\n",
    "    'Salary': [50000, 60000, 70000, 80000]\n",
    "})\n",
    "\n",
    "# Create the second dataframe\n",
    "df2 = pd.DataFrame({\n",
    "    'Name': ['John', 'Mary', 'Peter', 'Anna'],\n",
    "    'Age': [25, 30, 35, 45],\n",
    "    'Salary': [50000, 60000, 70000, 80000]\n",
    "})"
   ]
  },
  {
   "cell_type": "code",
   "execution_count": null,
   "id": "f83c3e08",
   "metadata": {},
   "outputs": [],
   "source": [
    "df1"
   ]
  },
  {
   "cell_type": "code",
   "execution_count": null,
   "id": "13603e3f",
   "metadata": {},
   "outputs": [],
   "source": [
    "df2"
   ]
  },
  {
   "cell_type": "code",
   "execution_count": null,
   "id": "b04f5884",
   "metadata": {},
   "outputs": [],
   "source": [
    "# Define the columns to compare\n",
    "columns_to_compare = ['Name', 'Age']\n",
    "# Merge the dataframes on the selected columns\n",
    "merged_df = pd.merge(df1, df2, on=columns_to_compare, suffixes=('_df1', '_df2'), how='outer')\n",
    "merged_df"
   ]
  },
  {
   "cell_type": "code",
   "execution_count": null,
   "id": "5d7cbd53",
   "metadata": {},
   "outputs": [],
   "source": [
    "# Identify differences between the dataframes\n",
    "#differences_df = merged_df[merged_df['Age_df1'] != merged_df['Age_df2']]\n",
    "differences_df = merged_df[merged_df['Salary_df1'] != merged_df['Salary_df2']]\n",
    "# View the differences\n",
    "print(differences_df)"
   ]
  },
  {
   "cell_type": "markdown",
   "id": "df651b71",
   "metadata": {},
   "source": [
    "## EX2"
   ]
  },
  {
   "cell_type": "code",
   "execution_count": null,
   "id": "8322bfa4",
   "metadata": {},
   "outputs": [],
   "source": [
    "# Create first dataframe\n",
    "df1 = pd.DataFrame({\n",
    "    'A': ['A0', 'A1', 'A2', 'A3'],\n",
    "    'B': ['B0', 'B1', 'B2', 'B3'],\n",
    "    'C': ['C0', 'C1', 'C2', 'C3'],\n",
    "    'D': ['D0', 'D1', 'D2', 'D3']},\n",
    "    index=[0, 1, 2, 3])\n",
    "\n",
    "# Create second dataframe\n",
    "df2 = pd.DataFrame({\n",
    "    'A': ['A4', 'A5', 'A6'],\n",
    "    'B': ['B4', 'B5', 'B6'],\n",
    "    'C': ['C4', 'C5', 'C6'],\n",
    "    'D': ['D4', 'D5', 'D6']},\n",
    "    index=[4, 5, 6])"
   ]
  },
  {
   "cell_type": "code",
   "execution_count": null,
   "id": "ad664ac0",
   "metadata": {},
   "outputs": [],
   "source": [
    "df1"
   ]
  },
  {
   "cell_type": "markdown",
   "id": "99c5cc8e",
   "metadata": {},
   "source": [
    "## "
   ]
  },
  {
   "cell_type": "code",
   "execution_count": null,
   "id": "142fbf6c",
   "metadata": {},
   "outputs": [],
   "source": [
    "df2"
   ]
  },
  {
   "cell_type": "code",
   "execution_count": null,
   "id": "5b194bc0",
   "metadata": {},
   "outputs": [],
   "source": [
    "# Compare 'A' column in df1 with 'A' column in df2\n",
    "df1['A'].isin(df2['A'])"
   ]
  },
  {
   "cell_type": "markdown",
   "id": "58385deb",
   "metadata": {},
   "source": [
    "## EX3"
   ]
  },
  {
   "cell_type": "code",
   "execution_count": null,
   "id": "7456a796",
   "metadata": {},
   "outputs": [],
   "source": [
    "import pandas as pd\n",
    "\n",
    "# Create first DataFrame\n",
    "df1 = pd.DataFrame({\n",
    "    'Name': ['John', 'Anna', 'Peter', 'Linda'],\n",
    "    'Age': [28, 24, 35, 32],\n",
    "    'Country': ['USA', 'Canada', 'USA', 'Australia']\n",
    "})\n",
    "\n",
    "# Create second DataFrame\n",
    "df2 = pd.DataFrame({\n",
    "    'Name': ['John', 'Anna', 'Peter', 'Linda'],\n",
    "    'Age': [28, 23, 35, 33],\n",
    "    'Country': ['USA', 'Canada', 'USA', 'Australia']\n",
    "})"
   ]
  },
  {
   "cell_type": "code",
   "execution_count": null,
   "id": "e859b90c",
   "metadata": {},
   "outputs": [],
   "source": [
    "df1"
   ]
  },
  {
   "cell_type": "code",
   "execution_count": null,
   "id": "b91eb7e6",
   "metadata": {},
   "outputs": [],
   "source": [
    "df2"
   ]
  },
  {
   "cell_type": "code",
   "execution_count": null,
   "id": "a3b77927",
   "metadata": {},
   "outputs": [],
   "source": [
    "print(df1.equals(df2))"
   ]
  },
  {
   "cell_type": "code",
   "execution_count": null,
   "id": "e0b473f4",
   "metadata": {},
   "outputs": [],
   "source": [
    "# Comparing Specific Columns \n",
    "print(df1[['Name', 'Country']].equals(df2[['Name', 'Country']]))"
   ]
  },
  {
   "cell_type": "code",
   "execution_count": null,
   "id": "12660aa3",
   "metadata": {},
   "outputs": [],
   "source": [
    "differences = df1.compare(df2)\n",
    "print(differences)"
   ]
  },
  {
   "cell_type": "code",
   "execution_count": null,
   "id": "962a045b",
   "metadata": {},
   "outputs": [],
   "source": [
    "import pandas as pd\n",
    "\n",
    "df1 = pd.DataFrame({'A': ['A0', 'A1', 'A2', 'A3'],\n",
    "                    'B': ['B0', 'B1', 'B2', 'B3']})\n",
    "\n",
    "df2 = pd.DataFrame({'C': ['C0', 'C1', 'C2', 'C3'],\n",
    "                    'D': ['D0', 'D1', 'D2', 'D3']})\n",
    "\n",
    "if set(df1.columns).intersection(df2.columns):\n",
    "    result = pd.merge(df1, df2)\n",
    "else:\n",
    "    print(\"Error: No common columns to perform merge on.\")"
   ]
  },
  {
   "cell_type": "code",
   "execution_count": null,
   "id": "a25bdf84",
   "metadata": {},
   "outputs": [],
   "source": [
    "## merge"
   ]
  },
  {
   "cell_type": "code",
   "execution_count": null,
   "id": "5a321014",
   "metadata": {},
   "outputs": [],
   "source": [
    "import pandas as pd\n",
    "\n",
    "df1 = pd.DataFrame({'A': ['A0', 'A1', 'A2', 'A3'],\n",
    "                    'B': ['B0', 'B1', 'B2', 'B3'],\n",
    "                    'C': ['C0', 'C1', 'C2', 'C3'],\n",
    "                    'D': ['D0', 'D1', 'D2', 'D3']})\n",
    "\n",
    "df2 = pd.DataFrame({'E': ['E0', 'E1', 'E2', 'E3'],\n",
    "                    'F': ['F0', 'F1', 'F2', 'F3'],\n",
    "                    'G': ['G0', 'G1', 'G2', 'G3'],\n",
    "                    'H': ['H0', 'H1', 'H2', 'H3']})\n",
    "\n",
    "if 'X' not in df1.columns or 'X' not in df2.columns:\n",
    "    print(\"Error: Column 'X' does not exist in one or both dataframes.\")\n",
    "else:\n",
    "    pd.merge(df1, df2, on='X')"
   ]
  },
  {
   "cell_type": "code",
   "execution_count": null,
   "id": "e437d5e4",
   "metadata": {},
   "outputs": [],
   "source": [
    "import pandas as pd\n",
    "\n",
    "df1 = pd.DataFrame({'A': ['A0', 'A1', 'A2', 'A3'],\n",
    "                    'B': ['B0', 'B1', 'B2', 'B3'],\n",
    "                    'C': [0, 1, 2, 3],\n",
    "                    'D': [0, 1, 2, 3]})\n",
    "\n",
    "df2 = pd.DataFrame({'C': ['0', '1', '2', '3'],\n",
    "                    'D': ['0', '1', '2', '3'],\n",
    "                    'E': ['E0', 'E1', 'E2', 'E3'],\n",
    "                    'F': ['F0', 'F1', 'F2', 'F3']})\n",
    "\n",
    "df2['C'] = df2['C'].astype(int)\n",
    "df2['D'] = df2['D'].astype(int)\n",
    "\n",
    "pd.merge(df1, df2, on='C')"
   ]
  },
  {
   "cell_type": "code",
   "execution_count": null,
   "id": "f4fe31f2",
   "metadata": {},
   "outputs": [],
   "source": [
    "## create df from a list python df"
   ]
  },
  {
   "cell_type": "code",
   "execution_count": null,
   "id": "33cc518b",
   "metadata": {},
   "outputs": [],
   "source": [
    "import pandas as pd\n",
    " \n",
    "# list of strings\n",
    "lst = ['Geeks', 'For', 'Geeks', 'is', 'portal', 'for', 'Geeks']\n",
    " \n",
    "# Calling DataFrame constructor on list\n",
    "# with indices and columns specified\n",
    "df = pd.DataFrame(lst, index =['a', 'b', 'c', 'd', 'e', 'f', 'g'],\n",
    "                                              columns =['Names'])\n",
    "df"
   ]
  },
  {
   "cell_type": "code",
   "execution_count": null,
   "id": "e9849719",
   "metadata": {},
   "outputs": [],
   "source": [
    "import pandas as pd\n",
    " \n",
    "# list of strings\n",
    "lst = ['Geeks', 'For', 'Geeks', 'is', 'portal', 'for', 'Geeks']\n",
    " \n",
    "# Calling DataFrame constructor on list\n",
    "# with indices and columns specified\n",
    "df = pd.DataFrame(data = lst,   columns =['Names']) # ok\n",
    "df = pd.DataFrame(lst,   columns =['Names'])\n",
    "df"
   ]
  },
  {
   "cell_type": "code",
   "execution_count": null,
   "id": "fc7611a2",
   "metadata": {},
   "outputs": [],
   "source": [
    "\n",
    "# import pandas as pd\n",
    "import pandas as pd\n",
    " \n",
    "# list of strings\n",
    "lst = ['Geeks', 'For', 'Geeks', 'is', 'portal', 'for', 'Geeks']\n",
    " \n",
    "# list of int\n",
    "lst2 = [11, 22, 33, 44, 55, 66, 77]\n",
    " \n",
    "# Calling DataFrame constructor after zipping\n",
    "# both lists, with columns specified\n",
    "df = pd.DataFrame(list(zip(lst, lst2)),\n",
    "               columns =['Name', 'val'])\n",
    "df"
   ]
  },
  {
   "cell_type": "markdown",
   "id": "8bdf86bd",
   "metadata": {},
   "source": [
    "## Different ways to iterate over rows in Pandas Dataframe\n",
    " - https://www.geeksforgeeks.org/different-ways-to-iterate-over-rows-in-pandas-dataframe/"
   ]
  },
  {
   "cell_type": "code",
   "execution_count": null,
   "id": "31f89266",
   "metadata": {},
   "outputs": [],
   "source": [
    "# import pandas package as pd\n",
    "import pandas as pd\n",
    " \n",
    "# Define a dictionary containing students data\n",
    "data = {'Name': ['Ankit', 'Amit',\n",
    "                 'Aishwarya', 'Priyanka'],\n",
    "        'Age': [21, 19, 20, 18],\n",
    "        'Stream': ['Math', 'Commerce',\n",
    "                   'Arts', 'Biology'],\n",
    "        'Percentage': [88, 92, 95, 70]}\n",
    " \n",
    "# Convert the dictionary into DataFrame\n",
    "df = pd.DataFrame(data, columns=['Name', 'Age', \n",
    "                                 'Stream', 'Percentage'])\n",
    " \n",
    "print(\"Given Dataframe :\\n\", df)\n",
    " \n",
    "print(\"\\nIterating over rows using index attribute :\\n\")\n",
    " \n",
    "# iterate through each row and select\n",
    "# 'Name' and 'Stream' column respectively.\n",
    "for ind in df.index:\n",
    "    print(df['Name'][ind], df['Stream'][ind])"
   ]
  },
  {
   "cell_type": "code",
   "execution_count": null,
   "id": "e51e729f",
   "metadata": {},
   "outputs": [],
   "source": [
    "\n",
    "# import pandas package as pd\n",
    "import pandas as pd\n",
    " \n",
    "# Define a dictionary containing students data\n",
    "data = {'Name': ['Ankit', 'Amit', \n",
    "                 'Aishwarya', 'Priyanka'],\n",
    "        'Age': [21, 19, 20, 18],\n",
    "        'Stream': ['Math', 'Commerce',\n",
    "                   'Arts', 'Biology'],\n",
    "        'Percentage': [88, 92, 95, 70]}\n",
    " \n",
    "# Convert the dictionary into DataFrame\n",
    "df = pd.DataFrame(data, columns=['Name', 'Age', \n",
    "                                 'Stream', 'Percentage'])\n",
    " \n",
    "print(\"Given Dataframe :\\n\", df)\n",
    " \n",
    "print(\"\\nIterating over rows using iterrows() method :\\n\")\n",
    " \n",
    "# iterate through each row and select\n",
    "# 'Name' and 'Age' column respectively.\n",
    "for index, row in df.iterrows():\n",
    "    print(row[\"Name\"], row[\"Age\"])"
   ]
  },
  {
   "cell_type": "code",
   "execution_count": null,
   "id": "9380bb71",
   "metadata": {},
   "outputs": [],
   "source": []
  }
 ],
 "metadata": {
  "kernelspec": {
   "display_name": "Python 3 (ipykernel)",
   "language": "python",
   "name": "python3"
  },
  "language_info": {
   "codemirror_mode": {
    "name": "ipython",
    "version": 3
   },
   "file_extension": ".py",
   "mimetype": "text/x-python",
   "name": "python",
   "nbconvert_exporter": "python",
   "pygments_lexer": "ipython3",
   "version": "3.10.9"
  }
 },
 "nbformat": 4,
 "nbformat_minor": 5
}
