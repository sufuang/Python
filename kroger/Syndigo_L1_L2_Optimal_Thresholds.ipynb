{
 "cells": [
  {
   "cell_type": "markdown",
   "id": "1efb782d",
   "metadata": {},
   "source": [
    "#  Syndigo_L1_L2_Optimal_Thresholds\n",
    " - module name: Syndigo_L1_L2_Optimal_Thresholds \n",
    " - input file \n",
    "    - l1_l2_unlabel_pred_map_W2vec_083023.csv \n",
    "    - L1_L2_syndigo_pred_tst_size0.3_082923.xlsx\n",
    "       - tab: W2vec_L1_L2_prd_tst_siz0.3_C100 with 'Source' = 'Test'"
   ]
  },
  {
   "cell_type": "code",
   "execution_count": 1,
   "id": "62671936",
   "metadata": {},
   "outputs": [],
   "source": [
    "import pandas as pd, numpy as np\n",
    "from datetime import date\n",
    "#pd.options.display.float_format = '{:20,.4f}'.format \n",
    "pd.set_option('display.float_format', lambda x: '%.7f' % x)\n"
   ]
  },
  {
   "cell_type": "code",
   "execution_count": 2,
   "id": "88eadaaa",
   "metadata": {},
   "outputs": [],
   "source": [
    "DBFS = \"/dbfs/FileStore/tables/OFFSHORE/\"\n",
    "DBFO = \"/dbfs/FileStore/tables/OFFSHORE/\"\n",
    "DBFM = \"/dbfs/FileStore/tables/MALLIK/\"\n",
    "DBFR = \"/dbfs/FileStore/tables/DATA_SCIENCE/\"\n",
    "path = 'C:\\\\users\\\\iny2819\\\\kroger\\\\Data\\\\'   \n",
    "DBFS = path\n",
    "DBFO = path\n",
    "DBFM = path\n",
    "DBFR = path\n"
   ]
  },
  {
   "cell_type": "code",
   "execution_count": 4,
   "id": "8227c4ec",
   "metadata": {},
   "outputs": [
    {
     "data": {
      "text/plain": [
       "(5012719, 1)"
      ]
     },
     "execution_count": 4,
     "metadata": {},
     "output_type": "execute_result"
    }
   ],
   "source": [
    "file = \"l1_l2_unlabel_pred_map_W2vec_083123.csv\"\n",
    "df_un_label  = pd.read_csv(DBFR + file )[['Scores']]\n",
    "df_un_label.shape "
   ]
  },
  {
   "cell_type": "code",
   "execution_count": 5,
   "id": "65d8165b",
   "metadata": {},
   "outputs": [
    {
     "data": {
      "text/plain": [
       "(259039, 19)"
      ]
     },
     "execution_count": 5,
     "metadata": {},
     "output_type": "execute_result"
    }
   ],
   "source": [
    "file = \"L1_L2_syndigo_pred_tst_size0.3_083123.xlsx\"\n",
    "df_label  = pd.read_excel(DBFR + file, sheet_name = 'W2vec_L1_L2_prd_tst_siz0.3_C100')\n",
    "df_label.shape "
   ]
  },
  {
   "cell_type": "code",
   "execution_count": 6,
   "id": "1af11115",
   "metadata": {},
   "outputs": [
    {
     "data": {
      "text/html": [
       "<div>\n",
       "<style scoped>\n",
       "    .dataframe tbody tr th:only-of-type {\n",
       "        vertical-align: middle;\n",
       "    }\n",
       "\n",
       "    .dataframe tbody tr th {\n",
       "        vertical-align: top;\n",
       "    }\n",
       "\n",
       "    .dataframe thead th {\n",
       "        text-align: right;\n",
       "    }\n",
       "</style>\n",
       "<table border=\"1\" class=\"dataframe\">\n",
       "  <thead>\n",
       "    <tr style=\"text-align: right;\">\n",
       "      <th></th>\n",
       "      <th>Scores</th>\n",
       "    </tr>\n",
       "  </thead>\n",
       "  <tbody>\n",
       "    <tr>\n",
       "      <th>0</th>\n",
       "      <td>0.9753178</td>\n",
       "    </tr>\n",
       "    <tr>\n",
       "      <th>1</th>\n",
       "      <td>0.9430711</td>\n",
       "    </tr>\n",
       "    <tr>\n",
       "      <th>2</th>\n",
       "      <td>0.9785445</td>\n",
       "    </tr>\n",
       "    <tr>\n",
       "      <th>3</th>\n",
       "      <td>0.7973340</td>\n",
       "    </tr>\n",
       "    <tr>\n",
       "      <th>4</th>\n",
       "      <td>0.8755206</td>\n",
       "    </tr>\n",
       "  </tbody>\n",
       "</table>\n",
       "</div>"
      ],
      "text/plain": [
       "     Scores\n",
       "0 0.9753178\n",
       "1 0.9430711\n",
       "2 0.9785445\n",
       "3 0.7973340\n",
       "4 0.8755206"
      ]
     },
     "execution_count": 6,
     "metadata": {},
     "output_type": "execute_result"
    }
   ],
   "source": [
    "df = df_label[df_label['Source'] == \"Test\"][[\"Scores\"]]  # series\n",
    "\n",
    "df.head()"
   ]
  },
  {
   "cell_type": "code",
   "execution_count": 7,
   "id": "e6f86564",
   "metadata": {},
   "outputs": [
    {
     "name": "stdout",
     "output_type": "stream",
     "text": [
      "threshold = 0.5 accuracy = 0.9140930615606342 not_require_vad_ratio 0.6706767325277958            require_vad_ratio 0.3293232674722042 not_require_vad_cnt  3361914  require_vad_cnt  1650805 \n",
      "threshold = 0.6 accuracy = 0.8608065678402306 not_require_vad_ratio 0.5763987568423444            require_vad_ratio 0.42360124315765557 not_require_vad_cnt  2889325  require_vad_cnt  2123394 \n",
      "threshold = 0.7 accuracy = 0.8034409100267655 not_require_vad_ratio 0.48954389823167827            require_vad_ratio 0.5104561017683218 not_require_vad_cnt  2453946  require_vad_cnt  2558773 \n",
      "threshold = 0.75 accuracy = 0.7685814288655549 not_require_vad_ratio 0.44525396296899944            require_vad_ratio 0.5547460370310006 not_require_vad_cnt  2231933  require_vad_cnt  2780786 \n",
      "threshold = 0.8 accuracy = 0.7285232653901585 not_require_vad_ratio 0.3956010699981387            require_vad_ratio 0.6043989300018613 not_require_vad_cnt  1983037  require_vad_cnt  3029682 \n",
      "threshold = 0.85 accuracy = 0.6785181181799465 not_require_vad_ratio 0.3471914144798462            require_vad_ratio 0.6528085855201539 not_require_vad_cnt  1740373  require_vad_cnt  3272346 \n"
     ]
    }
   ],
   "source": [
    "\n",
    "l_threshold = [0.5, 0.6, 0.7, 0.75, 0.8, 0.85]\n",
    "l_accuracy = []\n",
    "for threshold in l_threshold:\n",
    "    accuracy = len(df[df.Scores >= threshold])/len(df)\n",
    "    not_require_vad_ratio =  len(df_un_label[df_un_label.Scores >= threshold])/len(df_un_label)\n",
    "    require_vad_ratio     =  len(df_un_label[df_un_label.Scores <  threshold])/len(df_un_label)    \n",
    "    not_require_vad_cnt   =  len(df_un_label[df_un_label.Scores >= threshold])\n",
    "    require_vad_cnt       =  len(df_un_label[df_un_label.Scores <  threshold]) \n",
    "    l_accuracy.append([threshold, accuracy, not_require_vad_ratio, require_vad_ratio, not_require_vad_cnt, require_vad_cnt]) \n",
    "    print(f'threshold = {threshold} accuracy = { accuracy} not_require_vad_ratio {not_require_vad_ratio } \\\n",
    "           require_vad_ratio {require_vad_ratio} not_require_vad_cnt  {not_require_vad_cnt}  require_vad_cnt  {require_vad_cnt} ') \n",
    "#df[df.Scores >= threshold]['Scores'].value_counts()/len(df[df.Preds >= threshold])}"
   ]
  },
  {
   "cell_type": "code",
   "execution_count": 8,
   "id": "80036741",
   "metadata": {},
   "outputs": [],
   "source": [
    "df_accuracy = pd.DataFrame(l_accuracy,  columns = ['threshold', 'accuracy', 'not_require_vad_ratio', 'require_vad_ratio', 'not_require_vad_cnt', 'require_vad_cnt'] )\n",
    "dte = date.today().strftime('%m%d%y')\n",
    "file = f\"label_accuracy_unlbel_validation_C100_W2vec_tsize0.3_{dte}.csv\"\n",
    "df_accuracy.to_csv(DBFR + file , index=None)"
   ]
  },
  {
   "cell_type": "code",
   "execution_count": 9,
   "id": "48560498",
   "metadata": {},
   "outputs": [
    {
     "ename": "NameError",
     "evalue": "name 'stop' is not defined",
     "output_type": "error",
     "traceback": [
      "\u001b[1;31m---------------------------------------------------------------------------\u001b[0m",
      "\u001b[1;31mNameError\u001b[0m                                 Traceback (most recent call last)",
      "Cell \u001b[1;32mIn[9], line 1\u001b[0m\n\u001b[1;32m----> 1\u001b[0m \u001b[43mstop\u001b[49m\n",
      "\u001b[1;31mNameError\u001b[0m: name 'stop' is not defined"
     ]
    }
   ],
   "source": [
    "stop"
   ]
  },
  {
   "cell_type": "code",
   "execution_count": null,
   "id": "a68ed7fd",
   "metadata": {},
   "outputs": [],
   "source": [
    "df_lable.columns"
   ]
  },
  {
   "cell_type": "code",
   "execution_count": null,
   "id": "0ddf7a45",
   "metadata": {},
   "outputs": [],
   "source": []
  }
 ],
 "metadata": {
  "kernelspec": {
   "display_name": "Python 3 (ipykernel)",
   "language": "python",
   "name": "python3"
  },
  "language_info": {
   "codemirror_mode": {
    "name": "ipython",
    "version": 3
   },
   "file_extension": ".py",
   "mimetype": "text/x-python",
   "name": "python",
   "nbconvert_exporter": "python",
   "pygments_lexer": "ipython3",
   "version": "3.10.9"
  }
 },
 "nbformat": 4,
 "nbformat_minor": 5
}
