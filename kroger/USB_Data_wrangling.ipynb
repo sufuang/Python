{
 "cells": [
  {
   "cell_type": "markdown",
   "id": "14d3ebfe",
   "metadata": {},
   "source": [
    "# INFOSYS_POPULATION Data Wrangling\n",
    " - Replace missing value with 'N' for\n",
    "   - Scored_Rec_Decision          \n",
    "   - Scored_Flag                   \n",
    "   - Elan_Flag                     \n",
    "   - CLI_or_New_Prod_Flag          \n",
    "   - Financial_Template_Found_Flag\n",
    "\n",
    " -  Create derived variables \n",
    "    - Yer : Year derived from 'Revw_Month'\n",
    "    - Qty : Quarter derived from 'Revw_Quarter'\n",
    "    - Mth : Month derived from 'Revw_Month'\n",
    "    - ElRmFl_ind: Indicator if 'Existing_Limit' + 'Request_Amount' = 'Final_Limit'\n",
    "    - card_overlay: Indicator if  (One_Card > 0 ) & ( Corporate_Card > 0  or Purchasing_Card > 0))\n",
    "    - cmb_flg: Combination of 'Decision' and 'Scored_Rec_Decision'\n"
   ]
  },
  {
   "cell_type": "code",
   "execution_count": 1,
   "id": "8a4cb352",
   "metadata": {},
   "outputs": [],
   "source": [
    "import pandas as pd\n",
    "import numpy as np\n",
    "from pandas import ExcelWriter\n",
    "import matplotlib.pyplot as plt\n",
    "\n",
    "from pandas.api.types import is_numeric_dtype\n",
    "\n",
    "from Features import *\n",
    "from AttributeRelevance import *"
   ]
  },
  {
   "cell_type": "code",
   "execution_count": 2,
   "id": "68f238b9",
   "metadata": {},
   "outputs": [],
   "source": [
    "pd.options.display.float_format = '{:,.4f}'.format\n",
    "pd.set_option('display.max_columns', None)  "
   ]
  },
  {
   "cell_type": "code",
   "execution_count": 3,
   "id": "f01933b3",
   "metadata": {},
   "outputs": [],
   "source": [
    "vc = lambda df, feature: df[feature].value_counts(dropna = False)/len(df)\n",
    "vu = lambda df, fea: len(df[fea].unique())"
   ]
  },
  {
   "cell_type": "code",
   "execution_count": 4,
   "id": "e6b558f1",
   "metadata": {},
   "outputs": [],
   "source": [
    "def cr_dfa (df, df_var_dsc):\n",
    "    \"\"\"\n",
    "    Purpose:\n",
    "      Create 3  dataframe  \n",
    "        - da1: get data type\n",
    "        - da2: get null value count\n",
    "        - da3: get ratio of null value count\n",
    "      create dfa  by concating da1, da2, da3 with axis = 1 (column)\n",
    "    Parameter\n",
    "     input \n",
    "      df : df to be analyzed\n",
    "      df_var_dsc: df ffor variable description\n",
    "     output \n",
    "      dfa : dataframe for analyzed result    \n",
    "    \"\"\"\n",
    "    \n",
    "    # get data types$\n",
    "    da1 = df.dtypes.to_frame(name = 'dtype')\n",
    "     # get null value count\n",
    "    da2 = df.isnull().sum().to_frame(name = 'missing value')\n",
    "\n",
    "    # get ratio of null value count\n",
    "    sa3 = round(df.isnull().sum()/len(df) * 100, 3)\n",
    "    da3 = sa3.to_frame(name = 'Percent of missing value')\n",
    "    #da3 = da3.rename(columns={'index':'Variable'}, inplace = True)\n",
    "    dfa = pd.concat([da1, da2, da3, df_var_dsc], axis = 1)\n",
    "    return dfa"
   ]
  },
  {
   "cell_type": "code",
   "execution_count": 5,
   "id": "c99b19f3",
   "metadata": {},
   "outputs": [],
   "source": [
    "def unq_val(df, l_col):\n",
    "    \"\"\"\n",
    "    Purpose:\n",
    "      - Create dataframe to include  \n",
    "        - df0: keep feature name \n",
    "        - df1: get count for unique values from the feature\n",
    "        - df2: get ratio of count for unique values from the feature \n",
    "        - df3: Merge df1 and df2 \n",
    "      - Concating dfy, df0, df3 with axis = 0 \n",
    "    Parameter\n",
    "     input \n",
    "      df : df to be analyzed \n",
    "      l_col:  list of features\n",
    "     output \n",
    "      dfy : dataframe for the count of unique values and  ratio of unique values    \n",
    "    \"\"\"\n",
    "    dfy =  pd.DataFrame() \n",
    "    l_comment=[]\n",
    "    for fea in l_col:   \n",
    "       \n",
    "        if vu(df, fea) < 15:  \n",
    "           df0 = pd.DataFrame([[fea,'','', ' ']],columns=['feature','value','cnt','ratio_cnt'] )\n",
    "           df1 = df[fea].value_counts().to_frame(name = 'cnt').reset_index()\n",
    "           df1.rename(columns={'index':'value'}, inplace = True)\n",
    "           sd =  df[fea].value_counts()/len(df)\n",
    "           df2 = sd.to_frame(name='ratio_cnt').reset_index()\n",
    "           df2.rename(columns={'index':'value'}, inplace = True)\n",
    "           df3 = df1.merge(df2, on = 'value',how = 'inner')\n",
    "           dfy = pd.concat([dfy,  df0, df3], axis = 0)\n",
    "\n",
    "\n",
    "    return dfy  \n",
    "   "
   ]
  },
  {
   "cell_type": "markdown",
   "id": "b159de65",
   "metadata": {},
   "source": [
    "## Read variable description from xlsx file"
   ]
  },
  {
   "cell_type": "code",
   "execution_count": 6,
   "id": "5367b904",
   "metadata": {},
   "outputs": [
    {
     "data": {
      "text/html": [
       "<div>\n",
       "<style scoped>\n",
       "    .dataframe tbody tr th:only-of-type {\n",
       "        vertical-align: middle;\n",
       "    }\n",
       "\n",
       "    .dataframe tbody tr th {\n",
       "        vertical-align: top;\n",
       "    }\n",
       "\n",
       "    .dataframe thead th {\n",
       "        text-align: right;\n",
       "    }\n",
       "</style>\n",
       "<table border=\"1\" class=\"dataframe\">\n",
       "  <thead>\n",
       "    <tr style=\"text-align: right;\">\n",
       "      <th></th>\n",
       "      <th>Description</th>\n",
       "    </tr>\n",
       "    <tr>\n",
       "      <th>Variable</th>\n",
       "      <th></th>\n",
       "    </tr>\n",
       "  </thead>\n",
       "  <tbody>\n",
       "    <tr>\n",
       "      <th>Org_Struc_Desc</th>\n",
       "      <td>Organization Structure  Description</td>\n",
       "    </tr>\n",
       "    <tr>\n",
       "      <th>NAICS_Cd</th>\n",
       "      <td>The North American Industry Classification Sys...</td>\n",
       "    </tr>\n",
       "    <tr>\n",
       "      <th>NAICS_Desc</th>\n",
       "      <td>NAICS code description. e.g., Roofing Contractors</td>\n",
       "    </tr>\n",
       "    <tr>\n",
       "      <th>Revw_Id</th>\n",
       "      <td>Unique ID of the Credit Application</td>\n",
       "    </tr>\n",
       "    <tr>\n",
       "      <th>Revw_Month</th>\n",
       "      <td>Calendar month in which application was submit...</td>\n",
       "    </tr>\n",
       "    <tr>\n",
       "      <th>Revw_Quarter</th>\n",
       "      <td>Calendar quarter in which application was subm...</td>\n",
       "    </tr>\n",
       "    <tr>\n",
       "      <th>Decision</th>\n",
       "      <td>Final disposition on the application</td>\n",
       "    </tr>\n",
       "    <tr>\n",
       "      <th>Scored_Flag</th>\n",
       "      <td>'Y' if decision was automated, otherwise empt...</td>\n",
       "    </tr>\n",
       "    <tr>\n",
       "      <th>Elan_Flag</th>\n",
       "      <td>'Y' if cases sourced by indirect channel, oth...</td>\n",
       "    </tr>\n",
       "    <tr>\n",
       "      <th>CLI_or_New_Prod_Flag</th>\n",
       "      <td>'Y' if credit line limit or new product,  oth...</td>\n",
       "    </tr>\n",
       "    <tr>\n",
       "      <th>Channel</th>\n",
       "      <td>Chanel to submit application</td>\n",
       "    </tr>\n",
       "    <tr>\n",
       "      <th>Corporate_Card</th>\n",
       "      <td>Number of corporate card</td>\n",
       "    </tr>\n",
       "    <tr>\n",
       "      <th>Purchasing_Card</th>\n",
       "      <td>Number of purchasing card</td>\n",
       "    </tr>\n",
       "    <tr>\n",
       "      <th>One_Card</th>\n",
       "      <td>Number of corporate card</td>\n",
       "    </tr>\n",
       "    <tr>\n",
       "      <th>Other_NonBankCard</th>\n",
       "      <td>Number of Other_NonBankCard</td>\n",
       "    </tr>\n",
       "    <tr>\n",
       "      <th>Scored_Rec_Decision</th>\n",
       "      <td>NaN</td>\n",
       "    </tr>\n",
       "    <tr>\n",
       "      <th>SBFE_Score</th>\n",
       "      <td>Business Financial Exchange (SBFE) score helpi...</td>\n",
       "    </tr>\n",
       "    <tr>\n",
       "      <th>CC_Score</th>\n",
       "      <td>Consumer's Creditworthiness credit score\\n - B...</td>\n",
       "    </tr>\n",
       "    <tr>\n",
       "      <th>Financial_Template_Found_Flag</th>\n",
       "      <td>'Y' if the financial details of the case is a...</td>\n",
       "    </tr>\n",
       "    <tr>\n",
       "      <th>Existing_Limit</th>\n",
       "      <td>Credit limit of existing accounts</td>\n",
       "    </tr>\n",
       "    <tr>\n",
       "      <th>Request_Amount</th>\n",
       "      <td>Request amount</td>\n",
       "    </tr>\n",
       "    <tr>\n",
       "      <th>Final_Limit</th>\n",
       "      <td>Final Credit Limit after Application review</td>\n",
       "    </tr>\n",
       "  </tbody>\n",
       "</table>\n",
       "</div>"
      ],
      "text/plain": [
       "                                                                     Description\n",
       "Variable                                                                        \n",
       "Org_Struc_Desc                               Organization Structure  Description\n",
       "NAICS_Cd                       The North American Industry Classification Sys...\n",
       "NAICS_Desc                     NAICS code description. e.g., Roofing Contractors\n",
       "Revw_Id                                      Unique ID of the Credit Application\n",
       "Revw_Month                     Calendar month in which application was submit...\n",
       "Revw_Quarter                   Calendar quarter in which application was subm...\n",
       "Decision                                   Final disposition on the application \n",
       "Scored_Flag                     'Y' if decision was automated, otherwise empt...\n",
       "Elan_Flag                       'Y' if cases sourced by indirect channel, oth...\n",
       "CLI_or_New_Prod_Flag            'Y' if credit line limit or new product,  oth...\n",
       "Channel                                             Chanel to submit application\n",
       "Corporate_Card                                          Number of corporate card\n",
       "Purchasing_Card                                        Number of purchasing card\n",
       "One_Card                                                Number of corporate card\n",
       "Other_NonBankCard                                    Number of Other_NonBankCard\n",
       "Scored_Rec_Decision                                                          NaN\n",
       "SBFE_Score                     Business Financial Exchange (SBFE) score helpi...\n",
       "CC_Score                       Consumer's Creditworthiness credit score\\n - B...\n",
       "Financial_Template_Found_Flag   'Y' if the financial details of the case is a...\n",
       "Existing_Limit                                 Credit limit of existing accounts\n",
       "Request_Amount                                                    Request amount\n",
       "Final_Limit                          Final Credit Limit after Application review"
      ]
     },
     "execution_count": 6,
     "metadata": {},
     "output_type": "execute_result"
    }
   ],
   "source": [
    "path = 'C:\\\\Users\\\\sophia.yue\\\\Infosys\\\\Sandeep Project\\\\'\n",
    "df_lup  = pd.read_excel(path + \"usb_variable_description.xlsx\", sheet_name = 'Variable description', engine = 'openpyxl' )\n",
    "l_key = df_lup['Variable'].tolist()\n",
    "l_var = df_lup['Description'].tolist()\n",
    "d_var_dsc = dict(zip(l_key, l_var))               \n",
    "d_var_dsc['NAICS_Cd']\n",
    "df_lup.set_index('Variable', inplace = True) # Set Variable as index\n",
    "df_lup\n",
    "#d_var_dsc"
   ]
  },
  {
   "cell_type": "markdown",
   "id": "c981d4ab",
   "metadata": {},
   "source": [
    "## Read data from xlsx file"
   ]
  },
  {
   "cell_type": "code",
   "execution_count": 7,
   "id": "4db0502e",
   "metadata": {},
   "outputs": [
    {
     "data": {
      "text/html": [
       "<div>\n",
       "<style scoped>\n",
       "    .dataframe tbody tr th:only-of-type {\n",
       "        vertical-align: middle;\n",
       "    }\n",
       "\n",
       "    .dataframe tbody tr th {\n",
       "        vertical-align: top;\n",
       "    }\n",
       "\n",
       "    .dataframe thead th {\n",
       "        text-align: right;\n",
       "    }\n",
       "</style>\n",
       "<table border=\"1\" class=\"dataframe\">\n",
       "  <thead>\n",
       "    <tr style=\"text-align: right;\">\n",
       "      <th></th>\n",
       "      <th>0</th>\n",
       "      <th>1</th>\n",
       "      <th>2</th>\n",
       "    </tr>\n",
       "  </thead>\n",
       "  <tbody>\n",
       "    <tr>\n",
       "      <th>Org_Struc_Desc</th>\n",
       "      <td>Corporation</td>\n",
       "      <td>Partnership</td>\n",
       "      <td>Non-Profit</td>\n",
       "    </tr>\n",
       "    <tr>\n",
       "      <th>NAICS_Cd</th>\n",
       "      <td>238160</td>\n",
       "      <td>621210</td>\n",
       "      <td>813319</td>\n",
       "    </tr>\n",
       "    <tr>\n",
       "      <th>NAICS_Desc</th>\n",
       "      <td>Roofing Contractors</td>\n",
       "      <td>Offices of Dentists</td>\n",
       "      <td>Other Social Advocacy Organizations</td>\n",
       "    </tr>\n",
       "    <tr>\n",
       "      <th>Revw_Id</th>\n",
       "      <td>117882</td>\n",
       "      <td>118031</td>\n",
       "      <td>119338</td>\n",
       "    </tr>\n",
       "    <tr>\n",
       "      <th>Revw_Month</th>\n",
       "      <td>2019/01</td>\n",
       "      <td>2019/01</td>\n",
       "      <td>2019/02</td>\n",
       "    </tr>\n",
       "    <tr>\n",
       "      <th>Revw_Quarter</th>\n",
       "      <td>2019/1</td>\n",
       "      <td>2019/1</td>\n",
       "      <td>2019/1</td>\n",
       "    </tr>\n",
       "    <tr>\n",
       "      <th>Decision</th>\n",
       "      <td>Approved</td>\n",
       "      <td>Declined</td>\n",
       "      <td>Approved</td>\n",
       "    </tr>\n",
       "    <tr>\n",
       "      <th>Scored_Flag</th>\n",
       "      <td>NaN</td>\n",
       "      <td>NaN</td>\n",
       "      <td>NaN</td>\n",
       "    </tr>\n",
       "    <tr>\n",
       "      <th>Elan_Flag</th>\n",
       "      <td>NaN</td>\n",
       "      <td>NaN</td>\n",
       "      <td>NaN</td>\n",
       "    </tr>\n",
       "    <tr>\n",
       "      <th>CLI_or_New_Prod_Flag</th>\n",
       "      <td>Y</td>\n",
       "      <td>Y</td>\n",
       "      <td>NaN</td>\n",
       "    </tr>\n",
       "    <tr>\n",
       "      <th>Channel</th>\n",
       "      <td>Commercial Banking</td>\n",
       "      <td>Commercial Banking</td>\n",
       "      <td>Community Banking</td>\n",
       "    </tr>\n",
       "    <tr>\n",
       "      <th>Corporate_Card</th>\n",
       "      <td>0</td>\n",
       "      <td>0</td>\n",
       "      <td>0</td>\n",
       "    </tr>\n",
       "    <tr>\n",
       "      <th>Purchasing_Card</th>\n",
       "      <td>0</td>\n",
       "      <td>0</td>\n",
       "      <td>0</td>\n",
       "    </tr>\n",
       "    <tr>\n",
       "      <th>One_Card</th>\n",
       "      <td>1</td>\n",
       "      <td>1</td>\n",
       "      <td>1</td>\n",
       "    </tr>\n",
       "    <tr>\n",
       "      <th>Other_NonBankCard</th>\n",
       "      <td>0</td>\n",
       "      <td>0</td>\n",
       "      <td>0</td>\n",
       "    </tr>\n",
       "    <tr>\n",
       "      <th>Scored_Rec_Decision</th>\n",
       "      <td>NaN</td>\n",
       "      <td>NaN</td>\n",
       "      <td>NaN</td>\n",
       "    </tr>\n",
       "    <tr>\n",
       "      <th>SBFE_Score</th>\n",
       "      <td>NaN</td>\n",
       "      <td>NaN</td>\n",
       "      <td>NaN</td>\n",
       "    </tr>\n",
       "    <tr>\n",
       "      <th>CC_Score</th>\n",
       "      <td>NaN</td>\n",
       "      <td>523.0000</td>\n",
       "      <td>560.0000</td>\n",
       "    </tr>\n",
       "    <tr>\n",
       "      <th>Financial_Template_Found_Flag</th>\n",
       "      <td>Y</td>\n",
       "      <td>Y</td>\n",
       "      <td>Y</td>\n",
       "    </tr>\n",
       "    <tr>\n",
       "      <th>Existing_Limit</th>\n",
       "      <td>85000</td>\n",
       "      <td>50000</td>\n",
       "      <td>0</td>\n",
       "    </tr>\n",
       "    <tr>\n",
       "      <th>Request_Amount</th>\n",
       "      <td>55000</td>\n",
       "      <td>50000</td>\n",
       "      <td>500000</td>\n",
       "    </tr>\n",
       "    <tr>\n",
       "      <th>Final_Limit</th>\n",
       "      <td>140000</td>\n",
       "      <td>50000</td>\n",
       "      <td>500000</td>\n",
       "    </tr>\n",
       "  </tbody>\n",
       "</table>\n",
       "</div>"
      ],
      "text/plain": [
       "                                                 0                    1  \\\n",
       "Org_Struc_Desc                         Corporation          Partnership   \n",
       "NAICS_Cd                                    238160               621210   \n",
       "NAICS_Desc                     Roofing Contractors  Offices of Dentists   \n",
       "Revw_Id                                     117882               118031   \n",
       "Revw_Month                                 2019/01              2019/01   \n",
       "Revw_Quarter                                2019/1               2019/1   \n",
       "Decision                                  Approved             Declined   \n",
       "Scored_Flag                                    NaN                  NaN   \n",
       "Elan_Flag                                      NaN                  NaN   \n",
       "CLI_or_New_Prod_Flag                             Y                    Y   \n",
       "Channel                         Commercial Banking   Commercial Banking   \n",
       "Corporate_Card                                   0                    0   \n",
       "Purchasing_Card                                  0                    0   \n",
       "One_Card                                         1                    1   \n",
       "Other_NonBankCard                                0                    0   \n",
       "Scored_Rec_Decision                            NaN                  NaN   \n",
       "SBFE_Score                                     NaN                  NaN   \n",
       "CC_Score                                       NaN             523.0000   \n",
       "Financial_Template_Found_Flag                    Y                    Y   \n",
       "Existing_Limit                               85000                50000   \n",
       "Request_Amount                               55000                50000   \n",
       "Final_Limit                                 140000                50000   \n",
       "\n",
       "                                                                 2  \n",
       "Org_Struc_Desc                                          Non-Profit  \n",
       "NAICS_Cd                                                    813319  \n",
       "NAICS_Desc                     Other Social Advocacy Organizations  \n",
       "Revw_Id                                                     119338  \n",
       "Revw_Month                                                 2019/02  \n",
       "Revw_Quarter                                                2019/1  \n",
       "Decision                                                  Approved  \n",
       "Scored_Flag                                                    NaN  \n",
       "Elan_Flag                                                      NaN  \n",
       "CLI_or_New_Prod_Flag                                           NaN  \n",
       "Channel                                          Community Banking  \n",
       "Corporate_Card                                                   0  \n",
       "Purchasing_Card                                                  0  \n",
       "One_Card                                                         1  \n",
       "Other_NonBankCard                                                0  \n",
       "Scored_Rec_Decision                                            NaN  \n",
       "SBFE_Score                                                     NaN  \n",
       "CC_Score                                                  560.0000  \n",
       "Financial_Template_Found_Flag                                    Y  \n",
       "Existing_Limit                                                   0  \n",
       "Request_Amount                                              500000  \n",
       "Final_Limit                                                 500000  "
      ]
     },
     "execution_count": 7,
     "metadata": {},
     "output_type": "execute_result"
    }
   ],
   "source": [
    "path = 'C:\\\\Users\\\\sophia.yue\\\\Infosys\\\\Sandeep Project\\\\'\n",
    "df = pd.read_excel(path + \"INFOSYS_POPULATION.xlsx\", sheet_name = 'INFOSYS_POPULATION', engine = 'openpyxl' )\n",
    "df.head(3).T"
   ]
  },
  {
   "cell_type": "markdown",
   "id": "2b86d4e9",
   "metadata": {},
   "source": [
    "## Get  df attribute before data wrangling"
   ]
  },
  {
   "cell_type": "code",
   "execution_count": 8,
   "id": "2e122a6d",
   "metadata": {},
   "outputs": [
    {
     "data": {
      "text/html": [
       "<div>\n",
       "<style scoped>\n",
       "    .dataframe tbody tr th:only-of-type {\n",
       "        vertical-align: middle;\n",
       "    }\n",
       "\n",
       "    .dataframe tbody tr th {\n",
       "        vertical-align: top;\n",
       "    }\n",
       "\n",
       "    .dataframe thead th {\n",
       "        text-align: right;\n",
       "    }\n",
       "</style>\n",
       "<table border=\"1\" class=\"dataframe\">\n",
       "  <thead>\n",
       "    <tr style=\"text-align: right;\">\n",
       "      <th></th>\n",
       "      <th>dtype</th>\n",
       "      <th>missing value</th>\n",
       "      <th>Percent of missing value</th>\n",
       "      <th>Description</th>\n",
       "    </tr>\n",
       "  </thead>\n",
       "  <tbody>\n",
       "    <tr>\n",
       "      <th>Org_Struc_Desc</th>\n",
       "      <td>object</td>\n",
       "      <td>0</td>\n",
       "      <td>0.0000</td>\n",
       "      <td>Organization Structure  Description</td>\n",
       "    </tr>\n",
       "    <tr>\n",
       "      <th>NAICS_Cd</th>\n",
       "      <td>int64</td>\n",
       "      <td>0</td>\n",
       "      <td>0.0000</td>\n",
       "      <td>The North American Industry Classification Sys...</td>\n",
       "    </tr>\n",
       "    <tr>\n",
       "      <th>NAICS_Desc</th>\n",
       "      <td>object</td>\n",
       "      <td>0</td>\n",
       "      <td>0.0000</td>\n",
       "      <td>NAICS code description. e.g., Roofing Contractors</td>\n",
       "    </tr>\n",
       "    <tr>\n",
       "      <th>Revw_Id</th>\n",
       "      <td>int64</td>\n",
       "      <td>0</td>\n",
       "      <td>0.0000</td>\n",
       "      <td>Unique ID of the Credit Application</td>\n",
       "    </tr>\n",
       "    <tr>\n",
       "      <th>Revw_Month</th>\n",
       "      <td>object</td>\n",
       "      <td>0</td>\n",
       "      <td>0.0000</td>\n",
       "      <td>Calendar month in which application was submit...</td>\n",
       "    </tr>\n",
       "  </tbody>\n",
       "</table>\n",
       "</div>"
      ],
      "text/plain": [
       "                 dtype  missing value  Percent of missing value  \\\n",
       "Org_Struc_Desc  object              0                    0.0000   \n",
       "NAICS_Cd         int64              0                    0.0000   \n",
       "NAICS_Desc      object              0                    0.0000   \n",
       "Revw_Id          int64              0                    0.0000   \n",
       "Revw_Month      object              0                    0.0000   \n",
       "\n",
       "                                                      Description  \n",
       "Org_Struc_Desc                Organization Structure  Description  \n",
       "NAICS_Cd        The North American Industry Classification Sys...  \n",
       "NAICS_Desc      NAICS code description. e.g., Roofing Contractors  \n",
       "Revw_Id                       Unique ID of the Credit Application  \n",
       "Revw_Month      Calendar month in which application was submit...  "
      ]
     },
     "execution_count": 8,
     "metadata": {},
     "output_type": "execute_result"
    }
   ],
   "source": [
    "dfa_b = cr_dfa (df, df_lup)\n",
    "dfa_b.head()"
   ]
  },
  {
   "cell_type": "markdown",
   "id": "899e64fb",
   "metadata": {},
   "source": [
    "## Get count of unique values before data wrangling\n",
    "  - Invoke unq_val to crearte a dataframe to keep to keep\n",
    "    - count unique value\n",
    "    - Ratio of count unique value"
   ]
  },
  {
   "cell_type": "code",
   "execution_count": 9,
   "id": "089a3290",
   "metadata": {},
   "outputs": [],
   "source": [
    "df_val_b = unq_val(df, df.columns)\n"
   ]
  },
  {
   "cell_type": "markdown",
   "id": "0e5f366f",
   "metadata": {},
   "source": [
    "## Data Wrangling"
   ]
  },
  {
   "cell_type": "code",
   "execution_count": 10,
   "id": "877f64e8",
   "metadata": {},
   "outputs": [],
   "source": [
    "df['Scored_Rec_Decision'].replace(np.NaN,  'Declined', inplace  = True) \n",
    "df['Scored_Flag'].replace(np.NaN, 'N',  inplace  = True)\n",
    "df['Elan_Flag'].replace(np.NaN,'N', inplace  = True)\n",
    "df['CLI_or_New_Prod_Flag'].replace(np.NaN,'N', inplace  = True )\n",
    "df['Financial_Template_Found_Flag'].replace(np.NaN,  'N', inplace  = True)\n",
    "\n",
    "# Create new fields \n",
    "#df['Yer']= list( map(lambda str : int(str.split('/')[0]), df['Revw_Month']))\n",
    "#df['Qty']= list( map(lambda str : int(str.split('/')[1]), df['Revw_Quarter']))\n",
    "#df['Mth']= list( map(lambda str : int(str.split('/')[1]), df['Revw_Month']))\n",
    "#df['ElRmFl_ind']  = (df['Existing_Limit'] + df['Request_Amount']) == df['Final_Limit']\n",
    "#df['card_overlay'] = (df.One_Card > 0 ) & (( df.Corporate_Card > 0 ) | (df.Purchasing_Card > 0))\n",
    "#df['cmb_flg']= list( map(lambda str1, str2 : str1[0:1] + str2[0:1], df['Decision'],df['Scored_Rec_Decision']))\n"
   ]
  },
  {
   "cell_type": "markdown",
   "id": "1468311d",
   "metadata": {},
   "source": [
    "## Rearrange column name"
   ]
  },
  {
   "cell_type": "code",
   "execution_count": 11,
   "id": "b8f49923",
   "metadata": {},
   "outputs": [],
   "source": [
    "#new_idx = [ 'Revw_Month','Yer', 'Mth', 'Revw_Quarter','Qty', \n",
    "#           'Org_Struc_Desc', 'NAICS_Cd', 'NAICS_Desc', 'Revw_Id',\n",
    "#        'Scored_Flag', 'Elan_Flag',\n",
    "#       'CLI_or_New_Prod_Flag', 'Channel', 'Corporate_Card', 'Purchasing_Card',\n",
    "#       'One_Card', 'card_overlay', 'Other_NonBankCard', 'SBFE_Score',\n",
    "#       'CC_Score', 'Financial_Template_Found_Flag', 'Existing_Limit',\n",
    "#       'Request_Amount', 'Final_Limit','ElRmFl_ind', 'Decision',  'Scored_Rec_Decision', 'cmb_flg', ]\n",
    "#df = df.reindex(columns = new_idx)\n",
    "#df.head(3).T"
   ]
  },
  {
   "cell_type": "markdown",
   "id": "eb87fe8a",
   "metadata": {},
   "source": [
    "## Get  df attribute after data wrangling"
   ]
  },
  {
   "cell_type": "code",
   "execution_count": 12,
   "id": "caf6f4ee",
   "metadata": {},
   "outputs": [
    {
     "ename": "NameError",
     "evalue": "name 'dfa' is not defined",
     "output_type": "error",
     "traceback": [
      "\u001b[1;31m---------------------------------------------------------------------------\u001b[0m",
      "\u001b[1;31mNameError\u001b[0m                                 Traceback (most recent call last)",
      "\u001b[1;32m<ipython-input-12-16c65c61c60a>\u001b[0m in \u001b[0;36m<module>\u001b[1;34m\u001b[0m\n\u001b[1;32m----> 1\u001b[1;33m \u001b[0mdfa_a\u001b[0m \u001b[1;33m=\u001b[0m \u001b[0mdfa\u001b[0m \u001b[1;33m(\u001b[0m\u001b[0mdf\u001b[0m\u001b[1;33m)\u001b[0m\u001b[1;33m\u001b[0m\u001b[1;33m\u001b[0m\u001b[0m\n\u001b[0m\u001b[0;32m      2\u001b[0m \u001b[0mdfa_a\u001b[0m\u001b[1;33m\u001b[0m\u001b[1;33m\u001b[0m\u001b[0m\n",
      "\u001b[1;31mNameError\u001b[0m: name 'dfa' is not defined"
     ]
    }
   ],
   "source": [
    "dfa_a = dfa (df)\n",
    "dfa_a"
   ]
  },
  {
   "cell_type": "markdown",
   "id": "63476799",
   "metadata": {},
   "source": [
    "## Get count of unique values after data warangling \n",
    " - Invoke unq_val to crearte a dataframe to keep to keep     \n",
    "    - count unique value \n",
    "    - Ratio of count unique value "
   ]
  },
  {
   "cell_type": "code",
   "execution_count": 14,
   "id": "9c33e7b3",
   "metadata": {},
   "outputs": [],
   "source": [
    "l_col = df.columns\n",
    "#l_col_eli = ['Mth', 'Qty']\n",
    "#l_col = [ elm for elm in l_col if elm not in l_col_eli]\n",
    "df_val_a = unq_val(df, l_col)"
   ]
  },
  {
   "cell_type": "markdown",
   "id": "84d25d08",
   "metadata": {},
   "source": [
    "## Save the dataframes into excel"
   ]
  },
  {
   "cell_type": "code",
   "execution_count": 15,
   "id": "524a242e",
   "metadata": {},
   "outputs": [],
   "source": [
    "path_file = 'C:\\\\Users\\\\sophia.yue\\\\Infosys\\\\Sandeep Project\\\\INFOSYS_POPULATION_yue_22sep22.xlsx'\n",
    "writer = pd.ExcelWriter(path_file)\n",
    "\n",
    "df.to_excel(writer, sheet_name = 'INFOSYS_POPULATION_new', index = False )\n",
    "dfa_b.to_excel(writer, sheet_name = 'vbr attri before data wrangle', index = True )\n",
    "#df_val_b.to_excel(writer, sheet_name = 'vbr unq val before data wrangle', index = False )\n",
    "#dfa_a.to_excel(writer, sheet_name = 'vbr attri after data wrangle', index = True )\n",
    "df_val_a.to_excel(writer, sheet_name = 'vbr unq val after data wrangle', index = False )\n",
    "writer.save()"
   ]
  },
  {
   "cell_type": "code",
   "execution_count": null,
   "id": "f4f7473e",
   "metadata": {},
   "outputs": [],
   "source": [
    "stop"
   ]
  },
  {
   "cell_type": "code",
   "execution_count": null,
   "id": "bc89aace",
   "metadata": {},
   "outputs": [],
   "source": [
    "path_file = 'C:\\\\Users\\\\sophia.yue\\\\Infosys\\\\Sandeep Project\\\\INFOSYS_POPULATION_yue.csv'\n",
    "\n",
    "df.to_csv(path_file, index = False )"
   ]
  },
  {
   "cell_type": "code",
   "execution_count": null,
   "id": "be331536",
   "metadata": {},
   "outputs": [],
   "source": [
    "feats_dict = {}\n",
    "\n",
    "for col in [c for c in df.columns if c != 'Decision']:\n",
    "    if is_numeric_dtype(df[col]):\n",
    "        feats_dict[col] = ContinuousFeature(df, col)\n",
    "    else:\n",
    "        feats_dict[col] = CategoricalFeature(df, col)\n",
    "\n",
    "feats = list(feats_dict.values())"
   ]
  },
  {
   "cell_type": "code",
   "execution_count": null,
   "id": "60d6a814",
   "metadata": {},
   "outputs": [],
   "source": [
    "ar = AttributeRelevance()"
   ]
  },
  {
   "cell_type": "code",
   "execution_count": null,
   "id": "95ced0f3",
   "metadata": {},
   "outputs": [],
   "source": [
    "iv = IV()\n",
    "ar.bulk_iv(feats, iv).head()"
   ]
  },
  {
   "cell_type": "code",
   "execution_count": null,
   "id": "3b7fb77b",
   "metadata": {},
   "outputs": [],
   "source": [
    "df.groupby('Decision').agg({'Org_Struc_Desc': 'count'})"
   ]
  },
  {
   "cell_type": "code",
   "execution_count": null,
   "id": "3c34d35d",
   "metadata": {},
   "outputs": [],
   "source": [
    "df.groupby('Org_Struc_Desc').agg({'Decision': 'count'})"
   ]
  },
  {
   "cell_type": "code",
   "execution_count": null,
   "id": "e9300b9a",
   "metadata": {},
   "outputs": [],
   "source": [
    "df.groupby('Decision').agg('count')"
   ]
  },
  {
   "cell_type": "code",
   "execution_count": null,
   "id": "3892a579",
   "metadata": {},
   "outputs": [],
   "source": [
    "df.groupby('Yer').agg('sum')"
   ]
  },
  {
   "cell_type": "code",
   "execution_count": null,
   "id": "cee32061",
   "metadata": {},
   "outputs": [],
   "source": [
    "df.groupby('Yer').sum()"
   ]
  },
  {
   "cell_type": "code",
   "execution_count": null,
   "id": "5e8abcad",
   "metadata": {},
   "outputs": [],
   "source": [
    "df.groupby('Yer')['Org_Struc_Desc'].sum()"
   ]
  },
  {
   "cell_type": "code",
   "execution_count": null,
   "id": "3c80df40",
   "metadata": {},
   "outputs": [],
   "source": [
    "df.groupby(['Yer', 'Decision'])['Scored_Flag'].count()  # not include NaN"
   ]
  },
  {
   "cell_type": "code",
   "execution_count": null,
   "id": "5558181f",
   "metadata": {},
   "outputs": [],
   "source": [
    "df.groupby(['Yer', 'Decision'])['Scored_Flag'].size()  # include NaN"
   ]
  },
  {
   "cell_type": "code",
   "execution_count": null,
   "id": "4a3525c9",
   "metadata": {},
   "outputs": [],
   "source": [
    "2019  0           523\n",
    "      1           176\n",
    "2020  0           405\n",
    "      1           164\n",
    "2021  0           567\n",
    "      1           185\n",
    "2022  0           355\n",
    "      1           108\n",
    "    \n",
    "\t\n",
    "349\t523\n",
    "162\t176\n",
    "267\t405\n",
    "149\t164\n",
    "369\t567\n",
    "160\t185\n",
    "201\t355\n",
    "88\t108\n",
    "1745\t2483\n",
    "    "
   ]
  },
  {
   "cell_type": "code",
   "execution_count": null,
   "id": "a079cbd7",
   "metadata": {},
   "outputs": [],
   "source": [
    "vu = lambda df, fea: len(df[fea].unique())\n",
    "vu(df, 'Financial_Template_Found_Flag')"
   ]
  },
  {
   "cell_type": "code",
   "execution_count": null,
   "id": "8e61d0dd",
   "metadata": {},
   "outputs": [],
   "source": [
    "vc(df, 'Financial_Template_Found_Flag')"
   ]
  },
  {
   "cell_type": "code",
   "execution_count": null,
   "id": "8cec4448",
   "metadata": {},
   "outputs": [],
   "source": [
    "df['cmb_flg']= list( map(lambda str1, str2, str3 : str1[0:1] + str1[0:1] , \n",
    "                    df['Decision'],df['Scored_Rec_Decision']]))\n",
    "            "
   ]
  },
  {
   "cell_type": "code",
   "execution_count": null,
   "id": "a715e102",
   "metadata": {},
   "outputs": [],
   "source": [
    "df['cmb_flg'].head()"
   ]
  },
  {
   "cell_type": "code",
   "execution_count": null,
   "id": "53ac0e86",
   "metadata": {},
   "outputs": [],
   "source": [
    "df['ElRmFl_ind']  = (df['Existing_Limit'] + df['Request_Amount']) == df['Final_Limit']\n"
   ]
  },
  {
   "cell_type": "code",
   "execution_count": null,
   "id": "1763a851",
   "metadata": {},
   "outputs": [],
   "source": [
    "#df['card_overlay + df.Purchasing_Card\n",
    "# #df['card_overlay + df.Purchasing_Card\n",
    "#df[(df.One_Card > 0 ) & (( df.Corporate_Card > 0 ) | (df.Purchasing_Card > 0))].head()  # DF\n",
    "#(df.One_Card > 0 ) & (( df.Corporate_Card > 0 ) | (df.Purchasing_Card > 0))  #  False | True\n",
    "df['card_overlay'] = (df.One_Card > 0 ) & (( df.Corporate_Card > 0 ) | (df.Purchasing_Card > 0))\n",
    "\n",
    "# nw df[[(df['One_Ca#df['card_overlay + df.Purchasing_Cardrd'] > 0 ) & ( df['Corporate_Card'] > 0 | df['Purchasing_Card'] > 0)]] \n",
    "# (df['One_Card'] > 0 ) & ( df['Corporate_Card'] > 0 | df['Purchasing_Card'] > 0) \n",
    "#( (df['Corporate_Card'] > 0) | (df['Purchasing_Card'] > 0)) # work"
   ]
  },
  {
   "cell_type": "code",
   "execution_count": null,
   "id": "4c40284e",
   "metadata": {},
   "outputs": [],
   "source": [
    "s1 = vc(df, 'card_overlay')\n",
    "s1.head()\n"
   ]
  },
  {
   "cell_type": "code",
   "execution_count": null,
   "id": "9edae9df",
   "metadata": {},
   "outputs": [],
   "source": []
  },
  {
   "cell_type": "code",
   "execution_count": null,
   "id": "017bba94",
   "metadata": {
    "scrolled": true
   },
   "outputs": [],
   "source": [
    "l_col = ['Org_Struc_Desc','card_overlay']\n",
    "fea = 'card_overlay'\n",
    "df1 = df[fea].value_counts().to_frame(name = 'cnt')\n",
    "df2 = df[fea].value_counts()/len(df).to_frame(name='pct') \n",
    "#df3 = df1.merge(df2, on = 'Org_Struc_Desc',,how = 'inner )\n",
    "#df3.head()"
   ]
  },
  {
   "cell_type": "code",
   "execution_count": null,
   "id": "2f7075b3",
   "metadata": {},
   "outputs": [],
   "source": []
  },
  {
   "cell_type": "code",
   "execution_count": null,
   "id": "7b5fe3fc",
   "metadata": {},
   "outputs": [],
   "source": [
    "df0 = pd.DataFrame([[fea,'','']],columns=['value','cnt','pct_cnt'] )\n",
    "df0"
   ]
  },
  {
   "cell_type": "code",
   "execution_count": null,
   "id": "0dc14d3d",
   "metadata": {},
   "outputs": [],
   "source": [
    "df_val_a = unq_val(df, l_col)\n",
    "df_val_a "
   ]
  },
  {
   "cell_type": "code",
   "execution_count": null,
   "id": "0d127491",
   "metadata": {
    "scrolled": true
   },
   "outputs": [],
   "source": [
    "dfy =  pd.DataFrame()\n",
    "df['cmb_flg']= list( map(lambda str1, str2 : str1[0:1] + str2[0:1], df['Decision'],df['Scored_Rec_Decision']))\n",
    "\n",
    "for fea in l_col:  \n",
    "    #print(f' fea: {fea} vu(df, fea) {vu(df, fea)}')\n",
    "    if vu(df, fea) < 15:  \n",
    "       df0 = pd.DataFrame([[fea,'','']],columns=['value','cnt','pct_cnt'] )\n",
    "       df1 = df[fea].value_counts().to_frame(name = 'cnt').reset_index()\n",
    "       df1.rename(columns={'index':'value'}, inplace = True)\n",
    "       sd =  df[fea].value_counts()/len(df)\n",
    "       df2 = sd.to_frame(name='pct_cnt').reset_index()\n",
    "       df2.rename(columns={'index':'value'}, inplace = True)\n",
    "       df3 = df1.merge(df2, on = 'value',how = 'inner')\n",
    "       dfy = pd.concat([dfy,  df0, df3], axis = 0)\n",
    "dfy\n",
    "    "
   ]
  },
  {
   "cell_type": "code",
   "execution_count": null,
   "id": "d72c8c6d",
   "metadata": {},
   "outputs": [],
   "source": [
    "dfy =  pd.DataFrame()\n",
    "dfy = pd.concat([dfy, df0, df3], axis = 1)\n",
    "dfy"
   ]
  },
  {
   "cell_type": "code",
   "execution_count": null,
   "id": "d63ec622",
   "metadata": {},
   "outputs": [],
   "source": [
    "dfy =  pd.DataFrame()\n",
    "dfy = pd.concat([dfy, df0, df3], axis = 0)\n",
    "dfy"
   ]
  },
  {
   "cell_type": "code",
   "execution_count": null,
   "id": "dc321a18",
   "metadata": {},
   "outputs": [],
   "source": [
    "df3"
   ]
  },
  {
   "cell_type": "code",
   "execution_count": null,
   "id": "62984dbb",
   "metadata": {},
   "outputs": [],
   "source": [
    "pd.concat([df0, df3], axis = 0)"
   ]
  },
  {
   "cell_type": "code",
   "execution_count": null,
   "id": "c9945628",
   "metadata": {},
   "outputs": [],
   "source": [
    "def dfa (df):\n",
    "    # get data types$\n",
    "    da1 = df.dtypes.to_frame(name = 'dtype')\n",
    "     # get null value count\n",
    "    da2 = df.isnull().sum().to_frame(name = 'mval')\n",
    "\n",
    "    # get ratio of null value count\n",
    "    sa3 = df.isnull().sum()/len(df)\n",
    "    da3 = sa3.to_frame(name = 'rto_mval')\n",
    "    #da3 = da3.rename(columns={'index':'Variable'}, inplace = True)\n",
    "    dfa = pd.concat([da1, da2, da3], axis = 1)\n",
    "    return dfa"
   ]
  },
  {
   "cell_type": "code",
   "execution_count": null,
   "id": "6665b01a",
   "metadata": {},
   "outputs": [],
   "source": [
    "dfa = dfa (df)\n",
    "dfa"
   ]
  },
  {
   "cell_type": "code",
   "execution_count": null,
   "id": "6249d47a",
   "metadata": {},
   "outputs": [],
   "source": [
    "da1 = df.dtypes.to_frame(name = 'dtype').reset_index()\n",
    "#da1.rename(columns={'index':'Variable'}, inplace = True) \n",
    "\n",
    "da2 = df.isnull().sum().to_frame(name = 'mis').reset_index()\n",
    "#da2.rename(columns={'index':'Variable'}, inplace = True)\n",
    "\n",
    "#type(df.dtypes)\n",
    "\n",
    "sa3 = df.isnull().sum()/len(df)\n",
    "da3 = sa3.to_frame(name = 'pct_mis').reset_index()\n",
    "#da3 = da3.rename(columns={'index':'Variable'}, inplace = True)\n",
    "da4 = pd.concat([da1, da2, da3], axis = 1)\n",
    "da4"
   ]
  },
  {
   "cell_type": "code",
   "execution_count": null,
   "id": "991e1d3f",
   "metadata": {
    "scrolled": true
   },
   "outputs": [],
   "source": [
    "#df2 = pd.DataFrame([vc(df, feature) for feature in df.columns], columns=['Variable', 'count'])\n",
    "df2 = df.isnull().sum().to_frame(name = 'mis').reset_index()\n",
    "da2.rename(columns={'index':'Variable'}, inplace = True)\n",
    "df2"
   ]
  },
  {
   "cell_type": "code",
   "execution_count": null,
   "id": "77db1be9",
   "metadata": {},
   "outputs": [],
   "source": [
    "sf3 = df.isnull().sum()/len(df)\n",
    "df3 = sf3.to_frame(name = 'pct_mis').reset_index()\n",
    "df3.rename(columns={'index':'Variable'}, inplace = True)\n",
    "df3"
   ]
  },
  {
   "cell_type": "code",
   "execution_count": null,
   "id": "d863b1bb",
   "metadata": {},
   "outputs": [],
   "source": [
    "#[vc(df, feature) for feature in df.columns]\n",
    "s = df.isnull().sum()"
   ]
  },
  {
   "cell_type": "code",
   "execution_count": null,
   "id": "44c77349",
   "metadata": {},
   "outputs": [],
   "source": [
    "df.count()"
   ]
  },
  {
   "cell_type": "code",
   "execution_count": null,
   "id": "6958acd7",
   "metadata": {},
   "outputs": [],
   "source": [
    "d_var_dsc"
   ]
  },
  {
   "cell_type": "code",
   "execution_count": null,
   "id": "5962e5c9",
   "metadata": {},
   "outputs": [],
   "source": [
    "dfa_b\n"
   ]
  },
  {
   "cell_type": "code",
   "execution_count": null,
   "id": "bb2b4d9f",
   "metadata": {},
   "outputs": [],
   "source": [
    "path_file = 'C:\\\\Users\\\\sophia.yue\\\\Infosys\\\\Sandeep Project\\\\test.xlsx'\n",
    "writer = pd.ExcelWriter(path_file)\n",
    "\n",
    "dfa_b.to_excel(writer, sheet_name = 'variables', index = True )\n",
    "\n",
    "writer.save()"
   ]
  },
  {
   "cell_type": "code",
   "execution_count": null,
   "id": "9f6fde81",
   "metadata": {},
   "outputs": [],
   "source": [
    "df_val_a "
   ]
  },
  {
   "cell_type": "code",
   "execution_count": null,
   "id": "c75cf770",
   "metadata": {},
   "outputs": [],
   "source": [
    "dfy =  pd.DataFrame()   \n",
    "l_col =['Org_Struc_Desc']\n",
    "for fea in l_col:        \n",
    "    if vu(df, fea) < 15:  \n",
    "       df0 = pd.DataFrame([[fea,'','', ' ']],columns=['feature','value','cnt','ratio_cnt'] )\n",
    "       df1 = df[fea].value_counts().to_frame(name = 'cnt').reset_index()\n",
    "       df1.rename(columns={'index':'value'}, inplace = True)\n",
    "       sd =  df[fea].value_counts()/len(df)\n",
    "       df2 = sd.to_frame(name='ratio_cnt').reset_index()\n",
    "       df2.rename(columns={'index':'value'}, inplace = True)\n",
    "       df3 = df1.merge(df2, on = 'value',how = 'inner')\n",
    "       dfy = pd.concat([dfy,  df0, df3], axis = 0)"
   ]
  },
  {
   "cell_type": "code",
   "execution_count": null,
   "id": "5d80264e",
   "metadata": {},
   "outputs": [],
   "source": [
    "comment= ''\n",
    "l_comment=[]\n",
    "fea = 'Org_Struc_Desc'\n",
    "for index, row in df3.iterrows():\n",
    "    #if row['value'] != '':\n",
    "    comment = comment + row['value'] + f\" ({row['ratio_cnt']:.2%})\" +', '    \n",
    "       #comment = comment + f'row['ratio_cnt'] + ', '\n",
    "l_comment.append([fea, comment[0:-2]]) \n",
    "l_comment"
   ]
  },
  {
   "cell_type": "code",
   "execution_count": null,
   "id": "0e25c324",
   "metadata": {},
   "outputs": [],
   "source": [
    "pd.DataFrame(l_comment, columns = ['fea', 'note']) "
   ]
  },
  {
   "cell_type": "code",
   "execution_count": null,
   "id": "0e3b292e",
   "metadata": {},
   "outputs": [],
   "source": [
    "df3"
   ]
  },
  {
   "cell_type": "code",
   "execution_count": null,
   "id": "31a64ce3",
   "metadata": {},
   "outputs": [],
   "source": [
    "path_file = 'C:\\\\Users\\\\sophia.yue\\\\Infosys\\\\Sandeep Project\\\\usb_val.xlsx'\n",
    "writer = pd.ExcelWriter(path_file)\n",
    "\n",
    "df_val_a.to_excel(writer, sheet_name = 'variables', index = True )\n",
    "writer.save()"
   ]
  },
  {
   "cell_type": "code",
   "execution_count": null,
   "id": "6c8ad845",
   "metadata": {},
   "outputs": [],
   "source": [
    "dfa_b "
   ]
  },
  {
   "cell_type": "code",
   "execution_count": null,
   "id": "888f5426",
   "metadata": {},
   "outputs": [],
   "source": [
    "dfy =  pd.DataFrame() \n",
    "l_comment=[]\n",
    "for fea in df.columns:   \n",
    "    print(f'fea {fea}')\n",
    "    if vu(df, fea) < 15:  \n",
    "       df0 = pd.DataFrame([[fea,'','', ' ']],columns=['feature','value','cnt','ratio_cnt'] )\n",
    "       df1 = df[fea].value_counts().to_frame(name = 'cnt').reset_index()\n",
    "       df1.rename(columns={'index':'value'}, inplace = True)\n",
    "       sd =  df[fea].value_counts()/len(df)\n",
    "       df2 = sd.to_frame(name='ratio_cnt').reset_index()\n",
    "       df2.rename(columns={'index':'value'}, inplace = True)\n",
    "       df3 = df1.merge(df2, on = 'value',how = 'inner')\n",
    "       dfy = pd.concat([dfy,  df0, df3], axis = 0)\n",
    "\n",
    "       comment = ''\n",
    "       for index, row in df3.iterrows():\n",
    "           comment = comment + row['value'] + f\" ({row['ratio_cnt']:.2%})\" +', '   \n",
    "           \n",
    "       l_comment.append([fea, comment[0:-2]]) "
   ]
  },
  {
   "cell_type": "code",
   "execution_count": null,
   "id": "c37008c0",
   "metadata": {},
   "outputs": [],
   "source": [
    "df3"
   ]
  },
  {
   "cell_type": "code",
   "execution_count": null,
   "id": "4b2429b5",
   "metadata": {},
   "outputs": [],
   "source": [
    "comment = ''\n",
    "for index, row in df3.iterrows():\n",
    "    print(f\" row {row['value']}\")\n",
    "    if str(row['value']).isalpha(): \n",
    "       comment = comment + row['value'] + f\" ({row['ratio_cnt']:.2%})\" +', '\n",
    "    else:\n",
    "       #comment = comment + f\"{row['value']:1}\" + f\" ({row['ratio_cnt']:.2%})\" +', '\n",
    "       comment = comment + str(int(row['value'])) + f\" ({row['ratio_cnt']:.2%})\" +', ' \n",
    "       \n",
    "comment"
   ]
  },
  {
   "cell_type": "code",
   "execution_count": null,
   "id": "2a89c58c",
   "metadata": {},
   "outputs": [],
   "source": [
    "comment"
   ]
  },
  {
   "cell_type": "code",
   "execution_count": null,
   "id": "b3072853",
   "metadata": {},
   "outputs": [],
   "source": [
    "df1, df2  = unq_val(df, df.columns)"
   ]
  },
  {
   "cell_type": "code",
   "execution_count": 19,
   "id": "f35dfc00",
   "metadata": {},
   "outputs": [],
   "source": [
    "def unq_valx(df, l_col):\n",
    "    \"\"\"\n",
    "    Purpose:\n",
    "      - Create dataframe to include  \n",
    "        - df0: keep feature name \n",
    "        - df1: get count for unique values from the feature\n",
    "        - df2: get ratio of count for unique values from the feature \n",
    "        - df3: Merge df1 and df2 \n",
    "      - Concating dfy, df0, df3 with axis = 0 \n",
    "    Parameter\n",
    "     input \n",
    "      df : df to be analyzed \n",
    "      l_col:  list of features\n",
    "     output \n",
    "      dfy : dataframe for the count of unique values and  ratio of unique values    \n",
    "    \"\"\"\n",
    "    dfy =  pd.DataFrame() \n",
    "    l_comment=[]\n",
    "    for fea in l_col:   \n",
    "       \n",
    "        if vu(df, fea) < 15:  \n",
    "           df0 = pd.DataFrame([[fea,'','', ' ']],columns=['feature','value','cnt','ratio_cnt'] )\n",
    "           df1 = df[fea].value_counts().to_frame(name = 'cnt').reset_index()\n",
    "           df1.rename(columns={'index':'value'}, inplace = True)\n",
    "           sd =  df[fea].value_counts()/len(df)\n",
    "           df2 = sd.to_frame(name='ratio_cnt').reset_index()\n",
    "           df2.rename(columns={'index':'value'}, inplace = True)\n",
    "           df3 = df1.merge(df2, on = 'value',how = 'inner')\n",
    "           dfy = pd.concat([dfy,  df0, df3], axis = 0)\n",
    "\n",
    "           comment = ''\n",
    "           for index, row in df3.iterrows():\n",
    "               print(f\" row {row['value']}\")\n",
    "               if str(row['value']).isdigit(): \n",
    "                  comment = comment + str(int(row['value'])) + f\" ({row['ratio_cnt']:.2%})\" +', '    \n",
    "                  \n",
    "               else:\n",
    "                  comment = comment + row['value'] + f\" ({row['ratio_cnt']:.2%})\" +', '  \n",
    "           l_comment.append([fea, comment[0:-2]]) \n",
    "           print (f' {fea}, {comment[0:-2]}')\n",
    "   \n",
    "    dfx = pd.DataFrame(l_comment, columns = ['fea', 'note'])  \n",
    "    dfx = dfx.set_index('fea', inplace = True)\n",
    "    return dfx, dfy  \n",
    "   "
   ]
  },
  {
   "cell_type": "code",
   "execution_count": 21,
   "id": "bec2b2e9",
   "metadata": {},
   "outputs": [
    {
     "name": "stdout",
     "output_type": "stream",
     "text": [
      " row Corporation\n",
      " row LLC\n",
      " row Non-Profit\n",
      " row Partnership\n",
      " row Other\n",
      " row Sole Proprietorship\n",
      " row MSA Av Consumer\n",
      " Org_Struc_Desc, Corporation (50.58%), LLC (24.97%), Non-Profit (20.90%), Partnership (2.86%), Other (0.56%), Sole Proprietorship (0.08%), MSA Av Consumer (0.04%)\n",
      " row 2022/2\n",
      " row 2021/2\n",
      " row 2021/3\n",
      " row 2021/4\n",
      " row 2019/2\n",
      " row 2019/1\n",
      " row 2022/1\n",
      " row 2019/3\n",
      " row 2021/1\n",
      " row 2020/4\n",
      " row 2020/1\n",
      " row 2020/3\n",
      " row 2019/4\n",
      " row 2020/2\n",
      " Revw_Quarter, 2022/2 (11.56%), 2021/2 (8.34%), 2021/3 (7.97%), 2021/4 (7.85%), 2019/2 (7.85%), 2019/1 (7.57%), 2022/1 (7.09%), 2019/3 (6.89%), 2021/1 (6.12%), 2020/4 (5.96%), 2020/1 (5.92%), 2020/3 (5.92%), 2019/4 (5.84%), 2020/2 (5.11%)\n",
      " row Approved\n",
      " row Declined\n",
      " Decision, Approved (74.51%), Declined (25.49%)\n",
      " row N\n",
      " row Y\n",
      " Scored_Flag, N (70.28%), Y (29.72%)\n",
      " row Y\n",
      " row N\n",
      " Elan_Flag, Y (62.99%), N (37.01%)\n",
      " row N\n",
      " row Y\n",
      " CLI_or_New_Prod_Flag, N (75.19%), Y (24.81%)\n",
      " row Indirect\n",
      " row Commercial Banking\n",
      " row CPS Only\n",
      " row Community Banking\n",
      " row Public Sector & Depository Financial Institutions\n",
      " row Commercial Real Estate\n",
      " row Specialized Industries & Finance\n",
      " row National Corporate & Institutional Banking\n",
      " row Leveraged Finance\n",
      " Channel, Indirect (66.01%), Commercial Banking (13.25%), CPS Only (8.82%), Community Banking (8.46%), Public Sector & Depository Financial Institutions (1.21%), Commercial Real Estate (1.09%), Specialized Industries & Finance (0.56%), National Corporate & Institutional Banking (0.48%), Leveraged Finance (0.04%)\n",
      " row 0.0\n"
     ]
    },
    {
     "ename": "TypeError",
     "evalue": "can only concatenate str (not \"numpy.float64\") to str",
     "output_type": "error",
     "traceback": [
      "\u001b[1;31m---------------------------------------------------------------------------\u001b[0m",
      "\u001b[1;31mTypeError\u001b[0m                                 Traceback (most recent call last)",
      "\u001b[1;32m<ipython-input-21-453471a42d1f>\u001b[0m in \u001b[0;36m<module>\u001b[1;34m\u001b[0m\n\u001b[1;32m----> 1\u001b[1;33m \u001b[0mdfx1\u001b[0m\u001b[1;33m,\u001b[0m \u001b[0mdfy1\u001b[0m \u001b[1;33m=\u001b[0m \u001b[0munq_valx\u001b[0m\u001b[1;33m(\u001b[0m\u001b[0mdf\u001b[0m\u001b[1;33m,\u001b[0m \u001b[0ml_col\u001b[0m\u001b[1;33m)\u001b[0m\u001b[1;33m\u001b[0m\u001b[1;33m\u001b[0m\u001b[0m\n\u001b[0m",
      "\u001b[1;32m<ipython-input-19-ab95d83f5b6d>\u001b[0m in \u001b[0;36munq_valx\u001b[1;34m(df, l_col)\u001b[0m\n\u001b[0;32m     36\u001b[0m \u001b[1;33m\u001b[0m\u001b[0m\n\u001b[0;32m     37\u001b[0m                \u001b[1;32melse\u001b[0m\u001b[1;33m:\u001b[0m\u001b[1;33m\u001b[0m\u001b[1;33m\u001b[0m\u001b[0m\n\u001b[1;32m---> 38\u001b[1;33m                   \u001b[0mcomment\u001b[0m \u001b[1;33m=\u001b[0m \u001b[0mcomment\u001b[0m \u001b[1;33m+\u001b[0m \u001b[0mrow\u001b[0m\u001b[1;33m[\u001b[0m\u001b[1;34m'value'\u001b[0m\u001b[1;33m]\u001b[0m \u001b[1;33m+\u001b[0m \u001b[1;34mf\" ({row['ratio_cnt']:.2%})\"\u001b[0m \u001b[1;33m+\u001b[0m\u001b[1;34m', '\u001b[0m\u001b[1;33m\u001b[0m\u001b[1;33m\u001b[0m\u001b[0m\n\u001b[0m\u001b[0;32m     39\u001b[0m            \u001b[0ml_comment\u001b[0m\u001b[1;33m.\u001b[0m\u001b[0mappend\u001b[0m\u001b[1;33m(\u001b[0m\u001b[1;33m[\u001b[0m\u001b[0mfea\u001b[0m\u001b[1;33m,\u001b[0m \u001b[0mcomment\u001b[0m\u001b[1;33m[\u001b[0m\u001b[1;36m0\u001b[0m\u001b[1;33m:\u001b[0m\u001b[1;33m-\u001b[0m\u001b[1;36m2\u001b[0m\u001b[1;33m]\u001b[0m\u001b[1;33m]\u001b[0m\u001b[1;33m)\u001b[0m\u001b[1;33m\u001b[0m\u001b[1;33m\u001b[0m\u001b[0m\n\u001b[0;32m     40\u001b[0m            \u001b[0mprint\u001b[0m \u001b[1;33m(\u001b[0m\u001b[1;34mf' {fea}, {comment[0:-2]}'\u001b[0m\u001b[1;33m)\u001b[0m\u001b[1;33m\u001b[0m\u001b[1;33m\u001b[0m\u001b[0m\n",
      "\u001b[1;31mTypeError\u001b[0m: can only concatenate str (not \"numpy.float64\") to str"
     ]
    }
   ],
   "source": [
    "l_col = ['Corporate_Card', 'Purchasing_Card',\n",
    "       'One_Card', 'Other_NonBankCard', 'Scored_Rec_Decision', 'SBFE_Score',\n",
    "       'CC_Score', 'Financial_Template_Found_Flag', 'Existing_Limit',\n",
    "       'Request_Amount', 'Final_Limit']\n",
    "      \n",
    "dfx1, dfy1 = unq_valx(df, l_col)"
   ]
  },
  {
   "cell_type": "code",
   "execution_count": 22,
   "id": "2487802b",
   "metadata": {},
   "outputs": [
    {
     "data": {
      "text/plain": [
       "Index(['Org_Struc_Desc', 'NAICS_Cd', 'NAICS_Desc', 'Revw_Id', 'Revw_Month',\n",
       "       'Revw_Quarter', 'Decision', 'Scored_Flag', 'Elan_Flag',\n",
       "       'CLI_or_New_Prod_Flag', 'Channel', 'Corporate_Card', 'Purchasing_Card',\n",
       "       'One_Card', 'Other_NonBankCard', 'Scored_Rec_Decision', 'SBFE_Score',\n",
       "       'CC_Score', 'Financial_Template_Found_Flag', 'Existing_Limit',\n",
       "       'Request_Amount', 'Final_Limit'],\n",
       "      dtype='object')"
      ]
     },
     "execution_count": 22,
     "metadata": {},
     "output_type": "execute_result"
    }
   ],
   "source": [
    "df.columns"
   ]
  },
  {
   "cell_type": "code",
   "execution_count": 23,
   "id": "10b7677f",
   "metadata": {},
   "outputs": [
    {
     "name": "stdout",
     "output_type": "stream",
     "text": [
      " row 0.0\n"
     ]
    },
    {
     "ename": "TypeError",
     "evalue": "can only concatenate str (not \"numpy.float64\") to str",
     "output_type": "error",
     "traceback": [
      "\u001b[1;31m---------------------------------------------------------------------------\u001b[0m",
      "\u001b[1;31mTypeError\u001b[0m                                 Traceback (most recent call last)",
      "\u001b[1;32m<ipython-input-23-44154ad28548>\u001b[0m in \u001b[0;36m<module>\u001b[1;34m\u001b[0m\n\u001b[0;32m      4\u001b[0m        'Request_Amount', 'Final_Limit']\n\u001b[0;32m      5\u001b[0m \u001b[1;33m\u001b[0m\u001b[0m\n\u001b[1;32m----> 6\u001b[1;33m \u001b[0mdfx1\u001b[0m\u001b[1;33m,\u001b[0m \u001b[0mdfy1\u001b[0m \u001b[1;33m=\u001b[0m \u001b[0munq_valx\u001b[0m\u001b[1;33m(\u001b[0m\u001b[0mdf\u001b[0m\u001b[1;33m,\u001b[0m \u001b[0ml_col\u001b[0m\u001b[1;33m)\u001b[0m\u001b[1;33m\u001b[0m\u001b[1;33m\u001b[0m\u001b[0m\n\u001b[0m",
      "\u001b[1;32m<ipython-input-19-ab95d83f5b6d>\u001b[0m in \u001b[0;36munq_valx\u001b[1;34m(df, l_col)\u001b[0m\n\u001b[0;32m     36\u001b[0m \u001b[1;33m\u001b[0m\u001b[0m\n\u001b[0;32m     37\u001b[0m                \u001b[1;32melse\u001b[0m\u001b[1;33m:\u001b[0m\u001b[1;33m\u001b[0m\u001b[1;33m\u001b[0m\u001b[0m\n\u001b[1;32m---> 38\u001b[1;33m                   \u001b[0mcomment\u001b[0m \u001b[1;33m=\u001b[0m \u001b[0mcomment\u001b[0m \u001b[1;33m+\u001b[0m \u001b[0mrow\u001b[0m\u001b[1;33m[\u001b[0m\u001b[1;34m'value'\u001b[0m\u001b[1;33m]\u001b[0m \u001b[1;33m+\u001b[0m \u001b[1;34mf\" ({row['ratio_cnt']:.2%})\"\u001b[0m \u001b[1;33m+\u001b[0m\u001b[1;34m', '\u001b[0m\u001b[1;33m\u001b[0m\u001b[1;33m\u001b[0m\u001b[0m\n\u001b[0m\u001b[0;32m     39\u001b[0m            \u001b[0ml_comment\u001b[0m\u001b[1;33m.\u001b[0m\u001b[0mappend\u001b[0m\u001b[1;33m(\u001b[0m\u001b[1;33m[\u001b[0m\u001b[0mfea\u001b[0m\u001b[1;33m,\u001b[0m \u001b[0mcomment\u001b[0m\u001b[1;33m[\u001b[0m\u001b[1;36m0\u001b[0m\u001b[1;33m:\u001b[0m\u001b[1;33m-\u001b[0m\u001b[1;36m2\u001b[0m\u001b[1;33m]\u001b[0m\u001b[1;33m]\u001b[0m\u001b[1;33m)\u001b[0m\u001b[1;33m\u001b[0m\u001b[1;33m\u001b[0m\u001b[0m\n\u001b[0;32m     40\u001b[0m            \u001b[0mprint\u001b[0m \u001b[1;33m(\u001b[0m\u001b[1;34mf' {fea}, {comment[0:-2]}'\u001b[0m\u001b[1;33m)\u001b[0m\u001b[1;33m\u001b[0m\u001b[1;33m\u001b[0m\u001b[0m\n",
      "\u001b[1;31mTypeError\u001b[0m: can only concatenate str (not \"numpy.float64\") to str"
     ]
    }
   ],
   "source": [
    "l_col = ['Corporate_Card', 'Purchasing_Card',\n",
    "       'One_Card', 'Other_NonBankCard', 'Scored_Rec_Decision', 'SBFE_Score',\n",
    "       'CC_Score', 'Financial_Template_Found_Flag', 'Existing_Limit',\n",
    "       'Request_Amount', 'Final_Limit']\n",
    "      \n",
    "dfx1, dfy1 = unq_valx(df, l_col)"
   ]
  },
  {
   "cell_type": "code",
   "execution_count": null,
   "id": "986a6f6e",
   "metadata": {},
   "outputs": [],
   "source": []
  }
 ],
 "metadata": {
  "kernelspec": {
   "display_name": "Python 3 (ipykernel)",
   "language": "python",
   "name": "python3"
  },
  "language_info": {
   "codemirror_mode": {
    "name": "ipython",
    "version": 3
   },
   "file_extension": ".py",
   "mimetype": "text/x-python",
   "name": "python",
   "nbconvert_exporter": "python",
   "pygments_lexer": "ipython3",
   "version": "3.10.9"
  }
 },
 "nbformat": 4,
 "nbformat_minor": 5
}
