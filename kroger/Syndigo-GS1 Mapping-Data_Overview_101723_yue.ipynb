{
 "cells": [
  {
   "cell_type": "code",
   "execution_count": 1,
   "id": "bc618b87",
   "metadata": {},
   "outputs": [],
   "source": [
    "import pandas as pd, numpy as np\n",
    "from rapidfuzz import process, fuzz,utils\n",
    "np.set_printoptions(threshold=np.inf)\n",
    "path = 'C:\\\\users\\\\iny2819\\\\kroger\\\\Data\\\\' \n",
    "path_atb = 'C:\\\\users\\\\iny2819\\\\kroger\\\\Data\\\\ATB\\\\' \n",
    "path_atb_yue = 'C:\\\\users\\\\iny2819\\\\kroger\\\\Data\\\\ATB\\\\atb_yue\\\\' \n",
    "path_yue = 'C:\\\\users\\\\iny2819\\\\kroger\\\\Data\\\\yue\\\\' "
   ]
  },
  {
   "cell_type": "code",
   "execution_count": 2,
   "id": "d0bea0a9",
   "metadata": {},
   "outputs": [],
   "source": [
    "path_code = 'C:\\\\users\\\\iny2819\\\\kroger\\\\Code\\\\'  \n",
    "f_com_code = path_code + \"com_code.py\"\n",
    "exec(compile(open(f_com_code , \"rb\").read(), f_com_code, 'exec' ))"
   ]
  },
  {
   "cell_type": "code",
   "execution_count": 3,
   "id": "abce4b56",
   "metadata": {},
   "outputs": [
    {
     "name": "stdout",
     "output_type": "stream",
     "text": [
      "file Syndigo Taxo to GS1 Taxo.xlsx shape (26761, 2) \n",
      " columns: Index(['GS1 Taxonomy', 'Syndigo Taxonomy'], dtype='object')\n",
      "dtypes: \n",
      " GS1 Taxonomy        object\n",
      "Syndigo Taxonomy    object\n",
      "dtype: object\n",
      "head: \n",
      "                                         GS1 Taxonomy  \\\n",
      "0  Root|Arts/Crafts/Needlework|Arts/Crafts/Needle...   \n",
      "1  Root|Arts/Crafts/Needlework|Arts/Crafts/Needle...   \n",
      "2  Root|Arts/Crafts/Needlework|Arts/Crafts/Needle...   \n",
      "3  Root|Arts/Crafts/Needlework|Arts/Crafts/Needle...   \n",
      "4  Root|Arts/Crafts/Needlework|Arts/Crafts/Needle...   \n",
      "\n",
      "                                    Syndigo Taxonomy  \n",
      "0  Root|Arts & Crafts|Airbrushing|Accessories|Air...  \n",
      "1  Root|Arts & Crafts|Airbrushing|Accessories|Air...  \n",
      "2  Root|Arts & Crafts|Airbrushing|Accessories|Air...  \n",
      "3  Root|Arts & Crafts|Airbrushing|Accessories|Air...  \n",
      "4  Root|Arts & Crafts|Airbrushing|Accessories|Air...  \n"
     ]
    }
   ],
   "source": [
    "syn_gs1_maps = f_read(path, 'Syndigo Taxo to GS1 Taxo.xlsx')"
   ]
  },
  {
   "cell_type": "code",
   "execution_count": 4,
   "id": "13919563",
   "metadata": {},
   "outputs": [
    {
     "data": {
      "text/plain": [
       "3222"
      ]
     },
     "execution_count": 4,
     "metadata": {},
     "output_type": "execute_result"
    }
   ],
   "source": [
    "syn_gs1_maps['GS1 Taxonomy'].nunique()"
   ]
  },
  {
   "cell_type": "code",
   "execution_count": 5,
   "id": "953db0f7",
   "metadata": {},
   "outputs": [
    {
     "data": {
      "text/plain": [
       "25286"
      ]
     },
     "execution_count": 5,
     "metadata": {},
     "output_type": "execute_result"
    }
   ],
   "source": [
    "syn_gs1_maps['Syndigo Taxonomy'].nunique()"
   ]
  },
  {
   "cell_type": "code",
   "execution_count": 6,
   "id": "1faebc7d",
   "metadata": {},
   "outputs": [
    {
     "data": {
      "text/plain": [
       "26761"
      ]
     },
     "execution_count": 6,
     "metadata": {},
     "output_type": "execute_result"
    }
   ],
   "source": [
    "len(syn_gs1_maps)"
   ]
  },
  {
   "cell_type": "code",
   "execution_count": 7,
   "id": "6b62203f",
   "metadata": {},
   "outputs": [
    {
     "data": {
      "text/plain": [
       "(25826, 2)"
      ]
     },
     "execution_count": 7,
     "metadata": {},
     "output_type": "execute_result"
    }
   ],
   "source": [
    "syn_gs1_maps.drop_duplicates().shape"
   ]
  },
  {
   "cell_type": "code",
   "execution_count": 8,
   "id": "dc083e03",
   "metadata": {},
   "outputs": [],
   "source": [
    "for i ,j in enumerate(['Segment','Family','Class','Brick']):\n",
    "    syn_gs1_maps['GS1_'+j] = syn_gs1_maps['GS1 Taxonomy'].fillna('Unclassified').apply(lambda x: x.split('|')[i+1] if (len(x.split('|')) >i+1) else None)"
   ]
  },
  {
   "cell_type": "code",
   "execution_count": 9,
   "id": "706f7702",
   "metadata": {},
   "outputs": [],
   "source": [
    "for i in range(8):\n",
    "    syn_gs1_maps['Syndigo_Level_'+str(i+1)] = syn_gs1_maps['Syndigo Taxonomy'].fillna('Unclassified').apply(lambda x: x.split('|')[i+1] if (len(x.split('|')) >i+1) else None)"
   ]
  },
  {
   "cell_type": "code",
   "execution_count": 10,
   "id": "c2a1ea69",
   "metadata": {},
   "outputs": [],
   "source": [
    "syn_gs1_maps.to_excel(path_yue + 'syn_gs1_maps.xlsx', index = None)"
   ]
  },
  {
   "cell_type": "code",
   "execution_count": 11,
   "id": "2518d94a",
   "metadata": {},
   "outputs": [
    {
     "ename": "NameError",
     "evalue": "name 'stop' is not defined",
     "output_type": "error",
     "traceback": [
      "\u001b[1;31m---------------------------------------------------------------------------\u001b[0m",
      "\u001b[1;31mNameError\u001b[0m                                 Traceback (most recent call last)",
      "Cell \u001b[1;32mIn[11], line 1\u001b[0m\n\u001b[1;32m----> 1\u001b[0m \u001b[43mstop\u001b[49m\n",
      "\u001b[1;31mNameError\u001b[0m: name 'stop' is not defined"
     ]
    }
   ],
   "source": [
    "stop"
   ]
  },
  {
   "cell_type": "code",
   "execution_count": null,
   "id": "79bf5c25",
   "metadata": {},
   "outputs": [],
   "source": [
    "syn_gs1_maps.head()"
   ]
  },
  {
   "cell_type": "code",
   "execution_count": null,
   "id": "9e91f8f8",
   "metadata": {},
   "outputs": [],
   "source": [
    "#Syndigo Level1 to GS1 Segment Mappings\n",
    "syn_gs1_maps.groupby('Syndigo_Level_1')['GS1_Segment'].nunique().sort_values()"
   ]
  },
  {
   "cell_type": "code",
   "execution_count": null,
   "id": "12eda14d",
   "metadata": {},
   "outputs": [],
   "source": [
    "#Syndigo Level2 to GS1 Segment Mappings\n",
    "syn_gs1_maps.groupby('Syndigo_Level_2')['GS1_Segment'].nunique().describe()"
   ]
  },
  {
   "cell_type": "code",
   "execution_count": null,
   "id": "21934136",
   "metadata": {},
   "outputs": [],
   "source": [
    "#Syndigo Level2 to GS1 Family Mappings\n",
    "syn_gs1_maps.groupby('Syndigo_Level_2')['GS1_Family'].nunique().sort_values()[:100]"
   ]
  },
  {
   "cell_type": "code",
   "execution_count": null,
   "id": "00e5187b",
   "metadata": {},
   "outputs": [],
   "source": [
    "#grouped_df = df.groupby(['Courses', 'Duration'], as_index = False)['Fee'].count()\n",
    "grouped_df = syn_gs1_maps.groupby('Syndigo_Level_1', as_index = False)['GS1_Family'].nunique()\n",
    "grouped_df.head()"
   ]
  },
  {
   "cell_type": "code",
   "execution_count": null,
   "id": "498fb6ba",
   "metadata": {},
   "outputs": [],
   "source": [
    "grouped_df.shape"
   ]
  },
  {
   "cell_type": "code",
   "execution_count": null,
   "id": "b3f63d8e",
   "metadata": {},
   "outputs": [],
   "source": [
    "syngrouped_df_gs1_maps.GS1_Segment.nunique()"
   ]
  },
  {
   "cell_type": "code",
   "execution_count": null,
   "id": "fdc2ea40",
   "metadata": {},
   "outputs": [],
   "source": [
    "s = syn_gs1_maps.groupby('Syndigo_Level_2')['GS1_Class'].nunique().sort_values()\n",
    "len (s != 1)  #479  \n",
    "len (s == 1)\n"
   ]
  },
  {
   "cell_type": "code",
   "execution_count": null,
   "id": "776713cb",
   "metadata": {},
   "outputs": [],
   "source": [
    "len (s == 1)"
   ]
  },
  {
   "cell_type": "code",
   "execution_count": null,
   "id": "59abcaf6",
   "metadata": {},
   "outputs": [],
   "source": [
    "len(s)"
   ]
  },
  {
   "cell_type": "code",
   "execution_count": null,
   "id": "9598a01a",
   "metadata": {},
   "outputs": [],
   "source": [
    "#s = s[s != 1]\n",
    "len(s[s != 1])"
   ]
  },
  {
   "cell_type": "code",
   "execution_count": null,
   "id": "a14ef3d2",
   "metadata": {},
   "outputs": [],
   "source": [
    "syn_gs1_maps.to_excel(path_yue + 'syn_gs1_maps.xlsx', index = None)"
   ]
  },
  {
   "cell_type": "code",
   "execution_count": null,
   "id": "85cf57da",
   "metadata": {},
   "outputs": [],
   "source": [
    "len(s[s == 1])"
   ]
  },
  {
   "cell_type": "code",
   "execution_count": null,
   "id": "1fecfb92",
   "metadata": {},
   "outputs": [],
   "source": []
  }
 ],
 "metadata": {
  "kernelspec": {
   "display_name": "Python 3 (ipykernel)",
   "language": "python",
   "name": "python3"
  },
  "language_info": {
   "codemirror_mode": {
    "name": "ipython",
    "version": 3
   },
   "file_extension": ".py",
   "mimetype": "text/x-python",
   "name": "python",
   "nbconvert_exporter": "python",
   "pygments_lexer": "ipython3",
   "version": "3.10.9"
  }
 },
 "nbformat": 4,
 "nbformat_minor": 5
}
