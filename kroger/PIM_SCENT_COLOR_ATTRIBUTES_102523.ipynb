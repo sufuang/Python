{
 "cells": [
  {
   "cell_type": "code",
   "execution_count": 2,
   "id": "89e31170",
   "metadata": {},
   "outputs": [],
   "source": [
    "import pandas as pd, numpy as np\n",
    "from rapidfuzz import process, fuzz,utils\n",
    "np.set_printoptions(threshold=np.inf)"
   ]
  },
  {
   "cell_type": "code",
   "execution_count": 61,
   "id": "5ee902b2",
   "metadata": {},
   "outputs": [],
   "source": [
    "ITM_ID_GTIN = pd.read_csv('ITM_ID_GTIN_102523.csv')\n",
    "pim_colors = pd.read_csv('PIM_Color_Attributes_102523.csv')\n",
    "pim_scents = pd.read_csv('PIM_Scent_Attributes_102523.csv')"
   ]
  },
  {
   "cell_type": "code",
   "execution_count": 62,
   "id": "1b239ed4",
   "metadata": {},
   "outputs": [],
   "source": [
    "pim_colors = ITM_ID_GTIN.merge(pim_colors, on = 'ITM_ID', how = 'right')\n",
    "pim_scents = ITM_ID_GTIN.merge(pim_scents, on = 'ITM_ID', how = 'right')"
   ]
  },
  {
   "cell_type": "markdown",
   "id": "39915d8e",
   "metadata": {},
   "source": [
    "###  COLOR"
   ]
  },
  {
   "cell_type": "code",
   "execution_count": 12,
   "id": "2f2141c3",
   "metadata": {},
   "outputs": [],
   "source": [
    "pim_df = pd.read_csv('PIM_Data_New_50_82Mn.zip', low_memory= True)"
   ]
  },
  {
   "cell_type": "code",
   "execution_count": 65,
   "id": "c914b3c9",
   "metadata": {},
   "outputs": [],
   "source": [
    "pim_colors = pim_colors[pim_colors.COLOR_CD.notnull()]"
   ]
  },
  {
   "cell_type": "code",
   "execution_count": 66,
   "id": "e318f5f1",
   "metadata": {
    "scrolled": true
   },
   "outputs": [],
   "source": [
    "pim_colors = pim_df.merge(pim_colors[['GTIN_NO','COLOR_CD','COLOR_VLU']], how = 'right', on = 'GTIN_NO')"
   ]
  },
  {
   "cell_type": "code",
   "execution_count": 67,
   "id": "11e30d36",
   "metadata": {},
   "outputs": [
    {
     "data": {
      "text/plain": [
       "64"
      ]
     },
     "execution_count": 67,
     "metadata": {},
     "output_type": "execute_result"
    }
   ],
   "source": [
    "colors_DPT = pd.DataFrame(pim_colors.groupby('DPT_DSC').apply(lambda x: ','.join(x.COLOR_CD.unique())), columns= ['UNIQUE COLORS']).reset_index()\n",
    "colors_DPT_DSCs = colors_DPT[~colors_DPT['UNIQUE COLORS'].isin(['NONE','OTHER'])].DPT_DSC.unique()\n",
    "len(colors_DPT_DSCs)"
   ]
  },
  {
   "cell_type": "code",
   "execution_count": 68,
   "id": "38bffe62",
   "metadata": {},
   "outputs": [],
   "source": [
    "colors_DPT = colors_DPT[colors_DPT.DPT_DSC.isin(colors_DPT_DSCs)].reset_index(drop = True)\n",
    "colors_DPT['UNIQUE COLOR COUNT'] = colors_DPT['UNIQUE COLORS'].\\\n",
    "apply(lambda x: len(','.join([i for i in x.split(',') if not i in ['NONE','OTHER']]).split(',')))"
   ]
  },
  {
   "cell_type": "code",
   "execution_count": 69,
   "id": "5667acd5",
   "metadata": {},
   "outputs": [],
   "source": [
    "colors_DPT['ITEM_WITH_COLOR_COUNT'] = colors_DPT.DPT_DSC.map(dict(pim_colors.groupby('DPT_DSC').size()))"
   ]
  },
  {
   "cell_type": "code",
   "execution_count": 70,
   "id": "067e0981",
   "metadata": {},
   "outputs": [],
   "source": [
    "colors_DPT['TOTAL_ITEM_COUNT'] = colors_DPT.DPT_DSC.map(dict(pim_df.drop_duplicates('GTIN_NO').groupby('DPT_DSC').size()))"
   ]
  },
  {
   "cell_type": "code",
   "execution_count": 71,
   "id": "d7281d00",
   "metadata": {},
   "outputs": [
    {
     "data": {
      "text/plain": [
       "MULTI_COLORED      251073\n",
       "BLACK               87261\n",
       "BLUE                82926\n",
       "GRAY                82080\n",
       "WHITE               65977\n",
       "                    ...  \n",
       "FOREVER PINK            1\n",
       "ICED CAPPUCCINO         1\n",
       "DEADPOOL                1\n",
       "SMOKY ROSE              1\n",
       "ALWAYS APRICOT          1\n",
       "Name: COLOR_CD, Length: 936, dtype: int64"
      ]
     },
     "execution_count": 71,
     "metadata": {},
     "output_type": "execute_result"
    }
   ],
   "source": [
    "pim_colors.COLOR_CD.value_counts()"
   ]
  },
  {
   "cell_type": "code",
   "execution_count": 72,
   "id": "1eeb7509",
   "metadata": {},
   "outputs": [
    {
     "data": {
      "text/html": [
       "<div>\n",
       "<style scoped>\n",
       "    .dataframe tbody tr th:only-of-type {\n",
       "        vertical-align: middle;\n",
       "    }\n",
       "\n",
       "    .dataframe tbody tr th {\n",
       "        vertical-align: top;\n",
       "    }\n",
       "\n",
       "    .dataframe thead th {\n",
       "        text-align: right;\n",
       "    }\n",
       "</style>\n",
       "<table border=\"1\" class=\"dataframe\">\n",
       "  <thead>\n",
       "    <tr style=\"text-align: right;\">\n",
       "      <th></th>\n",
       "      <th>DPT_DSC</th>\n",
       "      <th>UNIQUE COLORS</th>\n",
       "      <th>UNIQUE COLOR COUNT</th>\n",
       "      <th>ITEM_WITH_COLOR_COUNT</th>\n",
       "      <th>TOTAL_ITEM_COUNT</th>\n",
       "    </tr>\n",
       "  </thead>\n",
       "  <tbody>\n",
       "    <tr>\n",
       "      <th>0</th>\n",
       "      <td>ACCESSORIES</td>\n",
       "      <td>BLACK,RED,BLUE,NONE,OTHER,NAVY,CHARCOAL_GREY,R...</td>\n",
       "      <td>84</td>\n",
       "      <td>1179</td>\n",
       "      <td>36382</td>\n",
       "    </tr>\n",
       "    <tr>\n",
       "      <th>1</th>\n",
       "      <td>BABY</td>\n",
       "      <td>PINK,GOLD,CLEAR,WHITE,ASSORTED,MULTI_COLORED,A...</td>\n",
       "      <td>61</td>\n",
       "      <td>1251</td>\n",
       "      <td>21011</td>\n",
       "    </tr>\n",
       "    <tr>\n",
       "      <th>2</th>\n",
       "      <td>BAKERY</td>\n",
       "      <td>RED,WHITE,PURPLE,TAN,DARK_BROWN,YELLOW,BLONDE,...</td>\n",
       "      <td>72</td>\n",
       "      <td>1114</td>\n",
       "      <td>39647</td>\n",
       "    </tr>\n",
       "    <tr>\n",
       "      <th>3</th>\n",
       "      <td>BEAUTY</td>\n",
       "      <td>BEIGE,BLUE,RED,IVORY,BROWN,PINK,GOLD,TAN,BLACK...</td>\n",
       "      <td>556</td>\n",
       "      <td>12345</td>\n",
       "      <td>277878</td>\n",
       "    </tr>\n",
       "    <tr>\n",
       "      <th>4</th>\n",
       "      <td>BEEF</td>\n",
       "      <td>NONE,BEIGE,BROWN,RED</td>\n",
       "      <td>3</td>\n",
       "      <td>7</td>\n",
       "      <td>23027</td>\n",
       "    </tr>\n",
       "    <tr>\n",
       "      <th>...</th>\n",
       "      <td>...</td>\n",
       "      <td>...</td>\n",
       "      <td>...</td>\n",
       "      <td>...</td>\n",
       "      <td>...</td>\n",
       "    </tr>\n",
       "    <tr>\n",
       "      <th>59</th>\n",
       "      <td>TOBACCO</td>\n",
       "      <td>BLUE,CLEAR</td>\n",
       "      <td>2</td>\n",
       "      <td>2</td>\n",
       "      <td>7304</td>\n",
       "    </tr>\n",
       "    <tr>\n",
       "      <th>60</th>\n",
       "      <td>TOYS</td>\n",
       "      <td>MULTI_COLORED,GREEN,YELLOW,BABY_BLUE,ARMY_GREE...</td>\n",
       "      <td>101</td>\n",
       "      <td>43283</td>\n",
       "      <td>183260</td>\n",
       "    </tr>\n",
       "    <tr>\n",
       "      <th>61</th>\n",
       "      <td>VEGETABLES</td>\n",
       "      <td>ORANGE,DARK_ORANGE,ORANGE_RED,MULTI_COLORED,GR...</td>\n",
       "      <td>38</td>\n",
       "      <td>993</td>\n",
       "      <td>16683</td>\n",
       "    </tr>\n",
       "    <tr>\n",
       "      <th>62</th>\n",
       "      <td>VIDEO/ELEC/COMP</td>\n",
       "      <td>OTHER,PINK,NATURAL,CHERRYWOOD,BLACK,CHARCOAL_G...</td>\n",
       "      <td>74</td>\n",
       "      <td>6388</td>\n",
       "      <td>56269</td>\n",
       "    </tr>\n",
       "    <tr>\n",
       "      <th>63</th>\n",
       "      <td>WINE</td>\n",
       "      <td>PINK,WHITE,RED</td>\n",
       "      <td>3</td>\n",
       "      <td>4</td>\n",
       "      <td>36721</td>\n",
       "    </tr>\n",
       "  </tbody>\n",
       "</table>\n",
       "<p>64 rows × 5 columns</p>\n",
       "</div>"
      ],
      "text/plain": [
       "            DPT_DSC                                      UNIQUE COLORS  \\\n",
       "0       ACCESSORIES  BLACK,RED,BLUE,NONE,OTHER,NAVY,CHARCOAL_GREY,R...   \n",
       "1              BABY  PINK,GOLD,CLEAR,WHITE,ASSORTED,MULTI_COLORED,A...   \n",
       "2            BAKERY  RED,WHITE,PURPLE,TAN,DARK_BROWN,YELLOW,BLONDE,...   \n",
       "3            BEAUTY  BEIGE,BLUE,RED,IVORY,BROWN,PINK,GOLD,TAN,BLACK...   \n",
       "4              BEEF                               NONE,BEIGE,BROWN,RED   \n",
       "..              ...                                                ...   \n",
       "59          TOBACCO                                         BLUE,CLEAR   \n",
       "60             TOYS  MULTI_COLORED,GREEN,YELLOW,BABY_BLUE,ARMY_GREE...   \n",
       "61       VEGETABLES  ORANGE,DARK_ORANGE,ORANGE_RED,MULTI_COLORED,GR...   \n",
       "62  VIDEO/ELEC/COMP  OTHER,PINK,NATURAL,CHERRYWOOD,BLACK,CHARCOAL_G...   \n",
       "63             WINE                                     PINK,WHITE,RED   \n",
       "\n",
       "    UNIQUE COLOR COUNT  ITEM_WITH_COLOR_COUNT  TOTAL_ITEM_COUNT  \n",
       "0                   84                   1179             36382  \n",
       "1                   61                   1251             21011  \n",
       "2                   72                   1114             39647  \n",
       "3                  556                  12345            277878  \n",
       "4                    3                      7             23027  \n",
       "..                 ...                    ...               ...  \n",
       "59                   2                      2              7304  \n",
       "60                 101                  43283            183260  \n",
       "61                  38                    993             16683  \n",
       "62                  74                   6388             56269  \n",
       "63                   3                      4             36721  \n",
       "\n",
       "[64 rows x 5 columns]"
      ]
     },
     "execution_count": 72,
     "metadata": {},
     "output_type": "execute_result"
    }
   ],
   "source": [
    "colors_DPT"
   ]
  },
  {
   "cell_type": "code",
   "execution_count": 91,
   "id": "b6559d5c",
   "metadata": {},
   "outputs": [
    {
     "data": {
      "text/plain": [
       "952268"
      ]
     },
     "execution_count": 91,
     "metadata": {},
     "output_type": "execute_result"
    }
   ],
   "source": [
    "colors_DPT['ITEM_WITH_COLOR_COUNT'].sum()"
   ]
  },
  {
   "cell_type": "code",
   "execution_count": 92,
   "id": "66c4b072",
   "metadata": {},
   "outputs": [
    {
     "data": {
      "text/plain": [
       "4963297"
      ]
     },
     "execution_count": 92,
     "metadata": {},
     "output_type": "execute_result"
    }
   ],
   "source": [
    "colors_DPT['TOTAL_ITEM_COUNT'].sum()"
   ]
  },
  {
   "cell_type": "code",
   "execution_count": 75,
   "id": "8d3fb204",
   "metadata": {},
   "outputs": [],
   "source": [
    "colors_DPT.to_excel('COLORS_SUMMARY_BY_DEPT_102523.xlsx')"
   ]
  },
  {
   "cell_type": "markdown",
   "id": "93a21e3f",
   "metadata": {},
   "source": [
    "###  SCENT"
   ]
  },
  {
   "cell_type": "code",
   "execution_count": 76,
   "id": "620c0ebf",
   "metadata": {},
   "outputs": [],
   "source": [
    "pim_scents = pim_scents[pim_scents.SCENT_CD.notnull()]"
   ]
  },
  {
   "cell_type": "code",
   "execution_count": 77,
   "id": "d6c16815",
   "metadata": {
    "scrolled": true
   },
   "outputs": [],
   "source": [
    "pim_scents = pim_df.merge(pim_scents[['GTIN_NO','SCENT_CD','SCENT_VLU']], how = 'right', on = 'GTIN_NO')"
   ]
  },
  {
   "cell_type": "code",
   "execution_count": 78,
   "id": "748aaf4b",
   "metadata": {},
   "outputs": [
    {
     "data": {
      "text/plain": [
       "23"
      ]
     },
     "execution_count": 78,
     "metadata": {},
     "output_type": "execute_result"
    }
   ],
   "source": [
    "scents_DPT = pd.DataFrame(pim_scents.groupby('DPT_DSC').apply(lambda x: ','.join(x.SCENT_CD.unique())), columns= ['UNIQUE SCENTS']).reset_index()\n",
    "scents_DPT_DSCs = scents_DPT[~scents_DPT['UNIQUE SCENTS'].isin(['NONE','OTHER'])].DPT_DSC.unique()\n",
    "len(scents_DPT_DSCs)"
   ]
  },
  {
   "cell_type": "code",
   "execution_count": 79,
   "id": "d59b79c6",
   "metadata": {},
   "outputs": [],
   "source": [
    "scents_DPT = scents_DPT[scents_DPT.DPT_DSC.isin(scents_DPT_DSCs)].reset_index(drop = True)\n",
    "scents_DPT['UNIQUE SCENT COUNT'] = scents_DPT['UNIQUE SCENTS'].\\\n",
    "apply(lambda x: len(','.join([i for i in x.split(',') if not i in ['NONE','OTHER']]).split(',')))"
   ]
  },
  {
   "cell_type": "code",
   "execution_count": 80,
   "id": "f2842919",
   "metadata": {},
   "outputs": [],
   "source": [
    "scents_DPT['ITEM_WITH_SCENT_COUNT'] = scents_DPT.DPT_DSC.map(dict(pim_scents.groupby('DPT_DSC').size()))"
   ]
  },
  {
   "cell_type": "code",
   "execution_count": 81,
   "id": "9e4cd106",
   "metadata": {},
   "outputs": [],
   "source": [
    "scents_DPT['TOTAL_ITEM_COUNT'] = scents_DPT.DPT_DSC.map(dict(pim_df.drop_duplicates('GTIN_NO').groupby('DPT_DSC').size()))"
   ]
  },
  {
   "cell_type": "code",
   "execution_count": 82,
   "id": "02af4a83",
   "metadata": {},
   "outputs": [
    {
     "data": {
      "text/plain": [
       "NONE                   3080\n",
       "OTHER                  1306\n",
       "UNSCENTED               546\n",
       "LAVENDAR                165\n",
       "FRESH                   162\n",
       "                       ... \n",
       "MOROCCAN ROSE             1\n",
       "PEAR & GREEN TEA          1\n",
       "SESAME                    1\n",
       "LAVENDER & ROSEMARY       1\n",
       "SPICY CHAI                1\n",
       "Name: SCENT_CD, Length: 1164, dtype: int64"
      ]
     },
     "execution_count": 82,
     "metadata": {},
     "output_type": "execute_result"
    }
   ],
   "source": [
    "pim_scents.SCENT_CD.value_counts()"
   ]
  },
  {
   "cell_type": "code",
   "execution_count": 83,
   "id": "7acc8e12",
   "metadata": {},
   "outputs": [
    {
     "data": {
      "text/html": [
       "<div>\n",
       "<style scoped>\n",
       "    .dataframe tbody tr th:only-of-type {\n",
       "        vertical-align: middle;\n",
       "    }\n",
       "\n",
       "    .dataframe tbody tr th {\n",
       "        vertical-align: top;\n",
       "    }\n",
       "\n",
       "    .dataframe thead th {\n",
       "        text-align: right;\n",
       "    }\n",
       "</style>\n",
       "<table border=\"1\" class=\"dataframe\">\n",
       "  <thead>\n",
       "    <tr style=\"text-align: right;\">\n",
       "      <th></th>\n",
       "      <th>DPT_DSC</th>\n",
       "      <th>UNIQUE SCENTS</th>\n",
       "      <th>UNIQUE SCENT COUNT</th>\n",
       "      <th>ITEM_WITH_SCENT_COUNT</th>\n",
       "      <th>TOTAL_ITEM_COUNT</th>\n",
       "    </tr>\n",
       "  </thead>\n",
       "  <tbody>\n",
       "    <tr>\n",
       "      <th>0</th>\n",
       "      <td>BABY</td>\n",
       "      <td>MEDICATED,FRAGRANCE FREE,UNSCENTED,BABY_FRESH,...</td>\n",
       "      <td>65</td>\n",
       "      <td>240</td>\n",
       "      <td>21011</td>\n",
       "    </tr>\n",
       "    <tr>\n",
       "      <th>1</th>\n",
       "      <td>BEAUTY</td>\n",
       "      <td>COCONUT MILK,MANGO,TEA TREE,TROPICAL BOOST,SAN...</td>\n",
       "      <td>557</td>\n",
       "      <td>2595</td>\n",
       "      <td>277878</td>\n",
       "    </tr>\n",
       "    <tr>\n",
       "      <th>2</th>\n",
       "      <td>CANDY</td>\n",
       "      <td>ACAI AND WHITE TEA</td>\n",
       "      <td>1</td>\n",
       "      <td>1</td>\n",
       "      <td>50568</td>\n",
       "    </tr>\n",
       "    <tr>\n",
       "      <th>3</th>\n",
       "      <td>CHILDRENS</td>\n",
       "      <td>LAVENDER</td>\n",
       "      <td>1</td>\n",
       "      <td>1</td>\n",
       "      <td>204629</td>\n",
       "    </tr>\n",
       "    <tr>\n",
       "      <th>4</th>\n",
       "      <td>CKY/CRKR/SNK</td>\n",
       "      <td>ACAI,ACAI AND WHITE TEA</td>\n",
       "      <td>2</td>\n",
       "      <td>2</td>\n",
       "      <td>36067</td>\n",
       "    </tr>\n",
       "    <tr>\n",
       "      <th>5</th>\n",
       "      <td>FURN/HOME DEC</td>\n",
       "      <td>NONE,TEAKWOOD,OTHER,HONEYSUCKLE,UNSCENTED,GARD...</td>\n",
       "      <td>134</td>\n",
       "      <td>1555</td>\n",
       "      <td>557632</td>\n",
       "    </tr>\n",
       "    <tr>\n",
       "      <th>6</th>\n",
       "      <td>GARDEN-OUTDOOR</td>\n",
       "      <td>UNSCENTED,NONE</td>\n",
       "      <td>1</td>\n",
       "      <td>4</td>\n",
       "      <td>245563</td>\n",
       "    </tr>\n",
       "    <tr>\n",
       "      <th>7</th>\n",
       "      <td>GM-MISC</td>\n",
       "      <td>FRESH</td>\n",
       "      <td>1</td>\n",
       "      <td>1</td>\n",
       "      <td>2006</td>\n",
       "    </tr>\n",
       "    <tr>\n",
       "      <th>8</th>\n",
       "      <td>GROC NON-EDIBLE</td>\n",
       "      <td>ORIGINAL,LINENSKY,APPLE,OTHER,PUMPKIN,MOUNTAIN...</td>\n",
       "      <td>230</td>\n",
       "      <td>949</td>\n",
       "      <td>37702</td>\n",
       "    </tr>\n",
       "    <tr>\n",
       "      <th>9</th>\n",
       "      <td>GROC-ALL OTHER</td>\n",
       "      <td>NONE,FIELD FLOWERS,ACAI &amp; MANDARIN ORANGE,4 SE...</td>\n",
       "      <td>5</td>\n",
       "      <td>39</td>\n",
       "      <td>195187</td>\n",
       "    </tr>\n",
       "    <tr>\n",
       "      <th>10</th>\n",
       "      <td>HBC NON-EDIBLE</td>\n",
       "      <td>OTHER,PEACH,RAIN,VANILLA,LEMONGRASS,ORANGE,FRE...</td>\n",
       "      <td>7</td>\n",
       "      <td>22</td>\n",
       "      <td>14252</td>\n",
       "    </tr>\n",
       "    <tr>\n",
       "      <th>11</th>\n",
       "      <td>HEALTH</td>\n",
       "      <td>COOLING PEPPERMINT,UNSCENTED,VANISHING SCENT,F...</td>\n",
       "      <td>22</td>\n",
       "      <td>42</td>\n",
       "      <td>101451</td>\n",
       "    </tr>\n",
       "    <tr>\n",
       "      <th>12</th>\n",
       "      <td>HOME IMPRVMNT</td>\n",
       "      <td>ORANGE,HAWAIIANBREEZE,OTHER,LAVENDAR,NONE,MANG...</td>\n",
       "      <td>16</td>\n",
       "      <td>71</td>\n",
       "      <td>190498</td>\n",
       "    </tr>\n",
       "    <tr>\n",
       "      <th>13</th>\n",
       "      <td>HOUSEWARES</td>\n",
       "      <td>FRESH,4 SEAWEED</td>\n",
       "      <td>2</td>\n",
       "      <td>2</td>\n",
       "      <td>301653</td>\n",
       "    </tr>\n",
       "    <tr>\n",
       "      <th>14</th>\n",
       "      <td>MENS WEAR</td>\n",
       "      <td>NONE,UNSCENTED</td>\n",
       "      <td>1</td>\n",
       "      <td>9</td>\n",
       "      <td>354448</td>\n",
       "    </tr>\n",
       "    <tr>\n",
       "      <th>15</th>\n",
       "      <td>NATURAL FOODS</td>\n",
       "      <td>ACAI AND WHITE TEA,ACAI,1000 ROSES,ACAI &amp; YLAN...</td>\n",
       "      <td>12</td>\n",
       "      <td>25</td>\n",
       "      <td>78193</td>\n",
       "    </tr>\n",
       "    <tr>\n",
       "      <th>16</th>\n",
       "      <td>NF NON-EDIBLE</td>\n",
       "      <td>FROSTED FIR,HOLLYBERRY,ORIGINAL CITRUS,LAVENDE...</td>\n",
       "      <td>125</td>\n",
       "      <td>271</td>\n",
       "      <td>3184</td>\n",
       "    </tr>\n",
       "    <tr>\n",
       "      <th>17</th>\n",
       "      <td>PERSONAL CARE</td>\n",
       "      <td>PHOENIX,APOLLO,FRAGRANCE FREE,CITRUS,BERGAMOT ...</td>\n",
       "      <td>455</td>\n",
       "      <td>1248</td>\n",
       "      <td>55934</td>\n",
       "    </tr>\n",
       "    <tr>\n",
       "      <th>18</th>\n",
       "      <td>PET</td>\n",
       "      <td>PEPPERMINT,NONE,PETODORELIMINATOR,UNSCENTED,OD...</td>\n",
       "      <td>40</td>\n",
       "      <td>277</td>\n",
       "      <td>96504</td>\n",
       "    </tr>\n",
       "    <tr>\n",
       "      <th>19</th>\n",
       "      <td>RX-OTC</td>\n",
       "      <td>FRAGRANCE FREE</td>\n",
       "      <td>1</td>\n",
       "      <td>1</td>\n",
       "      <td>10330</td>\n",
       "    </tr>\n",
       "    <tr>\n",
       "      <th>20</th>\n",
       "      <td>SCHOOL/OFFICE</td>\n",
       "      <td>UNSCENTED</td>\n",
       "      <td>1</td>\n",
       "      <td>1</td>\n",
       "      <td>178177</td>\n",
       "    </tr>\n",
       "    <tr>\n",
       "      <th>21</th>\n",
       "      <td>SEASONAL</td>\n",
       "      <td>UNSCENTED,NONE,GRAPE,STRAWBERRY,CHERRY,BLUEBER...</td>\n",
       "      <td>5</td>\n",
       "      <td>2250</td>\n",
       "      <td>162315</td>\n",
       "    </tr>\n",
       "    <tr>\n",
       "      <th>22</th>\n",
       "      <td>SPORTING GOODS</td>\n",
       "      <td>UNSCENTED</td>\n",
       "      <td>1</td>\n",
       "      <td>1</td>\n",
       "      <td>56738</td>\n",
       "    </tr>\n",
       "  </tbody>\n",
       "</table>\n",
       "</div>"
      ],
      "text/plain": [
       "            DPT_DSC                                      UNIQUE SCENTS  \\\n",
       "0              BABY  MEDICATED,FRAGRANCE FREE,UNSCENTED,BABY_FRESH,...   \n",
       "1            BEAUTY  COCONUT MILK,MANGO,TEA TREE,TROPICAL BOOST,SAN...   \n",
       "2             CANDY                                 ACAI AND WHITE TEA   \n",
       "3         CHILDRENS                                           LAVENDER   \n",
       "4      CKY/CRKR/SNK                            ACAI,ACAI AND WHITE TEA   \n",
       "5     FURN/HOME DEC  NONE,TEAKWOOD,OTHER,HONEYSUCKLE,UNSCENTED,GARD...   \n",
       "6    GARDEN-OUTDOOR                                     UNSCENTED,NONE   \n",
       "7           GM-MISC                                              FRESH   \n",
       "8   GROC NON-EDIBLE  ORIGINAL,LINENSKY,APPLE,OTHER,PUMPKIN,MOUNTAIN...   \n",
       "9    GROC-ALL OTHER  NONE,FIELD FLOWERS,ACAI & MANDARIN ORANGE,4 SE...   \n",
       "10   HBC NON-EDIBLE  OTHER,PEACH,RAIN,VANILLA,LEMONGRASS,ORANGE,FRE...   \n",
       "11           HEALTH  COOLING PEPPERMINT,UNSCENTED,VANISHING SCENT,F...   \n",
       "12    HOME IMPRVMNT  ORANGE,HAWAIIANBREEZE,OTHER,LAVENDAR,NONE,MANG...   \n",
       "13       HOUSEWARES                                    FRESH,4 SEAWEED   \n",
       "14        MENS WEAR                                     NONE,UNSCENTED   \n",
       "15    NATURAL FOODS  ACAI AND WHITE TEA,ACAI,1000 ROSES,ACAI & YLAN...   \n",
       "16    NF NON-EDIBLE  FROSTED FIR,HOLLYBERRY,ORIGINAL CITRUS,LAVENDE...   \n",
       "17    PERSONAL CARE  PHOENIX,APOLLO,FRAGRANCE FREE,CITRUS,BERGAMOT ...   \n",
       "18              PET  PEPPERMINT,NONE,PETODORELIMINATOR,UNSCENTED,OD...   \n",
       "19           RX-OTC                                     FRAGRANCE FREE   \n",
       "20    SCHOOL/OFFICE                                          UNSCENTED   \n",
       "21         SEASONAL  UNSCENTED,NONE,GRAPE,STRAWBERRY,CHERRY,BLUEBER...   \n",
       "22   SPORTING GOODS                                          UNSCENTED   \n",
       "\n",
       "    UNIQUE SCENT COUNT  ITEM_WITH_SCENT_COUNT  TOTAL_ITEM_COUNT  \n",
       "0                   65                    240             21011  \n",
       "1                  557                   2595            277878  \n",
       "2                    1                      1             50568  \n",
       "3                    1                      1            204629  \n",
       "4                    2                      2             36067  \n",
       "5                  134                   1555            557632  \n",
       "6                    1                      4            245563  \n",
       "7                    1                      1              2006  \n",
       "8                  230                    949             37702  \n",
       "9                    5                     39            195187  \n",
       "10                   7                     22             14252  \n",
       "11                  22                     42            101451  \n",
       "12                  16                     71            190498  \n",
       "13                   2                      2            301653  \n",
       "14                   1                      9            354448  \n",
       "15                  12                     25             78193  \n",
       "16                 125                    271              3184  \n",
       "17                 455                   1248             55934  \n",
       "18                  40                    277             96504  \n",
       "19                   1                      1             10330  \n",
       "20                   1                      1            178177  \n",
       "21                   5                   2250            162315  \n",
       "22                   1                      1             56738  "
      ]
     },
     "execution_count": 83,
     "metadata": {},
     "output_type": "execute_result"
    }
   ],
   "source": [
    "scents_DPT"
   ]
  },
  {
   "cell_type": "code",
   "execution_count": 84,
   "id": "230c4bf3",
   "metadata": {},
   "outputs": [
    {
     "data": {
      "text/plain": [
       "9607"
      ]
     },
     "execution_count": 84,
     "metadata": {},
     "output_type": "execute_result"
    }
   ],
   "source": [
    "scents_DPT['ITEM_WITH_SCENT_COUNT'].sum()"
   ]
  },
  {
   "cell_type": "code",
   "execution_count": 85,
   "id": "08c58deb",
   "metadata": {},
   "outputs": [
    {
     "data": {
      "text/plain": [
       "3231920"
      ]
     },
     "execution_count": 85,
     "metadata": {},
     "output_type": "execute_result"
    }
   ],
   "source": [
    "scents_DPT['TOTAL_ITEM_COUNT'].sum()"
   ]
  },
  {
   "cell_type": "code",
   "execution_count": 86,
   "id": "75226296",
   "metadata": {},
   "outputs": [],
   "source": [
    "scents_DPT.to_excel('SCENTS_SUMMARY_BY_DEPT_102523.xlsx')"
   ]
  },
  {
   "cell_type": "code",
   "execution_count": null,
   "id": "1f5391ff",
   "metadata": {},
   "outputs": [],
   "source": []
  }
 ],
 "metadata": {
  "kernelspec": {
   "display_name": "Python 3 (ipykernel)",
   "language": "python",
   "name": "python3"
  },
  "language_info": {
   "codemirror_mode": {
    "name": "ipython",
    "version": 3
   },
   "file_extension": ".py",
   "mimetype": "text/x-python",
   "name": "python",
   "nbconvert_exporter": "python",
   "pygments_lexer": "ipython3",
   "version": "3.10.9"
  }
 },
 "nbformat": 4,
 "nbformat_minor": 5
}
