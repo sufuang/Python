{
 "cells": [
  {
   "cell_type": "code",
   "execution_count": 0,
   "metadata": {
    "application/vnd.databricks.v1+cell": {
     "cellMetadata": {
      "byteLimit": 2048000,
      "rowLimit": 10000
     },
     "inputWidgets": {},
     "nuid": "08554bd2-99ed-464b-9a51-b7a9c2e7f0ed",
     "showTitle": false,
     "title": ""
    }
   },
   "outputs": [
    {
     "data": {
      "application/vnd.databricks.v1+bamboolib_hint": "{\"pd.DataFrames\": [], \"version\": \"0.0.1\"}",
      "text/plain": []
     },
     "metadata": {},
     "output_type": "display_data"
    }
   ],
   "source": [
    "import pandas as pd, numpy as np"
   ]
  },
  {
   "cell_type": "markdown",
   "metadata": {
    "application/vnd.databricks.v1+cell": {
     "cellMetadata": {
      "byteLimit": 2048000,
      "rowLimit": 10000
     },
     "inputWidgets": {},
     "nuid": "ae14bc96-e6f1-468b-9f6f-682c7ec1ffe9",
     "showTitle": false,
     "title": ""
    }
   },
   "source": [
    "install -U numpy\n",
    "#numpy==1.24.3"
   ]
  },
  {
   "cell_type": "code",
   "execution_count": 0,
   "metadata": {
    "application/vnd.databricks.v1+cell": {
     "cellMetadata": {
      "byteLimit": 2048000,
      "rowLimit": 10000
     },
     "inputWidgets": {},
     "nuid": "039fe0c0-a88e-402f-96c9-e0e8c0f02769",
     "showTitle": false,
     "title": ""
    }
   },
   "outputs": [
    {
     "name": "stderr",
     "output_type": "stream",
     "text": [
      "/databricks/python/lib/python3.9/site-packages/scipy/__init__.py:146: UserWarning: A NumPy version >=1.16.5 and <1.23.0 is required for this version of SciPy (detected version 1.24.3\n",
      "  warnings.warn(f\"A NumPy version >={np_minversion} and <{np_maxversion}\"\n"
     ]
    }
   ],
   "source": [
    "import gensim"
   ]
  },
  {
   "cell_type": "code",
   "execution_count": 0,
   "metadata": {
    "application/vnd.databricks.v1+cell": {
     "cellMetadata": {
      "byteLimit": 2048000,
      "rowLimit": 10000
     },
     "inputWidgets": {},
     "nuid": "8eda07e3-4395-447b-a348-3b8c98771fc4",
     "showTitle": false,
     "title": ""
    }
   },
   "outputs": [
    {
     "data": {
      "text/html": [
       "<style scoped>\n",
       "  .ansiout {\n",
       "    display: block;\n",
       "    unicode-bidi: embed;\n",
       "    white-space: pre-wrap;\n",
       "    word-wrap: break-word;\n",
       "    word-break: break-all;\n",
       "    font-family: \"Source Code Pro\", \"Menlo\", monospace;;\n",
       "    font-size: 13px;\n",
       "    color: #555;\n",
       "    margin-left: 4px;\n",
       "    line-height: 19px;\n",
       "  }\n",
       "</style>\n",
       "<div class=\"ansiout\"></div>"
      ]
     },
     "metadata": {
      "application/vnd.databricks.v1+output": {
       "addedWidgets": {},
       "arguments": {},
       "data": "<div class=\"ansiout\"></div>",
       "datasetInfos": [],
       "metadata": {},
       "removedWidgets": [],
       "type": "html"
      }
     },
     "output_type": "display_data"
    }
   ],
   "source": [
    "syndigo_mapped = pd.read_csv('\n",
    "                             ')"
   ]
  },
  {
   "cell_type": "code",
   "execution_count": 0,
   "metadata": {
    "application/vnd.databricks.v1+cell": {
     "cellMetadata": {
      "byteLimit": 2048000,
      "rowLimit": 10000
     },
     "inputWidgets": {},
     "nuid": "c52e21a0-f306-47dc-8fbc-edcd9d6346a7",
     "showTitle": false,
     "title": ""
    }
   },
   "outputs": [
    {
     "data": {
      "text/html": [
       "<style scoped>\n",
       "  .ansiout {\n",
       "    display: block;\n",
       "    unicode-bidi: embed;\n",
       "    white-space: pre-wrap;\n",
       "    word-wrap: break-word;\n",
       "    word-break: break-all;\n",
       "    font-family: \"Source Code Pro\", \"Menlo\", monospace;;\n",
       "    font-size: 13px;\n",
       "    color: #555;\n",
       "    margin-left: 4px;\n",
       "    line-height: 19px;\n",
       "  }\n",
       "</style>\n",
       "<div class=\"ansiout\">Out[5]: (113898, 13)</div>"
      ]
     },
     "metadata": {
      "application/vnd.databricks.v1+output": {
       "addedWidgets": {},
       "arguments": {},
       "data": "<div class=\"ansiout\">Out[5]: (113898, 13)</div>",
       "datasetInfos": [],
       "metadata": {},
       "removedWidgets": [],
       "type": "html"
      }
     },
     "output_type": "display_data"
    }
   ],
   "source": [
    "syndigo_mapped.shape"
   ]
  },
  {
   "cell_type": "code",
   "execution_count": 0,
   "metadata": {
    "application/vnd.databricks.v1+cell": {
     "cellMetadata": {
      "byteLimit": 2048000,
      "rowLimit": 10000
     },
     "inputWidgets": {},
     "nuid": "eba3ec57-87c8-410b-af80-a1e6ffc716ee",
     "showTitle": false,
     "title": ""
    }
   },
   "outputs": [
    {
     "data": {
      "text/html": [
       "<style scoped>\n",
       "  .ansiout {\n",
       "    display: block;\n",
       "    unicode-bidi: embed;\n",
       "    white-space: pre-wrap;\n",
       "    word-wrap: break-word;\n",
       "    word-break: break-all;\n",
       "    font-family: \"Source Code Pro\", \"Menlo\", monospace;;\n",
       "    font-size: 13px;\n",
       "    color: #555;\n",
       "    margin-left: 4px;\n",
       "    line-height: 19px;\n",
       "  }\n",
       "</style>\n",
       "<div class=\"ansiout\">Out[6]: </div>"
      ]
     },
     "metadata": {
      "application/vnd.databricks.v1+output": {
       "addedWidgets": {},
       "arguments": {},
       "data": "<div class=\"ansiout\">Out[6]: </div>",
       "datasetInfos": [],
       "metadata": {},
       "removedWidgets": [],
       "type": "html"
      }
     },
     "output_type": "display_data"
    },
    {
     "data": {
      "text/html": [
       "<div>\n",
       "<style scoped>\n",
       "    .dataframe tbody tr th:only-of-type {\n",
       "        vertical-align: middle;\n",
       "    }\n",
       "\n",
       "    .dataframe tbody tr th {\n",
       "        vertical-align: top;\n",
       "    }\n",
       "\n",
       "    .dataframe thead th {\n",
       "        text-align: right;\n",
       "    }\n",
       "</style>\n",
       "<table border=\"1\" class=\"dataframe\">\n",
       "  <thead>\n",
       "    <tr style=\"text-align: right;\">\n",
       "      <th></th>\n",
       "      <th>GTIN</th>\n",
       "      <th>Syndigo Taxonomy</th>\n",
       "      <th>Level Mapped</th>\n",
       "      <th>Level 1</th>\n",
       "      <th>Level 2</th>\n",
       "      <th>Level 3</th>\n",
       "      <th>Level 4</th>\n",
       "      <th>Level 5</th>\n",
       "      <th>Level 6</th>\n",
       "      <th>Level 7</th>\n",
       "      <th>Level 8</th>\n",
       "      <th>Level 9</th>\n",
       "      <th>Level 10</th>\n",
       "    </tr>\n",
       "  </thead>\n",
       "  <tbody>\n",
       "    <tr>\n",
       "      <th>0</th>\n",
       "      <td>86003018082</td>\n",
       "      <td>Still</td>\n",
       "      <td>Level 3</td>\n",
       "      <td>Beer / Wine / Spirits</td>\n",
       "      <td>Wine</td>\n",
       "      <td>Still</td>\n",
       "      <td>NaN</td>\n",
       "      <td>NaN</td>\n",
       "      <td>NaN</td>\n",
       "      <td>NaN</td>\n",
       "      <td>NaN</td>\n",
       "      <td>NaN</td>\n",
       "      <td>NaN</td>\n",
       "    </tr>\n",
       "    <tr>\n",
       "      <th>1</th>\n",
       "      <td>33900002157</td>\n",
       "      <td>Sandwich Meat</td>\n",
       "      <td>Level 4</td>\n",
       "      <td>Food / Beverages</td>\n",
       "      <td>Meat / Poultry / Seafood / Meat Substitutes (P...</td>\n",
       "      <td>Prepared / Processed Animal Products</td>\n",
       "      <td>Sandwich Meat</td>\n",
       "      <td>NaN</td>\n",
       "      <td>NaN</td>\n",
       "      <td>NaN</td>\n",
       "      <td>NaN</td>\n",
       "      <td>NaN</td>\n",
       "      <td>NaN</td>\n",
       "    </tr>\n",
       "    <tr>\n",
       "      <th>2</th>\n",
       "      <td>663204242494</td>\n",
       "      <td>Foam &amp; Liquid</td>\n",
       "      <td>Level 4</td>\n",
       "      <td>Health &amp; Beauty</td>\n",
       "      <td>Personal Care</td>\n",
       "      <td>Soaps</td>\n",
       "      <td>Foam &amp; Liquid</td>\n",
       "      <td>NaN</td>\n",
       "      <td>NaN</td>\n",
       "      <td>NaN</td>\n",
       "      <td>NaN</td>\n",
       "      <td>NaN</td>\n",
       "      <td>NaN</td>\n",
       "    </tr>\n",
       "    <tr>\n",
       "      <th>3</th>\n",
       "      <td>879890002032</td>\n",
       "      <td>Crackers &amp; Crispbreads</td>\n",
       "      <td>Level 4</td>\n",
       "      <td>Food / Beverages</td>\n",
       "      <td>Grocery</td>\n",
       "      <td>Snack Foods</td>\n",
       "      <td>Crackers &amp; Crispbreads</td>\n",
       "      <td>NaN</td>\n",
       "      <td>NaN</td>\n",
       "      <td>NaN</td>\n",
       "      <td>NaN</td>\n",
       "      <td>NaN</td>\n",
       "      <td>NaN</td>\n",
       "    </tr>\n",
       "    <tr>\n",
       "      <th>4</th>\n",
       "      <td>70501013502</td>\n",
       "      <td>Bars &amp; Solids</td>\n",
       "      <td>Level 4</td>\n",
       "      <td>Health &amp; Beauty</td>\n",
       "      <td>Personal Care</td>\n",
       "      <td>Soaps</td>\n",
       "      <td>Bars &amp; Solids</td>\n",
       "      <td>NaN</td>\n",
       "      <td>NaN</td>\n",
       "      <td>NaN</td>\n",
       "      <td>NaN</td>\n",
       "      <td>NaN</td>\n",
       "      <td>NaN</td>\n",
       "    </tr>\n",
       "    <tr>\n",
       "      <th>...</th>\n",
       "      <td>...</td>\n",
       "      <td>...</td>\n",
       "      <td>...</td>\n",
       "      <td>...</td>\n",
       "      <td>...</td>\n",
       "      <td>...</td>\n",
       "      <td>...</td>\n",
       "      <td>...</td>\n",
       "      <td>...</td>\n",
       "      <td>...</td>\n",
       "      <td>...</td>\n",
       "      <td>...</td>\n",
       "      <td>...</td>\n",
       "    </tr>\n",
       "    <tr>\n",
       "      <th>113893</th>\n",
       "      <td>850020861101</td>\n",
       "      <td>Plant-Based Fats &amp; Oils</td>\n",
       "      <td>Level 4</td>\n",
       "      <td>Food / Beverages</td>\n",
       "      <td>Grocery</td>\n",
       "      <td>Fats &amp; Oils</td>\n",
       "      <td>Plant-Based Fats &amp; Oils</td>\n",
       "      <td>NaN</td>\n",
       "      <td>NaN</td>\n",
       "      <td>NaN</td>\n",
       "      <td>NaN</td>\n",
       "      <td>NaN</td>\n",
       "      <td>NaN</td>\n",
       "    </tr>\n",
       "    <tr>\n",
       "      <th>113894</th>\n",
       "      <td>77900471339</td>\n",
       "      <td>Egg-Based Products (Frozen)</td>\n",
       "      <td>Level 4</td>\n",
       "      <td>Food / Beverages</td>\n",
       "      <td>Frozen Foods</td>\n",
       "      <td>Dairy &amp; Egg Products (Frozen)</td>\n",
       "      <td>Egg-Based Products (Frozen)</td>\n",
       "      <td>NaN</td>\n",
       "      <td>NaN</td>\n",
       "      <td>NaN</td>\n",
       "      <td>NaN</td>\n",
       "      <td>NaN</td>\n",
       "      <td>NaN</td>\n",
       "    </tr>\n",
       "    <tr>\n",
       "      <th>113895</th>\n",
       "      <td>52000512335</td>\n",
       "      <td>Distilled Water</td>\n",
       "      <td>Level 4</td>\n",
       "      <td>Food / Beverages</td>\n",
       "      <td>Beverages</td>\n",
       "      <td>Water</td>\n",
       "      <td>Distilled Water</td>\n",
       "      <td>NaN</td>\n",
       "      <td>NaN</td>\n",
       "      <td>NaN</td>\n",
       "      <td>NaN</td>\n",
       "      <td>NaN</td>\n",
       "      <td>NaN</td>\n",
       "    </tr>\n",
       "    <tr>\n",
       "      <th>113896</th>\n",
       "      <td>51500255780</td>\n",
       "      <td>Nut &amp; Seed Butters</td>\n",
       "      <td>Level 4</td>\n",
       "      <td>Food / Beverages</td>\n",
       "      <td>Grocery</td>\n",
       "      <td>Condiments</td>\n",
       "      <td>Nut &amp; Seed Butters</td>\n",
       "      <td>NaN</td>\n",
       "      <td>NaN</td>\n",
       "      <td>NaN</td>\n",
       "      <td>NaN</td>\n",
       "      <td>NaN</td>\n",
       "      <td>NaN</td>\n",
       "    </tr>\n",
       "    <tr>\n",
       "      <th>113897</th>\n",
       "      <td>13562000180</td>\n",
       "      <td>Crackers &amp; Crispbreads</td>\n",
       "      <td>Level 4</td>\n",
       "      <td>Food / Beverages</td>\n",
       "      <td>Grocery</td>\n",
       "      <td>Snack Foods</td>\n",
       "      <td>Crackers &amp; Crispbreads</td>\n",
       "      <td>NaN</td>\n",
       "      <td>NaN</td>\n",
       "      <td>NaN</td>\n",
       "      <td>NaN</td>\n",
       "      <td>NaN</td>\n",
       "      <td>NaN</td>\n",
       "    </tr>\n",
       "  </tbody>\n",
       "</table>\n",
       "<p>113898 rows × 13 columns</p>\n",
       "</div>"
      ]
     },
     "metadata": {
      "application/vnd.databricks.v1+output": {
       "addedWidgets": {},
       "arguments": {},
       "data": "<div>\n<style scoped>\n    .dataframe tbody tr th:only-of-type {\n        vertical-align: middle;\n    }\n\n    .dataframe tbody tr th {\n        vertical-align: top;\n    }\n\n    .dataframe thead th {\n        text-align: right;\n    }\n</style>\n<table border=\"1\" class=\"dataframe\">\n  <thead>\n    <tr style=\"text-align: right;\">\n      <th></th>\n      <th>GTIN</th>\n      <th>Syndigo Taxonomy</th>\n      <th>Level Mapped</th>\n      <th>Level 1</th>\n      <th>Level 2</th>\n      <th>Level 3</th>\n      <th>Level 4</th>\n      <th>Level 5</th>\n      <th>Level 6</th>\n      <th>Level 7</th>\n      <th>Level 8</th>\n      <th>Level 9</th>\n      <th>Level 10</th>\n    </tr>\n  </thead>\n  <tbody>\n    <tr>\n      <th>0</th>\n      <td>86003018082</td>\n      <td>Still</td>\n      <td>Level 3</td>\n      <td>Beer / Wine / Spirits</td>\n      <td>Wine</td>\n      <td>Still</td>\n      <td>NaN</td>\n      <td>NaN</td>\n      <td>NaN</td>\n      <td>NaN</td>\n      <td>NaN</td>\n      <td>NaN</td>\n      <td>NaN</td>\n    </tr>\n    <tr>\n      <th>1</th>\n      <td>33900002157</td>\n      <td>Sandwich Meat</td>\n      <td>Level 4</td>\n      <td>Food / Beverages</td>\n      <td>Meat / Poultry / Seafood / Meat Substitutes (P...</td>\n      <td>Prepared / Processed Animal Products</td>\n      <td>Sandwich Meat</td>\n      <td>NaN</td>\n      <td>NaN</td>\n      <td>NaN</td>\n      <td>NaN</td>\n      <td>NaN</td>\n      <td>NaN</td>\n    </tr>\n    <tr>\n      <th>2</th>\n      <td>663204242494</td>\n      <td>Foam &amp; Liquid</td>\n      <td>Level 4</td>\n      <td>Health &amp; Beauty</td>\n      <td>Personal Care</td>\n      <td>Soaps</td>\n      <td>Foam &amp; Liquid</td>\n      <td>NaN</td>\n      <td>NaN</td>\n      <td>NaN</td>\n      <td>NaN</td>\n      <td>NaN</td>\n      <td>NaN</td>\n    </tr>\n    <tr>\n      <th>3</th>\n      <td>879890002032</td>\n      <td>Crackers &amp; Crispbreads</td>\n      <td>Level 4</td>\n      <td>Food / Beverages</td>\n      <td>Grocery</td>\n      <td>Snack Foods</td>\n      <td>Crackers &amp; Crispbreads</td>\n      <td>NaN</td>\n      <td>NaN</td>\n      <td>NaN</td>\n      <td>NaN</td>\n      <td>NaN</td>\n      <td>NaN</td>\n    </tr>\n    <tr>\n      <th>4</th>\n      <td>70501013502</td>\n      <td>Bars &amp; Solids</td>\n      <td>Level 4</td>\n      <td>Health &amp; Beauty</td>\n      <td>Personal Care</td>\n      <td>Soaps</td>\n      <td>Bars &amp; Solids</td>\n      <td>NaN</td>\n      <td>NaN</td>\n      <td>NaN</td>\n      <td>NaN</td>\n      <td>NaN</td>\n      <td>NaN</td>\n    </tr>\n    <tr>\n      <th>...</th>\n      <td>...</td>\n      <td>...</td>\n      <td>...</td>\n      <td>...</td>\n      <td>...</td>\n      <td>...</td>\n      <td>...</td>\n      <td>...</td>\n      <td>...</td>\n      <td>...</td>\n      <td>...</td>\n      <td>...</td>\n      <td>...</td>\n    </tr>\n    <tr>\n      <th>113893</th>\n      <td>850020861101</td>\n      <td>Plant-Based Fats &amp; Oils</td>\n      <td>Level 4</td>\n      <td>Food / Beverages</td>\n      <td>Grocery</td>\n      <td>Fats &amp; Oils</td>\n      <td>Plant-Based Fats &amp; Oils</td>\n      <td>NaN</td>\n      <td>NaN</td>\n      <td>NaN</td>\n      <td>NaN</td>\n      <td>NaN</td>\n      <td>NaN</td>\n    </tr>\n    <tr>\n      <th>113894</th>\n      <td>77900471339</td>\n      <td>Egg-Based Products (Frozen)</td>\n      <td>Level 4</td>\n      <td>Food / Beverages</td>\n      <td>Frozen Foods</td>\n      <td>Dairy &amp; Egg Products (Frozen)</td>\n      <td>Egg-Based Products (Frozen)</td>\n      <td>NaN</td>\n      <td>NaN</td>\n      <td>NaN</td>\n      <td>NaN</td>\n      <td>NaN</td>\n      <td>NaN</td>\n    </tr>\n    <tr>\n      <th>113895</th>\n      <td>52000512335</td>\n      <td>Distilled Water</td>\n      <td>Level 4</td>\n      <td>Food / Beverages</td>\n      <td>Beverages</td>\n      <td>Water</td>\n      <td>Distilled Water</td>\n      <td>NaN</td>\n      <td>NaN</td>\n      <td>NaN</td>\n      <td>NaN</td>\n      <td>NaN</td>\n      <td>NaN</td>\n    </tr>\n    <tr>\n      <th>113896</th>\n      <td>51500255780</td>\n      <td>Nut &amp; Seed Butters</td>\n      <td>Level 4</td>\n      <td>Food / Beverages</td>\n      <td>Grocery</td>\n      <td>Condiments</td>\n      <td>Nut &amp; Seed Butters</td>\n      <td>NaN</td>\n      <td>NaN</td>\n      <td>NaN</td>\n      <td>NaN</td>\n      <td>NaN</td>\n      <td>NaN</td>\n    </tr>\n    <tr>\n      <th>113897</th>\n      <td>13562000180</td>\n      <td>Crackers &amp; Crispbreads</td>\n      <td>Level 4</td>\n      <td>Food / Beverages</td>\n      <td>Grocery</td>\n      <td>Snack Foods</td>\n      <td>Crackers &amp; Crispbreads</td>\n      <td>NaN</td>\n      <td>NaN</td>\n      <td>NaN</td>\n      <td>NaN</td>\n      <td>NaN</td>\n      <td>NaN</td>\n    </tr>\n  </tbody>\n</table>\n<p>113898 rows × 13 columns</p>\n</div>",
       "datasetInfos": [],
       "metadata": {},
       "removedWidgets": [],
       "textData": null,
       "type": "htmlSandbox"
      }
     },
     "output_type": "display_data"
    }
   ],
   "source": [
    "syndigo_mapped"
   ]
  },
  {
   "cell_type": "code",
   "execution_count": 0,
   "metadata": {
    "application/vnd.databricks.v1+cell": {
     "cellMetadata": {
      "byteLimit": 2048000,
      "rowLimit": 10000
     },
     "inputWidgets": {},
     "nuid": "465948b6-a047-40fd-a57e-7766743f28c6",
     "showTitle": false,
     "title": ""
    }
   },
   "outputs": [
    {
     "data": {
      "text/html": [
       "<style scoped>\n",
       "  .ansiout {\n",
       "    display: block;\n",
       "    unicode-bidi: embed;\n",
       "    white-space: pre-wrap;\n",
       "    word-wrap: break-word;\n",
       "    word-break: break-all;\n",
       "    font-family: \"Source Code Pro\", \"Menlo\", monospace;;\n",
       "    font-size: 13px;\n",
       "    color: #555;\n",
       "    margin-left: 4px;\n",
       "    line-height: 19px;\n",
       "  }\n",
       "</style>\n",
       "<div class=\"ansiout\">Out[7]: (113898, 13)</div>"
      ]
     },
     "metadata": {
      "application/vnd.databricks.v1+output": {
       "addedWidgets": {},
       "arguments": {},
       "data": "<div class=\"ansiout\">Out[7]: (113898, 13)</div>",
       "datasetInfos": [],
       "metadata": {},
       "removedWidgets": [],
       "type": "html"
      }
     },
     "output_type": "display_data"
    }
   ],
   "source": [
    "syndigo_mapped.shape"
   ]
  },
  {
   "cell_type": "code",
   "execution_count": 0,
   "metadata": {
    "application/vnd.databricks.v1+cell": {
     "cellMetadata": {
      "byteLimit": 2048000,
      "rowLimit": 10000
     },
     "inputWidgets": {},
     "nuid": "0de3e601-67e6-4da3-af00-698634cbb02e",
     "showTitle": false,
     "title": ""
    }
   },
   "outputs": [
    {
     "data": {
      "text/html": [
       "<style scoped>\n",
       "  .ansiout {\n",
       "    display: block;\n",
       "    unicode-bidi: embed;\n",
       "    white-space: pre-wrap;\n",
       "    word-wrap: break-word;\n",
       "    word-break: break-all;\n",
       "    font-family: \"Source Code Pro\", \"Menlo\", monospace;;\n",
       "    font-size: 13px;\n",
       "    color: #555;\n",
       "    margin-left: 4px;\n",
       "    line-height: 19px;\n",
       "  }\n",
       "</style>\n",
       "<div class=\"ansiout\"></div>"
      ]
     },
     "metadata": {
      "application/vnd.databricks.v1+output": {
       "addedWidgets": {},
       "arguments": {},
       "data": "<div class=\"ansiout\"></div>",
       "datasetInfos": [],
       "metadata": {},
       "removedWidgets": [],
       "type": "html"
      }
     },
     "output_type": "display_data"
    }
   ],
   "source": [
    "syndigo_mapped.drop_duplicates('GTIN', inplace = True)"
   ]
  },
  {
   "cell_type": "code",
   "execution_count": 0,
   "metadata": {
    "application/vnd.databricks.v1+cell": {
     "cellMetadata": {
      "byteLimit": 2048000,
      "rowLimit": 10000
     },
     "inputWidgets": {},
     "nuid": "6014ae02-eef4-4d80-8a2c-286611d0be65",
     "showTitle": false,
     "title": ""
    }
   },
   "outputs": [
    {
     "data": {
      "text/html": [
       "<style scoped>\n",
       "  .ansiout {\n",
       "    display: block;\n",
       "    unicode-bidi: embed;\n",
       "    white-space: pre-wrap;\n",
       "    word-wrap: break-word;\n",
       "    word-break: break-all;\n",
       "    font-family: \"Source Code Pro\", \"Menlo\", monospace;;\n",
       "    font-size: 13px;\n",
       "    color: #555;\n",
       "    margin-left: 4px;\n",
       "    line-height: 19px;\n",
       "  }\n",
       "</style>\n",
       "<div class=\"ansiout\">Out[9]: 2025</div>"
      ]
     },
     "metadata": {
      "application/vnd.databricks.v1+output": {
       "addedWidgets": {},
       "arguments": {},
       "data": "<div class=\"ansiout\">Out[9]: 2025</div>",
       "datasetInfos": [],
       "metadata": {},
       "removedWidgets": [],
       "type": "html"
      }
     },
     "output_type": "display_data"
    }
   ],
   "source": [
    "syndigo_mapped['Syndigo Taxonomy'].nunique()"
   ]
  },
  {
   "cell_type": "markdown",
   "metadata": {
    "application/vnd.databricks.v1+cell": {
     "cellMetadata": {},
     "inputWidgets": {},
     "nuid": "bf7e8695-cdef-4e60-a3e5-4f58e345980d",
     "showTitle": false,
     "title": ""
    }
   },
   "source": [
    "### Distribution of Syndigo Levels"
   ]
  },
  {
   "cell_type": "code",
   "execution_count": 0,
   "metadata": {
    "application/vnd.databricks.v1+cell": {
     "cellMetadata": {
      "byteLimit": 2048000,
      "rowLimit": 10000
     },
     "inputWidgets": {},
     "nuid": "76f6ffe0-69eb-4ea6-b1dc-a6ad4fec0698",
     "showTitle": false,
     "title": ""
    }
   },
   "outputs": [
    {
     "data": {
      "text/html": [
       "<style scoped>\n",
       "  .ansiout {\n",
       "    display: block;\n",
       "    unicode-bidi: embed;\n",
       "    white-space: pre-wrap;\n",
       "    word-wrap: break-word;\n",
       "    word-break: break-all;\n",
       "    font-family: \"Source Code Pro\", \"Menlo\", monospace;;\n",
       "    font-size: 13px;\n",
       "    color: #555;\n",
       "    margin-left: 4px;\n",
       "    line-height: 19px;\n",
       "  }\n",
       "</style>\n",
       "<div class=\"ansiout\">Out[10]: 32</div>"
      ]
     },
     "metadata": {
      "application/vnd.databricks.v1+output": {
       "addedWidgets": {},
       "arguments": {},
       "data": "<div class=\"ansiout\">Out[10]: 32</div>",
       "datasetInfos": [],
       "metadata": {},
       "removedWidgets": [],
       "type": "html"
      }
     },
     "output_type": "display_data"
    }
   ],
   "source": [
    "syndigo_mapped['Level 1'].nunique()"
   ]
  },
  {
   "cell_type": "code",
   "execution_count": 0,
   "metadata": {
    "application/vnd.databricks.v1+cell": {
     "cellMetadata": {
      "byteLimit": 2048000,
      "rowLimit": 10000
     },
     "inputWidgets": {},
     "nuid": "5317e8f6-3081-4c82-a0f3-530af54630bc",
     "showTitle": false,
     "title": ""
    }
   },
   "outputs": [
    {
     "data": {
      "text/html": [
       "<style scoped>\n",
       "  .ansiout {\n",
       "    display: block;\n",
       "    unicode-bidi: embed;\n",
       "    white-space: pre-wrap;\n",
       "    word-wrap: break-word;\n",
       "    word-break: break-all;\n",
       "    font-family: \"Source Code Pro\", \"Menlo\", monospace;;\n",
       "    font-size: 13px;\n",
       "    color: #555;\n",
       "    margin-left: 4px;\n",
       "    line-height: 19px;\n",
       "  }\n",
       "</style>\n",
       "<div class=\"ansiout\">Out[11]: array([&#39;Beer / Wine / Spirits&#39;, &#39;Food / Beverages&#39;, &#39;Health &amp; Beauty&#39;,\n",
       "       &#39;Gardening &amp; Outdoors&#39;, &#39;Cleaning &amp; Janitorial&#39;,\n",
       "       &#39;Livestock &amp; Pet Supplies&#39;, &#39;Kitchen &amp; Bathroom&#39;, nan,\n",
       "       &#39;Electronics&#39;, &#39;Heating / Ventilation / Air Conditioning&#39;,\n",
       "       &#39;Childcare&#39;, &#39;Home &amp; Venue Decoration&#39;, &#39;Toys / Games / Hobbies&#39;,\n",
       "       &#39;Office Supplies&#39;, &#39;Appliances&#39;, &#39;Apparel&#39;, &#39;Lighting &amp; Fans&#39;,\n",
       "       &#39;Hospitality Supplies&#39;, &#39;Hardware&#39;, &#39;Automotive&#39;, &#39;Tools&#39;,\n",
       "       &#39;Plumbing &amp; Water Service&#39;, &#39;Power Sports&#39;, &#39;Tobacco Products&#39;,\n",
       "       &#39;Arts &amp; Crafts&#39;, &#39;Sports &amp; Outdoor Recreation Equipment&#39;,\n",
       "       &#39;Building Supplies&#39;, &#39;Paints &amp; Coatings&#39;, &#39;Electrical&#39;,\n",
       "       &#39;Books &amp; Videos&#39;, &#39;Furniture&#39;, &#39;Marine&#39;, &#39;Material Handling&#39;],\n",
       "      dtype=object)</div>"
      ]
     },
     "metadata": {
      "application/vnd.databricks.v1+output": {
       "addedWidgets": {},
       "arguments": {},
       "data": "<div class=\"ansiout\">Out[11]: array([&#39;Beer / Wine / Spirits&#39;, &#39;Food / Beverages&#39;, &#39;Health &amp; Beauty&#39;,\n       &#39;Gardening &amp; Outdoors&#39;, &#39;Cleaning &amp; Janitorial&#39;,\n       &#39;Livestock &amp; Pet Supplies&#39;, &#39;Kitchen &amp; Bathroom&#39;, nan,\n       &#39;Electronics&#39;, &#39;Heating / Ventilation / Air Conditioning&#39;,\n       &#39;Childcare&#39;, &#39;Home &amp; Venue Decoration&#39;, &#39;Toys / Games / Hobbies&#39;,\n       &#39;Office Supplies&#39;, &#39;Appliances&#39;, &#39;Apparel&#39;, &#39;Lighting &amp; Fans&#39;,\n       &#39;Hospitality Supplies&#39;, &#39;Hardware&#39;, &#39;Automotive&#39;, &#39;Tools&#39;,\n       &#39;Plumbing &amp; Water Service&#39;, &#39;Power Sports&#39;, &#39;Tobacco Products&#39;,\n       &#39;Arts &amp; Crafts&#39;, &#39;Sports &amp; Outdoor Recreation Equipment&#39;,\n       &#39;Building Supplies&#39;, &#39;Paints &amp; Coatings&#39;, &#39;Electrical&#39;,\n       &#39;Books &amp; Videos&#39;, &#39;Furniture&#39;, &#39;Marine&#39;, &#39;Material Handling&#39;],\n      dtype=object)</div>",
       "datasetInfos": [],
       "metadata": {},
       "removedWidgets": [],
       "type": "html"
      }
     },
     "output_type": "display_data"
    }
   ],
   "source": [
    "syndigo_mapped['Level 1'].unique()"
   ]
  },
  {
   "cell_type": "code",
   "execution_count": 0,
   "metadata": {
    "application/vnd.databricks.v1+cell": {
     "cellMetadata": {
      "byteLimit": 2048000,
      "rowLimit": 10000
     },
     "inputWidgets": {},
     "nuid": "380c057c-a408-4122-b921-538a7265d6fa",
     "showTitle": false,
     "title": ""
    }
   },
   "outputs": [
    {
     "data": {
      "text/html": [
       "<style scoped>\n",
       "  .ansiout {\n",
       "    display: block;\n",
       "    unicode-bidi: embed;\n",
       "    white-space: pre-wrap;\n",
       "    word-wrap: break-word;\n",
       "    word-break: break-all;\n",
       "    font-family: \"Source Code Pro\", \"Menlo\", monospace;;\n",
       "    font-size: 13px;\n",
       "    color: #555;\n",
       "    margin-left: 4px;\n",
       "    line-height: 19px;\n",
       "  }\n",
       "</style>\n",
       "<div class=\"ansiout\">Out[12]: 197</div>"
      ]
     },
     "metadata": {
      "application/vnd.databricks.v1+output": {
       "addedWidgets": {},
       "arguments": {},
       "data": "<div class=\"ansiout\">Out[12]: 197</div>",
       "datasetInfos": [],
       "metadata": {},
       "removedWidgets": [],
       "type": "html"
      }
     },
     "output_type": "display_data"
    }
   ],
   "source": [
    "syndigo_mapped['Level 2'].nunique()"
   ]
  },
  {
   "cell_type": "code",
   "execution_count": 0,
   "metadata": {
    "application/vnd.databricks.v1+cell": {
     "cellMetadata": {
      "byteLimit": 2048000,
      "rowLimit": 10000
     },
     "inputWidgets": {},
     "nuid": "80b57264-dfef-49fc-b019-95f030d266d8",
     "showTitle": false,
     "title": ""
    }
   },
   "outputs": [
    {
     "data": {
      "text/html": [
       "<style scoped>\n",
       "  .ansiout {\n",
       "    display: block;\n",
       "    unicode-bidi: embed;\n",
       "    white-space: pre-wrap;\n",
       "    word-wrap: break-word;\n",
       "    word-break: break-all;\n",
       "    font-family: \"Source Code Pro\", \"Menlo\", monospace;;\n",
       "    font-size: 13px;\n",
       "    color: #555;\n",
       "    margin-left: 4px;\n",
       "    line-height: 19px;\n",
       "  }\n",
       "</style>\n",
       "<div class=\"ansiout\">Out[13]: 709</div>"
      ]
     },
     "metadata": {
      "application/vnd.databricks.v1+output": {
       "addedWidgets": {},
       "arguments": {},
       "data": "<div class=\"ansiout\">Out[13]: 709</div>",
       "datasetInfos": [],
       "metadata": {},
       "removedWidgets": [],
       "type": "html"
      }
     },
     "output_type": "display_data"
    }
   ],
   "source": [
    "syndigo_mapped['Level 3'].nunique()"
   ]
  },
  {
   "cell_type": "code",
   "execution_count": 0,
   "metadata": {
    "application/vnd.databricks.v1+cell": {
     "cellMetadata": {
      "byteLimit": 2048000,
      "rowLimit": 10000
     },
     "inputWidgets": {},
     "nuid": "57c738a1-cdf5-46d1-a56f-b7488798469b",
     "showTitle": false,
     "title": ""
    }
   },
   "outputs": [
    {
     "data": {
      "text/html": [
       "<style scoped>\n",
       "  .ansiout {\n",
       "    display: block;\n",
       "    unicode-bidi: embed;\n",
       "    white-space: pre-wrap;\n",
       "    word-wrap: break-word;\n",
       "    word-break: break-all;\n",
       "    font-family: \"Source Code Pro\", \"Menlo\", monospace;;\n",
       "    font-size: 13px;\n",
       "    color: #555;\n",
       "    margin-left: 4px;\n",
       "    line-height: 19px;\n",
       "  }\n",
       "</style>\n",
       "<div class=\"ansiout\">Out[14]: 1119</div>"
      ]
     },
     "metadata": {
      "application/vnd.databricks.v1+output": {
       "addedWidgets": {},
       "arguments": {},
       "data": "<div class=\"ansiout\">Out[14]: 1119</div>",
       "datasetInfos": [],
       "metadata": {},
       "removedWidgets": [],
       "type": "html"
      }
     },
     "output_type": "display_data"
    }
   ],
   "source": [
    "syndigo_mapped['Level 4'].nunique()"
   ]
  },
  {
   "cell_type": "code",
   "execution_count": 0,
   "metadata": {
    "application/vnd.databricks.v1+cell": {
     "cellMetadata": {
      "byteLimit": 2048000,
      "rowLimit": 10000
     },
     "inputWidgets": {},
     "nuid": "f4071233-4d08-4814-b591-0d6b714b459b",
     "showTitle": false,
     "title": ""
    }
   },
   "outputs": [
    {
     "data": {
      "text/html": [
       "<style scoped>\n",
       "  .ansiout {\n",
       "    display: block;\n",
       "    unicode-bidi: embed;\n",
       "    white-space: pre-wrap;\n",
       "    word-wrap: break-word;\n",
       "    word-break: break-all;\n",
       "    font-family: \"Source Code Pro\", \"Menlo\", monospace;;\n",
       "    font-size: 13px;\n",
       "    color: #555;\n",
       "    margin-left: 4px;\n",
       "    line-height: 19px;\n",
       "  }\n",
       "</style>\n",
       "<div class=\"ansiout\">Out[15]: 501</div>"
      ]
     },
     "metadata": {
      "application/vnd.databricks.v1+output": {
       "addedWidgets": {},
       "arguments": {},
       "data": "<div class=\"ansiout\">Out[15]: 501</div>",
       "datasetInfos": [],
       "metadata": {},
       "removedWidgets": [],
       "type": "html"
      }
     },
     "output_type": "display_data"
    }
   ],
   "source": [
    "syndigo_mapped['Level 5'].nunique()"
   ]
  },
  {
   "cell_type": "code",
   "execution_count": 0,
   "metadata": {
    "application/vnd.databricks.v1+cell": {
     "cellMetadata": {
      "byteLimit": 2048000,
      "rowLimit": 10000
     },
     "inputWidgets": {},
     "nuid": "f140732a-0648-40bd-b90e-9dd5dc5554e2",
     "showTitle": false,
     "title": ""
    }
   },
   "outputs": [
    {
     "data": {
      "text/html": [
       "<style scoped>\n",
       "  .ansiout {\n",
       "    display: block;\n",
       "    unicode-bidi: embed;\n",
       "    white-space: pre-wrap;\n",
       "    word-wrap: break-word;\n",
       "    word-break: break-all;\n",
       "    font-family: \"Source Code Pro\", \"Menlo\", monospace;;\n",
       "    font-size: 13px;\n",
       "    color: #555;\n",
       "    margin-left: 4px;\n",
       "    line-height: 19px;\n",
       "  }\n",
       "</style>\n",
       "<div class=\"ansiout\">Out[16]: 197</div>"
      ]
     },
     "metadata": {
      "application/vnd.databricks.v1+output": {
       "addedWidgets": {},
       "arguments": {},
       "data": "<div class=\"ansiout\">Out[16]: 197</div>",
       "datasetInfos": [],
       "metadata": {},
       "removedWidgets": [],
       "type": "html"
      }
     },
     "output_type": "display_data"
    }
   ],
   "source": [
    "syndigo_mapped['Level 6'].nunique()"
   ]
  },
  {
   "cell_type": "code",
   "execution_count": 0,
   "metadata": {
    "application/vnd.databricks.v1+cell": {
     "cellMetadata": {
      "byteLimit": 2048000,
      "rowLimit": 10000
     },
     "inputWidgets": {},
     "nuid": "2786fc81-a039-4381-b15b-942edb049916",
     "showTitle": false,
     "title": ""
    }
   },
   "outputs": [
    {
     "data": {
      "text/html": [
       "<style scoped>\n",
       "  .ansiout {\n",
       "    display: block;\n",
       "    unicode-bidi: embed;\n",
       "    white-space: pre-wrap;\n",
       "    word-wrap: break-word;\n",
       "    word-break: break-all;\n",
       "    font-family: \"Source Code Pro\", \"Menlo\", monospace;;\n",
       "    font-size: 13px;\n",
       "    color: #555;\n",
       "    margin-left: 4px;\n",
       "    line-height: 19px;\n",
       "  }\n",
       "</style>\n",
       "<div class=\"ansiout\">Out[17]: 44</div>"
      ]
     },
     "metadata": {
      "application/vnd.databricks.v1+output": {
       "addedWidgets": {},
       "arguments": {},
       "data": "<div class=\"ansiout\">Out[17]: 44</div>",
       "datasetInfos": [],
       "metadata": {},
       "removedWidgets": [],
       "type": "html"
      }
     },
     "output_type": "display_data"
    }
   ],
   "source": [
    "syndigo_mapped['Level 7'].nunique()"
   ]
  },
  {
   "cell_type": "code",
   "execution_count": 0,
   "metadata": {
    "application/vnd.databricks.v1+cell": {
     "cellMetadata": {
      "byteLimit": 2048000,
      "rowLimit": 10000
     },
     "inputWidgets": {},
     "nuid": "b03ddfc9-408c-4849-a851-75fcb4f343e2",
     "showTitle": false,
     "title": ""
    }
   },
   "outputs": [
    {
     "data": {
      "text/html": [
       "<style scoped>\n",
       "  .ansiout {\n",
       "    display: block;\n",
       "    unicode-bidi: embed;\n",
       "    white-space: pre-wrap;\n",
       "    word-wrap: break-word;\n",
       "    word-break: break-all;\n",
       "    font-family: \"Source Code Pro\", \"Menlo\", monospace;;\n",
       "    font-size: 13px;\n",
       "    color: #555;\n",
       "    margin-left: 4px;\n",
       "    line-height: 19px;\n",
       "  }\n",
       "</style>\n",
       "<div class=\"ansiout\">Out[18]: 4</div>"
      ]
     },
     "metadata": {
      "application/vnd.databricks.v1+output": {
       "addedWidgets": {},
       "arguments": {},
       "data": "<div class=\"ansiout\">Out[18]: 4</div>",
       "datasetInfos": [],
       "metadata": {},
       "removedWidgets": [],
       "type": "html"
      }
     },
     "output_type": "display_data"
    }
   ],
   "source": [
    "syndigo_mapped['Level 8'].nunique()"
   ]
  },
  {
   "cell_type": "code",
   "execution_count": 0,
   "metadata": {
    "application/vnd.databricks.v1+cell": {
     "cellMetadata": {
      "byteLimit": 2048000,
      "rowLimit": 10000
     },
     "inputWidgets": {},
     "nuid": "bab7f521-70b8-4fe8-a718-a348b57fab58",
     "showTitle": false,
     "title": ""
    }
   },
   "outputs": [
    {
     "data": {
      "text/html": [
       "<style scoped>\n",
       "  .ansiout {\n",
       "    display: block;\n",
       "    unicode-bidi: embed;\n",
       "    white-space: pre-wrap;\n",
       "    word-wrap: break-word;\n",
       "    word-break: break-all;\n",
       "    font-family: \"Source Code Pro\", \"Menlo\", monospace;;\n",
       "    font-size: 13px;\n",
       "    color: #555;\n",
       "    margin-left: 4px;\n",
       "    line-height: 19px;\n",
       "  }\n",
       "</style>\n",
       "<div class=\"ansiout\">Out[19]: 0</div>"
      ]
     },
     "metadata": {
      "application/vnd.databricks.v1+output": {
       "addedWidgets": {},
       "arguments": {},
       "data": "<div class=\"ansiout\">Out[19]: 0</div>",
       "datasetInfos": [],
       "metadata": {},
       "removedWidgets": [],
       "type": "html"
      }
     },
     "output_type": "display_data"
    }
   ],
   "source": [
    "syndigo_mapped['Level 9'].nunique()"
   ]
  },
  {
   "cell_type": "code",
   "execution_count": 0,
   "metadata": {
    "application/vnd.databricks.v1+cell": {
     "cellMetadata": {
      "byteLimit": 2048000,
      "rowLimit": 10000
     },
     "inputWidgets": {},
     "nuid": "eb050f37-84b2-4fff-a757-25efbdadc4a9",
     "showTitle": false,
     "title": ""
    }
   },
   "outputs": [
    {
     "data": {
      "text/html": [
       "<style scoped>\n",
       "  .ansiout {\n",
       "    display: block;\n",
       "    unicode-bidi: embed;\n",
       "    white-space: pre-wrap;\n",
       "    word-wrap: break-word;\n",
       "    word-break: break-all;\n",
       "    font-family: \"Source Code Pro\", \"Menlo\", monospace;;\n",
       "    font-size: 13px;\n",
       "    color: #555;\n",
       "    margin-left: 4px;\n",
       "    line-height: 19px;\n",
       "  }\n",
       "</style>\n",
       "<div class=\"ansiout\">Out[20]: 0</div>"
      ]
     },
     "metadata": {
      "application/vnd.databricks.v1+output": {
       "addedWidgets": {},
       "arguments": {},
       "data": "<div class=\"ansiout\">Out[20]: 0</div>",
       "datasetInfos": [],
       "metadata": {},
       "removedWidgets": [],
       "type": "html"
      }
     },
     "output_type": "display_data"
    }
   ],
   "source": [
    "syndigo_mapped['Level 10'].nunique()"
   ]
  },
  {
   "cell_type": "markdown",
   "metadata": {
    "application/vnd.databricks.v1+cell": {
     "cellMetadata": {},
     "inputWidgets": {},
     "nuid": "1cffe01a-0561-4e62-9621-88be94b9b848",
     "showTitle": false,
     "title": ""
    }
   },
   "source": [
    "### Mapping Coverage % by level"
   ]
  },
  {
   "cell_type": "code",
   "execution_count": 0,
   "metadata": {
    "application/vnd.databricks.v1+cell": {
     "cellMetadata": {
      "byteLimit": 2048000,
      "rowLimit": 10000
     },
     "inputWidgets": {},
     "nuid": "fde754fb-a570-41bd-b086-9909e005cb27",
     "showTitle": false,
     "title": ""
    }
   },
   "outputs": [
    {
     "data": {
      "text/html": [
       "<style scoped>\n",
       "  .ansiout {\n",
       "    display: block;\n",
       "    unicode-bidi: embed;\n",
       "    white-space: pre-wrap;\n",
       "    word-wrap: break-word;\n",
       "    word-break: break-all;\n",
       "    font-family: \"Source Code Pro\", \"Menlo\", monospace;;\n",
       "    font-size: 13px;\n",
       "    color: #555;\n",
       "    margin-left: 4px;\n",
       "    line-height: 19px;\n",
       "  }\n",
       "</style>\n",
       "<div class=\"ansiout\">Level 1 98.80882229143867 %\n",
       "Level 2 98.80882229143867 %\n",
       "Level 3 93.73474198164828 %\n",
       "Level 4 67.1889468810506 %\n",
       "Level 5 16.904832056570417 %\n",
       "Level 6 1.6773297415607373 %\n",
       "Level 7 0.45668827342368884 %\n",
       "Level 8 0.039986530852765385 %\n",
       "Level 9 0.0 %\n",
       "Level 10 0.0 %\n",
       "</div>"
      ]
     },
     "metadata": {
      "application/vnd.databricks.v1+output": {
       "addedWidgets": {},
       "arguments": {},
       "data": "<div class=\"ansiout\">Level 1 98.80882229143867 %\nLevel 2 98.80882229143867 %\nLevel 3 93.73474198164828 %\nLevel 4 67.1889468810506 %\nLevel 5 16.904832056570417 %\nLevel 6 1.6773297415607373 %\nLevel 7 0.45668827342368884 %\nLevel 8 0.039986530852765385 %\nLevel 9 0.0 %\nLevel 10 0.0 %\n</div>",
       "datasetInfos": [],
       "metadata": {},
       "removedWidgets": [],
       "type": "html"
      }
     },
     "output_type": "display_data"
    }
   ],
   "source": [
    "for i in  range(1,11):\n",
    "    levelstr = 'Level '+ str(i)\n",
    "    print(levelstr, 100*syndigo_mapped[levelstr].notnull().sum()/len(syndigo_mapped) ,'%')\n"
   ]
  },
  {
   "cell_type": "markdown",
   "metadata": {
    "application/vnd.databricks.v1+cell": {
     "cellMetadata": {},
     "inputWidgets": {},
     "nuid": "e03950d7-79af-415d-9760-83d582651608",
     "showTitle": false,
     "title": ""
    }
   },
   "source": [
    "###  Join with PIMMART description columns"
   ]
  },
  {
   "cell_type": "code",
   "execution_count": 0,
   "metadata": {
    "application/vnd.databricks.v1+cell": {
     "cellMetadata": {
      "byteLimit": 2048000,
      "rowLimit": 10000
     },
     "inputWidgets": {},
     "nuid": "9e3525fe-a5d3-4abc-b8d4-170c43efb095",
     "showTitle": false,
     "title": ""
    },
    "scrolled": true
   },
   "outputs": [],
   "source": [
    "pimmart = pd.read_parquet('/dbfs/FileStore/tables/DATA_SCIENCE/ITM_DSC_ATTRIBUTES_NEW_parquet.gzip')"
   ]
  },
  {
   "cell_type": "code",
   "execution_count": 0,
   "metadata": {
    "application/vnd.databricks.v1+cell": {
     "cellMetadata": {
      "byteLimit": 2048000,
      "rowLimit": 10000
     },
     "inputWidgets": {},
     "nuid": "65f5642b-eb82-4652-a5dc-8233885d9b13",
     "showTitle": false,
     "title": ""
    }
   },
   "outputs": [],
   "source": [
    "#Exclude non-item SUBCOMs\n",
    "SUBCOMS_excluded = ['INVENTORY VALUES','MISC SALES TRANS','MISC SALES TRANS (NON TAX)','CENTRAL SUPPLIES','MISC SALES TRANS (TX TAXABLE)','COUPON','MISCELLANEOUS INCOME','CRV/EXCISE TAX NT/NF','CRV DEPOSIT NT/F','CRV DEPOSIT T/NF','MISCELLANEOUS REFUNDS','CUSTOMER EXPENSES','ROUND UP COUPONS']\n",
    "pimmart = pimmart[~pimmart.SUBCOM_DSC.isin(SUBCOMS_excluded)]"
   ]
  },
  {
   "cell_type": "code",
   "execution_count": 0,
   "metadata": {
    "application/vnd.databricks.v1+cell": {
     "cellMetadata": {
      "byteLimit": 2048000,
      "rowLimit": 10000
     },
     "inputWidgets": {},
     "nuid": "d90897a0-1740-4906-aeb3-c5b27d911f67",
     "showTitle": false,
     "title": ""
    }
   },
   "outputs": [],
   "source": [
    "### Add correct ITM_ID and KFT level codes\n",
    "pim_ITM_ID_CODES = pd.read_csv('/dbfs/FileStore/tables/DATA_SCIENCE/PIM_CORRECT_ITM_ID_GTIN__LEVEL_CODES_061423.csv')\n",
    "pimmart = pimmart.merge(pim_ITM_ID_CODES, on = 'GTIN_NO', how = 'left')\n",
    "pimmart['CORRECT_ITM_ID'] = pimmart.CORRECT_ITM_ID.fillna(0).astype(int)"
   ]
  },
  {
   "cell_type": "code",
   "execution_count": 0,
   "metadata": {
    "application/vnd.databricks.v1+cell": {
     "cellMetadata": {
      "byteLimit": 2048000,
      "rowLimit": 10000
     },
     "inputWidgets": {},
     "nuid": "65c07ca8-7973-4b7d-a66d-f8407cc43127",
     "showTitle": false,
     "title": ""
    }
   },
   "outputs": [],
   "source": [
    "syndigo_mapped = pd.read_csv('/dbfs/FileStore/tables/DATA_SCIENCE/Syndigo_GTIN_Mapping_060723.csv')"
   ]
  },
  {
   "cell_type": "code",
   "execution_count": 0,
   "metadata": {
    "application/vnd.databricks.v1+cell": {
     "cellMetadata": {
      "byteLimit": 2048000,
      "rowLimit": 10000
     },
     "inputWidgets": {},
     "nuid": "2e69d39a-0c85-4e3c-a7bc-17741c21ffb7",
     "showTitle": false,
     "title": ""
    }
   },
   "outputs": [],
   "source": [
    "syndigo_3 = pd.read_csv('/dbfs/FileStore/tables/DATA_SCIENCE/Syndigo_part3.csv')\n",
    "syndigo_4 = pd.read_csv('/dbfs/FileStore/tables/DATA_SCIENCE/Syndigo_part4.csv')\n",
    "syndigo_5 = pd.read_csv('/dbfs/FileStore/tables/DATA_SCIENCE/Syndigo_part5.csv')"
   ]
  },
  {
   "cell_type": "code",
   "execution_count": 0,
   "metadata": {
    "application/vnd.databricks.v1+cell": {
     "cellMetadata": {
      "byteLimit": 2048000,
      "rowLimit": 10000
     },
     "inputWidgets": {},
     "nuid": "9750503c-a28c-478d-aad2-378db0a709ef",
     "showTitle": false,
     "title": ""
    }
   },
   "outputs": [],
   "source": [
    "syndigo_concat = pd.concat([syndigo_3, syndigo_4,syndigo_5])"
   ]
  },
  {
   "cell_type": "code",
   "execution_count": 0,
   "metadata": {
    "application/vnd.databricks.v1+cell": {
     "cellMetadata": {
      "byteLimit": 2048000,
      "rowLimit": 10000
     },
     "inputWidgets": {},
     "nuid": "0a0073a2-96a4-472f-8525-500792636309",
     "showTitle": false,
     "title": ""
    }
   },
   "outputs": [],
   "source": [
    "syndigo_concat.dropna(how = 'all',inplace= True)\n",
    "syndigo_concat['Levels_map'] = syndigo_concat.taxo.fillna('None').apply(lambda x: dict(zip(['Level '+str(i+1) for i in range(len(x.split('>')))],[i.strip() for i in x.split('>')])))"
   ]
  },
  {
   "cell_type": "code",
   "execution_count": 0,
   "metadata": {
    "application/vnd.databricks.v1+cell": {
     "cellMetadata": {
      "byteLimit": 2048000,
      "rowLimit": 10000
     },
     "inputWidgets": {},
     "nuid": "ca031670-a486-4683-8b1b-05b9b1944417",
     "showTitle": false,
     "title": ""
    }
   },
   "outputs": [],
   "source": [
    "for i in range(9):\n",
    "    col = 'Level '+str(i+1)\n",
    "    syndigo_concat[col] = syndigo_concat['Levels_map'].apply(lambda x: x[col] if col in x else 'None')"
   ]
  },
  {
   "cell_type": "code",
   "execution_count": 0,
   "metadata": {
    "application/vnd.databricks.v1+cell": {
     "cellMetadata": {
      "byteLimit": 2048000,
      "rowLimit": 10000
     },
     "inputWidgets": {},
     "nuid": "d8ede342-099c-4cf9-b0bc-45cb8b0e6575",
     "showTitle": false,
     "title": ""
    }
   },
   "outputs": [
    {
     "data": {
      "text/html": [
       "<div>\n",
       "<style scoped>\n",
       "    .dataframe tbody tr th:only-of-type {\n",
       "        vertical-align: middle;\n",
       "    }\n",
       "\n",
       "    .dataframe tbody tr th {\n",
       "        vertical-align: top;\n",
       "    }\n",
       "\n",
       "    .dataframe thead th {\n",
       "        text-align: right;\n",
       "    }\n",
       "</style>\n",
       "<table border=\"1\" class=\"dataframe\">\n",
       "  <thead>\n",
       "    <tr style=\"text-align: right;\">\n",
       "      <th></th>\n",
       "      <th>GTIN</th>\n",
       "      <th>Syndigo Taxonomy</th>\n",
       "      <th>Level Mapped</th>\n",
       "      <th>Level 1</th>\n",
       "      <th>Level 2</th>\n",
       "      <th>Level 3</th>\n",
       "      <th>Level 4</th>\n",
       "      <th>Level 5</th>\n",
       "      <th>Level 6</th>\n",
       "      <th>Level 7</th>\n",
       "      <th>Level 8</th>\n",
       "      <th>Level 9</th>\n",
       "      <th>Level 10</th>\n",
       "    </tr>\n",
       "  </thead>\n",
       "  <tbody>\n",
       "    <tr>\n",
       "      <th>0</th>\n",
       "      <td>86003018082</td>\n",
       "      <td>Still</td>\n",
       "      <td>Level 3</td>\n",
       "      <td>Beer / Wine / Spirits</td>\n",
       "      <td>Wine</td>\n",
       "      <td>Still</td>\n",
       "      <td>NaN</td>\n",
       "      <td>NaN</td>\n",
       "      <td>NaN</td>\n",
       "      <td>NaN</td>\n",
       "      <td>NaN</td>\n",
       "      <td>NaN</td>\n",
       "      <td>NaN</td>\n",
       "    </tr>\n",
       "    <tr>\n",
       "      <th>1</th>\n",
       "      <td>33900002157</td>\n",
       "      <td>Sandwich Meat</td>\n",
       "      <td>Level 4</td>\n",
       "      <td>Food / Beverages</td>\n",
       "      <td>Meat / Poultry / Seafood / Meat Substitutes (P...</td>\n",
       "      <td>Prepared / Processed Animal Products</td>\n",
       "      <td>Sandwich Meat</td>\n",
       "      <td>NaN</td>\n",
       "      <td>NaN</td>\n",
       "      <td>NaN</td>\n",
       "      <td>NaN</td>\n",
       "      <td>NaN</td>\n",
       "      <td>NaN</td>\n",
       "    </tr>\n",
       "    <tr>\n",
       "      <th>2</th>\n",
       "      <td>663204242494</td>\n",
       "      <td>Foam &amp; Liquid</td>\n",
       "      <td>Level 4</td>\n",
       "      <td>Health &amp; Beauty</td>\n",
       "      <td>Personal Care</td>\n",
       "      <td>Soaps</td>\n",
       "      <td>Foam &amp; Liquid</td>\n",
       "      <td>NaN</td>\n",
       "      <td>NaN</td>\n",
       "      <td>NaN</td>\n",
       "      <td>NaN</td>\n",
       "      <td>NaN</td>\n",
       "      <td>NaN</td>\n",
       "    </tr>\n",
       "    <tr>\n",
       "      <th>3</th>\n",
       "      <td>879890002032</td>\n",
       "      <td>Crackers &amp; Crispbreads</td>\n",
       "      <td>Level 4</td>\n",
       "      <td>Food / Beverages</td>\n",
       "      <td>Grocery</td>\n",
       "      <td>Snack Foods</td>\n",
       "      <td>Crackers &amp; Crispbreads</td>\n",
       "      <td>NaN</td>\n",
       "      <td>NaN</td>\n",
       "      <td>NaN</td>\n",
       "      <td>NaN</td>\n",
       "      <td>NaN</td>\n",
       "      <td>NaN</td>\n",
       "    </tr>\n",
       "    <tr>\n",
       "      <th>4</th>\n",
       "      <td>70501013502</td>\n",
       "      <td>Bars &amp; Solids</td>\n",
       "      <td>Level 4</td>\n",
       "      <td>Health &amp; Beauty</td>\n",
       "      <td>Personal Care</td>\n",
       "      <td>Soaps</td>\n",
       "      <td>Bars &amp; Solids</td>\n",
       "      <td>NaN</td>\n",
       "      <td>NaN</td>\n",
       "      <td>NaN</td>\n",
       "      <td>NaN</td>\n",
       "      <td>NaN</td>\n",
       "      <td>NaN</td>\n",
       "    </tr>\n",
       "  </tbody>\n",
       "</table>\n",
       "</div>"
      ]
     },
     "metadata": {
      "application/vnd.databricks.v1+output": {
       "addedWidgets": {},
       "arguments": {},
       "data": "<div>\n<style scoped>\n    .dataframe tbody tr th:only-of-type {\n        vertical-align: middle;\n    }\n\n    .dataframe tbody tr th {\n        vertical-align: top;\n    }\n\n    .dataframe thead th {\n        text-align: right;\n    }\n</style>\n<table border=\"1\" class=\"dataframe\">\n  <thead>\n    <tr style=\"text-align: right;\">\n      <th></th>\n      <th>GTIN</th>\n      <th>Syndigo Taxonomy</th>\n      <th>Level Mapped</th>\n      <th>Level 1</th>\n      <th>Level 2</th>\n      <th>Level 3</th>\n      <th>Level 4</th>\n      <th>Level 5</th>\n      <th>Level 6</th>\n      <th>Level 7</th>\n      <th>Level 8</th>\n      <th>Level 9</th>\n      <th>Level 10</th>\n    </tr>\n  </thead>\n  <tbody>\n    <tr>\n      <th>0</th>\n      <td>86003018082</td>\n      <td>Still</td>\n      <td>Level 3</td>\n      <td>Beer / Wine / Spirits</td>\n      <td>Wine</td>\n      <td>Still</td>\n      <td>NaN</td>\n      <td>NaN</td>\n      <td>NaN</td>\n      <td>NaN</td>\n      <td>NaN</td>\n      <td>NaN</td>\n      <td>NaN</td>\n    </tr>\n    <tr>\n      <th>1</th>\n      <td>33900002157</td>\n      <td>Sandwich Meat</td>\n      <td>Level 4</td>\n      <td>Food / Beverages</td>\n      <td>Meat / Poultry / Seafood / Meat Substitutes (P...</td>\n      <td>Prepared / Processed Animal Products</td>\n      <td>Sandwich Meat</td>\n      <td>NaN</td>\n      <td>NaN</td>\n      <td>NaN</td>\n      <td>NaN</td>\n      <td>NaN</td>\n      <td>NaN</td>\n    </tr>\n    <tr>\n      <th>2</th>\n      <td>663204242494</td>\n      <td>Foam &amp; Liquid</td>\n      <td>Level 4</td>\n      <td>Health &amp; Beauty</td>\n      <td>Personal Care</td>\n      <td>Soaps</td>\n      <td>Foam &amp; Liquid</td>\n      <td>NaN</td>\n      <td>NaN</td>\n      <td>NaN</td>\n      <td>NaN</td>\n      <td>NaN</td>\n      <td>NaN</td>\n    </tr>\n    <tr>\n      <th>3</th>\n      <td>879890002032</td>\n      <td>Crackers &amp; Crispbreads</td>\n      <td>Level 4</td>\n      <td>Food / Beverages</td>\n      <td>Grocery</td>\n      <td>Snack Foods</td>\n      <td>Crackers &amp; Crispbreads</td>\n      <td>NaN</td>\n      <td>NaN</td>\n      <td>NaN</td>\n      <td>NaN</td>\n      <td>NaN</td>\n      <td>NaN</td>\n    </tr>\n    <tr>\n      <th>4</th>\n      <td>70501013502</td>\n      <td>Bars &amp; Solids</td>\n      <td>Level 4</td>\n      <td>Health &amp; Beauty</td>\n      <td>Personal Care</td>\n      <td>Soaps</td>\n      <td>Bars &amp; Solids</td>\n      <td>NaN</td>\n      <td>NaN</td>\n      <td>NaN</td>\n      <td>NaN</td>\n      <td>NaN</td>\n      <td>NaN</td>\n    </tr>\n  </tbody>\n</table>\n</div>",
       "datasetInfos": [],
       "metadata": {},
       "removedWidgets": [],
       "textData": null,
       "type": "htmlSandbox"
      }
     },
     "output_type": "display_data"
    }
   ],
   "source": [
    "syndigo_mapped.head()"
   ]
  },
  {
   "cell_type": "code",
   "execution_count": 0,
   "metadata": {
    "application/vnd.databricks.v1+cell": {
     "cellMetadata": {
      "byteLimit": 2048000,
      "rowLimit": 10000
     },
     "inputWidgets": {},
     "nuid": "a534cd59-fc9c-44ed-a141-30cd2ca44fb8",
     "showTitle": false,
     "title": ""
    }
   },
   "outputs": [
    {
     "data": {
      "text/html": [
       "<div>\n",
       "<style scoped>\n",
       "    .dataframe tbody tr th:only-of-type {\n",
       "        vertical-align: middle;\n",
       "    }\n",
       "\n",
       "    .dataframe tbody tr th {\n",
       "        vertical-align: top;\n",
       "    }\n",
       "\n",
       "    .dataframe thead th {\n",
       "        text-align: right;\n",
       "    }\n",
       "</style>\n",
       "<table border=\"1\" class=\"dataframe\">\n",
       "  <thead>\n",
       "    <tr style=\"text-align: right;\">\n",
       "      <th></th>\n",
       "      <th>GTIN</th>\n",
       "      <th>taxo</th>\n",
       "      <th>Taxonomy</th>\n",
       "      <th>Levels_map</th>\n",
       "      <th>Level 1</th>\n",
       "      <th>Level 2</th>\n",
       "      <th>Level 3</th>\n",
       "      <th>Level 4</th>\n",
       "      <th>Level 5</th>\n",
       "      <th>Level 6</th>\n",
       "      <th>Level 7</th>\n",
       "      <th>Level 8</th>\n",
       "      <th>Level 9</th>\n",
       "    </tr>\n",
       "  </thead>\n",
       "  <tbody>\n",
       "    <tr>\n",
       "      <th>0</th>\n",
       "      <td>8.434731e+11</td>\n",
       "      <td>Health &amp; Beauty &gt; Personal Care &gt; Wipes</td>\n",
       "      <td>NaN</td>\n",
       "      <td>{'Level 1': 'Health &amp; Beauty', 'Level 2': 'Per...</td>\n",
       "      <td>Health &amp; Beauty</td>\n",
       "      <td>Personal Care</td>\n",
       "      <td>Wipes</td>\n",
       "      <td>None</td>\n",
       "      <td>None</td>\n",
       "      <td>None</td>\n",
       "      <td>None</td>\n",
       "      <td>None</td>\n",
       "      <td>None</td>\n",
       "    </tr>\n",
       "    <tr>\n",
       "      <th>1</th>\n",
       "      <td>2.550020e+10</td>\n",
       "      <td>Food / Beverages &gt; Beverages &gt; Coffee &gt; Single...</td>\n",
       "      <td>NaN</td>\n",
       "      <td>{'Level 1': 'Food / Beverages', 'Level 2': 'Be...</td>\n",
       "      <td>Food / Beverages</td>\n",
       "      <td>Beverages</td>\n",
       "      <td>Coffee</td>\n",
       "      <td>Single-Serve Coffee Cups / Bags / Pods</td>\n",
       "      <td>None</td>\n",
       "      <td>None</td>\n",
       "      <td>None</td>\n",
       "      <td>None</td>\n",
       "      <td>None</td>\n",
       "    </tr>\n",
       "    <tr>\n",
       "      <th>2</th>\n",
       "      <td>5.184001e+08</td>\n",
       "      <td>Health &amp; Beauty &gt; Health Treatments &gt; Skin and...</td>\n",
       "      <td>NaN</td>\n",
       "      <td>{'Level 1': 'Health &amp; Beauty', 'Level 2': 'Hea...</td>\n",
       "      <td>Health &amp; Beauty</td>\n",
       "      <td>Health Treatments</td>\n",
       "      <td>Skin and Scalp Treatments</td>\n",
       "      <td>Hair Loss Treatments</td>\n",
       "      <td>None</td>\n",
       "      <td>None</td>\n",
       "      <td>None</td>\n",
       "      <td>None</td>\n",
       "      <td>None</td>\n",
       "    </tr>\n",
       "    <tr>\n",
       "      <th>3</th>\n",
       "      <td>3.700055e+10</td>\n",
       "      <td>Health &amp; Beauty &gt; Healthcare &gt; Adult Diapers /...</td>\n",
       "      <td>NaN</td>\n",
       "      <td>{'Level 1': 'Health &amp; Beauty', 'Level 2': 'Hea...</td>\n",
       "      <td>Health &amp; Beauty</td>\n",
       "      <td>Healthcare</td>\n",
       "      <td>Adult Diapers / Incontinence / Ostomy Care</td>\n",
       "      <td>Adult Briefs &amp; Diapers</td>\n",
       "      <td>Disposable</td>\n",
       "      <td>None</td>\n",
       "      <td>None</td>\n",
       "      <td>None</td>\n",
       "      <td>None</td>\n",
       "    </tr>\n",
       "    <tr>\n",
       "      <th>4</th>\n",
       "      <td>3.700082e+10</td>\n",
       "      <td>Health &amp; Beauty &gt; Healthcare &gt; Oral Hygiene &gt; ...</td>\n",
       "      <td>NaN</td>\n",
       "      <td>{'Level 1': 'Health &amp; Beauty', 'Level 2': 'Hea...</td>\n",
       "      <td>Health &amp; Beauty</td>\n",
       "      <td>Healthcare</td>\n",
       "      <td>Oral Hygiene</td>\n",
       "      <td>Oral Rinses &amp; Mouthwashes</td>\n",
       "      <td>None</td>\n",
       "      <td>None</td>\n",
       "      <td>None</td>\n",
       "      <td>None</td>\n",
       "      <td>None</td>\n",
       "    </tr>\n",
       "  </tbody>\n",
       "</table>\n",
       "</div>"
      ]
     },
     "metadata": {
      "application/vnd.databricks.v1+output": {
       "addedWidgets": {},
       "arguments": {},
       "data": "<div>\n<style scoped>\n    .dataframe tbody tr th:only-of-type {\n        vertical-align: middle;\n    }\n\n    .dataframe tbody tr th {\n        vertical-align: top;\n    }\n\n    .dataframe thead th {\n        text-align: right;\n    }\n</style>\n<table border=\"1\" class=\"dataframe\">\n  <thead>\n    <tr style=\"text-align: right;\">\n      <th></th>\n      <th>GTIN</th>\n      <th>taxo</th>\n      <th>Taxonomy</th>\n      <th>Levels_map</th>\n      <th>Level 1</th>\n      <th>Level 2</th>\n      <th>Level 3</th>\n      <th>Level 4</th>\n      <th>Level 5</th>\n      <th>Level 6</th>\n      <th>Level 7</th>\n      <th>Level 8</th>\n      <th>Level 9</th>\n    </tr>\n  </thead>\n  <tbody>\n    <tr>\n      <th>0</th>\n      <td>8.434731e+11</td>\n      <td>Health &amp; Beauty &gt; Personal Care &gt; Wipes</td>\n      <td>NaN</td>\n      <td>{'Level 1': 'Health &amp; Beauty', 'Level 2': 'Per...</td>\n      <td>Health &amp; Beauty</td>\n      <td>Personal Care</td>\n      <td>Wipes</td>\n      <td>None</td>\n      <td>None</td>\n      <td>None</td>\n      <td>None</td>\n      <td>None</td>\n      <td>None</td>\n    </tr>\n    <tr>\n      <th>1</th>\n      <td>2.550020e+10</td>\n      <td>Food / Beverages &gt; Beverages &gt; Coffee &gt; Single...</td>\n      <td>NaN</td>\n      <td>{'Level 1': 'Food / Beverages', 'Level 2': 'Be...</td>\n      <td>Food / Beverages</td>\n      <td>Beverages</td>\n      <td>Coffee</td>\n      <td>Single-Serve Coffee Cups / Bags / Pods</td>\n      <td>None</td>\n      <td>None</td>\n      <td>None</td>\n      <td>None</td>\n      <td>None</td>\n    </tr>\n    <tr>\n      <th>2</th>\n      <td>5.184001e+08</td>\n      <td>Health &amp; Beauty &gt; Health Treatments &gt; Skin and...</td>\n      <td>NaN</td>\n      <td>{'Level 1': 'Health &amp; Beauty', 'Level 2': 'Hea...</td>\n      <td>Health &amp; Beauty</td>\n      <td>Health Treatments</td>\n      <td>Skin and Scalp Treatments</td>\n      <td>Hair Loss Treatments</td>\n      <td>None</td>\n      <td>None</td>\n      <td>None</td>\n      <td>None</td>\n      <td>None</td>\n    </tr>\n    <tr>\n      <th>3</th>\n      <td>3.700055e+10</td>\n      <td>Health &amp; Beauty &gt; Healthcare &gt; Adult Diapers /...</td>\n      <td>NaN</td>\n      <td>{'Level 1': 'Health &amp; Beauty', 'Level 2': 'Hea...</td>\n      <td>Health &amp; Beauty</td>\n      <td>Healthcare</td>\n      <td>Adult Diapers / Incontinence / Ostomy Care</td>\n      <td>Adult Briefs &amp; Diapers</td>\n      <td>Disposable</td>\n      <td>None</td>\n      <td>None</td>\n      <td>None</td>\n      <td>None</td>\n    </tr>\n    <tr>\n      <th>4</th>\n      <td>3.700082e+10</td>\n      <td>Health &amp; Beauty &gt; Healthcare &gt; Oral Hygiene &gt; ...</td>\n      <td>NaN</td>\n      <td>{'Level 1': 'Health &amp; Beauty', 'Level 2': 'Hea...</td>\n      <td>Health &amp; Beauty</td>\n      <td>Healthcare</td>\n      <td>Oral Hygiene</td>\n      <td>Oral Rinses &amp; Mouthwashes</td>\n      <td>None</td>\n      <td>None</td>\n      <td>None</td>\n      <td>None</td>\n      <td>None</td>\n    </tr>\n  </tbody>\n</table>\n</div>",
       "datasetInfos": [],
       "metadata": {},
       "removedWidgets": [],
       "textData": null,
       "type": "htmlSandbox"
      }
     },
     "output_type": "display_data"
    }
   ],
   "source": [
    "syndigo_concat.head()"
   ]
  },
  {
   "cell_type": "code",
   "execution_count": 0,
   "metadata": {
    "application/vnd.databricks.v1+cell": {
     "cellMetadata": {
      "byteLimit": 2048000,
      "rowLimit": 10000
     },
     "inputWidgets": {},
     "nuid": "ce789202-e29c-4b05-afdc-dab7867cb2c0",
     "showTitle": false,
     "title": ""
    }
   },
   "outputs": [],
   "source": [
    "syndigo_GTINs = pd.concat([syndigo_mapped['GTIN'], syndigo_3.GTIN, syndigo_4.GTIN,syndigo_5.GTIN])"
   ]
  },
  {
   "cell_type": "code",
   "execution_count": 0,
   "metadata": {
    "application/vnd.databricks.v1+cell": {
     "cellMetadata": {
      "byteLimit": 2048000,
      "rowLimit": 10000
     },
     "inputWidgets": {},
     "nuid": "a72b6747-a225-43ea-a05b-c03a08940dfa",
     "showTitle": false,
     "title": ""
    }
   },
   "outputs": [
    {
     "data": {
      "text/html": [
       "<div>\n",
       "<style scoped>\n",
       "    .dataframe tbody tr th:only-of-type {\n",
       "        vertical-align: middle;\n",
       "    }\n",
       "\n",
       "    .dataframe tbody tr th {\n",
       "        vertical-align: top;\n",
       "    }\n",
       "\n",
       "    .dataframe thead th {\n",
       "        text-align: right;\n",
       "    }\n",
       "</style>\n",
       "<table border=\"1\" class=\"dataframe\">\n",
       "  <thead>\n",
       "    <tr style=\"text-align: right;\">\n",
       "      <th></th>\n",
       "      <th>GTIN</th>\n",
       "      <th>taxo</th>\n",
       "      <th>Taxonomy</th>\n",
       "      <th>Levels_map</th>\n",
       "    </tr>\n",
       "  </thead>\n",
       "  <tbody>\n",
       "    <tr>\n",
       "      <th>0</th>\n",
       "      <td>8.434731e+11</td>\n",
       "      <td>Health &amp; Beauty &gt; Personal Care &gt; Wipes</td>\n",
       "      <td>NaN</td>\n",
       "      <td>{'Level 1': 'Health &amp; Beauty', 'Level 2': 'Per...</td>\n",
       "    </tr>\n",
       "    <tr>\n",
       "      <th>1</th>\n",
       "      <td>2.550020e+10</td>\n",
       "      <td>Food / Beverages &gt; Beverages &gt; Coffee &gt; Single...</td>\n",
       "      <td>NaN</td>\n",
       "      <td>{'Level 1': 'Food / Beverages', 'Level 2': 'Be...</td>\n",
       "    </tr>\n",
       "    <tr>\n",
       "      <th>2</th>\n",
       "      <td>5.184001e+08</td>\n",
       "      <td>Health &amp; Beauty &gt; Health Treatments &gt; Skin and...</td>\n",
       "      <td>NaN</td>\n",
       "      <td>{'Level 1': 'Health &amp; Beauty', 'Level 2': 'Hea...</td>\n",
       "    </tr>\n",
       "    <tr>\n",
       "      <th>3</th>\n",
       "      <td>3.700055e+10</td>\n",
       "      <td>Health &amp; Beauty &gt; Healthcare &gt; Adult Diapers /...</td>\n",
       "      <td>NaN</td>\n",
       "      <td>{'Level 1': 'Health &amp; Beauty', 'Level 2': 'Hea...</td>\n",
       "    </tr>\n",
       "    <tr>\n",
       "      <th>4</th>\n",
       "      <td>3.700082e+10</td>\n",
       "      <td>Health &amp; Beauty &gt; Healthcare &gt; Oral Hygiene &gt; ...</td>\n",
       "      <td>NaN</td>\n",
       "      <td>{'Level 1': 'Health &amp; Beauty', 'Level 2': 'Hea...</td>\n",
       "    </tr>\n",
       "  </tbody>\n",
       "</table>\n",
       "</div>"
      ]
     },
     "metadata": {
      "application/vnd.databricks.v1+output": {
       "addedWidgets": {},
       "arguments": {},
       "data": "<div>\n<style scoped>\n    .dataframe tbody tr th:only-of-type {\n        vertical-align: middle;\n    }\n\n    .dataframe tbody tr th {\n        vertical-align: top;\n    }\n\n    .dataframe thead th {\n        text-align: right;\n    }\n</style>\n<table border=\"1\" class=\"dataframe\">\n  <thead>\n    <tr style=\"text-align: right;\">\n      <th></th>\n      <th>GTIN</th>\n      <th>taxo</th>\n      <th>Taxonomy</th>\n      <th>Levels_map</th>\n    </tr>\n  </thead>\n  <tbody>\n    <tr>\n      <th>0</th>\n      <td>8.434731e+11</td>\n      <td>Health &amp; Beauty &gt; Personal Care &gt; Wipes</td>\n      <td>NaN</td>\n      <td>{'Level 1': 'Health &amp; Beauty', 'Level 2': 'Per...</td>\n    </tr>\n    <tr>\n      <th>1</th>\n      <td>2.550020e+10</td>\n      <td>Food / Beverages &gt; Beverages &gt; Coffee &gt; Single...</td>\n      <td>NaN</td>\n      <td>{'Level 1': 'Food / Beverages', 'Level 2': 'Be...</td>\n    </tr>\n    <tr>\n      <th>2</th>\n      <td>5.184001e+08</td>\n      <td>Health &amp; Beauty &gt; Health Treatments &gt; Skin and...</td>\n      <td>NaN</td>\n      <td>{'Level 1': 'Health &amp; Beauty', 'Level 2': 'Hea...</td>\n    </tr>\n    <tr>\n      <th>3</th>\n      <td>3.700055e+10</td>\n      <td>Health &amp; Beauty &gt; Healthcare &gt; Adult Diapers /...</td>\n      <td>NaN</td>\n      <td>{'Level 1': 'Health &amp; Beauty', 'Level 2': 'Hea...</td>\n    </tr>\n    <tr>\n      <th>4</th>\n      <td>3.700082e+10</td>\n      <td>Health &amp; Beauty &gt; Healthcare &gt; Oral Hygiene &gt; ...</td>\n      <td>NaN</td>\n      <td>{'Level 1': 'Health &amp; Beauty', 'Level 2': 'Hea...</td>\n    </tr>\n  </tbody>\n</table>\n</div>",
       "datasetInfos": [],
       "metadata": {},
       "removedWidgets": [],
       "textData": null,
       "type": "htmlSandbox"
      }
     },
     "output_type": "display_data"
    }
   ],
   "source": [
    "syndigo_concat.head()"
   ]
  },
  {
   "cell_type": "code",
   "execution_count": 0,
   "metadata": {
    "application/vnd.databricks.v1+cell": {
     "cellMetadata": {},
     "inputWidgets": {},
     "nuid": "2f7da899-45e7-4218-9434-3602e12f1bc5",
     "showTitle": false,
     "title": ""
    }
   },
   "outputs": [],
   "source": []
  },
  {
   "cell_type": "code",
   "execution_count": 0,
   "metadata": {
    "application/vnd.databricks.v1+cell": {
     "cellMetadata": {},
     "inputWidgets": {},
     "nuid": "26d75ff4-aec7-4cc5-a76f-be18eccd39ea",
     "showTitle": false,
     "title": ""
    }
   },
   "outputs": [],
   "source": []
  },
  {
   "cell_type": "code",
   "execution_count": 0,
   "metadata": {
    "application/vnd.databricks.v1+cell": {
     "cellMetadata": {},
     "inputWidgets": {},
     "nuid": "7707f717-fdd7-463a-93b4-a06dd6981f5d",
     "showTitle": false,
     "title": ""
    }
   },
   "outputs": [],
   "source": []
  },
  {
   "cell_type": "code",
   "execution_count": 0,
   "metadata": {
    "application/vnd.databricks.v1+cell": {
     "cellMetadata": {},
     "inputWidgets": {},
     "nuid": "eb183bd3-d4b2-4e55-8fc2-178bca4148af",
     "showTitle": false,
     "title": ""
    }
   },
   "outputs": [],
   "source": []
  },
  {
   "cell_type": "code",
   "execution_count": 0,
   "metadata": {
    "application/vnd.databricks.v1+cell": {
     "cellMetadata": {
      "byteLimit": 2048000,
      "rowLimit": 10000
     },
     "inputWidgets": {},
     "nuid": "fb0897b1-de04-487e-8dba-ecab1ed9fbf5",
     "showTitle": false,
     "title": ""
    }
   },
   "outputs": [
    {
     "data": {
      "text/html": [
       "<style scoped>\n",
       "  .ansiout {\n",
       "    display: block;\n",
       "    unicode-bidi: embed;\n",
       "    white-space: pre-wrap;\n",
       "    word-wrap: break-word;\n",
       "    word-break: break-all;\n",
       "    font-family: \"Source Code Pro\", \"Menlo\", monospace;;\n",
       "    font-size: 13px;\n",
       "    color: #555;\n",
       "    margin-left: 4px;\n",
       "    line-height: 19px;\n",
       "  }\n",
       "</style>\n",
       "<div class=\"ansiout\">Out[24]: (4937400, 40)</div>"
      ]
     },
     "metadata": {
      "application/vnd.databricks.v1+output": {
       "addedWidgets": {},
       "arguments": {},
       "data": "<div class=\"ansiout\">Out[24]: (4937400, 40)</div>",
       "datasetInfos": [],
       "metadata": {},
       "removedWidgets": [],
       "type": "html"
      }
     },
     "output_type": "display_data"
    }
   ],
   "source": [
    "pimmart.shape"
   ]
  },
  {
   "cell_type": "code",
   "execution_count": 0,
   "metadata": {
    "application/vnd.databricks.v1+cell": {
     "cellMetadata": {
      "byteLimit": 2048000,
      "rowLimit": 10000
     },
     "inputWidgets": {},
     "nuid": "3929e2b4-a98a-485d-aa95-4ba312b98844",
     "showTitle": false,
     "title": ""
    }
   },
   "outputs": [
    {
     "data": {
      "text/html": [
       "<style scoped>\n",
       "  .ansiout {\n",
       "    display: block;\n",
       "    unicode-bidi: embed;\n",
       "    white-space: pre-wrap;\n",
       "    word-wrap: break-word;\n",
       "    word-break: break-all;\n",
       "    font-family: \"Source Code Pro\", \"Menlo\", monospace;;\n",
       "    font-size: 13px;\n",
       "    color: #555;\n",
       "    margin-left: 4px;\n",
       "    line-height: 19px;\n",
       "  }\n",
       "</style>\n",
       "<div class=\"ansiout\">Out[25]: Index([&#39;ITM_ID&#39;, &#39;GTIN_NO&#39;, &#39;GTIN_NAM&#39;, &#39;CON_UNT_ITM_DSC&#39;, &#39;DSP_UNT_ITM_DSC&#39;,\n",
       "       &#39;PMY_DPT_DSC&#39;, &#39;REC_DPT_DSC&#39;, &#39;DPT_DSC&#39;, &#39;COM_DSC&#39;, &#39;SUBCOM_DSC&#39;,\n",
       "       &#39;TAG_DSC&#39;, &#39;RCT_DSC&#39;, &#39;ITM_LVL_DSC&#39;, &#39;GRP_LVL_DSC&#39;,\n",
       "       &#39;NET_CONT_EQV_QY_VIP_TO_KRG_QY&#39;, &#39;NET_CONT_EQV_UOM_VIP_TO_KRG_UOM&#39;,\n",
       "       &#39;GTIN_HGT_OVD&#39;, &#39;GTIN_LTH_OVD&#39;, &#39;GTIN_WTH_OVD&#39;, &#39;GRS_WGT_OVD&#39;,\n",
       "       &#39;GTIN_NET_WGT_OVD&#39;, &#39;MIN_DAYS_OF_SHF_LIF_AT_WHS_DAYS&#39;, &#39;TPT_CLS_CD&#39;,\n",
       "       &#39;TPT_CLS_VLU&#39;, &#39;MAX_DAYS_OF_SHF_LIF_AT_WHS_DTB_CET_DAYS&#39;,\n",
       "       &#39;TYP_OF_LBL_CD&#39;, &#39;TYP_OF_LBL_VLU&#39;, &#39;SIZ_CD&#39;, &#39;SIZ_CD_VLU&#39;, &#39;SIZ_QY&#39;,\n",
       "       &#39;IS_EDBL_CD&#39;, &#39;IS_EDBL_VLU&#39;, &#39;VND_ECOM_DSC&#39;, &#39;KRG_OWN_ECOM_DSC&#39;,\n",
       "       &#39;CORRECT_ITM_ID&#39;, &#39;PMY_DPT_CD&#39;, &#39;REC_DPT_CD&#39;, &#39;DPT_CD&#39;, &#39;COM_CD&#39;,\n",
       "       &#39;SUBCOM_CD&#39;],\n",
       "      dtype=&#39;object&#39;)</div>"
      ]
     },
     "metadata": {
      "application/vnd.databricks.v1+output": {
       "addedWidgets": {},
       "arguments": {},
       "data": "<div class=\"ansiout\">Out[25]: Index([&#39;ITM_ID&#39;, &#39;GTIN_NO&#39;, &#39;GTIN_NAM&#39;, &#39;CON_UNT_ITM_DSC&#39;, &#39;DSP_UNT_ITM_DSC&#39;,\n       &#39;PMY_DPT_DSC&#39;, &#39;REC_DPT_DSC&#39;, &#39;DPT_DSC&#39;, &#39;COM_DSC&#39;, &#39;SUBCOM_DSC&#39;,\n       &#39;TAG_DSC&#39;, &#39;RCT_DSC&#39;, &#39;ITM_LVL_DSC&#39;, &#39;GRP_LVL_DSC&#39;,\n       &#39;NET_CONT_EQV_QY_VIP_TO_KRG_QY&#39;, &#39;NET_CONT_EQV_UOM_VIP_TO_KRG_UOM&#39;,\n       &#39;GTIN_HGT_OVD&#39;, &#39;GTIN_LTH_OVD&#39;, &#39;GTIN_WTH_OVD&#39;, &#39;GRS_WGT_OVD&#39;,\n       &#39;GTIN_NET_WGT_OVD&#39;, &#39;MIN_DAYS_OF_SHF_LIF_AT_WHS_DAYS&#39;, &#39;TPT_CLS_CD&#39;,\n       &#39;TPT_CLS_VLU&#39;, &#39;MAX_DAYS_OF_SHF_LIF_AT_WHS_DTB_CET_DAYS&#39;,\n       &#39;TYP_OF_LBL_CD&#39;, &#39;TYP_OF_LBL_VLU&#39;, &#39;SIZ_CD&#39;, &#39;SIZ_CD_VLU&#39;, &#39;SIZ_QY&#39;,\n       &#39;IS_EDBL_CD&#39;, &#39;IS_EDBL_VLU&#39;, &#39;VND_ECOM_DSC&#39;, &#39;KRG_OWN_ECOM_DSC&#39;,\n       &#39;CORRECT_ITM_ID&#39;, &#39;PMY_DPT_CD&#39;, &#39;REC_DPT_CD&#39;, &#39;DPT_CD&#39;, &#39;COM_CD&#39;,\n       &#39;SUBCOM_CD&#39;],\n      dtype=&#39;object&#39;)</div>",
       "datasetInfos": [],
       "metadata": {},
       "removedWidgets": [],
       "type": "html"
      }
     },
     "output_type": "display_data"
    }
   ],
   "source": [
    "pimmart.columns"
   ]
  },
  {
   "cell_type": "code",
   "execution_count": 1,
   "metadata": {},
   "outputs": [],
   "source": []
  },
  {
   "cell_type": "code",
   "execution_count": null,
   "metadata": {},
   "outputs": [],
   "source": [
    " "
   ]
  },
  {
   "cell_type": "code",
   "execution_count": 0,
   "metadata": {
    "application/vnd.databricks.v1+cell": {
     "cellMetadata": {
      "byteLimit": 2048000,
      "rowLimit": 10000
     },
     "inputWidgets": {},
     "nuid": "07bcbca1-c9e2-41ff-9f98-c9f6fcf07052",
     "showTitle": false,
     "title": ""
    }
   },
   "outputs": [],
   "source": [
    "item_cols = ['GTIN','PMY_DPT_DSC', 'REC_DPT_DSC', 'DPT_DSC', 'COM_DSC', 'SUBCOM_DSC', 'SUBCOM_CD' ,'VND_ECOM_DSC']\n",
    "pimmart.rename(columns={'GTIN_NO':'GTIN'}, inplace= True)"
   ]
  },
  {
   "cell_type": "code",
   "execution_count": 0,
   "metadata": {
    "application/vnd.databricks.v1+cell": {
     "cellMetadata": {
      "byteLimit": 2048000,
      "rowLimit": 10000
     },
     "inputWidgets": {},
     "nuid": "5d818650-9321-4a01-b09d-b735885a61de",
     "showTitle": false,
     "title": ""
    }
   },
   "outputs": [
    {
     "data": {
      "text/html": [
       "<style scoped>\n",
       "  .ansiout {\n",
       "    display: block;\n",
       "    unicode-bidi: embed;\n",
       "    white-space: pre-wrap;\n",
       "    word-wrap: break-word;\n",
       "    word-break: break-all;\n",
       "    font-family: \"Source Code Pro\", \"Menlo\", monospace;;\n",
       "    font-size: 13px;\n",
       "    color: #555;\n",
       "    margin-left: 4px;\n",
       "    line-height: 19px;\n",
       "  }\n",
       "</style>\n",
       "<div class=\"ansiout\"></div>"
      ]
     },
     "metadata": {
      "application/vnd.databricks.v1+output": {
       "addedWidgets": {},
       "arguments": {},
       "data": "<div class=\"ansiout\"></div>",
       "datasetInfos": [],
       "metadata": {},
       "removedWidgets": [],
       "type": "html"
      }
     },
     "output_type": "display_data"
    }
   ],
   "source": [
    "syndigo_mapped = syndigo_mapped.merge(pimmart[item_cols], on = 'GTIN', how = 'left')"
   ]
  },
  {
   "cell_type": "code",
   "execution_count": 0,
   "metadata": {
    "application/vnd.databricks.v1+cell": {
     "cellMetadata": {
      "byteLimit": 2048000,
      "rowLimit": 10000
     },
     "inputWidgets": {},
     "nuid": "430dedb1-100c-4717-bd0f-e52ec6cebea5",
     "showTitle": false,
     "title": ""
    }
   },
   "outputs": [
    {
     "data": {
      "text/html": [
       "<style scoped>\n",
       "  .ansiout {\n",
       "    display: block;\n",
       "    unicode-bidi: embed;\n",
       "    white-space: pre-wrap;\n",
       "    word-wrap: break-word;\n",
       "    word-break: break-all;\n",
       "    font-family: \"Source Code Pro\", \"Menlo\", monospace;;\n",
       "    font-size: 13px;\n",
       "    color: #555;\n",
       "    margin-left: 4px;\n",
       "    line-height: 19px;\n",
       "  }\n",
       "</style>\n",
       "<div class=\"ansiout\">Out[28]: (95032, 20)</div>"
      ]
     },
     "metadata": {
      "application/vnd.databricks.v1+output": {
       "addedWidgets": {},
       "arguments": {},
       "data": "<div class=\"ansiout\">Out[28]: (95032, 20)</div>",
       "datasetInfos": [],
       "metadata": {},
       "removedWidgets": [],
       "type": "html"
      }
     },
     "output_type": "display_data"
    }
   ],
   "source": [
    "syndigo_mapped.shape"
   ]
  },
  {
   "cell_type": "code",
   "execution_count": 0,
   "metadata": {
    "application/vnd.databricks.v1+cell": {
     "cellMetadata": {
      "byteLimit": 2048000,
      "rowLimit": 10000
     },
     "inputWidgets": {},
     "nuid": "5be9c583-78ae-40b6-895c-2a8b291ee233",
     "showTitle": false,
     "title": ""
    }
   },
   "outputs": [
    {
     "data": {
      "text/html": [
       "<style scoped>\n",
       "  .ansiout {\n",
       "    display: block;\n",
       "    unicode-bidi: embed;\n",
       "    white-space: pre-wrap;\n",
       "    word-wrap: break-word;\n",
       "    word-break: break-all;\n",
       "    font-family: \"Source Code Pro\", \"Menlo\", monospace;;\n",
       "    font-size: 13px;\n",
       "    color: #555;\n",
       "    margin-left: 4px;\n",
       "    line-height: 19px;\n",
       "  }\n",
       "</style>\n",
       "<div class=\"ansiout\">Out[29]: (4937400, 40)</div>"
      ]
     },
     "metadata": {
      "application/vnd.databricks.v1+output": {
       "addedWidgets": {},
       "arguments": {},
       "data": "<div class=\"ansiout\">Out[29]: (4937400, 40)</div>",
       "datasetInfos": [],
       "metadata": {},
       "removedWidgets": [],
       "type": "html"
      }
     },
     "output_type": "display_data"
    }
   ],
   "source": [
    "pimmart.shape"
   ]
  },
  {
   "cell_type": "markdown",
   "metadata": {
    "application/vnd.databricks.v1+cell": {
     "cellMetadata": {},
     "inputWidgets": {},
     "nuid": "6af6d9b5-084b-4b10-9d92-c576c72737fd",
     "showTitle": false,
     "title": ""
    }
   },
   "source": [
    "### Missing SUBCOMs in mapped data"
   ]
  },
  {
   "cell_type": "code",
   "execution_count": 0,
   "metadata": {
    "application/vnd.databricks.v1+cell": {
     "cellMetadata": {
      "byteLimit": 2048000,
      "rowLimit": 10000
     },
     "inputWidgets": {},
     "nuid": "414cdcd2-c267-478a-819d-64be5db11ff0",
     "showTitle": false,
     "title": ""
    }
   },
   "outputs": [
    {
     "data": {
      "text/html": [
       "<style scoped>\n",
       "  .ansiout {\n",
       "    display: block;\n",
       "    unicode-bidi: embed;\n",
       "    white-space: pre-wrap;\n",
       "    word-wrap: break-word;\n",
       "    word-break: break-all;\n",
       "    font-family: \"Source Code Pro\", \"Menlo\", monospace;;\n",
       "    font-size: 13px;\n",
       "    color: #555;\n",
       "    margin-left: 4px;\n",
       "    line-height: 19px;\n",
       "  }\n",
       "</style>\n",
       "<div class=\"ansiout\">Out[30]: 2775</div>"
      ]
     },
     "metadata": {
      "application/vnd.databricks.v1+output": {
       "addedWidgets": {},
       "arguments": {},
       "data": "<div class=\"ansiout\">Out[30]: 2775</div>",
       "datasetInfos": [],
       "metadata": {},
       "removedWidgets": [],
       "type": "html"
      }
     },
     "output_type": "display_data"
    }
   ],
   "source": [
    "syndigo_mapped.SUBCOM_DSC.nunique()"
   ]
  },
  {
   "cell_type": "code",
   "execution_count": 0,
   "metadata": {
    "application/vnd.databricks.v1+cell": {
     "cellMetadata": {
      "byteLimit": 2048000,
      "rowLimit": 10000
     },
     "inputWidgets": {},
     "nuid": "a5ffcb3d-3cbd-43cb-aa81-8c2ea376671e",
     "showTitle": false,
     "title": ""
    }
   },
   "outputs": [
    {
     "data": {
      "text/html": [
       "<style scoped>\n",
       "  .ansiout {\n",
       "    display: block;\n",
       "    unicode-bidi: embed;\n",
       "    white-space: pre-wrap;\n",
       "    word-wrap: break-word;\n",
       "    word-break: break-all;\n",
       "    font-family: \"Source Code Pro\", \"Menlo\", monospace;;\n",
       "    font-size: 13px;\n",
       "    color: #555;\n",
       "    margin-left: 4px;\n",
       "    line-height: 19px;\n",
       "  }\n",
       "</style>\n",
       "<div class=\"ansiout\">Out[31]: 4882</div>"
      ]
     },
     "metadata": {
      "application/vnd.databricks.v1+output": {
       "addedWidgets": {},
       "arguments": {},
       "data": "<div class=\"ansiout\">Out[31]: 4882</div>",
       "datasetInfos": [],
       "metadata": {},
       "removedWidgets": [],
       "type": "html"
      }
     },
     "output_type": "display_data"
    }
   ],
   "source": [
    "pimmart.SUBCOM_DSC.nunique()"
   ]
  },
  {
   "cell_type": "code",
   "execution_count": 0,
   "metadata": {
    "application/vnd.databricks.v1+cell": {
     "cellMetadata": {
      "byteLimit": 2048000,
      "rowLimit": 10000
     },
     "inputWidgets": {},
     "nuid": "abda5f10-69dc-480c-a704-18c7db41c117",
     "showTitle": false,
     "title": ""
    }
   },
   "outputs": [
    {
     "data": {
      "text/html": [
       "<style scoped>\n",
       "  .ansiout {\n",
       "    display: block;\n",
       "    unicode-bidi: embed;\n",
       "    white-space: pre-wrap;\n",
       "    word-wrap: break-word;\n",
       "    word-break: break-all;\n",
       "    font-family: \"Source Code Pro\", \"Menlo\", monospace;;\n",
       "    font-size: 13px;\n",
       "    color: #555;\n",
       "    margin-left: 4px;\n",
       "    line-height: 19px;\n",
       "  }\n",
       "</style>\n",
       "<div class=\"ansiout\"></div>"
      ]
     },
     "metadata": {
      "application/vnd.databricks.v1+output": {
       "addedWidgets": {},
       "arguments": {},
       "data": "<div class=\"ansiout\"></div>",
       "datasetInfos": [],
       "metadata": {},
       "removedWidgets": [],
       "type": "html"
      }
     },
     "output_type": "display_data"
    }
   ],
   "source": [
    "pimmart.groupby(['SUBCOM_DSC']).apply(lambda x: x.PMY_DPT_DSC.nunique()).sort_values(ascending = False)[:60]\\\n",
    "    .reset_index().to_csv('/dbfs/FileStore/tables/DATA_SCIENCE/PIMMART_SUBCOMS_NON_UNIQUE_PMY_DPT.csv', index = None)"
   ]
  },
  {
   "cell_type": "code",
   "execution_count": 0,
   "metadata": {
    "application/vnd.databricks.v1+cell": {
     "cellMetadata": {
      "byteLimit": 2048000,
      "rowLimit": 10000
     },
     "inputWidgets": {},
     "nuid": "c947d592-55c3-424a-8170-81893786fbf0",
     "showTitle": false,
     "title": ""
    }
   },
   "outputs": [
    {
     "data": {
      "text/html": [
       "<style scoped>\n",
       "  .ansiout {\n",
       "    display: block;\n",
       "    unicode-bidi: embed;\n",
       "    white-space: pre-wrap;\n",
       "    word-wrap: break-word;\n",
       "    word-break: break-all;\n",
       "    font-family: \"Source Code Pro\", \"Menlo\", monospace;;\n",
       "    font-size: 13px;\n",
       "    color: #555;\n",
       "    margin-left: 4px;\n",
       "    line-height: 19px;\n",
       "  }\n",
       "</style>\n",
       "<div class=\"ansiout\">Out[33]: SUBCOM_DSC\n",
       "INVENTORY VALUES                 65\n",
       "MISC SALES TRANS                 52\n",
       "MISC SALES TRANS (NON TAX)       26\n",
       "CENTRAL SUPPLIES                 17\n",
       "MISC SALES TRANS (TX TAXABLE)    17\n",
       "                                 ..\n",
       "CRAB - DUNGY                      2\n",
       "KABOBS                            2\n",
       "CUSTOMER EXPENSES                 2\n",
       "RAINWEAR                          2\n",
       "RAISINS                           2\n",
       "Length: 65, dtype: int64</div>"
      ]
     },
     "metadata": {
      "application/vnd.databricks.v1+output": {
       "addedWidgets": {},
       "arguments": {},
       "data": "<div class=\"ansiout\">Out[33]: SUBCOM_DSC\nINVENTORY VALUES                 65\nMISC SALES TRANS                 52\nMISC SALES TRANS (NON TAX)       26\nCENTRAL SUPPLIES                 17\nMISC SALES TRANS (TX TAXABLE)    17\n                                 ..\nCRAB - DUNGY                      2\nKABOBS                            2\nCUSTOMER EXPENSES                 2\nRAINWEAR                          2\nRAISINS                           2\nLength: 65, dtype: int64</div>",
       "datasetInfos": [],
       "metadata": {},
       "removedWidgets": [],
       "type": "html"
      }
     },
     "output_type": "display_data"
    }
   ],
   "source": [
    "pimmart.groupby(['SUBCOM_DSC']).apply(lambda x: x.DPT_DSC.nunique()).sort_values(ascending = False)[:65]"
   ]
  },
  {
   "cell_type": "code",
   "execution_count": 0,
   "metadata": {
    "application/vnd.databricks.v1+cell": {
     "cellMetadata": {
      "byteLimit": 2048000,
      "rowLimit": 10000
     },
     "inputWidgets": {},
     "nuid": "c8ea6f85-c8fc-4594-8c97-2929c5f4e145",
     "showTitle": false,
     "title": ""
    }
   },
   "outputs": [
    {
     "data": {
      "text/html": [
       "<style scoped>\n",
       "  .ansiout {\n",
       "    display: block;\n",
       "    unicode-bidi: embed;\n",
       "    white-space: pre-wrap;\n",
       "    word-wrap: break-word;\n",
       "    word-break: break-all;\n",
       "    font-family: \"Source Code Pro\", \"Menlo\", monospace;;\n",
       "    font-size: 13px;\n",
       "    color: #555;\n",
       "    margin-left: 4px;\n",
       "    line-height: 19px;\n",
       "  }\n",
       "</style>\n",
       "<div class=\"ansiout\"></div>"
      ]
     },
     "metadata": {
      "application/vnd.databricks.v1+output": {
       "addedWidgets": {},
       "arguments": {},
       "data": "<div class=\"ansiout\"></div>",
       "datasetInfos": [],
       "metadata": {},
       "removedWidgets": [],
       "type": "html"
      }
     },
     "output_type": "display_data"
    }
   ],
   "source": [
    "subcoms = pimmart.groupby(['SUBCOM_DSC','SUBCOM_CD'], group_keys = True)"
   ]
  },
  {
   "cell_type": "code",
   "execution_count": 0,
   "metadata": {
    "application/vnd.databricks.v1+cell": {
     "cellMetadata": {
      "byteLimit": 2048000,
      "rowLimit": 10000
     },
     "inputWidgets": {},
     "nuid": "01912068-a897-404a-aa1d-73e37ebe5309",
     "showTitle": false,
     "title": ""
    }
   },
   "outputs": [
    {
     "data": {
      "text/html": [
       "<style scoped>\n",
       "  .ansiout {\n",
       "    display: block;\n",
       "    unicode-bidi: embed;\n",
       "    white-space: pre-wrap;\n",
       "    word-wrap: break-word;\n",
       "    word-break: break-all;\n",
       "    font-family: \"Source Code Pro\", \"Menlo\", monospace;;\n",
       "    font-size: 13px;\n",
       "    color: #555;\n",
       "    margin-left: 4px;\n",
       "    line-height: 19px;\n",
       "  }\n",
       "</style>\n",
       "<div class=\"ansiout\"></div>"
      ]
     },
     "metadata": {
      "application/vnd.databricks.v1+output": {
       "addedWidgets": {},
       "arguments": {},
       "data": "<div class=\"ansiout\"></div>",
       "datasetInfos": [],
       "metadata": {},
       "removedWidgets": [],
       "type": "html"
      }
     },
     "output_type": "display_data"
    }
   ],
   "source": [
    "subcoms_agg = subcoms[['ITM_ID','PMY_DPT_DSC','REC_DPT_DSC','DPT_DSC','COM_DSC']].apply(lambda x: x.nunique()).reset_index()"
   ]
  },
  {
   "cell_type": "code",
   "execution_count": 0,
   "metadata": {
    "application/vnd.databricks.v1+cell": {
     "cellMetadata": {
      "byteLimit": 2048000,
      "rowLimit": 10000
     },
     "inputWidgets": {},
     "nuid": "0f0ad2e5-a4a4-4486-a532-665b6c0ff65b",
     "showTitle": false,
     "title": ""
    }
   },
   "outputs": [
    {
     "data": {
      "text/html": [
       "<style scoped>\n",
       "  .ansiout {\n",
       "    display: block;\n",
       "    unicode-bidi: embed;\n",
       "    white-space: pre-wrap;\n",
       "    word-wrap: break-word;\n",
       "    word-break: break-all;\n",
       "    font-family: \"Source Code Pro\", \"Menlo\", monospace;;\n",
       "    font-size: 13px;\n",
       "    color: #555;\n",
       "    margin-left: 4px;\n",
       "    line-height: 19px;\n",
       "  }\n",
       "</style>\n",
       "<div class=\"ansiout\"></div>"
      ]
     },
     "metadata": {
      "application/vnd.databricks.v1+output": {
       "addedWidgets": {},
       "arguments": {},
       "data": "<div class=\"ansiout\"></div>",
       "datasetInfos": [],
       "metadata": {},
       "removedWidgets": [],
       "type": "html"
      }
     },
     "output_type": "display_data"
    }
   ],
   "source": [
    "subcoms_agg['% of all items'] = 100*subcoms_agg.ITM_ID.fillna(0)/(subcoms_agg.ITM_ID.fillna(0).sum())"
   ]
  },
  {
   "cell_type": "markdown",
   "metadata": {
    "application/vnd.databricks.v1+cell": {
     "cellMetadata": {
      "byteLimit": 2048000,
      "rowLimit": 10000
     },
     "inputWidgets": {},
     "nuid": "f8cb6f7e-be5e-4023-a2f1-6e304a735097",
     "showTitle": false,
     "title": ""
    }
   },
   "source": [
    "SUBCOM_CD_DSC_map = dict(zip(pimmart.SUBCOM_CD, pimmart.SUBCOM_DSC))"
   ]
  },
  {
   "cell_type": "markdown",
   "metadata": {
    "application/vnd.databricks.v1+cell": {
     "cellMetadata": {
      "byteLimit": 2048000,
      "rowLimit": 10000
     },
     "inputWidgets": {},
     "nuid": "cdee7159-4363-46c8-b6d5-ae8dee18620a",
     "showTitle": false,
     "title": ""
    }
   },
   "source": [
    "subcoms_agg.SUBCOM_CD.map(SUBCOM_CD_DSC_map)"
   ]
  },
  {
   "cell_type": "code",
   "execution_count": 0,
   "metadata": {
    "application/vnd.databricks.v1+cell": {
     "cellMetadata": {
      "byteLimit": 2048000,
      "rowLimit": 10000
     },
     "inputWidgets": {},
     "nuid": "59ab8efe-77e7-4f54-ab25-2f6997c7e9d2",
     "showTitle": false,
     "title": ""
    }
   },
   "outputs": [
    {
     "data": {
      "text/html": [
       "<style scoped>\n",
       "  .ansiout {\n",
       "    display: block;\n",
       "    unicode-bidi: embed;\n",
       "    white-space: pre-wrap;\n",
       "    word-wrap: break-word;\n",
       "    word-break: break-all;\n",
       "    font-family: \"Source Code Pro\", \"Menlo\", monospace;;\n",
       "    font-size: 13px;\n",
       "    color: #555;\n",
       "    margin-left: 4px;\n",
       "    line-height: 19px;\n",
       "  }\n",
       "</style>\n",
       "<div class=\"ansiout\">Out[37]: array([&#39;SUPPLIES&#39;, &#39;DELI/BAKE&#39;], dtype=object)</div>"
      ]
     },
     "metadata": {
      "application/vnd.databricks.v1+output": {
       "addedWidgets": {},
       "arguments": {},
       "data": "<div class=\"ansiout\">Out[37]: array([&#39;SUPPLIES&#39;, &#39;DELI/BAKE&#39;], dtype=object)</div>",
       "datasetInfos": [],
       "metadata": {},
       "removedWidgets": [],
       "type": "html"
      }
     },
     "output_type": "display_data"
    }
   ],
   "source": [
    "pimmart[pimmart.SUBCOM_CD == 96601].PMY_DPT_DSC.unique()"
   ]
  },
  {
   "cell_type": "code",
   "execution_count": 0,
   "metadata": {
    "application/vnd.databricks.v1+cell": {
     "cellMetadata": {
      "byteLimit": 2048000,
      "rowLimit": 10000
     },
     "inputWidgets": {},
     "nuid": "7c30e626-e390-4763-99f9-36a297617413",
     "showTitle": false,
     "title": ""
    }
   },
   "outputs": [
    {
     "data": {
      "text/html": [
       "<style scoped>\n",
       "  .ansiout {\n",
       "    display: block;\n",
       "    unicode-bidi: embed;\n",
       "    white-space: pre-wrap;\n",
       "    word-wrap: break-word;\n",
       "    word-break: break-all;\n",
       "    font-family: \"Source Code Pro\", \"Menlo\", monospace;;\n",
       "    font-size: 13px;\n",
       "    color: #555;\n",
       "    margin-left: 4px;\n",
       "    line-height: 19px;\n",
       "  }\n",
       "</style>\n",
       "<div class=\"ansiout\">Out[151]: </div>"
      ]
     },
     "metadata": {
      "application/vnd.databricks.v1+output": {
       "addedWidgets": {},
       "arguments": {},
       "data": "<div class=\"ansiout\">Out[151]: </div>",
       "datasetInfos": [],
       "metadata": {},
       "removedWidgets": [],
       "type": "html"
      }
     },
     "output_type": "display_data"
    },
    {
     "data": {
      "text/html": [
       "<div>\n",
       "<style scoped>\n",
       "    .dataframe tbody tr th:only-of-type {\n",
       "        vertical-align: middle;\n",
       "    }\n",
       "\n",
       "    .dataframe tbody tr th {\n",
       "        vertical-align: top;\n",
       "    }\n",
       "\n",
       "    .dataframe thead th {\n",
       "        text-align: right;\n",
       "    }\n",
       "</style>\n",
       "<table border=\"1\" class=\"dataframe\">\n",
       "  <thead>\n",
       "    <tr style=\"text-align: right;\">\n",
       "      <th></th>\n",
       "      <th>SUBCOM_DSC</th>\n",
       "      <th>SUBCOM_CD</th>\n",
       "      <th>ITM_ID</th>\n",
       "      <th>PMY_DPT_DSC</th>\n",
       "      <th>REC_DPT_DSC</th>\n",
       "      <th>DPT_DSC</th>\n",
       "      <th>COM_DSC</th>\n",
       "      <th>% of all items</th>\n",
       "    </tr>\n",
       "  </thead>\n",
       "  <tbody>\n",
       "    <tr>\n",
       "      <th>3455</th>\n",
       "      <td>MISC SALES TRANS</td>\n",
       "      <td>97000.0</td>\n",
       "      <td>14759</td>\n",
       "      <td>9</td>\n",
       "      <td>19</td>\n",
       "      <td>50</td>\n",
       "      <td>1</td>\n",
       "      <td>0.299115</td>\n",
       "    </tr>\n",
       "    <tr>\n",
       "      <th>3458</th>\n",
       "      <td>MISC SALES TRANS (NON TAX)</td>\n",
       "      <td>97004.0</td>\n",
       "      <td>250</td>\n",
       "      <td>8</td>\n",
       "      <td>17</td>\n",
       "      <td>26</td>\n",
       "      <td>1</td>\n",
       "      <td>0.005067</td>\n",
       "    </tr>\n",
       "    <tr>\n",
       "      <th>3459</th>\n",
       "      <td>MISC SALES TRANS (TX TAXABLE)</td>\n",
       "      <td>97003.0</td>\n",
       "      <td>131</td>\n",
       "      <td>7</td>\n",
       "      <td>16</td>\n",
       "      <td>17</td>\n",
       "      <td>1</td>\n",
       "      <td>0.002655</td>\n",
       "    </tr>\n",
       "    <tr>\n",
       "      <th>2882</th>\n",
       "      <td>INVENTORY VALUES</td>\n",
       "      <td>97006.0</td>\n",
       "      <td>160</td>\n",
       "      <td>7</td>\n",
       "      <td>21</td>\n",
       "      <td>65</td>\n",
       "      <td>1</td>\n",
       "      <td>0.003243</td>\n",
       "    </tr>\n",
       "    <tr>\n",
       "      <th>1362</th>\n",
       "      <td>COUPON</td>\n",
       "      <td>96800.0</td>\n",
       "      <td>106</td>\n",
       "      <td>7</td>\n",
       "      <td>11</td>\n",
       "      <td>14</td>\n",
       "      <td>1</td>\n",
       "      <td>0.002148</td>\n",
       "    </tr>\n",
       "    <tr>\n",
       "      <th>3502</th>\n",
       "      <td>MISCELLANEOUS INCOME</td>\n",
       "      <td>34260.0</td>\n",
       "      <td>178</td>\n",
       "      <td>7</td>\n",
       "      <td>9</td>\n",
       "      <td>11</td>\n",
       "      <td>1</td>\n",
       "      <td>0.003607</td>\n",
       "    </tr>\n",
       "    <tr>\n",
       "      <th>3456</th>\n",
       "      <td>MISC SALES TRANS</td>\n",
       "      <td>97001.0</td>\n",
       "      <td>219</td>\n",
       "      <td>5</td>\n",
       "      <td>8</td>\n",
       "      <td>9</td>\n",
       "      <td>1</td>\n",
       "      <td>0.004438</td>\n",
       "    </tr>\n",
       "    <tr>\n",
       "      <th>1049</th>\n",
       "      <td>CENTRAL SUPPLIES</td>\n",
       "      <td>96400.0</td>\n",
       "      <td>2188</td>\n",
       "      <td>4</td>\n",
       "      <td>4</td>\n",
       "      <td>17</td>\n",
       "      <td>1</td>\n",
       "      <td>0.044343</td>\n",
       "    </tr>\n",
       "    <tr>\n",
       "      <th>1670</th>\n",
       "      <td>DONATIONS</td>\n",
       "      <td>34004.0</td>\n",
       "      <td>252</td>\n",
       "      <td>4</td>\n",
       "      <td>4</td>\n",
       "      <td>4</td>\n",
       "      <td>1</td>\n",
       "      <td>0.005107</td>\n",
       "    </tr>\n",
       "    <tr>\n",
       "      <th>4543</th>\n",
       "      <td>PEYTON/GM EXPENSE ITEMS</td>\n",
       "      <td>96500.0</td>\n",
       "      <td>315</td>\n",
       "      <td>3</td>\n",
       "      <td>4</td>\n",
       "      <td>6</td>\n",
       "      <td>1</td>\n",
       "      <td>0.006384</td>\n",
       "    </tr>\n",
       "    <tr>\n",
       "      <th>1671</th>\n",
       "      <td>DONATIONS</td>\n",
       "      <td>96801.0</td>\n",
       "      <td>34</td>\n",
       "      <td>3</td>\n",
       "      <td>3</td>\n",
       "      <td>3</td>\n",
       "      <td>1</td>\n",
       "      <td>0.000689</td>\n",
       "    </tr>\n",
       "    <tr>\n",
       "      <th>3507</th>\n",
       "      <td>MISCELLANEOUS REFUNDS</td>\n",
       "      <td>34265.0</td>\n",
       "      <td>25</td>\n",
       "      <td>3</td>\n",
       "      <td>3</td>\n",
       "      <td>3</td>\n",
       "      <td>1</td>\n",
       "      <td>0.000507</td>\n",
       "    </tr>\n",
       "    <tr>\n",
       "      <th>2449</th>\n",
       "      <td>GOVT SERVICES</td>\n",
       "      <td>34110.0</td>\n",
       "      <td>43</td>\n",
       "      <td>3</td>\n",
       "      <td>3</td>\n",
       "      <td>3</td>\n",
       "      <td>1</td>\n",
       "      <td>0.000871</td>\n",
       "    </tr>\n",
       "    <tr>\n",
       "      <th>1825</th>\n",
       "      <td>EMPLOYEE EXPENSES</td>\n",
       "      <td>34150.0</td>\n",
       "      <td>58</td>\n",
       "      <td>2</td>\n",
       "      <td>2</td>\n",
       "      <td>2</td>\n",
       "      <td>1</td>\n",
       "      <td>0.001175</td>\n",
       "    </tr>\n",
       "    <tr>\n",
       "      <th>1541</th>\n",
       "      <td>DEPARTMENT PRORATES</td>\n",
       "      <td>34098.0</td>\n",
       "      <td>18</td>\n",
       "      <td>2</td>\n",
       "      <td>2</td>\n",
       "      <td>2</td>\n",
       "      <td>1</td>\n",
       "      <td>0.000365</td>\n",
       "    </tr>\n",
       "    <tr>\n",
       "      <th>2185</th>\n",
       "      <td>FRONT END BAGS PAPER</td>\n",
       "      <td>15908.0</td>\n",
       "      <td>97</td>\n",
       "      <td>2</td>\n",
       "      <td>2</td>\n",
       "      <td>2</td>\n",
       "      <td>1</td>\n",
       "      <td>0.001966</td>\n",
       "    </tr>\n",
       "    <tr>\n",
       "      <th>4971</th>\n",
       "      <td>REUSEABLE BAGS</td>\n",
       "      <td>34275.0</td>\n",
       "      <td>18</td>\n",
       "      <td>2</td>\n",
       "      <td>2</td>\n",
       "      <td>2</td>\n",
       "      <td>1</td>\n",
       "      <td>0.000365</td>\n",
       "    </tr>\n",
       "    <tr>\n",
       "      <th>1875</th>\n",
       "      <td>EVENT TICKETS - NON TAXABLE</td>\n",
       "      <td>34201.0</td>\n",
       "      <td>194</td>\n",
       "      <td>2</td>\n",
       "      <td>2</td>\n",
       "      <td>3</td>\n",
       "      <td>1</td>\n",
       "      <td>0.003932</td>\n",
       "    </tr>\n",
       "    <tr>\n",
       "      <th>1425</th>\n",
       "      <td>CRV DEPOSIT NT/F</td>\n",
       "      <td>97010.0</td>\n",
       "      <td>54</td>\n",
       "      <td>2</td>\n",
       "      <td>2</td>\n",
       "      <td>3</td>\n",
       "      <td>1</td>\n",
       "      <td>0.001094</td>\n",
       "    </tr>\n",
       "    <tr>\n",
       "      <th>497</th>\n",
       "      <td>BAKERY STORE SUPPLIES</td>\n",
       "      <td>96601.0</td>\n",
       "      <td>2650</td>\n",
       "      <td>2</td>\n",
       "      <td>2</td>\n",
       "      <td>5</td>\n",
       "      <td>1</td>\n",
       "      <td>0.053707</td>\n",
       "    </tr>\n",
       "    <tr>\n",
       "      <th>1238</th>\n",
       "      <td>COFFEE SHOP STORE SUPPLIES</td>\n",
       "      <td>96603.0</td>\n",
       "      <td>2143</td>\n",
       "      <td>2</td>\n",
       "      <td>2</td>\n",
       "      <td>3</td>\n",
       "      <td>1</td>\n",
       "      <td>0.043431</td>\n",
       "    </tr>\n",
       "    <tr>\n",
       "      <th>1240</th>\n",
       "      <td>COFFEE SHOP WRAP SUPPLIES</td>\n",
       "      <td>96607.0</td>\n",
       "      <td>787</td>\n",
       "      <td>2</td>\n",
       "      <td>2</td>\n",
       "      <td>2</td>\n",
       "      <td>1</td>\n",
       "      <td>0.015950</td>\n",
       "    </tr>\n",
       "    <tr>\n",
       "      <th>1876</th>\n",
       "      <td>EVENT TICKETS - TAXABLE</td>\n",
       "      <td>34200.0</td>\n",
       "      <td>24</td>\n",
       "      <td>2</td>\n",
       "      <td>2</td>\n",
       "      <td>3</td>\n",
       "      <td>1</td>\n",
       "      <td>0.000486</td>\n",
       "    </tr>\n",
       "    <tr>\n",
       "      <th>3503</th>\n",
       "      <td>MISCELLANEOUS INCOME TAXABLE</td>\n",
       "      <td>34261.0</td>\n",
       "      <td>3</td>\n",
       "      <td>2</td>\n",
       "      <td>2</td>\n",
       "      <td>2</td>\n",
       "      <td>1</td>\n",
       "      <td>0.000061</td>\n",
       "    </tr>\n",
       "    <tr>\n",
       "      <th>6139</th>\n",
       "      <td>WAREHOUSE SHIPPER</td>\n",
       "      <td>498.0</td>\n",
       "      <td>3</td>\n",
       "      <td>2</td>\n",
       "      <td>2</td>\n",
       "      <td>3</td>\n",
       "      <td>1</td>\n",
       "      <td>0.000061</td>\n",
       "    </tr>\n",
       "    <tr>\n",
       "      <th>2297</th>\n",
       "      <td>FUEL CENTER</td>\n",
       "      <td>34300.0</td>\n",
       "      <td>24</td>\n",
       "      <td>2</td>\n",
       "      <td>2</td>\n",
       "      <td>2</td>\n",
       "      <td>1</td>\n",
       "      <td>0.000486</td>\n",
       "    </tr>\n",
       "    <tr>\n",
       "      <th>1433</th>\n",
       "      <td>CRV DEPOSIT T/NF</td>\n",
       "      <td>97008.0</td>\n",
       "      <td>20</td>\n",
       "      <td>2</td>\n",
       "      <td>3</td>\n",
       "      <td>3</td>\n",
       "      <td>1</td>\n",
       "      <td>0.000405</td>\n",
       "    </tr>\n",
       "    <tr>\n",
       "      <th>1426</th>\n",
       "      <td>CRV DEPOSIT T/F</td>\n",
       "      <td>97007.0</td>\n",
       "      <td>42</td>\n",
       "      <td>2</td>\n",
       "      <td>2</td>\n",
       "      <td>2</td>\n",
       "      <td>1</td>\n",
       "      <td>0.000851</td>\n",
       "    </tr>\n",
       "    <tr>\n",
       "      <th>3508</th>\n",
       "      <td>MISCELLANEOUS REFUNDS TAXABLE</td>\n",
       "      <td>34266.0</td>\n",
       "      <td>2</td>\n",
       "      <td>2</td>\n",
       "      <td>2</td>\n",
       "      <td>2</td>\n",
       "      <td>1</td>\n",
       "      <td>0.000041</td>\n",
       "    </tr>\n",
       "    <tr>\n",
       "      <th>3262</th>\n",
       "      <td>MEAT/SFD WRAP SUPPLIES</td>\n",
       "      <td>96305.0</td>\n",
       "      <td>1540</td>\n",
       "      <td>2</td>\n",
       "      <td>2</td>\n",
       "      <td>3</td>\n",
       "      <td>1</td>\n",
       "      <td>0.031211</td>\n",
       "    </tr>\n",
       "    <tr>\n",
       "      <th>1474</th>\n",
       "      <td>CUSTOMER EXPENSES</td>\n",
       "      <td>34155.0</td>\n",
       "      <td>17</td>\n",
       "      <td>2</td>\n",
       "      <td>2</td>\n",
       "      <td>2</td>\n",
       "      <td>1</td>\n",
       "      <td>0.000345</td>\n",
       "    </tr>\n",
       "    <tr>\n",
       "      <th>1475</th>\n",
       "      <td>CUSTOMER FEES</td>\n",
       "      <td>34050.0</td>\n",
       "      <td>8</td>\n",
       "      <td>2</td>\n",
       "      <td>2</td>\n",
       "      <td>2</td>\n",
       "      <td>1</td>\n",
       "      <td>0.000162</td>\n",
       "    </tr>\n",
       "    <tr>\n",
       "      <th>2180</th>\n",
       "      <td>FRESH PREPARED WRAP SUPPLIES</td>\n",
       "      <td>96609.0</td>\n",
       "      <td>480</td>\n",
       "      <td>2</td>\n",
       "      <td>2</td>\n",
       "      <td>3</td>\n",
       "      <td>1</td>\n",
       "      <td>0.009728</td>\n",
       "    </tr>\n",
       "    <tr>\n",
       "      <th>5008</th>\n",
       "      <td>ROUND UP COUPONS</td>\n",
       "      <td>96900.0</td>\n",
       "      <td>6</td>\n",
       "      <td>2</td>\n",
       "      <td>2</td>\n",
       "      <td>2</td>\n",
       "      <td>1</td>\n",
       "      <td>0.000122</td>\n",
       "    </tr>\n",
       "    <tr>\n",
       "      <th>3261</th>\n",
       "      <td>MEAT/SFD STORE SUPPLIES</td>\n",
       "      <td>96300.0</td>\n",
       "      <td>1496</td>\n",
       "      <td>2</td>\n",
       "      <td>2</td>\n",
       "      <td>7</td>\n",
       "      <td>1</td>\n",
       "      <td>0.030319</td>\n",
       "    </tr>\n",
       "    <tr>\n",
       "      <th>4837</th>\n",
       "      <td>PRODUCE STORE SUPPLIES</td>\n",
       "      <td>96200.0</td>\n",
       "      <td>1080</td>\n",
       "      <td>2</td>\n",
       "      <td>2</td>\n",
       "      <td>3</td>\n",
       "      <td>1</td>\n",
       "      <td>0.021888</td>\n",
       "    </tr>\n",
       "    <tr>\n",
       "      <th>3457</th>\n",
       "      <td>MISC SALES TRANS</td>\n",
       "      <td>97002.0</td>\n",
       "      <td>5</td>\n",
       "      <td>2</td>\n",
       "      <td>2</td>\n",
       "      <td>2</td>\n",
       "      <td>1</td>\n",
       "      <td>0.000101</td>\n",
       "    </tr>\n",
       "    <tr>\n",
       "      <th>4224</th>\n",
       "      <td>NUTS ALMONDS ENROBED - NAT ORG</td>\n",
       "      <td>62742.0</td>\n",
       "      <td>20</td>\n",
       "      <td>1</td>\n",
       "      <td>1</td>\n",
       "      <td>1</td>\n",
       "      <td>1</td>\n",
       "      <td>0.000405</td>\n",
       "    </tr>\n",
       "    <tr>\n",
       "      <th>4209</th>\n",
       "      <td>NUT SUPP-MISC</td>\n",
       "      <td>98358.0</td>\n",
       "      <td>2224</td>\n",
       "      <td>1</td>\n",
       "      <td>1</td>\n",
       "      <td>1</td>\n",
       "      <td>1</td>\n",
       "      <td>0.045073</td>\n",
       "    </tr>\n",
       "    <tr>\n",
       "      <th>4208</th>\n",
       "      <td>NUT SUPP-MISC</td>\n",
       "      <td>68400.0</td>\n",
       "      <td>1</td>\n",
       "      <td>1</td>\n",
       "      <td>1</td>\n",
       "      <td>1</td>\n",
       "      <td>1</td>\n",
       "      <td>0.000020</td>\n",
       "    </tr>\n",
       "  </tbody>\n",
       "</table>\n",
       "</div>"
      ]
     },
     "metadata": {
      "application/vnd.databricks.v1+output": {
       "addedWidgets": {},
       "arguments": {},
       "data": "<div>\n<style scoped>\n    .dataframe tbody tr th:only-of-type {\n        vertical-align: middle;\n    }\n\n    .dataframe tbody tr th {\n        vertical-align: top;\n    }\n\n    .dataframe thead th {\n        text-align: right;\n    }\n</style>\n<table border=\"1\" class=\"dataframe\">\n  <thead>\n    <tr style=\"text-align: right;\">\n      <th></th>\n      <th>SUBCOM_DSC</th>\n      <th>SUBCOM_CD</th>\n      <th>ITM_ID</th>\n      <th>PMY_DPT_DSC</th>\n      <th>REC_DPT_DSC</th>\n      <th>DPT_DSC</th>\n      <th>COM_DSC</th>\n      <th>% of all items</th>\n    </tr>\n  </thead>\n  <tbody>\n    <tr>\n      <th>3455</th>\n      <td>MISC SALES TRANS</td>\n      <td>97000.0</td>\n      <td>14759</td>\n      <td>9</td>\n      <td>19</td>\n      <td>50</td>\n      <td>1</td>\n      <td>0.299115</td>\n    </tr>\n    <tr>\n      <th>3458</th>\n      <td>MISC SALES TRANS (NON TAX)</td>\n      <td>97004.0</td>\n      <td>250</td>\n      <td>8</td>\n      <td>17</td>\n      <td>26</td>\n      <td>1</td>\n      <td>0.005067</td>\n    </tr>\n    <tr>\n      <th>3459</th>\n      <td>MISC SALES TRANS (TX TAXABLE)</td>\n      <td>97003.0</td>\n      <td>131</td>\n      <td>7</td>\n      <td>16</td>\n      <td>17</td>\n      <td>1</td>\n      <td>0.002655</td>\n    </tr>\n    <tr>\n      <th>2882</th>\n      <td>INVENTORY VALUES</td>\n      <td>97006.0</td>\n      <td>160</td>\n      <td>7</td>\n      <td>21</td>\n      <td>65</td>\n      <td>1</td>\n      <td>0.003243</td>\n    </tr>\n    <tr>\n      <th>1362</th>\n      <td>COUPON</td>\n      <td>96800.0</td>\n      <td>106</td>\n      <td>7</td>\n      <td>11</td>\n      <td>14</td>\n      <td>1</td>\n      <td>0.002148</td>\n    </tr>\n    <tr>\n      <th>3502</th>\n      <td>MISCELLANEOUS INCOME</td>\n      <td>34260.0</td>\n      <td>178</td>\n      <td>7</td>\n      <td>9</td>\n      <td>11</td>\n      <td>1</td>\n      <td>0.003607</td>\n    </tr>\n    <tr>\n      <th>3456</th>\n      <td>MISC SALES TRANS</td>\n      <td>97001.0</td>\n      <td>219</td>\n      <td>5</td>\n      <td>8</td>\n      <td>9</td>\n      <td>1</td>\n      <td>0.004438</td>\n    </tr>\n    <tr>\n      <th>1049</th>\n      <td>CENTRAL SUPPLIES</td>\n      <td>96400.0</td>\n      <td>2188</td>\n      <td>4</td>\n      <td>4</td>\n      <td>17</td>\n      <td>1</td>\n      <td>0.044343</td>\n    </tr>\n    <tr>\n      <th>1670</th>\n      <td>DONATIONS</td>\n      <td>34004.0</td>\n      <td>252</td>\n      <td>4</td>\n      <td>4</td>\n      <td>4</td>\n      <td>1</td>\n      <td>0.005107</td>\n    </tr>\n    <tr>\n      <th>4543</th>\n      <td>PEYTON/GM EXPENSE ITEMS</td>\n      <td>96500.0</td>\n      <td>315</td>\n      <td>3</td>\n      <td>4</td>\n      <td>6</td>\n      <td>1</td>\n      <td>0.006384</td>\n    </tr>\n    <tr>\n      <th>1671</th>\n      <td>DONATIONS</td>\n      <td>96801.0</td>\n      <td>34</td>\n      <td>3</td>\n      <td>3</td>\n      <td>3</td>\n      <td>1</td>\n      <td>0.000689</td>\n    </tr>\n    <tr>\n      <th>3507</th>\n      <td>MISCELLANEOUS REFUNDS</td>\n      <td>34265.0</td>\n      <td>25</td>\n      <td>3</td>\n      <td>3</td>\n      <td>3</td>\n      <td>1</td>\n      <td>0.000507</td>\n    </tr>\n    <tr>\n      <th>2449</th>\n      <td>GOVT SERVICES</td>\n      <td>34110.0</td>\n      <td>43</td>\n      <td>3</td>\n      <td>3</td>\n      <td>3</td>\n      <td>1</td>\n      <td>0.000871</td>\n    </tr>\n    <tr>\n      <th>1825</th>\n      <td>EMPLOYEE EXPENSES</td>\n      <td>34150.0</td>\n      <td>58</td>\n      <td>2</td>\n      <td>2</td>\n      <td>2</td>\n      <td>1</td>\n      <td>0.001175</td>\n    </tr>\n    <tr>\n      <th>1541</th>\n      <td>DEPARTMENT PRORATES</td>\n      <td>34098.0</td>\n      <td>18</td>\n      <td>2</td>\n      <td>2</td>\n      <td>2</td>\n      <td>1</td>\n      <td>0.000365</td>\n    </tr>\n    <tr>\n      <th>2185</th>\n      <td>FRONT END BAGS PAPER</td>\n      <td>15908.0</td>\n      <td>97</td>\n      <td>2</td>\n      <td>2</td>\n      <td>2</td>\n      <td>1</td>\n      <td>0.001966</td>\n    </tr>\n    <tr>\n      <th>4971</th>\n      <td>REUSEABLE BAGS</td>\n      <td>34275.0</td>\n      <td>18</td>\n      <td>2</td>\n      <td>2</td>\n      <td>2</td>\n      <td>1</td>\n      <td>0.000365</td>\n    </tr>\n    <tr>\n      <th>1875</th>\n      <td>EVENT TICKETS - NON TAXABLE</td>\n      <td>34201.0</td>\n      <td>194</td>\n      <td>2</td>\n      <td>2</td>\n      <td>3</td>\n      <td>1</td>\n      <td>0.003932</td>\n    </tr>\n    <tr>\n      <th>1425</th>\n      <td>CRV DEPOSIT NT/F</td>\n      <td>97010.0</td>\n      <td>54</td>\n      <td>2</td>\n      <td>2</td>\n      <td>3</td>\n      <td>1</td>\n      <td>0.001094</td>\n    </tr>\n    <tr>\n      <th>497</th>\n      <td>BAKERY STORE SUPPLIES</td>\n      <td>96601.0</td>\n      <td>2650</td>\n      <td>2</td>\n      <td>2</td>\n      <td>5</td>\n      <td>1</td>\n      <td>0.053707</td>\n    </tr>\n    <tr>\n      <th>1238</th>\n      <td>COFFEE SHOP STORE SUPPLIES</td>\n      <td>96603.0</td>\n      <td>2143</td>\n      <td>2</td>\n      <td>2</td>\n      <td>3</td>\n      <td>1</td>\n      <td>0.043431</td>\n    </tr>\n    <tr>\n      <th>1240</th>\n      <td>COFFEE SHOP WRAP SUPPLIES</td>\n      <td>96607.0</td>\n      <td>787</td>\n      <td>2</td>\n      <td>2</td>\n      <td>2</td>\n      <td>1</td>\n      <td>0.015950</td>\n    </tr>\n    <tr>\n      <th>1876</th>\n      <td>EVENT TICKETS - TAXABLE</td>\n      <td>34200.0</td>\n      <td>24</td>\n      <td>2</td>\n      <td>2</td>\n      <td>3</td>\n      <td>1</td>\n      <td>0.000486</td>\n    </tr>\n    <tr>\n      <th>3503</th>\n      <td>MISCELLANEOUS INCOME TAXABLE</td>\n      <td>34261.0</td>\n      <td>3</td>\n      <td>2</td>\n      <td>2</td>\n      <td>2</td>\n      <td>1</td>\n      <td>0.000061</td>\n    </tr>\n    <tr>\n      <th>6139</th>\n      <td>WAREHOUSE SHIPPER</td>\n      <td>498.0</td>\n      <td>3</td>\n      <td>2</td>\n      <td>2</td>\n      <td>3</td>\n      <td>1</td>\n      <td>0.000061</td>\n    </tr>\n    <tr>\n      <th>2297</th>\n      <td>FUEL CENTER</td>\n      <td>34300.0</td>\n      <td>24</td>\n      <td>2</td>\n      <td>2</td>\n      <td>2</td>\n      <td>1</td>\n      <td>0.000486</td>\n    </tr>\n    <tr>\n      <th>1433</th>\n      <td>CRV DEPOSIT T/NF</td>\n      <td>97008.0</td>\n      <td>20</td>\n      <td>2</td>\n      <td>3</td>\n      <td>3</td>\n      <td>1</td>\n      <td>0.000405</td>\n    </tr>\n    <tr>\n      <th>1426</th>\n      <td>CRV DEPOSIT T/F</td>\n      <td>97007.0</td>\n      <td>42</td>\n      <td>2</td>\n      <td>2</td>\n      <td>2</td>\n      <td>1</td>\n      <td>0.000851</td>\n    </tr>\n    <tr>\n      <th>3508</th>\n      <td>MISCELLANEOUS REFUNDS TAXABLE</td>\n      <td>34266.0</td>\n      <td>2</td>\n      <td>2</td>\n      <td>2</td>\n      <td>2</td>\n      <td>1</td>\n      <td>0.000041</td>\n    </tr>\n    <tr>\n      <th>3262</th>\n      <td>MEAT/SFD WRAP SUPPLIES</td>\n      <td>96305.0</td>\n      <td>1540</td>\n      <td>2</td>\n      <td>2</td>\n      <td>3</td>\n      <td>1</td>\n      <td>0.031211</td>\n    </tr>\n    <tr>\n      <th>1474</th>\n      <td>CUSTOMER EXPENSES</td>\n      <td>34155.0</td>\n      <td>17</td>\n      <td>2</td>\n      <td>2</td>\n      <td>2</td>\n      <td>1</td>\n      <td>0.000345</td>\n    </tr>\n    <tr>\n      <th>1475</th>\n      <td>CUSTOMER FEES</td>\n      <td>34050.0</td>\n      <td>8</td>\n      <td>2</td>\n      <td>2</td>\n      <td>2</td>\n      <td>1</td>\n      <td>0.000162</td>\n    </tr>\n    <tr>\n      <th>2180</th>\n      <td>FRESH PREPARED WRAP SUPPLIES</td>\n      <td>96609.0</td>\n      <td>480</td>\n      <td>2</td>\n      <td>2</td>\n      <td>3</td>\n      <td>1</td>\n      <td>0.009728</td>\n    </tr>\n    <tr>\n      <th>5008</th>\n      <td>ROUND UP COUPONS</td>\n      <td>96900.0</td>\n      <td>6</td>\n      <td>2</td>\n      <td>2</td>\n      <td>2</td>\n      <td>1</td>\n      <td>0.000122</td>\n    </tr>\n    <tr>\n      <th>3261</th>\n      <td>MEAT/SFD STORE SUPPLIES</td>\n      <td>96300.0</td>\n      <td>1496</td>\n      <td>2</td>\n      <td>2</td>\n      <td>7</td>\n      <td>1</td>\n      <td>0.030319</td>\n    </tr>\n    <tr>\n      <th>4837</th>\n      <td>PRODUCE STORE SUPPLIES</td>\n      <td>96200.0</td>\n      <td>1080</td>\n      <td>2</td>\n      <td>2</td>\n      <td>3</td>\n      <td>1</td>\n      <td>0.021888</td>\n    </tr>\n    <tr>\n      <th>3457</th>\n      <td>MISC SALES TRANS</td>\n      <td>97002.0</td>\n      <td>5</td>\n      <td>2</td>\n      <td>2</td>\n      <td>2</td>\n      <td>1</td>\n      <td>0.000101</td>\n    </tr>\n    <tr>\n      <th>4224</th>\n      <td>NUTS ALMONDS ENROBED - NAT ORG</td>\n      <td>62742.0</td>\n      <td>20</td>\n      <td>1</td>\n      <td>1</td>\n      <td>1</td>\n      <td>1</td>\n      <td>0.000405</td>\n    </tr>\n    <tr>\n      <th>4209</th>\n      <td>NUT SUPP-MISC</td>\n      <td>98358.0</td>\n      <td>2224</td>\n      <td>1</td>\n      <td>1</td>\n      <td>1</td>\n      <td>1</td>\n      <td>0.045073</td>\n    </tr>\n    <tr>\n      <th>4208</th>\n      <td>NUT SUPP-MISC</td>\n      <td>68400.0</td>\n      <td>1</td>\n      <td>1</td>\n      <td>1</td>\n      <td>1</td>\n      <td>1</td>\n      <td>0.000020</td>\n    </tr>\n  </tbody>\n</table>\n</div>",
       "datasetInfos": [],
       "metadata": {},
       "removedWidgets": [],
       "textData": null,
       "type": "htmlSandbox"
      }
     },
     "output_type": "display_data"
    }
   ],
   "source": [
    "subcoms_agg.sort_values('PMY_DPT_DSC', ascending= False)[:40]"
   ]
  },
  {
   "cell_type": "code",
   "execution_count": 0,
   "metadata": {
    "application/vnd.databricks.v1+cell": {
     "cellMetadata": {
      "byteLimit": 2048000,
      "rowLimit": 10000
     },
     "inputWidgets": {},
     "nuid": "432ce482-2c99-4356-8f8c-4088ae49c181",
     "showTitle": false,
     "title": ""
    }
   },
   "outputs": [
    {
     "data": {
      "text/html": [
       "<style scoped>\n",
       "  .ansiout {\n",
       "    display: block;\n",
       "    unicode-bidi: embed;\n",
       "    white-space: pre-wrap;\n",
       "    word-wrap: break-word;\n",
       "    word-break: break-all;\n",
       "    font-family: \"Source Code Pro\", \"Menlo\", monospace;;\n",
       "    font-size: 13px;\n",
       "    color: #555;\n",
       "    margin-left: 4px;\n",
       "    line-height: 19px;\n",
       "  }\n",
       "</style>\n",
       "<div class=\"ansiout\">Out[222]: </div>"
      ]
     },
     "metadata": {
      "application/vnd.databricks.v1+output": {
       "addedWidgets": {},
       "arguments": {},
       "data": "<div class=\"ansiout\">Out[222]: </div>",
       "datasetInfos": [],
       "metadata": {},
       "removedWidgets": [],
       "type": "html"
      }
     },
     "output_type": "display_data"
    },
    {
     "data": {
      "text/html": [
       "<div>\n",
       "<style scoped>\n",
       "    .dataframe tbody tr th:only-of-type {\n",
       "        vertical-align: middle;\n",
       "    }\n",
       "\n",
       "    .dataframe tbody tr th {\n",
       "        vertical-align: top;\n",
       "    }\n",
       "\n",
       "    .dataframe thead th {\n",
       "        text-align: right;\n",
       "    }\n",
       "</style>\n",
       "<table border=\"1\" class=\"dataframe\">\n",
       "  <thead>\n",
       "    <tr style=\"text-align: right;\">\n",
       "      <th></th>\n",
       "      <th>GTIN</th>\n",
       "      <th>Syndigo Taxonomy</th>\n",
       "      <th>Level Mapped</th>\n",
       "      <th>Level 1</th>\n",
       "      <th>Level 2</th>\n",
       "      <th>Level 3</th>\n",
       "      <th>Level 4</th>\n",
       "      <th>Level 5</th>\n",
       "      <th>Level 6</th>\n",
       "      <th>Level 7</th>\n",
       "      <th>Level 8</th>\n",
       "      <th>Level 9</th>\n",
       "      <th>Level 10</th>\n",
       "      <th>PMY_DPT_DSC</th>\n",
       "      <th>REC_DPT_DSC</th>\n",
       "      <th>DPT_DSC</th>\n",
       "      <th>COM_DSC</th>\n",
       "      <th>SUBCOM_DSC</th>\n",
       "      <th>VND_ECOM_DSC</th>\n",
       "      <th>ITEM_SUBCOM_text</th>\n",
       "    </tr>\n",
       "  </thead>\n",
       "  <tbody>\n",
       "  </tbody>\n",
       "</table>\n",
       "</div>"
      ]
     },
     "metadata": {
      "application/vnd.databricks.v1+output": {
       "addedWidgets": {},
       "arguments": {},
       "data": "<div>\n<style scoped>\n    .dataframe tbody tr th:only-of-type {\n        vertical-align: middle;\n    }\n\n    .dataframe tbody tr th {\n        vertical-align: top;\n    }\n\n    .dataframe thead th {\n        text-align: right;\n    }\n</style>\n<table border=\"1\" class=\"dataframe\">\n  <thead>\n    <tr style=\"text-align: right;\">\n      <th></th>\n      <th>GTIN</th>\n      <th>Syndigo Taxonomy</th>\n      <th>Level Mapped</th>\n      <th>Level 1</th>\n      <th>Level 2</th>\n      <th>Level 3</th>\n      <th>Level 4</th>\n      <th>Level 5</th>\n      <th>Level 6</th>\n      <th>Level 7</th>\n      <th>Level 8</th>\n      <th>Level 9</th>\n      <th>Level 10</th>\n      <th>PMY_DPT_DSC</th>\n      <th>REC_DPT_DSC</th>\n      <th>DPT_DSC</th>\n      <th>COM_DSC</th>\n      <th>SUBCOM_DSC</th>\n      <th>VND_ECOM_DSC</th>\n      <th>ITEM_SUBCOM_text</th>\n    </tr>\n  </thead>\n  <tbody>\n  </tbody>\n</table>\n</div>",
       "datasetInfos": [],
       "metadata": {},
       "removedWidgets": [],
       "textData": null,
       "type": "htmlSandbox"
      }
     },
     "output_type": "display_data"
    }
   ],
   "source": [
    "syndigo_mapped[syndigo_mapped['Level 1'] == 'Unclassified']"
   ]
  },
  {
   "cell_type": "code",
   "execution_count": 0,
   "metadata": {
    "application/vnd.databricks.v1+cell": {
     "cellMetadata": {},
     "inputWidgets": {},
     "nuid": "1e5488dd-138e-4202-8e6f-c928fe6135fd",
     "showTitle": false,
     "title": ""
    }
   },
   "outputs": [],
   "source": []
  },
  {
   "cell_type": "code",
   "execution_count": 0,
   "metadata": {
    "application/vnd.databricks.v1+cell": {
     "cellMetadata": {},
     "inputWidgets": {},
     "nuid": "6a110243-5fd2-458e-80f9-e27156f248a4",
     "showTitle": false,
     "title": ""
    }
   },
   "outputs": [],
   "source": []
  },
  {
   "cell_type": "code",
   "execution_count": 0,
   "metadata": {
    "application/vnd.databricks.v1+cell": {
     "cellMetadata": {},
     "inputWidgets": {},
     "nuid": "533feb06-17cb-41dc-8b6e-b95a2d2d4553",
     "showTitle": false,
     "title": ""
    }
   },
   "outputs": [],
   "source": []
  },
  {
   "cell_type": "markdown",
   "metadata": {
    "application/vnd.databricks.v1+cell": {
     "cellMetadata": {
      "byteLimit": 2048000,
      "rowLimit": 10000
     },
     "inputWidgets": {},
     "nuid": "0f60a65d-4e16-49b7-98ca-52bc70087142",
     "showTitle": false,
     "title": ""
    }
   },
   "source": [
    "subcoms_agg.to_csv('/dbfs/FileStore/tables/DATA_SCIENCE/PIMMART_SUBCOM_CODE_MULTIPLICITY_061423.csv', index = None)"
   ]
  },
  {
   "cell_type": "code",
   "execution_count": 0,
   "metadata": {
    "application/vnd.databricks.v1+cell": {
     "cellMetadata": {},
     "inputWidgets": {},
     "nuid": "6cb8bfa7-56b8-4265-b6ae-c30b80af236b",
     "showTitle": false,
     "title": ""
    }
   },
   "outputs": [],
   "source": []
  },
  {
   "cell_type": "code",
   "execution_count": 0,
   "metadata": {
    "application/vnd.databricks.v1+cell": {
     "cellMetadata": {},
     "inputWidgets": {},
     "nuid": "14386f90-7cd2-4efd-8ef8-59401c2e615c",
     "showTitle": false,
     "title": ""
    }
   },
   "outputs": [],
   "source": []
  },
  {
   "cell_type": "code",
   "execution_count": 0,
   "metadata": {
    "application/vnd.databricks.v1+cell": {
     "cellMetadata": {},
     "inputWidgets": {},
     "nuid": "e4e1f4e9-8391-4a67-91fd-019e7f2925f6",
     "showTitle": false,
     "title": ""
    }
   },
   "outputs": [],
   "source": []
  },
  {
   "cell_type": "markdown",
   "metadata": {
    "application/vnd.databricks.v1+cell": {
     "cellMetadata": {},
     "inputWidgets": {},
     "nuid": "a2a38ac9-b453-4a32-85d6-642b69d5ab3d",
     "showTitle": false,
     "title": ""
    }
   },
   "source": [
    "### % of SUBCOMS weighted by item count"
   ]
  },
  {
   "cell_type": "code",
   "execution_count": 0,
   "metadata": {
    "application/vnd.databricks.v1+cell": {
     "cellMetadata": {
      "byteLimit": 2048000,
      "rowLimit": 10000
     },
     "inputWidgets": {},
     "nuid": "2ea790e8-e450-43cf-b7da-e100c68388f4",
     "showTitle": false,
     "title": ""
    }
   },
   "outputs": [
    {
     "data": {
      "text/html": [
       "<style scoped>\n",
       "  .ansiout {\n",
       "    display: block;\n",
       "    unicode-bidi: embed;\n",
       "    white-space: pre-wrap;\n",
       "    word-wrap: break-word;\n",
       "    word-break: break-all;\n",
       "    font-family: \"Source Code Pro\", \"Menlo\", monospace;;\n",
       "    font-size: 13px;\n",
       "    color: #555;\n",
       "    margin-left: 4px;\n",
       "    line-height: 19px;\n",
       "  }\n",
       "</style>\n",
       "<div class=\"ansiout\">Out[79]: 34262      688214353\n",
       "34537      688214354\n",
       "34434      688214355\n",
       "34538      688214356\n",
       "34445      688214357\n",
       "             ...    \n",
       "4935248    693151748\n",
       "4936477    693151749\n",
       "4932326    693151750\n",
       "4932607    693151751\n",
       "4932345    693151752\n",
       "Name: ITM_ID, Length: 4937400, dtype: int64</div>"
      ]
     },
     "metadata": {
      "application/vnd.databricks.v1+output": {
       "addedWidgets": {},
       "arguments": {},
       "data": "<div class=\"ansiout\">Out[79]: 34262      688214353\n34537      688214354\n34434      688214355\n34538      688214356\n34445      688214357\n             ...    \n4935248    693151748\n4936477    693151749\n4932326    693151750\n4932607    693151751\n4932345    693151752\nName: ITM_ID, Length: 4937400, dtype: int64</div>",
       "datasetInfos": [],
       "metadata": {},
       "removedWidgets": [],
       "type": "html"
      }
     },
     "output_type": "display_data"
    }
   ],
   "source": [
    "pimmart.ITM_ID.sort_values()"
   ]
  },
  {
   "cell_type": "code",
   "execution_count": 0,
   "metadata": {
    "application/vnd.databricks.v1+cell": {
     "cellMetadata": {
      "byteLimit": 2048000,
      "rowLimit": 10000
     },
     "inputWidgets": {},
     "nuid": "d0c127fc-b628-4308-ac4e-a7ddb106caca",
     "showTitle": false,
     "title": ""
    }
   },
   "outputs": [
    {
     "data": {
      "text/html": [
       "<style scoped>\n",
       "  .ansiout {\n",
       "    display: block;\n",
       "    unicode-bidi: embed;\n",
       "    white-space: pre-wrap;\n",
       "    word-wrap: break-word;\n",
       "    word-break: break-all;\n",
       "    font-family: \"Source Code Pro\", \"Menlo\", monospace;;\n",
       "    font-size: 13px;\n",
       "    color: #555;\n",
       "    margin-left: 4px;\n",
       "    line-height: 19px;\n",
       "  }\n",
       "</style>\n",
       "<div class=\"ansiout\">Out[66]: 4.621195524075635</div>"
      ]
     },
     "metadata": {
      "application/vnd.databricks.v1+output": {
       "addedWidgets": {},
       "arguments": {},
       "data": "<div class=\"ansiout\">Out[66]: 4.621195524075635</div>",
       "datasetInfos": [],
       "metadata": {},
       "removedWidgets": [],
       "type": "html"
      }
     },
     "output_type": "display_data"
    }
   ],
   "source": [
    "\n",
    "100* subcoms_agg[subcoms_agg.DPT_DSC >1].ITM_ID.sum()/subcoms_agg.ITM_ID.sum()"
   ]
  },
  {
   "cell_type": "code",
   "execution_count": 0,
   "metadata": {
    "application/vnd.databricks.v1+cell": {
     "cellMetadata": {
      "byteLimit": 2048000,
      "rowLimit": 10000
     },
     "inputWidgets": {},
     "nuid": "06b74b5e-a8ad-4f61-9482-0bbde5744f03",
     "showTitle": false,
     "title": ""
    }
   },
   "outputs": [
    {
     "data": {
      "text/html": [
       "<style scoped>\n",
       "  .ansiout {\n",
       "    display: block;\n",
       "    unicode-bidi: embed;\n",
       "    white-space: pre-wrap;\n",
       "    word-wrap: break-word;\n",
       "    word-break: break-all;\n",
       "    font-family: \"Source Code Pro\", \"Menlo\", monospace;;\n",
       "    font-size: 13px;\n",
       "    color: #555;\n",
       "    margin-left: 4px;\n",
       "    line-height: 19px;\n",
       "  }\n",
       "</style>\n",
       "<div class=\"ansiout\">Out[67]: 2.5052992154181988</div>"
      ]
     },
     "metadata": {
      "application/vnd.databricks.v1+output": {
       "addedWidgets": {},
       "arguments": {},
       "data": "<div class=\"ansiout\">Out[67]: 2.5052992154181988</div>",
       "datasetInfos": [],
       "metadata": {},
       "removedWidgets": [],
       "type": "html"
      }
     },
     "output_type": "display_data"
    }
   ],
   "source": [
    "100* subcoms_agg[subcoms_agg.REC_DPT_DSC >1].ITM_ID.sum()/subcoms_agg.ITM_ID.sum()"
   ]
  },
  {
   "cell_type": "code",
   "execution_count": 0,
   "metadata": {
    "application/vnd.databricks.v1+cell": {
     "cellMetadata": {
      "byteLimit": 2048000,
      "rowLimit": 10000
     },
     "inputWidgets": {},
     "nuid": "1cf35b3e-fb3b-4f1e-8e1b-05f4bebbe51a",
     "showTitle": false,
     "title": ""
    }
   },
   "outputs": [
    {
     "data": {
      "text/html": [
       "<style scoped>\n",
       "  .ansiout {\n",
       "    display: block;\n",
       "    unicode-bidi: embed;\n",
       "    white-space: pre-wrap;\n",
       "    word-wrap: break-word;\n",
       "    word-break: break-all;\n",
       "    font-family: \"Source Code Pro\", \"Menlo\", monospace;;\n",
       "    font-size: 13px;\n",
       "    color: #555;\n",
       "    margin-left: 4px;\n",
       "    line-height: 19px;\n",
       "  }\n",
       "</style>\n",
       "<div class=\"ansiout\">Out[68]: 1.6442717097592507</div>"
      ]
     },
     "metadata": {
      "application/vnd.databricks.v1+output": {
       "addedWidgets": {},
       "arguments": {},
       "data": "<div class=\"ansiout\">Out[68]: 1.6442717097592507</div>",
       "datasetInfos": [],
       "metadata": {},
       "removedWidgets": [],
       "type": "html"
      }
     },
     "output_type": "display_data"
    }
   ],
   "source": [
    "100* subcoms_agg[subcoms_agg.PMY_DPT_DSC >1].ITM_ID.sum()/subcoms_agg.ITM_ID.sum()"
   ]
  },
  {
   "cell_type": "code",
   "execution_count": 0,
   "metadata": {
    "application/vnd.databricks.v1+cell": {
     "cellMetadata": {
      "byteLimit": 2048000,
      "rowLimit": 10000
     },
     "inputWidgets": {},
     "nuid": "9fec3547-6cd6-4791-8de7-8d61a7301081",
     "showTitle": false,
     "title": ""
    }
   },
   "outputs": [
    {
     "data": {
      "text/html": [
       "<style scoped>\n",
       "  .ansiout {\n",
       "    display: block;\n",
       "    unicode-bidi: embed;\n",
       "    white-space: pre-wrap;\n",
       "    word-wrap: break-word;\n",
       "    word-break: break-all;\n",
       "    font-family: \"Source Code Pro\", \"Menlo\", monospace;;\n",
       "    font-size: 13px;\n",
       "    color: #555;\n",
       "    margin-left: 4px;\n",
       "    line-height: 19px;\n",
       "  }\n",
       "</style>\n",
       "<div class=\"ansiout\"></div>"
      ]
     },
     "metadata": {
      "application/vnd.databricks.v1+output": {
       "addedWidgets": {},
       "arguments": {},
       "data": "<div class=\"ansiout\"></div>",
       "datasetInfos": [],
       "metadata": {},
       "removedWidgets": [],
       "type": "html"
      }
     },
     "output_type": "display_data"
    }
   ],
   "source": [
    "subcoms.apply(lambda x: x.DPT_DSC.nunique()).reset_index().to_csv('/dbfs/FileStore/tables/DATA_SCIENCE/PIMMART_SUBCOMS_NON_UNIQUE_DPT.csv', index = None)"
   ]
  },
  {
   "cell_type": "code",
   "execution_count": 0,
   "metadata": {
    "application/vnd.databricks.v1+cell": {
     "cellMetadata": {
      "byteLimit": 2048000,
      "rowLimit": 10000
     },
     "inputWidgets": {},
     "nuid": "83f4bd73-a665-4f6b-b0d4-b0cafca9c351",
     "showTitle": false,
     "title": ""
    }
   },
   "outputs": [
    {
     "data": {
      "text/html": [
       "<style scoped>\n",
       "  .ansiout {\n",
       "    display: block;\n",
       "    unicode-bidi: embed;\n",
       "    white-space: pre-wrap;\n",
       "    word-wrap: break-word;\n",
       "    word-break: break-all;\n",
       "    font-family: \"Source Code Pro\", \"Menlo\", monospace;;\n",
       "    font-size: 13px;\n",
       "    color: #555;\n",
       "    margin-left: 4px;\n",
       "    line-height: 19px;\n",
       "  }\n",
       "</style>\n",
       "<div class=\"ansiout\"></div>"
      ]
     },
     "metadata": {
      "application/vnd.databricks.v1+output": {
       "addedWidgets": {},
       "arguments": {},
       "data": "<div class=\"ansiout\"></div>",
       "datasetInfos": [],
       "metadata": {},
       "removedWidgets": [],
       "type": "html"
      }
     },
     "output_type": "display_data"
    },
    {
     "data": {
      "text/html": [
       "<style scoped>\n",
       "  .ansiout {\n",
       "    display: block;\n",
       "    unicode-bidi: embed;\n",
       "    white-space: pre-wrap;\n",
       "    word-wrap: break-word;\n",
       "    word-break: break-all;\n",
       "    font-family: \"Source Code Pro\", \"Menlo\", monospace;;\n",
       "    font-size: 13px;\n",
       "    color: #555;\n",
       "    margin-left: 4px;\n",
       "    line-height: 19px;\n",
       "  }\n",
       "</style>\n",
       "<div class=\"ansiout\"><span class=\"ansi-red-fg\">---------------------------------------------------------------------------</span>\n",
       "<span class=\"ansi-red-fg\">AttributeError</span>                            Traceback (most recent call last)\n",
       "<span class=\"ansi-green-fg\">&lt;command-3974578530952441&gt;</span> in <span class=\"ansi-cyan-fg\">&lt;module&gt;</span>\n",
       "<span class=\"ansi-green-fg\">----&gt; 1</span><span class=\"ansi-red-fg\"> </span>pimmart<span class=\"ansi-blue-fg\">.</span>groupby<span class=\"ansi-blue-fg\">(</span><span class=\"ansi-blue-fg\">&#39;SUBCOM_DSC&#39;</span><span class=\"ansi-blue-fg\">)</span><span class=\"ansi-blue-fg\">.</span>apply_map<span class=\"ansi-blue-fg\">(</span><span class=\"ansi-green-fg\">lambda</span> x<span class=\"ansi-blue-fg\">:</span><span class=\"ansi-blue-fg\">[</span>len<span class=\"ansi-blue-fg\">(</span>x<span class=\"ansi-blue-fg\">)</span><span class=\"ansi-blue-fg\">,</span> x<span class=\"ansi-blue-fg\">.</span>DPT_DSC<span class=\"ansi-blue-fg\">.</span>nunique<span class=\"ansi-blue-fg\">(</span><span class=\"ansi-blue-fg\">)</span><span class=\"ansi-blue-fg\">]</span><span class=\"ansi-blue-fg\">)</span>\n",
       "\n",
       "<span class=\"ansi-green-fg\">/databricks/python/lib/python3.8/site-packages/pandas/core/groupby/groupby.py</span> in <span class=\"ansi-cyan-fg\">__getattr__</span><span class=\"ansi-blue-fg\">(self, attr)</span>\n",
       "<span class=\"ansi-green-intense-fg ansi-bold\">    909</span>             <span class=\"ansi-green-fg\">return</span> self<span class=\"ansi-blue-fg\">[</span>attr<span class=\"ansi-blue-fg\">]</span>\n",
       "<span class=\"ansi-green-intense-fg ansi-bold\">    910</span> \n",
       "<span class=\"ansi-green-fg\">--&gt; 911</span><span class=\"ansi-red-fg\">         raise AttributeError(\n",
       "</span><span class=\"ansi-green-intense-fg ansi-bold\">    912</span>             <span class=\"ansi-blue-fg\">f&#34;&#39;{type(self).__name__}&#39; object has no attribute &#39;{attr}&#39;&#34;</span>\n",
       "<span class=\"ansi-green-intense-fg ansi-bold\">    913</span>         )\n",
       "\n",
       "<span class=\"ansi-red-fg\">AttributeError</span>: &#39;DataFrameGroupBy&#39; object has no attribute &#39;apply_map&#39;</div>"
      ]
     },
     "metadata": {
      "application/vnd.databricks.v1+output": {
       "arguments": {},
       "data": "<div class=\"ansiout\"><span class=\"ansi-red-fg\">---------------------------------------------------------------------------</span>\n<span class=\"ansi-red-fg\">AttributeError</span>                            Traceback (most recent call last)\n<span class=\"ansi-green-fg\">&lt;command-3974578530952441&gt;</span> in <span class=\"ansi-cyan-fg\">&lt;module&gt;</span>\n<span class=\"ansi-green-fg\">----&gt; 1</span><span class=\"ansi-red-fg\"> </span>pimmart<span class=\"ansi-blue-fg\">.</span>groupby<span class=\"ansi-blue-fg\">(</span><span class=\"ansi-blue-fg\">&#39;SUBCOM_DSC&#39;</span><span class=\"ansi-blue-fg\">)</span><span class=\"ansi-blue-fg\">.</span>apply_map<span class=\"ansi-blue-fg\">(</span><span class=\"ansi-green-fg\">lambda</span> x<span class=\"ansi-blue-fg\">:</span><span class=\"ansi-blue-fg\">[</span>len<span class=\"ansi-blue-fg\">(</span>x<span class=\"ansi-blue-fg\">)</span><span class=\"ansi-blue-fg\">,</span> x<span class=\"ansi-blue-fg\">.</span>DPT_DSC<span class=\"ansi-blue-fg\">.</span>nunique<span class=\"ansi-blue-fg\">(</span><span class=\"ansi-blue-fg\">)</span><span class=\"ansi-blue-fg\">]</span><span class=\"ansi-blue-fg\">)</span>\n\n<span class=\"ansi-green-fg\">/databricks/python/lib/python3.8/site-packages/pandas/core/groupby/groupby.py</span> in <span class=\"ansi-cyan-fg\">__getattr__</span><span class=\"ansi-blue-fg\">(self, attr)</span>\n<span class=\"ansi-green-intense-fg ansi-bold\">    909</span>             <span class=\"ansi-green-fg\">return</span> self<span class=\"ansi-blue-fg\">[</span>attr<span class=\"ansi-blue-fg\">]</span>\n<span class=\"ansi-green-intense-fg ansi-bold\">    910</span> \n<span class=\"ansi-green-fg\">--&gt; 911</span><span class=\"ansi-red-fg\">         raise AttributeError(\n</span><span class=\"ansi-green-intense-fg ansi-bold\">    912</span>             <span class=\"ansi-blue-fg\">f&#34;&#39;{type(self).__name__}&#39; object has no attribute &#39;{attr}&#39;&#34;</span>\n<span class=\"ansi-green-intense-fg ansi-bold\">    913</span>         )\n\n<span class=\"ansi-red-fg\">AttributeError</span>: &#39;DataFrameGroupBy&#39; object has no attribute &#39;apply_map&#39;</div>",
       "errorSummary": "<span class=\"ansi-red-fg\">AttributeError</span>: &#39;DataFrameGroupBy&#39; object has no attribute &#39;apply_map&#39;",
       "errorTraceType": "html",
       "metadata": {},
       "type": "ipynbError"
      }
     },
     "output_type": "display_data"
    }
   ],
   "source": [
    "pimmart.groupby('SUBCOM_DSC').apply_map(lambda x:[len(x), x.DPT_DSC.nunique()])"
   ]
  },
  {
   "cell_type": "code",
   "execution_count": 0,
   "metadata": {
    "application/vnd.databricks.v1+cell": {
     "cellMetadata": {
      "byteLimit": 2048000,
      "rowLimit": 10000
     },
     "inputWidgets": {},
     "nuid": "9b04765c-304e-412b-8cde-071a52e66c44",
     "showTitle": false,
     "title": ""
    }
   },
   "outputs": [
    {
     "data": {
      "text/html": [
       "<style scoped>\n",
       "  .ansiout {\n",
       "    display: block;\n",
       "    unicode-bidi: embed;\n",
       "    white-space: pre-wrap;\n",
       "    word-wrap: break-word;\n",
       "    word-break: break-all;\n",
       "    font-family: \"Source Code Pro\", \"Menlo\", monospace;;\n",
       "    font-size: 13px;\n",
       "    color: #555;\n",
       "    margin-left: 4px;\n",
       "    line-height: 19px;\n",
       "  }\n",
       "</style>\n",
       "<div class=\"ansiout\">Out[31]: (5529, 34)</div>"
      ]
     },
     "metadata": {
      "application/vnd.databricks.v1+output": {
       "addedWidgets": {},
       "arguments": {},
       "data": "<div class=\"ansiout\">Out[31]: (5529, 34)</div>",
       "datasetInfos": [],
       "metadata": {},
       "removedWidgets": [],
       "type": "html"
      }
     },
     "output_type": "display_data"
    }
   ],
   "source": [
    "pimmart.drop_duplicates(['PMY_DPT_DSC','REC_DPT_DSC','DPT_DSC','COM_DSC','SUBCOM_DSC']).shape"
   ]
  },
  {
   "cell_type": "code",
   "execution_count": 0,
   "metadata": {
    "application/vnd.databricks.v1+cell": {
     "cellMetadata": {
      "byteLimit": 2048000,
      "rowLimit": 10000
     },
     "inputWidgets": {},
     "nuid": "86d4c5cb-d6c5-4063-8bde-7edbdbd74d50",
     "showTitle": false,
     "title": ""
    }
   },
   "outputs": [
    {
     "data": {
      "text/html": [
       "<style scoped>\n",
       "  .ansiout {\n",
       "    display: block;\n",
       "    unicode-bidi: embed;\n",
       "    white-space: pre-wrap;\n",
       "    word-wrap: break-word;\n",
       "    word-break: break-all;\n",
       "    font-family: \"Source Code Pro\", \"Menlo\", monospace;;\n",
       "    font-size: 13px;\n",
       "    color: #555;\n",
       "    margin-left: 4px;\n",
       "    line-height: 19px;\n",
       "  }\n",
       "</style>\n",
       "<div class=\"ansiout\">Out[92]: </div>"
      ]
     },
     "metadata": {
      "application/vnd.databricks.v1+output": {
       "addedWidgets": {},
       "arguments": {},
       "data": "<div class=\"ansiout\">Out[92]: </div>",
       "datasetInfos": [],
       "metadata": {},
       "removedWidgets": [],
       "type": "html"
      }
     },
     "output_type": "display_data"
    },
    {
     "data": {
      "text/html": [
       "<div>\n",
       "<style scoped>\n",
       "    .dataframe tbody tr th:only-of-type {\n",
       "        vertical-align: middle;\n",
       "    }\n",
       "\n",
       "    .dataframe tbody tr th {\n",
       "        vertical-align: top;\n",
       "    }\n",
       "\n",
       "    .dataframe thead th {\n",
       "        text-align: right;\n",
       "    }\n",
       "</style>\n",
       "<table border=\"1\" class=\"dataframe\">\n",
       "  <thead>\n",
       "    <tr style=\"text-align: right;\">\n",
       "      <th></th>\n",
       "      <th>ITM_ID</th>\n",
       "      <th>GTIN</th>\n",
       "      <th>GTIN_NAM</th>\n",
       "      <th>CON_UNT_ITM_DSC</th>\n",
       "      <th>DSP_UNT_ITM_DSC</th>\n",
       "      <th>PMY_DPT_DSC</th>\n",
       "      <th>REC_DPT_DSC</th>\n",
       "      <th>DPT_DSC</th>\n",
       "      <th>COM_DSC</th>\n",
       "      <th>SUBCOM_DSC</th>\n",
       "      <th>TAG_DSC</th>\n",
       "      <th>RCT_DSC</th>\n",
       "      <th>ITM_LVL_DSC</th>\n",
       "      <th>GRP_LVL_DSC</th>\n",
       "      <th>NET_CONT_EQV_QY_VIP_TO_KRG_QY</th>\n",
       "      <th>NET_CONT_EQV_UOM_VIP_TO_KRG_UOM</th>\n",
       "      <th>GTIN_HGT_OVD</th>\n",
       "      <th>GTIN_LTH_OVD</th>\n",
       "      <th>GTIN_WTH_OVD</th>\n",
       "      <th>GRS_WGT_OVD</th>\n",
       "      <th>GTIN_NET_WGT_OVD</th>\n",
       "      <th>MIN_DAYS_OF_SHF_LIF_AT_WHS_DAYS</th>\n",
       "      <th>TPT_CLS_CD</th>\n",
       "      <th>TPT_CLS_VLU</th>\n",
       "      <th>MAX_DAYS_OF_SHF_LIF_AT_WHS_DTB_CET_DAYS</th>\n",
       "      <th>TYP_OF_LBL_CD</th>\n",
       "      <th>TYP_OF_LBL_VLU</th>\n",
       "      <th>SIZ_CD</th>\n",
       "      <th>SIZ_CD_VLU</th>\n",
       "      <th>SIZ_QY</th>\n",
       "      <th>IS_EDBL_CD</th>\n",
       "      <th>IS_EDBL_VLU</th>\n",
       "      <th>VND_ECOM_DSC</th>\n",
       "      <th>KRG_OWN_ECOM_DSC</th>\n",
       "    </tr>\n",
       "  </thead>\n",
       "  <tbody>\n",
       "    <tr>\n",
       "      <th>2455</th>\n",
       "      <td>688220610</td>\n",
       "      <td>8006363017428</td>\n",
       "      <td>MUSA, 4cup POLISH S/S</td>\n",
       "      <td>MUSA, 4cup POLISH S/S</td>\n",
       "      <td>MUSA, 4cup POLISH S/S</td>\n",
       "      <td>DRUG/GM</td>\n",
       "      <td>GM</td>\n",
       "      <td>HOUSEWARES</td>\n",
       "      <td>BEVERAGE</td>\n",
       "      <td>COFFEE</td>\n",
       "      <td>MUSA 4CUP POLISH S/S</td>\n",
       "      <td>COFFEE MAKER</td>\n",
       "      <td>None</td>\n",
       "      <td>None</td>\n",
       "      <td>1.0</td>\n",
       "      <td>EACH</td>\n",
       "      <td>7.3</td>\n",
       "      <td>5.10</td>\n",
       "      <td>3.90</td>\n",
       "      <td>1.56</td>\n",
       "      <td>1.56</td>\n",
       "      <td>NaN</td>\n",
       "      <td>AMBIENT</td>\n",
       "      <td>AMBIENT</td>\n",
       "      <td>NaN</td>\n",
       "      <td>NONE</td>\n",
       "      <td>NONE</td>\n",
       "      <td>EA</td>\n",
       "      <td>EACH</td>\n",
       "      <td>1.0</td>\n",
       "      <td>N</td>\n",
       "      <td>NO</td>\n",
       "      <td>MUSA, 4cup POLISH S/S</td>\n",
       "      <td>GoodCook® Musa Stainless Steel Espresso Maker ...</td>\n",
       "    </tr>\n",
       "    <tr>\n",
       "      <th>80540</th>\n",
       "      <td>688302740</td>\n",
       "      <td>48500201794</td>\n",
       "      <td>Starbucks Iced Espresso Beverage Peppermint Mo...</td>\n",
       "      <td>SBUX IE Peppermint Mocha 40z</td>\n",
       "      <td>Starbucks Iced Esp Class Ppprmnt Mocha</td>\n",
       "      <td>GROCERY</td>\n",
       "      <td>GROCERY</td>\n",
       "      <td>DAIRY</td>\n",
       "      <td>REFRGRATD JUICES/DRINKS</td>\n",
       "      <td>COFFEE</td>\n",
       "      <td>STBK ICED ESP PRMNT MCH</td>\n",
       "      <td>STRBCKESP</td>\n",
       "      <td>Peppermint Mocha Iced Espresso</td>\n",
       "      <td>Iced Coffee</td>\n",
       "      <td>40.0</td>\n",
       "      <td>FLUID OUNCES</td>\n",
       "      <td>9.5</td>\n",
       "      <td>3.62</td>\n",
       "      <td>3.62</td>\n",
       "      <td>2.50</td>\n",
       "      <td>2.50</td>\n",
       "      <td>1.0</td>\n",
       "      <td>REFRIGERATED</td>\n",
       "      <td>REFRIGERATED GROCERY</td>\n",
       "      <td>120.0</td>\n",
       "      <td>NUTRITIONAL</td>\n",
       "      <td>NUTRITIONAL PANEL</td>\n",
       "      <td>FO</td>\n",
       "      <td>FLUID OUNCES</td>\n",
       "      <td>40.0</td>\n",
       "      <td>Y</td>\n",
       "      <td>YES</td>\n",
       "      <td>Starbucks Iced Espresso Beverage Peppermint Mo...</td>\n",
       "      <td>Starbucks® Iced Espresso Limited Edition Peppe...</td>\n",
       "    </tr>\n",
       "  </tbody>\n",
       "</table>\n",
       "</div>"
      ]
     },
     "metadata": {
      "application/vnd.databricks.v1+output": {
       "addedWidgets": {},
       "arguments": {},
       "data": "<div>\n<style scoped>\n    .dataframe tbody tr th:only-of-type {\n        vertical-align: middle;\n    }\n\n    .dataframe tbody tr th {\n        vertical-align: top;\n    }\n\n    .dataframe thead th {\n        text-align: right;\n    }\n</style>\n<table border=\"1\" class=\"dataframe\">\n  <thead>\n    <tr style=\"text-align: right;\">\n      <th></th>\n      <th>ITM_ID</th>\n      <th>GTIN</th>\n      <th>GTIN_NAM</th>\n      <th>CON_UNT_ITM_DSC</th>\n      <th>DSP_UNT_ITM_DSC</th>\n      <th>PMY_DPT_DSC</th>\n      <th>REC_DPT_DSC</th>\n      <th>DPT_DSC</th>\n      <th>COM_DSC</th>\n      <th>SUBCOM_DSC</th>\n      <th>TAG_DSC</th>\n      <th>RCT_DSC</th>\n      <th>ITM_LVL_DSC</th>\n      <th>GRP_LVL_DSC</th>\n      <th>NET_CONT_EQV_QY_VIP_TO_KRG_QY</th>\n      <th>NET_CONT_EQV_UOM_VIP_TO_KRG_UOM</th>\n      <th>GTIN_HGT_OVD</th>\n      <th>GTIN_LTH_OVD</th>\n      <th>GTIN_WTH_OVD</th>\n      <th>GRS_WGT_OVD</th>\n      <th>GTIN_NET_WGT_OVD</th>\n      <th>MIN_DAYS_OF_SHF_LIF_AT_WHS_DAYS</th>\n      <th>TPT_CLS_CD</th>\n      <th>TPT_CLS_VLU</th>\n      <th>MAX_DAYS_OF_SHF_LIF_AT_WHS_DTB_CET_DAYS</th>\n      <th>TYP_OF_LBL_CD</th>\n      <th>TYP_OF_LBL_VLU</th>\n      <th>SIZ_CD</th>\n      <th>SIZ_CD_VLU</th>\n      <th>SIZ_QY</th>\n      <th>IS_EDBL_CD</th>\n      <th>IS_EDBL_VLU</th>\n      <th>VND_ECOM_DSC</th>\n      <th>KRG_OWN_ECOM_DSC</th>\n    </tr>\n  </thead>\n  <tbody>\n    <tr>\n      <th>2455</th>\n      <td>688220610</td>\n      <td>8006363017428</td>\n      <td>MUSA, 4cup POLISH S/S</td>\n      <td>MUSA, 4cup POLISH S/S</td>\n      <td>MUSA, 4cup POLISH S/S</td>\n      <td>DRUG/GM</td>\n      <td>GM</td>\n      <td>HOUSEWARES</td>\n      <td>BEVERAGE</td>\n      <td>COFFEE</td>\n      <td>MUSA 4CUP POLISH S/S</td>\n      <td>COFFEE MAKER</td>\n      <td>None</td>\n      <td>None</td>\n      <td>1.0</td>\n      <td>EACH</td>\n      <td>7.3</td>\n      <td>5.10</td>\n      <td>3.90</td>\n      <td>1.56</td>\n      <td>1.56</td>\n      <td>NaN</td>\n      <td>AMBIENT</td>\n      <td>AMBIENT</td>\n      <td>NaN</td>\n      <td>NONE</td>\n      <td>NONE</td>\n      <td>EA</td>\n      <td>EACH</td>\n      <td>1.0</td>\n      <td>N</td>\n      <td>NO</td>\n      <td>MUSA, 4cup POLISH S/S</td>\n      <td>GoodCook® Musa Stainless Steel Espresso Maker ...</td>\n    </tr>\n    <tr>\n      <th>80540</th>\n      <td>688302740</td>\n      <td>48500201794</td>\n      <td>Starbucks Iced Espresso Beverage Peppermint Mo...</td>\n      <td>SBUX IE Peppermint Mocha 40z</td>\n      <td>Starbucks Iced Esp Class Ppprmnt Mocha</td>\n      <td>GROCERY</td>\n      <td>GROCERY</td>\n      <td>DAIRY</td>\n      <td>REFRGRATD JUICES/DRINKS</td>\n      <td>COFFEE</td>\n      <td>STBK ICED ESP PRMNT MCH</td>\n      <td>STRBCKESP</td>\n      <td>Peppermint Mocha Iced Espresso</td>\n      <td>Iced Coffee</td>\n      <td>40.0</td>\n      <td>FLUID OUNCES</td>\n      <td>9.5</td>\n      <td>3.62</td>\n      <td>3.62</td>\n      <td>2.50</td>\n      <td>2.50</td>\n      <td>1.0</td>\n      <td>REFRIGERATED</td>\n      <td>REFRIGERATED GROCERY</td>\n      <td>120.0</td>\n      <td>NUTRITIONAL</td>\n      <td>NUTRITIONAL PANEL</td>\n      <td>FO</td>\n      <td>FLUID OUNCES</td>\n      <td>40.0</td>\n      <td>Y</td>\n      <td>YES</td>\n      <td>Starbucks Iced Espresso Beverage Peppermint Mo...</td>\n      <td>Starbucks® Iced Espresso Limited Edition Peppe...</td>\n    </tr>\n  </tbody>\n</table>\n</div>",
       "datasetInfos": [],
       "metadata": {},
       "removedWidgets": [],
       "textData": null,
       "type": "htmlSandbox"
      }
     },
     "output_type": "display_data"
    }
   ],
   "source": [
    "pimmart[pimmart.SUBCOM_DSC == 'COFFEE'].drop_duplicates('DPT_DSC')"
   ]
  },
  {
   "cell_type": "code",
   "execution_count": 0,
   "metadata": {
    "application/vnd.databricks.v1+cell": {
     "cellMetadata": {
      "byteLimit": 2048000,
      "rowLimit": 10000
     },
     "inputWidgets": {},
     "nuid": "84f976f8-9b31-4706-9cef-220c39709e58",
     "showTitle": false,
     "title": ""
    }
   },
   "outputs": [
    {
     "data": {
      "text/html": [
       "<style scoped>\n",
       "  .ansiout {\n",
       "    display: block;\n",
       "    unicode-bidi: embed;\n",
       "    white-space: pre-wrap;\n",
       "    word-wrap: break-word;\n",
       "    word-break: break-all;\n",
       "    font-family: \"Source Code Pro\", \"Menlo\", monospace;;\n",
       "    font-size: 13px;\n",
       "    color: #555;\n",
       "    margin-left: 4px;\n",
       "    line-height: 19px;\n",
       "  }\n",
       "</style>\n",
       "<div class=\"ansiout\">Out[91]: </div>"
      ]
     },
     "metadata": {
      "application/vnd.databricks.v1+output": {
       "addedWidgets": {},
       "arguments": {},
       "data": "<div class=\"ansiout\">Out[91]: </div>",
       "datasetInfos": [],
       "metadata": {},
       "removedWidgets": [],
       "type": "html"
      }
     },
     "output_type": "display_data"
    },
    {
     "data": {
      "text/html": [
       "<div>\n",
       "<style scoped>\n",
       "    .dataframe tbody tr th:only-of-type {\n",
       "        vertical-align: middle;\n",
       "    }\n",
       "\n",
       "    .dataframe tbody tr th {\n",
       "        vertical-align: top;\n",
       "    }\n",
       "\n",
       "    .dataframe thead th {\n",
       "        text-align: right;\n",
       "    }\n",
       "</style>\n",
       "<table border=\"1\" class=\"dataframe\">\n",
       "  <thead>\n",
       "    <tr style=\"text-align: right;\">\n",
       "      <th></th>\n",
       "      <th>ITM_ID</th>\n",
       "      <th>GTIN</th>\n",
       "      <th>GTIN_NAM</th>\n",
       "      <th>CON_UNT_ITM_DSC</th>\n",
       "      <th>DSP_UNT_ITM_DSC</th>\n",
       "      <th>PMY_DPT_DSC</th>\n",
       "      <th>REC_DPT_DSC</th>\n",
       "      <th>DPT_DSC</th>\n",
       "      <th>COM_DSC</th>\n",
       "      <th>SUBCOM_DSC</th>\n",
       "      <th>TAG_DSC</th>\n",
       "      <th>RCT_DSC</th>\n",
       "      <th>ITM_LVL_DSC</th>\n",
       "      <th>GRP_LVL_DSC</th>\n",
       "      <th>NET_CONT_EQV_QY_VIP_TO_KRG_QY</th>\n",
       "      <th>NET_CONT_EQV_UOM_VIP_TO_KRG_UOM</th>\n",
       "      <th>GTIN_HGT_OVD</th>\n",
       "      <th>GTIN_LTH_OVD</th>\n",
       "      <th>GTIN_WTH_OVD</th>\n",
       "      <th>GRS_WGT_OVD</th>\n",
       "      <th>GTIN_NET_WGT_OVD</th>\n",
       "      <th>MIN_DAYS_OF_SHF_LIF_AT_WHS_DAYS</th>\n",
       "      <th>TPT_CLS_CD</th>\n",
       "      <th>TPT_CLS_VLU</th>\n",
       "      <th>MAX_DAYS_OF_SHF_LIF_AT_WHS_DTB_CET_DAYS</th>\n",
       "      <th>TYP_OF_LBL_CD</th>\n",
       "      <th>TYP_OF_LBL_VLU</th>\n",
       "      <th>SIZ_CD</th>\n",
       "      <th>SIZ_CD_VLU</th>\n",
       "      <th>SIZ_QY</th>\n",
       "      <th>IS_EDBL_CD</th>\n",
       "      <th>IS_EDBL_VLU</th>\n",
       "      <th>VND_ECOM_DSC</th>\n",
       "      <th>KRG_OWN_ECOM_DSC</th>\n",
       "    </tr>\n",
       "  </thead>\n",
       "  <tbody>\n",
       "    <tr>\n",
       "      <th>10513</th>\n",
       "      <td>688220167</td>\n",
       "      <td>10832112002316</td>\n",
       "      <td>Nature's Eats Hatch Green Chile Cashews</td>\n",
       "      <td>None</td>\n",
       "      <td>Nature's Eats Hatch Green Chile Cashews</td>\n",
       "      <td>PRODUCE</td>\n",
       "      <td>PACKAGE PRODUCE</td>\n",
       "      <td>PACKAGE PRODUCE</td>\n",
       "      <td>NUTS</td>\n",
       "      <td>CASHEWS</td>\n",
       "      <td>None</td>\n",
       "      <td>None</td>\n",
       "      <td>None</td>\n",
       "      <td>None</td>\n",
       "      <td>NaN</td>\n",
       "      <td>None</td>\n",
       "      <td>8.50</td>\n",
       "      <td>10.50</td>\n",
       "      <td>18.75</td>\n",
       "      <td>7.70</td>\n",
       "      <td>7.5</td>\n",
       "      <td>NaN</td>\n",
       "      <td>AMBIENT</td>\n",
       "      <td>AMBIENT</td>\n",
       "      <td>NaN</td>\n",
       "      <td>None</td>\n",
       "      <td>None</td>\n",
       "      <td>None</td>\n",
       "      <td>None</td>\n",
       "      <td>NaN</td>\n",
       "      <td>None</td>\n",
       "      <td>None</td>\n",
       "      <td>Nature's Eats Hatch Green Chile Cashews</td>\n",
       "      <td>None</td>\n",
       "    </tr>\n",
       "    <tr>\n",
       "      <th>11282</th>\n",
       "      <td>688230533</td>\n",
       "      <td>20029000024919</td>\n",
       "      <td>6Z PL MC CSW DC ALM BT CN PCN SH 12</td>\n",
       "      <td>6Z PL MC CSW DC ALM BT CN PCN</td>\n",
       "      <td>PLANTERS SNACK NUTS</td>\n",
       "      <td>GROCERY</td>\n",
       "      <td>GROCERY</td>\n",
       "      <td>CKY/CRKR/SNK</td>\n",
       "      <td>NUTS</td>\n",
       "      <td>CASHEWS</td>\n",
       "      <td>None</td>\n",
       "      <td>None</td>\n",
       "      <td>None</td>\n",
       "      <td>None</td>\n",
       "      <td>NaN</td>\n",
       "      <td>None</td>\n",
       "      <td>42.25</td>\n",
       "      <td>40.13</td>\n",
       "      <td>37.00</td>\n",
       "      <td>219.72</td>\n",
       "      <td>148.5</td>\n",
       "      <td>NaN</td>\n",
       "      <td>None</td>\n",
       "      <td>None</td>\n",
       "      <td>NaN</td>\n",
       "      <td>None</td>\n",
       "      <td>None</td>\n",
       "      <td>None</td>\n",
       "      <td>None</td>\n",
       "      <td>NaN</td>\n",
       "      <td>None</td>\n",
       "      <td>None</td>\n",
       "      <td>PLANTERS SNACK NUTS</td>\n",
       "      <td>None</td>\n",
       "    </tr>\n",
       "  </tbody>\n",
       "</table>\n",
       "</div>"
      ]
     },
     "metadata": {
      "application/vnd.databricks.v1+output": {
       "addedWidgets": {},
       "arguments": {},
       "data": "<div>\n<style scoped>\n    .dataframe tbody tr th:only-of-type {\n        vertical-align: middle;\n    }\n\n    .dataframe tbody tr th {\n        vertical-align: top;\n    }\n\n    .dataframe thead th {\n        text-align: right;\n    }\n</style>\n<table border=\"1\" class=\"dataframe\">\n  <thead>\n    <tr style=\"text-align: right;\">\n      <th></th>\n      <th>ITM_ID</th>\n      <th>GTIN</th>\n      <th>GTIN_NAM</th>\n      <th>CON_UNT_ITM_DSC</th>\n      <th>DSP_UNT_ITM_DSC</th>\n      <th>PMY_DPT_DSC</th>\n      <th>REC_DPT_DSC</th>\n      <th>DPT_DSC</th>\n      <th>COM_DSC</th>\n      <th>SUBCOM_DSC</th>\n      <th>TAG_DSC</th>\n      <th>RCT_DSC</th>\n      <th>ITM_LVL_DSC</th>\n      <th>GRP_LVL_DSC</th>\n      <th>NET_CONT_EQV_QY_VIP_TO_KRG_QY</th>\n      <th>NET_CONT_EQV_UOM_VIP_TO_KRG_UOM</th>\n      <th>GTIN_HGT_OVD</th>\n      <th>GTIN_LTH_OVD</th>\n      <th>GTIN_WTH_OVD</th>\n      <th>GRS_WGT_OVD</th>\n      <th>GTIN_NET_WGT_OVD</th>\n      <th>MIN_DAYS_OF_SHF_LIF_AT_WHS_DAYS</th>\n      <th>TPT_CLS_CD</th>\n      <th>TPT_CLS_VLU</th>\n      <th>MAX_DAYS_OF_SHF_LIF_AT_WHS_DTB_CET_DAYS</th>\n      <th>TYP_OF_LBL_CD</th>\n      <th>TYP_OF_LBL_VLU</th>\n      <th>SIZ_CD</th>\n      <th>SIZ_CD_VLU</th>\n      <th>SIZ_QY</th>\n      <th>IS_EDBL_CD</th>\n      <th>IS_EDBL_VLU</th>\n      <th>VND_ECOM_DSC</th>\n      <th>KRG_OWN_ECOM_DSC</th>\n    </tr>\n  </thead>\n  <tbody>\n    <tr>\n      <th>10513</th>\n      <td>688220167</td>\n      <td>10832112002316</td>\n      <td>Nature's Eats Hatch Green Chile Cashews</td>\n      <td>None</td>\n      <td>Nature's Eats Hatch Green Chile Cashews</td>\n      <td>PRODUCE</td>\n      <td>PACKAGE PRODUCE</td>\n      <td>PACKAGE PRODUCE</td>\n      <td>NUTS</td>\n      <td>CASHEWS</td>\n      <td>None</td>\n      <td>None</td>\n      <td>None</td>\n      <td>None</td>\n      <td>NaN</td>\n      <td>None</td>\n      <td>8.50</td>\n      <td>10.50</td>\n      <td>18.75</td>\n      <td>7.70</td>\n      <td>7.5</td>\n      <td>NaN</td>\n      <td>AMBIENT</td>\n      <td>AMBIENT</td>\n      <td>NaN</td>\n      <td>None</td>\n      <td>None</td>\n      <td>None</td>\n      <td>None</td>\n      <td>NaN</td>\n      <td>None</td>\n      <td>None</td>\n      <td>Nature's Eats Hatch Green Chile Cashews</td>\n      <td>None</td>\n    </tr>\n    <tr>\n      <th>11282</th>\n      <td>688230533</td>\n      <td>20029000024919</td>\n      <td>6Z PL MC CSW DC ALM BT CN PCN SH 12</td>\n      <td>6Z PL MC CSW DC ALM BT CN PCN</td>\n      <td>PLANTERS SNACK NUTS</td>\n      <td>GROCERY</td>\n      <td>GROCERY</td>\n      <td>CKY/CRKR/SNK</td>\n      <td>NUTS</td>\n      <td>CASHEWS</td>\n      <td>None</td>\n      <td>None</td>\n      <td>None</td>\n      <td>None</td>\n      <td>NaN</td>\n      <td>None</td>\n      <td>42.25</td>\n      <td>40.13</td>\n      <td>37.00</td>\n      <td>219.72</td>\n      <td>148.5</td>\n      <td>NaN</td>\n      <td>None</td>\n      <td>None</td>\n      <td>NaN</td>\n      <td>None</td>\n      <td>None</td>\n      <td>None</td>\n      <td>None</td>\n      <td>NaN</td>\n      <td>None</td>\n      <td>None</td>\n      <td>PLANTERS SNACK NUTS</td>\n      <td>None</td>\n    </tr>\n  </tbody>\n</table>\n</div>",
       "datasetInfos": [],
       "metadata": {},
       "removedWidgets": [],
       "textData": null,
       "type": "htmlSandbox"
      }
     },
     "output_type": "display_data"
    }
   ],
   "source": [
    "pimmart[pimmart.SUBCOM_DSC == 'CASHEWS'].drop_duplicates('DPT_DSC')"
   ]
  },
  {
   "cell_type": "code",
   "execution_count": 0,
   "metadata": {
    "application/vnd.databricks.v1+cell": {
     "cellMetadata": {
      "byteLimit": 2048000,
      "rowLimit": 10000
     },
     "inputWidgets": {},
     "nuid": "21ad84a5-f51c-4b4b-8516-bf353deb5e69",
     "showTitle": false,
     "title": ""
    }
   },
   "outputs": [
    {
     "data": {
      "text/html": [
       "<style scoped>\n",
       "  .ansiout {\n",
       "    display: block;\n",
       "    unicode-bidi: embed;\n",
       "    white-space: pre-wrap;\n",
       "    word-wrap: break-word;\n",
       "    word-break: break-all;\n",
       "    font-family: \"Source Code Pro\", \"Menlo\", monospace;;\n",
       "    font-size: 13px;\n",
       "    color: #555;\n",
       "    margin-left: 4px;\n",
       "    line-height: 19px;\n",
       "  }\n",
       "</style>\n",
       "<div class=\"ansiout\">Out[32]: </div>"
      ]
     },
     "metadata": {
      "application/vnd.databricks.v1+output": {
       "addedWidgets": {},
       "arguments": {},
       "data": "<div class=\"ansiout\">Out[32]: </div>",
       "datasetInfos": [],
       "metadata": {},
       "removedWidgets": [],
       "type": "html"
      }
     },
     "output_type": "display_data"
    },
    {
     "data": {
      "text/html": [
       "<div>\n",
       "<style scoped>\n",
       "    .dataframe tbody tr th:only-of-type {\n",
       "        vertical-align: middle;\n",
       "    }\n",
       "\n",
       "    .dataframe tbody tr th {\n",
       "        vertical-align: top;\n",
       "    }\n",
       "\n",
       "    .dataframe thead th {\n",
       "        text-align: right;\n",
       "    }\n",
       "</style>\n",
       "<table border=\"1\" class=\"dataframe\">\n",
       "  <thead>\n",
       "    <tr style=\"text-align: right;\">\n",
       "      <th></th>\n",
       "      <th>ITM_ID</th>\n",
       "      <th>GTIN</th>\n",
       "      <th>GTIN_NAM</th>\n",
       "      <th>CON_UNT_ITM_DSC</th>\n",
       "      <th>DSP_UNT_ITM_DSC</th>\n",
       "      <th>PMY_DPT_DSC</th>\n",
       "      <th>REC_DPT_DSC</th>\n",
       "      <th>DPT_DSC</th>\n",
       "      <th>COM_DSC</th>\n",
       "      <th>SUBCOM_DSC</th>\n",
       "      <th>TAG_DSC</th>\n",
       "      <th>RCT_DSC</th>\n",
       "      <th>ITM_LVL_DSC</th>\n",
       "      <th>GRP_LVL_DSC</th>\n",
       "      <th>NET_CONT_EQV_QY_VIP_TO_KRG_QY</th>\n",
       "      <th>NET_CONT_EQV_UOM_VIP_TO_KRG_UOM</th>\n",
       "      <th>GTIN_HGT_OVD</th>\n",
       "      <th>GTIN_LTH_OVD</th>\n",
       "      <th>GTIN_WTH_OVD</th>\n",
       "      <th>GRS_WGT_OVD</th>\n",
       "      <th>GTIN_NET_WGT_OVD</th>\n",
       "      <th>MIN_DAYS_OF_SHF_LIF_AT_WHS_DAYS</th>\n",
       "      <th>TPT_CLS_CD</th>\n",
       "      <th>TPT_CLS_VLU</th>\n",
       "      <th>MAX_DAYS_OF_SHF_LIF_AT_WHS_DTB_CET_DAYS</th>\n",
       "      <th>TYP_OF_LBL_CD</th>\n",
       "      <th>TYP_OF_LBL_VLU</th>\n",
       "      <th>SIZ_CD</th>\n",
       "      <th>SIZ_CD_VLU</th>\n",
       "      <th>SIZ_QY</th>\n",
       "      <th>IS_EDBL_CD</th>\n",
       "      <th>IS_EDBL_VLU</th>\n",
       "      <th>VND_ECOM_DSC</th>\n",
       "      <th>KRG_OWN_ECOM_DSC</th>\n",
       "    </tr>\n",
       "  </thead>\n",
       "  <tbody>\n",
       "    <tr>\n",
       "      <th>120206</th>\n",
       "      <td>688297348</td>\n",
       "      <td>10024000167010</td>\n",
       "      <td>24-15 P DM LT APRICOT HLV USDA</td>\n",
       "      <td>None</td>\n",
       "      <td>DM LITE APRICOT HALVES</td>\n",
       "      <td>GROCERY</td>\n",
       "      <td>GROCERY</td>\n",
       "      <td>GROC-ALL OTHER</td>\n",
       "      <td>CANNED FRUIT/FRUIT BOWLS</td>\n",
       "      <td>APRICOTS</td>\n",
       "      <td>None</td>\n",
       "      <td>None</td>\n",
       "      <td>None</td>\n",
       "      <td>None</td>\n",
       "      <td>NaN</td>\n",
       "      <td>None</td>\n",
       "      <td>4.56</td>\n",
       "      <td>12.19</td>\n",
       "      <td>9.13</td>\n",
       "      <td>13.50</td>\n",
       "      <td>11.25</td>\n",
       "      <td>901.0</td>\n",
       "      <td>AMBIENT</td>\n",
       "      <td>AMBIENT</td>\n",
       "      <td>991.0</td>\n",
       "      <td>None</td>\n",
       "      <td>None</td>\n",
       "      <td>None</td>\n",
       "      <td>None</td>\n",
       "      <td>NaN</td>\n",
       "      <td>None</td>\n",
       "      <td>None</td>\n",
       "      <td>Del Monte® Lite Unpeeled Apricot Halves in Ext...</td>\n",
       "      <td>None</td>\n",
       "    </tr>\n",
       "    <tr>\n",
       "      <th>120847</th>\n",
       "      <td>688297360</td>\n",
       "      <td>24000167013</td>\n",
       "      <td>24-15 P DM LT APRICOT HLV USDA</td>\n",
       "      <td>DM LITE APRICOT HALVES</td>\n",
       "      <td>None</td>\n",
       "      <td>GROCERY</td>\n",
       "      <td>GROCERY</td>\n",
       "      <td>GROC-ALL OTHER</td>\n",
       "      <td>CANNED FRUIT/FRUIT BOWLS</td>\n",
       "      <td>APRICOTS</td>\n",
       "      <td>DELMNT LITE HALVES APRCOT</td>\n",
       "      <td>DELMONTE APRICOTS</td>\n",
       "      <td>Lite Apricot Halves</td>\n",
       "      <td>None</td>\n",
       "      <td>15.00</td>\n",
       "      <td>None</td>\n",
       "      <td>4.44</td>\n",
       "      <td>3.00</td>\n",
       "      <td>3.00</td>\n",
       "      <td>1.13</td>\n",
       "      <td>0.94</td>\n",
       "      <td>901.0</td>\n",
       "      <td>AMBIENT</td>\n",
       "      <td>AMBIENT</td>\n",
       "      <td>991.0</td>\n",
       "      <td>NUTRITIONAL</td>\n",
       "      <td>NUTRITIONAL PANEL</td>\n",
       "      <td>OZ</td>\n",
       "      <td>OUNCES</td>\n",
       "      <td>15.00</td>\n",
       "      <td>Y</td>\n",
       "      <td>YES</td>\n",
       "      <td>DEL MONTE Lite Apricot Halves in Extra Light S...</td>\n",
       "      <td>Del Monte Lite Apricot Halves</td>\n",
       "    </tr>\n",
       "    <tr>\n",
       "      <th>176708</th>\n",
       "      <td>688360572</td>\n",
       "      <td>10011110824421</td>\n",
       "      <td>Kroger Apricot Halves in Heavy Syrup 15.25 oz</td>\n",
       "      <td>Apricot Halves in Heavy Syrup</td>\n",
       "      <td>Peeled Apricots in Heavy Syrup</td>\n",
       "      <td>GROCERY</td>\n",
       "      <td>GROCERY</td>\n",
       "      <td>GROC-ALL OTHER</td>\n",
       "      <td>CANNED FRUIT/FRUIT BOWLS</td>\n",
       "      <td>APRICOTS</td>\n",
       "      <td>None</td>\n",
       "      <td>None</td>\n",
       "      <td>None</td>\n",
       "      <td>None</td>\n",
       "      <td>NaN</td>\n",
       "      <td>None</td>\n",
       "      <td>4.50</td>\n",
       "      <td>12.25</td>\n",
       "      <td>9.13</td>\n",
       "      <td>14.00</td>\n",
       "      <td>13.00</td>\n",
       "      <td>NaN</td>\n",
       "      <td>AMBIENT</td>\n",
       "      <td>AMBIENT</td>\n",
       "      <td>NaN</td>\n",
       "      <td>None</td>\n",
       "      <td>None</td>\n",
       "      <td>None</td>\n",
       "      <td>None</td>\n",
       "      <td>NaN</td>\n",
       "      <td>None</td>\n",
       "      <td>None</td>\n",
       "      <td>Kroger Apricot Halves in Heavy Syrup 15.25 oz</td>\n",
       "      <td>None</td>\n",
       "    </tr>\n",
       "    <tr>\n",
       "      <th>177151</th>\n",
       "      <td>688360619</td>\n",
       "      <td>10011110824438</td>\n",
       "      <td>Kroger Apricot Halves in Juice 15 oz</td>\n",
       "      <td>Apricot Halves in Juice</td>\n",
       "      <td>None</td>\n",
       "      <td>GROCERY</td>\n",
       "      <td>GROCERY</td>\n",
       "      <td>GROC-ALL OTHER</td>\n",
       "      <td>CANNED FRUIT/FRUIT BOWLS</td>\n",
       "      <td>APRICOTS</td>\n",
       "      <td>None</td>\n",
       "      <td>None</td>\n",
       "      <td>None</td>\n",
       "      <td>None</td>\n",
       "      <td>NaN</td>\n",
       "      <td>None</td>\n",
       "      <td>4.50</td>\n",
       "      <td>12.25</td>\n",
       "      <td>9.13</td>\n",
       "      <td>14.00</td>\n",
       "      <td>13.00</td>\n",
       "      <td>NaN</td>\n",
       "      <td>AMBIENT</td>\n",
       "      <td>AMBIENT</td>\n",
       "      <td>NaN</td>\n",
       "      <td>None</td>\n",
       "      <td>None</td>\n",
       "      <td>None</td>\n",
       "      <td>None</td>\n",
       "      <td>NaN</td>\n",
       "      <td>None</td>\n",
       "      <td>None</td>\n",
       "      <td>Kroger Apricot Halves in Juice 15 oz</td>\n",
       "      <td>None</td>\n",
       "    </tr>\n",
       "    <tr>\n",
       "      <th>177799</th>\n",
       "      <td>688360224</td>\n",
       "      <td>11110824424</td>\n",
       "      <td>Kroger Apricot Halves in Heavy Syrup 15.25 oz</td>\n",
       "      <td>Apricot Halves in Heavy Syrup</td>\n",
       "      <td>None</td>\n",
       "      <td>GROCERY</td>\n",
       "      <td>GROCERY</td>\n",
       "      <td>GROC-ALL OTHER</td>\n",
       "      <td>CANNED FRUIT/FRUIT BOWLS</td>\n",
       "      <td>APRICOTS</td>\n",
       "      <td>KRO UNPLD APRICT HLVS SYR</td>\n",
       "      <td>KROGER APRICOTS</td>\n",
       "      <td>Unpeeled Apricot Halves in Heavy Syrup</td>\n",
       "      <td>Canned Fruit</td>\n",
       "      <td>15.25</td>\n",
       "      <td>OUNCES</td>\n",
       "      <td>4.43</td>\n",
       "      <td>2.95</td>\n",
       "      <td>2.95</td>\n",
       "      <td>0.95</td>\n",
       "      <td>0.95</td>\n",
       "      <td>180.0</td>\n",
       "      <td>AMBIENT</td>\n",
       "      <td>AMBIENT</td>\n",
       "      <td>1095.0</td>\n",
       "      <td>NUTRITIONAL</td>\n",
       "      <td>NUTRITIONAL PANEL</td>\n",
       "      <td>OZ</td>\n",
       "      <td>OUNCES</td>\n",
       "      <td>15.25</td>\n",
       "      <td>Y</td>\n",
       "      <td>YES</td>\n",
       "      <td>Kroger® Unpeeled Apricot Halves in Heavy Syrup</td>\n",
       "      <td>Kroger® Unpeeled Apricot Halves in Heavy Syrup</td>\n",
       "    </tr>\n",
       "    <tr>\n",
       "      <th>...</th>\n",
       "      <td>...</td>\n",
       "      <td>...</td>\n",
       "      <td>...</td>\n",
       "      <td>...</td>\n",
       "      <td>...</td>\n",
       "      <td>...</td>\n",
       "      <td>...</td>\n",
       "      <td>...</td>\n",
       "      <td>...</td>\n",
       "      <td>...</td>\n",
       "      <td>...</td>\n",
       "      <td>...</td>\n",
       "      <td>...</td>\n",
       "      <td>...</td>\n",
       "      <td>...</td>\n",
       "      <td>...</td>\n",
       "      <td>...</td>\n",
       "      <td>...</td>\n",
       "      <td>...</td>\n",
       "      <td>...</td>\n",
       "      <td>...</td>\n",
       "      <td>...</td>\n",
       "      <td>...</td>\n",
       "      <td>...</td>\n",
       "      <td>...</td>\n",
       "      <td>...</td>\n",
       "      <td>...</td>\n",
       "      <td>...</td>\n",
       "      <td>...</td>\n",
       "      <td>...</td>\n",
       "      <td>...</td>\n",
       "      <td>...</td>\n",
       "      <td>...</td>\n",
       "      <td>...</td>\n",
       "    </tr>\n",
       "    <tr>\n",
       "      <th>2766874</th>\n",
       "      <td>690952953</td>\n",
       "      <td>54042186</td>\n",
       "      <td>None</td>\n",
       "      <td>None</td>\n",
       "      <td>None</td>\n",
       "      <td>PRODUCE</td>\n",
       "      <td>FRESH PRODUCE</td>\n",
       "      <td>FRUIT</td>\n",
       "      <td>STONE FRUIT</td>\n",
       "      <td>APRICOTS</td>\n",
       "      <td>APRICOTS CHILEAN</td>\n",
       "      <td>APRICOTS</td>\n",
       "      <td>None</td>\n",
       "      <td>None</td>\n",
       "      <td>NaN</td>\n",
       "      <td>None</td>\n",
       "      <td>3.00</td>\n",
       "      <td>3.00</td>\n",
       "      <td>3.00</td>\n",
       "      <td>0.25</td>\n",
       "      <td>NaN</td>\n",
       "      <td>NaN</td>\n",
       "      <td>None</td>\n",
       "      <td>None</td>\n",
       "      <td>NaN</td>\n",
       "      <td>None</td>\n",
       "      <td>None</td>\n",
       "      <td>None</td>\n",
       "      <td>None</td>\n",
       "      <td>0.00</td>\n",
       "      <td>None</td>\n",
       "      <td>None</td>\n",
       "      <td>APRICOTS CHILEAN</td>\n",
       "      <td>Apricots</td>\n",
       "    </tr>\n",
       "    <tr>\n",
       "      <th>3360248</th>\n",
       "      <td>691595421</td>\n",
       "      <td>36146</td>\n",
       "      <td>None</td>\n",
       "      <td>None</td>\n",
       "      <td>None</td>\n",
       "      <td>PRODUCE</td>\n",
       "      <td>FRESH PRODUCE</td>\n",
       "      <td>FRUIT</td>\n",
       "      <td>STONE FRUIT</td>\n",
       "      <td>APRICOTS</td>\n",
       "      <td>None</td>\n",
       "      <td>None</td>\n",
       "      <td>None</td>\n",
       "      <td>None</td>\n",
       "      <td>NaN</td>\n",
       "      <td>None</td>\n",
       "      <td>NaN</td>\n",
       "      <td>NaN</td>\n",
       "      <td>NaN</td>\n",
       "      <td>NaN</td>\n",
       "      <td>NaN</td>\n",
       "      <td>NaN</td>\n",
       "      <td>None</td>\n",
       "      <td>None</td>\n",
       "      <td>NaN</td>\n",
       "      <td>None</td>\n",
       "      <td>None</td>\n",
       "      <td>None</td>\n",
       "      <td>None</td>\n",
       "      <td>NaN</td>\n",
       "      <td>N</td>\n",
       "      <td>NO</td>\n",
       "      <td>Eco-Dent Toothpowder Xtra-Brite - Fluoride Fre...</td>\n",
       "      <td>Eco-Dent® Extra Brite® Fluoride Free Toothpowder</td>\n",
       "    </tr>\n",
       "    <tr>\n",
       "      <th>4335296</th>\n",
       "      <td>692560119</td>\n",
       "      <td>203614000002</td>\n",
       "      <td>None</td>\n",
       "      <td>None</td>\n",
       "      <td>None</td>\n",
       "      <td>PRODUCE</td>\n",
       "      <td>FRESH PRODUCE</td>\n",
       "      <td>FRUIT</td>\n",
       "      <td>STONE FRUIT</td>\n",
       "      <td>APRICOTS</td>\n",
       "      <td>APRIUMS EURO 1L TP</td>\n",
       "      <td>APRIUMS</td>\n",
       "      <td>None</td>\n",
       "      <td>None</td>\n",
       "      <td>1.00</td>\n",
       "      <td>EACH</td>\n",
       "      <td>NaN</td>\n",
       "      <td>NaN</td>\n",
       "      <td>NaN</td>\n",
       "      <td>NaN</td>\n",
       "      <td>NaN</td>\n",
       "      <td>NaN</td>\n",
       "      <td>None</td>\n",
       "      <td>None</td>\n",
       "      <td>NaN</td>\n",
       "      <td>None</td>\n",
       "      <td>None</td>\n",
       "      <td>EA</td>\n",
       "      <td>EACH</td>\n",
       "      <td>1.00</td>\n",
       "      <td>None</td>\n",
       "      <td>None</td>\n",
       "      <td>APRIUMS EURO 1L TP</td>\n",
       "      <td>None</td>\n",
       "    </tr>\n",
       "    <tr>\n",
       "      <th>4336702</th>\n",
       "      <td>692555326</td>\n",
       "      <td>10813187010024</td>\n",
       "      <td>None</td>\n",
       "      <td>None</td>\n",
       "      <td>None</td>\n",
       "      <td>PRODUCE</td>\n",
       "      <td>FRESH PRODUCE</td>\n",
       "      <td>FRUIT</td>\n",
       "      <td>STONE FRUIT</td>\n",
       "      <td>APRICOTS</td>\n",
       "      <td>APRIUMS EURO 1L TP</td>\n",
       "      <td>None</td>\n",
       "      <td>None</td>\n",
       "      <td>None</td>\n",
       "      <td>NaN</td>\n",
       "      <td>None</td>\n",
       "      <td>NaN</td>\n",
       "      <td>NaN</td>\n",
       "      <td>NaN</td>\n",
       "      <td>NaN</td>\n",
       "      <td>NaN</td>\n",
       "      <td>NaN</td>\n",
       "      <td>None</td>\n",
       "      <td>None</td>\n",
       "      <td>NaN</td>\n",
       "      <td>None</td>\n",
       "      <td>None</td>\n",
       "      <td>None</td>\n",
       "      <td>None</td>\n",
       "      <td>NaN</td>\n",
       "      <td>None</td>\n",
       "      <td>None</td>\n",
       "      <td>APRIUMS EURO 1L TP</td>\n",
       "      <td>None</td>\n",
       "    </tr>\n",
       "    <tr>\n",
       "      <th>4369485</th>\n",
       "      <td>692613585</td>\n",
       "      <td>895321002051</td>\n",
       "      <td>None</td>\n",
       "      <td>None</td>\n",
       "      <td>None</td>\n",
       "      <td>PRODUCE</td>\n",
       "      <td>FRESH PRODUCE</td>\n",
       "      <td>FRUIT</td>\n",
       "      <td>STONE FRUIT</td>\n",
       "      <td>APRICOTS</td>\n",
       "      <td>APRICOTS XL GS1</td>\n",
       "      <td>APRICOTS XL GS1</td>\n",
       "      <td>None</td>\n",
       "      <td>None</td>\n",
       "      <td>1.00</td>\n",
       "      <td>POUNDS</td>\n",
       "      <td>NaN</td>\n",
       "      <td>NaN</td>\n",
       "      <td>NaN</td>\n",
       "      <td>NaN</td>\n",
       "      <td>NaN</td>\n",
       "      <td>NaN</td>\n",
       "      <td>None</td>\n",
       "      <td>None</td>\n",
       "      <td>NaN</td>\n",
       "      <td>None</td>\n",
       "      <td>None</td>\n",
       "      <td>LB</td>\n",
       "      <td>POUNDS</td>\n",
       "      <td>1.00</td>\n",
       "      <td>None</td>\n",
       "      <td>None</td>\n",
       "      <td>) APRICOTS XL GS1</td>\n",
       "      <td>None</td>\n",
       "    </tr>\n",
       "  </tbody>\n",
       "</table>\n",
       "<p>80 rows × 34 columns</p>\n",
       "</div>"
      ]
     },
     "metadata": {
      "application/vnd.databricks.v1+output": {
       "addedWidgets": {},
       "arguments": {},
       "data": "<div>\n<style scoped>\n    .dataframe tbody tr th:only-of-type {\n        vertical-align: middle;\n    }\n\n    .dataframe tbody tr th {\n        vertical-align: top;\n    }\n\n    .dataframe thead th {\n        text-align: right;\n    }\n</style>\n<table border=\"1\" class=\"dataframe\">\n  <thead>\n    <tr style=\"text-align: right;\">\n      <th></th>\n      <th>ITM_ID</th>\n      <th>GTIN</th>\n      <th>GTIN_NAM</th>\n      <th>CON_UNT_ITM_DSC</th>\n      <th>DSP_UNT_ITM_DSC</th>\n      <th>PMY_DPT_DSC</th>\n      <th>REC_DPT_DSC</th>\n      <th>DPT_DSC</th>\n      <th>COM_DSC</th>\n      <th>SUBCOM_DSC</th>\n      <th>TAG_DSC</th>\n      <th>RCT_DSC</th>\n      <th>ITM_LVL_DSC</th>\n      <th>GRP_LVL_DSC</th>\n      <th>NET_CONT_EQV_QY_VIP_TO_KRG_QY</th>\n      <th>NET_CONT_EQV_UOM_VIP_TO_KRG_UOM</th>\n      <th>GTIN_HGT_OVD</th>\n      <th>GTIN_LTH_OVD</th>\n      <th>GTIN_WTH_OVD</th>\n      <th>GRS_WGT_OVD</th>\n      <th>GTIN_NET_WGT_OVD</th>\n      <th>MIN_DAYS_OF_SHF_LIF_AT_WHS_DAYS</th>\n      <th>TPT_CLS_CD</th>\n      <th>TPT_CLS_VLU</th>\n      <th>MAX_DAYS_OF_SHF_LIF_AT_WHS_DTB_CET_DAYS</th>\n      <th>TYP_OF_LBL_CD</th>\n      <th>TYP_OF_LBL_VLU</th>\n      <th>SIZ_CD</th>\n      <th>SIZ_CD_VLU</th>\n      <th>SIZ_QY</th>\n      <th>IS_EDBL_CD</th>\n      <th>IS_EDBL_VLU</th>\n      <th>VND_ECOM_DSC</th>\n      <th>KRG_OWN_ECOM_DSC</th>\n    </tr>\n  </thead>\n  <tbody>\n    <tr>\n      <th>120206</th>\n      <td>688297348</td>\n      <td>10024000167010</td>\n      <td>24-15 P DM LT APRICOT HLV USDA</td>\n      <td>None</td>\n      <td>DM LITE APRICOT HALVES</td>\n      <td>GROCERY</td>\n      <td>GROCERY</td>\n      <td>GROC-ALL OTHER</td>\n      <td>CANNED FRUIT/FRUIT BOWLS</td>\n      <td>APRICOTS</td>\n      <td>None</td>\n      <td>None</td>\n      <td>None</td>\n      <td>None</td>\n      <td>NaN</td>\n      <td>None</td>\n      <td>4.56</td>\n      <td>12.19</td>\n      <td>9.13</td>\n      <td>13.50</td>\n      <td>11.25</td>\n      <td>901.0</td>\n      <td>AMBIENT</td>\n      <td>AMBIENT</td>\n      <td>991.0</td>\n      <td>None</td>\n      <td>None</td>\n      <td>None</td>\n      <td>None</td>\n      <td>NaN</td>\n      <td>None</td>\n      <td>None</td>\n      <td>Del Monte® Lite Unpeeled Apricot Halves in Ext...</td>\n      <td>None</td>\n    </tr>\n    <tr>\n      <th>120847</th>\n      <td>688297360</td>\n      <td>24000167013</td>\n      <td>24-15 P DM LT APRICOT HLV USDA</td>\n      <td>DM LITE APRICOT HALVES</td>\n      <td>None</td>\n      <td>GROCERY</td>\n      <td>GROCERY</td>\n      <td>GROC-ALL OTHER</td>\n      <td>CANNED FRUIT/FRUIT BOWLS</td>\n      <td>APRICOTS</td>\n      <td>DELMNT LITE HALVES APRCOT</td>\n      <td>DELMONTE APRICOTS</td>\n      <td>Lite Apricot Halves</td>\n      <td>None</td>\n      <td>15.00</td>\n      <td>None</td>\n      <td>4.44</td>\n      <td>3.00</td>\n      <td>3.00</td>\n      <td>1.13</td>\n      <td>0.94</td>\n      <td>901.0</td>\n      <td>AMBIENT</td>\n      <td>AMBIENT</td>\n      <td>991.0</td>\n      <td>NUTRITIONAL</td>\n      <td>NUTRITIONAL PANEL</td>\n      <td>OZ</td>\n      <td>OUNCES</td>\n      <td>15.00</td>\n      <td>Y</td>\n      <td>YES</td>\n      <td>DEL MONTE Lite Apricot Halves in Extra Light S...</td>\n      <td>Del Monte Lite Apricot Halves</td>\n    </tr>\n    <tr>\n      <th>176708</th>\n      <td>688360572</td>\n      <td>10011110824421</td>\n      <td>Kroger Apricot Halves in Heavy Syrup 15.25 oz</td>\n      <td>Apricot Halves in Heavy Syrup</td>\n      <td>Peeled Apricots in Heavy Syrup</td>\n      <td>GROCERY</td>\n      <td>GROCERY</td>\n      <td>GROC-ALL OTHER</td>\n      <td>CANNED FRUIT/FRUIT BOWLS</td>\n      <td>APRICOTS</td>\n      <td>None</td>\n      <td>None</td>\n      <td>None</td>\n      <td>None</td>\n      <td>NaN</td>\n      <td>None</td>\n      <td>4.50</td>\n      <td>12.25</td>\n      <td>9.13</td>\n      <td>14.00</td>\n      <td>13.00</td>\n      <td>NaN</td>\n      <td>AMBIENT</td>\n      <td>AMBIENT</td>\n      <td>NaN</td>\n      <td>None</td>\n      <td>None</td>\n      <td>None</td>\n      <td>None</td>\n      <td>NaN</td>\n      <td>None</td>\n      <td>None</td>\n      <td>Kroger Apricot Halves in Heavy Syrup 15.25 oz</td>\n      <td>None</td>\n    </tr>\n    <tr>\n      <th>177151</th>\n      <td>688360619</td>\n      <td>10011110824438</td>\n      <td>Kroger Apricot Halves in Juice 15 oz</td>\n      <td>Apricot Halves in Juice</td>\n      <td>None</td>\n      <td>GROCERY</td>\n      <td>GROCERY</td>\n      <td>GROC-ALL OTHER</td>\n      <td>CANNED FRUIT/FRUIT BOWLS</td>\n      <td>APRICOTS</td>\n      <td>None</td>\n      <td>None</td>\n      <td>None</td>\n      <td>None</td>\n      <td>NaN</td>\n      <td>None</td>\n      <td>4.50</td>\n      <td>12.25</td>\n      <td>9.13</td>\n      <td>14.00</td>\n      <td>13.00</td>\n      <td>NaN</td>\n      <td>AMBIENT</td>\n      <td>AMBIENT</td>\n      <td>NaN</td>\n      <td>None</td>\n      <td>None</td>\n      <td>None</td>\n      <td>None</td>\n      <td>NaN</td>\n      <td>None</td>\n      <td>None</td>\n      <td>Kroger Apricot Halves in Juice 15 oz</td>\n      <td>None</td>\n    </tr>\n    <tr>\n      <th>177799</th>\n      <td>688360224</td>\n      <td>11110824424</td>\n      <td>Kroger Apricot Halves in Heavy Syrup 15.25 oz</td>\n      <td>Apricot Halves in Heavy Syrup</td>\n      <td>None</td>\n      <td>GROCERY</td>\n      <td>GROCERY</td>\n      <td>GROC-ALL OTHER</td>\n      <td>CANNED FRUIT/FRUIT BOWLS</td>\n      <td>APRICOTS</td>\n      <td>KRO UNPLD APRICT HLVS SYR</td>\n      <td>KROGER APRICOTS</td>\n      <td>Unpeeled Apricot Halves in Heavy Syrup</td>\n      <td>Canned Fruit</td>\n      <td>15.25</td>\n      <td>OUNCES</td>\n      <td>4.43</td>\n      <td>2.95</td>\n      <td>2.95</td>\n      <td>0.95</td>\n      <td>0.95</td>\n      <td>180.0</td>\n      <td>AMBIENT</td>\n      <td>AMBIENT</td>\n      <td>1095.0</td>\n      <td>NUTRITIONAL</td>\n      <td>NUTRITIONAL PANEL</td>\n      <td>OZ</td>\n      <td>OUNCES</td>\n      <td>15.25</td>\n      <td>Y</td>\n      <td>YES</td>\n      <td>Kroger® Unpeeled Apricot Halves in Heavy Syrup</td>\n      <td>Kroger® Unpeeled Apricot Halves in Heavy Syrup</td>\n    </tr>\n    <tr>\n      <th>...</th>\n      <td>...</td>\n      <td>...</td>\n      <td>...</td>\n      <td>...</td>\n      <td>...</td>\n      <td>...</td>\n      <td>...</td>\n      <td>...</td>\n      <td>...</td>\n      <td>...</td>\n      <td>...</td>\n      <td>...</td>\n      <td>...</td>\n      <td>...</td>\n      <td>...</td>\n      <td>...</td>\n      <td>...</td>\n      <td>...</td>\n      <td>...</td>\n      <td>...</td>\n      <td>...</td>\n      <td>...</td>\n      <td>...</td>\n      <td>...</td>\n      <td>...</td>\n      <td>...</td>\n      <td>...</td>\n      <td>...</td>\n      <td>...</td>\n      <td>...</td>\n      <td>...</td>\n      <td>...</td>\n      <td>...</td>\n      <td>...</td>\n    </tr>\n    <tr>\n      <th>2766874</th>\n      <td>690952953</td>\n      <td>54042186</td>\n      <td>None</td>\n      <td>None</td>\n      <td>None</td>\n      <td>PRODUCE</td>\n      <td>FRESH PRODUCE</td>\n      <td>FRUIT</td>\n      <td>STONE FRUIT</td>\n      <td>APRICOTS</td>\n      <td>APRICOTS CHILEAN</td>\n      <td>APRICOTS</td>\n      <td>None</td>\n      <td>None</td>\n      <td>NaN</td>\n      <td>None</td>\n      <td>3.00</td>\n      <td>3.00</td>\n      <td>3.00</td>\n      <td>0.25</td>\n      <td>NaN</td>\n      <td>NaN</td>\n      <td>None</td>\n      <td>None</td>\n      <td>NaN</td>\n      <td>None</td>\n      <td>None</td>\n      <td>None</td>\n      <td>None</td>\n      <td>0.00</td>\n      <td>None</td>\n      <td>None</td>\n      <td>APRICOTS CHILEAN</td>\n      <td>Apricots</td>\n    </tr>\n    <tr>\n      <th>3360248</th>\n      <td>691595421</td>\n      <td>36146</td>\n      <td>None</td>\n      <td>None</td>\n      <td>None</td>\n      <td>PRODUCE</td>\n      <td>FRESH PRODUCE</td>\n      <td>FRUIT</td>\n      <td>STONE FRUIT</td>\n      <td>APRICOTS</td>\n      <td>None</td>\n      <td>None</td>\n      <td>None</td>\n      <td>None</td>\n      <td>NaN</td>\n      <td>None</td>\n      <td>NaN</td>\n      <td>NaN</td>\n      <td>NaN</td>\n      <td>NaN</td>\n      <td>NaN</td>\n      <td>NaN</td>\n      <td>None</td>\n      <td>None</td>\n      <td>NaN</td>\n      <td>None</td>\n      <td>None</td>\n      <td>None</td>\n      <td>None</td>\n      <td>NaN</td>\n      <td>N</td>\n      <td>NO</td>\n      <td>Eco-Dent Toothpowder Xtra-Brite - Fluoride Fre...</td>\n      <td>Eco-Dent® Extra Brite® Fluoride Free Toothpowder</td>\n    </tr>\n    <tr>\n      <th>4335296</th>\n      <td>692560119</td>\n      <td>203614000002</td>\n      <td>None</td>\n      <td>None</td>\n      <td>None</td>\n      <td>PRODUCE</td>\n      <td>FRESH PRODUCE</td>\n      <td>FRUIT</td>\n      <td>STONE FRUIT</td>\n      <td>APRICOTS</td>\n      <td>APRIUMS EURO 1L TP</td>\n      <td>APRIUMS</td>\n      <td>None</td>\n      <td>None</td>\n      <td>1.00</td>\n      <td>EACH</td>\n      <td>NaN</td>\n      <td>NaN</td>\n      <td>NaN</td>\n      <td>NaN</td>\n      <td>NaN</td>\n      <td>NaN</td>\n      <td>None</td>\n      <td>None</td>\n      <td>NaN</td>\n      <td>None</td>\n      <td>None</td>\n      <td>EA</td>\n      <td>EACH</td>\n      <td>1.00</td>\n      <td>None</td>\n      <td>None</td>\n      <td>APRIUMS EURO 1L TP</td>\n      <td>None</td>\n    </tr>\n    <tr>\n      <th>4336702</th>\n      <td>692555326</td>\n      <td>10813187010024</td>\n      <td>None</td>\n      <td>None</td>\n      <td>None</td>\n      <td>PRODUCE</td>\n      <td>FRESH PRODUCE</td>\n      <td>FRUIT</td>\n      <td>STONE FRUIT</td>\n      <td>APRICOTS</td>\n      <td>APRIUMS EURO 1L TP</td>\n      <td>None</td>\n      <td>None</td>\n      <td>None</td>\n      <td>NaN</td>\n      <td>None</td>\n      <td>NaN</td>\n      <td>NaN</td>\n      <td>NaN</td>\n      <td>NaN</td>\n      <td>NaN</td>\n      <td>NaN</td>\n      <td>None</td>\n      <td>None</td>\n      <td>NaN</td>\n      <td>None</td>\n      <td>None</td>\n      <td>None</td>\n      <td>None</td>\n      <td>NaN</td>\n      <td>None</td>\n      <td>None</td>\n      <td>APRIUMS EURO 1L TP</td>\n      <td>None</td>\n    </tr>\n    <tr>\n      <th>4369485</th>\n      <td>692613585</td>\n      <td>895321002051</td>\n      <td>None</td>\n      <td>None</td>\n      <td>None</td>\n      <td>PRODUCE</td>\n      <td>FRESH PRODUCE</td>\n      <td>FRUIT</td>\n      <td>STONE FRUIT</td>\n      <td>APRICOTS</td>\n      <td>APRICOTS XL GS1</td>\n      <td>APRICOTS XL GS1</td>\n      <td>None</td>\n      <td>None</td>\n      <td>1.00</td>\n      <td>POUNDS</td>\n      <td>NaN</td>\n      <td>NaN</td>\n      <td>NaN</td>\n      <td>NaN</td>\n      <td>NaN</td>\n      <td>NaN</td>\n      <td>None</td>\n      <td>None</td>\n      <td>NaN</td>\n      <td>None</td>\n      <td>None</td>\n      <td>LB</td>\n      <td>POUNDS</td>\n      <td>1.00</td>\n      <td>None</td>\n      <td>None</td>\n      <td>) APRICOTS XL GS1</td>\n      <td>None</td>\n    </tr>\n  </tbody>\n</table>\n<p>80 rows × 34 columns</p>\n</div>",
       "datasetInfos": [],
       "metadata": {},
       "removedWidgets": [],
       "textData": null,
       "type": "htmlSandbox"
      }
     },
     "output_type": "display_data"
    }
   ],
   "source": [
    "pimmart[pimmart.SUBCOM_DSC == 'APRICOTS']"
   ]
  },
  {
   "cell_type": "markdown",
   "metadata": {
    "application/vnd.databricks.v1+cell": {
     "cellMetadata": {},
     "inputWidgets": {},
     "nuid": "54dafaf1-a3e3-4588-9b67-449048b9be7d",
     "showTitle": false,
     "title": ""
    }
   },
   "source": [
    "#### Listing out SUBCOMs occupying multiple KFT nodes"
   ]
  },
  {
   "cell_type": "code",
   "execution_count": 0,
   "metadata": {
    "application/vnd.databricks.v1+cell": {
     "cellMetadata": {
      "byteLimit": 2048000,
      "rowLimit": 10000
     },
     "inputWidgets": {},
     "nuid": "13da7555-4650-4f99-99bf-4bcebafb9073",
     "showTitle": false,
     "title": ""
    }
   },
   "outputs": [
    {
     "data": {
      "text/html": [
       "<style scoped>\n",
       "  .ansiout {\n",
       "    display: block;\n",
       "    unicode-bidi: embed;\n",
       "    white-space: pre-wrap;\n",
       "    word-wrap: break-word;\n",
       "    word-break: break-all;\n",
       "    font-family: \"Source Code Pro\", \"Menlo\", monospace;;\n",
       "    font-size: 13px;\n",
       "    color: #555;\n",
       "    margin-left: 4px;\n",
       "    line-height: 19px;\n",
       "  }\n",
       "</style>\n",
       "<div class=\"ansiout\"></div>"
      ]
     },
     "metadata": {
      "application/vnd.databricks.v1+output": {
       "addedWidgets": {},
       "arguments": {},
       "data": "<div class=\"ansiout\"></div>",
       "datasetInfos": [],
       "metadata": {},
       "removedWidgets": [],
       "type": "html"
      }
     },
     "output_type": "display_data"
    }
   ],
   "source": [
    "SUBCOMs_distributed = list(subcoms_agg[subcoms_agg.REC_DPT_DSC >1].SUBCOM_DSC)"
   ]
  },
  {
   "cell_type": "code",
   "execution_count": 0,
   "metadata": {
    "application/vnd.databricks.v1+cell": {
     "cellMetadata": {
      "byteLimit": 2048000,
      "rowLimit": 10000
     },
     "inputWidgets": {},
     "nuid": "4f8ec50b-12b8-4470-a9a6-48b06888e9a1",
     "showTitle": false,
     "title": ""
    }
   },
   "outputs": [
    {
     "data": {
      "text/html": [
       "<style scoped>\n",
       "  .ansiout {\n",
       "    display: block;\n",
       "    unicode-bidi: embed;\n",
       "    white-space: pre-wrap;\n",
       "    word-wrap: break-word;\n",
       "    word-break: break-all;\n",
       "    font-family: \"Source Code Pro\", \"Menlo\", monospace;;\n",
       "    font-size: 13px;\n",
       "    color: #555;\n",
       "    margin-left: 4px;\n",
       "    line-height: 19px;\n",
       "  }\n",
       "</style>\n",
       "<div class=\"ansiout\">Out[89]: [&#39;&lt;OBSOLETE&gt; SAL: SALSA/DIPS BULK -DO NOT USE-DISCONTINUED-&#39;,\n",
       " &#39;ACCESSORIES&#39;,\n",
       " &#39;ACCOMPANIMENTS&#39;,\n",
       " &#39;APPLE SAUCE (EXCLUDES CUP)&#39;,\n",
       " &#39;APRICOTS&#39;,\n",
       " &#39;ARTICHOKES&#39;,\n",
       " &#39;ASPARAGUS&#39;,\n",
       " &#39;BAKERY STORE SUPPLIES&#39;,\n",
       " &#39;BEANS/WAX/SHELLIES&#39;,\n",
       " &#39;BEETS&#39;,\n",
       " &#39;BUTTER&#39;,\n",
       " &#39;CANDY&#39;,\n",
       " &#39;CANDY W/FLOUR&#39;,\n",
       " &#39;CANDY W/O FLOUR&#39;,\n",
       " &#39;CARROTS&#39;,\n",
       " &#39;CASHEWS&#39;,\n",
       " &#39;CATFISH - FILLET&#39;,\n",
       " &#39;CATFISH - NUGGETS&#39;,\n",
       " &#39;CATFISH - OTHER FORM&#39;,\n",
       " &#39;CENTRAL SUPPLIES&#39;,\n",
       " &#39;COCONUT&#39;,\n",
       " &#39;COD - FILLET&#39;,\n",
       " &#39;COD - OTHER FORM&#39;,\n",
       " &#39;COFFEE&#39;,\n",
       " &#39;COFFEE SHOP STORE SUPPLIES&#39;,\n",
       " &#39;COFFEE SHOP WRAP SUPPLIES&#39;,\n",
       " &#39;COLD CURED SALMON&#39;,\n",
       " &#39;CORN&#39;,\n",
       " &#39;COUPON&#39;,\n",
       " &#39;CRAB - DUNGY&#39;,\n",
       " &#39;CRAB - KING&#39;,\n",
       " &#39;CRAB - OTHER&#39;,\n",
       " &#39;CRAB - SNOW&#39;,\n",
       " &#39;CRV DEPOSIT N/FS&#39;,\n",
       " &#39;CRV DEPOSIT N/NFS&#39;,\n",
       " &#39;CRV DEPOSIT NT/F&#39;,\n",
       " &#39;CRV DEPOSIT T/F&#39;,\n",
       " &#39;CRV DEPOSIT T/FS&#39;,\n",
       " &#39;CRV DEPOSIT T/NF&#39;,\n",
       " &#39;CRV DEPOSIT T/NFS&#39;,\n",
       " &#39;CRV/EXCISE TAX NT/NF&#39;,\n",
       " &#39;CUPS&#39;,\n",
       " &#39;CUSTOMER EXPENSES&#39;,\n",
       " &#39;CUSTOMER FEES&#39;,\n",
       " &#39;DATES&#39;,\n",
       " &#39;DEPARTMENT PRORATES&#39;,\n",
       " &#39;DIPS/SPREADS&#39;,\n",
       " &#39;DONATIONS&#39;,\n",
       " &#39;DONUTS - BAGGED&#39;,\n",
       " &#39;DRIED CRANBERRIES&#39;,\n",
       " &#39;DRIED FRUIT&#39;,\n",
       " &#39;DRIED FRUIT COATED&#39;,\n",
       " &#39;DRIED PLUMS&#39;,\n",
       " &#39;DRY&#39;,\n",
       " &#39;EMPLOYEE EXPENSES&#39;,\n",
       " &#39;ENERGY DRINK - MULTI-PACK&#39;,\n",
       " &#39;ENERGY DRINK - MULTI-PACK (NON F/S)&#39;,\n",
       " &#39;ENERGY DRINK - SINGLE SERVE&#39;,\n",
       " &#39;ENERGY DRINK - SINGLE SERVE (NON F/S)&#39;,\n",
       " &#39;ESSENTIALS&#39;,\n",
       " &#39;EVENT TICKETS - NON TAXABLE&#39;,\n",
       " &#39;EVENT TICKETS - TAXABLE&#39;,\n",
       " &#39;EXOTIC - OTHER&#39;,\n",
       " &#39;FINFISH - OTHER&#39;,\n",
       " &#39;FIRST AID&#39;,\n",
       " &#39;FLAVORED MILK&#39;,\n",
       " &#39;FRESH PREPARED WRAP SUPPLIES&#39;,\n",
       " &#39;FRIED ONIONS&#39;,\n",
       " &#39;FRONT END BAGS PAPER&#39;,\n",
       " &#39;FRUIT POUCH&#39;,\n",
       " &#39;FRUIT W/SWEETENER&#39;,\n",
       " &#39;FUEL CENTER&#39;,\n",
       " &#39;GOVT SERVICES&#39;,\n",
       " &#39;GREEN BEANS: FS/WHL/CUT&#39;,\n",
       " &#39;HALF &amp; HALF&#39;,\n",
       " &#39;HERRING&#39;,\n",
       " &#39;HOT CHOCOLATE/COCOA MIX&#39;,\n",
       " &#39;HOT CURED SALMON&#39;,\n",
       " &#39;IMITATION CRAB&#39;,\n",
       " &#39;IMITATION OTHER&#39;,\n",
       " &#39;INGREDIENTS&#39;,\n",
       " &#39;INVENTORY VALUES&#39;,\n",
       " &#39;KIDS&#39;,\n",
       " &#39;KRAUT &amp; CABBAGE&#39;,\n",
       " &#39;LOBSTER - OTHER FORM&#39;,\n",
       " &#39;LOBSTER - TAILS&#39;,\n",
       " &#39;MEAT/SFD STORE SUPPLIES&#39;,\n",
       " &#39;MEAT/SFD WRAP SUPPLIES&#39;,\n",
       " &#39;MISC&#39;,\n",
       " &#39;MISC SALES TRANS&#39;,\n",
       " &#39;MISC SALES TRANS (NON TAX)&#39;,\n",
       " &#39;MISC SALES TRANS (TX TAXABLE)&#39;,\n",
       " &#39;MISCELLANEOUS INCOME&#39;,\n",
       " &#39;MISCELLANEOUS INCOME TAXABLE&#39;,\n",
       " &#39;MISCELLANEOUS REFUNDS&#39;,\n",
       " &#39;MISCELLANEOUS REFUNDS TAXABLE&#39;,\n",
       " &#39;MISCELLANEOUS VEGETABLES&#39;,\n",
       " &#39;MIXED VEGETABLES&#39;,\n",
       " &#39;MUSHROOMS CND &amp; GLASS&#39;,\n",
       " &#39;NUT BUTTERS&#39;,\n",
       " &#39;NUTS&#39;,\n",
       " &#39;NUTS W/SWEETENER&#39;,\n",
       " &#39;ORGANIC MILK&#39;,\n",
       " &#39;OTHER&#39;,\n",
       " &#39;OTHER PKGD DIP/SAUCE/CONDIMENTS&#39;,\n",
       " &#39;OYSTER - CUP (PACKAGED)&#39;,\n",
       " &#39;PEAS/GREEN&#39;,\n",
       " &#39;PEYTON/GM EXPENSE ITEMS&#39;,\n",
       " &#39;PIZZA MIX DRY&#39;,\n",
       " &#39;PIZZA SAUCE&#39;,\n",
       " &#39;PLUMS&#39;,\n",
       " &#39;POTATO CHIPS&#39;,\n",
       " &#39;PRETZELS&#39;,\n",
       " &#39;PRODUCE STORE SUPPLIES&#39;,\n",
       " &#39;RAISINS&#39;,\n",
       " &#39;REFRIGERATED PASTA&#39;,\n",
       " &#39;REFRIGERATED PASTA SAUCE&#39;,\n",
       " &#39;REUSEABLE BAGS&#39;,\n",
       " &#39;ROUND UP COUPONS&#39;,\n",
       " &#39;SALAD TOPPERS&#39;,\n",
       " &#39;SALADS&#39;,\n",
       " &#39;SALMON FR - ATLANTIC&#39;,\n",
       " &#39;SALMON FR - COHO&#39;,\n",
       " &#39;SALMON WC - KING&#39;,\n",
       " &#39;SALMON WC - PINK&#39;,\n",
       " &#39;SALMON WC - SILVERBRITE&#39;,\n",
       " &#39;SALMON WC - SOCKEYE&#39;,\n",
       " &#39;SAUCES&#39;,\n",
       " &#39;SCALLOPS - BAY&#39;,\n",
       " &#39;SCALLOPS - SEA&#39;,\n",
       " &#39;SEASONAL&#39;,\n",
       " &#39;SMOKED OTHER&#39;,\n",
       " &#39;SNACK CAKE - MULTI PACK&#39;,\n",
       " &#39;SNACK CAKE - SINGLE SERVE&#39;,\n",
       " &#39;SNACK MIX&#39;,\n",
       " &#39;SOLE/FLOUNDER - FILLET&#39;,\n",
       " &#39;SOY MILK&#39;,\n",
       " &#39;SPARKLING MINERAL WATER&#39;,\n",
       " &#39;SPECIALTY CRACKERS&#39;,\n",
       " &#39;SPICES &amp; SEASONINGS&#39;,\n",
       " &#39;SPICES/MARINADES&#39;,\n",
       " &#39;SPINACH &amp; GREENS&#39;,\n",
       " &#39;SPRING WATER&#39;,\n",
       " &#39;SWEET GOODS - FULL SIZE EXCEPT DONUTS&#39;,\n",
       " &#39;SWEET POTATOES&#39;,\n",
       " &#39;TILAPIA - FILLET&#39;,\n",
       " &#39;TILAPIA - WHOLE&#39;,\n",
       " &#39;TOMATO CRUSHED&#39;,\n",
       " &#39;TOMATO PUREE&#39;,\n",
       " &#39;TOMATO SAUCE&#39;,\n",
       " &#39;TOMATO STEWED&#39;,\n",
       " &#39;TORTILLA CHIPS&#39;,\n",
       " &#39;TRAIL MIXES&#39;,\n",
       " &#39;WAREHOUSE SHIPPER&#39;,\n",
       " &#39;WHIPPING CREAM&#39;]</div>"
      ]
     },
     "metadata": {
      "application/vnd.databricks.v1+output": {
       "addedWidgets": {},
       "arguments": {},
       "data": "<div class=\"ansiout\">Out[89]: [&#39;&lt;OBSOLETE&gt; SAL: SALSA/DIPS BULK -DO NOT USE-DISCONTINUED-&#39;,\n &#39;ACCESSORIES&#39;,\n &#39;ACCOMPANIMENTS&#39;,\n &#39;APPLE SAUCE (EXCLUDES CUP)&#39;,\n &#39;APRICOTS&#39;,\n &#39;ARTICHOKES&#39;,\n &#39;ASPARAGUS&#39;,\n &#39;BAKERY STORE SUPPLIES&#39;,\n &#39;BEANS/WAX/SHELLIES&#39;,\n &#39;BEETS&#39;,\n &#39;BUTTER&#39;,\n &#39;CANDY&#39;,\n &#39;CANDY W/FLOUR&#39;,\n &#39;CANDY W/O FLOUR&#39;,\n &#39;CARROTS&#39;,\n &#39;CASHEWS&#39;,\n &#39;CATFISH - FILLET&#39;,\n &#39;CATFISH - NUGGETS&#39;,\n &#39;CATFISH - OTHER FORM&#39;,\n &#39;CENTRAL SUPPLIES&#39;,\n &#39;COCONUT&#39;,\n &#39;COD - FILLET&#39;,\n &#39;COD - OTHER FORM&#39;,\n &#39;COFFEE&#39;,\n &#39;COFFEE SHOP STORE SUPPLIES&#39;,\n &#39;COFFEE SHOP WRAP SUPPLIES&#39;,\n &#39;COLD CURED SALMON&#39;,\n &#39;CORN&#39;,\n &#39;COUPON&#39;,\n &#39;CRAB - DUNGY&#39;,\n &#39;CRAB - KING&#39;,\n &#39;CRAB - OTHER&#39;,\n &#39;CRAB - SNOW&#39;,\n &#39;CRV DEPOSIT N/FS&#39;,\n &#39;CRV DEPOSIT N/NFS&#39;,\n &#39;CRV DEPOSIT NT/F&#39;,\n &#39;CRV DEPOSIT T/F&#39;,\n &#39;CRV DEPOSIT T/FS&#39;,\n &#39;CRV DEPOSIT T/NF&#39;,\n &#39;CRV DEPOSIT T/NFS&#39;,\n &#39;CRV/EXCISE TAX NT/NF&#39;,\n &#39;CUPS&#39;,\n &#39;CUSTOMER EXPENSES&#39;,\n &#39;CUSTOMER FEES&#39;,\n &#39;DATES&#39;,\n &#39;DEPARTMENT PRORATES&#39;,\n &#39;DIPS/SPREADS&#39;,\n &#39;DONATIONS&#39;,\n &#39;DONUTS - BAGGED&#39;,\n &#39;DRIED CRANBERRIES&#39;,\n &#39;DRIED FRUIT&#39;,\n &#39;DRIED FRUIT COATED&#39;,\n &#39;DRIED PLUMS&#39;,\n &#39;DRY&#39;,\n &#39;EMPLOYEE EXPENSES&#39;,\n &#39;ENERGY DRINK - MULTI-PACK&#39;,\n &#39;ENERGY DRINK - MULTI-PACK (NON F/S)&#39;,\n &#39;ENERGY DRINK - SINGLE SERVE&#39;,\n &#39;ENERGY DRINK - SINGLE SERVE (NON F/S)&#39;,\n &#39;ESSENTIALS&#39;,\n &#39;EVENT TICKETS - NON TAXABLE&#39;,\n &#39;EVENT TICKETS - TAXABLE&#39;,\n &#39;EXOTIC - OTHER&#39;,\n &#39;FINFISH - OTHER&#39;,\n &#39;FIRST AID&#39;,\n &#39;FLAVORED MILK&#39;,\n &#39;FRESH PREPARED WRAP SUPPLIES&#39;,\n &#39;FRIED ONIONS&#39;,\n &#39;FRONT END BAGS PAPER&#39;,\n &#39;FRUIT POUCH&#39;,\n &#39;FRUIT W/SWEETENER&#39;,\n &#39;FUEL CENTER&#39;,\n &#39;GOVT SERVICES&#39;,\n &#39;GREEN BEANS: FS/WHL/CUT&#39;,\n &#39;HALF &amp; HALF&#39;,\n &#39;HERRING&#39;,\n &#39;HOT CHOCOLATE/COCOA MIX&#39;,\n &#39;HOT CURED SALMON&#39;,\n &#39;IMITATION CRAB&#39;,\n &#39;IMITATION OTHER&#39;,\n &#39;INGREDIENTS&#39;,\n &#39;INVENTORY VALUES&#39;,\n &#39;KIDS&#39;,\n &#39;KRAUT &amp; CABBAGE&#39;,\n &#39;LOBSTER - OTHER FORM&#39;,\n &#39;LOBSTER - TAILS&#39;,\n &#39;MEAT/SFD STORE SUPPLIES&#39;,\n &#39;MEAT/SFD WRAP SUPPLIES&#39;,\n &#39;MISC&#39;,\n &#39;MISC SALES TRANS&#39;,\n &#39;MISC SALES TRANS (NON TAX)&#39;,\n &#39;MISC SALES TRANS (TX TAXABLE)&#39;,\n &#39;MISCELLANEOUS INCOME&#39;,\n &#39;MISCELLANEOUS INCOME TAXABLE&#39;,\n &#39;MISCELLANEOUS REFUNDS&#39;,\n &#39;MISCELLANEOUS REFUNDS TAXABLE&#39;,\n &#39;MISCELLANEOUS VEGETABLES&#39;,\n &#39;MIXED VEGETABLES&#39;,\n &#39;MUSHROOMS CND &amp; GLASS&#39;,\n &#39;NUT BUTTERS&#39;,\n &#39;NUTS&#39;,\n &#39;NUTS W/SWEETENER&#39;,\n &#39;ORGANIC MILK&#39;,\n &#39;OTHER&#39;,\n &#39;OTHER PKGD DIP/SAUCE/CONDIMENTS&#39;,\n &#39;OYSTER - CUP (PACKAGED)&#39;,\n &#39;PEAS/GREEN&#39;,\n &#39;PEYTON/GM EXPENSE ITEMS&#39;,\n &#39;PIZZA MIX DRY&#39;,\n &#39;PIZZA SAUCE&#39;,\n &#39;PLUMS&#39;,\n &#39;POTATO CHIPS&#39;,\n &#39;PRETZELS&#39;,\n &#39;PRODUCE STORE SUPPLIES&#39;,\n &#39;RAISINS&#39;,\n &#39;REFRIGERATED PASTA&#39;,\n &#39;REFRIGERATED PASTA SAUCE&#39;,\n &#39;REUSEABLE BAGS&#39;,\n &#39;ROUND UP COUPONS&#39;,\n &#39;SALAD TOPPERS&#39;,\n &#39;SALADS&#39;,\n &#39;SALMON FR - ATLANTIC&#39;,\n &#39;SALMON FR - COHO&#39;,\n &#39;SALMON WC - KING&#39;,\n &#39;SALMON WC - PINK&#39;,\n &#39;SALMON WC - SILVERBRITE&#39;,\n &#39;SALMON WC - SOCKEYE&#39;,\n &#39;SAUCES&#39;,\n &#39;SCALLOPS - BAY&#39;,\n &#39;SCALLOPS - SEA&#39;,\n &#39;SEASONAL&#39;,\n &#39;SMOKED OTHER&#39;,\n &#39;SNACK CAKE - MULTI PACK&#39;,\n &#39;SNACK CAKE - SINGLE SERVE&#39;,\n &#39;SNACK MIX&#39;,\n &#39;SOLE/FLOUNDER - FILLET&#39;,\n &#39;SOY MILK&#39;,\n &#39;SPARKLING MINERAL WATER&#39;,\n &#39;SPECIALTY CRACKERS&#39;,\n &#39;SPICES &amp; SEASONINGS&#39;,\n &#39;SPICES/MARINADES&#39;,\n &#39;SPINACH &amp; GREENS&#39;,\n &#39;SPRING WATER&#39;,\n &#39;SWEET GOODS - FULL SIZE EXCEPT DONUTS&#39;,\n &#39;SWEET POTATOES&#39;,\n &#39;TILAPIA - FILLET&#39;,\n &#39;TILAPIA - WHOLE&#39;,\n &#39;TOMATO CRUSHED&#39;,\n &#39;TOMATO PUREE&#39;,\n &#39;TOMATO SAUCE&#39;,\n &#39;TOMATO STEWED&#39;,\n &#39;TORTILLA CHIPS&#39;,\n &#39;TRAIL MIXES&#39;,\n &#39;WAREHOUSE SHIPPER&#39;,\n &#39;WHIPPING CREAM&#39;]</div>",
       "datasetInfos": [],
       "metadata": {},
       "removedWidgets": [],
       "type": "html"
      }
     },
     "output_type": "display_data"
    }
   ],
   "source": [
    "SUBCOMs_distributed"
   ]
  },
  {
   "cell_type": "code",
   "execution_count": 0,
   "metadata": {
    "application/vnd.databricks.v1+cell": {
     "cellMetadata": {
      "byteLimit": 2048000,
      "rowLimit": 10000
     },
     "inputWidgets": {},
     "nuid": "c37449db-3c10-43c0-a420-c8b4de3413b9",
     "showTitle": false,
     "title": ""
    }
   },
   "outputs": [
    {
     "data": {
      "text/html": [
       "<style scoped>\n",
       "  .ansiout {\n",
       "    display: block;\n",
       "    unicode-bidi: embed;\n",
       "    white-space: pre-wrap;\n",
       "    word-wrap: break-word;\n",
       "    word-break: break-all;\n",
       "    font-family: \"Source Code Pro\", \"Menlo\", monospace;;\n",
       "    font-size: 13px;\n",
       "    color: #555;\n",
       "    margin-left: 4px;\n",
       "    line-height: 19px;\n",
       "  }\n",
       "</style>\n",
       "<div class=\"ansiout\">Out[33]: PMY_DPT_DSC\n",
       "DELI/BAKE           452\n",
       "DFLT 159 VALUE        4\n",
       "DRUG/GM            1565\n",
       "FUEL                  5\n",
       "GROCERY            1664\n",
       "MEAT                437\n",
       "MISC SALES TRAN      56\n",
       "PHARMACY             61\n",
       "PRODUCE             596\n",
       "SUPPLIES            143\n",
       "dtype: int64</div>"
      ]
     },
     "metadata": {
      "application/vnd.databricks.v1+output": {
       "addedWidgets": {},
       "arguments": {},
       "data": "<div class=\"ansiout\">Out[33]: PMY_DPT_DSC\nDELI/BAKE           452\nDFLT 159 VALUE        4\nDRUG/GM            1565\nFUEL                  5\nGROCERY            1664\nMEAT                437\nMISC SALES TRAN      56\nPHARMACY             61\nPRODUCE             596\nSUPPLIES            143\ndtype: int64</div>",
       "datasetInfos": [],
       "metadata": {},
       "removedWidgets": [],
       "type": "html"
      }
     },
     "output_type": "display_data"
    }
   ],
   "source": [
    "pimmart.groupby('PMY_DPT_DSC').apply(lambda x: x.SUBCOM_DSC.nunique())"
   ]
  },
  {
   "cell_type": "code",
   "execution_count": 0,
   "metadata": {
    "application/vnd.databricks.v1+cell": {
     "cellMetadata": {
      "byteLimit": 2048000,
      "rowLimit": 10000
     },
     "inputWidgets": {},
     "nuid": "4923c695-9a42-41d0-b57a-104008cd3db8",
     "showTitle": false,
     "title": ""
    }
   },
   "outputs": [
    {
     "data": {
      "text/html": [
       "<style scoped>\n",
       "  .ansiout {\n",
       "    display: block;\n",
       "    unicode-bidi: embed;\n",
       "    white-space: pre-wrap;\n",
       "    word-wrap: break-word;\n",
       "    word-break: break-all;\n",
       "    font-family: \"Source Code Pro\", \"Menlo\", monospace;;\n",
       "    font-size: 13px;\n",
       "    color: #555;\n",
       "    margin-left: 4px;\n",
       "    line-height: 19px;\n",
       "  }\n",
       "</style>\n",
       "<div class=\"ansiout\">Out[18]: PMY_DPT_DSC\n",
       "DELI/BAKE     180\n",
       "DRUG/GM       793\n",
       "GROCERY      1353\n",
       "MEAT          215\n",
       "PHARMACY       31\n",
       "PRODUCE       211\n",
       "dtype: int64</div>"
      ]
     },
     "metadata": {
      "application/vnd.databricks.v1+output": {
       "addedWidgets": {},
       "arguments": {},
       "data": "<div class=\"ansiout\">Out[18]: PMY_DPT_DSC\nDELI/BAKE     180\nDRUG/GM       793\nGROCERY      1353\nMEAT          215\nPHARMACY       31\nPRODUCE       211\ndtype: int64</div>",
       "datasetInfos": [],
       "metadata": {},
       "removedWidgets": [],
       "type": "html"
      }
     },
     "output_type": "display_data"
    }
   ],
   "source": [
    "syndigo_mapped.groupby('PMY_DPT_DSC').apply(lambda x: x.SUBCOM_DSC.nunique())"
   ]
  },
  {
   "cell_type": "code",
   "execution_count": 0,
   "metadata": {
    "application/vnd.databricks.v1+cell": {
     "cellMetadata": {
      "byteLimit": 2048000,
      "rowLimit": 10000
     },
     "inputWidgets": {},
     "nuid": "4fcd0a3a-ea7e-4f5d-a630-3a1658841bb5",
     "showTitle": false,
     "title": ""
    }
   },
   "outputs": [
    {
     "data": {
      "text/html": [
       "<style scoped>\n",
       "  .ansiout {\n",
       "    display: block;\n",
       "    unicode-bidi: embed;\n",
       "    white-space: pre-wrap;\n",
       "    word-wrap: break-word;\n",
       "    word-break: break-all;\n",
       "    font-family: \"Source Code Pro\", \"Menlo\", monospace;;\n",
       "    font-size: 13px;\n",
       "    color: #555;\n",
       "    margin-left: 4px;\n",
       "    line-height: 19px;\n",
       "  }\n",
       "</style>\n",
       "<div class=\"ansiout\"></div>"
      ]
     },
     "metadata": {
      "application/vnd.databricks.v1+output": {
       "addedWidgets": {},
       "arguments": {},
       "data": "<div class=\"ansiout\"></div>",
       "datasetInfos": [],
       "metadata": {},
       "removedWidgets": [],
       "type": "html"
      }
     },
     "output_type": "display_data"
    },
    {
     "data": {
      "text/html": [
       "<style scoped>\n",
       "  .ansiout {\n",
       "    display: block;\n",
       "    unicode-bidi: embed;\n",
       "    white-space: pre-wrap;\n",
       "    word-wrap: break-word;\n",
       "    word-break: break-all;\n",
       "    font-family: \"Source Code Pro\", \"Menlo\", monospace;;\n",
       "    font-size: 13px;\n",
       "    color: #555;\n",
       "    margin-left: 4px;\n",
       "    line-height: 19px;\n",
       "  }\n",
       "</style>\n",
       "<div class=\"ansiout\"><span class=\"ansi-cyan-fg\">  File </span><span class=\"ansi-green-fg\">&#34;&lt;command-3124458026711109&gt;&#34;</span><span class=\"ansi-cyan-fg\">, line </span><span class=\"ansi-green-fg\">1</span>\n",
       "<span class=\"ansi-red-fg\">    Available     SUBCOM count : 2775/4882</span>\n",
       "                  ^\n",
       "<span class=\"ansi-red-fg\">SyntaxError</span><span class=\"ansi-red-fg\">:</span> invalid syntax\n",
       "</div>"
      ]
     },
     "metadata": {
      "application/vnd.databricks.v1+output": {
       "arguments": {},
       "data": "<div class=\"ansiout\"><span class=\"ansi-cyan-fg\">  File </span><span class=\"ansi-green-fg\">&#34;&lt;command-3124458026711109&gt;&#34;</span><span class=\"ansi-cyan-fg\">, line </span><span class=\"ansi-green-fg\">1</span>\n<span class=\"ansi-red-fg\">    Available     SUBCOM count : 2775/4882</span>\n                  ^\n<span class=\"ansi-red-fg\">SyntaxError</span><span class=\"ansi-red-fg\">:</span> invalid syntax\n</div>",
       "errorSummary": "<span class=\"ansi-red-fg\">SyntaxError</span><span class=\"ansi-red-fg\">:</span> invalid syntax",
       "errorTraceType": "html",
       "metadata": {},
       "type": "ipynbError"
      }
     },
     "output_type": "display_data"
    }
   ],
   "source": [
    "Available     SUBCOM count : 2775/4882\n",
    "              SUBCOM (item weighted) : 48%"
   ]
  },
  {
   "cell_type": "markdown",
   "metadata": {
    "application/vnd.databricks.v1+cell": {
     "cellMetadata": {},
     "inputWidgets": {},
     "nuid": "135d7b54-f5dc-435a-84af-2669f7ce9acf",
     "showTitle": false,
     "title": ""
    }
   },
   "source": [
    "### Percentage of unrepresented data in 113K sample"
   ]
  },
  {
   "cell_type": "code",
   "execution_count": 0,
   "metadata": {
    "application/vnd.databricks.v1+cell": {
     "cellMetadata": {
      "byteLimit": 2048000,
      "rowLimit": 10000
     },
     "inputWidgets": {},
     "nuid": "9fa97641-d648-4bb9-918d-b8fbe5a30bbe",
     "showTitle": false,
     "title": ""
    }
   },
   "outputs": [
    {
     "data": {
      "text/html": [
       "<style scoped>\n",
       "  .ansiout {\n",
       "    display: block;\n",
       "    unicode-bidi: embed;\n",
       "    white-space: pre-wrap;\n",
       "    word-wrap: break-word;\n",
       "    word-break: break-all;\n",
       "    font-family: \"Source Code Pro\", \"Menlo\", monospace;;\n",
       "    font-size: 13px;\n",
       "    color: #555;\n",
       "    margin-left: 4px;\n",
       "    line-height: 19px;\n",
       "  }\n",
       "</style>\n",
       "<div class=\"ansiout\">Out[26]: 51.901547373111356</div>"
      ]
     },
     "metadata": {
      "application/vnd.databricks.v1+output": {
       "addedWidgets": {},
       "arguments": {},
       "data": "<div class=\"ansiout\">Out[26]: 51.901547373111356</div>",
       "datasetInfos": [],
       "metadata": {},
       "removedWidgets": [],
       "type": "html"
      }
     },
     "output_type": "display_data"
    }
   ],
   "source": [
    "100*len(pimmart[~pimmart.SUBCOM_DSC.isin(syndigo_mapped.SUBCOM_DSC.unique())])/len(pimmart)"
   ]
  },
  {
   "cell_type": "code",
   "execution_count": 0,
   "metadata": {
    "application/vnd.databricks.v1+cell": {
     "cellMetadata": {
      "byteLimit": 2048000,
      "rowLimit": 10000
     },
     "inputWidgets": {},
     "nuid": "da58d052-e6cd-48ff-b3db-79b8d709ca90",
     "showTitle": false,
     "title": ""
    }
   },
   "outputs": [
    {
     "data": {
      "text/html": [
       "<style scoped>\n",
       "  .ansiout {\n",
       "    display: block;\n",
       "    unicode-bidi: embed;\n",
       "    white-space: pre-wrap;\n",
       "    word-wrap: break-word;\n",
       "    word-break: break-all;\n",
       "    font-family: \"Source Code Pro\", \"Menlo\", monospace;;\n",
       "    font-size: 13px;\n",
       "    color: #555;\n",
       "    margin-left: 4px;\n",
       "    line-height: 19px;\n",
       "  }\n",
       "</style>\n",
       "<div class=\"ansiout\">4 out of 10 PMY_DPT_DSC missing\n",
       "5 out of 24 REC_DPT_DSC missing\n",
       "36 out of 95 DPT_DSC missing\n",
       "217 out of 810 COM_DSC missing\n",
       "2107 out of 4882 SUBCOM_DSC missing\n",
       "</div>"
      ]
     },
     "metadata": {
      "application/vnd.databricks.v1+output": {
       "addedWidgets": {},
       "arguments": {},
       "data": "<div class=\"ansiout\">4 out of 10 PMY_DPT_DSC missing\n5 out of 24 REC_DPT_DSC missing\n36 out of 95 DPT_DSC missing\n217 out of 810 COM_DSC missing\n2107 out of 4882 SUBCOM_DSC missing\n</div>",
       "datasetInfos": [],
       "metadata": {},
       "removedWidgets": [],
       "type": "html"
      }
     },
     "output_type": "display_data"
    }
   ],
   "source": [
    "cols = ['PMY_DPT_DSC','REC_DPT_DSC','DPT_DSC','COM_DSC','SUBCOM_DSC']\n",
    "for col in cols:\n",
    "    print(len([ i for i in pimmart[col].dropna().unique() if not i in syndigo_mapped[col].unique()]),'out of', pimmart[col].nunique(), col, 'missing')"
   ]
  },
  {
   "cell_type": "code",
   "execution_count": 0,
   "metadata": {
    "application/vnd.databricks.v1+cell": {
     "cellMetadata": {
      "byteLimit": 2048000,
      "rowLimit": 10000
     },
     "inputWidgets": {},
     "nuid": "d7ecf5fb-1852-4edb-8844-bd98c508f627",
     "showTitle": false,
     "title": ""
    }
   },
   "outputs": [
    {
     "data": {
      "text/html": [
       "<style scoped>\n",
       "  .ansiout {\n",
       "    display: block;\n",
       "    unicode-bidi: embed;\n",
       "    white-space: pre-wrap;\n",
       "    word-wrap: break-word;\n",
       "    word-break: break-all;\n",
       "    font-family: \"Source Code Pro\", \"Menlo\", monospace;;\n",
       "    font-size: 13px;\n",
       "    color: #555;\n",
       "    margin-left: 4px;\n",
       "    line-height: 19px;\n",
       "  }\n",
       "</style>\n",
       "<div class=\"ansiout\">Out[41]: </div>"
      ]
     },
     "metadata": {
      "application/vnd.databricks.v1+output": {
       "addedWidgets": {},
       "arguments": {},
       "data": "<div class=\"ansiout\">Out[41]: </div>",
       "datasetInfos": [],
       "metadata": {},
       "removedWidgets": [],
       "type": "html"
      }
     },
     "output_type": "display_data"
    },
    {
     "data": {
      "text/html": [
       "<div>\n",
       "<style scoped>\n",
       "    .dataframe tbody tr th:only-of-type {\n",
       "        vertical-align: middle;\n",
       "    }\n",
       "\n",
       "    .dataframe tbody tr th {\n",
       "        vertical-align: top;\n",
       "    }\n",
       "\n",
       "    .dataframe thead th {\n",
       "        text-align: right;\n",
       "    }\n",
       "</style>\n",
       "<table border=\"1\" class=\"dataframe\">\n",
       "  <thead>\n",
       "    <tr style=\"text-align: right;\">\n",
       "      <th></th>\n",
       "      <th>ITM_ID</th>\n",
       "      <th>GTIN</th>\n",
       "      <th>GTIN_NAM</th>\n",
       "      <th>CON_UNT_ITM_DSC</th>\n",
       "      <th>DSP_UNT_ITM_DSC</th>\n",
       "      <th>PMY_DPT_DSC</th>\n",
       "      <th>REC_DPT_DSC</th>\n",
       "      <th>DPT_DSC</th>\n",
       "      <th>COM_DSC</th>\n",
       "      <th>SUBCOM_DSC</th>\n",
       "      <th>TAG_DSC</th>\n",
       "      <th>RCT_DSC</th>\n",
       "      <th>ITM_LVL_DSC</th>\n",
       "      <th>GRP_LVL_DSC</th>\n",
       "      <th>NET_CONT_EQV_QY_VIP_TO_KRG_QY</th>\n",
       "      <th>NET_CONT_EQV_UOM_VIP_TO_KRG_UOM</th>\n",
       "      <th>GTIN_HGT_OVD</th>\n",
       "      <th>GTIN_LTH_OVD</th>\n",
       "      <th>GTIN_WTH_OVD</th>\n",
       "      <th>GRS_WGT_OVD</th>\n",
       "      <th>GTIN_NET_WGT_OVD</th>\n",
       "      <th>MIN_DAYS_OF_SHF_LIF_AT_WHS_DAYS</th>\n",
       "      <th>TPT_CLS_CD</th>\n",
       "      <th>TPT_CLS_VLU</th>\n",
       "      <th>MAX_DAYS_OF_SHF_LIF_AT_WHS_DTB_CET_DAYS</th>\n",
       "      <th>TYP_OF_LBL_CD</th>\n",
       "      <th>TYP_OF_LBL_VLU</th>\n",
       "      <th>SIZ_CD</th>\n",
       "      <th>SIZ_CD_VLU</th>\n",
       "      <th>SIZ_QY</th>\n",
       "      <th>IS_EDBL_CD</th>\n",
       "      <th>IS_EDBL_VLU</th>\n",
       "      <th>VND_ECOM_DSC</th>\n",
       "      <th>KRG_OWN_ECOM_DSC</th>\n",
       "    </tr>\n",
       "  </thead>\n",
       "  <tbody>\n",
       "    <tr>\n",
       "      <th>181661</th>\n",
       "      <td>688419491</td>\n",
       "      <td>763264958769</td>\n",
       "      <td>NCAA IU TEAM COLOR LANYARD</td>\n",
       "      <td>NCAA IU TEAM COLOR LANYARD</td>\n",
       "      <td>NCAA IU TEAM COLOR LANYARD</td>\n",
       "      <td>MISC SALES TRAN</td>\n",
       "      <td>MISC SALES TRAN</td>\n",
       "      <td>MISC SALES TRAN</td>\n",
       "      <td>MISCELLANEOUS TRANSACTIONS</td>\n",
       "      <td>MISC SALES TRANS (NON TAX)</td>\n",
       "      <td>CLSC INDIANA UNIV LANYARD</td>\n",
       "      <td>CI LANYARD</td>\n",
       "      <td>None</td>\n",
       "      <td>None</td>\n",
       "      <td>1.0</td>\n",
       "      <td>COUNT</td>\n",
       "      <td>24.00</td>\n",
       "      <td>0.38</td>\n",
       "      <td>1.00</td>\n",
       "      <td>0.3</td>\n",
       "      <td>0.20</td>\n",
       "      <td>NaN</td>\n",
       "      <td>AMBIENT</td>\n",
       "      <td>AMBIENT</td>\n",
       "      <td>NaN</td>\n",
       "      <td>NONE</td>\n",
       "      <td>NONE</td>\n",
       "      <td>EA</td>\n",
       "      <td>EACH</td>\n",
       "      <td>0.0</td>\n",
       "      <td>N</td>\n",
       "      <td>NO</td>\n",
       "      <td>NCAA IU TEAM COLOR LANYARD</td>\n",
       "      <td>None</td>\n",
       "    </tr>\n",
       "    <tr>\n",
       "      <th>183454</th>\n",
       "      <td>688419457</td>\n",
       "      <td>32085159052</td>\n",
       "      <td>NCAA IU 6 pack Pencils</td>\n",
       "      <td>NCAA IU 6 pack Pencils</td>\n",
       "      <td>NCAA IU 6 pack Pencils</td>\n",
       "      <td>MISC SALES TRAN</td>\n",
       "      <td>MISC SALES TRAN</td>\n",
       "      <td>MISC SALES TRAN</td>\n",
       "      <td>MISCELLANEOUS TRANSACTIONS</td>\n",
       "      <td>MISC SALES TRANS (NON TAX)</td>\n",
       "      <td>CI INDIANA UNIV PENCILS</td>\n",
       "      <td>IU PENCILS</td>\n",
       "      <td>None</td>\n",
       "      <td>None</td>\n",
       "      <td>6.0</td>\n",
       "      <td>COUNT</td>\n",
       "      <td>2.37</td>\n",
       "      <td>0.37</td>\n",
       "      <td>9.37</td>\n",
       "      <td>0.1</td>\n",
       "      <td>0.09</td>\n",
       "      <td>NaN</td>\n",
       "      <td>AMBIENT</td>\n",
       "      <td>AMBIENT</td>\n",
       "      <td>NaN</td>\n",
       "      <td>NONE</td>\n",
       "      <td>NONE</td>\n",
       "      <td>None</td>\n",
       "      <td>None</td>\n",
       "      <td>0.0</td>\n",
       "      <td>N</td>\n",
       "      <td>NO</td>\n",
       "      <td>NCAA IU 6 pack Pencils</td>\n",
       "      <td>None</td>\n",
       "    </tr>\n",
       "    <tr>\n",
       "      <th>343016</th>\n",
       "      <td>688559168</td>\n",
       "      <td>11150325035</td>\n",
       "      <td>Mariano's Cotton Tote Map</td>\n",
       "      <td>Cotton Tote</td>\n",
       "      <td>Cotton Tote</td>\n",
       "      <td>MISC SALES TRAN</td>\n",
       "      <td>MISC SALES TRAN</td>\n",
       "      <td>MISC SALES TRAN</td>\n",
       "      <td>MISCELLANEOUS TRANSACTIONS</td>\n",
       "      <td>REUSEABLE BAGS</td>\n",
       "      <td>MARIANOS REUSABLE COTTON</td>\n",
       "      <td>MARIANO COTTON B</td>\n",
       "      <td>None</td>\n",
       "      <td>None</td>\n",
       "      <td>NaN</td>\n",
       "      <td>None</td>\n",
       "      <td>14.50</td>\n",
       "      <td>7.00</td>\n",
       "      <td>21.20</td>\n",
       "      <td>0.7</td>\n",
       "      <td>0.66</td>\n",
       "      <td>NaN</td>\n",
       "      <td>AMBIENT</td>\n",
       "      <td>AMBIENT</td>\n",
       "      <td>NaN</td>\n",
       "      <td>NONE</td>\n",
       "      <td>NONE</td>\n",
       "      <td>None</td>\n",
       "      <td>None</td>\n",
       "      <td>1.0</td>\n",
       "      <td>N</td>\n",
       "      <td>NO</td>\n",
       "      <td>Cotton Tote</td>\n",
       "      <td>None</td>\n",
       "    </tr>\n",
       "    <tr>\n",
       "      <th>373222</th>\n",
       "      <td>688601783</td>\n",
       "      <td>303873</td>\n",
       "      <td>None</td>\n",
       "      <td>None</td>\n",
       "      <td>None</td>\n",
       "      <td>MISC SALES TRAN</td>\n",
       "      <td>MISC SALES TRAN</td>\n",
       "      <td>MISC SALES TRAN</td>\n",
       "      <td>MISCELLANEOUS TRANSACTIONS</td>\n",
       "      <td>MISC SALES TRANS</td>\n",
       "      <td>FUEL .05 CENTS OFF</td>\n",
       "      <td>CKOUT COUPON</td>\n",
       "      <td>None</td>\n",
       "      <td>None</td>\n",
       "      <td>NaN</td>\n",
       "      <td>None</td>\n",
       "      <td>NaN</td>\n",
       "      <td>NaN</td>\n",
       "      <td>NaN</td>\n",
       "      <td>NaN</td>\n",
       "      <td>NaN</td>\n",
       "      <td>NaN</td>\n",
       "      <td>None</td>\n",
       "      <td>None</td>\n",
       "      <td>NaN</td>\n",
       "      <td>None</td>\n",
       "      <td>None</td>\n",
       "      <td>None</td>\n",
       "      <td>None</td>\n",
       "      <td>0.0</td>\n",
       "      <td>N</td>\n",
       "      <td>NO</td>\n",
       "      <td>FUEL .05 CENTS OFF</td>\n",
       "      <td>None</td>\n",
       "    </tr>\n",
       "    <tr>\n",
       "      <th>373656</th>\n",
       "      <td>688598187</td>\n",
       "      <td>14854</td>\n",
       "      <td>None</td>\n",
       "      <td>None</td>\n",
       "      <td>None</td>\n",
       "      <td>MISC SALES TRAN</td>\n",
       "      <td>MISC SALES TRAN</td>\n",
       "      <td>MISC SALES TRAN</td>\n",
       "      <td>MISCELLANEOUS TRANSACTIONS</td>\n",
       "      <td>MISC SALES TRANS</td>\n",
       "      <td>TWO DAY TRIP $8.00</td>\n",
       "      <td>TWO DAY TRIP</td>\n",
       "      <td>None</td>\n",
       "      <td>None</td>\n",
       "      <td>NaN</td>\n",
       "      <td>None</td>\n",
       "      <td>NaN</td>\n",
       "      <td>NaN</td>\n",
       "      <td>NaN</td>\n",
       "      <td>NaN</td>\n",
       "      <td>NaN</td>\n",
       "      <td>NaN</td>\n",
       "      <td>None</td>\n",
       "      <td>None</td>\n",
       "      <td>NaN</td>\n",
       "      <td>None</td>\n",
       "      <td>None</td>\n",
       "      <td>None</td>\n",
       "      <td>None</td>\n",
       "      <td>0.0</td>\n",
       "      <td>N</td>\n",
       "      <td>NO</td>\n",
       "      <td>TWO DAY TRIP $8.00</td>\n",
       "      <td>None</td>\n",
       "    </tr>\n",
       "    <tr>\n",
       "      <th>...</th>\n",
       "      <td>...</td>\n",
       "      <td>...</td>\n",
       "      <td>...</td>\n",
       "      <td>...</td>\n",
       "      <td>...</td>\n",
       "      <td>...</td>\n",
       "      <td>...</td>\n",
       "      <td>...</td>\n",
       "      <td>...</td>\n",
       "      <td>...</td>\n",
       "      <td>...</td>\n",
       "      <td>...</td>\n",
       "      <td>...</td>\n",
       "      <td>...</td>\n",
       "      <td>...</td>\n",
       "      <td>...</td>\n",
       "      <td>...</td>\n",
       "      <td>...</td>\n",
       "      <td>...</td>\n",
       "      <td>...</td>\n",
       "      <td>...</td>\n",
       "      <td>...</td>\n",
       "      <td>...</td>\n",
       "      <td>...</td>\n",
       "      <td>...</td>\n",
       "      <td>...</td>\n",
       "      <td>...</td>\n",
       "      <td>...</td>\n",
       "      <td>...</td>\n",
       "      <td>...</td>\n",
       "      <td>...</td>\n",
       "      <td>...</td>\n",
       "      <td>...</td>\n",
       "      <td>...</td>\n",
       "    </tr>\n",
       "    <tr>\n",
       "      <th>4831262</th>\n",
       "      <td>693064667</td>\n",
       "      <td>10792493028377</td>\n",
       "      <td>None</td>\n",
       "      <td>None</td>\n",
       "      <td>None</td>\n",
       "      <td>MISC SALES TRAN</td>\n",
       "      <td>MISC SALES TRAN</td>\n",
       "      <td>MISC SALES TRAN</td>\n",
       "      <td>MISCELLANEOUS TRANSACTIONS</td>\n",
       "      <td>CENTRAL SUPPLIES</td>\n",
       "      <td>SANISAVE SPRY BTL</td>\n",
       "      <td>None</td>\n",
       "      <td>None</td>\n",
       "      <td>None</td>\n",
       "      <td>NaN</td>\n",
       "      <td>None</td>\n",
       "      <td>NaN</td>\n",
       "      <td>NaN</td>\n",
       "      <td>NaN</td>\n",
       "      <td>NaN</td>\n",
       "      <td>NaN</td>\n",
       "      <td>NaN</td>\n",
       "      <td>None</td>\n",
       "      <td>None</td>\n",
       "      <td>NaN</td>\n",
       "      <td>None</td>\n",
       "      <td>None</td>\n",
       "      <td>None</td>\n",
       "      <td>None</td>\n",
       "      <td>NaN</td>\n",
       "      <td>None</td>\n",
       "      <td>None</td>\n",
       "      <td>SANISAVE SPRY BTL</td>\n",
       "      <td>None</td>\n",
       "    </tr>\n",
       "    <tr>\n",
       "      <th>4837210</th>\n",
       "      <td>692999836</td>\n",
       "      <td>70409</td>\n",
       "      <td>None</td>\n",
       "      <td>None</td>\n",
       "      <td>None</td>\n",
       "      <td>MISC SALES TRAN</td>\n",
       "      <td>MISC SALES TRAN</td>\n",
       "      <td>MISC SALES TRAN</td>\n",
       "      <td>MISCELLANEOUS TRANSACTIONS</td>\n",
       "      <td>EVENT TICKETS - NON TAXABLE</td>\n",
       "      <td>ZERO HUNGER ZERO WASTE</td>\n",
       "      <td>ZERO HUNGER</td>\n",
       "      <td>None</td>\n",
       "      <td>None</td>\n",
       "      <td>1.0</td>\n",
       "      <td>EACH</td>\n",
       "      <td>NaN</td>\n",
       "      <td>NaN</td>\n",
       "      <td>NaN</td>\n",
       "      <td>NaN</td>\n",
       "      <td>NaN</td>\n",
       "      <td>NaN</td>\n",
       "      <td>None</td>\n",
       "      <td>None</td>\n",
       "      <td>NaN</td>\n",
       "      <td>None</td>\n",
       "      <td>None</td>\n",
       "      <td>EA</td>\n",
       "      <td>EACH</td>\n",
       "      <td>1.0</td>\n",
       "      <td>None</td>\n",
       "      <td>None</td>\n",
       "      <td>ZERO HUNGER ZERO WASTE</td>\n",
       "      <td>None</td>\n",
       "    </tr>\n",
       "    <tr>\n",
       "      <th>4869449</th>\n",
       "      <td>693102151</td>\n",
       "      <td>224451</td>\n",
       "      <td>None</td>\n",
       "      <td>None</td>\n",
       "      <td>None</td>\n",
       "      <td>MISC SALES TRAN</td>\n",
       "      <td>MISC SALES TRAN</td>\n",
       "      <td>MISC SALES TRAN</td>\n",
       "      <td>MISCELLANEOUS TRANSACTIONS</td>\n",
       "      <td>MISC SALES TRANS</td>\n",
       "      <td>MISC VOUCHER OFFICE CHRG</td>\n",
       "      <td>MISC VOUCHER / OFF</td>\n",
       "      <td>None</td>\n",
       "      <td>None</td>\n",
       "      <td>1.0</td>\n",
       "      <td>EACH</td>\n",
       "      <td>NaN</td>\n",
       "      <td>NaN</td>\n",
       "      <td>NaN</td>\n",
       "      <td>NaN</td>\n",
       "      <td>NaN</td>\n",
       "      <td>NaN</td>\n",
       "      <td>None</td>\n",
       "      <td>None</td>\n",
       "      <td>NaN</td>\n",
       "      <td>None</td>\n",
       "      <td>None</td>\n",
       "      <td>EA</td>\n",
       "      <td>EACH</td>\n",
       "      <td>1.0</td>\n",
       "      <td>None</td>\n",
       "      <td>None</td>\n",
       "      <td>MISC VOUCHER OFFICE CHRG</td>\n",
       "      <td>None</td>\n",
       "    </tr>\n",
       "    <tr>\n",
       "      <th>4897733</th>\n",
       "      <td>693106988</td>\n",
       "      <td>754336024956</td>\n",
       "      <td>None</td>\n",
       "      <td>None</td>\n",
       "      <td>None</td>\n",
       "      <td>MISC SALES TRAN</td>\n",
       "      <td>MISC SALES TRAN</td>\n",
       "      <td>MISC SALES TRAN</td>\n",
       "      <td>MISCELLANEOUS TRANSACTIONS</td>\n",
       "      <td>LOTTERY</td>\n",
       "      <td>LEGENDARY CROSSWORD</td>\n",
       "      <td>INSTANT LTRY</td>\n",
       "      <td>None</td>\n",
       "      <td>None</td>\n",
       "      <td>1.0</td>\n",
       "      <td>EACH</td>\n",
       "      <td>NaN</td>\n",
       "      <td>NaN</td>\n",
       "      <td>NaN</td>\n",
       "      <td>NaN</td>\n",
       "      <td>NaN</td>\n",
       "      <td>NaN</td>\n",
       "      <td>None</td>\n",
       "      <td>None</td>\n",
       "      <td>NaN</td>\n",
       "      <td>None</td>\n",
       "      <td>None</td>\n",
       "      <td>EA</td>\n",
       "      <td>EACH</td>\n",
       "      <td>1.0</td>\n",
       "      <td>None</td>\n",
       "      <td>None</td>\n",
       "      <td>LEGENDARY CROSSWORD</td>\n",
       "      <td>None</td>\n",
       "    </tr>\n",
       "    <tr>\n",
       "      <th>4898935</th>\n",
       "      <td>693114349</td>\n",
       "      <td>210423</td>\n",
       "      <td>None</td>\n",
       "      <td>None</td>\n",
       "      <td>None</td>\n",
       "      <td>MISC SALES TRAN</td>\n",
       "      <td>MISC SALES TRAN</td>\n",
       "      <td>MISC SALES TRAN</td>\n",
       "      <td>MISCELLANEOUS TRANSACTIONS</td>\n",
       "      <td>EVENT TICKETS - TAXABLE</td>\n",
       "      <td>TICKETS EVENT T</td>\n",
       "      <td>EVENT TICKET</td>\n",
       "      <td>None</td>\n",
       "      <td>None</td>\n",
       "      <td>1.0</td>\n",
       "      <td>EACH</td>\n",
       "      <td>NaN</td>\n",
       "      <td>NaN</td>\n",
       "      <td>NaN</td>\n",
       "      <td>NaN</td>\n",
       "      <td>NaN</td>\n",
       "      <td>NaN</td>\n",
       "      <td>None</td>\n",
       "      <td>None</td>\n",
       "      <td>NaN</td>\n",
       "      <td>None</td>\n",
       "      <td>None</td>\n",
       "      <td>EA</td>\n",
       "      <td>EACH</td>\n",
       "      <td>1.0</td>\n",
       "      <td>None</td>\n",
       "      <td>None</td>\n",
       "      <td>TICKETS EVENT T</td>\n",
       "      <td>None</td>\n",
       "    </tr>\n",
       "  </tbody>\n",
       "</table>\n",
       "<p>5451 rows × 34 columns</p>\n",
       "</div>"
      ]
     },
     "metadata": {
      "application/vnd.databricks.v1+output": {
       "addedWidgets": {},
       "arguments": {},
       "data": "<div>\n<style scoped>\n    .dataframe tbody tr th:only-of-type {\n        vertical-align: middle;\n    }\n\n    .dataframe tbody tr th {\n        vertical-align: top;\n    }\n\n    .dataframe thead th {\n        text-align: right;\n    }\n</style>\n<table border=\"1\" class=\"dataframe\">\n  <thead>\n    <tr style=\"text-align: right;\">\n      <th></th>\n      <th>ITM_ID</th>\n      <th>GTIN</th>\n      <th>GTIN_NAM</th>\n      <th>CON_UNT_ITM_DSC</th>\n      <th>DSP_UNT_ITM_DSC</th>\n      <th>PMY_DPT_DSC</th>\n      <th>REC_DPT_DSC</th>\n      <th>DPT_DSC</th>\n      <th>COM_DSC</th>\n      <th>SUBCOM_DSC</th>\n      <th>TAG_DSC</th>\n      <th>RCT_DSC</th>\n      <th>ITM_LVL_DSC</th>\n      <th>GRP_LVL_DSC</th>\n      <th>NET_CONT_EQV_QY_VIP_TO_KRG_QY</th>\n      <th>NET_CONT_EQV_UOM_VIP_TO_KRG_UOM</th>\n      <th>GTIN_HGT_OVD</th>\n      <th>GTIN_LTH_OVD</th>\n      <th>GTIN_WTH_OVD</th>\n      <th>GRS_WGT_OVD</th>\n      <th>GTIN_NET_WGT_OVD</th>\n      <th>MIN_DAYS_OF_SHF_LIF_AT_WHS_DAYS</th>\n      <th>TPT_CLS_CD</th>\n      <th>TPT_CLS_VLU</th>\n      <th>MAX_DAYS_OF_SHF_LIF_AT_WHS_DTB_CET_DAYS</th>\n      <th>TYP_OF_LBL_CD</th>\n      <th>TYP_OF_LBL_VLU</th>\n      <th>SIZ_CD</th>\n      <th>SIZ_CD_VLU</th>\n      <th>SIZ_QY</th>\n      <th>IS_EDBL_CD</th>\n      <th>IS_EDBL_VLU</th>\n      <th>VND_ECOM_DSC</th>\n      <th>KRG_OWN_ECOM_DSC</th>\n    </tr>\n  </thead>\n  <tbody>\n    <tr>\n      <th>181661</th>\n      <td>688419491</td>\n      <td>763264958769</td>\n      <td>NCAA IU TEAM COLOR LANYARD</td>\n      <td>NCAA IU TEAM COLOR LANYARD</td>\n      <td>NCAA IU TEAM COLOR LANYARD</td>\n      <td>MISC SALES TRAN</td>\n      <td>MISC SALES TRAN</td>\n      <td>MISC SALES TRAN</td>\n      <td>MISCELLANEOUS TRANSACTIONS</td>\n      <td>MISC SALES TRANS (NON TAX)</td>\n      <td>CLSC INDIANA UNIV LANYARD</td>\n      <td>CI LANYARD</td>\n      <td>None</td>\n      <td>None</td>\n      <td>1.0</td>\n      <td>COUNT</td>\n      <td>24.00</td>\n      <td>0.38</td>\n      <td>1.00</td>\n      <td>0.3</td>\n      <td>0.20</td>\n      <td>NaN</td>\n      <td>AMBIENT</td>\n      <td>AMBIENT</td>\n      <td>NaN</td>\n      <td>NONE</td>\n      <td>NONE</td>\n      <td>EA</td>\n      <td>EACH</td>\n      <td>0.0</td>\n      <td>N</td>\n      <td>NO</td>\n      <td>NCAA IU TEAM COLOR LANYARD</td>\n      <td>None</td>\n    </tr>\n    <tr>\n      <th>183454</th>\n      <td>688419457</td>\n      <td>32085159052</td>\n      <td>NCAA IU 6 pack Pencils</td>\n      <td>NCAA IU 6 pack Pencils</td>\n      <td>NCAA IU 6 pack Pencils</td>\n      <td>MISC SALES TRAN</td>\n      <td>MISC SALES TRAN</td>\n      <td>MISC SALES TRAN</td>\n      <td>MISCELLANEOUS TRANSACTIONS</td>\n      <td>MISC SALES TRANS (NON TAX)</td>\n      <td>CI INDIANA UNIV PENCILS</td>\n      <td>IU PENCILS</td>\n      <td>None</td>\n      <td>None</td>\n      <td>6.0</td>\n      <td>COUNT</td>\n      <td>2.37</td>\n      <td>0.37</td>\n      <td>9.37</td>\n      <td>0.1</td>\n      <td>0.09</td>\n      <td>NaN</td>\n      <td>AMBIENT</td>\n      <td>AMBIENT</td>\n      <td>NaN</td>\n      <td>NONE</td>\n      <td>NONE</td>\n      <td>None</td>\n      <td>None</td>\n      <td>0.0</td>\n      <td>N</td>\n      <td>NO</td>\n      <td>NCAA IU 6 pack Pencils</td>\n      <td>None</td>\n    </tr>\n    <tr>\n      <th>343016</th>\n      <td>688559168</td>\n      <td>11150325035</td>\n      <td>Mariano's Cotton Tote Map</td>\n      <td>Cotton Tote</td>\n      <td>Cotton Tote</td>\n      <td>MISC SALES TRAN</td>\n      <td>MISC SALES TRAN</td>\n      <td>MISC SALES TRAN</td>\n      <td>MISCELLANEOUS TRANSACTIONS</td>\n      <td>REUSEABLE BAGS</td>\n      <td>MARIANOS REUSABLE COTTON</td>\n      <td>MARIANO COTTON B</td>\n      <td>None</td>\n      <td>None</td>\n      <td>NaN</td>\n      <td>None</td>\n      <td>14.50</td>\n      <td>7.00</td>\n      <td>21.20</td>\n      <td>0.7</td>\n      <td>0.66</td>\n      <td>NaN</td>\n      <td>AMBIENT</td>\n      <td>AMBIENT</td>\n      <td>NaN</td>\n      <td>NONE</td>\n      <td>NONE</td>\n      <td>None</td>\n      <td>None</td>\n      <td>1.0</td>\n      <td>N</td>\n      <td>NO</td>\n      <td>Cotton Tote</td>\n      <td>None</td>\n    </tr>\n    <tr>\n      <th>373222</th>\n      <td>688601783</td>\n      <td>303873</td>\n      <td>None</td>\n      <td>None</td>\n      <td>None</td>\n      <td>MISC SALES TRAN</td>\n      <td>MISC SALES TRAN</td>\n      <td>MISC SALES TRAN</td>\n      <td>MISCELLANEOUS TRANSACTIONS</td>\n      <td>MISC SALES TRANS</td>\n      <td>FUEL .05 CENTS OFF</td>\n      <td>CKOUT COUPON</td>\n      <td>None</td>\n      <td>None</td>\n      <td>NaN</td>\n      <td>None</td>\n      <td>NaN</td>\n      <td>NaN</td>\n      <td>NaN</td>\n      <td>NaN</td>\n      <td>NaN</td>\n      <td>NaN</td>\n      <td>None</td>\n      <td>None</td>\n      <td>NaN</td>\n      <td>None</td>\n      <td>None</td>\n      <td>None</td>\n      <td>None</td>\n      <td>0.0</td>\n      <td>N</td>\n      <td>NO</td>\n      <td>FUEL .05 CENTS OFF</td>\n      <td>None</td>\n    </tr>\n    <tr>\n      <th>373656</th>\n      <td>688598187</td>\n      <td>14854</td>\n      <td>None</td>\n      <td>None</td>\n      <td>None</td>\n      <td>MISC SALES TRAN</td>\n      <td>MISC SALES TRAN</td>\n      <td>MISC SALES TRAN</td>\n      <td>MISCELLANEOUS TRANSACTIONS</td>\n      <td>MISC SALES TRANS</td>\n      <td>TWO DAY TRIP $8.00</td>\n      <td>TWO DAY TRIP</td>\n      <td>None</td>\n      <td>None</td>\n      <td>NaN</td>\n      <td>None</td>\n      <td>NaN</td>\n      <td>NaN</td>\n      <td>NaN</td>\n      <td>NaN</td>\n      <td>NaN</td>\n      <td>NaN</td>\n      <td>None</td>\n      <td>None</td>\n      <td>NaN</td>\n      <td>None</td>\n      <td>None</td>\n      <td>None</td>\n      <td>None</td>\n      <td>0.0</td>\n      <td>N</td>\n      <td>NO</td>\n      <td>TWO DAY TRIP $8.00</td>\n      <td>None</td>\n    </tr>\n    <tr>\n      <th>...</th>\n      <td>...</td>\n      <td>...</td>\n      <td>...</td>\n      <td>...</td>\n      <td>...</td>\n      <td>...</td>\n      <td>...</td>\n      <td>...</td>\n      <td>...</td>\n      <td>...</td>\n      <td>...</td>\n      <td>...</td>\n      <td>...</td>\n      <td>...</td>\n      <td>...</td>\n      <td>...</td>\n      <td>...</td>\n      <td>...</td>\n      <td>...</td>\n      <td>...</td>\n      <td>...</td>\n      <td>...</td>\n      <td>...</td>\n      <td>...</td>\n      <td>...</td>\n      <td>...</td>\n      <td>...</td>\n      <td>...</td>\n      <td>...</td>\n      <td>...</td>\n      <td>...</td>\n      <td>...</td>\n      <td>...</td>\n      <td>...</td>\n    </tr>\n    <tr>\n      <th>4831262</th>\n      <td>693064667</td>\n      <td>10792493028377</td>\n      <td>None</td>\n      <td>None</td>\n      <td>None</td>\n      <td>MISC SALES TRAN</td>\n      <td>MISC SALES TRAN</td>\n      <td>MISC SALES TRAN</td>\n      <td>MISCELLANEOUS TRANSACTIONS</td>\n      <td>CENTRAL SUPPLIES</td>\n      <td>SANISAVE SPRY BTL</td>\n      <td>None</td>\n      <td>None</td>\n      <td>None</td>\n      <td>NaN</td>\n      <td>None</td>\n      <td>NaN</td>\n      <td>NaN</td>\n      <td>NaN</td>\n      <td>NaN</td>\n      <td>NaN</td>\n      <td>NaN</td>\n      <td>None</td>\n      <td>None</td>\n      <td>NaN</td>\n      <td>None</td>\n      <td>None</td>\n      <td>None</td>\n      <td>None</td>\n      <td>NaN</td>\n      <td>None</td>\n      <td>None</td>\n      <td>SANISAVE SPRY BTL</td>\n      <td>None</td>\n    </tr>\n    <tr>\n      <th>4837210</th>\n      <td>692999836</td>\n      <td>70409</td>\n      <td>None</td>\n      <td>None</td>\n      <td>None</td>\n      <td>MISC SALES TRAN</td>\n      <td>MISC SALES TRAN</td>\n      <td>MISC SALES TRAN</td>\n      <td>MISCELLANEOUS TRANSACTIONS</td>\n      <td>EVENT TICKETS - NON TAXABLE</td>\n      <td>ZERO HUNGER ZERO WASTE</td>\n      <td>ZERO HUNGER</td>\n      <td>None</td>\n      <td>None</td>\n      <td>1.0</td>\n      <td>EACH</td>\n      <td>NaN</td>\n      <td>NaN</td>\n      <td>NaN</td>\n      <td>NaN</td>\n      <td>NaN</td>\n      <td>NaN</td>\n      <td>None</td>\n      <td>None</td>\n      <td>NaN</td>\n      <td>None</td>\n      <td>None</td>\n      <td>EA</td>\n      <td>EACH</td>\n      <td>1.0</td>\n      <td>None</td>\n      <td>None</td>\n      <td>ZERO HUNGER ZERO WASTE</td>\n      <td>None</td>\n    </tr>\n    <tr>\n      <th>4869449</th>\n      <td>693102151</td>\n      <td>224451</td>\n      <td>None</td>\n      <td>None</td>\n      <td>None</td>\n      <td>MISC SALES TRAN</td>\n      <td>MISC SALES TRAN</td>\n      <td>MISC SALES TRAN</td>\n      <td>MISCELLANEOUS TRANSACTIONS</td>\n      <td>MISC SALES TRANS</td>\n      <td>MISC VOUCHER OFFICE CHRG</td>\n      <td>MISC VOUCHER / OFF</td>\n      <td>None</td>\n      <td>None</td>\n      <td>1.0</td>\n      <td>EACH</td>\n      <td>NaN</td>\n      <td>NaN</td>\n      <td>NaN</td>\n      <td>NaN</td>\n      <td>NaN</td>\n      <td>NaN</td>\n      <td>None</td>\n      <td>None</td>\n      <td>NaN</td>\n      <td>None</td>\n      <td>None</td>\n      <td>EA</td>\n      <td>EACH</td>\n      <td>1.0</td>\n      <td>None</td>\n      <td>None</td>\n      <td>MISC VOUCHER OFFICE CHRG</td>\n      <td>None</td>\n    </tr>\n    <tr>\n      <th>4897733</th>\n      <td>693106988</td>\n      <td>754336024956</td>\n      <td>None</td>\n      <td>None</td>\n      <td>None</td>\n      <td>MISC SALES TRAN</td>\n      <td>MISC SALES TRAN</td>\n      <td>MISC SALES TRAN</td>\n      <td>MISCELLANEOUS TRANSACTIONS</td>\n      <td>LOTTERY</td>\n      <td>LEGENDARY CROSSWORD</td>\n      <td>INSTANT LTRY</td>\n      <td>None</td>\n      <td>None</td>\n      <td>1.0</td>\n      <td>EACH</td>\n      <td>NaN</td>\n      <td>NaN</td>\n      <td>NaN</td>\n      <td>NaN</td>\n      <td>NaN</td>\n      <td>NaN</td>\n      <td>None</td>\n      <td>None</td>\n      <td>NaN</td>\n      <td>None</td>\n      <td>None</td>\n      <td>EA</td>\n      <td>EACH</td>\n      <td>1.0</td>\n      <td>None</td>\n      <td>None</td>\n      <td>LEGENDARY CROSSWORD</td>\n      <td>None</td>\n    </tr>\n    <tr>\n      <th>4898935</th>\n      <td>693114349</td>\n      <td>210423</td>\n      <td>None</td>\n      <td>None</td>\n      <td>None</td>\n      <td>MISC SALES TRAN</td>\n      <td>MISC SALES TRAN</td>\n      <td>MISC SALES TRAN</td>\n      <td>MISCELLANEOUS TRANSACTIONS</td>\n      <td>EVENT TICKETS - TAXABLE</td>\n      <td>TICKETS EVENT T</td>\n      <td>EVENT TICKET</td>\n      <td>None</td>\n      <td>None</td>\n      <td>1.0</td>\n      <td>EACH</td>\n      <td>NaN</td>\n      <td>NaN</td>\n      <td>NaN</td>\n      <td>NaN</td>\n      <td>NaN</td>\n      <td>NaN</td>\n      <td>None</td>\n      <td>None</td>\n      <td>NaN</td>\n      <td>None</td>\n      <td>None</td>\n      <td>EA</td>\n      <td>EACH</td>\n      <td>1.0</td>\n      <td>None</td>\n      <td>None</td>\n      <td>TICKETS EVENT T</td>\n      <td>None</td>\n    </tr>\n  </tbody>\n</table>\n<p>5451 rows × 34 columns</p>\n</div>",
       "datasetInfos": [],
       "metadata": {},
       "removedWidgets": [],
       "textData": null,
       "type": "htmlSandbox"
      }
     },
     "output_type": "display_data"
    }
   ],
   "source": [
    "pimmart[pimmart.PMY_DPT_DSC == 'MISC SALES TRAN']"
   ]
  },
  {
   "cell_type": "code",
   "execution_count": 0,
   "metadata": {
    "application/vnd.databricks.v1+cell": {
     "cellMetadata": {
      "byteLimit": 2048000,
      "rowLimit": 10000
     },
     "inputWidgets": {},
     "nuid": "b1a82284-5dc7-49d5-b4e4-f64b9d73d47b",
     "showTitle": false,
     "title": ""
    }
   },
   "outputs": [
    {
     "data": {
      "text/html": [
       "<style scoped>\n",
       "  .ansiout {\n",
       "    display: block;\n",
       "    unicode-bidi: embed;\n",
       "    white-space: pre-wrap;\n",
       "    word-wrap: break-word;\n",
       "    word-break: break-all;\n",
       "    font-family: \"Source Code Pro\", \"Menlo\", monospace;;\n",
       "    font-size: 13px;\n",
       "    color: #555;\n",
       "    margin-left: 4px;\n",
       "    line-height: 19px;\n",
       "  }\n",
       "</style>\n",
       "<div class=\"ansiout\">Out[33]: array([&#39;GROCERY&#39;, &#39;DRUG/GM&#39;, &#39;MEAT&#39;, &#39;DELI/BAKE&#39;, &#39;SUPPLIES&#39;, &#39;PRODUCE&#39;,\n",
       "       None, &#39;PHARMACY&#39;, &#39;MISC SALES TRAN&#39;, &#39;FUEL&#39;, &#39;DFLT 159 VALUE&#39;],\n",
       "      dtype=object)</div>"
      ]
     },
     "metadata": {
      "application/vnd.databricks.v1+output": {
       "addedWidgets": {},
       "arguments": {},
       "data": "<div class=\"ansiout\">Out[33]: array([&#39;GROCERY&#39;, &#39;DRUG/GM&#39;, &#39;MEAT&#39;, &#39;DELI/BAKE&#39;, &#39;SUPPLIES&#39;, &#39;PRODUCE&#39;,\n       None, &#39;PHARMACY&#39;, &#39;MISC SALES TRAN&#39;, &#39;FUEL&#39;, &#39;DFLT 159 VALUE&#39;],\n      dtype=object)</div>",
       "datasetInfos": [],
       "metadata": {},
       "removedWidgets": [],
       "type": "html"
      }
     },
     "output_type": "display_data"
    }
   ],
   "source": [
    "pimmart.PMY_DPT_DSC.unique()"
   ]
  },
  {
   "cell_type": "code",
   "execution_count": 0,
   "metadata": {
    "application/vnd.databricks.v1+cell": {
     "cellMetadata": {
      "byteLimit": 2048000,
      "rowLimit": 10000
     },
     "inputWidgets": {},
     "nuid": "ef6f7f1f-2cc2-47df-9934-da9f05d46468",
     "showTitle": false,
     "title": ""
    }
   },
   "outputs": [
    {
     "data": {
      "text/html": [
       "<style scoped>\n",
       "  .ansiout {\n",
       "    display: block;\n",
       "    unicode-bidi: embed;\n",
       "    white-space: pre-wrap;\n",
       "    word-wrap: break-word;\n",
       "    word-break: break-all;\n",
       "    font-family: \"Source Code Pro\", \"Menlo\", monospace;;\n",
       "    font-size: 13px;\n",
       "    color: #555;\n",
       "    margin-left: 4px;\n",
       "    line-height: 19px;\n",
       "  }\n",
       "</style>\n",
       "<div class=\"ansiout\">Out[36]: [&#39;SUPPLIES&#39;, None, &#39;MISC SALES TRAN&#39;, &#39;FUEL&#39;, &#39;DFLT 159 VALUE&#39;]</div>"
      ]
     },
     "metadata": {
      "application/vnd.databricks.v1+output": {
       "addedWidgets": {},
       "arguments": {},
       "data": "<div class=\"ansiout\">Out[36]: [&#39;SUPPLIES&#39;, None, &#39;MISC SALES TRAN&#39;, &#39;FUEL&#39;, &#39;DFLT 159 VALUE&#39;]</div>",
       "datasetInfos": [],
       "metadata": {},
       "removedWidgets": [],
       "type": "html"
      }
     },
     "output_type": "display_data"
    }
   ],
   "source": [
    "[ i for i in pimmart.PMY_DPT_DSC.unique() if not i in  syndigo_mapped.PMY_DPT_DSC.unique()]"
   ]
  },
  {
   "cell_type": "code",
   "execution_count": 0,
   "metadata": {
    "application/vnd.databricks.v1+cell": {
     "cellMetadata": {
      "byteLimit": 2048000,
      "rowLimit": 10000
     },
     "inputWidgets": {},
     "nuid": "1bc33ca7-8da1-4247-9f2f-91e030d58314",
     "showTitle": false,
     "title": ""
    }
   },
   "outputs": [
    {
     "data": {
      "text/html": [
       "<style scoped>\n",
       "  .ansiout {\n",
       "    display: block;\n",
       "    unicode-bidi: embed;\n",
       "    white-space: pre-wrap;\n",
       "    word-wrap: break-word;\n",
       "    word-break: break-all;\n",
       "    font-family: \"Source Code Pro\", \"Menlo\", monospace;;\n",
       "    font-size: 13px;\n",
       "    color: #555;\n",
       "    margin-left: 4px;\n",
       "    line-height: 19px;\n",
       "  }\n",
       "</style>\n",
       "<div class=\"ansiout\">Out[39]: </div>"
      ]
     },
     "metadata": {
      "application/vnd.databricks.v1+output": {
       "addedWidgets": {},
       "arguments": {},
       "data": "<div class=\"ansiout\">Out[39]: </div>",
       "datasetInfos": [],
       "metadata": {},
       "removedWidgets": [],
       "type": "html"
      }
     },
     "output_type": "display_data"
    },
    {
     "data": {
      "text/html": [
       "<div>\n",
       "<style scoped>\n",
       "    .dataframe tbody tr th:only-of-type {\n",
       "        vertical-align: middle;\n",
       "    }\n",
       "\n",
       "    .dataframe tbody tr th {\n",
       "        vertical-align: top;\n",
       "    }\n",
       "\n",
       "    .dataframe thead th {\n",
       "        text-align: right;\n",
       "    }\n",
       "</style>\n",
       "<table border=\"1\" class=\"dataframe\">\n",
       "  <thead>\n",
       "    <tr style=\"text-align: right;\">\n",
       "      <th></th>\n",
       "      <th>ITM_ID</th>\n",
       "      <th>GTIN</th>\n",
       "      <th>GTIN_NAM</th>\n",
       "      <th>CON_UNT_ITM_DSC</th>\n",
       "      <th>DSP_UNT_ITM_DSC</th>\n",
       "      <th>PMY_DPT_DSC</th>\n",
       "      <th>REC_DPT_DSC</th>\n",
       "      <th>DPT_DSC</th>\n",
       "      <th>COM_DSC</th>\n",
       "      <th>SUBCOM_DSC</th>\n",
       "      <th>TAG_DSC</th>\n",
       "      <th>RCT_DSC</th>\n",
       "      <th>ITM_LVL_DSC</th>\n",
       "      <th>GRP_LVL_DSC</th>\n",
       "      <th>NET_CONT_EQV_QY_VIP_TO_KRG_QY</th>\n",
       "      <th>NET_CONT_EQV_UOM_VIP_TO_KRG_UOM</th>\n",
       "      <th>GTIN_HGT_OVD</th>\n",
       "      <th>GTIN_LTH_OVD</th>\n",
       "      <th>GTIN_WTH_OVD</th>\n",
       "      <th>GRS_WGT_OVD</th>\n",
       "      <th>GTIN_NET_WGT_OVD</th>\n",
       "      <th>MIN_DAYS_OF_SHF_LIF_AT_WHS_DAYS</th>\n",
       "      <th>TPT_CLS_CD</th>\n",
       "      <th>TPT_CLS_VLU</th>\n",
       "      <th>MAX_DAYS_OF_SHF_LIF_AT_WHS_DTB_CET_DAYS</th>\n",
       "      <th>TYP_OF_LBL_CD</th>\n",
       "      <th>TYP_OF_LBL_VLU</th>\n",
       "      <th>SIZ_CD</th>\n",
       "      <th>SIZ_CD_VLU</th>\n",
       "      <th>SIZ_QY</th>\n",
       "      <th>IS_EDBL_CD</th>\n",
       "      <th>IS_EDBL_VLU</th>\n",
       "      <th>VND_ECOM_DSC</th>\n",
       "      <th>KRG_OWN_ECOM_DSC</th>\n",
       "    </tr>\n",
       "  </thead>\n",
       "  <tbody>\n",
       "    <tr>\n",
       "      <th>857</th>\n",
       "      <td>688216752</td>\n",
       "      <td>40076371034003</td>\n",
       "      <td>Tofu Cutlet Made With Organic Tofu Teriyaki 6/...</td>\n",
       "      <td>Marinated Tofu Cutlet Teriyaki</td>\n",
       "      <td>House Foods Marinated Tofu Cutlet Teriyaki 6oz</td>\n",
       "      <td>None</td>\n",
       "      <td>None</td>\n",
       "      <td>None</td>\n",
       "      <td>None</td>\n",
       "      <td>None</td>\n",
       "      <td>None</td>\n",
       "      <td>None</td>\n",
       "      <td>None</td>\n",
       "      <td>None</td>\n",
       "      <td>36.0</td>\n",
       "      <td>OUNCES</td>\n",
       "      <td>4.40</td>\n",
       "      <td>7.00</td>\n",
       "      <td>5.30</td>\n",
       "      <td>3.50</td>\n",
       "      <td>2.25</td>\n",
       "      <td>60.0</td>\n",
       "      <td>REFRIGERATED</td>\n",
       "      <td>REFRIGERATED GROCERY</td>\n",
       "      <td>80.0</td>\n",
       "      <td>NUTRITIONAL</td>\n",
       "      <td>NUTRITIONAL PANEL</td>\n",
       "      <td>None</td>\n",
       "      <td>None</td>\n",
       "      <td>NaN</td>\n",
       "      <td>None</td>\n",
       "      <td>None</td>\n",
       "      <td>Tofu Cutlet Made With Organic Tofu Teriyaki 6/6oz</td>\n",
       "      <td>None</td>\n",
       "    </tr>\n",
       "    <tr>\n",
       "      <th>1370</th>\n",
       "      <td>688215966</td>\n",
       "      <td>10035957005959</td>\n",
       "      <td>Fishmarket  Colossl Catfish Filets FZ</td>\n",
       "      <td>None</td>\n",
       "      <td>None</td>\n",
       "      <td>None</td>\n",
       "      <td>None</td>\n",
       "      <td>None</td>\n",
       "      <td>None</td>\n",
       "      <td>None</td>\n",
       "      <td>None</td>\n",
       "      <td>None</td>\n",
       "      <td>None</td>\n",
       "      <td>None</td>\n",
       "      <td>NaN</td>\n",
       "      <td>None</td>\n",
       "      <td>11.25</td>\n",
       "      <td>15.50</td>\n",
       "      <td>6.13</td>\n",
       "      <td>16.88</td>\n",
       "      <td>15.00</td>\n",
       "      <td>NaN</td>\n",
       "      <td>None</td>\n",
       "      <td>None</td>\n",
       "      <td>NaN</td>\n",
       "      <td>None</td>\n",
       "      <td>None</td>\n",
       "      <td>None</td>\n",
       "      <td>None</td>\n",
       "      <td>NaN</td>\n",
       "      <td>None</td>\n",
       "      <td>None</td>\n",
       "      <td>Fishmarket  Colossl Catfish Filets FZ</td>\n",
       "      <td>None</td>\n",
       "    </tr>\n",
       "    <tr>\n",
       "      <th>1391</th>\n",
       "      <td>688228568</td>\n",
       "      <td>90044500011046</td>\n",
       "      <td>ITL DRY SLMI</td>\n",
       "      <td>None</td>\n",
       "      <td>None</td>\n",
       "      <td>None</td>\n",
       "      <td>None</td>\n",
       "      <td>None</td>\n",
       "      <td>None</td>\n",
       "      <td>None</td>\n",
       "      <td>None</td>\n",
       "      <td>None</td>\n",
       "      <td>None</td>\n",
       "      <td>None</td>\n",
       "      <td>192.0</td>\n",
       "      <td>OUNCES</td>\n",
       "      <td>5.56</td>\n",
       "      <td>19.44</td>\n",
       "      <td>5.69</td>\n",
       "      <td>12.52</td>\n",
       "      <td>12.00</td>\n",
       "      <td>30.0</td>\n",
       "      <td>REFRIGERATED_MEAT_SEAFOOD_DELI</td>\n",
       "      <td>REFRIGERATED MEAT, SEAFOOD, DELI</td>\n",
       "      <td>77.0</td>\n",
       "      <td>NUTRITIONAL</td>\n",
       "      <td>NUTRITIONAL PANEL</td>\n",
       "      <td>None</td>\n",
       "      <td>None</td>\n",
       "      <td>NaN</td>\n",
       "      <td>N</td>\n",
       "      <td>NO</td>\n",
       "      <td>Gallo® Pork, Italian Dry Salame, Stick, 4/3 Lb...</td>\n",
       "      <td>None</td>\n",
       "    </tr>\n",
       "    <tr>\n",
       "      <th>5105</th>\n",
       "      <td>688217765</td>\n",
       "      <td>40076371034027</td>\n",
       "      <td>Tofu Cutlet Made With Organic Tofu Spicy Garli...</td>\n",
       "      <td>Tofu Cutlet Spicy Garlic</td>\n",
       "      <td>House Foods Marinated Tofu Cutlet Teriyaki</td>\n",
       "      <td>None</td>\n",
       "      <td>None</td>\n",
       "      <td>None</td>\n",
       "      <td>None</td>\n",
       "      <td>None</td>\n",
       "      <td>None</td>\n",
       "      <td>None</td>\n",
       "      <td>None</td>\n",
       "      <td>None</td>\n",
       "      <td>36.0</td>\n",
       "      <td>OUNCES</td>\n",
       "      <td>4.40</td>\n",
       "      <td>7.00</td>\n",
       "      <td>5.30</td>\n",
       "      <td>3.50</td>\n",
       "      <td>2.25</td>\n",
       "      <td>60.0</td>\n",
       "      <td>REFRIGERATED</td>\n",
       "      <td>REFRIGERATED GROCERY</td>\n",
       "      <td>80.0</td>\n",
       "      <td>NUTRITIONAL</td>\n",
       "      <td>NUTRITIONAL PANEL</td>\n",
       "      <td>None</td>\n",
       "      <td>None</td>\n",
       "      <td>NaN</td>\n",
       "      <td>None</td>\n",
       "      <td>None</td>\n",
       "      <td>Tofu Cutlet Made With Organic Tofu Spicy Garli...</td>\n",
       "      <td>None</td>\n",
       "    </tr>\n",
       "    <tr>\n",
       "      <th>9485</th>\n",
       "      <td>688227062</td>\n",
       "      <td>10724923453008</td>\n",
       "      <td>12 4.5 oz. Melting Romano CheeseCrisps</td>\n",
       "      <td>None</td>\n",
       "      <td>None</td>\n",
       "      <td>None</td>\n",
       "      <td>None</td>\n",
       "      <td>None</td>\n",
       "      <td>None</td>\n",
       "      <td>None</td>\n",
       "      <td>None</td>\n",
       "      <td>None</td>\n",
       "      <td>None</td>\n",
       "      <td>None</td>\n",
       "      <td>NaN</td>\n",
       "      <td>None</td>\n",
       "      <td>8.00</td>\n",
       "      <td>14.00</td>\n",
       "      <td>8.00</td>\n",
       "      <td>5.13</td>\n",
       "      <td>3.38</td>\n",
       "      <td>NaN</td>\n",
       "      <td>None</td>\n",
       "      <td>None</td>\n",
       "      <td>NaN</td>\n",
       "      <td>None</td>\n",
       "      <td>None</td>\n",
       "      <td>None</td>\n",
       "      <td>None</td>\n",
       "      <td>NaN</td>\n",
       "      <td>None</td>\n",
       "      <td>None</td>\n",
       "      <td>4.5 oz. Melting Romano CheeseCrisps (case of 12)</td>\n",
       "      <td>None</td>\n",
       "    </tr>\n",
       "    <tr>\n",
       "      <th>...</th>\n",
       "      <td>...</td>\n",
       "      <td>...</td>\n",
       "      <td>...</td>\n",
       "      <td>...</td>\n",
       "      <td>...</td>\n",
       "      <td>...</td>\n",
       "      <td>...</td>\n",
       "      <td>...</td>\n",
       "      <td>...</td>\n",
       "      <td>...</td>\n",
       "      <td>...</td>\n",
       "      <td>...</td>\n",
       "      <td>...</td>\n",
       "      <td>...</td>\n",
       "      <td>...</td>\n",
       "      <td>...</td>\n",
       "      <td>...</td>\n",
       "      <td>...</td>\n",
       "      <td>...</td>\n",
       "      <td>...</td>\n",
       "      <td>...</td>\n",
       "      <td>...</td>\n",
       "      <td>...</td>\n",
       "      <td>...</td>\n",
       "      <td>...</td>\n",
       "      <td>...</td>\n",
       "      <td>...</td>\n",
       "      <td>...</td>\n",
       "      <td>...</td>\n",
       "      <td>...</td>\n",
       "      <td>...</td>\n",
       "      <td>...</td>\n",
       "      <td>...</td>\n",
       "      <td>...</td>\n",
       "    </tr>\n",
       "    <tr>\n",
       "      <th>4875250</th>\n",
       "      <td>693079162</td>\n",
       "      <td>29986649904</td>\n",
       "      <td>None</td>\n",
       "      <td>None</td>\n",
       "      <td>None</td>\n",
       "      <td>None</td>\n",
       "      <td>None</td>\n",
       "      <td>None</td>\n",
       "      <td>None</td>\n",
       "      <td>None</td>\n",
       "      <td>None</td>\n",
       "      <td>None</td>\n",
       "      <td>None</td>\n",
       "      <td>None</td>\n",
       "      <td>NaN</td>\n",
       "      <td>None</td>\n",
       "      <td>5.94</td>\n",
       "      <td>32.94</td>\n",
       "      <td>15.81</td>\n",
       "      <td>NaN</td>\n",
       "      <td>NaN</td>\n",
       "      <td>NaN</td>\n",
       "      <td>None</td>\n",
       "      <td>None</td>\n",
       "      <td>NaN</td>\n",
       "      <td>None</td>\n",
       "      <td>None</td>\n",
       "      <td>None</td>\n",
       "      <td>None</td>\n",
       "      <td>NaN</td>\n",
       "      <td>N</td>\n",
       "      <td>NO</td>\n",
       "      <td>RealRooms Basin 2 Door Wall Storage Cabinet wi...</td>\n",
       "      <td>RealRooms Basin 2 Door Wall Storage Cabinet wi...</td>\n",
       "    </tr>\n",
       "    <tr>\n",
       "      <th>4875251</th>\n",
       "      <td>693079176</td>\n",
       "      <td>29986649928</td>\n",
       "      <td>None</td>\n",
       "      <td>None</td>\n",
       "      <td>None</td>\n",
       "      <td>None</td>\n",
       "      <td>None</td>\n",
       "      <td>None</td>\n",
       "      <td>None</td>\n",
       "      <td>None</td>\n",
       "      <td>None</td>\n",
       "      <td>None</td>\n",
       "      <td>None</td>\n",
       "      <td>None</td>\n",
       "      <td>NaN</td>\n",
       "      <td>None</td>\n",
       "      <td>5.94</td>\n",
       "      <td>32.94</td>\n",
       "      <td>15.81</td>\n",
       "      <td>NaN</td>\n",
       "      <td>NaN</td>\n",
       "      <td>NaN</td>\n",
       "      <td>None</td>\n",
       "      <td>None</td>\n",
       "      <td>NaN</td>\n",
       "      <td>None</td>\n",
       "      <td>None</td>\n",
       "      <td>None</td>\n",
       "      <td>None</td>\n",
       "      <td>NaN</td>\n",
       "      <td>N</td>\n",
       "      <td>NO</td>\n",
       "      <td>RealRooms Basin 2 Door Wall Storage Cabinet wi...</td>\n",
       "      <td>RealRooms Basin 2 Door Wall Storage Cabinet wi...</td>\n",
       "    </tr>\n",
       "    <tr>\n",
       "      <th>4875287</th>\n",
       "      <td>693079321</td>\n",
       "      <td>29986405654</td>\n",
       "      <td>None</td>\n",
       "      <td>None</td>\n",
       "      <td>None</td>\n",
       "      <td>None</td>\n",
       "      <td>None</td>\n",
       "      <td>None</td>\n",
       "      <td>None</td>\n",
       "      <td>None</td>\n",
       "      <td>None</td>\n",
       "      <td>None</td>\n",
       "      <td>None</td>\n",
       "      <td>None</td>\n",
       "      <td>NaN</td>\n",
       "      <td>None</td>\n",
       "      <td>5.94</td>\n",
       "      <td>59.12</td>\n",
       "      <td>19.06</td>\n",
       "      <td>NaN</td>\n",
       "      <td>NaN</td>\n",
       "      <td>NaN</td>\n",
       "      <td>None</td>\n",
       "      <td>None</td>\n",
       "      <td>NaN</td>\n",
       "      <td>None</td>\n",
       "      <td>None</td>\n",
       "      <td>None</td>\n",
       "      <td>None</td>\n",
       "      <td>NaN</td>\n",
       "      <td>N</td>\n",
       "      <td>NO</td>\n",
       "      <td>RealRooms Basin 3 Door Wall Storage Cabinet wi...</td>\n",
       "      <td>RealRooms Basin 3 Door Wall Storage Cabinet wi...</td>\n",
       "    </tr>\n",
       "    <tr>\n",
       "      <th>4876107</th>\n",
       "      <td>693079158</td>\n",
       "      <td>29986484703</td>\n",
       "      <td>None</td>\n",
       "      <td>None</td>\n",
       "      <td>None</td>\n",
       "      <td>None</td>\n",
       "      <td>None</td>\n",
       "      <td>None</td>\n",
       "      <td>None</td>\n",
       "      <td>None</td>\n",
       "      <td>None</td>\n",
       "      <td>None</td>\n",
       "      <td>None</td>\n",
       "      <td>None</td>\n",
       "      <td>NaN</td>\n",
       "      <td>None</td>\n",
       "      <td>3.69</td>\n",
       "      <td>75.88</td>\n",
       "      <td>19.50</td>\n",
       "      <td>NaN</td>\n",
       "      <td>NaN</td>\n",
       "      <td>NaN</td>\n",
       "      <td>None</td>\n",
       "      <td>None</td>\n",
       "      <td>NaN</td>\n",
       "      <td>None</td>\n",
       "      <td>None</td>\n",
       "      <td>None</td>\n",
       "      <td>None</td>\n",
       "      <td>NaN</td>\n",
       "      <td>N</td>\n",
       "      <td>NO</td>\n",
       "      <td>RealRooms Basin Framed 16 Inch Utility Cabinet...</td>\n",
       "      <td>RealRooms Basin Framed 16 Inch Utility Cabinet...</td>\n",
       "    </tr>\n",
       "    <tr>\n",
       "      <th>4877498</th>\n",
       "      <td>693079156</td>\n",
       "      <td>29986127501</td>\n",
       "      <td>None</td>\n",
       "      <td>None</td>\n",
       "      <td>None</td>\n",
       "      <td>None</td>\n",
       "      <td>None</td>\n",
       "      <td>None</td>\n",
       "      <td>None</td>\n",
       "      <td>None</td>\n",
       "      <td>None</td>\n",
       "      <td>None</td>\n",
       "      <td>None</td>\n",
       "      <td>None</td>\n",
       "      <td>NaN</td>\n",
       "      <td>None</td>\n",
       "      <td>5.94</td>\n",
       "      <td>59.12</td>\n",
       "      <td>19.63</td>\n",
       "      <td>NaN</td>\n",
       "      <td>NaN</td>\n",
       "      <td>NaN</td>\n",
       "      <td>None</td>\n",
       "      <td>None</td>\n",
       "      <td>NaN</td>\n",
       "      <td>None</td>\n",
       "      <td>None</td>\n",
       "      <td>None</td>\n",
       "      <td>None</td>\n",
       "      <td>NaN</td>\n",
       "      <td>N</td>\n",
       "      <td>NO</td>\n",
       "      <td>Camberly 3 Door Wall Cabinet with Hanging Rod,...</td>\n",
       "      <td>Camberly 3 Door Wall Cabinet with Hanging Rod,...</td>\n",
       "    </tr>\n",
       "  </tbody>\n",
       "</table>\n",
       "<p>3199 rows × 34 columns</p>\n",
       "</div>"
      ]
     },
     "metadata": {
      "application/vnd.databricks.v1+output": {
       "addedWidgets": {},
       "arguments": {},
       "data": "<div>\n<style scoped>\n    .dataframe tbody tr th:only-of-type {\n        vertical-align: middle;\n    }\n\n    .dataframe tbody tr th {\n        vertical-align: top;\n    }\n\n    .dataframe thead th {\n        text-align: right;\n    }\n</style>\n<table border=\"1\" class=\"dataframe\">\n  <thead>\n    <tr style=\"text-align: right;\">\n      <th></th>\n      <th>ITM_ID</th>\n      <th>GTIN</th>\n      <th>GTIN_NAM</th>\n      <th>CON_UNT_ITM_DSC</th>\n      <th>DSP_UNT_ITM_DSC</th>\n      <th>PMY_DPT_DSC</th>\n      <th>REC_DPT_DSC</th>\n      <th>DPT_DSC</th>\n      <th>COM_DSC</th>\n      <th>SUBCOM_DSC</th>\n      <th>TAG_DSC</th>\n      <th>RCT_DSC</th>\n      <th>ITM_LVL_DSC</th>\n      <th>GRP_LVL_DSC</th>\n      <th>NET_CONT_EQV_QY_VIP_TO_KRG_QY</th>\n      <th>NET_CONT_EQV_UOM_VIP_TO_KRG_UOM</th>\n      <th>GTIN_HGT_OVD</th>\n      <th>GTIN_LTH_OVD</th>\n      <th>GTIN_WTH_OVD</th>\n      <th>GRS_WGT_OVD</th>\n      <th>GTIN_NET_WGT_OVD</th>\n      <th>MIN_DAYS_OF_SHF_LIF_AT_WHS_DAYS</th>\n      <th>TPT_CLS_CD</th>\n      <th>TPT_CLS_VLU</th>\n      <th>MAX_DAYS_OF_SHF_LIF_AT_WHS_DTB_CET_DAYS</th>\n      <th>TYP_OF_LBL_CD</th>\n      <th>TYP_OF_LBL_VLU</th>\n      <th>SIZ_CD</th>\n      <th>SIZ_CD_VLU</th>\n      <th>SIZ_QY</th>\n      <th>IS_EDBL_CD</th>\n      <th>IS_EDBL_VLU</th>\n      <th>VND_ECOM_DSC</th>\n      <th>KRG_OWN_ECOM_DSC</th>\n    </tr>\n  </thead>\n  <tbody>\n    <tr>\n      <th>857</th>\n      <td>688216752</td>\n      <td>40076371034003</td>\n      <td>Tofu Cutlet Made With Organic Tofu Teriyaki 6/...</td>\n      <td>Marinated Tofu Cutlet Teriyaki</td>\n      <td>House Foods Marinated Tofu Cutlet Teriyaki 6oz</td>\n      <td>None</td>\n      <td>None</td>\n      <td>None</td>\n      <td>None</td>\n      <td>None</td>\n      <td>None</td>\n      <td>None</td>\n      <td>None</td>\n      <td>None</td>\n      <td>36.0</td>\n      <td>OUNCES</td>\n      <td>4.40</td>\n      <td>7.00</td>\n      <td>5.30</td>\n      <td>3.50</td>\n      <td>2.25</td>\n      <td>60.0</td>\n      <td>REFRIGERATED</td>\n      <td>REFRIGERATED GROCERY</td>\n      <td>80.0</td>\n      <td>NUTRITIONAL</td>\n      <td>NUTRITIONAL PANEL</td>\n      <td>None</td>\n      <td>None</td>\n      <td>NaN</td>\n      <td>None</td>\n      <td>None</td>\n      <td>Tofu Cutlet Made With Organic Tofu Teriyaki 6/6oz</td>\n      <td>None</td>\n    </tr>\n    <tr>\n      <th>1370</th>\n      <td>688215966</td>\n      <td>10035957005959</td>\n      <td>Fishmarket  Colossl Catfish Filets FZ</td>\n      <td>None</td>\n      <td>None</td>\n      <td>None</td>\n      <td>None</td>\n      <td>None</td>\n      <td>None</td>\n      <td>None</td>\n      <td>None</td>\n      <td>None</td>\n      <td>None</td>\n      <td>None</td>\n      <td>NaN</td>\n      <td>None</td>\n      <td>11.25</td>\n      <td>15.50</td>\n      <td>6.13</td>\n      <td>16.88</td>\n      <td>15.00</td>\n      <td>NaN</td>\n      <td>None</td>\n      <td>None</td>\n      <td>NaN</td>\n      <td>None</td>\n      <td>None</td>\n      <td>None</td>\n      <td>None</td>\n      <td>NaN</td>\n      <td>None</td>\n      <td>None</td>\n      <td>Fishmarket  Colossl Catfish Filets FZ</td>\n      <td>None</td>\n    </tr>\n    <tr>\n      <th>1391</th>\n      <td>688228568</td>\n      <td>90044500011046</td>\n      <td>ITL DRY SLMI</td>\n      <td>None</td>\n      <td>None</td>\n      <td>None</td>\n      <td>None</td>\n      <td>None</td>\n      <td>None</td>\n      <td>None</td>\n      <td>None</td>\n      <td>None</td>\n      <td>None</td>\n      <td>None</td>\n      <td>192.0</td>\n      <td>OUNCES</td>\n      <td>5.56</td>\n      <td>19.44</td>\n      <td>5.69</td>\n      <td>12.52</td>\n      <td>12.00</td>\n      <td>30.0</td>\n      <td>REFRIGERATED_MEAT_SEAFOOD_DELI</td>\n      <td>REFRIGERATED MEAT, SEAFOOD, DELI</td>\n      <td>77.0</td>\n      <td>NUTRITIONAL</td>\n      <td>NUTRITIONAL PANEL</td>\n      <td>None</td>\n      <td>None</td>\n      <td>NaN</td>\n      <td>N</td>\n      <td>NO</td>\n      <td>Gallo® Pork, Italian Dry Salame, Stick, 4/3 Lb...</td>\n      <td>None</td>\n    </tr>\n    <tr>\n      <th>5105</th>\n      <td>688217765</td>\n      <td>40076371034027</td>\n      <td>Tofu Cutlet Made With Organic Tofu Spicy Garli...</td>\n      <td>Tofu Cutlet Spicy Garlic</td>\n      <td>House Foods Marinated Tofu Cutlet Teriyaki</td>\n      <td>None</td>\n      <td>None</td>\n      <td>None</td>\n      <td>None</td>\n      <td>None</td>\n      <td>None</td>\n      <td>None</td>\n      <td>None</td>\n      <td>None</td>\n      <td>36.0</td>\n      <td>OUNCES</td>\n      <td>4.40</td>\n      <td>7.00</td>\n      <td>5.30</td>\n      <td>3.50</td>\n      <td>2.25</td>\n      <td>60.0</td>\n      <td>REFRIGERATED</td>\n      <td>REFRIGERATED GROCERY</td>\n      <td>80.0</td>\n      <td>NUTRITIONAL</td>\n      <td>NUTRITIONAL PANEL</td>\n      <td>None</td>\n      <td>None</td>\n      <td>NaN</td>\n      <td>None</td>\n      <td>None</td>\n      <td>Tofu Cutlet Made With Organic Tofu Spicy Garli...</td>\n      <td>None</td>\n    </tr>\n    <tr>\n      <th>9485</th>\n      <td>688227062</td>\n      <td>10724923453008</td>\n      <td>12 4.5 oz. Melting Romano CheeseCrisps</td>\n      <td>None</td>\n      <td>None</td>\n      <td>None</td>\n      <td>None</td>\n      <td>None</td>\n      <td>None</td>\n      <td>None</td>\n      <td>None</td>\n      <td>None</td>\n      <td>None</td>\n      <td>None</td>\n      <td>NaN</td>\n      <td>None</td>\n      <td>8.00</td>\n      <td>14.00</td>\n      <td>8.00</td>\n      <td>5.13</td>\n      <td>3.38</td>\n      <td>NaN</td>\n      <td>None</td>\n      <td>None</td>\n      <td>NaN</td>\n      <td>None</td>\n      <td>None</td>\n      <td>None</td>\n      <td>None</td>\n      <td>NaN</td>\n      <td>None</td>\n      <td>None</td>\n      <td>4.5 oz. Melting Romano CheeseCrisps (case of 12)</td>\n      <td>None</td>\n    </tr>\n    <tr>\n      <th>...</th>\n      <td>...</td>\n      <td>...</td>\n      <td>...</td>\n      <td>...</td>\n      <td>...</td>\n      <td>...</td>\n      <td>...</td>\n      <td>...</td>\n      <td>...</td>\n      <td>...</td>\n      <td>...</td>\n      <td>...</td>\n      <td>...</td>\n      <td>...</td>\n      <td>...</td>\n      <td>...</td>\n      <td>...</td>\n      <td>...</td>\n      <td>...</td>\n      <td>...</td>\n      <td>...</td>\n      <td>...</td>\n      <td>...</td>\n      <td>...</td>\n      <td>...</td>\n      <td>...</td>\n      <td>...</td>\n      <td>...</td>\n      <td>...</td>\n      <td>...</td>\n      <td>...</td>\n      <td>...</td>\n      <td>...</td>\n      <td>...</td>\n    </tr>\n    <tr>\n      <th>4875250</th>\n      <td>693079162</td>\n      <td>29986649904</td>\n      <td>None</td>\n      <td>None</td>\n      <td>None</td>\n      <td>None</td>\n      <td>None</td>\n      <td>None</td>\n      <td>None</td>\n      <td>None</td>\n      <td>None</td>\n      <td>None</td>\n      <td>None</td>\n      <td>None</td>\n      <td>NaN</td>\n      <td>None</td>\n      <td>5.94</td>\n      <td>32.94</td>\n      <td>15.81</td>\n      <td>NaN</td>\n      <td>NaN</td>\n      <td>NaN</td>\n      <td>None</td>\n      <td>None</td>\n      <td>NaN</td>\n      <td>None</td>\n      <td>None</td>\n      <td>None</td>\n      <td>None</td>\n      <td>NaN</td>\n      <td>N</td>\n      <td>NO</td>\n      <td>RealRooms Basin 2 Door Wall Storage Cabinet wi...</td>\n      <td>RealRooms Basin 2 Door Wall Storage Cabinet wi...</td>\n    </tr>\n    <tr>\n      <th>4875251</th>\n      <td>693079176</td>\n      <td>29986649928</td>\n      <td>None</td>\n      <td>None</td>\n      <td>None</td>\n      <td>None</td>\n      <td>None</td>\n      <td>None</td>\n      <td>None</td>\n      <td>None</td>\n      <td>None</td>\n      <td>None</td>\n      <td>None</td>\n      <td>None</td>\n      <td>NaN</td>\n      <td>None</td>\n      <td>5.94</td>\n      <td>32.94</td>\n      <td>15.81</td>\n      <td>NaN</td>\n      <td>NaN</td>\n      <td>NaN</td>\n      <td>None</td>\n      <td>None</td>\n      <td>NaN</td>\n      <td>None</td>\n      <td>None</td>\n      <td>None</td>\n      <td>None</td>\n      <td>NaN</td>\n      <td>N</td>\n      <td>NO</td>\n      <td>RealRooms Basin 2 Door Wall Storage Cabinet wi...</td>\n      <td>RealRooms Basin 2 Door Wall Storage Cabinet wi...</td>\n    </tr>\n    <tr>\n      <th>4875287</th>\n      <td>693079321</td>\n      <td>29986405654</td>\n      <td>None</td>\n      <td>None</td>\n      <td>None</td>\n      <td>None</td>\n      <td>None</td>\n      <td>None</td>\n      <td>None</td>\n      <td>None</td>\n      <td>None</td>\n      <td>None</td>\n      <td>None</td>\n      <td>None</td>\n      <td>NaN</td>\n      <td>None</td>\n      <td>5.94</td>\n      <td>59.12</td>\n      <td>19.06</td>\n      <td>NaN</td>\n      <td>NaN</td>\n      <td>NaN</td>\n      <td>None</td>\n      <td>None</td>\n      <td>NaN</td>\n      <td>None</td>\n      <td>None</td>\n      <td>None</td>\n      <td>None</td>\n      <td>NaN</td>\n      <td>N</td>\n      <td>NO</td>\n      <td>RealRooms Basin 3 Door Wall Storage Cabinet wi...</td>\n      <td>RealRooms Basin 3 Door Wall Storage Cabinet wi...</td>\n    </tr>\n    <tr>\n      <th>4876107</th>\n      <td>693079158</td>\n      <td>29986484703</td>\n      <td>None</td>\n      <td>None</td>\n      <td>None</td>\n      <td>None</td>\n      <td>None</td>\n      <td>None</td>\n      <td>None</td>\n      <td>None</td>\n      <td>None</td>\n      <td>None</td>\n      <td>None</td>\n      <td>None</td>\n      <td>NaN</td>\n      <td>None</td>\n      <td>3.69</td>\n      <td>75.88</td>\n      <td>19.50</td>\n      <td>NaN</td>\n      <td>NaN</td>\n      <td>NaN</td>\n      <td>None</td>\n      <td>None</td>\n      <td>NaN</td>\n      <td>None</td>\n      <td>None</td>\n      <td>None</td>\n      <td>None</td>\n      <td>NaN</td>\n      <td>N</td>\n      <td>NO</td>\n      <td>RealRooms Basin Framed 16 Inch Utility Cabinet...</td>\n      <td>RealRooms Basin Framed 16 Inch Utility Cabinet...</td>\n    </tr>\n    <tr>\n      <th>4877498</th>\n      <td>693079156</td>\n      <td>29986127501</td>\n      <td>None</td>\n      <td>None</td>\n      <td>None</td>\n      <td>None</td>\n      <td>None</td>\n      <td>None</td>\n      <td>None</td>\n      <td>None</td>\n      <td>None</td>\n      <td>None</td>\n      <td>None</td>\n      <td>None</td>\n      <td>NaN</td>\n      <td>None</td>\n      <td>5.94</td>\n      <td>59.12</td>\n      <td>19.63</td>\n      <td>NaN</td>\n      <td>NaN</td>\n      <td>NaN</td>\n      <td>None</td>\n      <td>None</td>\n      <td>NaN</td>\n      <td>None</td>\n      <td>None</td>\n      <td>None</td>\n      <td>None</td>\n      <td>NaN</td>\n      <td>N</td>\n      <td>NO</td>\n      <td>Camberly 3 Door Wall Cabinet with Hanging Rod,...</td>\n      <td>Camberly 3 Door Wall Cabinet with Hanging Rod,...</td>\n    </tr>\n  </tbody>\n</table>\n<p>3199 rows × 34 columns</p>\n</div>",
       "datasetInfos": [],
       "metadata": {},
       "removedWidgets": [],
       "textData": null,
       "type": "htmlSandbox"
      }
     },
     "output_type": "display_data"
    }
   ],
   "source": [
    "pimmart[pimmart.PMY_DPT_DSC.isnull()]"
   ]
  },
  {
   "cell_type": "code",
   "execution_count": 0,
   "metadata": {
    "application/vnd.databricks.v1+cell": {
     "cellMetadata": {
      "byteLimit": 2048000,
      "rowLimit": 10000
     },
     "inputWidgets": {},
     "nuid": "502f1738-768f-4af7-bca8-9b6823222e05",
     "showTitle": false,
     "title": ""
    }
   },
   "outputs": [
    {
     "data": {
      "text/html": [
       "<style scoped>\n",
       "  .ansiout {\n",
       "    display: block;\n",
       "    unicode-bidi: embed;\n",
       "    white-space: pre-wrap;\n",
       "    word-wrap: break-word;\n",
       "    word-break: break-all;\n",
       "    font-family: \"Source Code Pro\", \"Menlo\", monospace;;\n",
       "    font-size: 13px;\n",
       "    color: #555;\n",
       "    margin-left: 4px;\n",
       "    line-height: 19px;\n",
       "  }\n",
       "</style>\n",
       "<div class=\"ansiout\">Out[42]: Food / Beverages                            50792\n",
       "Health &amp; Beauty                             19910\n",
       "Beer / Wine / Spirits                       11142\n",
       "Cleaning &amp; Janitorial                        2855\n",
       "Livestock &amp; Pet Supplies                     2251\n",
       "Kitchen &amp; Bathroom                           1314\n",
       "Home &amp; Venue Decoration                       759\n",
       "Gardening &amp; Outdoors                          632\n",
       "Toys / Games / Hobbies                        607\n",
       "Childcare                                     503\n",
       "Office Supplies                               501\n",
       "Electronics                                   390\n",
       "Tobacco Products                              390\n",
       "Automotive                                    333\n",
       "Hardware                                      298\n",
       "Arts &amp; Crafts                                 208\n",
       "Appliances                                    169\n",
       "Apparel                                       165\n",
       "Sports &amp; Outdoor Recreation Equipment         142\n",
       "Lighting &amp; Fans                               121\n",
       "Hospitality Supplies                           93\n",
       "Heating / Ventilation / Air Conditioning       87\n",
       "Plumbing &amp; Water Service                       72\n",
       "Tools                                          61\n",
       "Electrical                                     36\n",
       "Paints &amp; Coatings                              27\n",
       "Power Sports                                   16\n",
       "Books &amp; Videos                                  9\n",
       "Furniture                                       6\n",
       "Building Supplies                               4\n",
       "Material Handling                               4\n",
       "Marine                                          3\n",
       "Name: Level 1, dtype: int64</div>"
      ]
     },
     "metadata": {
      "application/vnd.databricks.v1+output": {
       "addedWidgets": {},
       "arguments": {},
       "data": "<div class=\"ansiout\">Out[42]: Food / Beverages                            50792\nHealth &amp; Beauty                             19910\nBeer / Wine / Spirits                       11142\nCleaning &amp; Janitorial                        2855\nLivestock &amp; Pet Supplies                     2251\nKitchen &amp; Bathroom                           1314\nHome &amp; Venue Decoration                       759\nGardening &amp; Outdoors                          632\nToys / Games / Hobbies                        607\nChildcare                                     503\nOffice Supplies                               501\nElectronics                                   390\nTobacco Products                              390\nAutomotive                                    333\nHardware                                      298\nArts &amp; Crafts                                 208\nAppliances                                    169\nApparel                                       165\nSports &amp; Outdoor Recreation Equipment         142\nLighting &amp; Fans                               121\nHospitality Supplies                           93\nHeating / Ventilation / Air Conditioning       87\nPlumbing &amp; Water Service                       72\nTools                                          61\nElectrical                                     36\nPaints &amp; Coatings                              27\nPower Sports                                   16\nBooks &amp; Videos                                  9\nFurniture                                       6\nBuilding Supplies                               4\nMaterial Handling                               4\nMarine                                          3\nName: Level 1, dtype: int64</div>",
       "datasetInfos": [],
       "metadata": {},
       "removedWidgets": [],
       "type": "html"
      }
     },
     "output_type": "display_data"
    }
   ],
   "source": [
    "syndigo_mapped['Level 1'].value_counts()"
   ]
  },
  {
   "cell_type": "code",
   "execution_count": 0,
   "metadata": {
    "application/vnd.databricks.v1+cell": {
     "cellMetadata": {
      "byteLimit": 2048000,
      "rowLimit": 10000
     },
     "inputWidgets": {},
     "nuid": "eaf44d64-c625-49c5-b906-12300971f04f",
     "showTitle": false,
     "title": ""
    }
   },
   "outputs": [
    {
     "data": {
      "text/html": [
       "<style scoped>\n",
       "  .ansiout {\n",
       "    display: block;\n",
       "    unicode-bidi: embed;\n",
       "    white-space: pre-wrap;\n",
       "    word-wrap: break-word;\n",
       "    word-break: break-all;\n",
       "    font-family: \"Source Code Pro\", \"Menlo\", monospace;;\n",
       "    font-size: 13px;\n",
       "    color: #555;\n",
       "    margin-left: 4px;\n",
       "    line-height: 19px;\n",
       "  }\n",
       "</style>\n",
       "<div class=\"ansiout\">Out[25]: Grocery                                                     28371\n",
       "Beverages                                                    7900\n",
       "Frozen Foods                                                 5742\n",
       "Dairy &amp; Egg Products                                         3567\n",
       "Bakery / Deli                                                2204\n",
       "Meat / Poultry / Seafood / Meat Substitutes (Perishable)     1633\n",
       "Produce                                                       664\n",
       "Baby &amp; Toddler Food                                           592\n",
       "Meal Kits (Perishable)                                        119\n",
       "Name: Level 2, dtype: int64</div>"
      ]
     },
     "metadata": {
      "application/vnd.databricks.v1+output": {
       "addedWidgets": {},
       "arguments": {},
       "data": "<div class=\"ansiout\">Out[25]: Grocery                                                     28371\nBeverages                                                    7900\nFrozen Foods                                                 5742\nDairy &amp; Egg Products                                         3567\nBakery / Deli                                                2204\nMeat / Poultry / Seafood / Meat Substitutes (Perishable)     1633\nProduce                                                       664\nBaby &amp; Toddler Food                                           592\nMeal Kits (Perishable)                                        119\nName: Level 2, dtype: int64</div>",
       "datasetInfos": [],
       "metadata": {},
       "removedWidgets": [],
       "type": "html"
      }
     },
     "output_type": "display_data"
    }
   ],
   "source": [
    "syndigo_mapped[syndigo_mapped['Level 1'] == 'Food / Beverages']['Level 2'].value_counts()"
   ]
  },
  {
   "cell_type": "code",
   "execution_count": 0,
   "metadata": {
    "application/vnd.databricks.v1+cell": {
     "cellMetadata": {
      "byteLimit": 2048000,
      "rowLimit": 10000
     },
     "inputWidgets": {},
     "nuid": "25925ec1-7818-470d-a5b3-b56fa29a9ea7",
     "showTitle": false,
     "title": ""
    }
   },
   "outputs": [
    {
     "data": {
      "text/html": [
       "<style scoped>\n",
       "  .ansiout {\n",
       "    display: block;\n",
       "    unicode-bidi: embed;\n",
       "    white-space: pre-wrap;\n",
       "    word-wrap: break-word;\n",
       "    word-break: break-all;\n",
       "    font-family: \"Source Code Pro\", \"Menlo\", monospace;;\n",
       "    font-size: 13px;\n",
       "    color: #555;\n",
       "    margin-left: 4px;\n",
       "    line-height: 19px;\n",
       "  }\n",
       "</style>\n",
       "<div class=\"ansiout\">Out[26]: 0.011911777085613267</div>"
      ]
     },
     "metadata": {
      "application/vnd.databricks.v1+output": {
       "addedWidgets": {},
       "arguments": {},
       "data": "<div class=\"ansiout\">Out[26]: 0.011911777085613267</div>",
       "datasetInfos": [],
       "metadata": {},
       "removedWidgets": [],
       "type": "html"
      }
     },
     "output_type": "display_data"
    }
   ],
   "source": [
    "syndigo_mapped['Level 1'].isnull().sum()/len(syndigo_mapped)"
   ]
  },
  {
   "cell_type": "code",
   "execution_count": 0,
   "metadata": {
    "application/vnd.databricks.v1+cell": {
     "cellMetadata": {
      "byteLimit": 2048000,
      "rowLimit": 10000
     },
     "inputWidgets": {},
     "nuid": "1953e5f0-f0e7-4c12-9e42-93c31911dd98",
     "showTitle": false,
     "title": ""
    }
   },
   "outputs": [
    {
     "data": {
      "text/html": [
       "<style scoped>\n",
       "  .ansiout {\n",
       "    display: block;\n",
       "    unicode-bidi: embed;\n",
       "    white-space: pre-wrap;\n",
       "    word-wrap: break-word;\n",
       "    word-break: break-all;\n",
       "    font-family: \"Source Code Pro\", \"Menlo\", monospace;;\n",
       "    font-size: 13px;\n",
       "    color: #555;\n",
       "    margin-left: 4px;\n",
       "    line-height: 19px;\n",
       "  }\n",
       "</style>\n",
       "<div class=\"ansiout\">Out[27]: Level 2                            Level 3               \n",
       "Absorbents                         Mats &amp; Pads                 1\n",
       "Accessories                        Adapters                    2\n",
       "                                   Driving Aids               12\n",
       "                                   Exterior Protection         2\n",
       "                                   Interior Protection         1\n",
       "                                                            ... \n",
       "Writing Instruments &amp; Accessories  Correction Aids            20\n",
       "                                   Markers &amp; Highlighters     40\n",
       "                                   Pencil Sharpeners           7\n",
       "                                   Pens &amp; Pencils            149\n",
       "                                   Stencils                    1\n",
       "Length: 743, dtype: int64</div>"
      ]
     },
     "metadata": {
      "application/vnd.databricks.v1+output": {
       "addedWidgets": {},
       "arguments": {},
       "data": "<div class=\"ansiout\">Out[27]: Level 2                            Level 3               \nAbsorbents                         Mats &amp; Pads                 1\nAccessories                        Adapters                    2\n                                   Driving Aids               12\n                                   Exterior Protection         2\n                                   Interior Protection         1\n                                                            ... \nWriting Instruments &amp; Accessories  Correction Aids            20\n                                   Markers &amp; Highlighters     40\n                                   Pencil Sharpeners           7\n                                   Pens &amp; Pencils            149\n                                   Stencils                    1\nLength: 743, dtype: int64</div>",
       "datasetInfos": [],
       "metadata": {},
       "removedWidgets": [],
       "type": "html"
      }
     },
     "output_type": "display_data"
    }
   ],
   "source": [
    "syndigo_mapped.groupby(['Level 2', 'Level 3']).apply(len)"
   ]
  },
  {
   "cell_type": "markdown",
   "metadata": {
    "application/vnd.databricks.v1+cell": {
     "cellMetadata": {},
     "inputWidgets": {},
     "nuid": "2017f637-9f87-4fa7-8d2a-1e3b7d1f336a",
     "showTitle": false,
     "title": ""
    }
   },
   "source": [
    "### Level 1 Predictor"
   ]
  },
  {
   "cell_type": "code",
   "execution_count": 0,
   "metadata": {
    "application/vnd.databricks.v1+cell": {
     "cellMetadata": {
      "byteLimit": 2048000,
      "rowLimit": 10000
     },
     "inputWidgets": {},
     "nuid": "f3e8f0d4-7954-4ff7-a974-e634a28298a5",
     "showTitle": false,
     "title": ""
    }
   },
   "outputs": [
    {
     "data": {
      "text/html": [
       "<style scoped>\n",
       "  .ansiout {\n",
       "    display: block;\n",
       "    unicode-bidi: embed;\n",
       "    white-space: pre-wrap;\n",
       "    word-wrap: break-word;\n",
       "    word-break: break-all;\n",
       "    font-family: \"Source Code Pro\", \"Menlo\", monospace;;\n",
       "    font-size: 13px;\n",
       "    color: #555;\n",
       "    margin-left: 4px;\n",
       "    line-height: 19px;\n",
       "  }\n",
       "</style>\n",
       "<div class=\"ansiout\">Out[38]: REC_DPT_DSC\n",
       "BAKERY              1\n",
       "DELI                1\n",
       "DELI PACKAGED       2\n",
       "FLORAL              3\n",
       "FRESH FOOD DEST     1\n",
       "FRESH PRODUCE       1\n",
       "GM                 31\n",
       "GROCERY            18\n",
       "HBC                24\n",
       "LIQUOR              9\n",
       "MEAT                2\n",
       "NATURAL FOODS      15\n",
       "PACKAGE PRODUCE     4\n",
       "PHARMACY            7\n",
       "PKG MEAT            2\n",
       "PKG SEAFOOD         3\n",
       "SALAD SANDWICH      1\n",
       "SEAFOOD             1\n",
       "SPECIALTY CHS       1\n",
       "dtype: int64</div>"
      ]
     },
     "metadata": {
      "application/vnd.databricks.v1+output": {
       "addedWidgets": {},
       "arguments": {},
       "data": "<div class=\"ansiout\">Out[38]: REC_DPT_DSC\nBAKERY              1\nDELI                1\nDELI PACKAGED       2\nFLORAL              3\nFRESH FOOD DEST     1\nFRESH PRODUCE       1\nGM                 31\nGROCERY            18\nHBC                24\nLIQUOR              9\nMEAT                2\nNATURAL FOODS      15\nPACKAGE PRODUCE     4\nPHARMACY            7\nPKG MEAT            2\nPKG SEAFOOD         3\nSALAD SANDWICH      1\nSEAFOOD             1\nSPECIALTY CHS       1\ndtype: int64</div>",
       "datasetInfos": [],
       "metadata": {},
       "removedWidgets": [],
       "type": "html"
      }
     },
     "output_type": "display_data"
    }
   ],
   "source": [
    "syndigo_mapped.groupby('REC_DPT_DSC').apply(lambda x: x['Level 1'].nunique())"
   ]
  },
  {
   "cell_type": "code",
   "execution_count": 0,
   "metadata": {
    "application/vnd.databricks.v1+cell": {
     "cellMetadata": {
      "byteLimit": 2048000,
      "rowLimit": 10000
     },
     "inputWidgets": {},
     "nuid": "4b1041d6-b809-4bbe-ace7-d8444179e111",
     "showTitle": false,
     "title": ""
    }
   },
   "outputs": [
    {
     "data": {
      "text/html": [
       "<style scoped>\n",
       "  .ansiout {\n",
       "    display: block;\n",
       "    unicode-bidi: embed;\n",
       "    white-space: pre-wrap;\n",
       "    word-wrap: break-word;\n",
       "    word-break: break-all;\n",
       "    font-family: \"Source Code Pro\", \"Menlo\", monospace;;\n",
       "    font-size: 13px;\n",
       "    color: #555;\n",
       "    margin-left: 4px;\n",
       "    line-height: 19px;\n",
       "  }\n",
       "</style>\n",
       "<div class=\"ansiout\">Out[39]: DPT_DSC\n",
       "BABY                7\n",
       "BAKERY              1\n",
       "BEAUTY             18\n",
       "BEEF                1\n",
       "BEER                4\n",
       "CANDY               6\n",
       "CARDS               1\n",
       "CKY/CRKR/SNK        4\n",
       "COFFEE SHOP         1\n",
       "COMMERCIAL BKY      3\n",
       "DAIRY               2\n",
       "DELI BULK           1\n",
       "DOMESTICS           6\n",
       "FLORAL-INDOOR       2\n",
       "FLORAL-OUTDOOR      2\n",
       "FRESH FOOD DEST     1\n",
       "FRESH PROCESSED     1\n",
       "FRESH SEAFOOD       1\n",
       "FROZEN GROCERY      6\n",
       "FRUIT               1\n",
       "FURN/HOME DEC       4\n",
       "GARDEN-OUTDOOR      8\n",
       "GM-MISC             6\n",
       "GROC NON-EDIBLE     9\n",
       "GROC-ALL OTHER     14\n",
       "HBC NON-EDIBLE     12\n",
       "HEALTH             12\n",
       "HOME IMPRVMNT      24\n",
       "HOUSEWARES         27\n",
       "MENS WEAR           1\n",
       "MUSIC MKT           2\n",
       "NATURAL FOODS      11\n",
       "NF NON-EDIBLE       8\n",
       "PACKAGE PRODUCE     4\n",
       "PACKAGED DELI       2\n",
       "PERSONAL CARE       9\n",
       "PET                 7\n",
       "PKG MEAT            2\n",
       "PKG MEAT OTHER      1\n",
       "PKG SEAFOOD         3\n",
       "PKG SPECIALTY       1\n",
       "PORK                2\n",
       "POULTRY             1\n",
       "REFRIG GROCERY      2\n",
       "RX-OTC              7\n",
       "SCHOOL/OFFICE      18\n",
       "SEASONAL            8\n",
       "SLD SND CMS         1\n",
       "SOFT DRINKS         4\n",
       "SPECIALTY CHS       1\n",
       "SPECIALTY MEAT      1\n",
       "SPIRITS             7\n",
       "SPORTING GOODS     16\n",
       "STORAGE            11\n",
       "TOBACCO             2\n",
       "TOYS               14\n",
       "VEGETABLES          1\n",
       "VIDEO/ELEC/COMP     9\n",
       "WINE                8\n",
       "dtype: int64</div>"
      ]
     },
     "metadata": {
      "application/vnd.databricks.v1+output": {
       "addedWidgets": {},
       "arguments": {},
       "data": "<div class=\"ansiout\">Out[39]: DPT_DSC\nBABY                7\nBAKERY              1\nBEAUTY             18\nBEEF                1\nBEER                4\nCANDY               6\nCARDS               1\nCKY/CRKR/SNK        4\nCOFFEE SHOP         1\nCOMMERCIAL BKY      3\nDAIRY               2\nDELI BULK           1\nDOMESTICS           6\nFLORAL-INDOOR       2\nFLORAL-OUTDOOR      2\nFRESH FOOD DEST     1\nFRESH PROCESSED     1\nFRESH SEAFOOD       1\nFROZEN GROCERY      6\nFRUIT               1\nFURN/HOME DEC       4\nGARDEN-OUTDOOR      8\nGM-MISC             6\nGROC NON-EDIBLE     9\nGROC-ALL OTHER     14\nHBC NON-EDIBLE     12\nHEALTH             12\nHOME IMPRVMNT      24\nHOUSEWARES         27\nMENS WEAR           1\nMUSIC MKT           2\nNATURAL FOODS      11\nNF NON-EDIBLE       8\nPACKAGE PRODUCE     4\nPACKAGED DELI       2\nPERSONAL CARE       9\nPET                 7\nPKG MEAT            2\nPKG MEAT OTHER      1\nPKG SEAFOOD         3\nPKG SPECIALTY       1\nPORK                2\nPOULTRY             1\nREFRIG GROCERY      2\nRX-OTC              7\nSCHOOL/OFFICE      18\nSEASONAL            8\nSLD SND CMS         1\nSOFT DRINKS         4\nSPECIALTY CHS       1\nSPECIALTY MEAT      1\nSPIRITS             7\nSPORTING GOODS     16\nSTORAGE            11\nTOBACCO             2\nTOYS               14\nVEGETABLES          1\nVIDEO/ELEC/COMP     9\nWINE                8\ndtype: int64</div>",
       "datasetInfos": [],
       "metadata": {},
       "removedWidgets": [],
       "type": "html"
      }
     },
     "output_type": "display_data"
    }
   ],
   "source": [
    "syndigo_mapped.groupby('DPT_DSC').apply(lambda x: x['Level 1'].nunique())"
   ]
  },
  {
   "cell_type": "code",
   "execution_count": 0,
   "metadata": {
    "application/vnd.databricks.v1+cell": {
     "cellMetadata": {
      "byteLimit": 2048000,
      "rowLimit": 10000
     },
     "inputWidgets": {},
     "nuid": "f9dc7cce-c205-47f2-886d-2b8339e773b2",
     "showTitle": false,
     "title": ""
    }
   },
   "outputs": [
    {
     "data": {
      "text/html": [
       "<style scoped>\n",
       "  .ansiout {\n",
       "    display: block;\n",
       "    unicode-bidi: embed;\n",
       "    white-space: pre-wrap;\n",
       "    word-wrap: break-word;\n",
       "    word-break: break-all;\n",
       "    font-family: \"Source Code Pro\", \"Menlo\", monospace;;\n",
       "    font-size: 13px;\n",
       "    color: #555;\n",
       "    margin-left: 4px;\n",
       "    line-height: 19px;\n",
       "  }\n",
       "</style>\n",
       "<div class=\"ansiout\">Out[40]: 1     2235\n",
       "2      367\n",
       "3       88\n",
       "4       39\n",
       "0       17\n",
       "5        9\n",
       "6        7\n",
       "7        4\n",
       "8        3\n",
       "13       2\n",
       "9        1\n",
       "18       1\n",
       "11       1\n",
       "20       1\n",
       "dtype: int64</div>"
      ]
     },
     "metadata": {
      "application/vnd.databricks.v1+output": {
       "addedWidgets": {},
       "arguments": {},
       "data": "<div class=\"ansiout\">Out[40]: 1     2235\n2      367\n3       88\n4       39\n0       17\n5        9\n6        7\n7        4\n8        3\n13       2\n9        1\n18       1\n11       1\n20       1\ndtype: int64</div>",
       "datasetInfos": [],
       "metadata": {},
       "removedWidgets": [],
       "type": "html"
      }
     },
     "output_type": "display_data"
    }
   ],
   "source": [
    "syndigo_mapped.groupby('SUBCOM_DSC').apply(lambda x: x['Level 1'].nunique()).value_counts()"
   ]
  },
  {
   "cell_type": "markdown",
   "metadata": {
    "application/vnd.databricks.v1+cell": {
     "cellMetadata": {},
     "inputWidgets": {},
     "nuid": "894e5edf-cfa2-4b5b-b1e9-7ca6618eda35",
     "showTitle": false,
     "title": ""
    }
   },
   "source": [
    "<b>80% of SUBCOMs are pure in Level 1. SuBCOMs in combination with item description can be used for training Level 1 classifier model<b>"
   ]
  },
  {
   "cell_type": "code",
   "execution_count": 0,
   "metadata": {
    "application/vnd.databricks.v1+cell": {
     "cellMetadata": {
      "byteLimit": 2048000,
      "rowLimit": 10000
     },
     "inputWidgets": {},
     "nuid": "6add3db7-b3e9-46b1-bbfb-277202895ebc",
     "showTitle": false,
     "title": ""
    }
   },
   "outputs": [
    {
     "data": {
      "text/html": [
       "<style scoped>\n",
       "  .ansiout {\n",
       "    display: block;\n",
       "    unicode-bidi: embed;\n",
       "    white-space: pre-wrap;\n",
       "    word-wrap: break-word;\n",
       "    word-break: break-all;\n",
       "    font-family: \"Source Code Pro\", \"Menlo\", monospace;;\n",
       "    font-size: 13px;\n",
       "    color: #555;\n",
       "    margin-left: 4px;\n",
       "    line-height: 19px;\n",
       "  }\n",
       "</style>\n",
       "<div class=\"ansiout\">Out[41]: [(&#39;chips,&#39;, 0.7620069980621338),\n",
       " (&#39;puffed/popped&#39;, 0.692810595035553),\n",
       " (&#39;veggie/grain&#39;, 0.6568589806556702),\n",
       " (&#39;chips.&#39;, 0.6461755037307739),\n",
       " (&#39;popped&#39;, 0.6434525847434998),\n",
       " (&#39;snacks&#39;, 0.6221342086791992),\n",
       " (&#39;crisps&#39;, 0.6071634888648987),\n",
       " (&#39;thins&#39;, 0.5962806344032288),\n",
       " (&#39;&lt;&#39;, 0.5704862475395203),\n",
       " (&#39;kurokirishima&#39;, 0.5686668157577515)]</div>"
      ]
     },
     "metadata": {
      "application/vnd.databricks.v1+output": {
       "addedWidgets": {},
       "arguments": {},
       "data": "<div class=\"ansiout\">Out[41]: [(&#39;chips,&#39;, 0.7620069980621338),\n (&#39;puffed/popped&#39;, 0.692810595035553),\n (&#39;veggie/grain&#39;, 0.6568589806556702),\n (&#39;chips.&#39;, 0.6461755037307739),\n (&#39;popped&#39;, 0.6434525847434998),\n (&#39;snacks&#39;, 0.6221342086791992),\n (&#39;crisps&#39;, 0.6071634888648987),\n (&#39;thins&#39;, 0.5962806344032288),\n (&#39;&lt;&#39;, 0.5704862475395203),\n (&#39;kurokirishima&#39;, 0.5686668157577515)]</div>",
       "datasetInfos": [],
       "metadata": {},
       "removedWidgets": [],
       "type": "html"
      }
     },
     "output_type": "display_data"
    }
   ],
   "source": [
    "### import word2vec model trained on entire PIMMART data\n",
    "from gensim.models import Word2Vec, KeyedVectors\n",
    "model = KeyedVectors.load_word2vec_format('/dbfs/FileStore/tables/DATA_SCIENCE/w2vmodel_053123_PIM_ALL.bin', binary=True)\n",
    "model.most_similar('chips')"
   ]
  },
  {
   "cell_type": "code",
   "execution_count": 0,
   "metadata": {
    "application/vnd.databricks.v1+cell": {
     "cellMetadata": {
      "byteLimit": 2048000,
      "rowLimit": 10000
     },
     "inputWidgets": {},
     "nuid": "7250204d-2419-42ac-a202-ab1934efc6cb",
     "showTitle": false,
     "title": ""
    }
   },
   "outputs": [
    {
     "data": {
      "text/html": [
       "<style scoped>\n",
       "  .ansiout {\n",
       "    display: block;\n",
       "    unicode-bidi: embed;\n",
       "    white-space: pre-wrap;\n",
       "    word-wrap: break-word;\n",
       "    word-break: break-all;\n",
       "    font-family: \"Source Code Pro\", \"Menlo\", monospace;;\n",
       "    font-size: 13px;\n",
       "    color: #555;\n",
       "    margin-left: 4px;\n",
       "    line-height: 19px;\n",
       "  }\n",
       "</style>\n",
       "<div class=\"ansiout\"></div>"
      ]
     },
     "metadata": {
      "application/vnd.databricks.v1+output": {
       "addedWidgets": {},
       "arguments": {},
       "data": "<div class=\"ansiout\"></div>",
       "datasetInfos": [],
       "metadata": {},
       "removedWidgets": [],
       "type": "html"
      }
     },
     "output_type": "display_data"
    }
   ],
   "source": [
    "#Build item vectors\n",
    "def get_item_vector(item_vocab):\n",
    "    vect = np.zeros_like(model.get_vector('chips'))\n",
    "    for word in item_vocab:\n",
    "        if word in model:\n",
    "            vect += model.get_vector(word)\n",
    "    return vect#/max(1,len(item_vocab))"
   ]
  },
  {
   "cell_type": "code",
   "execution_count": 0,
   "metadata": {
    "application/vnd.databricks.v1+cell": {
     "cellMetadata": {
      "byteLimit": 2048000,
      "rowLimit": 10000
     },
     "inputWidgets": {},
     "nuid": "2bebf405-a321-4e13-b9c4-2aad5aa3fbc6",
     "showTitle": false,
     "title": ""
    }
   },
   "outputs": [
    {
     "data": {
      "text/html": [
       "<style scoped>\n",
       "  .ansiout {\n",
       "    display: block;\n",
       "    unicode-bidi: embed;\n",
       "    white-space: pre-wrap;\n",
       "    word-wrap: break-word;\n",
       "    word-break: break-all;\n",
       "    font-family: \"Source Code Pro\", \"Menlo\", monospace;;\n",
       "    font-size: 13px;\n",
       "    color: #555;\n",
       "    margin-left: 4px;\n",
       "    line-height: 19px;\n",
       "  }\n",
       "</style>\n",
       "<div class=\"ansiout\"></div>"
      ]
     },
     "metadata": {
      "application/vnd.databricks.v1+output": {
       "addedWidgets": {},
       "arguments": {},
       "data": "<div class=\"ansiout\"></div>",
       "datasetInfos": [],
       "metadata": {},
       "removedWidgets": [],
       "type": "html"
      }
     },
     "output_type": "display_data"
    }
   ],
   "source": [
    "syndigo_mapped['ITEM_SUBCOM_text'] = \\\n",
    "(syndigo_mapped.VND_ECOM_DSC + ' ' + syndigo_mapped.SUBCOM_DSC).fillna('').str.lower()"
   ]
  },
  {
   "cell_type": "code",
   "execution_count": 0,
   "metadata": {
    "application/vnd.databricks.v1+cell": {
     "cellMetadata": {
      "byteLimit": 2048000,
      "rowLimit": 10000
     },
     "inputWidgets": {},
     "nuid": "83b692be-3863-4e15-936b-a42515b6c739",
     "showTitle": false,
     "title": ""
    }
   },
   "outputs": [
    {
     "data": {
      "text/html": [
       "<style scoped>\n",
       "  .ansiout {\n",
       "    display: block;\n",
       "    unicode-bidi: embed;\n",
       "    white-space: pre-wrap;\n",
       "    word-wrap: break-word;\n",
       "    word-break: break-all;\n",
       "    font-family: \"Source Code Pro\", \"Menlo\", monospace;;\n",
       "    font-size: 13px;\n",
       "    color: #555;\n",
       "    margin-left: 4px;\n",
       "    line-height: 19px;\n",
       "  }\n",
       "</style>\n",
       "<div class=\"ansiout\">Out[44]: 0        mark west pinot noir monterey county 750/12 75...\n",
       "1        farm fresh &amp; tender ham, half family, hickory ...\n",
       "2                               zum bundle box nf bar soap\n",
       "3        crunchmaster multi-grain crackers white chedda...\n",
       "4        neutrogena original formula fragrance-free tra...\n",
       "                               ...                        \n",
       "95027    stone candles white tea melting oil .5 oz esse...\n",
       "95028            perfect pout day lip treatment wet n wild\n",
       "95029    tillen farms bada bing cherry maraschino cherries\n",
       "95030    island snacks super value rosemary cashews mis...\n",
       "95031    jif 16 ounce natural creamy peanut butter hone...\n",
       "Name: ITEM_SUBCOM_text, Length: 95032, dtype: object</div>"
      ]
     },
     "metadata": {
      "application/vnd.databricks.v1+output": {
       "addedWidgets": {},
       "arguments": {},
       "data": "<div class=\"ansiout\">Out[44]: 0        mark west pinot noir monterey county 750/12 75...\n1        farm fresh &amp; tender ham, half family, hickory ...\n2                               zum bundle box nf bar soap\n3        crunchmaster multi-grain crackers white chedda...\n4        neutrogena original formula fragrance-free tra...\n                               ...                        \n95027    stone candles white tea melting oil .5 oz esse...\n95028            perfect pout day lip treatment wet n wild\n95029    tillen farms bada bing cherry maraschino cherries\n95030    island snacks super value rosemary cashews mis...\n95031    jif 16 ounce natural creamy peanut butter hone...\nName: ITEM_SUBCOM_text, Length: 95032, dtype: object</div>",
       "datasetInfos": [],
       "metadata": {},
       "removedWidgets": [],
       "type": "html"
      }
     },
     "output_type": "display_data"
    }
   ],
   "source": [
    "syndigo_mapped.ITEM_SUBCOM_text"
   ]
  },
  {
   "cell_type": "code",
   "execution_count": 0,
   "metadata": {
    "application/vnd.databricks.v1+cell": {
     "cellMetadata": {
      "byteLimit": 2048000,
      "rowLimit": 10000
     },
     "inputWidgets": {},
     "nuid": "9da9a55b-ad51-4c84-b6be-61eb145d7552",
     "showTitle": false,
     "title": ""
    }
   },
   "outputs": [
    {
     "data": {
      "text/html": [
       "<style scoped>\n",
       "  .ansiout {\n",
       "    display: block;\n",
       "    unicode-bidi: embed;\n",
       "    white-space: pre-wrap;\n",
       "    word-wrap: break-word;\n",
       "    word-break: break-all;\n",
       "    font-family: \"Source Code Pro\", \"Menlo\", monospace;;\n",
       "    font-size: 13px;\n",
       "    color: #555;\n",
       "    margin-left: 4px;\n",
       "    line-height: 19px;\n",
       "  }\n",
       "</style>\n",
       "<div class=\"ansiout\">Out[45]: Level 4                          47786\n",
       "Level 3                          25227\n",
       "Level 5                          14471\n",
       "Level 2                           4822\n",
       "Level 6                           1160\n",
       "Not Available in Syndigo File     1132\n",
       "Level 7                            396\n",
       "Level 8                             38\n",
       "Name: Level Mapped, dtype: int64</div>"
      ]
     },
     "metadata": {
      "application/vnd.databricks.v1+output": {
       "addedWidgets": {},
       "arguments": {},
       "data": "<div class=\"ansiout\">Out[45]: Level 4                          47786\nLevel 3                          25227\nLevel 5                          14471\nLevel 2                           4822\nLevel 6                           1160\nNot Available in Syndigo File     1132\nLevel 7                            396\nLevel 8                             38\nName: Level Mapped, dtype: int64</div>",
       "datasetInfos": [],
       "metadata": {},
       "removedWidgets": [],
       "type": "html"
      }
     },
     "output_type": "display_data"
    }
   ],
   "source": [
    "syndigo_mapped['Level Mapped'].value_counts()"
   ]
  },
  {
   "cell_type": "code",
   "execution_count": 0,
   "metadata": {
    "application/vnd.databricks.v1+cell": {
     "cellMetadata": {
      "byteLimit": 2048000,
      "rowLimit": 10000
     },
     "inputWidgets": {},
     "nuid": "56137f06-0683-4cbe-ae80-30030ed133ca",
     "showTitle": false,
     "title": ""
    }
   },
   "outputs": [
    {
     "data": {
      "text/html": [
       "<style scoped>\n",
       "  .ansiout {\n",
       "    display: block;\n",
       "    unicode-bidi: embed;\n",
       "    white-space: pre-wrap;\n",
       "    word-wrap: break-word;\n",
       "    word-break: break-all;\n",
       "    font-family: \"Source Code Pro\", \"Menlo\", monospace;;\n",
       "    font-size: 13px;\n",
       "    color: #555;\n",
       "    margin-left: 4px;\n",
       "    line-height: 19px;\n",
       "  }\n",
       "</style>\n",
       "<div class=\"ansiout\">Out[56]: Index([&#39;GTIN&#39;, &#39;Syndigo Taxonomy&#39;, &#39;Level Mapped&#39;, &#39;Level 1&#39;, &#39;Level 2&#39;,\n",
       "       &#39;Level 3&#39;, &#39;Level 4&#39;, &#39;Level 5&#39;, &#39;Level 6&#39;, &#39;Level 7&#39;, &#39;Level 8&#39;,\n",
       "       &#39;Level 9&#39;, &#39;Level 10&#39;, &#39;PMY_DPT_DSC&#39;, &#39;REC_DPT_DSC&#39;, &#39;DPT_DSC&#39;,\n",
       "       &#39;COM_DSC&#39;, &#39;SUBCOM_DSC&#39;, &#39;SUBCOM_CD&#39;, &#39;VND_ECOM_DSC&#39;,\n",
       "       &#39;ITEM_SUBCOM_text&#39;],\n",
       "      dtype=&#39;object&#39;)</div>"
      ]
     },
     "metadata": {
      "application/vnd.databricks.v1+output": {
       "addedWidgets": {},
       "arguments": {},
       "data": "<div class=\"ansiout\">Out[56]: Index([&#39;GTIN&#39;, &#39;Syndigo Taxonomy&#39;, &#39;Level Mapped&#39;, &#39;Level 1&#39;, &#39;Level 2&#39;,\n       &#39;Level 3&#39;, &#39;Level 4&#39;, &#39;Level 5&#39;, &#39;Level 6&#39;, &#39;Level 7&#39;, &#39;Level 8&#39;,\n       &#39;Level 9&#39;, &#39;Level 10&#39;, &#39;PMY_DPT_DSC&#39;, &#39;REC_DPT_DSC&#39;, &#39;DPT_DSC&#39;,\n       &#39;COM_DSC&#39;, &#39;SUBCOM_DSC&#39;, &#39;SUBCOM_CD&#39;, &#39;VND_ECOM_DSC&#39;,\n       &#39;ITEM_SUBCOM_text&#39;],\n      dtype=&#39;object&#39;)</div>",
       "datasetInfos": [],
       "metadata": {},
       "removedWidgets": [],
       "type": "html"
      }
     },
     "output_type": "display_data"
    }
   ],
   "source": [
    "syndigo_mapped.columns"
   ]
  },
  {
   "cell_type": "code",
   "execution_count": 0,
   "metadata": {
    "application/vnd.databricks.v1+cell": {
     "cellMetadata": {
      "byteLimit": 2048000,
      "rowLimit": 10000
     },
     "inputWidgets": {},
     "nuid": "3e287dc3-a057-4e34-a6d9-de957c481c3f",
     "showTitle": false,
     "title": ""
    }
   },
   "outputs": [
    {
     "data": {
      "text/html": [
       "<style scoped>\n",
       "  .ansiout {\n",
       "    display: block;\n",
       "    unicode-bidi: embed;\n",
       "    white-space: pre-wrap;\n",
       "    word-wrap: break-word;\n",
       "    word-break: break-all;\n",
       "    font-family: \"Source Code Pro\", \"Menlo\", monospace;;\n",
       "    font-size: 13px;\n",
       "    color: #555;\n",
       "    margin-left: 4px;\n",
       "    line-height: 19px;\n",
       "  }\n",
       "</style>\n",
       "<div class=\"ansiout\"></div>"
      ]
     },
     "metadata": {
      "application/vnd.databricks.v1+output": {
       "addedWidgets": {},
       "arguments": {},
       "data": "<div class=\"ansiout\"></div>",
       "datasetInfos": [],
       "metadata": {},
       "removedWidgets": [],
       "type": "html"
      }
     },
     "output_type": "display_data"
    }
   ],
   "source": [
    "#Exclude non-item SUBCOMs\n",
    "SUBCOMS_excluded = ['INVENTORY VALUES','MISC SALES TRANS','MISC SALES TRANS (NON TAX)','CENTRAL SUPPLIES','MISC SALES TRANS (TX TAXABLE)','COUPON','MISCELLANEOUS INCOME','CRV/EXCISE TAX NT/NF','CRV DEPOSIT NT/F','CRV DEPOSIT T/NF','MISCELLANEOUS REFUNDS','CUSTOMER EXPENSES','ROUND UP COUPONS']\n"
   ]
  },
  {
   "cell_type": "code",
   "execution_count": 0,
   "metadata": {
    "application/vnd.databricks.v1+cell": {
     "cellMetadata": {
      "byteLimit": 2048000,
      "rowLimit": 10000
     },
     "inputWidgets": {},
     "nuid": "4bedfe8c-821a-48c8-935f-84b89b584ec5",
     "showTitle": false,
     "title": ""
    }
   },
   "outputs": [
    {
     "data": {
      "text/html": [
       "<style scoped>\n",
       "  .ansiout {\n",
       "    display: block;\n",
       "    unicode-bidi: embed;\n",
       "    white-space: pre-wrap;\n",
       "    word-wrap: break-word;\n",
       "    word-break: break-all;\n",
       "    font-family: \"Source Code Pro\", \"Menlo\", monospace;;\n",
       "    font-size: 13px;\n",
       "    color: #555;\n",
       "    margin-left: 4px;\n",
       "    line-height: 19px;\n",
       "  }\n",
       "</style>\n",
       "<div class=\"ansiout\"></div>"
      ]
     },
     "metadata": {
      "application/vnd.databricks.v1+output": {
       "addedWidgets": {},
       "arguments": {},
       "data": "<div class=\"ansiout\"></div>",
       "datasetInfos": [],
       "metadata": {},
       "removedWidgets": [],
       "type": "html"
      }
     },
     "output_type": "display_data"
    }
   ],
   "source": [
    "#Feature vectors\n",
    "syndigo_mapped = syndigo_mapped[syndigo_mapped['Level Mapped']!= 'Not Available in Syndigo File']\n",
    "syndigo_mapped = syndigo_mapped[~syndigo_mapped.SUBCOM_DSC.isin(SUBCOMS_excluded)]\n",
    "X = syndigo_mapped.ITEM_SUBCOM_text.apply(lambda x: get_item_vector(x.split(' ')))\n",
    "#X = syndigo_mapped.VND_ECOM_DSC.fillna('').str.lower().apply(lambda x: get_item_vector(x.split(' ')))\n",
    "X_ = np.array(list(X))"
   ]
  },
  {
   "cell_type": "code",
   "execution_count": 0,
   "metadata": {
    "application/vnd.databricks.v1+cell": {
     "cellMetadata": {
      "byteLimit": 2048000,
      "rowLimit": 10000
     },
     "inputWidgets": {},
     "nuid": "54c0c43b-b899-4b74-877c-082db1d8c76d",
     "showTitle": false,
     "title": ""
    }
   },
   "outputs": [
    {
     "data": {
      "text/html": [
       "<style scoped>\n",
       "  .ansiout {\n",
       "    display: block;\n",
       "    unicode-bidi: embed;\n",
       "    white-space: pre-wrap;\n",
       "    word-wrap: break-word;\n",
       "    word-break: break-all;\n",
       "    font-family: \"Source Code Pro\", \"Menlo\", monospace;;\n",
       "    font-size: 13px;\n",
       "    color: #555;\n",
       "    margin-left: 4px;\n",
       "    line-height: 19px;\n",
       "  }\n",
       "</style>\n",
       "<div class=\"ansiout\"></div>"
      ]
     },
     "metadata": {
      "application/vnd.databricks.v1+output": {
       "addedWidgets": {},
       "arguments": {},
       "data": "<div class=\"ansiout\"></div>",
       "datasetInfos": [],
       "metadata": {},
       "removedWidgets": [],
       "type": "html"
      }
     },
     "output_type": "display_data"
    }
   ],
   "source": [
    "#Target Vectors\n",
    "level1_id_map = dict(zip(syndigo_mapped['Level 1'].fillna('Unclassified').unique(), range(syndigo_mapped['Level 1'].fillna('Unclassified').nunique())))\n",
    "y_ = syndigo_mapped['Level 1'].fillna('Unclassified').map(level1_id_map)"
   ]
  },
  {
   "cell_type": "markdown",
   "metadata": {
    "application/vnd.databricks.v1+cell": {
     "cellMetadata": {},
     "inputWidgets": {},
     "nuid": "d8d59c6c-c4d0-49c1-b7ce-0246f57f32cb",
     "showTitle": false,
     "title": ""
    }
   },
   "source": [
    "### Model Training"
   ]
  },
  {
   "cell_type": "code",
   "execution_count": 0,
   "metadata": {
    "application/vnd.databricks.v1+cell": {
     "cellMetadata": {
      "byteLimit": 2048000,
      "rowLimit": 10000
     },
     "inputWidgets": {},
     "nuid": "6c71fd3a-2c7c-44be-aa3d-03cc6e1dcaba",
     "showTitle": false,
     "title": ""
    }
   },
   "outputs": [],
   "source": [
    "from sklearn.model_selection import train_test_split\n",
    "#X_train, X_test, y_train, y_test = train_test_split(X_, y_, test_size= 0.2, stratify= y_)"
   ]
  },
  {
   "cell_type": "code",
   "execution_count": 0,
   "metadata": {
    "application/vnd.databricks.v1+cell": {
     "cellMetadata": {
      "byteLimit": 2048000,
      "rowLimit": 10000
     },
     "inputWidgets": {},
     "nuid": "23f98c7f-0ce2-46aa-a4cf-6760943c8e3d",
     "showTitle": false,
     "title": ""
    }
   },
   "outputs": [],
   "source": [
    "from sklearn.ensemble import RandomForestClassifier, GradientBoostingClassifier\n",
    "from sklearn.linear_model import LogisticRegression, LogisticRegressionCV"
   ]
  },
  {
   "cell_type": "markdown",
   "metadata": {
    "application/vnd.databricks.v1+cell": {
     "cellMetadata": {
      "byteLimit": 2048000,
      "rowLimit": 10000
     },
     "inputWidgets": {},
     "nuid": "8a369271-e426-49d8-88e4-dd36919d4042",
     "showTitle": false,
     "title": ""
    }
   },
   "source": [
    "# create model instance\n",
    "lr = LogisticRegression(C = 1.0, multi_class = 'multinomial', solver = 'newton-cg')\n",
    "# fit model\n",
    "lr.fit(X_train, y_train)\n",
    "# make predictions\n",
    "preds = lr.predict(X_test)"
   ]
  },
  {
   "cell_type": "code",
   "execution_count": 0,
   "metadata": {
    "application/vnd.databricks.v1+cell": {
     "cellMetadata": {
      "byteLimit": 2048000,
      "rowLimit": 10000
     },
     "inputWidgets": {},
     "nuid": "2a862738-f4b1-4ad6-acc5-46c95eefcfed",
     "showTitle": false,
     "title": ""
    }
   },
   "outputs": [
    {
     "data": {
      "text/html": [
       "<style scoped>\n",
       "  .ansiout {\n",
       "    display: block;\n",
       "    unicode-bidi: embed;\n",
       "    white-space: pre-wrap;\n",
       "    word-wrap: break-word;\n",
       "    word-break: break-all;\n",
       "    font-family: \"Source Code Pro\", \"Menlo\", monospace;;\n",
       "    font-size: 13px;\n",
       "    color: #555;\n",
       "    margin-left: 4px;\n",
       "    line-height: 19px;\n",
       "  }\n",
       "</style>\n",
       "<div class=\"ansiout\">Out[223]: </div>"
      ]
     },
     "metadata": {
      "application/vnd.databricks.v1+output": {
       "addedWidgets": {},
       "arguments": {},
       "data": "<div class=\"ansiout\">Out[223]: </div>",
       "datasetInfos": [],
       "metadata": {},
       "removedWidgets": [],
       "type": "html"
      }
     },
     "output_type": "display_data"
    },
    {
     "data": {
      "text/html": [
       "<div>\n",
       "<style scoped>\n",
       "    .dataframe tbody tr th:only-of-type {\n",
       "        vertical-align: middle;\n",
       "    }\n",
       "\n",
       "    .dataframe tbody tr th {\n",
       "        vertical-align: top;\n",
       "    }\n",
       "\n",
       "    .dataframe thead th {\n",
       "        text-align: right;\n",
       "    }\n",
       "</style>\n",
       "<table border=\"1\" class=\"dataframe\">\n",
       "  <thead>\n",
       "    <tr style=\"text-align: right;\">\n",
       "      <th></th>\n",
       "      <th>GTIN</th>\n",
       "      <th>Syndigo Taxonomy</th>\n",
       "      <th>Level Mapped</th>\n",
       "      <th>Level 1</th>\n",
       "      <th>Level 2</th>\n",
       "      <th>Level 3</th>\n",
       "      <th>Level 4</th>\n",
       "      <th>Level 5</th>\n",
       "      <th>Level 6</th>\n",
       "      <th>Level 7</th>\n",
       "      <th>Level 8</th>\n",
       "      <th>Level 9</th>\n",
       "      <th>Level 10</th>\n",
       "      <th>PMY_DPT_DSC</th>\n",
       "      <th>REC_DPT_DSC</th>\n",
       "      <th>DPT_DSC</th>\n",
       "      <th>COM_DSC</th>\n",
       "      <th>SUBCOM_DSC</th>\n",
       "      <th>VND_ECOM_DSC</th>\n",
       "      <th>ITEM_SUBCOM_text</th>\n",
       "    </tr>\n",
       "  </thead>\n",
       "  <tbody>\n",
       "    <tr>\n",
       "      <th>51</th>\n",
       "      <td>71249253120</td>\n",
       "      <td>Hair Coloring Tools</td>\n",
       "      <td>Not Available in Syndigo File</td>\n",
       "      <td>NaN</td>\n",
       "      <td>NaN</td>\n",
       "      <td>NaN</td>\n",
       "      <td>NaN</td>\n",
       "      <td>NaN</td>\n",
       "      <td>NaN</td>\n",
       "      <td>NaN</td>\n",
       "      <td>NaN</td>\n",
       "      <td>NaN</td>\n",
       "      <td>NaN</td>\n",
       "      <td>DRUG/GM</td>\n",
       "      <td>HBC</td>\n",
       "      <td>BEAUTY</td>\n",
       "      <td>HAIR COLOR AND DEVELOPERS</td>\n",
       "      <td>PERMANENT</td>\n",
       "      <td>L'Oreal Paris Superior Preference 6R Light Aub...</td>\n",
       "      <td>l'oreal paris superior preference 6r light aub...</td>\n",
       "    </tr>\n",
       "    <tr>\n",
       "      <th>379</th>\n",
       "      <td>813277012528</td>\n",
       "      <td>Personal Repellents</td>\n",
       "      <td>Not Available in Syndigo File</td>\n",
       "      <td>NaN</td>\n",
       "      <td>NaN</td>\n",
       "      <td>NaN</td>\n",
       "      <td>NaN</td>\n",
       "      <td>NaN</td>\n",
       "      <td>NaN</td>\n",
       "      <td>NaN</td>\n",
       "      <td>NaN</td>\n",
       "      <td>NaN</td>\n",
       "      <td>NaN</td>\n",
       "      <td>DRUG/GM</td>\n",
       "      <td>HBC</td>\n",
       "      <td>BABY</td>\n",
       "      <td>NF BABY CARE</td>\n",
       "      <td>NF MISC BABY PRODUCTS</td>\n",
       "      <td>Babyganics Bug Spray - 6oz</td>\n",
       "      <td>babyganics bug spray - 6oz nf misc baby products</td>\n",
       "    </tr>\n",
       "    <tr>\n",
       "      <th>407</th>\n",
       "      <td>363736443009</td>\n",
       "      <td>Yeast Infection Treatments</td>\n",
       "      <td>Not Available in Syndigo File</td>\n",
       "      <td>NaN</td>\n",
       "      <td>NaN</td>\n",
       "      <td>NaN</td>\n",
       "      <td>NaN</td>\n",
       "      <td>NaN</td>\n",
       "      <td>NaN</td>\n",
       "      <td>NaN</td>\n",
       "      <td>NaN</td>\n",
       "      <td>NaN</td>\n",
       "      <td>NaN</td>\n",
       "      <td>DRUG/GM</td>\n",
       "      <td>HBC</td>\n",
       "      <td>PERSONAL CARE</td>\n",
       "      <td>FEMININE HYGIENE</td>\n",
       "      <td>FEM YEAST TREATMENTS</td>\n",
       "      <td>MONISTAT 3 CURE &amp; ITCH RELIEF - CREAM</td>\n",
       "      <td>monistat 3 cure &amp; itch relief - cream fem yeas...</td>\n",
       "    </tr>\n",
       "    <tr>\n",
       "      <th>453</th>\n",
       "      <td>850732006340</td>\n",
       "      <td>Mixed Deli Trays / Variety Packs (Perishable)</td>\n",
       "      <td>Not Available in Syndigo File</td>\n",
       "      <td>NaN</td>\n",
       "      <td>NaN</td>\n",
       "      <td>NaN</td>\n",
       "      <td>NaN</td>\n",
       "      <td>NaN</td>\n",
       "      <td>NaN</td>\n",
       "      <td>NaN</td>\n",
       "      <td>NaN</td>\n",
       "      <td>NaN</td>\n",
       "      <td>NaN</td>\n",
       "      <td>DELI/BAKE</td>\n",
       "      <td>SPECIALTY CHS</td>\n",
       "      <td>PKG SPECIALTY</td>\n",
       "      <td>SPECIALTY CHEESE PRE PACK</td>\n",
       "      <td>SPECIALTY CHARCUTERIE</td>\n",
       "      <td>Creminelli Fine Meats Sliced Felino &amp; Manchego...</td>\n",
       "      <td>creminelli fine meats sliced felino &amp; manchego...</td>\n",
       "    </tr>\n",
       "    <tr>\n",
       "      <th>520</th>\n",
       "      <td>44700102954</td>\n",
       "      <td>Pizza (Perishable)</td>\n",
       "      <td>Not Available in Syndigo File</td>\n",
       "      <td>NaN</td>\n",
       "      <td>NaN</td>\n",
       "      <td>NaN</td>\n",
       "      <td>NaN</td>\n",
       "      <td>NaN</td>\n",
       "      <td>NaN</td>\n",
       "      <td>NaN</td>\n",
       "      <td>NaN</td>\n",
       "      <td>NaN</td>\n",
       "      <td>NaN</td>\n",
       "      <td>MEAT</td>\n",
       "      <td>PKG MEAT</td>\n",
       "      <td>PKG MEAT</td>\n",
       "      <td>CONVENIENT MEALS</td>\n",
       "      <td>CONVENIENT MEALS - WITH DRINK</td>\n",
       "      <td>Lunchables Uploaded Pepperoni Deep Dish Pizza ...</td>\n",
       "      <td>lunchables uploaded pepperoni deep dish pizza ...</td>\n",
       "    </tr>\n",
       "    <tr>\n",
       "      <th>...</th>\n",
       "      <td>...</td>\n",
       "      <td>...</td>\n",
       "      <td>...</td>\n",
       "      <td>...</td>\n",
       "      <td>...</td>\n",
       "      <td>...</td>\n",
       "      <td>...</td>\n",
       "      <td>...</td>\n",
       "      <td>...</td>\n",
       "      <td>...</td>\n",
       "      <td>...</td>\n",
       "      <td>...</td>\n",
       "      <td>...</td>\n",
       "      <td>...</td>\n",
       "      <td>...</td>\n",
       "      <td>...</td>\n",
       "      <td>...</td>\n",
       "      <td>...</td>\n",
       "      <td>...</td>\n",
       "      <td>...</td>\n",
       "    </tr>\n",
       "    <tr>\n",
       "      <th>94852</th>\n",
       "      <td>626608002125</td>\n",
       "      <td>Dairy &amp; Egg Products</td>\n",
       "      <td>Not Available in Syndigo File</td>\n",
       "      <td>NaN</td>\n",
       "      <td>NaN</td>\n",
       "      <td>NaN</td>\n",
       "      <td>NaN</td>\n",
       "      <td>NaN</td>\n",
       "      <td>NaN</td>\n",
       "      <td>NaN</td>\n",
       "      <td>NaN</td>\n",
       "      <td>NaN</td>\n",
       "      <td>NaN</td>\n",
       "      <td>DRUG/GM</td>\n",
       "      <td>HBC</td>\n",
       "      <td>HEALTH</td>\n",
       "      <td>NF NUTRITION VITAMINS</td>\n",
       "      <td>NUT SUPP-CLEANSE/DIGESTION</td>\n",
       "      <td>Bio-K+ Fermented Rice Probiotic – Blueberry – ...</td>\n",
       "      <td>bio-k+ fermented rice probiotic – blueberry – ...</td>\n",
       "    </tr>\n",
       "    <tr>\n",
       "      <th>94878</th>\n",
       "      <td>80376020215</td>\n",
       "      <td>Arch</td>\n",
       "      <td>Not Available in Syndigo File</td>\n",
       "      <td>NaN</td>\n",
       "      <td>NaN</td>\n",
       "      <td>NaN</td>\n",
       "      <td>NaN</td>\n",
       "      <td>NaN</td>\n",
       "      <td>NaN</td>\n",
       "      <td>NaN</td>\n",
       "      <td>NaN</td>\n",
       "      <td>NaN</td>\n",
       "      <td>NaN</td>\n",
       "      <td>DRUG/GM</td>\n",
       "      <td>HBC</td>\n",
       "      <td>HEALTH</td>\n",
       "      <td>FOOT CARE PRODUCTS</td>\n",
       "      <td>INSOLE ORTHOTIC DEVICE</td>\n",
       "      <td>Triad-Wmn</td>\n",
       "      <td>triad-wmn insole orthotic device</td>\n",
       "    </tr>\n",
       "    <tr>\n",
       "      <th>94938</th>\n",
       "      <td>74764680259</td>\n",
       "      <td>Cosmetics</td>\n",
       "      <td>Not Available in Syndigo File</td>\n",
       "      <td>NaN</td>\n",
       "      <td>NaN</td>\n",
       "      <td>NaN</td>\n",
       "      <td>NaN</td>\n",
       "      <td>NaN</td>\n",
       "      <td>NaN</td>\n",
       "      <td>NaN</td>\n",
       "      <td>NaN</td>\n",
       "      <td>NaN</td>\n",
       "      <td>NaN</td>\n",
       "      <td>DRUG/GM</td>\n",
       "      <td>HBC</td>\n",
       "      <td>BEAUTY</td>\n",
       "      <td>NAILCARE/LASH/COTTON</td>\n",
       "      <td>ARDELL EYE</td>\n",
       "      <td>Ardell Lash Grip Adhesive</td>\n",
       "      <td>ardell lash grip adhesive ardell eye</td>\n",
       "    </tr>\n",
       "    <tr>\n",
       "      <th>94946</th>\n",
       "      <td>75656019867</td>\n",
       "      <td>Spinning Tops</td>\n",
       "      <td>Not Available in Syndigo File</td>\n",
       "      <td>NaN</td>\n",
       "      <td>NaN</td>\n",
       "      <td>NaN</td>\n",
       "      <td>NaN</td>\n",
       "      <td>NaN</td>\n",
       "      <td>NaN</td>\n",
       "      <td>NaN</td>\n",
       "      <td>NaN</td>\n",
       "      <td>NaN</td>\n",
       "      <td>NaN</td>\n",
       "      <td>DRUG/GM</td>\n",
       "      <td>GM</td>\n",
       "      <td>TOYS</td>\n",
       "      <td>SEASONAL/NOVELTY</td>\n",
       "      <td>NOVELTY TOYS</td>\n",
       "      <td>YO YO CLASSIC</td>\n",
       "      <td>yo yo classic novelty toys</td>\n",
       "    </tr>\n",
       "    <tr>\n",
       "      <th>94962</th>\n",
       "      <td>31961418030</td>\n",
       "      <td>Hot Dogs</td>\n",
       "      <td>Not Available in Syndigo File</td>\n",
       "      <td>NaN</td>\n",
       "      <td>NaN</td>\n",
       "      <td>NaN</td>\n",
       "      <td>NaN</td>\n",
       "      <td>NaN</td>\n",
       "      <td>NaN</td>\n",
       "      <td>NaN</td>\n",
       "      <td>NaN</td>\n",
       "      <td>NaN</td>\n",
       "      <td>NaN</td>\n",
       "      <td>MEAT</td>\n",
       "      <td>PKG MEAT</td>\n",
       "      <td>PKG MEAT</td>\n",
       "      <td>HOT DOGS</td>\n",
       "      <td>HOT DOGS - BASE MEAT</td>\n",
       "      <td>OLD FASHIONED FRANKFURTERS</td>\n",
       "      <td>old fashioned frankfurters hot dogs - base meat</td>\n",
       "    </tr>\n",
       "  </tbody>\n",
       "</table>\n",
       "<p>1132 rows × 20 columns</p>\n",
       "</div>"
      ]
     },
     "metadata": {
      "application/vnd.databricks.v1+output": {
       "addedWidgets": {},
       "arguments": {},
       "data": "<div>\n<style scoped>\n    .dataframe tbody tr th:only-of-type {\n        vertical-align: middle;\n    }\n\n    .dataframe tbody tr th {\n        vertical-align: top;\n    }\n\n    .dataframe thead th {\n        text-align: right;\n    }\n</style>\n<table border=\"1\" class=\"dataframe\">\n  <thead>\n    <tr style=\"text-align: right;\">\n      <th></th>\n      <th>GTIN</th>\n      <th>Syndigo Taxonomy</th>\n      <th>Level Mapped</th>\n      <th>Level 1</th>\n      <th>Level 2</th>\n      <th>Level 3</th>\n      <th>Level 4</th>\n      <th>Level 5</th>\n      <th>Level 6</th>\n      <th>Level 7</th>\n      <th>Level 8</th>\n      <th>Level 9</th>\n      <th>Level 10</th>\n      <th>PMY_DPT_DSC</th>\n      <th>REC_DPT_DSC</th>\n      <th>DPT_DSC</th>\n      <th>COM_DSC</th>\n      <th>SUBCOM_DSC</th>\n      <th>VND_ECOM_DSC</th>\n      <th>ITEM_SUBCOM_text</th>\n    </tr>\n  </thead>\n  <tbody>\n    <tr>\n      <th>51</th>\n      <td>71249253120</td>\n      <td>Hair Coloring Tools</td>\n      <td>Not Available in Syndigo File</td>\n      <td>NaN</td>\n      <td>NaN</td>\n      <td>NaN</td>\n      <td>NaN</td>\n      <td>NaN</td>\n      <td>NaN</td>\n      <td>NaN</td>\n      <td>NaN</td>\n      <td>NaN</td>\n      <td>NaN</td>\n      <td>DRUG/GM</td>\n      <td>HBC</td>\n      <td>BEAUTY</td>\n      <td>HAIR COLOR AND DEVELOPERS</td>\n      <td>PERMANENT</td>\n      <td>L'Oreal Paris Superior Preference 6R Light Aub...</td>\n      <td>l'oreal paris superior preference 6r light aub...</td>\n    </tr>\n    <tr>\n      <th>379</th>\n      <td>813277012528</td>\n      <td>Personal Repellents</td>\n      <td>Not Available in Syndigo File</td>\n      <td>NaN</td>\n      <td>NaN</td>\n      <td>NaN</td>\n      <td>NaN</td>\n      <td>NaN</td>\n      <td>NaN</td>\n      <td>NaN</td>\n      <td>NaN</td>\n      <td>NaN</td>\n      <td>NaN</td>\n      <td>DRUG/GM</td>\n      <td>HBC</td>\n      <td>BABY</td>\n      <td>NF BABY CARE</td>\n      <td>NF MISC BABY PRODUCTS</td>\n      <td>Babyganics Bug Spray - 6oz</td>\n      <td>babyganics bug spray - 6oz nf misc baby products</td>\n    </tr>\n    <tr>\n      <th>407</th>\n      <td>363736443009</td>\n      <td>Yeast Infection Treatments</td>\n      <td>Not Available in Syndigo File</td>\n      <td>NaN</td>\n      <td>NaN</td>\n      <td>NaN</td>\n      <td>NaN</td>\n      <td>NaN</td>\n      <td>NaN</td>\n      <td>NaN</td>\n      <td>NaN</td>\n      <td>NaN</td>\n      <td>NaN</td>\n      <td>DRUG/GM</td>\n      <td>HBC</td>\n      <td>PERSONAL CARE</td>\n      <td>FEMININE HYGIENE</td>\n      <td>FEM YEAST TREATMENTS</td>\n      <td>MONISTAT 3 CURE &amp; ITCH RELIEF - CREAM</td>\n      <td>monistat 3 cure &amp; itch relief - cream fem yeas...</td>\n    </tr>\n    <tr>\n      <th>453</th>\n      <td>850732006340</td>\n      <td>Mixed Deli Trays / Variety Packs (Perishable)</td>\n      <td>Not Available in Syndigo File</td>\n      <td>NaN</td>\n      <td>NaN</td>\n      <td>NaN</td>\n      <td>NaN</td>\n      <td>NaN</td>\n      <td>NaN</td>\n      <td>NaN</td>\n      <td>NaN</td>\n      <td>NaN</td>\n      <td>NaN</td>\n      <td>DELI/BAKE</td>\n      <td>SPECIALTY CHS</td>\n      <td>PKG SPECIALTY</td>\n      <td>SPECIALTY CHEESE PRE PACK</td>\n      <td>SPECIALTY CHARCUTERIE</td>\n      <td>Creminelli Fine Meats Sliced Felino &amp; Manchego...</td>\n      <td>creminelli fine meats sliced felino &amp; manchego...</td>\n    </tr>\n    <tr>\n      <th>520</th>\n      <td>44700102954</td>\n      <td>Pizza (Perishable)</td>\n      <td>Not Available in Syndigo File</td>\n      <td>NaN</td>\n      <td>NaN</td>\n      <td>NaN</td>\n      <td>NaN</td>\n      <td>NaN</td>\n      <td>NaN</td>\n      <td>NaN</td>\n      <td>NaN</td>\n      <td>NaN</td>\n      <td>NaN</td>\n      <td>MEAT</td>\n      <td>PKG MEAT</td>\n      <td>PKG MEAT</td>\n      <td>CONVENIENT MEALS</td>\n      <td>CONVENIENT MEALS - WITH DRINK</td>\n      <td>Lunchables Uploaded Pepperoni Deep Dish Pizza ...</td>\n      <td>lunchables uploaded pepperoni deep dish pizza ...</td>\n    </tr>\n    <tr>\n      <th>...</th>\n      <td>...</td>\n      <td>...</td>\n      <td>...</td>\n      <td>...</td>\n      <td>...</td>\n      <td>...</td>\n      <td>...</td>\n      <td>...</td>\n      <td>...</td>\n      <td>...</td>\n      <td>...</td>\n      <td>...</td>\n      <td>...</td>\n      <td>...</td>\n      <td>...</td>\n      <td>...</td>\n      <td>...</td>\n      <td>...</td>\n      <td>...</td>\n      <td>...</td>\n    </tr>\n    <tr>\n      <th>94852</th>\n      <td>626608002125</td>\n      <td>Dairy &amp; Egg Products</td>\n      <td>Not Available in Syndigo File</td>\n      <td>NaN</td>\n      <td>NaN</td>\n      <td>NaN</td>\n      <td>NaN</td>\n      <td>NaN</td>\n      <td>NaN</td>\n      <td>NaN</td>\n      <td>NaN</td>\n      <td>NaN</td>\n      <td>NaN</td>\n      <td>DRUG/GM</td>\n      <td>HBC</td>\n      <td>HEALTH</td>\n      <td>NF NUTRITION VITAMINS</td>\n      <td>NUT SUPP-CLEANSE/DIGESTION</td>\n      <td>Bio-K+ Fermented Rice Probiotic – Blueberry – ...</td>\n      <td>bio-k+ fermented rice probiotic – blueberry – ...</td>\n    </tr>\n    <tr>\n      <th>94878</th>\n      <td>80376020215</td>\n      <td>Arch</td>\n      <td>Not Available in Syndigo File</td>\n      <td>NaN</td>\n      <td>NaN</td>\n      <td>NaN</td>\n      <td>NaN</td>\n      <td>NaN</td>\n      <td>NaN</td>\n      <td>NaN</td>\n      <td>NaN</td>\n      <td>NaN</td>\n      <td>NaN</td>\n      <td>DRUG/GM</td>\n      <td>HBC</td>\n      <td>HEALTH</td>\n      <td>FOOT CARE PRODUCTS</td>\n      <td>INSOLE ORTHOTIC DEVICE</td>\n      <td>Triad-Wmn</td>\n      <td>triad-wmn insole orthotic device</td>\n    </tr>\n    <tr>\n      <th>94938</th>\n      <td>74764680259</td>\n      <td>Cosmetics</td>\n      <td>Not Available in Syndigo File</td>\n      <td>NaN</td>\n      <td>NaN</td>\n      <td>NaN</td>\n      <td>NaN</td>\n      <td>NaN</td>\n      <td>NaN</td>\n      <td>NaN</td>\n      <td>NaN</td>\n      <td>NaN</td>\n      <td>NaN</td>\n      <td>DRUG/GM</td>\n      <td>HBC</td>\n      <td>BEAUTY</td>\n      <td>NAILCARE/LASH/COTTON</td>\n      <td>ARDELL EYE</td>\n      <td>Ardell Lash Grip Adhesive</td>\n      <td>ardell lash grip adhesive ardell eye</td>\n    </tr>\n    <tr>\n      <th>94946</th>\n      <td>75656019867</td>\n      <td>Spinning Tops</td>\n      <td>Not Available in Syndigo File</td>\n      <td>NaN</td>\n      <td>NaN</td>\n      <td>NaN</td>\n      <td>NaN</td>\n      <td>NaN</td>\n      <td>NaN</td>\n      <td>NaN</td>\n      <td>NaN</td>\n      <td>NaN</td>\n      <td>NaN</td>\n      <td>DRUG/GM</td>\n      <td>GM</td>\n      <td>TOYS</td>\n      <td>SEASONAL/NOVELTY</td>\n      <td>NOVELTY TOYS</td>\n      <td>YO YO CLASSIC</td>\n      <td>yo yo classic novelty toys</td>\n    </tr>\n    <tr>\n      <th>94962</th>\n      <td>31961418030</td>\n      <td>Hot Dogs</td>\n      <td>Not Available in Syndigo File</td>\n      <td>NaN</td>\n      <td>NaN</td>\n      <td>NaN</td>\n      <td>NaN</td>\n      <td>NaN</td>\n      <td>NaN</td>\n      <td>NaN</td>\n      <td>NaN</td>\n      <td>NaN</td>\n      <td>NaN</td>\n      <td>MEAT</td>\n      <td>PKG MEAT</td>\n      <td>PKG MEAT</td>\n      <td>HOT DOGS</td>\n      <td>HOT DOGS - BASE MEAT</td>\n      <td>OLD FASHIONED FRANKFURTERS</td>\n      <td>old fashioned frankfurters hot dogs - base meat</td>\n    </tr>\n  </tbody>\n</table>\n<p>1132 rows × 20 columns</p>\n</div>",
       "datasetInfos": [],
       "metadata": {},
       "removedWidgets": [],
       "textData": null,
       "type": "htmlSandbox"
      }
     },
     "output_type": "display_data"
    }
   ],
   "source": [
    "syndigo_mapped[syndigo_mapped['Level 1'].isnull()]"
   ]
  },
  {
   "cell_type": "markdown",
   "metadata": {
    "application/vnd.databricks.v1+cell": {
     "cellMetadata": {
      "byteLimit": 2048000,
      "rowLimit": 10000
     },
     "inputWidgets": {},
     "nuid": "1353a752-238a-439d-90de-ea7a7eb77884",
     "showTitle": false,
     "title": ""
    }
   },
   "source": [
    "# create model instance\n",
    "rf = RandomForestClassifier(n_estimators= 100, max_depth= 5, min_samples_split= 2)\n",
    "# fit model\n",
    "rf.fit(X_train, y_train)\n",
    "# make predictions\n",
    "preds = rf.predict(X_test)"
   ]
  },
  {
   "cell_type": "code",
   "execution_count": 0,
   "metadata": {
    "application/vnd.databricks.v1+cell": {
     "cellMetadata": {
      "byteLimit": 2048000,
      "rowLimit": 10000
     },
     "inputWidgets": {},
     "nuid": "84ab8d69-3156-4609-865a-e1bc5f3552f7",
     "showTitle": false,
     "title": ""
    }
   },
   "outputs": [
    {
     "data": {
      "text/html": [
       "<style scoped>\n",
       "  .ansiout {\n",
       "    display: block;\n",
       "    unicode-bidi: embed;\n",
       "    white-space: pre-wrap;\n",
       "    word-wrap: break-word;\n",
       "    word-break: break-all;\n",
       "    font-family: \"Source Code Pro\", \"Menlo\", monospace;;\n",
       "    font-size: 13px;\n",
       "    color: #555;\n",
       "    margin-left: 4px;\n",
       "    line-height: 19px;\n",
       "  }\n",
       "</style>\n",
       "<div class=\"ansiout\"></div>"
      ]
     },
     "metadata": {
      "application/vnd.databricks.v1+output": {
       "addedWidgets": {},
       "arguments": {},
       "data": "<div class=\"ansiout\"></div>",
       "datasetInfos": [],
       "metadata": {},
       "removedWidgets": [],
       "type": "html"
      }
     },
     "output_type": "display_data"
    }
   ],
   "source": [
    "# create model instance\n",
    "lr_w2v = LogisticRegression(C = 10, multi_class = 'multinomial', solver = 'saga')\n",
    "# fit model\n",
    "lr_w2v.fit(X_train, y_train)\n",
    "# make predictions\n",
    "preds = lr_w2v.predict(X_test)"
   ]
  },
  {
   "cell_type": "code",
   "execution_count": 0,
   "metadata": {
    "application/vnd.databricks.v1+cell": {
     "cellMetadata": {
      "byteLimit": 2048000,
      "rowLimit": 10000
     },
     "inputWidgets": {},
     "nuid": "44957128-0739-4f9a-9467-5f19dfe19274",
     "showTitle": false,
     "title": ""
    }
   },
   "outputs": [],
   "source": [
    "### Evaluate model\n",
    "from sklearn.metrics import ConfusionMatrixDisplay, classification_report, confusion_matrix"
   ]
  },
  {
   "cell_type": "code",
   "execution_count": 0,
   "metadata": {
    "application/vnd.databricks.v1+cell": {
     "cellMetadata": {
      "byteLimit": 2048000,
      "rowLimit": 10000
     },
     "inputWidgets": {},
     "nuid": "6405d167-8805-4e47-a41e-2e44c6df54b5",
     "showTitle": false,
     "title": ""
    },
    "scrolled": true
   },
   "outputs": [
    {
     "data": {
      "text/html": [
       "<style scoped>\n",
       "  .ansiout {\n",
       "    display: block;\n",
       "    unicode-bidi: embed;\n",
       "    white-space: pre-wrap;\n",
       "    word-wrap: break-word;\n",
       "    word-break: break-all;\n",
       "    font-family: \"Source Code Pro\", \"Menlo\", monospace;;\n",
       "    font-size: 13px;\n",
       "    color: #555;\n",
       "    margin-left: 4px;\n",
       "    line-height: 19px;\n",
       "  }\n",
       "</style>\n",
       "<div class=\"ansiout\"></div>"
      ]
     },
     "metadata": {
      "application/vnd.databricks.v1+output": {
       "addedWidgets": {},
       "arguments": {},
       "data": "<div class=\"ansiout\"></div>",
       "datasetInfos": [],
       "metadata": {},
       "removedWidgets": [],
       "type": "html"
      }
     },
     "output_type": "display_data"
    },
    {
     "data": {
      "text/html": [
       "<style scoped>\n",
       "  .ansiout {\n",
       "    display: block;\n",
       "    unicode-bidi: embed;\n",
       "    white-space: pre-wrap;\n",
       "    word-wrap: break-word;\n",
       "    word-break: break-all;\n",
       "    font-family: \"Source Code Pro\", \"Menlo\", monospace;;\n",
       "    font-size: 13px;\n",
       "    color: #555;\n",
       "    margin-left: 4px;\n",
       "    line-height: 19px;\n",
       "  }\n",
       "</style>\n",
       "<div class=\"ansiout\"><span class=\"ansi-red-fg\">---------------------------------------------------------------------------</span>\n",
       "<span class=\"ansi-red-fg\">NameError</span>                                 Traceback (most recent call last)\n",
       "<span class=\"ansi-green-fg\">&lt;command-1408063137345799&gt;</span> in <span class=\"ansi-cyan-fg\">&lt;module&gt;</span>\n",
       "<span class=\"ansi-green-fg\">----&gt; 1</span><span class=\"ansi-red-fg\"> </span>print<span class=\"ansi-blue-fg\">(</span>classification_report<span class=\"ansi-blue-fg\">(</span> y_test<span class=\"ansi-blue-fg\">,</span> lr_w2v<span class=\"ansi-blue-fg\">.</span>predict<span class=\"ansi-blue-fg\">(</span>X_test<span class=\"ansi-blue-fg\">)</span><span class=\"ansi-blue-fg\">,</span> target_names <span class=\"ansi-blue-fg\">=</span> level1_id_map<span class=\"ansi-blue-fg\">.</span>keys<span class=\"ansi-blue-fg\">(</span><span class=\"ansi-blue-fg\">)</span><span class=\"ansi-blue-fg\">)</span><span class=\"ansi-blue-fg\">)</span>\n",
       "\n",
       "<span class=\"ansi-red-fg\">NameError</span>: name &#39;classification_report&#39; is not defined</div>"
      ]
     },
     "metadata": {
      "application/vnd.databricks.v1+output": {
       "arguments": {},
       "data": "<div class=\"ansiout\"><span class=\"ansi-red-fg\">---------------------------------------------------------------------------</span>\n<span class=\"ansi-red-fg\">NameError</span>                                 Traceback (most recent call last)\n<span class=\"ansi-green-fg\">&lt;command-1408063137345799&gt;</span> in <span class=\"ansi-cyan-fg\">&lt;module&gt;</span>\n<span class=\"ansi-green-fg\">----&gt; 1</span><span class=\"ansi-red-fg\"> </span>print<span class=\"ansi-blue-fg\">(</span>classification_report<span class=\"ansi-blue-fg\">(</span> y_test<span class=\"ansi-blue-fg\">,</span> lr_w2v<span class=\"ansi-blue-fg\">.</span>predict<span class=\"ansi-blue-fg\">(</span>X_test<span class=\"ansi-blue-fg\">)</span><span class=\"ansi-blue-fg\">,</span> target_names <span class=\"ansi-blue-fg\">=</span> level1_id_map<span class=\"ansi-blue-fg\">.</span>keys<span class=\"ansi-blue-fg\">(</span><span class=\"ansi-blue-fg\">)</span><span class=\"ansi-blue-fg\">)</span><span class=\"ansi-blue-fg\">)</span>\n\n<span class=\"ansi-red-fg\">NameError</span>: name &#39;classification_report&#39; is not defined</div>",
       "errorSummary": "<span class=\"ansi-red-fg\">NameError</span>: name &#39;classification_report&#39; is not defined",
       "errorTraceType": "html",
       "metadata": {},
       "type": "ipynbError"
      }
     },
     "output_type": "display_data"
    }
   ],
   "source": [
    "print(classification_report( y_test, lr_w2v.predict(X_test), target_names = level1_id_map.keys()))"
   ]
  },
  {
   "cell_type": "code",
   "execution_count": 0,
   "metadata": {
    "application/vnd.databricks.v1+cell": {
     "cellMetadata": {
      "byteLimit": 2048000,
      "rowLimit": 10000
     },
     "inputWidgets": {},
     "nuid": "db3f2dbc-4e30-4d77-802e-1254e96b21dc",
     "showTitle": false,
     "title": ""
    },
    "scrolled": true
   },
   "outputs": [
    {
     "data": {
      "text/html": [
       "<style scoped>\n",
       "  .ansiout {\n",
       "    display: block;\n",
       "    unicode-bidi: embed;\n",
       "    white-space: pre-wrap;\n",
       "    word-wrap: break-word;\n",
       "    word-break: break-all;\n",
       "    font-family: \"Source Code Pro\", \"Menlo\", monospace;;\n",
       "    font-size: 13px;\n",
       "    color: #555;\n",
       "    margin-left: 4px;\n",
       "    line-height: 19px;\n",
       "  }\n",
       "</style>\n",
       "<div class=\"ansiout\">                                          precision    recall  f1-score   support\n",
       "\n",
       "                   Beer / Wine / Spirits       0.98      0.99      0.98      8913\n",
       "                        Food / Beverages       0.98      0.99      0.98     40633\n",
       "                         Health &amp; Beauty       0.95      0.96      0.96     15928\n",
       "                    Gardening &amp; Outdoors       0.80      0.77      0.78       506\n",
       "                   Cleaning &amp; Janitorial       0.89      0.85      0.87      2284\n",
       "                Livestock &amp; Pet Supplies       0.97      0.98      0.97      1801\n",
       "                      Kitchen &amp; Bathroom       0.79      0.86      0.82      1051\n",
       "                                               0.62      0.18      0.27       906\n",
       "                             Electronics       0.91      0.94      0.93       312\n",
       "Heating / Ventilation / Air Conditioning       0.91      0.86      0.88        70\n",
       "                               Childcare       0.92      0.90      0.91       402\n",
       "                 Home &amp; Venue Decoration       0.76      0.77      0.77       607\n",
       "                  Toys / Games / Hobbies       0.88      0.92      0.90       486\n",
       "                         Office Supplies       0.80      0.83      0.81       401\n",
       "                              Appliances       0.88      0.74      0.80       135\n",
       "                                 Apparel       0.78      0.58      0.66       132\n",
       "                         Lighting &amp; Fans       0.87      0.92      0.89        97\n",
       "                    Hospitality Supplies       0.82      0.78      0.80        74\n",
       "                                Hardware       0.78      0.80      0.79       238\n",
       "                              Automotive       0.81      0.83      0.82       266\n",
       "                                   Tools       0.82      0.73      0.77        49\n",
       "                Plumbing &amp; Water Service       0.76      0.71      0.73        58\n",
       "                            Power Sports       0.86      0.46      0.60        13\n",
       "                        Tobacco Products       1.00      1.00      1.00       312\n",
       "                           Arts &amp; Crafts       0.71      0.70      0.71       166\n",
       "   Sports &amp; Outdoor Recreation Equipment       0.72      0.67      0.69       114\n",
       "                       Building Supplies       0.00      0.00      0.00         3\n",
       "                       Paints &amp; Coatings       0.88      0.68      0.77        22\n",
       "                              Electrical       0.91      0.69      0.78        29\n",
       "                          Books &amp; Videos       1.00      0.14      0.25         7\n",
       "                               Furniture       1.00      0.60      0.75         5\n",
       "                                  Marine       0.00      0.00      0.00         2\n",
       "                       Material Handling       0.00      0.00      0.00         3\n",
       "\n",
       "                                accuracy                           0.96     76025\n",
       "                               macro avg       0.78      0.69      0.72     76025\n",
       "                            weighted avg       0.95      0.96      0.95     76025\n",
       "\n",
       "</div>"
      ]
     },
     "metadata": {
      "application/vnd.databricks.v1+output": {
       "addedWidgets": {},
       "arguments": {},
       "data": "<div class=\"ansiout\">                                          precision    recall  f1-score   support\n\n                   Beer / Wine / Spirits       0.98      0.99      0.98      8913\n                        Food / Beverages       0.98      0.99      0.98     40633\n                         Health &amp; Beauty       0.95      0.96      0.96     15928\n                    Gardening &amp; Outdoors       0.80      0.77      0.78       506\n                   Cleaning &amp; Janitorial       0.89      0.85      0.87      2284\n                Livestock &amp; Pet Supplies       0.97      0.98      0.97      1801\n                      Kitchen &amp; Bathroom       0.79      0.86      0.82      1051\n                                               0.62      0.18      0.27       906\n                             Electronics       0.91      0.94      0.93       312\nHeating / Ventilation / Air Conditioning       0.91      0.86      0.88        70\n                               Childcare       0.92      0.90      0.91       402\n                 Home &amp; Venue Decoration       0.76      0.77      0.77       607\n                  Toys / Games / Hobbies       0.88      0.92      0.90       486\n                         Office Supplies       0.80      0.83      0.81       401\n                              Appliances       0.88      0.74      0.80       135\n                                 Apparel       0.78      0.58      0.66       132\n                         Lighting &amp; Fans       0.87      0.92      0.89        97\n                    Hospitality Supplies       0.82      0.78      0.80        74\n                                Hardware       0.78      0.80      0.79       238\n                              Automotive       0.81      0.83      0.82       266\n                                   Tools       0.82      0.73      0.77        49\n                Plumbing &amp; Water Service       0.76      0.71      0.73        58\n                            Power Sports       0.86      0.46      0.60        13\n                        Tobacco Products       1.00      1.00      1.00       312\n                           Arts &amp; Crafts       0.71      0.70      0.71       166\n   Sports &amp; Outdoor Recreation Equipment       0.72      0.67      0.69       114\n                       Building Supplies       0.00      0.00      0.00         3\n                       Paints &amp; Coatings       0.88      0.68      0.77        22\n                              Electrical       0.91      0.69      0.78        29\n                          Books &amp; Videos       1.00      0.14      0.25         7\n                               Furniture       1.00      0.60      0.75         5\n                                  Marine       0.00      0.00      0.00         2\n                       Material Handling       0.00      0.00      0.00         3\n\n                                accuracy                           0.96     76025\n                               macro avg       0.78      0.69      0.72     76025\n                            weighted avg       0.95      0.96      0.95     76025\n\n</div>",
       "datasetInfos": [],
       "metadata": {},
       "removedWidgets": [],
       "type": "html"
      }
     },
     "output_type": "display_data"
    }
   ],
   "source": [
    "preds_train = lr_w2v.predict(X_train)\n",
    "print(classification_report( y_train, preds_train, target_names = level1_id_map.keys()))"
   ]
  },
  {
   "cell_type": "markdown",
   "metadata": {
    "application/vnd.databricks.v1+cell": {
     "cellMetadata": {},
     "inputWidgets": {},
     "nuid": "f6f78a76-e19d-4fbd-a9c9-d33ce0d0efca",
     "showTitle": false,
     "title": ""
    }
   },
   "source": [
    "### TFIDF vectorization"
   ]
  },
  {
   "cell_type": "code",
   "execution_count": 0,
   "metadata": {
    "application/vnd.databricks.v1+cell": {
     "cellMetadata": {
      "byteLimit": 2048000,
      "rowLimit": 10000
     },
     "inputWidgets": {},
     "nuid": "95843184-a6ed-4e6c-bebc-a1f48883dda5",
     "showTitle": false,
     "title": ""
    }
   },
   "outputs": [],
   "source": [
    "Level1_items = pd.concat([syndigo_mapped[['GTIN','Level 1']], syndigo_concat[['GTIN','Level 1']]])\n",
    "Level1_items = Level1_items[Level1_items['Level 1']!= 'None']\n",
    "Level1_items.drop_duplicates('GTIN', inplace = True)"
   ]
  },
  {
   "cell_type": "code",
   "execution_count": 0,
   "metadata": {
    "application/vnd.databricks.v1+cell": {
     "cellMetadata": {
      "byteLimit": 2048000,
      "rowLimit": 10000
     },
     "inputWidgets": {},
     "nuid": "0624dc24-c3e7-4a9f-b071-6bb2d92446f0",
     "showTitle": false,
     "title": ""
    }
   },
   "outputs": [
    {
     "name": "stdout",
     "output_type": "stream",
     "text": [
      "Out[29]: Index(['ITM_ID', 'GTIN', 'GTIN_NAM', 'CON_UNT_ITM_DSC', 'DSP_UNT_ITM_DSC',\n",
      "       'PMY_DPT_DSC', 'REC_DPT_DSC', 'DPT_DSC', 'COM_DSC', 'SUBCOM_DSC',\n",
      "       'TAG_DSC', 'RCT_DSC', 'ITM_LVL_DSC', 'GRP_LVL_DSC',\n",
      "       'NET_CONT_EQV_QY_VIP_TO_KRG_QY', 'NET_CONT_EQV_UOM_VIP_TO_KRG_UOM',\n",
      "       'GTIN_HGT_OVD', 'GTIN_LTH_OVD', 'GTIN_WTH_OVD', 'GRS_WGT_OVD',\n",
      "       'GTIN_NET_WGT_OVD', 'MIN_DAYS_OF_SHF_LIF_AT_WHS_DAYS', 'TPT_CLS_CD',\n",
      "       'TPT_CLS_VLU', 'MAX_DAYS_OF_SHF_LIF_AT_WHS_DTB_CET_DAYS',\n",
      "       'TYP_OF_LBL_CD', 'TYP_OF_LBL_VLU', 'SIZ_CD', 'SIZ_CD_VLU', 'SIZ_QY',\n",
      "       'IS_EDBL_CD', 'IS_EDBL_VLU', 'VND_ECOM_DSC', 'KRG_OWN_ECOM_DSC',\n",
      "       'CORRECT_ITM_ID', 'PMY_DPT_CD', 'REC_DPT_CD', 'DPT_CD', 'COM_CD',\n",
      "       'SUBCOM_CD'],\n",
      "      dtype='object')"
     ]
    }
   ],
   "source": [
    "pimmart.columns"
   ]
  },
  {
   "cell_type": "code",
   "execution_count": 0,
   "metadata": {
    "application/vnd.databricks.v1+cell": {
     "cellMetadata": {
      "byteLimit": 2048000,
      "rowLimit": 10000
     },
     "inputWidgets": {},
     "nuid": "9ff6cfab-577f-4245-b683-749c35cb1ba3",
     "showTitle": false,
     "title": ""
    }
   },
   "outputs": [],
   "source": [
    "Level1_items = Level1_items.merge(pimmart[['GTIN','DPT_DSC','COM_DSC','SUBCOM_DSC','VND_ECOM_DSC']], on = 'GTIN', how = 'left')"
   ]
  },
  {
   "cell_type": "code",
   "execution_count": 0,
   "metadata": {
    "application/vnd.databricks.v1+cell": {
     "cellMetadata": {
      "byteLimit": 2048000,
      "rowLimit": 10000
     },
     "inputWidgets": {},
     "nuid": "01b1c16b-60fd-4477-81ad-8d7b3d927bce",
     "showTitle": false,
     "title": ""
    }
   },
   "outputs": [
    {
     "name": "stdout",
     "output_type": "stream",
     "text": [
      "Out[32]: Food / Beverages                            63713\n",
      "Health & Beauty                             27777\n",
      "Beer / Wine / Spirits                       11906\n",
      "Cleaning & Janitorial                        4472\n",
      "Livestock & Pet Supplies                     3278\n",
      "Kitchen & Bathroom                           2636\n",
      "Home & Venue Decoration                      1373\n",
      "Toys / Games / Hobbies                       1354\n",
      "Gardening & Outdoors                         1224\n",
      "Office Supplies                              1003\n",
      "Childcare                                     901\n",
      "Electronics                                   790\n",
      "Lighting & Fans                               685\n",
      "Hardware                                      581\n",
      "Tobacco Products                              471\n",
      "Automotive                                    454\n",
      "Apparel                                       452\n",
      "Arts & Crafts                                 413\n",
      "Appliances                                    363\n",
      "Sports & Outdoor Recreation Equipment         302\n",
      "Tools                                         275\n",
      "Not classified                                236\n",
      "Hospitality Supplies                          215\n",
      "Books & Videos                                138\n",
      "Heating / Ventilation / Air Conditioning      120\n",
      "Plumbing & Water Service                      106\n",
      "Electrical                                    103\n",
      "Paints & Coatings                              41\n",
      "Building Supplies                              29\n",
      "Power Sports                                   25\n",
      "Furniture                                      22\n",
      "Marine                                          7\n",
      "Material Handling                               5\n",
      "Flooring                                        4\n",
      "Agricultural Equipment                          3\n",
      "Name: Level 1, dtype: int64"
     ]
    }
   ],
   "source": [
    "Level1_items['Level 1'].value_counts()"
   ]
  },
  {
   "cell_type": "code",
   "execution_count": 0,
   "metadata": {
    "application/vnd.databricks.v1+cell": {
     "cellMetadata": {
      "byteLimit": 2048000,
      "rowLimit": 10000
     },
     "inputWidgets": {},
     "nuid": "d7811b52-12e3-4914-9714-1063e3c046e7",
     "showTitle": false,
     "title": ""
    }
   },
   "outputs": [
    {
     "data": {
      "text/html": [
       "<div>\n",
       "<style scoped>\n",
       "    .dataframe tbody tr th:only-of-type {\n",
       "        vertical-align: middle;\n",
       "    }\n",
       "\n",
       "    .dataframe tbody tr th {\n",
       "        vertical-align: top;\n",
       "    }\n",
       "\n",
       "    .dataframe thead th {\n",
       "        text-align: right;\n",
       "    }\n",
       "</style>\n",
       "<table border=\"1\" class=\"dataframe\">\n",
       "  <thead>\n",
       "    <tr style=\"text-align: right;\">\n",
       "      <th></th>\n",
       "      <th>GTIN</th>\n",
       "      <th>Level 1</th>\n",
       "      <th>DPT_DSC</th>\n",
       "      <th>COM_DSC</th>\n",
       "      <th>SUBCOM_DSC</th>\n",
       "      <th>VND_ECOM_DSC</th>\n",
       "      <th>ITEM_SUBCOM_text</th>\n",
       "      <th>ITEM_DPT_text</th>\n",
       "    </tr>\n",
       "  </thead>\n",
       "  <tbody>\n",
       "    <tr>\n",
       "      <th>30311</th>\n",
       "      <td>8.882541e+11</td>\n",
       "      <td>Apparel</td>\n",
       "      <td>MENS WEAR</td>\n",
       "      <td>MENS UNDERWEAR</td>\n",
       "      <td>OTHER UNDERWEAR</td>\n",
       "      <td>3PK SP BB BLK/BK L</td>\n",
       "      <td>3pk sp bb blk/bk l other underwear</td>\n",
       "      <td>3pk sp bb blk/bk l mens wear</td>\n",
       "    </tr>\n",
       "    <tr>\n",
       "      <th>50654</th>\n",
       "      <td>8.882541e+11</td>\n",
       "      <td>Apparel</td>\n",
       "      <td>MENS WEAR</td>\n",
       "      <td>MENS UNDERWEAR</td>\n",
       "      <td>OTHER UNDERWEAR</td>\n",
       "      <td>3PK SP BB BLK/BK M</td>\n",
       "      <td>3pk sp bb blk/bk m other underwear</td>\n",
       "      <td>3pk sp bb blk/bk m mens wear</td>\n",
       "    </tr>\n",
       "    <tr>\n",
       "      <th>58368</th>\n",
       "      <td>7.161069e+11</td>\n",
       "      <td>Apparel</td>\n",
       "      <td>MENS WEAR</td>\n",
       "      <td>MENS UNDERWEAR</td>\n",
       "      <td>OTHER UNDERWEAR</td>\n",
       "      <td>3PK SP LL BLACK M</td>\n",
       "      <td>3pk sp ll black m other underwear</td>\n",
       "      <td>3pk sp ll black m mens wear</td>\n",
       "    </tr>\n",
       "    <tr>\n",
       "      <th>64015</th>\n",
       "      <td>8.882541e+11</td>\n",
       "      <td>Apparel</td>\n",
       "      <td>MENS WEAR</td>\n",
       "      <td>MENS UNDERWEAR</td>\n",
       "      <td>OTHER UNDERWEAR</td>\n",
       "      <td>3PK SP BB R/G/B L</td>\n",
       "      <td>3pk sp bb r/g/b l other underwear</td>\n",
       "      <td>3pk sp bb r/g/b l mens wear</td>\n",
       "    </tr>\n",
       "    <tr>\n",
       "      <th>71090</th>\n",
       "      <td>8.882541e+11</td>\n",
       "      <td>Apparel</td>\n",
       "      <td>MENS WEAR</td>\n",
       "      <td>MENS UNDERWEAR</td>\n",
       "      <td>OTHER UNDERWEAR</td>\n",
       "      <td>3PK SP BB R/G/B XL</td>\n",
       "      <td>3pk sp bb r/g/b xl other underwear</td>\n",
       "      <td>3pk sp bb r/g/b xl mens wear</td>\n",
       "    </tr>\n",
       "    <tr>\n",
       "      <th>78956</th>\n",
       "      <td>8.882541e+11</td>\n",
       "      <td>Apparel</td>\n",
       "      <td>MENS WEAR</td>\n",
       "      <td>MENS UNDERWEAR</td>\n",
       "      <td>OTHER UNDERWEAR</td>\n",
       "      <td>3PK SP BB BLK/BK M</td>\n",
       "      <td>3pk sp bb blk/bk m other underwear</td>\n",
       "      <td>3pk sp bb blk/bk m mens wear</td>\n",
       "    </tr>\n",
       "    <tr>\n",
       "      <th>95060</th>\n",
       "      <td>8.882541e+11</td>\n",
       "      <td>Apparel</td>\n",
       "      <td>MENS WEAR</td>\n",
       "      <td>MENS UNDERWEAR</td>\n",
       "      <td>OTHER UNDERWEAR</td>\n",
       "      <td>3PK CT BB BLK/BK L</td>\n",
       "      <td>3pk ct bb blk/bk l other underwear</td>\n",
       "      <td>3pk ct bb blk/bk l mens wear</td>\n",
       "    </tr>\n",
       "    <tr>\n",
       "      <th>95459</th>\n",
       "      <td>7.161069e+11</td>\n",
       "      <td>Apparel</td>\n",
       "      <td>MENS WEAR</td>\n",
       "      <td>MENS UNDERWEAR</td>\n",
       "      <td>OTHER UNDERWEAR</td>\n",
       "      <td>3PK SP LL BLACK S</td>\n",
       "      <td>3pk sp ll black s other underwear</td>\n",
       "      <td>3pk sp ll black s mens wear</td>\n",
       "    </tr>\n",
       "    <tr>\n",
       "      <th>95687</th>\n",
       "      <td>8.882541e+11</td>\n",
       "      <td>Apparel</td>\n",
       "      <td>MENS WEAR</td>\n",
       "      <td>MENS UNDERWEAR</td>\n",
       "      <td>OTHER UNDERWEAR</td>\n",
       "      <td>3PK SP BB BLK/BK S</td>\n",
       "      <td>3pk sp bb blk/bk s other underwear</td>\n",
       "      <td>3pk sp bb blk/bk s mens wear</td>\n",
       "    </tr>\n",
       "    <tr>\n",
       "      <th>96006</th>\n",
       "      <td>8.882541e+11</td>\n",
       "      <td>Apparel</td>\n",
       "      <td>MENS WEAR</td>\n",
       "      <td>MENS UNDERWEAR</td>\n",
       "      <td>OTHER UNDERWEAR</td>\n",
       "      <td>3PK SP BB G/G/BK M</td>\n",
       "      <td>3pk sp bb g/g/bk m other underwear</td>\n",
       "      <td>3pk sp bb g/g/bk m mens wear</td>\n",
       "    </tr>\n",
       "    <tr>\n",
       "      <th>96076</th>\n",
       "      <td>8.882541e+11</td>\n",
       "      <td>Apparel</td>\n",
       "      <td>MENS WEAR</td>\n",
       "      <td>MENS UNDERWEAR</td>\n",
       "      <td>OTHER UNDERWEAR</td>\n",
       "      <td>3PK SP BB R/G/B S</td>\n",
       "      <td>3pk sp bb r/g/b s other underwear</td>\n",
       "      <td>3pk sp bb r/g/b s mens wear</td>\n",
       "    </tr>\n",
       "    <tr>\n",
       "      <th>96910</th>\n",
       "      <td>8.882541e+11</td>\n",
       "      <td>Apparel</td>\n",
       "      <td>MENS WEAR</td>\n",
       "      <td>MENS HOSIERY</td>\n",
       "      <td>MENS SPORT SOCKS</td>\n",
       "      <td>ADI 6PK SL NS-BLK</td>\n",
       "      <td>adi 6pk sl ns-blk mens sport socks</td>\n",
       "      <td>adi 6pk sl ns-blk mens wear</td>\n",
       "    </tr>\n",
       "    <tr>\n",
       "      <th>97256</th>\n",
       "      <td>3.825713e+10</td>\n",
       "      <td>Apparel</td>\n",
       "      <td>MENS WEAR</td>\n",
       "      <td>MENS HOSIERY</td>\n",
       "      <td>MENS SPORT SOCKS</td>\n",
       "      <td>Champion Inline 6 pack Synthetic Ankle CH171 W...</td>\n",
       "      <td>champion inline 6 pack synthetic ankle ch171 w...</td>\n",
       "      <td>champion inline 6 pack synthetic ankle ch171 w...</td>\n",
       "    </tr>\n",
       "    <tr>\n",
       "      <th>97268</th>\n",
       "      <td>7.001121e+10</td>\n",
       "      <td>Apparel</td>\n",
       "      <td>MENS WEAR</td>\n",
       "      <td>MENS HOSIERY</td>\n",
       "      <td>MENS SPORT SOCKS</td>\n",
       "      <td>NN CUSHION MEN'S CREW WHITE</td>\n",
       "      <td>nn cushion men's crew white mens sport socks</td>\n",
       "      <td>nn cushion men's crew white mens wear</td>\n",
       "    </tr>\n",
       "    <tr>\n",
       "      <th>97751</th>\n",
       "      <td>7.001121e+10</td>\n",
       "      <td>Apparel</td>\n",
       "      <td>MENS WEAR</td>\n",
       "      <td>MENS HOSIERY</td>\n",
       "      <td>MENS SPORT SOCKS</td>\n",
       "      <td>SFT &amp; BRTH MENS CRW WHT 3PK</td>\n",
       "      <td>sft &amp; brth mens crw wht 3pk mens sport socks</td>\n",
       "      <td>sft &amp; brth mens crw wht 3pk mens wear</td>\n",
       "    </tr>\n",
       "    <tr>\n",
       "      <th>98602</th>\n",
       "      <td>7.161069e+11</td>\n",
       "      <td>Apparel</td>\n",
       "      <td>MENS WEAR</td>\n",
       "      <td>MENS UNDERWEAR</td>\n",
       "      <td>OTHER UNDERWEAR</td>\n",
       "      <td>3PK PF MID ONX/B L</td>\n",
       "      <td>3pk pf mid onx/b l other underwear</td>\n",
       "      <td>3pk pf mid onx/b l mens wear</td>\n",
       "    </tr>\n",
       "    <tr>\n",
       "      <th>98760</th>\n",
       "      <td>7.001121e+10</td>\n",
       "      <td>Apparel</td>\n",
       "      <td>MENS WEAR</td>\n",
       "      <td>MENS HOSIERY</td>\n",
       "      <td>MENS SPORT SOCKS</td>\n",
       "      <td>NN MEN CSHN NOSHOW BLACK</td>\n",
       "      <td>nn men cshn noshow black mens sport socks</td>\n",
       "      <td>nn men cshn noshow black mens wear</td>\n",
       "    </tr>\n",
       "    <tr>\n",
       "      <th>98915</th>\n",
       "      <td>7.001121e+10</td>\n",
       "      <td>Apparel</td>\n",
       "      <td>MENS WEAR</td>\n",
       "      <td>MENS HOSIERY</td>\n",
       "      <td>MENS SPORT SOCKS</td>\n",
       "      <td>NN MEN CSHN ANKLE WHITE</td>\n",
       "      <td>nn men cshn ankle white mens sport socks</td>\n",
       "      <td>nn men cshn ankle white mens wear</td>\n",
       "    </tr>\n",
       "    <tr>\n",
       "      <th>98947</th>\n",
       "      <td>7.161069e+11</td>\n",
       "      <td>Apparel</td>\n",
       "      <td>MENS WEAR</td>\n",
       "      <td>MENS UNDERWEAR</td>\n",
       "      <td>OTHER UNDERWEAR</td>\n",
       "      <td>3PK PF MID ONX/B XL</td>\n",
       "      <td>3pk pf mid onx/b xl other underwear</td>\n",
       "      <td>3pk pf mid onx/b xl mens wear</td>\n",
       "    </tr>\n",
       "    <tr>\n",
       "      <th>99026</th>\n",
       "      <td>7.161069e+11</td>\n",
       "      <td>Apparel</td>\n",
       "      <td>MENS WEAR</td>\n",
       "      <td>MENS UNDERWEAR</td>\n",
       "      <td>OTHER UNDERWEAR</td>\n",
       "      <td>3PK PF BB ONX/BK S</td>\n",
       "      <td>3pk pf bb onx/bk s other underwear</td>\n",
       "      <td>3pk pf bb onx/bk s mens wear</td>\n",
       "    </tr>\n",
       "    <tr>\n",
       "      <th>99759</th>\n",
       "      <td>8.882541e+11</td>\n",
       "      <td>Apparel</td>\n",
       "      <td>MENS WEAR</td>\n",
       "      <td>MENS UNDERWEAR</td>\n",
       "      <td>OTHER UNDERWEAR</td>\n",
       "      <td>3PK SP BB G/G/BK XL</td>\n",
       "      <td>3pk sp bb g/g/bk xl other underwear</td>\n",
       "      <td>3pk sp bb g/g/bk xl mens wear</td>\n",
       "    </tr>\n",
       "    <tr>\n",
       "      <th>99812</th>\n",
       "      <td>1.944900e+11</td>\n",
       "      <td>Apparel</td>\n",
       "      <td>MENS WEAR</td>\n",
       "      <td>MENS UNDERWEAR</td>\n",
       "      <td>JOCKEY</td>\n",
       "      <td>Cotton Stretch V-Neck T-Shirt - 3 Pack</td>\n",
       "      <td>cotton stretch v-neck t-shirt - 3 pack jockey</td>\n",
       "      <td>cotton stretch v-neck t-shirt - 3 pack mens wear</td>\n",
       "    </tr>\n",
       "    <tr>\n",
       "      <th>100557</th>\n",
       "      <td>7.161069e+11</td>\n",
       "      <td>Apparel</td>\n",
       "      <td>MENS WEAR</td>\n",
       "      <td>MENS ACTIVEWEAR</td>\n",
       "      <td>ADIDAS</td>\n",
       "      <td>A13 DEFENDER MD DUFL</td>\n",
       "      <td>a13 defender md dufl adidas</td>\n",
       "      <td>a13 defender md dufl mens wear</td>\n",
       "    </tr>\n",
       "    <tr>\n",
       "      <th>102251</th>\n",
       "      <td>7.378996e+11</td>\n",
       "      <td>Apparel</td>\n",
       "      <td>MENS WEAR</td>\n",
       "      <td>MENS HOSIERY</td>\n",
       "      <td>MENS BOOT/WORK SOCKS</td>\n",
       "      <td>DIK 6PK CRW HVS ORNG</td>\n",
       "      <td>dik 6pk crw hvs orng mens boot/work socks</td>\n",
       "      <td>dik 6pk crw hvs orng mens wear</td>\n",
       "    </tr>\n",
       "    <tr>\n",
       "      <th>102737</th>\n",
       "      <td>1.944900e+11</td>\n",
       "      <td>Apparel</td>\n",
       "      <td>MENS WEAR</td>\n",
       "      <td>MENS UNDERWEAR</td>\n",
       "      <td>JOCKEY</td>\n",
       "      <td>Cotton Stretch V-Neck T-Shirt - 3 Pack</td>\n",
       "      <td>cotton stretch v-neck t-shirt - 3 pack jockey</td>\n",
       "      <td>cotton stretch v-neck t-shirt - 3 pack mens wear</td>\n",
       "    </tr>\n",
       "    <tr>\n",
       "      <th>103016</th>\n",
       "      <td>7.161069e+11</td>\n",
       "      <td>Apparel</td>\n",
       "      <td>MENS WEAR</td>\n",
       "      <td>MENS UNDERWEAR</td>\n",
       "      <td>OTHER UNDERWEAR</td>\n",
       "      <td>3PK PF MID ONX/B M</td>\n",
       "      <td>3pk pf mid onx/b m other underwear</td>\n",
       "      <td>3pk pf mid onx/b m mens wear</td>\n",
       "    </tr>\n",
       "    <tr>\n",
       "      <th>103321</th>\n",
       "      <td>7.161069e+11</td>\n",
       "      <td>Apparel</td>\n",
       "      <td>MENS WEAR</td>\n",
       "      <td>MENS UNDERWEAR</td>\n",
       "      <td>OTHER UNDERWEAR</td>\n",
       "      <td>3PK PF MID ONX/B S</td>\n",
       "      <td>3pk pf mid onx/b s other underwear</td>\n",
       "      <td>3pk pf mid onx/b s mens wear</td>\n",
       "    </tr>\n",
       "    <tr>\n",
       "      <th>104650</th>\n",
       "      <td>7.161069e+11</td>\n",
       "      <td>Apparel</td>\n",
       "      <td>MENS WEAR</td>\n",
       "      <td>MENS ACTIVEWEAR</td>\n",
       "      <td>ADIDAS</td>\n",
       "      <td>ADI DFD II MED GY/BK</td>\n",
       "      <td>adi dfd ii med gy/bk adidas</td>\n",
       "      <td>adi dfd ii med gy/bk mens wear</td>\n",
       "    </tr>\n",
       "    <tr>\n",
       "      <th>105957</th>\n",
       "      <td>7.161069e+11</td>\n",
       "      <td>Apparel</td>\n",
       "      <td>MENS WEAR</td>\n",
       "      <td>MENS UNDERWEAR</td>\n",
       "      <td>OTHER UNDERWEAR</td>\n",
       "      <td>3PK PF BB ONX/BK XL</td>\n",
       "      <td>3pk pf bb onx/bk xl other underwear</td>\n",
       "      <td>3pk pf bb onx/bk xl mens wear</td>\n",
       "    </tr>\n",
       "    <tr>\n",
       "      <th>106116</th>\n",
       "      <td>7.161069e+11</td>\n",
       "      <td>Apparel</td>\n",
       "      <td>MENS WEAR</td>\n",
       "      <td>MENS ACTIVEWEAR</td>\n",
       "      <td>ADIDAS</td>\n",
       "      <td>A5 M ALLI 2 SAKPAK</td>\n",
       "      <td>a5 m alli 2 sakpak adidas</td>\n",
       "      <td>a5 m alli 2 sakpak mens wear</td>\n",
       "    </tr>\n",
       "    <tr>\n",
       "      <th>106433</th>\n",
       "      <td>8.882541e+11</td>\n",
       "      <td>Apparel</td>\n",
       "      <td>MENS WEAR</td>\n",
       "      <td>MENS UNDERWEAR</td>\n",
       "      <td>OTHER UNDERWEAR</td>\n",
       "      <td>3PK SP BB R/G/B M</td>\n",
       "      <td>3pk sp bb r/g/b m other underwear</td>\n",
       "      <td>3pk sp bb r/g/b m mens wear</td>\n",
       "    </tr>\n",
       "    <tr>\n",
       "      <th>106503</th>\n",
       "      <td>8.882541e+11</td>\n",
       "      <td>Apparel</td>\n",
       "      <td>MENS WEAR</td>\n",
       "      <td>MENS HOSIERY</td>\n",
       "      <td>MENS SPORT SOCKS</td>\n",
       "      <td>ADI 6PK SL NS-GRY</td>\n",
       "      <td>adi 6pk sl ns-gry mens sport socks</td>\n",
       "      <td>adi 6pk sl ns-gry mens wear</td>\n",
       "    </tr>\n",
       "    <tr>\n",
       "      <th>107339</th>\n",
       "      <td>8.882541e+11</td>\n",
       "      <td>Apparel</td>\n",
       "      <td>MENS WEAR</td>\n",
       "      <td>MENS UNDERWEAR</td>\n",
       "      <td>OTHER UNDERWEAR</td>\n",
       "      <td>3PK CT BB BLK/BK S</td>\n",
       "      <td>3pk ct bb blk/bk s other underwear</td>\n",
       "      <td>3pk ct bb blk/bk s mens wear</td>\n",
       "    </tr>\n",
       "    <tr>\n",
       "      <th>107856</th>\n",
       "      <td>7.161069e+11</td>\n",
       "      <td>Apparel</td>\n",
       "      <td>MENS WEAR</td>\n",
       "      <td>MENS ACTIVEWEAR</td>\n",
       "      <td>ADIDAS</td>\n",
       "      <td>A9 M VICTORY BUCKET</td>\n",
       "      <td>a9 m victory bucket adidas</td>\n",
       "      <td>a9 m victory bucket mens wear</td>\n",
       "    </tr>\n",
       "    <tr>\n",
       "      <th>107972</th>\n",
       "      <td>8.882541e+11</td>\n",
       "      <td>Apparel</td>\n",
       "      <td>MENS WEAR</td>\n",
       "      <td>MENS UNDERWEAR</td>\n",
       "      <td>OTHER UNDERWEAR</td>\n",
       "      <td>3PK CT BB BLK/BK M</td>\n",
       "      <td>3pk ct bb blk/bk m other underwear</td>\n",
       "      <td>3pk ct bb blk/bk m mens wear</td>\n",
       "    </tr>\n",
       "    <tr>\n",
       "      <th>108132</th>\n",
       "      <td>8.882541e+11</td>\n",
       "      <td>Apparel</td>\n",
       "      <td>MENS WEAR</td>\n",
       "      <td>MENS UNDERWEAR</td>\n",
       "      <td>OTHER UNDERWEAR</td>\n",
       "      <td>3PK CT BB BLK/BK XL</td>\n",
       "      <td>3pk ct bb blk/bk xl other underwear</td>\n",
       "      <td>3pk ct bb blk/bk xl mens wear</td>\n",
       "    </tr>\n",
       "    <tr>\n",
       "      <th>108249</th>\n",
       "      <td>1.923704e+11</td>\n",
       "      <td>Apparel</td>\n",
       "      <td>MENS WEAR</td>\n",
       "      <td>MENS HOSIERY</td>\n",
       "      <td>MENS SPORT SOCKS</td>\n",
       "      <td>UA NOV CREW BLK/RED</td>\n",
       "      <td>ua nov crew blk/red mens sport socks</td>\n",
       "      <td>ua nov crew blk/red mens wear</td>\n",
       "    </tr>\n",
       "    <tr>\n",
       "      <th>108649</th>\n",
       "      <td>7.161069e+11</td>\n",
       "      <td>Apparel</td>\n",
       "      <td>MENS WEAR</td>\n",
       "      <td>MENS UNDERWEAR</td>\n",
       "      <td>OTHER UNDERWEAR</td>\n",
       "      <td>3PK SP LL BLACK L</td>\n",
       "      <td>3pk sp ll black l other underwear</td>\n",
       "      <td>3pk sp ll black l mens wear</td>\n",
       "    </tr>\n",
       "    <tr>\n",
       "      <th>110380</th>\n",
       "      <td>1.923704e+11</td>\n",
       "      <td>Apparel</td>\n",
       "      <td>MENS WEAR</td>\n",
       "      <td>MENS HOSIERY</td>\n",
       "      <td>MENS SPORT SOCKS</td>\n",
       "      <td>UA 3PK PHNM CRW AST</td>\n",
       "      <td>ua 3pk phnm crw ast mens sport socks</td>\n",
       "      <td>ua 3pk phnm crw ast mens wear</td>\n",
       "    </tr>\n",
       "    <tr>\n",
       "      <th>110545</th>\n",
       "      <td>3.825713e+10</td>\n",
       "      <td>Apparel</td>\n",
       "      <td>MENS WEAR</td>\n",
       "      <td>MENS HOSIERY</td>\n",
       "      <td>MENS SPORT SOCKS</td>\n",
       "      <td>Champion Mens Socks 1/2 Cushion ANKLE BLACK 2 ...</td>\n",
       "      <td>champion mens socks 1/2 cushion ankle black 2 ...</td>\n",
       "      <td>champion mens socks 1/2 cushion ankle black 2 ...</td>\n",
       "    </tr>\n",
       "    <tr>\n",
       "      <th>110796</th>\n",
       "      <td>7.161069e+11</td>\n",
       "      <td>Apparel</td>\n",
       "      <td>MENS WEAR</td>\n",
       "      <td>MENS UNDERWEAR</td>\n",
       "      <td>OTHER UNDERWEAR</td>\n",
       "      <td>3PK PF BB ONX/BK L</td>\n",
       "      <td>3pk pf bb onx/bk l other underwear</td>\n",
       "      <td>3pk pf bb onx/bk l mens wear</td>\n",
       "    </tr>\n",
       "    <tr>\n",
       "      <th>110817</th>\n",
       "      <td>7.001121e+10</td>\n",
       "      <td>Apparel</td>\n",
       "      <td>MENS WEAR</td>\n",
       "      <td>MENS HOSIERY</td>\n",
       "      <td>MENS DRESS SOCKS</td>\n",
       "      <td>NN MENS COT/NYL DRESS BLACK</td>\n",
       "      <td>nn mens cot/nyl dress black mens dress socks</td>\n",
       "      <td>nn mens cot/nyl dress black mens wear</td>\n",
       "    </tr>\n",
       "    <tr>\n",
       "      <th>111502</th>\n",
       "      <td>7.161069e+11</td>\n",
       "      <td>Apparel</td>\n",
       "      <td>MENS WEAR</td>\n",
       "      <td>MENS UNDERWEAR</td>\n",
       "      <td>OTHER UNDERWEAR</td>\n",
       "      <td>3PK PF BB ONX/BK M</td>\n",
       "      <td>3pk pf bb onx/bk m other underwear</td>\n",
       "      <td>3pk pf bb onx/bk m mens wear</td>\n",
       "    </tr>\n",
       "    <tr>\n",
       "      <th>111738</th>\n",
       "      <td>7.339472e+11</td>\n",
       "      <td>Toys / Games / Hobbies</td>\n",
       "      <td>MENS WEAR</td>\n",
       "      <td>TEAM LICENSED NON-APPAREL</td>\n",
       "      <td>NBA</td>\n",
       "      <td>LEGO® NBD TeenyMates Bling Bag Building Set</td>\n",
       "      <td>lego® nbd teenymates bling bag building set nba</td>\n",
       "      <td>lego® nbd teenymates bling bag building set me...</td>\n",
       "    </tr>\n",
       "    <tr>\n",
       "      <th>111774</th>\n",
       "      <td>7.378996e+11</td>\n",
       "      <td>Apparel</td>\n",
       "      <td>MENS WEAR</td>\n",
       "      <td>MENS HOSIERY</td>\n",
       "      <td>MENS BOOT/WORK SOCKS</td>\n",
       "      <td>DIK 6PK DTEC NSH BLK</td>\n",
       "      <td>dik 6pk dtec nsh blk mens boot/work socks</td>\n",
       "      <td>dik 6pk dtec nsh blk mens wear</td>\n",
       "    </tr>\n",
       "    <tr>\n",
       "      <th>111904</th>\n",
       "      <td>1.944900e+11</td>\n",
       "      <td>Apparel</td>\n",
       "      <td>MENS WEAR</td>\n",
       "      <td>MENS UNDERWEAR</td>\n",
       "      <td>JOCKEY</td>\n",
       "      <td>Cotton Stretch V-Neck T-Shirt - 3 Pack</td>\n",
       "      <td>cotton stretch v-neck t-shirt - 3 pack jockey</td>\n",
       "      <td>cotton stretch v-neck t-shirt - 3 pack mens wear</td>\n",
       "    </tr>\n",
       "    <tr>\n",
       "      <th>113288</th>\n",
       "      <td>3.825713e+10</td>\n",
       "      <td>Apparel</td>\n",
       "      <td>MENS WEAR</td>\n",
       "      <td>MENS HOSIERY</td>\n",
       "      <td>MENS SPORT SOCKS</td>\n",
       "      <td>Champion Inline 6 pack Synthetic Crew CH170 Wh...</td>\n",
       "      <td>champion inline 6 pack synthetic crew ch170 wh...</td>\n",
       "      <td>champion inline 6 pack synthetic crew ch170 wh...</td>\n",
       "    </tr>\n",
       "    <tr>\n",
       "      <th>113797</th>\n",
       "      <td>7.161069e+11</td>\n",
       "      <td>Apparel</td>\n",
       "      <td>MENS WEAR</td>\n",
       "      <td>MENS UNDERWEAR</td>\n",
       "      <td>OTHER UNDERWEAR</td>\n",
       "      <td>3PK SP LL BLACK XL</td>\n",
       "      <td>3pk sp ll black xl other underwear</td>\n",
       "      <td>3pk sp ll black xl mens wear</td>\n",
       "    </tr>\n",
       "    <tr>\n",
       "      <th>113942</th>\n",
       "      <td>8.882541e+11</td>\n",
       "      <td>Apparel</td>\n",
       "      <td>MENS WEAR</td>\n",
       "      <td>MENS UNDERWEAR</td>\n",
       "      <td>OTHER UNDERWEAR</td>\n",
       "      <td>3PK SP BB G/G/BK L</td>\n",
       "      <td>3pk sp bb g/g/bk l other underwear</td>\n",
       "      <td>3pk sp bb g/g/bk l mens wear</td>\n",
       "    </tr>\n",
       "    <tr>\n",
       "      <th>114211</th>\n",
       "      <td>3.825713e+10</td>\n",
       "      <td>Apparel</td>\n",
       "      <td>MENS WEAR</td>\n",
       "      <td>MENS HOSIERY</td>\n",
       "      <td>MENS SPORT SOCKS</td>\n",
       "      <td>Champion Inline 6 pack Synthetic Crew CH170 Bl...</td>\n",
       "      <td>champion inline 6 pack synthetic crew ch170 bl...</td>\n",
       "      <td>champion inline 6 pack synthetic crew ch170 bl...</td>\n",
       "    </tr>\n",
       "    <tr>\n",
       "      <th>114798</th>\n",
       "      <td>8.882541e+11</td>\n",
       "      <td>Apparel</td>\n",
       "      <td>MENS WEAR</td>\n",
       "      <td>MENS UNDERWEAR</td>\n",
       "      <td>OTHER UNDERWEAR</td>\n",
       "      <td>3PK SP BB G/G/BK S</td>\n",
       "      <td>3pk sp bb g/g/bk s other underwear</td>\n",
       "      <td>3pk sp bb g/g/bk s mens wear</td>\n",
       "    </tr>\n",
       "    <tr>\n",
       "      <th>116659</th>\n",
       "      <td>1.944902e+11</td>\n",
       "      <td>Apparel</td>\n",
       "      <td>MENS WEAR</td>\n",
       "      <td>MENS UNDERWEAR</td>\n",
       "      <td>JOCKEY</td>\n",
       "      <td>JKY 4PK TANK WHT XL</td>\n",
       "      <td>jky 4pk tank wht xl jockey</td>\n",
       "      <td>jky 4pk tank wht xl mens wear</td>\n",
       "    </tr>\n",
       "    <tr>\n",
       "      <th>116952</th>\n",
       "      <td>1.944902e+11</td>\n",
       "      <td>Apparel</td>\n",
       "      <td>MENS WEAR</td>\n",
       "      <td>MENS UNDERWEAR</td>\n",
       "      <td>JOCKEY</td>\n",
       "      <td>JKY 4PK TANK BLK M</td>\n",
       "      <td>jky 4pk tank blk m jockey</td>\n",
       "      <td>jky 4pk tank blk m mens wear</td>\n",
       "    </tr>\n",
       "    <tr>\n",
       "      <th>118815</th>\n",
       "      <td>1.944902e+11</td>\n",
       "      <td>Apparel</td>\n",
       "      <td>MENS WEAR</td>\n",
       "      <td>MENS UNDERWEAR</td>\n",
       "      <td>JOCKEY</td>\n",
       "      <td>JKY 4PK TANK BLK L</td>\n",
       "      <td>jky 4pk tank blk l jockey</td>\n",
       "      <td>jky 4pk tank blk l mens wear</td>\n",
       "    </tr>\n",
       "    <tr>\n",
       "      <th>121884</th>\n",
       "      <td>1.944902e+11</td>\n",
       "      <td>Apparel</td>\n",
       "      <td>MENS WEAR</td>\n",
       "      <td>MENS UNDERWEAR</td>\n",
       "      <td>JOCKEY</td>\n",
       "      <td>JKY 4PK TANK WHT M</td>\n",
       "      <td>jky 4pk tank wht m jockey</td>\n",
       "      <td>jky 4pk tank wht m mens wear</td>\n",
       "    </tr>\n",
       "    <tr>\n",
       "      <th>124361</th>\n",
       "      <td>1.944902e+11</td>\n",
       "      <td>Apparel</td>\n",
       "      <td>MENS WEAR</td>\n",
       "      <td>MENS UNDERWEAR</td>\n",
       "      <td>JOCKEY</td>\n",
       "      <td>JKY 4PK TANK WHT L</td>\n",
       "      <td>jky 4pk tank wht l jockey</td>\n",
       "      <td>jky 4pk tank wht l mens wear</td>\n",
       "    </tr>\n",
       "    <tr>\n",
       "      <th>125773</th>\n",
       "      <td>1.944902e+11</td>\n",
       "      <td>Apparel</td>\n",
       "      <td>MENS WEAR</td>\n",
       "      <td>MENS UNDERWEAR</td>\n",
       "      <td>JOCKEY</td>\n",
       "      <td>JKY 4PK TANK BLK XL</td>\n",
       "      <td>jky 4pk tank blk xl jockey</td>\n",
       "      <td>jky 4pk tank blk xl mens wear</td>\n",
       "    </tr>\n",
       "  </tbody>\n",
       "</table>\n",
       "</div>"
      ]
     },
     "metadata": {
      "application/vnd.databricks.v1+output": {
       "addedWidgets": {},
       "arguments": {},
       "data": "<div>\n<style scoped>\n    .dataframe tbody tr th:only-of-type {\n        vertical-align: middle;\n    }\n\n    .dataframe tbody tr th {\n        vertical-align: top;\n    }\n\n    .dataframe thead th {\n        text-align: right;\n    }\n</style>\n<table border=\"1\" class=\"dataframe\">\n  <thead>\n    <tr style=\"text-align: right;\">\n      <th></th>\n      <th>GTIN</th>\n      <th>Level 1</th>\n      <th>DPT_DSC</th>\n      <th>COM_DSC</th>\n      <th>SUBCOM_DSC</th>\n      <th>VND_ECOM_DSC</th>\n      <th>ITEM_SUBCOM_text</th>\n      <th>ITEM_DPT_text</th>\n    </tr>\n  </thead>\n  <tbody>\n    <tr>\n      <th>30311</th>\n      <td>8.882541e+11</td>\n      <td>Apparel</td>\n      <td>MENS WEAR</td>\n      <td>MENS UNDERWEAR</td>\n      <td>OTHER UNDERWEAR</td>\n      <td>3PK SP BB BLK/BK L</td>\n      <td>3pk sp bb blk/bk l other underwear</td>\n      <td>3pk sp bb blk/bk l mens wear</td>\n    </tr>\n    <tr>\n      <th>50654</th>\n      <td>8.882541e+11</td>\n      <td>Apparel</td>\n      <td>MENS WEAR</td>\n      <td>MENS UNDERWEAR</td>\n      <td>OTHER UNDERWEAR</td>\n      <td>3PK SP BB BLK/BK M</td>\n      <td>3pk sp bb blk/bk m other underwear</td>\n      <td>3pk sp bb blk/bk m mens wear</td>\n    </tr>\n    <tr>\n      <th>58368</th>\n      <td>7.161069e+11</td>\n      <td>Apparel</td>\n      <td>MENS WEAR</td>\n      <td>MENS UNDERWEAR</td>\n      <td>OTHER UNDERWEAR</td>\n      <td>3PK SP LL BLACK M</td>\n      <td>3pk sp ll black m other underwear</td>\n      <td>3pk sp ll black m mens wear</td>\n    </tr>\n    <tr>\n      <th>64015</th>\n      <td>8.882541e+11</td>\n      <td>Apparel</td>\n      <td>MENS WEAR</td>\n      <td>MENS UNDERWEAR</td>\n      <td>OTHER UNDERWEAR</td>\n      <td>3PK SP BB R/G/B L</td>\n      <td>3pk sp bb r/g/b l other underwear</td>\n      <td>3pk sp bb r/g/b l mens wear</td>\n    </tr>\n    <tr>\n      <th>71090</th>\n      <td>8.882541e+11</td>\n      <td>Apparel</td>\n      <td>MENS WEAR</td>\n      <td>MENS UNDERWEAR</td>\n      <td>OTHER UNDERWEAR</td>\n      <td>3PK SP BB R/G/B XL</td>\n      <td>3pk sp bb r/g/b xl other underwear</td>\n      <td>3pk sp bb r/g/b xl mens wear</td>\n    </tr>\n    <tr>\n      <th>78956</th>\n      <td>8.882541e+11</td>\n      <td>Apparel</td>\n      <td>MENS WEAR</td>\n      <td>MENS UNDERWEAR</td>\n      <td>OTHER UNDERWEAR</td>\n      <td>3PK SP BB BLK/BK M</td>\n      <td>3pk sp bb blk/bk m other underwear</td>\n      <td>3pk sp bb blk/bk m mens wear</td>\n    </tr>\n    <tr>\n      <th>95060</th>\n      <td>8.882541e+11</td>\n      <td>Apparel</td>\n      <td>MENS WEAR</td>\n      <td>MENS UNDERWEAR</td>\n      <td>OTHER UNDERWEAR</td>\n      <td>3PK CT BB BLK/BK L</td>\n      <td>3pk ct bb blk/bk l other underwear</td>\n      <td>3pk ct bb blk/bk l mens wear</td>\n    </tr>\n    <tr>\n      <th>95459</th>\n      <td>7.161069e+11</td>\n      <td>Apparel</td>\n      <td>MENS WEAR</td>\n      <td>MENS UNDERWEAR</td>\n      <td>OTHER UNDERWEAR</td>\n      <td>3PK SP LL BLACK S</td>\n      <td>3pk sp ll black s other underwear</td>\n      <td>3pk sp ll black s mens wear</td>\n    </tr>\n    <tr>\n      <th>95687</th>\n      <td>8.882541e+11</td>\n      <td>Apparel</td>\n      <td>MENS WEAR</td>\n      <td>MENS UNDERWEAR</td>\n      <td>OTHER UNDERWEAR</td>\n      <td>3PK SP BB BLK/BK S</td>\n      <td>3pk sp bb blk/bk s other underwear</td>\n      <td>3pk sp bb blk/bk s mens wear</td>\n    </tr>\n    <tr>\n      <th>96006</th>\n      <td>8.882541e+11</td>\n      <td>Apparel</td>\n      <td>MENS WEAR</td>\n      <td>MENS UNDERWEAR</td>\n      <td>OTHER UNDERWEAR</td>\n      <td>3PK SP BB G/G/BK M</td>\n      <td>3pk sp bb g/g/bk m other underwear</td>\n      <td>3pk sp bb g/g/bk m mens wear</td>\n    </tr>\n    <tr>\n      <th>96076</th>\n      <td>8.882541e+11</td>\n      <td>Apparel</td>\n      <td>MENS WEAR</td>\n      <td>MENS UNDERWEAR</td>\n      <td>OTHER UNDERWEAR</td>\n      <td>3PK SP BB R/G/B S</td>\n      <td>3pk sp bb r/g/b s other underwear</td>\n      <td>3pk sp bb r/g/b s mens wear</td>\n    </tr>\n    <tr>\n      <th>96910</th>\n      <td>8.882541e+11</td>\n      <td>Apparel</td>\n      <td>MENS WEAR</td>\n      <td>MENS HOSIERY</td>\n      <td>MENS SPORT SOCKS</td>\n      <td>ADI 6PK SL NS-BLK</td>\n      <td>adi 6pk sl ns-blk mens sport socks</td>\n      <td>adi 6pk sl ns-blk mens wear</td>\n    </tr>\n    <tr>\n      <th>97256</th>\n      <td>3.825713e+10</td>\n      <td>Apparel</td>\n      <td>MENS WEAR</td>\n      <td>MENS HOSIERY</td>\n      <td>MENS SPORT SOCKS</td>\n      <td>Champion Inline 6 pack Synthetic Ankle CH171 W...</td>\n      <td>champion inline 6 pack synthetic ankle ch171 w...</td>\n      <td>champion inline 6 pack synthetic ankle ch171 w...</td>\n    </tr>\n    <tr>\n      <th>97268</th>\n      <td>7.001121e+10</td>\n      <td>Apparel</td>\n      <td>MENS WEAR</td>\n      <td>MENS HOSIERY</td>\n      <td>MENS SPORT SOCKS</td>\n      <td>NN CUSHION MEN'S CREW WHITE</td>\n      <td>nn cushion men's crew white mens sport socks</td>\n      <td>nn cushion men's crew white mens wear</td>\n    </tr>\n    <tr>\n      <th>97751</th>\n      <td>7.001121e+10</td>\n      <td>Apparel</td>\n      <td>MENS WEAR</td>\n      <td>MENS HOSIERY</td>\n      <td>MENS SPORT SOCKS</td>\n      <td>SFT &amp; BRTH MENS CRW WHT 3PK</td>\n      <td>sft &amp; brth mens crw wht 3pk mens sport socks</td>\n      <td>sft &amp; brth mens crw wht 3pk mens wear</td>\n    </tr>\n    <tr>\n      <th>98602</th>\n      <td>7.161069e+11</td>\n      <td>Apparel</td>\n      <td>MENS WEAR</td>\n      <td>MENS UNDERWEAR</td>\n      <td>OTHER UNDERWEAR</td>\n      <td>3PK PF MID ONX/B L</td>\n      <td>3pk pf mid onx/b l other underwear</td>\n      <td>3pk pf mid onx/b l mens wear</td>\n    </tr>\n    <tr>\n      <th>98760</th>\n      <td>7.001121e+10</td>\n      <td>Apparel</td>\n      <td>MENS WEAR</td>\n      <td>MENS HOSIERY</td>\n      <td>MENS SPORT SOCKS</td>\n      <td>NN MEN CSHN NOSHOW BLACK</td>\n      <td>nn men cshn noshow black mens sport socks</td>\n      <td>nn men cshn noshow black mens wear</td>\n    </tr>\n    <tr>\n      <th>98915</th>\n      <td>7.001121e+10</td>\n      <td>Apparel</td>\n      <td>MENS WEAR</td>\n      <td>MENS HOSIERY</td>\n      <td>MENS SPORT SOCKS</td>\n      <td>NN MEN CSHN ANKLE WHITE</td>\n      <td>nn men cshn ankle white mens sport socks</td>\n      <td>nn men cshn ankle white mens wear</td>\n    </tr>\n    <tr>\n      <th>98947</th>\n      <td>7.161069e+11</td>\n      <td>Apparel</td>\n      <td>MENS WEAR</td>\n      <td>MENS UNDERWEAR</td>\n      <td>OTHER UNDERWEAR</td>\n      <td>3PK PF MID ONX/B XL</td>\n      <td>3pk pf mid onx/b xl other underwear</td>\n      <td>3pk pf mid onx/b xl mens wear</td>\n    </tr>\n    <tr>\n      <th>99026</th>\n      <td>7.161069e+11</td>\n      <td>Apparel</td>\n      <td>MENS WEAR</td>\n      <td>MENS UNDERWEAR</td>\n      <td>OTHER UNDERWEAR</td>\n      <td>3PK PF BB ONX/BK S</td>\n      <td>3pk pf bb onx/bk s other underwear</td>\n      <td>3pk pf bb onx/bk s mens wear</td>\n    </tr>\n    <tr>\n      <th>99759</th>\n      <td>8.882541e+11</td>\n      <td>Apparel</td>\n      <td>MENS WEAR</td>\n      <td>MENS UNDERWEAR</td>\n      <td>OTHER UNDERWEAR</td>\n      <td>3PK SP BB G/G/BK XL</td>\n      <td>3pk sp bb g/g/bk xl other underwear</td>\n      <td>3pk sp bb g/g/bk xl mens wear</td>\n    </tr>\n    <tr>\n      <th>99812</th>\n      <td>1.944900e+11</td>\n      <td>Apparel</td>\n      <td>MENS WEAR</td>\n      <td>MENS UNDERWEAR</td>\n      <td>JOCKEY</td>\n      <td>Cotton Stretch V-Neck T-Shirt - 3 Pack</td>\n      <td>cotton stretch v-neck t-shirt - 3 pack jockey</td>\n      <td>cotton stretch v-neck t-shirt - 3 pack mens wear</td>\n    </tr>\n    <tr>\n      <th>100557</th>\n      <td>7.161069e+11</td>\n      <td>Apparel</td>\n      <td>MENS WEAR</td>\n      <td>MENS ACTIVEWEAR</td>\n      <td>ADIDAS</td>\n      <td>A13 DEFENDER MD DUFL</td>\n      <td>a13 defender md dufl adidas</td>\n      <td>a13 defender md dufl mens wear</td>\n    </tr>\n    <tr>\n      <th>102251</th>\n      <td>7.378996e+11</td>\n      <td>Apparel</td>\n      <td>MENS WEAR</td>\n      <td>MENS HOSIERY</td>\n      <td>MENS BOOT/WORK SOCKS</td>\n      <td>DIK 6PK CRW HVS ORNG</td>\n      <td>dik 6pk crw hvs orng mens boot/work socks</td>\n      <td>dik 6pk crw hvs orng mens wear</td>\n    </tr>\n    <tr>\n      <th>102737</th>\n      <td>1.944900e+11</td>\n      <td>Apparel</td>\n      <td>MENS WEAR</td>\n      <td>MENS UNDERWEAR</td>\n      <td>JOCKEY</td>\n      <td>Cotton Stretch V-Neck T-Shirt - 3 Pack</td>\n      <td>cotton stretch v-neck t-shirt - 3 pack jockey</td>\n      <td>cotton stretch v-neck t-shirt - 3 pack mens wear</td>\n    </tr>\n    <tr>\n      <th>103016</th>\n      <td>7.161069e+11</td>\n      <td>Apparel</td>\n      <td>MENS WEAR</td>\n      <td>MENS UNDERWEAR</td>\n      <td>OTHER UNDERWEAR</td>\n      <td>3PK PF MID ONX/B M</td>\n      <td>3pk pf mid onx/b m other underwear</td>\n      <td>3pk pf mid onx/b m mens wear</td>\n    </tr>\n    <tr>\n      <th>103321</th>\n      <td>7.161069e+11</td>\n      <td>Apparel</td>\n      <td>MENS WEAR</td>\n      <td>MENS UNDERWEAR</td>\n      <td>OTHER UNDERWEAR</td>\n      <td>3PK PF MID ONX/B S</td>\n      <td>3pk pf mid onx/b s other underwear</td>\n      <td>3pk pf mid onx/b s mens wear</td>\n    </tr>\n    <tr>\n      <th>104650</th>\n      <td>7.161069e+11</td>\n      <td>Apparel</td>\n      <td>MENS WEAR</td>\n      <td>MENS ACTIVEWEAR</td>\n      <td>ADIDAS</td>\n      <td>ADI DFD II MED GY/BK</td>\n      <td>adi dfd ii med gy/bk adidas</td>\n      <td>adi dfd ii med gy/bk mens wear</td>\n    </tr>\n    <tr>\n      <th>105957</th>\n      <td>7.161069e+11</td>\n      <td>Apparel</td>\n      <td>MENS WEAR</td>\n      <td>MENS UNDERWEAR</td>\n      <td>OTHER UNDERWEAR</td>\n      <td>3PK PF BB ONX/BK XL</td>\n      <td>3pk pf bb onx/bk xl other underwear</td>\n      <td>3pk pf bb onx/bk xl mens wear</td>\n    </tr>\n    <tr>\n      <th>106116</th>\n      <td>7.161069e+11</td>\n      <td>Apparel</td>\n      <td>MENS WEAR</td>\n      <td>MENS ACTIVEWEAR</td>\n      <td>ADIDAS</td>\n      <td>A5 M ALLI 2 SAKPAK</td>\n      <td>a5 m alli 2 sakpak adidas</td>\n      <td>a5 m alli 2 sakpak mens wear</td>\n    </tr>\n    <tr>\n      <th>106433</th>\n      <td>8.882541e+11</td>\n      <td>Apparel</td>\n      <td>MENS WEAR</td>\n      <td>MENS UNDERWEAR</td>\n      <td>OTHER UNDERWEAR</td>\n      <td>3PK SP BB R/G/B M</td>\n      <td>3pk sp bb r/g/b m other underwear</td>\n      <td>3pk sp bb r/g/b m mens wear</td>\n    </tr>\n    <tr>\n      <th>106503</th>\n      <td>8.882541e+11</td>\n      <td>Apparel</td>\n      <td>MENS WEAR</td>\n      <td>MENS HOSIERY</td>\n      <td>MENS SPORT SOCKS</td>\n      <td>ADI 6PK SL NS-GRY</td>\n      <td>adi 6pk sl ns-gry mens sport socks</td>\n      <td>adi 6pk sl ns-gry mens wear</td>\n    </tr>\n    <tr>\n      <th>107339</th>\n      <td>8.882541e+11</td>\n      <td>Apparel</td>\n      <td>MENS WEAR</td>\n      <td>MENS UNDERWEAR</td>\n      <td>OTHER UNDERWEAR</td>\n      <td>3PK CT BB BLK/BK S</td>\n      <td>3pk ct bb blk/bk s other underwear</td>\n      <td>3pk ct bb blk/bk s mens wear</td>\n    </tr>\n    <tr>\n      <th>107856</th>\n      <td>7.161069e+11</td>\n      <td>Apparel</td>\n      <td>MENS WEAR</td>\n      <td>MENS ACTIVEWEAR</td>\n      <td>ADIDAS</td>\n      <td>A9 M VICTORY BUCKET</td>\n      <td>a9 m victory bucket adidas</td>\n      <td>a9 m victory bucket mens wear</td>\n    </tr>\n    <tr>\n      <th>107972</th>\n      <td>8.882541e+11</td>\n      <td>Apparel</td>\n      <td>MENS WEAR</td>\n      <td>MENS UNDERWEAR</td>\n      <td>OTHER UNDERWEAR</td>\n      <td>3PK CT BB BLK/BK M</td>\n      <td>3pk ct bb blk/bk m other underwear</td>\n      <td>3pk ct bb blk/bk m mens wear</td>\n    </tr>\n    <tr>\n      <th>108132</th>\n      <td>8.882541e+11</td>\n      <td>Apparel</td>\n      <td>MENS WEAR</td>\n      <td>MENS UNDERWEAR</td>\n      <td>OTHER UNDERWEAR</td>\n      <td>3PK CT BB BLK/BK XL</td>\n      <td>3pk ct bb blk/bk xl other underwear</td>\n      <td>3pk ct bb blk/bk xl mens wear</td>\n    </tr>\n    <tr>\n      <th>108249</th>\n      <td>1.923704e+11</td>\n      <td>Apparel</td>\n      <td>MENS WEAR</td>\n      <td>MENS HOSIERY</td>\n      <td>MENS SPORT SOCKS</td>\n      <td>UA NOV CREW BLK/RED</td>\n      <td>ua nov crew blk/red mens sport socks</td>\n      <td>ua nov crew blk/red mens wear</td>\n    </tr>\n    <tr>\n      <th>108649</th>\n      <td>7.161069e+11</td>\n      <td>Apparel</td>\n      <td>MENS WEAR</td>\n      <td>MENS UNDERWEAR</td>\n      <td>OTHER UNDERWEAR</td>\n      <td>3PK SP LL BLACK L</td>\n      <td>3pk sp ll black l other underwear</td>\n      <td>3pk sp ll black l mens wear</td>\n    </tr>\n    <tr>\n      <th>110380</th>\n      <td>1.923704e+11</td>\n      <td>Apparel</td>\n      <td>MENS WEAR</td>\n      <td>MENS HOSIERY</td>\n      <td>MENS SPORT SOCKS</td>\n      <td>UA 3PK PHNM CRW AST</td>\n      <td>ua 3pk phnm crw ast mens sport socks</td>\n      <td>ua 3pk phnm crw ast mens wear</td>\n    </tr>\n    <tr>\n      <th>110545</th>\n      <td>3.825713e+10</td>\n      <td>Apparel</td>\n      <td>MENS WEAR</td>\n      <td>MENS HOSIERY</td>\n      <td>MENS SPORT SOCKS</td>\n      <td>Champion Mens Socks 1/2 Cushion ANKLE BLACK 2 ...</td>\n      <td>champion mens socks 1/2 cushion ankle black 2 ...</td>\n      <td>champion mens socks 1/2 cushion ankle black 2 ...</td>\n    </tr>\n    <tr>\n      <th>110796</th>\n      <td>7.161069e+11</td>\n      <td>Apparel</td>\n      <td>MENS WEAR</td>\n      <td>MENS UNDERWEAR</td>\n      <td>OTHER UNDERWEAR</td>\n      <td>3PK PF BB ONX/BK L</td>\n      <td>3pk pf bb onx/bk l other underwear</td>\n      <td>3pk pf bb onx/bk l mens wear</td>\n    </tr>\n    <tr>\n      <th>110817</th>\n      <td>7.001121e+10</td>\n      <td>Apparel</td>\n      <td>MENS WEAR</td>\n      <td>MENS HOSIERY</td>\n      <td>MENS DRESS SOCKS</td>\n      <td>NN MENS COT/NYL DRESS BLACK</td>\n      <td>nn mens cot/nyl dress black mens dress socks</td>\n      <td>nn mens cot/nyl dress black mens wear</td>\n    </tr>\n    <tr>\n      <th>111502</th>\n      <td>7.161069e+11</td>\n      <td>Apparel</td>\n      <td>MENS WEAR</td>\n      <td>MENS UNDERWEAR</td>\n      <td>OTHER UNDERWEAR</td>\n      <td>3PK PF BB ONX/BK M</td>\n      <td>3pk pf bb onx/bk m other underwear</td>\n      <td>3pk pf bb onx/bk m mens wear</td>\n    </tr>\n    <tr>\n      <th>111738</th>\n      <td>7.339472e+11</td>\n      <td>Toys / Games / Hobbies</td>\n      <td>MENS WEAR</td>\n      <td>TEAM LICENSED NON-APPAREL</td>\n      <td>NBA</td>\n      <td>LEGO® NBD TeenyMates Bling Bag Building Set</td>\n      <td>lego® nbd teenymates bling bag building set nba</td>\n      <td>lego® nbd teenymates bling bag building set me...</td>\n    </tr>\n    <tr>\n      <th>111774</th>\n      <td>7.378996e+11</td>\n      <td>Apparel</td>\n      <td>MENS WEAR</td>\n      <td>MENS HOSIERY</td>\n      <td>MENS BOOT/WORK SOCKS</td>\n      <td>DIK 6PK DTEC NSH BLK</td>\n      <td>dik 6pk dtec nsh blk mens boot/work socks</td>\n      <td>dik 6pk dtec nsh blk mens wear</td>\n    </tr>\n    <tr>\n      <th>111904</th>\n      <td>1.944900e+11</td>\n      <td>Apparel</td>\n      <td>MENS WEAR</td>\n      <td>MENS UNDERWEAR</td>\n      <td>JOCKEY</td>\n      <td>Cotton Stretch V-Neck T-Shirt - 3 Pack</td>\n      <td>cotton stretch v-neck t-shirt - 3 pack jockey</td>\n      <td>cotton stretch v-neck t-shirt - 3 pack mens wear</td>\n    </tr>\n    <tr>\n      <th>113288</th>\n      <td>3.825713e+10</td>\n      <td>Apparel</td>\n      <td>MENS WEAR</td>\n      <td>MENS HOSIERY</td>\n      <td>MENS SPORT SOCKS</td>\n      <td>Champion Inline 6 pack Synthetic Crew CH170 Wh...</td>\n      <td>champion inline 6 pack synthetic crew ch170 wh...</td>\n      <td>champion inline 6 pack synthetic crew ch170 wh...</td>\n    </tr>\n    <tr>\n      <th>113797</th>\n      <td>7.161069e+11</td>\n      <td>Apparel</td>\n      <td>MENS WEAR</td>\n      <td>MENS UNDERWEAR</td>\n      <td>OTHER UNDERWEAR</td>\n      <td>3PK SP LL BLACK XL</td>\n      <td>3pk sp ll black xl other underwear</td>\n      <td>3pk sp ll black xl mens wear</td>\n    </tr>\n    <tr>\n      <th>113942</th>\n      <td>8.882541e+11</td>\n      <td>Apparel</td>\n      <td>MENS WEAR</td>\n      <td>MENS UNDERWEAR</td>\n      <td>OTHER UNDERWEAR</td>\n      <td>3PK SP BB G/G/BK L</td>\n      <td>3pk sp bb g/g/bk l other underwear</td>\n      <td>3pk sp bb g/g/bk l mens wear</td>\n    </tr>\n    <tr>\n      <th>114211</th>\n      <td>3.825713e+10</td>\n      <td>Apparel</td>\n      <td>MENS WEAR</td>\n      <td>MENS HOSIERY</td>\n      <td>MENS SPORT SOCKS</td>\n      <td>Champion Inline 6 pack Synthetic Crew CH170 Bl...</td>\n      <td>champion inline 6 pack synthetic crew ch170 bl...</td>\n      <td>champion inline 6 pack synthetic crew ch170 bl...</td>\n    </tr>\n    <tr>\n      <th>114798</th>\n      <td>8.882541e+11</td>\n      <td>Apparel</td>\n      <td>MENS WEAR</td>\n      <td>MENS UNDERWEAR</td>\n      <td>OTHER UNDERWEAR</td>\n      <td>3PK SP BB G/G/BK S</td>\n      <td>3pk sp bb g/g/bk s other underwear</td>\n      <td>3pk sp bb g/g/bk s mens wear</td>\n    </tr>\n    <tr>\n      <th>116659</th>\n      <td>1.944902e+11</td>\n      <td>Apparel</td>\n      <td>MENS WEAR</td>\n      <td>MENS UNDERWEAR</td>\n      <td>JOCKEY</td>\n      <td>JKY 4PK TANK WHT XL</td>\n      <td>jky 4pk tank wht xl jockey</td>\n      <td>jky 4pk tank wht xl mens wear</td>\n    </tr>\n    <tr>\n      <th>116952</th>\n      <td>1.944902e+11</td>\n      <td>Apparel</td>\n      <td>MENS WEAR</td>\n      <td>MENS UNDERWEAR</td>\n      <td>JOCKEY</td>\n      <td>JKY 4PK TANK BLK M</td>\n      <td>jky 4pk tank blk m jockey</td>\n      <td>jky 4pk tank blk m mens wear</td>\n    </tr>\n    <tr>\n      <th>118815</th>\n      <td>1.944902e+11</td>\n      <td>Apparel</td>\n      <td>MENS WEAR</td>\n      <td>MENS UNDERWEAR</td>\n      <td>JOCKEY</td>\n      <td>JKY 4PK TANK BLK L</td>\n      <td>jky 4pk tank blk l jockey</td>\n      <td>jky 4pk tank blk l mens wear</td>\n    </tr>\n    <tr>\n      <th>121884</th>\n      <td>1.944902e+11</td>\n      <td>Apparel</td>\n      <td>MENS WEAR</td>\n      <td>MENS UNDERWEAR</td>\n      <td>JOCKEY</td>\n      <td>JKY 4PK TANK WHT M</td>\n      <td>jky 4pk tank wht m jockey</td>\n      <td>jky 4pk tank wht m mens wear</td>\n    </tr>\n    <tr>\n      <th>124361</th>\n      <td>1.944902e+11</td>\n      <td>Apparel</td>\n      <td>MENS WEAR</td>\n      <td>MENS UNDERWEAR</td>\n      <td>JOCKEY</td>\n      <td>JKY 4PK TANK WHT L</td>\n      <td>jky 4pk tank wht l jockey</td>\n      <td>jky 4pk tank wht l mens wear</td>\n    </tr>\n    <tr>\n      <th>125773</th>\n      <td>1.944902e+11</td>\n      <td>Apparel</td>\n      <td>MENS WEAR</td>\n      <td>MENS UNDERWEAR</td>\n      <td>JOCKEY</td>\n      <td>JKY 4PK TANK BLK XL</td>\n      <td>jky 4pk tank blk xl jockey</td>\n      <td>jky 4pk tank blk xl mens wear</td>\n    </tr>\n  </tbody>\n</table>\n</div>",
       "datasetInfos": [],
       "metadata": {},
       "removedWidgets": [],
       "textData": null,
       "type": "htmlSandbox"
      }
     },
     "output_type": "display_data"
    }
   ],
   "source": [
    "Level1_items[Level1_items.DPT_DSC == 'MENS WEAR']"
   ]
  },
  {
   "cell_type": "code",
   "execution_count": 0,
   "metadata": {
    "application/vnd.databricks.v1+cell": {
     "cellMetadata": {
      "byteLimit": 2048000,
      "rowLimit": 10000
     },
     "inputWidgets": {},
     "nuid": "91f91b9e-fc4e-4ab3-813e-575726fb95d1",
     "showTitle": false,
     "title": ""
    }
   },
   "outputs": [],
   "source": [
    "Level1_items['ITEM_DPT_text'] = \\\n",
    "(Level1_items.VND_ECOM_DSC + ' ' + Level1_items.DPT_DSC).fillna('').str.lower()"
   ]
  },
  {
   "cell_type": "code",
   "execution_count": 0,
   "metadata": {
    "application/vnd.databricks.v1+cell": {
     "cellMetadata": {
      "byteLimit": 2048000,
      "rowLimit": 10000
     },
     "inputWidgets": {},
     "nuid": "a410459b-8604-4f4e-9a98-cce0365b9996",
     "showTitle": false,
     "title": ""
    }
   },
   "outputs": [],
   "source": [
    "from sklearn.feature_extraction.text import TfidfVectorizer\n",
    "vect = TfidfVectorizer(ngram_range= (1,2), max_features = 100000)\n",
    "X_ = vect.fit_transform(Level1_items.ITEM_DPT_text)\n",
    "#Target Vectors\n",
    "level1_id_map = dict(zip(Level1_items['Level 1'].fillna('Unclassified').unique(), range(Level1_items['Level 1'].fillna('Unclassified').nunique())))\n",
    "y_ = Level1_items['Level 1'].fillna('Unclassified').map(level1_id_map)\n",
    "X_train, X_test, y_train, y_test = train_test_split(X_, y_, test_size= 0.2, stratify= y_)"
   ]
  },
  {
   "cell_type": "code",
   "execution_count": 0,
   "metadata": {
    "application/vnd.databricks.v1+cell": {
     "cellMetadata": {
      "byteLimit": 2048000,
      "rowLimit": 10000
     },
     "inputWidgets": {},
     "nuid": "ced51b6c-907f-49f4-9ad4-5aceff38b250",
     "showTitle": false,
     "title": ""
    }
   },
   "outputs": [],
   "source": [
    "# create model instance\n",
    "lr_tf = LogisticRegression(C = 10, multi_class = 'multinomial', solver = 'saga')\n",
    "# fit model\n",
    "lr_tf.fit(X_train, y_train)\n",
    "# make predictions\n",
    "preds = lr_tf.predict(X_test)\n",
    "preds_lrtf = preds"
   ]
  },
  {
   "cell_type": "markdown",
   "metadata": {
    "application/vnd.databricks.v1+cell": {
     "cellMetadata": {
      "byteLimit": 2048000,
      "rowLimit": 10000
     },
     "inputWidgets": {},
     "nuid": "b68b86b3-6118-44e4-a896-be47cbd0a923",
     "showTitle": false,
     "title": ""
    }
   },
   "source": [
    "X_train, X_test, y_train, y_test = train_test_split(X_, y_, test_size= 0.2, stratify= y_)\n",
    "# create model instance\n",
    "rf = RandomForestClassifier(n_estimators= 100, max_depth= 5, min_samples_split= 2)\n",
    "# fit model\n",
    "rf.fit(X_train, y_train)\n",
    "# make predictions\n",
    "preds_tfidf = rf.predict(X_test)\n",
    "print(classification_report( y_test, preds_tfidf, target_names = level1_id_map.keys()))"
   ]
  },
  {
   "cell_type": "code",
   "execution_count": 0,
   "metadata": {
    "application/vnd.databricks.v1+cell": {
     "cellMetadata": {
      "byteLimit": 2048000,
      "rowLimit": 10000
     },
     "inputWidgets": {},
     "nuid": "080e3132-8d49-4308-a7af-5d60dbe57ef5",
     "showTitle": false,
     "title": ""
    }
   },
   "outputs": [
    {
     "name": "stdout",
     "output_type": "stream",
     "text": [
      "                                          precision    recall  f1-score   support\n",
      "\n",
      "                   Beer / Wine / Spirits       0.98      0.99      0.98      2381\n",
      "                        Food / Beverages       0.98      0.99      0.99     12743\n",
      "                         Health & Beauty       0.96      0.97      0.97      5555\n",
      "                    Gardening & Outdoors       0.90      0.88      0.89       245\n",
      "                   Cleaning & Janitorial       0.89      0.89      0.89       894\n",
      "                Livestock & Pet Supplies       0.97      0.98      0.98       656\n",
      "                      Kitchen & Bathroom       0.79      0.87      0.83       527\n",
      "                            Unclassified       0.73      0.30      0.43       226\n",
      "                             Electronics       0.86      0.91      0.88       158\n",
      "Heating / Ventilation / Air Conditioning       0.84      0.88      0.86        24\n",
      "                               Childcare       0.84      0.88      0.86       180\n",
      "                 Home & Venue Decoration       0.79      0.77      0.78       275\n",
      "                  Toys / Games / Hobbies       0.88      0.94      0.91       271\n",
      "                         Office Supplies       0.76      0.86      0.81       201\n",
      "                              Appliances       0.80      0.53      0.64        73\n",
      "                                 Apparel       0.79      0.60      0.68        90\n",
      "                         Lighting & Fans       0.92      0.91      0.91       137\n",
      "                    Hospitality Supplies       0.84      0.60      0.70        43\n",
      "                                Hardware       0.77      0.84      0.80       116\n",
      "                              Automotive       0.73      0.81      0.77        91\n",
      "                                   Tools       0.79      0.60      0.68        55\n",
      "                Plumbing & Water Service       0.78      0.67      0.72        21\n",
      "                            Power Sports       1.00      0.20      0.33         5\n",
      "                        Tobacco Products       0.95      1.00      0.97        94\n",
      "                           Arts & Crafts       0.76      0.58      0.66        83\n",
      "   Sports & Outdoor Recreation Equipment       0.86      0.70      0.77        60\n",
      "                       Building Supplies       0.83      0.83      0.83         6\n",
      "                       Paints & Coatings       1.00      0.62      0.77         8\n",
      "                              Electrical       0.86      0.57      0.69        21\n",
      "                          Books & Videos       0.93      0.89      0.91        28\n",
      "                               Furniture       0.50      0.25      0.33         4\n",
      "                                  Marine       0.00      0.00      0.00         1\n",
      "                       Material Handling       0.00      0.00      0.00         1\n",
      "                          Not classified       0.50      0.09      0.15        47\n",
      "                  Agricultural Equipment       0.00      0.00      0.00         1\n",
      "                                Flooring       0.00      0.00      0.00         1\n",
      "\n",
      "                                accuracy                           0.96     25322\n",
      "                               macro avg       0.74      0.65      0.68     25322\n",
      "                            weighted avg       0.95      0.96      0.95     25322\n",
      "\n"
     ]
    }
   ],
   "source": [
    "\n",
    "print(classification_report( y_test, preds_lrtf, target_names = level1_id_map.keys()))"
   ]
  },
  {
   "cell_type": "code",
   "execution_count": 0,
   "metadata": {
    "application/vnd.databricks.v1+cell": {
     "cellMetadata": {
      "byteLimit": 2048000,
      "rowLimit": 10000
     },
     "inputWidgets": {},
     "nuid": "f60a2934-8fd7-4bb3-ad89-2f347c889759",
     "showTitle": false,
     "title": ""
    }
   },
   "outputs": [],
   "source": [
    "## Test Data\n",
    "lr_tf.fit(X_, y_)\n",
    "test_GTINs = pd.read_csv('/dbfs/FileStore/tables/DATA_SCIENCE/SYNDIGO_DEP_GTINs.csv')\n",
    "test_df = pimmart[pimmart.GTIN.isin(test_GTINs.GTIN_NO)]\n",
    "test_df['ITEM_DPT_text'] = \\\n",
    "(test_df.VND_ECOM_DSC + ' ' + test_df.DPT_DSC).fillna('').str.lower()"
   ]
  },
  {
   "cell_type": "code",
   "execution_count": 0,
   "metadata": {
    "application/vnd.databricks.v1+cell": {
     "cellMetadata": {
      "byteLimit": 2048000,
      "rowLimit": 10000
     },
     "inputWidgets": {},
     "nuid": "7c7994f5-2150-4026-9125-0c6fa95931a6",
     "showTitle": false,
     "title": ""
    }
   },
   "outputs": [],
   "source": [
    "X_test = vect.transform(test_df.ITEM_DPT_text)\n",
    "#Target Vectors\n",
    "id_level1_map = {v:k for k,v in level1_id_map.items()}"
   ]
  },
  {
   "cell_type": "code",
   "execution_count": 0,
   "metadata": {
    "application/vnd.databricks.v1+cell": {
     "cellMetadata": {
      "byteLimit": 2048000,
      "rowLimit": 10000
     },
     "inputWidgets": {},
     "nuid": "723eefc0-a651-4d83-baaa-01e0dde61e8c",
     "showTitle": false,
     "title": ""
    }
   },
   "outputs": [],
   "source": [
    "preds_test = pd.Series(lr_tf.predict(X_test)).map(id_level1_map)"
   ]
  },
  {
   "cell_type": "code",
   "execution_count": 0,
   "metadata": {
    "application/vnd.databricks.v1+cell": {
     "cellMetadata": {
      "byteLimit": 2048000,
      "rowLimit": 10000
     },
     "inputWidgets": {},
     "nuid": "0db5c70b-90b0-4f1e-b39e-f8c9d347b8ab",
     "showTitle": false,
     "title": ""
    }
   },
   "outputs": [],
   "source": [
    "test_df['Predicted Level 1'] = list(preds_test)"
   ]
  },
  {
   "cell_type": "code",
   "execution_count": 0,
   "metadata": {
    "application/vnd.databricks.v1+cell": {
     "cellMetadata": {
      "byteLimit": 2048000,
      "rowLimit": 10000
     },
     "inputWidgets": {},
     "nuid": "f3ee212e-d8a8-4908-8b0a-1c99d9c9d425",
     "showTitle": false,
     "title": ""
    }
   },
   "outputs": [
    {
     "name": "stdout",
     "output_type": "stream",
     "text": [
      "Out[92]: Apparel                                     410597\n",
      "Food / Beverages                            408593\n",
      "Home & Venue Decoration                     194349\n",
      "Childcare                                   107572\n",
      "Health & Beauty                              79360\n",
      "Gardening & Outdoors                         45523\n",
      "Books & Videos                               34139\n",
      "Office Supplies                              32762\n",
      "Cleaning & Janitorial                        30869\n",
      "Kitchen & Bathroom                           24635\n",
      "Toys / Games / Hobbies                       24238\n",
      "Electronics                                  13321\n",
      "Beer / Wine / Spirits                         6051\n",
      "Sports & Outdoor Recreation Equipment         5213\n",
      "Livestock & Pet Supplies                      2464\n",
      "Automotive                                    2015\n",
      "Not classified                                1721\n",
      "Unclassified                                  1710\n",
      "Hardware                                      1184\n",
      "Lighting & Fans                                908\n",
      "Tobacco Products                               888\n",
      "Arts & Crafts                                  832\n",
      "Tools                                          458\n",
      "Heating / Ventilation / Air Conditioning       172\n",
      "Furniture                                       67\n",
      "Electrical                                      62\n",
      "Appliances                                      61\n",
      "Paints & Coatings                               53\n",
      "Hospitality Supplies                            35\n",
      "Plumbing & Water Service                        12\n",
      "Name: Predicted Level 1, dtype: int64"
     ]
    }
   ],
   "source": [
    "test_df['Predicted Level 1'].value_counts()"
   ]
  },
  {
   "cell_type": "code",
   "execution_count": 0,
   "metadata": {
    "application/vnd.databricks.v1+cell": {
     "cellMetadata": {
      "byteLimit": 2048000,
      "rowLimit": 10000
     },
     "inputWidgets": {},
     "nuid": "d2c10aca-090b-44f8-856f-de20da292232",
     "showTitle": false,
     "title": ""
    }
   },
   "outputs": [
    {
     "name": "stdout",
     "output_type": "stream",
     "text": [
      "Out[93]: 1429864"
     ]
    }
   ],
   "source": [
    "len(test_df)"
   ]
  },
  {
   "cell_type": "code",
   "execution_count": 0,
   "metadata": {
    "application/vnd.databricks.v1+cell": {
     "cellMetadata": {
      "byteLimit": 2048000,
      "rowLimit": 10000
     },
     "inputWidgets": {},
     "nuid": "76d29df6-0b2e-4459-bd0e-b559d244aa98",
     "showTitle": false,
     "title": ""
    }
   },
   "outputs": [
    {
     "data": {
      "text/html": [
       "<div>\n",
       "<style scoped>\n",
       "    .dataframe tbody tr th:only-of-type {\n",
       "        vertical-align: middle;\n",
       "    }\n",
       "\n",
       "    .dataframe tbody tr th {\n",
       "        vertical-align: top;\n",
       "    }\n",
       "\n",
       "    .dataframe thead th {\n",
       "        text-align: right;\n",
       "    }\n",
       "</style>\n",
       "<table border=\"1\" class=\"dataframe\">\n",
       "  <thead>\n",
       "    <tr style=\"text-align: right;\">\n",
       "      <th></th>\n",
       "      <th>ITM_ID</th>\n",
       "      <th>GTIN</th>\n",
       "      <th>GTIN_NAM</th>\n",
       "      <th>CON_UNT_ITM_DSC</th>\n",
       "      <th>DSP_UNT_ITM_DSC</th>\n",
       "      <th>PMY_DPT_DSC</th>\n",
       "      <th>REC_DPT_DSC</th>\n",
       "      <th>DPT_DSC</th>\n",
       "      <th>COM_DSC</th>\n",
       "      <th>SUBCOM_DSC</th>\n",
       "      <th>...</th>\n",
       "      <th>VND_ECOM_DSC</th>\n",
       "      <th>KRG_OWN_ECOM_DSC</th>\n",
       "      <th>CORRECT_ITM_ID</th>\n",
       "      <th>PMY_DPT_CD</th>\n",
       "      <th>REC_DPT_CD</th>\n",
       "      <th>DPT_CD</th>\n",
       "      <th>COM_CD</th>\n",
       "      <th>SUBCOM_CD</th>\n",
       "      <th>ITEM_DPT_text</th>\n",
       "      <th>Predicted Level 1</th>\n",
       "    </tr>\n",
       "  </thead>\n",
       "  <tbody>\n",
       "    <tr>\n",
       "      <th>68</th>\n",
       "      <td>688216491</td>\n",
       "      <td>808412852763</td>\n",
       "      <td>12'' Tiki Tiki Totem, Liberty University</td>\n",
       "      <td>12'' Tiki Totem, Liberty</td>\n",
       "      <td>12'' Tiki Totem, Liberty University</td>\n",
       "      <td>DRUG/GM</td>\n",
       "      <td>GM</td>\n",
       "      <td>MENS WEAR</td>\n",
       "      <td>TEAM LICENSED NON-APPAREL</td>\n",
       "      <td>NCAA</td>\n",
       "      <td>...</td>\n",
       "      <td>12'' Tiki Tiki Totem, Liberty University</td>\n",
       "      <td>None</td>\n",
       "      <td>708127940</td>\n",
       "      <td>3.0</td>\n",
       "      <td>87.0</td>\n",
       "      <td>89.0</td>\n",
       "      <td>371.0</td>\n",
       "      <td>37120.0</td>\n",
       "      <td>12'' tiki tiki totem, liberty university mens ...</td>\n",
       "      <td>Apparel</td>\n",
       "    </tr>\n",
       "    <tr>\n",
       "      <th>82</th>\n",
       "      <td>688219090</td>\n",
       "      <td>79902188123</td>\n",
       "      <td>Team FL Hoodie</td>\n",
       "      <td>Team FL Hoodie</td>\n",
       "      <td>None</td>\n",
       "      <td>DRUG/GM</td>\n",
       "      <td>GM</td>\n",
       "      <td>MENS WEAR</td>\n",
       "      <td>COLLEGIATE APPAREL</td>\n",
       "      <td>NCAA OTHER</td>\n",
       "      <td>...</td>\n",
       "      <td>Team FL Hoodie</td>\n",
       "      <td>None</td>\n",
       "      <td>708130210</td>\n",
       "      <td>3.0</td>\n",
       "      <td>87.0</td>\n",
       "      <td>89.0</td>\n",
       "      <td>849.0</td>\n",
       "      <td>84901.0</td>\n",
       "      <td>team fl hoodie mens wear</td>\n",
       "      <td>Apparel</td>\n",
       "    </tr>\n",
       "    <tr>\n",
       "      <th>88</th>\n",
       "      <td>688219091</td>\n",
       "      <td>79902188130</td>\n",
       "      <td>TEAM FL Hoodie 20PK</td>\n",
       "      <td>None</td>\n",
       "      <td>TEAM FL Hoodie 20PK</td>\n",
       "      <td>DRUG/GM</td>\n",
       "      <td>GM</td>\n",
       "      <td>MENS WEAR</td>\n",
       "      <td>COLLEGIATE APPAREL</td>\n",
       "      <td>NCAA OTHER</td>\n",
       "      <td>...</td>\n",
       "      <td>Team FL Hoodie 20PK</td>\n",
       "      <td>None</td>\n",
       "      <td>708130211</td>\n",
       "      <td>3.0</td>\n",
       "      <td>87.0</td>\n",
       "      <td>89.0</td>\n",
       "      <td>849.0</td>\n",
       "      <td>84901.0</td>\n",
       "      <td>team fl hoodie 20pk mens wear</td>\n",
       "      <td>Apparel</td>\n",
       "    </tr>\n",
       "    <tr>\n",
       "      <th>114</th>\n",
       "      <td>688216498</td>\n",
       "      <td>20808412852767</td>\n",
       "      <td>12'' Tiki Tiki Totem,  Liberty University</td>\n",
       "      <td>12'' Tiki Totem, Liberty</td>\n",
       "      <td>12'' Tiki Totem, Liberty University</td>\n",
       "      <td>DRUG/GM</td>\n",
       "      <td>GM</td>\n",
       "      <td>MENS WEAR</td>\n",
       "      <td>TEAM LICENSED NON-APPAREL</td>\n",
       "      <td>NCAA</td>\n",
       "      <td>...</td>\n",
       "      <td>12'' Tiki Tiki Totem,  Liberty University</td>\n",
       "      <td>None</td>\n",
       "      <td>708127954</td>\n",
       "      <td>3.0</td>\n",
       "      <td>87.0</td>\n",
       "      <td>89.0</td>\n",
       "      <td>371.0</td>\n",
       "      <td>37120.0</td>\n",
       "      <td>12'' tiki tiki totem,  liberty university mens...</td>\n",
       "      <td>Apparel</td>\n",
       "    </tr>\n",
       "    <tr>\n",
       "      <th>131</th>\n",
       "      <td>688215098</td>\n",
       "      <td>94131415055</td>\n",
       "      <td>NCAA KU KIDS 3 PC. DINNER SET MELAMINE</td>\n",
       "      <td>KU KID 3PC MEL PLAT BOWL CUP</td>\n",
       "      <td>KU KID 3PC MEL PLAT BOWL CUP</td>\n",
       "      <td>DRUG/GM</td>\n",
       "      <td>GM</td>\n",
       "      <td>MENS WEAR</td>\n",
       "      <td>TEAM LICENSED NON-APPAREL</td>\n",
       "      <td>NCAA</td>\n",
       "      <td>...</td>\n",
       "      <td>NCAA KU KIDS 3 PC. DINNER SET MELAMINE</td>\n",
       "      <td>None</td>\n",
       "      <td>708126253</td>\n",
       "      <td>3.0</td>\n",
       "      <td>87.0</td>\n",
       "      <td>89.0</td>\n",
       "      <td>371.0</td>\n",
       "      <td>37120.0</td>\n",
       "      <td>ncaa ku kids 3 pc. dinner set melamine mens wear</td>\n",
       "      <td>Apparel</td>\n",
       "    </tr>\n",
       "    <tr>\n",
       "      <th>...</th>\n",
       "      <td>...</td>\n",
       "      <td>...</td>\n",
       "      <td>...</td>\n",
       "      <td>...</td>\n",
       "      <td>...</td>\n",
       "      <td>...</td>\n",
       "      <td>...</td>\n",
       "      <td>...</td>\n",
       "      <td>...</td>\n",
       "      <td>...</td>\n",
       "      <td>...</td>\n",
       "      <td>...</td>\n",
       "      <td>...</td>\n",
       "      <td>...</td>\n",
       "      <td>...</td>\n",
       "      <td>...</td>\n",
       "      <td>...</td>\n",
       "      <td>...</td>\n",
       "      <td>...</td>\n",
       "      <td>...</td>\n",
       "      <td>...</td>\n",
       "    </tr>\n",
       "    <tr>\n",
       "      <th>4934960</th>\n",
       "      <td>693150335</td>\n",
       "      <td>26718256669</td>\n",
       "      <td>None</td>\n",
       "      <td>None</td>\n",
       "      <td>None</td>\n",
       "      <td>DRUG/GM</td>\n",
       "      <td>GM</td>\n",
       "      <td>MENS WEAR</td>\n",
       "      <td>MENS SLEEPWEAR</td>\n",
       "      <td>MENS SLEEP PANTS</td>\n",
       "      <td>...</td>\n",
       "      <td>ANDE MASTIFF JOGGER - SIZE S-XL</td>\n",
       "      <td>None</td>\n",
       "      <td>713068058</td>\n",
       "      <td>3.0</td>\n",
       "      <td>87.0</td>\n",
       "      <td>89.0</td>\n",
       "      <td>964.0</td>\n",
       "      <td>70695.0</td>\n",
       "      <td>ande mastiff jogger - size s-xl mens wear</td>\n",
       "      <td>Apparel</td>\n",
       "    </tr>\n",
       "    <tr>\n",
       "      <th>4935014</th>\n",
       "      <td>693127039</td>\n",
       "      <td>10840331403654</td>\n",
       "      <td>GEORGIA BULLDOGS CERAMIC SNOWMAN PUFFER JACKET</td>\n",
       "      <td>None</td>\n",
       "      <td>UGA CER SNOWMAN PUFFER JKT 11 IN</td>\n",
       "      <td>DRUG/GM</td>\n",
       "      <td>GM</td>\n",
       "      <td>MENS WEAR</td>\n",
       "      <td>TEAM LICENSED NON-APPAREL</td>\n",
       "      <td>NCAA</td>\n",
       "      <td>...</td>\n",
       "      <td>GEORGIA BULLDOGS CERAMIC SNOWMAN PUFFER JACKET</td>\n",
       "      <td>None</td>\n",
       "      <td>713036314</td>\n",
       "      <td>3.0</td>\n",
       "      <td>87.0</td>\n",
       "      <td>89.0</td>\n",
       "      <td>371.0</td>\n",
       "      <td>37120.0</td>\n",
       "      <td>georgia bulldogs ceramic snowman puffer jacket...</td>\n",
       "      <td>Apparel</td>\n",
       "    </tr>\n",
       "    <tr>\n",
       "      <th>4935015</th>\n",
       "      <td>693127046</td>\n",
       "      <td>840331403411</td>\n",
       "      <td>CLEVELAND BROWNS CERAMIC SNOWMAN PUFFER JACKET</td>\n",
       "      <td>CLE CER SNOWMAN PUFF JKT 11 IN</td>\n",
       "      <td>None</td>\n",
       "      <td>DRUG/GM</td>\n",
       "      <td>GM</td>\n",
       "      <td>MENS WEAR</td>\n",
       "      <td>TEAM LICENSED NON-APPAREL</td>\n",
       "      <td>NFL</td>\n",
       "      <td>...</td>\n",
       "      <td>CLEVELAND BROWNS CERAMIC SNOWMAN PUFFER JACKET</td>\n",
       "      <td>None</td>\n",
       "      <td>713036328</td>\n",
       "      <td>3.0</td>\n",
       "      <td>87.0</td>\n",
       "      <td>89.0</td>\n",
       "      <td>371.0</td>\n",
       "      <td>92004.0</td>\n",
       "      <td>cleveland browns ceramic snowman puffer jacket...</td>\n",
       "      <td>Apparel</td>\n",
       "    </tr>\n",
       "    <tr>\n",
       "      <th>4935016</th>\n",
       "      <td>693127048</td>\n",
       "      <td>840331403534</td>\n",
       "      <td>MICHIGAN STATE SPARTANS CERAMIC SNOWMAN PUFFER...</td>\n",
       "      <td>MSU CER SNOWMAN PUFF JKT 11 IN</td>\n",
       "      <td>None</td>\n",
       "      <td>DRUG/GM</td>\n",
       "      <td>GM</td>\n",
       "      <td>MENS WEAR</td>\n",
       "      <td>TEAM LICENSED NON-APPAREL</td>\n",
       "      <td>NCAA</td>\n",
       "      <td>...</td>\n",
       "      <td>MICHIGAN STATE SPARTANS CERAMIC SNOWMAN PUFFER...</td>\n",
       "      <td>None</td>\n",
       "      <td>713036332</td>\n",
       "      <td>3.0</td>\n",
       "      <td>87.0</td>\n",
       "      <td>89.0</td>\n",
       "      <td>371.0</td>\n",
       "      <td>37120.0</td>\n",
       "      <td>michigan state spartans ceramic snowman puffer...</td>\n",
       "      <td>Apparel</td>\n",
       "    </tr>\n",
       "    <tr>\n",
       "      <th>4935285</th>\n",
       "      <td>693149274</td>\n",
       "      <td>26718256744</td>\n",
       "      <td>None</td>\n",
       "      <td>None</td>\n",
       "      <td>None</td>\n",
       "      <td>DRUG/GM</td>\n",
       "      <td>GM</td>\n",
       "      <td>MENS WEAR</td>\n",
       "      <td>MENS SLEEPWEAR</td>\n",
       "      <td>MENS SLEEP PANTS</td>\n",
       "      <td>...</td>\n",
       "      <td>ANDE COLORFUL CHECK SLEEP PANT; SIZE S-XL</td>\n",
       "      <td>None</td>\n",
       "      <td>713064411</td>\n",
       "      <td>3.0</td>\n",
       "      <td>87.0</td>\n",
       "      <td>89.0</td>\n",
       "      <td>964.0</td>\n",
       "      <td>70695.0</td>\n",
       "      <td>ande colorful check sleep pant; size s-xl mens...</td>\n",
       "      <td>Apparel</td>\n",
       "    </tr>\n",
       "  </tbody>\n",
       "</table>\n",
       "<p>327334 rows × 42 columns</p>\n",
       "</div>"
      ]
     },
     "metadata": {
      "application/vnd.databricks.v1+output": {
       "addedWidgets": {},
       "arguments": {},
       "data": "<div>\n<style scoped>\n    .dataframe tbody tr th:only-of-type {\n        vertical-align: middle;\n    }\n\n    .dataframe tbody tr th {\n        vertical-align: top;\n    }\n\n    .dataframe thead th {\n        text-align: right;\n    }\n</style>\n<table border=\"1\" class=\"dataframe\">\n  <thead>\n    <tr style=\"text-align: right;\">\n      <th></th>\n      <th>ITM_ID</th>\n      <th>GTIN</th>\n      <th>GTIN_NAM</th>\n      <th>CON_UNT_ITM_DSC</th>\n      <th>DSP_UNT_ITM_DSC</th>\n      <th>PMY_DPT_DSC</th>\n      <th>REC_DPT_DSC</th>\n      <th>DPT_DSC</th>\n      <th>COM_DSC</th>\n      <th>SUBCOM_DSC</th>\n      <th>...</th>\n      <th>VND_ECOM_DSC</th>\n      <th>KRG_OWN_ECOM_DSC</th>\n      <th>CORRECT_ITM_ID</th>\n      <th>PMY_DPT_CD</th>\n      <th>REC_DPT_CD</th>\n      <th>DPT_CD</th>\n      <th>COM_CD</th>\n      <th>SUBCOM_CD</th>\n      <th>ITEM_DPT_text</th>\n      <th>Predicted Level 1</th>\n    </tr>\n  </thead>\n  <tbody>\n    <tr>\n      <th>68</th>\n      <td>688216491</td>\n      <td>808412852763</td>\n      <td>12'' Tiki Tiki Totem, Liberty University</td>\n      <td>12'' Tiki Totem, Liberty</td>\n      <td>12'' Tiki Totem, Liberty University</td>\n      <td>DRUG/GM</td>\n      <td>GM</td>\n      <td>MENS WEAR</td>\n      <td>TEAM LICENSED NON-APPAREL</td>\n      <td>NCAA</td>\n      <td>...</td>\n      <td>12'' Tiki Tiki Totem, Liberty University</td>\n      <td>None</td>\n      <td>708127940</td>\n      <td>3.0</td>\n      <td>87.0</td>\n      <td>89.0</td>\n      <td>371.0</td>\n      <td>37120.0</td>\n      <td>12'' tiki tiki totem, liberty university mens ...</td>\n      <td>Apparel</td>\n    </tr>\n    <tr>\n      <th>82</th>\n      <td>688219090</td>\n      <td>79902188123</td>\n      <td>Team FL Hoodie</td>\n      <td>Team FL Hoodie</td>\n      <td>None</td>\n      <td>DRUG/GM</td>\n      <td>GM</td>\n      <td>MENS WEAR</td>\n      <td>COLLEGIATE APPAREL</td>\n      <td>NCAA OTHER</td>\n      <td>...</td>\n      <td>Team FL Hoodie</td>\n      <td>None</td>\n      <td>708130210</td>\n      <td>3.0</td>\n      <td>87.0</td>\n      <td>89.0</td>\n      <td>849.0</td>\n      <td>84901.0</td>\n      <td>team fl hoodie mens wear</td>\n      <td>Apparel</td>\n    </tr>\n    <tr>\n      <th>88</th>\n      <td>688219091</td>\n      <td>79902188130</td>\n      <td>TEAM FL Hoodie 20PK</td>\n      <td>None</td>\n      <td>TEAM FL Hoodie 20PK</td>\n      <td>DRUG/GM</td>\n      <td>GM</td>\n      <td>MENS WEAR</td>\n      <td>COLLEGIATE APPAREL</td>\n      <td>NCAA OTHER</td>\n      <td>...</td>\n      <td>Team FL Hoodie 20PK</td>\n      <td>None</td>\n      <td>708130211</td>\n      <td>3.0</td>\n      <td>87.0</td>\n      <td>89.0</td>\n      <td>849.0</td>\n      <td>84901.0</td>\n      <td>team fl hoodie 20pk mens wear</td>\n      <td>Apparel</td>\n    </tr>\n    <tr>\n      <th>114</th>\n      <td>688216498</td>\n      <td>20808412852767</td>\n      <td>12'' Tiki Tiki Totem,  Liberty University</td>\n      <td>12'' Tiki Totem, Liberty</td>\n      <td>12'' Tiki Totem, Liberty University</td>\n      <td>DRUG/GM</td>\n      <td>GM</td>\n      <td>MENS WEAR</td>\n      <td>TEAM LICENSED NON-APPAREL</td>\n      <td>NCAA</td>\n      <td>...</td>\n      <td>12'' Tiki Tiki Totem,  Liberty University</td>\n      <td>None</td>\n      <td>708127954</td>\n      <td>3.0</td>\n      <td>87.0</td>\n      <td>89.0</td>\n      <td>371.0</td>\n      <td>37120.0</td>\n      <td>12'' tiki tiki totem,  liberty university mens...</td>\n      <td>Apparel</td>\n    </tr>\n    <tr>\n      <th>131</th>\n      <td>688215098</td>\n      <td>94131415055</td>\n      <td>NCAA KU KIDS 3 PC. DINNER SET MELAMINE</td>\n      <td>KU KID 3PC MEL PLAT BOWL CUP</td>\n      <td>KU KID 3PC MEL PLAT BOWL CUP</td>\n      <td>DRUG/GM</td>\n      <td>GM</td>\n      <td>MENS WEAR</td>\n      <td>TEAM LICENSED NON-APPAREL</td>\n      <td>NCAA</td>\n      <td>...</td>\n      <td>NCAA KU KIDS 3 PC. DINNER SET MELAMINE</td>\n      <td>None</td>\n      <td>708126253</td>\n      <td>3.0</td>\n      <td>87.0</td>\n      <td>89.0</td>\n      <td>371.0</td>\n      <td>37120.0</td>\n      <td>ncaa ku kids 3 pc. dinner set melamine mens wear</td>\n      <td>Apparel</td>\n    </tr>\n    <tr>\n      <th>...</th>\n      <td>...</td>\n      <td>...</td>\n      <td>...</td>\n      <td>...</td>\n      <td>...</td>\n      <td>...</td>\n      <td>...</td>\n      <td>...</td>\n      <td>...</td>\n      <td>...</td>\n      <td>...</td>\n      <td>...</td>\n      <td>...</td>\n      <td>...</td>\n      <td>...</td>\n      <td>...</td>\n      <td>...</td>\n      <td>...</td>\n      <td>...</td>\n      <td>...</td>\n      <td>...</td>\n    </tr>\n    <tr>\n      <th>4934960</th>\n      <td>693150335</td>\n      <td>26718256669</td>\n      <td>None</td>\n      <td>None</td>\n      <td>None</td>\n      <td>DRUG/GM</td>\n      <td>GM</td>\n      <td>MENS WEAR</td>\n      <td>MENS SLEEPWEAR</td>\n      <td>MENS SLEEP PANTS</td>\n      <td>...</td>\n      <td>ANDE MASTIFF JOGGER - SIZE S-XL</td>\n      <td>None</td>\n      <td>713068058</td>\n      <td>3.0</td>\n      <td>87.0</td>\n      <td>89.0</td>\n      <td>964.0</td>\n      <td>70695.0</td>\n      <td>ande mastiff jogger - size s-xl mens wear</td>\n      <td>Apparel</td>\n    </tr>\n    <tr>\n      <th>4935014</th>\n      <td>693127039</td>\n      <td>10840331403654</td>\n      <td>GEORGIA BULLDOGS CERAMIC SNOWMAN PUFFER JACKET</td>\n      <td>None</td>\n      <td>UGA CER SNOWMAN PUFFER JKT 11 IN</td>\n      <td>DRUG/GM</td>\n      <td>GM</td>\n      <td>MENS WEAR</td>\n      <td>TEAM LICENSED NON-APPAREL</td>\n      <td>NCAA</td>\n      <td>...</td>\n      <td>GEORGIA BULLDOGS CERAMIC SNOWMAN PUFFER JACKET</td>\n      <td>None</td>\n      <td>713036314</td>\n      <td>3.0</td>\n      <td>87.0</td>\n      <td>89.0</td>\n      <td>371.0</td>\n      <td>37120.0</td>\n      <td>georgia bulldogs ceramic snowman puffer jacket...</td>\n      <td>Apparel</td>\n    </tr>\n    <tr>\n      <th>4935015</th>\n      <td>693127046</td>\n      <td>840331403411</td>\n      <td>CLEVELAND BROWNS CERAMIC SNOWMAN PUFFER JACKET</td>\n      <td>CLE CER SNOWMAN PUFF JKT 11 IN</td>\n      <td>None</td>\n      <td>DRUG/GM</td>\n      <td>GM</td>\n      <td>MENS WEAR</td>\n      <td>TEAM LICENSED NON-APPAREL</td>\n      <td>NFL</td>\n      <td>...</td>\n      <td>CLEVELAND BROWNS CERAMIC SNOWMAN PUFFER JACKET</td>\n      <td>None</td>\n      <td>713036328</td>\n      <td>3.0</td>\n      <td>87.0</td>\n      <td>89.0</td>\n      <td>371.0</td>\n      <td>92004.0</td>\n      <td>cleveland browns ceramic snowman puffer jacket...</td>\n      <td>Apparel</td>\n    </tr>\n    <tr>\n      <th>4935016</th>\n      <td>693127048</td>\n      <td>840331403534</td>\n      <td>MICHIGAN STATE SPARTANS CERAMIC SNOWMAN PUFFER...</td>\n      <td>MSU CER SNOWMAN PUFF JKT 11 IN</td>\n      <td>None</td>\n      <td>DRUG/GM</td>\n      <td>GM</td>\n      <td>MENS WEAR</td>\n      <td>TEAM LICENSED NON-APPAREL</td>\n      <td>NCAA</td>\n      <td>...</td>\n      <td>MICHIGAN STATE SPARTANS CERAMIC SNOWMAN PUFFER...</td>\n      <td>None</td>\n      <td>713036332</td>\n      <td>3.0</td>\n      <td>87.0</td>\n      <td>89.0</td>\n      <td>371.0</td>\n      <td>37120.0</td>\n      <td>michigan state spartans ceramic snowman puffer...</td>\n      <td>Apparel</td>\n    </tr>\n    <tr>\n      <th>4935285</th>\n      <td>693149274</td>\n      <td>26718256744</td>\n      <td>None</td>\n      <td>None</td>\n      <td>None</td>\n      <td>DRUG/GM</td>\n      <td>GM</td>\n      <td>MENS WEAR</td>\n      <td>MENS SLEEPWEAR</td>\n      <td>MENS SLEEP PANTS</td>\n      <td>...</td>\n      <td>ANDE COLORFUL CHECK SLEEP PANT; SIZE S-XL</td>\n      <td>None</td>\n      <td>713064411</td>\n      <td>3.0</td>\n      <td>87.0</td>\n      <td>89.0</td>\n      <td>964.0</td>\n      <td>70695.0</td>\n      <td>ande colorful check sleep pant; size s-xl mens...</td>\n      <td>Apparel</td>\n    </tr>\n  </tbody>\n</table>\n<p>327334 rows × 42 columns</p>\n</div>",
       "datasetInfos": [],
       "metadata": {},
       "removedWidgets": [],
       "textData": null,
       "type": "htmlSandbox"
      }
     },
     "output_type": "display_data"
    }
   ],
   "source": [
    "test_df[test_df.DPT_DSC == 'MENS WEAR']"
   ]
  },
  {
   "cell_type": "code",
   "execution_count": 0,
   "metadata": {
    "application/vnd.databricks.v1+cell": {
     "cellMetadata": {
      "byteLimit": 2048000,
      "rowLimit": 10000
     },
     "inputWidgets": {},
     "nuid": "eed75a17-3a44-48e5-8697-38fce47c8876",
     "showTitle": false,
     "title": ""
    }
   },
   "outputs": [],
   "source": [
    "test_df[['GTIN','DPT_CD','DPT_DSC','SUBCOM_CD','SUBCOM_DSC','VND_ECOM_DSC','Predicted Level 1']].to_csv('/dbfs/FileStore/tables/DATA_SCIENCE/Level1_Predicted_Non_Syndigo_1.42M.csv', index = None)"
   ]
  },
  {
   "cell_type": "code",
   "execution_count": 0,
   "metadata": {
    "application/vnd.databricks.v1+cell": {
     "cellMetadata": {
      "byteLimit": 2048000,
      "rowLimit": 10000
     },
     "inputWidgets": {},
     "nuid": "061c505a-2d5b-4a23-b1a4-54b230be3c37",
     "showTitle": false,
     "title": ""
    }
   },
   "outputs": [],
   "source": [
    "test_df[['GTIN','DPT_CD','DPT_DSC','SUBCOM_CD','SUBCOM_DSC','VND_ECOM_DSC','Predicted Level 1']].to_parquet('/dbfs/FileStore/tables/DATA_SCIENCE/Level1_Predicted_Non_Syndigo_1.42M.parquet', index = None)"
   ]
  },
  {
   "cell_type": "markdown",
   "metadata": {
    "application/vnd.databricks.v1+cell": {
     "cellMetadata": {
      "byteLimit": 2048000,
      "rowLimit": 10000
     },
     "inputWidgets": {},
     "nuid": "67f86a5d-f64c-4915-92d2-ce0070726283",
     "showTitle": false,
     "title": ""
    }
   },
   "source": [
    "### Level 2 Classification"
   ]
  },
  {
   "cell_type": "code",
   "execution_count": 0,
   "metadata": {
    "application/vnd.databricks.v1+cell": {
     "cellMetadata": {
      "byteLimit": 2048000,
      "rowLimit": 10000
     },
     "inputWidgets": {},
     "nuid": "66f5211b-f4b3-4160-8bd8-8d4ee0db90f3",
     "showTitle": false,
     "title": ""
    }
   },
   "outputs": [
    {
     "data": {
      "text/html": [
       "<style scoped>\n",
       "  .ansiout {\n",
       "    display: block;\n",
       "    unicode-bidi: embed;\n",
       "    white-space: pre-wrap;\n",
       "    word-wrap: break-word;\n",
       "    word-break: break-all;\n",
       "    font-family: \"Source Code Pro\", \"Menlo\", monospace;;\n",
       "    font-size: 13px;\n",
       "    color: #555;\n",
       "    margin-left: 4px;\n",
       "    line-height: 19px;\n",
       "  }\n",
       "</style>\n",
       "<div class=\"ansiout\">Out[79]: Level 1\n",
       "Apparel                                      4\n",
       "Appliances                                   4\n",
       "Arts &amp; Crafts                               10\n",
       "Automotive                                   5\n",
       "Beer / Wine / Spirits                        9\n",
       "Books &amp; Videos                               3\n",
       "Building Supplies                            4\n",
       "Childcare                                    2\n",
       "Cleaning &amp; Janitorial                       15\n",
       "Electrical                                   8\n",
       "Electronics                                 12\n",
       "Food / Beverages                             9\n",
       "Furniture                                    2\n",
       "Gardening &amp; Outdoors                         3\n",
       "Hardware                                    12\n",
       "Health &amp; Beauty                              5\n",
       "Heating / Ventilation / Air Conditioning     3\n",
       "Home &amp; Venue Decoration                     12\n",
       "Hospitality Supplies                         8\n",
       "Kitchen &amp; Bathroom                           5\n",
       "Lighting &amp; Fans                              7\n",
       "Livestock &amp; Pet Supplies                     2\n",
       "Marine                                       2\n",
       "Material Handling                            2\n",
       "Office Supplies                             11\n",
       "Paints &amp; Coatings                            5\n",
       "Plumbing &amp; Water Service                     3\n",
       "Power Sports                                 2\n",
       "Sports &amp; Outdoor Recreation Equipment       14\n",
       "Tobacco Products                             2\n",
       "Tools                                        6\n",
       "Toys / Games / Hobbies                      10\n",
       "dtype: int64</div>"
      ]
     },
     "metadata": {
      "application/vnd.databricks.v1+output": {
       "addedWidgets": {},
       "arguments": {},
       "data": "<div class=\"ansiout\">Out[79]: Level 1\nApparel                                      4\nAppliances                                   4\nArts &amp; Crafts                               10\nAutomotive                                   5\nBeer / Wine / Spirits                        9\nBooks &amp; Videos                               3\nBuilding Supplies                            4\nChildcare                                    2\nCleaning &amp; Janitorial                       15\nElectrical                                   8\nElectronics                                 12\nFood / Beverages                             9\nFurniture                                    2\nGardening &amp; Outdoors                         3\nHardware                                    12\nHealth &amp; Beauty                              5\nHeating / Ventilation / Air Conditioning     3\nHome &amp; Venue Decoration                     12\nHospitality Supplies                         8\nKitchen &amp; Bathroom                           5\nLighting &amp; Fans                              7\nLivestock &amp; Pet Supplies                     2\nMarine                                       2\nMaterial Handling                            2\nOffice Supplies                             11\nPaints &amp; Coatings                            5\nPlumbing &amp; Water Service                     3\nPower Sports                                 2\nSports &amp; Outdoor Recreation Equipment       14\nTobacco Products                             2\nTools                                        6\nToys / Games / Hobbies                      10\ndtype: int64</div>",
       "datasetInfos": [],
       "metadata": {},
       "removedWidgets": [],
       "type": "html"
      }
     },
     "output_type": "display_data"
    }
   ],
   "source": [
    "syndigo_mapped.groupby('Level 1').apply(lambda x: x['Level 2'].nunique())"
   ]
  },
  {
   "cell_type": "code",
   "execution_count": 0,
   "metadata": {
    "application/vnd.databricks.v1+cell": {
     "cellMetadata": {
      "byteLimit": 2048000,
      "rowLimit": 10000
     },
     "inputWidgets": {},
     "nuid": "f0836a64-df71-4067-8cbd-83bb650cb8ba",
     "showTitle": false,
     "title": ""
    }
   },
   "outputs": [
    {
     "data": {
      "text/html": [
       "<style scoped>\n",
       "  .ansiout {\n",
       "    display: block;\n",
       "    unicode-bidi: embed;\n",
       "    white-space: pre-wrap;\n",
       "    word-wrap: break-word;\n",
       "    word-break: break-all;\n",
       "    font-family: \"Source Code Pro\", \"Menlo\", monospace;;\n",
       "    font-size: 13px;\n",
       "    color: #555;\n",
       "    margin-left: 4px;\n",
       "    line-height: 19px;\n",
       "  }\n",
       "</style>\n",
       "<div class=\"ansiout\">Out[69]: Level 2\n",
       "Stickers                        0\n",
       "Cigarettes                      0\n",
       "Ciders &amp; Perrys                 0\n",
       "Non-Alcoholic Beers             0\n",
       "Moisture &amp; Mildew Absorbers     0\n",
       "                               ..\n",
       "Small Appliances               17\n",
       "Cleaning Chemicals             25\n",
       "Healthcare                     27\n",
       "Personal Care                  30\n",
       "Produce                        56\n",
       "Length: 197, dtype: int64</div>"
      ]
     },
     "metadata": {
      "application/vnd.databricks.v1+output": {
       "addedWidgets": {},
       "arguments": {},
       "data": "<div class=\"ansiout\">Out[69]: Level 2\nStickers                        0\nCigarettes                      0\nCiders &amp; Perrys                 0\nNon-Alcoholic Beers             0\nMoisture &amp; Mildew Absorbers     0\n                               ..\nSmall Appliances               17\nCleaning Chemicals             25\nHealthcare                     27\nPersonal Care                  30\nProduce                        56\nLength: 197, dtype: int64</div>",
       "datasetInfos": [],
       "metadata": {},
       "removedWidgets": [],
       "type": "html"
      }
     },
     "output_type": "display_data"
    }
   ],
   "source": [
    "syndigo_mapped.groupby('Level 2').apply(lambda x: x['Level 3'].nunique()).sort_values()"
   ]
  },
  {
   "cell_type": "code",
   "execution_count": 0,
   "metadata": {
    "application/vnd.databricks.v1+cell": {
     "cellMetadata": {
      "byteLimit": 2048000,
      "rowLimit": 10000
     },
     "inputWidgets": {},
     "nuid": "75caa950-b2e5-4726-b700-4da235ccda2f",
     "showTitle": false,
     "title": ""
    }
   },
   "outputs": [
    {
     "data": {
      "text/html": [
       "<style scoped>\n",
       "  .ansiout {\n",
       "    display: block;\n",
       "    unicode-bidi: embed;\n",
       "    white-space: pre-wrap;\n",
       "    word-wrap: break-word;\n",
       "    word-break: break-all;\n",
       "    font-family: \"Source Code Pro\", \"Menlo\", monospace;;\n",
       "    font-size: 13px;\n",
       "    color: #555;\n",
       "    margin-left: 4px;\n",
       "    line-height: 19px;\n",
       "  }\n",
       "</style>\n",
       "<div class=\"ansiout\">Out[70]: Level 2                                                   Level 3                              \n",
       "Cosmetics &amp; Fragrances                                    Cosmetics                                6160\n",
       "Grocery                                                   Confectionery / Desserts / Sweeteners    6105\n",
       "                                                          Snack Foods                              4771\n",
       "                                                          Condiments                               4364\n",
       "Wine                                                      Still                                    3968\n",
       "Grocery                                                   Breads / Cereals / Grains                3151\n",
       "                                                          Seasonings / Preservatives / Extracts    2820\n",
       "Personal Care                                             Hair Care                                2741\n",
       "Pet Supplies                                              Cats &amp; Dogs                              2138\n",
       "Frozen Foods                                              Desserts (Frozen)                        1939\n",
       "Grocery                                                   Prepared &amp; Preserved Foods               1691\n",
       "Vitamins &amp; Dietary Supplements                            Pills &amp; Chews Supplements                1683\n",
       "Dairy &amp; Egg Products                                      Cheeses                                  1443\n",
       "Beverages                                                 Fruit &amp; Vegetable Drinks                 1373\n",
       "                                                          Coffee                                   1312\n",
       "                                                          Soda / Flavored Drinks                   1286\n",
       "Meat / Poultry / Seafood / Meat Substitutes (Perishable)  Prepared / Processed Animal Products     1168\n",
       "Grocery                                                   Vegetables (Shelf Stable)                1147\n",
       "Cosmetics &amp; Fragrances                                    Nail Care Products                       1057\n",
       "Frozen Foods                                              Meals (Frozen)                           1010\n",
       "dtype: int64</div>"
      ]
     },
     "metadata": {
      "application/vnd.databricks.v1+output": {
       "addedWidgets": {},
       "arguments": {},
       "data": "<div class=\"ansiout\">Out[70]: Level 2                                                   Level 3                              \nCosmetics &amp; Fragrances                                    Cosmetics                                6160\nGrocery                                                   Confectionery / Desserts / Sweeteners    6105\n                                                          Snack Foods                              4771\n                                                          Condiments                               4364\nWine                                                      Still                                    3968\nGrocery                                                   Breads / Cereals / Grains                3151\n                                                          Seasonings / Preservatives / Extracts    2820\nPersonal Care                                             Hair Care                                2741\nPet Supplies                                              Cats &amp; Dogs                              2138\nFrozen Foods                                              Desserts (Frozen)                        1939\nGrocery                                                   Prepared &amp; Preserved Foods               1691\nVitamins &amp; Dietary Supplements                            Pills &amp; Chews Supplements                1683\nDairy &amp; Egg Products                                      Cheeses                                  1443\nBeverages                                                 Fruit &amp; Vegetable Drinks                 1373\n                                                          Coffee                                   1312\n                                                          Soda / Flavored Drinks                   1286\nMeat / Poultry / Seafood / Meat Substitutes (Perishable)  Prepared / Processed Animal Products     1168\nGrocery                                                   Vegetables (Shelf Stable)                1147\nCosmetics &amp; Fragrances                                    Nail Care Products                       1057\nFrozen Foods                                              Meals (Frozen)                           1010\ndtype: int64</div>",
       "datasetInfos": [],
       "metadata": {},
       "removedWidgets": [],
       "type": "html"
      }
     },
     "output_type": "display_data"
    }
   ],
   "source": [
    "syndigo_mapped[['Level 2','Level 3']].value_counts()[:20]"
   ]
  },
  {
   "cell_type": "code",
   "execution_count": 0,
   "metadata": {
    "application/vnd.databricks.v1+cell": {
     "cellMetadata": {
      "byteLimit": 2048000,
      "rowLimit": 10000
     },
     "inputWidgets": {},
     "nuid": "cbd7ece9-f3d0-4553-8924-868ad7fa0329",
     "showTitle": false,
     "title": ""
    }
   },
   "outputs": [
    {
     "data": {
      "text/html": [
       "<style scoped>\n",
       "  .ansiout {\n",
       "    display: block;\n",
       "    unicode-bidi: embed;\n",
       "    white-space: pre-wrap;\n",
       "    word-wrap: break-word;\n",
       "    word-break: break-all;\n",
       "    font-family: \"Source Code Pro\", \"Menlo\", monospace;;\n",
       "    font-size: 13px;\n",
       "    color: #555;\n",
       "    margin-left: 4px;\n",
       "    line-height: 19px;\n",
       "  }\n",
       "</style>\n",
       "<div class=\"ansiout\">Out[271]: 1     3635\n",
       "2     1012\n",
       "3      332\n",
       "0      226\n",
       "4      172\n",
       "5       67\n",
       "6       40\n",
       "7       25\n",
       "8       15\n",
       "9       10\n",
       "11       5\n",
       "10       4\n",
       "14       2\n",
       "13       1\n",
       "12       1\n",
       "dtype: int64</div>"
      ]
     },
     "metadata": {
      "application/vnd.databricks.v1+output": {
       "addedWidgets": {},
       "arguments": {},
       "data": "<div class=\"ansiout\">Out[271]: 1     3635\n2     1012\n3      332\n0      226\n4      172\n5       67\n6       40\n7       25\n8       15\n9       10\n11       5\n10       4\n14       2\n13       1\n12       1\ndtype: int64</div>",
       "datasetInfos": [],
       "metadata": {},
       "removedWidgets": [],
       "type": "html"
      }
     },
     "output_type": "display_data"
    }
   ],
   "source": [
    "syndigo_mapped.groupby(['Level 2', 'SUBCOM_CD']).apply(lambda x: x['Level 3'].nunique()).value_counts()"
   ]
  },
  {
   "cell_type": "code",
   "execution_count": 0,
   "metadata": {
    "application/vnd.databricks.v1+cell": {
     "cellMetadata": {
      "byteLimit": 2048000,
      "rowLimit": 10000
     },
     "inputWidgets": {},
     "nuid": "336a1308-4d20-4eb4-890f-12e012fda588",
     "showTitle": false,
     "title": ""
    }
   },
   "outputs": [
    {
     "data": {
      "text/html": [
       "<style scoped>\n",
       "  .ansiout {\n",
       "    display: block;\n",
       "    unicode-bidi: embed;\n",
       "    white-space: pre-wrap;\n",
       "    word-wrap: break-word;\n",
       "    word-break: break-all;\n",
       "    font-family: \"Source Code Pro\", \"Menlo\", monospace;;\n",
       "    font-size: 13px;\n",
       "    color: #555;\n",
       "    margin-left: 4px;\n",
       "    line-height: 19px;\n",
       "  }\n",
       "</style>\n",
       "<div class=\"ansiout\">Out[272]: 1     3545\n",
       "2      983\n",
       "3      340\n",
       "0      227\n",
       "4      169\n",
       "5       67\n",
       "6       39\n",
       "7       26\n",
       "8       16\n",
       "9       10\n",
       "10       5\n",
       "11       5\n",
       "14       2\n",
       "13       1\n",
       "12       1\n",
       "dtype: int64</div>"
      ]
     },
     "metadata": {
      "application/vnd.databricks.v1+output": {
       "addedWidgets": {},
       "arguments": {},
       "data": "<div class=\"ansiout\">Out[272]: 1     3545\n2      983\n3      340\n0      227\n4      169\n5       67\n6       39\n7       26\n8       16\n9       10\n10       5\n11       5\n14       2\n13       1\n12       1\ndtype: int64</div>",
       "datasetInfos": [],
       "metadata": {},
       "removedWidgets": [],
       "type": "html"
      }
     },
     "output_type": "display_data"
    }
   ],
   "source": [
    "syndigo_mapped.groupby(['Level 2', 'SUBCOM_DSC']).apply(lambda x: x['Level 3'].nunique()).value_counts()"
   ]
  },
  {
   "cell_type": "markdown",
   "metadata": {
    "application/vnd.databricks.v1+cell": {
     "cellMetadata": {},
     "inputWidgets": {},
     "nuid": "96041c74-c4c3-40c0-9246-d424767842fa",
     "showTitle": false,
     "title": ""
    }
   },
   "source": [
    "##\n",
    "###Train L2 classifier for a given L1"
   ]
  },
  {
   "cell_type": "code",
   "execution_count": 0,
   "metadata": {
    "application/vnd.databricks.v1+cell": {
     "cellMetadata": {
      "byteLimit": 2048000,
      "rowLimit": 10000
     },
     "inputWidgets": {},
     "nuid": "db7af088-644d-43d1-9565-0622c45fcd12",
     "showTitle": false,
     "title": ""
    }
   },
   "outputs": [
    {
     "data": {
      "text/html": [
       "<style scoped>\n",
       "  .ansiout {\n",
       "    display: block;\n",
       "    unicode-bidi: embed;\n",
       "    white-space: pre-wrap;\n",
       "    word-wrap: break-word;\n",
       "    word-break: break-all;\n",
       "    font-family: \"Source Code Pro\", \"Menlo\", monospace;;\n",
       "    font-size: 13px;\n",
       "    color: #555;\n",
       "    margin-left: 4px;\n",
       "    line-height: 19px;\n",
       "  }\n",
       "</style>\n",
       "<div class=\"ansiout\">Out[71]: array([&#39;Beer / Wine / Spirits&#39;, &#39;Food / Beverages&#39;, &#39;Health &amp; Beauty&#39;,\n",
       "       &#39;Gardening &amp; Outdoors&#39;, &#39;Cleaning &amp; Janitorial&#39;,\n",
       "       &#39;Livestock &amp; Pet Supplies&#39;, &#39;Kitchen &amp; Bathroom&#39;, &#39;Electronics&#39;,\n",
       "       &#39;Heating / Ventilation / Air Conditioning&#39;, &#39;Childcare&#39;,\n",
       "       &#39;Home &amp; Venue Decoration&#39;, &#39;Toys / Games / Hobbies&#39;,\n",
       "       &#39;Office Supplies&#39;, &#39;Appliances&#39;, &#39;Apparel&#39;, &#39;Lighting &amp; Fans&#39;,\n",
       "       &#39;Hospitality Supplies&#39;, &#39;Hardware&#39;, &#39;Automotive&#39;, &#39;Tools&#39;,\n",
       "       &#39;Plumbing &amp; Water Service&#39;, &#39;Power Sports&#39;, &#39;Tobacco Products&#39;,\n",
       "       &#39;Arts &amp; Crafts&#39;, &#39;Sports &amp; Outdoor Recreation Equipment&#39;,\n",
       "       &#39;Building Supplies&#39;, &#39;Paints &amp; Coatings&#39;, &#39;Electrical&#39;,\n",
       "       &#39;Books &amp; Videos&#39;, &#39;Furniture&#39;, &#39;Marine&#39;, &#39;Material Handling&#39;],\n",
       "      dtype=object)</div>"
      ]
     },
     "metadata": {
      "application/vnd.databricks.v1+output": {
       "addedWidgets": {},
       "arguments": {},
       "data": "<div class=\"ansiout\">Out[71]: array([&#39;Beer / Wine / Spirits&#39;, &#39;Food / Beverages&#39;, &#39;Health &amp; Beauty&#39;,\n       &#39;Gardening &amp; Outdoors&#39;, &#39;Cleaning &amp; Janitorial&#39;,\n       &#39;Livestock &amp; Pet Supplies&#39;, &#39;Kitchen &amp; Bathroom&#39;, &#39;Electronics&#39;,\n       &#39;Heating / Ventilation / Air Conditioning&#39;, &#39;Childcare&#39;,\n       &#39;Home &amp; Venue Decoration&#39;, &#39;Toys / Games / Hobbies&#39;,\n       &#39;Office Supplies&#39;, &#39;Appliances&#39;, &#39;Apparel&#39;, &#39;Lighting &amp; Fans&#39;,\n       &#39;Hospitality Supplies&#39;, &#39;Hardware&#39;, &#39;Automotive&#39;, &#39;Tools&#39;,\n       &#39;Plumbing &amp; Water Service&#39;, &#39;Power Sports&#39;, &#39;Tobacco Products&#39;,\n       &#39;Arts &amp; Crafts&#39;, &#39;Sports &amp; Outdoor Recreation Equipment&#39;,\n       &#39;Building Supplies&#39;, &#39;Paints &amp; Coatings&#39;, &#39;Electrical&#39;,\n       &#39;Books &amp; Videos&#39;, &#39;Furniture&#39;, &#39;Marine&#39;, &#39;Material Handling&#39;],\n      dtype=object)</div>",
       "datasetInfos": [],
       "metadata": {},
       "removedWidgets": [],
       "type": "html"
      }
     },
     "output_type": "display_data"
    }
   ],
   "source": [
    "Level_1_list = syndigo_mapped['Level 1'].unique()\n",
    "Level_1_list"
   ]
  },
  {
   "cell_type": "code",
   "execution_count": 0,
   "metadata": {
    "application/vnd.databricks.v1+cell": {
     "cellMetadata": {
      "byteLimit": 2048000,
      "rowLimit": 10000
     },
     "inputWidgets": {},
     "nuid": "11b30d64-842b-42ad-8960-61acc1030938",
     "showTitle": false,
     "title": ""
    }
   },
   "outputs": [
    {
     "data": {
      "text/html": [
       "<style scoped>\n",
       "  .ansiout {\n",
       "    display: block;\n",
       "    unicode-bidi: embed;\n",
       "    white-space: pre-wrap;\n",
       "    word-wrap: break-word;\n",
       "    word-break: break-all;\n",
       "    font-family: \"Source Code Pro\", \"Menlo\", monospace;;\n",
       "    font-size: 13px;\n",
       "    color: #555;\n",
       "    margin-left: 4px;\n",
       "    line-height: 19px;\n",
       "  }\n",
       "</style>\n",
       "<div class=\"ansiout\">Out[72]: Food / Beverages                            50792\n",
       "Health &amp; Beauty                             19910\n",
       "Beer / Wine / Spirits                       11142\n",
       "Cleaning &amp; Janitorial                        2855\n",
       "Livestock &amp; Pet Supplies                     2251\n",
       "Kitchen &amp; Bathroom                           1314\n",
       "Home &amp; Venue Decoration                       759\n",
       "Gardening &amp; Outdoors                          632\n",
       "Toys / Games / Hobbies                        607\n",
       "Childcare                                     503\n",
       "Office Supplies                               501\n",
       "Electronics                                   390\n",
       "Tobacco Products                              390\n",
       "Automotive                                    333\n",
       "Hardware                                      298\n",
       "Arts &amp; Crafts                                 208\n",
       "Appliances                                    169\n",
       "Apparel                                       165\n",
       "Sports &amp; Outdoor Recreation Equipment         142\n",
       "Lighting &amp; Fans                               121\n",
       "Hospitality Supplies                           93\n",
       "Heating / Ventilation / Air Conditioning       87\n",
       "Plumbing &amp; Water Service                       72\n",
       "Tools                                          61\n",
       "Electrical                                     36\n",
       "Paints &amp; Coatings                              27\n",
       "Power Sports                                   16\n",
       "Books &amp; Videos                                  9\n",
       "Furniture                                       6\n",
       "Building Supplies                               4\n",
       "Material Handling                               4\n",
       "Marine                                          3\n",
       "Name: Level 1, dtype: int64</div>"
      ]
     },
     "metadata": {
      "application/vnd.databricks.v1+output": {
       "addedWidgets": {},
       "arguments": {},
       "data": "<div class=\"ansiout\">Out[72]: Food / Beverages                            50792\nHealth &amp; Beauty                             19910\nBeer / Wine / Spirits                       11142\nCleaning &amp; Janitorial                        2855\nLivestock &amp; Pet Supplies                     2251\nKitchen &amp; Bathroom                           1314\nHome &amp; Venue Decoration                       759\nGardening &amp; Outdoors                          632\nToys / Games / Hobbies                        607\nChildcare                                     503\nOffice Supplies                               501\nElectronics                                   390\nTobacco Products                              390\nAutomotive                                    333\nHardware                                      298\nArts &amp; Crafts                                 208\nAppliances                                    169\nApparel                                       165\nSports &amp; Outdoor Recreation Equipment         142\nLighting &amp; Fans                               121\nHospitality Supplies                           93\nHeating / Ventilation / Air Conditioning       87\nPlumbing &amp; Water Service                       72\nTools                                          61\nElectrical                                     36\nPaints &amp; Coatings                              27\nPower Sports                                   16\nBooks &amp; Videos                                  9\nFurniture                                       6\nBuilding Supplies                               4\nMaterial Handling                               4\nMarine                                          3\nName: Level 1, dtype: int64</div>",
       "datasetInfos": [],
       "metadata": {},
       "removedWidgets": [],
       "type": "html"
      }
     },
     "output_type": "display_data"
    }
   ],
   "source": [
    "syndigo_mapped['Level 1'].value_counts()"
   ]
  },
  {
   "cell_type": "code",
   "execution_count": 0,
   "metadata": {
    "application/vnd.databricks.v1+cell": {
     "cellMetadata": {
      "byteLimit": 2048000,
      "rowLimit": 10000
     },
     "inputWidgets": {},
     "nuid": "bc3c2d02-7681-4144-8e03-15c2b6af9d26",
     "showTitle": false,
     "title": ""
    }
   },
   "outputs": [
    {
     "data": {
      "text/html": [
       "<style scoped>\n",
       "  .ansiout {\n",
       "    display: block;\n",
       "    unicode-bidi: embed;\n",
       "    white-space: pre-wrap;\n",
       "    word-wrap: break-word;\n",
       "    word-break: break-all;\n",
       "    font-family: \"Source Code Pro\", \"Menlo\", monospace;;\n",
       "    font-size: 13px;\n",
       "    color: #555;\n",
       "    margin-left: 4px;\n",
       "    line-height: 19px;\n",
       "  }\n",
       "</style>\n",
       "<div class=\"ansiout\">Out[74]: Footwear                74\n",
       "Personal Accessories    62\n",
       "Clothing                19\n",
       "Safety Apparel          10\n",
       "Name: Level 2, dtype: int64</div>"
      ]
     },
     "metadata": {
      "application/vnd.databricks.v1+output": {
       "addedWidgets": {},
       "arguments": {},
       "data": "<div class=\"ansiout\">Out[74]: Footwear                74\nPersonal Accessories    62\nClothing                19\nSafety Apparel          10\nName: Level 2, dtype: int64</div>",
       "datasetInfos": [],
       "metadata": {},
       "removedWidgets": [],
       "type": "html"
      }
     },
     "output_type": "display_data"
    }
   ],
   "source": [
    "syndigo_mapped[syndigo_mapped['Level 1']== 'Apparel']['Level 2'].value_counts()#.index"
   ]
  },
  {
   "cell_type": "code",
   "execution_count": 0,
   "metadata": {
    "application/vnd.databricks.v1+cell": {
     "cellMetadata": {
      "byteLimit": 2048000,
      "rowLimit": 10000
     },
     "inputWidgets": {},
     "nuid": "0088be41-3f6a-4555-90e1-dba0df8b1ef7",
     "showTitle": false,
     "title": ""
    }
   },
   "outputs": [
    {
     "data": {
      "text/html": [
       "<style scoped>\n",
       "  .ansiout {\n",
       "    display: block;\n",
       "    unicode-bidi: embed;\n",
       "    white-space: pre-wrap;\n",
       "    word-wrap: break-word;\n",
       "    word-break: break-all;\n",
       "    font-family: \"Source Code Pro\", \"Menlo\", monospace;;\n",
       "    font-size: 13px;\n",
       "    color: #555;\n",
       "    margin-left: 4px;\n",
       "    line-height: 19px;\n",
       "  }\n",
       "</style>\n",
       "<div class=\"ansiout\"></div>"
      ]
     },
     "metadata": {
      "application/vnd.databricks.v1+output": {
       "addedWidgets": {},
       "arguments": {},
       "data": "<div class=\"ansiout\"></div>",
       "datasetInfos": [],
       "metadata": {},
       "removedWidgets": [],
       "type": "html"
      }
     },
     "output_type": "display_data"
    }
   ],
   "source": [
    "# Excluding Level 2 with single data point\n",
    "syndigo_mapped = syndigo_mapped[~syndigo_mapped['Level 2'].isin(['Moisture / Mildew / Mold Removers',\n",
    "       'Sweepers', 'Adhesive Removers', 'Absorbents','Cabinets','Floral & Foliage - Artifical','Remote & Radio Control','Presentation Equipment','Office Machinery','Smartwatches','Security Systems & Components','Emergency Alert Radios','Chassis Interior & Exterior','Tarpaulins / Drop Cloths / Plastic Sheeting','Mobile Home','Retail Merchandisers / Displays','Drafting / Technical Drawing','Craft Sticks','Jewelry Making','Microwaves','Ranges'])]"
   ]
  },
  {
   "cell_type": "code",
   "execution_count": 0,
   "metadata": {
    "application/vnd.databricks.v1+cell": {
     "cellMetadata": {
      "byteLimit": 2048000,
      "rowLimit": 10000
     },
     "inputWidgets": {},
     "nuid": "02ae6bde-2aa0-41ad-b2cf-58bfed83fa86",
     "showTitle": false,
     "title": ""
    }
   },
   "outputs": [
    {
     "data": {
      "text/html": [
       "<style scoped>\n",
       "  .ansiout {\n",
       "    display: block;\n",
       "    unicode-bidi: embed;\n",
       "    white-space: pre-wrap;\n",
       "    word-wrap: break-word;\n",
       "    word-break: break-all;\n",
       "    font-family: \"Source Code Pro\", \"Menlo\", monospace;;\n",
       "    font-size: 13px;\n",
       "    color: #555;\n",
       "    margin-left: 4px;\n",
       "    line-height: 19px;\n",
       "  }\n",
       "</style>\n",
       "<div class=\"ansiout\"></div>"
      ]
     },
     "metadata": {
      "application/vnd.databricks.v1+output": {
       "addedWidgets": {},
       "arguments": {},
       "data": "<div class=\"ansiout\"></div>",
       "datasetInfos": [],
       "metadata": {},
       "removedWidgets": [],
       "type": "html"
      }
     },
     "output_type": "display_data"
    }
   ],
   "source": [
    "\n",
    "level_1 =  'Beer / Wine / Spirits' \n",
    "subset_df = syndigo_mapped[syndigo_mapped['Level 1'] == level_1]\n",
    "vect_subset = TfidfVectorizer(ngram_range = (1,2), max_features = 10000)\n",
    "X_subset = vect_subset.fit_transform(subset_df.ITEM_SUBCOM_text)\n",
    "level2_id_map = dict(zip(subset_df['Level 2'].fillna('Other').unique(), range(subset_df['Level 2'].fillna('Other').nunique())))\n",
    "id2_level_map = dict(zip(range(subset_df['Level 2'].fillna('Other').nunique()), subset_df['Level 2'].fillna('Other').unique()))\n",
    "y_subset  = subset_df['Level 2'].fillna('Other').map(level2_id_map)\n",
    "X_train, X_test, y_train, y_test = train_test_split(X_subset, y_subset, test_size= 0.2, stratify= y_subset)\n",
    "# create model instance\n",
    "lr_tf = LogisticRegression(C = 100, multi_class = 'multinomial', solver = 'saga')\n",
    "#lr_tf = LogisticRegressionCV(cv = 10, multi_class = 'multinomial', solver = 'saga')\n",
    "# fit model\n",
    "lr_tf.fit(X_train, y_train)\n",
    "# make predictions\n",
    "preds = lr_tf.predict(X_test)\n",
    "preds_lrtf = preds"
   ]
  },
  {
   "cell_type": "code",
   "execution_count": 0,
   "metadata": {
    "application/vnd.databricks.v1+cell": {
     "cellMetadata": {
      "byteLimit": 2048000,
      "rowLimit": 10000
     },
     "inputWidgets": {},
     "nuid": "b76c381e-d220-42cf-a659-ac71dd7bde58",
     "showTitle": false,
     "title": ""
    }
   },
   "outputs": [
    {
     "data": {
      "text/html": [
       "<style scoped>\n",
       "  .ansiout {\n",
       "    display: block;\n",
       "    unicode-bidi: embed;\n",
       "    white-space: pre-wrap;\n",
       "    word-wrap: break-word;\n",
       "    word-break: break-all;\n",
       "    font-family: \"Source Code Pro\", \"Menlo\", monospace;;\n",
       "    font-size: 13px;\n",
       "    color: #555;\n",
       "    margin-left: 4px;\n",
       "    line-height: 19px;\n",
       "  }\n",
       "</style>\n",
       "<div class=\"ansiout\">                                precision    recall  f1-score   support\n",
       "\n",
       "                          Wine       0.99      0.99      0.99       890\n",
       "                          Beer       0.95      0.93      0.94       681\n",
       "                       Spirits       0.97      0.97      0.97       501\n",
       "  Flavored Alcoholic Beverages       0.61      0.67      0.64       117\n",
       "               Ciders &amp; Perrys       0.54      0.65      0.59        23\n",
       "Alcoholic Beverage Mixed Packs       0.50      0.12      0.20         8\n",
       "           Non-Alcoholic Beers       0.33      0.29      0.31         7\n",
       "   Alcoholic Cordials &amp; Syrups       0.00      0.00      0.00         1\n",
       "       Alcohol Making Supplies       0.00      0.00      0.00         1\n",
       "\n",
       "                      accuracy                           0.94      2229\n",
       "                     macro avg       0.54      0.51      0.51      2229\n",
       "                  weighted avg       0.94      0.94      0.94      2229\n",
       "\n",
       "</div>"
      ]
     },
     "metadata": {
      "application/vnd.databricks.v1+output": {
       "addedWidgets": {},
       "arguments": {},
       "data": "<div class=\"ansiout\">                                precision    recall  f1-score   support\n\n                          Wine       0.99      0.99      0.99       890\n                          Beer       0.95      0.93      0.94       681\n                       Spirits       0.97      0.97      0.97       501\n  Flavored Alcoholic Beverages       0.61      0.67      0.64       117\n               Ciders &amp; Perrys       0.54      0.65      0.59        23\nAlcoholic Beverage Mixed Packs       0.50      0.12      0.20         8\n           Non-Alcoholic Beers       0.33      0.29      0.31         7\n   Alcoholic Cordials &amp; Syrups       0.00      0.00      0.00         1\n       Alcohol Making Supplies       0.00      0.00      0.00         1\n\n                      accuracy                           0.94      2229\n                     macro avg       0.54      0.51      0.51      2229\n                  weighted avg       0.94      0.94      0.94      2229\n\n</div>",
       "datasetInfos": [],
       "metadata": {},
       "removedWidgets": [],
       "type": "html"
      }
     },
     "output_type": "display_data"
    }
   ],
   "source": [
    "print(classification_report( y_test, preds_lrtf,labels = lr_tf.classes_, target_names = [id2_level_map[i] for i in lr_tf.classes_]))"
   ]
  },
  {
   "cell_type": "code",
   "execution_count": 0,
   "metadata": {
    "application/vnd.databricks.v1+cell": {
     "cellMetadata": {
      "byteLimit": 2048000,
      "rowLimit": 10000
     },
     "inputWidgets": {},
     "nuid": "f05dc937-626f-40eb-b01b-3375b5e5bfb8",
     "showTitle": false,
     "title": ""
    }
   },
   "outputs": [
    {
     "data": {
      "text/html": [
       "<style scoped>\n",
       "  .ansiout {\n",
       "    display: block;\n",
       "    unicode-bidi: embed;\n",
       "    white-space: pre-wrap;\n",
       "    word-wrap: break-word;\n",
       "    word-break: break-all;\n",
       "    font-family: \"Source Code Pro\", \"Menlo\", monospace;;\n",
       "    font-size: 13px;\n",
       "    color: #555;\n",
       "    margin-left: 4px;\n",
       "    line-height: 19px;\n",
       "  }\n",
       "</style>\n",
       "<div class=\"ansiout\">                              precision    recall  f1-score   support\n",
       "\n",
       "               Drawing Tools       1.00      1.00      1.00        96\n",
       "                    Stickers       1.00      1.00      1.00        10\n",
       "          Painting &amp; Drawing       1.00      1.00      1.00        23\n",
       "Paper / Canvas / Wood Boards       1.00      1.00      1.00        17\n",
       "     Needlework &amp; Toy Making       1.00      1.00      1.00         5\n",
       "         Pottery &amp; Sculpting       1.00      1.00      1.00         7\n",
       "         Paper &amp; Card Making       1.00      1.00      1.00         3\n",
       "\n",
       "                    accuracy                           1.00       161\n",
       "                   macro avg       1.00      1.00      1.00       161\n",
       "                weighted avg       1.00      1.00      1.00       161\n",
       "\n",
       "</div>"
      ]
     },
     "metadata": {
      "application/vnd.databricks.v1+output": {
       "addedWidgets": {},
       "arguments": {},
       "data": "<div class=\"ansiout\">                              precision    recall  f1-score   support\n\n               Drawing Tools       1.00      1.00      1.00        96\n                    Stickers       1.00      1.00      1.00        10\n          Painting &amp; Drawing       1.00      1.00      1.00        23\nPaper / Canvas / Wood Boards       1.00      1.00      1.00        17\n     Needlework &amp; Toy Making       1.00      1.00      1.00         5\n         Pottery &amp; Sculpting       1.00      1.00      1.00         7\n         Paper &amp; Card Making       1.00      1.00      1.00         3\n\n                    accuracy                           1.00       161\n                   macro avg       1.00      1.00      1.00       161\n                weighted avg       1.00      1.00      1.00       161\n\n</div>",
       "datasetInfos": [],
       "metadata": {},
       "removedWidgets": [],
       "type": "html"
      }
     },
     "output_type": "display_data"
    }
   ],
   "source": [
    "print(classification_report( y_train, lr_tf.predict(X_train), target_names = level2_id_map.keys()))"
   ]
  },
  {
   "cell_type": "code",
   "execution_count": 0,
   "metadata": {
    "application/vnd.databricks.v1+cell": {
     "cellMetadata": {},
     "inputWidgets": {},
     "nuid": "d5c534f5-faaa-44f1-be81-3e173f2539f9",
     "showTitle": false,
     "title": ""
    }
   },
   "outputs": [],
   "source": []
  }
 ],
 "metadata": {
  "application/vnd.databricks.v1+notebook": {
   "dashboards": [],
   "language": "python",
   "notebookMetadata": {
    "pythonIndentUnit": 4
   },
   "notebookName": "Syndigo_Mapping_ML_060723",
   "widgets": {}
  },
  "kernelspec": {
   "display_name": "Python 3 (ipykernel)",
   "language": "python",
   "name": "python3"
  },
  "language_info": {
   "codemirror_mode": {
    "name": "ipython",
    "version": 3
   },
   "file_extension": ".py",
   "mimetype": "text/x-python",
   "name": "python",
   "nbconvert_exporter": "python",
   "pygments_lexer": "ipython3",
   "version": "3.10.9"
  }
 },
 "nbformat": 4,
 "nbformat_minor": 1
}
