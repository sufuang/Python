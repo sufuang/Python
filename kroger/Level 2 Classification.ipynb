{
 "cells": [
  {
   "cell_type": "markdown",
   "metadata": {
    "application/vnd.databricks.v1+cell": {
     "cellMetadata": {
      "byteLimit": 2048000,
      "rowLimit": 10000
     },
     "inputWidgets": {},
     "nuid": "1d7944dc-f1a7-4e99-9be9-9d4361fc72f9",
     "showTitle": false,
     "title": ""
    }
   },
   "source": [
    "## Importing Libraries"
   ]
  },
  {
   "cell_type": "code",
   "execution_count": 0,
   "metadata": {
    "application/vnd.databricks.v1+cell": {
     "cellMetadata": {
      "byteLimit": 2048000,
      "rowLimit": 10000
     },
     "inputWidgets": {},
     "nuid": "9867d5ef-5b79-47ee-bc39-2b186ecd4973",
     "showTitle": false,
     "title": ""
    }
   },
   "outputs": [],
   "source": [
    "import pandas as pd, numpy as np\n",
    "DBFS = \"/dbfs/FileStore/tables/OFFSHORE/\"\n",
    "DBFO = \"/dbfs/FileStore/tables/OFFSHORE/\"\n",
    "DBFM = \"/dbfs/FileStore/tables/MALLIK/\"\n",
    "DBFR = \"/dbfs/FileStore/tables/OFFSHORE_RESULTS/\""
   ]
  },
  {
   "cell_type": "code",
   "execution_count": 0,
   "metadata": {
    "application/vnd.databricks.v1+cell": {
     "cellMetadata": {
      "byteLimit": 2048000,
      "rowLimit": 10000
     },
     "inputWidgets": {},
     "nuid": "8a2ca549-42b7-434c-85d9-333c8ed385f5",
     "showTitle": false,
     "title": ""
    }
   },
   "outputs": [],
   "source": [
    "from sklearn.ensemble import RandomForestClassifier, GradientBoostingClassifier\n",
    "from sklearn.linear_model import LogisticRegression\n",
    "from sklearn.feature_extraction.text import TfidfVectorizer\n",
    "from sklearn.model_selection import train_test_split\n",
    "from sklearn.metrics import ConfusionMatrixDisplay, classification_report, confusion_matrix\n",
    "from sklearn.ensemble import RandomForestClassifier, GradientBoostingClassifier\n",
    "from sklearn.linear_model import LogisticRegression"
   ]
  },
  {
   "cell_type": "code",
   "execution_count": 0,
   "metadata": {
    "application/vnd.databricks.v1+cell": {
     "cellMetadata": {
      "byteLimit": 2048000,
      "rowLimit": 10000
     },
     "inputWidgets": {},
     "nuid": "30d9bea3-535f-439a-b7ec-78e6756db9b7",
     "showTitle": false,
     "title": ""
    }
   },
   "outputs": [],
   "source": [
    "L1_preds_w_PIM = pd.read_csv(DBFR + 'L1_Preds_1_1Mn_data.csv')\n",
    "# L1_preds_w_PIM = pd.read_csv(DBFR + 'L1_Predictionz__Synd_Part_12345.csv')\n",
    "\n",
    "synd_all = pd.read_csv(DBFR + \"Syndigo_Final_ALL.csv\")\n",
    "pim_gtin_mapped = pd.read_csv(DBFR + \"PIM_Data_New_50_82Mn.csv\", dtype=object) "
   ]
  },
  {
   "cell_type": "code",
   "execution_count": 0,
   "metadata": {
    "application/vnd.databricks.v1+cell": {
     "cellMetadata": {
      "byteLimit": 2048000,
      "rowLimit": 10000
     },
     "inputWidgets": {},
     "nuid": "c02ddf0c-835c-4e8a-95ef-fec182634541",
     "showTitle": false,
     "title": ""
    }
   },
   "outputs": [
    {
     "name": "stdout",
     "output_type": "stream",
     "text": [
      "(5082212, 23)\n",
      "Index(['ITM_ID', 'GTIN', 'PMY_DPT_CD', 'PMY_DPT_DSC', 'REC_DPT_CD',\n",
      "       'REC_DPT_DSC', 'DPT_CD', 'DPT_DSC', 'COM_CD', 'COM_DSC', 'SUBCOM_CD',\n",
      "       'SUBCOM_DSC', 'VND_ECOM_DSC', 'Level 1', 'Level 2', 'Level 3',\n",
      "       'Level 4', 'Level 5', 'Level 6', 'Level 7', 'Level 8', 'Level 9',\n",
      "       'Level 10'],\n",
      "      dtype='object')\n"
     ]
    }
   ],
   "source": [
    "if 'GTIN_NO' in pim_gtin_mapped.columns.tolist():\n",
    "    pim_gtin_mapped.rename(columns={'GTIN_NO':'GTIN'}, inplace=True)\n",
    "if 'Unnamed: 0.1' in pim_gtin_mapped.columns.tolist():\n",
    "    pim_gtin_mapped.drop(columns=['Unnamed: 0', 'Unnamed: 0.1'], inplace=True)\n",
    "\n",
    "for i in ['SUBCOM_CD', 'DPT_CD', 'COM_CD','PMY_DPT_CD', 'REC_DPT_CD']:\n",
    "    pim_gtin_mapped[i] = pim_gtin_mapped[i].astype(np.float64)\n",
    "\n",
    "pim_gtin_mapped['ITM_ID'] = pim_gtin_mapped['ITM_ID'].astype(np.float64)\n",
    "pim_gtin_mapped['GTIN'] = pim_gtin_mapped['GTIN'].astype(np.float64)\n",
    "for i in ['SUBCOM_CD', 'DPT_CD', 'COM_CD']:\n",
    "    pim_gtin_mapped[str(i)] = pim_gtin_mapped[str(i)].astype(np.float64)\n",
    "    # pim_gtin_mapped[str(i)] = pim_gtin_mapped[str(i)].fillna(0)\n",
    "    # pim_gtin_mapped[str(i)] = pim_gtin_mapped[str(i)].astype(np.int64)\n",
    "print(pim_gtin_mapped.shape)\n",
    "print(pim_gtin_mapped.columns)"
   ]
  },
  {
   "cell_type": "code",
   "execution_count": 0,
   "metadata": {
    "application/vnd.databricks.v1+cell": {
     "cellMetadata": {
      "byteLimit": 2048000,
      "rowLimit": 10000
     },
     "inputWidgets": {},
     "nuid": "8099028c-508c-4ef0-93c6-55a7de6a14f9",
     "showTitle": false,
     "title": ""
    }
   },
   "outputs": [],
   "source": [
    "import pandas as pd\n",
    "L2_Preds = pd.read_csv(DBFR + 'L1_L2_FINAL_synd.csv')\n",
    "for i in ['SUBCOM_CD', 'DPT_CD', 'COM_CD', 'GTIN', 'ITM_ID', 'L1 Scores', 'L2 Scores', 'PMY_DPT_CD']:\n",
    "    L2_Preds[i] = L2_Preds[i].astype(np.float64)\n",
    "L2_Preds.columns\n",
    "\n",
    "if 'Unnamed: 0' in pim_gtin_mapped.columns.tolist():\n",
    "    pim_gtin_mapped.drop(columns=['Unnamed: 0'], inplace=True)"
   ]
  },
  {
   "cell_type": "markdown",
   "metadata": {
    "application/vnd.databricks.v1+cell": {
     "cellMetadata": {},
     "inputWidgets": {},
     "nuid": "a4d7ce3f-47a5-4577-b716-42bcb99acda9",
     "showTitle": false,
     "title": ""
    }
   },
   "source": [
    "## Level 2 Classifier"
   ]
  },
  {
   "cell_type": "code",
   "execution_count": 0,
   "metadata": {
    "application/vnd.databricks.v1+cell": {
     "cellMetadata": {
      "byteLimit": 2048000,
      "rowLimit": 10000
     },
     "inputWidgets": {},
     "nuid": "fd530c32-1b7d-4260-9445-c14fb85d2725",
     "showTitle": false,
     "title": ""
    }
   },
   "outputs": [],
   "source": [
    "L1_preds_w_PIM.sort_values(by=['DPT_CD', 'VND_ECOM_DSC', 'First Scores'], ascending=[True, True, False], inplace=True)\n",
    "L1_preds_w_PIM.drop_duplicates(subset=['DPT_CD', 'VND_ECOM_DSC'], inplace=True)"
   ]
  },
  {
   "cell_type": "code",
   "execution_count": 0,
   "metadata": {
    "application/vnd.databricks.v1+cell": {
     "cellMetadata": {
      "byteLimit": 2048000,
      "rowLimit": 10000
     },
     "inputWidgets": {},
     "nuid": "f33ab67a-f92c-4fdf-9c61-d2a787c0669d",
     "showTitle": false,
     "title": ""
    }
   },
   "outputs": [],
   "source": [
    "L1_preds_w_PIM.rename(columns={'First L1 Predictions':'L1 Predictions', 'First Scores':'Scores'}, inplace=True)\n",
    "L1_preds_w_PIM.drop(columns=['Second L1 Predictions', 'Second Scores', 'Third L1 Predictions','Third Scores'], inplace=True)"
   ]
  },
  {
   "cell_type": "code",
   "execution_count": 0,
   "metadata": {
    "application/vnd.databricks.v1+cell": {
     "cellMetadata": {
      "byteLimit": 2048000,
      "rowLimit": 10000
     },
     "inputWidgets": {},
     "nuid": "fff1911a-e656-432c-8982-583b644b88c9",
     "showTitle": false,
     "title": ""
    }
   },
   "outputs": [],
   "source": [
    "l2_raw_data = pd.concat([L1_preds_w_PIM, synd_all], ignore_index=True)\n",
    "l2_raw_data['ITEM_SUBCOM_text'] = (l2_raw_data.VND_ECOM_DSC + ' ' + l2_raw_data.DPT_DSC).fillna('').str.lower()"
   ]
  },
  {
   "cell_type": "code",
   "execution_count": 0,
   "metadata": {
    "application/vnd.databricks.v1+cell": {
     "cellMetadata": {
      "byteLimit": 2048000,
      "rowLimit": 10000
     },
     "inputWidgets": {},
     "nuid": "3cfde89a-b270-4395-80c9-eff32e16895c",
     "showTitle": false,
     "title": ""
    }
   },
   "outputs": [
    {
     "name": "stdout",
     "output_type": "stream",
     "text": [
      "801214\n"
     ]
    }
   ],
   "source": [
    "print(len(L1_preds_w_PIM)+len(synd_all)) # 3046898"
   ]
  },
  {
   "cell_type": "code",
   "execution_count": 0,
   "metadata": {
    "application/vnd.databricks.v1+cell": {
     "cellMetadata": {
      "byteLimit": 2048000,
      "rowLimit": 10000
     },
     "inputWidgets": {},
     "nuid": "4323f6fc-8f56-48a7-9d52-a6937e619a96",
     "showTitle": false,
     "title": ""
    }
   },
   "outputs": [
    {
     "data": {
      "text/html": [
       "<style scoped>\n",
       "  .ansiout {\n",
       "    display: block;\n",
       "    unicode-bidi: embed;\n",
       "    white-space: pre-wrap;\n",
       "    word-wrap: break-word;\n",
       "    word-break: break-all;\n",
       "    font-family: \"Source Code Pro\", \"Menlo\", monospace;;\n",
       "    font-size: 13px;\n",
       "    color: #555;\n",
       "    margin-left: 4px;\n",
       "    line-height: 19px;\n",
       "  }\n",
       "</style>"
      ]
     },
     "metadata": {
      "application/vnd.databricks.v1+output": {
       "arguments": {},
       "data": "",
       "errorSummary": "Cancelled",
       "errorTraceType": "html",
       "metadata": {},
       "type": "ipynbError"
      }
     },
     "output_type": "display_data"
    }
   ],
   "source": [
    "l2_raw_data[l2_raw_data['PMY_DPT_CD'].notnull()] # 3044615\n",
    "len(l2_raw_data[l2_raw_data['PMY_DPT_CD'].isna()]) # 2283\n",
    "# 3046898"
   ]
  },
  {
   "cell_type": "code",
   "execution_count": 0,
   "metadata": {
    "application/vnd.databricks.v1+cell": {
     "cellMetadata": {
      "byteLimit": 2048000,
      "rowLimit": 10000
     },
     "inputWidgets": {},
     "nuid": "5a821d5a-e18e-4c0a-9f44-bd4a48153ba0",
     "showTitle": false,
     "title": ""
    }
   },
   "outputs": [],
   "source": [
    "l2_raw_data['Level 1'].replace('', np.nan, inplace=True)\n",
    "l2_raw_data['Level 2'].replace('', np.nan, inplace=True)\n",
    "l2_raw_data['Level 3'].replace('', np.nan, inplace=True)\n",
    "l2_raw_data['Level 4'].replace('', np.nan, inplace=True)\n",
    "l2_raw_data['Level 5'].replace('', np.nan, inplace=True)\n",
    "l2_raw_data['Level 6'].replace('', np.nan, inplace=True)\n",
    "l2_raw_data['Level 7'].replace('', np.nan, inplace=True)\n",
    "l2_raw_data['Level 8'].replace('', np.nan, inplace=True)\n",
    "l2_raw_data['Level 9'].replace('', np.nan, inplace=True)\n",
    "l2_raw_data['Level 10'].replace('', np.nan, inplace=True)"
   ]
  },
  {
   "cell_type": "markdown",
   "metadata": {
    "application/vnd.databricks.v1+cell": {
     "cellMetadata": {
      "byteLimit": 2048000,
      "rowLimit": 10000
     },
     "inputWidgets": {},
     "nuid": "48828e4c-cf66-4dfc-ae77-6c5b1c7c71cd",
     "showTitle": false,
     "title": ""
    }
   },
   "source": [
    "## CHECKPOINT"
   ]
  },
  {
   "cell_type": "code",
   "execution_count": 0,
   "metadata": {
    "application/vnd.databricks.v1+cell": {
     "cellMetadata": {
      "byteLimit": 2048000,
      "rowLimit": 10000
     },
     "inputWidgets": {},
     "nuid": "118bdcac-53d2-4762-8b11-cc9a7f3a8dc6",
     "showTitle": false,
     "title": ""
    }
   },
   "outputs": [
    {
     "name": "stdout",
     "output_type": "stream",
     "text": [
      "level_1 = \"Food / Beverages\"\n",
      "level_1 = \"Health & Beauty\"\n",
      "level_1 = \"Furniture\"\n",
      "level_1 = \"Gardening & Outdoors\"\n",
      "level_1 = \"Beer / Wine / Spirits\"\n",
      "level_1 = \"Home & Venue Decoration\"\n",
      "level_1 = \"Arts & Crafts\"\n",
      "level_1 = \"Office Supplies\"\n",
      "level_1 = \"Apparel\"\n",
      "level_1 = \"Books & Videos\"\n",
      "level_1 = \"Livestock & Pet Supplies\"\n",
      "level_1 = \"Heating / Ventilation / Air Conditioning\"\n",
      "level_1 = \"Toys / Games / Hobbies\"\n",
      "level_1 = \"Appliances\"\n",
      "level_1 = \"Electronics\"\n",
      "level_1 = \"Kitchen & Bathroom\"\n",
      "level_1 = \"Cleaning & Janitorial\"\n",
      "level_1 = \"Lighting & Fans\"\n",
      "level_1 = \"Hardware\"\n",
      "level_1 = \"Automotive\"\n",
      "level_1 = \"Childcare\"\n",
      "level_1 = \"Hospitality Supplies\"\n",
      "level_1 = \"Sports & Outdoor Recreation Equipment\"\n",
      "level_1 = \"Tools\"\n",
      "level_1 = \"Tobacco Products\"\n",
      "level_1 = \"Electrical\"\n",
      "level_1 = \"Plumbing & Water Service\"\n",
      "level_1 = \"Marine\"\n",
      "level_1 = \"Power Sports\"\n",
      "level_1 = \"Building Supplies\"\n",
      "level_1 = \"Flooring\"\n",
      "level_1 = \"Paints & Coatings\"\n",
      "level_1 = \"Material Handling\"\n"
     ]
    }
   ],
   "source": [
    "for i in l2_raw_data[l2_raw_data['L1 Predictions'].notnull()]['L1 Predictions'].unique().tolist():\n",
    "    print(f\"level_1 = \\\"{i}\\\"\")\n",
    "    # print(i.replace('/', '_').replace('-', '_').replace(' ', '') + '_L2_Synd_ALL.csv' + ',')"
   ]
  },
  {
   "cell_type": "code",
   "execution_count": 0,
   "metadata": {
    "application/vnd.databricks.v1+cell": {
     "cellMetadata": {
      "byteLimit": 2048000,
      "rowLimit": 10000
     },
     "inputWidgets": {},
     "nuid": "ef486edb-beab-4a35-949b-effc5cedad56",
     "showTitle": true,
     "title": "CHECKPOINT"
    }
   },
   "outputs": [
    {
     "data": {
      "text/html": [
       "<style scoped>\n",
       "  .ansiout {\n",
       "    display: block;\n",
       "    unicode-bidi: embed;\n",
       "    white-space: pre-wrap;\n",
       "    word-wrap: break-word;\n",
       "    word-break: break-all;\n",
       "    font-family: \"Source Code Pro\", \"Menlo\", monospace;;\n",
       "    font-size: 13px;\n",
       "    color: #555;\n",
       "    margin-left: 4px;\n",
       "    line-height: 19px;\n",
       "  }\n",
       "</style>"
      ]
     },
     "metadata": {
      "application/vnd.databricks.v1+output": {
       "arguments": {},
       "data": "",
       "errorSummary": "Cancelled",
       "errorTraceType": "html",
       "metadata": {},
       "type": "ipynbError"
      }
     },
     "output_type": "display_data"
    }
   ],
   "source": [
    "print(\"\\\"RUN ALL BELOW\\\"\")"
   ]
  },
  {
   "cell_type": "code",
   "execution_count": 0,
   "metadata": {
    "application/vnd.databricks.v1+cell": {
     "cellMetadata": {
      "byteLimit": 2048000,
      "rowLimit": 10000
     },
     "inputWidgets": {},
     "nuid": "92afa3f4-a1db-4670-912f-e42d48e2ee19",
     "showTitle": false,
     "title": ""
    }
   },
   "outputs": [],
   "source": [
    "# level_1 = \"Livestock & Pet Supplies\"\n",
    "# level_1 = \"Food / Beverages\"\n",
    "# level_1 = \"Health & Beauty\"\n",
    "# level_1 = \"Furniture\"\n",
    "# level_1 = \"Gardening & Outdoors\"\n",
    "# level_1 = \"Beer / Wine / Spirits\"\n",
    "# level_1 = \"Home & Venue Decoration\"\n",
    "# level_1 = \"Arts & Crafts\"\n",
    "# level_1 = \"Office Supplies\"\n",
    "# level_1 = \"Apparel\"\n",
    "# level_1 = \"Books & Videos\"\n",
    "# level_1 = \"Heating / Ventilation / Air Conditioning\"\n",
    "# level_1 = \"Toys / Games / Hobbies\"\n",
    "# level_1 = \"Appliances\"\n",
    "# level_1 = \"Electronics\"\n",
    "# level_1 = \"Kitchen & Bathroom\"\n",
    "# level_1 = \"Cleaning & Janitorial\"\n",
    "# level_1 = \"Lighting & Fans\"\n",
    "# level_1 = \"Hardware\"\n",
    "# level_1 = \"Automotive\"\n",
    "# level_1 = \"Childcare\"\n",
    "# level_1 = \"Hospitality Supplies\"\n",
    "# level_1 = \"Sports & Outdoor Recreation Equipment\"\n",
    "# level_1 = \"Tools\"\n",
    "# level_1 = \"Tobacco Products\"\n",
    "# level_1 = \"Electrical\"\n",
    "# level_1 = \"Plumbing & Water Service\"\n",
    "# level_1 = \"Marine\" # 3\n",
    "# level_1 = \"Power Sports\"\n",
    "# level_1 = \"Building Supplies\"\n",
    "# level_1 = \"Flooring\"\n",
    "# level_1 = \"Paints & Coatings\"\n",
    "level_1 = \"Material Handling\""
   ]
  },
  {
   "cell_type": "code",
   "execution_count": 0,
   "metadata": {
    "application/vnd.databricks.v1+cell": {
     "cellMetadata": {
      "byteLimit": 2048000,
      "rowLimit": 10000
     },
     "inputWidgets": {},
     "nuid": "34a1c10a-7436-4d79-8287-32b8dbfcc95f",
     "showTitle": false,
     "title": ""
    }
   },
   "outputs": [
    {
     "name": "stdout",
     "output_type": "stream",
     "text": [
      "L1 Filter                   =  10\n",
      "Level 1 NotNull             =  6\n",
      "L1 Filter - Level 1 NotNull =  4\n",
      "Level 1 Predictions         =  4\n"
     ]
    }
   ],
   "source": [
    "l1_filter = pd.concat([l2_raw_data[l2_raw_data['Level 1']==level_1], l2_raw_data[l2_raw_data['L1 Predictions']==level_1]], ignore_index=True)\n",
    "print(\"L1 Filter                   = \",len(l1_filter))\n",
    "# Sorting\n",
    "\n",
    "l1_filter = l1_filter.sort_values(by=['Level 1'])\n",
    "print(\"Level 1 NotNull             = \" ,len(l1_filter[l1_filter['Level 1'].notnull()]))\n",
    "print(\"L1 Filter - Level 1 NotNull = \", len(l1_filter) - len(l1_filter[l1_filter['Level 1'].notnull()]))\n",
    "print(\"Level 1 Predictions         = \", len(l1_filter[l1_filter['L1 Predictions'].notnull()]))"
   ]
  },
  {
   "cell_type": "code",
   "execution_count": 0,
   "metadata": {
    "application/vnd.databricks.v1+cell": {
     "cellMetadata": {
      "byteLimit": 2048000,
      "rowLimit": 10000
     },
     "inputWidgets": {},
     "nuid": "6b53f8c4-c9df-40d0-8787-94bc01810f4c",
     "showTitle": false,
     "title": ""
    }
   },
   "outputs": [
    {
     "name": "stdout",
     "output_type": "stream",
     "text": [
      "10\n",
      "Out[462]: (10, 65)"
     ]
    }
   ],
   "source": [
    "# Creating a copy\n",
    "subset_df = l1_filter\n",
    "print(len(subset_df))\n",
    "\n",
    "vect_subset = TfidfVectorizer(max_features = 8000000)\n",
    "# X_subset = vect_subset.fit_transform((subset_df.VND_ECOM_DSC + ' ' + subset_df.SUBCOM_DSC).fillna('').str.lower())\n",
    "X_subset = vect_subset.transform(subset_df['ITEM_SUBCOM_text'])\n",
    "\n",
    "(X_subset.shape)"
   ]
  },
  {
   "cell_type": "code",
   "execution_count": 0,
   "metadata": {
    "application/vnd.databricks.v1+cell": {
     "cellMetadata": {
      "byteLimit": 2048000,
      "rowLimit": 10000
     },
     "inputWidgets": {},
     "nuid": "a878f903-b4f6-405b-a25d-f92af6ddf5df",
     "showTitle": false,
     "title": ""
    }
   },
   "outputs": [
    {
     "name": "stdout",
     "output_type": "stream",
     "text": [
      "(6, 65)\n",
      "(4, 65)\n"
     ]
    }
   ],
   "source": [
    "l2_only = X_subset[:len(l1_filter[l1_filter['Level 1'].notnull()])][:] #X_train\n",
    "non_l2 = X_subset[len(l1_filter[l1_filter['Level 1'].notnull()]):][:]  #X_test\n",
    "print(l2_only.shape)\n",
    "print(non_l2.shape)"
   ]
  },
  {
   "cell_type": "code",
   "execution_count": 0,
   "metadata": {
    "application/vnd.databricks.v1+cell": {
     "cellMetadata": {
      "byteLimit": 2048000,
      "rowLimit": 10000
     },
     "inputWidgets": {},
     "nuid": "958302aa-3f3d-4346-8e2a-6f9d0f9e4bb8",
     "showTitle": true,
     "title": "MODEL TRAINING"
    }
   },
   "outputs": [
    {
     "name": "stdout",
     "output_type": "stream",
     "text": [
      "\n",
      "4\n",
      "6\n"
     ]
    },
    {
     "name": "stderr",
     "output_type": "stream",
     "text": [
      "/databricks/python/lib/python3.9/site-packages/sklearn/linear_model/_sag.py:352: ConvergenceWarning: The max_iter was reached which means the coef_ did not converge\n",
      "  warnings.warn(\n"
     ]
    }
   ],
   "source": [
    "# Training\n",
    "subset_df = l1_filter[l1_filter['Level 1'].notnull()]\n",
    "level2_id_map = dict(zip(subset_df['Level 2'].fillna('').unique(), range(subset_df['Level 2'].fillna('').nunique())))\n",
    "y_subset  = subset_df['Level 2'].fillna('').map(level2_id_map)\n",
    "lr_tf = LogisticRegression(C = 1.0, multi_class = 'multinomial', solver = 'saga', n_jobs=64)\n",
    "# lr_tf.fit(X_train, y_train)\n",
    "lr_tf.fit(l2_only, y_subset)\n",
    "\n",
    "# Predict\n",
    "# preds = lr_tf.predict(X_test)\n",
    "preds = lr_tf.predict(non_l2)\n",
    "probs = lr_tf.predict_proba(non_l2)\n",
    "print()\n",
    "print(len(preds))\n",
    "print(len(y_subset))"
   ]
  },
  {
   "cell_type": "code",
   "execution_count": 0,
   "metadata": {
    "application/vnd.databricks.v1+cell": {
     "cellMetadata": {
      "byteLimit": 2048000,
      "rowLimit": 10000
     },
     "inputWidgets": {},
     "nuid": "5bb2a582-49d9-47ce-8051-c8e7fe947db4",
     "showTitle": false,
     "title": ""
    }
   },
   "outputs": [
    {
     "name": "stdout",
     "output_type": "stream",
     "text": [
      "4\n",
      "4\n",
      "Out[465]: 4"
     ]
    }
   ],
   "source": [
    "print(len(preds))\n",
    "print(len(probs))\n",
    "len(probs[0])"
   ]
  },
  {
   "cell_type": "code",
   "execution_count": 0,
   "metadata": {
    "application/vnd.databricks.v1+cell": {
     "cellMetadata": {
      "byteLimit": 2048000,
      "rowLimit": 10000
     },
     "inputWidgets": {},
     "nuid": "000f182c-2271-461d-ae1e-0bd1729862d3",
     "showTitle": false,
     "title": ""
    }
   },
   "outputs": [],
   "source": [
    "level_num = []\n",
    "proobs = []\n",
    "number = 3\n",
    "\n",
    "for i in range(len(probs)): # 606554\n",
    "    for j in range(number):\n",
    "        try:\n",
    "            level_num.append(int(np.where(probs[i]==probs[i][np.argsort(probs[i])][::-1][:3][j])[0]))\n",
    "        except TypeError:\n",
    "            level_num.append(int(np.where(probs[i]==probs[i][np.argsort(probs[i])][::-1][:3][2])[0][0]))\n",
    "    proobs.append(probs[i][np.argsort(probs[i])][::-1][:3])\n",
    "\n",
    "soln = []\n",
    "for k in range(len(level_num)):\n",
    "    soln.append([i for i in level2_id_map if level2_id_map[i]==level_num[k]][0])"
   ]
  },
  {
   "cell_type": "code",
   "execution_count": 0,
   "metadata": {
    "application/vnd.databricks.v1+cell": {
     "cellMetadata": {
      "byteLimit": 2048000,
      "rowLimit": 10000
     },
     "inputWidgets": {},
     "nuid": "b2ed8578-82f5-40d2-a34a-24129b4a6bc2",
     "showTitle": false,
     "title": ""
    }
   },
   "outputs": [
    {
     "name": "stdout",
     "output_type": "stream",
     "text": [
      "4\n",
      "12\n",
      "12\n",
      "12\n",
      "Out[467]: array([0.39882048, 0.20789401, 0.19943159])"
     ]
    }
   ],
   "source": [
    "print(len(proobs))\n",
    "print(len(soln))\n",
    "print(len(level_num))\n",
    "print(len(proobs)*3)\n",
    "proobs[0]"
   ]
  },
  {
   "cell_type": "code",
   "execution_count": 0,
   "metadata": {
    "application/vnd.databricks.v1+cell": {
     "cellMetadata": {
      "byteLimit": 2048000,
      "rowLimit": 10000
     },
     "inputWidgets": {},
     "nuid": "d579b1f3-c478-4481-9c09-ad003a7b15ee",
     "showTitle": false,
     "title": ""
    }
   },
   "outputs": [
    {
     "name": "stdout",
     "output_type": "stream",
     "text": [
      "12\n",
      "12\n"
     ]
    }
   ],
   "source": [
    "new_proobs = []\n",
    "for i in range(len(proobs)):\n",
    "    new_proobs.append(proobs[i].tolist())\n",
    "new_proobs = [element for sublist in list(new_proobs) for element in sublist]\n",
    "print(len(soln))\n",
    "print(len(new_proobs))"
   ]
  },
  {
   "cell_type": "code",
   "execution_count": 0,
   "metadata": {
    "application/vnd.databricks.v1+cell": {
     "cellMetadata": {
      "byteLimit": 2048000,
      "rowLimit": 10000
     },
     "inputWidgets": {},
     "nuid": "6e404a20-9f05-4494-bb69-8a4583ce27d4",
     "showTitle": true,
     "title": "To get the KFT data Mapping for the 3 levels of L2"
    }
   },
   "outputs": [
    {
     "name": "stdout",
     "output_type": "stream",
     "text": [
      "12\n"
     ]
    }
   ],
   "source": [
    "l2_preds = l1_filter[l1_filter['L1 Predictions']==level_1]\n",
    "datas = {\n",
    "'PMY_DPT_CD' : [ele for ele in l2_preds.PMY_DPT_CD.tolist() for i in range(number)],\n",
    "'PMY_DPT_DSC': [ele for ele in l2_preds.PMY_DPT_DSC.tolist() for i in range(number)],\n",
    "'REC_DPT_CD' : [ele for ele in l2_preds.REC_DPT_CD.tolist() for i in range(number)],\n",
    "'REC_DPT_DSC' : [ele for ele in l2_preds.REC_DPT_DSC.tolist() for i in range(number)],\n",
    "'DPT_CD' : [ele for ele in l2_preds.DPT_CD.tolist() for i in range(number)], \n",
    "'DPT_DSC' : [ele for ele in l2_preds.DPT_DSC.tolist() for i in range(number)],\n",
    "'COM_CD' : [ele for ele in l2_preds.COM_CD.tolist() for i in range(number)],\n",
    "'COM_DSC' : [ele for ele in l2_preds.COM_DSC.tolist() for i in range(number)],\n",
    "'SUBCOM_CD' : [ele for ele in l2_preds.SUBCOM_CD.tolist() for i in range(number)],\n",
    "'SUBCOM_DSC' : [ele for ele in l2_preds.SUBCOM_DSC.tolist() for i in range(number)],\n",
    "'VND_ECOM_DSC' : [ele for ele in l2_preds.VND_ECOM_DSC.tolist() for i in range(number)],\n",
    "'ITEM_SUBCOM_text' : [ele for ele in l2_preds.ITEM_SUBCOM_text.tolist() for i in range(number)],\n",
    "'L1 Predictions' : [ele for ele in l2_preds['L1 Predictions'].tolist() for i in range(number)],\n",
    "'L1 Scores' : [ele for ele in l2_preds['Scores'].tolist() for i in range(number)],\n",
    "\n",
    "'L2 Predictions' : soln,\n",
    "'L2 Scores' : new_proobs\n",
    "}\n",
    "\n",
    "L2_Preds = pd.DataFrame(datas)\n",
    "\n",
    "print(len(L2_Preds))"
   ]
  }
 ],
 "metadata": {
  "application/vnd.databricks.v1+notebook": {
   "dashboards": [],
   "language": "python",
   "notebookMetadata": {
    "pythonIndentUnit": 4
   },
   "notebookName": "Level 2 Classification",
   "widgets": {}
  },
  "kernelspec": {
   "display_name": "Python 3 (ipykernel)",
   "language": "python",
   "name": "python3"
  },
  "language_info": {
   "codemirror_mode": {
    "name": "ipython",
    "version": 3
   },
   "file_extension": ".py",
   "mimetype": "text/x-python",
   "name": "python",
   "nbconvert_exporter": "python",
   "pygments_lexer": "ipython3",
   "version": "3.10.9"
  }
 },
 "nbformat": 4,
 "nbformat_minor": 1
}
