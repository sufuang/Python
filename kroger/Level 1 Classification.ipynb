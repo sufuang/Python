{
 "cells": [
  {
   "cell_type": "markdown",
   "metadata": {
    "application/vnd.databricks.v1+cell": {
     "cellMetadata": {
      "byteLimit": 2048000,
      "rowLimit": 10000
     },
     "inputWidgets": {},
     "nuid": "6754f415-69e0-4524-a9a0-325f8d96b9ef",
     "showTitle": false,
     "title": ""
    }
   },
   "source": [
    "# Importing"
   ]
  },
  {
   "cell_type": "code",
   "execution_count": 0,
   "metadata": {
    "application/vnd.databricks.v1+cell": {
     "cellMetadata": {
      "byteLimit": 2048000,
      "rowLimit": 10000
     },
     "inputWidgets": {},
     "nuid": "d3c5d765-863f-448c-a7bd-73e0bbb5cfb0",
     "showTitle": false,
     "title": ""
    }
   },
   "outputs": [
    {
     "data": {
      "application/vnd.databricks.v1+bamboolib_hint": "{\"pd.DataFrames\": [], \"version\": \"0.0.1\"}",
      "text/plain": []
     },
     "metadata": {},
     "output_type": "display_data"
    }
   ],
   "source": [
    "import pandas as pd, numpy as np\n",
    "DBFS = \"/dbfs/FileStore/tables/OFFSHORE/\"\n",
    "DBFO = \"/dbfs/FileStore/tables/OFFSHORE/\"\n",
    "DBFM = \"/dbfs/FileStore/tables/MALLIK/\"\n",
    "DBFR = \"/dbfs/FileStore/tables/OFFSHORE_RESULTS/\"\n",
    "pd.options.display.max_columns = None\n",
    "pd.options.display.max_rows = 18"
   ]
  },
  {
   "cell_type": "code",
   "execution_count": 0,
   "metadata": {
    "application/vnd.databricks.v1+cell": {
     "cellMetadata": {
      "byteLimit": 2048000,
      "rowLimit": 10000
     },
     "inputWidgets": {},
     "nuid": "82768497-3582-4803-b132-e4be5b4cf805",
     "showTitle": false,
     "title": ""
    }
   },
   "outputs": [
    {
     "name": "stdout",
     "output_type": "stream",
     "text": [
      "\n"
     ]
    }
   ],
   "source": [
    "pim_gtin_mapped = pd.read_csv(DBFR + \"PIM_Data_New_50_82Mn.csv\", dtype=object)\n",
    "pim_gtin_mapped.shape # (5082212, 23)\n",
    "temp = pd.read_csv(DBFO + 'Left_Out_1_1Mn_Full_data.csv')\n",
    "temp.GTIN.nunique()\n",
    "synd_rest = pd.read_csv(DBFO + 'Left_Out_1_1Mn_Full_data.csv')\n",
    "for i in ['PMY_DPT_CD', 'SUBCOM_CD', 'DPT_CD', 'COM_CD', 'GTIN', 'ITM_ID', 'PMY_DPT_CD', 'REC_DPT_CD']:\n",
    "    synd_rest[i] = synd_rest[i].astype(np.float64)"
   ]
  },
  {
   "cell_type": "code",
   "execution_count": 0,
   "metadata": {
    "application/vnd.databricks.v1+cell": {
     "cellMetadata": {
      "byteLimit": 2048000,
      "rowLimit": 10000
     },
     "inputWidgets": {},
     "nuid": "a281c8ee-8930-4767-bc2e-e8d6b9d7a659",
     "showTitle": false,
     "title": ""
    }
   },
   "outputs": [
    {
     "name": "stdout",
     "output_type": "stream",
     "text": [
      "(5082212, 23)\n",
      "Index(['ITM_ID', 'GTIN', 'PMY_DPT_CD', 'PMY_DPT_DSC', 'REC_DPT_CD',\n",
      "       'REC_DPT_DSC', 'DPT_CD', 'DPT_DSC', 'COM_CD', 'COM_DSC', 'SUBCOM_CD',\n",
      "       'SUBCOM_DSC', 'VND_ECOM_DSC', 'Level 1', 'Level 2', 'Level 3',\n",
      "       'Level 4', 'Level 5', 'Level 6', 'Level 7', 'Level 8', 'Level 9',\n",
      "       'Level 10'],\n",
      "      dtype='object')\n"
     ]
    }
   ],
   "source": [
    "if 'GTIN' not in pim_gtin_mapped.columns.tolist():\n",
    "    pim_gtin_mapped.rename(columns={'GTIN_NO':'GTIN'}, inplace=True)\n",
    "if 'Unnamed: 0.1' in pim_gtin_mapped.columns.tolist():\n",
    "    pim_gtin_mapped.drop(columns=['Unnamed: 0', 'Unnamed: 0.1'], inplace=True)\n",
    "\n",
    "pim_gtin_mapped['ITM_ID'] = pim_gtin_mapped['ITM_ID'].astype(np.float64)\n",
    "pim_gtin_mapped['GTIN'] = pim_gtin_mapped['GTIN'].astype(np.float64)\n",
    "for i in ['SUBCOM_CD', 'DPT_CD', 'COM_CD','PMY_DPT_CD', 'REC_DPT_CD', 'ITM_ID', 'GTIN']:\n",
    "    pim_gtin_mapped[str(i)] = pim_gtin_mapped[str(i)].astype(np.float64)\n",
    "    # pim_gtin_mapped[str(i)] = pim_gtin_mapped[str(i)].fillna(0)\n",
    "    # pim_gtin_mapped[str(i)] = pim_gtin_mapped[str(i)].astype(np.int64)\n",
    "print(pim_gtin_mapped.shape)\n",
    "print(pim_gtin_mapped.columns)"
   ]
  },
  {
   "cell_type": "code",
   "execution_count": 0,
   "metadata": {
    "application/vnd.databricks.v1+cell": {
     "cellMetadata": {
      "byteLimit": 2048000,
      "rowLimit": 10000
     },
     "inputWidgets": {},
     "nuid": "9e6af788-ef3c-49e7-a939-5eb5273e6431",
     "showTitle": false,
     "title": ""
    }
   },
   "outputs": [
    {
     "name": "stdout",
     "output_type": "stream",
     "text": [
      "0\n"
     ]
    }
   ],
   "source": [
    "pim_gtin_mapped = synd_rest\n",
    "SUBCOMs = pim_gtin_mapped[pim_gtin_mapped['Level 1'].notnull()]['SUBCOM_CD'].unique() # \n",
    "remove_subcoms = [97000, 37120, 92004, 37122, 97004, 97001, 97010, 96800, 97008, 96400, 97003, 34260, 97002, 96401, 97006, 34529, 96900, 73531, 87633, 97009, 34265, 34155, 74202]\n",
    "SUBCOMs = [int(i) for i in SUBCOMs if int(i) not in remove_subcoms]\n",
    "print(len(SUBCOMs))"
   ]
  },
  {
   "cell_type": "code",
   "execution_count": 0,
   "metadata": {
    "application/vnd.databricks.v1+cell": {
     "cellMetadata": {
      "byteLimit": 2048000,
      "rowLimit": 10000
     },
     "inputWidgets": {},
     "nuid": "6ab284f9-8d6c-403b-bccd-33b4fbb2d167",
     "showTitle": false,
     "title": ""
    }
   },
   "outputs": [
    {
     "name": "stdout",
     "output_type": "stream",
     "text": [
      "\n"
     ]
    }
   ],
   "source": [
    "syndigo_classifier = pim_gtin_mapped.loc[pim_gtin_mapped['SUBCOM_CD'].isin(list(SUBCOMs))]\n",
    "print(len(pim_gtin_mapped.loc[pim_gtin_mapped['SUBCOM_CD'].isin(list(SUBCOMs))]))"
   ]
  },
  {
   "cell_type": "code",
   "execution_count": 0,
   "metadata": {
    "application/vnd.databricks.v1+cell": {
     "cellMetadata": {
      "byteLimit": 2048000,
      "rowLimit": 10000
     },
     "inputWidgets": {},
     "nuid": "0c660002-eb79-4dc7-a267-a39b8671873c",
     "showTitle": false,
     "title": ""
    }
   },
   "outputs": [
    {
     "name": "stdout",
     "output_type": "stream",
     "text": [
      "248441\n",
      "1112596\n",
      "\n",
      "241735\n",
      "549363\n"
     ]
    }
   ],
   "source": [
    "l1_notnull_sc = syndigo_classifier[syndigo_classifier['Level 1'].notnull()]\n",
    "l1_null_sc = syndigo_classifier[syndigo_classifier['Level 1'].isna()]\n",
    "\n",
    "print(len(l1_notnull_sc))\n",
    "print(len(l1_null_sc))\n",
    "print()\n",
    "\n",
    "l1_notnull_sc = l1_notnull_sc[['PMY_DPT_CD', 'PMY_DPT_DSC',\n",
    "       'REC_DPT_CD', 'REC_DPT_DSC', 'DPT_CD', 'DPT_DSC', 'COM_CD', 'COM_DSC',\n",
    "       'SUBCOM_CD', 'SUBCOM_DSC', 'VND_ECOM_DSC', 'Level 1', 'Level 2', 'Level 3',\n",
    "       'Level 4', 'Level 5', 'Level 6', 'Level 7', 'Level 8', 'Level 9',\n",
    "       'Level 10']]\n",
    "l1_notnull_sc = l1_notnull_sc.drop_duplicates(subset=['PMY_DPT_CD', 'PMY_DPT_DSC',\n",
    "       'REC_DPT_CD', 'REC_DPT_DSC', 'DPT_CD', 'DPT_DSC', 'COM_CD', 'COM_DSC',\n",
    "       'SUBCOM_CD', 'SUBCOM_DSC', 'VND_ECOM_DSC', 'Level 1', 'Level 2', 'Level 3',\n",
    "       'Level 4', 'Level 5', 'Level 6', 'Level 7', 'Level 8', 'Level 9',\n",
    "       'Level 10']) # ITM_LVL_DSC removed\n",
    "\n",
    "\n",
    "l1_null_sc = l1_null_sc[['PMY_DPT_CD', 'PMY_DPT_DSC',\n",
    "       'REC_DPT_CD', 'REC_DPT_DSC', 'DPT_CD', 'DPT_DSC', 'COM_CD', 'COM_DSC',\n",
    "       'SUBCOM_CD', 'SUBCOM_DSC', 'VND_ECOM_DSC','Level 1', 'Level 2', 'Level 3',\n",
    "       'Level 4', 'Level 5', 'Level 6', 'Level 7', 'Level 8', 'Level 9',\n",
    "       'Level 10']]\n",
    "l1_null_sc = l1_null_sc.drop_duplicates(subset=['PMY_DPT_CD', 'PMY_DPT_DSC',\n",
    "       'REC_DPT_CD', 'REC_DPT_DSC', 'DPT_CD', 'DPT_DSC', 'COM_CD', 'COM_DSC',\n",
    "       'SUBCOM_CD', 'SUBCOM_DSC', 'VND_ECOM_DSC', 'Level 1', 'Level 2', 'Level 3',\n",
    "       'Level 4', 'Level 5', 'Level 6', 'Level 7', 'Level 8', 'Level 9',\n",
    "       'Level 10']) # ITM_LVL_DSC removed\n",
    "\n",
    "print(len(l1_notnull_sc))\n",
    "print(len(l1_null_sc))"
   ]
  },
  {
   "cell_type": "code",
   "execution_count": 0,
   "metadata": {
    "application/vnd.databricks.v1+cell": {
     "cellMetadata": {
      "byteLimit": 2048000,
      "rowLimit": 10000
     },
     "inputWidgets": {},
     "nuid": "3cf064e4-d40b-4177-b954-90f3f1836beb",
     "showTitle": false,
     "title": ""
    }
   },
   "outputs": [],
   "source": [
    "pd.options.mode.chained_assignment = None\n",
    "l1_notnull_sc['ITEM_SUBCOM_text'] = (l1_notnull_sc.VND_ECOM_DSC + ' ' + l1_notnull_sc.DPT_DSC).fillna('').str.lower()\n",
    "\n",
    "l1_null_sc['ITEM_SUBCOM_text'] = (l1_null_sc.VND_ECOM_DSC + ' ' + l1_null_sc.DPT_DSC).fillna('').str.lower()"
   ]
  },
  {
   "cell_type": "code",
   "execution_count": 0,
   "metadata": {
    "application/vnd.databricks.v1+cell": {
     "cellMetadata": {
      "byteLimit": 2048000,
      "rowLimit": 10000
     },
     "inputWidgets": {},
     "nuid": "8802568b-0704-42eb-a900-2c1036026bf2",
     "showTitle": false,
     "title": ""
    }
   },
   "outputs": [
    {
     "name": "stdout",
     "output_type": "stream",
     "text": [
      "(241735,)\n"
     ]
    }
   ],
   "source": [
    "#Target Vectors\n",
    "level1_id_map = dict(zip(l1_notnull_sc['Level 1'].fillna('').unique(), range(l1_notnull_sc['Level 1'].fillna('').nunique())))\n",
    "y_ = l1_notnull_sc['Level 1'].fillna('').map(level1_id_map)\n",
    "print(y_.shape)"
   ]
  },
  {
   "cell_type": "code",
   "execution_count": 0,
   "metadata": {
    "application/vnd.databricks.v1+cell": {
     "cellMetadata": {},
     "inputWidgets": {},
     "nuid": "04d32301-354d-4624-bb0d-1955d3a85055",
     "showTitle": false,
     "title": ""
    }
   },
   "outputs": [],
   "source": [
    "#Feature vectors\n",
    "from sklearn.feature_extraction.text import TfidfVectorizer\n",
    "vect = TfidfVectorizer(ngram_range= (1,2), max_features = 800000)\n",
    "X = vect.fit_transform(l1_notnull_sc.ITEM_SUBCOM_text)\n",
    "X1 = vect.fit_transform(l1_null_sc.ITEM_SUBCOM_text)\n",
    "\n",
    "X_ = np.array(list(X))\n",
    "X1_ = np.array(list(X1))"
   ]
  },
  {
   "cell_type": "markdown",
   "metadata": {
    "application/vnd.databricks.v1+cell": {
     "cellMetadata": {
      "byteLimit": 2048000,
      "rowLimit": 10000
     },
     "inputWidgets": {},
     "nuid": "3b88f754-bb68-4302-85c3-d023fbc57555",
     "showTitle": false,
     "title": ""
    }
   },
   "source": [
    "## Model Training"
   ]
  },
  {
   "cell_type": "code",
   "execution_count": 0,
   "metadata": {
    "application/vnd.databricks.v1+cell": {
     "cellMetadata": {
      "byteLimit": 2048000,
      "rowLimit": 10000
     },
     "inputWidgets": {},
     "nuid": "29de1ad2-4d54-4b98-948e-92bfa5da2fb2",
     "showTitle": false,
     "title": ""
    }
   },
   "outputs": [],
   "source": [
    "from sklearn.model_selection import train_test_split\n",
    "# X_train, X_test, y_train, y_test = train_test_split(X_, y_, test_size= 0.001, stratify= y_)\n",
    "from sklearn.metrics import ConfusionMatrixDisplay, classification_report, confusion_matrix\n",
    "from sklearn.ensemble import RandomForestClassifier, GradientBoostingClassifier\n",
    "from sklearn.linear_model import LogisticRegression"
   ]
  },
  {
   "cell_type": "code",
   "execution_count": 0,
   "metadata": {
    "application/vnd.databricks.v1+cell": {
     "cellMetadata": {},
     "inputWidgets": {},
     "nuid": "aacc2078-be9c-4e11-88a6-3a4f1cb3fb3d",
     "showTitle": false,
     "title": ""
    }
   },
   "outputs": [],
   "source": [
    "lr_tf = LogisticRegression(C = 20, multi_class = 'multinomial', solver = 'saga', max_iter=800000, n_jobs=64)\n",
    "lr_tf.fit(X_, y_)\n",
    "preds = lr_tf.predict(X1_)\n",
    "probs= lr_tf.predict_proba(X1_)"
   ]
  },
  {
   "cell_type": "code",
   "execution_count": 0,
   "metadata": {
    "application/vnd.databricks.v1+cell": {
     "cellMetadata": {
      "byteLimit": 2048000,
      "rowLimit": 10000
     },
     "inputWidgets": {},
     "nuid": "d9986e15-83a5-4d2e-96bd-d43b07799286",
     "showTitle": false,
     "title": ""
    }
   },
   "outputs": [],
   "source": [
    "level_num = []\n",
    "proobs = []\n",
    "\n",
    "for i in range(len(probs)): # \n",
    "    for j in range(1):\n",
    "        try:\n",
    "            level_num.append(int(np.where(probs[i]==probs[i][np.argsort(probs[i])][::-1][:3][j])[0]))\n",
    "        except TypeError:\n",
    "            level_num.append(int(np.where(probs[i]==probs[i][np.argsort(probs[i])][::-1][:3][2])[0][0]))\n",
    "    proobs.append(probs[i][np.argsort(probs[i])][::-1][:1])\n",
    "\n",
    "soln = []\n",
    "for k in range(len(level_num)):\n",
    "    soln.append([i for i in level1_id_map if level1_id_map[i]==level_num[k]][0])"
   ]
  },
  {
   "cell_type": "code",
   "execution_count": 0,
   "metadata": {
    "application/vnd.databricks.v1+cell": {
     "cellMetadata": {
      "byteLimit": 2048000,
      "rowLimit": 10000
     },
     "inputWidgets": {},
     "nuid": "812f75cd-40e4-44dc-a094-479ec328826c",
     "showTitle": false,
     "title": ""
    }
   },
   "outputs": [],
   "source": [
    "# Flattening the PROOBS list\n",
    "\n",
    "new_proobs = []\n",
    "for i in range(len(proobs)):\n",
    "    new_proobs.append(proobs[i].tolist())\n",
    "len(new_proobs)\n",
    "new_proobs = [i for sublist in list(new_proobs) for i in sublist]"
   ]
  },
  {
   "cell_type": "code",
   "execution_count": 0,
   "metadata": {
    "application/vnd.databricks.v1+cell": {
     "cellMetadata": {
      "byteLimit": 2048000,
      "rowLimit": 10000
     },
     "inputWidgets": {},
     "nuid": "62a39098-1e1d-4b1d-a9be-848ab65be213",
     "showTitle": false,
     "title": ""
    }
   },
   "outputs": [
    {
     "name": "stdout",
     "output_type": "stream",
     "text": [
      "1648089\n"
     ]
    }
   ],
   "source": [
    "FIRST = []\n",
    "FIRST_s = []\n",
    "\n",
    "for i in range(0, len(soln), 3):\n",
    "    FIRST.append(soln[i])\n",
    "    FIRST_s.append(new_proobs[i])"
   ]
  },
  {
   "cell_type": "code",
   "execution_count": 0,
   "metadata": {
    "application/vnd.databricks.v1+cell": {
     "cellMetadata": {
      "byteLimit": 2048000,
      "rowLimit": 10000
     },
     "inputWidgets": {},
     "nuid": "d022e8ca-e6da-45a4-9d38-288db554e7b3",
     "showTitle": false,
     "title": ""
    }
   },
   "outputs": [],
   "source": [
    "datas = {\n",
    "'PMY_DPT_CD' : l1_null_sc.PMY_DPT_CD.tolist() ,\n",
    "'PMY_DPT_DSC': l1_null_sc.PMY_DPT_DSC.tolist(),\n",
    "'REC_DPT_CD' : l1_null_sc.REC_DPT_CD.tolist() ,\n",
    "'REC_DPT_DSC' : l1_null_sc.REC_DPT_DSC.tolist(),\n",
    "'DPT_CD' : l1_null_sc.DPT_CD.tolist(),\n",
    "'DPT_DSC' : l1_null_sc.DPT_DSC.tolist(),\n",
    "'COM_CD' : l1_null_sc.COM_CD.tolist(),\n",
    "'COM_DSC' : l1_null_sc.COM_DSC.tolist(),\n",
    "'SUBCOM_CD' : l1_null_sc.SUBCOM_CD.tolist(),\n",
    "'SUBCOM_DSC' : l1_null_sc.SUBCOM_DSC.tolist(),\n",
    "'VND_ECOM_DSC' : l1_null_sc.VND_ECOM_DSC.tolist(),\n",
    "'First L1 Predictions' : FIRST,\n",
    "'First Scores' : FIRST_s\n",
    "}\n",
    "\n",
    "L1_Preds = pd.DataFrame(datas)\n",
    "# L1_Preds.to_csv(DBFR + 'L1_Predictionz__Synd_Part_12345.csv', index=False)"
   ]
  },
  {
   "cell_type": "code",
   "execution_count": 0,
   "metadata": {
    "application/vnd.databricks.v1+cell": {
     "cellMetadata": {
      "byteLimit": 2048000,
      "rowLimit": 10000
     },
     "inputWidgets": {},
     "nuid": "d7015b51-7f67-4352-9c15-c419f2eba2af",
     "showTitle": false,
     "title": ""
    }
   },
   "outputs": [
    {
     "name": "stdout",
     "output_type": "stream",
     "text": [
      "Out[71]: 549363"
     ]
    }
   ],
   "source": [
    "len(L1_Preds.drop_duplicates(subset=['SUBCOM_CD', 'VND_ECOM_DSC'])) # 2795040"
   ]
  }
 ],
 "metadata": {
  "application/vnd.databricks.v1+notebook": {
   "dashboards": [],
   "language": "python",
   "notebookMetadata": {
    "pythonIndentUnit": 4
   },
   "notebookName": "Level 1 Classification",
   "widgets": {}
  },
  "kernelspec": {
   "display_name": "Python 3 (ipykernel)",
   "language": "python",
   "name": "python3"
  },
  "language_info": {
   "codemirror_mode": {
    "name": "ipython",
    "version": 3
   },
   "file_extension": ".py",
   "mimetype": "text/x-python",
   "name": "python",
   "nbconvert_exporter": "python",
   "pygments_lexer": "ipython3",
   "version": "3.10.9"
  }
 },
 "nbformat": 4,
 "nbformat_minor": 1
}
