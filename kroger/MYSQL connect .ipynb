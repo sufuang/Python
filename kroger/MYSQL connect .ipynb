{
 "cells": [
  {
   "cell_type": "code",
   "execution_count": 5,
   "id": "694a409e",
   "metadata": {},
   "outputs": [
    {
     "ename": "SyntaxError",
     "evalue": "invalid syntax (3375596816.py, line 1)",
     "output_type": "error",
     "traceback": [
      "\u001b[1;36m  Cell \u001b[1;32mIn[5], line 1\u001b[1;36m\u001b[0m\n\u001b[1;33m    - error message\u001b[0m\n\u001b[1;37m            ^\u001b[0m\n\u001b[1;31mSyntaxError\u001b[0m\u001b[1;31m:\u001b[0m invalid syntax\n"
     ]
    }
   ],
   "source": [
    " - error message\n",
    "   - Error: ('IM002', '[IM002] [Microsoft][ODBC Driver Manager] Data source name not found and no default driver specified')\n",
    "   - https://stackoverflow.com/questions/17115632/microsoftodbc-driver-manager-data-source-name-not-found-and-no-default-drive "
   ]
  },
  {
   "cell_type": "code",
   "execution_count": null,
   "id": "97e7c1fa",
   "metadata": {},
   "outputs": [],
   "source": [
    "\"ODBC;DSN=jg_report;Trusted_Connection=Yes;\""
   ]
  },
  {
   "cell_type": "code",
   "execution_count": 7,
   "id": "5bcabd02",
   "metadata": {},
   "outputs": [
    {
     "ename": "Error",
     "evalue": "('IM002', '[IM002] [Microsoft][ODBC Driver Manager] Data source name not found and no default driver specified')",
     "output_type": "error",
     "traceback": [
      "\u001b[1;31m---------------------------------------------------------------------------\u001b[0m",
      "\u001b[1;31mError\u001b[0m                                     Traceback (most recent call last)",
      "Cell \u001b[1;32mIn[7], line 14\u001b[0m\n\u001b[0;32m      5\u001b[0m connection_string \u001b[38;5;241m=\u001b[39m \u001b[38;5;124mf\u001b[39m\u001b[38;5;124m\"\"\"\u001b[39m\n\u001b[0;32m      6\u001b[0m \u001b[38;5;124m  DRIVER = \u001b[39m\u001b[38;5;130;01m{{\u001b[39;00m\u001b[38;5;132;01m{\u001b[39;00mDRIVER_NMAE\u001b[38;5;132;01m}\u001b[39;00m\u001b[38;5;130;01m}}\u001b[39;00m\u001b[38;5;124m;\u001b[39m\n\u001b[0;32m      7\u001b[0m \u001b[38;5;124m  SERVER = \u001b[39m\u001b[38;5;132;01m{\u001b[39;00mSERVER_NAME\u001b[38;5;132;01m}\u001b[39;00m\u001b[38;5;124m;\u001b[39m\n\u001b[1;32m   (...)\u001b[0m\n\u001b[0;32m     10\u001b[0m \u001b[38;5;124m  Trusted_Connection = yes;\u001b[39m\n\u001b[0;32m     11\u001b[0m \u001b[38;5;124m\"\"\"\u001b[39m\n\u001b[0;32m     12\u001b[0m \u001b[38;5;66;03m#.connection_string = \"TrustServerCertificate=yes;\"\u001b[39;00m\n\u001b[1;32m---> 14\u001b[0m conn \u001b[38;5;241m=\u001b[39m \u001b[43modbc\u001b[49m\u001b[38;5;241;43m.\u001b[39;49m\u001b[43mconnect\u001b[49m\u001b[43m(\u001b[49m\u001b[43mconnection_string\u001b[49m\u001b[43m)\u001b[49m\n\u001b[0;32m     15\u001b[0m \u001b[38;5;28mprint\u001b[39m(conn)\n",
      "File \u001b[1;32m~\\AppData\\Local\\anaconda3\\lib\\site-packages\\pypyodbc.py:2454\u001b[0m, in \u001b[0;36mConnection.__init__\u001b[1;34m(self, connectString, autocommit, ansi, timeout, unicode_results, readonly, **kargs)\u001b[0m\n\u001b[0;32m   2450\u001b[0m \u001b[38;5;28;01mif\u001b[39;00m \u001b[38;5;28mself\u001b[39m\u001b[38;5;241m.\u001b[39mconnection_timeout \u001b[38;5;241m!=\u001b[39m \u001b[38;5;241m0\u001b[39m:\n\u001b[0;32m   2451\u001b[0m     \u001b[38;5;28mself\u001b[39m\u001b[38;5;241m.\u001b[39mset_connection_timeout(connection_timeout)\n\u001b[1;32m-> 2454\u001b[0m \u001b[38;5;28;43mself\u001b[39;49m\u001b[38;5;241;43m.\u001b[39;49m\u001b[43mconnect\u001b[49m\u001b[43m(\u001b[49m\u001b[43mconnectString\u001b[49m\u001b[43m,\u001b[49m\u001b[43m \u001b[49m\u001b[43mautocommit\u001b[49m\u001b[43m,\u001b[49m\u001b[43m \u001b[49m\u001b[43mansi\u001b[49m\u001b[43m,\u001b[49m\u001b[43m \u001b[49m\u001b[43mtimeout\u001b[49m\u001b[43m,\u001b[49m\u001b[43m \u001b[49m\u001b[43municode_results\u001b[49m\u001b[43m,\u001b[49m\u001b[43m \u001b[49m\u001b[43mreadonly\u001b[49m\u001b[43m)\u001b[49m\n",
      "File \u001b[1;32m~\\AppData\\Local\\anaconda3\\lib\\site-packages\\pypyodbc.py:2507\u001b[0m, in \u001b[0;36mConnection.connect\u001b[1;34m(self, connectString, autocommit, ansi, timeout, unicode_results, readonly)\u001b[0m\n\u001b[0;32m   2505\u001b[0m \u001b[38;5;28;01melse\u001b[39;00m:\n\u001b[0;32m   2506\u001b[0m     ret \u001b[38;5;241m=\u001b[39m odbc_func(\u001b[38;5;28mself\u001b[39m\u001b[38;5;241m.\u001b[39mdbc_h, \u001b[38;5;241m0\u001b[39m, c_connectString, \u001b[38;5;28mlen\u001b[39m(\u001b[38;5;28mself\u001b[39m\u001b[38;5;241m.\u001b[39mconnectString), \u001b[38;5;28;01mNone\u001b[39;00m, \u001b[38;5;241m0\u001b[39m, \u001b[38;5;28;01mNone\u001b[39;00m, SQL_DRIVER_NOPROMPT)\n\u001b[1;32m-> 2507\u001b[0m \u001b[43mcheck_success\u001b[49m\u001b[43m(\u001b[49m\u001b[38;5;28;43mself\u001b[39;49m\u001b[43m,\u001b[49m\u001b[43m \u001b[49m\u001b[43mret\u001b[49m\u001b[43m)\u001b[49m\n\u001b[0;32m   2510\u001b[0m \u001b[38;5;66;03m# Set the connection's attribute of \"autocommit\" \u001b[39;00m\n\u001b[0;32m   2511\u001b[0m \u001b[38;5;66;03m#\u001b[39;00m\n\u001b[0;32m   2512\u001b[0m \u001b[38;5;28mself\u001b[39m\u001b[38;5;241m.\u001b[39mautocommit \u001b[38;5;241m=\u001b[39m autocommit\n",
      "File \u001b[1;32m~\\AppData\\Local\\anaconda3\\lib\\site-packages\\pypyodbc.py:1009\u001b[0m, in \u001b[0;36mcheck_success\u001b[1;34m(ODBC_obj, ret)\u001b[0m\n\u001b[0;32m   1007\u001b[0m     ctrl_err(SQL_HANDLE_STMT, ODBC_obj\u001b[38;5;241m.\u001b[39mstmt_h, ret, ODBC_obj\u001b[38;5;241m.\u001b[39mansi)\n\u001b[0;32m   1008\u001b[0m \u001b[38;5;28;01melif\u001b[39;00m \u001b[38;5;28misinstance\u001b[39m(ODBC_obj, Connection):\n\u001b[1;32m-> 1009\u001b[0m     \u001b[43mctrl_err\u001b[49m\u001b[43m(\u001b[49m\u001b[43mSQL_HANDLE_DBC\u001b[49m\u001b[43m,\u001b[49m\u001b[43m \u001b[49m\u001b[43mODBC_obj\u001b[49m\u001b[38;5;241;43m.\u001b[39;49m\u001b[43mdbc_h\u001b[49m\u001b[43m,\u001b[49m\u001b[43m \u001b[49m\u001b[43mret\u001b[49m\u001b[43m,\u001b[49m\u001b[43m \u001b[49m\u001b[43mODBC_obj\u001b[49m\u001b[38;5;241;43m.\u001b[39;49m\u001b[43mansi\u001b[49m\u001b[43m)\u001b[49m\n\u001b[0;32m   1010\u001b[0m \u001b[38;5;28;01melse\u001b[39;00m:\n\u001b[0;32m   1011\u001b[0m     ctrl_err(SQL_HANDLE_ENV, ODBC_obj, ret, \u001b[38;5;28;01mFalse\u001b[39;00m)\n",
      "File \u001b[1;32m~\\AppData\\Local\\anaconda3\\lib\\site-packages\\pypyodbc.py:985\u001b[0m, in \u001b[0;36mctrl_err\u001b[1;34m(ht, h, val_ret, ansi)\u001b[0m\n\u001b[0;32m    983\u001b[0m     \u001b[38;5;28;01mraise\u001b[39;00m OperationalError(state,err_text)\n\u001b[0;32m    984\u001b[0m \u001b[38;5;28;01melif\u001b[39;00m state[:\u001b[38;5;241m2\u001b[39m] \u001b[38;5;129;01min\u001b[39;00m (raw_s(\u001b[38;5;124m'\u001b[39m\u001b[38;5;124mIM\u001b[39m\u001b[38;5;124m'\u001b[39m),raw_s(\u001b[38;5;124m'\u001b[39m\u001b[38;5;124mHY\u001b[39m\u001b[38;5;124m'\u001b[39m)):\n\u001b[1;32m--> 985\u001b[0m     \u001b[38;5;28;01mraise\u001b[39;00m Error(state,err_text)\n\u001b[0;32m    986\u001b[0m \u001b[38;5;28;01melse\u001b[39;00m:\n\u001b[0;32m    987\u001b[0m     \u001b[38;5;28;01mraise\u001b[39;00m DatabaseError(state,err_text)\n",
      "\u001b[1;31mError\u001b[0m: ('IM002', '[IM002] [Microsoft][ODBC Driver Manager] Data source name not found and no default driver specified')"
     ]
    }
   ],
   "source": [
    "import pypyodbc as odbc\n",
    "DRIVER_NMAE = 'SQL SERVER'\n",
    "SERVER_NAME = '11-eastus2-3534-idq-sqlmi.cc4c669dc8d1.database.windows.net'\n",
    "DATABASE_NAME = 'CURIDQ'\n",
    "connection_string = f\"\"\"\n",
    "  DRIVER = {{{DRIVER_NMAE}}};\n",
    "  SERVER = {SERVER_NAME};\n",
    "  DATABASE= {DATABASE_NAME} ;\n",
    "  ODBC;DSN=jg_report;\n",
    "  Trusted_Connection = yes;\n",
    "\"\"\"\n",
    "#.connection_string = \"TrustServerCertificate=yes;\"\n",
    "\n",
    "conn = odbc.connect(connection_string)\n",
    "print(conn)"
   ]
  },
  {
   "cell_type": "code",
   "execution_count": null,
   "id": "9d5a3452",
   "metadata": {},
   "outputs": [],
   "source": []
  }
 ],
 "metadata": {
  "kernelspec": {
   "display_name": "Python 3 (ipykernel)",
   "language": "python",
   "name": "python3"
  },
  "language_info": {
   "codemirror_mode": {
    "name": "ipython",
    "version": 3
   },
   "file_extension": ".py",
   "mimetype": "text/x-python",
   "name": "python",
   "nbconvert_exporter": "python",
   "pygments_lexer": "ipython3",
   "version": "3.10.9"
  }
 },
 "nbformat": 4,
 "nbformat_minor": 5
}
