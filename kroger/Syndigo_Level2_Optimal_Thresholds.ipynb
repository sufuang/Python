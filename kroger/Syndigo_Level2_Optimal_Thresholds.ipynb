{
 "cells": [
  {
   "cell_type": "code",
   "execution_count": 2,
   "id": "e86e96c5",
   "metadata": {},
   "outputs": [],
   "source": [
    "%matplotlib inline"
   ]
  },
  {
   "cell_type": "code",
   "execution_count": 1,
   "id": "af8e6814",
   "metadata": {},
   "outputs": [],
   "source": [
    "import pandas as pd, numpy as np\n",
    "import matplotlib.pyplot as plt"
   ]
  },
  {
   "cell_type": "code",
   "execution_count": 3,
   "id": "5461a41a",
   "metadata": {},
   "outputs": [],
   "source": [
    "#Load results\n",
    "livestock = pd.read_csv('LivestockPetSupplies.csv')\n"
   ]
  },
  {
   "cell_type": "code",
   "execution_count": 4,
   "id": "a59f9629",
   "metadata": {},
   "outputs": [
    {
     "data": {
      "text/html": [
       "<div>\n",
       "<style scoped>\n",
       "    .dataframe tbody tr th:only-of-type {\n",
       "        vertical-align: middle;\n",
       "    }\n",
       "\n",
       "    .dataframe tbody tr th {\n",
       "        vertical-align: top;\n",
       "    }\n",
       "\n",
       "    .dataframe thead th {\n",
       "        text-align: right;\n",
       "    }\n",
       "</style>\n",
       "<table border=\"1\" class=\"dataframe\">\n",
       "  <thead>\n",
       "    <tr style=\"text-align: right;\">\n",
       "      <th></th>\n",
       "      <th>y_test</th>\n",
       "      <th>Soln</th>\n",
       "      <th>Preds</th>\n",
       "    </tr>\n",
       "  </thead>\n",
       "  <tbody>\n",
       "    <tr>\n",
       "      <th>0</th>\n",
       "      <td>Pet Supplies</td>\n",
       "      <td>Pet Supplies</td>\n",
       "      <td>0.999718</td>\n",
       "    </tr>\n",
       "    <tr>\n",
       "      <th>1</th>\n",
       "      <td>Pet Supplies</td>\n",
       "      <td>Pet Supplies</td>\n",
       "      <td>0.999698</td>\n",
       "    </tr>\n",
       "    <tr>\n",
       "      <th>2</th>\n",
       "      <td>Pet Supplies</td>\n",
       "      <td>Pet Supplies</td>\n",
       "      <td>0.999693</td>\n",
       "    </tr>\n",
       "    <tr>\n",
       "      <th>3</th>\n",
       "      <td>Pet Supplies</td>\n",
       "      <td>Pet Supplies</td>\n",
       "      <td>0.999448</td>\n",
       "    </tr>\n",
       "    <tr>\n",
       "      <th>4</th>\n",
       "      <td>Pet Supplies</td>\n",
       "      <td>Pet Supplies</td>\n",
       "      <td>0.999641</td>\n",
       "    </tr>\n",
       "  </tbody>\n",
       "</table>\n",
       "</div>"
      ],
      "text/plain": [
       "         y_test          Soln     Preds\n",
       "0  Pet Supplies  Pet Supplies  0.999718\n",
       "1  Pet Supplies  Pet Supplies  0.999698\n",
       "2  Pet Supplies  Pet Supplies  0.999693\n",
       "3  Pet Supplies  Pet Supplies  0.999448\n",
       "4  Pet Supplies  Pet Supplies  0.999641"
      ]
     },
     "execution_count": 4,
     "metadata": {},
     "output_type": "execute_result"
    }
   ],
   "source": [
    "livestock.head()"
   ]
  },
  {
   "cell_type": "code",
   "execution_count": 6,
   "id": "409c6246",
   "metadata": {},
   "outputs": [],
   "source": [
    "livestock['Classification Result'] = livestock.y_test == livestock.Soln"
   ]
  },
  {
   "cell_type": "code",
   "execution_count": 8,
   "id": "258cf057",
   "metadata": {},
   "outputs": [
    {
     "data": {
      "text/plain": [
       "count    629.000000\n",
       "mean       0.999324\n",
       "std        0.001604\n",
       "min        0.974028\n",
       "25%        0.999439\n",
       "50%        0.999622\n",
       "75%        0.999769\n",
       "max        0.999971\n",
       "Name: Preds, dtype: float64"
      ]
     },
     "execution_count": 8,
     "metadata": {},
     "output_type": "execute_result"
    }
   ],
   "source": [
    "correct = livestock[livestock['Classification Result'] == True]\n",
    "correct.Preds.describe()"
   ]
  },
  {
   "cell_type": "code",
   "execution_count": 9,
   "id": "3f7e7ded",
   "metadata": {},
   "outputs": [
    {
     "data": {
      "text/plain": [
       "count    4.000000\n",
       "mean     0.780005\n",
       "std      0.157488\n",
       "min      0.641326\n",
       "25%      0.653842\n",
       "50%      0.756072\n",
       "75%      0.882235\n",
       "max      0.966549\n",
       "Name: Preds, dtype: float64"
      ]
     },
     "execution_count": 9,
     "metadata": {},
     "output_type": "execute_result"
    }
   ],
   "source": [
    "incorrect = livestock[livestock['Classification Result'] == False]\n",
    "incorrect.Preds.describe()"
   ]
  },
  {
   "cell_type": "markdown",
   "id": "5743879d",
   "metadata": {},
   "source": [
    "### We want to choose the threshold for Preds such that results above that value are likely to be correct with atleast 95% confidence"
   ]
  },
  {
   "cell_type": "code",
   "execution_count": 15,
   "id": "f2299688",
   "metadata": {},
   "outputs": [
    {
     "data": {
      "text/plain": [
       "True     0.998413\n",
       "False    0.001587\n",
       "Name: Classification Result, dtype: float64"
      ]
     },
     "execution_count": 15,
     "metadata": {},
     "output_type": "execute_result"
    }
   ],
   "source": [
    "threshold = 0.95\n",
    "livestock[livestock.Preds >= threshold]['Classification Result'].value_counts()/len(livestock[livestock.Preds >= threshold])"
   ]
  },
  {
   "cell_type": "code",
   "execution_count": null,
   "id": "17cf97e0",
   "metadata": {},
   "outputs": [],
   "source": []
  }
 ],
 "metadata": {
  "kernelspec": {
   "display_name": "Python 3 (ipykernel)",
   "language": "python",
   "name": "python3"
  },
  "language_info": {
   "codemirror_mode": {
    "name": "ipython",
    "version": 3
   },
   "file_extension": ".py",
   "mimetype": "text/x-python",
   "name": "python",
   "nbconvert_exporter": "python",
   "pygments_lexer": "ipython3",
   "version": "3.10.9"
  }
 },
 "nbformat": 4,
 "nbformat_minor": 5
}
