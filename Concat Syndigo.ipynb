{
 "cells": [
  {
   "cell_type": "markdown",
   "id": "57722441",
   "metadata": {},
   "source": [
    "# Concat Syndigo\n",
    " - syndigo_mapped: Syndigo_GTIN_Mapping_060723.csv                                         (113898, 13)\n",
    "    - after dedup GTIN                                                                     (95032, 13)  \n",
    "    - after  reemoving  'Level Mapped'  = 'Not Available in Syndigo File'                  (93900, 13)\n",
    "      - 1768 missing value for 'Level 1'               \n",
    "      - 'Level 1' will be missing if 'Level Mapped'  = 'Not Available in Syndigo File'  \n",
    " - syndigo_concat: Syndiago Parts 1-2-3-4-5 matches w taxonomy classification.xlsx'        (164053, 12) \n",
    "    - no duplicate GTIN and no missing value for Level 1\n",
    "    - 1018 missing value for Level 2\n",
    " - Concat syndigo_mapped with  syndigo_concat\n",
    "   - Drop 'taxo' and 'Levels_map'  syndigo_concat\n",
    "   - Drop 'Syndigo Taxonomy', 'Level Mapped' and 'Level 10' from  syndigo_mapped \n",
    "   - \n",
    "   - syndigo_mapped = pd.concat([syndigo_mapped, syndigo_concat])                            (257953, 10)\n",
    "     - syndigo_mapped will be used for modeling \n",
    "     - no duplicate GTIN "
   ]
  },
  {
   "cell_type": "code",
   "execution_count": 1,
   "id": "baf91695",
   "metadata": {},
   "outputs": [],
   "source": []
  },
  {
   "cell_type": "code",
   "execution_count": 16,
   "id": "6af97734",
   "metadata": {},
   "outputs": [],
   "source": [
    "def process_syndigo(syndigo_mapped_file, syndigo_concat_file):  \n",
    "    syndigo_mapped = pd.read_csv(syndigo_mapped_file)  # (113898, 13)\n",
    "    syndigo_concat= pd.read_csv(syndigo_concat_file,dtype='unicode')\n",
    "    print( f'1 syndigo_mapped.shape {syndigo_mapped.shape}') \n",
    "    syndigo_mapped.drop_duplicates('GTIN', inplace = True) \n",
    "    \n",
    "    print( f'2 syndigo_mapped.shape {syndigo_mapped.shape}')\n",
    "    syndigo_mapped = syndigo_mapped[syndigo_mapped['Level Mapped']!= 'Not Available in Syndigo File']\n",
    "    print( f'3 syndigo_mapped.shape {syndigo_mapped.shape}')\n",
    "    print( f'1 syndigo_concat.shape {syndigo_concat.shape}')\n",
    "    syndigo_concat.drop_duplicates('GTIN', inplace = True)\n",
    "    print( f'2 syndigo_concat.shape {syndigo_concat.shape}')\n",
    "    syndigo_concat.drop(columns =['taxo', 'Levels_map'],inplace = True)\n",
    "    syndigo_mapped.drop(columns =['Syndigo Taxonomy', 'Level Mapped','Level 10'],inplace = True)\n",
    "    syndigo_mapped = pd.concat([syndigo_mapped, syndigo_concat])\n",
    " \n",
    "    print( f'4 syndigo_mapped.shape {syndigo_mapped.shape}')\n",
    "    return syndigo_mapped"
   ]
  },
  {
   "cell_type": "code",
   "execution_count": 2,
   "id": "37c6a4d5",
   "metadata": {},
   "outputs": [],
   "source": [
    "import pandas as pd, numpy as np\n",
    "import numpy as np\n",
    "import pandas as pd \n",
    "\n",
    "pd.options.display.float_format = '{:,.4f}'.format\n",
    "pd.set_option('display.max_columns', None) \n",
    "pd.set_option(\"display.max_rows\", None)"
   ]
  },
  {
   "cell_type": "code",
   "execution_count": 18,
   "id": "f0ce0f13",
   "metadata": {},
   "outputs": [
    {
     "name": "stdout",
     "output_type": "stream",
     "text": [
      "1 syndigo_mapped.shape (113898, 13)\n",
      "2 syndigo_mapped.shape (95032, 13)\n",
      "3 syndigo_mapped.shape (93900, 13)\n",
      "1 syndigo_concat.shape (164053, 12)\n",
      "2 syndigo_concat.shape (164053, 12)\n",
      "4 syndigo_mapped.shape (257953, 10)\n"
     ]
    }
   ],
   "source": [
    "# invoke\n",
    "path = 'C:\\\\users\\\\iny2819\\\\kroger\\\\Data\\\\'\n",
    "syndigo_mapped_file  = path + 'Syndigo_GTIN_Mapping_060723.csv'\n",
    "#syndigo_concat_file  = path + 'Syndiago Parts 1-2-3-4-5 matches w taxonomy classification.xlsx'\n",
    "syndigo_concat_file  = path + 'Syndiago Parts 1-2-3-4-5 matches w taxonomy classification.csv'\n",
    "syndigo_mapped = process_syndigo(syndigo_mapped_file, syndigo_concat_file)"
   ]
  },
  {
   "cell_type": "code",
   "execution_count": 19,
   "id": "6c799518",
   "metadata": {},
   "outputs": [],
   "source": [
    "path = 'C:\\\\users\\\\iny2819\\\\kroger\\\\Data\\\\'\n",
    "syndigo_mapped.to_csv(path + \"syndigo_concat_257K_073123.csv\",index=None)\n",
    "syndigo_mapped.to_excel(path + \"syndigo_concat_257K_073123.xlsx\",index=None)"
   ]
  },
  {
   "cell_type": "code",
   "execution_count": 4,
   "id": "adfec965",
   "metadata": {},
   "outputs": [],
   "source": [
    "path = 'C:\\\\users\\\\iny2819\\\\kroger\\\\Data\\\\'\n",
    "path_file = path + 'Syndigo_GTIN_Mapping_060723.csv'\n",
    "syndigo_mapped  = pd.read_csv(path_file)  # (113898, 13)\n",
    "#syndigo_concat  = pd.read_csv(path + 'Syndiago Parts 1-2-3-4-5 matches w taxonomy classification.csv')\n",
    "syndigo_concat  = pd.read_excel(path + 'Syndiago Parts 1-2-3-4-5 matches w taxonomy classification.xlsx')\n",
    "syndigo_mapped_org = syndigo_mapped.copy()\n",
    "syndigo_concat_org = syndigo_concat.copy()"
   ]
  },
  {
   "cell_type": "markdown",
   "id": "df5e6c7d",
   "metadata": {},
   "source": [
    "## syndigo_mapped"
   ]
  },
  {
   "cell_type": "code",
   "execution_count": 5,
   "id": "8a927636",
   "metadata": {},
   "outputs": [
    {
     "data": {
      "text/plain": [
       "(113898, 13)"
      ]
     },
     "execution_count": 5,
     "metadata": {},
     "output_type": "execute_result"
    }
   ],
   "source": [
    "syndigo_mapped.shape"
   ]
  },
  {
   "cell_type": "code",
   "execution_count": 6,
   "id": "22c6db2f",
   "metadata": {},
   "outputs": [],
   "source": [
    "syndigo_mapped.drop_duplicates('GTIN', inplace = True)  # (95032, 13)"
   ]
  },
  {
   "cell_type": "code",
   "execution_count": 7,
   "id": "72b8d046",
   "metadata": {},
   "outputs": [],
   "source": [
    "syndigo_mapped = syndigo_mapped[syndigo_mapped['Level Mapped']!= 'Not Available in Syndigo File'] # (93900, 13)"
   ]
  },
  {
   "cell_type": "code",
   "execution_count": 8,
   "id": "0f1ad50e",
   "metadata": {},
   "outputs": [],
   "source": [
    "# nw syndigo_mapped[['Level 1' == np.NaN ]] "
   ]
  },
  {
   "cell_type": "code",
   "execution_count": 9,
   "id": "e993ccdc",
   "metadata": {},
   "outputs": [
    {
     "data": {
      "text/plain": [
       "Food / Beverages                            50792\n",
       "Health & Beauty                             19910\n",
       "Beer / Wine / Spirits                       11142\n",
       "Cleaning & Janitorial                        2855\n",
       "Livestock & Pet Supplies                     2251\n",
       "Kitchen & Bathroom                           1314\n",
       "Home & Venue Decoration                       759\n",
       "Gardening & Outdoors                          632\n",
       "Toys / Games / Hobbies                        607\n",
       "Childcare                                     503\n",
       "Office Supplies                               501\n",
       "Electronics                                   390\n",
       "Tobacco Products                              390\n",
       "Automotive                                    333\n",
       "Hardware                                      298\n",
       "Arts & Crafts                                 208\n",
       "Appliances                                    169\n",
       "Apparel                                       165\n",
       "Sports & Outdoor Recreation Equipment         142\n",
       "Lighting & Fans                               121\n",
       "Hospitality Supplies                           93\n",
       "Heating / Ventilation / Air Conditioning       87\n",
       "Plumbing & Water Service                       72\n",
       "Tools                                          61\n",
       "Electrical                                     36\n",
       "Paints & Coatings                              27\n",
       "Power Sports                                   16\n",
       "Books & Videos                                  9\n",
       "Furniture                                       6\n",
       "Building Supplies                               4\n",
       "Material Handling                               4\n",
       "Marine                                          3\n",
       "Name: Level 1, dtype: int64"
      ]
     },
     "execution_count": 9,
     "metadata": {},
     "output_type": "execute_result"
    }
   ],
   "source": [
    "syndigo_mapped['Level 1'].value_counts(dropna = False) # 1768 rows with value =NaN"
   ]
  },
  {
   "cell_type": "code",
   "execution_count": 10,
   "id": "8808bfa9",
   "metadata": {},
   "outputs": [
    {
     "data": {
      "text/plain": [
       "32"
      ]
     },
     "execution_count": 10,
     "metadata": {},
     "output_type": "execute_result"
    }
   ],
   "source": [
    "syndigo_mapped['Level 1'].nunique()  #32"
   ]
  },
  {
   "cell_type": "code",
   "execution_count": 11,
   "id": "c6b64a7b",
   "metadata": {
    "scrolled": true
   },
   "outputs": [
    {
     "data": {
      "text/plain": [
       "(0, 13)"
      ]
     },
     "execution_count": 11,
     "metadata": {},
     "output_type": "execute_result"
    }
   ],
   "source": [
    "syndigo_mapped[syndigo_mapped['Level 1'].isnull()].shape"
   ]
  },
  {
   "cell_type": "code",
   "execution_count": 12,
   "id": "9e507fc0",
   "metadata": {},
   "outputs": [
    {
     "data": {
      "text/html": [
       "<div>\n",
       "<style scoped>\n",
       "    .dataframe tbody tr th:only-of-type {\n",
       "        vertical-align: middle;\n",
       "    }\n",
       "\n",
       "    .dataframe tbody tr th {\n",
       "        vertical-align: top;\n",
       "    }\n",
       "\n",
       "    .dataframe thead th {\n",
       "        text-align: right;\n",
       "    }\n",
       "</style>\n",
       "<table border=\"1\" class=\"dataframe\">\n",
       "  <thead>\n",
       "    <tr style=\"text-align: right;\">\n",
       "      <th></th>\n",
       "      <th>GTIN</th>\n",
       "      <th>Syndigo Taxonomy</th>\n",
       "      <th>Level Mapped</th>\n",
       "      <th>Level 1</th>\n",
       "      <th>Level 2</th>\n",
       "      <th>Level 3</th>\n",
       "      <th>Level 4</th>\n",
       "      <th>Level 5</th>\n",
       "      <th>Level 6</th>\n",
       "      <th>Level 7</th>\n",
       "      <th>Level 8</th>\n",
       "      <th>Level 9</th>\n",
       "      <th>Level 10</th>\n",
       "    </tr>\n",
       "  </thead>\n",
       "  <tbody>\n",
       "  </tbody>\n",
       "</table>\n",
       "</div>"
      ],
      "text/plain": [
       "Empty DataFrame\n",
       "Columns: [GTIN, Syndigo Taxonomy, Level Mapped, Level 1, Level 2, Level 3, Level 4, Level 5, Level 6, Level 7, Level 8, Level 9, Level 10]\n",
       "Index: []"
      ]
     },
     "execution_count": 12,
     "metadata": {},
     "output_type": "execute_result"
    }
   ],
   "source": [
    "syndigo_mapped[syndigo_mapped['Level 1'].isnull()]  # pandas.core.frame.DataFrame; (1768, 13)"
   ]
  },
  {
   "cell_type": "code",
   "execution_count": 13,
   "id": "6afa0762",
   "metadata": {},
   "outputs": [],
   "source": [
    "fea = 'Level 1' \n",
    "syndigo_mapped = syndigo_mapped.dropna(subset = [fea])\n"
   ]
  },
  {
   "cell_type": "code",
   "execution_count": 14,
   "id": "396988e0",
   "metadata": {},
   "outputs": [],
   "source": [
    "fea = 'Level 1' \n",
    "syndigo_mapped.dropna(subset = [fea], inplace = True)\n"
   ]
  },
  {
   "cell_type": "code",
   "execution_count": 15,
   "id": "5d0f5686",
   "metadata": {},
   "outputs": [
    {
     "ename": "AttributeError",
     "evalue": "'DataFrame' object has no attribute 'SUBCOM_DSC'",
     "output_type": "error",
     "traceback": [
      "\u001b[1;31m---------------------------------------------------------------------------\u001b[0m",
      "\u001b[1;31mAttributeError\u001b[0m                            Traceback (most recent call last)",
      "Cell \u001b[1;32mIn[15], line 1\u001b[0m\n\u001b[1;32m----> 1\u001b[0m syndigo_mapped \u001b[38;5;241m=\u001b[39m syndigo_mapped[\u001b[38;5;241m~\u001b[39m\u001b[43msyndigo_mapped\u001b[49m\u001b[38;5;241;43m.\u001b[39;49m\u001b[43mSUBCOM_DSC\u001b[49m\u001b[38;5;241m.\u001b[39misin(SUBCOMS_excluded)]\n",
      "File \u001b[1;32m~\\AppData\\Local\\anaconda3\\lib\\site-packages\\pandas\\core\\generic.py:5902\u001b[0m, in \u001b[0;36mNDFrame.__getattr__\u001b[1;34m(self, name)\u001b[0m\n\u001b[0;32m   5895\u001b[0m \u001b[38;5;28;01mif\u001b[39;00m (\n\u001b[0;32m   5896\u001b[0m     name \u001b[38;5;129;01mnot\u001b[39;00m \u001b[38;5;129;01min\u001b[39;00m \u001b[38;5;28mself\u001b[39m\u001b[38;5;241m.\u001b[39m_internal_names_set\n\u001b[0;32m   5897\u001b[0m     \u001b[38;5;129;01mand\u001b[39;00m name \u001b[38;5;129;01mnot\u001b[39;00m \u001b[38;5;129;01min\u001b[39;00m \u001b[38;5;28mself\u001b[39m\u001b[38;5;241m.\u001b[39m_metadata\n\u001b[0;32m   5898\u001b[0m     \u001b[38;5;129;01mand\u001b[39;00m name \u001b[38;5;129;01mnot\u001b[39;00m \u001b[38;5;129;01min\u001b[39;00m \u001b[38;5;28mself\u001b[39m\u001b[38;5;241m.\u001b[39m_accessors\n\u001b[0;32m   5899\u001b[0m     \u001b[38;5;129;01mand\u001b[39;00m \u001b[38;5;28mself\u001b[39m\u001b[38;5;241m.\u001b[39m_info_axis\u001b[38;5;241m.\u001b[39m_can_hold_identifiers_and_holds_name(name)\n\u001b[0;32m   5900\u001b[0m ):\n\u001b[0;32m   5901\u001b[0m     \u001b[38;5;28;01mreturn\u001b[39;00m \u001b[38;5;28mself\u001b[39m[name]\n\u001b[1;32m-> 5902\u001b[0m \u001b[38;5;28;01mreturn\u001b[39;00m \u001b[38;5;28;43mobject\u001b[39;49m\u001b[38;5;241;43m.\u001b[39;49m\u001b[38;5;21;43m__getattribute__\u001b[39;49m\u001b[43m(\u001b[49m\u001b[38;5;28;43mself\u001b[39;49m\u001b[43m,\u001b[49m\u001b[43m \u001b[49m\u001b[43mname\u001b[49m\u001b[43m)\u001b[49m\n",
      "\u001b[1;31mAttributeError\u001b[0m: 'DataFrame' object has no attribute 'SUBCOM_DSC'"
     ]
    }
   ],
   "source": [
    "syndigo_mapped = syndigo_mapped[~syndigo_mapped.SUBCOM_DSC.isin(SUBCOMS_excluded)]"
   ]
  },
  {
   "cell_type": "code",
   "execution_count": null,
   "id": "6d3cae19",
   "metadata": {},
   "outputs": [],
   "source": [
    "syndigo_mapped.shape"
   ]
  },
  {
   "cell_type": "code",
   "execution_count": null,
   "id": "04f373e5",
   "metadata": {},
   "outputs": [],
   "source": [
    "syndigo_concat.shape"
   ]
  },
  {
   "cell_type": "code",
   "execution_count": null,
   "id": "7877bebc",
   "metadata": {},
   "outputs": [],
   "source": [
    "syndigo_concat.drop_duplicates('GTIN', inplace = True) # no duplicate GTIN"
   ]
  },
  {
   "cell_type": "markdown",
   "id": "fe896452",
   "metadata": {},
   "source": [
    "## Concat"
   ]
  },
  {
   "cell_type": "code",
   "execution_count": null,
   "id": "dd8a3bb6",
   "metadata": {},
   "outputs": [],
   "source": [
    "syndigo_concat.columns"
   ]
  },
  {
   "cell_type": "code",
   "execution_count": null,
   "id": "1e1ffaba",
   "metadata": {},
   "outputs": [],
   "source": [
    "syndigo_concat.drop(columns =['taxo', 'Levels_map'],inplace = True)\n"
   ]
  },
  {
   "cell_type": "code",
   "execution_count": null,
   "id": "e05e38c2",
   "metadata": {},
   "outputs": [],
   "source": [
    "syndigo_concat.columns"
   ]
  },
  {
   "cell_type": "code",
   "execution_count": null,
   "id": "40dfb117",
   "metadata": {},
   "outputs": [],
   "source": [
    "syndigo_mapped.columns"
   ]
  },
  {
   "cell_type": "code",
   "execution_count": null,
   "id": "5127a0cb",
   "metadata": {},
   "outputs": [],
   "source": [
    "#syndigo_mapped.drop(columns =['Syndigo Taxonomy', 'Level Mapped','Level 10'],inplace = True)\n",
    "syndigo_mapped.drop(columns =['Level 10'],inplace = True)"
   ]
  },
  {
   "cell_type": "code",
   "execution_count": null,
   "id": "fe72ad18",
   "metadata": {},
   "outputs": [],
   "source": [
    "syndigo_mapped.columns"
   ]
  },
  {
   "cell_type": "code",
   "execution_count": null,
   "id": "d780a282",
   "metadata": {},
   "outputs": [],
   "source": [
    "syndigo_mapped.shape"
   ]
  },
  {
   "cell_type": "code",
   "execution_count": null,
   "id": "52921241",
   "metadata": {},
   "outputs": [],
   "source": [
    "syndigo_concat.shape"
   ]
  },
  {
   "cell_type": "code",
   "execution_count": null,
   "id": "6e1495ca",
   "metadata": {},
   "outputs": [],
   "source": [
    "syndigo_mapped = pd.concat([syndigo_mapped, syndigo_concat]) # (257953, 10)"
   ]
  },
  {
   "cell_type": "code",
   "execution_count": null,
   "id": "ec3b98f8",
   "metadata": {},
   "outputs": [],
   "source": [
    "syndigo_mapped.shape\n"
   ]
  },
  {
   "cell_type": "code",
   "execution_count": null,
   "id": "8566c9bd",
   "metadata": {},
   "outputs": [],
   "source": [
    "syndigo_mapped .drop_duplicates('GTIN', inplace = True)"
   ]
  },
  {
   "cell_type": "code",
   "execution_count": null,
   "id": "667670ba",
   "metadata": {},
   "outputs": [],
   "source": [
    "syndigo_mapped.shape"
   ]
  },
  {
   "cell_type": "code",
   "execution_count": null,
   "id": "9d6a046f",
   "metadata": {},
   "outputs": [],
   "source": [
    "syndigo_concat  = pd.read_csv(path + 'Syndiago Parts 1-2-3-4-5 matches w taxonomy classification.csv', dtype='unicode')"
   ]
  },
  {
   "cell_type": "code",
   "execution_count": null,
   "id": "413afd52",
   "metadata": {},
   "outputs": [],
   "source": [
    "syndigo_concat.drop_duplicates('GTIN', inplace = True)"
   ]
  },
  {
   "cell_type": "code",
   "execution_count": null,
   "id": "4a61e751",
   "metadata": {},
   "outputs": [],
   "source": []
  },
  {
   "cell_type": "code",
   "execution_count": null,
   "id": "1237698a",
   "metadata": {},
   "outputs": [],
   "source": [
    "syndigo_concat.shape"
   ]
  },
  {
   "cell_type": "code",
   "execution_count": null,
   "id": "20e0f4b0",
   "metadata": {},
   "outputs": [],
   "source": []
  }
 ],
 "metadata": {
  "kernelspec": {
   "display_name": "Python 3 (ipykernel)",
   "language": "python",
   "name": "python3"
  },
  "language_info": {
   "codemirror_mode": {
    "name": "ipython",
    "version": 3
   },
   "file_extension": ".py",
   "mimetype": "text/x-python",
   "name": "python",
   "nbconvert_exporter": "python",
   "pygments_lexer": "ipython3",
   "version": "3.10.9"
  }
 },
 "nbformat": 4,
 "nbformat_minor": 5
}
