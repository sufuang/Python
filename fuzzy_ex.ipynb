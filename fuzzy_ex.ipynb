{
 "cells": [
  {
   "cell_type": "code",
   "execution_count": 2,
   "id": "aab92385",
   "metadata": {},
   "outputs": [],
   "source": [
    "from rapidfuzz import process, fuzz,utils"
   ]
  },
  {
   "cell_type": "code",
   "execution_count": 3,
   "id": "e0f053fe",
   "metadata": {},
   "outputs": [
    {
     "name": "stdout",
     "output_type": "stream",
     "text": [
      "Similarity score: 85.71428571428572\n"
     ]
    },
    {
     "data": {
      "text/plain": [
       "'\\nSimilarity Score: 86\\n'"
      ]
     },
     "execution_count": 3,
     "metadata": {},
     "output_type": "execute_result"
    }
   ],
   "source": [
    "# Check the similarity score\n",
    "name = \"Kurtis Pykes\"\n",
    "full_name = \"Kurtis K D Pykes\"\n",
    "\n",
    "print(f\"Similarity score: {fuzz.ratio(name, full_name)}\")\n",
    "\n",
    "\"\"\"\n",
    "Similarity Score: 86\n",
    "\"\"\""
   ]
  },
  {
   "cell_type": "markdown",
   "id": "c1f922a8",
   "metadata": {},
   "source": [
    "##\n",
    " - the partial_ratio() seeks to find how partially similar two strings are. \n",
    " - Two strings are partially similar if they have some of the words in a common order. \n",
    " - The partial_ratio() calculates the similarity by taking the shortest string, which in this scenario is stored in the variable name, then compares it against the sub-strings of the same length in the longer string, which is stored in full_name. \n",
    " - Since order matters in partial ratio, our score dropped in this instance. Therefore, to get a 100% similarity match, you would have to move the \"K D\" part (signifying my middle name) to the end of the string. For example: "
   ]
  },
  {
   "cell_type": "code",
   "execution_count": 4,
   "id": "76c9fbd8",
   "metadata": {},
   "outputs": [
    {
     "name": "stdout",
     "output_type": "stream",
     "text": [
      "Similarity score: 73.6842105263158\n"
     ]
    },
    {
     "data": {
      "text/plain": [
       "'\\nSimilarity Score: 67\\n'"
      ]
     },
     "execution_count": 4,
     "metadata": {},
     "output_type": "execute_result"
    }
   ],
   "source": [
    "# Check the similarity score\n",
    "name = \"Kurtis Pykes\"\n",
    "full_name = \"Kurtis K D Pykes\"\n",
    "\n",
    "print(f\"Similarity score: {fuzz.partial_ratio(name, full_name)}\")\n",
    "\n",
    "\"\"\"\n",
    "Similarity Score: 67\n",
    "\"\"\""
   ]
  },
  {
   "cell_type": "code",
   "execution_count": 5,
   "id": "32390e0e",
   "metadata": {},
   "outputs": [
    {
     "name": "stdout",
     "output_type": "stream",
     "text": [
      "Partial ratio similarity score: 100.0\n",
      "Simple ratio similarity score: 85.71428571428572\n"
     ]
    },
    {
     "data": {
      "text/plain": [
       "'\\nPartial ratio similarity score: 100\\nSimple ratio similarity score: 86\\n'"
      ]
     },
     "execution_count": 5,
     "metadata": {},
     "output_type": "execute_result"
    }
   ],
   "source": [
    "# Order matters with partial ratio\n",
    "# Check the similarity score\n",
    "name = \"Kurtis Pykes\"\n",
    "full_name = \"Kurtis Pykes K D\"\n",
    "print(f\"Partial ratio similarity score: {fuzz.partial_ratio(name, full_name)}\")\n",
    "# But order will not effect simple ratio if strings do not match\n",
    "print(f\"Simple ratio similarity score: {fuzz.ratio(name, full_name)}\")\n",
    "\n",
    "\"\"\"\n",
    "Partial ratio similarity score: 100\n",
    "Simple ratio similarity score: 86\n",
    "\"\"\""
   ]
  },
  {
   "cell_type": "markdown",
   "id": "19ec6c94",
   "metadata": {},
   "source": [
    "## Token sort ratio\n",
    "  -  Token sort doesn’t care about what order words occur in. \n",
    "  -  It accounts for similar strings that aren’t in order as expressed above. "
   ]
  },
  {
   "cell_type": "code",
   "execution_count": 6,
   "id": "94723010",
   "metadata": {},
   "outputs": [
    {
     "name": "stdout",
     "output_type": "stream",
     "text": [
      "Token sort ratio similarity score: 100.0\n",
      "Partial ratio similarity score: 85.71428571428572\n",
      "Simple ratio similarity score: 85.71428571428572\n"
     ]
    },
    {
     "data": {
      "text/plain": [
       "'\\nToken sort ratio similarity score: 100\\nPartial ratio similarity score: 75\\nSimple ratio similarity score: 86\\n'"
      ]
     },
     "execution_count": 6,
     "metadata": {},
     "output_type": "execute_result"
    }
   ],
   "source": [
    "# Check the similarity score\n",
    "full_name = \"Kurtis K D Pykes\"\n",
    "full_name_reordered = \"Kurtis Pykes K D\"\n",
    "\n",
    "# Order does not matter for token sort ratio\n",
    "print(f\"Token sort ratio similarity score: {fuzz.token_sort_ratio(full_name_reordered, full_name)}\")\n",
    "\n",
    "# Order matters for partial ratio\n",
    "print(f\"Partial ratio similarity score: {fuzz.partial_ratio(full_name, full_name_reordered)}\")\n",
    "\n",
    "# Order will not effect simple ratio if strings do not match\n",
    "print(f\"Simple ratio similarity score: {fuzz.ratio(name, full_name)}\")\n",
    "\n",
    "\"\"\"\n",
    "Token sort ratio similarity score: 100\n",
    "Partial ratio similarity score: 75\n",
    "Simple ratio similarity score: 86\n",
    "\"\"\""
   ]
  },
  {
   "cell_type": "code",
   "execution_count": 7,
   "id": "482a80bb",
   "metadata": {},
   "outputs": [
    {
     "name": "stdout",
     "output_type": "stream",
     "text": [
      "Token sort ratio similarity score: 85.71428571428572\n"
     ]
    },
    {
     "data": {
      "text/plain": [
       "'\\nToken sort ratio similarity score: 86\\n'"
      ]
     },
     "execution_count": 7,
     "metadata": {},
     "output_type": "execute_result"
    }
   ],
   "source": [
    "# Check the similarity score\n",
    "name = \"Kurtis Pykes\"\n",
    "full_name = \"Kurtis K D Pykes\"\n",
    "\n",
    "print(f\"Token sort ratio similarity score: {fuzz.token_sort_ratio(name, full_name)}\")\n",
    "\n",
    "\"\"\"\n",
    "Token sort ratio similarity score: 86\n",
    "\"\"\""
   ]
  },
  {
   "cell_type": "markdown",
   "id": "4475da9c",
   "metadata": {},
   "source": [
    "##Token set ratio\n",
    " - The token_set_ratio() method is pretty similar to the token_sort_ratio(), except it takes out common tokens before calculating how similar the strings are: this is extremely helpful when the strings are significantly different in length. "
   ]
  },
  {
   "cell_type": "code",
   "execution_count": 8,
   "id": "50be886e",
   "metadata": {},
   "outputs": [
    {
     "name": "stdout",
     "output_type": "stream",
     "text": [
      "Token sort ratio similarity score: 100.0\n"
     ]
    },
    {
     "data": {
      "text/plain": [
       "'\\nToken sort ratio similarity score: 100\\n'"
      ]
     },
     "execution_count": 8,
     "metadata": {},
     "output_type": "execute_result"
    }
   ],
   "source": [
    "# Check the similarity score\n",
    "name = \"Kurtis Pykes\"\n",
    "full_name = \"Kurtis K D Pykes\"\n",
    "\n",
    "print(f\"Token sort ratio similarity score: {fuzz.token_set_ratio(name, full_name)}\")\n",
    "\n",
    "\"\"\"\n",
    "Token sort ratio similarity score: 100\n",
    "\"\"\""
   ]
  },
  {
   "cell_type": "markdown",
   "id": "31763df1",
   "metadata": {},
   "source": [
    "## The process module\n",
    " - The process module enables users to extract text from a collection using fuzzy string matching. Calling the extract() method on the process module returns the strings with a similarity score in a vector. For example: "
   ]
  },
  {
   "cell_type": "code",
   "execution_count": 10,
   "id": "d901336a",
   "metadata": {},
   "outputs": [
    {
     "name": "stdout",
     "output_type": "stream",
     "text": [
      "[('barcelona fc', 85.71428571428572, 2), ('AFC Barcelona', 72.72727272727273, 0), ('Barcelona AFC', 72.72727272727273, 1), ('afc barcalona', 72.72727272727273, 3)]\n"
     ]
    },
    {
     "data": {
      "text/plain": [
       "\"\\n[('barcelona fc', 86), ('AFC Barcelona', 82), ('Barcelona AFC', 82), ('afc barcalona', 73)]\\n\""
      ]
     },
     "execution_count": 10,
     "metadata": {},
     "output_type": "execute_result"
    }
   ],
   "source": [
    "#from thefuzz import process\n",
    "\n",
    "collection = [\"AFC Barcelona\", \"Barcelona AFC\", \"barcelona fc\", \"afc barcalona\"]\n",
    "print(process.extract(\"barcelona\", collection, scorer=fuzz.ratio))\n",
    "\n",
    "\"\"\"\n",
    "[('barcelona fc', 86), ('AFC Barcelona', 82), ('Barcelona AFC', 82), ('afc barcalona', 73)]\n",
    "\"\"\""
   ]
  },
  {
   "cell_type": "code",
   "execution_count": 2,
   "id": "efb5cfa0",
   "metadata": {},
   "outputs": [
    {
     "ename": "NameError",
     "evalue": "name 'fuzz' is not defined",
     "output_type": "error",
     "traceback": [
      "\u001b[1;31m---------------------------------------------------------------------------\u001b[0m",
      "\u001b[1;31mNameError\u001b[0m                                 Traceback (most recent call last)",
      "Cell \u001b[1;32mIn[2], line 4\u001b[0m\n\u001b[0;32m      1\u001b[0m \u001b[38;5;28;01mfrom\u001b[39;00m \u001b[38;5;21;01mthefuzz\u001b[39;00m \u001b[38;5;28;01mimport\u001b[39;00m process\n\u001b[0;32m      3\u001b[0m collection \u001b[38;5;241m=\u001b[39m [\u001b[38;5;124m\"\u001b[39m\u001b[38;5;124mAFC Barcelona\u001b[39m\u001b[38;5;124m\"\u001b[39m, \u001b[38;5;124m\"\u001b[39m\u001b[38;5;124mBarcelona AFC\u001b[39m\u001b[38;5;124m\"\u001b[39m, \u001b[38;5;124m\"\u001b[39m\u001b[38;5;124mbarcelona fc\u001b[39m\u001b[38;5;124m\"\u001b[39m, \u001b[38;5;124m\"\u001b[39m\u001b[38;5;124mafc barcalona\u001b[39m\u001b[38;5;124m\"\u001b[39m]\n\u001b[1;32m----> 4\u001b[0m \u001b[38;5;28mprint\u001b[39m(process\u001b[38;5;241m.\u001b[39mextract(\u001b[38;5;124m\"\u001b[39m\u001b[38;5;124mbarcelona\u001b[39m\u001b[38;5;124m\"\u001b[39m, collection, scorer\u001b[38;5;241m=\u001b[39m\u001b[43mfuzz\u001b[49m\u001b[38;5;241m.\u001b[39mratio))\n\u001b[0;32m      6\u001b[0m \u001b[38;5;124;03m\"\"\"\u001b[39;00m\n\u001b[0;32m      7\u001b[0m \u001b[38;5;124;03m[('barcelona fc', 86), ('AFC Barcelona', 82), ('Barcelona AFC', 82), ('afc barcalona', 73)]\u001b[39;00m\n\u001b[0;32m      8\u001b[0m \u001b[38;5;124;03m\"\"\"\u001b[39;00m\n",
      "\u001b[1;31mNameError\u001b[0m: name 'fuzz' is not defined"
     ]
    }
   ],
   "source": [
    "from thefuzz import process # pip install thefuzz\n",
    "\n",
    "collection = [\"AFC Barcelona\", \"Barcelona AFC\", \"barcelona fc\", \"afc barcalona\"]\n",
    "print(process.extract(\"barcelona\", collection, scorer=fuzz.ratio))\n",
    "\n",
    "\"\"\"\n",
    "[('barcelona fc', 86), ('AFC Barcelona', 82), ('Barcelona AFC', 82), ('afc barcalona', 73)]\n",
    "\"\"\""
   ]
  },
  {
   "cell_type": "code",
   "execution_count": null,
   "id": "ab8ee97b",
   "metadata": {},
   "outputs": [],
   "source": [
    "collection = [\"AFC Barcelona\", \"Barcelona AFC\", \"barcelona fc\", \"afc barcalona\"]\n",
    "print(process.extract(\"barcelona\", collection, scorer=fuzz.ratio))\n",
    "\n",
    "\"\"\"\n",
    "[('barcelona fc', 86), ('AFC Barcelona', 82), ('Barcelona AFC', 82), ('afc barcalona', 73)]\n",
    "\"\"\""
   ]
  },
  {
   "cell_type": "code",
   "execution_count": null,
   "id": "9a1e5dda",
   "metadata": {},
   "outputs": [],
   "source": [
    "##\n",
    " - pip install fuzzywuzzy\n",
    " - https://www.geeksforgeeks.org/fuzzywuzzy-python-library/   \n",
    " - https://stackoverflow.com/questions/63700620/pass-more-than-one-parameter-in-fuzzywuzzy   "
   ]
  },
  {
   "cell_type": "code",
   "execution_count": 6,
   "id": "839c135a",
   "metadata": {},
   "outputs": [
    {
     "name": "stdout",
     "output_type": "stream",
     "text": [
      "FuzzyWuzzy Ratio:  84\n",
      "FuzzyWuzzy PartialRatio:  85\n",
      "FuzzyWuzzy TokenSortRatio:  84\n",
      "FuzzyWuzzy TokenSetRatio:  86\n",
      "FuzzyWuzzy WRatio:  84 \n",
      "\n",
      "\n",
      "List of ratios: \n",
      "[('g. for geeks', 95), ('geek for geek', 93), ('geek geek', 86)] \n",
      "\n",
      "Best among the above list:  ('g. for geeks', 95)\n"
     ]
    },
    {
     "name": "stderr",
     "output_type": "stream",
     "text": [
      "C:\\Users\\iny2819\\AppData\\Local\\anaconda3\\lib\\site-packages\\fuzzywuzzy\\fuzz.py:11: UserWarning: Using slow pure-python SequenceMatcher. Install python-Levenshtein to remove this warning\n",
      "  warnings.warn('Using slow pure-python SequenceMatcher. Install python-Levenshtein to remove this warning')\n"
     ]
    }
   ],
   "source": [
    "from fuzzywuzzy import fuzz \n",
    "from fuzzywuzzy import process \n",
    "  \n",
    "s1 = \"I love GeeksforGeeks\"\n",
    "s2 = \"I am loving GeeksforGeeks\"\n",
    "print (\"FuzzyWuzzy Ratio: \", fuzz.ratio(s1, s2)) \n",
    "print (\"FuzzyWuzzy PartialRatio: \", fuzz.partial_ratio(s1, s2))\n",
    "print (\"FuzzyWuzzy TokenSortRatio: \", fuzz.token_sort_ratio(s1, s2)) \n",
    "print (\"FuzzyWuzzy TokenSetRatio: \", fuzz.token_set_ratio(s1, s2)) \n",
    "print (\"FuzzyWuzzy WRatio: \", fuzz.WRatio(s1, s2),'\\n\\n')\n",
    "  \n",
    "# for process library, \n",
    "query = 'geeks for geeks'\n",
    "choices = ['geek for geek', 'geek geek', 'g. for geeks']  \n",
    "print (\"List of ratios: \")\n",
    "print (process.extract(query, choices), '\\n')\n",
    "print (\"Best among the above list: \",process.extractOne(query, choices)) "
   ]
  },
  {
   "cell_type": "code",
   "execution_count": 7,
   "id": "a14758b6",
   "metadata": {},
   "outputs": [
    {
     "name": "stdout",
     "output_type": "stream",
     "text": [
      "[('g. for geeks', 95), ('geek for geek', 93), ('geek geek', 86)] \n",
      "\n"
     ]
    }
   ],
   "source": [
    "print (process.extract(query, choices, scorer = fuzz.WRatio), '\\n')"
   ]
  },
  {
   "cell_type": "code",
   "execution_count": 1,
   "id": "89957313",
   "metadata": {},
   "outputs": [
    {
     "name": "stdout",
     "output_type": "stream",
     "text": [
      "FuzzyWuzzy Ratio:  84\n",
      "FuzzyWuzzy PartialRatio:  85\n",
      "FuzzyWuzzy TokenSortRatio:  84\n",
      "FuzzyWuzzy TokenSetRatio:  86\n",
      "FuzzyWuzzy WRatio:  84 \n",
      "\n",
      "\n",
      "List of ratios: \n",
      "[('geek for geek', 93)] \n",
      "\n",
      "Best among the above list:  ('geek for geek', 93)\n"
     ]
    },
    {
     "name": "stderr",
     "output_type": "stream",
     "text": [
      "C:\\Users\\iny2819\\AppData\\Local\\anaconda3\\lib\\site-packages\\fuzzywuzzy\\fuzz.py:11: UserWarning: Using slow pure-python SequenceMatcher. Install python-Levenshtein to remove this warning\n",
      "  warnings.warn('Using slow pure-python SequenceMatcher. Install python-Levenshtein to remove this warning')\n"
     ]
    }
   ],
   "source": [
    "from fuzzywuzzy import fuzz \n",
    "from fuzzywuzzy import process \n",
    "  \n",
    "s1 = \"I love GeeksforGeeks\"\n",
    "s2 = \"I am loving GeeksforGeeks\"\n",
    "print (\"FuzzyWuzzy Ratio: \", fuzz.ratio(s1, s2)) \n",
    "print (\"FuzzyWuzzy PartialRatio: \", fuzz.partial_ratio(s1, s2))\n",
    "print (\"FuzzyWuzzy TokenSortRatio: \", fuzz.token_sort_ratio(s1, s2)) \n",
    "print (\"FuzzyWuzzy TokenSetRatio: \", fuzz.token_set_ratio(s1, s2)) \n",
    "print (\"FuzzyWuzzy WRatio: \", fuzz.WRatio(s1, s2),'\\n\\n')\n",
    "  \n",
    "# for process library, \n",
    "query = 'geeks for geeks'\n",
    "#choices = ['geek for geek', 'geek geek', 'g. for geeks']  \n",
    "choices = ['geek for geek']  \n",
    "print (\"List of ratios: \")\n",
    "print (process.extract(query, choices), '\\n')\n",
    "print (\"Best among the above list: \",process.extractOne(query, choices)) "
   ]
  },
  {
   "cell_type": "code",
   "execution_count": null,
   "id": "ede3e624",
   "metadata": {},
   "outputs": [],
   "source": [
    "   result = process.extractBests(choice,\n",
    "                                  strings,\n",
    "                                  scorer=scorer,\n",
    "                                  processor=processor,\n",
    "                                  score_cutoff=100,\n",
    "                                  limit=None)"
   ]
  },
  {
   "cell_type": "code",
   "execution_count": 1,
   "id": "f49b183e",
   "metadata": {},
   "outputs": [
    {
     "data": {
      "text/plain": [
       "[('New York Jets', 76.92307692307692, 1),\n",
       " ('New York Giants', 64.28571428571428, 2)]"
      ]
     },
     "execution_count": 1,
     "metadata": {},
     "output_type": "execute_result"
    }
   ],
   "source": [
    "from rapidfuzz import process, fuzz\n",
    "choices = [\"Atlanta Falcons\", \"New York Jets\", \"New York Giants\", \"Dallas Cowboys\"]\n",
    "process.extract(\"new york jets\", choices, scorer=fuzz.WRatio, limit=2)\n",
    "#[('New York Jets', 100.0, 1), ('New York Giants', 78.57142857142857, 2)]\n"
   ]
  },
  {
   "cell_type": "code",
   "execution_count": 2,
   "id": "26dd6547",
   "metadata": {},
   "outputs": [
    {
     "data": {
      "text/plain": [
       "('Dallas Cowboys', 83.07692307692308, 3)"
      ]
     },
     "execution_count": 2,
     "metadata": {},
     "output_type": "execute_result"
    }
   ],
   "source": [
    "process.extractOne(\"cowboys\", choices, scorer=fuzz.WRatio)\n",
    "#('Dallas Cowboys', 90.0, 3)"
   ]
  },
  {
   "cell_type": "code",
   "execution_count": 3,
   "id": "15d98cc7",
   "metadata": {},
   "outputs": [
    {
     "data": {
      "text/plain": [
       "('New York Jets', 76.92307692307692, 1)"
      ]
     },
     "execution_count": 3,
     "metadata": {},
     "output_type": "execute_result"
    }
   ],
   "source": [
    "process.extractOne(\"new york jets\", choices, scorer=fuzz.WRatio)"
   ]
  },
  {
   "cell_type": "code",
   "execution_count": 14,
   "id": "b8222dcb",
   "metadata": {},
   "outputs": [
    {
     "name": "stdout",
     "output_type": "stream",
     "text": [
      " process.extract(\"barcelona\",choice, scorer=fuzz.token_set_ratio) \n",
      "        result [('barcelona fc', 100.0, 2), ('AFC Barcelona', 72.72727272727272, 0), ('Barcelona AFC', 72.72727272727272, 1), ('afc barcalona', 72.72727272727272, 3)]\n",
      " process.extract(\"barcelona\",choice, scorer=fuzz.token_set_ratio,  processor=utils.default_process) \n",
      "        result [('AFC Barcelona', 100.0, 0), ('Barcelona AFC', 100.0, 1), ('barcelona fc', 100.0, 2), ('afc barcalona', 72.72727272727272, 3)]\n"
     ]
    }
   ],
   "source": [
    "import pandas as pd\n",
    "pd.options.display.float_format = '{:20,.2f}'.format\n",
    "from rapidfuzz import process, fuzz,utils\n",
    "choice = [\"AFC Barcelona\", \"Barcelona AFC\", \"barcelona fc\", \"afc barcalona\"]\n",
    "print(f' process.extract(\"barcelona\",choice, scorer=fuzz.token_set_ratio) \\n  \\\n",
    "      result {process.extract(\"barcelona\",choice, scorer=fuzz.token_set_ratio)}')\n",
    "print(f' process.extract(\"barcelona\",choice, scorer=fuzz.token_set_ratio,  processor=utils.default_process) \\n  \\\n",
    "      result {process.extract(\"barcelona\",choice, scorer=fuzz.token_set_ratio,  processor=utils.default_process)}')\n",
    "\n"
   ]
  },
  {
   "cell_type": "code",
   "execution_count": null,
   "id": "34506a1b",
   "metadata": {},
   "outputs": [],
   "source": []
  }
 ],
 "metadata": {
  "kernelspec": {
   "display_name": "Python 3 (ipykernel)",
   "language": "python",
   "name": "python3"
  },
  "language_info": {
   "codemirror_mode": {
    "name": "ipython",
    "version": 3
   },
   "file_extension": ".py",
   "mimetype": "text/x-python",
   "name": "python",
   "nbconvert_exporter": "python",
   "pygments_lexer": "ipython3",
   "version": "3.10.9"
  }
 },
 "nbformat": 4,
 "nbformat_minor": 5
}
