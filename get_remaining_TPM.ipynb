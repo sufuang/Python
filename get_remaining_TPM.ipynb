{
 "cells": [
  {
   "cell_type": "markdown",
   "metadata": {
    "application/vnd.databricks.v1+cell": {
     "cellMetadata": {
      "byteLimit": 2048000,
      "rowLimit": 10000
     },
     "inputWidgets": {},
     "nuid": "6361f3cc-6070-403f-9798-7e655c2f4aae",
     "showTitle": false,
     "title": ""
    }
   },
   "source": [
    "## To check the remaining TPM (Transactions Per Minute) of a deployment in Azure OpenAI \n",
    " - Use the Azure SDK for Python to create a client for the LUIS (Language Understanding) Runtime API. \n",
    " - Initialize the client with the LUIS endpoint and subscription key.\n",
    " - The get_remaining_tpm function takes the LUIS app ID, app version ID, and deployment ID as input. \n",
    " - It uses the LUIS Runtime client to get the endpoint info for the specified deployment. - - From the endpoint info, we extract the remaining TPM value.\n",
    " - Call the get_remaining_tpm function and print the remaining TPM value. \n",
    " - Replace YOUR_LUIS_ENDPOINT, YOUR_SUBSCRIPTION_KEY, YOUR_LUIS_APP_ID, YOUR_LUIS_APP_VERSION_ID, and YOUR_LUIS_DEPLOYMENT_ID with your actual values."
   ]
  },
  {
   "cell_type": "code",
   "execution_count": 0,
   "metadata": {
    "application/vnd.databricks.v1+cell": {
     "cellMetadata": {},
     "inputWidgets": {},
     "nuid": "d7331efe-4d94-46fb-a336-e124c8b840fd",
     "showTitle": false,
     "title": ""
    }
   },
   "outputs": [],
   "source": [
    "from azure.identity import DefaultAzureCredential\n",
    "from azure.cognitiveservices.language.luis.runtime import LUISRuntimeClient\n",
    "\n",
    "# Initialize the Azure Cognitive Services client\n",
    "endpoint = \"https://<YOUR_LUIS_ENDPOINT>\"\n",
    "subscription_key = \"<YOUR_SUBSCRIPTION_KEY>\"\n",
    "credential = DefaultAzureCredential()\n",
    "client = LUISRuntimeClient(endpoint, credential)\n",
    "\n",
    "# Get the remaining quota for the deployment\n",
    "def get_remaining_tpm():\n",
    "    app_id = \"<YOUR_LUIS_APP_ID>\"\n",
    "    version_id = \"<YOUR_LUIS_APP_VERSION_ID>\"\n",
    "    deployment_id = \"<YOUR_LUIS_DEPLOYMENT_ID>\"\n",
    "    \n",
    "    # Get the endpoint info\n",
    "    endpoint_info = client.apps.get_endpoint_info(app_id, version_id, deployment_id)\n",
    "    \n",
    "    # Get the remaining TPM\n",
    "    remaining_tpm = endpoint_info.quota_remaining\n",
    "    return remaining_tpm\n",
    "\n",
    "# Call the function to get the remaining TPM\n",
    "remaining_tpm = get_remaining_tpm()\n",
    "print(\"Remaining TPM:\", remaining_tpm)\n"
   ]
  }
 ],
 "metadata": {
  "application/vnd.databricks.v1+notebook": {
   "dashboards": [],
   "language": "python",
   "notebookMetadata": {
    "pythonIndentUnit": 4
   },
   "notebookName": "get_remaining_TPM",
   "widgets": {}
  }
 },
 "nbformat": 4,
 "nbformat_minor": 0
}
