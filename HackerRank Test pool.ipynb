{
 "cells": [
  {
   "cell_type": "markdown",
   "metadata": {},
   "source": [
    "# HackerRank Test pool"
   ]
  },
  {
   "cell_type": "markdown",
   "metadata": {},
   "source": [
    "## Day 7: Reverse the order of an array\n",
    "- No build in type for array; Using list to build an array\n",
    "  1. Use a 'recversed' function to reverse lst/array; \n",
    "     - input/output\n",
    "       - input: array/list\n",
    "       - output: iterator \n",
    "     - Use a 'reversed' function to reverse a list 'cars\"  \n",
    "       - rev_cars = reversed(cars) will create a 'list_reverseiterator 'rev_cars'\n",
    "     - Can't use print to print rev_cars\n",
    "     - Need to use a loop to print rev_cars \n",
    "     - iterator\n",
    "       - After completing the iterator, rev_cars will be empty \n",
    "       \n",
    "  2. Use slicing cars_rev =  cars[::-1] to reverse the order\n",
    "     - input/output\n",
    "       - input: array/list\n",
    "       - output: list \n",
    "     - Use a 'reversed' function to reverse a list 'cars\"  \n",
    "     - Can use print to print cars_rev   "
   ]
  },
  {
   "cell_type": "code",
   "execution_count": 3,
   "metadata": {},
   "outputs": [
    {
     "data": {
      "text/plain": [
       "<list_reverseiterator at 0x2123c012100>"
      ]
     },
     "execution_count": 3,
     "metadata": {},
     "output_type": "execute_result"
    }
   ],
   "source": [
    "cars = [\"Ford\", \"Volvo\", \"BMW\"]\n",
    "reversed(cars) # Not change the value of cars -> Ford', 'Volvo', 'BMW']"
   ]
  },
  {
   "cell_type": "raw",
   "metadata": {},
   "source": []
  },
  {
   "cell_type": "code",
   "execution_count": 16,
   "metadata": {},
   "outputs": [],
   "source": [
    "rev_cars = reversed(cars) "
   ]
  },
  {
   "cell_type": "raw",
   "metadata": {},
   "source": []
  },
  {
   "cell_type": "code",
   "execution_count": 10,
   "metadata": {},
   "outputs": [],
   "source": [
    "# print(rev_cars)  # <list_reverseiterator object at 0x000002123C012130>"
   ]
  },
  {
   "cell_type": "code",
   "execution_count": 17,
   "metadata": {},
   "outputs": [
    {
     "name": "stdout",
     "output_type": "stream",
     "text": [
      "BMWVolvoFord"
     ]
    }
   ],
   "source": [
    "for item in rev_cars:\n",
    "    print(item, end = '')"
   ]
  },
  {
   "cell_type": "raw",
   "metadata": {},
   "source": [
    "for item in rev_cars:\n",
    "    pr int(item, end = '')"
   ]
  },
  {
   "cell_type": "code",
   "execution_count": 18,
   "metadata": {},
   "outputs": [
    {
     "name": "stdout",
     "output_type": "stream",
     "text": [
      "BMW Volvo Ford "
     ]
    }
   ],
   "source": [
    "rev_cars = reversed(cars) \n",
    "for item in rev_cars:\n",
    "    print(item, end = ' ')"
   ]
  },
  {
   "cell_type": "code",
   "execution_count": 19,
   "metadata": {},
   "outputs": [],
   "source": [
    "for item in rev_cars:\n",
    "    print(item, end = ' ')  # After print and print  again; Nothing to print out; Need to reverse car anain and print  "
   ]
  },
  {
   "cell_type": "raw",
   "metadata": {},
   "source": []
  },
  {
   "cell_type": "code",
   "execution_count": 21,
   "metadata": {},
   "outputs": [],
   "source": [
    "cars_rev = cars[::-1]  "
   ]
  },
  {
   "cell_type": "code",
   "execution_count": 23,
   "metadata": {},
   "outputs": [
    {
     "data": {
      "text/plain": [
       "list"
      ]
     },
     "execution_count": 23,
     "metadata": {},
     "output_type": "execute_result"
    }
   ],
   "source": [
    "#cars_rev #  ['BMW', 'Volvo', 'Ford']  with type:  list\n",
    "type(cars_rev)"
   ]
  },
  {
   "cell_type": "markdown",
   "metadata": {},
   "source": [
    "##  Day 3: Intro to Conditional Statements\n",
    "\n",
    "- Objective \n",
    " In this challenge, we're getting started with conditional statements. \n",
    "- Task \n",
    "  - Given an integer, perform the following conditional actions:\n",
    "    - If  is odd, print Weird\n",
    "    - If  is even and in the inclusive range of 2 to 5 , print Not Weird\n",
    "    - If  is even and in the inclusive range of 6 to n, print Weird\n",
    "    - If  is even and greater than n, print Not Weird\n"
   ]
  },
  {
   "cell_type": "code",
   "execution_count": 38,
   "metadata": {},
   "outputs": [],
   "source": [
    "# a % b : retrun the reminder\n",
    "def  check_even(num):\n",
    "    if num % 2 != 0:\n",
    "       print(\"wierd\") \n",
    "    elif 2<= num and num <= 5:\n",
    "        print(\"no wierd\")\n",
    "    elif num <= 6 and num <= 20:\n",
    "        print(\"wierd\")\n",
    "    else:\n",
    "        if num > 20:\n",
    "            print(\"no wierd\")"
   ]
  },
  {
   "cell_type": "code",
   "execution_count": 41,
   "metadata": {},
   "outputs": [
    {
     "name": "stdout",
     "output_type": "stream",
     "text": [
      "no wierd\n",
      "wierd\n"
     ]
    }
   ],
   "source": [
    "check_even(2)\n",
    "check_even(9)\n",
    "check_even(18)"
   ]
  },
  {
   "cell_type": "markdown",
   "metadata": {},
   "source": [
    "## Day 4: Class vs. Instance\n",
    " - Build class Person with method\n",
    "   1. yearPasses() should increase the  instance variable by 1.\n",
    "   2. amIOld() should perform the following conditional actions:\n",
    "     - If age < 13, print You are young..\n",
    "     - If age >= 13 and age < 18, print You are a teenager.\n",
    "     - Otherwise, print You are old.\n",
    "  - Constraints    \n",
    "    - 1 <= T<= 4 (T no of test case)\n",
    "    - 5 <= age <= 30  "
   ]
  },
  {
   "cell_type": "code",
   "execution_count": 48,
   "metadata": {},
   "outputs": [],
   "source": [
    "class Person:\n",
    "    def __init__(self, age):\n",
    "        if age < 0:\n",
    "           self.age = 0\n",
    "        else:\n",
    "            self.age = age\n",
    "            \n",
    "    def yearPasses(self):   \n",
    "        self.age += 1\n",
    "        \n",
    "    def amIOld(self):\n",
    "        if self.age < 13:\n",
    "            print(f\"age = {self.age} you are young\")\n",
    "        elif self.age <= 13 and self.age < 18:\n",
    "             print(f\"age = {self.age}you are teenager\")\n",
    "        else:\n",
    "             print(f\"age = {self.age} you are old\")    \n",
    "                 "
   ]
  },
  {
   "cell_type": "code",
   "execution_count": 49,
   "metadata": {},
   "outputs": [
    {
     "name": "stdout",
     "output_type": "stream",
     "text": [
      "age = 1 you are young\n",
      "age = 4 you are young\n",
      "age = 6 you are young\n",
      "age = 9 you are young\n",
      "age = 16 you are old\n",
      "age = 19 you are old\n",
      "age = 21 you are old\n",
      "age = 24 you are old\n"
     ]
    }
   ],
   "source": [
    "l_age = [-1, 5, 15, 20]\n",
    "for age in l_age:\n",
    "    p = Person(age)\n",
    "    p.yearPasses()\n",
    "    p.amIOld()\n",
    "    for j in range(3):\n",
    "       p.yearPasses()  \n",
    "    p.amIOld()"
   ]
  },
  {
   "cell_type": "markdown",
   "metadata": {},
   "source": [
    "## Find the second largest number"
   ]
  },
  {
   "cell_type": "code",
   "execution_count": 26,
   "metadata": {},
   "outputs": [
    {
     "data": {
      "text/plain": [
       "5"
      ]
     },
     "execution_count": 26,
     "metadata": {},
     "output_type": "execute_result"
    }
   ],
   "source": [
    "l_num = [2,1,7,5]\n",
    "# print( l_num.sort(reverse = True).[1])   # invalid syntax\n",
    "l_num.sort(reverse = True)\n",
    "l_num[1]"
   ]
  },
  {
   "cell_type": "markdown",
   "metadata": {},
   "source": [
    "## Python program to demonstrate Basic Euclidean Algorithm \n",
    "   - Function to return gcd of a and b \n",
    "     - GCD of two numbers is the largest number that divides both of them. \n",
    "       - A simple way to find GCD is to factorize both numbers and multiply common factors \n",
    "       - Example\n",
    "          - 36 = 2 x 2 x 3 x 3\n",
    "          - 60 = 2 x 2 x 3 x 5\n",
    "       - GCD is a build-in function under 'math'   \n",
    "     - LCM (Least Common Multiple)\n",
    "     - Example\n",
    "          - Multiple of 21: 21, 42, 63,85, 105,....\n",
    "          - Multiples of 35: 35, 70, 105,  ....\n",
    "          - LCM (21, 35) = 105\n",
    "     - LCM is a build-in function under 'math' in python 9.3 (Not stable)    "
   ]
  },
  {
   "cell_type": "code",
   "execution_count": 31,
   "metadata": {},
   "outputs": [
    {
     "name": "stdout",
     "output_type": "stream",
     "text": [
      "gcd( 10 , 15 ) =  5\n",
      "gcd( 35 , 10 ) =  5\n",
      "gcd( 31 , 2 ) =  1\n"
     ]
    }
   ],
   "source": [
    "# Example of recursive\n",
    "def gcd(a, b):  \n",
    "    if a == 0 : \n",
    "        return b  \n",
    "      \n",
    "    return gcd(b%a, a) \n",
    "  \n",
    "a = 10\n",
    "b = 15\n",
    "print(\"gcd(\", a , \",\" , b, \") = \", gcd(a, b)) \n",
    "# gcb(15, 10) -> gcb(5, 10) -> gcb (5, 5) -> return 5  \n",
    "a = 35\n",
    "b = 10\n",
    "print(\"gcd(\", a , \",\" , b, \") = \", gcd(a, b)) \n",
    "  \n",
    "a = 31\n",
    "b = 2\n",
    "print(\"gcd(\", a , \",\" , b, \") = \", gcd(a, b)) "
   ]
  },
  {
   "cell_type": "code",
   "execution_count": 33,
   "metadata": {},
   "outputs": [
    {
     "data": {
      "text/plain": [
       "5"
      ]
     },
     "execution_count": 33,
     "metadata": {},
     "output_type": "execute_result"
    }
   ],
   "source": [
    "15%10; "
   ]
  },
  {
   "cell_type": "code",
   "execution_count": 34,
   "metadata": {},
   "outputs": [
    {
     "data": {
      "text/plain": [
       "5"
      ]
     },
     "execution_count": 34,
     "metadata": {},
     "output_type": "execute_result"
    }
   ],
   "source": [
    "5%10"
   ]
  },
  {
   "cell_type": "code",
   "execution_count": 35,
   "metadata": {},
   "outputs": [
    {
     "data": {
      "text/plain": [
       "0"
      ]
     },
     "execution_count": 35,
     "metadata": {},
     "output_type": "execute_result"
    }
   ],
   "source": [
    "5%5"
   ]
  },
  {
   "cell_type": "code",
   "execution_count": 30,
   "metadata": {},
   "outputs": [
    {
     "data": {
      "text/plain": [
       "7"
      ]
     },
     "execution_count": 30,
     "metadata": {},
     "output_type": "execute_result"
    }
   ],
   "source": [
    "math.gcd(21, 35)"
   ]
  },
  {
   "cell_type": "code",
   "execution_count": 29,
   "metadata": {},
   "outputs": [
    {
     "data": {
      "text/plain": [
       "105"
      ]
     },
     "execution_count": 29,
     "metadata": {},
     "output_type": "execute_result"
    }
   ],
   "source": [
    "import math\n",
    "def lcm(a, b):\n",
    "    return abs(a*b) // math.gcd(a, b)\n",
    "\n",
    "lcm(21, 35)   # 105\n"
   ]
  },
  {
   "cell_type": "markdown",
   "metadata": {},
   "source": [
    "## Email Verification "
   ]
  },
  {
   "cell_type": "markdown",
   "metadata": {},
   "source": [
    "## Read a file and remove the traing spaceDiagonal Difference\n",
    "\n",
    "- https://www.geeksforgeeks.org/find-difference-between-sums-of-two-diagonals/"
   ]
  },
  {
   "cell_type": "markdown",
   "metadata": {},
   "source": [
    "## Lambda, map, Filter\n",
    " - map() \n",
    "   - Functional programming\n",
    "   - Pass in a function and an iterable, and map() will create an object.\n",
    "   - map(func, seq) ->  Irerator"
   ]
  },
  {
   "cell_type": "code",
   "execution_count": 52,
   "metadata": {},
   "outputs": [
    {
     "data": {
      "text/plain": [
       "[1.18, 25.44, 62.47, 4.92, 7.32]"
      ]
     },
     "execution_count": 52,
     "metadata": {},
     "output_type": "execute_result"
    }
   ],
   "source": [
    "# final_prices = round(map(get_price_with_tax, txns), 2) -> NW  type map doesn't define __round__ method\n",
    "# apply round inside the function \n",
    "txns = [1.09, 23.56, 57.84, 4.56, 6.78]\n",
    "TAX_RATE = .08\n",
    "def get_price_with_tax(txn):\n",
    "    return round(txn * (1 + TAX_RATE), 2)\n",
    "final_prices = map(get_price_with_tax, txns)  # map  object\n",
    "\n",
    "list(final_prices) # [1.18, 25.44, 62.47, 4.92, 7.32]\n"
   ]
  },
  {
   "cell_type": "code",
   "execution_count": 70,
   "metadata": {},
   "outputs": [
    {
     "data": {
      "text/plain": [
       "[('dave', 'B', 10), ('jane', 'B', 12), ('john', 'A', 15)]"
      ]
     },
     "execution_count": 70,
     "metadata": {},
     "output_type": "execute_result"
    }
   ],
   "source": [
    "#Labda in key sort\n",
    "student_tuples = [\n",
    "    ('john', 'A', 15),\n",
    "    ('jane', 'B', 12),\n",
    "    ('dave', 'B', 10),]\n",
    "sorted(student_tuples, key=lambda student: student[2])   # sort by age [('dave', 'B', 10), ('jane', 'B', 12), ('john', 'A', 15)]\n"
   ]
  },
  {
   "cell_type": "code",
   "execution_count": null,
   "metadata": {},
   "outputs": [],
   "source": [
    "# map() also operates lazily, meaning memory won’t be an issue if you choose to use it in this\n",
    "sum(map(lambda i: i*i, range(1000000000)))"
   ]
  },
  {
   "cell_type": "code",
   "execution_count": 65,
   "metadata": {},
   "outputs": [
    {
     "data": {
      "text/plain": [
       "<map at 0x2123c1026d0>"
      ]
     },
     "execution_count": 65,
     "metadata": {},
     "output_type": "execute_result"
    }
   ],
   "source": [
    "map(lambda x: print(x*10), range(10))"
   ]
  },
  {
   "cell_type": "code",
   "execution_count": 66,
   "metadata": {},
   "outputs": [
    {
     "name": "stdout",
     "output_type": "stream",
     "text": [
      "<map object at 0x000002123C102EE0>\n"
     ]
    }
   ],
   "source": [
    "print(map(lambda x: x*10, range(10)))"
   ]
  },
  {
   "cell_type": "code",
   "execution_count": 67,
   "metadata": {},
   "outputs": [
    {
     "name": "stdout",
     "output_type": "stream",
     "text": [
      "[0, 10, 20, 30, 40, 50, 60, 70, 80, 90]\n"
     ]
    }
   ],
   "source": [
    "print(list(map(lambda x: x*10, range(10))))"
   ]
  },
  {
   "cell_type": "markdown",
   "metadata": {},
   "source": [
    "### performance "
   ]
  },
  {
   "cell_type": "code",
   "execution_count": null,
   "metadata": {},
   "outputs": [],
   "source": [
    "import random\n",
    "import timeit\n",
    "TAX_RATE = .08\n",
    "txns = [random.randrange(100) for _ in range(100000)]\n",
    "def get_price(txn):\n",
    "    return txn * (1 + TAX_RATE)\n",
    "def get_prices_with_map():\n",
    "    return list(map(get_price, txns))\n",
    "def get_prices_with_comprehension():\n",
    "    return [get_price(txn) for txn in txns]\n",
    "def get_prices_with_loop():\n",
    "    prices = []\n",
    "    for txn in txns:\n",
    "        prices.append(get_price(txn))\n",
    "    return prices\n",
    "timeit.timeit(get_prices_with_map, number=100) # .0554370979998566\n",
    "timeit.timeit(get_prices_with_comprehension, number=100) # 2.3982384680002724\n",
    "timeit.timeit(get_prices_with_loop, number=100) # 3.0531821520007725"
   ]
  },
  {
   "cell_type": "code",
   "execution_count": 68,
   "metadata": {},
   "outputs": [
    {
     "ename": "TypeError",
     "evalue": "can't multiply sequence by non-int of type 'float'",
     "output_type": "error",
     "traceback": [
      "\u001b[1;31m---------------------------------------------------------------------------\u001b[0m",
      "\u001b[1;31mTypeError\u001b[0m                                 Traceback (most recent call last)",
      "\u001b[1;32m<ipython-input-68-afc267f7d116>\u001b[0m in \u001b[0;36m<module>\u001b[1;34m\u001b[0m\n\u001b[1;32m----> 1\u001b[1;33m \u001b[0mlist\u001b[0m\u001b[1;33m(\u001b[0m\u001b[0mmap\u001b[0m\u001b[1;33m(\u001b[0m\u001b[1;32mlambda\u001b[0m \u001b[0mtax\u001b[0m\u001b[1;33m:\u001b[0m \u001b[0mfloat\u001b[0m\u001b[1;33m(\u001b[0m\u001b[0mtax\u001b[0m\u001b[1;33m)\u001b[0m \u001b[1;33m*\u001b[0m \u001b[1;34mf'{TAX_RATE:.2}'\u001b[0m\u001b[1;33m,\u001b[0m  \u001b[0mtxns\u001b[0m\u001b[1;33m)\u001b[0m\u001b[1;33m)\u001b[0m \u001b[1;31m#  can't multiply sequence by non-int of type 'float'\u001b[0m\u001b[1;33m\u001b[0m\u001b[1;33m\u001b[0m\u001b[0m\n\u001b[0m",
      "\u001b[1;32m<ipython-input-68-afc267f7d116>\u001b[0m in \u001b[0;36m<lambda>\u001b[1;34m(tax)\u001b[0m\n\u001b[1;32m----> 1\u001b[1;33m \u001b[0mlist\u001b[0m\u001b[1;33m(\u001b[0m\u001b[0mmap\u001b[0m\u001b[1;33m(\u001b[0m\u001b[1;32mlambda\u001b[0m \u001b[0mtax\u001b[0m\u001b[1;33m:\u001b[0m \u001b[0mfloat\u001b[0m\u001b[1;33m(\u001b[0m\u001b[0mtax\u001b[0m\u001b[1;33m)\u001b[0m \u001b[1;33m*\u001b[0m \u001b[1;34mf'{TAX_RATE:.2}'\u001b[0m\u001b[1;33m,\u001b[0m  \u001b[0mtxns\u001b[0m\u001b[1;33m)\u001b[0m\u001b[1;33m)\u001b[0m \u001b[1;31m#  can't multiply sequence by non-int of type 'float'\u001b[0m\u001b[1;33m\u001b[0m\u001b[1;33m\u001b[0m\u001b[0m\n\u001b[0m",
      "\u001b[1;31mTypeError\u001b[0m: can't multiply sequence by non-int of type 'float'"
     ]
    }
   ],
   "source": [
    "list(map(lambda tax: float(tax) * f'{TAX_RATE:.2}',  txns)) #  can't multiply sequence by non-int of type 'float'"
   ]
  },
  {
   "cell_type": "markdown",
   "metadata": {},
   "source": [
    "### Filter\n",
    " - filter(function, sequence)\n",
    " - filter out all the elements of a sequence \"sequence\", for which the function function returns True\n",
    "    - an item will be produced by the iterator result of filter(function, sequence) \n",
    "      - if item is included in the sequence \"sequence\" and if function(item) returns True."
   ]
  },
  {
   "cell_type": "code",
   "execution_count": null,
   "metadata": {},
   "outputs": [],
   "source": [
    "\n",
    "fibonacci = [0,1,1,2,3,5,8,13,21,34,55]\n",
    "odd_numbers = list(filter(lambda x: x % 2, fibonacci))\n",
    "print(odd_numbers) # [1, 1, 3, 5, 13, 21, 55]\n",
    "even_numbers = list(filter(lambda x: x % 2 == 0, fibonacci))\n",
    "print(even_numbers) # [0, 2, 8, 34]\n",
    "even_numbers = list(filter(lambda x: x % 2 -1, fibonacci))\n",
    "[0, 2, 8, 34]"
   ]
  },
  {
   "cell_type": "code",
   "execution_count": 59,
   "metadata": {},
   "outputs": [
    {
     "data": {
      "text/plain": [
       "[0.08720000000000001, 1.8848, 4.6272, 0.36479999999999996, 0.5424]"
      ]
     },
     "execution_count": 59,
     "metadata": {},
     "output_type": "execute_result"
    }
   ],
   "source": [
    "list(map(lambda tax: tax * .08,  txns))"
   ]
  },
  {
   "cell_type": "markdown",
   "metadata": {},
   "source": [
    "### Using List Comprehensions\n",
    " - new_list = [expression for member in iterable]\n",
    " - new_list = [expression for member in iterable (if conditional)]\n",
    " - new_list = [expression (if conditional) for member in iterable]"
   ]
  },
  {
   "cell_type": "code",
   "execution_count": null,
   "metadata": {},
   "outputs": [],
   "source": [
    " final_prices = [get_price_with_tax(i) for i in txns]"
   ]
  },
  {
   "cell_type": "code",
   "execution_count": 61,
   "metadata": {},
   "outputs": [
    {
     "data": {
      "text/plain": [
       "['e', 'o', 'e', 'a', 'e', 'a', 'o', 'a']"
      ]
     },
     "execution_count": 61,
     "metadata": {},
     "output_type": "execute_result"
    }
   ],
   "source": [
    "sentence = 'the rocket came back from mars'\n",
    "vowels = [i for i in sentence if i in 'aeiou']\n",
    "vowels # ['e', 'o', 'e', 'a', 'e', 'a', 'o', 'a']"
   ]
  },
  {
   "cell_type": "code",
   "execution_count": 62,
   "metadata": {},
   "outputs": [
    {
     "data": {
      "text/plain": [
       "[1.25, 0, 10.22, 3.78, 0, 1.16]"
      ]
     },
     "execution_count": 62,
     "metadata": {},
     "output_type": "execute_result"
    }
   ],
   "source": [
    "original_prices = [1.25, -9.45, 10.22, 3.78, -5.92, 1.16]\n",
    "prices = [i if i > 0 else 0 for i in original_prices]\n",
    "prices # [1.25, 0, 10.22, 3.78, 0, 1.16]"
   ]
  },
  {
   "cell_type": "code",
   "execution_count": 63,
   "metadata": {},
   "outputs": [
    {
     "data": {
      "text/plain": [
       "[1.25, 0, 10.22, 3.78, 0, 1.16]"
      ]
     },
     "execution_count": 63,
     "metadata": {},
     "output_type": "execute_result"
    }
   ],
   "source": [
    "def get_price(price):\n",
    "    return price if price > 0 else 0\n",
    "prices = [get_price(i) for i in original_prices]\n",
    "prices # [1.25, 0, 10.22, 3.78, 0, 1.16]"
   ]
  },
  {
   "cell_type": "markdown",
   "metadata": {},
   "source": [
    "### Dictionary comprehensions"
   ]
  },
  {
   "cell_type": "code",
   "execution_count": 64,
   "metadata": {},
   "outputs": [],
   "source": [
    " squares = {i: i * i for i in range(10)}\n",
    " squares # {0: 0, 1: 1, 2: 4, 3: 9, 4: 16, 5: 25, 6: 36, 7: 49, 8: 64, 9: 81}"
   ]
  },
  {
   "cell_type": "code",
   "execution_count": null,
   "metadata": {},
   "outputs": [],
   "source": [
    "sum([i * i for i in range(1000)]) # less efficient"
   ]
  },
  {
   "cell_type": "code",
   "execution_count": null,
   "metadata": {},
   "outputs": [],
   "source": [
    "# generators can be surrounded by parentheses.\n",
    "# A generator doesn’t create a single, large data structure in memory, but instead returns an iterable. \n",
    "sum(i * i for i in range(1000000000))  # use generator;  more "
   ]
  },
  {
   "cell_type": "code",
   "execution_count": null,
   "metadata": {},
   "outputs": [],
   "source": [
    "list(map(lambda tax: tax * f'{TAX_RATE}',  txns))efficient"
   ]
  },
  {
   "cell_type": "markdown",
   "metadata": {},
   "source": [
    "## Python3 program to find the difference between the sum of diagonal. "
   ]
  },
  {
   "cell_type": "code",
   "execution_count": 2,
   "metadata": {},
   "outputs": [
    {
     "ename": "SyntaxError",
     "evalue": "invalid character in identifier (<ipython-input-2-682cf1152751>, line 2)",
     "output_type": "error",
     "traceback": [
      "\u001b[1;36m  File \u001b[1;32m\"<ipython-input-2-682cf1152751>\"\u001b[1;36m, line \u001b[1;32m2\u001b[0m\n\u001b[1;33m    \u001b[0m\n\u001b[1;37m    ^\u001b[0m\n\u001b[1;31mSyntaxError\u001b[0m\u001b[1;31m:\u001b[0m invalid character in identifier\n"
     ]
    }
   ],
   "source": [
    "def difference(arr, n): \n",
    "  \n",
    "    # Initialize sums of diagonals \n",
    "    d1 = 0\n",
    "    d2 = 0\n",
    "  \n",
    "    for i in range(0, n): \n",
    "      \n",
    "        for j in range(0, n): \n",
    "          \n",
    "            # finding sum of primary diagonal \n",
    "            if (i == j): \n",
    "                d1 += arr[i][j] \n",
    "  \n",
    "            # finding sum of secondary diagonal \n",
    "            if (i == n - j - 1): \n",
    "                d2 += arr[i][j] \n",
    "          \n",
    "    # Absolute difference of the sums \n",
    "    # across the diagonals \n",
    "    return abs(d1 - d2); \n",
    "  \n"
   ]
  },
  {
   "cell_type": "code",
   "execution_count": null,
   "metadata": {},
   "outputs": [],
   "source": [
    "# Driver Code \n",
    "n = 3\n",
    "  \n",
    "arr = [[11, 2, 4], \n",
    "       [4 , 5, 6], \n",
    "       [10, 8, -12]] \n",
    "  \n",
    "print(difference(arr, n))"
   ]
  },
  {
   "cell_type": "code",
   "execution_count": 71,
   "metadata": {},
   "outputs": [
    {
     "name": "stdout",
     "output_type": "stream",
     "text": [
      " 2 x 0 = 0\n",
      " 2 x 1 = 2\n",
      " 2 x 2 = 4\n",
      " 2 x 3 = 6\n",
      " 2 x 4 = 8\n",
      " 2 x 5 = 10\n",
      " 2 x 6 = 12\n",
      " 2 x 7 = 14\n",
      " 2 x 8 = 16\n",
      " 2 x 9 = 18\n",
      " 2 x 10 = 20\n"
     ]
    }
   ],
   "source": [
    "# Day 5: Loops\n",
    "\n",
    "for i in range(11):\n",
    "    print ( f' 2 x {i} = { i * 2}')"
   ]
  },
  {
   "cell_type": "code",
   "execution_count": 73,
   "metadata": {},
   "outputs": [],
   "source": [
    "# Day 6: Let's Review\n",
    "\n",
    "\n",
    "def sep_odd_even_indx(s):\n",
    "    odd_str = ''\n",
    "    even_str = ''\n",
    "    for i in range(len(s)):\n",
    "        if i % 2 != 0:\n",
    "           odd_str = odd_str + s[i]\n",
    "        else:\n",
    "           even_str = even_str + s[i] \n",
    "    print(f'{even_str} {odd_str}')     \n",
    "            \n",
    "            \n",
    "sep_odd_even_indx('Hacker')   # Hce akr     \n",
    "        "
   ]
  },
  {
   "cell_type": "code",
   "execution_count": 75,
   "metadata": {},
   "outputs": [
    {
     "name": "stdout",
     "output_type": "stream",
     "text": [
      "Hce akr\n"
     ]
    }
   ],
   "source": [
    "sep_odd_even_indx('Hacker')"
   ]
  },
  {
   "cell_type": "code",
   "execution_count": 87,
   "metadata": {},
   "outputs": [
    {
     "name": "stdout",
     "output_type": "stream",
     "text": [
      "Overwriting contact.txt\n"
     ]
    }
   ],
   "source": [
    "#Day 8: Dictionaries and Maps\n",
    "\n",
    "\n",
    "%%writefile contact.txt\n",
    "sam 99912222\n",
    "tom 11122222\n",
    "harry 12299933"
   ]
  },
  {
   "cell_type": "code",
   "execution_count": 77,
   "metadata": {},
   "outputs": [],
   "source": [
    "d_cont = {}"
   ]
  },
  {
   "cell_type": "code",
   "execution_count": 88,
   "metadata": {},
   "outputs": [
    {
     "name": "stdout",
     "output_type": "stream",
     "text": [
      "sam 99912222\n",
      "\n",
      " sam 99912222\n",
      "\n",
      "tom 11122222\n",
      "\n",
      " tom 11122222\n",
      "\n",
      "harry 12299933\n",
      "\n",
      " harry 12299933\n",
      "\n"
     ]
    }
   ],
   "source": [
    "with open('contact.txt') as file:\n",
    "    line = file.readline()\n",
    "    while line:\n",
    "       print (f'{line}')\n",
    "       name = line.split(' ')[0]\n",
    "       phone = line.split(' ')[1]    \n",
    "       d_cont[name] = phone\n",
    "       print (f' {name} {phone}')\n",
    "       line = file.readline() \n",
    "file.close()        "
   ]
  },
  {
   "cell_type": "code",
   "execution_count": 89,
   "metadata": {},
   "outputs": [
    {
     "data": {
      "text/plain": [
       "dict_keys(['sam', 'tom', 'harry'])"
      ]
     },
     "execution_count": 89,
     "metadata": {},
     "output_type": "execute_result"
    }
   ],
   "source": [
    "d_cont.keys()"
   ]
  },
  {
   "cell_type": "code",
   "execution_count": 90,
   "metadata": {},
   "outputs": [
    {
     "data": {
      "text/plain": [
       "dict_values(['99912222\\n', '11122222\\n', '12299933\\n'])"
      ]
     },
     "execution_count": 90,
     "metadata": {},
     "output_type": "execute_result"
    }
   ],
   "source": [
    "d_cont.values()  # how to remove \\n"
   ]
  },
  {
   "cell_type": "code",
   "execution_count": 91,
   "metadata": {},
   "outputs": [
    {
     "data": {
      "text/plain": [
       "'99912222\\n'"
      ]
     },
     "execution_count": 91,
     "metadata": {},
     "output_type": "execute_result"
    }
   ],
   "source": [
    "d_cont['sam']"
   ]
  },
  {
   "cell_type": "code",
   "execution_count": 92,
   "metadata": {},
   "outputs": [
    {
     "name": "stdout",
     "output_type": "stream",
     "text": [
      "key = sam bvalue = 99912222\n",
      "\n",
      "key = tom bvalue = 11122222\n",
      "\n",
      "key = harry bvalue = 12299933\n",
      "\n"
     ]
    }
   ],
   "source": [
    "for key, value in d_cont.items():\n",
    "    print(f'key = {key} bvalue = {value}')\n",
    "    "
   ]
  },
  {
   "cell_type": "code",
   "execution_count": 98,
   "metadata": {},
   "outputs": [],
   "source": [
    "# Day 9: Recursion 3\n",
    "\n",
    "\n",
    "def fact_orial(n):\n",
    "    if n == 1:\n",
    "       return 1\n",
    "    else:\n",
    "       return n * fact_orial(n-1) \n"
   ]
  },
  {
   "cell_type": "code",
   "execution_count": 99,
   "metadata": {},
   "outputs": [
    {
     "data": {
      "text/plain": [
       "6"
      ]
     },
     "execution_count": 99,
     "metadata": {},
     "output_type": "execute_result"
    }
   ],
   "source": [
    "fact_orial(3) "
   ]
  },
  {
   "cell_type": "code",
   "execution_count": null,
   "metadata": {},
   "outputs": [],
   "source": [
    "## BitwiseOperators\n",
    " - https://wiki.python.org/moin/BitwiseOperators\n",
    " - x << y\n",
    "   - Returns x with the bits shifted to the left by y places (and new bits on the right-hand-side are zeros). This is the same as multiplying x by 2**y.\n",
    " - x >> y\n",
    "   - Returns x with the bits shifted to the right by y places. This is the same as //'ing x by 2**y.       "
   ]
  },
  {
   "cell_type": "code",
   "execution_count": 104,
   "metadata": {},
   "outputs": [],
   "source": [
    "# Python3 implementation of the approach  \n",
    "  \n",
    "# Function to return the count of  \n",
    "# maximum consecutive 1s in the  \n",
    "# binary represntation of x  \n",
    "# Maximum number of consecutive 1’s in binary representation of all the array elements\n",
    "# - https://www.geeksforgeeks.org/maximum-number-of-consecutive-1s-in-binary-representation-of-all-the-array-elements/\n",
    "\n",
    "def maxConsecutiveOnes(x) :  \n",
    "  \n",
    "    # Initialize result  \n",
    "    count = 0;  \n",
    "  \n",
    "    # Count the number of iterations to  \n",
    "    # reach x = 0.  \n",
    "    while (x != 0) : \n",
    "          \n",
    "        # This operation reduces length  \n",
    "        # of every sequence of 1s by one\n",
    "        print( f' before {x}')\n",
    "        x = (x & (x << 1));  \n",
    "        print( f' after {x}')\n",
    "        count += 1;  \n",
    "      \n",
    "    return count;  "
   ]
  },
  {
   "cell_type": "code",
   "execution_count": 105,
   "metadata": {},
   "outputs": [
    {
     "name": "stdout",
     "output_type": "stream",
     "text": [
      " before 1101\n",
      " after 8\n",
      " before 8\n",
      " after 0\n"
     ]
    },
    {
     "data": {
      "text/plain": [
       "2"
      ]
     },
     "execution_count": 105,
     "metadata": {},
     "output_type": "execute_result"
    }
   ],
   "source": [
    "maxConsecutiveOnes(1101)"
   ]
  },
  {
   "cell_type": "markdown",
   "metadata": {},
   "source": [
    "## Day11 - Maximum sum of hour glass in matrix\n",
    " - https://www.geeksforgeeks.org/maximum-sum-hour-glass-matrix/\n",
    " - 2D Array - DS - Hacker Rank Solution\n",
    "   - https://allhackerranksolutions.blogspot.com/2019/01/2d-array-ds-hacker-rank-solution.html "
   ]
  },
  {
   "cell_type": "markdown",
   "metadata": {},
   "source": [
    "## Day 28: RegEx, Patterns, and Intro to Databases\n",
    "\n"
   ]
  },
  {
   "cell_type": "code",
   "execution_count": 106,
   "metadata": {},
   "outputs": [
    {
     "name": "stdout",
     "output_type": "stream",
     "text": [
      "Writing email.txt\n"
     ]
    }
   ],
   "source": [
    "%%writefile email.txt\n",
    "riya riya@gmail.com\n",
    "julia julia@julia.me\n",
    "julia sjulia@gmail.com\n",
    "julia julia@gmail.com\n",
    "samantha samantha@gmail.com\n",
    "tanya tanya@gmail.com"
   ]
  },
  {
   "cell_type": "code",
   "execution_count": 116,
   "metadata": {},
   "outputs": [
    {
     "name": "stdout",
     "output_type": "stream",
     "text": [
      "line riya riya@gmail.com\n",
      "\n",
      " riya\n",
      " julia\n",
      " julia\n",
      " samantha\n",
      " tanya\n"
     ]
    }
   ],
   "source": [
    "import re\n",
    "pattern = '@gmail'\n",
    "with open('email.txt') as file:\n",
    "    line = file.readline()\n",
    "    print(f'line {line}')\n",
    "    while line:\n",
    "       match = re.search(pattern, line)\n",
    "       if match:\n",
    "          name = line.split(' ')[0]\n",
    "          print (f' {name}')\n",
    "       line = file.readline() \n",
    "file.close() "
   ]
  },
  {
   "cell_type": "code",
   "execution_count": 112,
   "metadata": {},
   "outputs": [
    {
     "data": {
      "text/plain": [
       "'riya riya@gmail.com\\n'"
      ]
     },
     "execution_count": 112,
     "metadata": {},
     "output_type": "execute_result"
    }
   ],
   "source": [
    "line"
   ]
  },
  {
   "cell_type": "code",
   "execution_count": 114,
   "metadata": {},
   "outputs": [
    {
     "data": {
      "text/plain": [
       "<re.Match object; span=(9, 15), match='@gmail'>"
      ]
     },
     "execution_count": 114,
     "metadata": {},
     "output_type": "execute_result"
    }
   ],
   "source": [
    "pattern = '@gmail'\n",
    "re.search(pattern, line)"
   ]
  },
  {
   "cell_type": "markdown",
   "metadata": {},
   "source": [
    "## Day 12: Inheritance\n",
    "\n"
   ]
  },
  {
   "cell_type": "code",
   "execution_count": 119,
   "metadata": {},
   "outputs": [],
   "source": [
    "class Person:\n",
    "\tdef __init__(self, firstName, lastName, idNumber):\n",
    "\t\tself.firstName = firstName\n",
    "\t\tself.lastName = lastName\n",
    "\t\tself.idNumber = idNumber\n",
    "\tdef printPerson(self):\n",
    "\t\tprint ( \"Name:\", self.lastName + \",\", self.firstName)\n",
    "\t\tprint ( \"ID:\", self.idNumber)"
   ]
  },
  {
   "cell_type": "code",
   "execution_count": 124,
   "metadata": {},
   "outputs": [],
   "source": [
    "class Student(Person):\n",
    "\n",
    "    #   Class Constructor\n",
    "    #   \n",
    "    #   Parameters:\n",
    "    #   firstName - A string denoting the Person's first name.\n",
    "    #   lastName - A string denoting the Person's last name.\n",
    "    #   id - An integer denoting the Person's ID number.\n",
    "    #   scores - An array of integers denoting the Person's test scores.\n",
    "    #\n",
    "    # Write your constructor here\n",
    "    def __init__(self, firstName, lastName, idNumber, scores ):\n",
    "        Person.__init__(self, firstName, lastName, idNumber)\n",
    "        self.scores = scores\n",
    "    #   Function Name: calculate\n",
    "    #   Return: A character denoting the grade.\n",
    "    #\n",
    "    # Write your function here\n",
    "    def calculate(self):\n",
    "        avg_score = sum(self.scores)/len(self.scores)\n",
    "        if 90 <=  avg_score <= 100:\n",
    "            grade = 'O'\n",
    "        elif  80 <=  avg_score < 90:\n",
    "            grade = 'E'  \n",
    "        elif  70 <=  avg_score < 80:\n",
    "            grade = 'A'  \n",
    "        elif  55 <=  avg_score < 70:\n",
    "            grade = 'P'\n",
    "        elif  40 <=  avg_score < 55:\n",
    "            grade = 'D'\n",
    "        else:\n",
    "            if vg_score < 40:\n",
    "               grade = 'T'       \n",
    "        return grade    "
   ]
  },
  {
   "cell_type": "code",
   "execution_count": 126,
   "metadata": {},
   "outputs": [],
   "source": [
    "student_a = Student('yue', 'Sophia', 1234, [100, 80])"
   ]
  },
  {
   "cell_type": "code",
   "execution_count": 127,
   "metadata": {},
   "outputs": [
    {
     "data": {
      "text/plain": [
       "'O'"
      ]
     },
     "execution_count": 127,
     "metadata": {},
     "output_type": "execute_result"
    }
   ],
   "source": [
    "student_a.calculate()"
   ]
  },
  {
   "cell_type": "markdown",
   "metadata": {},
   "source": [
    "## Day 13: Abstract Classes\n"
   ]
  },
  {
   "cell_type": "code",
   "execution_count": null,
   "metadata": {},
   "outputs": [],
   "source": [
    "pass"
   ]
  },
  {
   "cell_type": "markdown",
   "metadata": {},
   "source": [
    "## Day 14: Scope\n",
    "pass \n"
   ]
  },
  {
   "cell_type": "markdown",
   "metadata": {},
   "source": [
    "## Day 15: Linked List\n",
    "pass"
   ]
  },
  {
   "cell_type": "markdown",
   "metadata": {},
   "source": [
    "## Day 15: Linked List\n",
    "pass"
   ]
  },
  {
   "cell_type": "markdown",
   "metadata": {},
   "source": [
    "## Day 16: Exceptions - String to Integer\n",
    "\n"
   ]
  },
  {
   "cell_type": "code",
   "execution_count": 140,
   "metadata": {},
   "outputs": [],
   "source": [
    "def cnv_str_int(s):\n",
    "    try: \n",
    "        int_s = int(float(s))  # need to convert s to float -> int\n",
    "        print(f'convert string {s} to integer {int_s}')\n",
    "    except:\n",
    "        print(f'Bad string {s}, can\\'t convert to integer' )"
   ]
  },
  {
   "cell_type": "code",
   "execution_count": 141,
   "metadata": {},
   "outputs": [
    {
     "name": "stdout",
     "output_type": "stream",
     "text": [
      "convert string 3.5 to integer 3\n"
     ]
    }
   ],
   "source": [
    "cnv_str_int('3.5')"
   ]
  },
  {
   "cell_type": "code",
   "execution_count": 142,
   "metadata": {},
   "outputs": [
    {
     "name": "stdout",
     "output_type": "stream",
     "text": [
      "Bad string a3.5, can't convert to integer\n"
     ]
    }
   ],
   "source": [
    "cnv_str_int('a3.5')"
   ]
  },
  {
   "cell_type": "code",
   "execution_count": null,
   "metadata": {},
   "outputs": [],
   "source": [
    "## "
   ]
  },
  {
   "cell_type": "code",
   "execution_count": 143,
   "metadata": {},
   "outputs": [
    {
     "ename": "NameError",
     "evalue": "name 'num' is not defined",
     "output_type": "error",
     "traceback": [
      "\u001b[1;31m---------------------------------------------------------------------------\u001b[0m",
      "\u001b[1;31mNameError\u001b[0m                                 Traceback (most recent call last)",
      "\u001b[1;32m<ipython-input-143-ffa472951434>\u001b[0m in \u001b[0;36m<module>\u001b[1;34m\u001b[0m\n\u001b[1;32m----> 1\u001b[1;33m \u001b[1;32mclass\u001b[0m \u001b[0mCaculator\u001b[0m\u001b[1;33m:\u001b[0m\u001b[1;33m\u001b[0m\u001b[1;33m\u001b[0m\u001b[0m\n\u001b[0m\u001b[0;32m      2\u001b[0m     \u001b[1;32mdef\u001b[0m \u001b[0m__init__\u001b[0m\u001b[1;33m(\u001b[0m\u001b[0mself\u001b[0m\u001b[1;33m,\u001b[0m\u001b[0mnum\u001b[0m\u001b[1;33m,\u001b[0m \u001b[0mnpw\u001b[0m\u001b[1;33m)\u001b[0m\u001b[1;33m:\u001b[0m\u001b[1;33m\u001b[0m\u001b[1;33m\u001b[0m\u001b[0m\n\u001b[0;32m      3\u001b[0m         \u001b[0mself\u001b[0m\u001b[1;33m.\u001b[0m\u001b[0mnum\u001b[0m \u001b[1;33m=\u001b[0m \u001b[0mnum\u001b[0m\u001b[1;33m\u001b[0m\u001b[1;33m\u001b[0m\u001b[0m\n\u001b[0;32m      4\u001b[0m         \u001b[0mself\u001b[0m\u001b[1;33m.\u001b[0m\u001b[0mnpw\u001b[0m \u001b[1;33m=\u001b[0m \u001b[0mnpw\u001b[0m\u001b[1;33m\u001b[0m\u001b[1;33m\u001b[0m\u001b[0m\n\u001b[0;32m      5\u001b[0m \u001b[1;33m\u001b[0m\u001b[0m\n",
      "\u001b[1;32m<ipython-input-143-ffa472951434>\u001b[0m in \u001b[0;36mCaculator\u001b[1;34m()\u001b[0m\n\u001b[0;32m      7\u001b[0m         \u001b[1;32mreturn\u001b[0m \u001b[0mself\u001b[0m\u001b[1;33m.\u001b[0m\u001b[0mnum\u001b[0m \u001b[1;33m**\u001b[0m \u001b[0mself\u001b[0m\u001b[1;33m.\u001b[0m\u001b[0mnpw\u001b[0m\u001b[1;33m\u001b[0m\u001b[1;33m\u001b[0m\u001b[0m\n\u001b[0;32m      8\u001b[0m \u001b[1;33m\u001b[0m\u001b[0m\n\u001b[1;32m----> 9\u001b[1;33m     \u001b[1;33m@\u001b[0m\u001b[0mnum\u001b[0m\u001b[1;33m.\u001b[0m\u001b[0msetter\u001b[0m\u001b[1;33m\u001b[0m\u001b[1;33m\u001b[0m\u001b[0m\n\u001b[0m\u001b[0;32m     10\u001b[0m     \u001b[1;32mdef\u001b[0m \u001b[0mnum\u001b[0m\u001b[1;33m(\u001b[0m\u001b[0mself\u001b[0m\u001b[1;33m,\u001b[0m \u001b[0mvalue\u001b[0m\u001b[1;33m)\u001b[0m\u001b[1;33m:\u001b[0m\u001b[1;33m\u001b[0m\u001b[1;33m\u001b[0m\u001b[0m\n\u001b[0;32m     11\u001b[0m         \u001b[1;32mif\u001b[0m \u001b[0mvalue\u001b[0m \u001b[1;33m<\u001b[0m \u001b[1;36m0\u001b[0m\u001b[1;33m:\u001b[0m\u001b[1;33m\u001b[0m\u001b[1;33m\u001b[0m\u001b[0m\n",
      "\u001b[1;31mNameError\u001b[0m: name 'num' is not defined"
     ]
    }
   ],
   "source": [
    "class Caculator:\n",
    "    def __init__(self,num, npw):\n",
    "        self.num = num\n",
    "        self.npw = npw\n",
    "     \n",
    "    def power(self):\n",
    "        return self.num ** self.npw\n",
    "    \n",
    "    @num.setter\n",
    "    def num(self, value):\n",
    "        if value < 0:\n",
    "            raise ValueError(\"num can not be negative \")\n",
    "        print(\"settint value for num\")  \n",
    "        self._num = value\n",
    "        \n",
    "    @npw.setter \n",
    "    def npw(self, value):\n",
    "        if value < 0:\n",
    "            raise ValueError(\"npw can not be negative \")\n",
    "        print(\"settint value for npw\")  \n",
    "        self._npw = value       \n",
    "  "
   ]
  },
  {
   "cell_type": "code",
   "execution_count": 156,
   "metadata": {},
   "outputs": [],
   "source": [
    "class Caculator:\n",
    "    def __init__(self,num = 0, npw = 0):\n",
    "        self._num = num\n",
    "        self._npw = npw\n",
    "     \n",
    "    def power(self):\n",
    "        return self._num ** self._npw\n",
    "    \n",
    "    @property\n",
    "    def num(self):\n",
    "        print(\"get value\")\n",
    "        return self._num\n",
    "    \n",
    "    @num.setter\n",
    "    def num(self, value):\n",
    "        if value < 0:\n",
    "            raise ValueError(\"num can not be negative \")\n",
    "        print(\"setting value for num\")  \n",
    "        self._num = value"
   ]
  },
  {
   "cell_type": "code",
   "execution_count": 157,
   "metadata": {},
   "outputs": [
    {
     "data": {
      "text/plain": [
       "8"
      ]
     },
     "execution_count": 157,
     "metadata": {},
     "output_type": "execute_result"
    }
   ],
   "source": [
    "Caculator(2,3).power()"
   ]
  },
  {
   "cell_type": "code",
   "execution_count": 158,
   "metadata": {},
   "outputs": [],
   "source": [
    "cal = Caculator(-2,3)"
   ]
  },
  {
   "cell_type": "markdown",
   "metadata": {},
   "source": [
    "## Day 18: Queues and Stacks\n",
    "pass"
   ]
  },
  {
   "cell_type": "markdown",
   "metadata": {},
   "source": [
    "## Day 19: Interface\n",
    "pass"
   ]
  },
  {
   "cell_type": "code",
   "execution_count": null,
   "metadata": {},
   "outputs": [],
   "source": [
    "# Python program to check if  \n",
    "# given number is prime or not \n",
    "  \n",
    "num = 11\n",
    "  \n",
    "# If given number is greater than 1 \n",
    "if num > 1: \n",
    "      \n",
    "   # Iterate from 2 to n / 2  \n",
    "   for i in range(2, num): \n",
    "         \n",
    "       # If num is divisible by any number between  \n",
    "       # 2 and n / 2, it is not prime  \n",
    "       if (num % i) == 0: \n",
    "           print(num, \"is not a prime number\") \n",
    "           break\n",
    "   else: \n",
    "       print(num, \"is a prime number\") \n",
    "  \n",
    "else: \n",
    "   print(num, \"is not a prime number\") "
   ]
  }
 ],
 "metadata": {
  "kernelspec": {
   "display_name": "Python 3",
   "language": "python",
   "name": "python3"
  },
  "language_info": {
   "codemirror_mode": {
    "name": "ipython",
    "version": 3
   },
   "file_extension": ".py",
   "mimetype": "text/x-python",
   "name": "python",
   "nbconvert_exporter": "python",
   "pygments_lexer": "ipython3",
   "version": "3.8.3"
  }
 },
 "nbformat": 4,
 "nbformat_minor": 4
}
