{
 "cells": [
  {
   "cell_type": "markdown",
   "id": "6b539912",
   "metadata": {},
   "source": [
    "# dim_pim_tbl_col_val\n",
    " - purpose: Create an excel file to have all the  value count distribution for all the 'Attribute Value Column Name\" with different PIM table specified on \"Table in PIM-Mart\" \n",
    "\n"
   ]
  },
  {
   "cell_type": "code",
   "execution_count": null,
   "id": "a0405535",
   "metadata": {},
   "outputs": [],
   "source": []
  },
  {
   "cell_type": "code",
   "execution_count": null,
   "id": "3f47d2c0",
   "metadata": {},
   "outputs": [],
   "source": [
    "import numpy as np\n",
    "import pandas as pd\n",
    "\n",
    "\n",
    "pd.options.display.float_format = '{:,.4f}'.format\n",
    "pd.set_option('display.max_columns', None) \n",
    "pd.set_option(\"display.max_rows\", None)"
   ]
  },
  {
   "cell_type": "code",
   "execution_count": 43,
   "id": "26c3b684",
   "metadata": {},
   "outputs": [
    {
     "ename": "SyntaxError",
     "evalue": "unterminated string literal (detected at line 4) (1187253365.py, line 4)",
     "output_type": "error",
     "traceback": [
      "\u001b[1;36m  Cell \u001b[1;32mIn[43], line 4\u001b[1;36m\u001b[0m\n\u001b[1;33m    print(\" 1. Read csv files from  {atb_idx_csv_file} and {pim_tbl_csv_file}\u001b[0m\n\u001b[1;37m          ^\u001b[0m\n\u001b[1;31mSyntaxError\u001b[0m\u001b[1;31m:\u001b[0m unterminated string literal (detected at line 4)\n"
     ]
    }
   ],
   "source": [
    "def read_files(atb_idx_csv_file, pim_tbl_csv_file, pim_tbl, path):\n",
    "    print(\"Process to create a CSV file to merge Attribute_index with PIM table: {pim_tbl}\")\n",
    "\n",
    "    print(\" 1. Read csv files from  {atb_idx_csv_file} and {pim_tbl_csv_file}\n",
    "    path_file_atb_idx = path + atb_idx_csv_file\n",
    "    df_atb_idx = pd.read_csv(path_file_atb_idx)\n",
    "    \n",
    "    path_file_pim_tbl =  path + pim_tbl_csv_file\n",
    "    df_pim_tbl   = pd.read_csv(path_file_pim_tbl)\n",
    "    return df_atb_idx, df_pim_tbl "
   ]
  },
  {
   "cell_type": "code",
   "execution_count": null,
   "id": "26977549",
   "metadata": {},
   "outputs": [],
   "source": [
    "def cr_col_list(df_atb_idx, df_pim_tbl, pim_tbl   ):\n",
    "    \"\"\"\n",
    "      Purspose: create two list for col specified in attribute_index \n",
    "    \"\"\"\n",
    "    # creat a list with col name in attribute _index and not a col in the pim table\n",
    "    l_col_atb_idx = list(df_atb_idx[df_atb_idx['Table in PIM-Mart'] == pim_tbl]['Attribute Value Column Name']) \n",
    "    l_rmv_x =[]\n",
    "    for fea  in l_col_atb_idx:\n",
    "        try:\n",
    "           df_pim_tbl.dtypes[fea]\n",
    "        except:\n",
    "           l_rmv_x.append(fea)   \n",
    "    print(f\" {l_rmv_x} is/are column(s) not in PIM table: {pim_tbl} but specified in Attribute_index\")\n",
    "    l_col_atb_idx = [x for x in  l_col_atb_idx if x not  in l_rmv_x]      \n",
    "    l_col_pim_tbl  = df_pim_tbl.columns \n",
    "    rmv_fea = pim_tbl + '_ID'\n",
    "    l_rmv =[rmv_fea, 'ITM_ID'] # Remove the  key columns from PIM table \n",
    "    l_col_pim_tbl = [x for x in  l_col_pim_tbl if x not  in l_rmv]  \n",
    "\n",
    "    l_col = ['Attribute Number','Attribute Name','Attribute Definition', 'Table in PIM-Mart', 'Attribute Value Column Name']\n",
    "    rslt_df = df_atb_idx[df_atb_idx['Table in PIM-Mart'] == pim_tbl][l_col].copy()\n",
    "    return rslt_df,  l_col_atb_idx, l_col_pim_tbl"
   ]
  },
  {
   "cell_type": "code",
   "execution_count": null,
   "id": "6ff8a027",
   "metadata": {},
   "outputs": [],
   "source": [
    "def cr_df_pim_col_val(l_col_atb_idx, df_pim_tbl, pim_tbl, rslt_df ):\n",
    "    \"\"\"\n",
    "      purpose:Create a CSV file to show the relationship between the attribute_index and pim table\n",
    "    \"\"\"\n",
    "    l_val = []\n",
    "    for fea in l_col_atb_idx:\n",
    "        print('fea', fea, l_col_atb_idx)\n",
    "        l_fea_uniq =  list(df_pim_tbl[fea].unique())\n",
    "        type = df_pim_tbl.dtypes[fea]  # get datatype\n",
    "        drop_ind = 'no' \n",
    "        if len(l_fea_uniq) > 50:\n",
    "            drop_ind ='yes'       \n",
    "            l_fea_uniq = l_fea_uniq[0:50]\n",
    "        l_val.append([fea, type, drop_ind, l_fea_uniq])\n",
    "    df_col_val = pd.DataFrame(l_val,columns=['Attribute Value Column Name','type', 'drop_ind', 'col_val'])  \n",
    "    df_merge = rslt_df.merge(df_col_val, on = 'Attribute Value Column Name',how = 'left')\n",
    "    csv_file =  'dim_'  + pim_tbl.lower() + '_col_val.csv'\n",
    "    dim_pm_file = path + had been created csv_file\n",
    "    df_merge.to_csv(dim_pim_file,  index=None)\n",
    "    print(f\"CSV: {csv_file} had been created \")"
   ]
  },
  {
   "cell_type": "markdown",
   "id": "2d90f606",
   "metadata": {},
   "source": [
    "## 1. Read files"
   ]
  },
  {
   "cell_type": "code",
   "execution_count": null,
   "id": "959d512d",
   "metadata": {},
   "outputs": [],
   "source": [
    "path = 'C:\\\\users\\\\iny2819\\\\kroger\\\\Data\\\\'\n",
    "atb_idx_csv = 'Attributes_Index_Readable_Headers_060923.csv'\n",
    "pim_tbl_csv = 'ITM_OC_ATB.csv'\n",
    "pim_tbl = 'ITM_OC_ATB'\n",
    "df_atb_idx, df_pim_tbl  = read_files(atb_idx_csv, pim_tbl_csv, pim_tbl, path)\n"
   ]
  },
  {
   "cell_type": "markdown",
   "id": "1469d868",
   "metadata": {},
   "source": [
    "## 2. Define columns "
   ]
  },
  {
   "cell_type": "code",
   "execution_count": null,
   "id": "f811f8df",
   "metadata": {},
   "outputs": [],
   "source": [
    "rslt_df,  l_col_atb_idx, l_col_pim_tbl = cr_col_list(df_atb_idx, df_pim_tbl, pim_tbl   )"
   ]
  },
  {
   "cell_type": "markdown",
   "id": "abb883ca",
   "metadata": {},
   "source": [
    "## 3. Create a CSV file to show the relationship between the attribute_index and pim table"
   ]
  },
  {
   "cell_type": "code",
   "execution_count": null,
   "id": "2cd7880c",
   "metadata": {},
   "outputs": [],
   "source": []
  },
  {
   "cell_type": "code",
   "execution_count": null,
   "id": "2dd9dc22",
   "metadata": {},
   "outputs": [],
   "source": [
    "cr_df_pim_col_val(l_col_atb_idx, df_pim_tbl, pim_tbl, rslt_df )path = 'C:\\\\users\\\\iny2819\\\\kroger\\\\Data\\\\'\n"
   ]
  },
  {
   "cell_type": "code",
   "execution_count": 42,
   "id": "17cda031",
   "metadata": {},
   "outputs": [],
   "source": [
    "def wrapper(pim_tbl):\n",
    "    path = 'C:\\\\users\\\\iny2819\\\\kroger\\\\Data\\\\'\n",
    "    atb_idx = 'Attributes_Index_Readable_Headers_060923.csv'\n",
    "    pim_tbl_csv  = 'ITM_OC_ATB'\n",
    "    df_atb_idx, df_pim_tbl  = read_files(atb_idx, pim_tbl, path) # Read CSV files\n",
    "    rslt_df,  l_col_atb_idx, l_col_pim_tbl = cr_col_list(df_atb_idx, df_pim_tbl, pim_tbl) # Create  rslt_df\n",
    "    cr_df_pim_col_val(l_col_atb_idx, df_pim_tbl, pim_tbl, rslt_df ) # Create CSV file  \n"
   ]
  },
  {
   "cell_type": "code",
   "execution_count": null,
   "id": "3309a73e",
   "metadata": {},
   "outputs": [],
   "source": [
    "path = 'C:\\\\users\\\\iny2819\\\\kroger\\\\Data\\\\'\n",
    "atb_idx_csv = 'Attributes_Index_Readable_Headers_060923.csv'\n",
    "pim_tbl_csv = 'ITM_OC_ATB.csv'\n",
    "pim_tbl = 'ITM_OC_ATB'"
   ]
  }
 ],
 "metadata": {
  "kernelspec": {
   "display_name": "Python 3 (ipykernel)",
   "language": "python",
   "name": "python3"
  },
  "language_info": {
   "codemirror_mode": {
    "name": "ipython",
    "version": 3
   },
   "file_extension": ".py",
   "mimetype": "text/x-python",
   "name": "python",
   "nbconvert_exporter": "python",
   "pygments_lexer": "ipython3",
   "version": "3.10.9"
  }
 },
 "nbformat": 4,
 "nbformat_minor": 5
}
