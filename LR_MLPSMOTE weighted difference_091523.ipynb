{
 "cells": [
  {
   "cell_type": "markdown",
   "id": "cad1519c",
   "metadata": {},
   "source": [
    "#\n",
    " module name: mdll_cmp_weighted\n",
    " - read \"ML_Classifier_Comparision_091423.xlsx\n",
    "\n",
    " - drop Level 1 if one of level 2 doesn't have the predicted value\n",
    " - use groupby('Level 1') to get  the weighted difference and created the DF df_grp\n",
    "   - The weighted difference = the sum of ( accuracy difference * GTIN cnt)/ (sum of GTIN cnt)\n",
    "      - GTIN  cnt for each Level 2 is from syndigo_gtin_level_257K_081523.csv\n",
    " - rename the col nmae None to 'weighted difference'"
   ]
  },
  {
   "cell_type": "code",
   "execution_count": 1,
   "id": "2387f369",
   "metadata": {},
   "outputs": [],
   "source": [
    "import pandas as pd\n",
    "pd.set_option(\"display.max_rows\", None)\n",
    "from openpyxl import load_workbook\n",
    "path = 'C:\\\\users\\\\iny2819\\\\kroger\\\\Data\\\\'   "
   ]
  },
  {
   "cell_type": "code",
   "execution_count": 2,
   "id": "cdd6bc1d",
   "metadata": {},
   "outputs": [
    {
     "data": {
      "text/html": [
       "<div>\n",
       "<style scoped>\n",
       "    .dataframe tbody tr th:only-of-type {\n",
       "        vertical-align: middle;\n",
       "    }\n",
       "\n",
       "    .dataframe tbody tr th {\n",
       "        vertical-align: top;\n",
       "    }\n",
       "\n",
       "    .dataframe thead th {\n",
       "        text-align: right;\n",
       "    }\n",
       "</style>\n",
       "<table border=\"1\" class=\"dataframe\">\n",
       "  <thead>\n",
       "    <tr style=\"text-align: right;\">\n",
       "      <th></th>\n",
       "      <th>Level 1</th>\n",
       "      <th>Level 2</th>\n",
       "      <th>LR test Accuracy</th>\n",
       "      <th>MLP_smote test  accuracy</th>\n",
       "    </tr>\n",
       "  </thead>\n",
       "  <tbody>\n",
       "    <tr>\n",
       "      <th>0</th>\n",
       "      <td>Agricultural Equipment</td>\n",
       "      <td>Tires</td>\n",
       "      <td>NaN</td>\n",
       "      <td>NaN</td>\n",
       "    </tr>\n",
       "    <tr>\n",
       "      <th>1</th>\n",
       "      <td>Apparel</td>\n",
       "      <td>Clothing</td>\n",
       "      <td>0.999832</td>\n",
       "      <td>0.999767</td>\n",
       "    </tr>\n",
       "    <tr>\n",
       "      <th>2</th>\n",
       "      <td>Apparel</td>\n",
       "      <td>Footwear</td>\n",
       "      <td>0.999078</td>\n",
       "      <td>0.998904</td>\n",
       "    </tr>\n",
       "    <tr>\n",
       "      <th>3</th>\n",
       "      <td>Apparel</td>\n",
       "      <td>Personal Accessories</td>\n",
       "      <td>0.956785</td>\n",
       "      <td>0.964204</td>\n",
       "    </tr>\n",
       "    <tr>\n",
       "      <th>4</th>\n",
       "      <td>Apparel</td>\n",
       "      <td>Safety Apparel</td>\n",
       "      <td>0.815787</td>\n",
       "      <td>0.854019</td>\n",
       "    </tr>\n",
       "  </tbody>\n",
       "</table>\n",
       "</div>"
      ],
      "text/plain": [
       "                  Level 1               Level 2  LR test Accuracy  \\\n",
       "0  Agricultural Equipment                 Tires               NaN   \n",
       "1                 Apparel              Clothing          0.999832   \n",
       "2                 Apparel              Footwear          0.999078   \n",
       "3                 Apparel  Personal Accessories          0.956785   \n",
       "4                 Apparel        Safety Apparel          0.815787   \n",
       "\n",
       "   MLP_smote test  accuracy  \n",
       "0                       NaN  \n",
       "1                  0.999767  \n",
       "2                  0.998904  \n",
       "3                  0.964204  \n",
       "4                  0.854019  "
      ]
     },
     "execution_count": 2,
     "metadata": {},
     "output_type": "execute_result"
    }
   ],
   "source": [
    "f_name = path + \"ML_Classifier_Comparision_091423.xlsx\"\n",
    "df = pd.read_excel(f_name, sheet_name = 'Cmp')\n",
    "df.head()"
   ]
  },
  {
   "cell_type": "code",
   "execution_count": 3,
   "id": "2bce1574",
   "metadata": {},
   "outputs": [
    {
     "data": {
      "text/plain": [
       "(231, 4)"
      ]
     },
     "execution_count": 3,
     "metadata": {},
     "output_type": "execute_result"
    }
   ],
   "source": [
    "df.shape"
   ]
  },
  {
   "cell_type": "code",
   "execution_count": 4,
   "id": "c7803bfc",
   "metadata": {},
   "outputs": [
    {
     "data": {
      "text/html": [
       "<div>\n",
       "<style scoped>\n",
       "    .dataframe tbody tr th:only-of-type {\n",
       "        vertical-align: middle;\n",
       "    }\n",
       "\n",
       "    .dataframe tbody tr th {\n",
       "        vertical-align: top;\n",
       "    }\n",
       "\n",
       "    .dataframe thead th {\n",
       "        text-align: right;\n",
       "    }\n",
       "</style>\n",
       "<table border=\"1\" class=\"dataframe\">\n",
       "  <thead>\n",
       "    <tr style=\"text-align: right;\">\n",
       "      <th></th>\n",
       "      <th>GTIN</th>\n",
       "      <th>Level 1</th>\n",
       "      <th>Level 2</th>\n",
       "      <th>Level 3</th>\n",
       "      <th>Level 4</th>\n",
       "      <th>Level 5</th>\n",
       "      <th>Level 6</th>\n",
       "      <th>Level 7</th>\n",
       "      <th>Level 8</th>\n",
       "      <th>Level 9</th>\n",
       "    </tr>\n",
       "  </thead>\n",
       "  <tbody>\n",
       "    <tr>\n",
       "      <th>0</th>\n",
       "      <td>86003018082</td>\n",
       "      <td>Beer / Wine / Spirits</td>\n",
       "      <td>Wine</td>\n",
       "      <td>Still</td>\n",
       "      <td>NaN</td>\n",
       "      <td>NaN</td>\n",
       "      <td>NaN</td>\n",
       "      <td>NaN</td>\n",
       "      <td>NaN</td>\n",
       "      <td>NaN</td>\n",
       "    </tr>\n",
       "    <tr>\n",
       "      <th>1</th>\n",
       "      <td>33900002157</td>\n",
       "      <td>Food / Beverages</td>\n",
       "      <td>Meat / Poultry / Seafood / Meat Substitutes (P...</td>\n",
       "      <td>Prepared / Processed Animal Products</td>\n",
       "      <td>Sandwich Meat</td>\n",
       "      <td>NaN</td>\n",
       "      <td>NaN</td>\n",
       "      <td>NaN</td>\n",
       "      <td>NaN</td>\n",
       "      <td>NaN</td>\n",
       "    </tr>\n",
       "  </tbody>\n",
       "</table>\n",
       "</div>"
      ],
      "text/plain": [
       "          GTIN                Level 1  \\\n",
       "0  86003018082  Beer / Wine / Spirits   \n",
       "1  33900002157       Food / Beverages   \n",
       "\n",
       "                                             Level 2  \\\n",
       "0                                               Wine   \n",
       "1  Meat / Poultry / Seafood / Meat Substitutes (P...   \n",
       "\n",
       "                                Level 3        Level 4 Level 5 Level 6  \\\n",
       "0                                 Still            NaN     NaN     NaN   \n",
       "1  Prepared / Processed Animal Products  Sandwich Meat     NaN     NaN   \n",
       "\n",
       "  Level 7 Level 8 Level 9  \n",
       "0     NaN     NaN     NaN  \n",
       "1     NaN     NaN     NaN  "
      ]
     },
     "execution_count": 4,
     "metadata": {},
     "output_type": "execute_result"
    }
   ],
   "source": [
    "\n",
    "# get GTIN from Syndigo file \n",
    "df_gtin = pd.read_csv(path + \"syndigo_gtin_level_257K_081523.csv\",  dtype='unicode')\n",
    "df_gtin.head(2)"
   ]
  },
  {
   "cell_type": "code",
   "execution_count": 5,
   "id": "9f22cf89",
   "metadata": {},
   "outputs": [
    {
     "name": "stdout",
     "output_type": "stream",
     "text": [
      " df.shape before dropna = (231, 5)\n"
     ]
    }
   ],
   "source": [
    "# got level1 and level 2 count information and merged with predicted result\n",
    "dfs_gtin =df_gtin.groupby('Level 1', as_index = False)['Level 2'].value_counts(dropna = False)\n",
    "dfs_gtin.rename(columns = {'count' : 'GTIN cnt' }, inplace = True  )\n",
    "df = df.merge(dfs_gtin, on=['Level 1','Level 2'], how='left')\n",
    "print(f' df.shape before dropna = {df.shape}')"
   ]
  },
  {
   "cell_type": "code",
   "execution_count": null,
   "id": "3679ddc3",
   "metadata": {},
   "outputs": [],
   "source": []
  },
  {
   "cell_type": "code",
   "execution_count": 6,
   "id": "27f5c9f4",
   "metadata": {},
   "outputs": [],
   "source": [
    "df_bkup = df.copy()"
   ]
  },
  {
   "cell_type": "code",
   "execution_count": 7,
   "id": "8b4f6203",
   "metadata": {},
   "outputs": [
    {
     "data": {
      "text/plain": [
       "(29, 5)"
      ]
     },
     "execution_count": 7,
     "metadata": {},
     "output_type": "execute_result"
    }
   ],
   "source": [
    "# drop Level 1 if one of level 2 doesn't have the predicted value \n",
    "df1 = df.groupby('Level 1', as_index = False).filter(lambda df: df.notnull().values.all())\n",
    "df1.shape"
   ]
  },
  {
   "cell_type": "markdown",
   "id": "5e846b12",
   "metadata": {},
   "source": [
    "df.groupby('Level 1').apply(lambda x: ((x['LR test Accuracy'] - x['MLP_smote test  accuracy']) *  x['GTIN cnt']).sum())"
   ]
  },
  {
   "cell_type": "code",
   "execution_count": 9,
   "id": "5423d99d",
   "metadata": {
    "scrolled": true
   },
   "outputs": [],
   "source": [
    "df_grp = df1.groupby('Level 1', as_index = False).apply(lambda x: ( ((x['LR test Accuracy'] - x['MLP_smote test  accuracy']) *  x['GTIN cnt']).sum())/x['GTIN cnt'].sum())"
   ]
  },
  {
   "cell_type": "code",
   "execution_count": 10,
   "id": "489679f5",
   "metadata": {},
   "outputs": [
    {
     "data": {
      "text/html": [
       "<div>\n",
       "<style scoped>\n",
       "    .dataframe tbody tr th:only-of-type {\n",
       "        vertical-align: middle;\n",
       "    }\n",
       "\n",
       "    .dataframe tbody tr th {\n",
       "        vertical-align: top;\n",
       "    }\n",
       "\n",
       "    .dataframe thead th {\n",
       "        text-align: right;\n",
       "    }\n",
       "</style>\n",
       "<table border=\"1\" class=\"dataframe\">\n",
       "  <thead>\n",
       "    <tr style=\"text-align: right;\">\n",
       "      <th></th>\n",
       "      <th>Level 1</th>\n",
       "      <th>None</th>\n",
       "    </tr>\n",
       "  </thead>\n",
       "  <tbody>\n",
       "    <tr>\n",
       "      <th>0</th>\n",
       "      <td>Apparel</td>\n",
       "      <td>-0.003487</td>\n",
       "    </tr>\n",
       "    <tr>\n",
       "      <th>1</th>\n",
       "      <td>Food / Beverages</td>\n",
       "      <td>0.002015</td>\n",
       "    </tr>\n",
       "    <tr>\n",
       "      <th>2</th>\n",
       "      <td>Gardening &amp; Outdoors</td>\n",
       "      <td>-0.000265</td>\n",
       "    </tr>\n",
       "    <tr>\n",
       "      <th>3</th>\n",
       "      <td>Health &amp; Beauty</td>\n",
       "      <td>0.000533</td>\n",
       "    </tr>\n",
       "    <tr>\n",
       "      <th>4</th>\n",
       "      <td>Heating / Ventilation / Air Conditioning</td>\n",
       "      <td>0.001383</td>\n",
       "    </tr>\n",
       "    <tr>\n",
       "      <th>5</th>\n",
       "      <td>Kitchen &amp; Bathroom</td>\n",
       "      <td>-0.001000</td>\n",
       "    </tr>\n",
       "    <tr>\n",
       "      <th>6</th>\n",
       "      <td>Livestock &amp; Pet Supplies</td>\n",
       "      <td>-0.000178</td>\n",
       "    </tr>\n",
       "  </tbody>\n",
       "</table>\n",
       "</div>"
      ],
      "text/plain": [
       "                                    Level 1      None\n",
       "0                                   Apparel -0.003487\n",
       "1                          Food / Beverages  0.002015\n",
       "2                      Gardening & Outdoors -0.000265\n",
       "3                           Health & Beauty  0.000533\n",
       "4  Heating / Ventilation / Air Conditioning  0.001383\n",
       "5                        Kitchen & Bathroom -0.001000\n",
       "6                  Livestock & Pet Supplies -0.000178"
      ]
     },
     "execution_count": 10,
     "metadata": {},
     "output_type": "execute_result"
    }
   ],
   "source": [
    "df_grp"
   ]
  },
  {
   "cell_type": "code",
   "execution_count": 11,
   "id": "fb1bc864",
   "metadata": {},
   "outputs": [],
   "source": [
    "df_grp.rename(columns = {None : \"weighted difference\"}, inplace  = True)"
   ]
  },
  {
   "cell_type": "code",
   "execution_count": 12,
   "id": "b872c30e",
   "metadata": {},
   "outputs": [
    {
     "data": {
      "text/html": [
       "<div>\n",
       "<style scoped>\n",
       "    .dataframe tbody tr th:only-of-type {\n",
       "        vertical-align: middle;\n",
       "    }\n",
       "\n",
       "    .dataframe tbody tr th {\n",
       "        vertical-align: top;\n",
       "    }\n",
       "\n",
       "    .dataframe thead th {\n",
       "        text-align: right;\n",
       "    }\n",
       "</style>\n",
       "<table border=\"1\" class=\"dataframe\">\n",
       "  <thead>\n",
       "    <tr style=\"text-align: right;\">\n",
       "      <th></th>\n",
       "      <th>Level 1</th>\n",
       "      <th>weighted difference</th>\n",
       "    </tr>\n",
       "  </thead>\n",
       "  <tbody>\n",
       "    <tr>\n",
       "      <th>0</th>\n",
       "      <td>Apparel</td>\n",
       "      <td>-0.003487</td>\n",
       "    </tr>\n",
       "    <tr>\n",
       "      <th>1</th>\n",
       "      <td>Food / Beverages</td>\n",
       "      <td>0.002015</td>\n",
       "    </tr>\n",
       "    <tr>\n",
       "      <th>2</th>\n",
       "      <td>Gardening &amp; Outdoors</td>\n",
       "      <td>-0.000265</td>\n",
       "    </tr>\n",
       "    <tr>\n",
       "      <th>3</th>\n",
       "      <td>Health &amp; Beauty</td>\n",
       "      <td>0.000533</td>\n",
       "    </tr>\n",
       "    <tr>\n",
       "      <th>4</th>\n",
       "      <td>Heating / Ventilation / Air Conditioning</td>\n",
       "      <td>0.001383</td>\n",
       "    </tr>\n",
       "    <tr>\n",
       "      <th>5</th>\n",
       "      <td>Kitchen &amp; Bathroom</td>\n",
       "      <td>-0.001000</td>\n",
       "    </tr>\n",
       "    <tr>\n",
       "      <th>6</th>\n",
       "      <td>Livestock &amp; Pet Supplies</td>\n",
       "      <td>-0.000178</td>\n",
       "    </tr>\n",
       "  </tbody>\n",
       "</table>\n",
       "</div>"
      ],
      "text/plain": [
       "                                    Level 1  weighted difference\n",
       "0                                   Apparel            -0.003487\n",
       "1                          Food / Beverages             0.002015\n",
       "2                      Gardening & Outdoors            -0.000265\n",
       "3                           Health & Beauty             0.000533\n",
       "4  Heating / Ventilation / Air Conditioning             0.001383\n",
       "5                        Kitchen & Bathroom            -0.001000\n",
       "6                  Livestock & Pet Supplies            -0.000178"
      ]
     },
     "execution_count": 12,
     "metadata": {},
     "output_type": "execute_result"
    }
   ],
   "source": [
    "df_grp"
   ]
  },
  {
   "cell_type": "code",
   "execution_count": 14,
   "id": "373fb82c",
   "metadata": {},
   "outputs": [],
   "source": [
    "from datetime import date\n",
    "dte = date.today().strftime('%m%d%y')\n",
    "excel_file = path + \"LR_MLPSMOTE weighted differences_\"+dte + '.xlsx'\n",
    "from pandas import ExcelWriter\n",
    "from pandas import ExcelFile\n",
    "writer = pd.ExcelWriter(excel_file)\n",
    "df_grp.to_excel(writer,'LR_MLPSMOTE weighted difference')  \n",
    "df.to_excel(writer,'LR_MLPSMOTE MDL CMP GTIN CNT')\n",
    "df1.to_excel(writer,'LR_MLPSMOTE MDL CMP Dropna') \n",
    "     \n",
    "writer.close()"
   ]
  },
  {
   "cell_type": "code",
   "execution_count": null,
   "id": "fa1695db",
   "metadata": {},
   "outputs": [],
   "source": [
    "STOP"
   ]
  },
  {
   "cell_type": "code",
   "execution_count": null,
   "id": "6de259d7",
   "metadata": {},
   "outputs": [],
   "source": [
    "# try to write the worksheet to the existing file, but not working.\n",
    "#df = pd.read_excel('existing_file.xlsx', sheet_name='Sheet1')\n",
    "# Load the existing Excel file using openpyxl\n",
    "book = load_workbook(f_name)\n",
    "\n",
    "# Create a new worksheet\n",
    "#new_sheet = book.create_sheet(['LR_MLPSMOTE weighted difference', 'cmp_dropna'])\n",
    "new_sheet = book.create_sheet('LR_MLPSMOTE weighted difference')\n",
    "\n",
    "# Save the changes\n",
    "book.save(f_name)\n",
    "# Write data to the new worksheet\n",
    "df_grp.to_excel(f_name, sheet_name='LR_MLPSMOTE weighted difference', index=False)"
   ]
  },
  {
   "cell_type": "code",
   "execution_count": null,
   "id": "3e56d746",
   "metadata": {},
   "outputs": [],
   "source": [
    "len('LR_MLPSMOTE weighted difference')"
   ]
  },
  {
   "cell_type": "code",
   "execution_count": null,
   "id": "e49537b6",
   "metadata": {},
   "outputs": [],
   "source": []
  }
 ],
 "metadata": {
  "kernelspec": {
   "display_name": "Python 3 (ipykernel)",
   "language": "python",
   "name": "python3"
  },
  "language_info": {
   "codemirror_mode": {
    "name": "ipython",
    "version": 3
   },
   "file_extension": ".py",
   "mimetype": "text/x-python",
   "name": "python",
   "nbconvert_exporter": "python",
   "pygments_lexer": "ipython3",
   "version": "3.10.9"
  }
 },
 "nbformat": 4,
 "nbformat_minor": 5
}
