{
 "cells": [
  {
   "cell_type": "code",
   "execution_count": 1,
   "id": "c77279a9",
   "metadata": {},
   "outputs": [],
   "source": [
    "import pprint\n",
    "import matplotlib.pyplot as plt\n",
    "\n",
    "import pandas as pd\n",
    "import numpy as np"
   ]
  },
  {
   "cell_type": "code",
   "execution_count": 2,
   "id": "ac47f229",
   "metadata": {},
   "outputs": [
    {
     "name": "stdout",
     "output_type": "stream",
     "text": [
      "<class 'pandas.core.frame.DataFrame'>\n",
      "RangeIndex: 45211 entries, 0 to 45210\n",
      "Data columns (total 17 columns):\n",
      " #   Column     Non-Null Count  Dtype \n",
      "---  ------     --------------  ----- \n",
      " 0   age        45211 non-null  int64 \n",
      " 1   job        45211 non-null  object\n",
      " 2   marital    45211 non-null  object\n",
      " 3   education  45211 non-null  object\n",
      " 4   default    45211 non-null  object\n",
      " 5   balance    45211 non-null  int64 \n",
      " 6   housing    45211 non-null  object\n",
      " 7   loan       45211 non-null  object\n",
      " 8   contact    45211 non-null  object\n",
      " 9   day        45211 non-null  int64 \n",
      " 10  month      45211 non-null  object\n",
      " 11  duration   45211 non-null  int64 \n",
      " 12  campaign   45211 non-null  int64 \n",
      " 13  pdays      45211 non-null  int64 \n",
      " 14  previous   45211 non-null  int64 \n",
      " 15  poutcome   45211 non-null  object\n",
      " 16  y          45211 non-null  object\n",
      "dtypes: int64(7), object(10)\n",
      "memory usage: 5.9+ MB\n"
     ]
    },
    {
     "data": {
      "text/plain": [
       "0    39922\n",
       "1     5289\n",
       "Name: target, dtype: int64"
      ]
     },
     "execution_count": 2,
     "metadata": {},
     "output_type": "execute_result"
    }
   ],
   "source": [
    "pd.set_option( 'display.max_columns', 10 )\n",
    "pd.set_option('precision', 6)\n",
    "pd.set_option('max_colwidth', 20)\n",
    "pd.set_option('display.width', 120)\n",
    "\n",
    "path = 'C:\\\\Users\\\\sophia.yue\\\\Data\\\\'\n",
    "df = pd.read_csv(path + 'bank-full.csv', sep=';')\n",
    "df.head()\n",
    "df.shape\n",
    "df.describe()\n",
    "df.info()\n",
    "#  Examine target values and map to 0 and 1\n",
    "df.y.value_counts()             \n",
    "targ_dict = {'no': 0, 'yes':1 }\n",
    "df['target'] = [targ_dict[yy] for yy in df.y]\n",
    "df.target.value_counts()    "
   ]
  },
  {
   "cell_type": "code",
   "execution_count": 3,
   "id": "169ac7ed",
   "metadata": {},
   "outputs": [
    {
     "data": {
      "text/plain": [
       "job          object\n",
       "marital      object\n",
       "education    object\n",
       "default      object\n",
       "housing      object\n",
       "loan         object\n",
       "contact      object\n",
       "month        object\n",
       "poutcome     object\n",
       "y            object\n",
       "dtype: object"
      ]
     },
     "execution_count": 3,
     "metadata": {},
     "output_type": "execute_result"
    }
   ],
   "source": [
    "df.dtypes[df.dtypes == 'O']"
   ]
  },
  {
   "cell_type": "code",
   "execution_count": 4,
   "id": "02206d33",
   "metadata": {},
   "outputs": [
    {
     "data": {
      "text/plain": [
       "age         int64\n",
       "balance     int64\n",
       "day         int64\n",
       "duration    int64\n",
       "campaign    int64\n",
       "pdays       int64\n",
       "previous    int64\n",
       "target      int64\n",
       "dtype: object"
      ]
     },
     "execution_count": 4,
     "metadata": {},
     "output_type": "execute_result"
    }
   ],
   "source": [
    "df.dtypes[df.dtypes != 'O']"
   ]
  },
  {
   "cell_type": "code",
   "execution_count": 5,
   "id": "104e73ac",
   "metadata": {
    "scrolled": true
   },
   "outputs": [
    {
     "data": {
      "text/html": [
       "<div>\n",
       "<style scoped>\n",
       "    .dataframe tbody tr th:only-of-type {\n",
       "        vertical-align: middle;\n",
       "    }\n",
       "\n",
       "    .dataframe tbody tr th {\n",
       "        vertical-align: top;\n",
       "    }\n",
       "\n",
       "    .dataframe thead th {\n",
       "        text-align: right;\n",
       "    }\n",
       "</style>\n",
       "<table border=\"1\" class=\"dataframe\">\n",
       "  <thead>\n",
       "    <tr style=\"text-align: right;\">\n",
       "      <th></th>\n",
       "      <th>age</th>\n",
       "      <th>job</th>\n",
       "      <th>marital</th>\n",
       "      <th>education</th>\n",
       "      <th>default</th>\n",
       "      <th>...</th>\n",
       "      <th>pdays</th>\n",
       "      <th>previous</th>\n",
       "      <th>poutcome</th>\n",
       "      <th>y</th>\n",
       "      <th>target</th>\n",
       "    </tr>\n",
       "  </thead>\n",
       "  <tbody>\n",
       "    <tr>\n",
       "      <th>0</th>\n",
       "      <td>58</td>\n",
       "      <td>management</td>\n",
       "      <td>married</td>\n",
       "      <td>tertiary</td>\n",
       "      <td>no</td>\n",
       "      <td>...</td>\n",
       "      <td>-1</td>\n",
       "      <td>0</td>\n",
       "      <td>unknown</td>\n",
       "      <td>no</td>\n",
       "      <td>0</td>\n",
       "    </tr>\n",
       "    <tr>\n",
       "      <th>1</th>\n",
       "      <td>44</td>\n",
       "      <td>technician</td>\n",
       "      <td>single</td>\n",
       "      <td>secondary</td>\n",
       "      <td>no</td>\n",
       "      <td>...</td>\n",
       "      <td>-1</td>\n",
       "      <td>0</td>\n",
       "      <td>unknown</td>\n",
       "      <td>no</td>\n",
       "      <td>0</td>\n",
       "    </tr>\n",
       "    <tr>\n",
       "      <th>2</th>\n",
       "      <td>33</td>\n",
       "      <td>entrepreneur</td>\n",
       "      <td>married</td>\n",
       "      <td>secondary</td>\n",
       "      <td>no</td>\n",
       "      <td>...</td>\n",
       "      <td>-1</td>\n",
       "      <td>0</td>\n",
       "      <td>unknown</td>\n",
       "      <td>no</td>\n",
       "      <td>0</td>\n",
       "    </tr>\n",
       "    <tr>\n",
       "      <th>3</th>\n",
       "      <td>47</td>\n",
       "      <td>blue-collar</td>\n",
       "      <td>married</td>\n",
       "      <td>unknown</td>\n",
       "      <td>no</td>\n",
       "      <td>...</td>\n",
       "      <td>-1</td>\n",
       "      <td>0</td>\n",
       "      <td>unknown</td>\n",
       "      <td>no</td>\n",
       "      <td>0</td>\n",
       "    </tr>\n",
       "    <tr>\n",
       "      <th>4</th>\n",
       "      <td>33</td>\n",
       "      <td>unknown</td>\n",
       "      <td>single</td>\n",
       "      <td>unknown</td>\n",
       "      <td>no</td>\n",
       "      <td>...</td>\n",
       "      <td>-1</td>\n",
       "      <td>0</td>\n",
       "      <td>unknown</td>\n",
       "      <td>no</td>\n",
       "      <td>0</td>\n",
       "    </tr>\n",
       "  </tbody>\n",
       "</table>\n",
       "<p>5 rows × 18 columns</p>\n",
       "</div>"
      ],
      "text/plain": [
       "   age           job  marital  education default  ...  pdays previous poutcome   y  target\n",
       "0   58    management  married   tertiary      no  ...     -1        0  unknown  no       0\n",
       "1   44    technician   single  secondary      no  ...     -1        0  unknown  no       0\n",
       "2   33  entrepreneur  married  secondary      no  ...     -1        0  unknown  no       0\n",
       "3   47   blue-collar  married    unknown      no  ...     -1        0  unknown  no       0\n",
       "4   33       unknown   single    unknown      no  ...     -1        0  unknown  no       0\n",
       "\n",
       "[5 rows x 18 columns]"
      ]
     },
     "execution_count": 5,
     "metadata": {},
     "output_type": "execute_result"
    }
   ],
   "source": [
    "df.head()"
   ]
  },
  {
   "cell_type": "markdown",
   "id": "fd39bc26",
   "metadata": {},
   "source": [
    "## function infValue"
   ]
  },
  {
   "cell_type": "code",
   "execution_count": 6,
   "id": "efbac373",
   "metadata": {},
   "outputs": [],
   "source": [
    "def infValue( x, y, labels=(0,1), names=('Neg', 'Pos'), mins=(1,1), offsets=(0,0), verb=False ):\n",
    " \n",
    "    a  = pd.crosstab( x, y ) \n",
    "    labs2keep=[g for g in a.columns if g in labels ]\n",
    "    a = a[labs2keep]\n",
    "    a.columns = names\n",
    "    \n",
    "    if sum(offsets) > 0 :\n",
    "        a = a + offsets\n",
    "    \n",
    "    #  Create column containing Column Percentages\n",
    "    pct_cols = ['Pct_'+b for b in a.columns]\n",
    "    for i in range(len(a.columns)):\n",
    "        a[pct_cols[i]]=a[a.columns[i]]/sum(a[a.columns[i]])\n",
    "    \n",
    "    a['use']       = np.where( np.logical_and( a[a.columns[0]] > mins[0], a[a.columns[1]] > mins[1]), 1, 0)\n",
    "    a['woe']       = np.where( a['use'] == 1, np.log(a[a.columns[len(names)]]/a[a.columns[len(names)+1]]), 0)\n",
    "    a['ivcontrib'] = (a[a.columns[len(names)]]-a[a.columns[len(names)+1]]) * a['woe' ]\n",
    "  \n",
    "    inf_val = sum( a['ivcontrib'] )\n",
    "    \n",
    "    if verb:\n",
    "        print('Inf. value = '+ str(inf_val) + ', '+ str(sum(a['use'])) + ' of '+str(len(a['use'])) + ' levels contributing')\n",
    "        print(a)\n",
    "        \n",
    "    return (inf_val, a)\n"
   ]
  },
  {
   "cell_type": "code",
   "execution_count": 7,
   "id": "c775430d",
   "metadata": {},
   "outputs": [
    {
     "name": "stdout",
     "output_type": "stream",
     "text": [
      "Inf. value = 0.048847821685902536, 3 of 4 levels contributing\n",
      "           No_Deposit  Deposit  Pct_No_Deposit  Pct_Deposit  use       woe  ivcontrib\n",
      "education                                                                            \n",
      "primary          6260      591        0.156806     0.111741    1  0.338821   0.015269\n",
      "secondary       20752     2450        0.519814     0.463226    1  0.115256   0.006522\n",
      "tertiary        11305     1996        0.283177     0.377387    1 -0.287198   0.027057\n",
      "unknown          1605      252        0.040203     0.047646    0  0.000000  -0.000000\n",
      "Inf. value = 0.1556966120049305, 11 of 12 levels contributing\n",
      "               No_Deposit  Deposit  Pct_No_Deposit  Pct_Deposit  use       woe  ivcontrib\n",
      "job                                                                                      \n",
      "admin.               4540      631        0.113722     0.119304    1 -0.047922   0.000268\n",
      "blue-collar          9024      708        0.226041     0.133863    1  0.523901   0.048292\n",
      "entrepreneur         1364      123        0.034167     0.023256    1  0.384694   0.004197\n",
      "housemaid            1131      109        0.028330     0.020609    1  0.318211   0.002457\n",
      "management           8157     1301        0.204323     0.245982    1 -0.185555   0.007730\n",
      "retired              1748      516        0.043785     0.097561    1 -0.801178   0.043084\n",
      "self-employed        1392      187        0.034868     0.035356    1 -0.013910   0.000007\n",
      "services             3785      369        0.094810     0.069767    1  0.306706   0.007681\n",
      "student               669      269        0.016758     0.050860    1 -1.110226   0.037862\n",
      "technician           6757      840        0.169255     0.158820    1  0.063634   0.000664\n",
      "unemployed           1101      202        0.027579     0.038192    1 -0.325592   0.003456\n",
      "unknown               254       34        0.006362     0.006428    0  0.000000  -0.000000\n",
      "Inf. value = 0.30039610325129745, 3 of 3 levels contributing\n",
      "           No_Deposit  Deposit  Pct_No_Deposit  Pct_Deposit  use       woe  ivcontrib\n",
      "contact                                                                              \n",
      "cellular        24916     4369        0.624117     0.826054    1 -0.280322   0.056607\n",
      "telephone        2516      390        0.063023     0.073738    1 -0.157019   0.001682\n",
      "unknown         12490      530        0.312860     0.100208    1  1.138508   0.242106\n",
      "Inf. value = 0.514609116654664, 4 of 4 levels contributing\n",
      "          No_Deposit  Deposit  Pct_No_Deposit  Pct_Deposit  use       woe  ivcontrib\n",
      "poutcome                                                                            \n",
      "failure         4283      618        0.107284     0.116846    1 -0.085378   0.000816\n",
      "other           1533      307        0.038400     0.058045    1 -0.413164   0.008117\n",
      "success          533      978        0.013351     0.184912    1 -2.628287   0.450912\n",
      "unknown        33573     3386        0.840965     0.640197    1  0.272775   0.054764\n",
      "{'contact': 0.30039610325129745,\n",
      " 'education': 0.048847821685902536,\n",
      " 'job': 0.1556966120049305,\n",
      " 'poutcome': 0.514609116654664}\n"
     ]
    }
   ],
   "source": [
    "#  Information Value -- Categorical fields\n",
    "(iv1, a1) = infValue( df['education'], df['target'], verb=True, mins=(1000,300), names=('No_Deposit','Deposit') )\n",
    "(iv2, a2) = infValue( df['job'],       df['target'], verb=True, mins=( 500,100), names=('No_Deposit','Deposit') )\n",
    "(iv3, a3) = infValue( df['contact'],   df['target'], verb=True, mins=( 500,100), names=('No_Deposit','Deposit') )\n",
    "(iv4, a4) = infValue( df['poutcome'],  df['target'], verb=True, mins=( 500,100), names=('No_Deposit','Deposit') )\n",
    "\n",
    "ivdict1 = {'education': iv1, 'job': iv2, 'contact': iv3, 'poutcome': iv4}\n",
    "pprint.pprint(ivdict1)"
   ]
  },
  {
   "cell_type": "code",
   "execution_count": 8,
   "id": "b062fe56",
   "metadata": {},
   "outputs": [
    {
     "data": {
      "text/html": [
       "<div>\n",
       "<style scoped>\n",
       "    .dataframe tbody tr th:only-of-type {\n",
       "        vertical-align: middle;\n",
       "    }\n",
       "\n",
       "    .dataframe tbody tr th {\n",
       "        vertical-align: top;\n",
       "    }\n",
       "\n",
       "    .dataframe thead th {\n",
       "        text-align: right;\n",
       "    }\n",
       "</style>\n",
       "<table border=\"1\" class=\"dataframe\">\n",
       "  <thead>\n",
       "    <tr style=\"text-align: right;\">\n",
       "      <th></th>\n",
       "      <th>No_Deposit</th>\n",
       "      <th>Deposit</th>\n",
       "      <th>Pct_No_Deposit</th>\n",
       "      <th>Pct_Deposit</th>\n",
       "      <th>use</th>\n",
       "      <th>woe</th>\n",
       "      <th>ivcontrib</th>\n",
       "    </tr>\n",
       "    <tr>\n",
       "      <th>contact</th>\n",
       "      <th></th>\n",
       "      <th></th>\n",
       "      <th></th>\n",
       "      <th></th>\n",
       "      <th></th>\n",
       "      <th></th>\n",
       "      <th></th>\n",
       "    </tr>\n",
       "  </thead>\n",
       "  <tbody>\n",
       "    <tr>\n",
       "      <th>cellular</th>\n",
       "      <td>24916</td>\n",
       "      <td>4369</td>\n",
       "      <td>0.624117</td>\n",
       "      <td>0.826054</td>\n",
       "      <td>1</td>\n",
       "      <td>-0.280322</td>\n",
       "      <td>0.056607</td>\n",
       "    </tr>\n",
       "    <tr>\n",
       "      <th>telephone</th>\n",
       "      <td>2516</td>\n",
       "      <td>390</td>\n",
       "      <td>0.063023</td>\n",
       "      <td>0.073738</td>\n",
       "      <td>0</td>\n",
       "      <td>0.000000</td>\n",
       "      <td>-0.000000</td>\n",
       "    </tr>\n",
       "    <tr>\n",
       "      <th>unknown</th>\n",
       "      <td>12490</td>\n",
       "      <td>530</td>\n",
       "      <td>0.312860</td>\n",
       "      <td>0.100208</td>\n",
       "      <td>1</td>\n",
       "      <td>1.138508</td>\n",
       "      <td>0.242106</td>\n",
       "    </tr>\n",
       "  </tbody>\n",
       "</table>\n",
       "</div>"
      ],
      "text/plain": [
       "           No_Deposit  Deposit  Pct_No_Deposit  Pct_Deposit  use       woe  ivcontrib\n",
       "contact                                                                              \n",
       "cellular        24916     4369        0.624117     0.826054    1 -0.280322   0.056607\n",
       "telephone        2516      390        0.063023     0.073738    0  0.000000  -0.000000\n",
       "unknown         12490      530        0.312860     0.100208    1  1.138508   0.242106"
      ]
     },
     "execution_count": 8,
     "metadata": {},
     "output_type": "execute_result"
    }
   ],
   "source": [
    "(iv3, a3) = infValue( df['contact'],   df['target'], verb=False, mins=( 500,400), names=('No_Deposit','Deposit') )\n",
    "a3\n",
    "\n"
   ]
  },
  {
   "cell_type": "code",
   "execution_count": 9,
   "id": "11360395",
   "metadata": {},
   "outputs": [
    {
     "ename": "NameError",
     "evalue": "name 'a7' is not defined",
     "output_type": "error",
     "traceback": [
      "\u001b[1;31m---------------------------------------------------------------------------\u001b[0m",
      "\u001b[1;31mNameError\u001b[0m                                 Traceback (most recent call last)",
      "\u001b[1;32m<ipython-input-9-0c332fda0bb7>\u001b[0m in \u001b[0;36m<module>\u001b[1;34m\u001b[0m\n\u001b[1;32m----> 1\u001b[1;33m \u001b[0mplt\u001b[0m\u001b[1;33m.\u001b[0m\u001b[0mplot\u001b[0m\u001b[1;33m(\u001b[0m\u001b[0ma7\u001b[0m\u001b[1;33m[\u001b[0m\u001b[1;34m'woe'\u001b[0m\u001b[1;33m]\u001b[0m\u001b[1;33m)\u001b[0m\u001b[1;33m\u001b[0m\u001b[1;33m\u001b[0m\u001b[0m\n\u001b[0m\u001b[0;32m      2\u001b[0m \u001b[1;33m\u001b[0m\u001b[0m\n",
      "\u001b[1;31mNameError\u001b[0m: name 'a7' is not defined"
     ]
    }
   ],
   "source": [
    "\n",
    "plt.plot(a7['woe'])\n",
    "\n"
   ]
  },
  {
   "cell_type": "code",
   "execution_count": null,
   "id": "d5d4ed07",
   "metadata": {},
   "outputs": [],
   "source": [
    "a3\n"
   ]
  },
  {
   "cell_type": "code",
   "execution_count": null,
   "id": "44cf82ac",
   "metadata": {},
   "outputs": [],
   "source": [
    "ivdict1"
   ]
  },
  {
   "cell_type": "markdown",
   "id": "2ae6e4cc",
   "metadata": {},
   "source": [
    "## infValue Simulation"
   ]
  },
  {
   "cell_type": "code",
   "execution_count": null,
   "id": "c0dff7fe",
   "metadata": {},
   "outputs": [],
   "source": [
    "\n",
    "#def ainfValue( x, y, labels=(0,1), names=('Neg', 'Pos'), mins=(1,1), offsets=(0,0), verb=False ):\n",
    "x = df['education']\n",
    "y = df['target']\n",
    "labels=(0,1); offsets=(0,0)\n",
    "verb=True; mins=(1000,300); names=('No_Deposit','Deposit') \n",
    "\n",
    "a  = pd.crosstab( x, y ) #type: pandas.core.frame.DataFrame \n",
    "labs2keep=[g for g in a.columns if g in labels ]\n",
    "a = a[labs2keep]\n",
    "a.columns = names\n",
    "\n",
    "if sum(offsets) > 0 :\n",
    "    a = a + offsets\n",
    "\n",
    "#  Create column containing Column Percentages\n",
    "pct_cols = ['Pct_'+b for b in a.columns]\n",
    "for i in range(len(a.columns)):\n",
    "    a[pct_cols[i]]=a[a.columns[i]]/sum(a[a.columns[i]])\n",
    "\n",
    "a['use']       = np.where( np.logical_and( a[a.columns[0]] > mins[0], a[a.columns[1]] > mins[1]), 1, 0)\n",
    "a['woe']       = np.where( a['use'] == 1, np.log(a[a.columns[len(names)]]/a[a.columns[len(names)+1]]), 0)\n",
    "a['ivcontrib'] = (a[a.columns[len(names)]]-a[a.columns[len(names)+1]]) * a['woe' ]\n",
    "inf_val = sum( a['ivcontrib'] )\n",
    "\n",
    "if verb:\n",
    "    print('Inf. value = '+ str(inf_val) + ', '+ str(sum(a['use'])) + ' of '+str(len(a['use'])) + ' levels contributing')\n",
    "    print(a)\n",
    "#return (inf_val, a)    "
   ]
  },
  {
   "cell_type": "markdown",
   "id": "c07d4778",
   "metadata": {},
   "source": [
    "## infValue  wip"
   ]
  },
  {
   "cell_type": "code",
   "execution_count": null,
   "id": "d0394149",
   "metadata": {},
   "outputs": [],
   "source": [
    "ax  = pd.crosstab( x, y ) #type: pandas.core.frame.DataFrame \n",
    "ax.columns\n",
    "ax\n",
    "[g for g in ax.columns if g in labels ]"
   ]
  },
  {
   "cell_type": "code",
   "execution_count": null,
   "id": "07a0e48c",
   "metadata": {},
   "outputs": [],
   "source": [
    "ax  = pd.crosstab( x, y ) #type: pandas.core.frame.DataFrame \n",
    "ax.columns\n",
    "\n",
    "\n",
    "labs2keep=[g for g in ax.columns if g in labels ]   # [0, 1]\n",
    "ax = ax[labs2keep]\n",
    "ax.columns = names\n",
    "ax"
   ]
  },
  {
   "cell_type": "code",
   "execution_count": null,
   "id": "eb205112",
   "metadata": {},
   "outputs": [],
   "source": [
    "type(df[(df.education == 'primary') & (df.target == 0)].count())  # series\n",
    "df[(df.education == 'primary') & (df.target == 0)].count()[0:1]  # 6260 0bs with (education == 'primary') & (df.target == 0)\n",
    "df[(df.education == 'primary') & (df.target == 1)].count()[0:1]  # age: 591 1ith (education == 'primary') & (df.target == 1)"
   ]
  },
  {
   "cell_type": "code",
   "execution_count": null,
   "id": "4cd94fc5",
   "metadata": {},
   "outputs": [],
   "source": [
    "df[(df.education == 'primary') & (df.target == 0)].count()  # 6260\n",
    "df[(df.education == 'primary') & (df.target == 1)].count()  # 591"
   ]
  },
  {
   "cell_type": "code",
   "execution_count": null,
   "id": "0192d81d",
   "metadata": {
    "scrolled": true
   },
   "outputs": [],
   "source": [
    "a.head()"
   ]
  },
  {
   "cell_type": "code",
   "execution_count": null,
   "id": "b5a1ab68",
   "metadata": {},
   "outputs": [],
   "source": [
    " a.columns"
   ]
  },
  {
   "cell_type": "code",
   "execution_count": null,
   "id": "2f189d0a",
   "metadata": {},
   "outputs": [],
   "source": [
    "labels=(0,1)\n",
    "labs2keep=[g for g in a.columns if g in labels ]\n",
    "labs2keep[0:10]\n",
    "a.columns = names\n",
    "a"
   ]
  },
  {
   "cell_type": "code",
   "execution_count": null,
   "id": "89ba02aa",
   "metadata": {},
   "outputs": [],
   "source": [
    " ax[ax.columns[0]] "
   ]
  },
  {
   "cell_type": "code",
   "execution_count": null,
   "id": "ee0fe435",
   "metadata": {},
   "outputs": [],
   "source": [
    " ax[ax.columns[1]] "
   ]
  },
  {
   "cell_type": "code",
   "execution_count": null,
   "id": "52a10264",
   "metadata": {},
   "outputs": [],
   "source": [
    "# 1len(names) # 2\n",
    "ax[ax.columns[len(names)]] # 0.156806, 0.519814, 0.283177, 0.040203\n",
    "ax[ax.columns[len(names) + 1]] # 0.11741,  0.463226, 0.377387,  0.04764 \n",
    "np.log(0.156806/ 0.11741)# 0.2893372898482112 Woe\n",
    "\n",
    "# 0.156806\t0.111741\t 0.338821\t"
   ]
  },
  {
   "cell_type": "code",
   "execution_count": null,
   "id": "9401ee61",
   "metadata": {},
   "outputs": [],
   "source": [
    "ax[ax.columns[len(names) + 1]]"
   ]
  },
  {
   "cell_type": "code",
   "execution_count": null,
   "id": "4b557b67",
   "metadata": {},
   "outputs": [],
   "source": [
    "ax['use']       = np.where( np.logical_and( ax[ax.columns[0]] > mins[0], ax[ax.columns[1]] > mins[1]), 1, 0)\n",
    "ax['use'] # 1, 1, 1, 0\n",
    "ax['woe']       = np.where( ax['use'] == 1, np.log(a[a.columns[len(names)]]/a[a.columns[len(names)+1]]), 0)\n",
    "ax['woe']\n",
    "#ax['ivcontrib'] = (ax[ax.columns[len(names)]]-ax[ax.columns[len(names)+1]]) * ax['woe' ]"
   ]
  },
  {
   "cell_type": "code",
   "execution_count": null,
   "id": "56a16c90",
   "metadata": {},
   "outputs": [],
   "source": [
    "#  Create column containing Column Percentages\n",
    "pct_cols = ['Pct_'+b for b in a.columns]\n",
    "for i in range(len(ax.columns)):\n",
    "    ax[pct_cols[i]]=ax[ax.columns[i]]/sum(ax[ax.columns[i]])\n",
    "a    "
   ]
  },
  {
   "cell_type": "code",
   "execution_count": null,
   "id": "03e23de9",
   "metadata": {},
   "outputs": [],
   "source": [
    "inf_value( df['education'], df['target'], verb=True, mins=(1000,300), names=('No_Deposit','Deposit') )"
   ]
  },
  {
   "cell_type": "markdown",
   "id": "3e197e73",
   "metadata": {},
   "source": [
    "## Calculate WOE from cross_tab "
   ]
  },
  {
   "cell_type": "code",
   "execution_count": 40,
   "id": "96d80a67",
   "metadata": {},
   "outputs": [],
   "source": [
    "def inf_value( a , verb=False ):\n",
    "    mins=(1,1) \n",
    "\n",
    "    names = a.columns\n",
    "    #  Create column containing Column Percentages\n",
    "    pct_cols = ['Pct_'+b for b in a.columns]\n",
    "    # pctx_cols = ['Pctx_'+b for b in a.columns]\n",
    "    for i in range(len(a.columns)):\n",
    "        a[pct_cols[i]]=a[a.columns[i]]/sum(a[a.columns[i]])\n",
    "        #a[pctx_cols[i]]=(100 * a[a.columns[i]]/sum(a[a.columns[i]])).round(1).astype(str)+ '%'\n",
    "    \n",
    "    a['use']       = np.where( np.logical_and( a[a.columns[0]] > mins[0], a[a.columns[1]] > mins[1]), 1, 0)\n",
    "    a['woe']       = np.where( a['use'] == 1, np.log(a[a.columns[len(names)]]/a[a.columns[len(names)+1]]), 0)\n",
    "    a['ivcontrib'] = (a[a.columns[len(names)]]-a[a.columns[len(names)+1]]) * a['woe' ]\n",
    "  \n",
    "   \n",
    "    a['pct_total'] = (a.Passed + a.Failed)/(a['Passed'].sum() + a.Failed.sum() )\n",
    "    inf_val = sum( a['ivcontrib'] )\n",
    "    if verb:\n",
    "        print('Inf. value = '+ str(inf_val) + ', '+ str(sum(a['use'])) + ' of '+str(len(a['use'])) + ' levels contributing')\n",
    "        print(a)\n",
    "        \n",
    "    return (inf_val, a)"
   ]
  },
  {
   "cell_type": "code",
   "execution_count": 11,
   "id": "616fbfe3",
   "metadata": {},
   "outputs": [],
   "source": [
    "import pandas as pd\n",
    "import numpy as np\n",
    "from pandas import ExcelWriter\n",
    "from pandas import ExcelFile"
   ]
  },
  {
   "cell_type": "code",
   "execution_count": 44,
   "id": "cf2cc929",
   "metadata": {},
   "outputs": [],
   "source": [
    "\n",
    "path_file = \"C:\\\\Users\\\\sophia.yue\\\\Infosys\\\\Sandeep Project\\\\wip Payment Audit Modeling 20180130 v1.xlsx\"\n",
    "df = pd.read_excel(path_file, engine = 'openpyxl', sheet_name = 'WoE_wip', index_col ='Value')\n",
    "dfx = df.copy()"
   ]
  },
  {
   "cell_type": "code",
   "execution_count": 45,
   "id": "7642c677",
   "metadata": {},
   "outputs": [
    {
     "data": {
      "text/html": [
       "<div>\n",
       "<style scoped>\n",
       "    .dataframe tbody tr th:only-of-type {\n",
       "        vertical-align: middle;\n",
       "    }\n",
       "\n",
       "    .dataframe tbody tr th {\n",
       "        vertical-align: top;\n",
       "    }\n",
       "\n",
       "    .dataframe thead th {\n",
       "        text-align: right;\n",
       "    }\n",
       "</style>\n",
       "<table border=\"1\" class=\"dataframe\">\n",
       "  <thead>\n",
       "    <tr style=\"text-align: right;\">\n",
       "      <th></th>\n",
       "      <th>Failed</th>\n",
       "      <th>Passed</th>\n",
       "    </tr>\n",
       "    <tr>\n",
       "      <th>Value</th>\n",
       "      <th></th>\n",
       "      <th></th>\n",
       "    </tr>\n",
       "  </thead>\n",
       "  <tbody>\n",
       "    <tr>\n",
       "      <th>USD</th>\n",
       "      <td>3245</td>\n",
       "      <td>7868</td>\n",
       "    </tr>\n",
       "    <tr>\n",
       "      <th>CNY</th>\n",
       "      <td>757</td>\n",
       "      <td>6702</td>\n",
       "    </tr>\n",
       "    <tr>\n",
       "      <th>EUR</th>\n",
       "      <td>678</td>\n",
       "      <td>4026</td>\n",
       "    </tr>\n",
       "    <tr>\n",
       "      <th>INR</th>\n",
       "      <td>207</td>\n",
       "      <td>3343</td>\n",
       "    </tr>\n",
       "    <tr>\n",
       "      <th>SGD</th>\n",
       "      <td>171</td>\n",
       "      <td>2274</td>\n",
       "    </tr>\n",
       "  </tbody>\n",
       "</table>\n",
       "</div>"
      ],
      "text/plain": [
       "       Failed  Passed\n",
       "Value                \n",
       "USD      3245    7868\n",
       "CNY       757    6702\n",
       "EUR       678    4026\n",
       "INR       207    3343\n",
       "SGD       171    2274"
      ]
     },
     "execution_count": 45,
     "metadata": {},
     "output_type": "execute_result"
    }
   ],
   "source": [
    "df.head()"
   ]
  },
  {
   "cell_type": "code",
   "execution_count": 58,
   "id": "61c60205",
   "metadata": {},
   "outputs": [
    {
     "name": "stdout",
     "output_type": "stream",
     "text": [
      "Inf. value = 0.5570889097855005, 27 of 27 levels contributing\n",
      "       Failed  Passed  Pct_Failed  Pct_Passed  use       woe     ivcontrib  pct_ total\n",
      "Value                                                                                 \n",
      "USD      3245    7868    0.542551    0.227781    1  0.867900  2.731894e-01    0.274239\n",
      "CNY       757    6702    0.126567    0.194025    1 -0.427210  2.881838e-02    0.184068\n",
      "EUR       678    4026    0.113359    0.116554    1 -0.027793  8.879320e-05    0.116082\n",
      "INR       207    3343    0.034610    0.096781    1 -1.028317  6.393163e-02    0.087605\n",
      "SGD       171    2274    0.028591    0.065833    1 -0.834044  3.106177e-02    0.060336\n",
      "GBP       157    1214    0.026250    0.035146    1 -0.291842  2.596176e-03    0.033833\n",
      "AUD       147    1504    0.024578    0.043541    1 -0.571863  1.084444e-02    0.040742\n",
      "CAD        79    1084    0.013208    0.031382    1 -0.865377  1.572701e-02    0.028700\n",
      "KRW        69     400    0.011537    0.011580    1 -0.003770  1.642636e-07    0.011574\n",
      "MXN        58     788    0.009697    0.022813    1 -0.855467  1.121982e-02    0.020877\n",
      "BRL        54     559    0.009029    0.016183    1 -0.583577  4.175266e-03    0.015127\n",
      "JPY        52     740    0.008694    0.021423    1 -0.901818  1.147924e-02    0.019544\n",
      "SEK        44     306    0.007357    0.008859    1 -0.185807  2.791106e-04    0.008637\n",
      "CZK        32     159    0.005350    0.004603    1  0.150420  1.123913e-04    0.004713\n",
      "DKK        32     159    0.005350    0.004603    1  0.150420  1.123913e-04    0.004713\n",
      "MYR        32     389    0.005350    0.011262    1 -0.744255  4.399573e-03    0.010389\n",
      "NZD        26     559    0.004347    0.016183    1 -1.314465  1.555813e-02    0.014436\n",
      "CHF        25     201    0.004180    0.005819    1 -0.330841  5.422813e-04    0.005577\n",
      "ZAR        25     272    0.004180    0.007874    1 -0.633338  2.339911e-03    0.007329\n",
      "HKD        22     203    0.003678    0.005877    1 -0.468575  1.030204e-03    0.005552\n",
      "ARS        19     512    0.003177    0.014823    1 -1.540297  1.793801e-02    0.013104\n",
      "PHP        15     188    0.002508    0.005443    1 -0.774804  2.273822e-03    0.005010\n",
      "NOK        11     123    0.001839    0.003561    1 -0.660701  1.137545e-03    0.003307\n",
      "THB        11     138    0.001839    0.003995    1 -0.775770  1.672544e-03    0.003677\n",
      "TWD         8     428    0.001338    0.012391    1 -2.226093  2.460533e-02    0.010759\n",
      "VND         3      96    0.000502    0.002779    1 -1.712148  3.899651e-03    0.002443\n",
      "IDR         2     307    0.000334    0.008888    1 -3.280112  2.805591e-02    0.007625\n"
     ]
    }
   ],
   "source": [
    "df = dfx.copy()\n",
    "(inf, dfy) = inf_value( df , verb=True )"
   ]
  },
  {
   "cell_type": "code",
   "execution_count": 47,
   "id": "2dbfab0b",
   "metadata": {},
   "outputs": [
    {
     "data": {
      "text/html": [
       "<div>\n",
       "<style scoped>\n",
       "    .dataframe tbody tr th:only-of-type {\n",
       "        vertical-align: middle;\n",
       "    }\n",
       "\n",
       "    .dataframe tbody tr th {\n",
       "        vertical-align: top;\n",
       "    }\n",
       "\n",
       "    .dataframe thead th {\n",
       "        text-align: right;\n",
       "    }\n",
       "</style>\n",
       "<table border=\"1\" class=\"dataframe\">\n",
       "  <thead>\n",
       "    <tr style=\"text-align: right;\">\n",
       "      <th></th>\n",
       "      <th>Failed</th>\n",
       "      <th>Passed</th>\n",
       "      <th>Pct_Failed</th>\n",
       "      <th>Pct_Passed</th>\n",
       "      <th>use</th>\n",
       "      <th>woe</th>\n",
       "      <th>ivcontrib</th>\n",
       "      <th>pct_ total</th>\n",
       "    </tr>\n",
       "    <tr>\n",
       "      <th>Value</th>\n",
       "      <th></th>\n",
       "      <th></th>\n",
       "      <th></th>\n",
       "      <th></th>\n",
       "      <th></th>\n",
       "      <th></th>\n",
       "      <th></th>\n",
       "      <th></th>\n",
       "    </tr>\n",
       "  </thead>\n",
       "  <tbody>\n",
       "    <tr>\n",
       "      <th>USD</th>\n",
       "      <td>3245</td>\n",
       "      <td>7868</td>\n",
       "      <td>0.542551</td>\n",
       "      <td>0.227781</td>\n",
       "      <td>1</td>\n",
       "      <td>0.867900</td>\n",
       "      <td>0.273189</td>\n",
       "      <td>0.274239</td>\n",
       "    </tr>\n",
       "    <tr>\n",
       "      <th>CNY</th>\n",
       "      <td>757</td>\n",
       "      <td>6702</td>\n",
       "      <td>0.126567</td>\n",
       "      <td>0.194025</td>\n",
       "      <td>1</td>\n",
       "      <td>-0.427210</td>\n",
       "      <td>0.028818</td>\n",
       "      <td>0.184068</td>\n",
       "    </tr>\n",
       "    <tr>\n",
       "      <th>EUR</th>\n",
       "      <td>678</td>\n",
       "      <td>4026</td>\n",
       "      <td>0.113359</td>\n",
       "      <td>0.116554</td>\n",
       "      <td>1</td>\n",
       "      <td>-0.027793</td>\n",
       "      <td>0.000089</td>\n",
       "      <td>0.116082</td>\n",
       "    </tr>\n",
       "    <tr>\n",
       "      <th>INR</th>\n",
       "      <td>207</td>\n",
       "      <td>3343</td>\n",
       "      <td>0.034610</td>\n",
       "      <td>0.096781</td>\n",
       "      <td>1</td>\n",
       "      <td>-1.028317</td>\n",
       "      <td>0.063932</td>\n",
       "      <td>0.087605</td>\n",
       "    </tr>\n",
       "    <tr>\n",
       "      <th>SGD</th>\n",
       "      <td>171</td>\n",
       "      <td>2274</td>\n",
       "      <td>0.028591</td>\n",
       "      <td>0.065833</td>\n",
       "      <td>1</td>\n",
       "      <td>-0.834044</td>\n",
       "      <td>0.031062</td>\n",
       "      <td>0.060336</td>\n",
       "    </tr>\n",
       "  </tbody>\n",
       "</table>\n",
       "</div>"
      ],
      "text/plain": [
       "       Failed  Passed  Pct_Failed  Pct_Passed  use       woe  ivcontrib  pct_ total\n",
       "Value                                                                              \n",
       "USD      3245    7868    0.542551    0.227781    1  0.867900   0.273189    0.274239\n",
       "CNY       757    6702    0.126567    0.194025    1 -0.427210   0.028818    0.184068\n",
       "EUR       678    4026    0.113359    0.116554    1 -0.027793   0.000089    0.116082\n",
       "INR       207    3343    0.034610    0.096781    1 -1.028317   0.063932    0.087605\n",
       "SGD       171    2274    0.028591    0.065833    1 -0.834044   0.031062    0.060336"
      ]
     },
     "execution_count": 47,
     "metadata": {},
     "output_type": "execute_result"
    }
   ],
   "source": [
    "df.head()"
   ]
  },
  {
   "cell_type": "code",
   "execution_count": 36,
   "id": "d0aa672f",
   "metadata": {},
   "outputs": [],
   "source": [
    "df['pct_ total'] = (df.Passed + df.Failed)/(df['Passed'].sum() + df.Failed.sum() )"
   ]
  },
  {
   "cell_type": "code",
   "execution_count": 37,
   "id": "1fad1506",
   "metadata": {},
   "outputs": [
    {
     "data": {
      "text/html": [
       "<div>\n",
       "<style scoped>\n",
       "    .dataframe tbody tr th:only-of-type {\n",
       "        vertical-align: middle;\n",
       "    }\n",
       "\n",
       "    .dataframe tbody tr th {\n",
       "        vertical-align: top;\n",
       "    }\n",
       "\n",
       "    .dataframe thead th {\n",
       "        text-align: right;\n",
       "    }\n",
       "</style>\n",
       "<table border=\"1\" class=\"dataframe\">\n",
       "  <thead>\n",
       "    <tr style=\"text-align: right;\">\n",
       "      <th></th>\n",
       "      <th>Failed</th>\n",
       "      <th>Passed</th>\n",
       "      <th>Pct_Failed</th>\n",
       "      <th>Pct_Passed</th>\n",
       "      <th>use</th>\n",
       "      <th>woe</th>\n",
       "      <th>ivcontrib</th>\n",
       "      <th>pct_ total</th>\n",
       "    </tr>\n",
       "    <tr>\n",
       "      <th>Value</th>\n",
       "      <th></th>\n",
       "      <th></th>\n",
       "      <th></th>\n",
       "      <th></th>\n",
       "      <th></th>\n",
       "      <th></th>\n",
       "      <th></th>\n",
       "      <th></th>\n",
       "    </tr>\n",
       "  </thead>\n",
       "  <tbody>\n",
       "    <tr>\n",
       "      <th>USD</th>\n",
       "      <td>3245</td>\n",
       "      <td>7868</td>\n",
       "      <td>0.542551</td>\n",
       "      <td>0.227781</td>\n",
       "      <td>1</td>\n",
       "      <td>0.867900</td>\n",
       "      <td>0.273189</td>\n",
       "      <td>0.274239</td>\n",
       "    </tr>\n",
       "    <tr>\n",
       "      <th>CNY</th>\n",
       "      <td>757</td>\n",
       "      <td>6702</td>\n",
       "      <td>0.126567</td>\n",
       "      <td>0.194025</td>\n",
       "      <td>1</td>\n",
       "      <td>-0.427210</td>\n",
       "      <td>0.028818</td>\n",
       "      <td>0.184068</td>\n",
       "    </tr>\n",
       "    <tr>\n",
       "      <th>EUR</th>\n",
       "      <td>678</td>\n",
       "      <td>4026</td>\n",
       "      <td>0.113359</td>\n",
       "      <td>0.116554</td>\n",
       "      <td>1</td>\n",
       "      <td>-0.027793</td>\n",
       "      <td>0.000089</td>\n",
       "      <td>0.116082</td>\n",
       "    </tr>\n",
       "    <tr>\n",
       "      <th>INR</th>\n",
       "      <td>207</td>\n",
       "      <td>3343</td>\n",
       "      <td>0.034610</td>\n",
       "      <td>0.096781</td>\n",
       "      <td>1</td>\n",
       "      <td>-1.028317</td>\n",
       "      <td>0.063932</td>\n",
       "      <td>0.087605</td>\n",
       "    </tr>\n",
       "    <tr>\n",
       "      <th>SGD</th>\n",
       "      <td>171</td>\n",
       "      <td>2274</td>\n",
       "      <td>0.028591</td>\n",
       "      <td>0.065833</td>\n",
       "      <td>1</td>\n",
       "      <td>-0.834044</td>\n",
       "      <td>0.031062</td>\n",
       "      <td>0.060336</td>\n",
       "    </tr>\n",
       "  </tbody>\n",
       "</table>\n",
       "</div>"
      ],
      "text/plain": [
       "       Failed  Passed  Pct_Failed  Pct_Passed  use       woe  ivcontrib  pct_ total\n",
       "Value                                                                              \n",
       "USD      3245    7868    0.542551    0.227781    1  0.867900   0.273189    0.274239\n",
       "CNY       757    6702    0.126567    0.194025    1 -0.427210   0.028818    0.184068\n",
       "EUR       678    4026    0.113359    0.116554    1 -0.027793   0.000089    0.116082\n",
       "INR       207    3343    0.034610    0.096781    1 -1.028317   0.063932    0.087605\n",
       "SGD       171    2274    0.028591    0.065833    1 -0.834044   0.031062    0.060336"
      ]
     },
     "execution_count": 37,
     "metadata": {},
     "output_type": "execute_result"
    }
   ],
   "source": [
    "df.head()"
   ]
  },
  {
   "cell_type": "code",
   "execution_count": 48,
   "id": "5eef89b9",
   "metadata": {},
   "outputs": [
    {
     "data": {
      "image/png": "[encoded data removed]",
      "text/plain": [
       "<Figure size 432x288 with 1 Axes>"
      ]
     },
     "metadata": {
      "needs_background": "light"
     },
     "output_type": "display_data"
    }
   ],
   "source": [
    "\n",
    "plt.plot( df.woe); plt.grid()"
   ]
  },
  {
   "cell_type": "code",
   "execution_count": 59,
   "id": "2f05ee88",
   "metadata": {},
   "outputs": [
    {
     "data": {
      "text/html": [
       "<div>\n",
       "<style scoped>\n",
       "    .dataframe tbody tr th:only-of-type {\n",
       "        vertical-align: middle;\n",
       "    }\n",
       "\n",
       "    .dataframe tbody tr th {\n",
       "        vertical-align: top;\n",
       "    }\n",
       "\n",
       "    .dataframe thead th {\n",
       "        text-align: right;\n",
       "    }\n",
       "</style>\n",
       "<table border=\"1\" class=\"dataframe\">\n",
       "  <thead>\n",
       "    <tr style=\"text-align: right;\">\n",
       "      <th></th>\n",
       "      <th>Failed</th>\n",
       "      <th>Passed</th>\n",
       "      <th>Pct_Failed</th>\n",
       "      <th>Pct_Passed</th>\n",
       "      <th>use</th>\n",
       "      <th>woe</th>\n",
       "      <th>ivcontrib</th>\n",
       "      <th>pct_ total</th>\n",
       "    </tr>\n",
       "    <tr>\n",
       "      <th>Value</th>\n",
       "      <th></th>\n",
       "      <th></th>\n",
       "      <th></th>\n",
       "      <th></th>\n",
       "      <th></th>\n",
       "      <th></th>\n",
       "      <th></th>\n",
       "      <th></th>\n",
       "    </tr>\n",
       "  </thead>\n",
       "  <tbody>\n",
       "    <tr>\n",
       "      <th>USD</th>\n",
       "      <td>3245</td>\n",
       "      <td>7868</td>\n",
       "      <td>0.542551</td>\n",
       "      <td>0.227781</td>\n",
       "      <td>1</td>\n",
       "      <td>0.867900</td>\n",
       "      <td>0.273189</td>\n",
       "      <td>0.274239</td>\n",
       "    </tr>\n",
       "    <tr>\n",
       "      <th>CNY</th>\n",
       "      <td>757</td>\n",
       "      <td>6702</td>\n",
       "      <td>0.126567</td>\n",
       "      <td>0.194025</td>\n",
       "      <td>1</td>\n",
       "      <td>-0.427210</td>\n",
       "      <td>0.028818</td>\n",
       "      <td>0.184068</td>\n",
       "    </tr>\n",
       "    <tr>\n",
       "      <th>EUR</th>\n",
       "      <td>678</td>\n",
       "      <td>4026</td>\n",
       "      <td>0.113359</td>\n",
       "      <td>0.116554</td>\n",
       "      <td>1</td>\n",
       "      <td>-0.027793</td>\n",
       "      <td>0.000089</td>\n",
       "      <td>0.116082</td>\n",
       "    </tr>\n",
       "    <tr>\n",
       "      <th>INR</th>\n",
       "      <td>207</td>\n",
       "      <td>3343</td>\n",
       "      <td>0.034610</td>\n",
       "      <td>0.096781</td>\n",
       "      <td>1</td>\n",
       "      <td>-1.028317</td>\n",
       "      <td>0.063932</td>\n",
       "      <td>0.087605</td>\n",
       "    </tr>\n",
       "    <tr>\n",
       "      <th>SGD</th>\n",
       "      <td>171</td>\n",
       "      <td>2274</td>\n",
       "      <td>0.028591</td>\n",
       "      <td>0.065833</td>\n",
       "      <td>1</td>\n",
       "      <td>-0.834044</td>\n",
       "      <td>0.031062</td>\n",
       "      <td>0.060336</td>\n",
       "    </tr>\n",
       "    <tr>\n",
       "      <th>GBP</th>\n",
       "      <td>157</td>\n",
       "      <td>1214</td>\n",
       "      <td>0.026250</td>\n",
       "      <td>0.035146</td>\n",
       "      <td>1</td>\n",
       "      <td>-0.291842</td>\n",
       "      <td>0.002596</td>\n",
       "      <td>0.033833</td>\n",
       "    </tr>\n",
       "  </tbody>\n",
       "</table>\n",
       "</div>"
      ],
      "text/plain": [
       "       Failed  Passed  Pct_Failed  Pct_Passed  use       woe  ivcontrib  pct_ total\n",
       "Value                                                                              \n",
       "USD      3245    7868    0.542551    0.227781    1  0.867900   0.273189    0.274239\n",
       "CNY       757    6702    0.126567    0.194025    1 -0.427210   0.028818    0.184068\n",
       "EUR       678    4026    0.113359    0.116554    1 -0.027793   0.000089    0.116082\n",
       "INR       207    3343    0.034610    0.096781    1 -1.028317   0.063932    0.087605\n",
       "SGD       171    2274    0.028591    0.065833    1 -0.834044   0.031062    0.060336\n",
       "GBP       157    1214    0.026250    0.035146    1 -0.291842   0.002596    0.033833"
      ]
     },
     "execution_count": 59,
     "metadata": {},
     "output_type": "execute_result"
    }
   ],
   "source": [
    "dfz = df.iloc[0:6, :]\n",
    "dfz"
   ]
  },
  {
   "cell_type": "code",
   "execution_count": 60,
   "id": "9c425c3e",
   "metadata": {},
   "outputs": [
    {
     "data": {
      "image/png": "[encoded data removed]",
      "text/plain": [
       "<Figure size 432x288 with 1 Axes>"
      ]
     },
     "metadata": {
      "needs_background": "light"
     },
     "output_type": "display_data"
    }
   ],
   "source": [
    "plt.plot( dfz.woe);"
   ]
  },
  {
   "cell_type": "code",
   "execution_count": 65,
   "id": "fda8ded6",
   "metadata": {},
   "outputs": [
    {
     "data": {
      "text/plain": [
       "<AxesSubplot:>"
      ]
     },
     "execution_count": 65,
     "metadata": {},
     "output_type": "execute_result"
    },
    {
     "data": {
      "image/png": "[encoded data removed]",
      "text/plain": [
       "<Figure size 1008x1008 with 1 Axes>"
      ]
     },
     "metadata": {
      "needs_background": "light"
     },
     "output_type": "display_data"
    }
   ],
   "source": [
    "#dfz.pct_total.hist(figsize = (14, 14))\n",
    "dfz['pct_ total'].hist(figsize = (14, 14))\n",
    "#dfz.woe.hist(figsize = (14, 14));"
   ]
  },
  {
   "cell_type": "code",
   "execution_count": 62,
   "id": "ad11d9ab",
   "metadata": {},
   "outputs": [
    {
     "data": {
      "text/html": [
       "<div>\n",
       "<style scoped>\n",
       "    .dataframe tbody tr th:only-of-type {\n",
       "        vertical-align: middle;\n",
       "    }\n",
       "\n",
       "    .dataframe tbody tr th {\n",
       "        vertical-align: top;\n",
       "    }\n",
       "\n",
       "    .dataframe thead th {\n",
       "        text-align: right;\n",
       "    }\n",
       "</style>\n",
       "<table border=\"1\" class=\"dataframe\">\n",
       "  <thead>\n",
       "    <tr style=\"text-align: right;\">\n",
       "      <th></th>\n",
       "      <th>Failed</th>\n",
       "      <th>Passed</th>\n",
       "      <th>Pct_Failed</th>\n",
       "      <th>Pct_Passed</th>\n",
       "      <th>use</th>\n",
       "      <th>woe</th>\n",
       "      <th>ivcontrib</th>\n",
       "      <th>pct_ total</th>\n",
       "    </tr>\n",
       "    <tr>\n",
       "      <th>Value</th>\n",
       "      <th></th>\n",
       "      <th></th>\n",
       "      <th></th>\n",
       "      <th></th>\n",
       "      <th></th>\n",
       "      <th></th>\n",
       "      <th></th>\n",
       "      <th></th>\n",
       "    </tr>\n",
       "  </thead>\n",
       "  <tbody>\n",
       "    <tr>\n",
       "      <th>USD</th>\n",
       "      <td>3245</td>\n",
       "      <td>7868</td>\n",
       "      <td>0.542551</td>\n",
       "      <td>0.227781</td>\n",
       "      <td>1</td>\n",
       "      <td>0.867900</td>\n",
       "      <td>0.273189</td>\n",
       "      <td>0.274239</td>\n",
       "    </tr>\n",
       "    <tr>\n",
       "      <th>CNY</th>\n",
       "      <td>757</td>\n",
       "      <td>6702</td>\n",
       "      <td>0.126567</td>\n",
       "      <td>0.194025</td>\n",
       "      <td>1</td>\n",
       "      <td>-0.427210</td>\n",
       "      <td>0.028818</td>\n",
       "      <td>0.184068</td>\n",
       "    </tr>\n",
       "    <tr>\n",
       "      <th>EUR</th>\n",
       "      <td>678</td>\n",
       "      <td>4026</td>\n",
       "      <td>0.113359</td>\n",
       "      <td>0.116554</td>\n",
       "      <td>1</td>\n",
       "      <td>-0.027793</td>\n",
       "      <td>0.000089</td>\n",
       "      <td>0.116082</td>\n",
       "    </tr>\n",
       "    <tr>\n",
       "      <th>INR</th>\n",
       "      <td>207</td>\n",
       "      <td>3343</td>\n",
       "      <td>0.034610</td>\n",
       "      <td>0.096781</td>\n",
       "      <td>1</td>\n",
       "      <td>-1.028317</td>\n",
       "      <td>0.063932</td>\n",
       "      <td>0.087605</td>\n",
       "    </tr>\n",
       "    <tr>\n",
       "      <th>SGD</th>\n",
       "      <td>171</td>\n",
       "      <td>2274</td>\n",
       "      <td>0.028591</td>\n",
       "      <td>0.065833</td>\n",
       "      <td>1</td>\n",
       "      <td>-0.834044</td>\n",
       "      <td>0.031062</td>\n",
       "      <td>0.060336</td>\n",
       "    </tr>\n",
       "    <tr>\n",
       "      <th>GBP</th>\n",
       "      <td>157</td>\n",
       "      <td>1214</td>\n",
       "      <td>0.026250</td>\n",
       "      <td>0.035146</td>\n",
       "      <td>1</td>\n",
       "      <td>-0.291842</td>\n",
       "      <td>0.002596</td>\n",
       "      <td>0.033833</td>\n",
       "    </tr>\n",
       "  </tbody>\n",
       "</table>\n",
       "</div>"
      ],
      "text/plain": [
       "       Failed  Passed  Pct_Failed  Pct_Passed  use       woe  ivcontrib  pct_ total\n",
       "Value                                                                              \n",
       "USD      3245    7868    0.542551    0.227781    1  0.867900   0.273189    0.274239\n",
       "CNY       757    6702    0.126567    0.194025    1 -0.427210   0.028818    0.184068\n",
       "EUR       678    4026    0.113359    0.116554    1 -0.027793   0.000089    0.116082\n",
       "INR       207    3343    0.034610    0.096781    1 -1.028317   0.063932    0.087605\n",
       "SGD       171    2274    0.028591    0.065833    1 -0.834044   0.031062    0.060336\n",
       "GBP       157    1214    0.026250    0.035146    1 -0.291842   0.002596    0.033833"
      ]
     },
     "execution_count": 62,
     "metadata": {},
     "output_type": "execute_result"
    }
   ],
   "source": [
    "dfz"
   ]
  },
  {
   "cell_type": "code",
   "execution_count": 53,
   "id": "80c6d331",
   "metadata": {},
   "outputs": [
    {
     "data": {
      "image/png": "[encoded data removed]",
      "text/plain": [
       "<Figure size 1008x1008 with 1 Axes>"
      ]
     },
     "metadata": {
      "needs_background": "light"
     },
     "output_type": "display_data"
    }
   ],
   "source": [
    "dfz.woe.hist(figsize = (14, 14)); plt.plot( dfz.woe);"
   ]
  },
  {
   "cell_type": "code",
   "execution_count": null,
   "id": "01dfb04e",
   "metadata": {},
   "outputs": [],
   "source": [
    "ax = dfz.plot.bar(x='lab', y='val', rot=0)"
   ]
  },
  {
   "cell_type": "code",
   "execution_count": null,
   "id": "d2fdae38",
   "metadata": {},
   "outputs": [],
   "source": [
    "np.log( a0.227781/0.542551)"
   ]
  },
  {
   "cell_type": "code",
   "execution_count": null,
   "id": "793120e5",
   "metadata": {},
   "outputs": [],
   "source": [
    "np.log( 0.542551/0.227781 )"
   ]
  },
  {
   "cell_type": "code",
   "execution_count": null,
   "id": "d2c9e3ef",
   "metadata": {},
   "outputs": [],
   "source": []
  },
  {
   "cell_type": "code",
   "execution_count": 34,
   "id": "57302cff",
   "metadata": {},
   "outputs": [
    {
     "data": {
      "text/plain": [
       "34542"
      ]
     },
     "execution_count": 34,
     "metadata": {},
     "output_type": "execute_result"
    }
   ],
   "source": [
    "df['Passed'].sum()"
   ]
  },
  {
   "cell_type": "code",
   "execution_count": 56,
   "id": "f589f9d6",
   "metadata": {},
   "outputs": [
    {
     "data": {
      "text/html": [
       "<div>\n",
       "<style scoped>\n",
       "    .dataframe tbody tr th:only-of-type {\n",
       "        vertical-align: middle;\n",
       "    }\n",
       "\n",
       "    .dataframe tbody tr th {\n",
       "        vertical-align: top;\n",
       "    }\n",
       "\n",
       "    .dataframe thead th {\n",
       "        text-align: right;\n",
       "    }\n",
       "</style>\n",
       "<table border=\"1\" class=\"dataframe\">\n",
       "  <thead>\n",
       "    <tr style=\"text-align: right;\">\n",
       "      <th></th>\n",
       "      <th>Failed</th>\n",
       "      <th>Passed</th>\n",
       "      <th>Pct_Failed</th>\n",
       "      <th>Pct_Passed</th>\n",
       "      <th>use</th>\n",
       "      <th>woe</th>\n",
       "      <th>ivcontrib</th>\n",
       "      <th>pct_ total</th>\n",
       "    </tr>\n",
       "    <tr>\n",
       "      <th>Value</th>\n",
       "      <th></th>\n",
       "      <th></th>\n",
       "      <th></th>\n",
       "      <th></th>\n",
       "      <th></th>\n",
       "      <th></th>\n",
       "      <th></th>\n",
       "      <th></th>\n",
       "    </tr>\n",
       "  </thead>\n",
       "  <tbody>\n",
       "    <tr>\n",
       "      <th>USD</th>\n",
       "      <td>3245</td>\n",
       "      <td>7868</td>\n",
       "      <td>0.542551</td>\n",
       "      <td>0.227781</td>\n",
       "      <td>1</td>\n",
       "      <td>0.867900</td>\n",
       "      <td>0.273189</td>\n",
       "      <td>0.274239</td>\n",
       "    </tr>\n",
       "    <tr>\n",
       "      <th>CNY</th>\n",
       "      <td>757</td>\n",
       "      <td>6702</td>\n",
       "      <td>0.126567</td>\n",
       "      <td>0.194025</td>\n",
       "      <td>1</td>\n",
       "      <td>-0.427210</td>\n",
       "      <td>0.028818</td>\n",
       "      <td>0.184068</td>\n",
       "    </tr>\n",
       "    <tr>\n",
       "      <th>EUR</th>\n",
       "      <td>678</td>\n",
       "      <td>4026</td>\n",
       "      <td>0.113359</td>\n",
       "      <td>0.116554</td>\n",
       "      <td>1</td>\n",
       "      <td>-0.027793</td>\n",
       "      <td>0.000089</td>\n",
       "      <td>0.116082</td>\n",
       "    </tr>\n",
       "    <tr>\n",
       "      <th>INR</th>\n",
       "      <td>207</td>\n",
       "      <td>3343</td>\n",
       "      <td>0.034610</td>\n",
       "      <td>0.096781</td>\n",
       "      <td>1</td>\n",
       "      <td>-1.028317</td>\n",
       "      <td>0.063932</td>\n",
       "      <td>0.087605</td>\n",
       "    </tr>\n",
       "    <tr>\n",
       "      <th>SGD</th>\n",
       "      <td>171</td>\n",
       "      <td>2274</td>\n",
       "      <td>0.028591</td>\n",
       "      <td>0.065833</td>\n",
       "      <td>1</td>\n",
       "      <td>-0.834044</td>\n",
       "      <td>0.031062</td>\n",
       "      <td>0.060336</td>\n",
       "    </tr>\n",
       "    <tr>\n",
       "      <th>GBP</th>\n",
       "      <td>157</td>\n",
       "      <td>1214</td>\n",
       "      <td>0.026250</td>\n",
       "      <td>0.035146</td>\n",
       "      <td>1</td>\n",
       "      <td>-0.291842</td>\n",
       "      <td>0.002596</td>\n",
       "      <td>0.033833</td>\n",
       "    </tr>\n",
       "  </tbody>\n",
       "</table>\n",
       "</div>"
      ],
      "text/plain": [
       "       Failed  Passed  Pct_Failed  Pct_Passed  use       woe  ivcontrib  pct_ total\n",
       "Value                                                                              \n",
       "USD      3245    7868    0.542551    0.227781    1  0.867900   0.273189    0.274239\n",
       "CNY       757    6702    0.126567    0.194025    1 -0.427210   0.028818    0.184068\n",
       "EUR       678    4026    0.113359    0.116554    1 -0.027793   0.000089    0.116082\n",
       "INR       207    3343    0.034610    0.096781    1 -1.028317   0.063932    0.087605\n",
       "SGD       171    2274    0.028591    0.065833    1 -0.834044   0.031062    0.060336\n",
       "GBP       157    1214    0.026250    0.035146    1 -0.291842   0.002596    0.033833"
      ]
     },
     "execution_count": 56,
     "metadata": {},
     "output_type": "execute_result"
    }
   ],
   "source": [
    "dfz"
   ]
  },
  {
   "cell_type": "code",
   "execution_count": null,
   "id": "8405bb06",
   "metadata": {},
   "outputs": [],
   "source": [
    "\n",
    "\n",
    "\n",
    "Analytics Testing\t6151 CRS RFP Business Requirement Document\t\n",
    "What platform is used to build the predictive models ? Eg: AWS, SAS, Azure, Python etc\n",
    "what type of predictive models are built and what is the volume of the models?\n",
    "Are there any existing CI/CD , ML ops pipelines existing?\n",
    "Will the analytics testing team be redeveloping any models?\n",
    "will the analytics testing team be responsible for improving the model accuracy?\n",
    "will the analytics testing team be responsible for development of challenger models?\n",
    "what level of domain expertise is required by testing team in the area of risk and compliance?\n",
    "Analytics testing includes testing the data on SaS reports by comparing data with source DB tables, Please confirm if our understanding is correct?\n",
    "Is there any scope for DB testing, batch testing that loads data in the databases?\n",
    "QA team to perform test plan and test results review, any further quality control processes are expected from QA team?\n",
    "Security testing to be considered in scope?\n",
    "QA team is expected to have SQL and DB knowledge as well as SAS reports testing skills to do this job, any other skill is required?"
   ]
  }
 ],
 "metadata": {
  "kernelspec": {
   "display_name": "Python 3 (ipykernel)",
   "language": "python",
   "name": "python3"
  },
  "language_info": {
   "codemirror_mode": {
    "name": "ipython",
    "version": 3
   },
   "file_extension": ".py",
   "mimetype": "text/x-python",
   "name": "python",
   "nbconvert_exporter": "python",
   "pygments_lexer": "ipython3",
   "version": "3.10.9"
  }
 },
 "nbformat": 4,
 "nbformat_minor": 5
}
