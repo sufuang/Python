{
 "cells": [
  {
   "cell_type": "code",
   "execution_count": 4,
   "id": "d193d4ad",
   "metadata": {},
   "outputs": [
    {
     "ename": "SyntaxError",
     "evalue": "invalid syntax (1053868249.py, line 8)",
     "output_type": "error",
     "traceback": [
      "\u001b[1;36m  Cell \u001b[1;32mIn[4], line 8\u001b[1;36m\u001b[0m\n\u001b[1;33m    dictionary =\u001b[0m\n\u001b[1;37m                ^\u001b[0m\n\u001b[1;31mSyntaxError\u001b[0m\u001b[1;31m:\u001b[0m invalid syntax\n"
     ]
    }
   ],
   "source": [
    "\n",
    "# Python program to write JSON\n",
    "# to a file\n",
    " \n",
    " \n",
    "import json\n",
    "# Data to be written\n",
    "\n",
    "dictionary =\n",
    "{\n",
    "    \"subscription_id\": \"ece397bc-2fde-4cbd-aabe-238ff225b514\",\n",
    "    \"resource_group\": \"rg-dp100-labs\",\n",
    "    \"workspace_name\": \"mlw_dp100-labs\"\n",
    "}\n",
    "\n",
    " \n",
    "with open(\"config.json\", \"w\") as outfile:\n",
    "    json.dump(dictionary, outfile)"
   ]
  },
  {
   "cell_type": "code",
   "execution_count": 6,
   "id": "25763d9e",
   "metadata": {},
   "outputs": [],
   "source": [
    "\n",
    "# Python program to write JSON\n",
    "# to a file\n",
    " \n",
    " \n",
    "import json\n",
    " \n",
    "# Data to be written\n",
    "dictionary = {\n",
    "    \"subscription_id\": \"ece397bc-2fde-4cbd-aabe-238ff225b514\",\n",
    "    \"resource_group\": \"rg-dp100-labs\",\n",
    "    \"workspace_name\": \"mlw_dp100-labs\"\n",
    "}\n",
    " \n",
    "with open(\"config.json\", \"w\") as outfile:\n",
    "    json.dump(dictionary, outfile)"
   ]
  },
  {
   "cell_type": "code",
   "execution_count": null,
   "id": "60713d69",
   "metadata": {},
   "outputs": [],
   "source": []
  }
 ],
 "metadata": {
  "kernelspec": {
   "display_name": "Python 3 (ipykernel)",
   "language": "python",
   "name": "python3"
  },
  "language_info": {
   "codemirror_mode": {
    "name": "ipython",
    "version": 3
   },
   "file_extension": ".py",
   "mimetype": "text/x-python",
   "name": "python",
   "nbconvert_exporter": "python",
   "pygments_lexer": "ipython3",
   "version": "3.10.9"
  }
 },
 "nbformat": 4,
 "nbformat_minor": 5
}
