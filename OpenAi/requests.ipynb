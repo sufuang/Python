{
 "cells": [
  {
   "cell_type": "code",
   "execution_count": 2,
   "id": "2f0b387c",
   "metadata": {},
   "outputs": [
    {
     "name": "stdout",
     "output_type": "stream",
     "text": [
      "Response Code: 200\n",
      "Response Headers:\n",
      " {'Date': 'Thu, 09 Nov 2023 19:12:34 GMT', 'Content-Type': 'application/json', 'Content-Length': '429', 'Connection': 'keep-alive', 'Server': 'gunicorn/19.9.0', 'Access-Control-Allow-Origin': '*', 'Access-Control-Allow-Credentials': 'true'}\n",
      "Response Content:\n",
      " {\n",
      "  \"slideshow\": {\n",
      "    \"author\": \"Yours Truly\", \n",
      "    \"date\": \"date of publication\", \n",
      "    \"slides\": [\n",
      "      {\n",
      "        \"title\": \"Wake up to WonderWidgets!\", \n",
      "        \"type\": \"all\"\n",
      "      }, \n",
      "      {\n",
      "        \"items\": [\n",
      "          \"Why <em>WonderWidgets</em> are great\", \n",
      "          \"Who <em>buys</em> WonderWidgets\"\n",
      "        ], \n",
      "        \"title\": \"Overview\", \n",
      "        \"type\": \"all\"\n",
      "      }\n",
      "    ], \n",
      "    \"title\": \"Sample Slide Show\"\n",
      "  }\n",
      "}\n",
      "\n"
     ]
    }
   ],
   "source": [
    "import requests, re\n",
    "url = 'http://httpbin.org/json'\n",
    "r = requests.get(url)\n",
    "print('Response Code:', r.status_code)\n",
    "print('Response Headers:\\n', r.headers)\n",
    "print('Response Content:\\n',r.text)"
   ]
  },
  {
   "cell_type": "code",
   "execution_count": null,
   "id": "0db5cc82",
   "metadata": {},
   "outputs": [],
   "source": []
  }
 ],
 "metadata": {
  "kernelspec": {
   "display_name": "Python 3 (ipykernel)",
   "language": "python",
   "name": "python3"
  },
  "language_info": {
   "codemirror_mode": {
    "name": "ipython",
    "version": 3
   },
   "file_extension": ".py",
   "mimetype": "text/x-python",
   "name": "python",
   "nbconvert_exporter": "python",
   "pygments_lexer": "ipython3",
   "version": "3.10.9"
  }
 },
 "nbformat": 4,
 "nbformat_minor": 5
}
