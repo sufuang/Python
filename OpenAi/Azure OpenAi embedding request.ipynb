{
 "cells": [
  {
   "cell_type": "markdown",
   "id": "6a626d79",
   "metadata": {},
   "source": [
    "# OpenAi embedding request\n",
    "    - https://stackoverflow.com/questions/76262208/openai-azure-ssl-error-certification-verification-error\n",
    "      - OPENAI - AZURE SSL error certification verification error\n",
    "        - You can disable the SSL certificate by using (verify=false) in your API request but it is not recommended in a production environment. "
   ]
  },
  {
   "cell_type": "code",
   "execution_count": null,
   "id": "e41fa710",
   "metadata": {},
   "outputs": [],
   "source": []
  },
  {
   "cell_type": "code",
   "execution_count": null,
   "id": "290c9d26",
   "metadata": {},
   "outputs": [],
   "source": [
    "import openai, os      \n",
    "openai.api_type = \"azure\" \n",
    "openai.api_key = os.getenv(\"OPENAI_API_KEY\")\n",
    "openai.api_base = \"https://a.openai.azure.com\"\n",
    "openai.api_version = \"2023-05-15\"\n",
    "\n",
    "response = openai.Embedding.create(input=\"Good evening my friend!!!\",\n",
    "    deployment_id=\"Your deployment name\",\n",
    "    model=\"text-embedding-ada-002\",\n",
    "    verify=False)\n",
    "embeddings = response['data'][0]['embedding']\n",
    "print(embeddings)"
   ]
  },
  {
   "cell_type": "code",
   "execution_count": null,
   "id": "e51a160c",
   "metadata": {},
   "outputs": [],
   "source": [
    "import openai      \n",
    "openai.api_type = \"azure\" \n",
    "openai.api_key = YOUR_API_KEY\n",
    "openai.api_base = \"https://a.openai.azure.com\"\n",
    "openai.api_version = \"2023-05-15\"\n",
    "\n",
    "response = openai.Embedding.create(input=\"Good evening my friend!!!\",\n",
    "    deployment_id=\"Your deployment name\",\n",
    "    model=\"text-embedding-ada-002\",\n",
    "    verify=False)\n",
    "embeddings = response['data'][0]['embedding']\n",
    "print(embeddings)\n"
   ]
  }
 ],
 "metadata": {
  "kernelspec": {
   "display_name": "Python 3 (ipykernel)",
   "language": "python",
   "name": "python3"
  },
  "language_info": {
   "codemirror_mode": {
    "name": "ipython",
    "version": 3
   },
   "file_extension": ".py",
   "mimetype": "text/x-python",
   "name": "python",
   "nbconvert_exporter": "python",
   "pygments_lexer": "ipython3",
   "version": "3.10.9"
  }
 },
 "nbformat": 4,
 "nbformat_minor": 5
}
