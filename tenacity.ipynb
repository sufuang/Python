{
 "cells": [
  {
   "cell_type": "code",
   "execution_count": 0,
   "metadata": {
    "application/vnd.databricks.v1+cell": {
     "cellMetadata": {},
     "inputWidgets": {},
     "nuid": "3db737f1-f00f-4dc0-80db-4960c35d5374",
     "showTitle": false,
     "title": ""
    }
   },
   "outputs": [],
   "source": [
    "import tenacity\n",
    "from azure.core.exceptions import HttpResponseError\n",
    "from openai import OpenAIApi\n",
    "\n",
    "# Initialize your Azure Cognitive Services and OpenAI client\n",
    "azure_client = ...\n",
    "openai_client = OpenAIApi(...)\n",
    "\n",
    "# Define the retry decorator using tenacity\n",
    "@tenacity.retry(\n",
    "    stop=tenacity.stop_after_attempt(3),\n",
    "    wait=tenacity.wait_fixed(2),\n",
    "    retry=tenacity.retry_if_exception_type(HttpResponseError)\n",
    ")\n",
    "def process_request():\n",
    "    try:\n",
    "        # Make the request to Azure Cognitive Services\n",
    "        response = azure_client.make_request(...)\n",
    "        \n",
    "        # Process the response from Azure Cognitive Services\n",
    "        ...\n",
    "\n",
    "        # Make the request to OpenAI\n",
    "        openai_response = openai_client.make_request(...)\n",
    "        \n",
    "        # Process the response from OpenAI\n",
    "        ...\n",
    "        \n",
    "        return openai_response\n",
    "    except HttpResponseError as e:\n",
    "        # Retry only if RateLimitError occurs\n",
    "        if e.status_code == 429:\n",
    "            raise tenacity.TryAgain(e)\n",
    "        else:\n",
    "            raise\n",
    "\n",
    "# Call the function with retry decorator\n",
    "try:\n",
    "    result = process_request()\n",
    "    # Process the final result\n",
    "    ...\n",
    "except tenacity.RetryError:\n",
    "    # Handle the retry error\n",
    "    ...\n"
   ]
  }
 ],
 "metadata": {
  "application/vnd.databricks.v1+notebook": {
   "dashboards": [],
   "language": "python",
   "notebookMetadata": {
    "pythonIndentUnit": 4
   },
   "notebookName": "tenacity",
   "widgets": {}
  }
 },
 "nbformat": 4,
 "nbformat_minor": 0
}
