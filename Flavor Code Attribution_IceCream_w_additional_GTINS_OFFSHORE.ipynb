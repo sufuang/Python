{
 "cells": [
  {
   "cell_type": "code",
   "execution_count": 0,
   "metadata": {
    "application/vnd.databricks.v1+cell": {
     "cellMetadata": {
      "byteLimit": 2048000,
      "rowLimit": 10000
     },
     "collapsed": true,
     "inputWidgets": {},
     "nuid": "9ca7a8d2-c057-4e7d-b546-177335bdefbc",
     "showTitle": false,
     "title": ""
    }
   },
   "outputs": [
    {
     "output_type": "display_data",
     "data": {
      "text/html": [
       "<style scoped>\n",
       "  .ansiout {\n",
       "    display: block;\n",
       "    unicode-bidi: embed;\n",
       "    white-space: pre-wrap;\n",
       "    word-wrap: break-word;\n",
       "    word-break: break-all;\n",
       "    font-family: \"Source Code Pro\", \"Menlo\", monospace;;\n",
       "    font-size: 13px;\n",
       "    color: #555;\n",
       "    margin-left: 4px;\n",
       "    line-height: 19px;\n",
       "  }\n",
       "</style>\n",
       "<div class=\"ansiout\">Python interpreter will be restarted.\n",
       "Requirement already satisfied: pip in /local_disk0/.ephemeral_nfs/envs/pythonEnv-050f48af-17f7-4f05-b918-34bf52ef9702/lib/python3.8/site-packages (21.0.1)\n",
       "Collecting pip\n",
       "  Using cached pip-23.2.1-py3-none-any.whl (2.1 MB)\n",
       "Installing collected packages: pip\n",
       "  Attempting uninstall: pip\n",
       "    Found existing installation: pip 21.0.1\n",
       "    Uninstalling pip-21.0.1:\n",
       "      Successfully uninstalled pip-21.0.1\n",
       "Successfully installed pip-23.2.1\n",
       "Python interpreter will be restarted.\n",
       "</div>"
      ]
     },
     "metadata": {
      "application/vnd.databricks.v1+output": {
       "addedWidgets": {},
       "arguments": {},
       "data": "<div class=\"ansiout\">Python interpreter will be restarted.\nRequirement already satisfied: pip in /local_disk0/.ephemeral_nfs/envs/pythonEnv-050f48af-17f7-4f05-b918-34bf52ef9702/lib/python3.8/site-packages (21.0.1)\nCollecting pip\n  Using cached pip-23.2.1-py3-none-any.whl (2.1 MB)\nInstalling collected packages: pip\n  Attempting uninstall: pip\n    Found existing installation: pip 21.0.1\n    Uninstalling pip-21.0.1:\n      Successfully uninstalled pip-21.0.1\nSuccessfully installed pip-23.2.1\nPython interpreter will be restarted.\n</div>",
       "datasetInfos": [],
       "metadata": {},
       "removedWidgets": [],
       "type": "html"
      }
     },
     "output_type": "display_data"
    }
   ],
   "source": [
    "!pip install -U rapidfuzz\n",
    "!pip install -U gensim\n",
    "%pip install -U pip"
   ]
  },
  {
   "cell_type": "code",
   "execution_count": 0,
   "metadata": {
    "application/vnd.databricks.v1+cell": {
     "cellMetadata": {
      "byteLimit": 2048000,
      "rowLimit": 10000
     },
     "inputWidgets": {},
     "nuid": "c5746dca-533f-4483-871c-230728794ad7",
     "showTitle": false,
     "title": ""
    }
   },
   "outputs": [
    {
     "output_type": "display_data",
     "data": {
      "text/html": [
       "<style scoped>\n",
       "  .ansiout {\n",
       "    display: block;\n",
       "    unicode-bidi: embed;\n",
       "    white-space: pre-wrap;\n",
       "    word-wrap: break-word;\n",
       "    word-break: break-all;\n",
       "    font-family: \"Source Code Pro\", \"Menlo\", monospace;;\n",
       "    font-size: 13px;\n",
       "    color: #555;\n",
       "    margin-left: 4px;\n",
       "    line-height: 19px;\n",
       "  }\n",
       "</style>\n",
       "<div class=\"ansiout\"></div>"
      ]
     },
     "metadata": {
      "application/vnd.databricks.v1+output": {
       "addedWidgets": {},
       "arguments": {},
       "data": "<div class=\"ansiout\"></div>",
       "datasetInfos": [],
       "metadata": {},
       "removedWidgets": [],
       "type": "html"
      }
     },
     "output_type": "display_data"
    }
   ],
   "source": [
    "import pandas as pd, numpy as np\n",
    "DBFS = \"/dbfs/FileStore/tables/OFFSHORE/\"\n",
    "DBFO = \"/dbfs/FileStore/tables/OFFSHORE/\"\n",
    "DBFM = \"/dbfs/FileStore/tables/MALLIK/\"\n",
    "DBFR = \"/dbfs/FileStore/tables/OFFSHORE_RESULTS/\"\n",
    "\n",
    "pd.options.display.max_columns = None\n",
    "pd.options.display.max_rows = 30"
   ]
  },
  {
   "cell_type": "code",
   "execution_count": 0,
   "metadata": {
    "application/vnd.databricks.v1+cell": {
     "cellMetadata": {
      "byteLimit": 2048000,
      "rowLimit": 10000
     },
     "inputWidgets": {},
     "nuid": "69db6531-0a95-462e-acad-2e70cd5549de",
     "showTitle": false,
     "title": ""
    }
   },
   "outputs": [
    {
     "output_type": "display_data",
     "data": {
      "text/html": [
       "<style scoped>\n",
       "  .ansiout {\n",
       "    display: block;\n",
       "    unicode-bidi: embed;\n",
       "    white-space: pre-wrap;\n",
       "    word-wrap: break-word;\n",
       "    word-break: break-all;\n",
       "    font-family: \"Source Code Pro\", \"Menlo\", monospace;;\n",
       "    font-size: 13px;\n",
       "    color: #555;\n",
       "    margin-left: 4px;\n",
       "    line-height: 19px;\n",
       "  }\n",
       "</style>\n",
       "<div class=\"ansiout\"></div>"
      ]
     },
     "metadata": {
      "application/vnd.databricks.v1+output": {
       "addedWidgets": {},
       "arguments": {},
       "data": "<div class=\"ansiout\"></div>",
       "datasetInfos": [],
       "metadata": {},
       "removedWidgets": [],
       "type": "html"
      }
     },
     "output_type": "display_data"
    }
   ],
   "source": [
    "import pandas as pd, numpy as np\n",
    "from rapidfuzz import process, fuzz\n",
    "np.set_printoptions(threshold=np.inf)"
   ]
  },
  {
   "cell_type": "code",
   "execution_count": 0,
   "metadata": {
    "application/vnd.databricks.v1+cell": {
     "cellMetadata": {
      "byteLimit": 2048000,
      "rowLimit": 10000
     },
     "inputWidgets": {},
     "nuid": "a0e285be-efd4-48ef-8f6c-587818fd62be",
     "showTitle": false,
     "title": ""
    }
   },
   "outputs": [
    {
     "output_type": "display_data",
     "data": {
      "text/html": [
       "<style scoped>\n",
       "  .ansiout {\n",
       "    display: block;\n",
       "    unicode-bidi: embed;\n",
       "    white-space: pre-wrap;\n",
       "    word-wrap: break-word;\n",
       "    word-break: break-all;\n",
       "    font-family: \"Source Code Pro\", \"Menlo\", monospace;;\n",
       "    font-size: 13px;\n",
       "    color: #555;\n",
       "    margin-left: 4px;\n",
       "    line-height: 19px;\n",
       "  }\n",
       "</style>\n",
       "<div class=\"ansiout\"></div>"
      ]
     },
     "metadata": {
      "application/vnd.databricks.v1+output": {
       "addedWidgets": {},
       "arguments": {},
       "data": "<div class=\"ansiout\"></div>",
       "datasetInfos": [],
       "metadata": {},
       "removedWidgets": [],
       "type": "html"
      }
     },
     "output_type": "display_data"
    }
   ],
   "source": [
    "ic_gtins = pd.read_csv(DBFO + 'ice_cream_items.csv')\n",
    "ic_gtins['GTIN_NO'] = ic_gtins.GTIN_NO.apply(lambda x: int(x)).astype(str).apply(lambda x: (14- len(x))*'0'+x)"
   ]
  },
  {
   "cell_type": "code",
   "execution_count": 0,
   "metadata": {
    "application/vnd.databricks.v1+cell": {
     "cellMetadata": {
      "byteLimit": 2048000,
      "rowLimit": 10000
     },
     "inputWidgets": {},
     "nuid": "3c0e02f0-e408-4599-81dd-b1c75e031b18",
     "showTitle": false,
     "title": ""
    }
   },
   "outputs": [
    {
     "output_type": "display_data",
     "data": {
      "text/html": [
       "<style scoped>\n",
       "  .ansiout {\n",
       "    display: block;\n",
       "    unicode-bidi: embed;\n",
       "    white-space: pre-wrap;\n",
       "    word-wrap: break-word;\n",
       "    word-break: break-all;\n",
       "    font-family: \"Source Code Pro\", \"Menlo\", monospace;;\n",
       "    font-size: 13px;\n",
       "    color: #555;\n",
       "    margin-left: 4px;\n",
       "    line-height: 19px;\n",
       "  }\n",
       "</style>\n",
       "<div class=\"ansiout\"></div>"
      ]
     },
     "metadata": {
      "application/vnd.databricks.v1+output": {
       "addedWidgets": {},
       "arguments": {},
       "data": "<div class=\"ansiout\"></div>",
       "datasetInfos": [],
       "metadata": {},
       "removedWidgets": [],
       "type": "html"
      }
     },
     "output_type": "display_data"
    }
   ],
   "source": [
    "# ic_gtins_KFT_cols = pd.read_csv('icecream_additional_ITEM_VIEW.csv')\n",
    "results = pd.read_csv(DBFO + 'ICECREAM_FLAVORS_101023_v2.csv')\n",
    "\n",
    "ic_additional_VND_ECOM_DSC = pd.read_csv(DBFO + 'icecream_additional_VND_ECOM_DSC.csv')\n",
    "ic_gtins_KFT_cols = ic_gtins_KFT_cols.merge(ic_additional_VND_ECOM_DSC, how = 'left', on = 'ITM_ID')\n",
    "ic_gtins_KFT_cols['GTIN_NO'] = ic_gtins_KFT_cols.GTIN_NO.astype(str).apply(lambda x: (14-len(x))*'0'+x)"
   ]
  },
  {
   "cell_type": "code",
   "execution_count": 0,
   "metadata": {
    "application/vnd.databricks.v1+cell": {
     "cellMetadata": {
      "byteLimit": 2048000,
      "rowLimit": 10000
     },
     "inputWidgets": {},
     "nuid": "d70daf15-c10c-43a0-8541-6fbfbb2ddb41",
     "showTitle": false,
     "title": ""
    }
   },
   "outputs": [
    {
     "output_type": "display_data",
     "data": {
      "text/html": [
       "<style scoped>\n",
       "  .ansiout {\n",
       "    display: block;\n",
       "    unicode-bidi: embed;\n",
       "    white-space: pre-wrap;\n",
       "    word-wrap: break-word;\n",
       "    word-break: break-all;\n",
       "    font-family: \"Source Code Pro\", \"Menlo\", monospace;;\n",
       "    font-size: 13px;\n",
       "    color: #555;\n",
       "    margin-left: 4px;\n",
       "    line-height: 19px;\n",
       "  }\n",
       "</style>\n",
       "<div class=\"ansiout\">&lt;class &#39;pandas.core.frame.DataFrame&#39;&gt;\n",
       "RangeIndex: 12386 entries, 0 to 12385\n",
       "Data columns (total 17 columns):\n",
       " #   Column                       Non-Null Count  Dtype \n",
       "---  ------                       --------------  ----- \n",
       " 0   GTIN_NO                      12386 non-null  object\n",
       " 1   ECOMMERCE_DESCRIPTION        12386 non-null  object\n",
       " 2   RECEIPT_DESCRIPTION          9402 non-null   object\n",
       " 3   TAG_DESCRIPTION              11684 non-null  object\n",
       " 4   PRODUCT_DESCRIPTION/MKT_MSG  11371 non-null  object\n",
       " 5   KROGER_OWNED_FLAVOR          153 non-null    object\n",
       " 6   FLV_DSC                      1322 non-null   object\n",
       " 7   PID_COM_DSC                  9194 non-null   object\n",
       " 8   PID_SUBCOM_DSC               9194 non-null   object\n",
       " 9   CFIC_DEPT_NAM                4277 non-null   object\n",
       " 10  CFIC_COM_NAM                 4277 non-null   object\n",
       " 11  CFIC_SUBCOM_NAM              4277 non-null   object\n",
       " 12  Unnamed: 12                  13 non-null     object\n",
       " 13  Unnamed: 13                  7 non-null      object\n",
       " 14  Unnamed: 14                  1 non-null      object\n",
       " 15  Unnamed: 15                  1 non-null      object\n",
       " 16  Unnamed: 16                  1 non-null      object\n",
       "dtypes: object(17)\n",
       "memory usage: 1.6+ MB\n",
       "</div>"
      ]
     },
     "metadata": {
      "application/vnd.databricks.v1+output": {
       "addedWidgets": {},
       "arguments": {},
       "data": "<div class=\"ansiout\">&lt;class &#39;pandas.core.frame.DataFrame&#39;&gt;\nRangeIndex: 12386 entries, 0 to 12385\nData columns (total 17 columns):\n #   Column                       Non-Null Count  Dtype \n---  ------                       --------------  ----- \n 0   GTIN_NO                      12386 non-null  object\n 1   ECOMMERCE_DESCRIPTION        12386 non-null  object\n 2   RECEIPT_DESCRIPTION          9402 non-null   object\n 3   TAG_DESCRIPTION              11684 non-null  object\n 4   PRODUCT_DESCRIPTION/MKT_MSG  11371 non-null  object\n 5   KROGER_OWNED_FLAVOR          153 non-null    object\n 6   FLV_DSC                      1322 non-null   object\n 7   PID_COM_DSC                  9194 non-null   object\n 8   PID_SUBCOM_DSC               9194 non-null   object\n 9   CFIC_DEPT_NAM                4277 non-null   object\n 10  CFIC_COM_NAM                 4277 non-null   object\n 11  CFIC_SUBCOM_NAM              4277 non-null   object\n 12  Unnamed: 12                  13 non-null     object\n 13  Unnamed: 13                  7 non-null      object\n 14  Unnamed: 14                  1 non-null      object\n 15  Unnamed: 15                  1 non-null      object\n 16  Unnamed: 16                  1 non-null      object\ndtypes: object(17)\nmemory usage: 1.6+ MB\n</div>",
       "datasetInfos": [],
       "metadata": {},
       "removedWidgets": [],
       "type": "html"
      }
     },
     "output_type": "display_data"
    }
   ],
   "source": [
    "ic_gtins.replace('(null)', None, inplace= True)\n",
    "ic_gtins.info()"
   ]
  },
  {
   "cell_type": "code",
   "execution_count": 0,
   "metadata": {
    "application/vnd.databricks.v1+cell": {
     "cellMetadata": {},
     "inputWidgets": {},
     "nuid": "11a6e46f-c751-4031-b309-3f052c40c7d5",
     "showTitle": false,
     "title": ""
    }
   },
   "outputs": [
    {
     "output_type": "execute_result",
     "data": {
      "text/plain": [
       "array(['FROZEN GROCERY', 'BAKERY', 'NATURAL FOODS', 'GROC-ALL OTHER',\n",
       "       'FRESH FOOD DEST', 'COMMERCIAL BKY', 'HOUSEWARES',\n",
       "       'PACKAGE PRODUCE', 'POULTRY', 'REFRIG GROCERY', 'HEALTH', 'DAIRY',\n",
       "       'COFFEE SHOP', 'WINE', 'CANDY', 'CKY/CRKR/SNK'], dtype=object)"
      ]
     },
     "execution_count": 53,
     "metadata": {},
     "output_type": "execute_result"
    }
   ],
   "source": [
    "ic_gtins_KFT_cols.DPT_DSC.unique()"
   ]
  },
  {
   "cell_type": "code",
   "execution_count": 0,
   "metadata": {
    "application/vnd.databricks.v1+cell": {
     "cellMetadata": {
      "byteLimit": 2048000,
      "rowLimit": 10000
     },
     "inputWidgets": {},
     "nuid": "1e075e21-27ea-490c-902b-20114cea713f",
     "showTitle": false,
     "title": ""
    }
   },
   "outputs": [
    {
     "output_type": "display_data",
     "data": {
      "text/html": [
       "<style scoped>\n",
       "  .ansiout {\n",
       "    display: block;\n",
       "    unicode-bidi: embed;\n",
       "    white-space: pre-wrap;\n",
       "    word-wrap: break-word;\n",
       "    word-break: break-all;\n",
       "    font-family: \"Source Code Pro\", \"Menlo\", monospace;;\n",
       "    font-size: 13px;\n",
       "    color: #555;\n",
       "    margin-left: 4px;\n",
       "    line-height: 19px;\n",
       "  }\n",
       "</style>\n",
       "<div class=\"ansiout\"></div>"
      ]
     },
     "metadata": {
      "application/vnd.databricks.v1+output": {
       "addedWidgets": {},
       "arguments": {},
       "data": "<div class=\"ansiout\"></div>",
       "datasetInfos": [],
       "metadata": {},
       "removedWidgets": [],
       "type": "html"
      }
     },
     "output_type": "display_data"
    }
   ],
   "source": [
    "ic_gtins['GTIN_NO'] = ic_gtins.GTIN_NO.apply(lambda x: int(x)).astype(str).apply(lambda x: (14- len(x))*'0'+x)"
   ]
  },
  {
   "cell_type": "code",
   "execution_count": 0,
   "metadata": {
    "application/vnd.databricks.v1+cell": {
     "cellMetadata": {
      "byteLimit": 2048000,
      "rowLimit": 10000
     },
     "inputWidgets": {},
     "nuid": "ffe72eb8-6469-44f1-b5a8-2c0a124ac499",
     "showTitle": false,
     "title": ""
    }
   },
   "outputs": [
    {
     "output_type": "display_data",
     "data": {
      "text/html": [
       "<style scoped>\n",
       "  .ansiout {\n",
       "    display: block;\n",
       "    unicode-bidi: embed;\n",
       "    white-space: pre-wrap;\n",
       "    word-wrap: break-word;\n",
       "    word-break: break-all;\n",
       "    font-family: \"Source Code Pro\", \"Menlo\", monospace;;\n",
       "    font-size: 13px;\n",
       "    color: #555;\n",
       "    margin-left: 4px;\n",
       "    line-height: 19px;\n",
       "  }\n",
       "</style>\n",
       "<div class=\"ansiout\"></div>"
      ]
     },
     "metadata": {
      "application/vnd.databricks.v1+output": {
       "addedWidgets": {},
       "arguments": {},
       "data": "<div class=\"ansiout\"></div>",
       "datasetInfos": [],
       "metadata": {},
       "removedWidgets": [],
       "type": "html"
      }
     },
     "output_type": "display_data"
    }
   ],
   "source": [
    "# Flavor List and desired mappings From business (interim) based on \"Initial ice cream flavor list.xlsx\"\n",
    "IC_flavors_new =\\\n",
    "['VANILLA','CHOCOLATE','FRUIT','COOKIES AND CREAM','CHOCOLATE CHIP','CARAMEL','TOFFEE','MINT CHOCOLATE CHIP','PEANUT BUTTER','COOKIE DOUGH',\\\n",
    "'BUTTER PECAN','COFFEE','STRAWBERRY','MOOSE TRACKS','ROCKY ROAD','COTTON CANDY','BIRTHDAY CAKE','PUMPKIN','RED VELVET','NEOPOLITAN']\n",
    "flavor_maps = {'MOCHA':'COFFEE','BROWNIE':'CHOCOLATE','COCOA':'CHOCOLATE','TOFFEE':'CARAMEL','CHERRY':'FRUIT', 'LEMON': 'FRUIT',\n",
    " 'ORANGE': 'FRUIT',\n",
    " 'LIME': 'FRUIT',\n",
    " 'PEACH': 'FRUIT',\n",
    " 'BANANA': 'FRUIT',\n",
    " 'PINEAPPLE': 'FRUIT',\n",
    " 'BERRY': 'FRUIT',\n",
    " 'APPLE': 'FRUIT',\n",
    " 'MANGO': 'FRUIT',\n",
    " 'RASPBERRY': 'FRUIT',\n",
    " 'PASSION FRUIT': 'FRUIT',\n",
    " 'POMEGRANATE': 'FRUIT',\n",
    " 'BLUEBERRY': 'FRUIT'}\n",
    "IC_flavors_new += flavor_maps.keys()"
   ]
  },
  {
   "cell_type": "code",
   "execution_count": 0,
   "metadata": {
    "application/vnd.databricks.v1+cell": {
     "cellMetadata": {
      "byteLimit": 2048000,
      "rowLimit": 10000
     },
     "inputWidgets": {},
     "nuid": "2c1d788e-d3be-47cb-8590-edc5ebc00984",
     "showTitle": true,
     "title": "REMOVE SUBSTRINGS"
    }
   },
   "outputs": [
    {
     "output_type": "display_data",
     "data": {
      "text/html": [
       "<style scoped>\n",
       "  .ansiout {\n",
       "    display: block;\n",
       "    unicode-bidi: embed;\n",
       "    white-space: pre-wrap;\n",
       "    word-wrap: break-word;\n",
       "    word-break: break-all;\n",
       "    font-family: \"Source Code Pro\", \"Menlo\", monospace;;\n",
       "    font-size: 13px;\n",
       "    color: #555;\n",
       "    margin-left: 4px;\n",
       "    line-height: 19px;\n",
       "  }\n",
       "</style>\n",
       "<div class=\"ansiout\"></div>"
      ]
     },
     "metadata": {
      "application/vnd.databricks.v1+output": {
       "addedWidgets": {},
       "arguments": {},
       "data": "<div class=\"ansiout\"></div>",
       "datasetInfos": [],
       "metadata": {},
       "removedWidgets": [],
       "type": "html"
      }
     },
     "output_type": "display_data"
    }
   ],
   "source": [
    "### Remove substrings like 'CHOCOLATE' if 'CHOCOLATE CHIP' is also present as a top result\n",
    "# string_list = [bingo[0:2] for bingo in matched]\n",
    "\n",
    "def remove_substrings(string_list):\n",
    "    str_df = pd.DataFrame(string_list, columns=['Sentence', 'Scores'])\n",
    "    str_df['Word Length'] = str_df.Sentence.apply(lambda x: len(x.split(' ')))\n",
    "    str_df.sort_values('Word Length', inplace= True)\n",
    "    str_df.reset_index(drop = True, inplace= True)\n",
    "    str_dff = str_df[str_df.Scores==100]\n",
    "    if len(str_dff.index)==0:\n",
    "        flag = 1\n",
    "        return str_df.Sentence.tolist()\n",
    "    if len(str_dff.index)==1:\n",
    "        return str_dff.Sentence.tolist()\n",
    "    str_dff['Drop'] = ''\n",
    "    for iterr in range(len(str_dff)):\n",
    "        str_1 = str_dff.Sentence.iloc[iterr]\n",
    "        if iterr==len(str_dff):\n",
    "            break\n",
    "        for sent in str_dff.Sentence.iloc[iterr+1:]:\n",
    "            if str_1 in sent:\n",
    "                str_dff.Drop.iloc[iterr] = 'Yes'\n",
    "                break\n",
    "            if len(str_df) < 2:\n",
    "                break\n",
    "    return str_dff[str_dff.Drop != 'Yes'].Sentence.tolist()"
   ]
  },
  {
   "cell_type": "code",
   "execution_count": 0,
   "metadata": {
    "application/vnd.databricks.v1+cell": {
     "cellMetadata": {
      "byteLimit": 2048000,
      "rowLimit": 10000
     },
     "inputWidgets": {},
     "nuid": "81ae4dc8-13d6-4b43-a41e-747f7aa854c7",
     "showTitle": false,
     "title": ""
    }
   },
   "outputs": [
    {
     "output_type": "display_data",
     "data": {
      "text/html": [
       "<style scoped>\n",
       "  .ansiout {\n",
       "    display: block;\n",
       "    unicode-bidi: embed;\n",
       "    white-space: pre-wrap;\n",
       "    word-wrap: break-word;\n",
       "    word-break: break-all;\n",
       "    font-family: \"Source Code Pro\", \"Menlo\", monospace;;\n",
       "    font-size: 13px;\n",
       "    color: #555;\n",
       "    margin-left: 4px;\n",
       "    line-height: 19px;\n",
       "  }\n",
       "</style>\n",
       "<div class=\"ansiout\">Out[37]: [(&#39;STRAWBERRY&#39;, 86.95652173913044, 12),\n",
       " (&#39;RASPBERRY&#39;, 63.63636363636363, 34),\n",
       " (&#39;BERRY&#39;, 55.55555555555556, 31),\n",
       " (&#39;BLUEBERRY&#39;, 45.45454545454545, 37),\n",
       " (&#39;CHERRY&#39;, 42.10526315789474, 24)]</div>"
      ]
     },
     "metadata": {
      "application/vnd.databricks.v1+output": {
       "addedWidgets": {},
       "arguments": {},
       "data": "<div class=\"ansiout\">Out[37]: [(&#39;STRAWBERRY&#39;, 86.95652173913044, 12),\n (&#39;RASPBERRY&#39;, 63.63636363636363, 34),\n (&#39;BERRY&#39;, 55.55555555555556, 31),\n (&#39;BLUEBERRY&#39;, 45.45454545454545, 37),\n (&#39;CHERRY&#39;, 42.10526315789474, 24)]</div>",
       "datasetInfos": [],
       "metadata": {},
       "removedWidgets": [],
       "type": "html"
      }
     },
     "output_type": "display_data"
    }
   ],
   "source": [
    "process.extract('STRAWBERRYICE', IC_flavors_new, scorer = fuzz.token_set_ratio)"
   ]
  },
  {
   "cell_type": "code",
   "execution_count": 0,
   "metadata": {
    "application/vnd.databricks.v1+cell": {
     "cellMetadata": {
      "byteLimit": 2048000,
      "rowLimit": 10000
     },
     "inputWidgets": {},
     "nuid": "13a83347-0c1c-4481-abd0-7167453e8c62",
     "showTitle": false,
     "title": ""
    }
   },
   "outputs": [
    {
     "output_type": "display_data",
     "data": {
      "text/html": [
       "<style scoped>\n",
       "  .ansiout {\n",
       "    display: block;\n",
       "    unicode-bidi: embed;\n",
       "    white-space: pre-wrap;\n",
       "    word-wrap: break-word;\n",
       "    word-break: break-all;\n",
       "    font-family: \"Source Code Pro\", \"Menlo\", monospace;;\n",
       "    font-size: 13px;\n",
       "    color: #555;\n",
       "    margin-left: 4px;\n",
       "    line-height: 19px;\n",
       "  }\n",
       "</style>\n",
       "<div class=\"ansiout\"></div>"
      ]
     },
     "metadata": {
      "application/vnd.databricks.v1+output": {
       "addedWidgets": {},
       "arguments": {},
       "data": "<div class=\"ansiout\"></div>",
       "datasetInfos": [],
       "metadata": {},
       "removedWidgets": [],
       "type": "html"
      }
     },
     "output_type": "display_data"
    }
   ],
   "source": [
    "# Two step matching - 'token set ratio' with threshold, followed by 'ratio'\n",
    "def flavor_match(item, flavor_list, cutoff = 90):\n",
    "    matched = process.extract(item, flavor_list, score_cutoff= cutoff, scorer = fuzz.token_set_ratio)\n",
    "    flavor_shortlist = remove_substrings([i[0] for i in matched])\n",
    "    matched = [i for i in matched if i[0] in flavor_shortlist]\n",
    "    if len( flavor_shortlist) >0:\n",
    "        max_score = matched[0][1]\n",
    "        final_match = [ i for i in matched if i[1]== max_score]\n",
    "        match_list = [i[0] for i in final_match]\n",
    "        match_list = [flavor_maps[i] if i in flavor_maps.keys() else i for i in match_list]\n",
    "        # if set(match_list) == {'STAWBERRY','FRUIT'}: \n",
    "        #     match_list = ['FRUIT'] # Drop Strawberry if fruit is the only other flavor\n",
    "        if  set(match_list) != {'FRUIT'} : match_list = [ i for i in match_list if i != 'FRUIT'] # Drop Fruit if it appears with something else\n",
    "        matched = ','.join(list(pd.Series(match_list).unique()))     \n",
    "    else: matched = 'OTHER'\n",
    "    return matched"
   ]
  },
  {
   "cell_type": "code",
   "execution_count": 0,
   "metadata": {
    "application/vnd.databricks.v1+cell": {
     "cellMetadata": {
      "byteLimit": 2048000,
      "rowLimit": 10000
     },
     "inputWidgets": {},
     "nuid": "0d976dfc-cba7-4b2f-8d22-abc9c34c3089",
     "showTitle": false,
     "title": ""
    }
   },
   "outputs": [
    {
     "output_type": "display_data",
     "data": {
      "text/html": [
       "<style scoped>\n",
       "  .ansiout {\n",
       "    display: block;\n",
       "    unicode-bidi: embed;\n",
       "    white-space: pre-wrap;\n",
       "    word-wrap: break-word;\n",
       "    word-break: break-all;\n",
       "    font-family: \"Source Code Pro\", \"Menlo\", monospace;;\n",
       "    font-size: 13px;\n",
       "    color: #555;\n",
       "    margin-left: 4px;\n",
       "    line-height: 19px;\n",
       "  }\n",
       "</style>\n",
       "<div class=\"ansiout\">\n",
       "</div>"
      ]
     },
     "metadata": {
      "application/vnd.databricks.v1+output": {
       "addedWidgets": {},
       "arguments": {},
       "data": "<div class=\"ansiout\">\n</div>",
       "datasetInfos": [],
       "metadata": {},
       "removedWidgets": [],
       "type": "html"
      }
     },
     "output_type": "display_data"
    }
   ],
   "source": [
    "ic_gtins_KFT_cols['Assigned Flavor(s)']= \\\n",
    "ic_gtins_KFT_cols.VND_ECOM_DSC.str.upper().apply(lambda x:flavor_match(x, flavor_list= IC_flavors_new))\n",
    "ic_gtins_KFT_cols['Flavor_Count'] = ic_gtins_KFT_cols['Assigned Flavor(s)'].apply(lambda x: len(x.split(',')))\n",
    "#Convert GTIN to 14 digit format\n",
    "ic_gtins = ic_gtins.merge(ic_gtins_KFT_cols, how = 'left', on = 'GTIN_NO')"
   ]
  },
  {
   "cell_type": "code",
   "execution_count": 0,
   "metadata": {
    "application/vnd.databricks.v1+cell": {
     "cellMetadata": {},
     "inputWidgets": {},
     "nuid": "ebdf794a-760c-455d-8367-c2f6a5add01a",
     "showTitle": false,
     "title": ""
    }
   },
   "outputs": [],
   "source": [
    "ic_gtins = ic_gtins[ic_gtins.CFIC_SUBCOM_NAM != 'Toppings']# Remove \"Toppings\""
   ]
  },
  {
   "cell_type": "code",
   "execution_count": 0,
   "metadata": {
    "application/vnd.databricks.v1+cell": {
     "cellMetadata": {},
     "inputWidgets": {},
     "nuid": "044da025-1b9e-4948-80ef-a46274217fa6",
     "showTitle": false,
     "title": ""
    }
   },
   "outputs": [
    {
     "output_type": "execute_result",
     "data": {
      "text/plain": [
       "OTHER                                      5606\n",
       "CHOCOLATE                                  1285\n",
       "FRUIT                                      1189\n",
       "VANILLA                                    1139\n",
       "CARAMEL                                     583\n",
       "                                           ... \n",
       "VANILLA,CHOCOLATE,CARAMEL,PEANUT BUTTER       1\n",
       "CHOCOLATE,RED VELVET                          1\n",
       "VANILLA,BUTTER PECAN                          1\n",
       "CHOCOLATE,BUTTER PECAN                        1\n",
       "COFFEE,CHOCOLATE                              1\n",
       "Name: Assigned Flavor(s), Length: 64, dtype: int64"
      ]
     },
     "execution_count": 61,
     "metadata": {},
     "output_type": "execute_result"
    }
   ],
   "source": [
    "ic_gtins['Assigned Flavor(s)'].value_counts()"
   ]
  },
  {
   "cell_type": "code",
   "execution_count": 0,
   "metadata": {
    "application/vnd.databricks.v1+cell": {
     "cellMetadata": {},
     "inputWidgets": {},
     "nuid": "11aa868d-fde2-427b-b636-b4f99d65f0cb",
     "showTitle": false,
     "title": ""
    }
   },
   "outputs": [],
   "source": [
    "ic_gtins[['GTIN_NO','VND_ECOM_DSC','Assigned Flavor(s)']].to_csv('ICECREAM_FLAVORS_101023_v2.csv', index = None)"
   ]
  },
  {
   "cell_type": "markdown",
   "metadata": {
    "application/vnd.databricks.v1+cell": {
     "cellMetadata": {},
     "inputWidgets": {},
     "nuid": "77911f75-6180-4592-bf40-b712d0194513",
     "showTitle": false,
     "title": ""
    }
   },
   "source": [
    "# UPDATED 10/10/23"
   ]
  },
  {
   "cell_type": "code",
   "execution_count": 0,
   "metadata": {
    "application/vnd.databricks.v1+cell": {
     "cellMetadata": {
      "byteLimit": 2048000,
      "rowLimit": 10000
     },
     "inputWidgets": {},
     "nuid": "abc2a01c-ef90-44ab-86fa-d5ee7d131db5",
     "showTitle": false,
     "title": ""
    }
   },
   "outputs": [
    {
     "output_type": "display_data",
     "data": {
      "text/html": [
       "<style scoped>\n",
       "  .ansiout {\n",
       "    display: block;\n",
       "    unicode-bidi: embed;\n",
       "    white-space: pre-wrap;\n",
       "    word-wrap: break-word;\n",
       "    word-break: break-all;\n",
       "    font-family: \"Source Code Pro\", \"Menlo\", monospace;;\n",
       "    font-size: 13px;\n",
       "    color: #555;\n",
       "    margin-left: 4px;\n",
       "    line-height: 19px;\n",
       "  }\n",
       "</style>\n",
       "<div class=\"ansiout\"></div>"
      ]
     },
     "metadata": {
      "application/vnd.databricks.v1+output": {
       "addedWidgets": {},
       "arguments": {},
       "data": "<div class=\"ansiout\"></div>",
       "datasetInfos": [],
       "metadata": {},
       "removedWidgets": [],
       "type": "html"
      }
     },
     "output_type": "display_data"
    }
   ],
   "source": [
    "other_results = results[results['Assigned Flavor(s)'] == 'OTHER']\n",
    "other_results = other_results[~other_results.VND_ECOM_DSC.isna()]\n",
    "print(other_results.shape) # 5605\n",
    "\n",
    "other_results['VND_ECOM_DSC_altered'] = ''\n",
    "other_results.VND_ECOM_DSC_altered = other_results.VND_ECOM_DSC.apply(lambda x: x.upper().replace('STRAWBERRY', ' STRAWBERRY ').replace('STRAWBERRIES', 'STRAWBERRY'))\n",
    "other_results[other_results.VND_ECOM_DSC_altered.str.contains('STRAWBER')].shape"
   ]
  },
  {
   "cell_type": "code",
   "execution_count": 0,
   "metadata": {
    "application/vnd.databricks.v1+cell": {
     "cellMetadata": {
      "byteLimit": 2048000,
      "rowLimit": 10000
     },
     "inputWidgets": {},
     "nuid": "1163a5cf-18b1-4946-9f72-e3361fa5763e",
     "showTitle": false,
     "title": ""
    }
   },
   "outputs": [
    {
     "output_type": "display_data",
     "data": {
      "text/html": [
       "<style scoped>\n",
       "  .ansiout {\n",
       "    display: block;\n",
       "    unicode-bidi: embed;\n",
       "    white-space: pre-wrap;\n",
       "    word-wrap: break-word;\n",
       "    word-break: break-all;\n",
       "    font-family: \"Source Code Pro\", \"Menlo\", monospace;;\n",
       "    font-size: 13px;\n",
       "    color: #555;\n",
       "    margin-left: 4px;\n",
       "    line-height: 19px;\n",
       "  }\n",
       "</style>\n",
       "<div class=\"ansiout\"></div>"
      ]
     },
     "metadata": {
      "application/vnd.databricks.v1+output": {
       "addedWidgets": {},
       "arguments": {},
       "data": "<div class=\"ansiout\"></div>",
       "datasetInfos": [],
       "metadata": {},
       "removedWidgets": [],
       "type": "html"
      }
     },
     "output_type": "display_data"
    }
   ],
   "source": [
    "matched = []\n",
    "for item in other_results[other_results.VND_ECOM_DSC_altered.str.contains('STRAWBER')]['VND_ECOM_DSC_altered'].tolist():\n",
    "    matched.append([i[:2] for i in process.extract(item, IC_flavors_new, scorer = fuzz.token_set_ratio)])\n",
    "\n",
    "straw = other_results[other_results.VND_ECOM_DSC_altered.str.contains('STRAWBER')]\n",
    "straw['Flavor 1'] = [matched[i][0][0] for i in range(len(matched))]\n",
    "straw['Scores 1'] = [matched[i][0][1] for i in range(len(matched))]\n",
    "straw['Flavor 2'] = [matched[i][1][0] for i in range(len(matched))]\n",
    "straw['Scores 2'] = [matched[i][1][1] for i in range(len(matched))]\n",
    "straw['Flavor 3'] = [matched[i][2][0] for i in range(len(matched))]\n",
    "straw['Scores 3'] = [matched[i][2][1] for i in range(len(matched))]\n",
    "straw['Flavor 4'] = [matched[i][3][0] for i in range(len(matched))]\n",
    "straw['Scores 4'] = [matched[i][3][1] for i in range(len(matched))]\n",
    "straw['Flavor 5'] = [matched[i][4][0] for i in range(len(matched))]\n",
    "straw['Scores 5'] = [matched[i][4][1] for i in range(len(matched))]\n",
    "\n",
    "straw[\"Flavor 100%\"] = ''\n",
    "for i in range(len(straw)):\n",
    "    print(i)\n",
    "    final = ''\n",
    "    if straw['Scores 1'].iloc[i] == 100:\n",
    "        final+=straw['Flavor 1'].iloc[i]\n",
    "    if straw['Scores 2'].iloc[i] == 100:\n",
    "        final+=', '\n",
    "        final+=straw['Flavor 2'].iloc[i]\n",
    "    if straw['Scores 3'].iloc[i] == 100:\n",
    "        final+=', '\n",
    "        final+=straw['Flavor 3'].iloc[i]\n",
    "    if straw['Scores 4'].iloc[i] == 100:\n",
    "        final+=', '\n",
    "        final+=straw['Flavor 4'].iloc[i]\n",
    "    if straw['Scores 5'].iloc[i] == 100:\n",
    "        final+=', '\n",
    "        final+=straw['Flavor 5'].iloc[i]\n",
    "    straw.at[i, \"Flavor 100%\"] = final\n",
    "\n",
    "\n",
    "straw['Assigned Flavor(s)'] = 'OTHER'\n",
    "straw = straw[['GTIN_NO', 'VND_ECOM_DSC', 'Assigned Flavor(s)', 'Flavor 100%', 'Flavor 1', 'Scores 1', 'Flavor 2', 'Scores 2', 'Flavor 3', 'Scores 3',\n",
    "       'Flavor 4', 'Scores 4', 'Flavor 5', 'Scores 5']]\n",
    "straw.to_csv(DBFO + 'STRAWBERRY.csv', index=False)"
   ]
  },
  {
   "cell_type": "code",
   "execution_count": 0,
   "metadata": {
    "application/vnd.databricks.v1+cell": {
     "cellMetadata": {
      "byteLimit": 2048000,
      "rowLimit": 10000
     },
     "inputWidgets": {},
     "nuid": "1092bc37-179e-4d6e-a3ab-ebafde668f48",
     "showTitle": false,
     "title": ""
    }
   },
   "outputs": [
    {
     "output_type": "display_data",
     "data": {
      "text/html": [
       "<style scoped>\n",
       "  .ansiout {\n",
       "    display: block;\n",
       "    unicode-bidi: embed;\n",
       "    white-space: pre-wrap;\n",
       "    word-wrap: break-word;\n",
       "    word-break: break-all;\n",
       "    font-family: \"Source Code Pro\", \"Menlo\", monospace;;\n",
       "    font-size: 13px;\n",
       "    color: #555;\n",
       "    margin-left: 4px;\n",
       "    line-height: 19px;\n",
       "  }\n",
       "</style>\n",
       "<div class=\"ansiout\">Out[309]: </div>"
      ]
     },
     "metadata": {
      "application/vnd.databricks.v1+output": {
       "addedWidgets": {},
       "arguments": {},
       "data": "<div class=\"ansiout\">Out[309]: </div>",
       "datasetInfos": [],
       "metadata": {},
       "removedWidgets": [],
       "type": "html"
      }
     },
     "output_type": "display_data"
    },
    {
     "output_type": "display_data",
     "data": {
      "text/html": [
       "<div>\n",
       "<style scoped>\n",
       "    .dataframe tbody tr th:only-of-type {\n",
       "        vertical-align: middle;\n",
       "    }\n",
       "\n",
       "    .dataframe tbody tr th {\n",
       "        vertical-align: top;\n",
       "    }\n",
       "\n",
       "    .dataframe thead th {\n",
       "        text-align: right;\n",
       "    }\n",
       "</style>\n",
       "<table border=\"1\" class=\"dataframe\">\n",
       "  <thead>\n",
       "    <tr style=\"text-align: right;\">\n",
       "      <th></th>\n",
       "      <th>index</th>\n",
       "      <th>0</th>\n",
       "    </tr>\n",
       "  </thead>\n",
       "  <tbody>\n",
       "    <tr>\n",
       "      <th>0</th>\n",
       "      <td></td>\n",
       "      <td>4140</td>\n",
       "    </tr>\n",
       "    <tr>\n",
       "      <th>1</th>\n",
       "      <td>Cream</td>\n",
       "      <td>1523</td>\n",
       "    </tr>\n",
       "    <tr>\n",
       "      <th>2</th>\n",
       "      <td>Ice</td>\n",
       "      <td>1439</td>\n",
       "    </tr>\n",
       "    <tr>\n",
       "      <th>3</th>\n",
       "      <td>Salt</td>\n",
       "      <td>814</td>\n",
       "    </tr>\n",
       "    <tr>\n",
       "      <th>4</th>\n",
       "      <td>ICE</td>\n",
       "      <td>595</td>\n",
       "    </tr>\n",
       "  </tbody>\n",
       "</table>\n",
       "</div>"
      ]
     },
     "metadata": {
      "application/vnd.databricks.v1+output": {
       "addedWidgets": {},
       "arguments": {},
       "data": "<div>\n<style scoped>\n    .dataframe tbody tr th:only-of-type {\n        vertical-align: middle;\n    }\n\n    .dataframe tbody tr th {\n        vertical-align: top;\n    }\n\n    .dataframe thead th {\n        text-align: right;\n    }\n</style>\n<table border=\"1\" class=\"dataframe\">\n  <thead>\n    <tr style=\"text-align: right;\">\n      <th></th>\n      <th>index</th>\n      <th>0</th>\n    </tr>\n  </thead>\n  <tbody>\n    <tr>\n      <th>0</th>\n      <td></td>\n      <td>4140</td>\n    </tr>\n    <tr>\n      <th>1</th>\n      <td>Cream</td>\n      <td>1523</td>\n    </tr>\n    <tr>\n      <th>2</th>\n      <td>Ice</td>\n      <td>1439</td>\n    </tr>\n    <tr>\n      <th>3</th>\n      <td>Salt</td>\n      <td>814</td>\n    </tr>\n    <tr>\n      <th>4</th>\n      <td>ICE</td>\n      <td>595</td>\n    </tr>\n  </tbody>\n</table>\n</div>",
       "datasetInfos": [],
       "metadata": {},
       "removedWidgets": [],
       "textData": null,
       "type": "htmlSandbox"
      }
     },
     "output_type": "display_data"
    }
   ],
   "source": [
    "from statistics import mode\n",
    "matrix=[other_results.VND_ECOM_DSC.iloc[i].replace('-', ' ').split(' ') for i in range(len(other_results.VND_ECOM_DSC))]\n",
    "pd.Series([item for row in matrix for item in row]).value_counts().reset_index().head()"
   ]
  },
  {
   "cell_type": "code",
   "execution_count": 0,
   "metadata": {
    "application/vnd.databricks.v1+cell": {
     "cellMetadata": {},
     "inputWidgets": {},
     "nuid": "566f8f74-89be-4dee-aaa7-e05b7a53daa6",
     "showTitle": false,
     "title": ""
    }
   },
   "outputs": [],
   "source": [
    "rest = other_results[~other_results.GTIN.isin([straw.GTIN.tolist()])]\n",
    "\n",
    "matched = []\n",
    "for item in rest['VND_ECOM_DSC'].tolist():\n",
    "    matched.append([i[:2] for i in process.extract(item, IC_flavors_new, scorer = fuzz.token_set_ratio)])\n",
    "\n",
    "rest['Flavor 1'] = [matched[i][0][0] for i in range(len(matched))]\n",
    "rest['Scores 1'] = [matched[i][0][1] for i in range(len(matched))]\n",
    "rest['Flavor 2'] = [matched[i][1][0] for i in range(len(matched))]\n",
    "rest['Scores 2'] = [matched[i][1][1] for i in range(len(matched))]\n",
    "rest['Flavor 3'] = [matched[i][2][0] for i in range(len(matched))]\n",
    "rest['Scores 3'] = [matched[i][2][1] for i in range(len(matched))]\n",
    "rest['Flavor 4'] = [matched[i][3][0] for i in range(len(matched))]\n",
    "rest['Scores 4'] = [matched[i][3][1] for i in range(len(matched))]\n",
    "rest['Flavor 5'] = [matched[i][4][0] for i in range(len(matched))]\n",
    "rest['Scores 5'] = [matched[i][4][1] for i in range(len(matched))]\n",
    "\n",
    "rest.to_csv(DBFO + 'toMallik.csv')"
   ]
  }
 ],
 "metadata": {
  "application/vnd.databricks.v1+notebook": {
   "dashboards": [],
   "language": "python",
   "notebookMetadata": {
    "pythonIndentUnit": 4
   },
   "notebookName": "Flavor Code Attribution_IceCream_w_additional_GTINS_101023",
   "widgets": {}
  },
  "kernelspec": {
   "display_name": "Python 3 (ipykernel)",
   "language": "python",
   "name": "python3"
  },
  "language_info": {
   "codemirror_mode": {
    "name": "ipython",
    "version": 3
   },
   "file_extension": ".py",
   "mimetype": "text/x-python",
   "name": "python",
   "nbconvert_exporter": "python",
   "pygments_lexer": "ipython3",
   "version": "3.10.9"
  }
 },
 "nbformat": 4,
 "nbformat_minor": 0
}
