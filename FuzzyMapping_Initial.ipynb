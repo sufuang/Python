{
 "cells": [
  {
   "cell_type": "markdown",
   "metadata": {
    "application/vnd.databricks.v1+cell": {
     "cellMetadata": {},
     "inputWidgets": {},
     "nuid": "bd35ad7c-3839-4626-ba1f-d8dacdbeaab7",
     "showTitle": false,
     "title": ""
    }
   },
   "source": [
    "# module name: FuzyMapping Initial.ipynb\n",
    "- purpose: \n",
    "- input: \n",
    "    - GS1_FoodBev_2022.csv\n",
    "    - ITM_DSC_ATTRIBUTES_NEW_parquet.gzip"
   ]
  },
  {
   "cell_type": "code",
   "execution_count": 0,
   "metadata": {
    "application/vnd.databricks.v1+cell": {
     "cellMetadata": {
      "byteLimit": 2048000,
      "rowLimit": 10000
     },
     "inputWidgets": {},
     "nuid": "a3f8816e-e7fd-4d1f-8501-0250e1e2f771",
     "showTitle": false,
     "title": ""
    }
   },
   "outputs": [
    {
     "data": {
      "text/html": [
       "<style scoped>\n",
       "  .ansiout {\n",
       "    display: block;\n",
       "    unicode-bidi: embed;\n",
       "    white-space: pre-wrap;\n",
       "    word-wrap: break-word;\n",
       "    word-break: break-all;\n",
       "    font-family: \"Source Code Pro\", \"Menlo\", monospace;;\n",
       "    font-size: 13px;\n",
       "    color: #555;\n",
       "    margin-left: 4px;\n",
       "    line-height: 19px;\n",
       "  }\n",
       "</style>\n",
       "<div class=\"ansiout\"></div>"
      ]
     },
     "metadata": {
      "application/vnd.databricks.v1+output": {
       "addedWidgets": {},
       "arguments": {},
       "data": "<div class=\"ansiout\"></div>",
       "datasetInfos": [],
       "metadata": {},
       "removedWidgets": [],
       "type": "html"
      }
     },
     "output_type": "display_data"
    }
   ],
   "source": [
    "import pandas as pd, numpy as np, rapidfuzz, os\n",
    "from rapidfuzz import fuzz, utils\n",
    "\n",
    "pd.options.display.float_format = '{:,.4f}'.format\n",
    "pd.set_option('display.max_columns', None) \n",
    "pd.set_option(\"display.max_rows\", None)"
   ]
  },
  {
   "cell_type": "code",
   "execution_count": 0,
   "metadata": {
    "application/vnd.databricks.v1+cell": {
     "cellMetadata": {
      "byteLimit": 2048000,
      "rowLimit": 10000
     },
     "inputWidgets": {},
     "nuid": "0fb65dfe-3296-4ac2-8aa2-2202ae9f89a8",
     "showTitle": false,
     "title": ""
    }
   },
   "outputs": [
    {
     "data": {
      "text/html": [
       "<style scoped>\n",
       "  .ansiout {\n",
       "    display: block;\n",
       "    unicode-bidi: embed;\n",
       "    white-space: pre-wrap;\n",
       "    word-wrap: break-word;\n",
       "    word-break: break-all;\n",
       "    font-family: \"Source Code Pro\", \"Menlo\", monospace;;\n",
       "    font-size: 13px;\n",
       "    color: #555;\n",
       "    margin-left: 4px;\n",
       "    line-height: 19px;\n",
       "  }\n",
       "</style>\n",
       "<div class=\"ansiout\"></div>"
      ]
     },
     "metadata": {
      "application/vnd.databricks.v1+output": {
       "addedWidgets": {},
       "arguments": {},
       "data": "<div class=\"ansiout\"></div>",
       "datasetInfos": [],
       "metadata": {},
       "removedWidgets": [],
       "type": "html"
      }
     },
     "output_type": "display_data"
    }
   ],
   "source": [
    "import os"
   ]
  },
  {
   "cell_type": "code",
   "execution_count": 0,
   "metadata": {
    "application/vnd.databricks.v1+cell": {
     "cellMetadata": {},
     "inputWidgets": {},
     "nuid": "8b19b8c4-3e21-4f3c-ab56-36f69f9dc5b3",
     "showTitle": true,
     "title": ""
    }
   },
   "outputs": [],
   "source": []
  },
  {
   "cell_type": "code",
   "execution_count": 0,
   "metadata": {
    "application/vnd.databricks.v1+cell": {
     "cellMetadata": {
      "byteLimit": 2048000,
      "rowLimit": 10000
     },
     "inputWidgets": {},
     "nuid": "43057b02-5522-4f69-868c-4a745ad54cd5",
     "showTitle": false,
     "title": ""
    }
   },
   "outputs": [
    {
     "data": {
      "text/html": [
       "<style scoped>\n",
       "  .ansiout {\n",
       "    display: block;\n",
       "    unicode-bidi: embed;\n",
       "    white-space: pre-wrap;\n",
       "    word-wrap: break-word;\n",
       "    word-break: break-all;\n",
       "    font-family: \"Source Code Pro\", \"Menlo\", monospace;;\n",
       "    font-size: 13px;\n",
       "    color: #555;\n",
       "    margin-left: 4px;\n",
       "    line-height: 19px;\n",
       "  }\n",
       "</style>\n",
       "<div class=\"ansiout\">/databricks/python/lib/python3.8/site-packages/IPython/core/interactiveshell.py:3437: DtypeWarning: Columns (5) have mixed types.Specify dtype option on import or set low_memory=False.\n",
       "  exec(code_obj, self.user_global_ns, self.user_ns)\n",
       "</div>"
      ]
     },
     "metadata": {
      "application/vnd.databricks.v1+output": {
       "addedWidgets": {},
       "arguments": {},
       "data": "<div class=\"ansiout\">/databricks/python/lib/python3.8/site-packages/IPython/core/interactiveshell.py:3437: DtypeWarning: Columns (5) have mixed types.Specify dtype option on import or set low_memory=False.\n  exec(code_obj, self.user_global_ns, self.user_ns)\n</div>",
       "datasetInfos": [],
       "metadata": {},
       "removedWidgets": [],
       "type": "html"
      }
     },
     "output_type": "display_data"
    }
   ],
   "source": [
    "\"\"\"\n",
    " ITM_DSC_ATTRIBUTES_NEW_parquet.gzip  is used by syndigo mapping\n",
    " GS1 has 'AttributeCode', 'AttributeTitle', 'AttributeDefinition', 'AttributeValueCode',  etc.\n",
    "\"\"\"\n",
    "gs1 = pd.read_csv('/dbfs/FileStore/tables/DATA_SCIENCE/GS1_FoodBev_2022.csv') # (135,600, 19)\n",
    "pim_mart = pd.read_parquet('/dbfs/FileStore/tables/DATA_SCIENCE/ITM_DSC_ATTRIBUTES_NEW_parquet.gzip') # (4,937,400, 34)  "
   ]
  },
  {
   "cell_type": "code",
   "execution_count": 0,
   "metadata": {
    "application/vnd.databricks.v1+cell": {
     "cellMetadata": {},
     "inputWidgets": {},
     "nuid": "ac4b57d5-b528-4c4e-85fd-b5e20f0caf76",
     "showTitle": false,
     "title": ""
    }
   },
   "outputs": [],
   "source": []
  },
  {
   "cell_type": "code",
   "execution_count": 0,
   "metadata": {
    "application/vnd.databricks.v1+cell": {
     "cellMetadata": {
      "byteLimit": 2048000,
      "rowLimit": 10000
     },
     "inputWidgets": {},
     "nuid": "6b1c5df9-c2c1-4a96-9509-a749eb444bf9",
     "showTitle": false,
     "title": ""
    }
   },
   "outputs": [
    {
     "data": {
      "text/html": [
       "<style scoped>\n",
       "  .ansiout {\n",
       "    display: block;\n",
       "    unicode-bidi: embed;\n",
       "    white-space: pre-wrap;\n",
       "    word-wrap: break-word;\n",
       "    word-break: break-all;\n",
       "    font-family: \"Source Code Pro\", \"Menlo\", monospace;;\n",
       "    font-size: 13px;\n",
       "    color: #555;\n",
       "    margin-left: 4px;\n",
       "    line-height: 19px;\n",
       "  }\n",
       "</style>\n",
       "<div class=\"ansiout\">Out[5]: Index([&#39;ITM_ID&#39;, &#39;GTIN_NO&#39;, &#39;GTIN_NAM&#39;, &#39;CON_UNT_ITM_DSC&#39;, &#39;DSP_UNT_ITM_DSC&#39;,\n",
       "       &#39;PMY_DPT_DSC&#39;, &#39;REC_DPT_DSC&#39;, &#39;DPT_DSC&#39;, &#39;COM_DSC&#39;, &#39;SUBCOM_DSC&#39;,\n",
       "       &#39;TAG_DSC&#39;, &#39;RCT_DSC&#39;, &#39;ITM_LVL_DSC&#39;, &#39;GRP_LVL_DSC&#39;,\n",
       "       &#39;NET_CONT_EQV_QY_VIP_TO_KRG_QY&#39;, &#39;NET_CONT_EQV_UOM_VIP_TO_KRG_UOM&#39;,\n",
       "       &#39;GTIN_HGT_OVD&#39;, &#39;GTIN_LTH_OVD&#39;, &#39;GTIN_WTH_OVD&#39;, &#39;GRS_WGT_OVD&#39;,\n",
       "       &#39;GTIN_NET_WGT_OVD&#39;, &#39;MIN_DAYS_OF_SHF_LIF_AT_WHS_DAYS&#39;, &#39;TPT_CLS_CD&#39;,\n",
       "       &#39;TPT_CLS_VLU&#39;, &#39;MAX_DAYS_OF_SHF_LIF_AT_WHS_DTB_CET_DAYS&#39;,\n",
       "       &#39;TYP_OF_LBL_CD&#39;, &#39;TYP_OF_LBL_VLU&#39;, &#39;SIZ_CD&#39;, &#39;SIZ_CD_VLU&#39;, &#39;SIZ_QY&#39;,\n",
       "       &#39;IS_EDBL_CD&#39;, &#39;IS_EDBL_VLU&#39;, &#39;VND_ECOM_DSC&#39;, &#39;KRG_OWN_ECOM_DSC&#39;],\n",
       "      dtype=&#39;object&#39;)</div>"
      ]
     },
     "metadata": {
      "application/vnd.databricks.v1+output": {
       "addedWidgets": {},
       "arguments": {},
       "data": "<div class=\"ansiout\">Out[5]: Index([&#39;ITM_ID&#39;, &#39;GTIN_NO&#39;, &#39;GTIN_NAM&#39;, &#39;CON_UNT_ITM_DSC&#39;, &#39;DSP_UNT_ITM_DSC&#39;,\n       &#39;PMY_DPT_DSC&#39;, &#39;REC_DPT_DSC&#39;, &#39;DPT_DSC&#39;, &#39;COM_DSC&#39;, &#39;SUBCOM_DSC&#39;,\n       &#39;TAG_DSC&#39;, &#39;RCT_DSC&#39;, &#39;ITM_LVL_DSC&#39;, &#39;GRP_LVL_DSC&#39;,\n       &#39;NET_CONT_EQV_QY_VIP_TO_KRG_QY&#39;, &#39;NET_CONT_EQV_UOM_VIP_TO_KRG_UOM&#39;,\n       &#39;GTIN_HGT_OVD&#39;, &#39;GTIN_LTH_OVD&#39;, &#39;GTIN_WTH_OVD&#39;, &#39;GRS_WGT_OVD&#39;,\n       &#39;GTIN_NET_WGT_OVD&#39;, &#39;MIN_DAYS_OF_SHF_LIF_AT_WHS_DAYS&#39;, &#39;TPT_CLS_CD&#39;,\n       &#39;TPT_CLS_VLU&#39;, &#39;MAX_DAYS_OF_SHF_LIF_AT_WHS_DTB_CET_DAYS&#39;,\n       &#39;TYP_OF_LBL_CD&#39;, &#39;TYP_OF_LBL_VLU&#39;, &#39;SIZ_CD&#39;, &#39;SIZ_CD_VLU&#39;, &#39;SIZ_QY&#39;,\n       &#39;IS_EDBL_CD&#39;, &#39;IS_EDBL_VLU&#39;, &#39;VND_ECOM_DSC&#39;, &#39;KRG_OWN_ECOM_DSC&#39;],\n      dtype=&#39;object&#39;)</div>",
       "datasetInfos": [],
       "metadata": {},
       "removedWidgets": [],
       "type": "html"
      }
     },
     "output_type": "display_data"
    }
   ],
   "source": [
    "pim_mart.columns"
   ]
  },
  {
   "cell_type": "code",
   "execution_count": 0,
   "metadata": {
    "application/vnd.databricks.v1+cell": {
     "cellMetadata": {
      "byteLimit": 2048000,
      "rowLimit": 10000
     },
     "inputWidgets": {},
     "nuid": "49eee783-a457-485c-90e4-42beb5579dd2",
     "showTitle": false,
     "title": ""
    }
   },
   "outputs": [
    {
     "data": {
      "text/html": [
       "<style scoped>\n",
       "  .ansiout {\n",
       "    display: block;\n",
       "    unicode-bidi: embed;\n",
       "    white-space: pre-wrap;\n",
       "    word-wrap: break-word;\n",
       "    word-break: break-all;\n",
       "    font-family: \"Source Code Pro\", \"Menlo\", monospace;;\n",
       "    font-size: 13px;\n",
       "    color: #555;\n",
       "    margin-left: 4px;\n",
       "    line-height: 19px;\n",
       "  }\n",
       "</style>\n",
       "<div class=\"ansiout\">Out[7]: array([&#39;COMMERCIAL BKY&#39;, &#39;GROC-ALL OTHER&#39;, &#39;PERSONAL CARE&#39;,\n",
       "       &#39;NATURAL FOODS&#39;, &#39;CKY/CRKR/SNK&#39;, &#39;CANDY&#39;, &#39;BEEF&#39;, &#39;BEAUTY&#39;,\n",
       "       &#39;HEALTH&#39;, &#39;MENS WEAR&#39;, &#39;FROZEN GROCERY&#39;, &#39;GROC NON-EDIBLE&#39;,\n",
       "       &#39;PACKAGED DELI&#39;, &#39;HBC NON-EDIBLE&#39;, &#39;MUSIC MKT&#39;, &#39;PET&#39;,\n",
       "       &#39;SCHOOL/OFFICE&#39;, &#39;HOUSEWARES&#39;, &#39;FRESH SEAFOOD&#39;, &#39;FURN/HOME DEC&#39;,\n",
       "       &#39;GM MERCH EXP&#39;, &#39;FLORAL-INDOOR&#39;, &#39;TOYS&#39;, &#39;BAKERY&#39;, &#39;SEASONAL&#39;,\n",
       "       &#39;BABY&#39;, &#39;PACKAGE PRODUCE&#39;, &#39;HOME IMPRVMNT&#39;, &#39;VEGETABLES&#39;, &#39;DAIRY&#39;,\n",
       "       &#39;VIDEO/ELEC/COMP&#39;, &#39;FLORAL-OUTDOOR&#39;, &#39;DOMESTICS&#39;, &#39;SPORTING GOODS&#39;,\n",
       "       &#39;POULTRY&#39;, &#39;GARDEN-OUTDOOR&#39;, &#39;REFRIG GROCERY&#39;, &#39;FRESH FOOD DEST&#39;,\n",
       "       &#39;SOFT DRINKS&#39;, &#39;DELI BULK&#39;, &#39;PKG MEAT OTHER&#39;, &#39;NF NON-EDIBLE&#39;,\n",
       "       None, &#39;PKG MEAT&#39;, &#39;PHONES&#39;, &#39;PKG SEAFOOD&#39;, &#39;STORAGE&#39;,\n",
       "       &#39;SLD SND CMS&#39;, &#39;PKG SPECIALTY&#39;, &#39;FRUIT&#39;, &#39;SPECIALTY CHS&#39;,\n",
       "       &#39;COFFEE SHOP&#39;, &#39;FLORAL WRAP&#39;, &#39;PORK&#39;, &#39;SPIRITS&#39;, &#39;CARDS&#39;, &#39;RX-OTC&#39;,\n",
       "       &#39;ACCESSORIES&#39;, &#39;CHILDRENS&#39;, &#39;SPECIALTY MEAT&#39;, &#39;WINE&#39;,\n",
       "       &#39;READY-TO-WEAR&#39;, &#39;BEER&#39;, &#39;GM-MISC&#39;, &#39;DELI WRAP SPLY&#39;,\n",
       "       &#39;MEAT/SEAF WRAP&#39;, &#39;TOBACCO&#39;, &#39;FRESH PROCESSED&#39;, &#39;INTIMATES&#39;,\n",
       "       &#39;MEAT/SFD STORE&#39;, &#39;DELI STOR SPLY&#39;, &#39;STORE SUPPLY&#39;, &#39;SHOES&#39;,\n",
       "       &#39;MISC SALES TRAN&#39;, &#39;PHARMACY&#39;, &#39;PROD STOR SPLY&#39;, &#39;PROD WRAP SPLY&#39;,\n",
       "       &#39;END OF ORD COUP&#39;, &#39;BAGS FRT END&#39;, &#39;KIOSK GAS&#39;, &#39;BOTTLE DEP/RET&#39;,\n",
       "       &#39;PHARM SUPPLY&#39;, &#39;CNTRL STR SPLY&#39;, &#39;&lt;OBSOLETE&gt; DFLT 159 VALUE&#39;,\n",
       "       &#39;&lt;OBSOLETE&gt; FOOD SERVICE&#39;, &#39;WATCHES&#39;, &#39;PHARMACY WRAP&#39;,\n",
       "       &#39;MRKTPLACE SPLY&#39;, &#39;GROCERY SUPPLY&#39;, &#39;SEAFOOD WRAP&#39;,\n",
       "       &#39;PHARM COUPONS&#39;, &#39;COSMETIC SUPPLY&#39;, &#39;OPT DELI WRAP&#39;,\n",
       "       &#39;VIDEO RENTAL&#39;, &#39;MISC FASH JWLRY&#39;, &#39;DIAMONDS&#39;], dtype=object)</div>"
      ]
     },
     "metadata": {
      "application/vnd.databricks.v1+output": {
       "addedWidgets": {},
       "arguments": {},
       "data": "<div class=\"ansiout\">Out[7]: array([&#39;COMMERCIAL BKY&#39;, &#39;GROC-ALL OTHER&#39;, &#39;PERSONAL CARE&#39;,\n       &#39;NATURAL FOODS&#39;, &#39;CKY/CRKR/SNK&#39;, &#39;CANDY&#39;, &#39;BEEF&#39;, &#39;BEAUTY&#39;,\n       &#39;HEALTH&#39;, &#39;MENS WEAR&#39;, &#39;FROZEN GROCERY&#39;, &#39;GROC NON-EDIBLE&#39;,\n       &#39;PACKAGED DELI&#39;, &#39;HBC NON-EDIBLE&#39;, &#39;MUSIC MKT&#39;, &#39;PET&#39;,\n       &#39;SCHOOL/OFFICE&#39;, &#39;HOUSEWARES&#39;, &#39;FRESH SEAFOOD&#39;, &#39;FURN/HOME DEC&#39;,\n       &#39;GM MERCH EXP&#39;, &#39;FLORAL-INDOOR&#39;, &#39;TOYS&#39;, &#39;BAKERY&#39;, &#39;SEASONAL&#39;,\n       &#39;BABY&#39;, &#39;PACKAGE PRODUCE&#39;, &#39;HOME IMPRVMNT&#39;, &#39;VEGETABLES&#39;, &#39;DAIRY&#39;,\n       &#39;VIDEO/ELEC/COMP&#39;, &#39;FLORAL-OUTDOOR&#39;, &#39;DOMESTICS&#39;, &#39;SPORTING GOODS&#39;,\n       &#39;POULTRY&#39;, &#39;GARDEN-OUTDOOR&#39;, &#39;REFRIG GROCERY&#39;, &#39;FRESH FOOD DEST&#39;,\n       &#39;SOFT DRINKS&#39;, &#39;DELI BULK&#39;, &#39;PKG MEAT OTHER&#39;, &#39;NF NON-EDIBLE&#39;,\n       None, &#39;PKG MEAT&#39;, &#39;PHONES&#39;, &#39;PKG SEAFOOD&#39;, &#39;STORAGE&#39;,\n       &#39;SLD SND CMS&#39;, &#39;PKG SPECIALTY&#39;, &#39;FRUIT&#39;, &#39;SPECIALTY CHS&#39;,\n       &#39;COFFEE SHOP&#39;, &#39;FLORAL WRAP&#39;, &#39;PORK&#39;, &#39;SPIRITS&#39;, &#39;CARDS&#39;, &#39;RX-OTC&#39;,\n       &#39;ACCESSORIES&#39;, &#39;CHILDRENS&#39;, &#39;SPECIALTY MEAT&#39;, &#39;WINE&#39;,\n       &#39;READY-TO-WEAR&#39;, &#39;BEER&#39;, &#39;GM-MISC&#39;, &#39;DELI WRAP SPLY&#39;,\n       &#39;MEAT/SEAF WRAP&#39;, &#39;TOBACCO&#39;, &#39;FRESH PROCESSED&#39;, &#39;INTIMATES&#39;,\n       &#39;MEAT/SFD STORE&#39;, &#39;DELI STOR SPLY&#39;, &#39;STORE SUPPLY&#39;, &#39;SHOES&#39;,\n       &#39;MISC SALES TRAN&#39;, &#39;PHARMACY&#39;, &#39;PROD STOR SPLY&#39;, &#39;PROD WRAP SPLY&#39;,\n       &#39;END OF ORD COUP&#39;, &#39;BAGS FRT END&#39;, &#39;KIOSK GAS&#39;, &#39;BOTTLE DEP/RET&#39;,\n       &#39;PHARM SUPPLY&#39;, &#39;CNTRL STR SPLY&#39;, &#39;&lt;OBSOLETE&gt; DFLT 159 VALUE&#39;,\n       &#39;&lt;OBSOLETE&gt; FOOD SERVICE&#39;, &#39;WATCHES&#39;, &#39;PHARMACY WRAP&#39;,\n       &#39;MRKTPLACE SPLY&#39;, &#39;GROCERY SUPPLY&#39;, &#39;SEAFOOD WRAP&#39;,\n       &#39;PHARM COUPONS&#39;, &#39;COSMETIC SUPPLY&#39;, &#39;OPT DELI WRAP&#39;,\n       &#39;VIDEO RENTAL&#39;, &#39;MISC FASH JWLRY&#39;, &#39;DIAMONDS&#39;], dtype=object)</div>",
       "datasetInfos": [],
       "metadata": {},
       "removedWidgets": [],
       "type": "html"
      }
     },
     "output_type": "display_data"
    }
   ],
   "source": [
    "pim_mart.DPT_DSC.unique()"
   ]
  },
  {
   "cell_type": "code",
   "execution_count": 0,
   "metadata": {
    "application/vnd.databricks.v1+cell": {
     "cellMetadata": {
      "byteLimit": 2048000,
      "rowLimit": 10000
     },
     "inputWidgets": {},
     "nuid": "88cb4824-efcd-46b1-99e6-178e86e58b14",
     "showTitle": false,
     "title": ""
    }
   },
   "outputs": [
    {
     "data": {
      "text/html": [
       "<style scoped>\n",
       "  .ansiout {\n",
       "    display: block;\n",
       "    unicode-bidi: embed;\n",
       "    white-space: pre-wrap;\n",
       "    word-wrap: break-word;\n",
       "    word-break: break-all;\n",
       "    font-family: \"Source Code Pro\", \"Menlo\", monospace;;\n",
       "    font-size: 13px;\n",
       "    color: #555;\n",
       "    margin-left: 4px;\n",
       "    line-height: 19px;\n",
       "  }\n",
       "</style>\n",
       "<div class=\"ansiout\"></div>"
      ]
     },
     "metadata": {
      "application/vnd.databricks.v1+output": {
       "addedWidgets": {},
       "arguments": {},
       "data": "<div class=\"ansiout\"></div>",
       "datasetInfos": [],
       "metadata": {},
       "removedWidgets": [],
       "type": "html"
      }
     },
     "output_type": "display_data"
    }
   ],
   "source": [
    "df1= gs1"
   ]
  },
  {
   "cell_type": "code",
   "execution_count": 0,
   "metadata": {
    "application/vnd.databricks.v1+cell": {
     "cellMetadata": {
      "byteLimit": 2048000,
      "rowLimit": 10000
     },
     "inputWidgets": {},
     "nuid": "2e2dff77-732e-4ae1-b875-0e82e2bb9f12",
     "showTitle": false,
     "title": ""
    }
   },
   "outputs": [
    {
     "data": {
      "text/html": [
       "<style scoped>\n",
       "  .ansiout {\n",
       "    display: block;\n",
       "    unicode-bidi: embed;\n",
       "    white-space: pre-wrap;\n",
       "    word-wrap: break-word;\n",
       "    word-break: break-all;\n",
       "    font-family: \"Source Code Pro\", \"Menlo\", monospace;;\n",
       "    font-size: 13px;\n",
       "    color: #555;\n",
       "    margin-left: 4px;\n",
       "    line-height: 19px;\n",
       "  }\n",
       "</style>\n",
       "<div class=\"ansiout\">Out[11]: Index([&#39;SegmentCode&#39;, &#39;SegmentTitle&#39;, &#39;SegmentDefinition&#39;, &#39;FamilyCode&#39;,\n",
       "       &#39;FamilyTitle&#39;, &#39;FamilyDefinition&#39;, &#39;ClassCode&#39;, &#39;ClassTitle&#39;,\n",
       "       &#39;ClassDefinition&#39;, &#39;BrickCode&#39;, &#39;BrickTitle&#39;,\n",
       "       &#39;BrickDefinition_Includes&#39;, &#39;BrickDefinition_Excludes&#39;, &#39;AttributeCode&#39;,\n",
       "       &#39;AttributeTitle&#39;, &#39;AttributeDefinition&#39;, &#39;AttributeValueCode&#39;,\n",
       "       &#39;AttributeValueTitle&#39;, &#39;AttributeValueDefinition&#39;],\n",
       "      dtype=&#39;object&#39;)</div>"
      ]
     },
     "metadata": {
      "application/vnd.databricks.v1+output": {
       "addedWidgets": {},
       "arguments": {},
       "data": "<div class=\"ansiout\">Out[11]: Index([&#39;SegmentCode&#39;, &#39;SegmentTitle&#39;, &#39;SegmentDefinition&#39;, &#39;FamilyCode&#39;,\n       &#39;FamilyTitle&#39;, &#39;FamilyDefinition&#39;, &#39;ClassCode&#39;, &#39;ClassTitle&#39;,\n       &#39;ClassDefinition&#39;, &#39;BrickCode&#39;, &#39;BrickTitle&#39;,\n       &#39;BrickDefinition_Includes&#39;, &#39;BrickDefinition_Excludes&#39;, &#39;AttributeCode&#39;,\n       &#39;AttributeTitle&#39;, &#39;AttributeDefinition&#39;, &#39;AttributeValueCode&#39;,\n       &#39;AttributeValueTitle&#39;, &#39;AttributeValueDefinition&#39;],\n      dtype=&#39;object&#39;)</div>",
       "datasetInfos": [],
       "metadata": {},
       "removedWidgets": [],
       "type": "html"
      }
     },
     "output_type": "display_data"
    }
   ],
   "source": [
    "df1.columns"
   ]
  },
  {
   "cell_type": "code",
   "execution_count": 0,
   "metadata": {
    "application/vnd.databricks.v1+cell": {
     "cellMetadata": {
      "byteLimit": 2048000,
      "rowLimit": 10000
     },
     "inputWidgets": {},
     "nuid": "f556908e-6ef6-4cb0-8a01-98b3c4f04608",
     "showTitle": false,
     "title": ""
    }
   },
   "outputs": [
    {
     "data": {
      "text/html": [
       "<style scoped>\n",
       "  .ansiout {\n",
       "    display: block;\n",
       "    unicode-bidi: embed;\n",
       "    white-space: pre-wrap;\n",
       "    word-wrap: break-word;\n",
       "    word-break: break-all;\n",
       "    font-family: \"Source Code Pro\", \"Menlo\", monospace;;\n",
       "    font-size: 13px;\n",
       "    color: #555;\n",
       "    margin-left: 4px;\n",
       "    line-height: 19px;\n",
       "  }\n",
       "</style>\n",
       "<div class=\"ansiout\">Out[13]: </div>"
      ]
     },
     "metadata": {
      "application/vnd.databricks.v1+output": {
       "addedWidgets": {},
       "arguments": {},
       "data": "<div class=\"ansiout\">Out[13]: </div>",
       "datasetInfos": [],
       "metadata": {},
       "removedWidgets": [],
       "type": "html"
      }
     },
     "output_type": "display_data"
    },
    {
     "data": {
      "text/html": [
       "<div>\n",
       "<style scoped>\n",
       "    .dataframe tbody tr th:only-of-type {\n",
       "        vertical-align: middle;\n",
       "    }\n",
       "\n",
       "    .dataframe tbody tr th {\n",
       "        vertical-align: top;\n",
       "    }\n",
       "\n",
       "    .dataframe thead th {\n",
       "        text-align: right;\n",
       "    }\n",
       "</style>\n",
       "<table border=\"1\" class=\"dataframe\">\n",
       "  <thead>\n",
       "    <tr style=\"text-align: right;\">\n",
       "      <th></th>\n",
       "      <th>SegmentCode</th>\n",
       "      <th>SegmentTitle</th>\n",
       "      <th>SegmentDefinition</th>\n",
       "      <th>FamilyCode</th>\n",
       "      <th>FamilyTitle</th>\n",
       "      <th>FamilyDefinition</th>\n",
       "      <th>ClassCode</th>\n",
       "      <th>ClassTitle</th>\n",
       "      <th>ClassDefinition</th>\n",
       "      <th>BrickCode</th>\n",
       "      <th>BrickTitle</th>\n",
       "      <th>BrickDefinition_Includes</th>\n",
       "      <th>BrickDefinition_Excludes</th>\n",
       "      <th>AttributeCode</th>\n",
       "      <th>AttributeTitle</th>\n",
       "      <th>AttributeDefinition</th>\n",
       "      <th>AttributeValueCode</th>\n",
       "      <th>AttributeValueTitle</th>\n",
       "      <th>AttributeValueDefinition</th>\n",
       "    </tr>\n",
       "  </thead>\n",
       "  <tbody>\n",
       "    <tr>\n",
       "      <th>0</th>\n",
       "      <td>50000000</td>\n",
       "      <td>Food/Beverage/Tobacco</td>\n",
       "      <td>NaN</td>\n",
       "      <td>50200000</td>\n",
       "      <td>Beverages</td>\n",
       "      <td>NaN</td>\n",
       "      <td>50202200</td>\n",
       "      <td>Alcoholic Beverages (Includes De-Alcoholised V...</td>\n",
       "      <td>NaN</td>\n",
       "      <td>10008042</td>\n",
       "      <td>Alcohol Flavouring Kit</td>\n",
       "      <td>Includes any products that can be described/ob...</td>\n",
       "      <td>Excludes products such as Alcohol Making Acces...</td>\n",
       "      <td>NaN</td>\n",
       "      <td>NaN</td>\n",
       "      <td>NaN</td>\n",
       "      <td>NaN</td>\n",
       "      <td>NaN</td>\n",
       "      <td>NaN</td>\n",
       "    </tr>\n",
       "    <tr>\n",
       "      <th>1</th>\n",
       "      <td>50000000</td>\n",
       "      <td>Food/Beverage/Tobacco</td>\n",
       "      <td>NaN</td>\n",
       "      <td>50200000</td>\n",
       "      <td>Beverages</td>\n",
       "      <td>NaN</td>\n",
       "      <td>50202200</td>\n",
       "      <td>Alcoholic Beverages (Includes De-Alcoholised V...</td>\n",
       "      <td>NaN</td>\n",
       "      <td>10000142</td>\n",
       "      <td>Alcohol Making Kits</td>\n",
       "      <td>Includes any products that can be described/ob...</td>\n",
       "      <td>Excludes products such as Alcohol Making Acces...</td>\n",
       "      <td>20000004.0</td>\n",
       "      <td>Type of Alcohol Making Kit</td>\n",
       "      <td>Indicates, with reference to the product brand...</td>\n",
       "      <td>30000309.0</td>\n",
       "      <td>BEER KIT</td>\n",
       "      <td>NaN</td>\n",
       "    </tr>\n",
       "    <tr>\n",
       "      <th>2</th>\n",
       "      <td>50000000</td>\n",
       "      <td>Food/Beverage/Tobacco</td>\n",
       "      <td>NaN</td>\n",
       "      <td>50200000</td>\n",
       "      <td>Beverages</td>\n",
       "      <td>NaN</td>\n",
       "      <td>50202200</td>\n",
       "      <td>Alcoholic Beverages (Includes De-Alcoholised V...</td>\n",
       "      <td>NaN</td>\n",
       "      <td>10000142</td>\n",
       "      <td>Alcohol Making Kits</td>\n",
       "      <td>Includes any products that can be described/ob...</td>\n",
       "      <td>Excludes products such as Alcohol Making Acces...</td>\n",
       "      <td>20000004.0</td>\n",
       "      <td>Type of Alcohol Making Kit</td>\n",
       "      <td>Indicates, with reference to the product brand...</td>\n",
       "      <td>30003009.0</td>\n",
       "      <td>LIQUEUR KIT</td>\n",
       "      <td>NaN</td>\n",
       "    </tr>\n",
       "    <tr>\n",
       "      <th>3</th>\n",
       "      <td>50000000</td>\n",
       "      <td>Food/Beverage/Tobacco</td>\n",
       "      <td>NaN</td>\n",
       "      <td>50200000</td>\n",
       "      <td>Beverages</td>\n",
       "      <td>NaN</td>\n",
       "      <td>50202200</td>\n",
       "      <td>Alcoholic Beverages (Includes De-Alcoholised V...</td>\n",
       "      <td>NaN</td>\n",
       "      <td>10000142</td>\n",
       "      <td>Alcohol Making Kits</td>\n",
       "      <td>Includes any products that can be described/ob...</td>\n",
       "      <td>Excludes products such as Alcohol Making Acces...</td>\n",
       "      <td>20000004.0</td>\n",
       "      <td>Type of Alcohol Making Kit</td>\n",
       "      <td>Indicates, with reference to the product brand...</td>\n",
       "      <td>30002832.0</td>\n",
       "      <td>SPIRIT KIT</td>\n",
       "      <td>NaN</td>\n",
       "    </tr>\n",
       "    <tr>\n",
       "      <th>4</th>\n",
       "      <td>50000000</td>\n",
       "      <td>Food/Beverage/Tobacco</td>\n",
       "      <td>NaN</td>\n",
       "      <td>50200000</td>\n",
       "      <td>Beverages</td>\n",
       "      <td>NaN</td>\n",
       "      <td>50202200</td>\n",
       "      <td>Alcoholic Beverages (Includes De-Alcoholised V...</td>\n",
       "      <td>NaN</td>\n",
       "      <td>10000142</td>\n",
       "      <td>Alcohol Making Kits</td>\n",
       "      <td>Includes any products that can be described/ob...</td>\n",
       "      <td>Excludes products such as Alcohol Making Acces...</td>\n",
       "      <td>20000004.0</td>\n",
       "      <td>Type of Alcohol Making Kit</td>\n",
       "      <td>Indicates, with reference to the product brand...</td>\n",
       "      <td>30002515.0</td>\n",
       "      <td>UNCLASSIFIED</td>\n",
       "      <td>This term is used to describe those product at...</td>\n",
       "    </tr>\n",
       "  </tbody>\n",
       "</table>\n",
       "</div>"
      ]
     },
     "metadata": {
      "application/vnd.databricks.v1+output": {
       "addedWidgets": {},
       "arguments": {},
       "data": "<div>\n<style scoped>\n    .dataframe tbody tr th:only-of-type {\n        vertical-align: middle;\n    }\n\n    .dataframe tbody tr th {\n        vertical-align: top;\n    }\n\n    .dataframe thead th {\n        text-align: right;\n    }\n</style>\n<table border=\"1\" class=\"dataframe\">\n  <thead>\n    <tr style=\"text-align: right;\">\n      <th></th>\n      <th>SegmentCode</th>\n      <th>SegmentTitle</th>\n      <th>SegmentDefinition</th>\n      <th>FamilyCode</th>\n      <th>FamilyTitle</th>\n      <th>FamilyDefinition</th>\n      <th>ClassCode</th>\n      <th>ClassTitle</th>\n      <th>ClassDefinition</th>\n      <th>BrickCode</th>\n      <th>BrickTitle</th>\n      <th>BrickDefinition_Includes</th>\n      <th>BrickDefinition_Excludes</th>\n      <th>AttributeCode</th>\n      <th>AttributeTitle</th>\n      <th>AttributeDefinition</th>\n      <th>AttributeValueCode</th>\n      <th>AttributeValueTitle</th>\n      <th>AttributeValueDefinition</th>\n    </tr>\n  </thead>\n  <tbody>\n    <tr>\n      <th>0</th>\n      <td>50000000</td>\n      <td>Food/Beverage/Tobacco</td>\n      <td>NaN</td>\n      <td>50200000</td>\n      <td>Beverages</td>\n      <td>NaN</td>\n      <td>50202200</td>\n      <td>Alcoholic Beverages (Includes De-Alcoholised V...</td>\n      <td>NaN</td>\n      <td>10008042</td>\n      <td>Alcohol Flavouring Kit</td>\n      <td>Includes any products that can be described/ob...</td>\n      <td>Excludes products such as Alcohol Making Acces...</td>\n      <td>NaN</td>\n      <td>NaN</td>\n      <td>NaN</td>\n      <td>NaN</td>\n      <td>NaN</td>\n      <td>NaN</td>\n    </tr>\n    <tr>\n      <th>1</th>\n      <td>50000000</td>\n      <td>Food/Beverage/Tobacco</td>\n      <td>NaN</td>\n      <td>50200000</td>\n      <td>Beverages</td>\n      <td>NaN</td>\n      <td>50202200</td>\n      <td>Alcoholic Beverages (Includes De-Alcoholised V...</td>\n      <td>NaN</td>\n      <td>10000142</td>\n      <td>Alcohol Making Kits</td>\n      <td>Includes any products that can be described/ob...</td>\n      <td>Excludes products such as Alcohol Making Acces...</td>\n      <td>20000004.0</td>\n      <td>Type of Alcohol Making Kit</td>\n      <td>Indicates, with reference to the product brand...</td>\n      <td>30000309.0</td>\n      <td>BEER KIT</td>\n      <td>NaN</td>\n    </tr>\n    <tr>\n      <th>2</th>\n      <td>50000000</td>\n      <td>Food/Beverage/Tobacco</td>\n      <td>NaN</td>\n      <td>50200000</td>\n      <td>Beverages</td>\n      <td>NaN</td>\n      <td>50202200</td>\n      <td>Alcoholic Beverages (Includes De-Alcoholised V...</td>\n      <td>NaN</td>\n      <td>10000142</td>\n      <td>Alcohol Making Kits</td>\n      <td>Includes any products that can be described/ob...</td>\n      <td>Excludes products such as Alcohol Making Acces...</td>\n      <td>20000004.0</td>\n      <td>Type of Alcohol Making Kit</td>\n      <td>Indicates, with reference to the product brand...</td>\n      <td>30003009.0</td>\n      <td>LIQUEUR KIT</td>\n      <td>NaN</td>\n    </tr>\n    <tr>\n      <th>3</th>\n      <td>50000000</td>\n      <td>Food/Beverage/Tobacco</td>\n      <td>NaN</td>\n      <td>50200000</td>\n      <td>Beverages</td>\n      <td>NaN</td>\n      <td>50202200</td>\n      <td>Alcoholic Beverages (Includes De-Alcoholised V...</td>\n      <td>NaN</td>\n      <td>10000142</td>\n      <td>Alcohol Making Kits</td>\n      <td>Includes any products that can be described/ob...</td>\n      <td>Excludes products such as Alcohol Making Acces...</td>\n      <td>20000004.0</td>\n      <td>Type of Alcohol Making Kit</td>\n      <td>Indicates, with reference to the product brand...</td>\n      <td>30002832.0</td>\n      <td>SPIRIT KIT</td>\n      <td>NaN</td>\n    </tr>\n    <tr>\n      <th>4</th>\n      <td>50000000</td>\n      <td>Food/Beverage/Tobacco</td>\n      <td>NaN</td>\n      <td>50200000</td>\n      <td>Beverages</td>\n      <td>NaN</td>\n      <td>50202200</td>\n      <td>Alcoholic Beverages (Includes De-Alcoholised V...</td>\n      <td>NaN</td>\n      <td>10000142</td>\n      <td>Alcohol Making Kits</td>\n      <td>Includes any products that can be described/ob...</td>\n      <td>Excludes products such as Alcohol Making Acces...</td>\n      <td>20000004.0</td>\n      <td>Type of Alcohol Making Kit</td>\n      <td>Indicates, with reference to the product brand...</td>\n      <td>30002515.0</td>\n      <td>UNCLASSIFIED</td>\n      <td>This term is used to describe those product at...</td>\n    </tr>\n  </tbody>\n</table>\n</div>",
       "datasetInfos": [],
       "metadata": {},
       "removedWidgets": [],
       "textData": null,
       "type": "htmlSandbox"
      }
     },
     "output_type": "display_data"
    }
   ],
   "source": [
    "df1.head()"
   ]
  },
  {
   "cell_type": "code",
   "execution_count": 0,
   "metadata": {
    "application/vnd.databricks.v1+cell": {
     "cellMetadata": {
      "byteLimit": 2048000,
      "rowLimit": 10000
     },
     "inputWidgets": {},
     "nuid": "7b698a67-2da5-4f2c-8409-3c13d3ed266d",
     "showTitle": false,
     "title": ""
    }
   },
   "outputs": [
    {
     "data": {
      "text/html": [
       "<style scoped>\n",
       "  .ansiout {\n",
       "    display: block;\n",
       "    unicode-bidi: embed;\n",
       "    white-space: pre-wrap;\n",
       "    word-wrap: break-word;\n",
       "    word-break: break-all;\n",
       "    font-family: \"Source Code Pro\", \"Menlo\", monospace;;\n",
       "    font-size: 13px;\n",
       "    color: #555;\n",
       "    margin-left: 4px;\n",
       "    line-height: 19px;\n",
       "  }\n",
       "</style>\n",
       "<div class=\"ansiout\"></div>"
      ]
     },
     "metadata": {
      "application/vnd.databricks.v1+output": {
       "addedWidgets": {},
       "arguments": {},
       "data": "<div class=\"ansiout\"></div>",
       "datasetInfos": [],
       "metadata": {},
       "removedWidgets": [],
       "type": "html"
      }
     },
     "output_type": "display_data"
    }
   ],
   "source": [
    "pimmart_grocery = pim_mart[pim_mart.PMY_DPT_DSC == 'GROCERY'] #  (603,733, 34)\n",
    "pimart_commercial_bakery = pim_mart[pim_mart.DPT_DSC == 'COMMERCIAL BKY'] #(8168,34)"
   ]
  },
  {
   "cell_type": "code",
   "execution_count": 0,
   "metadata": {
    "application/vnd.databricks.v1+cell": {
     "cellMetadata": {
      "byteLimit": 2048000,
      "rowLimit": 10000
     },
     "inputWidgets": {},
     "nuid": "d71ff47b-5466-4562-9cda-ebd10a50982f",
     "showTitle": false,
     "title": ""
    }
   },
   "outputs": [
    {
     "data": {
      "text/html": [
       "<style scoped>\n",
       "  .ansiout {\n",
       "    display: block;\n",
       "    unicode-bidi: embed;\n",
       "    white-space: pre-wrap;\n",
       "    word-wrap: break-word;\n",
       "    word-break: break-all;\n",
       "    font-family: \"Source Code Pro\", \"Menlo\", monospace;;\n",
       "    font-size: 13px;\n",
       "    color: #555;\n",
       "    margin-left: 4px;\n",
       "    line-height: 19px;\n",
       "  }\n",
       "</style>\n",
       "<div class=\"ansiout\">Out[18]: (8168, 34)</div>"
      ]
     },
     "metadata": {
      "application/vnd.databricks.v1+output": {
       "addedWidgets": {},
       "arguments": {},
       "data": "<div class=\"ansiout\">Out[18]: (8168, 34)</div>",
       "datasetInfos": [],
       "metadata": {},
       "removedWidgets": [],
       "type": "html"
      }
     },
     "output_type": "display_data"
    }
   ],
   "source": [
    "pimart_commercial_bakery.shape\n"
   ]
  },
  {
   "cell_type": "code",
   "execution_count": 0,
   "metadata": {
    "application/vnd.databricks.v1+cell": {
     "cellMetadata": {
      "byteLimit": 2048000,
      "rowLimit": 10000
     },
     "inputWidgets": {},
     "nuid": "4bfd7e40-89db-42c0-8fc7-5188e1e65884",
     "showTitle": false,
     "title": ""
    }
   },
   "outputs": [
    {
     "data": {
      "text/html": [
       "<style scoped>\n",
       "  .ansiout {\n",
       "    display: block;\n",
       "    unicode-bidi: embed;\n",
       "    white-space: pre-wrap;\n",
       "    word-wrap: break-word;\n",
       "    word-break: break-all;\n",
       "    font-family: \"Source Code Pro\", \"Menlo\", monospace;;\n",
       "    font-size: 13px;\n",
       "    color: #555;\n",
       "    margin-left: 4px;\n",
       "    line-height: 19px;\n",
       "  }\n",
       "</style>\n",
       "<div class=\"ansiout\">&lt;class &#39;pandas.core.frame.DataFrame&#39;&gt;\n",
       "Int64Index: 8168 entries, 0 to 4929080\n",
       "Data columns (total 34 columns):\n",
       " #   Column                                   Non-Null Count  Dtype  \n",
       "---  ------                                   --------------  -----  \n",
       " 0   ITM_ID                                   8168 non-null   int64  \n",
       " 1   GTIN_NO                                  8168 non-null   int64  \n",
       " 2   GTIN_NAM                                 4343 non-null   object \n",
       " 3   CON_UNT_ITM_DSC                          2498 non-null   object \n",
       " 4   DSP_UNT_ITM_DSC                          2823 non-null   object \n",
       " 5   PMY_DPT_DSC                              8168 non-null   object \n",
       " 6   REC_DPT_DSC                              8168 non-null   object \n",
       " 7   DPT_DSC                                  8168 non-null   object \n",
       " 8   COM_DSC                                  8168 non-null   object \n",
       " 9   SUBCOM_DSC                               8168 non-null   object \n",
       " 10  TAG_DSC                                  5720 non-null   object \n",
       " 11  RCT_DSC                                  4706 non-null   object \n",
       " 12  ITM_LVL_DSC                              4563 non-null   object \n",
       " 13  GRP_LVL_DSC                              2972 non-null   object \n",
       " 14  NET_CONT_EQV_QY_VIP_TO_KRG_QY            5321 non-null   float64\n",
       " 15  NET_CONT_EQV_UOM_VIP_TO_KRG_UOM          5306 non-null   object \n",
       " 16  GTIN_HGT_OVD                             4725 non-null   float64\n",
       " 17  GTIN_LTH_OVD                             4725 non-null   float64\n",
       " 18  GTIN_WTH_OVD                             4725 non-null   float64\n",
       " 19  GRS_WGT_OVD                              4396 non-null   float64\n",
       " 20  GTIN_NET_WGT_OVD                         4263 non-null   float64\n",
       " 21  MIN_DAYS_OF_SHF_LIF_AT_WHS_DAYS          4074 non-null   float64\n",
       " 22  TPT_CLS_CD                               3927 non-null   object \n",
       " 23  TPT_CLS_VLU                              3927 non-null   object \n",
       " 24  MAX_DAYS_OF_SHF_LIF_AT_WHS_DTB_CET_DAYS  3109 non-null   float64\n",
       " 25  TYP_OF_LBL_CD                            3335 non-null   object \n",
       " 26  TYP_OF_LBL_VLU                           3335 non-null   object \n",
       " 27  SIZ_CD                                   4631 non-null   object \n",
       " 28  SIZ_CD_VLU                               4631 non-null   object \n",
       " 29  SIZ_QY                                   4705 non-null   float64\n",
       " 30  IS_EDBL_CD                               6029 non-null   object \n",
       " 31  IS_EDBL_VLU                              6029 non-null   object \n",
       " 32  VND_ECOM_DSC                             8168 non-null   object \n",
       " 33  KRG_OWN_ECOM_DSC                         5427 non-null   object \n",
       "dtypes: float64(9), int64(2), object(23)\n",
       "memory usage: 2.2+ MB\n",
       "</div>"
      ]
     },
     "metadata": {
      "application/vnd.databricks.v1+output": {
       "addedWidgets": {},
       "arguments": {},
       "data": "<div class=\"ansiout\">&lt;class &#39;pandas.core.frame.DataFrame&#39;&gt;\nInt64Index: 8168 entries, 0 to 4929080\nData columns (total 34 columns):\n #   Column                                   Non-Null Count  Dtype  \n---  ------                                   --------------  -----  \n 0   ITM_ID                                   8168 non-null   int64  \n 1   GTIN_NO                                  8168 non-null   int64  \n 2   GTIN_NAM                                 4343 non-null   object \n 3   CON_UNT_ITM_DSC                          2498 non-null   object \n 4   DSP_UNT_ITM_DSC                          2823 non-null   object \n 5   PMY_DPT_DSC                              8168 non-null   object \n 6   REC_DPT_DSC                              8168 non-null   object \n 7   DPT_DSC                                  8168 non-null   object \n 8   COM_DSC                                  8168 non-null   object \n 9   SUBCOM_DSC                               8168 non-null   object \n 10  TAG_DSC                                  5720 non-null   object \n 11  RCT_DSC                                  4706 non-null   object \n 12  ITM_LVL_DSC                              4563 non-null   object \n 13  GRP_LVL_DSC                              2972 non-null   object \n 14  NET_CONT_EQV_QY_VIP_TO_KRG_QY            5321 non-null   float64\n 15  NET_CONT_EQV_UOM_VIP_TO_KRG_UOM          5306 non-null   object \n 16  GTIN_HGT_OVD                             4725 non-null   float64\n 17  GTIN_LTH_OVD                             4725 non-null   float64\n 18  GTIN_WTH_OVD                             4725 non-null   float64\n 19  GRS_WGT_OVD                              4396 non-null   float64\n 20  GTIN_NET_WGT_OVD                         4263 non-null   float64\n 21  MIN_DAYS_OF_SHF_LIF_AT_WHS_DAYS          4074 non-null   float64\n 22  TPT_CLS_CD                               3927 non-null   object \n 23  TPT_CLS_VLU                              3927 non-null   object \n 24  MAX_DAYS_OF_SHF_LIF_AT_WHS_DTB_CET_DAYS  3109 non-null   float64\n 25  TYP_OF_LBL_CD                            3335 non-null   object \n 26  TYP_OF_LBL_VLU                           3335 non-null   object \n 27  SIZ_CD                                   4631 non-null   object \n 28  SIZ_CD_VLU                               4631 non-null   object \n 29  SIZ_QY                                   4705 non-null   float64\n 30  IS_EDBL_CD                               6029 non-null   object \n 31  IS_EDBL_VLU                              6029 non-null   object \n 32  VND_ECOM_DSC                             8168 non-null   object \n 33  KRG_OWN_ECOM_DSC                         5427 non-null   object \ndtypes: float64(9), int64(2), object(23)\nmemory usage: 2.2+ MB\n</div>",
       "datasetInfos": [],
       "metadata": {},
       "removedWidgets": [],
       "type": "html"
      }
     },
     "output_type": "display_data"
    }
   ],
   "source": [
    "pimart_commercial_bakery.info()  # missing GTIN name"
   ]
  },
  {
   "cell_type": "code",
   "execution_count": 0,
   "metadata": {
    "application/vnd.databricks.v1+cell": {
     "cellMetadata": {
      "byteLimit": 2048000,
      "rowLimit": 10000
     },
     "inputWidgets": {},
     "nuid": "76ffd4aa-4fb5-4700-b760-4b76c3b44b42",
     "showTitle": false,
     "title": ""
    }
   },
   "outputs": [
    {
     "data": {
      "text/html": [
       "<style scoped>\n",
       "  .ansiout {\n",
       "    display: block;\n",
       "    unicode-bidi: embed;\n",
       "    white-space: pre-wrap;\n",
       "    word-wrap: break-word;\n",
       "    word-break: break-all;\n",
       "    font-family: \"Source Code Pro\", \"Menlo\", monospace;;\n",
       "    font-size: 13px;\n",
       "    color: #555;\n",
       "    margin-left: 4px;\n",
       "    line-height: 19px;\n",
       "  }\n",
       "</style>\n",
       "<div class=\"ansiout\">Out[19]: 135600</div>"
      ]
     },
     "metadata": {
      "application/vnd.databricks.v1+output": {
       "addedWidgets": {},
       "arguments": {},
       "data": "<div class=\"ansiout\">Out[19]: 135600</div>",
       "datasetInfos": [],
       "metadata": {},
       "removedWidgets": [],
       "type": "html"
      }
     },
     "output_type": "display_data"
    }
   ],
   "source": [
    "len(gs1)"
   ]
  },
  {
   "cell_type": "code",
   "execution_count": 0,
   "metadata": {
    "application/vnd.databricks.v1+cell": {
     "cellMetadata": {
      "byteLimit": 2048000,
      "rowLimit": 10000
     },
     "inputWidgets": {},
     "nuid": "41265410-a843-4582-82cb-159b11b810cb",
     "showTitle": false,
     "title": ""
    }
   },
   "outputs": [
    {
     "data": {
      "text/html": [
       "<style scoped>\n",
       "  .ansiout {\n",
       "    display: block;\n",
       "    unicode-bidi: embed;\n",
       "    white-space: pre-wrap;\n",
       "    word-wrap: break-word;\n",
       "    word-break: break-all;\n",
       "    font-family: \"Source Code Pro\", \"Menlo\", monospace;;\n",
       "    font-size: 13px;\n",
       "    color: #555;\n",
       "    margin-left: 4px;\n",
       "    line-height: 19px;\n",
       "  }\n",
       "</style>\n",
       "<div class=\"ansiout\">Out[108]: array([&#39;Beverages&#39;, &#39;Bread/Bakery Products&#39;,\n",
       "       &#39;Cereal/Grain/Pulse Products&#39;,\n",
       "       &#39;Confectionery/Sugar Sweetening Products&#39;, &#39;Fish and Seafood&#39;,\n",
       "       &#39;Food/Beverage/Tobacco Variety Packs&#39;, &#39;Fresh Garnish (Food)&#39;,\n",
       "       &#39;Fruits - Unprepared/Unprocessed (Fresh)&#39;,\n",
       "       &#39;Fruits - Unprepared/Unprocessed (Frozen)&#39;,\n",
       "       &#39;Fruits - Unprepared/Unprocessed (Shelf Stable)&#39;,\n",
       "       &#39;Fruits/Vegetables Fresh &amp; Fresh Cut&#39;,\n",
       "       &#39;Fruits/Vegetables Fresh Cut&#39;,\n",
       "       &#39;Fruits/Vegetables/Nuts/Seeds Prepared/Processed&#39;,\n",
       "       &#39;Leaf Vegetables - Unprepared/Unprocessed (Fresh)&#39;,\n",
       "       &#39;Meat/Fish/Seafood Substitutes&#39;, &#39;Meat/Poultry/Other Animals&#39;,\n",
       "       &#39;Milk/Butter/Cream/Yogurts/Cheese/Eggs/Substitutes&#39;,\n",
       "       &#39;Nuts/Seeds - Unprepared/Unprocessed (In Shell)&#39;,\n",
       "       &#39;Nuts/Seeds - Unprepared/Unprocessed (Perishable)&#39;,\n",
       "       &#39;Oils/Fats Edible&#39;, &#39;Prepared/Preserved Foods&#39;,\n",
       "       &#39;Seasonings/Preservatives/Extracts&#39;,\n",
       "       &#39;Tobacco/Cannabis/Smoking Accessories&#39;,\n",
       "       &#39;Vegetables - Unprepared/Unprocessed (Frozen)&#39;,\n",
       "       &#39;Vegetables - Unprepared/Unprocessed (Shelf Stable)&#39;,\n",
       "       &#39;Vegetables (Non Leaf) - Unprepared/Unprocessed (Fresh)&#39;],\n",
       "      dtype=object)</div>"
      ]
     },
     "metadata": {
      "application/vnd.databricks.v1+output": {
       "addedWidgets": {},
       "arguments": {},
       "data": "<div class=\"ansiout\">Out[108]: array([&#39;Beverages&#39;, &#39;Bread/Bakery Products&#39;,\n       &#39;Cereal/Grain/Pulse Products&#39;,\n       &#39;Confectionery/Sugar Sweetening Products&#39;, &#39;Fish and Seafood&#39;,\n       &#39;Food/Beverage/Tobacco Variety Packs&#39;, &#39;Fresh Garnish (Food)&#39;,\n       &#39;Fruits - Unprepared/Unprocessed (Fresh)&#39;,\n       &#39;Fruits - Unprepared/Unprocessed (Frozen)&#39;,\n       &#39;Fruits - Unprepared/Unprocessed (Shelf Stable)&#39;,\n       &#39;Fruits/Vegetables Fresh &amp; Fresh Cut&#39;,\n       &#39;Fruits/Vegetables Fresh Cut&#39;,\n       &#39;Fruits/Vegetables/Nuts/Seeds Prepared/Processed&#39;,\n       &#39;Leaf Vegetables - Unprepared/Unprocessed (Fresh)&#39;,\n       &#39;Meat/Fish/Seafood Substitutes&#39;, &#39;Meat/Poultry/Other Animals&#39;,\n       &#39;Milk/Butter/Cream/Yogurts/Cheese/Eggs/Substitutes&#39;,\n       &#39;Nuts/Seeds - Unprepared/Unprocessed (In Shell)&#39;,\n       &#39;Nuts/Seeds - Unprepared/Unprocessed (Perishable)&#39;,\n       &#39;Oils/Fats Edible&#39;, &#39;Prepared/Preserved Foods&#39;,\n       &#39;Seasonings/Preservatives/Extracts&#39;,\n       &#39;Tobacco/Cannabis/Smoking Accessories&#39;,\n       &#39;Vegetables - Unprepared/Unprocessed (Frozen)&#39;,\n       &#39;Vegetables - Unprepared/Unprocessed (Shelf Stable)&#39;,\n       &#39;Vegetables (Non Leaf) - Unprepared/Unprocessed (Fresh)&#39;],\n      dtype=object)</div>",
       "datasetInfos": [],
       "metadata": {},
       "removedWidgets": [],
       "type": "html"
      }
     },
     "output_type": "display_data"
    }
   ],
   "source": [
    "gs1.FamilyTitle.unique()"
   ]
  },
  {
   "cell_type": "code",
   "execution_count": 0,
   "metadata": {
    "application/vnd.databricks.v1+cell": {
     "cellMetadata": {
      "byteLimit": 2048000,
      "rowLimit": 10000
     },
     "inputWidgets": {},
     "nuid": "78b168bb-a478-4712-95ae-3ee38e3a4f93",
     "showTitle": false,
     "title": ""
    }
   },
   "outputs": [
    {
     "data": {
      "text/html": [
       "<style scoped>\n",
       "  .ansiout {\n",
       "    display: block;\n",
       "    unicode-bidi: embed;\n",
       "    white-space: pre-wrap;\n",
       "    word-wrap: break-word;\n",
       "    word-break: break-all;\n",
       "    font-family: \"Source Code Pro\", \"Menlo\", monospace;;\n",
       "    font-size: 13px;\n",
       "    color: #555;\n",
       "    margin-left: 4px;\n",
       "    line-height: 19px;\n",
       "  }\n",
       "</style>\n",
       "<div class=\"ansiout\">Out[110]: array([&#39;Baby/Infant - Foods/Beverages Variety Packs&#39;,\n",
       "       &#39;Baby/Infant - Formula (Shelf Stable)&#39;,\n",
       "       &#39;Baby/Infant - Specialised Beverages (Shelf Stable)&#39;,\n",
       "       &#39;Baby/Infant - Specialised Foods (Frozen)&#39;,\n",
       "       &#39;Baby/Infant - Specialised Foods (Shelf Stable)&#39;,\n",
       "       &#39;Dairy Based Products / Meals - Not Ready to Eat/Drink (Frozen)&#39;,\n",
       "       &#39;Dairy Based Products / Meals - Not Ready to Eat/Drink (Perishable)&#39;,\n",
       "       &#39;Dairy/Egg Based Products / Meals - Ready to Eat (Perishable)&#39;,\n",
       "       &#39;Dairy/Egg Based Products / Meals - Ready to Eat (Shelf Stable)&#39;,\n",
       "       &#39;Dairy/Egg Based Products / Meals Variety Packs&#39;,\n",
       "       &#39;Egg Based Products / Meals - Not Ready to Eat (Frozen)&#39;,\n",
       "       &#39;Egg Based Products / Meals - Not Ready to Eat (Perishable)&#39;,\n",
       "       &#39;Egg Based Products / Meals - Not Ready to Eat (Shelf Stable)&#39;,\n",
       "       &#39;Dessert Sauces/Toppings/Fillings (Frozen)&#39;,\n",
       "       &#39;Dessert Sauces/Toppings/Fillings (Perishable)&#39;,\n",
       "       &#39;Dessert Sauces/Toppings/Fillings (Shelf Stable)&#39;,\n",
       "       &#39;Desserts (Frozen)&#39;, &#39;Desserts (Perishable)&#39;,\n",
       "       &#39;Desserts (Shelf Stable)&#39;,\n",
       "       &#39;Desserts/Dessert Toppings Variety Packs&#39;,\n",
       "       &#39;Ice Cream/Ice Novelties (Frozen)&#39;,\n",
       "       &#39;Ice Cream/Ice Novelties (Shelf Stable)&#39;,\n",
       "       &#39;Dough Based Products / Meals - Not Ready to Eat - Savoury (Frozen)&#39;,\n",
       "       &#39;Dough Based Products / Meals - Not Ready to Eat - Savoury (Perishable)&#39;,\n",
       "       &#39;Dough Based Products / Meals - Not Ready to Eat - Savoury (Shelf Stable)&#39;,\n",
       "       &#39;Dough Based Products / Meals - Ready to Eat - Savoury (Perishable)&#39;,\n",
       "       &#39;Dough Based Products / Meals - Ready to Eat - Savoury (Shelf Stable)&#39;,\n",
       "       &#39;Dough Based Products / Meals Variety Packs&#39;,\n",
       "       &#39;Grain Based Products / Meals - Not Ready to Eat - Savoury (Frozen)&#39;,\n",
       "       &#39;Grain Based Products / Meals - Not Ready to Eat - Savoury (Perishable)&#39;,\n",
       "       &#39;Grain Based Products / Meals - Not Ready to Eat - Savoury (Shelf Stable)&#39;,\n",
       "       &#39;Grain Based Products / Meals - Ready to Eat - Savoury (Perishable)&#39;,\n",
       "       &#39;Grain Based Products / Meals - Ready to Eat - Savoury (Shelf Stable)&#39;,\n",
       "       &#39;Grain Based Products / Meals Variety Packs&#39;,\n",
       "       &#39;Pasta/Noodles - Not Ready to Eat (Frozen)&#39;,\n",
       "       &#39;Pasta/Noodles - Not Ready to Eat (Perishable)&#39;,\n",
       "       &#39;Pasta/Noodles - Not Ready to Eat (Shelf Stable)&#39;,\n",
       "       &#39;Pasta/Noodles - Ready to Eat (Perishable)&#39;,\n",
       "       &#39;Pasta/Noodles - Ready to Eat (Shelf Stable)&#39;,\n",
       "       &#39;Pasta/Noodles Variety Packs&#39;, &#39;Soup Additions (Frozen)&#39;,\n",
       "       &#39;Soup Additions (Perishable)&#39;, &#39;Soup Additions (Shelf Stable)&#39;,\n",
       "       &#39;Soups - Prepared (Frozen)&#39;, &#39;Soups - Prepared (Perishable)&#39;,\n",
       "       &#39;Soups - Prepared (Shelf Stable)&#39;,\n",
       "       &#39;Soups - Prepared Variety Packs&#39;,\n",
       "       &#39;Prepared/Preserved Foods Variety Packs&#39;,\n",
       "       &#39;Ready-Made Combination Meals - Not Ready to Eat (Frozen)&#39;,\n",
       "       &#39;Ready-Made Combination Meals - Not Ready to Eat (Perishable)&#39;,\n",
       "       &#39;Ready-Made Combination Meals - Not Ready to Eat (Shelf Stable)&#39;,\n",
       "       &#39;Ready-Made Combination Meals - Not Ready to Eat Variety Packs&#39;,\n",
       "       &#39;Ready-Made Combination Meals - Ready to Eat (Perishable)&#39;,\n",
       "       &#39;Ready-Made Combination Meals - Ready to Eat (Shelf Stable)&#39;,\n",
       "       &#39;Ready-Made Combination Meals - Ready to Eat Variety Packs&#39;,\n",
       "       &#39;Sandwiches/Filled Rolls/Wraps (Frozen)&#39;,\n",
       "       &#39;Sandwiches/Filled Rolls/Wraps (Perishable)&#39;,\n",
       "       &#39;Sandwiches/Filled Rolls/Wraps Variety Packs&#39;,\n",
       "       &#39;Caramel/Toffee Apples&#39;,\n",
       "       &#39;Chips/Crisps/Snack Mixes - Natural/Extruded (Shelf Stable)&#39;,\n",
       "       &#39;Doodles/ Puffs&#39;, &#39;Popcorn (Shelf Stable)&#39;,\n",
       "       &#39;Salt Sticks / Mini Pretzels&#39;, &#39;Snacks Other&#39;,\n",
       "       &#39;Snacks Variety Packs&#39;,\n",
       "       &#39;Confectionery Based Spreads (Shelf Stable)&#39;,\n",
       "       &#39;Honey (Shelf Stable)&#39;, &#39;Honey Substitutes&#39;,\n",
       "       &#39;Jams/Marmalades (Shelf Stable)&#39;,\n",
       "       &#39;Jams/Marmalades/Fruit Spreads (Perishable)&#39;,\n",
       "       &#39;Sweet Spreads Variety Packs&#39;,\n",
       "       &#39;Vegetable Based Products / Meals - Not Ready to Eat (Frozen)&#39;,\n",
       "       &#39;Vegetable Based Products / Meals - Not Ready to Eat (Perishable)&#39;,\n",
       "       &#39;Vegetable Based Products / Meals - Not Ready to Eat (Shelf Stable)&#39;,\n",
       "       &#39;Vegetable Based Products / Meals - Ready to Eat (Perishable)&#39;,\n",
       "       &#39;Vegetable Based Products / Meals - Ready to Eat (Shelf Stable)&#39;,\n",
       "       &#39;Vegetable Based Products / Meals Variety Packs&#39;], dtype=object)</div>"
      ]
     },
     "metadata": {
      "application/vnd.databricks.v1+output": {
       "addedWidgets": {},
       "arguments": {},
       "data": "<div class=\"ansiout\">Out[110]: array([&#39;Baby/Infant - Foods/Beverages Variety Packs&#39;,\n       &#39;Baby/Infant - Formula (Shelf Stable)&#39;,\n       &#39;Baby/Infant - Specialised Beverages (Shelf Stable)&#39;,\n       &#39;Baby/Infant - Specialised Foods (Frozen)&#39;,\n       &#39;Baby/Infant - Specialised Foods (Shelf Stable)&#39;,\n       &#39;Dairy Based Products / Meals - Not Ready to Eat/Drink (Frozen)&#39;,\n       &#39;Dairy Based Products / Meals - Not Ready to Eat/Drink (Perishable)&#39;,\n       &#39;Dairy/Egg Based Products / Meals - Ready to Eat (Perishable)&#39;,\n       &#39;Dairy/Egg Based Products / Meals - Ready to Eat (Shelf Stable)&#39;,\n       &#39;Dairy/Egg Based Products / Meals Variety Packs&#39;,\n       &#39;Egg Based Products / Meals - Not Ready to Eat (Frozen)&#39;,\n       &#39;Egg Based Products / Meals - Not Ready to Eat (Perishable)&#39;,\n       &#39;Egg Based Products / Meals - Not Ready to Eat (Shelf Stable)&#39;,\n       &#39;Dessert Sauces/Toppings/Fillings (Frozen)&#39;,\n       &#39;Dessert Sauces/Toppings/Fillings (Perishable)&#39;,\n       &#39;Dessert Sauces/Toppings/Fillings (Shelf Stable)&#39;,\n       &#39;Desserts (Frozen)&#39;, &#39;Desserts (Perishable)&#39;,\n       &#39;Desserts (Shelf Stable)&#39;,\n       &#39;Desserts/Dessert Toppings Variety Packs&#39;,\n       &#39;Ice Cream/Ice Novelties (Frozen)&#39;,\n       &#39;Ice Cream/Ice Novelties (Shelf Stable)&#39;,\n       &#39;Dough Based Products / Meals - Not Ready to Eat - Savoury (Frozen)&#39;,\n       &#39;Dough Based Products / Meals - Not Ready to Eat - Savoury (Perishable)&#39;,\n       &#39;Dough Based Products / Meals - Not Ready to Eat - Savoury (Shelf Stable)&#39;,\n       &#39;Dough Based Products / Meals - Ready to Eat - Savoury (Perishable)&#39;,\n       &#39;Dough Based Products / Meals - Ready to Eat - Savoury (Shelf Stable)&#39;,\n       &#39;Dough Based Products / Meals Variety Packs&#39;,\n       &#39;Grain Based Products / Meals - Not Ready to Eat - Savoury (Frozen)&#39;,\n       &#39;Grain Based Products / Meals - Not Ready to Eat - Savoury (Perishable)&#39;,\n       &#39;Grain Based Products / Meals - Not Ready to Eat - Savoury (Shelf Stable)&#39;,\n       &#39;Grain Based Products / Meals - Ready to Eat - Savoury (Perishable)&#39;,\n       &#39;Grain Based Products / Meals - Ready to Eat - Savoury (Shelf Stable)&#39;,\n       &#39;Grain Based Products / Meals Variety Packs&#39;,\n       &#39;Pasta/Noodles - Not Ready to Eat (Frozen)&#39;,\n       &#39;Pasta/Noodles - Not Ready to Eat (Perishable)&#39;,\n       &#39;Pasta/Noodles - Not Ready to Eat (Shelf Stable)&#39;,\n       &#39;Pasta/Noodles - Ready to Eat (Perishable)&#39;,\n       &#39;Pasta/Noodles - Ready to Eat (Shelf Stable)&#39;,\n       &#39;Pasta/Noodles Variety Packs&#39;, &#39;Soup Additions (Frozen)&#39;,\n       &#39;Soup Additions (Perishable)&#39;, &#39;Soup Additions (Shelf Stable)&#39;,\n       &#39;Soups - Prepared (Frozen)&#39;, &#39;Soups - Prepared (Perishable)&#39;,\n       &#39;Soups - Prepared (Shelf Stable)&#39;,\n       &#39;Soups - Prepared Variety Packs&#39;,\n       &#39;Prepared/Preserved Foods Variety Packs&#39;,\n       &#39;Ready-Made Combination Meals - Not Ready to Eat (Frozen)&#39;,\n       &#39;Ready-Made Combination Meals - Not Ready to Eat (Perishable)&#39;,\n       &#39;Ready-Made Combination Meals - Not Ready to Eat (Shelf Stable)&#39;,\n       &#39;Ready-Made Combination Meals - Not Ready to Eat Variety Packs&#39;,\n       &#39;Ready-Made Combination Meals - Ready to Eat (Perishable)&#39;,\n       &#39;Ready-Made Combination Meals - Ready to Eat (Shelf Stable)&#39;,\n       &#39;Ready-Made Combination Meals - Ready to Eat Variety Packs&#39;,\n       &#39;Sandwiches/Filled Rolls/Wraps (Frozen)&#39;,\n       &#39;Sandwiches/Filled Rolls/Wraps (Perishable)&#39;,\n       &#39;Sandwiches/Filled Rolls/Wraps Variety Packs&#39;,\n       &#39;Caramel/Toffee Apples&#39;,\n       &#39;Chips/Crisps/Snack Mixes - Natural/Extruded (Shelf Stable)&#39;,\n       &#39;Doodles/ Puffs&#39;, &#39;Popcorn (Shelf Stable)&#39;,\n       &#39;Salt Sticks / Mini Pretzels&#39;, &#39;Snacks Other&#39;,\n       &#39;Snacks Variety Packs&#39;,\n       &#39;Confectionery Based Spreads (Shelf Stable)&#39;,\n       &#39;Honey (Shelf Stable)&#39;, &#39;Honey Substitutes&#39;,\n       &#39;Jams/Marmalades (Shelf Stable)&#39;,\n       &#39;Jams/Marmalades/Fruit Spreads (Perishable)&#39;,\n       &#39;Sweet Spreads Variety Packs&#39;,\n       &#39;Vegetable Based Products / Meals - Not Ready to Eat (Frozen)&#39;,\n       &#39;Vegetable Based Products / Meals - Not Ready to Eat (Perishable)&#39;,\n       &#39;Vegetable Based Products / Meals - Not Ready to Eat (Shelf Stable)&#39;,\n       &#39;Vegetable Based Products / Meals - Ready to Eat (Perishable)&#39;,\n       &#39;Vegetable Based Products / Meals - Ready to Eat (Shelf Stable)&#39;,\n       &#39;Vegetable Based Products / Meals Variety Packs&#39;], dtype=object)</div>",
       "datasetInfos": [],
       "metadata": {},
       "removedWidgets": [],
       "type": "html"
      }
     },
     "output_type": "display_data"
    }
   ],
   "source": [
    "gs1[gs1.FamilyTitle == 'Prepared/Preserved Foods'].BrickTitle.unique()"
   ]
  },
  {
   "cell_type": "code",
   "execution_count": 0,
   "metadata": {
    "application/vnd.databricks.v1+cell": {
     "cellMetadata": {
      "byteLimit": 2048000,
      "rowLimit": 10000
     },
     "inputWidgets": {},
     "nuid": "71268a89-3256-4eb1-b3d0-667ed916d5df",
     "showTitle": false,
     "title": ""
    }
   },
   "outputs": [
    {
     "data": {
      "text/html": [
       "<style scoped>\n",
       "  .ansiout {\n",
       "    display: block;\n",
       "    unicode-bidi: embed;\n",
       "    white-space: pre-wrap;\n",
       "    word-wrap: break-word;\n",
       "    word-break: break-all;\n",
       "    font-family: \"Source Code Pro\", \"Menlo\", monospace;;\n",
       "    font-size: 13px;\n",
       "    color: #555;\n",
       "    margin-left: 4px;\n",
       "    line-height: 19px;\n",
       "  }\n",
       "</style>\n",
       "<div class=\"ansiout\">Out[69]: Index([&#39;SegmentCode&#39;, &#39;SegmentTitle&#39;, &#39;SegmentDefinition&#39;, &#39;FamilyCode&#39;,\n",
       "       &#39;FamilyTitle&#39;, &#39;FamilyDefinition&#39;, &#39;ClassCode&#39;, &#39;ClassTitle&#39;,\n",
       "       &#39;ClassDefinition&#39;, &#39;BrickCode&#39;, &#39;BrickTitle&#39;,\n",
       "       &#39;BrickDefinition_Includes&#39;, &#39;BrickDefinition_Excludes&#39;, &#39;AttributeCode&#39;,\n",
       "       &#39;AttributeTitle&#39;, &#39;AttributeDefinition&#39;, &#39;AttributeValueCode&#39;,\n",
       "       &#39;AttributeValueTitle&#39;, &#39;AttributeValueDefinition&#39;],\n",
       "      dtype=&#39;object&#39;)</div>"
      ]
     },
     "metadata": {
      "application/vnd.databricks.v1+output": {
       "addedWidgets": {},
       "arguments": {},
       "data": "<div class=\"ansiout\">Out[69]: Index([&#39;SegmentCode&#39;, &#39;SegmentTitle&#39;, &#39;SegmentDefinition&#39;, &#39;FamilyCode&#39;,\n       &#39;FamilyTitle&#39;, &#39;FamilyDefinition&#39;, &#39;ClassCode&#39;, &#39;ClassTitle&#39;,\n       &#39;ClassDefinition&#39;, &#39;BrickCode&#39;, &#39;BrickTitle&#39;,\n       &#39;BrickDefinition_Includes&#39;, &#39;BrickDefinition_Excludes&#39;, &#39;AttributeCode&#39;,\n       &#39;AttributeTitle&#39;, &#39;AttributeDefinition&#39;, &#39;AttributeValueCode&#39;,\n       &#39;AttributeValueTitle&#39;, &#39;AttributeValueDefinition&#39;],\n      dtype=&#39;object&#39;)</div>",
       "datasetInfos": [],
       "metadata": {},
       "removedWidgets": [],
       "type": "html"
      }
     },
     "output_type": "display_data"
    }
   ],
   "source": [
    "gs1.columns"
   ]
  },
  {
   "cell_type": "markdown",
   "metadata": {
    "application/vnd.databricks.v1+cell": {
     "cellMetadata": {},
     "inputWidgets": {},
     "nuid": "f1c1886c-ed9a-488f-9120-09e9bb7dff38",
     "showTitle": false,
     "title": ""
    }
   },
   "source": [
    "### Fuzzy Matching each PIMMART DEPT to GS1 Class/Classes"
   ]
  },
  {
   "cell_type": "code",
   "execution_count": 0,
   "metadata": {
    "application/vnd.databricks.v1+cell": {
     "cellMetadata": {
      "byteLimit": 2048000,
      "rowLimit": 10000
     },
     "inputWidgets": {},
     "nuid": "571ad7f9-7414-4fef-a80e-f07477483fca",
     "showTitle": false,
     "title": ""
    }
   },
   "outputs": [
    {
     "data": {
      "text/html": [
       "<style scoped>\n",
       "  .ansiout {\n",
       "    display: block;\n",
       "    unicode-bidi: embed;\n",
       "    white-space: pre-wrap;\n",
       "    word-wrap: break-word;\n",
       "    word-break: break-all;\n",
       "    font-family: \"Source Code Pro\", \"Menlo\", monospace;;\n",
       "    font-size: 13px;\n",
       "    color: #555;\n",
       "    margin-left: 4px;\n",
       "    line-height: 19px;\n",
       "  }\n",
       "</style>\n",
       "<div class=\"ansiout\">Out[81]: 8168</div>"
      ]
     },
     "metadata": {
      "application/vnd.databricks.v1+output": {
       "addedWidgets": {},
       "arguments": {},
       "data": "<div class=\"ansiout\">Out[81]: 8168</div>",
       "datasetInfos": [],
       "metadata": {},
       "removedWidgets": [],
       "type": "html"
      }
     },
     "output_type": "display_data"
    }
   ],
   "source": [
    "pimart_commercial_bakery.ITM_ID.nunique()"
   ]
  },
  {
   "cell_type": "code",
   "execution_count": 0,
   "metadata": {
    "application/vnd.databricks.v1+cell": {
     "cellMetadata": {
      "byteLimit": 2048000,
      "rowLimit": 10000
     },
     "inputWidgets": {},
     "nuid": "e49a86ba-35d6-4965-8828-fc93aafc3833",
     "showTitle": false,
     "title": ""
    }
   },
   "outputs": [
    {
     "data": {
      "text/html": [
       "<style scoped>\n",
       "  .ansiout {\n",
       "    display: block;\n",
       "    unicode-bidi: embed;\n",
       "    white-space: pre-wrap;\n",
       "    word-wrap: break-word;\n",
       "    word-break: break-all;\n",
       "    font-family: \"Source Code Pro\", \"Menlo\", monospace;;\n",
       "    font-size: 13px;\n",
       "    color: #555;\n",
       "    margin-left: 4px;\n",
       "    line-height: 19px;\n",
       "  }\n",
       "</style>\n",
       "<div class=\"ansiout\">Out[27]: 603733</div>"
      ]
     },
     "metadata": {
      "application/vnd.databricks.v1+output": {
       "addedWidgets": {},
       "arguments": {},
       "data": "<div class=\"ansiout\">Out[27]: 603733</div>",
       "datasetInfos": [],
       "metadata": {},
       "removedWidgets": [],
       "type": "html"
      }
     },
     "output_type": "display_data"
    }
   ],
   "source": [
    "pimmart_grocery.DPT_DSC.size"
   ]
  },
  {
   "cell_type": "code",
   "execution_count": 0,
   "metadata": {
    "application/vnd.databricks.v1+cell": {
     "cellMetadata": {
      "byteLimit": 2048000,
      "rowLimit": 10000
     },
     "inputWidgets": {},
     "nuid": "65bc19e1-2d7f-402a-abd9-f0fe0ba2198d",
     "showTitle": false,
     "title": ""
    }
   },
   "outputs": [
    {
     "data": {
      "text/html": [
       "<style scoped>\n",
       "  .ansiout {\n",
       "    display: block;\n",
       "    unicode-bidi: embed;\n",
       "    white-space: pre-wrap;\n",
       "    word-wrap: break-word;\n",
       "    word-break: break-all;\n",
       "    font-family: \"Source Code Pro\", \"Menlo\", monospace;;\n",
       "    font-size: 13px;\n",
       "    color: #555;\n",
       "    margin-left: 4px;\n",
       "    line-height: 19px;\n",
       "  }\n",
       "</style>\n",
       "<div class=\"ansiout\">Out[70]: 0          COMMERCIAL BKY\n",
       "1          GROC-ALL OTHER\n",
       "2          COMMERCIAL BKY\n",
       "3          COMMERCIAL BKY\n",
       "5          GROC-ALL OTHER\n",
       "                ...      \n",
       "4937358    GROC-ALL OTHER\n",
       "4937359    GROC-ALL OTHER\n",
       "4937369    GROC-ALL OTHER\n",
       "4937370    GROC-ALL OTHER\n",
       "4937382    GROC-ALL OTHER\n",
       "Name: DPT_DSC, Length: 603733, dtype: object</div>"
      ]
     },
     "metadata": {
      "application/vnd.databricks.v1+output": {
       "addedWidgets": {},
       "arguments": {},
       "data": "<div class=\"ansiout\">Out[70]: 0          COMMERCIAL BKY\n1          GROC-ALL OTHER\n2          COMMERCIAL BKY\n3          COMMERCIAL BKY\n5          GROC-ALL OTHER\n                ...      \n4937358    GROC-ALL OTHER\n4937359    GROC-ALL OTHER\n4937369    GROC-ALL OTHER\n4937370    GROC-ALL OTHER\n4937382    GROC-ALL OTHER\nName: DPT_DSC, Length: 603733, dtype: object</div>",
       "datasetInfos": [],
       "metadata": {},
       "removedWidgets": [],
       "type": "html"
      }
     },
     "output_type": "display_data"
    }
   ],
   "source": [
    "pimmart_groacery.DPT_DSC  #pandas.core.series.Series; size = 603.733"
   ]
  },
  {
   "cell_type": "code",
   "execution_count": 0,
   "metadata": {
    "application/vnd.databricks.v1+cell": {
     "cellMetadata": {
      "byteLimit": 2048000,
      "rowLimit": 10000
     },
     "inputWidgets": {},
     "nuid": "30ac0242-8b11-46fc-9462-4fb13c739463",
     "showTitle": false,
     "title": ""
    }
   },
   "outputs": [
    {
     "data": {
      "text/html": [
       "<style scoped>\n",
       "  .ansiout {\n",
       "    display: block;\n",
       "    unicode-bidi: embed;\n",
       "    white-space: pre-wrap;\n",
       "    word-wrap: break-word;\n",
       "    word-break: break-all;\n",
       "    font-family: \"Source Code Pro\", \"Menlo\", monospace;;\n",
       "    font-size: 13px;\n",
       "    color: #555;\n",
       "    margin-left: 4px;\n",
       "    line-height: 19px;\n",
       "  }\n",
       "</style>\n",
       "<div class=\"ansiout\"></div>"
      ]
     },
     "metadata": {
      "application/vnd.databricks.v1+output": {
       "addedWidgets": {},
       "arguments": {},
       "data": "<div class=\"ansiout\"></div>",
       "datasetInfos": [],
       "metadata": {},
       "removedWidgets": [],
       "type": "html"
      }
     },
     "output_type": "display_data"
    }
   ],
   "source": [
    "pim_match = pd.DataFrame(pimmart_grocery.groupby('DPT_DSC').apply(lambda x: ' '.join(x.COM_DSC.unique())),columns = ['COM_DSC_text']).reset_index() #DF (16,2)"
   ]
  },
  {
   "cell_type": "code",
   "execution_count": 0,
   "metadata": {
    "application/vnd.databricks.v1+cell": {
     "cellMetadata": {
      "byteLimit": 2048000,
      "rowLimit": 10000
     },
     "inputWidgets": {},
     "nuid": "914fb3f3-82dd-42e4-adff-cbf4dfc41b6e",
     "showTitle": false,
     "title": ""
    }
   },
   "outputs": [
    {
     "data": {
      "text/html": [
       "<style scoped>\n",
       "  .ansiout {\n",
       "    display: block;\n",
       "    unicode-bidi: embed;\n",
       "    white-space: pre-wrap;\n",
       "    word-wrap: break-word;\n",
       "    word-break: break-all;\n",
       "    font-family: \"Source Code Pro\", \"Menlo\", monospace;;\n",
       "    font-size: 13px;\n",
       "    color: #555;\n",
       "    margin-left: 4px;\n",
       "    line-height: 19px;\n",
       "  }\n",
       "</style>\n",
       "<div class=\"ansiout\">Out[23]: </div>"
      ]
     },
     "metadata": {
      "application/vnd.databricks.v1+output": {
       "addedWidgets": {},
       "arguments": {},
       "data": "<div class=\"ansiout\">Out[23]: </div>",
       "datasetInfos": [],
       "metadata": {},
       "removedWidgets": [],
       "type": "html"
      }
     },
     "output_type": "display_data"
    },
    {
     "data": {
      "text/html": [
       "<div>\n",
       "<style scoped>\n",
       "    .dataframe tbody tr th:only-of-type {\n",
       "        vertical-align: middle;\n",
       "    }\n",
       "\n",
       "    .dataframe tbody tr th {\n",
       "        vertical-align: top;\n",
       "    }\n",
       "\n",
       "    .dataframe thead th {\n",
       "        text-align: right;\n",
       "    }\n",
       "</style>\n",
       "<table border=\"1\" class=\"dataframe\">\n",
       "  <thead>\n",
       "    <tr style=\"text-align: right;\">\n",
       "      <th></th>\n",
       "      <th>DPT_DSC</th>\n",
       "      <th>COM_DSC_text</th>\n",
       "    </tr>\n",
       "  </thead>\n",
       "  <tbody>\n",
       "    <tr>\n",
       "      <th>0</th>\n",
       "      <td>BEER</td>\n",
       "      <td>CRAFT/MICRO BEERS SINGLES BEER OTHER CIDER IMP...</td>\n",
       "    </tr>\n",
       "    <tr>\n",
       "      <th>1</th>\n",
       "      <td>BOTTLE DEP/RET</td>\n",
       "      <td>BOTTLE DEPOSITS BOTTLE REFUNDS MISCELLANEOUS T...</td>\n",
       "    </tr>\n",
       "    <tr>\n",
       "      <th>2</th>\n",
       "      <td>CKY/CRKR/SNK</td>\n",
       "      <td>BAG SNACKS SS/VENDING - SALTY SNACKS WAREHOUSE...</td>\n",
       "    </tr>\n",
       "    <tr>\n",
       "      <th>3</th>\n",
       "      <td>COMMERCIAL BKY</td>\n",
       "      <td>BAKED BREADS BAKED SWEET GOODS MISCELLANEOUS T...</td>\n",
       "    </tr>\n",
       "    <tr>\n",
       "      <th>4</th>\n",
       "      <td>DAIRY</td>\n",
       "      <td>YOGURT MILK BY-PRODUCTS REFRGRATD JUICES/DRINK...</td>\n",
       "    </tr>\n",
       "  </tbody>\n",
       "</table>\n",
       "</div>"
      ]
     },
     "metadata": {
      "application/vnd.databricks.v1+output": {
       "addedWidgets": {},
       "arguments": {},
       "data": "<div>\n<style scoped>\n    .dataframe tbody tr th:only-of-type {\n        vertical-align: middle;\n    }\n\n    .dataframe tbody tr th {\n        vertical-align: top;\n    }\n\n    .dataframe thead th {\n        text-align: right;\n    }\n</style>\n<table border=\"1\" class=\"dataframe\">\n  <thead>\n    <tr style=\"text-align: right;\">\n      <th></th>\n      <th>DPT_DSC</th>\n      <th>COM_DSC_text</th>\n    </tr>\n  </thead>\n  <tbody>\n    <tr>\n      <th>0</th>\n      <td>BEER</td>\n      <td>CRAFT/MICRO BEERS SINGLES BEER OTHER CIDER IMP...</td>\n    </tr>\n    <tr>\n      <th>1</th>\n      <td>BOTTLE DEP/RET</td>\n      <td>BOTTLE DEPOSITS BOTTLE REFUNDS MISCELLANEOUS T...</td>\n    </tr>\n    <tr>\n      <th>2</th>\n      <td>CKY/CRKR/SNK</td>\n      <td>BAG SNACKS SS/VENDING - SALTY SNACKS WAREHOUSE...</td>\n    </tr>\n    <tr>\n      <th>3</th>\n      <td>COMMERCIAL BKY</td>\n      <td>BAKED BREADS BAKED SWEET GOODS MISCELLANEOUS T...</td>\n    </tr>\n    <tr>\n      <th>4</th>\n      <td>DAIRY</td>\n      <td>YOGURT MILK BY-PRODUCTS REFRGRATD JUICES/DRINK...</td>\n    </tr>\n  </tbody>\n</table>\n</div>",
       "datasetInfos": [],
       "metadata": {},
       "removedWidgets": [],
       "textData": null,
       "type": "htmlSandbox"
      }
     },
     "output_type": "display_data"
    }
   ],
   "source": [
    "pim_match.head()"
   ]
  },
  {
   "cell_type": "code",
   "execution_count": 0,
   "metadata": {
    "application/vnd.databricks.v1+cell": {
     "cellMetadata": {
      "byteLimit": 2048000,
      "rowLimit": 10000
     },
     "inputWidgets": {},
     "nuid": "6bf077f9-1bcf-4940-aa89-b3d0a8260a5b",
     "showTitle": false,
     "title": ""
    }
   },
   "outputs": [
    {
     "data": {
      "text/html": [
       "<style scoped>\n",
       "  .ansiout {\n",
       "    display: block;\n",
       "    unicode-bidi: embed;\n",
       "    white-space: pre-wrap;\n",
       "    word-wrap: break-word;\n",
       "    word-break: break-all;\n",
       "    font-family: \"Source Code Pro\", \"Menlo\", monospace;;\n",
       "    font-size: 13px;\n",
       "    color: #555;\n",
       "    margin-left: 4px;\n",
       "    line-height: 19px;\n",
       "  }\n",
       "</style>\n",
       "<div class=\"ansiout\">Out[15]: 0     BEER CRAFT/MICRO BEERS SINGLES BEER OTHER CIDE...\n",
       "1     BOTTLE DEP/RET BOTTLE DEPOSITS BOTTLE REFUNDS ...\n",
       "2     CKY/CRKR/SNK BAG SNACKS SS/VENDING - SALTY SNA...\n",
       "3     COMMERCIAL BKY BAKED BREADS BAKED SWEET GOODS ...\n",
       "4     DAIRY YOGURT MILK BY-PRODUCTS REFRGRATD JUICES...\n",
       "5            END OF ORD COUP MISCELLANEOUS TRANSACTIONS\n",
       "6     FROZEN GROCERY FROZEN DESSERTS FROZEN AUTHENTI...\n",
       "7     GROC NON-EDIBLE LAUNDRY DETERGENTS FACIAL TISS...\n",
       "8     GROC-ALL OTHER COLD CEREAL SPICES &amp; EXTRACTS F...\n",
       "9     NATURAL FOODS NF CRACKERS NF FROZEN NOVELTIES ...\n",
       "10    NF NON-EDIBLE NF LAUNDRY NF HOUSEHOLD NF DISH ...\n",
       "11    PET PET CARE SUPPLIES WET CAT FOOD DRY DOG FOO...\n",
       "12    REFRIG GROCERY DRY CHEESE CHEESE BUTTER/MARGAR...\n",
       "13    SOFT DRINKS SPECIALTY SOFT DRINKS SOFT DRINKS ...\n",
       "14    SPIRITS TEQUILA RTD COCKTAILS N. AMER WHISKEY ...\n",
       "15    WINE TABLE WINE MISC WINE SPARKLING WINE MISCE...\n",
       "dtype: object</div>"
      ]
     },
     "metadata": {
      "application/vnd.databricks.v1+output": {
       "addedWidgets": {},
       "arguments": {},
       "data": "<div class=\"ansiout\">Out[15]: 0     BEER CRAFT/MICRO BEERS SINGLES BEER OTHER CIDE...\n1     BOTTLE DEP/RET BOTTLE DEPOSITS BOTTLE REFUNDS ...\n2     CKY/CRKR/SNK BAG SNACKS SS/VENDING - SALTY SNA...\n3     COMMERCIAL BKY BAKED BREADS BAKED SWEET GOODS ...\n4     DAIRY YOGURT MILK BY-PRODUCTS REFRGRATD JUICES...\n5            END OF ORD COUP MISCELLANEOUS TRANSACTIONS\n6     FROZEN GROCERY FROZEN DESSERTS FROZEN AUTHENTI...\n7     GROC NON-EDIBLE LAUNDRY DETERGENTS FACIAL TISS...\n8     GROC-ALL OTHER COLD CEREAL SPICES &amp; EXTRACTS F...\n9     NATURAL FOODS NF CRACKERS NF FROZEN NOVELTIES ...\n10    NF NON-EDIBLE NF LAUNDRY NF HOUSEHOLD NF DISH ...\n11    PET PET CARE SUPPLIES WET CAT FOOD DRY DOG FOO...\n12    REFRIG GROCERY DRY CHEESE CHEESE BUTTER/MARGAR...\n13    SOFT DRINKS SPECIALTY SOFT DRINKS SOFT DRINKS ...\n14    SPIRITS TEQUILA RTD COCKTAILS N. AMER WHISKEY ...\n15    WINE TABLE WINE MISC WINE SPARKLING WINE MISCE...\ndtype: object</div>",
       "datasetInfos": [],
       "metadata": {},
       "removedWidgets": [],
       "type": "html"
      }
     },
     "output_type": "display_data"
    }
   ],
   "source": [
    "(pim_match.DPT_DSC + ' ' + pim_match.COM_DSC_text)"
   ]
  },
  {
   "cell_type": "code",
   "execution_count": 0,
   "metadata": {
    "application/vnd.databricks.v1+cell": {
     "cellMetadata": {
      "byteLimit": 2048000,
      "rowLimit": 10000
     },
     "inputWidgets": {},
     "nuid": "3f0b3cfe-04e2-43c8-958f-7a64486ee724",
     "showTitle": false,
     "title": ""
    }
   },
   "outputs": [
    {
     "data": {
      "text/html": [
       "<style scoped>\n",
       "  .ansiout {\n",
       "    display: block;\n",
       "    unicode-bidi: embed;\n",
       "    white-space: pre-wrap;\n",
       "    word-wrap: break-word;\n",
       "    word-break: break-all;\n",
       "    font-family: \"Source Code Pro\", \"Menlo\", monospace;;\n",
       "    font-size: 13px;\n",
       "    color: #555;\n",
       "    margin-left: 4px;\n",
       "    line-height: 19px;\n",
       "  }\n",
       "</style>\n",
       "<div class=\"ansiout\"></div>"
      ]
     },
     "metadata": {
      "application/vnd.databricks.v1+output": {
       "addedWidgets": {},
       "arguments": {},
       "data": "<div class=\"ansiout\"></div>",
       "datasetInfos": [],
       "metadata": {},
       "removedWidgets": [],
       "type": "html"
      }
     },
     "output_type": "display_data"
    }
   ],
   "source": [
    "pim_match['PIMMART_Matching_Text'] = (pim_match.DPT_DSC + ' ' + pim_match.COM_DSC_text).str.lower()"
   ]
  },
  {
   "cell_type": "code",
   "execution_count": 0,
   "metadata": {
    "application/vnd.databricks.v1+cell": {
     "cellMetadata": {
      "byteLimit": 2048000,
      "rowLimit": 10000
     },
     "inputWidgets": {},
     "nuid": "6a60e4f8-c3c5-495c-bac6-33c0008e1ce2",
     "showTitle": false,
     "title": ""
    }
   },
   "outputs": [
    {
     "data": {
      "text/html": [
       "<style scoped>\n",
       "  .ansiout {\n",
       "    display: block;\n",
       "    unicode-bidi: embed;\n",
       "    white-space: pre-wrap;\n",
       "    word-wrap: break-word;\n",
       "    word-break: break-all;\n",
       "    font-family: \"Source Code Pro\", \"Menlo\", monospace;;\n",
       "    font-size: 13px;\n",
       "    color: #555;\n",
       "    margin-left: 4px;\n",
       "    line-height: 19px;\n",
       "  }\n",
       "</style>\n",
       "<div class=\"ansiout\"></div>"
      ]
     },
     "metadata": {
      "application/vnd.databricks.v1+output": {
       "addedWidgets": {},
       "arguments": {},
       "data": "<div class=\"ansiout\"></div>",
       "datasetInfos": [],
       "metadata": {},
       "removedWidgets": [],
       "type": "html"
      }
     },
     "output_type": "display_data"
    }
   ],
   "source": [
    "pim_match.to_csv('PIMMART_DEP_COM_matchingtext_051723.csv', index = None)  # where is the location of the csv file "
   ]
  },
  {
   "cell_type": "code",
   "execution_count": 0,
   "metadata": {
    "application/vnd.databricks.v1+cell": {
     "cellMetadata": {
      "byteLimit": 2048000,
      "rowLimit": 10000
     },
     "inputWidgets": {},
     "nuid": "b8ccae5d-1d51-4558-8f1c-cdd7a18f910a",
     "showTitle": false,
     "title": ""
    }
   },
   "outputs": [
    {
     "data": {
      "text/html": [
       "<style scoped>\n",
       "  .ansiout {\n",
       "    display: block;\n",
       "    unicode-bidi: embed;\n",
       "    white-space: pre-wrap;\n",
       "    word-wrap: break-word;\n",
       "    word-break: break-all;\n",
       "    font-family: \"Source Code Pro\", \"Menlo\", monospace;;\n",
       "    font-size: 13px;\n",
       "    color: #555;\n",
       "    margin-left: 4px;\n",
       "    line-height: 19px;\n",
       "  }\n",
       "</style>\n",
       "<div class=\"ansiout\"></div>"
      ]
     },
     "metadata": {
      "application/vnd.databricks.v1+output": {
       "addedWidgets": {},
       "arguments": {},
       "data": "<div class=\"ansiout\"></div>",
       "datasetInfos": [],
       "metadata": {},
       "removedWidgets": [],
       "type": "html"
      }
     },
     "output_type": "display_data"
    }
   ],
   "source": [
    "gs1['FamilyClassTitle'] = gs1.FamilyTitle + '/'+ gs1.ClassTitle\n",
    "gs1_match =  pd.DataFrame(gs1.groupby('FamilyClassTitle').apply(lambda x: ' '.join(x.BrickTitle.unique())),columns = ['Class_Brick_text']).reset_index()\n",
    "gs1_match['GS1_Matching_Text'] = (gs1_match.FamilyClassTitle + ' ' + gs1_match.Class_Brick_text).str.lower()"
   ]
  },
  {
   "cell_type": "code",
   "execution_count": 0,
   "metadata": {
    "application/vnd.databricks.v1+cell": {
     "cellMetadata": {
      "byteLimit": 2048000,
      "rowLimit": 10000
     },
     "inputWidgets": {},
     "nuid": "1ee3c323-801b-44b4-8108-56b00e0cec81",
     "showTitle": false,
     "title": ""
    }
   },
   "outputs": [
    {
     "data": {
      "text/html": [
       "<style scoped>\n",
       "  .ansiout {\n",
       "    display: block;\n",
       "    unicode-bidi: embed;\n",
       "    white-space: pre-wrap;\n",
       "    word-wrap: break-word;\n",
       "    word-break: break-all;\n",
       "    font-family: \"Source Code Pro\", \"Menlo\", monospace;;\n",
       "    font-size: 13px;\n",
       "    color: #555;\n",
       "    margin-left: 4px;\n",
       "    line-height: 19px;\n",
       "  }\n",
       "</style>\n",
       "<div class=\"ansiout\">Out[19]: </div>"
      ]
     },
     "metadata": {
      "application/vnd.databricks.v1+output": {
       "addedWidgets": {},
       "arguments": {},
       "data": "<div class=\"ansiout\">Out[19]: </div>",
       "datasetInfos": [],
       "metadata": {},
       "removedWidgets": [],
       "type": "html"
      }
     },
     "output_type": "display_data"
    },
    {
     "data": {
      "text/html": [
       "<div>\n",
       "<style scoped>\n",
       "    .dataframe tbody tr th:only-of-type {\n",
       "        vertical-align: middle;\n",
       "    }\n",
       "\n",
       "    .dataframe tbody tr th {\n",
       "        vertical-align: top;\n",
       "    }\n",
       "\n",
       "    .dataframe thead th {\n",
       "        text-align: right;\n",
       "    }\n",
       "</style>\n",
       "<table border=\"1\" class=\"dataframe\">\n",
       "  <thead>\n",
       "    <tr style=\"text-align: right;\">\n",
       "      <th></th>\n",
       "      <th>FamilyClassTitle</th>\n",
       "      <th>Class_Brick_text</th>\n",
       "      <th>GS1_Matching_Text</th>\n",
       "    </tr>\n",
       "  </thead>\n",
       "  <tbody>\n",
       "    <tr>\n",
       "      <th>0</th>\n",
       "      <td>Beverages/Alcoholic Beverages (Includes De-Alc...</td>\n",
       "      <td>Alcohol Flavouring Kit Alcohol Making Kits Alc...</td>\n",
       "      <td>beverages/alcoholic beverages (includes de-alc...</td>\n",
       "    </tr>\n",
       "    <tr>\n",
       "      <th>1</th>\n",
       "      <td>Beverages/Beverages Variety Packs</td>\n",
       "      <td>Beverages Variety Packs</td>\n",
       "      <td>beverages/beverages variety packs beverages va...</td>\n",
       "    </tr>\n",
       "    <tr>\n",
       "      <th>2</th>\n",
       "      <td>Beverages/Coffee/Coffee Substitutes</td>\n",
       "      <td>Coffee - Capsules/Pods Coffee - Ground Beans C...</td>\n",
       "      <td>beverages/coffee/coffee substitutes coffee - c...</td>\n",
       "    </tr>\n",
       "    <tr>\n",
       "      <th>3</th>\n",
       "      <td>Beverages/Coffee/Tea/Substitutes</td>\n",
       "      <td>Coffee/Tea/Substitutes Variety Packs</td>\n",
       "      <td>beverages/coffee/tea/substitutes coffee/tea/su...</td>\n",
       "    </tr>\n",
       "    <tr>\n",
       "      <th>4</th>\n",
       "      <td>Beverages/Non Alcoholic Beverages - Not Ready ...</td>\n",
       "      <td>Chocolate/Cocoa/Malt - Not Ready to Drink Dair...</td>\n",
       "      <td>beverages/non alcoholic beverages - not ready ...</td>\n",
       "    </tr>\n",
       "    <tr>\n",
       "      <th>...</th>\n",
       "      <td>...</td>\n",
       "      <td>...</td>\n",
       "      <td>...</td>\n",
       "    </tr>\n",
       "    <tr>\n",
       "      <th>133</th>\n",
       "      <td>Vegetables (Non Leaf) - Unprepared/Unprocessed...</td>\n",
       "      <td>Agretti Glasswort Sea Kale Sea Lavender Tidal ...</td>\n",
       "      <td>vegetables (non leaf) - unprepared/unprocessed...</td>\n",
       "    </tr>\n",
       "    <tr>\n",
       "      <th>134</th>\n",
       "      <td>Vegetables (Non Leaf) - Unprepared/Unprocessed...</td>\n",
       "      <td>Cherry Tomatoes - Oblong Cherry Tomatoes - Rou...</td>\n",
       "      <td>vegetables (non leaf) - unprepared/unprocessed...</td>\n",
       "    </tr>\n",
       "    <tr>\n",
       "      <th>135</th>\n",
       "      <td>Vegetables (Non Leaf) - Unprepared/Unprocessed...</td>\n",
       "      <td>Vegetables - Unprepared/Unprocessed (Fresh) Va...</td>\n",
       "      <td>vegetables (non leaf) - unprepared/unprocessed...</td>\n",
       "    </tr>\n",
       "    <tr>\n",
       "      <th>136</th>\n",
       "      <td>Vegetables - Unprepared/Unprocessed (Frozen)/V...</td>\n",
       "      <td>Vegetables - Unprepared/Unprocessed (Frozen)</td>\n",
       "      <td>vegetables - unprepared/unprocessed (frozen)/v...</td>\n",
       "    </tr>\n",
       "    <tr>\n",
       "      <th>137</th>\n",
       "      <td>Vegetables - Unprepared/Unprocessed (Shelf Sta...</td>\n",
       "      <td>Vegetables - Unprepared/Unprocessed (Shelf Sta...</td>\n",
       "      <td>vegetables - unprepared/unprocessed (shelf sta...</td>\n",
       "    </tr>\n",
       "  </tbody>\n",
       "</table>\n",
       "<p>138 rows × 3 columns</p>\n",
       "</div>"
      ]
     },
     "metadata": {
      "application/vnd.databricks.v1+output": {
       "addedWidgets": {},
       "arguments": {},
       "data": "<div>\n<style scoped>\n    .dataframe tbody tr th:only-of-type {\n        vertical-align: middle;\n    }\n\n    .dataframe tbody tr th {\n        vertical-align: top;\n    }\n\n    .dataframe thead th {\n        text-align: right;\n    }\n</style>\n<table border=\"1\" class=\"dataframe\">\n  <thead>\n    <tr style=\"text-align: right;\">\n      <th></th>\n      <th>FamilyClassTitle</th>\n      <th>Class_Brick_text</th>\n      <th>GS1_Matching_Text</th>\n    </tr>\n  </thead>\n  <tbody>\n    <tr>\n      <th>0</th>\n      <td>Beverages/Alcoholic Beverages (Includes De-Alc...</td>\n      <td>Alcohol Flavouring Kit Alcohol Making Kits Alc...</td>\n      <td>beverages/alcoholic beverages (includes de-alc...</td>\n    </tr>\n    <tr>\n      <th>1</th>\n      <td>Beverages/Beverages Variety Packs</td>\n      <td>Beverages Variety Packs</td>\n      <td>beverages/beverages variety packs beverages va...</td>\n    </tr>\n    <tr>\n      <th>2</th>\n      <td>Beverages/Coffee/Coffee Substitutes</td>\n      <td>Coffee - Capsules/Pods Coffee - Ground Beans C...</td>\n      <td>beverages/coffee/coffee substitutes coffee - c...</td>\n    </tr>\n    <tr>\n      <th>3</th>\n      <td>Beverages/Coffee/Tea/Substitutes</td>\n      <td>Coffee/Tea/Substitutes Variety Packs</td>\n      <td>beverages/coffee/tea/substitutes coffee/tea/su...</td>\n    </tr>\n    <tr>\n      <th>4</th>\n      <td>Beverages/Non Alcoholic Beverages - Not Ready ...</td>\n      <td>Chocolate/Cocoa/Malt - Not Ready to Drink Dair...</td>\n      <td>beverages/non alcoholic beverages - not ready ...</td>\n    </tr>\n    <tr>\n      <th>...</th>\n      <td>...</td>\n      <td>...</td>\n      <td>...</td>\n    </tr>\n    <tr>\n      <th>133</th>\n      <td>Vegetables (Non Leaf) - Unprepared/Unprocessed...</td>\n      <td>Agretti Glasswort Sea Kale Sea Lavender Tidal ...</td>\n      <td>vegetables (non leaf) - unprepared/unprocessed...</td>\n    </tr>\n    <tr>\n      <th>134</th>\n      <td>Vegetables (Non Leaf) - Unprepared/Unprocessed...</td>\n      <td>Cherry Tomatoes - Oblong Cherry Tomatoes - Rou...</td>\n      <td>vegetables (non leaf) - unprepared/unprocessed...</td>\n    </tr>\n    <tr>\n      <th>135</th>\n      <td>Vegetables (Non Leaf) - Unprepared/Unprocessed...</td>\n      <td>Vegetables - Unprepared/Unprocessed (Fresh) Va...</td>\n      <td>vegetables (non leaf) - unprepared/unprocessed...</td>\n    </tr>\n    <tr>\n      <th>136</th>\n      <td>Vegetables - Unprepared/Unprocessed (Frozen)/V...</td>\n      <td>Vegetables - Unprepared/Unprocessed (Frozen)</td>\n      <td>vegetables - unprepared/unprocessed (frozen)/v...</td>\n    </tr>\n    <tr>\n      <th>137</th>\n      <td>Vegetables - Unprepared/Unprocessed (Shelf Sta...</td>\n      <td>Vegetables - Unprepared/Unprocessed (Shelf Sta...</td>\n      <td>vegetables - unprepared/unprocessed (shelf sta...</td>\n    </tr>\n  </tbody>\n</table>\n<p>138 rows × 3 columns</p>\n</div>",
       "datasetInfos": [],
       "metadata": {},
       "removedWidgets": [],
       "textData": null,
       "type": "htmlSandbox"
      }
     },
     "output_type": "display_data"
    }
   ],
   "source": [
    "gs1_match\n"
   ]
  },
  {
   "cell_type": "code",
   "execution_count": 0,
   "metadata": {
    "application/vnd.databricks.v1+cell": {
     "cellMetadata": {
      "byteLimit": 2048000,
      "rowLimit": 10000
     },
     "inputWidgets": {},
     "nuid": "2c52cce8-4ee8-458c-a3ab-ec76c40d3d7d",
     "showTitle": false,
     "title": ""
    }
   },
   "outputs": [
    {
     "data": {
      "text/html": [
       "<style scoped>\n",
       "  .ansiout {\n",
       "    display: block;\n",
       "    unicode-bidi: embed;\n",
       "    white-space: pre-wrap;\n",
       "    word-wrap: break-word;\n",
       "    word-break: break-all;\n",
       "    font-family: \"Source Code Pro\", \"Menlo\", monospace;;\n",
       "    font-size: 13px;\n",
       "    color: #555;\n",
       "    margin-left: 4px;\n",
       "    line-height: 19px;\n",
       "  }\n",
       "</style>\n",
       "<div class=\"ansiout\">Out[29]: (16, 3)</div>"
      ]
     },
     "metadata": {
      "application/vnd.databricks.v1+output": {
       "addedWidgets": {},
       "arguments": {},
       "data": "<div class=\"ansiout\">Out[29]: (16, 3)</div>",
       "datasetInfos": [],
       "metadata": {},
       "removedWidgets": [],
       "type": "html"
      }
     },
     "output_type": "display_data"
    }
   ],
   "source": [
    "pim_match.shape"
   ]
  },
  {
   "cell_type": "code",
   "execution_count": 0,
   "metadata": {
    "application/vnd.databricks.v1+cell": {
     "cellMetadata": {
      "byteLimit": 2048000,
      "rowLimit": 10000
     },
     "inputWidgets": {},
     "nuid": "41cd8013-4fd5-4797-b6d4-7cc9151862e2",
     "showTitle": false,
     "title": ""
    }
   },
   "outputs": [
    {
     "data": {
      "text/html": [
       "<style scoped>\n",
       "  .ansiout {\n",
       "    display: block;\n",
       "    unicode-bidi: embed;\n",
       "    white-space: pre-wrap;\n",
       "    word-wrap: break-word;\n",
       "    word-break: break-all;\n",
       "    font-family: \"Source Code Pro\", \"Menlo\", monospace;;\n",
       "    font-size: 13px;\n",
       "    color: #555;\n",
       "    margin-left: 4px;\n",
       "    line-height: 19px;\n",
       "  }\n",
       "</style>\n",
       "<div class=\"ansiout\">Out[20]: </div>"
      ]
     },
     "metadata": {
      "application/vnd.databricks.v1+output": {
       "addedWidgets": {},
       "arguments": {},
       "data": "<div class=\"ansiout\">Out[20]: </div>",
       "datasetInfos": [],
       "metadata": {},
       "removedWidgets": [],
       "type": "html"
      }
     },
     "output_type": "display_data"
    },
    {
     "data": {
      "text/html": [
       "<div>\n",
       "<style scoped>\n",
       "    .dataframe tbody tr th:only-of-type {\n",
       "        vertical-align: middle;\n",
       "    }\n",
       "\n",
       "    .dataframe tbody tr th {\n",
       "        vertical-align: top;\n",
       "    }\n",
       "\n",
       "    .dataframe thead th {\n",
       "        text-align: right;\n",
       "    }\n",
       "</style>\n",
       "<table border=\"1\" class=\"dataframe\">\n",
       "  <thead>\n",
       "    <tr style=\"text-align: right;\">\n",
       "      <th></th>\n",
       "      <th>DPT_DSC</th>\n",
       "      <th>COM_DSC_text</th>\n",
       "      <th>PIMMART_Matching_Text</th>\n",
       "    </tr>\n",
       "  </thead>\n",
       "  <tbody>\n",
       "    <tr>\n",
       "      <th>0</th>\n",
       "      <td>BEER</td>\n",
       "      <td>CRAFT/MICRO BEERS SINGLES BEER OTHER CIDER IMP...</td>\n",
       "      <td>beer craft/micro beers singles beer other cide...</td>\n",
       "    </tr>\n",
       "    <tr>\n",
       "      <th>1</th>\n",
       "      <td>BOTTLE DEP/RET</td>\n",
       "      <td>BOTTLE DEPOSITS BOTTLE REFUNDS MISCELLANEOUS T...</td>\n",
       "      <td>bottle dep/ret bottle deposits bottle refunds ...</td>\n",
       "    </tr>\n",
       "    <tr>\n",
       "      <th>2</th>\n",
       "      <td>CKY/CRKR/SNK</td>\n",
       "      <td>BAG SNACKS SS/VENDING - SALTY SNACKS WAREHOUSE...</td>\n",
       "      <td>cky/crkr/snk bag snacks ss/vending - salty sna...</td>\n",
       "    </tr>\n",
       "    <tr>\n",
       "      <th>3</th>\n",
       "      <td>COMMERCIAL BKY</td>\n",
       "      <td>BAKED BREADS BAKED SWEET GOODS MISCELLANEOUS T...</td>\n",
       "      <td>commercial bky baked breads baked sweet goods ...</td>\n",
       "    </tr>\n",
       "    <tr>\n",
       "      <th>4</th>\n",
       "      <td>DAIRY</td>\n",
       "      <td>YOGURT MILK BY-PRODUCTS REFRGRATD JUICES/DRINK...</td>\n",
       "      <td>dairy yogurt milk by-products refrgratd juices...</td>\n",
       "    </tr>\n",
       "    <tr>\n",
       "      <th>5</th>\n",
       "      <td>END OF ORD COUP</td>\n",
       "      <td>MISCELLANEOUS TRANSACTIONS</td>\n",
       "      <td>end of ord coup miscellaneous transactions</td>\n",
       "    </tr>\n",
       "    <tr>\n",
       "      <th>6</th>\n",
       "      <td>FROZEN GROCERY</td>\n",
       "      <td>FROZEN DESSERTS FROZEN AUTHENTIC ASIAN ICE CRE...</td>\n",
       "      <td>frozen grocery frozen desserts frozen authenti...</td>\n",
       "    </tr>\n",
       "    <tr>\n",
       "      <th>7</th>\n",
       "      <td>GROC NON-EDIBLE</td>\n",
       "      <td>LAUNDRY DETERGENTS FACIAL TISSUE LAUNDRY ADDIT...</td>\n",
       "      <td>groc non-edible laundry detergents facial tiss...</td>\n",
       "    </tr>\n",
       "    <tr>\n",
       "      <th>8</th>\n",
       "      <td>GROC-ALL OTHER</td>\n",
       "      <td>COLD CEREAL SPICES &amp; EXTRACTS FRUIT SNACKS CON...</td>\n",
       "      <td>groc-all other cold cereal spices &amp; extracts f...</td>\n",
       "    </tr>\n",
       "    <tr>\n",
       "      <th>9</th>\n",
       "      <td>NATURAL FOODS</td>\n",
       "      <td>NF CRACKERS NF FROZEN NOVELTIES NF FROZEN ENTR...</td>\n",
       "      <td>natural foods nf crackers nf frozen novelties ...</td>\n",
       "    </tr>\n",
       "    <tr>\n",
       "      <th>10</th>\n",
       "      <td>NF NON-EDIBLE</td>\n",
       "      <td>NF LAUNDRY NF HOUSEHOLD NF DISH NF PAPER NF AI...</td>\n",
       "      <td>nf non-edible nf laundry nf household nf dish ...</td>\n",
       "    </tr>\n",
       "    <tr>\n",
       "      <th>11</th>\n",
       "      <td>PET</td>\n",
       "      <td>PET CARE SUPPLIES WET CAT FOOD DRY DOG FOOD DO...</td>\n",
       "      <td>pet pet care supplies wet cat food dry dog foo...</td>\n",
       "    </tr>\n",
       "    <tr>\n",
       "      <th>12</th>\n",
       "      <td>REFRIG GROCERY</td>\n",
       "      <td>DRY CHEESE CHEESE BUTTER/MARGARINE REFRIGERATE...</td>\n",
       "      <td>refrig grocery dry cheese cheese butter/margar...</td>\n",
       "    </tr>\n",
       "    <tr>\n",
       "      <th>13</th>\n",
       "      <td>SOFT DRINKS</td>\n",
       "      <td>SPECIALTY SOFT DRINKS SOFT DRINKS SINGLE SERVE...</td>\n",
       "      <td>soft drinks specialty soft drinks soft drinks ...</td>\n",
       "    </tr>\n",
       "    <tr>\n",
       "      <th>14</th>\n",
       "      <td>SPIRITS</td>\n",
       "      <td>TEQUILA RTD COCKTAILS N. AMER WHISKEY VODKA RU...</td>\n",
       "      <td>spirits tequila rtd cocktails n. amer whiskey ...</td>\n",
       "    </tr>\n",
       "    <tr>\n",
       "      <th>15</th>\n",
       "      <td>WINE</td>\n",
       "      <td>TABLE WINE MISC WINE SPARKLING WINE MISCELLANE...</td>\n",
       "      <td>wine table wine misc wine sparkling wine misce...</td>\n",
       "    </tr>\n",
       "  </tbody>\n",
       "</table>\n",
       "</div>"
      ]
     },
     "metadata": {
      "application/vnd.databricks.v1+output": {
       "addedWidgets": {},
       "arguments": {},
       "data": "<div>\n<style scoped>\n    .dataframe tbody tr th:only-of-type {\n        vertical-align: middle;\n    }\n\n    .dataframe tbody tr th {\n        vertical-align: top;\n    }\n\n    .dataframe thead th {\n        text-align: right;\n    }\n</style>\n<table border=\"1\" class=\"dataframe\">\n  <thead>\n    <tr style=\"text-align: right;\">\n      <th></th>\n      <th>DPT_DSC</th>\n      <th>COM_DSC_text</th>\n      <th>PIMMART_Matching_Text</th>\n    </tr>\n  </thead>\n  <tbody>\n    <tr>\n      <th>0</th>\n      <td>BEER</td>\n      <td>CRAFT/MICRO BEERS SINGLES BEER OTHER CIDER IMP...</td>\n      <td>beer craft/micro beers singles beer other cide...</td>\n    </tr>\n    <tr>\n      <th>1</th>\n      <td>BOTTLE DEP/RET</td>\n      <td>BOTTLE DEPOSITS BOTTLE REFUNDS MISCELLANEOUS T...</td>\n      <td>bottle dep/ret bottle deposits bottle refunds ...</td>\n    </tr>\n    <tr>\n      <th>2</th>\n      <td>CKY/CRKR/SNK</td>\n      <td>BAG SNACKS SS/VENDING - SALTY SNACKS WAREHOUSE...</td>\n      <td>cky/crkr/snk bag snacks ss/vending - salty sna...</td>\n    </tr>\n    <tr>\n      <th>3</th>\n      <td>COMMERCIAL BKY</td>\n      <td>BAKED BREADS BAKED SWEET GOODS MISCELLANEOUS T...</td>\n      <td>commercial bky baked breads baked sweet goods ...</td>\n    </tr>\n    <tr>\n      <th>4</th>\n      <td>DAIRY</td>\n      <td>YOGURT MILK BY-PRODUCTS REFRGRATD JUICES/DRINK...</td>\n      <td>dairy yogurt milk by-products refrgratd juices...</td>\n    </tr>\n    <tr>\n      <th>5</th>\n      <td>END OF ORD COUP</td>\n      <td>MISCELLANEOUS TRANSACTIONS</td>\n      <td>end of ord coup miscellaneous transactions</td>\n    </tr>\n    <tr>\n      <th>6</th>\n      <td>FROZEN GROCERY</td>\n      <td>FROZEN DESSERTS FROZEN AUTHENTIC ASIAN ICE CRE...</td>\n      <td>frozen grocery frozen desserts frozen authenti...</td>\n    </tr>\n    <tr>\n      <th>7</th>\n      <td>GROC NON-EDIBLE</td>\n      <td>LAUNDRY DETERGENTS FACIAL TISSUE LAUNDRY ADDIT...</td>\n      <td>groc non-edible laundry detergents facial tiss...</td>\n    </tr>\n    <tr>\n      <th>8</th>\n      <td>GROC-ALL OTHER</td>\n      <td>COLD CEREAL SPICES &amp; EXTRACTS FRUIT SNACKS CON...</td>\n      <td>groc-all other cold cereal spices &amp; extracts f...</td>\n    </tr>\n    <tr>\n      <th>9</th>\n      <td>NATURAL FOODS</td>\n      <td>NF CRACKERS NF FROZEN NOVELTIES NF FROZEN ENTR...</td>\n      <td>natural foods nf crackers nf frozen novelties ...</td>\n    </tr>\n    <tr>\n      <th>10</th>\n      <td>NF NON-EDIBLE</td>\n      <td>NF LAUNDRY NF HOUSEHOLD NF DISH NF PAPER NF AI...</td>\n      <td>nf non-edible nf laundry nf household nf dish ...</td>\n    </tr>\n    <tr>\n      <th>11</th>\n      <td>PET</td>\n      <td>PET CARE SUPPLIES WET CAT FOOD DRY DOG FOOD DO...</td>\n      <td>pet pet care supplies wet cat food dry dog foo...</td>\n    </tr>\n    <tr>\n      <th>12</th>\n      <td>REFRIG GROCERY</td>\n      <td>DRY CHEESE CHEESE BUTTER/MARGARINE REFRIGERATE...</td>\n      <td>refrig grocery dry cheese cheese butter/margar...</td>\n    </tr>\n    <tr>\n      <th>13</th>\n      <td>SOFT DRINKS</td>\n      <td>SPECIALTY SOFT DRINKS SOFT DRINKS SINGLE SERVE...</td>\n      <td>soft drinks specialty soft drinks soft drinks ...</td>\n    </tr>\n    <tr>\n      <th>14</th>\n      <td>SPIRITS</td>\n      <td>TEQUILA RTD COCKTAILS N. AMER WHISKEY VODKA RU...</td>\n      <td>spirits tequila rtd cocktails n. amer whiskey ...</td>\n    </tr>\n    <tr>\n      <th>15</th>\n      <td>WINE</td>\n      <td>TABLE WINE MISC WINE SPARKLING WINE MISCELLANE...</td>\n      <td>wine table wine misc wine sparkling wine misce...</td>\n    </tr>\n  </tbody>\n</table>\n</div>",
       "datasetInfos": [],
       "metadata": {},
       "removedWidgets": [],
       "textData": null,
       "type": "htmlSandbox"
      }
     },
     "output_type": "display_data"
    }
   ],
   "source": [
    "pim_match"
   ]
  },
  {
   "cell_type": "code",
   "execution_count": 0,
   "metadata": {
    "application/vnd.databricks.v1+cell": {
     "cellMetadata": {
      "byteLimit": 2048000,
      "rowLimit": 10000
     },
     "inputWidgets": {},
     "nuid": "f951c934-243e-4e28-99a6-2916aa02c7ad",
     "showTitle": false,
     "title": ""
    }
   },
   "outputs": [
    {
     "data": {
      "text/html": [
       "<style scoped>\n",
       "  .ansiout {\n",
       "    display: block;\n",
       "    unicode-bidi: embed;\n",
       "    white-space: pre-wrap;\n",
       "    word-wrap: break-word;\n",
       "    word-break: break-all;\n",
       "    font-family: \"Source Code Pro\", \"Menlo\", monospace;;\n",
       "    font-size: 13px;\n",
       "    color: #555;\n",
       "    margin-left: 4px;\n",
       "    line-height: 19px;\n",
       "  }\n",
       "</style>\n",
       "<div class=\"ansiout\"></div>"
      ]
     },
     "metadata": {
      "application/vnd.databricks.v1+output": {
       "addedWidgets": {},
       "arguments": {},
       "data": "<div class=\"ansiout\"></div>",
       "datasetInfos": [],
       "metadata": {},
       "removedWidgets": [],
       "type": "html"
      }
     },
     "output_type": "display_data"
    }
   ],
   "source": [
    "from rapidfuzz import fuzz"
   ]
  },
  {
   "cell_type": "code",
   "execution_count": 0,
   "metadata": {
    "application/vnd.databricks.v1+cell": {
     "cellMetadata": {
      "byteLimit": 2048000,
      "rowLimit": 10000
     },
     "inputWidgets": {},
     "nuid": "bc0195a5-54ef-43b1-b1f1-23a1e7170792",
     "showTitle": false,
     "title": ""
    }
   },
   "outputs": [
    {
     "data": {
      "text/html": [
       "<style scoped>\n",
       "  .ansiout {\n",
       "    display: block;\n",
       "    unicode-bidi: embed;\n",
       "    white-space: pre-wrap;\n",
       "    word-wrap: break-word;\n",
       "    word-break: break-all;\n",
       "    font-family: \"Source Code Pro\", \"Menlo\", monospace;;\n",
       "    font-size: 13px;\n",
       "    color: #555;\n",
       "    margin-left: 4px;\n",
       "    line-height: 19px;\n",
       "  }\n",
       "</style>\n",
       "<div class=\"ansiout\">Out[22]: &#39;Beverages/Alcoholic Beverages (Includes De-Alcoholised Variants)&#39;</div>"
      ]
     },
     "metadata": {
      "application/vnd.databricks.v1+output": {
       "addedWidgets": {},
       "arguments": {},
       "data": "<div class=\"ansiout\">Out[22]: &#39;Beverages/Alcoholic Beverages (Includes De-Alcoholised Variants)&#39;</div>",
       "datasetInfos": [],
       "metadata": {},
       "removedWidgets": [],
       "type": "html"
      }
     },
     "output_type": "display_data"
    }
   ],
   "source": [
    "gs1_match.FamilyClassTitle.iloc[0]"
   ]
  },
  {
   "cell_type": "code",
   "execution_count": 0,
   "metadata": {
    "application/vnd.databricks.v1+cell": {
     "cellMetadata": {
      "byteLimit": 2048000,
      "rowLimit": 10000
     },
     "inputWidgets": {},
     "nuid": "a5e48f31-f124-4776-b068-db6fb647236b",
     "showTitle": false,
     "title": ""
    }
   },
   "outputs": [
    {
     "data": {
      "text/html": [
       "<style scoped>\n",
       "  .ansiout {\n",
       "    display: block;\n",
       "    unicode-bidi: embed;\n",
       "    white-space: pre-wrap;\n",
       "    word-wrap: break-word;\n",
       "    word-break: break-all;\n",
       "    font-family: \"Source Code Pro\", \"Menlo\", monospace;;\n",
       "    font-size: 13px;\n",
       "    color: #555;\n",
       "    margin-left: 4px;\n",
       "    line-height: 19px;\n",
       "  }\n",
       "</style>\n",
       "<div class=\"ansiout\"></div>"
      ]
     },
     "metadata": {
      "application/vnd.databricks.v1+output": {
       "addedWidgets": {},
       "arguments": {},
       "data": "<div class=\"ansiout\"></div>",
       "datasetInfos": [],
       "metadata": {},
       "removedWidgets": [],
       "type": "html"
      }
     },
     "output_type": "display_data"
    }
   ],
   "source": [
    "def match_gs1_levels_x(pim_ix , gs1_matchlist = list(gs1_match.GS1_Matching_Text), cutoff = 40):\n",
    "    out = pd.DataFrame(columns= ['KROGER_DEPT','GS1_FAMILY/CLASS','MATCH_SCORE'])\n",
    "    for i, j  in enumerate(gs1_matchlist):\n",
    "        score = fuzz.token_set_ratio(pim_match.PIMMART_Matching_Text.iloc[pim_ix],j, processor=utils.default_process)\n",
    "        if score >=cutoff:\n",
    "            out.loc[i] = [pim_match.DPT_DSC.iloc[pim_ix],gs1_match.FamilyClassTitle.iloc[i],score]\n",
    "    return out.sort_values('MATCH_SCORE', ascending = False).reset_index(drop= True)"
   ]
  },
  {
   "cell_type": "code",
   "execution_count": 0,
   "metadata": {
    "application/vnd.databricks.v1+cell": {
     "cellMetadata": {
      "byteLimit": 2048000,
      "rowLimit": 10000
     },
     "inputWidgets": {},
     "nuid": "9cbd0184-f350-44db-bc5b-43b474613477",
     "showTitle": false,
     "title": ""
    }
   },
   "outputs": [
    {
     "data": {
      "text/html": [
       "<style scoped>\n",
       "  .ansiout {\n",
       "    display: block;\n",
       "    unicode-bidi: embed;\n",
       "    white-space: pre-wrap;\n",
       "    word-wrap: break-word;\n",
       "    word-break: break-all;\n",
       "    font-family: \"Source Code Pro\", \"Menlo\", monospace;;\n",
       "    font-size: 13px;\n",
       "    color: #555;\n",
       "    margin-left: 4px;\n",
       "    line-height: 19px;\n",
       "  }\n",
       "</style>\n",
       "<div class=\"ansiout\"></div>"
      ]
     },
     "metadata": {
      "application/vnd.databricks.v1+output": {
       "addedWidgets": {},
       "arguments": {},
       "data": "<div class=\"ansiout\"></div>",
       "datasetInfos": [],
       "metadata": {},
       "removedWidgets": [],
       "type": "html"
      }
     },
     "output_type": "display_data"
    }
   ],
   "source": [
    "res_x = pd.DataFrame(columns= ['KROGER_DEPT','GS1_FAMILY/CLASS','MATCH_SCORE'])\n",
    "for ix in range(len(pim_match)):\n",
    "    res_x = res_x.append(match_gs1_levels_x(ix, cutoff= 45)).reset_index(drop = True)"
   ]
  },
  {
   "cell_type": "code",
   "execution_count": 0,
   "metadata": {
    "application/vnd.databricks.v1+cell": {
     "cellMetadata": {
      "byteLimit": 2048000,
      "rowLimit": 10000
     },
     "inputWidgets": {},
     "nuid": "9c1039a6-8735-4ebb-9649-43f12fd669e8",
     "showTitle": false,
     "title": ""
    }
   },
   "outputs": [
    {
     "data": {
      "text/html": [
       "<style scoped>\n",
       "  .ansiout {\n",
       "    display: block;\n",
       "    unicode-bidi: embed;\n",
       "    white-space: pre-wrap;\n",
       "    word-wrap: break-word;\n",
       "    word-break: break-all;\n",
       "    font-family: \"Source Code Pro\", \"Menlo\", monospace;;\n",
       "    font-size: 13px;\n",
       "    color: #555;\n",
       "    margin-left: 4px;\n",
       "    line-height: 19px;\n",
       "  }\n",
       "</style>\n",
       "<div class=\"ansiout\"></div>"
      ]
     },
     "metadata": {
      "application/vnd.databricks.v1+output": {
       "addedWidgets": {},
       "arguments": {},
       "data": "<div class=\"ansiout\"></div>",
       "datasetInfos": [],
       "metadata": {},
       "removedWidgets": [],
       "type": "html"
      }
     },
     "output_type": "display_data"
    }
   ],
   "source": [
    "def match_gs1_levels(pim_ix , gs1_matchlist = list(gs1_match.GS1_Matching_Text), cutoff = 40):\n",
    "    out = pd.DataFrame(columns= ['KROGER_DEPT','GS1_FAMILY/CLASS','MATCH_SCORE'])\n",
    "    for i, j  in enumerate(gs1_matchlist):\n",
    "        score = fuzz.token_set_ratio(pim_match.PIMMART_Matching_Text.iloc[pim_ix],j)\n",
    "        if score >=cutoff:\n",
    "            out.loc[i] = [pim_match.DPT_DSC.iloc[pim_ix],gs1_match.FamilyClassTitle.iloc[i],score]\n",
    "    return out.sort_values('MATCH_SCORE', ascending = False).reset_index(drop= True)"
   ]
  },
  {
   "cell_type": "code",
   "execution_count": 0,
   "metadata": {
    "application/vnd.databricks.v1+cell": {
     "cellMetadata": {
      "byteLimit": 2048000,
      "rowLimit": 10000
     },
     "inputWidgets": {},
     "nuid": "50a6e883-d970-4c44-91a5-ac873f291ed2",
     "showTitle": false,
     "title": ""
    }
   },
   "outputs": [
    {
     "data": {
      "text/html": [
       "<style scoped>\n",
       "  .ansiout {\n",
       "    display: block;\n",
       "    unicode-bidi: embed;\n",
       "    white-space: pre-wrap;\n",
       "    word-wrap: break-word;\n",
       "    word-break: break-all;\n",
       "    font-family: \"Source Code Pro\", \"Menlo\", monospace;;\n",
       "    font-size: 13px;\n",
       "    color: #555;\n",
       "    margin-left: 4px;\n",
       "    line-height: 19px;\n",
       "  }\n",
       "</style>\n",
       "<div class=\"ansiout\"></div>"
      ]
     },
     "metadata": {
      "application/vnd.databricks.v1+output": {
       "addedWidgets": {},
       "arguments": {},
       "data": "<div class=\"ansiout\"></div>",
       "datasetInfos": [],
       "metadata": {},
       "removedWidgets": [],
       "type": "html"
      }
     },
     "output_type": "display_data"
    }
   ],
   "source": [
    "res = pd.DataFrame(columns= ['KROGER_DEPT','GS1_FAMILY/CLASS','MATCH_SCORE'])\n",
    "for ix in range(len(pim_match)):\n",
    "    res = res.append(match_gs1_levels(ix, cutoff= 45)).reset_index(drop = True)\n",
    "    "
   ]
  },
  {
   "cell_type": "code",
   "execution_count": 0,
   "metadata": {
    "application/vnd.databricks.v1+cell": {
     "cellMetadata": {
      "byteLimit": 2048000,
      "rowLimit": 10000
     },
     "inputWidgets": {},
     "nuid": "472ea2fe-ce0e-430a-afe4-1afc289c993e",
     "showTitle": false,
     "title": ""
    }
   },
   "outputs": [
    {
     "data": {
      "text/html": [
       "<style scoped>\n",
       "  .ansiout {\n",
       "    display: block;\n",
       "    unicode-bidi: embed;\n",
       "    white-space: pre-wrap;\n",
       "    word-wrap: break-word;\n",
       "    word-break: break-all;\n",
       "    font-family: \"Source Code Pro\", \"Menlo\", monospace;;\n",
       "    font-size: 13px;\n",
       "    color: #555;\n",
       "    margin-left: 4px;\n",
       "    line-height: 19px;\n",
       "  }\n",
       "</style>\n",
       "<div class=\"ansiout\">Out[46]: </div>"
      ]
     },
     "metadata": {
      "application/vnd.databricks.v1+output": {
       "addedWidgets": {},
       "arguments": {},
       "data": "<div class=\"ansiout\">Out[46]: </div>",
       "datasetInfos": [],
       "metadata": {},
       "removedWidgets": [],
       "type": "html"
      }
     },
     "output_type": "display_data"
    },
    {
     "data": {
      "text/html": [
       "<div>\n",
       "<style scoped>\n",
       "    .dataframe tbody tr th:only-of-type {\n",
       "        vertical-align: middle;\n",
       "    }\n",
       "\n",
       "    .dataframe tbody tr th {\n",
       "        vertical-align: top;\n",
       "    }\n",
       "\n",
       "    .dataframe thead th {\n",
       "        text-align: right;\n",
       "    }\n",
       "</style>\n",
       "<table border=\"1\" class=\"dataframe\">\n",
       "  <thead>\n",
       "    <tr style=\"text-align: right;\">\n",
       "      <th></th>\n",
       "      <th>KROGER_DEPT</th>\n",
       "      <th>GS1_FAMILY/CLASS</th>\n",
       "      <th>MATCH_SCORE</th>\n",
       "    </tr>\n",
       "  </thead>\n",
       "  <tbody>\n",
       "    <tr>\n",
       "      <th>0</th>\n",
       "      <td>BEER</td>\n",
       "      <td>Beverages/Alcoholic Beverages (Includes De-Alc...</td>\n",
       "      <td>47.031963</td>\n",
       "    </tr>\n",
       "    <tr>\n",
       "      <th>1</th>\n",
       "      <td>CKY/CRKR/SNK</td>\n",
       "      <td>Prepared/Preserved Foods/Snacks</td>\n",
       "      <td>46.831956</td>\n",
       "    </tr>\n",
       "    <tr>\n",
       "      <th>2</th>\n",
       "      <td>DAIRY</td>\n",
       "      <td>Milk/Butter/Cream/Yogurts/Cheese/Eggs/Substitu...</td>\n",
       "      <td>48.672566</td>\n",
       "    </tr>\n",
       "    <tr>\n",
       "      <th>3</th>\n",
       "      <td>DAIRY</td>\n",
       "      <td>Prepared/Preserved Foods/Dairy/Egg Based Produ...</td>\n",
       "      <td>46.853147</td>\n",
       "    </tr>\n",
       "    <tr>\n",
       "      <th>4</th>\n",
       "      <td>DAIRY</td>\n",
       "      <td>Prepared/Preserved Foods/Grain Based Products ...</td>\n",
       "      <td>45.112782</td>\n",
       "    </tr>\n",
       "    <tr>\n",
       "      <th>5</th>\n",
       "      <td>FROZEN GROCERY</td>\n",
       "      <td>Fruits/Vegetables Fresh Cut/Vegetables - Fresh...</td>\n",
       "      <td>47.462277</td>\n",
       "    </tr>\n",
       "    <tr>\n",
       "      <th>6</th>\n",
       "      <td>GROC NON-EDIBLE</td>\n",
       "      <td>Tobacco/Cannabis/Smoking Accessories/Cannabis ...</td>\n",
       "      <td>45.416667</td>\n",
       "    </tr>\n",
       "    <tr>\n",
       "      <th>7</th>\n",
       "      <td>SOFT DRINKS</td>\n",
       "      <td>Beverages/Beverages Variety Packs</td>\n",
       "      <td>46.017699</td>\n",
       "    </tr>\n",
       "  </tbody>\n",
       "</table>\n",
       "</div>"
      ]
     },
     "metadata": {
      "application/vnd.databricks.v1+output": {
       "addedWidgets": {},
       "arguments": {},
       "data": "<div>\n<style scoped>\n    .dataframe tbody tr th:only-of-type {\n        vertical-align: middle;\n    }\n\n    .dataframe tbody tr th {\n        vertical-align: top;\n    }\n\n    .dataframe thead th {\n        text-align: right;\n    }\n</style>\n<table border=\"1\" class=\"dataframe\">\n  <thead>\n    <tr style=\"text-align: right;\">\n      <th></th>\n      <th>KROGER_DEPT</th>\n      <th>GS1_FAMILY/CLASS</th>\n      <th>MATCH_SCORE</th>\n    </tr>\n  </thead>\n  <tbody>\n    <tr>\n      <th>0</th>\n      <td>BEER</td>\n      <td>Beverages/Alcoholic Beverages (Includes De-Alc...</td>\n      <td>47.031963</td>\n    </tr>\n    <tr>\n      <th>1</th>\n      <td>CKY/CRKR/SNK</td>\n      <td>Prepared/Preserved Foods/Snacks</td>\n      <td>46.831956</td>\n    </tr>\n    <tr>\n      <th>2</th>\n      <td>DAIRY</td>\n      <td>Milk/Butter/Cream/Yogurts/Cheese/Eggs/Substitu...</td>\n      <td>48.672566</td>\n    </tr>\n    <tr>\n      <th>3</th>\n      <td>DAIRY</td>\n      <td>Prepared/Preserved Foods/Dairy/Egg Based Produ...</td>\n      <td>46.853147</td>\n    </tr>\n    <tr>\n      <th>4</th>\n      <td>DAIRY</td>\n      <td>Prepared/Preserved Foods/Grain Based Products ...</td>\n      <td>45.112782</td>\n    </tr>\n    <tr>\n      <th>5</th>\n      <td>FROZEN GROCERY</td>\n      <td>Fruits/Vegetables Fresh Cut/Vegetables - Fresh...</td>\n      <td>47.462277</td>\n    </tr>\n    <tr>\n      <th>6</th>\n      <td>GROC NON-EDIBLE</td>\n      <td>Tobacco/Cannabis/Smoking Accessories/Cannabis ...</td>\n      <td>45.416667</td>\n    </tr>\n    <tr>\n      <th>7</th>\n      <td>SOFT DRINKS</td>\n      <td>Beverages/Beverages Variety Packs</td>\n      <td>46.017699</td>\n    </tr>\n  </tbody>\n</table>\n</div>",
       "datasetInfos": [],
       "metadata": {},
       "removedWidgets": [],
       "textData": null,
       "type": "htmlSandbox"
      }
     },
     "output_type": "display_data"
    }
   ],
   "source": [
    "res"
   ]
  },
  {
   "cell_type": "code",
   "execution_count": 0,
   "metadata": {
    "application/vnd.databricks.v1+cell": {
     "cellMetadata": {
      "byteLimit": 2048000,
      "rowLimit": 10000
     },
     "inputWidgets": {},
     "nuid": "97fecfba-fc7a-419c-bd29-1d10cda5a337",
     "showTitle": false,
     "title": ""
    }
   },
   "outputs": [
    {
     "data": {
      "text/html": [
       "<style scoped>\n",
       "  .ansiout {\n",
       "    display: block;\n",
       "    unicode-bidi: embed;\n",
       "    white-space: pre-wrap;\n",
       "    word-wrap: break-word;\n",
       "    word-break: break-all;\n",
       "    font-family: \"Source Code Pro\", \"Menlo\", monospace;;\n",
       "    font-size: 13px;\n",
       "    color: #555;\n",
       "    margin-left: 4px;\n",
       "    line-height: 19px;\n",
       "  }\n",
       "</style>\n",
       "<div class=\"ansiout\">Out[48]: </div>"
      ]
     },
     "metadata": {
      "application/vnd.databricks.v1+output": {
       "addedWidgets": {},
       "arguments": {},
       "data": "<div class=\"ansiout\">Out[48]: </div>",
       "datasetInfos": [],
       "metadata": {},
       "removedWidgets": [],
       "type": "html"
      }
     },
     "output_type": "display_data"
    },
    {
     "data": {
      "text/html": [
       "<div>\n",
       "<style scoped>\n",
       "    .dataframe tbody tr th:only-of-type {\n",
       "        vertical-align: middle;\n",
       "    }\n",
       "\n",
       "    .dataframe tbody tr th {\n",
       "        vertical-align: top;\n",
       "    }\n",
       "\n",
       "    .dataframe thead th {\n",
       "        text-align: right;\n",
       "    }\n",
       "</style>\n",
       "<table border=\"1\" class=\"dataframe\">\n",
       "  <thead>\n",
       "    <tr style=\"text-align: right;\">\n",
       "      <th></th>\n",
       "      <th>KROGER_DEPT</th>\n",
       "      <th>GS1_FAMILY/CLASS</th>\n",
       "      <th>MATCH_SCORE_preprocess_yes</th>\n",
       "    </tr>\n",
       "  </thead>\n",
       "  <tbody>\n",
       "    <tr>\n",
       "      <th>0</th>\n",
       "      <td>BEER</td>\n",
       "      <td>Beverages/Beverages Variety Packs</td>\n",
       "      <td>56.250000</td>\n",
       "    </tr>\n",
       "    <tr>\n",
       "      <th>1</th>\n",
       "      <td>BEER</td>\n",
       "      <td>Beverages/Alcoholic Beverages (Includes De-Alc...</td>\n",
       "      <td>51.562500</td>\n",
       "    </tr>\n",
       "    <tr>\n",
       "      <th>2</th>\n",
       "      <td>BEER</td>\n",
       "      <td>Beverages/Non Alcoholic Beverages - Not Ready ...</td>\n",
       "      <td>49.266862</td>\n",
       "    </tr>\n",
       "    <tr>\n",
       "      <th>3</th>\n",
       "      <td>BEER</td>\n",
       "      <td>Beverages/Non Alcoholic Beverages - Ready to D...</td>\n",
       "      <td>47.222222</td>\n",
       "    </tr>\n",
       "    <tr>\n",
       "      <th>4</th>\n",
       "      <td>BEER</td>\n",
       "      <td>Vegetables (Non Leaf) - Unprepared/Unprocessed...</td>\n",
       "      <td>45.751634</td>\n",
       "    </tr>\n",
       "    <tr>\n",
       "      <th>...</th>\n",
       "      <td>...</td>\n",
       "      <td>...</td>\n",
       "      <td>...</td>\n",
       "    </tr>\n",
       "    <tr>\n",
       "      <th>177</th>\n",
       "      <td>REFRIG GROCERY</td>\n",
       "      <td>Prepared/Preserved Foods/Dough Based Products ...</td>\n",
       "      <td>45.423729</td>\n",
       "    </tr>\n",
       "    <tr>\n",
       "      <th>178</th>\n",
       "      <td>REFRIG GROCERY</td>\n",
       "      <td>Milk/Butter/Cream/Yogurts/Cheese/Eggs/Substitu...</td>\n",
       "      <td>45.323741</td>\n",
       "    </tr>\n",
       "    <tr>\n",
       "      <th>179</th>\n",
       "      <td>SOFT DRINKS</td>\n",
       "      <td>Prepared/Preserved Foods/Baby/Infant - Foods/B...</td>\n",
       "      <td>49.411765</td>\n",
       "    </tr>\n",
       "    <tr>\n",
       "      <th>180</th>\n",
       "      <td>SOFT DRINKS</td>\n",
       "      <td>Beverages/Tea and Infusions/Tisanes</td>\n",
       "      <td>47.457627</td>\n",
       "    </tr>\n",
       "    <tr>\n",
       "      <th>181</th>\n",
       "      <td>SPIRITS</td>\n",
       "      <td>Confectionery/Sugar Sweetening Products/Confec...</td>\n",
       "      <td>45.267490</td>\n",
       "    </tr>\n",
       "  </tbody>\n",
       "</table>\n",
       "<p>182 rows × 3 columns</p>\n",
       "</div>"
      ]
     },
     "metadata": {
      "application/vnd.databricks.v1+output": {
       "addedWidgets": {},
       "arguments": {},
       "data": "<div>\n<style scoped>\n    .dataframe tbody tr th:only-of-type {\n        vertical-align: middle;\n    }\n\n    .dataframe tbody tr th {\n        vertical-align: top;\n    }\n\n    .dataframe thead th {\n        text-align: right;\n    }\n</style>\n<table border=\"1\" class=\"dataframe\">\n  <thead>\n    <tr style=\"text-align: right;\">\n      <th></th>\n      <th>KROGER_DEPT</th>\n      <th>GS1_FAMILY/CLASS</th>\n      <th>MATCH_SCORE_preprocess_yes</th>\n    </tr>\n  </thead>\n  <tbody>\n    <tr>\n      <th>0</th>\n      <td>BEER</td>\n      <td>Beverages/Beverages Variety Packs</td>\n      <td>56.250000</td>\n    </tr>\n    <tr>\n      <th>1</th>\n      <td>BEER</td>\n      <td>Beverages/Alcoholic Beverages (Includes De-Alc...</td>\n      <td>51.562500</td>\n    </tr>\n    <tr>\n      <th>2</th>\n      <td>BEER</td>\n      <td>Beverages/Non Alcoholic Beverages - Not Ready ...</td>\n      <td>49.266862</td>\n    </tr>\n    <tr>\n      <th>3</th>\n      <td>BEER</td>\n      <td>Beverages/Non Alcoholic Beverages - Ready to D...</td>\n      <td>47.222222</td>\n    </tr>\n    <tr>\n      <th>4</th>\n      <td>BEER</td>\n      <td>Vegetables (Non Leaf) - Unprepared/Unprocessed...</td>\n      <td>45.751634</td>\n    </tr>\n    <tr>\n      <th>...</th>\n      <td>...</td>\n      <td>...</td>\n      <td>...</td>\n    </tr>\n    <tr>\n      <th>177</th>\n      <td>REFRIG GROCERY</td>\n      <td>Prepared/Preserved Foods/Dough Based Products ...</td>\n      <td>45.423729</td>\n    </tr>\n    <tr>\n      <th>178</th>\n      <td>REFRIG GROCERY</td>\n      <td>Milk/Butter/Cream/Yogurts/Cheese/Eggs/Substitu...</td>\n      <td>45.323741</td>\n    </tr>\n    <tr>\n      <th>179</th>\n      <td>SOFT DRINKS</td>\n      <td>Prepared/Preserved Foods/Baby/Infant - Foods/B...</td>\n      <td>49.411765</td>\n    </tr>\n    <tr>\n      <th>180</th>\n      <td>SOFT DRINKS</td>\n      <td>Beverages/Tea and Infusions/Tisanes</td>\n      <td>47.457627</td>\n    </tr>\n    <tr>\n      <th>181</th>\n      <td>SPIRITS</td>\n      <td>Confectionery/Sugar Sweetening Products/Confec...</td>\n      <td>45.267490</td>\n    </tr>\n  </tbody>\n</table>\n<p>182 rows × 3 columns</p>\n</div>",
       "datasetInfos": [],
       "metadata": {},
       "removedWidgets": [],
       "textData": null,
       "type": "htmlSandbox"
      }
     },
     "output_type": "display_data"
    }
   ],
   "source": [
    "res_x.rename(columns={'MATCH_SCORE':'MATCH_SCORE_preprocess_yes'})\n"
   ]
  },
  {
   "cell_type": "code",
   "execution_count": 0,
   "metadata": {
    "application/vnd.databricks.v1+cell": {
     "cellMetadata": {
      "byteLimit": 2048000,
      "rowLimit": 10000
     },
     "inputWidgets": {},
     "nuid": "748b68d6-659a-4185-af88-50a7d94dc9bf",
     "showTitle": false,
     "title": ""
    }
   },
   "outputs": [
    {
     "data": {
      "text/html": [
       "<style scoped>\n",
       "  .ansiout {\n",
       "    display: block;\n",
       "    unicode-bidi: embed;\n",
       "    white-space: pre-wrap;\n",
       "    word-wrap: break-word;\n",
       "    word-break: break-all;\n",
       "    font-family: \"Source Code Pro\", \"Menlo\", monospace;;\n",
       "    font-size: 13px;\n",
       "    color: #555;\n",
       "    margin-left: 4px;\n",
       "    line-height: 19px;\n",
       "  }\n",
       "</style>\n",
       "<div class=\"ansiout\">Out[49]: </div>"
      ]
     },
     "metadata": {
      "application/vnd.databricks.v1+output": {
       "addedWidgets": {},
       "arguments": {},
       "data": "<div class=\"ansiout\">Out[49]: </div>",
       "datasetInfos": [],
       "metadata": {},
       "removedWidgets": [],
       "type": "html"
      }
     },
     "output_type": "display_data"
    },
    {
     "data": {
      "text/html": [
       "<div>\n",
       "<style scoped>\n",
       "    .dataframe tbody tr th:only-of-type {\n",
       "        vertical-align: middle;\n",
       "    }\n",
       "\n",
       "    .dataframe tbody tr th {\n",
       "        vertical-align: top;\n",
       "    }\n",
       "\n",
       "    .dataframe thead th {\n",
       "        text-align: right;\n",
       "    }\n",
       "</style>\n",
       "<table border=\"1\" class=\"dataframe\">\n",
       "  <thead>\n",
       "    <tr style=\"text-align: right;\">\n",
       "      <th></th>\n",
       "      <th>KROGER_DEPT</th>\n",
       "      <th>GS1_FAMILY/CLASS</th>\n",
       "      <th>MATCH_SCORE_preprocess_none</th>\n",
       "    </tr>\n",
       "  </thead>\n",
       "  <tbody>\n",
       "    <tr>\n",
       "      <th>0</th>\n",
       "      <td>BEER</td>\n",
       "      <td>Beverages/Alcoholic Beverages (Includes De-Alc...</td>\n",
       "      <td>47.031963</td>\n",
       "    </tr>\n",
       "    <tr>\n",
       "      <th>1</th>\n",
       "      <td>CKY/CRKR/SNK</td>\n",
       "      <td>Prepared/Preserved Foods/Snacks</td>\n",
       "      <td>46.831956</td>\n",
       "    </tr>\n",
       "    <tr>\n",
       "      <th>2</th>\n",
       "      <td>DAIRY</td>\n",
       "      <td>Milk/Butter/Cream/Yogurts/Cheese/Eggs/Substitu...</td>\n",
       "      <td>48.672566</td>\n",
       "    </tr>\n",
       "    <tr>\n",
       "      <th>3</th>\n",
       "      <td>DAIRY</td>\n",
       "      <td>Prepared/Preserved Foods/Dairy/Egg Based Produ...</td>\n",
       "      <td>46.853147</td>\n",
       "    </tr>\n",
       "    <tr>\n",
       "      <th>4</th>\n",
       "      <td>DAIRY</td>\n",
       "      <td>Prepared/Preserved Foods/Grain Based Products ...</td>\n",
       "      <td>45.112782</td>\n",
       "    </tr>\n",
       "    <tr>\n",
       "      <th>5</th>\n",
       "      <td>FROZEN GROCERY</td>\n",
       "      <td>Fruits/Vegetables Fresh Cut/Vegetables - Fresh...</td>\n",
       "      <td>47.462277</td>\n",
       "    </tr>\n",
       "    <tr>\n",
       "      <th>6</th>\n",
       "      <td>GROC NON-EDIBLE</td>\n",
       "      <td>Tobacco/Cannabis/Smoking Accessories/Cannabis ...</td>\n",
       "      <td>45.416667</td>\n",
       "    </tr>\n",
       "    <tr>\n",
       "      <th>7</th>\n",
       "      <td>SOFT DRINKS</td>\n",
       "      <td>Beverages/Beverages Variety Packs</td>\n",
       "      <td>46.017699</td>\n",
       "    </tr>\n",
       "  </tbody>\n",
       "</table>\n",
       "</div>"
      ]
     },
     "metadata": {
      "application/vnd.databricks.v1+output": {
       "addedWidgets": {},
       "arguments": {},
       "data": "<div>\n<style scoped>\n    .dataframe tbody tr th:only-of-type {\n        vertical-align: middle;\n    }\n\n    .dataframe tbody tr th {\n        vertical-align: top;\n    }\n\n    .dataframe thead th {\n        text-align: right;\n    }\n</style>\n<table border=\"1\" class=\"dataframe\">\n  <thead>\n    <tr style=\"text-align: right;\">\n      <th></th>\n      <th>KROGER_DEPT</th>\n      <th>GS1_FAMILY/CLASS</th>\n      <th>MATCH_SCORE_preprocess_none</th>\n    </tr>\n  </thead>\n  <tbody>\n    <tr>\n      <th>0</th>\n      <td>BEER</td>\n      <td>Beverages/Alcoholic Beverages (Includes De-Alc...</td>\n      <td>47.031963</td>\n    </tr>\n    <tr>\n      <th>1</th>\n      <td>CKY/CRKR/SNK</td>\n      <td>Prepared/Preserved Foods/Snacks</td>\n      <td>46.831956</td>\n    </tr>\n    <tr>\n      <th>2</th>\n      <td>DAIRY</td>\n      <td>Milk/Butter/Cream/Yogurts/Cheese/Eggs/Substitu...</td>\n      <td>48.672566</td>\n    </tr>\n    <tr>\n      <th>3</th>\n      <td>DAIRY</td>\n      <td>Prepared/Preserved Foods/Dairy/Egg Based Produ...</td>\n      <td>46.853147</td>\n    </tr>\n    <tr>\n      <th>4</th>\n      <td>DAIRY</td>\n      <td>Prepared/Preserved Foods/Grain Based Products ...</td>\n      <td>45.112782</td>\n    </tr>\n    <tr>\n      <th>5</th>\n      <td>FROZEN GROCERY</td>\n      <td>Fruits/Vegetables Fresh Cut/Vegetables - Fresh...</td>\n      <td>47.462277</td>\n    </tr>\n    <tr>\n      <th>6</th>\n      <td>GROC NON-EDIBLE</td>\n      <td>Tobacco/Cannabis/Smoking Accessories/Cannabis ...</td>\n      <td>45.416667</td>\n    </tr>\n    <tr>\n      <th>7</th>\n      <td>SOFT DRINKS</td>\n      <td>Beverages/Beverages Variety Packs</td>\n      <td>46.017699</td>\n    </tr>\n  </tbody>\n</table>\n</div>",
       "datasetInfos": [],
       "metadata": {},
       "removedWidgets": [],
       "textData": null,
       "type": "htmlSandbox"
      }
     },
     "output_type": "display_data"
    }
   ],
   "source": [
    "res.rename(columns={'MATCH_SCORE':'MATCH_SCORE_preprocess_none'})"
   ]
  },
  {
   "cell_type": "code",
   "execution_count": 0,
   "metadata": {
    "application/vnd.databricks.v1+cell": {
     "cellMetadata": {
      "byteLimit": 2048000,
      "rowLimit": 10000
     },
     "inputWidgets": {},
     "nuid": "7fb35d59-d646-4382-90de-98f0488c3262",
     "showTitle": false,
     "title": ""
    }
   },
   "outputs": [
    {
     "data": {
      "text/html": [
       "<style scoped>\n",
       "  .ansiout {\n",
       "    display: block;\n",
       "    unicode-bidi: embed;\n",
       "    white-space: pre-wrap;\n",
       "    word-wrap: break-word;\n",
       "    word-break: break-all;\n",
       "    font-family: \"Source Code Pro\", \"Menlo\", monospace;;\n",
       "    font-size: 13px;\n",
       "    color: #555;\n",
       "    margin-left: 4px;\n",
       "    line-height: 19px;\n",
       "  }\n",
       "</style>\n",
       "<div class=\"ansiout\"></div>"
      ]
     },
     "metadata": {
      "application/vnd.databricks.v1+output": {
       "addedWidgets": {},
       "arguments": {},
       "data": "<div class=\"ansiout\"></div>",
       "datasetInfos": [],
       "metadata": {},
       "removedWidgets": [],
       "type": "html"
      }
     },
     "output_type": "display_data"
    }
   ],
   "source": [
    "res_merge=  pd.merge(res, res_x,  how=\"outer\", on=[\"KROGER_DEPT\", \"GS1_FAMILY/CLASS\"])"
   ]
  },
  {
   "cell_type": "code",
   "execution_count": 0,
   "metadata": {
    "application/vnd.databricks.v1+cell": {
     "cellMetadata": {},
     "inputWidgets": {},
     "nuid": "426c3b07-e719-4f89-ae2f-c46354583e6d",
     "showTitle": false,
     "title": ""
    }
   },
   "outputs": [],
   "source": []
  },
  {
   "cell_type": "code",
   "execution_count": 0,
   "metadata": {
    "application/vnd.databricks.v1+cell": {
     "cellMetadata": {},
     "inputWidgets": {},
     "nuid": "fb29282e-b8d7-476b-9635-db5365c47498",
     "showTitle": false,
     "title": ""
    }
   },
   "outputs": [],
   "source": []
  },
  {
   "cell_type": "code",
   "execution_count": 0,
   "metadata": {
    "application/vnd.databricks.v1+cell": {
     "cellMetadata": {},
     "inputWidgets": {},
     "nuid": "60d6ad4a-36aa-4782-bcc9-7873ce0c05e9",
     "showTitle": false,
     "title": ""
    }
   },
   "outputs": [],
   "source": []
  },
  {
   "cell_type": "code",
   "execution_count": 0,
   "metadata": {
    "application/vnd.databricks.v1+cell": {
     "cellMetadata": {},
     "inputWidgets": {},
     "nuid": "41c36a9f-3730-4739-9edd-02bd57d5fb4a",
     "showTitle": false,
     "title": ""
    }
   },
   "outputs": [],
   "source": []
  },
  {
   "cell_type": "code",
   "execution_count": 0,
   "metadata": {
    "application/vnd.databricks.v1+cell": {
     "cellMetadata": {},
     "inputWidgets": {},
     "nuid": "20b2765c-37f8-4abe-b3b8-33283c69c24e",
     "showTitle": false,
     "title": ""
    }
   },
   "outputs": [],
   "source": []
  },
  {
   "cell_type": "code",
   "execution_count": 0,
   "metadata": {
    "application/vnd.databricks.v1+cell": {
     "cellMetadata": {},
     "inputWidgets": {},
     "nuid": "3661c9d5-f091-496a-8a2e-212818454b16",
     "showTitle": false,
     "title": ""
    }
   },
   "outputs": [],
   "source": []
  },
  {
   "cell_type": "code",
   "execution_count": 0,
   "metadata": {
    "application/vnd.databricks.v1+cell": {
     "cellMetadata": {},
     "inputWidgets": {},
     "nuid": "ab6498b0-8707-40f4-98d2-ef028bec0239",
     "showTitle": false,
     "title": ""
    }
   },
   "outputs": [],
   "source": []
  },
  {
   "cell_type": "code",
   "execution_count": 0,
   "metadata": {
    "application/vnd.databricks.v1+cell": {
     "cellMetadata": {},
     "inputWidgets": {},
     "nuid": "fab64fac-90c3-42d8-b741-1f38f8a850f8",
     "showTitle": false,
     "title": ""
    }
   },
   "outputs": [],
   "source": []
  },
  {
   "cell_type": "code",
   "execution_count": 0,
   "metadata": {
    "application/vnd.databricks.v1+cell": {
     "cellMetadata": {},
     "inputWidgets": {},
     "nuid": "ff6467bc-173a-42c4-87f4-aa3ced80acdf",
     "showTitle": false,
     "title": ""
    }
   },
   "outputs": [],
   "source": []
  },
  {
   "cell_type": "code",
   "execution_count": 0,
   "metadata": {
    "application/vnd.databricks.v1+cell": {
     "cellMetadata": {
      "byteLimit": 2048000,
      "rowLimit": 10000
     },
     "inputWidgets": {},
     "nuid": "54a60015-e2df-4323-8c82-1c00bf59697e",
     "showTitle": false,
     "title": ""
    }
   },
   "outputs": [
    {
     "data": {
      "text/html": [
       "<style scoped>\n",
       "  .ansiout {\n",
       "    display: block;\n",
       "    unicode-bidi: embed;\n",
       "    white-space: pre-wrap;\n",
       "    word-wrap: break-word;\n",
       "    word-break: break-all;\n",
       "    font-family: \"Source Code Pro\", \"Menlo\", monospace;;\n",
       "    font-size: 13px;\n",
       "    color: #555;\n",
       "    margin-left: 4px;\n",
       "    line-height: 19px;\n",
       "  }\n",
       "</style>\n",
       "<div class=\"ansiout\">Out[58]: </div>"
      ]
     },
     "metadata": {
      "application/vnd.databricks.v1+output": {
       "addedWidgets": {},
       "arguments": {},
       "data": "<div class=\"ansiout\">Out[58]: </div>",
       "datasetInfos": [],
       "metadata": {},
       "removedWidgets": [],
       "type": "html"
      }
     },
     "output_type": "display_data"
    },
    {
     "data": {
      "text/html": [
       "<div>\n",
       "<style scoped>\n",
       "    .dataframe tbody tr th:only-of-type {\n",
       "        vertical-align: middle;\n",
       "    }\n",
       "\n",
       "    .dataframe tbody tr th {\n",
       "        vertical-align: top;\n",
       "    }\n",
       "\n",
       "    .dataframe thead th {\n",
       "        text-align: right;\n",
       "    }\n",
       "</style>\n",
       "<table border=\"1\" class=\"dataframe\">\n",
       "  <thead>\n",
       "    <tr style=\"text-align: right;\">\n",
       "      <th></th>\n",
       "      <th>KROGER_DEPT</th>\n",
       "      <th>GS1_FAMILY/CLASS</th>\n",
       "      <th>MATCH_SCORE_x</th>\n",
       "      <th>MATCH_SCORE_y</th>\n",
       "    </tr>\n",
       "  </thead>\n",
       "  <tbody>\n",
       "    <tr>\n",
       "      <th>0</th>\n",
       "      <td>BEER</td>\n",
       "      <td>Beverages/Alcoholic Beverages (Includes De-Alc...</td>\n",
       "      <td>47.0320</td>\n",
       "      <td>51.5625</td>\n",
       "    </tr>\n",
       "    <tr>\n",
       "      <th>1</th>\n",
       "      <td>CKY/CRKR/SNK</td>\n",
       "      <td>Prepared/Preserved Foods/Snacks</td>\n",
       "      <td>46.8320</td>\n",
       "      <td>48.6957</td>\n",
       "    </tr>\n",
       "    <tr>\n",
       "      <th>2</th>\n",
       "      <td>DAIRY</td>\n",
       "      <td>Milk/Butter/Cream/Yogurts/Cheese/Eggs/Substitu...</td>\n",
       "      <td>48.6726</td>\n",
       "      <td>60.3015</td>\n",
       "    </tr>\n",
       "    <tr>\n",
       "      <th>3</th>\n",
       "      <td>DAIRY</td>\n",
       "      <td>Prepared/Preserved Foods/Dairy/Egg Based Produ...</td>\n",
       "      <td>46.8531</td>\n",
       "      <td>52.6749</td>\n",
       "    </tr>\n",
       "    <tr>\n",
       "      <th>4</th>\n",
       "      <td>DAIRY</td>\n",
       "      <td>Prepared/Preserved Foods/Grain Based Products ...</td>\n",
       "      <td>45.1128</td>\n",
       "      <td>46.4730</td>\n",
       "    </tr>\n",
       "    <tr>\n",
       "      <th>5</th>\n",
       "      <td>FROZEN GROCERY</td>\n",
       "      <td>Fruits/Vegetables Fresh Cut/Vegetables - Fresh...</td>\n",
       "      <td>47.4623</td>\n",
       "      <td>50.1475</td>\n",
       "    </tr>\n",
       "    <tr>\n",
       "      <th>6</th>\n",
       "      <td>GROC NON-EDIBLE</td>\n",
       "      <td>Tobacco/Cannabis/Smoking Accessories/Cannabis ...</td>\n",
       "      <td>45.4167</td>\n",
       "      <td>47.0320</td>\n",
       "    </tr>\n",
       "    <tr>\n",
       "      <th>7</th>\n",
       "      <td>SOFT DRINKS</td>\n",
       "      <td>Beverages/Beverages Variety Packs</td>\n",
       "      <td>46.0177</td>\n",
       "      <td>NaN</td>\n",
       "    </tr>\n",
       "    <tr>\n",
       "      <th>8</th>\n",
       "      <td>BEER</td>\n",
       "      <td>Beverages/Beverages Variety Packs</td>\n",
       "      <td>NaN</td>\n",
       "      <td>56.2500</td>\n",
       "    </tr>\n",
       "    <tr>\n",
       "      <th>9</th>\n",
       "      <td>BEER</td>\n",
       "      <td>Beverages/Non Alcoholic Beverages - Not Ready ...</td>\n",
       "      <td>NaN</td>\n",
       "      <td>49.2669</td>\n",
       "    </tr>\n",
       "    <tr>\n",
       "      <th>10</th>\n",
       "      <td>BEER</td>\n",
       "      <td>Beverages/Non Alcoholic Beverages - Ready to D...</td>\n",
       "      <td>NaN</td>\n",
       "      <td>47.2222</td>\n",
       "    </tr>\n",
       "    <tr>\n",
       "      <th>11</th>\n",
       "      <td>BEER</td>\n",
       "      <td>Vegetables (Non Leaf) - Unprepared/Unprocessed...</td>\n",
       "      <td>NaN</td>\n",
       "      <td>45.7516</td>\n",
       "    </tr>\n",
       "    <tr>\n",
       "      <th>12</th>\n",
       "      <td>BEER</td>\n",
       "      <td>Beverages/Tea and Infusions/Tisanes</td>\n",
       "      <td>NaN</td>\n",
       "      <td>45.2381</td>\n",
       "    </tr>\n",
       "    <tr>\n",
       "      <th>13</th>\n",
       "      <td>CKY/CRKR/SNK</td>\n",
       "      <td>Seasonings/Preservatives/Extracts/Herbs/Spices...</td>\n",
       "      <td>NaN</td>\n",
       "      <td>47.7064</td>\n",
       "    </tr>\n",
       "    <tr>\n",
       "      <th>14</th>\n",
       "      <td>COMMERCIAL BKY</td>\n",
       "      <td>Bread/Bakery Products/Bread</td>\n",
       "      <td>NaN</td>\n",
       "      <td>50.8475</td>\n",
       "    </tr>\n",
       "    <tr>\n",
       "      <th>15</th>\n",
       "      <td>COMMERCIAL BKY</td>\n",
       "      <td>Bread/Bakery Products/Baking/Cooking Mixes/Sup...</td>\n",
       "      <td>NaN</td>\n",
       "      <td>48.1481</td>\n",
       "    </tr>\n",
       "    <tr>\n",
       "      <th>16</th>\n",
       "      <td>COMMERCIAL BKY</td>\n",
       "      <td>Bread/Bakery Products/Sweet Bakery Products</td>\n",
       "      <td>NaN</td>\n",
       "      <td>48.1013</td>\n",
       "    </tr>\n",
       "    <tr>\n",
       "      <th>17</th>\n",
       "      <td>COMMERCIAL BKY</td>\n",
       "      <td>Bread/Bakery Products/Biscuits/Cookies</td>\n",
       "      <td>NaN</td>\n",
       "      <td>46.9136</td>\n",
       "    </tr>\n",
       "    <tr>\n",
       "      <th>18</th>\n",
       "      <td>COMMERCIAL BKY</td>\n",
       "      <td>Bread/Bakery Products/Savoury Bakery Products</td>\n",
       "      <td>NaN</td>\n",
       "      <td>45.1613</td>\n",
       "    </tr>\n",
       "    <tr>\n",
       "      <th>19</th>\n",
       "      <td>DAIRY</td>\n",
       "      <td>Milk/Butter/Cream/Yogurts/Cheese/Eggs/Substitu...</td>\n",
       "      <td>NaN</td>\n",
       "      <td>54.7009</td>\n",
       "    </tr>\n",
       "    <tr>\n",
       "      <th>20</th>\n",
       "      <td>DAIRY</td>\n",
       "      <td>Milk/Butter/Cream/Yogurts/Cheese/Eggs/Substitu...</td>\n",
       "      <td>NaN</td>\n",
       "      <td>54.4643</td>\n",
       "    </tr>\n",
       "    <tr>\n",
       "      <th>21</th>\n",
       "      <td>DAIRY</td>\n",
       "      <td>Milk/Butter/Cream/Yogurts/Cheese/Eggs/Substitu...</td>\n",
       "      <td>NaN</td>\n",
       "      <td>54.1485</td>\n",
       "    </tr>\n",
       "    <tr>\n",
       "      <th>22</th>\n",
       "      <td>DAIRY</td>\n",
       "      <td>Milk/Butter/Cream/Yogurts/Cheese/Eggs/Substitu...</td>\n",
       "      <td>NaN</td>\n",
       "      <td>51.2077</td>\n",
       "    </tr>\n",
       "    <tr>\n",
       "      <th>23</th>\n",
       "      <td>DAIRY</td>\n",
       "      <td>Milk/Butter/Cream/Yogurts/Cheese/Eggs/Substitu...</td>\n",
       "      <td>NaN</td>\n",
       "      <td>51.1848</td>\n",
       "    </tr>\n",
       "    <tr>\n",
       "      <th>24</th>\n",
       "      <td>DAIRY</td>\n",
       "      <td>Milk/Butter/Cream/Yogurts/Cheese/Eggs/Substitu...</td>\n",
       "      <td>NaN</td>\n",
       "      <td>50.0000</td>\n",
       "    </tr>\n",
       "    <tr>\n",
       "      <th>25</th>\n",
       "      <td>DAIRY</td>\n",
       "      <td>Milk/Butter/Cream/Yogurts/Cheese/Eggs/Substitu...</td>\n",
       "      <td>NaN</td>\n",
       "      <td>50.0000</td>\n",
       "    </tr>\n",
       "    <tr>\n",
       "      <th>26</th>\n",
       "      <td>DAIRY</td>\n",
       "      <td>Cereal/Grain/Pulse Products/Processed Cereal P...</td>\n",
       "      <td>NaN</td>\n",
       "      <td>49.3927</td>\n",
       "    </tr>\n",
       "    <tr>\n",
       "      <th>27</th>\n",
       "      <td>DAIRY</td>\n",
       "      <td>Milk/Butter/Cream/Yogurts/Cheese/Eggs/Substitu...</td>\n",
       "      <td>NaN</td>\n",
       "      <td>49.1803</td>\n",
       "    </tr>\n",
       "    <tr>\n",
       "      <th>28</th>\n",
       "      <td>DAIRY</td>\n",
       "      <td>Beverages/Coffee/Coffee Substitutes</td>\n",
       "      <td>NaN</td>\n",
       "      <td>47.6190</td>\n",
       "    </tr>\n",
       "    <tr>\n",
       "      <th>29</th>\n",
       "      <td>DAIRY</td>\n",
       "      <td>Cereal/Grain/Pulse Products/Grains/Flour</td>\n",
       "      <td>NaN</td>\n",
       "      <td>46.8468</td>\n",
       "    </tr>\n",
       "    <tr>\n",
       "      <th>30</th>\n",
       "      <td>DAIRY</td>\n",
       "      <td>Beverages/Tea and Infusions/Tisanes</td>\n",
       "      <td>NaN</td>\n",
       "      <td>46.6960</td>\n",
       "    </tr>\n",
       "    <tr>\n",
       "      <th>31</th>\n",
       "      <td>DAIRY</td>\n",
       "      <td>Prepared/Preserved Foods/Dough Based Products ...</td>\n",
       "      <td>NaN</td>\n",
       "      <td>45.6432</td>\n",
       "    </tr>\n",
       "    <tr>\n",
       "      <th>32</th>\n",
       "      <td>DAIRY</td>\n",
       "      <td>Beverages/Non Alcoholic Beverages - Not Ready ...</td>\n",
       "      <td>NaN</td>\n",
       "      <td>45.5696</td>\n",
       "    </tr>\n",
       "    <tr>\n",
       "      <th>33</th>\n",
       "      <td>DAIRY</td>\n",
       "      <td>Prepared/Preserved Foods/Vegetable Based Produ...</td>\n",
       "      <td>NaN</td>\n",
       "      <td>45.5696</td>\n",
       "    </tr>\n",
       "    <tr>\n",
       "      <th>34</th>\n",
       "      <td>END OF ORD COUP</td>\n",
       "      <td>Fruits - Unprepared/Unprocessed (Fresh)/Miscel...</td>\n",
       "      <td>NaN</td>\n",
       "      <td>47.2727</td>\n",
       "    </tr>\n",
       "    <tr>\n",
       "      <th>35</th>\n",
       "      <td>FROZEN GROCERY</td>\n",
       "      <td>Prepared/Preserved Foods/Desserts/Dessert Sauc...</td>\n",
       "      <td>NaN</td>\n",
       "      <td>55.2486</td>\n",
       "    </tr>\n",
       "    <tr>\n",
       "      <th>36</th>\n",
       "      <td>FROZEN GROCERY</td>\n",
       "      <td>Prepared/Preserved Foods/Prepared/Preserved Fo...</td>\n",
       "      <td>NaN</td>\n",
       "      <td>53.8462</td>\n",
       "    </tr>\n",
       "    <tr>\n",
       "      <th>37</th>\n",
       "      <td>FROZEN GROCERY</td>\n",
       "      <td>Fish and Seafood/Fish - Prepared/Processed</td>\n",
       "      <td>NaN</td>\n",
       "      <td>51.6854</td>\n",
       "    </tr>\n",
       "    <tr>\n",
       "      <th>38</th>\n",
       "      <td>FROZEN GROCERY</td>\n",
       "      <td>Prepared/Preserved Foods/Vegetable Based Produ...</td>\n",
       "      <td>NaN</td>\n",
       "      <td>48.0519</td>\n",
       "    </tr>\n",
       "    <tr>\n",
       "      <th>39</th>\n",
       "      <td>FROZEN GROCERY</td>\n",
       "      <td>Meat/Poultry/Other Animals/Meat/Poultry/Other ...</td>\n",
       "      <td>NaN</td>\n",
       "      <td>47.7612</td>\n",
       "    </tr>\n",
       "    <tr>\n",
       "      <th>40</th>\n",
       "      <td>FROZEN GROCERY</td>\n",
       "      <td>Beverages/Non Alcoholic Beverages - Ready to D...</td>\n",
       "      <td>NaN</td>\n",
       "      <td>47.6015</td>\n",
       "    </tr>\n",
       "    <tr>\n",
       "      <th>41</th>\n",
       "      <td>FROZEN GROCERY</td>\n",
       "      <td>Tobacco/Cannabis/Smoking Accessories/Cannabis ...</td>\n",
       "      <td>NaN</td>\n",
       "      <td>47.4623</td>\n",
       "    </tr>\n",
       "    <tr>\n",
       "      <th>42</th>\n",
       "      <td>FROZEN GROCERY</td>\n",
       "      <td>Fruits - Unprepared/Unprocessed (Frozen)/Fruit...</td>\n",
       "      <td>NaN</td>\n",
       "      <td>47.2727</td>\n",
       "    </tr>\n",
       "    <tr>\n",
       "      <th>43</th>\n",
       "      <td>FROZEN GROCERY</td>\n",
       "      <td>Fruits - Unprepared/Unprocessed (Fresh)/Miscel...</td>\n",
       "      <td>NaN</td>\n",
       "      <td>46.8227</td>\n",
       "    </tr>\n",
       "    <tr>\n",
       "      <th>44</th>\n",
       "      <td>FROZEN GROCERY</td>\n",
       "      <td>Fish and Seafood/Shellfish Prepared/Processed</td>\n",
       "      <td>NaN</td>\n",
       "      <td>46.4646</td>\n",
       "    </tr>\n",
       "    <tr>\n",
       "      <th>45</th>\n",
       "      <td>FROZEN GROCERY</td>\n",
       "      <td>Beverages/Non Alcoholic Beverages - Not Ready ...</td>\n",
       "      <td>NaN</td>\n",
       "      <td>46.2715</td>\n",
       "    </tr>\n",
       "    <tr>\n",
       "      <th>46</th>\n",
       "      <td>FROZEN GROCERY</td>\n",
       "      <td>Vegetables (Non Leaf) - Unprepared/Unprocessed...</td>\n",
       "      <td>NaN</td>\n",
       "      <td>45.8278</td>\n",
       "    </tr>\n",
       "    <tr>\n",
       "      <th>47</th>\n",
       "      <td>FROZEN GROCERY</td>\n",
       "      <td>Meat/Poultry/Other Animals/Meat/Poultry/Other ...</td>\n",
       "      <td>NaN</td>\n",
       "      <td>45.1039</td>\n",
       "    </tr>\n",
       "    <tr>\n",
       "      <th>48</th>\n",
       "      <td>GROC-ALL OTHER</td>\n",
       "      <td>Bread/Bakery Products/Bread</td>\n",
       "      <td>NaN</td>\n",
       "      <td>68.3544</td>\n",
       "    </tr>\n",
       "    <tr>\n",
       "      <th>49</th>\n",
       "      <td>GROC-ALL OTHER</td>\n",
       "      <td>Vegetables - Unprepared/Unprocessed (Shelf Sta...</td>\n",
       "      <td>NaN</td>\n",
       "      <td>66.6667</td>\n",
       "    </tr>\n",
       "    <tr>\n",
       "      <th>50</th>\n",
       "      <td>GROC-ALL OTHER</td>\n",
       "      <td>Bread/Bakery Products/Baking/Cooking Mixes/Sup...</td>\n",
       "      <td>NaN</td>\n",
       "      <td>66.6667</td>\n",
       "    </tr>\n",
       "    <tr>\n",
       "      <th>51</th>\n",
       "      <td>GROC-ALL OTHER</td>\n",
       "      <td>Cereal/Grain/Pulse Products/Grains/Flour</td>\n",
       "      <td>NaN</td>\n",
       "      <td>59.3103</td>\n",
       "    </tr>\n",
       "    <tr>\n",
       "      <th>52</th>\n",
       "      <td>GROC-ALL OTHER</td>\n",
       "      <td>Prepared/Preserved Foods/Pasta/Noodles</td>\n",
       "      <td>NaN</td>\n",
       "      <td>58.1560</td>\n",
       "    </tr>\n",
       "    <tr>\n",
       "      <th>53</th>\n",
       "      <td>GROC-ALL OTHER</td>\n",
       "      <td>Bread/Bakery Products/Bread/Bakery Products Va...</td>\n",
       "      <td>NaN</td>\n",
       "      <td>57.1429</td>\n",
       "    </tr>\n",
       "    <tr>\n",
       "      <th>54</th>\n",
       "      <td>GROC-ALL OTHER</td>\n",
       "      <td>Prepared/Preserved Foods/Dairy/Egg Based Produ...</td>\n",
       "      <td>NaN</td>\n",
       "      <td>56.1404</td>\n",
       "    </tr>\n",
       "    <tr>\n",
       "      <th>55</th>\n",
       "      <td>GROC-ALL OTHER</td>\n",
       "      <td>Fruits - Unprepared/Unprocessed (Shelf Stable)...</td>\n",
       "      <td>NaN</td>\n",
       "      <td>54.5455</td>\n",
       "    </tr>\n",
       "    <tr>\n",
       "      <th>56</th>\n",
       "      <td>GROC-ALL OTHER</td>\n",
       "      <td>Fish and Seafood/Seafood Variety Packs</td>\n",
       "      <td>NaN</td>\n",
       "      <td>53.6585</td>\n",
       "    </tr>\n",
       "    <tr>\n",
       "      <th>57</th>\n",
       "      <td>GROC-ALL OTHER</td>\n",
       "      <td>Cereal/Grain/Pulse Products/Cereal/Grain/Pulse...</td>\n",
       "      <td>NaN</td>\n",
       "      <td>53.5714</td>\n",
       "    </tr>\n",
       "    <tr>\n",
       "      <th>58</th>\n",
       "      <td>GROC-ALL OTHER</td>\n",
       "      <td>Fish and Seafood/Fish - Prepared/Processed</td>\n",
       "      <td>NaN</td>\n",
       "      <td>53.3333</td>\n",
       "    </tr>\n",
       "    <tr>\n",
       "      <th>59</th>\n",
       "      <td>GROC-ALL OTHER</td>\n",
       "      <td>Prepared/Preserved Foods/Vegetable Based Produ...</td>\n",
       "      <td>NaN</td>\n",
       "      <td>52.8302</td>\n",
       "    </tr>\n",
       "    <tr>\n",
       "      <th>60</th>\n",
       "      <td>GROC-ALL OTHER</td>\n",
       "      <td>Fruits/Vegetables/Nuts/Seeds Prepared/Processe...</td>\n",
       "      <td>NaN</td>\n",
       "      <td>52.6316</td>\n",
       "    </tr>\n",
       "    <tr>\n",
       "      <th>61</th>\n",
       "      <td>GROC-ALL OTHER</td>\n",
       "      <td>Prepared/Preserved Foods/Grain Based Products ...</td>\n",
       "      <td>NaN</td>\n",
       "      <td>51.5337</td>\n",
       "    </tr>\n",
       "    <tr>\n",
       "      <th>62</th>\n",
       "      <td>GROC-ALL OTHER</td>\n",
       "      <td>Prepared/Preserved Foods/Dough Based Products ...</td>\n",
       "      <td>NaN</td>\n",
       "      <td>51.5337</td>\n",
       "    </tr>\n",
       "    <tr>\n",
       "      <th>63</th>\n",
       "      <td>GROC-ALL OTHER</td>\n",
       "      <td>Fruits/Vegetables/Nuts/Seeds Prepared/Processe...</td>\n",
       "      <td>NaN</td>\n",
       "      <td>51.3274</td>\n",
       "    </tr>\n",
       "    <tr>\n",
       "      <th>64</th>\n",
       "      <td>GROC-ALL OTHER</td>\n",
       "      <td>Beverages/Non Alcoholic Beverages - Ready to D...</td>\n",
       "      <td>NaN</td>\n",
       "      <td>51.2111</td>\n",
       "    </tr>\n",
       "    <tr>\n",
       "      <th>65</th>\n",
       "      <td>GROC-ALL OTHER</td>\n",
       "      <td>Bread/Bakery Products/Biscuits/Cookies</td>\n",
       "      <td>NaN</td>\n",
       "      <td>51.1628</td>\n",
       "    </tr>\n",
       "    <tr>\n",
       "      <th>66</th>\n",
       "      <td>GROC-ALL OTHER</td>\n",
       "      <td>Fish and Seafood/Fish - Unprepared/Unprocessed</td>\n",
       "      <td>NaN</td>\n",
       "      <td>51.0638</td>\n",
       "    </tr>\n",
       "    <tr>\n",
       "      <th>67</th>\n",
       "      <td>GROC-ALL OTHER</td>\n",
       "      <td>Cereal/Grain/Pulse Products/Processed Cereal P...</td>\n",
       "      <td>NaN</td>\n",
       "      <td>49.7041</td>\n",
       "    </tr>\n",
       "    <tr>\n",
       "      <th>68</th>\n",
       "      <td>GROC-ALL OTHER</td>\n",
       "      <td>Prepared/Preserved Foods/Desserts/Dessert Sauc...</td>\n",
       "      <td>NaN</td>\n",
       "      <td>49.4253</td>\n",
       "    </tr>\n",
       "    <tr>\n",
       "      <th>69</th>\n",
       "      <td>GROC-ALL OTHER</td>\n",
       "      <td>Prepared/Preserved Foods/Prepared Soups</td>\n",
       "      <td>NaN</td>\n",
       "      <td>48.7395</td>\n",
       "    </tr>\n",
       "    <tr>\n",
       "      <th>70</th>\n",
       "      <td>GROC-ALL OTHER</td>\n",
       "      <td>Seasonings/Preservatives/Extracts/Sauces/Sprea...</td>\n",
       "      <td>NaN</td>\n",
       "      <td>48.5804</td>\n",
       "    </tr>\n",
       "    <tr>\n",
       "      <th>71</th>\n",
       "      <td>GROC-ALL OTHER</td>\n",
       "      <td>Prepared/Preserved Foods/Sweet Spreads</td>\n",
       "      <td>NaN</td>\n",
       "      <td>48.0447</td>\n",
       "    </tr>\n",
       "    <tr>\n",
       "      <th>72</th>\n",
       "      <td>GROC-ALL OTHER</td>\n",
       "      <td>Fish and Seafood/Shellfish Prepared/Processed</td>\n",
       "      <td>NaN</td>\n",
       "      <td>48.0000</td>\n",
       "    </tr>\n",
       "    <tr>\n",
       "      <th>73</th>\n",
       "      <td>GROC-ALL OTHER</td>\n",
       "      <td>Seasonings/Preservatives/Extracts/Vinegars/Coo...</td>\n",
       "      <td>NaN</td>\n",
       "      <td>47.8261</td>\n",
       "    </tr>\n",
       "    <tr>\n",
       "      <th>74</th>\n",
       "      <td>GROC-ALL OTHER</td>\n",
       "      <td>Confectionery/Sugar Sweetening Products/Sugars...</td>\n",
       "      <td>NaN</td>\n",
       "      <td>47.4359</td>\n",
       "    </tr>\n",
       "    <tr>\n",
       "      <th>75</th>\n",
       "      <td>GROC-ALL OTHER</td>\n",
       "      <td>Bread/Bakery Products/Savoury Bakery Products</td>\n",
       "      <td>NaN</td>\n",
       "      <td>46.5517</td>\n",
       "    </tr>\n",
       "    <tr>\n",
       "      <th>76</th>\n",
       "      <td>GROC-ALL OTHER</td>\n",
       "      <td>Prepared/Preserved Foods/Ready-Made Combinatio...</td>\n",
       "      <td>NaN</td>\n",
       "      <td>46.4789</td>\n",
       "    </tr>\n",
       "    <tr>\n",
       "      <th>77</th>\n",
       "      <td>GROC-ALL OTHER</td>\n",
       "      <td>Beverages/Non Alcoholic Beverages - Not Ready ...</td>\n",
       "      <td>NaN</td>\n",
       "      <td>46.2745</td>\n",
       "    </tr>\n",
       "    <tr>\n",
       "      <th>78</th>\n",
       "      <td>GROC-ALL OTHER</td>\n",
       "      <td>Milk/Butter/Cream/Yogurts/Cheese/Eggs/Substitu...</td>\n",
       "      <td>NaN</td>\n",
       "      <td>46.1538</td>\n",
       "    </tr>\n",
       "    <tr>\n",
       "      <th>79</th>\n",
       "      <td>GROC-ALL OTHER</td>\n",
       "      <td>Seasonings/Preservatives/Extracts/Pickles/Reli...</td>\n",
       "      <td>NaN</td>\n",
       "      <td>46.1538</td>\n",
       "    </tr>\n",
       "    <tr>\n",
       "      <th>80</th>\n",
       "      <td>GROC-ALL OTHER</td>\n",
       "      <td>Fish and Seafood/Shellfish Unprepared/Unprocessed</td>\n",
       "      <td>NaN</td>\n",
       "      <td>46.1538</td>\n",
       "    </tr>\n",
       "    <tr>\n",
       "      <th>81</th>\n",
       "      <td>GROC-ALL OTHER</td>\n",
       "      <td>Milk/Butter/Cream/Yogurts/Cheese/Eggs/Substitu...</td>\n",
       "      <td>NaN</td>\n",
       "      <td>46.1538</td>\n",
       "    </tr>\n",
       "    <tr>\n",
       "      <th>82</th>\n",
       "      <td>GROC-ALL OTHER</td>\n",
       "      <td>Fish and Seafood/Aquatic Plants Prepared/Proce...</td>\n",
       "      <td>NaN</td>\n",
       "      <td>45.7143</td>\n",
       "    </tr>\n",
       "    <tr>\n",
       "      <th>83</th>\n",
       "      <td>GROC-ALL OTHER</td>\n",
       "      <td>Fruits/Vegetables/Nuts/Seeds Prepared/Processe...</td>\n",
       "      <td>NaN</td>\n",
       "      <td>45.5446</td>\n",
       "    </tr>\n",
       "    <tr>\n",
       "      <th>84</th>\n",
       "      <td>GROC-ALL OTHER</td>\n",
       "      <td>Bread/Bakery Products/Sweet Bakery Products</td>\n",
       "      <td>NaN</td>\n",
       "      <td>45.3782</td>\n",
       "    </tr>\n",
       "    <tr>\n",
       "      <th>85</th>\n",
       "      <td>NATURAL FOODS</td>\n",
       "      <td>Bread/Bakery Products/Bread</td>\n",
       "      <td>NaN</td>\n",
       "      <td>79.0698</td>\n",
       "    </tr>\n",
       "    <tr>\n",
       "      <th>86</th>\n",
       "      <td>NATURAL FOODS</td>\n",
       "      <td>Milk/Butter/Cream/Yogurts/Cheese/Eggs/Substitu...</td>\n",
       "      <td>NaN</td>\n",
       "      <td>78.3217</td>\n",
       "    </tr>\n",
       "    <tr>\n",
       "      <th>87</th>\n",
       "      <td>NATURAL FOODS</td>\n",
       "      <td>Milk/Butter/Cream/Yogurts/Cheese/Eggs/Substitu...</td>\n",
       "      <td>NaN</td>\n",
       "      <td>75.9690</td>\n",
       "    </tr>\n",
       "    <tr>\n",
       "      <th>88</th>\n",
       "      <td>NATURAL FOODS</td>\n",
       "      <td>Milk/Butter/Cream/Yogurts/Cheese/Eggs/Substitu...</td>\n",
       "      <td>NaN</td>\n",
       "      <td>75.9690</td>\n",
       "    </tr>\n",
       "    <tr>\n",
       "      <th>89</th>\n",
       "      <td>NATURAL FOODS</td>\n",
       "      <td>Fish and Seafood/Fish - Prepared/Processed</td>\n",
       "      <td>NaN</td>\n",
       "      <td>75.4717</td>\n",
       "    </tr>\n",
       "    <tr>\n",
       "      <th>90</th>\n",
       "      <td>NATURAL FOODS</td>\n",
       "      <td>Milk/Butter/Cream/Yogurts/Cheese/Eggs/Substitu...</td>\n",
       "      <td>NaN</td>\n",
       "      <td>74.6032</td>\n",
       "    </tr>\n",
       "    <tr>\n",
       "      <th>91</th>\n",
       "      <td>NATURAL FOODS</td>\n",
       "      <td>Bread/Bakery Products/Baking/Cooking Mixes/Sup...</td>\n",
       "      <td>NaN</td>\n",
       "      <td>72.8477</td>\n",
       "    </tr>\n",
       "    <tr>\n",
       "      <th>92</th>\n",
       "      <td>NATURAL FOODS</td>\n",
       "      <td>Prepared/Preserved Foods/Pasta/Noodles</td>\n",
       "      <td>NaN</td>\n",
       "      <td>72.6115</td>\n",
       "    </tr>\n",
       "    <tr>\n",
       "      <th>93</th>\n",
       "      <td>NATURAL FOODS</td>\n",
       "      <td>Prepared/Preserved Foods/Dairy/Egg Based Produ...</td>\n",
       "      <td>NaN</td>\n",
       "      <td>72.5389</td>\n",
       "    </tr>\n",
       "    <tr>\n",
       "      <th>94</th>\n",
       "      <td>NATURAL FOODS</td>\n",
       "      <td>Cereal/Grain/Pulse Products/Grains/Flour</td>\n",
       "      <td>NaN</td>\n",
       "      <td>70.8861</td>\n",
       "    </tr>\n",
       "    <tr>\n",
       "      <th>95</th>\n",
       "      <td>NATURAL FOODS</td>\n",
       "      <td>Prepared/Preserved Foods/Desserts/Dessert Sauc...</td>\n",
       "      <td>NaN</td>\n",
       "      <td>70.2970</td>\n",
       "    </tr>\n",
       "    <tr>\n",
       "      <th>96</th>\n",
       "      <td>NATURAL FOODS</td>\n",
       "      <td>Milk/Butter/Cream/Yogurts/Cheese/Eggs/Substitu...</td>\n",
       "      <td>NaN</td>\n",
       "      <td>70.0000</td>\n",
       "    </tr>\n",
       "    <tr>\n",
       "      <th>97</th>\n",
       "      <td>NATURAL FOODS</td>\n",
       "      <td>Fruits/Vegetables/Nuts/Seeds Prepared/Processe...</td>\n",
       "      <td>NaN</td>\n",
       "      <td>69.7674</td>\n",
       "    </tr>\n",
       "    <tr>\n",
       "      <th>98</th>\n",
       "      <td>NATURAL FOODS</td>\n",
       "      <td>Prepared/Preserved Foods/Dough Based Products ...</td>\n",
       "      <td>NaN</td>\n",
       "      <td>69.1892</td>\n",
       "    </tr>\n",
       "    <tr>\n",
       "      <th>99</th>\n",
       "      <td>NATURAL FOODS</td>\n",
       "      <td>Prepared/Preserved Foods/Grain Based Products ...</td>\n",
       "      <td>NaN</td>\n",
       "      <td>69.1892</td>\n",
       "    </tr>\n",
       "    <tr>\n",
       "      <th>100</th>\n",
       "      <td>NATURAL FOODS</td>\n",
       "      <td>Fish and Seafood/Shellfish Prepared/Processed</td>\n",
       "      <td>NaN</td>\n",
       "      <td>68.9655</td>\n",
       "    </tr>\n",
       "    <tr>\n",
       "      <th>101</th>\n",
       "      <td>NATURAL FOODS</td>\n",
       "      <td>Cereal/Grain/Pulse Products/Cereal/Grain/Pulse...</td>\n",
       "      <td>NaN</td>\n",
       "      <td>67.7419</td>\n",
       "    </tr>\n",
       "    <tr>\n",
       "      <th>102</th>\n",
       "      <td>NATURAL FOODS</td>\n",
       "      <td>Vegetables - Unprepared/Unprocessed (Shelf Sta...</td>\n",
       "      <td>NaN</td>\n",
       "      <td>66.6667</td>\n",
       "    </tr>\n",
       "    <tr>\n",
       "      <th>103</th>\n",
       "      <td>NATURAL FOODS</td>\n",
       "      <td>Fruits/Vegetables/Nuts/Seeds Prepared/Processe...</td>\n",
       "      <td>NaN</td>\n",
       "      <td>66.6667</td>\n",
       "    </tr>\n",
       "    <tr>\n",
       "      <th>104</th>\n",
       "      <td>NATURAL FOODS</td>\n",
       "      <td>Bread/Bakery Products/Biscuits/Cookies</td>\n",
       "      <td>NaN</td>\n",
       "      <td>66.6667</td>\n",
       "    </tr>\n",
       "    <tr>\n",
       "      <th>105</th>\n",
       "      <td>NATURAL FOODS</td>\n",
       "      <td>Cereal/Grain/Pulse Products/Processed Cereal P...</td>\n",
       "      <td>NaN</td>\n",
       "      <td>66.3158</td>\n",
       "    </tr>\n",
       "    <tr>\n",
       "      <th>106</th>\n",
       "      <td>NATURAL FOODS</td>\n",
       "      <td>Prepared/Preserved Foods/Vegetable Based Produ...</td>\n",
       "      <td>NaN</td>\n",
       "      <td>66.2857</td>\n",
       "    </tr>\n",
       "    <tr>\n",
       "      <th>107</th>\n",
       "      <td>NATURAL FOODS</td>\n",
       "      <td>Fish and Seafood/Aquatic Plants Prepared/Proce...</td>\n",
       "      <td>NaN</td>\n",
       "      <td>66.1157</td>\n",
       "    </tr>\n",
       "    <tr>\n",
       "      <th>108</th>\n",
       "      <td>NATURAL FOODS</td>\n",
       "      <td>Milk/Butter/Cream/Yogurts/Cheese/Eggs/Substitu...</td>\n",
       "      <td>NaN</td>\n",
       "      <td>65.0888</td>\n",
       "    </tr>\n",
       "    <tr>\n",
       "      <th>109</th>\n",
       "      <td>NATURAL FOODS</td>\n",
       "      <td>Meat/Fish/Seafood Substitutes/Seafood Substitutes</td>\n",
       "      <td>NaN</td>\n",
       "      <td>63.1579</td>\n",
       "    </tr>\n",
       "    <tr>\n",
       "      <th>110</th>\n",
       "      <td>NATURAL FOODS</td>\n",
       "      <td>Meat/Fish/Seafood Substitutes/Fish Substitutes</td>\n",
       "      <td>NaN</td>\n",
       "      <td>63.1579</td>\n",
       "    </tr>\n",
       "    <tr>\n",
       "      <th>111</th>\n",
       "      <td>NATURAL FOODS</td>\n",
       "      <td>Meat/Fish/Seafood Substitutes/Meat Substitutes</td>\n",
       "      <td>NaN</td>\n",
       "      <td>63.1579</td>\n",
       "    </tr>\n",
       "    <tr>\n",
       "      <th>112</th>\n",
       "      <td>NATURAL FOODS</td>\n",
       "      <td>Milk/Butter/Cream/Yogurts/Cheese/Eggs/Substitu...</td>\n",
       "      <td>NaN</td>\n",
       "      <td>63.0435</td>\n",
       "    </tr>\n",
       "    <tr>\n",
       "      <th>113</th>\n",
       "      <td>NATURAL FOODS</td>\n",
       "      <td>Fish and Seafood/Aquatic Invertebrates - Prepa...</td>\n",
       "      <td>NaN</td>\n",
       "      <td>62.5000</td>\n",
       "    </tr>\n",
       "    <tr>\n",
       "      <th>114</th>\n",
       "      <td>NATURAL FOODS</td>\n",
       "      <td>Fruits/Vegetables/Nuts/Seeds Prepared/Processe...</td>\n",
       "      <td>NaN</td>\n",
       "      <td>61.9718</td>\n",
       "    </tr>\n",
       "    <tr>\n",
       "      <th>115</th>\n",
       "      <td>NATURAL FOODS</td>\n",
       "      <td>Fish and Seafood/Fish - Unprepared/Unprocessed</td>\n",
       "      <td>NaN</td>\n",
       "      <td>61.3861</td>\n",
       "    </tr>\n",
       "    <tr>\n",
       "      <th>116</th>\n",
       "      <td>NATURAL FOODS</td>\n",
       "      <td>Beverages/Non Alcoholic Beverages - Ready to D...</td>\n",
       "      <td>NaN</td>\n",
       "      <td>60.8414</td>\n",
       "    </tr>\n",
       "    <tr>\n",
       "      <th>117</th>\n",
       "      <td>NATURAL FOODS</td>\n",
       "      <td>Bread/Bakery Products/Sweet Bakery Products</td>\n",
       "      <td>NaN</td>\n",
       "      <td>60.6061</td>\n",
       "    </tr>\n",
       "    <tr>\n",
       "      <th>118</th>\n",
       "      <td>NATURAL FOODS</td>\n",
       "      <td>Prepared/Preserved Foods/Prepared Soups</td>\n",
       "      <td>NaN</td>\n",
       "      <td>60.4651</td>\n",
       "    </tr>\n",
       "    <tr>\n",
       "      <th>119</th>\n",
       "      <td>NATURAL FOODS</td>\n",
       "      <td>Vegetables - Unprepared/Unprocessed (Frozen)/V...</td>\n",
       "      <td>NaN</td>\n",
       "      <td>59.6491</td>\n",
       "    </tr>\n",
       "    <tr>\n",
       "      <th>120</th>\n",
       "      <td>NATURAL FOODS</td>\n",
       "      <td>Oils/Fats Edible/Oils Edible</td>\n",
       "      <td>NaN</td>\n",
       "      <td>59.5238</td>\n",
       "    </tr>\n",
       "    <tr>\n",
       "      <th>121</th>\n",
       "      <td>NATURAL FOODS</td>\n",
       "      <td>Beverages/Non Alcoholic Beverages - Not Ready ...</td>\n",
       "      <td>NaN</td>\n",
       "      <td>58.9928</td>\n",
       "    </tr>\n",
       "    <tr>\n",
       "      <th>122</th>\n",
       "      <td>NATURAL FOODS</td>\n",
       "      <td>Prepared/Preserved Foods/Sweet Spreads</td>\n",
       "      <td>NaN</td>\n",
       "      <td>58.3333</td>\n",
       "    </tr>\n",
       "    <tr>\n",
       "      <th>123</th>\n",
       "      <td>NATURAL FOODS</td>\n",
       "      <td>Bread/Bakery Products/Bread/Bakery Products Va...</td>\n",
       "      <td>NaN</td>\n",
       "      <td>57.1429</td>\n",
       "    </tr>\n",
       "    <tr>\n",
       "      <th>124</th>\n",
       "      <td>NATURAL FOODS</td>\n",
       "      <td>Prepared/Preserved Foods/Ready-Made Combinatio...</td>\n",
       "      <td>NaN</td>\n",
       "      <td>56.5789</td>\n",
       "    </tr>\n",
       "    <tr>\n",
       "      <th>125</th>\n",
       "      <td>NATURAL FOODS</td>\n",
       "      <td>Fish and Seafood/Shellfish Unprepared/Unprocessed</td>\n",
       "      <td>NaN</td>\n",
       "      <td>55.8559</td>\n",
       "    </tr>\n",
       "    <tr>\n",
       "      <th>126</th>\n",
       "      <td>NATURAL FOODS</td>\n",
       "      <td>Bread/Bakery Products/Savoury Bakery Products</td>\n",
       "      <td>NaN</td>\n",
       "      <td>55.2846</td>\n",
       "    </tr>\n",
       "    <tr>\n",
       "      <th>127</th>\n",
       "      <td>NATURAL FOODS</td>\n",
       "      <td>Fruits - Unprepared/Unprocessed (Shelf Stable)...</td>\n",
       "      <td>NaN</td>\n",
       "      <td>54.5455</td>\n",
       "    </tr>\n",
       "    <tr>\n",
       "      <th>128</th>\n",
       "      <td>NATURAL FOODS</td>\n",
       "      <td>Prepared/Preserved Foods/Prepared/Preserved Fo...</td>\n",
       "      <td>NaN</td>\n",
       "      <td>53.8462</td>\n",
       "    </tr>\n",
       "    <tr>\n",
       "      <th>129</th>\n",
       "      <td>NATURAL FOODS</td>\n",
       "      <td>Fish and Seafood/Seafood Variety Packs</td>\n",
       "      <td>NaN</td>\n",
       "      <td>53.6585</td>\n",
       "    </tr>\n",
       "    <tr>\n",
       "      <th>130</th>\n",
       "      <td>NATURAL FOODS</td>\n",
       "      <td>Milk/Butter/Cream/Yogurts/Cheese/Eggs/Substitu...</td>\n",
       "      <td>NaN</td>\n",
       "      <td>53.5211</td>\n",
       "    </tr>\n",
       "    <tr>\n",
       "      <th>131</th>\n",
       "      <td>NATURAL FOODS</td>\n",
       "      <td>Fish and Seafood/Aquatic Plants Unprepared/Unp...</td>\n",
       "      <td>NaN</td>\n",
       "      <td>53.4483</td>\n",
       "    </tr>\n",
       "    <tr>\n",
       "      <th>132</th>\n",
       "      <td>NATURAL FOODS</td>\n",
       "      <td>Seasonings/Preservatives/Extracts/Vinegars/Coo...</td>\n",
       "      <td>NaN</td>\n",
       "      <td>52.6316</td>\n",
       "    </tr>\n",
       "    <tr>\n",
       "      <th>133</th>\n",
       "      <td>NATURAL FOODS</td>\n",
       "      <td>Milk/Butter/Cream/Yogurts/Cheese/Eggs/Substitu...</td>\n",
       "      <td>NaN</td>\n",
       "      <td>51.7007</td>\n",
       "    </tr>\n",
       "    <tr>\n",
       "      <th>134</th>\n",
       "      <td>NATURAL FOODS</td>\n",
       "      <td>Prepared/Preserved Foods/Baby/Infant - Foods/B...</td>\n",
       "      <td>NaN</td>\n",
       "      <td>50.7463</td>\n",
       "    </tr>\n",
       "    <tr>\n",
       "      <th>135</th>\n",
       "      <td>NATURAL FOODS</td>\n",
       "      <td>Fish and Seafood/Aquatic Invertebrates - Unpre...</td>\n",
       "      <td>NaN</td>\n",
       "      <td>50.4065</td>\n",
       "    </tr>\n",
       "    <tr>\n",
       "      <th>136</th>\n",
       "      <td>NATURAL FOODS</td>\n",
       "      <td>Vegetables (Non Leaf) - Unprepared/Unprocessed...</td>\n",
       "      <td>NaN</td>\n",
       "      <td>50.0000</td>\n",
       "    </tr>\n",
       "    <tr>\n",
       "      <th>137</th>\n",
       "      <td>NATURAL FOODS</td>\n",
       "      <td>Fish and Seafood/Aquatic Invertebrates/Fish/Sh...</td>\n",
       "      <td>NaN</td>\n",
       "      <td>49.7297</td>\n",
       "    </tr>\n",
       "    <tr>\n",
       "      <th>138</th>\n",
       "      <td>NATURAL FOODS</td>\n",
       "      <td>Fruits/Vegetables/Nuts/Seeds Prepared/Processe...</td>\n",
       "      <td>NaN</td>\n",
       "      <td>47.5000</td>\n",
       "    </tr>\n",
       "    <tr>\n",
       "      <th>139</th>\n",
       "      <td>NATURAL FOODS</td>\n",
       "      <td>Confectionery/Sugar Sweetening Products/Sugars...</td>\n",
       "      <td>NaN</td>\n",
       "      <td>47.4359</td>\n",
       "    </tr>\n",
       "    <tr>\n",
       "      <th>140</th>\n",
       "      <td>NATURAL FOODS</td>\n",
       "      <td>Prepared/Preserved Foods/Snacks</td>\n",
       "      <td>NaN</td>\n",
       "      <td>46.9565</td>\n",
       "    </tr>\n",
       "    <tr>\n",
       "      <th>141</th>\n",
       "      <td>NATURAL FOODS</td>\n",
       "      <td>Fruits/Vegetables/Nuts/Seeds Prepared/Processe...</td>\n",
       "      <td>NaN</td>\n",
       "      <td>46.3415</td>\n",
       "    </tr>\n",
       "    <tr>\n",
       "      <th>142</th>\n",
       "      <td>NATURAL FOODS</td>\n",
       "      <td>Oils/Fats Edible/Fats Edible</td>\n",
       "      <td>NaN</td>\n",
       "      <td>46.2963</td>\n",
       "    </tr>\n",
       "    <tr>\n",
       "      <th>143</th>\n",
       "      <td>NATURAL FOODS</td>\n",
       "      <td>Seasonings/Preservatives/Extracts/Pickles/Reli...</td>\n",
       "      <td>NaN</td>\n",
       "      <td>46.1538</td>\n",
       "    </tr>\n",
       "    <tr>\n",
       "      <th>144</th>\n",
       "      <td>NF NON-EDIBLE</td>\n",
       "      <td>Vegetables (Non Leaf) - Unprepared/Unprocessed...</td>\n",
       "      <td>NaN</td>\n",
       "      <td>52.1008</td>\n",
       "    </tr>\n",
       "    <tr>\n",
       "      <th>145</th>\n",
       "      <td>NF NON-EDIBLE</td>\n",
       "      <td>Oils/Fats Edible/Oils Edible</td>\n",
       "      <td>NaN</td>\n",
       "      <td>48.6957</td>\n",
       "    </tr>\n",
       "    <tr>\n",
       "      <th>146</th>\n",
       "      <td>NF NON-EDIBLE</td>\n",
       "      <td>Fish and Seafood/Fish - Prepared/Processed</td>\n",
       "      <td>NaN</td>\n",
       "      <td>45.9016</td>\n",
       "    </tr>\n",
       "    <tr>\n",
       "      <th>147</th>\n",
       "      <td>NF NON-EDIBLE</td>\n",
       "      <td>Vegetables (Non Leaf) - Unprepared/Unprocessed...</td>\n",
       "      <td>NaN</td>\n",
       "      <td>45.7627</td>\n",
       "    </tr>\n",
       "    <tr>\n",
       "      <th>148</th>\n",
       "      <td>PET</td>\n",
       "      <td>Bread/Bakery Products/Baking/Cooking Mixes/Sup...</td>\n",
       "      <td>NaN</td>\n",
       "      <td>49.7696</td>\n",
       "    </tr>\n",
       "    <tr>\n",
       "      <th>149</th>\n",
       "      <td>PET</td>\n",
       "      <td>Prepared/Preserved Foods/Dairy/Egg Based Produ...</td>\n",
       "      <td>NaN</td>\n",
       "      <td>48.3607</td>\n",
       "    </tr>\n",
       "    <tr>\n",
       "      <th>150</th>\n",
       "      <td>PET</td>\n",
       "      <td>Meat/Fish/Seafood Substitutes/Meat Substitutes</td>\n",
       "      <td>NaN</td>\n",
       "      <td>48.1132</td>\n",
       "    </tr>\n",
       "    <tr>\n",
       "      <th>151</th>\n",
       "      <td>PET</td>\n",
       "      <td>Meat/Fish/Seafood Substitutes/Fish Substitutes</td>\n",
       "      <td>NaN</td>\n",
       "      <td>48.1132</td>\n",
       "    </tr>\n",
       "    <tr>\n",
       "      <th>152</th>\n",
       "      <td>PET</td>\n",
       "      <td>Meat/Fish/Seafood Substitutes/Seafood Substitutes</td>\n",
       "      <td>NaN</td>\n",
       "      <td>48.1132</td>\n",
       "    </tr>\n",
       "    <tr>\n",
       "      <th>153</th>\n",
       "      <td>PET</td>\n",
       "      <td>Prepared/Preserved Foods/Dough Based Products ...</td>\n",
       "      <td>NaN</td>\n",
       "      <td>47.1074</td>\n",
       "    </tr>\n",
       "    <tr>\n",
       "      <th>154</th>\n",
       "      <td>PET</td>\n",
       "      <td>Prepared/Preserved Foods/Ready-Made Combinatio...</td>\n",
       "      <td>NaN</td>\n",
       "      <td>46.9565</td>\n",
       "    </tr>\n",
       "    <tr>\n",
       "      <th>155</th>\n",
       "      <td>PET</td>\n",
       "      <td>Bread/Bakery Products/Sweet Bakery Products</td>\n",
       "      <td>NaN</td>\n",
       "      <td>46.9484</td>\n",
       "    </tr>\n",
       "    <tr>\n",
       "      <th>156</th>\n",
       "      <td>PET</td>\n",
       "      <td>Prepared/Preserved Foods/Desserts/Dessert Sauc...</td>\n",
       "      <td>NaN</td>\n",
       "      <td>46.8254</td>\n",
       "    </tr>\n",
       "    <tr>\n",
       "      <th>157</th>\n",
       "      <td>PET</td>\n",
       "      <td>Beverages/Non Alcoholic Beverages - Not Ready ...</td>\n",
       "      <td>NaN</td>\n",
       "      <td>46.6877</td>\n",
       "    </tr>\n",
       "    <tr>\n",
       "      <th>158</th>\n",
       "      <td>PET</td>\n",
       "      <td>Seasonings/Preservatives/Extracts/Herbs/Spices...</td>\n",
       "      <td>NaN</td>\n",
       "      <td>46.5950</td>\n",
       "    </tr>\n",
       "    <tr>\n",
       "      <th>159</th>\n",
       "      <td>PET</td>\n",
       "      <td>Beverages/Coffee/Coffee Substitutes</td>\n",
       "      <td>NaN</td>\n",
       "      <td>46.5517</td>\n",
       "    </tr>\n",
       "    <tr>\n",
       "      <th>160</th>\n",
       "      <td>PET</td>\n",
       "      <td>Prepared/Preserved Foods/Grain Based Products ...</td>\n",
       "      <td>NaN</td>\n",
       "      <td>46.2810</td>\n",
       "    </tr>\n",
       "    <tr>\n",
       "      <th>161</th>\n",
       "      <td>PET</td>\n",
       "      <td>Prepared/Preserved Foods/Vegetable Based Produ...</td>\n",
       "      <td>NaN</td>\n",
       "      <td>46.2185</td>\n",
       "    </tr>\n",
       "    <tr>\n",
       "      <th>162</th>\n",
       "      <td>PET</td>\n",
       "      <td>Milk/Butter/Cream/Yogurts/Cheese/Eggs/Substitu...</td>\n",
       "      <td>NaN</td>\n",
       "      <td>45.9574</td>\n",
       "    </tr>\n",
       "    <tr>\n",
       "      <th>163</th>\n",
       "      <td>PET</td>\n",
       "      <td>Prepared/Preserved Foods/Sweet Spreads</td>\n",
       "      <td>NaN</td>\n",
       "      <td>45.9144</td>\n",
       "    </tr>\n",
       "    <tr>\n",
       "      <th>164</th>\n",
       "      <td>PET</td>\n",
       "      <td>Meat/Poultry/Other Animals/Meat/Poultry/Other ...</td>\n",
       "      <td>NaN</td>\n",
       "      <td>45.6000</td>\n",
       "    </tr>\n",
       "    <tr>\n",
       "      <th>165</th>\n",
       "      <td>PET</td>\n",
       "      <td>Fish and Seafood/Aquatic Plants Prepared/Proce...</td>\n",
       "      <td>NaN</td>\n",
       "      <td>45.5446</td>\n",
       "    </tr>\n",
       "    <tr>\n",
       "      <th>166</th>\n",
       "      <td>PET</td>\n",
       "      <td>Seasonings/Preservatives/Extracts/Pickles/Reli...</td>\n",
       "      <td>NaN</td>\n",
       "      <td>45.4183</td>\n",
       "    </tr>\n",
       "    <tr>\n",
       "      <th>167</th>\n",
       "      <td>PET</td>\n",
       "      <td>Prepared/Preserved Foods/Sandwiches/Filled Rol...</td>\n",
       "      <td>NaN</td>\n",
       "      <td>45.4106</td>\n",
       "    </tr>\n",
       "    <tr>\n",
       "      <th>168</th>\n",
       "      <td>PET</td>\n",
       "      <td>Prepared/Preserved Foods/Pasta/Noodles</td>\n",
       "      <td>NaN</td>\n",
       "      <td>45.2489</td>\n",
       "    </tr>\n",
       "    <tr>\n",
       "      <th>169</th>\n",
       "      <td>PET</td>\n",
       "      <td>Prepared/Preserved Foods/Baby/Infant - Foods/B...</td>\n",
       "      <td>NaN</td>\n",
       "      <td>45.2489</td>\n",
       "    </tr>\n",
       "    <tr>\n",
       "      <th>170</th>\n",
       "      <td>PET</td>\n",
       "      <td>Cereal/Grain/Pulse Products/Processed Cereal P...</td>\n",
       "      <td>NaN</td>\n",
       "      <td>45.1613</td>\n",
       "    </tr>\n",
       "    <tr>\n",
       "      <th>171</th>\n",
       "      <td>PET</td>\n",
       "      <td>Bread/Bakery Products/Biscuits/Cookies</td>\n",
       "      <td>NaN</td>\n",
       "      <td>45.1613</td>\n",
       "    </tr>\n",
       "    <tr>\n",
       "      <th>172</th>\n",
       "      <td>PET</td>\n",
       "      <td>Beverages/Alcoholic Beverages (Includes De-Alc...</td>\n",
       "      <td>NaN</td>\n",
       "      <td>45.0000</td>\n",
       "    </tr>\n",
       "    <tr>\n",
       "      <th>173</th>\n",
       "      <td>REFRIG GROCERY</td>\n",
       "      <td>Milk/Butter/Cream/Yogurts/Cheese/Eggs/Substitu...</td>\n",
       "      <td>NaN</td>\n",
       "      <td>52.3364</td>\n",
       "    </tr>\n",
       "    <tr>\n",
       "      <th>174</th>\n",
       "      <td>REFRIG GROCERY</td>\n",
       "      <td>Milk/Butter/Cream/Yogurts/Cheese/Eggs/Substitu...</td>\n",
       "      <td>NaN</td>\n",
       "      <td>51.3889</td>\n",
       "    </tr>\n",
       "    <tr>\n",
       "      <th>175</th>\n",
       "      <td>REFRIG GROCERY</td>\n",
       "      <td>Milk/Butter/Cream/Yogurts/Cheese/Eggs/Substitu...</td>\n",
       "      <td>NaN</td>\n",
       "      <td>46.6431</td>\n",
       "    </tr>\n",
       "    <tr>\n",
       "      <th>176</th>\n",
       "      <td>REFRIG GROCERY</td>\n",
       "      <td>Milk/Butter/Cream/Yogurts/Cheese/Eggs/Substitu...</td>\n",
       "      <td>NaN</td>\n",
       "      <td>46.3415</td>\n",
       "    </tr>\n",
       "    <tr>\n",
       "      <th>177</th>\n",
       "      <td>REFRIG GROCERY</td>\n",
       "      <td>Beverages/Tea and Infusions/Tisanes</td>\n",
       "      <td>NaN</td>\n",
       "      <td>45.5516</td>\n",
       "    </tr>\n",
       "    <tr>\n",
       "      <th>178</th>\n",
       "      <td>REFRIG GROCERY</td>\n",
       "      <td>Prepared/Preserved Foods/Dough Based Products ...</td>\n",
       "      <td>NaN</td>\n",
       "      <td>45.4237</td>\n",
       "    </tr>\n",
       "    <tr>\n",
       "      <th>179</th>\n",
       "      <td>REFRIG GROCERY</td>\n",
       "      <td>Milk/Butter/Cream/Yogurts/Cheese/Eggs/Substitu...</td>\n",
       "      <td>NaN</td>\n",
       "      <td>45.3237</td>\n",
       "    </tr>\n",
       "    <tr>\n",
       "      <th>180</th>\n",
       "      <td>SOFT DRINKS</td>\n",
       "      <td>Prepared/Preserved Foods/Baby/Infant - Foods/B...</td>\n",
       "      <td>NaN</td>\n",
       "      <td>49.4118</td>\n",
       "    </tr>\n",
       "    <tr>\n",
       "      <th>181</th>\n",
       "      <td>SOFT DRINKS</td>\n",
       "      <td>Beverages/Tea and Infusions/Tisanes</td>\n",
       "      <td>NaN</td>\n",
       "      <td>47.4576</td>\n",
       "    </tr>\n",
       "    <tr>\n",
       "      <th>182</th>\n",
       "      <td>SPIRITS</td>\n",
       "      <td>Confectionery/Sugar Sweetening Products/Confec...</td>\n",
       "      <td>NaN</td>\n",
       "      <td>45.2675</td>\n",
       "    </tr>\n",
       "  </tbody>\n",
       "</table>\n",
       "</div>"
      ]
     },
     "metadata": {
      "application/vnd.databricks.v1+output": {
       "addedWidgets": {},
       "arguments": {},
       "data": "<div>\n<style scoped>\n    .dataframe tbody tr th:only-of-type {\n        vertical-align: middle;\n    }\n\n    .dataframe tbody tr th {\n        vertical-align: top;\n    }\n\n    .dataframe thead th {\n        text-align: right;\n    }\n</style>\n<table border=\"1\" class=\"dataframe\">\n  <thead>\n    <tr style=\"text-align: right;\">\n      <th></th>\n      <th>KROGER_DEPT</th>\n      <th>GS1_FAMILY/CLASS</th>\n      <th>MATCH_SCORE_x</th>\n      <th>MATCH_SCORE_y</th>\n    </tr>\n  </thead>\n  <tbody>\n    <tr>\n      <th>0</th>\n      <td>BEER</td>\n      <td>Beverages/Alcoholic Beverages (Includes De-Alc...</td>\n      <td>47.0320</td>\n      <td>51.5625</td>\n    </tr>\n    <tr>\n      <th>1</th>\n      <td>CKY/CRKR/SNK</td>\n      <td>Prepared/Preserved Foods/Snacks</td>\n      <td>46.8320</td>\n      <td>48.6957</td>\n    </tr>\n    <tr>\n      <th>2</th>\n      <td>DAIRY</td>\n      <td>Milk/Butter/Cream/Yogurts/Cheese/Eggs/Substitu...</td>\n      <td>48.6726</td>\n      <td>60.3015</td>\n    </tr>\n    <tr>\n      <th>3</th>\n      <td>DAIRY</td>\n      <td>Prepared/Preserved Foods/Dairy/Egg Based Produ...</td>\n      <td>46.8531</td>\n      <td>52.6749</td>\n    </tr>\n    <tr>\n      <th>4</th>\n      <td>DAIRY</td>\n      <td>Prepared/Preserved Foods/Grain Based Products ...</td>\n      <td>45.1128</td>\n      <td>46.4730</td>\n    </tr>\n    <tr>\n      <th>5</th>\n      <td>FROZEN GROCERY</td>\n      <td>Fruits/Vegetables Fresh Cut/Vegetables - Fresh...</td>\n      <td>47.4623</td>\n      <td>50.1475</td>\n    </tr>\n    <tr>\n      <th>6</th>\n      <td>GROC NON-EDIBLE</td>\n      <td>Tobacco/Cannabis/Smoking Accessories/Cannabis ...</td>\n      <td>45.4167</td>\n      <td>47.0320</td>\n    </tr>\n    <tr>\n      <th>7</th>\n      <td>SOFT DRINKS</td>\n      <td>Beverages/Beverages Variety Packs</td>\n      <td>46.0177</td>\n      <td>NaN</td>\n    </tr>\n    <tr>\n      <th>8</th>\n      <td>BEER</td>\n      <td>Beverages/Beverages Variety Packs</td>\n      <td>NaN</td>\n      <td>56.2500</td>\n    </tr>\n    <tr>\n      <th>9</th>\n      <td>BEER</td>\n      <td>Beverages/Non Alcoholic Beverages - Not Ready ...</td>\n      <td>NaN</td>\n      <td>49.2669</td>\n    </tr>\n    <tr>\n      <th>10</th>\n      <td>BEER</td>\n      <td>Beverages/Non Alcoholic Beverages - Ready to D...</td>\n      <td>NaN</td>\n      <td>47.2222</td>\n    </tr>\n    <tr>\n      <th>11</th>\n      <td>BEER</td>\n      <td>Vegetables (Non Leaf) - Unprepared/Unprocessed...</td>\n      <td>NaN</td>\n      <td>45.7516</td>\n    </tr>\n    <tr>\n      <th>12</th>\n      <td>BEER</td>\n      <td>Beverages/Tea and Infusions/Tisanes</td>\n      <td>NaN</td>\n      <td>45.2381</td>\n    </tr>\n    <tr>\n      <th>13</th>\n      <td>CKY/CRKR/SNK</td>\n      <td>Seasonings/Preservatives/Extracts/Herbs/Spices...</td>\n      <td>NaN</td>\n      <td>47.7064</td>\n    </tr>\n    <tr>\n      <th>14</th>\n      <td>COMMERCIAL BKY</td>\n      <td>Bread/Bakery Products/Bread</td>\n      <td>NaN</td>\n      <td>50.8475</td>\n    </tr>\n    <tr>\n      <th>15</th>\n      <td>COMMERCIAL BKY</td>\n      <td>Bread/Bakery Products/Baking/Cooking Mixes/Sup...</td>\n      <td>NaN</td>\n      <td>48.1481</td>\n    </tr>\n    <tr>\n      <th>16</th>\n      <td>COMMERCIAL BKY</td>\n      <td>Bread/Bakery Products/Sweet Bakery Products</td>\n      <td>NaN</td>\n      <td>48.1013</td>\n    </tr>\n    <tr>\n      <th>17</th>\n      <td>COMMERCIAL BKY</td>\n      <td>Bread/Bakery Products/Biscuits/Cookies</td>\n      <td>NaN</td>\n      <td>46.9136</td>\n    </tr>\n    <tr>\n      <th>18</th>\n      <td>COMMERCIAL BKY</td>\n      <td>Bread/Bakery Products/Savoury Bakery Products</td>\n      <td>NaN</td>\n      <td>45.1613</td>\n    </tr>\n    <tr>\n      <th>19</th>\n      <td>DAIRY</td>\n      <td>Milk/Butter/Cream/Yogurts/Cheese/Eggs/Substitu...</td>\n      <td>NaN</td>\n      <td>54.7009</td>\n    </tr>\n    <tr>\n      <th>20</th>\n      <td>DAIRY</td>\n      <td>Milk/Butter/Cream/Yogurts/Cheese/Eggs/Substitu...</td>\n      <td>NaN</td>\n      <td>54.4643</td>\n    </tr>\n    <tr>\n      <th>21</th>\n      <td>DAIRY</td>\n      <td>Milk/Butter/Cream/Yogurts/Cheese/Eggs/Substitu...</td>\n      <td>NaN</td>\n      <td>54.1485</td>\n    </tr>\n    <tr>\n      <th>22</th>\n      <td>DAIRY</td>\n      <td>Milk/Butter/Cream/Yogurts/Cheese/Eggs/Substitu...</td>\n      <td>NaN</td>\n      <td>51.2077</td>\n    </tr>\n    <tr>\n      <th>23</th>\n      <td>DAIRY</td>\n      <td>Milk/Butter/Cream/Yogurts/Cheese/Eggs/Substitu...</td>\n      <td>NaN</td>\n      <td>51.1848</td>\n    </tr>\n    <tr>\n      <th>24</th>\n      <td>DAIRY</td>\n      <td>Milk/Butter/Cream/Yogurts/Cheese/Eggs/Substitu...</td>\n      <td>NaN</td>\n      <td>50.0000</td>\n    </tr>\n    <tr>\n      <th>25</th>\n      <td>DAIRY</td>\n      <td>Milk/Butter/Cream/Yogurts/Cheese/Eggs/Substitu...</td>\n      <td>NaN</td>\n      <td>50.0000</td>\n    </tr>\n    <tr>\n      <th>26</th>\n      <td>DAIRY</td>\n      <td>Cereal/Grain/Pulse Products/Processed Cereal P...</td>\n      <td>NaN</td>\n      <td>49.3927</td>\n    </tr>\n    <tr>\n      <th>27</th>\n      <td>DAIRY</td>\n      <td>Milk/Butter/Cream/Yogurts/Cheese/Eggs/Substitu...</td>\n      <td>NaN</td>\n      <td>49.1803</td>\n    </tr>\n    <tr>\n      <th>28</th>\n      <td>DAIRY</td>\n      <td>Beverages/Coffee/Coffee Substitutes</td>\n      <td>NaN</td>\n      <td>47.6190</td>\n    </tr>\n    <tr>\n      <th>29</th>\n      <td>DAIRY</td>\n      <td>Cereal/Grain/Pulse Products/Grains/Flour</td>\n      <td>NaN</td>\n      <td>46.8468</td>\n    </tr>\n    <tr>\n      <th>30</th>\n      <td>DAIRY</td>\n      <td>Beverages/Tea and Infusions/Tisanes</td>\n      <td>NaN</td>\n      <td>46.6960</td>\n    </tr>\n    <tr>\n      <th>31</th>\n      <td>DAIRY</td>\n      <td>Prepared/Preserved Foods/Dough Based Products ...</td>\n      <td>NaN</td>\n      <td>45.6432</td>\n    </tr>\n    <tr>\n      <th>32</th>\n      <td>DAIRY</td>\n      <td>Beverages/Non Alcoholic Beverages - Not Ready ...</td>\n      <td>NaN</td>\n      <td>45.5696</td>\n    </tr>\n    <tr>\n      <th>33</th>\n      <td>DAIRY</td>\n      <td>Prepared/Preserved Foods/Vegetable Based Produ...</td>\n      <td>NaN</td>\n      <td>45.5696</td>\n    </tr>\n    <tr>\n      <th>34</th>\n      <td>END OF ORD COUP</td>\n      <td>Fruits - Unprepared/Unprocessed (Fresh)/Miscel...</td>\n      <td>NaN</td>\n      <td>47.2727</td>\n    </tr>\n    <tr>\n      <th>35</th>\n      <td>FROZEN GROCERY</td>\n      <td>Prepared/Preserved Foods/Desserts/Dessert Sauc...</td>\n      <td>NaN</td>\n      <td>55.2486</td>\n    </tr>\n    <tr>\n      <th>36</th>\n      <td>FROZEN GROCERY</td>\n      <td>Prepared/Preserved Foods/Prepared/Preserved Fo...</td>\n      <td>NaN</td>\n      <td>53.8462</td>\n    </tr>\n    <tr>\n      <th>37</th>\n      <td>FROZEN GROCERY</td>\n      <td>Fish and Seafood/Fish - Prepared/Processed</td>\n      <td>NaN</td>\n      <td>51.6854</td>\n    </tr>\n    <tr>\n      <th>38</th>\n      <td>FROZEN GROCERY</td>\n      <td>Prepared/Preserved Foods/Vegetable Based Produ...</td>\n      <td>NaN</td>\n      <td>48.0519</td>\n    </tr>\n    <tr>\n      <th>39</th>\n      <td>FROZEN GROCERY</td>\n      <td>Meat/Poultry/Other Animals/Meat/Poultry/Other ...</td>\n      <td>NaN</td>\n      <td>47.7612</td>\n    </tr>\n    <tr>\n      <th>40</th>\n      <td>FROZEN GROCERY</td>\n      <td>Beverages/Non Alcoholic Beverages - Ready to D...</td>\n      <td>NaN</td>\n      <td>47.6015</td>\n    </tr>\n    <tr>\n      <th>41</th>\n      <td>FROZEN GROCERY</td>\n      <td>Tobacco/Cannabis/Smoking Accessories/Cannabis ...</td>\n      <td>NaN</td>\n      <td>47.4623</td>\n    </tr>\n    <tr>\n      <th>42</th>\n      <td>FROZEN GROCERY</td>\n      <td>Fruits - Unprepared/Unprocessed (Frozen)/Fruit...</td>\n      <td>NaN</td>\n      <td>47.2727</td>\n    </tr>\n    <tr>\n      <th>43</th>\n      <td>FROZEN GROCERY</td>\n      <td>Fruits - Unprepared/Unprocessed (Fresh)/Miscel...</td>\n      <td>NaN</td>\n      <td>46.8227</td>\n    </tr>\n    <tr>\n      <th>44</th>\n      <td>FROZEN GROCERY</td>\n      <td>Fish and Seafood/Shellfish Prepared/Processed</td>\n      <td>NaN</td>\n      <td>46.4646</td>\n    </tr>\n    <tr>\n      <th>45</th>\n      <td>FROZEN GROCERY</td>\n      <td>Beverages/Non Alcoholic Beverages - Not Ready ...</td>\n      <td>NaN</td>\n      <td>46.2715</td>\n    </tr>\n    <tr>\n      <th>46</th>\n      <td>FROZEN GROCERY</td>\n      <td>Vegetables (Non Leaf) - Unprepared/Unprocessed...</td>\n      <td>NaN</td>\n      <td>45.8278</td>\n    </tr>\n    <tr>\n      <th>47</th>\n      <td>FROZEN GROCERY</td>\n      <td>Meat/Poultry/Other Animals/Meat/Poultry/Other ...</td>\n      <td>NaN</td>\n      <td>45.1039</td>\n    </tr>\n    <tr>\n      <th>48</th>\n      <td>GROC-ALL OTHER</td>\n      <td>Bread/Bakery Products/Bread</td>\n      <td>NaN</td>\n      <td>68.3544</td>\n    </tr>\n    <tr>\n      <th>49</th>\n      <td>GROC-ALL OTHER</td>\n      <td>Vegetables - Unprepared/Unprocessed (Shelf Sta...</td>\n      <td>NaN</td>\n      <td>66.6667</td>\n    </tr>\n    <tr>\n      <th>50</th>\n      <td>GROC-ALL OTHER</td>\n      <td>Bread/Bakery Products/Baking/Cooking Mixes/Sup...</td>\n      <td>NaN</td>\n      <td>66.6667</td>\n    </tr>\n    <tr>\n      <th>51</th>\n      <td>GROC-ALL OTHER</td>\n      <td>Cereal/Grain/Pulse Products/Grains/Flour</td>\n      <td>NaN</td>\n      <td>59.3103</td>\n    </tr>\n    <tr>\n      <th>52</th>\n      <td>GROC-ALL OTHER</td>\n      <td>Prepared/Preserved Foods/Pasta/Noodles</td>\n      <td>NaN</td>\n      <td>58.1560</td>\n    </tr>\n    <tr>\n      <th>53</th>\n      <td>GROC-ALL OTHER</td>\n      <td>Bread/Bakery Products/Bread/Bakery Products Va...</td>\n      <td>NaN</td>\n      <td>57.1429</td>\n    </tr>\n    <tr>\n      <th>54</th>\n      <td>GROC-ALL OTHER</td>\n      <td>Prepared/Preserved Foods/Dairy/Egg Based Produ...</td>\n      <td>NaN</td>\n      <td>56.1404</td>\n    </tr>\n    <tr>\n      <th>55</th>\n      <td>GROC-ALL OTHER</td>\n      <td>Fruits - Unprepared/Unprocessed (Shelf Stable)...</td>\n      <td>NaN</td>\n      <td>54.5455</td>\n    </tr>\n    <tr>\n      <th>56</th>\n      <td>GROC-ALL OTHER</td>\n      <td>Fish and Seafood/Seafood Variety Packs</td>\n      <td>NaN</td>\n      <td>53.6585</td>\n    </tr>\n    <tr>\n      <th>57</th>\n      <td>GROC-ALL OTHER</td>\n      <td>Cereal/Grain/Pulse Products/Cereal/Grain/Pulse...</td>\n      <td>NaN</td>\n      <td>53.5714</td>\n    </tr>\n    <tr>\n      <th>58</th>\n      <td>GROC-ALL OTHER</td>\n      <td>Fish and Seafood/Fish - Prepared/Processed</td>\n      <td>NaN</td>\n      <td>53.3333</td>\n    </tr>\n    <tr>\n      <th>59</th>\n      <td>GROC-ALL OTHER</td>\n      <td>Prepared/Preserved Foods/Vegetable Based Produ...</td>\n      <td>NaN</td>\n      <td>52.8302</td>\n    </tr>\n    <tr>\n      <th>60</th>\n      <td>GROC-ALL OTHER</td>\n      <td>Fruits/Vegetables/Nuts/Seeds Prepared/Processe...</td>\n      <td>NaN</td>\n      <td>52.6316</td>\n    </tr>\n    <tr>\n      <th>61</th>\n      <td>GROC-ALL OTHER</td>\n      <td>Prepared/Preserved Foods/Grain Based Products ...</td>\n      <td>NaN</td>\n      <td>51.5337</td>\n    </tr>\n    <tr>\n      <th>62</th>\n      <td>GROC-ALL OTHER</td>\n      <td>Prepared/Preserved Foods/Dough Based Products ...</td>\n      <td>NaN</td>\n      <td>51.5337</td>\n    </tr>\n    <tr>\n      <th>63</th>\n      <td>GROC-ALL OTHER</td>\n      <td>Fruits/Vegetables/Nuts/Seeds Prepared/Processe...</td>\n      <td>NaN</td>\n      <td>51.3274</td>\n    </tr>\n    <tr>\n      <th>64</th>\n      <td>GROC-ALL OTHER</td>\n      <td>Beverages/Non Alcoholic Beverages - Ready to D...</td>\n      <td>NaN</td>\n      <td>51.2111</td>\n    </tr>\n    <tr>\n      <th>65</th>\n      <td>GROC-ALL OTHER</td>\n      <td>Bread/Bakery Products/Biscuits/Cookies</td>\n      <td>NaN</td>\n      <td>51.1628</td>\n    </tr>\n    <tr>\n      <th>66</th>\n      <td>GROC-ALL OTHER</td>\n      <td>Fish and Seafood/Fish - Unprepared/Unprocessed</td>\n      <td>NaN</td>\n      <td>51.0638</td>\n    </tr>\n    <tr>\n      <th>67</th>\n      <td>GROC-ALL OTHER</td>\n      <td>Cereal/Grain/Pulse Products/Processed Cereal P...</td>\n      <td>NaN</td>\n      <td>49.7041</td>\n    </tr>\n    <tr>\n      <th>68</th>\n      <td>GROC-ALL OTHER</td>\n      <td>Prepared/Preserved Foods/Desserts/Dessert Sauc...</td>\n      <td>NaN</td>\n      <td>49.4253</td>\n    </tr>\n    <tr>\n      <th>69</th>\n      <td>GROC-ALL OTHER</td>\n      <td>Prepared/Preserved Foods/Prepared Soups</td>\n      <td>NaN</td>\n      <td>48.7395</td>\n    </tr>\n    <tr>\n      <th>70</th>\n      <td>GROC-ALL OTHER</td>\n      <td>Seasonings/Preservatives/Extracts/Sauces/Sprea...</td>\n      <td>NaN</td>\n      <td>48.5804</td>\n    </tr>\n    <tr>\n      <th>71</th>\n      <td>GROC-ALL OTHER</td>\n      <td>Prepared/Preserved Foods/Sweet Spreads</td>\n      <td>NaN</td>\n      <td>48.0447</td>\n    </tr>\n    <tr>\n      <th>72</th>\n      <td>GROC-ALL OTHER</td>\n      <td>Fish and Seafood/Shellfish Prepared/Processed</td>\n      <td>NaN</td>\n      <td>48.0000</td>\n    </tr>\n    <tr>\n      <th>73</th>\n      <td>GROC-ALL OTHER</td>\n      <td>Seasonings/Preservatives/Extracts/Vinegars/Coo...</td>\n      <td>NaN</td>\n      <td>47.8261</td>\n    </tr>\n    <tr>\n      <th>74</th>\n      <td>GROC-ALL OTHER</td>\n      <td>Confectionery/Sugar Sweetening Products/Sugars...</td>\n      <td>NaN</td>\n      <td>47.4359</td>\n    </tr>\n    <tr>\n      <th>75</th>\n      <td>GROC-ALL OTHER</td>\n      <td>Bread/Bakery Products/Savoury Bakery Products</td>\n      <td>NaN</td>\n      <td>46.5517</td>\n    </tr>\n    <tr>\n      <th>76</th>\n      <td>GROC-ALL OTHER</td>\n      <td>Prepared/Preserved Foods/Ready-Made Combinatio...</td>\n      <td>NaN</td>\n      <td>46.4789</td>\n    </tr>\n    <tr>\n      <th>77</th>\n      <td>GROC-ALL OTHER</td>\n      <td>Beverages/Non Alcoholic Beverages - Not Ready ...</td>\n      <td>NaN</td>\n      <td>46.2745</td>\n    </tr>\n    <tr>\n      <th>78</th>\n      <td>GROC-ALL OTHER</td>\n      <td>Milk/Butter/Cream/Yogurts/Cheese/Eggs/Substitu...</td>\n      <td>NaN</td>\n      <td>46.1538</td>\n    </tr>\n    <tr>\n      <th>79</th>\n      <td>GROC-ALL OTHER</td>\n      <td>Seasonings/Preservatives/Extracts/Pickles/Reli...</td>\n      <td>NaN</td>\n      <td>46.1538</td>\n    </tr>\n    <tr>\n      <th>80</th>\n      <td>GROC-ALL OTHER</td>\n      <td>Fish and Seafood/Shellfish Unprepared/Unprocessed</td>\n      <td>NaN</td>\n      <td>46.1538</td>\n    </tr>\n    <tr>\n      <th>81</th>\n      <td>GROC-ALL OTHER</td>\n      <td>Milk/Butter/Cream/Yogurts/Cheese/Eggs/Substitu...</td>\n      <td>NaN</td>\n      <td>46.1538</td>\n    </tr>\n    <tr>\n      <th>82</th>\n      <td>GROC-ALL OTHER</td>\n      <td>Fish and Seafood/Aquatic Plants Prepared/Proce...</td>\n      <td>NaN</td>\n      <td>45.7143</td>\n    </tr>\n    <tr>\n      <th>83</th>\n      <td>GROC-ALL OTHER</td>\n      <td>Fruits/Vegetables/Nuts/Seeds Prepared/Processe...</td>\n      <td>NaN</td>\n      <td>45.5446</td>\n    </tr>\n    <tr>\n      <th>84</th>\n      <td>GROC-ALL OTHER</td>\n      <td>Bread/Bakery Products/Sweet Bakery Products</td>\n      <td>NaN</td>\n      <td>45.3782</td>\n    </tr>\n    <tr>\n      <th>85</th>\n      <td>NATURAL FOODS</td>\n      <td>Bread/Bakery Products/Bread</td>\n      <td>NaN</td>\n      <td>79.0698</td>\n    </tr>\n    <tr>\n      <th>86</th>\n      <td>NATURAL FOODS</td>\n      <td>Milk/Butter/Cream/Yogurts/Cheese/Eggs/Substitu...</td>\n      <td>NaN</td>\n      <td>78.3217</td>\n    </tr>\n    <tr>\n      <th>87</th>\n      <td>NATURAL FOODS</td>\n      <td>Milk/Butter/Cream/Yogurts/Cheese/Eggs/Substitu...</td>\n      <td>NaN</td>\n      <td>75.9690</td>\n    </tr>\n    <tr>\n      <th>88</th>\n      <td>NATURAL FOODS</td>\n      <td>Milk/Butter/Cream/Yogurts/Cheese/Eggs/Substitu...</td>\n      <td>NaN</td>\n      <td>75.9690</td>\n    </tr>\n    <tr>\n      <th>89</th>\n      <td>NATURAL FOODS</td>\n      <td>Fish and Seafood/Fish - Prepared/Processed</td>\n      <td>NaN</td>\n      <td>75.4717</td>\n    </tr>\n    <tr>\n      <th>90</th>\n      <td>NATURAL FOODS</td>\n      <td>Milk/Butter/Cream/Yogurts/Cheese/Eggs/Substitu...</td>\n      <td>NaN</td>\n      <td>74.6032</td>\n    </tr>\n    <tr>\n      <th>91</th>\n      <td>NATURAL FOODS</td>\n      <td>Bread/Bakery Products/Baking/Cooking Mixes/Sup...</td>\n      <td>NaN</td>\n      <td>72.8477</td>\n    </tr>\n    <tr>\n      <th>92</th>\n      <td>NATURAL FOODS</td>\n      <td>Prepared/Preserved Foods/Pasta/Noodles</td>\n      <td>NaN</td>\n      <td>72.6115</td>\n    </tr>\n    <tr>\n      <th>93</th>\n      <td>NATURAL FOODS</td>\n      <td>Prepared/Preserved Foods/Dairy/Egg Based Produ...</td>\n      <td>NaN</td>\n      <td>72.5389</td>\n    </tr>\n    <tr>\n      <th>94</th>\n      <td>NATURAL FOODS</td>\n      <td>Cereal/Grain/Pulse Products/Grains/Flour</td>\n      <td>NaN</td>\n      <td>70.8861</td>\n    </tr>\n    <tr>\n      <th>95</th>\n      <td>NATURAL FOODS</td>\n      <td>Prepared/Preserved Foods/Desserts/Dessert Sauc...</td>\n      <td>NaN</td>\n      <td>70.2970</td>\n    </tr>\n    <tr>\n      <th>96</th>\n      <td>NATURAL FOODS</td>\n      <td>Milk/Butter/Cream/Yogurts/Cheese/Eggs/Substitu...</td>\n      <td>NaN</td>\n      <td>70.0000</td>\n    </tr>\n    <tr>\n      <th>97</th>\n      <td>NATURAL FOODS</td>\n      <td>Fruits/Vegetables/Nuts/Seeds Prepared/Processe...</td>\n      <td>NaN</td>\n      <td>69.7674</td>\n    </tr>\n    <tr>\n      <th>98</th>\n      <td>NATURAL FOODS</td>\n      <td>Prepared/Preserved Foods/Dough Based Products ...</td>\n      <td>NaN</td>\n      <td>69.1892</td>\n    </tr>\n    <tr>\n      <th>99</th>\n      <td>NATURAL FOODS</td>\n      <td>Prepared/Preserved Foods/Grain Based Products ...</td>\n      <td>NaN</td>\n      <td>69.1892</td>\n    </tr>\n    <tr>\n      <th>100</th>\n      <td>NATURAL FOODS</td>\n      <td>Fish and Seafood/Shellfish Prepared/Processed</td>\n      <td>NaN</td>\n      <td>68.9655</td>\n    </tr>\n    <tr>\n      <th>101</th>\n      <td>NATURAL FOODS</td>\n      <td>Cereal/Grain/Pulse Products/Cereal/Grain/Pulse...</td>\n      <td>NaN</td>\n      <td>67.7419</td>\n    </tr>\n    <tr>\n      <th>102</th>\n      <td>NATURAL FOODS</td>\n      <td>Vegetables - Unprepared/Unprocessed (Shelf Sta...</td>\n      <td>NaN</td>\n      <td>66.6667</td>\n    </tr>\n    <tr>\n      <th>103</th>\n      <td>NATURAL FOODS</td>\n      <td>Fruits/Vegetables/Nuts/Seeds Prepared/Processe...</td>\n      <td>NaN</td>\n      <td>66.6667</td>\n    </tr>\n    <tr>\n      <th>104</th>\n      <td>NATURAL FOODS</td>\n      <td>Bread/Bakery Products/Biscuits/Cookies</td>\n      <td>NaN</td>\n      <td>66.6667</td>\n    </tr>\n    <tr>\n      <th>105</th>\n      <td>NATURAL FOODS</td>\n      <td>Cereal/Grain/Pulse Products/Processed Cereal P...</td>\n      <td>NaN</td>\n      <td>66.3158</td>\n    </tr>\n    <tr>\n      <th>106</th>\n      <td>NATURAL FOODS</td>\n      <td>Prepared/Preserved Foods/Vegetable Based Produ...</td>\n      <td>NaN</td>\n      <td>66.2857</td>\n    </tr>\n    <tr>\n      <th>107</th>\n      <td>NATURAL FOODS</td>\n      <td>Fish and Seafood/Aquatic Plants Prepared/Proce...</td>\n      <td>NaN</td>\n      <td>66.1157</td>\n    </tr>\n    <tr>\n      <th>108</th>\n      <td>NATURAL FOODS</td>\n      <td>Milk/Butter/Cream/Yogurts/Cheese/Eggs/Substitu...</td>\n      <td>NaN</td>\n      <td>65.0888</td>\n    </tr>\n    <tr>\n      <th>109</th>\n      <td>NATURAL FOODS</td>\n      <td>Meat/Fish/Seafood Substitutes/Seafood Substitutes</td>\n      <td>NaN</td>\n      <td>63.1579</td>\n    </tr>\n    <tr>\n      <th>110</th>\n      <td>NATURAL FOODS</td>\n      <td>Meat/Fish/Seafood Substitutes/Fish Substitutes</td>\n      <td>NaN</td>\n      <td>63.1579</td>\n    </tr>\n    <tr>\n      <th>111</th>\n      <td>NATURAL FOODS</td>\n      <td>Meat/Fish/Seafood Substitutes/Meat Substitutes</td>\n      <td>NaN</td>\n      <td>63.1579</td>\n    </tr>\n    <tr>\n      <th>112</th>\n      <td>NATURAL FOODS</td>\n      <td>Milk/Butter/Cream/Yogurts/Cheese/Eggs/Substitu...</td>\n      <td>NaN</td>\n      <td>63.0435</td>\n    </tr>\n    <tr>\n      <th>113</th>\n      <td>NATURAL FOODS</td>\n      <td>Fish and Seafood/Aquatic Invertebrates - Prepa...</td>\n      <td>NaN</td>\n      <td>62.5000</td>\n    </tr>\n    <tr>\n      <th>114</th>\n      <td>NATURAL FOODS</td>\n      <td>Fruits/Vegetables/Nuts/Seeds Prepared/Processe...</td>\n      <td>NaN</td>\n      <td>61.9718</td>\n    </tr>\n    <tr>\n      <th>115</th>\n      <td>NATURAL FOODS</td>\n      <td>Fish and Seafood/Fish - Unprepared/Unprocessed</td>\n      <td>NaN</td>\n      <td>61.3861</td>\n    </tr>\n    <tr>\n      <th>116</th>\n      <td>NATURAL FOODS</td>\n      <td>Beverages/Non Alcoholic Beverages - Ready to D...</td>\n      <td>NaN</td>\n      <td>60.8414</td>\n    </tr>\n    <tr>\n      <th>117</th>\n      <td>NATURAL FOODS</td>\n      <td>Bread/Bakery Products/Sweet Bakery Products</td>\n      <td>NaN</td>\n      <td>60.6061</td>\n    </tr>\n    <tr>\n      <th>118</th>\n      <td>NATURAL FOODS</td>\n      <td>Prepared/Preserved Foods/Prepared Soups</td>\n      <td>NaN</td>\n      <td>60.4651</td>\n    </tr>\n    <tr>\n      <th>119</th>\n      <td>NATURAL FOODS</td>\n      <td>Vegetables - Unprepared/Unprocessed (Frozen)/V...</td>\n      <td>NaN</td>\n      <td>59.6491</td>\n    </tr>\n    <tr>\n      <th>120</th>\n      <td>NATURAL FOODS</td>\n      <td>Oils/Fats Edible/Oils Edible</td>\n      <td>NaN</td>\n      <td>59.5238</td>\n    </tr>\n    <tr>\n      <th>121</th>\n      <td>NATURAL FOODS</td>\n      <td>Beverages/Non Alcoholic Beverages - Not Ready ...</td>\n      <td>NaN</td>\n      <td>58.9928</td>\n    </tr>\n    <tr>\n      <th>122</th>\n      <td>NATURAL FOODS</td>\n      <td>Prepared/Preserved Foods/Sweet Spreads</td>\n      <td>NaN</td>\n      <td>58.3333</td>\n    </tr>\n    <tr>\n      <th>123</th>\n      <td>NATURAL FOODS</td>\n      <td>Bread/Bakery Products/Bread/Bakery Products Va...</td>\n      <td>NaN</td>\n      <td>57.1429</td>\n    </tr>\n    <tr>\n      <th>124</th>\n      <td>NATURAL FOODS</td>\n      <td>Prepared/Preserved Foods/Ready-Made Combinatio...</td>\n      <td>NaN</td>\n      <td>56.5789</td>\n    </tr>\n    <tr>\n      <th>125</th>\n      <td>NATURAL FOODS</td>\n      <td>Fish and Seafood/Shellfish Unprepared/Unprocessed</td>\n      <td>NaN</td>\n      <td>55.8559</td>\n    </tr>\n    <tr>\n      <th>126</th>\n      <td>NATURAL FOODS</td>\n      <td>Bread/Bakery Products/Savoury Bakery Products</td>\n      <td>NaN</td>\n      <td>55.2846</td>\n    </tr>\n    <tr>\n      <th>127</th>\n      <td>NATURAL FOODS</td>\n      <td>Fruits - Unprepared/Unprocessed (Shelf Stable)...</td>\n      <td>NaN</td>\n      <td>54.5455</td>\n    </tr>\n    <tr>\n      <th>128</th>\n      <td>NATURAL FOODS</td>\n      <td>Prepared/Preserved Foods/Prepared/Preserved Fo...</td>\n      <td>NaN</td>\n      <td>53.8462</td>\n    </tr>\n    <tr>\n      <th>129</th>\n      <td>NATURAL FOODS</td>\n      <td>Fish and Seafood/Seafood Variety Packs</td>\n      <td>NaN</td>\n      <td>53.6585</td>\n    </tr>\n    <tr>\n      <th>130</th>\n      <td>NATURAL FOODS</td>\n      <td>Milk/Butter/Cream/Yogurts/Cheese/Eggs/Substitu...</td>\n      <td>NaN</td>\n      <td>53.5211</td>\n    </tr>\n    <tr>\n      <th>131</th>\n      <td>NATURAL FOODS</td>\n      <td>Fish and Seafood/Aquatic Plants Unprepared/Unp...</td>\n      <td>NaN</td>\n      <td>53.4483</td>\n    </tr>\n    <tr>\n      <th>132</th>\n      <td>NATURAL FOODS</td>\n      <td>Seasonings/Preservatives/Extracts/Vinegars/Coo...</td>\n      <td>NaN</td>\n      <td>52.6316</td>\n    </tr>\n    <tr>\n      <th>133</th>\n      <td>NATURAL FOODS</td>\n      <td>Milk/Butter/Cream/Yogurts/Cheese/Eggs/Substitu...</td>\n      <td>NaN</td>\n      <td>51.7007</td>\n    </tr>\n    <tr>\n      <th>134</th>\n      <td>NATURAL FOODS</td>\n      <td>Prepared/Preserved Foods/Baby/Infant - Foods/B...</td>\n      <td>NaN</td>\n      <td>50.7463</td>\n    </tr>\n    <tr>\n      <th>135</th>\n      <td>NATURAL FOODS</td>\n      <td>Fish and Seafood/Aquatic Invertebrates - Unpre...</td>\n      <td>NaN</td>\n      <td>50.4065</td>\n    </tr>\n    <tr>\n      <th>136</th>\n      <td>NATURAL FOODS</td>\n      <td>Vegetables (Non Leaf) - Unprepared/Unprocessed...</td>\n      <td>NaN</td>\n      <td>50.0000</td>\n    </tr>\n    <tr>\n      <th>137</th>\n      <td>NATURAL FOODS</td>\n      <td>Fish and Seafood/Aquatic Invertebrates/Fish/Sh...</td>\n      <td>NaN</td>\n      <td>49.7297</td>\n    </tr>\n    <tr>\n      <th>138</th>\n      <td>NATURAL FOODS</td>\n      <td>Fruits/Vegetables/Nuts/Seeds Prepared/Processe...</td>\n      <td>NaN</td>\n      <td>47.5000</td>\n    </tr>\n    <tr>\n      <th>139</th>\n      <td>NATURAL FOODS</td>\n      <td>Confectionery/Sugar Sweetening Products/Sugars...</td>\n      <td>NaN</td>\n      <td>47.4359</td>\n    </tr>\n    <tr>\n      <th>140</th>\n      <td>NATURAL FOODS</td>\n      <td>Prepared/Preserved Foods/Snacks</td>\n      <td>NaN</td>\n      <td>46.9565</td>\n    </tr>\n    <tr>\n      <th>141</th>\n      <td>NATURAL FOODS</td>\n      <td>Fruits/Vegetables/Nuts/Seeds Prepared/Processe...</td>\n      <td>NaN</td>\n      <td>46.3415</td>\n    </tr>\n    <tr>\n      <th>142</th>\n      <td>NATURAL FOODS</td>\n      <td>Oils/Fats Edible/Fats Edible</td>\n      <td>NaN</td>\n      <td>46.2963</td>\n    </tr>\n    <tr>\n      <th>143</th>\n      <td>NATURAL FOODS</td>\n      <td>Seasonings/Preservatives/Extracts/Pickles/Reli...</td>\n      <td>NaN</td>\n      <td>46.1538</td>\n    </tr>\n    <tr>\n      <th>144</th>\n      <td>NF NON-EDIBLE</td>\n      <td>Vegetables (Non Leaf) - Unprepared/Unprocessed...</td>\n      <td>NaN</td>\n      <td>52.1008</td>\n    </tr>\n    <tr>\n      <th>145</th>\n      <td>NF NON-EDIBLE</td>\n      <td>Oils/Fats Edible/Oils Edible</td>\n      <td>NaN</td>\n      <td>48.6957</td>\n    </tr>\n    <tr>\n      <th>146</th>\n      <td>NF NON-EDIBLE</td>\n      <td>Fish and Seafood/Fish - Prepared/Processed</td>\n      <td>NaN</td>\n      <td>45.9016</td>\n    </tr>\n    <tr>\n      <th>147</th>\n      <td>NF NON-EDIBLE</td>\n      <td>Vegetables (Non Leaf) - Unprepared/Unprocessed...</td>\n      <td>NaN</td>\n      <td>45.7627</td>\n    </tr>\n    <tr>\n      <th>148</th>\n      <td>PET</td>\n      <td>Bread/Bakery Products/Baking/Cooking Mixes/Sup...</td>\n      <td>NaN</td>\n      <td>49.7696</td>\n    </tr>\n    <tr>\n      <th>149</th>\n      <td>PET</td>\n      <td>Prepared/Preserved Foods/Dairy/Egg Based Produ...</td>\n      <td>NaN</td>\n      <td>48.3607</td>\n    </tr>\n    <tr>\n      <th>150</th>\n      <td>PET</td>\n      <td>Meat/Fish/Seafood Substitutes/Meat Substitutes</td>\n      <td>NaN</td>\n      <td>48.1132</td>\n    </tr>\n    <tr>\n      <th>151</th>\n      <td>PET</td>\n      <td>Meat/Fish/Seafood Substitutes/Fish Substitutes</td>\n      <td>NaN</td>\n      <td>48.1132</td>\n    </tr>\n    <tr>\n      <th>152</th>\n      <td>PET</td>\n      <td>Meat/Fish/Seafood Substitutes/Seafood Substitutes</td>\n      <td>NaN</td>\n      <td>48.1132</td>\n    </tr>\n    <tr>\n      <th>153</th>\n      <td>PET</td>\n      <td>Prepared/Preserved Foods/Dough Based Products ...</td>\n      <td>NaN</td>\n      <td>47.1074</td>\n    </tr>\n    <tr>\n      <th>154</th>\n      <td>PET</td>\n      <td>Prepared/Preserved Foods/Ready-Made Combinatio...</td>\n      <td>NaN</td>\n      <td>46.9565</td>\n    </tr>\n    <tr>\n      <th>155</th>\n      <td>PET</td>\n      <td>Bread/Bakery Products/Sweet Bakery Products</td>\n      <td>NaN</td>\n      <td>46.9484</td>\n    </tr>\n    <tr>\n      <th>156</th>\n      <td>PET</td>\n      <td>Prepared/Preserved Foods/Desserts/Dessert Sauc...</td>\n      <td>NaN</td>\n      <td>46.8254</td>\n    </tr>\n    <tr>\n      <th>157</th>\n      <td>PET</td>\n      <td>Beverages/Non Alcoholic Beverages - Not Ready ...</td>\n      <td>NaN</td>\n      <td>46.6877</td>\n    </tr>\n    <tr>\n      <th>158</th>\n      <td>PET</td>\n      <td>Seasonings/Preservatives/Extracts/Herbs/Spices...</td>\n      <td>NaN</td>\n      <td>46.5950</td>\n    </tr>\n    <tr>\n      <th>159</th>\n      <td>PET</td>\n      <td>Beverages/Coffee/Coffee Substitutes</td>\n      <td>NaN</td>\n      <td>46.5517</td>\n    </tr>\n    <tr>\n      <th>160</th>\n      <td>PET</td>\n      <td>Prepared/Preserved Foods/Grain Based Products ...</td>\n      <td>NaN</td>\n      <td>46.2810</td>\n    </tr>\n    <tr>\n      <th>161</th>\n      <td>PET</td>\n      <td>Prepared/Preserved Foods/Vegetable Based Produ...</td>\n      <td>NaN</td>\n      <td>46.2185</td>\n    </tr>\n    <tr>\n      <th>162</th>\n      <td>PET</td>\n      <td>Milk/Butter/Cream/Yogurts/Cheese/Eggs/Substitu...</td>\n      <td>NaN</td>\n      <td>45.9574</td>\n    </tr>\n    <tr>\n      <th>163</th>\n      <td>PET</td>\n      <td>Prepared/Preserved Foods/Sweet Spreads</td>\n      <td>NaN</td>\n      <td>45.9144</td>\n    </tr>\n    <tr>\n      <th>164</th>\n      <td>PET</td>\n      <td>Meat/Poultry/Other Animals/Meat/Poultry/Other ...</td>\n      <td>NaN</td>\n      <td>45.6000</td>\n    </tr>\n    <tr>\n      <th>165</th>\n      <td>PET</td>\n      <td>Fish and Seafood/Aquatic Plants Prepared/Proce...</td>\n      <td>NaN</td>\n      <td>45.5446</td>\n    </tr>\n    <tr>\n      <th>166</th>\n      <td>PET</td>\n      <td>Seasonings/Preservatives/Extracts/Pickles/Reli...</td>\n      <td>NaN</td>\n      <td>45.4183</td>\n    </tr>\n    <tr>\n      <th>167</th>\n      <td>PET</td>\n      <td>Prepared/Preserved Foods/Sandwiches/Filled Rol...</td>\n      <td>NaN</td>\n      <td>45.4106</td>\n    </tr>\n    <tr>\n      <th>168</th>\n      <td>PET</td>\n      <td>Prepared/Preserved Foods/Pasta/Noodles</td>\n      <td>NaN</td>\n      <td>45.2489</td>\n    </tr>\n    <tr>\n      <th>169</th>\n      <td>PET</td>\n      <td>Prepared/Preserved Foods/Baby/Infant - Foods/B...</td>\n      <td>NaN</td>\n      <td>45.2489</td>\n    </tr>\n    <tr>\n      <th>170</th>\n      <td>PET</td>\n      <td>Cereal/Grain/Pulse Products/Processed Cereal P...</td>\n      <td>NaN</td>\n      <td>45.1613</td>\n    </tr>\n    <tr>\n      <th>171</th>\n      <td>PET</td>\n      <td>Bread/Bakery Products/Biscuits/Cookies</td>\n      <td>NaN</td>\n      <td>45.1613</td>\n    </tr>\n    <tr>\n      <th>172</th>\n      <td>PET</td>\n      <td>Beverages/Alcoholic Beverages (Includes De-Alc...</td>\n      <td>NaN</td>\n      <td>45.0000</td>\n    </tr>\n    <tr>\n      <th>173</th>\n      <td>REFRIG GROCERY</td>\n      <td>Milk/Butter/Cream/Yogurts/Cheese/Eggs/Substitu...</td>\n      <td>NaN</td>\n      <td>52.3364</td>\n    </tr>\n    <tr>\n      <th>174</th>\n      <td>REFRIG GROCERY</td>\n      <td>Milk/Butter/Cream/Yogurts/Cheese/Eggs/Substitu...</td>\n      <td>NaN</td>\n      <td>51.3889</td>\n    </tr>\n    <tr>\n      <th>175</th>\n      <td>REFRIG GROCERY</td>\n      <td>Milk/Butter/Cream/Yogurts/Cheese/Eggs/Substitu...</td>\n      <td>NaN</td>\n      <td>46.6431</td>\n    </tr>\n    <tr>\n      <th>176</th>\n      <td>REFRIG GROCERY</td>\n      <td>Milk/Butter/Cream/Yogurts/Cheese/Eggs/Substitu...</td>\n      <td>NaN</td>\n      <td>46.3415</td>\n    </tr>\n    <tr>\n      <th>177</th>\n      <td>REFRIG GROCERY</td>\n      <td>Beverages/Tea and Infusions/Tisanes</td>\n      <td>NaN</td>\n      <td>45.5516</td>\n    </tr>\n    <tr>\n      <th>178</th>\n      <td>REFRIG GROCERY</td>\n      <td>Prepared/Preserved Foods/Dough Based Products ...</td>\n      <td>NaN</td>\n      <td>45.4237</td>\n    </tr>\n    <tr>\n      <th>179</th>\n      <td>REFRIG GROCERY</td>\n      <td>Milk/Butter/Cream/Yogurts/Cheese/Eggs/Substitu...</td>\n      <td>NaN</td>\n      <td>45.3237</td>\n    </tr>\n    <tr>\n      <th>180</th>\n      <td>SOFT DRINKS</td>\n      <td>Prepared/Preserved Foods/Baby/Infant - Foods/B...</td>\n      <td>NaN</td>\n      <td>49.4118</td>\n    </tr>\n    <tr>\n      <th>181</th>\n      <td>SOFT DRINKS</td>\n      <td>Beverages/Tea and Infusions/Tisanes</td>\n      <td>NaN</td>\n      <td>47.4576</td>\n    </tr>\n    <tr>\n      <th>182</th>\n      <td>SPIRITS</td>\n      <td>Confectionery/Sugar Sweetening Products/Confec...</td>\n      <td>NaN</td>\n      <td>45.2675</td>\n    </tr>\n  </tbody>\n</table>\n</div>",
       "datasetInfos": [],
       "metadata": {},
       "removedWidgets": [],
       "textData": null,
       "type": "htmlSandbox"
      }
     },
     "output_type": "display_data"
    }
   ],
   "source": [
    "res_merge "
   ]
  },
  {
   "cell_type": "code",
   "execution_count": 0,
   "metadata": {
    "application/vnd.databricks.v1+cell": {
     "cellMetadata": {},
     "inputWidgets": {},
     "nuid": "93aff4e8-175c-4e0f-989e-dd9a9a321abd",
     "showTitle": false,
     "title": ""
    }
   },
   "outputs": [],
   "source": []
  },
  {
   "cell_type": "code",
   "execution_count": 0,
   "metadata": {
    "application/vnd.databricks.v1+cell": {
     "cellMetadata": {},
     "inputWidgets": {},
     "nuid": "6102f973-08ab-4668-a097-d8703397e518",
     "showTitle": false,
     "title": ""
    }
   },
   "outputs": [],
   "source": []
  },
  {
   "cell_type": "code",
   "execution_count": 0,
   "metadata": {
    "application/vnd.databricks.v1+cell": {
     "cellMetadata": {
      "byteLimit": 2048000,
      "rowLimit": 10000
     },
     "inputWidgets": {},
     "nuid": "c3eeb068-85f8-449c-9441-232b02dce142",
     "showTitle": false,
     "title": ""
    }
   },
   "outputs": [
    {
     "data": {
      "text/html": [
       "<style scoped>\n",
       "  .ansiout {\n",
       "    display: block;\n",
       "    unicode-bidi: embed;\n",
       "    white-space: pre-wrap;\n",
       "    word-wrap: break-word;\n",
       "    word-break: break-all;\n",
       "    font-family: \"Source Code Pro\", \"Menlo\", monospace;;\n",
       "    font-size: 13px;\n",
       "    color: #555;\n",
       "    margin-left: 4px;\n",
       "    line-height: 19px;\n",
       "  }\n",
       "</style>\n",
       "<div class=\"ansiout\">Out[43]: </div>"
      ]
     },
     "metadata": {
      "application/vnd.databricks.v1+output": {
       "addedWidgets": {},
       "arguments": {},
       "data": "<div class=\"ansiout\">Out[43]: </div>",
       "datasetInfos": [],
       "metadata": {},
       "removedWidgets": [],
       "type": "html"
      }
     },
     "output_type": "display_data"
    },
    {
     "data": {
      "text/html": [
       "<div>\n",
       "<style scoped>\n",
       "    .dataframe tbody tr th:only-of-type {\n",
       "        vertical-align: middle;\n",
       "    }\n",
       "\n",
       "    .dataframe tbody tr th {\n",
       "        vertical-align: top;\n",
       "    }\n",
       "\n",
       "    .dataframe thead th {\n",
       "        text-align: right;\n",
       "    }\n",
       "</style>\n",
       "<table border=\"1\" class=\"dataframe\">\n",
       "  <thead>\n",
       "    <tr style=\"text-align: right;\">\n",
       "      <th></th>\n",
       "      <th>KROGER_DEPT</th>\n",
       "      <th>GS1_FAMILY/CLASS</th>\n",
       "      <th>MATCH_SCORE</th>\n",
       "    </tr>\n",
       "  </thead>\n",
       "  <tbody>\n",
       "    <tr>\n",
       "      <th>0</th>\n",
       "      <td>BEER</td>\n",
       "      <td>Beverages/Alcoholic Beverages (Includes De-Alc...</td>\n",
       "      <td>47.031963</td>\n",
       "    </tr>\n",
       "    <tr>\n",
       "      <th>1</th>\n",
       "      <td>CKY/CRKR/SNK</td>\n",
       "      <td>Prepared/Preserved Foods/Snacks</td>\n",
       "      <td>46.831956</td>\n",
       "    </tr>\n",
       "    <tr>\n",
       "      <th>2</th>\n",
       "      <td>DAIRY</td>\n",
       "      <td>Milk/Butter/Cream/Yogurts/Cheese/Eggs/Substitu...</td>\n",
       "      <td>48.672566</td>\n",
       "    </tr>\n",
       "    <tr>\n",
       "      <th>3</th>\n",
       "      <td>DAIRY</td>\n",
       "      <td>Prepared/Preserved Foods/Dairy/Egg Based Produ...</td>\n",
       "      <td>46.853147</td>\n",
       "    </tr>\n",
       "    <tr>\n",
       "      <th>4</th>\n",
       "      <td>DAIRY</td>\n",
       "      <td>Prepared/Preserved Foods/Grain Based Products ...</td>\n",
       "      <td>45.112782</td>\n",
       "    </tr>\n",
       "    <tr>\n",
       "      <th>5</th>\n",
       "      <td>FROZEN GROCERY</td>\n",
       "      <td>Fruits/Vegetables Fresh Cut/Vegetables - Fresh...</td>\n",
       "      <td>47.462277</td>\n",
       "    </tr>\n",
       "    <tr>\n",
       "      <th>6</th>\n",
       "      <td>GROC NON-EDIBLE</td>\n",
       "      <td>Tobacco/Cannabis/Smoking Accessories/Cannabis ...</td>\n",
       "      <td>45.416667</td>\n",
       "    </tr>\n",
       "    <tr>\n",
       "      <th>7</th>\n",
       "      <td>SOFT DRINKS</td>\n",
       "      <td>Beverages/Beverages Variety Packs</td>\n",
       "      <td>46.017699</td>\n",
       "    </tr>\n",
       "  </tbody>\n",
       "</table>\n",
       "</div>"
      ]
     },
     "metadata": {
      "application/vnd.databricks.v1+output": {
       "addedWidgets": {},
       "arguments": {},
       "data": "<div>\n<style scoped>\n    .dataframe tbody tr th:only-of-type {\n        vertical-align: middle;\n    }\n\n    .dataframe tbody tr th {\n        vertical-align: top;\n    }\n\n    .dataframe thead th {\n        text-align: right;\n    }\n</style>\n<table border=\"1\" class=\"dataframe\">\n  <thead>\n    <tr style=\"text-align: right;\">\n      <th></th>\n      <th>KROGER_DEPT</th>\n      <th>GS1_FAMILY/CLASS</th>\n      <th>MATCH_SCORE</th>\n    </tr>\n  </thead>\n  <tbody>\n    <tr>\n      <th>0</th>\n      <td>BEER</td>\n      <td>Beverages/Alcoholic Beverages (Includes De-Alc...</td>\n      <td>47.031963</td>\n    </tr>\n    <tr>\n      <th>1</th>\n      <td>CKY/CRKR/SNK</td>\n      <td>Prepared/Preserved Foods/Snacks</td>\n      <td>46.831956</td>\n    </tr>\n    <tr>\n      <th>2</th>\n      <td>DAIRY</td>\n      <td>Milk/Butter/Cream/Yogurts/Cheese/Eggs/Substitu...</td>\n      <td>48.672566</td>\n    </tr>\n    <tr>\n      <th>3</th>\n      <td>DAIRY</td>\n      <td>Prepared/Preserved Foods/Dairy/Egg Based Produ...</td>\n      <td>46.853147</td>\n    </tr>\n    <tr>\n      <th>4</th>\n      <td>DAIRY</td>\n      <td>Prepared/Preserved Foods/Grain Based Products ...</td>\n      <td>45.112782</td>\n    </tr>\n    <tr>\n      <th>5</th>\n      <td>FROZEN GROCERY</td>\n      <td>Fruits/Vegetables Fresh Cut/Vegetables - Fresh...</td>\n      <td>47.462277</td>\n    </tr>\n    <tr>\n      <th>6</th>\n      <td>GROC NON-EDIBLE</td>\n      <td>Tobacco/Cannabis/Smoking Accessories/Cannabis ...</td>\n      <td>45.416667</td>\n    </tr>\n    <tr>\n      <th>7</th>\n      <td>SOFT DRINKS</td>\n      <td>Beverages/Beverages Variety Packs</td>\n      <td>46.017699</td>\n    </tr>\n  </tbody>\n</table>\n</div>",
       "datasetInfos": [],
       "metadata": {},
       "removedWidgets": [],
       "textData": null,
       "type": "htmlSandbox"
      }
     },
     "output_type": "display_data"
    }
   ],
   "source": [
    "res_merge.rename(columns = {'match_score':'res_match_score'})  # shape: (8, 3)"
   ]
  },
  {
   "cell_type": "code",
   "execution_count": 0,
   "metadata": {
    "application/vnd.databricks.v1+cell": {
     "cellMetadata": {
      "byteLimit": 2048000,
      "rowLimit": 10000
     },
     "inputWidgets": {},
     "nuid": "9bfc2405-e308-496e-a742-a7395adda61d",
     "showTitle": false,
     "title": ""
    }
   },
   "outputs": [
    {
     "data": {
      "text/html": [
       "<style scoped>\n",
       "  .ansiout {\n",
       "    display: block;\n",
       "    unicode-bidi: embed;\n",
       "    white-space: pre-wrap;\n",
       "    word-wrap: break-word;\n",
       "    word-break: break-all;\n",
       "    font-family: \"Source Code Pro\", \"Menlo\", monospace;;\n",
       "    font-size: 13px;\n",
       "    color: #555;\n",
       "    margin-left: 4px;\n",
       "    line-height: 19px;\n",
       "  }\n",
       "</style>\n",
       "<div class=\"ansiout\">Out[55]: </div>"
      ]
     },
     "metadata": {
      "application/vnd.databricks.v1+output": {
       "addedWidgets": {},
       "arguments": {},
       "data": "<div class=\"ansiout\">Out[55]: </div>",
       "datasetInfos": [],
       "metadata": {},
       "removedWidgets": [],
       "type": "html"
      }
     },
     "output_type": "display_data"
    },
    {
     "data": {
      "text/html": [
       "<div>\n",
       "<style scoped>\n",
       "    .dataframe tbody tr th:only-of-type {\n",
       "        vertical-align: middle;\n",
       "    }\n",
       "\n",
       "    .dataframe tbody tr th {\n",
       "        vertical-align: top;\n",
       "    }\n",
       "\n",
       "    .dataframe thead th {\n",
       "        text-align: right;\n",
       "    }\n",
       "</style>\n",
       "<table border=\"1\" class=\"dataframe\">\n",
       "  <thead>\n",
       "    <tr style=\"text-align: right;\">\n",
       "      <th></th>\n",
       "      <th>KROGER_DEPT</th>\n",
       "      <th>GS1_FAMILY/CLASS</th>\n",
       "      <th>MATCH_SCORE_x</th>\n",
       "      <th>MATCH_SCORE_y</th>\n",
       "    </tr>\n",
       "  </thead>\n",
       "  <tbody>\n",
       "    <tr>\n",
       "      <th>0</th>\n",
       "      <td>BEER</td>\n",
       "      <td>Beverages/Alcoholic Beverages (Includes De-Alc...</td>\n",
       "      <td>47.031963</td>\n",
       "      <td>51.562500</td>\n",
       "    </tr>\n",
       "    <tr>\n",
       "      <th>1</th>\n",
       "      <td>CKY/CRKR/SNK</td>\n",
       "      <td>Prepared/Preserved Foods/Snacks</td>\n",
       "      <td>46.831956</td>\n",
       "      <td>48.695652</td>\n",
       "    </tr>\n",
       "    <tr>\n",
       "      <th>2</th>\n",
       "      <td>DAIRY</td>\n",
       "      <td>Milk/Butter/Cream/Yogurts/Cheese/Eggs/Substitu...</td>\n",
       "      <td>48.672566</td>\n",
       "      <td>60.301508</td>\n",
       "    </tr>\n",
       "    <tr>\n",
       "      <th>3</th>\n",
       "      <td>DAIRY</td>\n",
       "      <td>Prepared/Preserved Foods/Dairy/Egg Based Produ...</td>\n",
       "      <td>46.853147</td>\n",
       "      <td>52.674897</td>\n",
       "    </tr>\n",
       "    <tr>\n",
       "      <th>4</th>\n",
       "      <td>DAIRY</td>\n",
       "      <td>Prepared/Preserved Foods/Grain Based Products ...</td>\n",
       "      <td>45.112782</td>\n",
       "      <td>46.473029</td>\n",
       "    </tr>\n",
       "    <tr>\n",
       "      <th>...</th>\n",
       "      <td>...</td>\n",
       "      <td>...</td>\n",
       "      <td>...</td>\n",
       "      <td>...</td>\n",
       "    </tr>\n",
       "    <tr>\n",
       "      <th>178</th>\n",
       "      <td>REFRIG GROCERY</td>\n",
       "      <td>Prepared/Preserved Foods/Dough Based Products ...</td>\n",
       "      <td>NaN</td>\n",
       "      <td>45.423729</td>\n",
       "    </tr>\n",
       "    <tr>\n",
       "      <th>179</th>\n",
       "      <td>REFRIG GROCERY</td>\n",
       "      <td>Milk/Butter/Cream/Yogurts/Cheese/Eggs/Substitu...</td>\n",
       "      <td>NaN</td>\n",
       "      <td>45.323741</td>\n",
       "    </tr>\n",
       "    <tr>\n",
       "      <th>180</th>\n",
       "      <td>SOFT DRINKS</td>\n",
       "      <td>Prepared/Preserved Foods/Baby/Infant - Foods/B...</td>\n",
       "      <td>NaN</td>\n",
       "      <td>49.411765</td>\n",
       "    </tr>\n",
       "    <tr>\n",
       "      <th>181</th>\n",
       "      <td>SOFT DRINKS</td>\n",
       "      <td>Beverages/Tea and Infusions/Tisanes</td>\n",
       "      <td>NaN</td>\n",
       "      <td>47.457627</td>\n",
       "    </tr>\n",
       "    <tr>\n",
       "      <th>182</th>\n",
       "      <td>SPIRITS</td>\n",
       "      <td>Confectionery/Sugar Sweetening Products/Confec...</td>\n",
       "      <td>NaN</td>\n",
       "      <td>45.267490</td>\n",
       "    </tr>\n",
       "  </tbody>\n",
       "</table>\n",
       "<p>183 rows × 4 columns</p>\n",
       "</div>"
      ]
     },
     "metadata": {
      "application/vnd.databricks.v1+output": {
       "addedWidgets": {},
       "arguments": {},
       "data": "<div>\n<style scoped>\n    .dataframe tbody tr th:only-of-type {\n        vertical-align: middle;\n    }\n\n    .dataframe tbody tr th {\n        vertical-align: top;\n    }\n\n    .dataframe thead th {\n        text-align: right;\n    }\n</style>\n<table border=\"1\" class=\"dataframe\">\n  <thead>\n    <tr style=\"text-align: right;\">\n      <th></th>\n      <th>KROGER_DEPT</th>\n      <th>GS1_FAMILY/CLASS</th>\n      <th>MATCH_SCORE_x</th>\n      <th>MATCH_SCORE_y</th>\n    </tr>\n  </thead>\n  <tbody>\n    <tr>\n      <th>0</th>\n      <td>BEER</td>\n      <td>Beverages/Alcoholic Beverages (Includes De-Alc...</td>\n      <td>47.031963</td>\n      <td>51.562500</td>\n    </tr>\n    <tr>\n      <th>1</th>\n      <td>CKY/CRKR/SNK</td>\n      <td>Prepared/Preserved Foods/Snacks</td>\n      <td>46.831956</td>\n      <td>48.695652</td>\n    </tr>\n    <tr>\n      <th>2</th>\n      <td>DAIRY</td>\n      <td>Milk/Butter/Cream/Yogurts/Cheese/Eggs/Substitu...</td>\n      <td>48.672566</td>\n      <td>60.301508</td>\n    </tr>\n    <tr>\n      <th>3</th>\n      <td>DAIRY</td>\n      <td>Prepared/Preserved Foods/Dairy/Egg Based Produ...</td>\n      <td>46.853147</td>\n      <td>52.674897</td>\n    </tr>\n    <tr>\n      <th>4</th>\n      <td>DAIRY</td>\n      <td>Prepared/Preserved Foods/Grain Based Products ...</td>\n      <td>45.112782</td>\n      <td>46.473029</td>\n    </tr>\n    <tr>\n      <th>...</th>\n      <td>...</td>\n      <td>...</td>\n      <td>...</td>\n      <td>...</td>\n    </tr>\n    <tr>\n      <th>178</th>\n      <td>REFRIG GROCERY</td>\n      <td>Prepared/Preserved Foods/Dough Based Products ...</td>\n      <td>NaN</td>\n      <td>45.423729</td>\n    </tr>\n    <tr>\n      <th>179</th>\n      <td>REFRIG GROCERY</td>\n      <td>Milk/Butter/Cream/Yogurts/Cheese/Eggs/Substitu...</td>\n      <td>NaN</td>\n      <td>45.323741</td>\n    </tr>\n    <tr>\n      <th>180</th>\n      <td>SOFT DRINKS</td>\n      <td>Prepared/Preserved Foods/Baby/Infant - Foods/B...</td>\n      <td>NaN</td>\n      <td>49.411765</td>\n    </tr>\n    <tr>\n      <th>181</th>\n      <td>SOFT DRINKS</td>\n      <td>Beverages/Tea and Infusions/Tisanes</td>\n      <td>NaN</td>\n      <td>47.457627</td>\n    </tr>\n    <tr>\n      <th>182</th>\n      <td>SPIRITS</td>\n      <td>Confectionery/Sugar Sweetening Products/Confec...</td>\n      <td>NaN</td>\n      <td>45.267490</td>\n    </tr>\n  </tbody>\n</table>\n<p>183 rows × 4 columns</p>\n</div>",
       "datasetInfos": [],
       "metadata": {},
       "removedWidgets": [],
       "textData": null,
       "type": "htmlSandbox"
      }
     },
     "output_type": "display_data"
    }
   ],
   "source": [
    "res_merge"
   ]
  },
  {
   "cell_type": "code",
   "execution_count": 0,
   "metadata": {
    "application/vnd.databricks.v1+cell": {
     "cellMetadata": {
      "byteLimit": 2048000,
      "rowLimit": 10000
     },
     "inputWidgets": {},
     "nuid": "7267dd64-b10f-41f5-90ef-ee5a6118e374",
     "showTitle": false,
     "title": ""
    }
   },
   "outputs": [
    {
     "data": {
      "text/html": [
       "<style scoped>\n",
       "  .ansiout {\n",
       "    display: block;\n",
       "    unicode-bidi: embed;\n",
       "    white-space: pre-wrap;\n",
       "    word-wrap: break-word;\n",
       "    word-break: break-all;\n",
       "    font-family: \"Source Code Pro\", \"Menlo\", monospace;;\n",
       "    font-size: 13px;\n",
       "    color: #555;\n",
       "    margin-left: 4px;\n",
       "    line-height: 19px;\n",
       "  }\n",
       "</style>\n",
       "<div class=\"ansiout\"></div>"
      ]
     },
     "metadata": {
      "application/vnd.databricks.v1+output": {
       "addedWidgets": {},
       "arguments": {},
       "data": "<div class=\"ansiout\"></div>",
       "datasetInfos": [],
       "metadata": {},
       "removedWidgets": [],
       "type": "html"
      }
     },
     "output_type": "display_data"
    }
   ],
   "source": [
    "res.to_csv('PIMMART_DEPT_TO_GS1_CLASS_LEVEL_MAPPING_062023.csv', index = None)"
   ]
  },
  {
   "cell_type": "code",
   "execution_count": 0,
   "metadata": {
    "application/vnd.databricks.v1+cell": {
     "cellMetadata": {
      "byteLimit": 2048000,
      "rowLimit": 10000
     },
     "inputWidgets": {},
     "nuid": "70501bba-47f0-4762-b848-aebabef8425a",
     "showTitle": false,
     "title": ""
    }
   },
   "outputs": [
    {
     "data": {
      "text/html": [
       "<style scoped>\n",
       "  .ansiout {\n",
       "    display: block;\n",
       "    unicode-bidi: embed;\n",
       "    white-space: pre-wrap;\n",
       "    word-wrap: break-word;\n",
       "    word-break: break-all;\n",
       "    font-family: \"Source Code Pro\", \"Menlo\", monospace;;\n",
       "    font-size: 13px;\n",
       "    color: #555;\n",
       "    margin-left: 4px;\n",
       "    line-height: 19px;\n",
       "  }\n",
       "</style>\n",
       "<div class=\"ansiout\"></div>"
      ]
     },
     "metadata": {
      "application/vnd.databricks.v1+output": {
       "addedWidgets": {},
       "arguments": {},
       "data": "<div class=\"ansiout\"></div>",
       "datasetInfos": [],
       "metadata": {},
       "removedWidgets": [],
       "type": "html"
      }
     },
     "output_type": "display_data"
    }
   ],
   "source": [
    "pim_match_1= pd.DataFrame(pimmart_grocery.groupby('VND_ECOM_DSC').apply(lambda x: ' '.join(x.SUBCOM_DSC.unique())),columns = ['SUBCOM_DSC_text']).reset_index()"
   ]
  },
  {
   "cell_type": "code",
   "execution_count": 0,
   "metadata": {
    "application/vnd.databricks.v1+cell": {
     "cellMetadata": {
      "byteLimit": 2048000,
      "rowLimit": 10000
     },
     "inputWidgets": {},
     "nuid": "fa4d98e8-8ab2-42a0-9ae1-b15352be2d2e",
     "showTitle": false,
     "title": ""
    }
   },
   "outputs": [
    {
     "data": {
      "text/html": [
       "<style scoped>\n",
       "  .ansiout {\n",
       "    display: block;\n",
       "    unicode-bidi: embed;\n",
       "    white-space: pre-wrap;\n",
       "    word-wrap: break-word;\n",
       "    word-break: break-all;\n",
       "    font-family: \"Source Code Pro\", \"Menlo\", monospace;;\n",
       "    font-size: 13px;\n",
       "    color: #555;\n",
       "    margin-left: 4px;\n",
       "    line-height: 19px;\n",
       "  }\n",
       "</style>\n",
       "<div class=\"ansiout\">&lt;command-1424199737389167&gt;:1: SettingWithCopyWarning: \n",
       "A value is trying to be set on a copy of a slice from a DataFrame.\n",
       "Try using .loc[row_indexer,col_indexer] = value instead\n",
       "\n",
       "See the caveats in the documentation: https://pandas.pydata.org/pandas-docs/stable/user_guide/indexing.html#returning-a-view-versus-a-copy\n",
       "  pimart_commercial_bakery[&#39;ITEM_SUBCOM_DPT&#39;] = (pimart_commercial_bakery.VND_ECOM_DSC + &#39; &#39; + pimart_commercial_bakery.SUBCOM_DSC+&#39; &#39; + pimart_commercial_bakery.DPT_DSC).str.lower()\n",
       "</div>"
      ]
     },
     "metadata": {
      "application/vnd.databricks.v1+output": {
       "addedWidgets": {},
       "arguments": {},
       "data": "<div class=\"ansiout\">&lt;command-1424199737389167&gt;:1: SettingWithCopyWarning: \nA value is trying to be set on a copy of a slice from a DataFrame.\nTry using .loc[row_indexer,col_indexer] = value instead\n\nSee the caveats in the documentation: https://pandas.pydata.org/pandas-docs/stable/user_guide/indexing.html#returning-a-view-versus-a-copy\n  pimart_commercial_bakery[&#39;ITEM_SUBCOM_DPT&#39;] = (pimart_commercial_bakery.VND_ECOM_DSC + &#39; &#39; + pimart_commercial_bakery.SUBCOM_DSC+&#39; &#39; + pimart_commercial_bakery.DPT_DSC).str.lower()\n</div>",
       "datasetInfos": [],
       "metadata": {},
       "removedWidgets": [],
       "type": "html"
      }
     },
     "output_type": "display_data"
    }
   ],
   "source": [
    "pimart_commercial_bakery['ITEM_SUBCOM_DPT'] = (pimart_commercial_bakery.VND_ECOM_DSC + ' ' + pimart_commercial_bakery.SUBCOM_DSC+' ' + pimart_commercial_bakery.DPT_DSC).str.lower()"
   ]
  },
  {
   "cell_type": "code",
   "execution_count": 0,
   "metadata": {
    "application/vnd.databricks.v1+cell": {
     "cellMetadata": {
      "byteLimit": 2048000,
      "rowLimit": 10000
     },
     "inputWidgets": {},
     "nuid": "caeae81c-5164-4ea3-b258-2cd7fc9273c1",
     "showTitle": false,
     "title": ""
    }
   },
   "outputs": [
    {
     "data": {
      "text/html": [
       "<style scoped>\n",
       "  .ansiout {\n",
       "    display: block;\n",
       "    unicode-bidi: embed;\n",
       "    white-space: pre-wrap;\n",
       "    word-wrap: break-word;\n",
       "    word-break: break-all;\n",
       "    font-family: \"Source Code Pro\", \"Menlo\", monospace;;\n",
       "    font-size: 13px;\n",
       "    color: #555;\n",
       "    margin-left: 4px;\n",
       "    line-height: 19px;\n",
       "  }\n",
       "</style>\n",
       "<div class=\"ansiout\">Out[97]: 0          lewis bake shop texas toast half loaf bread ma...\n",
       "2          snack cakes, little debbie family pack back to...\n",
       "3          snack cakes, little debbie family pack back to...\n",
       "17         lewis bake shop half loaf hearty rye bread mai...\n",
       "18         snack cakes, little debbie family pack back to...\n",
       "                                 ...                        \n",
       "4924051    host donets dbl choc bag donuts - bagged comme...\n",
       "4924154    host donets crunch bag donuts - bagged commerc...\n",
       "4926558    krispy kreme doughnuts with m&amp;m&#39;s lto donuts -...\n",
       "4927407    entenmann&#39;s chocolate chip crumb loaf cake, 13...\n",
       "4929080    san luis sourdough jalapeno artisan style brea...\n",
       "Name: ITEM_SUBCOM_DPT, Length: 8168, dtype: object</div>"
      ]
     },
     "metadata": {
      "application/vnd.databricks.v1+output": {
       "addedWidgets": {},
       "arguments": {},
       "data": "<div class=\"ansiout\">Out[97]: 0          lewis bake shop texas toast half loaf bread ma...\n2          snack cakes, little debbie family pack back to...\n3          snack cakes, little debbie family pack back to...\n17         lewis bake shop half loaf hearty rye bread mai...\n18         snack cakes, little debbie family pack back to...\n                                 ...                        \n4924051    host donets dbl choc bag donuts - bagged comme...\n4924154    host donets crunch bag donuts - bagged commerc...\n4926558    krispy kreme doughnuts with m&amp;m&#39;s lto donuts -...\n4927407    entenmann&#39;s chocolate chip crumb loaf cake, 13...\n4929080    san luis sourdough jalapeno artisan style brea...\nName: ITEM_SUBCOM_DPT, Length: 8168, dtype: object</div>",
       "datasetInfos": [],
       "metadata": {},
       "removedWidgets": [],
       "type": "html"
      }
     },
     "output_type": "display_data"
    }
   ],
   "source": [
    "pimart_commercial_bakery['ITEM_SUBCOM_DPT']"
   ]
  },
  {
   "cell_type": "code",
   "execution_count": 0,
   "metadata": {
    "application/vnd.databricks.v1+cell": {
     "cellMetadata": {
      "byteLimit": 2048000,
      "rowLimit": 10000
     },
     "inputWidgets": {},
     "nuid": "85b38cf3-1027-4b3a-83af-70a700d746e1",
     "showTitle": false,
     "title": ""
    }
   },
   "outputs": [
    {
     "data": {
      "text/html": [
       "<style scoped>\n",
       "  .ansiout {\n",
       "    display: block;\n",
       "    unicode-bidi: embed;\n",
       "    white-space: pre-wrap;\n",
       "    word-wrap: break-word;\n",
       "    word-break: break-all;\n",
       "    font-family: \"Source Code Pro\", \"Menlo\", monospace;;\n",
       "    font-size: 13px;\n",
       "    color: #555;\n",
       "    margin-left: 4px;\n",
       "    line-height: 19px;\n",
       "  }\n",
       "</style>\n",
       "<div class=\"ansiout\"></div>"
      ]
     },
     "metadata": {
      "application/vnd.databricks.v1+output": {
       "addedWidgets": {},
       "arguments": {},
       "data": "<div class=\"ansiout\"></div>",
       "datasetInfos": [],
       "metadata": {},
       "removedWidgets": [],
       "type": "html"
      }
     },
     "output_type": "display_data"
    }
   ],
   "source": [
    "gs1['FamilyClassBrickTitle'] = gs1.FamilyTitle + ' '+ gs1.ClassTitle + ' '+ gs1.BrickTitle"
   ]
  },
  {
   "cell_type": "code",
   "execution_count": 0,
   "metadata": {
    "application/vnd.databricks.v1+cell": {
     "cellMetadata": {
      "byteLimit": 2048000,
      "rowLimit": 10000
     },
     "inputWidgets": {},
     "nuid": "5ca5b1e4-6702-48e6-9863-aa5aade188f4",
     "showTitle": false,
     "title": ""
    }
   },
   "outputs": [
    {
     "data": {
      "text/html": [
       "<style scoped>\n",
       "  .ansiout {\n",
       "    display: block;\n",
       "    unicode-bidi: embed;\n",
       "    white-space: pre-wrap;\n",
       "    word-wrap: break-word;\n",
       "    word-break: break-all;\n",
       "    font-family: \"Source Code Pro\", \"Menlo\", monospace;;\n",
       "    font-size: 13px;\n",
       "    color: #555;\n",
       "    margin-left: 4px;\n",
       "    line-height: 19px;\n",
       "  }\n",
       "</style>\n",
       "<div class=\"ansiout\">&lt;command-1424199737389178&gt;:2: SettingWithCopyWarning: \n",
       "A value is trying to be set on a copy of a slice from a DataFrame.\n",
       "Try using .loc[row_indexer,col_indexer] = value instead\n",
       "\n",
       "See the caveats in the documentation: https://pandas.pydata.org/pandas-docs/stable/user_guide/indexing.html#returning-a-view-versus-a-copy\n",
       "  gs1_unique_brick[&#39;FamilyClassBrickTitle&#39;]= gs1_unique_brick[&#39;FamilyClassBrickTitle&#39;].str.lower()\n",
       "</div>"
      ]
     },
     "metadata": {
      "application/vnd.databricks.v1+output": {
       "addedWidgets": {},
       "arguments": {},
       "data": "<div class=\"ansiout\">&lt;command-1424199737389178&gt;:2: SettingWithCopyWarning: \nA value is trying to be set on a copy of a slice from a DataFrame.\nTry using .loc[row_indexer,col_indexer] = value instead\n\nSee the caveats in the documentation: https://pandas.pydata.org/pandas-docs/stable/user_guide/indexing.html#returning-a-view-versus-a-copy\n  gs1_unique_brick[&#39;FamilyClassBrickTitle&#39;]= gs1_unique_brick[&#39;FamilyClassBrickTitle&#39;].str.lower()\n</div>",
       "datasetInfos": [],
       "metadata": {},
       "removedWidgets": [],
       "type": "html"
      }
     },
     "output_type": "display_data"
    }
   ],
   "source": [
    "gs1_unique_brick= gs1.drop_duplicates('FamilyClassBrickTitle')\n",
    "gs1_unique_brick['FamilyClassBrickTitle']= gs1_unique_brick['FamilyClassBrickTitle'].str.lower()"
   ]
  },
  {
   "cell_type": "code",
   "execution_count": 0,
   "metadata": {
    "application/vnd.databricks.v1+cell": {
     "cellMetadata": {
      "byteLimit": 2048000,
      "rowLimit": 10000
     },
     "inputWidgets": {},
     "nuid": "30c67981-ae3a-4b51-a22d-e864e17b61d9",
     "showTitle": false,
     "title": ""
    }
   },
   "outputs": [
    {
     "data": {
      "text/html": [
       "<style scoped>\n",
       "  .ansiout {\n",
       "    display: block;\n",
       "    unicode-bidi: embed;\n",
       "    white-space: pre-wrap;\n",
       "    word-wrap: break-word;\n",
       "    word-break: break-all;\n",
       "    font-family: \"Source Code Pro\", \"Menlo\", monospace;;\n",
       "    font-size: 13px;\n",
       "    color: #555;\n",
       "    margin-left: 4px;\n",
       "    line-height: 19px;\n",
       "  }\n",
       "</style>\n",
       "<div class=\"ansiout\">Out[92]: 0         beverages alcoholic beverages (includes de-alc...\n",
       "1         beverages alcoholic beverages (includes de-alc...\n",
       "7         beverages alcoholic beverages (includes de-alc...\n",
       "17        beverages alcoholic beverages (includes de-alc...\n",
       "18        beverages alcoholic beverages (includes de-alc...\n",
       "                                ...                        \n",
       "134693    vegetables (non leaf) - unprepared/unprocessed...\n",
       "134994    vegetables (non leaf) - unprepared/unprocessed...\n",
       "135295    vegetables (non leaf) - unprepared/unprocessed...\n",
       "135596    vegetables (non leaf) - unprepared/unprocessed...\n",
       "135597    vegetables (non leaf) - unprepared/unprocessed...\n",
       "Name: FamilyClassBrickTitle, Length: 899, dtype: object</div>"
      ]
     },
     "metadata": {
      "application/vnd.databricks.v1+output": {
       "addedWidgets": {},
       "arguments": {},
       "data": "<div class=\"ansiout\">Out[92]: 0         beverages alcoholic beverages (includes de-alc...\n1         beverages alcoholic beverages (includes de-alc...\n7         beverages alcoholic beverages (includes de-alc...\n17        beverages alcoholic beverages (includes de-alc...\n18        beverages alcoholic beverages (includes de-alc...\n                                ...                        \n134693    vegetables (non leaf) - unprepared/unprocessed...\n134994    vegetables (non leaf) - unprepared/unprocessed...\n135295    vegetables (non leaf) - unprepared/unprocessed...\n135596    vegetables (non leaf) - unprepared/unprocessed...\n135597    vegetables (non leaf) - unprepared/unprocessed...\nName: FamilyClassBrickTitle, Length: 899, dtype: object</div>",
       "datasetInfos": [],
       "metadata": {},
       "removedWidgets": [],
       "type": "html"
      }
     },
     "output_type": "display_data"
    }
   ],
   "source": [
    "gs1_unique_brick['FamilyClassBrickTitle']"
   ]
  },
  {
   "cell_type": "code",
   "execution_count": 0,
   "metadata": {
    "application/vnd.databricks.v1+cell": {
     "cellMetadata": {
      "byteLimit": 2048000,
      "rowLimit": 10000
     },
     "inputWidgets": {},
     "nuid": "f2775b4b-907a-431c-8183-0289a9e195c9",
     "showTitle": false,
     "title": ""
    }
   },
   "outputs": [
    {
     "data": {
      "text/html": [
       "<style scoped>\n",
       "  .ansiout {\n",
       "    display: block;\n",
       "    unicode-bidi: embed;\n",
       "    white-space: pre-wrap;\n",
       "    word-wrap: break-word;\n",
       "    word-break: break-all;\n",
       "    font-family: \"Source Code Pro\", \"Menlo\", monospace;;\n",
       "    font-size: 13px;\n",
       "    color: #555;\n",
       "    margin-left: 4px;\n",
       "    line-height: 19px;\n",
       "  }\n",
       "</style>\n",
       "<div class=\"ansiout\"></div>"
      ]
     },
     "metadata": {
      "application/vnd.databricks.v1+output": {
       "addedWidgets": {},
       "arguments": {},
       "data": "<div class=\"ansiout\"></div>",
       "datasetInfos": [],
       "metadata": {},
       "removedWidgets": [],
       "type": "html"
      }
     },
     "output_type": "display_data"
    }
   ],
   "source": [
    "gs1_unique_brick = gs1_unique_brick[gs1_unique_brick.FamilyTitle.isin(['Bread/Bakery Products', 'Prepared/Preserved Foods'])]"
   ]
  },
  {
   "cell_type": "code",
   "execution_count": 0,
   "metadata": {
    "application/vnd.databricks.v1+cell": {
     "cellMetadata": {
      "byteLimit": 2048000,
      "rowLimit": 10000
     },
     "inputWidgets": {},
     "nuid": "c207b4bd-8b48-4cc8-b6ed-8c5e348e1665",
     "showTitle": false,
     "title": ""
    }
   },
   "outputs": [
    {
     "data": {
      "text/html": [
       "<style scoped>\n",
       "  .ansiout {\n",
       "    display: block;\n",
       "    unicode-bidi: embed;\n",
       "    white-space: pre-wrap;\n",
       "    word-wrap: break-word;\n",
       "    word-break: break-all;\n",
       "    font-family: \"Source Code Pro\", \"Menlo\", monospace;;\n",
       "    font-size: 13px;\n",
       "    color: #555;\n",
       "    margin-left: 4px;\n",
       "    line-height: 19px;\n",
       "  }\n",
       "</style>\n",
       "<div class=\"ansiout\">Out[113]: </div>"
      ]
     },
     "metadata": {
      "application/vnd.databricks.v1+output": {
       "addedWidgets": {},
       "arguments": {},
       "data": "<div class=\"ansiout\">Out[113]: </div>",
       "datasetInfos": [],
       "metadata": {},
       "removedWidgets": [],
       "type": "html"
      }
     },
     "output_type": "display_data"
    },
    {
     "data": {
      "text/html": [
       "<div>\n",
       "<style scoped>\n",
       "    .dataframe tbody tr th:only-of-type {\n",
       "        vertical-align: middle;\n",
       "    }\n",
       "\n",
       "    .dataframe tbody tr th {\n",
       "        vertical-align: top;\n",
       "    }\n",
       "\n",
       "    .dataframe thead th {\n",
       "        text-align: right;\n",
       "    }\n",
       "</style>\n",
       "<table border=\"1\" class=\"dataframe\">\n",
       "  <thead>\n",
       "    <tr style=\"text-align: right;\">\n",
       "      <th></th>\n",
       "      <th>SegmentCode</th>\n",
       "      <th>SegmentTitle</th>\n",
       "      <th>SegmentDefinition</th>\n",
       "      <th>FamilyCode</th>\n",
       "      <th>FamilyTitle</th>\n",
       "      <th>FamilyDefinition</th>\n",
       "      <th>ClassCode</th>\n",
       "      <th>ClassTitle</th>\n",
       "      <th>ClassDefinition</th>\n",
       "      <th>BrickCode</th>\n",
       "      <th>BrickTitle</th>\n",
       "      <th>BrickDefinition_Includes</th>\n",
       "      <th>BrickDefinition_Excludes</th>\n",
       "      <th>AttributeCode</th>\n",
       "      <th>AttributeTitle</th>\n",
       "      <th>AttributeDefinition</th>\n",
       "      <th>AttributeValueCode</th>\n",
       "      <th>AttributeValueTitle</th>\n",
       "      <th>AttributeValueDefinition</th>\n",
       "      <th>FamilyClassBrickTitle</th>\n",
       "    </tr>\n",
       "  </thead>\n",
       "  <tbody>\n",
       "    <tr>\n",
       "      <th>13886</th>\n",
       "      <td>50000000</td>\n",
       "      <td>Food/Beverage/Tobacco</td>\n",
       "      <td>NaN</td>\n",
       "      <td>50180000</td>\n",
       "      <td>Bread/Bakery Products</td>\n",
       "      <td>NaN</td>\n",
       "      <td>50181700</td>\n",
       "      <td>Baking/Cooking Mixes/Supplies</td>\n",
       "      <td>NaN</td>\n",
       "      <td>10000155</td>\n",
       "      <td>Baking/Cooking Mixes (Frozen)</td>\n",
       "      <td>Includes any products that can be described/ob...</td>\n",
       "      <td>Excludes products such as Soups, Perishable or...</td>\n",
       "      <td>20000056.0</td>\n",
       "      <td>Diabetic Claim</td>\n",
       "      <td>Indicates, with reference to the product brand...</td>\n",
       "      <td>30002960.0</td>\n",
       "      <td>NO</td>\n",
       "      <td>NaN</td>\n",
       "      <td>bread/bakery products baking/cooking mixes/sup...</td>\n",
       "    </tr>\n",
       "    <tr>\n",
       "      <th>13928</th>\n",
       "      <td>50000000</td>\n",
       "      <td>Food/Beverage/Tobacco</td>\n",
       "      <td>NaN</td>\n",
       "      <td>50180000</td>\n",
       "      <td>Bread/Bakery Products</td>\n",
       "      <td>NaN</td>\n",
       "      <td>50181700</td>\n",
       "      <td>Baking/Cooking Mixes/Supplies</td>\n",
       "      <td>NaN</td>\n",
       "      <td>10000068</td>\n",
       "      <td>Baking/Cooking Mixes (Perishable)</td>\n",
       "      <td>Includes any products that can be described/ob...</td>\n",
       "      <td>Excludes products such as Soups, Frozen or She...</td>\n",
       "      <td>20000056.0</td>\n",
       "      <td>Diabetic Claim</td>\n",
       "      <td>Indicates, with reference to the product brand...</td>\n",
       "      <td>30002960.0</td>\n",
       "      <td>NO</td>\n",
       "      <td>NaN</td>\n",
       "      <td>bread/bakery products baking/cooking mixes/sup...</td>\n",
       "    </tr>\n",
       "    <tr>\n",
       "      <th>13973</th>\n",
       "      <td>50000000</td>\n",
       "      <td>Food/Beverage/Tobacco</td>\n",
       "      <td>NaN</td>\n",
       "      <td>50180000</td>\n",
       "      <td>Bread/Bakery Products</td>\n",
       "      <td>NaN</td>\n",
       "      <td>50181700</td>\n",
       "      <td>Baking/Cooking Mixes/Supplies</td>\n",
       "      <td>NaN</td>\n",
       "      <td>10000156</td>\n",
       "      <td>Baking/Cooking Mixes (Shelf Stable)</td>\n",
       "      <td>Includes any products that can be described/ob...</td>\n",
       "      <td>Excludes products such as Soups, Frozen or Per...</td>\n",
       "      <td>20000056.0</td>\n",
       "      <td>Diabetic Claim</td>\n",
       "      <td>Indicates, with reference to the product brand...</td>\n",
       "      <td>30002960.0</td>\n",
       "      <td>NO</td>\n",
       "      <td>NaN</td>\n",
       "      <td>bread/bakery products baking/cooking mixes/sup...</td>\n",
       "    </tr>\n",
       "    <tr>\n",
       "      <th>14015</th>\n",
       "      <td>50000000</td>\n",
       "      <td>Food/Beverage/Tobacco</td>\n",
       "      <td>NaN</td>\n",
       "      <td>50180000</td>\n",
       "      <td>Bread/Bakery Products</td>\n",
       "      <td>NaN</td>\n",
       "      <td>50181700</td>\n",
       "      <td>Baking/Cooking Mixes/Supplies</td>\n",
       "      <td>NaN</td>\n",
       "      <td>10000595</td>\n",
       "      <td>Baking/Cooking Mixes/Supplies Variety Packs</td>\n",
       "      <td>Includes any products that can be described/ob...</td>\n",
       "      <td>Excludes products such as Cake Mixes with Grou...</td>\n",
       "      <td>NaN</td>\n",
       "      <td>NaN</td>\n",
       "      <td>NaN</td>\n",
       "      <td>NaN</td>\n",
       "      <td>NaN</td>\n",
       "      <td>NaN</td>\n",
       "      <td>bread/bakery products baking/cooking mixes/sup...</td>\n",
       "    </tr>\n",
       "    <tr>\n",
       "      <th>14016</th>\n",
       "      <td>50000000</td>\n",
       "      <td>Food/Beverage/Tobacco</td>\n",
       "      <td>NaN</td>\n",
       "      <td>50180000</td>\n",
       "      <td>Bread/Bakery Products</td>\n",
       "      <td>NaN</td>\n",
       "      <td>50181700</td>\n",
       "      <td>Baking/Cooking Mixes/Supplies</td>\n",
       "      <td>NaN</td>\n",
       "      <td>10000157</td>\n",
       "      <td>Baking/Cooking Supplies (Frozen)</td>\n",
       "      <td>Includes any products that can be described/ob...</td>\n",
       "      <td>Excludes products such as Perishable and Shelf...</td>\n",
       "      <td>20000175.0</td>\n",
       "      <td>Suitability for Vegetarians/Vegans Claim</td>\n",
       "      <td>Indicates, with reference to the product brand...</td>\n",
       "      <td>30002960.0</td>\n",
       "      <td>NO</td>\n",
       "      <td>NaN</td>\n",
       "      <td>bread/bakery products baking/cooking mixes/sup...</td>\n",
       "    </tr>\n",
       "    <tr>\n",
       "      <th>...</th>\n",
       "      <td>...</td>\n",
       "      <td>...</td>\n",
       "      <td>...</td>\n",
       "      <td>...</td>\n",
       "      <td>...</td>\n",
       "      <td>...</td>\n",
       "      <td>...</td>\n",
       "      <td>...</td>\n",
       "      <td>...</td>\n",
       "      <td>...</td>\n",
       "      <td>...</td>\n",
       "      <td>...</td>\n",
       "      <td>...</td>\n",
       "      <td>...</td>\n",
       "      <td>...</td>\n",
       "      <td>...</td>\n",
       "      <td>...</td>\n",
       "      <td>...</td>\n",
       "      <td>...</td>\n",
       "      <td>...</td>\n",
       "    </tr>\n",
       "    <tr>\n",
       "      <th>76808</th>\n",
       "      <td>50000000</td>\n",
       "      <td>Food/Beverage/Tobacco</td>\n",
       "      <td>NaN</td>\n",
       "      <td>50190000</td>\n",
       "      <td>Prepared/Preserved Foods</td>\n",
       "      <td>NaN</td>\n",
       "      <td>50193100</td>\n",
       "      <td>Vegetable Based Products / Meals</td>\n",
       "      <td>NaN</td>\n",
       "      <td>10000290</td>\n",
       "      <td>Vegetable Based Products / Meals - Not Ready t...</td>\n",
       "      <td>Includes any products that can be described/ob...</td>\n",
       "      <td>Excludes Ready-Made Combination Meals. Specifi...</td>\n",
       "      <td>20000232.0</td>\n",
       "      <td>Differentiating Ingredient</td>\n",
       "      <td>Indicates, with reference to the product brand...</td>\n",
       "      <td>30003106.0</td>\n",
       "      <td>AQUATIC INVERTEBRATE</td>\n",
       "      <td>NaN</td>\n",
       "      <td>prepared/preserved foods vegetable based produ...</td>\n",
       "    </tr>\n",
       "    <tr>\n",
       "      <th>76867</th>\n",
       "      <td>50000000</td>\n",
       "      <td>Food/Beverage/Tobacco</td>\n",
       "      <td>NaN</td>\n",
       "      <td>50190000</td>\n",
       "      <td>Prepared/Preserved Foods</td>\n",
       "      <td>NaN</td>\n",
       "      <td>50193100</td>\n",
       "      <td>Vegetable Based Products / Meals</td>\n",
       "      <td>NaN</td>\n",
       "      <td>10000292</td>\n",
       "      <td>Vegetable Based Products / Meals - Not Ready t...</td>\n",
       "      <td>Includes any products that can be described/ob...</td>\n",
       "      <td>Excludes Ready-Made Combination Meals. Specifi...</td>\n",
       "      <td>20000232.0</td>\n",
       "      <td>Differentiating Ingredient</td>\n",
       "      <td>Indicates, with reference to the product brand...</td>\n",
       "      <td>30003106.0</td>\n",
       "      <td>AQUATIC INVERTEBRATE</td>\n",
       "      <td>NaN</td>\n",
       "      <td>prepared/preserved foods vegetable based produ...</td>\n",
       "    </tr>\n",
       "    <tr>\n",
       "      <th>76930</th>\n",
       "      <td>50000000</td>\n",
       "      <td>Food/Beverage/Tobacco</td>\n",
       "      <td>NaN</td>\n",
       "      <td>50190000</td>\n",
       "      <td>Prepared/Preserved Foods</td>\n",
       "      <td>NaN</td>\n",
       "      <td>50193100</td>\n",
       "      <td>Vegetable Based Products / Meals</td>\n",
       "      <td>NaN</td>\n",
       "      <td>10000289</td>\n",
       "      <td>Vegetable Based Products / Meals - Ready to Ea...</td>\n",
       "      <td>Includes any products that can be described/ob...</td>\n",
       "      <td>Excludes Ready-Made Combination Meals. Specifi...</td>\n",
       "      <td>20000232.0</td>\n",
       "      <td>Differentiating Ingredient</td>\n",
       "      <td>Indicates, with reference to the product brand...</td>\n",
       "      <td>30003106.0</td>\n",
       "      <td>AQUATIC INVERTEBRATE</td>\n",
       "      <td>NaN</td>\n",
       "      <td>prepared/preserved foods vegetable based produ...</td>\n",
       "    </tr>\n",
       "    <tr>\n",
       "      <th>76981</th>\n",
       "      <td>50000000</td>\n",
       "      <td>Food/Beverage/Tobacco</td>\n",
       "      <td>NaN</td>\n",
       "      <td>50190000</td>\n",
       "      <td>Prepared/Preserved Foods</td>\n",
       "      <td>NaN</td>\n",
       "      <td>50193100</td>\n",
       "      <td>Vegetable Based Products / Meals</td>\n",
       "      <td>NaN</td>\n",
       "      <td>10000288</td>\n",
       "      <td>Vegetable Based Products / Meals - Ready to Ea...</td>\n",
       "      <td>Includes any products that can be described/ob...</td>\n",
       "      <td>Excludes Ready-Made Combination Meals. Specifi...</td>\n",
       "      <td>20000232.0</td>\n",
       "      <td>Differentiating Ingredient</td>\n",
       "      <td>Indicates, with reference to the product brand...</td>\n",
       "      <td>30003106.0</td>\n",
       "      <td>AQUATIC INVERTEBRATE</td>\n",
       "      <td>NaN</td>\n",
       "      <td>prepared/preserved foods vegetable based produ...</td>\n",
       "    </tr>\n",
       "    <tr>\n",
       "      <th>77031</th>\n",
       "      <td>50000000</td>\n",
       "      <td>Food/Beverage/Tobacco</td>\n",
       "      <td>NaN</td>\n",
       "      <td>50190000</td>\n",
       "      <td>Prepared/Preserved Foods</td>\n",
       "      <td>NaN</td>\n",
       "      <td>50193100</td>\n",
       "      <td>Vegetable Based Products / Meals</td>\n",
       "      <td>NaN</td>\n",
       "      <td>10006221</td>\n",
       "      <td>Vegetable Based Products / Meals Variety Packs</td>\n",
       "      <td>Includes any products that can be described/ob...</td>\n",
       "      <td>Excludes products such as Vegetable Based Prod...</td>\n",
       "      <td>NaN</td>\n",
       "      <td>NaN</td>\n",
       "      <td>NaN</td>\n",
       "      <td>NaN</td>\n",
       "      <td>NaN</td>\n",
       "      <td>NaN</td>\n",
       "      <td>prepared/preserved foods vegetable based produ...</td>\n",
       "    </tr>\n",
       "  </tbody>\n",
       "</table>\n",
       "<p>104 rows × 20 columns</p>\n",
       "</div>"
      ]
     },
     "metadata": {
      "application/vnd.databricks.v1+output": {
       "addedWidgets": {},
       "arguments": {},
       "data": "<div>\n<style scoped>\n    .dataframe tbody tr th:only-of-type {\n        vertical-align: middle;\n    }\n\n    .dataframe tbody tr th {\n        vertical-align: top;\n    }\n\n    .dataframe thead th {\n        text-align: right;\n    }\n</style>\n<table border=\"1\" class=\"dataframe\">\n  <thead>\n    <tr style=\"text-align: right;\">\n      <th></th>\n      <th>SegmentCode</th>\n      <th>SegmentTitle</th>\n      <th>SegmentDefinition</th>\n      <th>FamilyCode</th>\n      <th>FamilyTitle</th>\n      <th>FamilyDefinition</th>\n      <th>ClassCode</th>\n      <th>ClassTitle</th>\n      <th>ClassDefinition</th>\n      <th>BrickCode</th>\n      <th>BrickTitle</th>\n      <th>BrickDefinition_Includes</th>\n      <th>BrickDefinition_Excludes</th>\n      <th>AttributeCode</th>\n      <th>AttributeTitle</th>\n      <th>AttributeDefinition</th>\n      <th>AttributeValueCode</th>\n      <th>AttributeValueTitle</th>\n      <th>AttributeValueDefinition</th>\n      <th>FamilyClassBrickTitle</th>\n    </tr>\n  </thead>\n  <tbody>\n    <tr>\n      <th>13886</th>\n      <td>50000000</td>\n      <td>Food/Beverage/Tobacco</td>\n      <td>NaN</td>\n      <td>50180000</td>\n      <td>Bread/Bakery Products</td>\n      <td>NaN</td>\n      <td>50181700</td>\n      <td>Baking/Cooking Mixes/Supplies</td>\n      <td>NaN</td>\n      <td>10000155</td>\n      <td>Baking/Cooking Mixes (Frozen)</td>\n      <td>Includes any products that can be described/ob...</td>\n      <td>Excludes products such as Soups, Perishable or...</td>\n      <td>20000056.0</td>\n      <td>Diabetic Claim</td>\n      <td>Indicates, with reference to the product brand...</td>\n      <td>30002960.0</td>\n      <td>NO</td>\n      <td>NaN</td>\n      <td>bread/bakery products baking/cooking mixes/sup...</td>\n    </tr>\n    <tr>\n      <th>13928</th>\n      <td>50000000</td>\n      <td>Food/Beverage/Tobacco</td>\n      <td>NaN</td>\n      <td>50180000</td>\n      <td>Bread/Bakery Products</td>\n      <td>NaN</td>\n      <td>50181700</td>\n      <td>Baking/Cooking Mixes/Supplies</td>\n      <td>NaN</td>\n      <td>10000068</td>\n      <td>Baking/Cooking Mixes (Perishable)</td>\n      <td>Includes any products that can be described/ob...</td>\n      <td>Excludes products such as Soups, Frozen or She...</td>\n      <td>20000056.0</td>\n      <td>Diabetic Claim</td>\n      <td>Indicates, with reference to the product brand...</td>\n      <td>30002960.0</td>\n      <td>NO</td>\n      <td>NaN</td>\n      <td>bread/bakery products baking/cooking mixes/sup...</td>\n    </tr>\n    <tr>\n      <th>13973</th>\n      <td>50000000</td>\n      <td>Food/Beverage/Tobacco</td>\n      <td>NaN</td>\n      <td>50180000</td>\n      <td>Bread/Bakery Products</td>\n      <td>NaN</td>\n      <td>50181700</td>\n      <td>Baking/Cooking Mixes/Supplies</td>\n      <td>NaN</td>\n      <td>10000156</td>\n      <td>Baking/Cooking Mixes (Shelf Stable)</td>\n      <td>Includes any products that can be described/ob...</td>\n      <td>Excludes products such as Soups, Frozen or Per...</td>\n      <td>20000056.0</td>\n      <td>Diabetic Claim</td>\n      <td>Indicates, with reference to the product brand...</td>\n      <td>30002960.0</td>\n      <td>NO</td>\n      <td>NaN</td>\n      <td>bread/bakery products baking/cooking mixes/sup...</td>\n    </tr>\n    <tr>\n      <th>14015</th>\n      <td>50000000</td>\n      <td>Food/Beverage/Tobacco</td>\n      <td>NaN</td>\n      <td>50180000</td>\n      <td>Bread/Bakery Products</td>\n      <td>NaN</td>\n      <td>50181700</td>\n      <td>Baking/Cooking Mixes/Supplies</td>\n      <td>NaN</td>\n      <td>10000595</td>\n      <td>Baking/Cooking Mixes/Supplies Variety Packs</td>\n      <td>Includes any products that can be described/ob...</td>\n      <td>Excludes products such as Cake Mixes with Grou...</td>\n      <td>NaN</td>\n      <td>NaN</td>\n      <td>NaN</td>\n      <td>NaN</td>\n      <td>NaN</td>\n      <td>NaN</td>\n      <td>bread/bakery products baking/cooking mixes/sup...</td>\n    </tr>\n    <tr>\n      <th>14016</th>\n      <td>50000000</td>\n      <td>Food/Beverage/Tobacco</td>\n      <td>NaN</td>\n      <td>50180000</td>\n      <td>Bread/Bakery Products</td>\n      <td>NaN</td>\n      <td>50181700</td>\n      <td>Baking/Cooking Mixes/Supplies</td>\n      <td>NaN</td>\n      <td>10000157</td>\n      <td>Baking/Cooking Supplies (Frozen)</td>\n      <td>Includes any products that can be described/ob...</td>\n      <td>Excludes products such as Perishable and Shelf...</td>\n      <td>20000175.0</td>\n      <td>Suitability for Vegetarians/Vegans Claim</td>\n      <td>Indicates, with reference to the product brand...</td>\n      <td>30002960.0</td>\n      <td>NO</td>\n      <td>NaN</td>\n      <td>bread/bakery products baking/cooking mixes/sup...</td>\n    </tr>\n    <tr>\n      <th>...</th>\n      <td>...</td>\n      <td>...</td>\n      <td>...</td>\n      <td>...</td>\n      <td>...</td>\n      <td>...</td>\n      <td>...</td>\n      <td>...</td>\n      <td>...</td>\n      <td>...</td>\n      <td>...</td>\n      <td>...</td>\n      <td>...</td>\n      <td>...</td>\n      <td>...</td>\n      <td>...</td>\n      <td>...</td>\n      <td>...</td>\n      <td>...</td>\n      <td>...</td>\n    </tr>\n    <tr>\n      <th>76808</th>\n      <td>50000000</td>\n      <td>Food/Beverage/Tobacco</td>\n      <td>NaN</td>\n      <td>50190000</td>\n      <td>Prepared/Preserved Foods</td>\n      <td>NaN</td>\n      <td>50193100</td>\n      <td>Vegetable Based Products / Meals</td>\n      <td>NaN</td>\n      <td>10000290</td>\n      <td>Vegetable Based Products / Meals - Not Ready t...</td>\n      <td>Includes any products that can be described/ob...</td>\n      <td>Excludes Ready-Made Combination Meals. Specifi...</td>\n      <td>20000232.0</td>\n      <td>Differentiating Ingredient</td>\n      <td>Indicates, with reference to the product brand...</td>\n      <td>30003106.0</td>\n      <td>AQUATIC INVERTEBRATE</td>\n      <td>NaN</td>\n      <td>prepared/preserved foods vegetable based produ...</td>\n    </tr>\n    <tr>\n      <th>76867</th>\n      <td>50000000</td>\n      <td>Food/Beverage/Tobacco</td>\n      <td>NaN</td>\n      <td>50190000</td>\n      <td>Prepared/Preserved Foods</td>\n      <td>NaN</td>\n      <td>50193100</td>\n      <td>Vegetable Based Products / Meals</td>\n      <td>NaN</td>\n      <td>10000292</td>\n      <td>Vegetable Based Products / Meals - Not Ready t...</td>\n      <td>Includes any products that can be described/ob...</td>\n      <td>Excludes Ready-Made Combination Meals. Specifi...</td>\n      <td>20000232.0</td>\n      <td>Differentiating Ingredient</td>\n      <td>Indicates, with reference to the product brand...</td>\n      <td>30003106.0</td>\n      <td>AQUATIC INVERTEBRATE</td>\n      <td>NaN</td>\n      <td>prepared/preserved foods vegetable based produ...</td>\n    </tr>\n    <tr>\n      <th>76930</th>\n      <td>50000000</td>\n      <td>Food/Beverage/Tobacco</td>\n      <td>NaN</td>\n      <td>50190000</td>\n      <td>Prepared/Preserved Foods</td>\n      <td>NaN</td>\n      <td>50193100</td>\n      <td>Vegetable Based Products / Meals</td>\n      <td>NaN</td>\n      <td>10000289</td>\n      <td>Vegetable Based Products / Meals - Ready to Ea...</td>\n      <td>Includes any products that can be described/ob...</td>\n      <td>Excludes Ready-Made Combination Meals. Specifi...</td>\n      <td>20000232.0</td>\n      <td>Differentiating Ingredient</td>\n      <td>Indicates, with reference to the product brand...</td>\n      <td>30003106.0</td>\n      <td>AQUATIC INVERTEBRATE</td>\n      <td>NaN</td>\n      <td>prepared/preserved foods vegetable based produ...</td>\n    </tr>\n    <tr>\n      <th>76981</th>\n      <td>50000000</td>\n      <td>Food/Beverage/Tobacco</td>\n      <td>NaN</td>\n      <td>50190000</td>\n      <td>Prepared/Preserved Foods</td>\n      <td>NaN</td>\n      <td>50193100</td>\n      <td>Vegetable Based Products / Meals</td>\n      <td>NaN</td>\n      <td>10000288</td>\n      <td>Vegetable Based Products / Meals - Ready to Ea...</td>\n      <td>Includes any products that can be described/ob...</td>\n      <td>Excludes Ready-Made Combination Meals. Specifi...</td>\n      <td>20000232.0</td>\n      <td>Differentiating Ingredient</td>\n      <td>Indicates, with reference to the product brand...</td>\n      <td>30003106.0</td>\n      <td>AQUATIC INVERTEBRATE</td>\n      <td>NaN</td>\n      <td>prepared/preserved foods vegetable based produ...</td>\n    </tr>\n    <tr>\n      <th>77031</th>\n      <td>50000000</td>\n      <td>Food/Beverage/Tobacco</td>\n      <td>NaN</td>\n      <td>50190000</td>\n      <td>Prepared/Preserved Foods</td>\n      <td>NaN</td>\n      <td>50193100</td>\n      <td>Vegetable Based Products / Meals</td>\n      <td>NaN</td>\n      <td>10006221</td>\n      <td>Vegetable Based Products / Meals Variety Packs</td>\n      <td>Includes any products that can be described/ob...</td>\n      <td>Excludes products such as Vegetable Based Prod...</td>\n      <td>NaN</td>\n      <td>NaN</td>\n      <td>NaN</td>\n      <td>NaN</td>\n      <td>NaN</td>\n      <td>NaN</td>\n      <td>prepared/preserved foods vegetable based produ...</td>\n    </tr>\n  </tbody>\n</table>\n<p>104 rows × 20 columns</p>\n</div>",
       "datasetInfos": [],
       "metadata": {},
       "removedWidgets": [],
       "textData": null,
       "type": "htmlSandbox"
      }
     },
     "output_type": "display_data"
    }
   ],
   "source": [
    "gs1_unique_brick\n"
   ]
  },
  {
   "cell_type": "code",
   "execution_count": 0,
   "metadata": {
    "application/vnd.databricks.v1+cell": {
     "cellMetadata": {
      "byteLimit": 2048000,
      "rowLimit": 10000
     },
     "inputWidgets": {},
     "nuid": "0ac54b53-0053-41e7-98c9-50fddcbbcd31",
     "showTitle": false,
     "title": ""
    }
   },
   "outputs": [
    {
     "data": {
      "text/html": [
       "<style scoped>\n",
       "  .ansiout {\n",
       "    display: block;\n",
       "    unicode-bidi: embed;\n",
       "    white-space: pre-wrap;\n",
       "    word-wrap: break-word;\n",
       "    word-break: break-all;\n",
       "    font-family: \"Source Code Pro\", \"Menlo\", monospace;;\n",
       "    font-size: 13px;\n",
       "    color: #555;\n",
       "    margin-left: 4px;\n",
       "    line-height: 19px;\n",
       "  }\n",
       "</style>\n",
       "<div class=\"ansiout\"></div>"
      ]
     },
     "metadata": {
      "application/vnd.databricks.v1+output": {
       "addedWidgets": {},
       "arguments": {},
       "data": "<div class=\"ansiout\"></div>",
       "datasetInfos": [],
       "metadata": {},
       "removedWidgets": [],
       "type": "html"
      }
     },
     "output_type": "display_data"
    }
   ],
   "source": [
    "def match_gs1_levels_1(pim_ix , gs1_matchlist_1 = list(gs1_unique_brick.FamilyClassBrickTitle), cutoff = 40):\n",
    "    out = pd.DataFrame(columns= ['KROGER_VND_ECOM_DSC','BRICK','MATCH_SCORE'])\n",
    "    for i, j  in enumerate(gs1_matchlist_1):\n",
    "        score = fuzz.token_set_ratio(pimart_commercial_bakery.VND_ECOM_DSC.iloc[pim_ix],j)\n",
    "        if score >=cutoff:\n",
    "            out.loc[i] = [pimart_commercial_bakery.VND_ECOM_DSC.iloc[pim_ix],gs1_unique_brick.BrickTitle.iloc[i],score]\n",
    "    return out.sort_values('MATCH_SCORE', ascending = False).reset_index(drop= True)"
   ]
  },
  {
   "cell_type": "code",
   "execution_count": 0,
   "metadata": {
    "application/vnd.databricks.v1+cell": {
     "cellMetadata": {
      "byteLimit": 2048000,
      "rowLimit": 10000
     },
     "inputWidgets": {},
     "nuid": "6ff26ea9-4fe2-44ef-8060-303b85c30481",
     "showTitle": false,
     "title": ""
    }
   },
   "outputs": [
    {
     "data": {
      "text/html": [
       "<style scoped>\n",
       "  .ansiout {\n",
       "    display: block;\n",
       "    unicode-bidi: embed;\n",
       "    white-space: pre-wrap;\n",
       "    word-wrap: break-word;\n",
       "    word-break: break-all;\n",
       "    font-family: \"Source Code Pro\", \"Menlo\", monospace;;\n",
       "    font-size: 13px;\n",
       "    color: #555;\n",
       "    margin-left: 4px;\n",
       "    line-height: 19px;\n",
       "  }\n",
       "</style>\n",
       "<div class=\"ansiout\"></div>"
      ]
     },
     "metadata": {
      "application/vnd.databricks.v1+output": {
       "addedWidgets": {},
       "arguments": {},
       "data": "<div class=\"ansiout\"></div>",
       "datasetInfos": [],
       "metadata": {},
       "removedWidgets": [],
       "type": "html"
      }
     },
     "output_type": "display_data"
    }
   ],
   "source": [
    "res = pd.DataFrame(columns= ['KROGER_VND_ECOM_DSC','BRICK','MATCH_SCORE'])\n",
    "for ix in range(len(pimart_commercial_bakery)):\n",
    "    res = res.append(match_gs1_levels_1(ix, cutoff= 40)).reset_index(drop = True)\n",
    "    "
   ]
  },
  {
   "cell_type": "code",
   "execution_count": 0,
   "metadata": {
    "application/vnd.databricks.v1+cell": {
     "cellMetadata": {
      "byteLimit": 2048000,
      "rowLimit": 10000
     },
     "inputWidgets": {},
     "nuid": "2f103cc2-96c2-4f30-a966-068679774e9b",
     "showTitle": false,
     "title": ""
    }
   },
   "outputs": [
    {
     "data": {
      "text/html": [
       "<style scoped>\n",
       "  .ansiout {\n",
       "    display: block;\n",
       "    unicode-bidi: embed;\n",
       "    white-space: pre-wrap;\n",
       "    word-wrap: break-word;\n",
       "    word-break: break-all;\n",
       "    font-family: \"Source Code Pro\", \"Menlo\", monospace;;\n",
       "    font-size: 13px;\n",
       "    color: #555;\n",
       "    margin-left: 4px;\n",
       "    line-height: 19px;\n",
       "  }\n",
       "</style>\n",
       "<div class=\"ansiout\">Out[119]: </div>"
      ]
     },
     "metadata": {
      "application/vnd.databricks.v1+output": {
       "addedWidgets": {},
       "arguments": {},
       "data": "<div class=\"ansiout\">Out[119]: </div>",
       "datasetInfos": [],
       "metadata": {},
       "removedWidgets": [],
       "type": "html"
      }
     },
     "output_type": "display_data"
    },
    {
     "data": {
      "text/html": [
       "<div>\n",
       "<style scoped>\n",
       "    .dataframe tbody tr th:only-of-type {\n",
       "        vertical-align: middle;\n",
       "    }\n",
       "\n",
       "    .dataframe tbody tr th {\n",
       "        vertical-align: top;\n",
       "    }\n",
       "\n",
       "    .dataframe thead th {\n",
       "        text-align: right;\n",
       "    }\n",
       "</style>\n",
       "<table border=\"1\" class=\"dataframe\">\n",
       "  <thead>\n",
       "    <tr style=\"text-align: right;\">\n",
       "      <th></th>\n",
       "      <th>KROGER_VND_ECOM_DSC</th>\n",
       "      <th>BRICK</th>\n",
       "      <th>MATCH_SCORE</th>\n",
       "    </tr>\n",
       "  </thead>\n",
       "  <tbody>\n",
       "    <tr>\n",
       "      <th>0</th>\n",
       "      <td>Lewis Bake Shop Texas Toast Half Loaf Bread</td>\n",
       "      <td>Sweet Bakery Products Variety Packs</td>\n",
       "      <td>41.758242</td>\n",
       "    </tr>\n",
       "    <tr>\n",
       "      <th>1</th>\n",
       "      <td>Lewis Bake Shop Half Loaf Hearty Rye Bread</td>\n",
       "      <td>Sweet Bakery Products Variety Packs</td>\n",
       "      <td>42.222222</td>\n",
       "    </tr>\n",
       "    <tr>\n",
       "      <th>2</th>\n",
       "      <td>Lewis Bake Shop Half Loaf Hearty Rye Bread</td>\n",
       "      <td>Cakes - Sweet (Frozen)</td>\n",
       "      <td>40.860215</td>\n",
       "    </tr>\n",
       "    <tr>\n",
       "      <th>3</th>\n",
       "      <td>Lewis Bake Shop Half Loaf Hearty Rye Bread</td>\n",
       "      <td>Cakes - Sweet (Shelf Stable)</td>\n",
       "      <td>40.404040</td>\n",
       "    </tr>\n",
       "    <tr>\n",
       "      <th>4</th>\n",
       "      <td>Brownberry Country White Sandwich Bread</td>\n",
       "      <td>Bread/Bakery Products Variety Packs</td>\n",
       "      <td>43.243243</td>\n",
       "    </tr>\n",
       "    <tr>\n",
       "      <th>5</th>\n",
       "      <td>Brownberry Country White Sandwich Bread</td>\n",
       "      <td>Bread (Shelf Stable)</td>\n",
       "      <td>41.975309</td>\n",
       "    </tr>\n",
       "    <tr>\n",
       "      <th>6</th>\n",
       "      <td>Brownberry Country White Sandwich Bread</td>\n",
       "      <td>Sandwiches/Filled Rolls/Wraps (Frozen)</td>\n",
       "      <td>41.176471</td>\n",
       "    </tr>\n",
       "    <tr>\n",
       "      <th>7</th>\n",
       "      <td>Brownberry Country White Sandwich Bread</td>\n",
       "      <td>Bread (Frozen)</td>\n",
       "      <td>40.000000</td>\n",
       "    </tr>\n",
       "    <tr>\n",
       "      <th>8</th>\n",
       "      <td>Brownberry Whole Grains 12 Grain Sandwich Bread</td>\n",
       "      <td>Sandwiches/Filled Rolls/Wraps (Frozen)</td>\n",
       "      <td>41.818182</td>\n",
       "    </tr>\n",
       "    <tr>\n",
       "      <th>9</th>\n",
       "      <td>Brownberry Whole Grains 12 Grain Sandwich Bread</td>\n",
       "      <td>Bread/Bakery Products Variety Packs</td>\n",
       "      <td>41.463415</td>\n",
       "    </tr>\n",
       "    <tr>\n",
       "      <th>10</th>\n",
       "      <td>Brownberry Whole Grains 12 Grain Sandwich Bread</td>\n",
       "      <td>Bread (Shelf Stable)</td>\n",
       "      <td>40.449438</td>\n",
       "    </tr>\n",
       "    <tr>\n",
       "      <th>11</th>\n",
       "      <td>Brownberry Whole Grains 12 Grain Sandwich Bread</td>\n",
       "      <td>Sandwiches/Filled Rolls/Wraps (Perishable)</td>\n",
       "      <td>40.350877</td>\n",
       "    </tr>\n",
       "    <tr>\n",
       "      <th>12</th>\n",
       "      <td>Brownberry Whole Grains 12 Grain Sandwich Bread</td>\n",
       "      <td>Sandwiches/Filled Rolls/Wraps Variety Packs</td>\n",
       "      <td>40.000000</td>\n",
       "    </tr>\n",
       "    <tr>\n",
       "      <th>13</th>\n",
       "      <td>Pepperidge Farm Farmhouse Butter Bread, 22 Oz ...</td>\n",
       "      <td>Bread/Bakery Products Variety Packs</td>\n",
       "      <td>42.352941</td>\n",
       "    </tr>\n",
       "    <tr>\n",
       "      <th>14</th>\n",
       "      <td>Pepperidge Farm Farmhouse Butter Bread, 22 Oz ...</td>\n",
       "      <td>Sweet Bakery Products Variety Packs</td>\n",
       "      <td>40.816327</td>\n",
       "    </tr>\n",
       "    <tr>\n",
       "      <th>15</th>\n",
       "      <td>Sara Lee Artesano Bakery Rolls</td>\n",
       "      <td>Bread/Bakery Products Variety Packs</td>\n",
       "      <td>46.153846</td>\n",
       "    </tr>\n",
       "    <tr>\n",
       "      <th>16</th>\n",
       "      <td>Display Ready Case Pallet Twinkie - Cupcake</td>\n",
       "      <td>Cakes - Sweet (Shelf Stable)</td>\n",
       "      <td>40.000000</td>\n",
       "    </tr>\n",
       "    <tr>\n",
       "      <th>17</th>\n",
       "      <td>Pepperidge Farm Italian Bread with Sesame Seeds</td>\n",
       "      <td>Jams/Marmalades (Shelf Stable)</td>\n",
       "      <td>46.551724</td>\n",
       "    </tr>\n",
       "    <tr>\n",
       "      <th>18</th>\n",
       "      <td>Pepperidge Farm Italian Bread with Sesame Seeds</td>\n",
       "      <td>Pasta/Noodles - Ready to Eat (Shelf Stable)</td>\n",
       "      <td>41.739130</td>\n",
       "    </tr>\n",
       "    <tr>\n",
       "      <th>19</th>\n",
       "      <td>Pepperidge Farm Italian Bread with Sesame Seeds</td>\n",
       "      <td>Confectionery Based Spreads (Shelf Stable)</td>\n",
       "      <td>41.666667</td>\n",
       "    </tr>\n",
       "  </tbody>\n",
       "</table>\n",
       "</div>"
      ]
     },
     "metadata": {
      "application/vnd.databricks.v1+output": {
       "addedWidgets": {},
       "arguments": {},
       "data": "<div>\n<style scoped>\n    .dataframe tbody tr th:only-of-type {\n        vertical-align: middle;\n    }\n\n    .dataframe tbody tr th {\n        vertical-align: top;\n    }\n\n    .dataframe thead th {\n        text-align: right;\n    }\n</style>\n<table border=\"1\" class=\"dataframe\">\n  <thead>\n    <tr style=\"text-align: right;\">\n      <th></th>\n      <th>KROGER_VND_ECOM_DSC</th>\n      <th>BRICK</th>\n      <th>MATCH_SCORE</th>\n    </tr>\n  </thead>\n  <tbody>\n    <tr>\n      <th>0</th>\n      <td>Lewis Bake Shop Texas Toast Half Loaf Bread</td>\n      <td>Sweet Bakery Products Variety Packs</td>\n      <td>41.758242</td>\n    </tr>\n    <tr>\n      <th>1</th>\n      <td>Lewis Bake Shop Half Loaf Hearty Rye Bread</td>\n      <td>Sweet Bakery Products Variety Packs</td>\n      <td>42.222222</td>\n    </tr>\n    <tr>\n      <th>2</th>\n      <td>Lewis Bake Shop Half Loaf Hearty Rye Bread</td>\n      <td>Cakes - Sweet (Frozen)</td>\n      <td>40.860215</td>\n    </tr>\n    <tr>\n      <th>3</th>\n      <td>Lewis Bake Shop Half Loaf Hearty Rye Bread</td>\n      <td>Cakes - Sweet (Shelf Stable)</td>\n      <td>40.404040</td>\n    </tr>\n    <tr>\n      <th>4</th>\n      <td>Brownberry Country White Sandwich Bread</td>\n      <td>Bread/Bakery Products Variety Packs</td>\n      <td>43.243243</td>\n    </tr>\n    <tr>\n      <th>5</th>\n      <td>Brownberry Country White Sandwich Bread</td>\n      <td>Bread (Shelf Stable)</td>\n      <td>41.975309</td>\n    </tr>\n    <tr>\n      <th>6</th>\n      <td>Brownberry Country White Sandwich Bread</td>\n      <td>Sandwiches/Filled Rolls/Wraps (Frozen)</td>\n      <td>41.176471</td>\n    </tr>\n    <tr>\n      <th>7</th>\n      <td>Brownberry Country White Sandwich Bread</td>\n      <td>Bread (Frozen)</td>\n      <td>40.000000</td>\n    </tr>\n    <tr>\n      <th>8</th>\n      <td>Brownberry Whole Grains 12 Grain Sandwich Bread</td>\n      <td>Sandwiches/Filled Rolls/Wraps (Frozen)</td>\n      <td>41.818182</td>\n    </tr>\n    <tr>\n      <th>9</th>\n      <td>Brownberry Whole Grains 12 Grain Sandwich Bread</td>\n      <td>Bread/Bakery Products Variety Packs</td>\n      <td>41.463415</td>\n    </tr>\n    <tr>\n      <th>10</th>\n      <td>Brownberry Whole Grains 12 Grain Sandwich Bread</td>\n      <td>Bread (Shelf Stable)</td>\n      <td>40.449438</td>\n    </tr>\n    <tr>\n      <th>11</th>\n      <td>Brownberry Whole Grains 12 Grain Sandwich Bread</td>\n      <td>Sandwiches/Filled Rolls/Wraps (Perishable)</td>\n      <td>40.350877</td>\n    </tr>\n    <tr>\n      <th>12</th>\n      <td>Brownberry Whole Grains 12 Grain Sandwich Bread</td>\n      <td>Sandwiches/Filled Rolls/Wraps Variety Packs</td>\n      <td>40.000000</td>\n    </tr>\n    <tr>\n      <th>13</th>\n      <td>Pepperidge Farm Farmhouse Butter Bread, 22 Oz ...</td>\n      <td>Bread/Bakery Products Variety Packs</td>\n      <td>42.352941</td>\n    </tr>\n    <tr>\n      <th>14</th>\n      <td>Pepperidge Farm Farmhouse Butter Bread, 22 Oz ...</td>\n      <td>Sweet Bakery Products Variety Packs</td>\n      <td>40.816327</td>\n    </tr>\n    <tr>\n      <th>15</th>\n      <td>Sara Lee Artesano Bakery Rolls</td>\n      <td>Bread/Bakery Products Variety Packs</td>\n      <td>46.153846</td>\n    </tr>\n    <tr>\n      <th>16</th>\n      <td>Display Ready Case Pallet Twinkie - Cupcake</td>\n      <td>Cakes - Sweet (Shelf Stable)</td>\n      <td>40.000000</td>\n    </tr>\n    <tr>\n      <th>17</th>\n      <td>Pepperidge Farm Italian Bread with Sesame Seeds</td>\n      <td>Jams/Marmalades (Shelf Stable)</td>\n      <td>46.551724</td>\n    </tr>\n    <tr>\n      <th>18</th>\n      <td>Pepperidge Farm Italian Bread with Sesame Seeds</td>\n      <td>Pasta/Noodles - Ready to Eat (Shelf Stable)</td>\n      <td>41.739130</td>\n    </tr>\n    <tr>\n      <th>19</th>\n      <td>Pepperidge Farm Italian Bread with Sesame Seeds</td>\n      <td>Confectionery Based Spreads (Shelf Stable)</td>\n      <td>41.666667</td>\n    </tr>\n  </tbody>\n</table>\n</div>",
       "datasetInfos": [],
       "metadata": {},
       "removedWidgets": [],
       "textData": null,
       "type": "htmlSandbox"
      }
     },
     "output_type": "display_data"
    }
   ],
   "source": [
    "res.head(20)"
   ]
  },
  {
   "cell_type": "code",
   "execution_count": 0,
   "metadata": {
    "application/vnd.databricks.v1+cell": {
     "cellMetadata": {
      "byteLimit": 2048000,
      "rowLimit": 10000
     },
     "inputWidgets": {},
     "nuid": "4c9438b3-4299-4cdc-8737-ded5a3dc798e",
     "showTitle": false,
     "title": ""
    }
   },
   "outputs": [
    {
     "data": {
      "text/html": [
       "<style scoped>\n",
       "  .ansiout {\n",
       "    display: block;\n",
       "    unicode-bidi: embed;\n",
       "    white-space: pre-wrap;\n",
       "    word-wrap: break-word;\n",
       "    word-break: break-all;\n",
       "    font-family: \"Source Code Pro\", \"Menlo\", monospace;;\n",
       "    font-size: 13px;\n",
       "    color: #555;\n",
       "    margin-left: 4px;\n",
       "    line-height: 19px;\n",
       "  }\n",
       "</style>\n",
       "<div class=\"ansiout\"></div>"
      ]
     },
     "metadata": {
      "application/vnd.databricks.v1+output": {
       "addedWidgets": {},
       "arguments": {},
       "data": "<div class=\"ansiout\"></div>",
       "datasetInfos": [],
       "metadata": {},
       "removedWidgets": [],
       "type": "html"
      }
     },
     "output_type": "display_data"
    }
   ],
   "source": [
    "res.to_csv('/dbfs/FileStore/tables/DATA_SCIENCE/COMMERCIAL_BAKERY_BRICK.csv', index = None)"
   ]
  }
 ],
 "metadata": {
  "application/vnd.databricks.v1+notebook": {
   "dashboards": [],
   "language": "python",
   "notebookMetadata": {
    "mostRecentlyExecutedCommandWithImplicitDF": {
     "commandId": 510253845731955,
     "dataframes": [
      "_sqldf"
     ]
    },
    "pythonIndentUnit": 4
   },
   "notebookName": "FuzzyMapping_Initial (1)",
   "widgets": {}
  },
  "kernelspec": {
   "display_name": "Python 3 (ipykernel)",
   "language": "python",
   "name": "python3"
  },
  "language_info": {
   "codemirror_mode": {
    "name": "ipython",
    "version": 3
   },
   "file_extension": ".py",
   "mimetype": "text/x-python",
   "name": "python",
   "nbconvert_exporter": "python",
   "pygments_lexer": "ipython3",
   "version": "3.10.9"
  }
 },
 "nbformat": 4,
 "nbformat_minor": 1
}
