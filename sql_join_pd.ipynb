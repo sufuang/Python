{
 "cells": [
  {
   "cell_type": "markdown",
   "metadata": {},
   "source": [
    "# SQL join \n",
    "## Model description\n",
    "* Module name : sql_join_pd.ipynb\n",
    "* Purpose     : Create two simple tables to demonstrate inner join and left outer join, \n",
    "* Notes       \n",
    "  * Will use read_sql_query form pandas to get the column name with value from query results\n",
    "  * The right outer join and full outer join are not currently supported by sqlite"
   ]
  },
  {
   "cell_type": "markdown",
   "metadata": {},
   "source": [
    "## import package"
   ]
  },
  {
   "cell_type": "code",
   "execution_count": 1,
   "metadata": {},
   "outputs": [],
   "source": [
    "import sqlite3\n",
    "import pandas as pd"
   ]
  },
  {
   "cell_type": "markdown",
   "metadata": {},
   "source": [
    "## Establish database connection and create cursor  "
   ]
  },
  {
   "cell_type": "code",
   "execution_count": 2,
   "metadata": {},
   "outputs": [],
   "source": [
    "# Connect to the database \n",
    "conn = sqlite3.connect(\"myTable.db\")\n",
    " \n",
    "# Create a cursor \n",
    "dbcur = conn.cursor()"
   ]
  },
  {
   "cell_type": "markdown",
   "metadata": {},
   "source": [
    "## Create and insert rows into table emp_1"
   ]
  },
  {
   "cell_type": "code",
   "execution_count": 3,
   "metadata": {},
   "outputs": [
    {
     "data": {
      "text/plain": [
       "<sqlite3.Cursor at 0x5672a40>"
      ]
     },
     "execution_count": 3,
     "metadata": {},
     "output_type": "execute_result"
    }
   ],
   "source": [
    "#Drop tables\n",
    "dbcur.execute(\"DROP TABLE IF EXISTS emp_1\")\n",
    "# Define a SQL statement to create table emp_1\n",
    "sql_cmd = \"\"\"CREATE TABLE IF NOT EXISTS emp_1 ( \n",
    "ID INTEGER PRIMARY KEY, \n",
    "fname VARCHAR(20), \n",
    "lname VARCHAR(30), \n",
    "gender CHAR(1), \n",
    "joining DATE);\"\"\"\n",
    " \n",
    "# Execute the statement\n",
    "dbcur.execute(sql_cmd)\n"
   ]
  },
  {
   "cell_type": "code",
   "execution_count": 4,
   "metadata": {},
   "outputs": [
    {
     "name": "stdout",
     "output_type": "stream",
     "text": [
      "Atribute of emp_1 \n",
      "    cid     name         type  notnull dflt_value  pk\n",
      "0    0       ID      INTEGER        0       None   1\n",
      "1    1    fname  VARCHAR(20)        0       None   0\n",
      "2    2    lname  VARCHAR(30)        0       None   0\n",
      "3    3   gender      CHAR(1)        0       None   0\n",
      "4    4  joining         DATE        0       None   0\n"
     ]
    }
   ],
   "source": [
    "# Get table attributes\n",
    "print(\"Atribute of emp_1 \\n {}\".format(pd.read_sql_query('PRAGMA table_info(emp_1)', conn)))"
   ]
  },
  {
   "cell_type": "code",
   "execution_count": 5,
   "metadata": {},
   "outputs": [
    {
     "data": {
      "text/plain": [
       "<sqlite3.Cursor at 0x5672a40>"
      ]
     },
     "execution_count": 5,
     "metadata": {},
     "output_type": "execute_result"
    }
   ],
   "source": [
    "# Insert  rows into emp_1\n",
    "sql_cmd = \"\"\"INSERT INTO emp_1 VALUES (23, \"Rishabh\", \"Bansal\", \"M\", \"2014-03-28\"), \n",
    "                                      (1,  \"Bill\", \"Gates\", \"M\", \"1980-10-28\"),\n",
    "                                      (24, \"Mary\", \"Gates\", \"M\", \"1980-10-28\");\"\"\"\n",
    "dbcur.execute(sql_cmd)"
   ]
  },
  {
   "cell_type": "code",
   "execution_count": 6,
   "metadata": {},
   "outputs": [
    {
     "name": "stdout",
     "output_type": "stream",
     "text": [
      "count of emp_1 \n",
      "    count(*)\n",
      "0         3 \n",
      "\n",
      "content of emp_1 \n",
      "    ID    fname   lname gender     joining\n",
      "0   1     Bill   Gates      M  1980-10-28\n",
      "1  23  Rishabh  Bansal      M  2014-03-28\n",
      "2  24     Mary   Gates      M  1980-10-28\n"
     ]
    }
   ],
   "source": [
    "# Get count and content from emp_1\n",
    "print(\"count of emp_1 \\n {} \\n\".format(pd.read_sql_query(\"select count(*) from emp_1\", conn)))\n",
    "print(\"content of emp_1 \\n {}\".format(pd.read_sql_query(\"select * from emp_1\",conn)))\n"
   ]
  },
  {
   "cell_type": "markdown",
   "metadata": {},
   "source": [
    "## Create and insert rows into table emp_2\n"
   ]
  },
  {
   "cell_type": "code",
   "execution_count": 7,
   "metadata": {},
   "outputs": [
    {
     "data": {
      "text/plain": [
       "<sqlite3.Cursor at 0x5672a40>"
      ]
     },
     "execution_count": 7,
     "metadata": {},
     "output_type": "execute_result"
    }
   ],
   "source": [
    "#Drop tables\n",
    "dbcur.execute(\"DROP TABLE IF EXISTS emp_2\")\n",
    "\n",
    "# Define a SQL statement to create table emp_2\n",
    "sql_cmd = \"\"\"CREATE TABLE IF NOT EXISTS emp_2 ( \n",
    "ID INTEGER PRIMARY KEY, \n",
    "job VARCHAR(20) \n",
    ");\"\"\"\n",
    "# Execute the statement\n",
    "dbcur.execute(sql_cmd)"
   ]
  },
  {
   "cell_type": "code",
   "execution_count": 8,
   "metadata": {},
   "outputs": [
    {
     "name": "stdout",
     "output_type": "stream",
     "text": [
      "Atribute of emp_2 \n",
      "    cid name         type  notnull dflt_value  pk\n",
      "0    0   ID      INTEGER        0       None   1\n",
      "1    1  job  VARCHAR(20)        0       None   0\n"
     ]
    }
   ],
   "source": [
    "# Get table attributes\n",
    "print(\"Atribute of emp_2 \\n {}\".format(pd.read_sql_query('PRAGMA table_info(emp_2)', conn)))"
   ]
  },
  {
   "cell_type": "code",
   "execution_count": 9,
   "metadata": {},
   "outputs": [
    {
     "data": {
      "text/plain": [
       "<sqlite3.Cursor at 0x5672a40>"
      ]
     },
     "execution_count": 9,
     "metadata": {},
     "output_type": "execute_result"
    }
   ],
   "source": [
    "\n",
    "# Insert rows into emp_2\n",
    "sql_cmd = \"\"\"INSERT INTO emp_2 VALUES (23, \"Sales\"), (1, \"Mgr\"), (3,\"Mgr\")\"\"\" \n",
    "dbcur.execute(sql_cmd) "
   ]
  },
  {
   "cell_type": "code",
   "execution_count": 10,
   "metadata": {},
   "outputs": [
    {
     "name": "stdout",
     "output_type": "stream",
     "text": [
      "Count of emp_2 \n",
      "    count(*)\n",
      "0         3 \n",
      "\n",
      "content of emp_2 \n",
      "    ID    job\n",
      "0   1    Mgr\n",
      "1   3    Mgr\n",
      "2  23  Sales\n"
     ]
    }
   ],
   "source": [
    "\n",
    "# Get count and content\n",
    "print(\"Count of emp_2 \\n {} \\n\".format(pd.read_sql_query(\"select count(*) from emp_2\", conn)))\n",
    "print(\"content of emp_2 \\n {}\".format(pd.read_sql_query(\"select * from emp_2\",conn)))"
   ]
  },
  {
   "cell_type": "markdown",
   "metadata": {},
   "source": [
    "## Inner join"
   ]
  },
  {
   "cell_type": "code",
   "execution_count": 11,
   "metadata": {},
   "outputs": [
    {
     "name": "stdout",
     "output_type": "stream",
     "text": [
      "Use ID to inner join emp_1 and emp_2\n",
      "    ID    fname   lname gender     joining  ID    job\n",
      "0   1     Bill   Gates      M  1980-10-28   1    Mgr\n",
      "1  23  Rishabh  Bansal      M  2014-03-28  23  Sales\n"
     ]
    }
   ],
   "source": [
    "# SQL command for inner join\n",
    "sql_cmd = \"\"\"SELECT * FROM  emp_1 INNER JOIN emp_2 ON emp_1.ID = emp_2.ID;\"\"\"\n",
    "print(\"Use ID to inner join emp_1 and emp_2\\n {}\".format(pd.read_sql_query(sql_cmd, conn)))"
   ]
  },
  {
   "cell_type": "markdown",
   "metadata": {},
   "source": [
    "## left outer join"
   ]
  },
  {
   "cell_type": "code",
   "execution_count": 12,
   "metadata": {},
   "outputs": [
    {
     "name": "stdout",
     "output_type": "stream",
     "text": [
      "Use ID to left outer  join emp_1 and emp_2\n",
      "    ID    fname   lname gender     joining    ID    job\n",
      "0   1     Bill   Gates      M  1980-10-28   1.0    Mgr\n",
      "1  23  Rishabh  Bansal      M  2014-03-28  23.0  Sales\n",
      "2  24     Mary   Gates      M  1980-10-28   NaN   None\n"
     ]
    }
   ],
   "source": [
    "# SQL command for left outer join\n",
    "sql_cmd = \"\"\"SELECT * FROM  emp_1 LEFT OUTER JOIN emp_2 ON emp_1.ID = emp_2.ID;\"\"\"\n",
    "print(\"Use ID to left outer  join emp_1 and emp_2\\n {}\".format(pd.read_sql_query(sql_cmd, conn)))"
   ]
  },
  {
   "cell_type": "code",
   "execution_count": null,
   "metadata": {},
   "outputs": [],
   "source": []
  }
 ],
 "metadata": {
  "kernelspec": {
   "display_name": "Python 3",
   "language": "python",
   "name": "python3"
  },
  "language_info": {
   "codemirror_mode": {
    "name": "ipython",
    "version": 3
   },
   "file_extension": ".py",
   "mimetype": "text/x-python",
   "name": "python",
   "nbconvert_exporter": "python",
   "pygments_lexer": "ipython3",
   "version": "3.6.4"
  }
 },
 "nbformat": 4,
 "nbformat_minor": 2
}
