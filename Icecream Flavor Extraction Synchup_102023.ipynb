{
 "cells": [
  {
   "cell_type": "markdown",
   "id": "e0c5599d",
   "metadata": {},
   "source": [
    "# Icecream Flavor Extraction Synchup\n",
    "   - module name: Icecream Flavor Extraction Synchup_102023.ipynb\n",
    "   - purpose: Detect new icecream flavors for GTIN_NO being  classified as  'OTHER' in Detected_Flavor(s) from the input file  \n",
    "   - input:\n",
    "      - ICECREAM_OTHER_FLAVORS_101323.csv\n",
    "      - ice_cream_items_org.csv\n",
    "   - output:  \n",
    "     ICECREAM_OTHER_NEW_DETECTED_FLAVORS_mmddyy.csv\n",
    "   - functions:\n",
    "      -  proc_bnj: Get flavors of 'Ben & Jerry' in VND_ECOM_DSC\n",
    "      -  proc_blue_bunny: Get flavors of ' 'BLUE BUNNY' in VND_ECOM_DSC\n",
    "      -  proc_oth_res : Get flavors for the GTIN_NO not been identified with flavor\n",
    "   - Writen by: Sophia Yue  \n",
    "   - Date: 10-10-23\n",
    "   "
   ]
  },
  {
   "cell_type": "code",
   "execution_count": 1,
   "id": "44fa3a0a",
   "metadata": {},
   "outputs": [],
   "source": [
    "\n",
    "def extract_bnj_flavor(desc):\n",
    "    pattern = r'[0-9]' #Split on number\n",
    "    splitted = re.split(pattern, desc.upper())[0]\n",
    "    if 'ICE CREAM' in splitted: return splitted.split('ICE CREAM')[1]\n",
    "    else: return splitted "
   ]
  },
  {
   "cell_type": "code",
   "execution_count": 2,
   "id": "d636c9ef",
   "metadata": {},
   "outputs": [],
   "source": [
    "def proc_bnj(df_oth):\n",
    "    \n",
    "    bnjry = df_oth[df_oth.VND_ECOM_DSC.str.contains('Ben &')]\n",
    "    bnj_flvs_ct = pd.read_csv(path_atb + 'Ben_Jerrys_Flavors_CTribune.csv').Flavor.tolist()\n",
    "    bnjry['Possible_Flavors'] = bnjry.VND_ECOM_DSC.\\\n",
    "    str.lower().replace('chuncky','chunky')\\\n",
    "    .apply(lambda x: process.extract(x,bnj_flvs_ct , processor= utils.default_process, scorer= fuzz.token_set_ratio, score_cutoff= 90))\n",
    "    bnjry['New_Detected_Flavor(s)'] = bnjry.Possible_Flavors.apply(lambda x: x[0][0] if len(x) >0 else None)\n",
    "    \n",
    "    labeled_descs = bnjry[bnjry['New_Detected_Flavor(s)'].notnull()].VND_ECOM_DSC.unique()\n",
    "    flavor_maps = dict(zip(bnjry.VND_ECOM_DSC, bnjry['New_Detected_Flavor(s)']))\n",
    "    bnjry['New_Detected_Flavor(s)'] = bnjry.VND_ECOM_DSC.apply(lambda x: extract_bnj_flavor(x) if not x in labeled_descs else flavor_maps[x])\n",
    "    bnjry['New_Detected_Flavor(s)'] = bnjry['New_Detected_Flavor(s)'].replace({\"BEN & JERRY'S\":'','NON-DAIRY':'','FROZEN DESSERT':'','ICE CREAM':'', 'NONE DAIRY':''},regex = True)                                                               \n",
    "    bnjry = bnjry.drop(columns =['Possible_Flavors'])\n",
    "    print(f\"proc_bnj shape before drop '' = {bnjry.shape}\")\n",
    "    #bnjry = bnjry.dropna(subset=['New_Detected_Flavor(s)'], how = 'all')\n",
    "    bnjry = bnjry[bnjry['New_Detected_Flavor(s)'] != '']\n",
    "    \n",
    "    print(f\"proc_bnj shape after drop '' = {bnjry.shape}\")\n",
    "    \n",
    "    print (f'head: \\n {bnjry.head()}')\n",
    "    print (f\"value_count: \\n {bnjry['New_Detected_Flavor(s)'].value_counts(dropna = False)}\")\n",
    "    return bnjry"
   ]
  },
  {
   "cell_type": "code",
   "execution_count": 3,
   "id": "5e9d97f8",
   "metadata": {},
   "outputs": [],
   "source": [
    "def proc_blue_bunny(df_oth):\n",
    "    \n",
    "    pattern = 'BLUE BUNNY'\n",
    "    blue_bunny = df_oth[df_oth.VND_ECOM_DSC.fillna('').str.upper().str.contains(pattern)]\n",
    "    blue_bunny['New_Detected_Flavor(s)'] = blue_bunny.VND_ECOM_DSC.str.upper()\\\n",
    "    .replace({'ICE CREAM':'','BLUE BUNNY':'','PREMIUM':'','REDUCED FAT':'','SANDWICH':'','SANDWICHES':''}, regex = True)\\\n",
    "    .apply( extract_bnj_flavor)\n",
    "    \n",
    "    print(f\"proc_blue_bunny shape before drop '' = {blue_bunny.shape}\")\n",
    "    #blue_bunny = blue_bunny.dropna(subset=['New_Detected_Flavor(s)'], how = 'all')\n",
    "    blue_bunny= blue_bunny[blue_bunny['New_Detected_Flavor(s)'] != '']\n",
    "    blue_bunny['New_Detected_Flavor(s)']= blue_bunny['New_Detected_Flavor(s)'].str.rstrip(',') # Drop the last comma\n",
    "    print(f\"proc_blue_bunny shape after drop '' = {blue_bunny.shape}\")\n",
    "    print (f'blue_ bunny head: \\n {blue_bunny.head()}')\n",
    "    print (f\"value_count: \\n {blue_bunny['New_Detected_Flavor(s)'].value_counts(dropna = False)}\")\n",
    "    return blue_bunny"
   ]
  },
  {
   "cell_type": "code",
   "execution_count": 4,
   "id": "645d2e9f",
   "metadata": {},
   "outputs": [],
   "source": [
    "def proc_oth_res1(df_oth):\n",
    "   \n",
    "    df_oth_res = df_oth[~df_oth.GTIN_NO.isin(bnjry.GTIN_NO)]\n",
    "    df_oth_res = df_oth_res[~df_oth_res.GTIN_NO.isin(blue_bunny.GTIN_NO)] \n",
    "    df_oth_res['GTIN_NO'] = df_oth_res.GTIN_NO.apply(lambda x: int(x)).astype(str).apply(lambda x: (14- len(x))*'0'+x)\n",
    "    keep_col = [ 'GTIN_NO', 'RECEIPT_DESCRIPTION','TAG_DESCRIPTION', 'PRODUCT_DESCRIPTION/MKT_MSG']\n",
    "    df_oth_res = pd.merge(df_oth_res , ic_gtins[keep_col], on = 'GTIN_NO', how ='left')\n",
    "    \n",
    "    df_oth_res['desc'] =  df_oth_res ['VND_ECOM_DSC'] + ' ' +  df_oth_res ['RECEIPT_DESCRIPTION'] \\\n",
    "                          + ' ' + df_oth_res ['TAG_DESCRIPTION']\n",
    "    df_oth_res ['New_Detected_Flavor(s)'] =  df_oth_res ['desc'].str.upper().apply(lambda x:flavor_match(x, flavor_list = Flavors_combo, cutoff =98))\n",
    "    #df_oth_res.drop(columns =['desc'])\n",
    "    df_oth_res1 = df_oth_res[df_oth_res['New_Detected_Flavor(s)']   != 'OTHER']\n",
    "    df_oth_res2 = df_oth_res[df_oth_res['New_Detected_Flavor(s)'] == 'OTHER']\n",
    "    df_oth_res1['cutooff'] = 98 \n",
    "    df_oth_res1   =   df_oth_res1[['GTIN_NO', 'VND_ECOM_DSC', 'Original_Flavor', 'Detected_Flavor(s)', 'New_Detected_Flavor(s)','cutooff']]\n",
    "    print (f'pr =   df_oth_resoc_oth_res head: \\n {df_oth_res1.head()}')\n",
    "    print (f\"value_count: \\n {df_oth_res1['New_Detected_Flavor(s)'].value_counts(dropna = False)}\")\n",
    "    return df_oth_res1, df_oth_res2"
   ]
  },
  {
   "cell_type": "code",
   "execution_count": 5,
   "id": "8a7058b9",
   "metadata": {},
   "outputs": [],
   "source": [
    "def proc_oth_res2(df):\n",
    "    print(f\"proc_oth_res_2 shape bef = {df.shape}\")\n",
    "    df['New_Detected_Flavor(s)'] = df['VND_ECOM_DSC'].str.upper().apply( extract_bnj_flavor)\n",
    " \n",
    "    #df = df.dropna(subset=['New_Detected_Flavor(s)'], how = 'all')\n",
    "    #print(f'{df.dtypes}')\n",
    "    df ['New_Detected_Flavor(s)'] =  df['desc'].str.upper().apply(lambda x:flavor_match(x, flavor_list = Flavors_combo, cutoff =50))\n",
    "      \n",
    "    df['cutooff'] = 50 \n",
    "    df  =   df[['GTIN_NO', 'VND_ECOM_DSC', 'Original_Flavor', 'Detected_Flavor(s)', 'New_Detected_Flavor(s)','cutooff']]\n",
    "    print(f\"proc_oth_res_2 shape  = {df.shape}\")\n",
    "    print (f'blue_ bunny head: \\n {df.head()}')\n",
    "    print (f\"value_count: \\n {df['New_Detected_Flavor(s)'].value_counts(dropna = False)}\")\n",
    "    return df"
   ]
  },
  {
   "cell_type": "code",
   "execution_count": 6,
   "id": "8d40d93f",
   "metadata": {},
   "outputs": [],
   "source": [
    "def proc_oth_res(df_oth):\n",
    "    \"\"\"\n",
    "     Replace flavor_list = IC_flavors_new with flavor_list = Flavors_combo \n",
    "     \n",
    "    \"\"\"\n",
    "    df_oth_res = df_oth[~df_oth.GTIN_NO.isin(bnjry.GTIN_NO)]\n",
    "    df_oth_res = df_oth_res[~df_oth_res.GTIN_NO.isin(blue_bunny.GTIN_NO)] \n",
    "    df_oth_res['GTIN_NO'] = df_oth_res.GTIN_NO.apply(lambda x: int(x)).astype(str).apply(lambda x: (14- len(x))*'0'+x)\n",
    "    keep_col = [ 'GTIN_NO', 'RECEIPT_DESCRIPTION','TAG_DESCRIPTION', 'PRODUCT_DESCRIPTION/MKT_MSG']\n",
    "    df_oth_res = pd.merge(df_oth_res , ic_gtins[keep_col], on = 'GTIN_NO', how ='left')\n",
    "    \n",
    "    df_oth_res['desc'] =  df_oth_res ['VND_ECOM_DSC'] + ' ' +  df_oth_res ['RECEIPT_DESCRIPTION'] \\\n",
    "                          + ' ' + df_oth_res ['TAG_DESCRIPTION']\n",
    "    df_oth_res ['New_Detected_Flavor(s)'] =  df_oth_res ['desc'].str.upper().apply(lambda x:flavor_match(x, flavor_list = Flavors_combo, cutoff =98))\n",
    "    #df_oth_res.drop(columns =['desc'])\n",
    "    df_oth_res =   df_oth_res[['GTIN_NO', 'VND_ECOM_DSC', 'Original_Flavor', 'Detected_Flavor(s)', 'New_Detected_Flavor(s)']]\n",
    "    print (f'pr =   df_oth_resoc_oth_res head: \\n {df_oth_res.head()}')\n",
    "    print (f\"value_count: \\n {df_oth_res['New_Detected_Flavor(s)'].value_counts(dropna = False)}\")\n",
    "    return df_oth_res"
   ]
  },
  {
   "cell_type": "code",
   "execution_count": 7,
   "id": "ef2868d7",
   "metadata": {},
   "outputs": [],
   "source": [
    "### Remove substrings like 'CHOCOLATE' if 'CHOCOLATE CHIP' is also present as a top result\n",
    "def remove_substrings(string_list):\n",
    "    str_df = pd.DataFrame(string_list, columns= ['Sentence'])\n",
    "    str_df['Word Length'] = str_df.Sentence.apply(lambda x: len(x.split(' ')))\n",
    "    str_df['Drop'] = ''\n",
    "    str_df.sort_values('Word Length', inplace= True)\n",
    "    str_df.reset_index(drop = True, inplace= True)\n",
    "    for j in range(len(str_df)):\n",
    "        str_1 = str_df.Sentence.loc[j]\n",
    "        for i in range(len(str_df)-(j +1)):\n",
    "            str_2 = str_df.Sentence.loc[i+j+1]\n",
    "            if str_1 in str_2: \n",
    "                str_df.Drop.loc[j] = 'Yes'\n",
    "                break\n",
    "        if len(str_df) <2: \n",
    "            break\n",
    "    return str_df[str_df.Drop != 'Yes'].Sentence.tolist()"
   ]
  },
  {
   "cell_type": "code",
   "execution_count": 8,
   "id": "89eb5ead",
   "metadata": {},
   "outputs": [],
   "source": [
    "#MAtch using 'token set ratio' with threshold\n",
    "def flavor_match(item, flavor_list, cutoff = 98):\n",
    "    matched = process.extract(item, flavor_list, score_cutoff= cutoff, scorer = fuzz.token_set_ratio, processor=utils.default_process)\n",
    "    flavor_shortlist = remove_substrings([i[0] for i in matched])\n",
    "    matched = [i for i in matched if i[0] in flavor_shortlist]\n",
    "    if len( flavor_shortlist) >0:\n",
    "        max_score = matched[0][1]\n",
    "        final_match = [ i for i in matched if i[1]== max_score]\n",
    "        match_list = [i[0] for i in final_match]\n",
    "    \n",
    "        '''\n",
    "        match_list = [flavor_maps[i] if i in flavor_maps.keys() else i for i in match_list]\n",
    "        if set(match_list) == {'STRAWBERRY','FRUIT'}: \n",
    "            match_list = ['FRUIT']#Drop Strawberry if fruit is the only other flavor\n",
    "        if  set(match_list) != {'FRUIT'} : match_list = [ i for i in match_list if i != 'FRUIT']#Drop Fruit if it appears with something else\n",
    " \n",
    "        if matched in multiflavor_dict.keys(): #Mapping multi-flavors to intended labels\n",
    "            matched = multiflavor_dict[matched]\n",
    "        '''\n",
    "        matched = ','.join(sorted(list(set(pd.Series(match_list)))))   \n",
    "    else: matched = 'OTHER'\n",
    "    return matched"
   ]
  },
  {
   "cell_type": "code",
   "execution_count": 9,
   "id": "5abec3ce",
   "metadata": {},
   "outputs": [],
   "source": [
    "import pandas as pd, numpy as np\n",
    "from rapidfuzz import process, fuzz,utils\n",
    "import re\n",
    "np.set_printoptions(threshold=np.inf)\n",
    "path = 'C:\\\\users\\\\iny2819\\\\kroger\\\\Data\\\\' \n",
    "path_atb = 'C:\\\\users\\\\iny2819\\\\kroger\\\\Data\\\\ATB\\\\' \n",
    "path_atb_yue = 'C:\\\\users\\\\iny2819\\\\kroger\\\\Data\\\\ATB\\\\atb_yue\\\\' "
   ]
  },
  {
   "cell_type": "code",
   "execution_count": 10,
   "id": "4f220d53",
   "metadata": {},
   "outputs": [],
   "source": [
    "path_code = 'C:\\\\users\\\\iny2819\\\\kroger\\\\Code\\\\'  \n",
    "f_com_code = path_code + \"com_code.py\"\n",
    "exec(compile(open(f_com_code , \"rb\").read(), f_com_code, 'exec' ))"
   ]
  },
  {
   "cell_type": "code",
   "execution_count": 11,
   "id": "af6fff1f",
   "metadata": {},
   "outputs": [],
   "source": [
    "#### BASE FLAVOR CATEGORIES\n",
    "# PRIVATE SELECTION\n",
    "# Yue: added pepper in Spices; not include pvt_slc_flavors\n",
    "#pvt_slc_flavors = [i.replace('PREMIUM','') for i in pvt_slc.Flavor.unique()]\n",
    "#Fruits\n",
    "original_fruits = ['CHERRY', 'LEMON', 'ORANGE', 'LIME', 'PEACH', 'BANANA', 'PINEAPPLE', 'BERRY', 'APPLE', 'MANGO', 'RASPBERRY', 'PASSION FRUIT', 'POMEGRANATE', 'BLUEBERRY']\n",
    "Fruits =  original_fruits + \\\n",
    "['MARIONBERRY','HUCKLEBERRY','BLACKBERRY','BILBERRY','BOYSENBERRY','LUCUMA','CHERIMOYA','DURIAN','RED BEAN','UBE','GRAPE','GRAPEFRUIT', 'LYCHEE',\\\n",
    " 'RAISIN','APRICOT','PLUM','YUZU','DRAGON FRUIT','HIBISCUS', 'PUMPKIN','COCONUT','CARROT','SWEET POTATO','TARO','WATERMELON','MELON','CANTALOUPE','HONEYDEW','FIGS']\n",
    "#Nuts /Seeds\n",
    "Nuts = ['PEANUT','ALMOND','PISTACHIO','WALNUT','BLACK WALNUT','MACADAMIA','CASHEW', 'HAZELNUT','BLACK SESAME','PECAN','NUTS','FLAX','OATMEAL','COCONUT MILK','OAT MILK']\n",
    "#Candies / Confections\n",
    "Candy = ['CHOCOLATE','PEPPERMINT','FUDGE','TAFFY','BUBBLEGUM','BUBBLE GUM','MARSHMALLOW','BUTTERSCOTCH','WHITE CHOCOLATE', 'TRUFFLE', 'TIRAMISU', 'NAPOLEON','MACARON','GUMMY BEARS', 'GIANDUJA','NUTELLA','CAJETA','DULCE DE LECHE', 'LICORICE','SOUR PATCH KIDS','TURTLE']\n",
    "#Desserts / Baked goods\n",
    "Desserts = ['TOFFEE','CARAMEL','BROWNIE','CAKE','COOKIE','DONUT','DOUGHNUT','WAFER','WAFFLE','WAFFLE CONE','SWIRL','FRENCH TOAST','PANCAKE','PIE','COBBLER','CHEESECAKE','SNICKERDDODLE', \"S'MORES\",'SMORES','SMORES', 'GRAHAM','GINGERBREAD','PRALINE','BRITTLE','CRISP','CRUMBLE','CLUSTERS','SHORTBREAD', 'TORTE', 'BLACK FOREST','TRES LECHES','FLAN','BAKLAVA','BOSTON CREAM PIE','PUDDING','ECLAIR','CREAM PUFF','CROISSANT','BREAD PUDDDING']\n",
    "#Dairy products\n",
    "Dairy = ['MILK','BUTTER','BROWN BUTTER','SOUR CREAM','YOGURT','CHEESE','CREAM CHEESE','RICOTTA','MASCARPONE']\n",
    "#Sweeteners\n",
    "Sweeteners = ['HONEY','BROWN SUGAR','MOLASSES','MAPLE','DATES','PALM SUGAR']\n",
    "#Spices\n",
    "Spices = ['GINGER','CARDAMOM','CINNAMON','NUTMEG','TURMERIC','ANISE','ALLSPICE','SPICE', 'PEPPER']\n",
    "#Alcohol\n",
    "Boozes = ['RUM','BRANDY','BOURBON','VODKA','TEQUILA','MEZCAL','IRISH CREAM','KAHLUA','WHISKEY','BEER','COGNAC','WINE','CHAMPAGNE','PROSECCO','MERLOT','MARGARITA','LIQUOR','LIQUEUR','AMARETTO','COINTREAU','AMARULA']\n",
    "#Herbs\n",
    "Herbs = ['BASIL','MINT','LAVENDER']\n",
    "#Aromas\n",
    "Aromas = ['ROSE','ELDERFLOWER','PANDAN','SAFFRON']\n",
    "#Cereals\n",
    "Cereals = ['FROSTED','FRUIT LOOPS','CHEERIOS','CORN','RICE','RICE KRISPIES','MALT','BARLEY']\n",
    "##Beverages\n",
    "Bevs = ['COFFEE','GREEN TEA','CHAI','ESPRESSO','CAPPUCCINO', 'MOCHA','COCOA','EGGNOG','EGG NOG','COLA','SPRITE','PEPSI','FANTA','SODA','POP','LEMONADE','LATTE']\n",
    "Others = ['UNICORN','SPUMONI','STRACCIATELLA','RAINBOW','BACON', 'RED, WHITE AND BLUE','SUPERMAN','BLUE MOON','SPRINKLES']\n",
    "Ethnic = ['ITALIAN','FRENCH','ENGLISH','BRITISH','DUTCH','DANISH','POLISH','SCOTCH','IRISH','GERMAN','GREEK','SWEDISH','INDIAN','JAPANESE','ICELANDIC','MEXICAN','SPANISH','RUSSIAN','AMERICAN','KOREAN','LATIN','ARABIC','TURKISH','PERSIAN','CHINESE','FILIPINO','THAI', 'VIETNAMESE', 'ASIAN','EUROPEAN','AFRICAN','AUSTRALIAN']\n",
    "Processing = ['TOASTED','BAKED','ROASTED','FROSTED','SHAVED','CRUSHED','SLICED','WHIPPED']\n",
    "pvt_slc_flavors = [] # YUe\n",
    "Flavors_combo = list(set(pvt_slc_flavors + Fruits + Nuts + Candy + Desserts + Dairy + Sweeteners + Spices + Boozes + Herbs + Cereals + Aromas + Bevs +Others + Ethnic + Processing))\n"
   ]
  },
  {
   "cell_type": "code",
   "execution_count": 12,
   "id": "ca19e47e",
   "metadata": {},
   "outputs": [
    {
     "name": "stdout",
     "output_type": "stream",
     "text": [
      "file ice_cream_items_org.csv shape (12386, 12) \n",
      " columns: Index(['GTIN_NO', 'ECOMMERCE_DESCRIPTION', 'RECEIPT_DESCRIPTION',\n",
      "       'TAG_DESCRIPTION', 'PRODUCT_DESCRIPTION/MKT_MSG', 'KROGER_OWNED_FLAVOR',\n",
      "       'FLV_DSC', 'PID_COM_DSC', 'PID_SUBCOM_DSC', 'CFIC_DEPT_NAM',\n",
      "       'CFIC_COM_NAM', 'CFIC_SUBCOM_NAM'],\n",
      "      dtype='object')\n",
      "dtypes: \n",
      " GTIN_NO                        object\n",
      "ECOMMERCE_DESCRIPTION          object\n",
      "RECEIPT_DESCRIPTION            object\n",
      "TAG_DESCRIPTION                object\n",
      "PRODUCT_DESCRIPTION/MKT_MSG    object\n",
      "KROGER_OWNED_FLAVOR            object\n",
      "FLV_DSC                        object\n",
      "PID_COM_DSC                    object\n",
      "PID_SUBCOM_DSC                 object\n",
      "CFIC_DEPT_NAM                  object\n",
      "CFIC_COM_NAM                   object\n",
      "CFIC_SUBCOM_NAM                object\n",
      "dtype: object\n",
      "head: \n",
      "           GTIN_NO ECOMMERCE_DESCRIPTION RECEIPT_DESCRIPTION  \\\n",
      "0  00000000001175        Frys Snow Cone        SNOW CONE LG   \n",
      "1  00000000013772                (null)              GELATO   \n",
      "2  00000000022231                (null)        DELI GELTO S   \n",
      "3  00000000022248                (null)        DELI GELTO M   \n",
      "4  00000000022255                (null)        DELI GELTO P   \n",
      "\n",
      "      TAG_DESCRIPTION PRODUCT_DESCRIPTION/MKT_MSG KROGER_OWNED_FLAVOR FLV_DSC  \\\n",
      "0      FRYS SNOW CONE                      (null)              (null)  (null)   \n",
      "1          GNG GELATO                      (null)              (null)  (null)   \n",
      "2   DELI GELATO SMALL                      (null)              (null)  (null)   \n",
      "3  DELI GELATO MEDIUM                      (null)              (null)  (null)   \n",
      "4   DELI GELATO LARGE                      (null)              (null)  (null)   \n",
      "\n",
      "              PID_COM_DSC                         PID_SUBCOM_DSC  \\\n",
      "0                   WATER  STILL WATER FLVRD DRNK/MNRL WTR SWEET   \n",
      "1  FOOD SERVICE-ICE CREAM        ICE CREAM/GELATO SHOP:ICE CREAM   \n",
      "2  FOOD SERVICE-ICE CREAM        ICE CREAM/GELATO SHOP:ICE CREAM   \n",
      "3  FOOD SERVICE-ICE CREAM        ICE CREAM/GELATO SHOP:ICE CREAM   \n",
      "4  FOOD SERVICE-ICE CREAM        ICE CREAM/GELATO SHOP:ICE CREAM   \n",
      "\n",
      "  CFIC_DEPT_NAM CFIC_COM_NAM CFIC_SUBCOM_NAM  \n",
      "0  Frozen Foods    Ice Cream        Toppings  \n",
      "1           NaN          NaN             NaN  \n",
      "2           NaN          NaN             NaN  \n",
      "3           NaN          NaN             NaN  \n",
      "4           NaN          NaN             NaN  \n"
     ]
    }
   ],
   "source": [
    "ic_gtins = f_read(path_atb, 'ice_cream_items_org.csv', encoding= 'ISO-8859-1', sep = '|')"
   ]
  },
  {
   "cell_type": "code",
   "execution_count": 13,
   "id": "77de410e",
   "metadata": {},
   "outputs": [
    {
     "data": {
      "text/plain": [
       "GTIN_NO                            0\n",
       "ECOMMERCE_DESCRIPTION           4409\n",
       "RECEIPT_DESCRIPTION             5852\n",
       "TAG_DESCRIPTION                 4970\n",
       "PRODUCT_DESCRIPTION/MKT_MSG     8159\n",
       "KROGER_OWNED_FLAVOR            12386\n",
       "FLV_DSC                        11369\n",
       "PID_COM_DSC                       59\n",
       "PID_SUBCOM_DSC                    59\n",
       "CFIC_DEPT_NAM                   5679\n",
       "CFIC_COM_NAM                    5679\n",
       "CFIC_SUBCOM_NAM                 5679\n",
       "dtype: int64"
      ]
     },
     "execution_count": 13,
     "metadata": {},
     "output_type": "execute_result"
    }
   ],
   "source": [
    "ic_gtins.replace('(null)', None, inplace = True)\n",
    "ic_gtins.isnull().sum()                  "
   ]
  },
  {
   "cell_type": "code",
   "execution_count": 14,
   "id": "1a77feb3",
   "metadata": {},
   "outputs": [
    {
     "name": "stdout",
     "output_type": "stream",
     "text": [
      "file ICECREAM_OTHER_FLAVORS_101323.csv shape (3417, 4) \n",
      " columns: Index(['GTIN_NO', 'VND_ECOM_DSC', 'Original_Flavor', 'Detected_Flavor(s)'], dtype='object')\n",
      "dtypes: \n",
      " GTIN_NO               object\n",
      "VND_ECOM_DSC          object\n",
      "Original_Flavor       object\n",
      "Detected_Flavor(s)    object\n",
      "dtype: object\n",
      "head: \n",
      "   GTIN_NO        VND_ECOM_DSC Original_Flavor Detected_Flavor(s)\n",
      "0   22231   DELI GELATO SMALL           OTHER              OTHER\n",
      "1   22248  DELI GELATO MEDIUM           OTHER              OTHER\n",
      "2   22255   DELI GELATO LARGE           OTHER              OTHER\n",
      "3   22262    DELI GELATO PINT           OTHER              OTHER\n",
      "4   22279   DELI GELATO QUART           OTHER              OTHER\n"
     ]
    }
   ],
   "source": [
    "df_oth = f_read(path_atb, 'ICECREAM_OTHER_FLAVORS_101323.csv')"
   ]
  },
  {
   "cell_type": "code",
   "execution_count": 15,
   "id": "5d5f7e27",
   "metadata": {},
   "outputs": [],
   "source": [
    "df_oth = df_oth[df_oth['Detected_Flavor(s)'] == 'OTHER' ]"
   ]
  },
  {
   "cell_type": "code",
   "execution_count": 16,
   "id": "a85601c1",
   "metadata": {},
   "outputs": [
    {
     "data": {
      "text/plain": [
       "(1837, 4)"
      ]
     },
     "execution_count": 16,
     "metadata": {},
     "output_type": "execute_result"
    }
   ],
   "source": [
    "df_oth = df_oth.dropna(subset=['VND_ECOM_DSC'], how = 'all')\n",
    "df_oth.shape"
   ]
  },
  {
   "cell_type": "code",
   "execution_count": 17,
   "id": "0ef31aa0",
   "metadata": {},
   "outputs": [
    {
     "data": {
      "text/plain": [
       "(3417, 3)"
      ]
     },
     "execution_count": 17,
     "metadata": {},
     "output_type": "execute_result"
    }
   ],
   "source": [
    "ic_df = pd.read_csv(path_atb + 'ICECREAM_FLAVORS_101223_pipe_delim.csv', sep = '|')\n",
    "ic_df = ic_df[ic_df.Flavor == 'OTHER']\n",
    "ic_df['VND_ECOM_DSC'] = ic_df.VND_ECOM_DSC.fillna('')\n",
    "ic_df.shape"
   ]
  },
  {
   "cell_type": "code",
   "execution_count": 18,
   "id": "ee5da1d6",
   "metadata": {},
   "outputs": [
    {
     "name": "stdout",
     "output_type": "stream",
     "text": [
      "proc_bnj shape before drop '' = (59, 5)\n",
      "proc_bnj shape after drop '' = (48, 5)\n",
      "head: \n",
      "           GTIN_NO                                    VND_ECOM_DSC  \\\n",
      "1555  76840000722  Ben & Jerry's Ice Cream Chillin The Roast 1 PT   \n",
      "1556  76840001002      Ben & Jerry's Ice Cream Tonight Dough 3 PC   \n",
      "1559  76840001750   Ben & Jerry's Ice Cream Gimme Some Sugar 1 PT   \n",
      "1560  76840001767        Ben & Jerry's Ice Cream Wake N Bake 1 PT   \n",
      "1562  76840002351           Ben & Jerry's Gimme S'more! Ice Cream   \n",
      "\n",
      "     Original_Flavor Detected_Flavor(s) New_Detected_Flavor(s)  \n",
      "1555           OTHER              OTHER     Chillin' the Roast  \n",
      "1556           OTHER              OTHER         TONIGHT DOUGH   \n",
      "1559           OTHER              OTHER      GIMME SOME SUGAR   \n",
      "1560           OTHER              OTHER           WAKE N BAKE   \n",
      "1562           OTHER              OTHER           Gimme S'more  \n",
      "value_count: \n",
      " Americone Dream                                            3\n",
      " LIGHTSCARAMELACTION                                       3\n",
      "Chillin' the Roast                                         2\n",
      " OATMEALDREAMPIE                                           2\n",
      "Oat of This Swirled                                        2\n",
      " CHUNCKY MONKEY                                            2\n",
      " KARAMELSUTRA                                              2\n",
      " TONIGHT DOUGH                                             2\n",
      " CHUBBYHUBBY                                               2\n",
      " MIXED                                                     2\n",
      "Chunky Monkey                                              2\n",
      " GIMME SOME SUGAR                                          2\n",
      "Phish Food                                                 2\n",
      " AMERICONEDREAM                                            2\n",
      "  TONIGHT DOUGH                                            2\n",
      " WAKE N BAKE                                               2\n",
      "  NETFLIX + CHILLED                                        1\n",
      " MINTCHOCCOOKIE                                            1\n",
      " CHURRAYFORCHURROS                                         1\n",
      " MOUSSEPIE                                                 1\n",
      "  CHANGE THE WHIRLED                                       1\n",
      " PHISHFOOD                                                 1\n",
      "The Tonight Dough                                          1\n",
      " NETFLIX+CHILLLED                                          1\n",
      " GIMMESMORE                                                1\n",
      " COLIN KAEPERNICK'S CHANGE THE WHIRLED™ FROZEN  DESSERT    1\n",
      "Gimme S'more                                               1\n",
      " CINNAMONBUN                                               1\n",
      " NETFLIX & CHILLL’D™ FROZEN  DESSERT                       1\n",
      "Everything But The...                                      1\n",
      "Name: New_Detected_Flavor(s), dtype: int64\n"
     ]
    },
    {
     "name": "stderr",
     "output_type": "stream",
     "text": [
      "C:\\Users\\iny2819\\AppData\\Local\\Temp\\ipykernel_22760\\830016752.py:5: SettingWithCopyWarning: \n",
      "A value is trying to be set on a copy of a slice from a DataFrame.\n",
      "Try using .loc[row_indexer,col_indexer] = value instead\n",
      "\n",
      "See the caveats in the documentation: https://pandas.pydata.org/pandas-docs/stable/user_guide/indexing.html#returning-a-view-versus-a-copy\n",
      "  bnjry['Possible_Flavors'] = bnjry.VND_ECOM_DSC.\\\n",
      "C:\\Users\\iny2819\\AppData\\Local\\Temp\\ipykernel_22760\\830016752.py:8: SettingWithCopyWarning: \n",
      "A value is trying to be set on a copy of a slice from a DataFrame.\n",
      "Try using .loc[row_indexer,col_indexer] = value instead\n",
      "\n",
      "See the caveats in the documentation: https://pandas.pydata.org/pandas-docs/stable/user_guide/indexing.html#returning-a-view-versus-a-copy\n",
      "  bnjry['New_Detected_Flavor(s)'] = bnjry.Possible_Flavors.apply(lambda x: x[0][0] if len(x) >0 else None)\n",
      "C:\\Users\\iny2819\\AppData\\Local\\Temp\\ipykernel_22760\\830016752.py:12: SettingWithCopyWarning: \n",
      "A value is trying to be set on a copy of a slice from a DataFrame.\n",
      "Try using .loc[row_indexer,col_indexer] = value instead\n",
      "\n",
      "See the caveats in the documentation: https://pandas.pydata.org/pandas-docs/stable/user_guide/indexing.html#returning-a-view-versus-a-copy\n",
      "  bnjry['New_Detected_Flavor(s)'] = bnjry.VND_ECOM_DSC.apply(lambda x: extract_bnj_flavor(x) if not x in labeled_descs else flavor_maps[x])\n",
      "C:\\Users\\iny2819\\AppData\\Local\\Temp\\ipykernel_22760\\830016752.py:13: SettingWithCopyWarning: \n",
      "A value is trying to be set on a copy of a slice from a DataFrame.\n",
      "Try using .loc[row_indexer,col_indexer] = value instead\n",
      "\n",
      "See the caveats in the documentation: https://pandas.pydata.org/pandas-docs/stable/user_guide/indexing.html#returning-a-view-versus-a-copy\n",
      "  bnjry['New_Detected_Flavor(s)'] = bnjry['New_Detected_Flavor(s)'].replace({\"BEN & JERRY'S\":'','NON-DAIRY':'','FROZEN DESSERT':'','ICE CREAM':'', 'NONE DAIRY':''},regex = True)\n"
     ]
    }
   ],
   "source": [
    "bnjry = proc_bnj(df_oth)"
   ]
  },
  {
   "cell_type": "code",
   "execution_count": 19,
   "id": "89dd97d7",
   "metadata": {},
   "outputs": [
    {
     "name": "stdout",
     "output_type": "stream",
     "text": [
      "proc_blue_bunny shape before drop '' = (43, 5)\n",
      "proc_blue_bunny shape after drop '' = (40, 5)\n",
      "blue_ bunny head: \n",
      "          GTIN_NO                                       VND_ECOM_DSC  \\\n",
      "894  70640001767     Blue Bunny Birthday Party Ice Cream Sandwiches   \n",
      "896  70640003112        Blue Bunny Premium Birthday Party Ice Cream   \n",
      "897  70640003808          Blue Bunny Premium Bunny Tracks Ice Cream   \n",
      "899  70640003938  Blue Bunny No Sugar Added Reduced Fat Bunny Tr...   \n",
      "903  70640004508  ELLIPTICAL 5.5 FLUID OUNCE BLUE BUNNY PERSONAL...   \n",
      "\n",
      "    Original_Flavor Detected_Flavor(s)          New_Detected_Flavor(s)  \n",
      "894           OTHER              OTHER              BIRTHDAY PARTY  ES  \n",
      "896           OTHER              OTHER                 BIRTHDAY PARTY   \n",
      "897           OTHER              OTHER                   BUNNY TRACKS   \n",
      "899           OTHER              OTHER   NO SUGAR ADDED  BUNNY TRACKS   \n",
      "903           OTHER              OTHER                     ELLIPTICAL   \n",
      "value_count: \n",
      " ELLIPTICAL                                                                   4\n",
      "BRANDED                                                                      3\n",
      " SIGNATURE BLU'S BIRTHDAY PARTY                                              2\n",
      "  BUNNY TRACKS                                                               2\n",
      " LOAD'D SUNDAES BUNNY TRACKS, FROZEN DESSERT CUP FOR SUMMER,                 2\n",
      " SWEET FREEDOM BUNNY TRACKS LIGHT ,                                          2\n",
      " SIGNATURE BUNNY TRACKS FROZEN DESSERT,                                      2\n",
      " SWEET FREEDOM BUNNY TRACKS                                                  2\n",
      " MINI SWIRLS CLASSIC MINI CONES VARIETY PACK, FROZEN DESSERT FOR SUMMER,     1\n",
      " CHOCOPOLITAN FROZEN DESSERT,                                                1\n",
      " SWEET FREEDOM KRUNCH LITES                                                  1\n",
      " LOAD'D BARS BUNNY TRACKS, FROZEN DESSERT FOR FALL,                          1\n",
      " LOAD'D CONES BUNNY TRACKS, FROZEN DESSERT,                                  1\n",
      " BIRTHDAY PARTY                                                              1\n",
      " MINI SWIRLS CLASSIC VARIETY PACK CONES,                                     1\n",
      "® PB 'N CONES™                                                               1\n",
      " BIRTHDAY PARTY  ES                                                          1\n",
      " S'MORE PLEASE                                                               1\n",
      "  BIRTHDAY PARTY                                                             1\n",
      " CUATRO LECHES                                                               1\n",
      " MINI SWIRLS CONES BDAY PARTY                                                1\n",
      " CADBURY CARAMELLO BARS                                                      1\n",
      " BLUE RIBBON CLASSICS BUNNY TRACKS LIGHT                                     1\n",
      " BLUE RIBBON CLASSICS BIRTHDAY PARTY                                         1\n",
      " CHAMP! MINI SWIRLS BIRTHDAY PARTY CONES                                     1\n",
      " SWEET FREEDOM VARIETY  SANWICHES                                            1\n",
      " MINI  ES VARIETY PACK                                                       1\n",
      " NO SUGAR ADDED  BUNNY TRACKS                                                1\n",
      " BIRTHDAY PARTY ,                                                            1\n",
      "Name: New_Detected_Flavor(s), dtype: int64\n"
     ]
    },
    {
     "name": "stderr",
     "output_type": "stream",
     "text": [
      "C:\\Users\\iny2819\\AppData\\Local\\Temp\\ipykernel_22760\\2235983728.py:5: SettingWithCopyWarning: \n",
      "A value is trying to be set on a copy of a slice from a DataFrame.\n",
      "Try using .loc[row_indexer,col_indexer] = value instead\n",
      "\n",
      "See the caveats in the documentation: https://pandas.pydata.org/pandas-docs/stable/user_guide/indexing.html#returning-a-view-versus-a-copy\n",
      "  blue_bunny['New_Detected_Flavor(s)'] = blue_bunny.VND_ECOM_DSC.str.upper()\\\n"
     ]
    }
   ],
   "source": [
    "blue_bunny = proc_blue_bunny(df_oth)"
   ]
  },
  {
   "cell_type": "code",
   "execution_count": 20,
   "id": "f2ad1178",
   "metadata": {},
   "outputs": [
    {
     "name": "stderr",
     "output_type": "stream",
     "text": [
      "C:\\Users\\iny2819\\AppData\\Local\\Temp\\ipykernel_22760\\540123340.py:13: SettingWithCopyWarning: \n",
      "A value is trying to be set on a copy of a slice from a DataFrame\n",
      "\n",
      "See the caveats in the documentation: https://pandas.pydata.org/pandas-docs/stable/user_guide/indexing.html#returning-a-view-versus-a-copy\n",
      "  str_df.Drop.loc[j] = 'Yes'\n",
      "C:\\Users\\iny2819\\AppData\\Local\\Temp\\ipykernel_22760\\540123340.py:13: SettingWithCopyWarning: \n",
      "A value is trying to be set on a copy of a slice from a DataFrame\n",
      "\n",
      "See the caveats in the documentation: https://pandas.pydata.org/pandas-docs/stable/user_guide/indexing.html#returning-a-view-versus-a-copy\n",
      "  str_df.Drop.loc[j] = 'Yes'\n"
     ]
    },
    {
     "name": "stdout",
     "output_type": "stream",
     "text": [
      "pr =   df_oth_resoc_oth_res head: \n",
      "           GTIN_NO        VND_ECOM_DSC Original_Flavor Detected_Flavor(s)  \\\n",
      "0  00000000022231   DELI GELATO SMALL           OTHER              OTHER   \n",
      "1  00000000022248  DELI GELATO MEDIUM           OTHER              OTHER   \n",
      "2  00000000022255   DELI GELATO LARGE           OTHER              OTHER   \n",
      "3  00000000022262    DELI GELATO PINT           OTHER              OTHER   \n",
      "4  00000000022279   DELI GELATO QUART           OTHER              OTHER   \n",
      "\n",
      "  New_Detected_Flavor(s)  \n",
      "0                  OTHER  \n",
      "1                  OTHER  \n",
      "2                  OTHER  \n",
      "3                  OTHER  \n",
      "4                  OTHER  \n",
      "value_count: \n",
      " OTHER              1590\n",
      "POP                  22\n",
      "CAKE                 10\n",
      "YOGURT               10\n",
      "CHOCOLATE            10\n",
      "                   ... \n",
      "CHOCOLATE,DUTCH       1\n",
      "PINEAPPLE             1\n",
      "DULCE DE LECHE        1\n",
      "HUCKLEBERRY           1\n",
      "HAZELNUT              1\n",
      "Name: New_Detected_Flavor(s), Length: 65, dtype: int64\n"
     ]
    }
   ],
   "source": [
    "df_oth_res = proc_oth_res(df_oth)"
   ]
  },
  {
   "cell_type": "code",
   "execution_count": 21,
   "id": "6092c994",
   "metadata": {},
   "outputs": [
    {
     "name": "stderr",
     "output_type": "stream",
     "text": [
      "C:\\Users\\iny2819\\AppData\\Local\\Temp\\ipykernel_22760\\540123340.py:13: SettingWithCopyWarning: \n",
      "A value is trying to be set on a copy of a slice from a DataFrame\n",
      "\n",
      "See the caveats in the documentation: https://pandas.pydata.org/pandas-docs/stable/user_guide/indexing.html#returning-a-view-versus-a-copy\n",
      "  str_df.Drop.loc[j] = 'Yes'\n",
      "C:\\Users\\iny2819\\AppData\\Local\\Temp\\ipykernel_22760\\540123340.py:13: SettingWithCopyWarning: \n",
      "A value is trying to be set on a copy of a slice from a DataFrame\n",
      "\n",
      "See the caveats in the documentation: https://pandas.pydata.org/pandas-docs/stable/user_guide/indexing.html#returning-a-view-versus-a-copy\n",
      "  str_df.Drop.loc[j] = 'Yes'\n"
     ]
    },
    {
     "name": "stdout",
     "output_type": "stream",
     "text": [
      "pr =   df_oth_resoc_oth_res head: \n",
      "             GTIN_NO                                       VND_ECOM_DSC  \\\n",
      "104  00009073102130                     Sharons Wildberry Sorbet 16 Oz   \n",
      "121  00011110084095  DELUXE CHURNED CELEBRATION FAMILY SIZE - KROGE...   \n",
      "124  00011110085283  DELUXE CHURNED CELEBRATION FAMILY SIZE NATURAL...   \n",
      "127  00011110096531                       Kroger® Jumbo Ice Cream Cups   \n",
      "136  00011110502438               Kroger Deluxe Bunch Crunch Ice Cream   \n",
      "\n",
      "    Original_Flavor Detected_Flavor(s) New_Detected_Flavor(s)  cutooff  \n",
      "104           OTHER              OTHER                  BERRY       98  \n",
      "121           OTHER              OTHER                   CAKE       98  \n",
      "124           OTHER              OTHER                   CAKE       98  \n",
      "127           OTHER              OTHER                   CAKE       98  \n",
      "136           OTHER              OTHER                   MILK       98  \n",
      "value_count: \n",
      " POP               22\n",
      "CHOCOLATE         10\n",
      "CAKE              10\n",
      "YOGURT            10\n",
      "FUDGE              8\n",
      "                  ..\n",
      "MARSHMALLOW        1\n",
      "PINEAPPLE          1\n",
      "DULCE DE LECHE     1\n",
      "HUCKLEBERRY        1\n",
      "HAZELNUT           1\n",
      "Name: New_Detected_Flavor(s), Length: 64, dtype: int64\n"
     ]
    },
    {
     "name": "stderr",
     "output_type": "stream",
     "text": [
      "C:\\Users\\iny2819\\AppData\\Local\\Temp\\ipykernel_22760\\4070435285.py:15: SettingWithCopyWarning: \n",
      "A value is trying to be set on a copy of a slice from a DataFrame.\n",
      "Try using .loc[row_indexer,col_indexer] = value instead\n",
      "\n",
      "See the caveats in the documentation: https://pandas.pydata.org/pandas-docs/stable/user_guide/indexing.html#returning-a-view-versus-a-copy\n",
      "  df_oth_res1['cutooff'] = 98\n"
     ]
    }
   ],
   "source": [
    "df_oth_res1, df_oth_res2 = proc_oth_res1(df_oth)"
   ]
  },
  {
   "cell_type": "code",
   "execution_count": 22,
   "id": "2d7c7dc8",
   "metadata": {},
   "outputs": [
    {
     "name": "stdout",
     "output_type": "stream",
     "text": [
      "proc_oth_res_2 shape bef = (1590, 9)\n"
     ]
    },
    {
     "name": "stderr",
     "output_type": "stream",
     "text": [
      "C:\\Users\\iny2819\\AppData\\Local\\Temp\\ipykernel_22760\\540123340.py:13: SettingWithCopyWarning: \n",
      "A value is trying to be set on a copy of a slice from a DataFrame\n",
      "\n",
      "See the caveats in the documentation: https://pandas.pydata.org/pandas-docs/stable/user_guide/indexing.html#returning-a-view-versus-a-copy\n",
      "  str_df.Drop.loc[j] = 'Yes'\n",
      "C:\\Users\\iny2819\\AppData\\Local\\Temp\\ipykernel_22760\\540123340.py:13: SettingWithCopyWarning: \n",
      "A value is trying to be set on a copy of a slice from a DataFrame\n",
      "\n",
      "See the caveats in the documentation: https://pandas.pydata.org/pandas-docs/stable/user_guide/indexing.html#returning-a-view-versus-a-copy\n",
      "  str_df.Drop.loc[j] = 'Yes'\n"
     ]
    },
    {
     "name": "stdout",
     "output_type": "stream",
     "text": [
      "proc_oth_res_2 shape  = (1590, 6)\n",
      "blue_ bunny head: \n",
      "           GTIN_NO        VND_ECOM_DSC Original_Flavor Detected_Flavor(s)  \\\n",
      "0  00000000022231   DELI GELATO SMALL           OTHER              OTHER   \n",
      "1  00000000022248  DELI GELATO MEDIUM           OTHER              OTHER   \n",
      "2  00000000022255   DELI GELATO LARGE           OTHER              OTHER   \n",
      "3  00000000022262    DELI GELATO PINT           OTHER              OTHER   \n",
      "4  00000000022279   DELI GELATO QUART           OTHER              OTHER   \n",
      "\n",
      "  New_Detected_Flavor(s)  cutooff  \n",
      "0                  OTHER       50  \n",
      "1                  OTHER       50  \n",
      "2                  OTHER       50  \n",
      "3                  OTHER       50  \n",
      "4                  OTHER       50  \n",
      "value_count: \n",
      " OTHER                                 1066\n",
      "CREAM PUFF,SOUR CREAM                  415\n",
      "WAFFLE CONE                             23\n",
      "PALM SUGAR                              12\n",
      "BLUE MOON                               10\n",
      "WHITE CHOCOLATE                          7\n",
      "RED BEAN                                 6\n",
      "DULCE DE LECHE                           6\n",
      "FRUIT LOOPS                              6\n",
      "AMARETTO                                 3\n",
      "BROWN SUGAR                              3\n",
      "OAT MILK                                 3\n",
      "CREAM PUFF,RED BEAN,SOUR CREAM           3\n",
      "GREEN TEA                                3\n",
      "PISTACHIO                                3\n",
      "CHINESE                                  2\n",
      "SOUR CREAM                               2\n",
      "ICELANDIC                                1\n",
      "BOSTON CREAM PIE                         1\n",
      "CHOCOLATE                                1\n",
      "CREAM PUFF,PALM SUGAR,SOUR CREAM         1\n",
      "OATMEAL                                  1\n",
      "BUTTERSCOTCH                             1\n",
      "DRAGON FRUIT                             1\n",
      "CHERIMOYA                                1\n",
      "BLUE MOON,RED, WHITE AND BLUE            1\n",
      "LATIN,MELON                              1\n",
      "ALMOND                                   1\n",
      "S'MORES                                  1\n",
      "LATIN                                    1\n",
      "HIBISCUS                                 1\n",
      "ESPRESSO                                 1\n",
      "CREAM PUFF,DRAGON FRUIT,SOUR CREAM       1\n",
      "SWEET POTATO                             1\n",
      "Name: New_Detected_Flavor(s), dtype: int64\n"
     ]
    }
   ],
   "source": [
    "df_oth_res2 = proc_oth_res2(df_oth_res2 )"
   ]
  },
  {
   "cell_type": "code",
   "execution_count": 23,
   "id": "9ab15e5f",
   "metadata": {},
   "outputs": [
    {
     "data": {
      "text/plain": [
       "(1837, 6)"
      ]
     },
     "execution_count": 23,
     "metadata": {},
     "output_type": "execute_result"
    }
   ],
   "source": [
    "df_ic_flavor_new_detect = pd.concat([bnjry, blue_bunny, df_oth_res1, df_oth_res2]) \n",
    "df_ic_flavor_new_detect.shape"
   ]
  },
  {
   "cell_type": "code",
   "execution_count": 24,
   "id": "64bfa9c8",
   "metadata": {},
   "outputs": [
    {
     "data": {
      "text/plain": [
       "OTHER                    1066\n",
       "CREAM PUFF,SOUR CREAM     415\n",
       "WAFFLE CONE                23\n",
       "POP                        22\n",
       "PALM SUGAR                 12\n",
       "                         ... \n",
       "Everything But The...       1\n",
       " BIRTHDAY PARTY  ES         1\n",
       "  BIRTHDAY PARTY            1\n",
       "MAPLE                       1\n",
       "SWEET POTATO                1\n",
       "Name: New_Detected_Flavor(s), Length: 151, dtype: int64"
      ]
     },
     "execution_count": 24,
     "metadata": {},
     "output_type": "execute_result"
    }
   ],
   "source": [
    "df_ic_flavor_new_detect['New_Detected_Flavor(s)'].value_counts(dropna = False )"
   ]
  },
  {
   "cell_type": "code",
   "execution_count": 27,
   "id": "60339e2e",
   "metadata": {},
   "outputs": [],
   "source": [
    "from datetime import date\n",
    "from pandas import ExcelWriter\n",
    "from pandas import ExcelFile\n",
    "\n",
    "dte = date.today().strftime('%m%d%y')\n",
    "excel_file = path_atb + \"CECREAM_OTHER_NEW_DETECTED_FLAVORS_\"+dte + '.xlsx'\n",
    "writer = pd.ExcelWriter(excel_file)\n",
    "df_ic_flavor_new_detect.to_excel(writer,'New_Detected_Flavor', index = False)\n",
    "     \n",
    "writer.close()"
   ]
  },
  {
   "cell_type": "code",
   "execution_count": null,
   "id": "52c6baef",
   "metadata": {},
   "outputs": [],
   "source": []
  }
 ],
 "metadata": {
  "kernelspec": {
   "display_name": "Python 3 (ipykernel)",
   "language": "python",
   "name": "python3"
  },
  "language_info": {
   "codemirror_mode": {
    "name": "ipython",
    "version": 3
   },
   "file_extension": ".py",
   "mimetype": "text/x-python",
   "name": "python",
   "nbconvert_exporter": "python",
   "pygments_lexer": "ipython3",
   "version": "3.10.9"
  }
 },
 "nbformat": 4,
 "nbformat_minor": 5
}
