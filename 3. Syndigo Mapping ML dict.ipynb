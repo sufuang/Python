{
 "cells": [
  {
   "cell_type": "markdown",
   "metadata": {},
   "source": [
    "#\n",
    "  - 3. Syndigo Mapping ML dict.ip\n",
    "  - Bsse on the code from offshore and modifcation with\n",
    "    - Construct a dictionary with key: 'Level 1' value as file name\n",
    "  - 3. Syndigo Mapping MachineLearning"
   ]
  },
  {
   "cell_type": "code",
   "execution_count": 111,
   "metadata": {},
   "outputs": [],
   "source": [
    "def unique_no_nan(x):\n",
    "    return x.dropna().unique()"
   ]
  },
  {
   "cell_type": "code",
   "execution_count": 143,
   "metadata": {},
   "outputs": [],
   "source": [
    "def constrcut_dic():\n",
    "    key = unique_no_nan(syndigo_mapped['Level 1'])\n",
    "    value = list( map(lambda x : re.sub('&|/', '', x), key))\n",
    "    value = list( map(lambda x : re.sub(' +', '_', x), value))\n",
    "    value = list(map(str.lower, value))\n",
    "    #value = ['-'.join(['tfidf'+ str]), value]\n",
    "\n",
    "    print(f'key: {key}') \n",
    "    print(f'value: {value}')\n",
    "    return dict(zip(key, value)) "
   ]
  },
  {
   "cell_type": "code",
   "execution_count": 144,
   "metadata": {},
   "outputs": [
    {
     "name": "stdout",
     "output_type": "stream",
     "text": [
      "key: ['Food / Beverages' 'Health & Beauty' 'Beer / Wine / Spirits'\n",
      " 'Kitchen & Bathroom' 'Cleaning & Janitorial' 'Home & Venue Decoration'\n",
      " 'Livestock & Pet Supplies' 'Toys / Games / Hobbies' 'Childcare'\n",
      " 'Tobacco Products' 'Apparel' 'Gardening & Outdoors'\n",
      " 'Sports & Outdoor Recreation Equipment' 'Office Supplies'\n",
      " 'Plumbing & Water Service' 'Lighting & Fans' 'Appliances' 'Electronics'\n",
      " 'Not classified' 'Automotive' 'Tools' 'Hardware' 'Books & Videos'\n",
      " 'Arts & Crafts' 'Electrical' 'Heating / Ventilation / Air Conditioning'\n",
      " 'Hospitality Supplies' 'Furniture' 'Power Sports'\n",
      " 'Power Transmission & Motion Control' 'Marine' 'Flooring'\n",
      " 'Paints & Coatings' 'Building Supplies' 'Musical Instruments'\n",
      " 'Material Handling' 'Agricultural Equipment']\n",
      "value: ['food_beverages', 'health_beauty', 'beer_wine_spirits', 'kitchen_bathroom', 'cleaning_janitorial', 'home_venue_decoration', 'livestock_pet_supplies', 'toys_games_hobbies', 'childcare', 'tobacco_products', 'apparel', 'gardening_outdoors', 'sports_outdoor_recreation_equipment', 'office_supplies', 'plumbing_water_service', 'lighting_fans', 'appliances', 'electronics', 'not_classified', 'automotive', 'tools', 'hardware', 'books_videos', 'arts_crafts', 'electrical', 'heating_ventilation_air_conditioning', 'hospitality_supplies', 'furniture', 'power_sports', 'power_transmission_motion_control', 'marine', 'flooring', 'paints_coatings', 'building_supplies', 'musical_instruments', 'material_handling', 'agricultural_equipment']\n"
     ]
    },
    {
     "data": {
      "text/plain": [
       "{'Food / Beverages': 'food_beverages',\n",
       " 'Health & Beauty': 'health_beauty',\n",
       " 'Beer / Wine / Spirits': 'beer_wine_spirits',\n",
       " 'Kitchen & Bathroom': 'kitchen_bathroom',\n",
       " 'Cleaning & Janitorial': 'cleaning_janitorial',\n",
       " 'Home & Venue Decoration': 'home_venue_decoration',\n",
       " 'Livestock & Pet Supplies': 'livestock_pet_supplies',\n",
       " 'Toys / Games / Hobbies': 'toys_games_hobbies',\n",
       " 'Childcare': 'childcare',\n",
       " 'Tobacco Products': 'tobacco_products',\n",
       " 'Apparel': 'apparel',\n",
       " 'Gardening & Outdoors': 'gardening_outdoors',\n",
       " 'Sports & Outdoor Recreation Equipment': 'sports_outdoor_recreation_equipment',\n",
       " 'Office Supplies': 'office_supplies',\n",
       " 'Plumbing & Water Service': 'plumbing_water_service',\n",
       " 'Lighting & Fans': 'lighting_fans',\n",
       " 'Appliances': 'appliances',\n",
       " 'Electronics': 'electronics',\n",
       " 'Not classified': 'not_classified',\n",
       " 'Automotive': 'automotive',\n",
       " 'Tools': 'tools',\n",
       " 'Hardware': 'hardware',\n",
       " 'Books & Videos': 'books_videos',\n",
       " 'Arts & Crafts': 'arts_crafts',\n",
       " 'Electrical': 'electrical',\n",
       " 'Heating / Ventilation / Air Conditioning': 'heating_ventilation_air_conditioning',\n",
       " 'Hospitality Supplies': 'hospitality_supplies',\n",
       " 'Furniture': 'furniture',\n",
       " 'Power Sports': 'power_sports',\n",
       " 'Power Transmission & Motion Control': 'power_transmission_motion_control',\n",
       " 'Marine': 'marine',\n",
       " 'Flooring': 'flooring',\n",
       " 'Paints & Coatings': 'paints_coatings',\n",
       " 'Building Supplies': 'building_supplies',\n",
       " 'Musical Instruments': 'musical_instruments',\n",
       " 'Material Handling': 'material_handling',\n",
       " 'Agricultural Equipment': 'agricultural_equipment'}"
      ]
     },
     "execution_count": 144,
     "metadata": {},
     "output_type": "execute_result"
    }
   ],
   "source": [
    "dic_level1= constrcut_dic()\n",
    "dic_level1"
   ]
  },
  {
   "cell_type": "code",
   "execution_count": 100,
   "metadata": {},
   "outputs": [],
   "source": [
    "def prepare_data_1():\n",
    "    # Reading PIMMART data\n",
    "    pim_gtin_mapped = pd.read_csv(DBFR + \"PIM_Data_New_50_82Mn.csv\", dtype=object)\n",
    "    for i in ['SUBCOM_CD', 'DPT_CD', 'COM_CD','PMY_DPT_CD', 'REC_DPT_CD', 'ITM_ID', 'GTIN']:\n",
    "        pim_gtin_mapped[i] = pim_gtin_mapped[i].astype(np.float64)\n",
    "    \n",
    "    # Reading Syndigo 259K data\n",
    "    synd_ALL = pd.read_csv(DBFR + 'Syndigo_Final_ALL.csv', dtype='unicode') # 259k Syndigo Data\n",
    "    for i in ['SUBCOM_CD', 'DPT_CD', 'COM_CD', 'GTIN', 'ITM_ID', 'PMY_DPT_CD']:\n",
    "        synd_ALL[i] = synd_ALL[i].astype(np.float64)\n",
    "    \n",
    "    # Stripping spaces from all columns\n",
    "    df_obj = synd_ALL.select_dtypes(['object'])\n",
    "    synd_ALL[df_obj.columns] = df_obj.apply(lambda x: x.str.strip())\n",
    "    \n",
    "    syndigo_mapped = synd_ALL\n",
    "    pimmart = pim_gtin_mapped\n",
    "    syndigo_mapped.drop_duplicates('GTIN', inplace = True)\n",
    "    syndigo_mapped['ITEM_SUBCOM_text'] = \\\n",
    "    (syndigo_mapped.VND_ECOM_DSC + ' ' + syndigo_mapped.SUBCOM_DSC).fillna('').str.lower()\n",
    "    #syndigo_mapped['Level 1'].value_counts()\n",
    "    print(f'syndigo_mapped.shape {syndigo_mapped.shape}') \n",
    "    print(f'syndigo_mapped.info() {syndigo_mapped.info()}') \n",
    "    print(f'syndigo_mapped.head() {syndigo_mapped.head()}') \n",
    "    print(f'syndigo_mapped.columns {syndigo_mapped.columns}') \n",
    "    \n",
    "    print(f\"syndigo_mapped['Level 1'].value_counts() {syndigo_mapped['Level 1'].value_counts(dropna = True)}\")    \n",
    "    return syndigo_mapped, pim_gtin_mapped"
   ]
  },
  {
   "cell_type": "code",
   "execution_count": 89,
   "metadata": {},
   "outputs": [],
   "source": [
    "def prepare_data_2(level__1):\n",
    "    level_1 = level__1\n",
    "    subset_df = syndigo_mapped[syndigo_mapped['Level 1'] == level_1]\n",
    "    print(f'1. type(subset_df)= {type(subset_df)}, len(subset_df)= {len(subset_df)} subset_df.shape {subset_df.shape}  \\n subset_df.head {subset_df.head()}') \n",
    "    series = syndigo_mapped[syndigo_mapped['Level 1']==level__1]['Level 2'].value_counts(ascending=True)\n",
    "    print(f' series {series} \\n type(series)= {type(series)}, len(series)= {len(series)} \\n series.tolist() {series.tolist()} ')      \n",
    "    if series.tolist():\n",
    "        subset_df = subset_df.drop(subset_df[subset_df['Level 2'].isin(series[series==1].index.tolist())].index)\n",
    "    print(f'2. type(subset_df)= {type(subset_df)}, len(subset_df)= {len(subset_df)} subset_df.shape {subset_df.shape}  \\n subset_df.head {subset_df.head()}')\n",
    "    \n",
    "    vect_subset = TfidfVectorizer(ngram_range = (1,2), max_features = 50000)\n",
    "    X_subset = vect_subset.fit_transform(subset_df.ITEM_SUBCOM_text) #scipy.sparse._csr.csr_matrix\n",
    "    level2_id_map = dict(zip(subset_df['Level 2'].fillna('Other').unique(), range(subset_df['Level 2'].fillna('Other').nunique())))\n",
    "    id2_level_map = dict(zip(range(subset_df['Level 2'].fillna('Other').nunique()), subset_df['Level 2'].fillna('Other').unique()))\n",
    "    y_subset  = subset_df['Level 2'].fillna('Other').map(level2_id_map)\n",
    "    \n",
    "    return  X_subset, y_subset, subset_df, level2_id_map"
   ]
  },
  {
   "cell_type": "code",
   "execution_count": 18,
   "metadata": {},
   "outputs": [],
   "source": [
    "def prep_data_3(X_subset, subset_df):\n",
    "    dfx = pd.DataFrame(X_subset.toarray())\n",
    "    subset_df[['Level 2']]\n",
    "    dfy =  subset_df['Level 2']\n",
    "    df1=dfx.reset_index().drop('index', axis = 1) \n",
    "    df2=dfy.reset_index().drop('index', axis = 1)\n",
    "    df3 = pd.merge(df1, df2, left_index=True, right_index=True)\n",
    "    return df3"
   ]
  },
  {
   "cell_type": "code",
   "execution_count": 29,
   "metadata": {},
   "outputs": [],
   "source": [
    "def proc_predict(level__1):\n",
    "     global A_train, A_test, B_train, B_test, X_train, X_test, y_train, y_test\n",
    "     A_train, A_test, B_train, B_test = train_test_split(subset_df.GTIN.tolist(), subset_df['Level 2'].tolist(), test_size=0.1, stratify=y_subset, random_state=42)\n",
    "     X_train, X_test, y_train, y_test = train_test_split(X_subset, y_subset, test_size= 0.1, stratify=y_subset, random_state=42)\n",
    "     lr_tf = LogisticRegressionCV(cv = 5, multi_class = 'multinomial', solver = 'saga', n_jobs=-1, max_iter=10000000)\n",
    "     \n",
    "     print(f\"Training - \\\"{level__1}\\\"\")\n",
    "     lr_tf.fit(X_train, y_train)\n",
    "     preds = lr_tf.predict(X_test)\n",
    "     print(f\"type(preds) {type(preds)} len(preds) {len(preds)} \\n preds[0:10] {preds[0:10]}\")\n",
    "     preds_lrtf = preds\n",
    "     probs = lr_tf.predict_proba(X_test)\n",
    "     print(f\"type(probs) {type(probs)} len(probs) {len(probs)} \\n probs[0:10] {probs[0:10]}\")   \n",
    "     preds_train = lr_tf.predict(X_train)\n",
    "     print(f\"type(preds_train) {type(preds_train)} len(preds_train) {len(preds_train)} \\n preds_train[0:10] {preds_train[0:10]} \")   \n",
    "     probs_train = lr_tf.predict_proba(X_train)\n",
    "     print(f\"type(probs_train) {type(probs_train)} len(probs_train) {len(probs_train)} \\n probs_train[0:10] {probs_train[0:10]}\")   \n",
    "     print(f\"Done Training - \\\"{level__1}\\\"\")\n",
    "     return preds, preds_lrtf, probs, preds_train, probs_train  "
   ]
  },
  {
   "cell_type": "code",
   "execution_count": 95,
   "metadata": {},
   "outputs": [],
   "source": [
    "def proc_append_2():\n",
    "    \n",
    "    test_new_proobs = []\n",
    "    \n",
    "    print(f'len(preds)  {len(preds)}')\n",
    "    for i in range(len(preds)):\n",
    "        test_new_proobs.append(probs[i][np.argsort(probs[i])][::-1][:1].tolist())\n",
    "    test_new_proobs = [element for sublist in list(test_new_proobs) for element in sublist]\n",
    "    print(f'test_new_proobs {test_new_proobs}')\n",
    "    \n",
    "    train_new_proobs = []\n",
    "    \n",
    "    print(f'len(preds_train)  {len(preds_train)}')\n",
    "    for i in range(len(preds_train)):\n",
    "         test_new_proobs.append(probs_train[i][np.argsort(probs_train[i])][::-1][:1].tolist())\n",
    "    train_new_proobs = [element for sublist in list(train_new_proobs) for element in sublist]\n",
    "    print(f'train_new_proobs {train_new_proobs}')  \n",
    "    \n",
    "    # process testLevels & trainLevelss \n",
    "    testLevels = []\n",
    "    for j in y_test:\n",
    "        testLevels.append([i for i in level2_id_map if level2_id_map[i]==j][0])\n",
    "    print(f'testLevels {testLevels [0:10]}')\n",
    "    testLevelss = []\n",
    "    for j in preds:\n",
    "        testLevelss.append([i for i in level2_id_map if level2_id_map[i]==j][0])\n",
    "    print(f'testLevelss {testLevelss [0:10]}')\n",
    "    \n",
    "    trainLevelss = []\n",
    "    for j in preds_train:\n",
    "        trainLevelss.append([i for i in level2_id_map if level2_id_map[i]==j][0])\n",
    "    \n",
    "    return  test_new_proobs, train_new_proobs, testLevels, testLevelss, trainLevelss"
   ]
  },
  {
   "cell_type": "code",
   "execution_count": 96,
   "metadata": {},
   "outputs": [
    {
     "name": "stdout",
     "output_type": "stream",
     "text": [
      "len(preds)  50\n",
      "test_new_proobs [0.9999645691689025, 0.9090362378545995, 0.9708339421543606, 0.999461348460541, 0.9982907479934469, 0.9999201160992794, 0.6774044858548016, 0.9917925948320767, 0.5678791544528573, 0.9999222411324367, 0.9708068517296905, 0.9982535757918141, 0.999659682416689, 0.9993190018680612, 0.999666315420207, 0.988626487089105, 0.9999883223277677, 0.9998223107870962, 0.9999828696781584, 0.9998910494283926, 0.9999502611537154, 0.999990804658139, 0.9999825977462176, 0.999714271103653, 0.9998451308841866, 0.9997880318472873, 0.9999464699797422, 0.9971400447291249, 0.5464251071098462, 0.9982078630402004, 0.895537543110456, 0.9998090985798066, 0.9992607025351912, 0.9951540822240846, 0.993233539261957, 0.9999278500632993, 0.8810342653807214, 0.9992812260689606, 0.9999900664579909, 0.9980674916247813, 0.9995549760108314, 0.998650719220997, 0.9340107502192513, 0.9880056191898343, 0.9964819009567214, 0.9881204276546408, 0.9563998732840001, 0.9994197692865763, 0.999888831630773, 0.9991127918471945]\n",
      "len(preds_train)  443\n",
      "train_new_proobs []\n",
      "testLevels ['Paper / Plastic / Foam Plates & Bowls', 'Paper / Plastic / Foam Cups Sleeves', 'Paper / Plastic / Foam Cups', 'Paper / Plastic / Foam Cups', 'Paper / Plastic / Foam Plates & Bowls', 'Paper / Plastic / Foam Plates & Bowls', 'Paper / Plastic / Foam Plates & Bowls', 'Paper / Plastic / Foam Cups', 'Paper / Plastic / Foam Plates & Bowls', 'Paper / Plastic / Foam Plates & Bowls']\n",
      "testLevelss ['Paper / Plastic / Foam Plates & Bowls', 'Paper / Plastic / Foam Cups Sleeves', 'Paper / Plastic / Foam Cups', 'Paper / Plastic / Foam Cups', 'Paper / Plastic / Foam Plates & Bowls', 'Paper / Plastic / Foam Plates & Bowls', 'Paper / Plastic / Foam Cups', 'Paper / Plastic / Foam Cups', 'Paper / Plastic / Foam Cups', 'Paper / Plastic / Foam Plates & Bowls']\n"
     ]
    }
   ],
   "source": [
    " test_new_proobs, train_new_proobs, testLevels, testLevelss, trainLevelss = proc_append_2()"
   ]
  },
  {
   "cell_type": "code",
   "execution_count": 69,
   "metadata": {},
   "outputs": [],
   "source": [
    "def proc_append_1():\n",
    "    level_num = []\n",
    "    testProobs = []\n",
    "    number = 1\n",
    "    \n",
    "    print(f'len(preds)  {len(preds)}')\n",
    "    for i in range(len(preds)):\n",
    "        #for j in range(number):\n",
    "        #    \n",
    "        #    try:\n",
    "        #        level_num.append(int(np.where(probs[i]==probs[i][np.argsort(probs[i])][::-1][:3][j])[0]))\n",
    "        #        print(f'1. i = {i} j = {j} level_num {level_num}')\n",
    "        #    except TypeError:\n",
    "        #        level_num.append(int(np.where(probs[i]==probs[i][np.argsort(probs[i])][::-1][:3][2])[0][0]))\n",
    "        #        print(\"problem occurred with: \", i, j, flush=True)\n",
    "        testProobs.append(probs[i][np.argsort(probs[i])][::-1][:1])\n",
    "        print(f'2. i = {i}  testProobs {testProobs}')\n",
    "    \n",
    "    print(f'len(testProobs)  {len(testProobs)}')\n",
    "    test_new_proobs = []\n",
    "    for i in range(len(testProobs)):\n",
    "        test_new_proobs.append(testProobs[i].tolist())\n",
    "    test_new_proobs = [element for sublist in list(test_new_proobs) for element in sublist]\n",
    "    print(f'test_new_proobs {test_new_proobs}')\n",
    "    return"
   ]
  },
  {
   "cell_type": "code",
   "execution_count": 70,
   "metadata": {},
   "outputs": [
    {
     "name": "stdout",
     "output_type": "stream",
     "text": [
      "len(preds)  50\n",
      "2. i = 0  testProobs [array([0.99996457])]\n",
      "2. i = 1  testProobs [array([0.99996457]), array([0.90898802])]\n",
      "2. i = 2  testProobs [array([0.99996457]), array([0.90898802]), array([0.97083784])]\n",
      "2. i = 3  testProobs [array([0.99996457]), array([0.90898802]), array([0.97083784]), array([0.99946172])]\n",
      "2. i = 4  testProobs [array([0.99996457]), array([0.90898802]), array([0.97083784]), array([0.99946172]), array([0.99828899])]\n",
      "2. i = 5  testProobs [array([0.99996457]), array([0.90898802]), array([0.97083784]), array([0.99946172]), array([0.99828899]), array([0.9999203])]\n",
      "2. i = 6  testProobs [array([0.99996457]), array([0.90898802]), array([0.97083784]), array([0.99946172]), array([0.99828899]), array([0.9999203]), array([0.67778319])]\n",
      "2. i = 7  testProobs [array([0.99996457]), array([0.90898802]), array([0.97083784]), array([0.99946172]), array([0.99828899]), array([0.9999203]), array([0.67778319]), array([0.99179779])]\n",
      "2. i = 8  testProobs [array([0.99996457]), array([0.90898802]), array([0.97083784]), array([0.99946172]), array([0.99828899]), array([0.9999203]), array([0.67778319]), array([0.99179779]), array([0.56781802])]\n",
      "2. i = 9  testProobs [array([0.99996457]), array([0.90898802]), array([0.97083784]), array([0.99946172]), array([0.99828899]), array([0.9999203]), array([0.67778319]), array([0.99179779]), array([0.56781802]), array([0.99992218])]\n",
      "2. i = 10  testProobs [array([0.99996457]), array([0.90898802]), array([0.97083784]), array([0.99946172]), array([0.99828899]), array([0.9999203]), array([0.67778319]), array([0.99179779]), array([0.56781802]), array([0.99992218]), array([0.97082691])]\n",
      "2. i = 11  testProobs [array([0.99996457]), array([0.90898802]), array([0.97083784]), array([0.99946172]), array([0.99828899]), array([0.9999203]), array([0.67778319]), array([0.99179779]), array([0.56781802]), array([0.99992218]), array([0.97082691]), array([0.99825358])]\n",
      "2. i = 12  testProobs [array([0.99996457]), array([0.90898802]), array([0.97083784]), array([0.99946172]), array([0.99828899]), array([0.9999203]), array([0.67778319]), array([0.99179779]), array([0.56781802]), array([0.99992218]), array([0.97082691]), array([0.99825358]), array([0.99966033])]\n",
      "2. i = 13  testProobs [array([0.99996457]), array([0.90898802]), array([0.97083784]), array([0.99946172]), array([0.99828899]), array([0.9999203]), array([0.67778319]), array([0.99179779]), array([0.56781802]), array([0.99992218]), array([0.97082691]), array([0.99825358]), array([0.99966033]), array([0.99931878])]\n",
      "2. i = 14  testProobs [array([0.99996457]), array([0.90898802]), array([0.97083784]), array([0.99946172]), array([0.99828899]), array([0.9999203]), array([0.67778319]), array([0.99179779]), array([0.56781802]), array([0.99992218]), array([0.97082691]), array([0.99825358]), array([0.99966033]), array([0.99931878]), array([0.99966672])]\n",
      "2. i = 15  testProobs [array([0.99996457]), array([0.90898802]), array([0.97083784]), array([0.99946172]), array([0.99828899]), array([0.9999203]), array([0.67778319]), array([0.99179779]), array([0.56781802]), array([0.99992218]), array([0.97082691]), array([0.99825358]), array([0.99966033]), array([0.99931878]), array([0.99966672]), array([0.98862849])]\n",
      "2. i = 16  testProobs [array([0.99996457]), array([0.90898802]), array([0.97083784]), array([0.99946172]), array([0.99828899]), array([0.9999203]), array([0.67778319]), array([0.99179779]), array([0.56781802]), array([0.99992218]), array([0.97082691]), array([0.99825358]), array([0.99966033]), array([0.99931878]), array([0.99966672]), array([0.98862849]), array([0.99998834])]\n",
      "2. i = 17  testProobs [array([0.99996457]), array([0.90898802]), array([0.97083784]), array([0.99946172]), array([0.99828899]), array([0.9999203]), array([0.67778319]), array([0.99179779]), array([0.56781802]), array([0.99992218]), array([0.97082691]), array([0.99825358]), array([0.99966033]), array([0.99931878]), array([0.99966672]), array([0.98862849]), array([0.99998834]), array([0.99982227])]\n",
      "2. i = 18  testProobs [array([0.99996457]), array([0.90898802]), array([0.97083784]), array([0.99946172]), array([0.99828899]), array([0.9999203]), array([0.67778319]), array([0.99179779]), array([0.56781802]), array([0.99992218]), array([0.97082691]), array([0.99825358]), array([0.99966033]), array([0.99931878]), array([0.99966672]), array([0.98862849]), array([0.99998834]), array([0.99982227]), array([0.99998287])]\n",
      "2. i = 19  testProobs [array([0.99996457]), array([0.90898802]), array([0.97083784]), array([0.99946172]), array([0.99828899]), array([0.9999203]), array([0.67778319]), array([0.99179779]), array([0.56781802]), array([0.99992218]), array([0.97082691]), array([0.99825358]), array([0.99966033]), array([0.99931878]), array([0.99966672]), array([0.98862849]), array([0.99998834]), array([0.99982227]), array([0.99998287]), array([0.99989121])]\n",
      "2. i = 20  testProobs [array([0.99996457]), array([0.90898802]), array([0.97083784]), array([0.99946172]), array([0.99828899]), array([0.9999203]), array([0.67778319]), array([0.99179779]), array([0.56781802]), array([0.99992218]), array([0.97082691]), array([0.99825358]), array([0.99966033]), array([0.99931878]), array([0.99966672]), array([0.98862849]), array([0.99998834]), array([0.99982227]), array([0.99998287]), array([0.99989121]), array([0.99995027])]\n",
      "2. i = 21  testProobs [array([0.99996457]), array([0.90898802]), array([0.97083784]), array([0.99946172]), array([0.99828899]), array([0.9999203]), array([0.67778319]), array([0.99179779]), array([0.56781802]), array([0.99992218]), array([0.97082691]), array([0.99825358]), array([0.99966033]), array([0.99931878]), array([0.99966672]), array([0.98862849]), array([0.99998834]), array([0.99982227]), array([0.99998287]), array([0.99989121]), array([0.99995027]), array([0.9999908])]\n",
      "2. i = 22  testProobs [array([0.99996457]), array([0.90898802]), array([0.97083784]), array([0.99946172]), array([0.99828899]), array([0.9999203]), array([0.67778319]), array([0.99179779]), array([0.56781802]), array([0.99992218]), array([0.97082691]), array([0.99825358]), array([0.99966033]), array([0.99931878]), array([0.99966672]), array([0.98862849]), array([0.99998834]), array([0.99982227]), array([0.99998287]), array([0.99989121]), array([0.99995027]), array([0.9999908]), array([0.9999826])]\n",
      "2. i = 23  testProobs [array([0.99996457]), array([0.90898802]), array([0.97083784]), array([0.99946172]), array([0.99828899]), array([0.9999203]), array([0.67778319]), array([0.99179779]), array([0.56781802]), array([0.99992218]), array([0.97082691]), array([0.99825358]), array([0.99966033]), array([0.99931878]), array([0.99966672]), array([0.98862849]), array([0.99998834]), array([0.99982227]), array([0.99998287]), array([0.99989121]), array([0.99995027]), array([0.9999908]), array([0.9999826]), array([0.99971463])]\n",
      "2. i = 24  testProobs [array([0.99996457]), array([0.90898802]), array([0.97083784]), array([0.99946172]), array([0.99828899]), array([0.9999203]), array([0.67778319]), array([0.99179779]), array([0.56781802]), array([0.99992218]), array([0.97082691]), array([0.99825358]), array([0.99966033]), array([0.99931878]), array([0.99966672]), array([0.98862849]), array([0.99998834]), array([0.99982227]), array([0.99998287]), array([0.99989121]), array([0.99995027]), array([0.9999908]), array([0.9999826]), array([0.99971463]), array([0.99984505])]\n",
      "2. i = 25  testProobs [array([0.99996457]), array([0.90898802]), array([0.97083784]), array([0.99946172]), array([0.99828899]), array([0.9999203]), array([0.67778319]), array([0.99179779]), array([0.56781802]), array([0.99992218]), array([0.97082691]), array([0.99825358]), array([0.99966033]), array([0.99931878]), array([0.99966672]), array([0.98862849]), array([0.99998834]), array([0.99982227]), array([0.99998287]), array([0.99989121]), array([0.99995027]), array([0.9999908]), array([0.9999826]), array([0.99971463]), array([0.99984505]), array([0.99978807])]\n",
      "2. i = 26  testProobs [array([0.99996457]), array([0.90898802]), array([0.97083784]), array([0.99946172]), array([0.99828899]), array([0.9999203]), array([0.67778319]), array([0.99179779]), array([0.56781802]), array([0.99992218]), array([0.97082691]), array([0.99825358]), array([0.99966033]), array([0.99931878]), array([0.99966672]), array([0.98862849]), array([0.99998834]), array([0.99982227]), array([0.99998287]), array([0.99989121]), array([0.99995027]), array([0.9999908]), array([0.9999826]), array([0.99971463]), array([0.99984505]), array([0.99978807]), array([0.99994649])]\n",
      "2. i = 27  testProobs [array([0.99996457]), array([0.90898802]), array([0.97083784]), array([0.99946172]), array([0.99828899]), array([0.9999203]), array([0.67778319]), array([0.99179779]), array([0.56781802]), array([0.99992218]), array([0.97082691]), array([0.99825358]), array([0.99966033]), array([0.99931878]), array([0.99966672]), array([0.98862849]), array([0.99998834]), array([0.99982227]), array([0.99998287]), array([0.99989121]), array([0.99995027]), array([0.9999908]), array([0.9999826]), array([0.99971463]), array([0.99984505]), array([0.99978807]), array([0.99994649]), array([0.99714065])]\n",
      "2. i = 28  testProobs [array([0.99996457]), array([0.90898802]), array([0.97083784]), array([0.99946172]), array([0.99828899]), array([0.9999203]), array([0.67778319]), array([0.99179779]), array([0.56781802]), array([0.99992218]), array([0.97082691]), array([0.99825358]), array([0.99966033]), array([0.99931878]), array([0.99966672]), array([0.98862849]), array([0.99998834]), array([0.99982227]), array([0.99998287]), array([0.99989121]), array([0.99995027]), array([0.9999908]), array([0.9999826]), array([0.99971463]), array([0.99984505]), array([0.99978807]), array([0.99994649]), array([0.99714065]), array([0.54555375])]\n",
      "2. i = 29  testProobs [array([0.99996457]), array([0.90898802]), array([0.97083784]), array([0.99946172]), array([0.99828899]), array([0.9999203]), array([0.67778319]), array([0.99179779]), array([0.56781802]), array([0.99992218]), array([0.97082691]), array([0.99825358]), array([0.99966033]), array([0.99931878]), array([0.99966672]), array([0.98862849]), array([0.99998834]), array([0.99982227]), array([0.99998287]), array([0.99989121]), array([0.99995027]), array([0.9999908]), array([0.9999826]), array([0.99971463]), array([0.99984505]), array([0.99978807]), array([0.99994649]), array([0.99714065]), array([0.54555375]), array([0.99820779])]\n",
      "2. i = 30  testProobs [array([0.99996457]), array([0.90898802]), array([0.97083784]), array([0.99946172]), array([0.99828899]), array([0.9999203]), array([0.67778319]), array([0.99179779]), array([0.56781802]), array([0.99992218]), array([0.97082691]), array([0.99825358]), array([0.99966033]), array([0.99931878]), array([0.99966672]), array([0.98862849]), array([0.99998834]), array([0.99982227]), array([0.99998287]), array([0.99989121]), array([0.99995027]), array([0.9999908]), array([0.9999826]), array([0.99971463]), array([0.99984505]), array([0.99978807]), array([0.99994649]), array([0.99714065]), array([0.54555375]), array([0.99820779]), array([0.89554231])]\n",
      "2. i = 31  testProobs [array([0.99996457]), array([0.90898802]), array([0.97083784]), array([0.99946172]), array([0.99828899]), array([0.9999203]), array([0.67778319]), array([0.99179779]), array([0.56781802]), array([0.99992218]), array([0.97082691]), array([0.99825358]), array([0.99966033]), array([0.99931878]), array([0.99966672]), array([0.98862849]), array([0.99998834]), array([0.99982227]), array([0.99998287]), array([0.99989121]), array([0.99995027]), array([0.9999908]), array([0.9999826]), array([0.99971463]), array([0.99984505]), array([0.99978807]), array([0.99994649]), array([0.99714065]), array([0.54555375]), array([0.99820779]), array([0.89554231]), array([0.99980929])]\n",
      "2. i = 32  testProobs [array([0.99996457]), array([0.90898802]), array([0.97083784]), array([0.99946172]), array([0.99828899]), array([0.9999203]), array([0.67778319]), array([0.99179779]), array([0.56781802]), array([0.99992218]), array([0.97082691]), array([0.99825358]), array([0.99966033]), array([0.99931878]), array([0.99966672]), array([0.98862849]), array([0.99998834]), array([0.99982227]), array([0.99998287]), array([0.99989121]), array([0.99995027]), array([0.9999908]), array([0.9999826]), array([0.99971463]), array([0.99984505]), array([0.99978807]), array([0.99994649]), array([0.99714065]), array([0.54555375]), array([0.99820779]), array([0.89554231]), array([0.99980929]), array([0.99926028])]\n",
      "2. i = 33  testProobs [array([0.99996457]), array([0.90898802]), array([0.97083784]), array([0.99946172]), array([0.99828899]), array([0.9999203]), array([0.67778319]), array([0.99179779]), array([0.56781802]), array([0.99992218]), array([0.97082691]), array([0.99825358]), array([0.99966033]), array([0.99931878]), array([0.99966672]), array([0.98862849]), array([0.99998834]), array([0.99982227]), array([0.99998287]), array([0.99989121]), array([0.99995027]), array([0.9999908]), array([0.9999826]), array([0.99971463]), array([0.99984505]), array([0.99978807]), array([0.99994649]), array([0.99714065]), array([0.54555375]), array([0.99820779]), array([0.89554231]), array([0.99980929]), array([0.99926028]), array([0.99515964])]\n",
      "2. i = 34  testProobs [array([0.99996457]), array([0.90898802]), array([0.97083784]), array([0.99946172]), array([0.99828899]), array([0.9999203]), array([0.67778319]), array([0.99179779]), array([0.56781802]), array([0.99992218]), array([0.97082691]), array([0.99825358]), array([0.99966033]), array([0.99931878]), array([0.99966672]), array([0.98862849]), array([0.99998834]), array([0.99982227]), array([0.99998287]), array([0.99989121]), array([0.99995027]), array([0.9999908]), array([0.9999826]), array([0.99971463]), array([0.99984505]), array([0.99978807]), array([0.99994649]), array([0.99714065]), array([0.54555375]), array([0.99820779]), array([0.89554231]), array([0.99980929]), array([0.99926028]), array([0.99515964]), array([0.99322271])]\n",
      "2. i = 35  testProobs [array([0.99996457]), array([0.90898802]), array([0.97083784]), array([0.99946172]), array([0.99828899]), array([0.9999203]), array([0.67778319]), array([0.99179779]), array([0.56781802]), array([0.99992218]), array([0.97082691]), array([0.99825358]), array([0.99966033]), array([0.99931878]), array([0.99966672]), array([0.98862849]), array([0.99998834]), array([0.99982227]), array([0.99998287]), array([0.99989121]), array([0.99995027]), array([0.9999908]), array([0.9999826]), array([0.99971463]), array([0.99984505]), array([0.99978807]), array([0.99994649]), array([0.99714065]), array([0.54555375]), array([0.99820779]), array([0.89554231]), array([0.99980929]), array([0.99926028]), array([0.99515964]), array([0.99322271]), array([0.99992785])]\n",
      "2. i = 36  testProobs [array([0.99996457]), array([0.90898802]), array([0.97083784]), array([0.99946172]), array([0.99828899]), array([0.9999203]), array([0.67778319]), array([0.99179779]), array([0.56781802]), array([0.99992218]), array([0.97082691]), array([0.99825358]), array([0.99966033]), array([0.99931878]), array([0.99966672]), array([0.98862849]), array([0.99998834]), array([0.99982227]), array([0.99998287]), array([0.99989121]), array([0.99995027]), array([0.9999908]), array([0.9999826]), array([0.99971463]), array([0.99984505]), array([0.99978807]), array([0.99994649]), array([0.99714065]), array([0.54555375]), array([0.99820779]), array([0.89554231]), array([0.99980929]), array([0.99926028]), array([0.99515964]), array([0.99322271]), array([0.99992785]), array([0.88107576])]\n",
      "2. i = 37  testProobs [array([0.99996457]), array([0.90898802]), array([0.97083784]), array([0.99946172]), array([0.99828899]), array([0.9999203]), array([0.67778319]), array([0.99179779]), array([0.56781802]), array([0.99992218]), array([0.97082691]), array([0.99825358]), array([0.99966033]), array([0.99931878]), array([0.99966672]), array([0.98862849]), array([0.99998834]), array([0.99982227]), array([0.99998287]), array([0.99989121]), array([0.99995027]), array([0.9999908]), array([0.9999826]), array([0.99971463]), array([0.99984505]), array([0.99978807]), array([0.99994649]), array([0.99714065]), array([0.54555375]), array([0.99820779]), array([0.89554231]), array([0.99980929]), array([0.99926028]), array([0.99515964]), array([0.99322271]), array([0.99992785]), array([0.88107576]), array([0.9992819])]\n",
      "2. i = 38  testProobs [array([0.99996457]), array([0.90898802]), array([0.97083784]), array([0.99946172]), array([0.99828899]), array([0.9999203]), array([0.67778319]), array([0.99179779]), array([0.56781802]), array([0.99992218]), array([0.97082691]), array([0.99825358]), array([0.99966033]), array([0.99931878]), array([0.99966672]), array([0.98862849]), array([0.99998834]), array([0.99982227]), array([0.99998287]), array([0.99989121]), array([0.99995027]), array([0.9999908]), array([0.9999826]), array([0.99971463]), array([0.99984505]), array([0.99978807]), array([0.99994649]), array([0.99714065]), array([0.54555375]), array([0.99820779]), array([0.89554231]), array([0.99980929]), array([0.99926028]), array([0.99515964]), array([0.99322271]), array([0.99992785]), array([0.88107576]), array([0.9992819]), array([0.99999008])]\n",
      "2. i = 39  testProobs [array([0.99996457]), array([0.90898802]), array([0.97083784]), array([0.99946172]), array([0.99828899]), array([0.9999203]), array([0.67778319]), array([0.99179779]), array([0.56781802]), array([0.99992218]), array([0.97082691]), array([0.99825358]), array([0.99966033]), array([0.99931878]), array([0.99966672]), array([0.98862849]), array([0.99998834]), array([0.99982227]), array([0.99998287]), array([0.99989121]), array([0.99995027]), array([0.9999908]), array([0.9999826]), array([0.99971463]), array([0.99984505]), array([0.99978807]), array([0.99994649]), array([0.99714065]), array([0.54555375]), array([0.99820779]), array([0.89554231]), array([0.99980929]), array([0.99926028]), array([0.99515964]), array([0.99322271]), array([0.99992785]), array([0.88107576]), array([0.9992819]), array([0.99999008]), array([0.99806957])]\n",
      "2. i = 40  testProobs [array([0.99996457]), array([0.90898802]), array([0.97083784]), array([0.99946172]), array([0.99828899]), array([0.9999203]), array([0.67778319]), array([0.99179779]), array([0.56781802]), array([0.99992218]), array([0.97082691]), array([0.99825358]), array([0.99966033]), array([0.99931878]), array([0.99966672]), array([0.98862849]), array([0.99998834]), array([0.99982227]), array([0.99998287]), array([0.99989121]), array([0.99995027]), array([0.9999908]), array([0.9999826]), array([0.99971463]), array([0.99984505]), array([0.99978807]), array([0.99994649]), array([0.99714065]), array([0.54555375]), array([0.99820779]), array([0.89554231]), array([0.99980929]), array([0.99926028]), array([0.99515964]), array([0.99322271]), array([0.99992785]), array([0.88107576]), array([0.9992819]), array([0.99999008]), array([0.99806957]), array([0.99955436])]\n",
      "2. i = 41  testProobs [array([0.99996457]), array([0.90898802]), array([0.97083784]), array([0.99946172]), array([0.99828899]), array([0.9999203]), array([0.67778319]), array([0.99179779]), array([0.56781802]), array([0.99992218]), array([0.97082691]), array([0.99825358]), array([0.99966033]), array([0.99931878]), array([0.99966672]), array([0.98862849]), array([0.99998834]), array([0.99982227]), array([0.99998287]), array([0.99989121]), array([0.99995027]), array([0.9999908]), array([0.9999826]), array([0.99971463]), array([0.99984505]), array([0.99978807]), array([0.99994649]), array([0.99714065]), array([0.54555375]), array([0.99820779]), array([0.89554231]), array([0.99980929]), array([0.99926028]), array([0.99515964]), array([0.99322271]), array([0.99992785]), array([0.88107576]), array([0.9992819]), array([0.99999008]), array([0.99806957]), array([0.99955436]), array([0.99865334])]\n",
      "2. i = 42  testProobs [array([0.99996457]), array([0.90898802]), array([0.97083784]), array([0.99946172]), array([0.99828899]), array([0.9999203]), array([0.67778319]), array([0.99179779]), array([0.56781802]), array([0.99992218]), array([0.97082691]), array([0.99825358]), array([0.99966033]), array([0.99931878]), array([0.99966672]), array([0.98862849]), array([0.99998834]), array([0.99982227]), array([0.99998287]), array([0.99989121]), array([0.99995027]), array([0.9999908]), array([0.9999826]), array([0.99971463]), array([0.99984505]), array([0.99978807]), array([0.99994649]), array([0.99714065]), array([0.54555375]), array([0.99820779]), array([0.89554231]), array([0.99980929]), array([0.99926028]), array([0.99515964]), array([0.99322271]), array([0.99992785]), array([0.88107576]), array([0.9992819]), array([0.99999008]), array([0.99806957]), array([0.99955436]), array([0.99865334]), array([0.93403298])]\n",
      "2. i = 43  testProobs [array([0.99996457]), array([0.90898802]), array([0.97083784]), array([0.99946172]), array([0.99828899]), array([0.9999203]), array([0.67778319]), array([0.99179779]), array([0.56781802]), array([0.99992218]), array([0.97082691]), array([0.99825358]), array([0.99966033]), array([0.99931878]), array([0.99966672]), array([0.98862849]), array([0.99998834]), array([0.99982227]), array([0.99998287]), array([0.99989121]), array([0.99995027]), array([0.9999908]), array([0.9999826]), array([0.99971463]), array([0.99984505]), array([0.99978807]), array([0.99994649]), array([0.99714065]), array([0.54555375]), array([0.99820779]), array([0.89554231]), array([0.99980929]), array([0.99926028]), array([0.99515964]), array([0.99322271]), array([0.99992785]), array([0.88107576]), array([0.9992819]), array([0.99999008]), array([0.99806957]), array([0.99955436]), array([0.99865334]), array([0.93403298]), array([0.98799303])]\n",
      "2. i = 44  testProobs [array([0.99996457]), array([0.90898802]), array([0.97083784]), array([0.99946172]), array([0.99828899]), array([0.9999203]), array([0.67778319]), array([0.99179779]), array([0.56781802]), array([0.99992218]), array([0.97082691]), array([0.99825358]), array([0.99966033]), array([0.99931878]), array([0.99966672]), array([0.98862849]), array([0.99998834]), array([0.99982227]), array([0.99998287]), array([0.99989121]), array([0.99995027]), array([0.9999908]), array([0.9999826]), array([0.99971463]), array([0.99984505]), array([0.99978807]), array([0.99994649]), array([0.99714065]), array([0.54555375]), array([0.99820779]), array([0.89554231]), array([0.99980929]), array([0.99926028]), array([0.99515964]), array([0.99322271]), array([0.99992785]), array([0.88107576]), array([0.9992819]), array([0.99999008]), array([0.99806957]), array([0.99955436]), array([0.99865334]), array([0.93403298]), array([0.98799303]), array([0.99648386])]\n",
      "2. i = 45  testProobs [array([0.99996457]), array([0.90898802]), array([0.97083784]), array([0.99946172]), array([0.99828899]), array([0.9999203]), array([0.67778319]), array([0.99179779]), array([0.56781802]), array([0.99992218]), array([0.97082691]), array([0.99825358]), array([0.99966033]), array([0.99931878]), array([0.99966672]), array([0.98862849]), array([0.99998834]), array([0.99982227]), array([0.99998287]), array([0.99989121]), array([0.99995027]), array([0.9999908]), array([0.9999826]), array([0.99971463]), array([0.99984505]), array([0.99978807]), array([0.99994649]), array([0.99714065]), array([0.54555375]), array([0.99820779]), array([0.89554231]), array([0.99980929]), array([0.99926028]), array([0.99515964]), array([0.99322271]), array([0.99992785]), array([0.88107576]), array([0.9992819]), array([0.99999008]), array([0.99806957]), array([0.99955436]), array([0.99865334]), array([0.93403298]), array([0.98799303]), array([0.99648386]), array([0.98813962])]\n",
      "2. i = 46  testProobs [array([0.99996457]), array([0.90898802]), array([0.97083784]), array([0.99946172]), array([0.99828899]), array([0.9999203]), array([0.67778319]), array([0.99179779]), array([0.56781802]), array([0.99992218]), array([0.97082691]), array([0.99825358]), array([0.99966033]), array([0.99931878]), array([0.99966672]), array([0.98862849]), array([0.99998834]), array([0.99982227]), array([0.99998287]), array([0.99989121]), array([0.99995027]), array([0.9999908]), array([0.9999826]), array([0.99971463]), array([0.99984505]), array([0.99978807]), array([0.99994649]), array([0.99714065]), array([0.54555375]), array([0.99820779]), array([0.89554231]), array([0.99980929]), array([0.99926028]), array([0.99515964]), array([0.99322271]), array([0.99992785]), array([0.88107576]), array([0.9992819]), array([0.99999008]), array([0.99806957]), array([0.99955436]), array([0.99865334]), array([0.93403298]), array([0.98799303]), array([0.99648386]), array([0.98813962]), array([0.95642423])]\n",
      "2. i = 47  testProobs [array([0.99996457]), array([0.90898802]), array([0.97083784]), array([0.99946172]), array([0.99828899]), array([0.9999203]), array([0.67778319]), array([0.99179779]), array([0.56781802]), array([0.99992218]), array([0.97082691]), array([0.99825358]), array([0.99966033]), array([0.99931878]), array([0.99966672]), array([0.98862849]), array([0.99998834]), array([0.99982227]), array([0.99998287]), array([0.99989121]), array([0.99995027]), array([0.9999908]), array([0.9999826]), array([0.99971463]), array([0.99984505]), array([0.99978807]), array([0.99994649]), array([0.99714065]), array([0.54555375]), array([0.99820779]), array([0.89554231]), array([0.99980929]), array([0.99926028]), array([0.99515964]), array([0.99322271]), array([0.99992785]), array([0.88107576]), array([0.9992819]), array([0.99999008]), array([0.99806957]), array([0.99955436]), array([0.99865334]), array([0.93403298]), array([0.98799303]), array([0.99648386]), array([0.98813962]), array([0.95642423]), array([0.99941971])]\n",
      "2. i = 48  testProobs [array([0.99996457]), array([0.90898802]), array([0.97083784]), array([0.99946172]), array([0.99828899]), array([0.9999203]), array([0.67778319]), array([0.99179779]), array([0.56781802]), array([0.99992218]), array([0.97082691]), array([0.99825358]), array([0.99966033]), array([0.99931878]), array([0.99966672]), array([0.98862849]), array([0.99998834]), array([0.99982227]), array([0.99998287]), array([0.99989121]), array([0.99995027]), array([0.9999908]), array([0.9999826]), array([0.99971463]), array([0.99984505]), array([0.99978807]), array([0.99994649]), array([0.99714065]), array([0.54555375]), array([0.99820779]), array([0.89554231]), array([0.99980929]), array([0.99926028]), array([0.99515964]), array([0.99322271]), array([0.99992785]), array([0.88107576]), array([0.9992819]), array([0.99999008]), array([0.99806957]), array([0.99955436]), array([0.99865334]), array([0.93403298]), array([0.98799303]), array([0.99648386]), array([0.98813962]), array([0.95642423]), array([0.99941971]), array([0.99988901])]\n",
      "2. i = 49  testProobs [array([0.99996457]), array([0.90898802]), array([0.97083784]), array([0.99946172]), array([0.99828899]), array([0.9999203]), array([0.67778319]), array([0.99179779]), array([0.56781802]), array([0.99992218]), array([0.97082691]), array([0.99825358]), array([0.99966033]), array([0.99931878]), array([0.99966672]), array([0.98862849]), array([0.99998834]), array([0.99982227]), array([0.99998287]), array([0.99989121]), array([0.99995027]), array([0.9999908]), array([0.9999826]), array([0.99971463]), array([0.99984505]), array([0.99978807]), array([0.99994649]), array([0.99714065]), array([0.54555375]), array([0.99820779]), array([0.89554231]), array([0.99980929]), array([0.99926028]), array([0.99515964]), array([0.99322271]), array([0.99992785]), array([0.88107576]), array([0.9992819]), array([0.99999008]), array([0.99806957]), array([0.99955436]), array([0.99865334]), array([0.93403298]), array([0.98799303]), array([0.99648386]), array([0.98813962]), array([0.95642423]), array([0.99941971]), array([0.99988901]), array([0.99911302])]\n",
      "len(testProobs)  50\n",
      "test_new_proobs [0.9999645707368853, 0.9089880169978707, 0.9708378351740545, 0.9994617210317371, 0.9982889890548898, 0.9999202961728797, 0.6777831884529729, 0.9917977938241671, 0.5678180212264385, 0.9999221769327595, 0.9708269126247147, 0.9982535833849565, 0.9996603322374068, 0.999318781668467, 0.9996667154147393, 0.9886284865585498, 0.999988338119639, 0.9998222706751987, 0.9999828749298233, 0.9998912067718475, 0.9999502730447265, 0.9999908021993711, 0.9999825993205269, 0.9997146254125899, 0.9998450460738247, 0.9997880651665985, 0.9999464948166366, 0.9971406544656259, 0.5455537522812565, 0.9982077909177927, 0.8955423105654421, 0.9998092864925828, 0.9992602751684169, 0.9951596366743469, 0.993222710666497, 0.9999278451306963, 0.8810757634105817, 0.9992819008291582, 0.999990076158653, 0.9980695653764511, 0.9995543569052058, 0.9986533432844468, 0.9340329843028395, 0.9879930256456144, 0.9964838620832104, 0.9881396188164224, 0.9564242347007818, 0.9994197108165831, 0.9998890055072616, 0.9991130179924788]\n"
     ]
    }
   ],
   "source": [
    "proc_append_1()"
   ]
  },
  {
   "cell_type": "code",
   "execution_count": 67,
   "metadata": {},
   "outputs": [],
   "source": [
    "def proc_append():\n",
    "    level_num = []\n",
    "    testProobs = []\n",
    "    number = 1\n",
    "    \n",
    "    print(f'len(preds)  {len(preds)}')\n",
    "    for i in range(len(preds)):\n",
    "        for j in range(number):\n",
    "            \n",
    "            try:\n",
    "                level_num.append(int(np.where(probs[i]==probs[i][np.argsort(probs[i])][::-1][:3][j])[0]))\n",
    "                print(f'1. i = {i} j = {j} level_num {level_num}')\n",
    "            except TypeError:\n",
    "                level_num.append(int(np.where(probs[i]==probs[i][np.argsort(probs[i])][::-1][:3][2])[0][0]))\n",
    "                print(\"problem occurred with: \", i, j, flush=True)\n",
    "        testProobs.append(probs[i][np.argsort(probs[i])][::-1][:1])\n",
    "        print(f'2. i = {i} j = {j} testProobs {testProobs}')\n",
    "    \n",
    "    print(f'len(testProobs)  {len(testProobs)}')\n",
    "    test_new_proobs = []\n",
    "    for i in range(len(testProobs)):\n",
    "        test_new_proobs.append(testProobs[i].tolist())\n",
    "    test_new_proobs = [element for sublist in list(test_new_proobs) for element in sublist]\n",
    "    print(f'test_new_proobs {test_new_proobs}')\n",
    "    return"
   ]
  },
  {
   "cell_type": "code",
   "execution_count": 68,
   "metadata": {},
   "outputs": [
    {
     "name": "stdout",
     "output_type": "stream",
     "text": [
      "len(preds)  50\n",
      "1. i = 0 j = 0 level_num [0]\n",
      "2. i = 0 j = 0 testProobs [array([0.99996457])]\n",
      "1. i = 1 j = 0 level_num [0, 7]\n",
      "2. i = 1 j = 0 testProobs [array([0.99996457]), array([0.90898802])]\n",
      "1. i = 2 j = 0 level_num [0, 7, 1]\n",
      "2. i = 2 j = 0 testProobs [array([0.99996457]), array([0.90898802]), array([0.97083784])]\n",
      "1. i = 3 j = 0 level_num [0, 7, 1, 1]\n",
      "2. i = 3 j = 0 testProobs [array([0.99996457]), array([0.90898802]), array([0.97083784]), array([0.99946172])]\n",
      "1. i = 4 j = 0 level_num [0, 7, 1, 1, 0]\n",
      "2. i = 4 j = 0 testProobs [array([0.99996457]), array([0.90898802]), array([0.97083784]), array([0.99946172]), array([0.99828899])]\n",
      "1. i = 5 j = 0 level_num [0, 7, 1, 1, 0, 0]\n",
      "2. i = 5 j = 0 testProobs [array([0.99996457]), array([0.90898802]), array([0.97083784]), array([0.99946172]), array([0.99828899]), array([0.9999203])]\n",
      "1. i = 6 j = 0 level_num [0, 7, 1, 1, 0, 0, 1]\n",
      "2. i = 6 j = 0 testProobs [array([0.99996457]), array([0.90898802]), array([0.97083784]), array([0.99946172]), array([0.99828899]), array([0.9999203]), array([0.67778319])]\n",
      "1. i = 7 j = 0 level_num [0, 7, 1, 1, 0, 0, 1, 1]\n",
      "2. i = 7 j = 0 testProobs [array([0.99996457]), array([0.90898802]), array([0.97083784]), array([0.99946172]), array([0.99828899]), array([0.9999203]), array([0.67778319]), array([0.99179779])]\n",
      "1. i = 8 j = 0 level_num [0, 7, 1, 1, 0, 0, 1, 1, 1]\n",
      "2. i = 8 j = 0 testProobs [array([0.99996457]), array([0.90898802]), array([0.97083784]), array([0.99946172]), array([0.99828899]), array([0.9999203]), array([0.67778319]), array([0.99179779]), array([0.56781802])]\n",
      "1. i = 9 j = 0 level_num [0, 7, 1, 1, 0, 0, 1, 1, 1, 0]\n",
      "2. i = 9 j = 0 testProobs [array([0.99996457]), array([0.90898802]), array([0.97083784]), array([0.99946172]), array([0.99828899]), array([0.9999203]), array([0.67778319]), array([0.99179779]), array([0.56781802]), array([0.99992218])]\n",
      "1. i = 10 j = 0 level_num [0, 7, 1, 1, 0, 0, 1, 1, 1, 0, 1]\n",
      "2. i = 10 j = 0 testProobs [array([0.99996457]), array([0.90898802]), array([0.97083784]), array([0.99946172]), array([0.99828899]), array([0.9999203]), array([0.67778319]), array([0.99179779]), array([0.56781802]), array([0.99992218]), array([0.97082691])]\n",
      "1. i = 11 j = 0 level_num [0, 7, 1, 1, 0, 0, 1, 1, 1, 0, 1, 0]\n",
      "2. i = 11 j = 0 testProobs [array([0.99996457]), array([0.90898802]), array([0.97083784]), array([0.99946172]), array([0.99828899]), array([0.9999203]), array([0.67778319]), array([0.99179779]), array([0.56781802]), array([0.99992218]), array([0.97082691]), array([0.99825358])]\n",
      "1. i = 12 j = 0 level_num [0, 7, 1, 1, 0, 0, 1, 1, 1, 0, 1, 0, 1]\n",
      "2. i = 12 j = 0 testProobs [array([0.99996457]), array([0.90898802]), array([0.97083784]), array([0.99946172]), array([0.99828899]), array([0.9999203]), array([0.67778319]), array([0.99179779]), array([0.56781802]), array([0.99992218]), array([0.97082691]), array([0.99825358]), array([0.99966033])]\n",
      "1. i = 13 j = 0 level_num [0, 7, 1, 1, 0, 0, 1, 1, 1, 0, 1, 0, 1, 0]\n",
      "2. i = 13 j = 0 testProobs [array([0.99996457]), array([0.90898802]), array([0.97083784]), array([0.99946172]), array([0.99828899]), array([0.9999203]), array([0.67778319]), array([0.99179779]), array([0.56781802]), array([0.99992218]), array([0.97082691]), array([0.99825358]), array([0.99966033]), array([0.99931878])]\n",
      "1. i = 14 j = 0 level_num [0, 7, 1, 1, 0, 0, 1, 1, 1, 0, 1, 0, 1, 0, 2]\n",
      "2. i = 14 j = 0 testProobs [array([0.99996457]), array([0.90898802]), array([0.97083784]), array([0.99946172]), array([0.99828899]), array([0.9999203]), array([0.67778319]), array([0.99179779]), array([0.56781802]), array([0.99992218]), array([0.97082691]), array([0.99825358]), array([0.99966033]), array([0.99931878]), array([0.99966672])]\n",
      "1. i = 15 j = 0 level_num [0, 7, 1, 1, 0, 0, 1, 1, 1, 0, 1, 0, 1, 0, 2, 0]\n",
      "2. i = 15 j = 0 testProobs [array([0.99996457]), array([0.90898802]), array([0.97083784]), array([0.99946172]), array([0.99828899]), array([0.9999203]), array([0.67778319]), array([0.99179779]), array([0.56781802]), array([0.99992218]), array([0.97082691]), array([0.99825358]), array([0.99966033]), array([0.99931878]), array([0.99966672]), array([0.98862849])]\n",
      "1. i = 16 j = 0 level_num [0, 7, 1, 1, 0, 0, 1, 1, 1, 0, 1, 0, 1, 0, 2, 0, 0]\n",
      "2. i = 16 j = 0 testProobs [array([0.99996457]), array([0.90898802]), array([0.97083784]), array([0.99946172]), array([0.99828899]), array([0.9999203]), array([0.67778319]), array([0.99179779]), array([0.56781802]), array([0.99992218]), array([0.97082691]), array([0.99825358]), array([0.99966033]), array([0.99931878]), array([0.99966672]), array([0.98862849]), array([0.99998834])]\n",
      "1. i = 17 j = 0 level_num [0, 7, 1, 1, 0, 0, 1, 1, 1, 0, 1, 0, 1, 0, 2, 0, 0, 1]\n",
      "2. i = 17 j = 0 testProobs [array([0.99996457]), array([0.90898802]), array([0.97083784]), array([0.99946172]), array([0.99828899]), array([0.9999203]), array([0.67778319]), array([0.99179779]), array([0.56781802]), array([0.99992218]), array([0.97082691]), array([0.99825358]), array([0.99966033]), array([0.99931878]), array([0.99966672]), array([0.98862849]), array([0.99998834]), array([0.99982227])]\n",
      "1. i = 18 j = 0 level_num [0, 7, 1, 1, 0, 0, 1, 1, 1, 0, 1, 0, 1, 0, 2, 0, 0, 1, 0]\n",
      "2. i = 18 j = 0 testProobs [array([0.99996457]), array([0.90898802]), array([0.97083784]), array([0.99946172]), array([0.99828899]), array([0.9999203]), array([0.67778319]), array([0.99179779]), array([0.56781802]), array([0.99992218]), array([0.97082691]), array([0.99825358]), array([0.99966033]), array([0.99931878]), array([0.99966672]), array([0.98862849]), array([0.99998834]), array([0.99982227]), array([0.99998287])]\n",
      "1. i = 19 j = 0 level_num [0, 7, 1, 1, 0, 0, 1, 1, 1, 0, 1, 0, 1, 0, 2, 0, 0, 1, 0, 1]\n",
      "2. i = 19 j = 0 testProobs [array([0.99996457]), array([0.90898802]), array([0.97083784]), array([0.99946172]), array([0.99828899]), array([0.9999203]), array([0.67778319]), array([0.99179779]), array([0.56781802]), array([0.99992218]), array([0.97082691]), array([0.99825358]), array([0.99966033]), array([0.99931878]), array([0.99966672]), array([0.98862849]), array([0.99998834]), array([0.99982227]), array([0.99998287]), array([0.99989121])]\n",
      "1. i = 20 j = 0 level_num [0, 7, 1, 1, 0, 0, 1, 1, 1, 0, 1, 0, 1, 0, 2, 0, 0, 1, 0, 1, 0]\n",
      "2. i = 20 j = 0 testProobs [array([0.99996457]), array([0.90898802]), array([0.97083784]), array([0.99946172]), array([0.99828899]), array([0.9999203]), array([0.67778319]), array([0.99179779]), array([0.56781802]), array([0.99992218]), array([0.97082691]), array([0.99825358]), array([0.99966033]), array([0.99931878]), array([0.99966672]), array([0.98862849]), array([0.99998834]), array([0.99982227]), array([0.99998287]), array([0.99989121]), array([0.99995027])]\n",
      "1. i = 21 j = 0 level_num [0, 7, 1, 1, 0, 0, 1, 1, 1, 0, 1, 0, 1, 0, 2, 0, 0, 1, 0, 1, 0, 0]\n",
      "2. i = 21 j = 0 testProobs [array([0.99996457]), array([0.90898802]), array([0.97083784]), array([0.99946172]), array([0.99828899]), array([0.9999203]), array([0.67778319]), array([0.99179779]), array([0.56781802]), array([0.99992218]), array([0.97082691]), array([0.99825358]), array([0.99966033]), array([0.99931878]), array([0.99966672]), array([0.98862849]), array([0.99998834]), array([0.99982227]), array([0.99998287]), array([0.99989121]), array([0.99995027]), array([0.9999908])]\n",
      "1. i = 22 j = 0 level_num [0, 7, 1, 1, 0, 0, 1, 1, 1, 0, 1, 0, 1, 0, 2, 0, 0, 1, 0, 1, 0, 0, 1]\n",
      "2. i = 22 j = 0 testProobs [array([0.99996457]), array([0.90898802]), array([0.97083784]), array([0.99946172]), array([0.99828899]), array([0.9999203]), array([0.67778319]), array([0.99179779]), array([0.56781802]), array([0.99992218]), array([0.97082691]), array([0.99825358]), array([0.99966033]), array([0.99931878]), array([0.99966672]), array([0.98862849]), array([0.99998834]), array([0.99982227]), array([0.99998287]), array([0.99989121]), array([0.99995027]), array([0.9999908]), array([0.9999826])]\n",
      "1. i = 23 j = 0 level_num [0, 7, 1, 1, 0, 0, 1, 1, 1, 0, 1, 0, 1, 0, 2, 0, 0, 1, 0, 1, 0, 0, 1, 1]\n",
      "2. i = 23 j = 0 testProobs [array([0.99996457]), array([0.90898802]), array([0.97083784]), array([0.99946172]), array([0.99828899]), array([0.9999203]), array([0.67778319]), array([0.99179779]), array([0.56781802]), array([0.99992218]), array([0.97082691]), array([0.99825358]), array([0.99966033]), array([0.99931878]), array([0.99966672]), array([0.98862849]), array([0.99998834]), array([0.99982227]), array([0.99998287]), array([0.99989121]), array([0.99995027]), array([0.9999908]), array([0.9999826]), array([0.99971463])]\n",
      "1. i = 24 j = 0 level_num [0, 7, 1, 1, 0, 0, 1, 1, 1, 0, 1, 0, 1, 0, 2, 0, 0, 1, 0, 1, 0, 0, 1, 1, 0]\n",
      "2. i = 24 j = 0 testProobs [array([0.99996457]), array([0.90898802]), array([0.97083784]), array([0.99946172]), array([0.99828899]), array([0.9999203]), array([0.67778319]), array([0.99179779]), array([0.56781802]), array([0.99992218]), array([0.97082691]), array([0.99825358]), array([0.99966033]), array([0.99931878]), array([0.99966672]), array([0.98862849]), array([0.99998834]), array([0.99982227]), array([0.99998287]), array([0.99989121]), array([0.99995027]), array([0.9999908]), array([0.9999826]), array([0.99971463]), array([0.99984505])]\n",
      "1. i = 25 j = 0 level_num [0, 7, 1, 1, 0, 0, 1, 1, 1, 0, 1, 0, 1, 0, 2, 0, 0, 1, 0, 1, 0, 0, 1, 1, 0, 1]\n",
      "2. i = 25 j = 0 testProobs [array([0.99996457]), array([0.90898802]), array([0.97083784]), array([0.99946172]), array([0.99828899]), array([0.9999203]), array([0.67778319]), array([0.99179779]), array([0.56781802]), array([0.99992218]), array([0.97082691]), array([0.99825358]), array([0.99966033]), array([0.99931878]), array([0.99966672]), array([0.98862849]), array([0.99998834]), array([0.99982227]), array([0.99998287]), array([0.99989121]), array([0.99995027]), array([0.9999908]), array([0.9999826]), array([0.99971463]), array([0.99984505]), array([0.99978807])]\n",
      "1. i = 26 j = 0 level_num [0, 7, 1, 1, 0, 0, 1, 1, 1, 0, 1, 0, 1, 0, 2, 0, 0, 1, 0, 1, 0, 0, 1, 1, 0, 1, 0]\n",
      "2. i = 26 j = 0 testProobs [array([0.99996457]), array([0.90898802]), array([0.97083784]), array([0.99946172]), array([0.99828899]), array([0.9999203]), array([0.67778319]), array([0.99179779]), array([0.56781802]), array([0.99992218]), array([0.97082691]), array([0.99825358]), array([0.99966033]), array([0.99931878]), array([0.99966672]), array([0.98862849]), array([0.99998834]), array([0.99982227]), array([0.99998287]), array([0.99989121]), array([0.99995027]), array([0.9999908]), array([0.9999826]), array([0.99971463]), array([0.99984505]), array([0.99978807]), array([0.99994649])]\n",
      "1. i = 27 j = 0 level_num [0, 7, 1, 1, 0, 0, 1, 1, 1, 0, 1, 0, 1, 0, 2, 0, 0, 1, 0, 1, 0, 0, 1, 1, 0, 1, 0, 1]\n",
      "2. i = 27 j = 0 testProobs [array([0.99996457]), array([0.90898802]), array([0.97083784]), array([0.99946172]), array([0.99828899]), array([0.9999203]), array([0.67778319]), array([0.99179779]), array([0.56781802]), array([0.99992218]), array([0.97082691]), array([0.99825358]), array([0.99966033]), array([0.99931878]), array([0.99966672]), array([0.98862849]), array([0.99998834]), array([0.99982227]), array([0.99998287]), array([0.99989121]), array([0.99995027]), array([0.9999908]), array([0.9999826]), array([0.99971463]), array([0.99984505]), array([0.99978807]), array([0.99994649]), array([0.99714065])]\n",
      "1. i = 28 j = 0 level_num [0, 7, 1, 1, 0, 0, 1, 1, 1, 0, 1, 0, 1, 0, 2, 0, 0, 1, 0, 1, 0, 0, 1, 1, 0, 1, 0, 1, 0]\n",
      "2. i = 28 j = 0 testProobs [array([0.99996457]), array([0.90898802]), array([0.97083784]), array([0.99946172]), array([0.99828899]), array([0.9999203]), array([0.67778319]), array([0.99179779]), array([0.56781802]), array([0.99992218]), array([0.97082691]), array([0.99825358]), array([0.99966033]), array([0.99931878]), array([0.99966672]), array([0.98862849]), array([0.99998834]), array([0.99982227]), array([0.99998287]), array([0.99989121]), array([0.99995027]), array([0.9999908]), array([0.9999826]), array([0.99971463]), array([0.99984505]), array([0.99978807]), array([0.99994649]), array([0.99714065]), array([0.54555375])]\n",
      "1. i = 29 j = 0 level_num [0, 7, 1, 1, 0, 0, 1, 1, 1, 0, 1, 0, 1, 0, 2, 0, 0, 1, 0, 1, 0, 0, 1, 1, 0, 1, 0, 1, 0, 2]\n",
      "2. i = 29 j = 0 testProobs [array([0.99996457]), array([0.90898802]), array([0.97083784]), array([0.99946172]), array([0.99828899]), array([0.9999203]), array([0.67778319]), array([0.99179779]), array([0.56781802]), array([0.99992218]), array([0.97082691]), array([0.99825358]), array([0.99966033]), array([0.99931878]), array([0.99966672]), array([0.98862849]), array([0.99998834]), array([0.99982227]), array([0.99998287]), array([0.99989121]), array([0.99995027]), array([0.9999908]), array([0.9999826]), array([0.99971463]), array([0.99984505]), array([0.99978807]), array([0.99994649]), array([0.99714065]), array([0.54555375]), array([0.99820779])]\n",
      "1. i = 30 j = 0 level_num [0, 7, 1, 1, 0, 0, 1, 1, 1, 0, 1, 0, 1, 0, 2, 0, 0, 1, 0, 1, 0, 0, 1, 1, 0, 1, 0, 1, 0, 2, 2]\n",
      "2. i = 30 j = 0 testProobs [array([0.99996457]), array([0.90898802]), array([0.97083784]), array([0.99946172]), array([0.99828899]), array([0.9999203]), array([0.67778319]), array([0.99179779]), array([0.56781802]), array([0.99992218]), array([0.97082691]), array([0.99825358]), array([0.99966033]), array([0.99931878]), array([0.99966672]), array([0.98862849]), array([0.99998834]), array([0.99982227]), array([0.99998287]), array([0.99989121]), array([0.99995027]), array([0.9999908]), array([0.9999826]), array([0.99971463]), array([0.99984505]), array([0.99978807]), array([0.99994649]), array([0.99714065]), array([0.54555375]), array([0.99820779]), array([0.89554231])]\n",
      "1. i = 31 j = 0 level_num [0, 7, 1, 1, 0, 0, 1, 1, 1, 0, 1, 0, 1, 0, 2, 0, 0, 1, 0, 1, 0, 0, 1, 1, 0, 1, 0, 1, 0, 2, 2, 1]\n",
      "2. i = 31 j = 0 testProobs [array([0.99996457]), array([0.90898802]), array([0.97083784]), array([0.99946172]), array([0.99828899]), array([0.9999203]), array([0.67778319]), array([0.99179779]), array([0.56781802]), array([0.99992218]), array([0.97082691]), array([0.99825358]), array([0.99966033]), array([0.99931878]), array([0.99966672]), array([0.98862849]), array([0.99998834]), array([0.99982227]), array([0.99998287]), array([0.99989121]), array([0.99995027]), array([0.9999908]), array([0.9999826]), array([0.99971463]), array([0.99984505]), array([0.99978807]), array([0.99994649]), array([0.99714065]), array([0.54555375]), array([0.99820779]), array([0.89554231]), array([0.99980929])]\n",
      "1. i = 32 j = 0 level_num [0, 7, 1, 1, 0, 0, 1, 1, 1, 0, 1, 0, 1, 0, 2, 0, 0, 1, 0, 1, 0, 0, 1, 1, 0, 1, 0, 1, 0, 2, 2, 1, 0]\n",
      "2. i = 32 j = 0 testProobs [array([0.99996457]), array([0.90898802]), array([0.97083784]), array([0.99946172]), array([0.99828899]), array([0.9999203]), array([0.67778319]), array([0.99179779]), array([0.56781802]), array([0.99992218]), array([0.97082691]), array([0.99825358]), array([0.99966033]), array([0.99931878]), array([0.99966672]), array([0.98862849]), array([0.99998834]), array([0.99982227]), array([0.99998287]), array([0.99989121]), array([0.99995027]), array([0.9999908]), array([0.9999826]), array([0.99971463]), array([0.99984505]), array([0.99978807]), array([0.99994649]), array([0.99714065]), array([0.54555375]), array([0.99820779]), array([0.89554231]), array([0.99980929]), array([0.99926028])]\n",
      "1. i = 33 j = 0 level_num [0, 7, 1, 1, 0, 0, 1, 1, 1, 0, 1, 0, 1, 0, 2, 0, 0, 1, 0, 1, 0, 0, 1, 1, 0, 1, 0, 1, 0, 2, 2, 1, 0, 2]\n",
      "2. i = 33 j = 0 testProobs [array([0.99996457]), array([0.90898802]), array([0.97083784]), array([0.99946172]), array([0.99828899]), array([0.9999203]), array([0.67778319]), array([0.99179779]), array([0.56781802]), array([0.99992218]), array([0.97082691]), array([0.99825358]), array([0.99966033]), array([0.99931878]), array([0.99966672]), array([0.98862849]), array([0.99998834]), array([0.99982227]), array([0.99998287]), array([0.99989121]), array([0.99995027]), array([0.9999908]), array([0.9999826]), array([0.99971463]), array([0.99984505]), array([0.99978807]), array([0.99994649]), array([0.99714065]), array([0.54555375]), array([0.99820779]), array([0.89554231]), array([0.99980929]), array([0.99926028]), array([0.99515964])]\n",
      "1. i = 34 j = 0 level_num [0, 7, 1, 1, 0, 0, 1, 1, 1, 0, 1, 0, 1, 0, 2, 0, 0, 1, 0, 1, 0, 0, 1, 1, 0, 1, 0, 1, 0, 2, 2, 1, 0, 2, 0]\n",
      "2. i = 34 j = 0 testProobs [array([0.99996457]), array([0.90898802]), array([0.97083784]), array([0.99946172]), array([0.99828899]), array([0.9999203]), array([0.67778319]), array([0.99179779]), array([0.56781802]), array([0.99992218]), array([0.97082691]), array([0.99825358]), array([0.99966033]), array([0.99931878]), array([0.99966672]), array([0.98862849]), array([0.99998834]), array([0.99982227]), array([0.99998287]), array([0.99989121]), array([0.99995027]), array([0.9999908]), array([0.9999826]), array([0.99971463]), array([0.99984505]), array([0.99978807]), array([0.99994649]), array([0.99714065]), array([0.54555375]), array([0.99820779]), array([0.89554231]), array([0.99980929]), array([0.99926028]), array([0.99515964]), array([0.99322271])]\n",
      "1. i = 35 j = 0 level_num [0, 7, 1, 1, 0, 0, 1, 1, 1, 0, 1, 0, 1, 0, 2, 0, 0, 1, 0, 1, 0, 0, 1, 1, 0, 1, 0, 1, 0, 2, 2, 1, 0, 2, 0, 0]\n",
      "2. i = 35 j = 0 testProobs [array([0.99996457]), array([0.90898802]), array([0.97083784]), array([0.99946172]), array([0.99828899]), array([0.9999203]), array([0.67778319]), array([0.99179779]), array([0.56781802]), array([0.99992218]), array([0.97082691]), array([0.99825358]), array([0.99966033]), array([0.99931878]), array([0.99966672]), array([0.98862849]), array([0.99998834]), array([0.99982227]), array([0.99998287]), array([0.99989121]), array([0.99995027]), array([0.9999908]), array([0.9999826]), array([0.99971463]), array([0.99984505]), array([0.99978807]), array([0.99994649]), array([0.99714065]), array([0.54555375]), array([0.99820779]), array([0.89554231]), array([0.99980929]), array([0.99926028]), array([0.99515964]), array([0.99322271]), array([0.99992785])]\n",
      "1. i = 36 j = 0 level_num [0, 7, 1, 1, 0, 0, 1, 1, 1, 0, 1, 0, 1, 0, 2, 0, 0, 1, 0, 1, 0, 0, 1, 1, 0, 1, 0, 1, 0, 2, 2, 1, 0, 2, 0, 0, 1]\n",
      "2. i = 36 j = 0 testProobs [array([0.99996457]), array([0.90898802]), array([0.97083784]), array([0.99946172]), array([0.99828899]), array([0.9999203]), array([0.67778319]), array([0.99179779]), array([0.56781802]), array([0.99992218]), array([0.97082691]), array([0.99825358]), array([0.99966033]), array([0.99931878]), array([0.99966672]), array([0.98862849]), array([0.99998834]), array([0.99982227]), array([0.99998287]), array([0.99989121]), array([0.99995027]), array([0.9999908]), array([0.9999826]), array([0.99971463]), array([0.99984505]), array([0.99978807]), array([0.99994649]), array([0.99714065]), array([0.54555375]), array([0.99820779]), array([0.89554231]), array([0.99980929]), array([0.99926028]), array([0.99515964]), array([0.99322271]), array([0.99992785]), array([0.88107576])]\n",
      "1. i = 37 j = 0 level_num [0, 7, 1, 1, 0, 0, 1, 1, 1, 0, 1, 0, 1, 0, 2, 0, 0, 1, 0, 1, 0, 0, 1, 1, 0, 1, 0, 1, 0, 2, 2, 1, 0, 2, 0, 0, 1, 1]\n",
      "2. i = 37 j = 0 testProobs [array([0.99996457]), array([0.90898802]), array([0.97083784]), array([0.99946172]), array([0.99828899]), array([0.9999203]), array([0.67778319]), array([0.99179779]), array([0.56781802]), array([0.99992218]), array([0.97082691]), array([0.99825358]), array([0.99966033]), array([0.99931878]), array([0.99966672]), array([0.98862849]), array([0.99998834]), array([0.99982227]), array([0.99998287]), array([0.99989121]), array([0.99995027]), array([0.9999908]), array([0.9999826]), array([0.99971463]), array([0.99984505]), array([0.99978807]), array([0.99994649]), array([0.99714065]), array([0.54555375]), array([0.99820779]), array([0.89554231]), array([0.99980929]), array([0.99926028]), array([0.99515964]), array([0.99322271]), array([0.99992785]), array([0.88107576]), array([0.9992819])]\n",
      "1. i = 38 j = 0 level_num [0, 7, 1, 1, 0, 0, 1, 1, 1, 0, 1, 0, 1, 0, 2, 0, 0, 1, 0, 1, 0, 0, 1, 1, 0, 1, 0, 1, 0, 2, 2, 1, 0, 2, 0, 0, 1, 1, 0]\n",
      "2. i = 38 j = 0 testProobs [array([0.99996457]), array([0.90898802]), array([0.97083784]), array([0.99946172]), array([0.99828899]), array([0.9999203]), array([0.67778319]), array([0.99179779]), array([0.56781802]), array([0.99992218]), array([0.97082691]), array([0.99825358]), array([0.99966033]), array([0.99931878]), array([0.99966672]), array([0.98862849]), array([0.99998834]), array([0.99982227]), array([0.99998287]), array([0.99989121]), array([0.99995027]), array([0.9999908]), array([0.9999826]), array([0.99971463]), array([0.99984505]), array([0.99978807]), array([0.99994649]), array([0.99714065]), array([0.54555375]), array([0.99820779]), array([0.89554231]), array([0.99980929]), array([0.99926028]), array([0.99515964]), array([0.99322271]), array([0.99992785]), array([0.88107576]), array([0.9992819]), array([0.99999008])]\n",
      "1. i = 39 j = 0 level_num [0, 7, 1, 1, 0, 0, 1, 1, 1, 0, 1, 0, 1, 0, 2, 0, 0, 1, 0, 1, 0, 0, 1, 1, 0, 1, 0, 1, 0, 2, 2, 1, 0, 2, 0, 0, 1, 1, 0, 0]\n",
      "2. i = 39 j = 0 testProobs [array([0.99996457]), array([0.90898802]), array([0.97083784]), array([0.99946172]), array([0.99828899]), array([0.9999203]), array([0.67778319]), array([0.99179779]), array([0.56781802]), array([0.99992218]), array([0.97082691]), array([0.99825358]), array([0.99966033]), array([0.99931878]), array([0.99966672]), array([0.98862849]), array([0.99998834]), array([0.99982227]), array([0.99998287]), array([0.99989121]), array([0.99995027]), array([0.9999908]), array([0.9999826]), array([0.99971463]), array([0.99984505]), array([0.99978807]), array([0.99994649]), array([0.99714065]), array([0.54555375]), array([0.99820779]), array([0.89554231]), array([0.99980929]), array([0.99926028]), array([0.99515964]), array([0.99322271]), array([0.99992785]), array([0.88107576]), array([0.9992819]), array([0.99999008]), array([0.99806957])]\n",
      "1. i = 40 j = 0 level_num [0, 7, 1, 1, 0, 0, 1, 1, 1, 0, 1, 0, 1, 0, 2, 0, 0, 1, 0, 1, 0, 0, 1, 1, 0, 1, 0, 1, 0, 2, 2, 1, 0, 2, 0, 0, 1, 1, 0, 0, 0]\n",
      "2. i = 40 j = 0 testProobs [array([0.99996457]), array([0.90898802]), array([0.97083784]), array([0.99946172]), array([0.99828899]), array([0.9999203]), array([0.67778319]), array([0.99179779]), array([0.56781802]), array([0.99992218]), array([0.97082691]), array([0.99825358]), array([0.99966033]), array([0.99931878]), array([0.99966672]), array([0.98862849]), array([0.99998834]), array([0.99982227]), array([0.99998287]), array([0.99989121]), array([0.99995027]), array([0.9999908]), array([0.9999826]), array([0.99971463]), array([0.99984505]), array([0.99978807]), array([0.99994649]), array([0.99714065]), array([0.54555375]), array([0.99820779]), array([0.89554231]), array([0.99980929]), array([0.99926028]), array([0.99515964]), array([0.99322271]), array([0.99992785]), array([0.88107576]), array([0.9992819]), array([0.99999008]), array([0.99806957]), array([0.99955436])]\n",
      "1. i = 41 j = 0 level_num [0, 7, 1, 1, 0, 0, 1, 1, 1, 0, 1, 0, 1, 0, 2, 0, 0, 1, 0, 1, 0, 0, 1, 1, 0, 1, 0, 1, 0, 2, 2, 1, 0, 2, 0, 0, 1, 1, 0, 0, 0, 2]\n",
      "2. i = 41 j = 0 testProobs [array([0.99996457]), array([0.90898802]), array([0.97083784]), array([0.99946172]), array([0.99828899]), array([0.9999203]), array([0.67778319]), array([0.99179779]), array([0.56781802]), array([0.99992218]), array([0.97082691]), array([0.99825358]), array([0.99966033]), array([0.99931878]), array([0.99966672]), array([0.98862849]), array([0.99998834]), array([0.99982227]), array([0.99998287]), array([0.99989121]), array([0.99995027]), array([0.9999908]), array([0.9999826]), array([0.99971463]), array([0.99984505]), array([0.99978807]), array([0.99994649]), array([0.99714065]), array([0.54555375]), array([0.99820779]), array([0.89554231]), array([0.99980929]), array([0.99926028]), array([0.99515964]), array([0.99322271]), array([0.99992785]), array([0.88107576]), array([0.9992819]), array([0.99999008]), array([0.99806957]), array([0.99955436]), array([0.99865334])]\n",
      "1. i = 42 j = 0 level_num [0, 7, 1, 1, 0, 0, 1, 1, 1, 0, 1, 0, 1, 0, 2, 0, 0, 1, 0, 1, 0, 0, 1, 1, 0, 1, 0, 1, 0, 2, 2, 1, 0, 2, 0, 0, 1, 1, 0, 0, 0, 2, 0]\n",
      "2. i = 42 j = 0 testProobs [array([0.99996457]), array([0.90898802]), array([0.97083784]), array([0.99946172]), array([0.99828899]), array([0.9999203]), array([0.67778319]), array([0.99179779]), array([0.56781802]), array([0.99992218]), array([0.97082691]), array([0.99825358]), array([0.99966033]), array([0.99931878]), array([0.99966672]), array([0.98862849]), array([0.99998834]), array([0.99982227]), array([0.99998287]), array([0.99989121]), array([0.99995027]), array([0.9999908]), array([0.9999826]), array([0.99971463]), array([0.99984505]), array([0.99978807]), array([0.99994649]), array([0.99714065]), array([0.54555375]), array([0.99820779]), array([0.89554231]), array([0.99980929]), array([0.99926028]), array([0.99515964]), array([0.99322271]), array([0.99992785]), array([0.88107576]), array([0.9992819]), array([0.99999008]), array([0.99806957]), array([0.99955436]), array([0.99865334]), array([0.93403298])]\n",
      "1. i = 43 j = 0 level_num [0, 7, 1, 1, 0, 0, 1, 1, 1, 0, 1, 0, 1, 0, 2, 0, 0, 1, 0, 1, 0, 0, 1, 1, 0, 1, 0, 1, 0, 2, 2, 1, 0, 2, 0, 0, 1, 1, 0, 0, 0, 2, 0, 0]\n",
      "2. i = 43 j = 0 testProobs [array([0.99996457]), array([0.90898802]), array([0.97083784]), array([0.99946172]), array([0.99828899]), array([0.9999203]), array([0.67778319]), array([0.99179779]), array([0.56781802]), array([0.99992218]), array([0.97082691]), array([0.99825358]), array([0.99966033]), array([0.99931878]), array([0.99966672]), array([0.98862849]), array([0.99998834]), array([0.99982227]), array([0.99998287]), array([0.99989121]), array([0.99995027]), array([0.9999908]), array([0.9999826]), array([0.99971463]), array([0.99984505]), array([0.99978807]), array([0.99994649]), array([0.99714065]), array([0.54555375]), array([0.99820779]), array([0.89554231]), array([0.99980929]), array([0.99926028]), array([0.99515964]), array([0.99322271]), array([0.99992785]), array([0.88107576]), array([0.9992819]), array([0.99999008]), array([0.99806957]), array([0.99955436]), array([0.99865334]), array([0.93403298]), array([0.98799303])]\n",
      "1. i = 44 j = 0 level_num [0, 7, 1, 1, 0, 0, 1, 1, 1, 0, 1, 0, 1, 0, 2, 0, 0, 1, 0, 1, 0, 0, 1, 1, 0, 1, 0, 1, 0, 2, 2, 1, 0, 2, 0, 0, 1, 1, 0, 0, 0, 2, 0, 0, 2]\n",
      "2. i = 44 j = 0 testProobs [array([0.99996457]), array([0.90898802]), array([0.97083784]), array([0.99946172]), array([0.99828899]), array([0.9999203]), array([0.67778319]), array([0.99179779]), array([0.56781802]), array([0.99992218]), array([0.97082691]), array([0.99825358]), array([0.99966033]), array([0.99931878]), array([0.99966672]), array([0.98862849]), array([0.99998834]), array([0.99982227]), array([0.99998287]), array([0.99989121]), array([0.99995027]), array([0.9999908]), array([0.9999826]), array([0.99971463]), array([0.99984505]), array([0.99978807]), array([0.99994649]), array([0.99714065]), array([0.54555375]), array([0.99820779]), array([0.89554231]), array([0.99980929]), array([0.99926028]), array([0.99515964]), array([0.99322271]), array([0.99992785]), array([0.88107576]), array([0.9992819]), array([0.99999008]), array([0.99806957]), array([0.99955436]), array([0.99865334]), array([0.93403298]), array([0.98799303]), array([0.99648386])]\n",
      "1. i = 45 j = 0 level_num [0, 7, 1, 1, 0, 0, 1, 1, 1, 0, 1, 0, 1, 0, 2, 0, 0, 1, 0, 1, 0, 0, 1, 1, 0, 1, 0, 1, 0, 2, 2, 1, 0, 2, 0, 0, 1, 1, 0, 0, 0, 2, 0, 0, 2, 2]\n",
      "2. i = 45 j = 0 testProobs [array([0.99996457]), array([0.90898802]), array([0.97083784]), array([0.99946172]), array([0.99828899]), array([0.9999203]), array([0.67778319]), array([0.99179779]), array([0.56781802]), array([0.99992218]), array([0.97082691]), array([0.99825358]), array([0.99966033]), array([0.99931878]), array([0.99966672]), array([0.98862849]), array([0.99998834]), array([0.99982227]), array([0.99998287]), array([0.99989121]), array([0.99995027]), array([0.9999908]), array([0.9999826]), array([0.99971463]), array([0.99984505]), array([0.99978807]), array([0.99994649]), array([0.99714065]), array([0.54555375]), array([0.99820779]), array([0.89554231]), array([0.99980929]), array([0.99926028]), array([0.99515964]), array([0.99322271]), array([0.99992785]), array([0.88107576]), array([0.9992819]), array([0.99999008]), array([0.99806957]), array([0.99955436]), array([0.99865334]), array([0.93403298]), array([0.98799303]), array([0.99648386]), array([0.98813962])]\n",
      "1. i = 46 j = 0 level_num [0, 7, 1, 1, 0, 0, 1, 1, 1, 0, 1, 0, 1, 0, 2, 0, 0, 1, 0, 1, 0, 0, 1, 1, 0, 1, 0, 1, 0, 2, 2, 1, 0, 2, 0, 0, 1, 1, 0, 0, 0, 2, 0, 0, 2, 2, 0]\n",
      "2. i = 46 j = 0 testProobs [array([0.99996457]), array([0.90898802]), array([0.97083784]), array([0.99946172]), array([0.99828899]), array([0.9999203]), array([0.67778319]), array([0.99179779]), array([0.56781802]), array([0.99992218]), array([0.97082691]), array([0.99825358]), array([0.99966033]), array([0.99931878]), array([0.99966672]), array([0.98862849]), array([0.99998834]), array([0.99982227]), array([0.99998287]), array([0.99989121]), array([0.99995027]), array([0.9999908]), array([0.9999826]), array([0.99971463]), array([0.99984505]), array([0.99978807]), array([0.99994649]), array([0.99714065]), array([0.54555375]), array([0.99820779]), array([0.89554231]), array([0.99980929]), array([0.99926028]), array([0.99515964]), array([0.99322271]), array([0.99992785]), array([0.88107576]), array([0.9992819]), array([0.99999008]), array([0.99806957]), array([0.99955436]), array([0.99865334]), array([0.93403298]), array([0.98799303]), array([0.99648386]), array([0.98813962]), array([0.95642423])]\n",
      "1. i = 47 j = 0 level_num [0, 7, 1, 1, 0, 0, 1, 1, 1, 0, 1, 0, 1, 0, 2, 0, 0, 1, 0, 1, 0, 0, 1, 1, 0, 1, 0, 1, 0, 2, 2, 1, 0, 2, 0, 0, 1, 1, 0, 0, 0, 2, 0, 0, 2, 2, 0, 0]\n",
      "2. i = 47 j = 0 testProobs [array([0.99996457]), array([0.90898802]), array([0.97083784]), array([0.99946172]), array([0.99828899]), array([0.9999203]), array([0.67778319]), array([0.99179779]), array([0.56781802]), array([0.99992218]), array([0.97082691]), array([0.99825358]), array([0.99966033]), array([0.99931878]), array([0.99966672]), array([0.98862849]), array([0.99998834]), array([0.99982227]), array([0.99998287]), array([0.99989121]), array([0.99995027]), array([0.9999908]), array([0.9999826]), array([0.99971463]), array([0.99984505]), array([0.99978807]), array([0.99994649]), array([0.99714065]), array([0.54555375]), array([0.99820779]), array([0.89554231]), array([0.99980929]), array([0.99926028]), array([0.99515964]), array([0.99322271]), array([0.99992785]), array([0.88107576]), array([0.9992819]), array([0.99999008]), array([0.99806957]), array([0.99955436]), array([0.99865334]), array([0.93403298]), array([0.98799303]), array([0.99648386]), array([0.98813962]), array([0.95642423]), array([0.99941971])]\n",
      "1. i = 48 j = 0 level_num [0, 7, 1, 1, 0, 0, 1, 1, 1, 0, 1, 0, 1, 0, 2, 0, 0, 1, 0, 1, 0, 0, 1, 1, 0, 1, 0, 1, 0, 2, 2, 1, 0, 2, 0, 0, 1, 1, 0, 0, 0, 2, 0, 0, 2, 2, 0, 0, 0]\n",
      "2. i = 48 j = 0 testProobs [array([0.99996457]), array([0.90898802]), array([0.97083784]), array([0.99946172]), array([0.99828899]), array([0.9999203]), array([0.67778319]), array([0.99179779]), array([0.56781802]), array([0.99992218]), array([0.97082691]), array([0.99825358]), array([0.99966033]), array([0.99931878]), array([0.99966672]), array([0.98862849]), array([0.99998834]), array([0.99982227]), array([0.99998287]), array([0.99989121]), array([0.99995027]), array([0.9999908]), array([0.9999826]), array([0.99971463]), array([0.99984505]), array([0.99978807]), array([0.99994649]), array([0.99714065]), array([0.54555375]), array([0.99820779]), array([0.89554231]), array([0.99980929]), array([0.99926028]), array([0.99515964]), array([0.99322271]), array([0.99992785]), array([0.88107576]), array([0.9992819]), array([0.99999008]), array([0.99806957]), array([0.99955436]), array([0.99865334]), array([0.93403298]), array([0.98799303]), array([0.99648386]), array([0.98813962]), array([0.95642423]), array([0.99941971]), array([0.99988901])]\n",
      "1. i = 49 j = 0 level_num [0, 7, 1, 1, 0, 0, 1, 1, 1, 0, 1, 0, 1, 0, 2, 0, 0, 1, 0, 1, 0, 0, 1, 1, 0, 1, 0, 1, 0, 2, 2, 1, 0, 2, 0, 0, 1, 1, 0, 0, 0, 2, 0, 0, 2, 2, 0, 0, 0, 0]\n",
      "2. i = 49 j = 0 testProobs [array([0.99996457]), array([0.90898802]), array([0.97083784]), array([0.99946172]), array([0.99828899]), array([0.9999203]), array([0.67778319]), array([0.99179779]), array([0.56781802]), array([0.99992218]), array([0.97082691]), array([0.99825358]), array([0.99966033]), array([0.99931878]), array([0.99966672]), array([0.98862849]), array([0.99998834]), array([0.99982227]), array([0.99998287]), array([0.99989121]), array([0.99995027]), array([0.9999908]), array([0.9999826]), array([0.99971463]), array([0.99984505]), array([0.99978807]), array([0.99994649]), array([0.99714065]), array([0.54555375]), array([0.99820779]), array([0.89554231]), array([0.99980929]), array([0.99926028]), array([0.99515964]), array([0.99322271]), array([0.99992785]), array([0.88107576]), array([0.9992819]), array([0.99999008]), array([0.99806957]), array([0.99955436]), array([0.99865334]), array([0.93403298]), array([0.98799303]), array([0.99648386]), array([0.98813962]), array([0.95642423]), array([0.99941971]), array([0.99988901]), array([0.99911302])]\n",
      "len(testProobs)  50\n",
      "test_new_proobs [0.9999645707368853, 0.9089880169978707, 0.9708378351740545, 0.9994617210317371, 0.9982889890548898, 0.9999202961728797, 0.6777831884529729, 0.9917977938241671, 0.5678180212264385, 0.9999221769327595, 0.9708269126247147, 0.9982535833849565, 0.9996603322374068, 0.999318781668467, 0.9996667154147393, 0.9886284865585498, 0.999988338119639, 0.9998222706751987, 0.9999828749298233, 0.9998912067718475, 0.9999502730447265, 0.9999908021993711, 0.9999825993205269, 0.9997146254125899, 0.9998450460738247, 0.9997880651665985, 0.9999464948166366, 0.9971406544656259, 0.5455537522812565, 0.9982077909177927, 0.8955423105654421, 0.9998092864925828, 0.9992602751684169, 0.9951596366743469, 0.993222710666497, 0.9999278451306963, 0.8810757634105817, 0.9992819008291582, 0.999990076158653, 0.9980695653764511, 0.9995543569052058, 0.9986533432844468, 0.9340329843028395, 0.9879930256456144, 0.9964838620832104, 0.9881396188164224, 0.9564242347007818, 0.9994197108165831, 0.9998890055072616, 0.9991130179924788]\n"
     ]
    }
   ],
   "source": [
    "proc_append()"
   ]
  },
  {
   "cell_type": "code",
   "execution_count": 57,
   "metadata": {},
   "outputs": [],
   "source": [
    "def proc_append_print():\n",
    "    i =1 \n",
    "    j =1\n",
    "    print (f' len (probs[i]) = {len (probs[i])}')\n",
    "    x0 = [np.argsort(probs[i])]\n",
    "    print (f' probs[i] {probs[i]}   x0, {x0}')\n",
    "    x1 = probs[i][np.argsort(probs[i])]\n",
    "    print (f' x1 = probs[i][np.argsort(probs[i])] {x1}')\n",
    "    x2 = x1[::-1][:3] \n",
    "    print (f' x2 =  x1[::-1][:3]   {x2 } ') \n",
    "    print (f' x3 =  x2[j]   {x2[j]}   x2[j][0]   {x2[j][0] }')   \n",
    "    x4 = probs[i][np.argsort(probs[i])][::-1][:3][j][0]\n",
    "    print (f'  x4, {x4}')\n",
    "    x5 = np.where(probs[i]==probs[i][np.argsort(probs[i])][::-1][:3][j])[0]\n",
    "    x6 = np.where(probs[i]==probs[i][np.argsort(probs[i])][::-1][:3][2])[0][0]\n",
    "    print (f'  x5, {x5}')\n",
    "    print (f'  x6, {x6}')\n",
    "    return    "
   ]
  },
  {
   "cell_type": "code",
   "execution_count": 58,
   "metadata": {},
   "outputs": [
    {
     "name": "stdout",
     "output_type": "stream",
     "text": [
      " len (probs[i]) = 8\n",
      " probs[i] [6.48720295e-04 8.92620466e-02 4.34744724e-04 1.66332553e-04\n",
      " 1.66329314e-04 1.70206130e-04 1.63603376e-04 9.08988017e-01]   x0, [array([6, 4, 3, 5, 2, 0, 1, 7], dtype=int64)]\n",
      " x1 = probs[i][np.argsort(probs[i])] [1.63603376e-04 1.66329314e-04 1.66332553e-04 1.70206130e-04\n",
      " 4.34744724e-04 6.48720295e-04 8.92620466e-02 9.08988017e-01]\n",
      " x2 =  x1[::-1][:3]   [9.08988017e-01 8.92620466e-02 6.48720295e-04] \n"
     ]
    },
    {
     "ename": "IndexError",
     "evalue": "invalid index to scalar variable.",
     "output_type": "error",
     "traceback": [
      "\u001b[1;31m---------------------------------------------------------------------------\u001b[0m",
      "\u001b[1;31mIndexError\u001b[0m                                Traceback (most recent call last)",
      "Cell \u001b[1;32mIn[58], line 1\u001b[0m\n\u001b[1;32m----> 1\u001b[0m \u001b[43mproc_append\u001b[49m\u001b[43m(\u001b[49m\u001b[43m)\u001b[49m\n",
      "Cell \u001b[1;32mIn[57], line 11\u001b[0m, in \u001b[0;36mproc_append\u001b[1;34m()\u001b[0m\n\u001b[0;32m      9\u001b[0m x2 \u001b[38;5;241m=\u001b[39m x1[::\u001b[38;5;241m-\u001b[39m\u001b[38;5;241m1\u001b[39m][:\u001b[38;5;241m3\u001b[39m] \n\u001b[0;32m     10\u001b[0m \u001b[38;5;28mprint\u001b[39m (\u001b[38;5;124mf\u001b[39m\u001b[38;5;124m'\u001b[39m\u001b[38;5;124m x2 =  x1[::-1][:3]   \u001b[39m\u001b[38;5;132;01m{\u001b[39;00mx2 \u001b[38;5;132;01m}\u001b[39;00m\u001b[38;5;124m \u001b[39m\u001b[38;5;124m'\u001b[39m) \n\u001b[1;32m---> 11\u001b[0m \u001b[38;5;28mprint\u001b[39m (\u001b[38;5;124mf\u001b[39m\u001b[38;5;124m'\u001b[39m\u001b[38;5;124m x3 =  x2[j]   \u001b[39m\u001b[38;5;132;01m{\u001b[39;00mx2[j]\u001b[38;5;132;01m}\u001b[39;00m\u001b[38;5;124m   x2[j][0]   \u001b[39m\u001b[38;5;132;01m{\u001b[39;00mx2[j][\u001b[38;5;241m0\u001b[39m] \u001b[38;5;132;01m}\u001b[39;00m\u001b[38;5;124m'\u001b[39m)   \n\u001b[0;32m     12\u001b[0m x4 \u001b[38;5;241m=\u001b[39m probs[i][np\u001b[38;5;241m.\u001b[39margsort(probs[i])][::\u001b[38;5;241m-\u001b[39m\u001b[38;5;241m1\u001b[39m][:\u001b[38;5;241m3\u001b[39m][j][\u001b[38;5;241m0\u001b[39m]\n\u001b[0;32m     13\u001b[0m \u001b[38;5;28mprint\u001b[39m (\u001b[38;5;124mf\u001b[39m\u001b[38;5;124m'\u001b[39m\u001b[38;5;124m  x4, \u001b[39m\u001b[38;5;132;01m{\u001b[39;00mx4\u001b[38;5;132;01m}\u001b[39;00m\u001b[38;5;124m'\u001b[39m)\n",
      "\u001b[1;31mIndexError\u001b[0m: invalid index to scalar variable."
     ]
    }
   ],
   "source": [
    " proc_append_print()"
   ]
  },
  {
   "cell_type": "code",
   "execution_count": 98,
   "metadata": {},
   "outputs": [],
   "source": [
    "def proc_save(level__1, filenamee):\n",
    "    print(\"---------------------------------------------\\FINAL COUNTS:\\n---------------------------------------------\")\n",
    "    print(\"1)\", len(A_test + A_train))\n",
    "    print(\"2)\", len(['Test']*len(A_test) + ['Train']*len(A_train)))\n",
    "    print(\"3)\", len(B_test + B_train))\n",
    "    print(\"4)\", len(testLevels + B_train))\n",
    "    print(\"5)\", len(testLevelss + trainLevelss))\n",
    "    print(\"6)\", int(len(test_new_proobs + train_new_proobs)))\n",
    "    \n",
    "    data = {\n",
    "        'GTIN' : A_test + A_train,\n",
    "        'Source': ['Test']*len(A_test) + ['Train']*len(A_train),\n",
    "        'Actual Level 2' : B_test + B_train,\n",
    "        'Actuals' : testLevels + B_train,\n",
    "        'Predictions' : testLevelss + trainLevelss,\n",
    "        'Scores' : test_new_proobs + train_new_proobs,\n",
    "        'L1 Name' : level__1\n",
    "    }\n",
    "    \n",
    "    df = pd.DataFrame(data)\n",
    "    df = df.merge(pim_gtin_mapped[['GTIN', 'ITM_ID', 'PMY_DPT_CD', 'PMY_DPT_DSC', 'REC_DPT_CD',\n",
    "        'REC_DPT_DSC', 'DPT_CD', 'DPT_DSC', 'COM_CD', 'COM_DSC', 'SUBCOM_CD',\n",
    "        'SUBCOM_DSC', 'VND_ECOM_DSC']], on='GTIN', how='left')\n",
    "    df = df[['ITM_ID', 'GTIN', 'PMY_DPT_CD', 'PMY_DPT_DSC', 'REC_DPT_CD', 'REC_DPT_DSC', 'DPT_CD',\n",
    "        'DPT_DSC', 'COM_CD', 'COM_DSC', 'SUBCOM_CD', 'SUBCOM_DSC',\n",
    "        'VND_ECOM_DSC', 'Source', 'Actual Level 2', 'Actuals', 'Predictions', 'Scores', 'L1 Name']]\n",
    "    df.to_csv(DBFO + filenamee + '.csv', index=False)\n",
    "    print(f\"{filenamee}.csv   --file created successfully\")\n",
    "    return"
   ]
  },
  {
   "cell_type": "code",
   "execution_count": 119,
   "metadata": {
    "application/vnd.databricks.v1+cell": {
     "cellMetadata": {
      "byteLimit": 2048000,
      "rowLimit": 10000
     },
     "inputWidgets": {},
     "nuid": "38b64183-34df-46b6-b1c9-6bbe78776fd9",
     "showTitle": false,
     "title": ""
    }
   },
   "outputs": [],
   "source": [
    "import pandas as pd, numpy as np\n",
    "from sklearn.ensemble import RandomForestClassifier, GradientBoostingClassifier\n",
    "from sklearn.linear_model import LogisticRegression, LogisticRegressionCV, SGDClassifier,  RidgeClassifier\n",
    "from sklearn.feature_extraction.text import TfidfVectorizer\n",
    "from sklearn.model_selection import train_test_split\n",
    "\n",
    "from pycaret.classification import setup\n",
    "from pycaret.classification import compare_models\n",
    "from pycaret.classification import tune_model\n",
    "from sklearn.metrics import ConfusionMatrixDisplay, classification_report, confusion_matrix\n",
    "import re"
   ]
  },
  {
   "cell_type": "code",
   "execution_count": 5,
   "metadata": {
    "application/vnd.databricks.v1+cell": {
     "cellMetadata": {
      "byteLimit": 2048000,
      "rowLimit": 10000
     },
     "inputWidgets": {},
     "nuid": "8a1a5c73-5356-4b00-89a8-c87c775a321a",
     "showTitle": false,
     "title": ""
    }
   },
   "outputs": [],
   "source": [
    "import pandas as pd, numpy as np\n",
    "DBFS = \"/dbfs/FileStore/tables/OFFSHORE/\"\n",
    "DBFO = \"/dbfs/FileStore/tables/OFFSHORE/\"\n",
    "DBFM = \"/dbfs/FileStore/tables/MALLIK/\"\n",
    "DBFR = \"/dbfs/FileStore/tables/OFFSHORE_RESULTS/\"\n",
    "path = 'C:\\\\users\\\\iny2819\\\\kroger\\\\Data\\\\'   \n",
    "DBFS = path\n",
    "DBFO = path\n",
    "DBFM = path\n",
    "DBFR = path\n"
   ]
  },
  {
   "cell_type": "code",
   "execution_count": 101,
   "metadata": {
    "scrolled": false
   },
   "outputs": [
    {
     "name": "stdout",
     "output_type": "stream",
     "text": [
      "syndigo_mapped.shape (259085, 24)\n",
      "<class 'pandas.core.frame.DataFrame'>\n",
      "Int64Index: 259085 entries, 0 to 259084\n",
      "Data columns (total 24 columns):\n",
      " #   Column            Non-Null Count   Dtype  \n",
      "---  ------            --------------   -----  \n",
      " 0   GTIN              259085 non-null  float64\n",
      " 1   Level 1           257953 non-null  object \n",
      " 2   Level 2           256935 non-null  object \n",
      " 3   Level 3           247350 non-null  object \n",
      " 4   Level 4           179389 non-null  object \n",
      " 5   Level 5           45755 non-null   object \n",
      " 6   Level 6           5286 non-null    object \n",
      " 7   Level 7           1542 non-null    object \n",
      " 8   Level 8           179 non-null     object \n",
      " 9   Level 9           2 non-null       object \n",
      " 10  Level 10          0 non-null       object \n",
      " 11  ITM_ID            259069 non-null  float64\n",
      " 12  PMY_DPT_CD        258915 non-null  float64\n",
      " 13  PMY_DPT_DSC       258915 non-null  object \n",
      " 14  REC_DPT_CD        258915 non-null  object \n",
      " 15  REC_DPT_DSC       258915 non-null  object \n",
      " 16  DPT_CD            259069 non-null  float64\n",
      " 17  DPT_DSC           258915 non-null  object \n",
      " 18  COM_CD            259069 non-null  float64\n",
      " 19  COM_DSC           258915 non-null  object \n",
      " 20  SUBCOM_CD         259069 non-null  float64\n",
      " 21  SUBCOM_DSC        258915 non-null  object \n",
      " 22  VND_ECOM_DSC      259062 non-null  object \n",
      " 23  ITEM_SUBCOM_text  259085 non-null  object \n",
      "dtypes: float64(6), object(18)\n",
      "memory usage: 49.4+ MB\n",
      "syndigo_mapped.info() None\n",
      "syndigo_mapped.head()            GTIN           Level 1                         Level 2  \\\n",
      "0  7.962528e+11  Food / Beverages            Dairy & Egg Products   \n",
      "1  9.707324e+10  Food / Beverages            Dairy & Egg Products   \n",
      "2  6.321691e+11   Health & Beauty                   Personal Care   \n",
      "3  8.730000e+10   Health & Beauty                   Personal Care   \n",
      "4  7.639481e+11   Health & Beauty  Vitamins & Dietary Supplements   \n",
      "\n",
      "                     Level 3               Level 4 Level 5 Level 6 Level 7  \\\n",
      "0                    Cheeses                   NaN     NaN     NaN     NaN   \n",
      "1                    Cheeses                   NaN     NaN     NaN     NaN   \n",
      "2                  Hair Care  Treatments & Primers     NaN     NaN     NaN   \n",
      "3                      Soaps         Foam & Liquid     NaN     NaN     NaN   \n",
      "4  Pills & Chews Supplements                   NaN     NaN     NaN     NaN   \n",
      "\n",
      "  Level 8 Level 9  ... REC_DPT_CD    REC_DPT_DSC  DPT_CD        DPT_DSC  \\\n",
      "0     NaN     NaN  ...         49  SPECIALTY CHS    55.0  PKG SPECIALTY   \n",
      "1     NaN     NaN  ...         49  SPECIALTY CHS    55.0  PKG SPECIALTY   \n",
      "2     NaN     NaN  ...         03            HBC    16.0         BEAUTY   \n",
      "3     NaN     NaN  ...         03            HBC    16.0         BEAUTY   \n",
      "4     NaN     NaN  ...         03            HBC     3.0         HEALTH   \n",
      "\n",
      "  COM_CD                         COM_DSC  SUBCOM_CD  \\\n",
      "0  462.0       SPECIALTY CHEESE PRE PACK    46200.0   \n",
      "1  462.0       SPECIALTY CHEESE PRE PACK    46230.0   \n",
      "2  167.0  MULTI-CULTURAL HEALTH & BEAUTY    64200.0   \n",
      "3  162.0     HAND BODY & FACIAL PRODUCTS    16208.0   \n",
      "4  678.0           NF NUTRITION VITAMINS    98346.0   \n",
      "\n",
      "                                    SUBCOM_DSC  \\\n",
      "0  SPECIALTY PPK CHEESE FRESH CHEESE AND DAIRY   \n",
      "1           SPECIALTY PPK CHEESE CHEDDAR&COLBY   \n",
      "2                             ETHNIC HAIR CARE   \n",
      "3                                 FACIAL WIPES   \n",
      "4                            NUT SUPP-MINERALS   \n",
      "\n",
      "                                      VND_ECOM_DSC  \\\n",
      "0                           COTIJA QUESO DEL VALLE   \n",
      "1                        Jim's Cheese Waxed Shapes   \n",
      "2                Ors Osshl Moist Hrtrt C#547 2.5oz   \n",
      "3    Simple Cleansing Wipes Boost Hydralight 25 CT   \n",
      "4  Enzymatic Therapy Ultimate Iron® -- 90 Softgels   \n",
      "\n",
      "                                    ITEM_SUBCOM_text  \n",
      "0  cotija queso del valle specialty ppk cheese fr...  \n",
      "1  jim's cheese waxed shapes specialty ppk cheese...  \n",
      "2  ors osshl moist hrtrt c#547 2.5oz ethnic hair ...  \n",
      "3  simple cleansing wipes boost hydralight 25 ct ...  \n",
      "4  enzymatic therapy ultimate iron® -- 90 softgel...  \n",
      "\n",
      "[5 rows x 24 columns]\n",
      "syndigo_mapped.columns Index(['GTIN', 'Level 1', 'Level 2', 'Level 3', 'Level 4', 'Level 5',\n",
      "       'Level 6', 'Level 7', 'Level 8', 'Level 9', 'Level 10', 'ITM_ID',\n",
      "       'PMY_DPT_CD', 'PMY_DPT_DSC', 'REC_DPT_CD', 'REC_DPT_DSC', 'DPT_CD',\n",
      "       'DPT_DSC', 'COM_CD', 'COM_DSC', 'SUBCOM_CD', 'SUBCOM_DSC',\n",
      "       'VND_ECOM_DSC', 'ITEM_SUBCOM_text'],\n",
      "      dtype='object')\n",
      "syndigo_mapped['Level 1'].value_counts() Food / Beverages                            131593\n",
      "Health & Beauty                              62259\n",
      "Beer / Wine / Spirits                        17992\n",
      "Cleaning & Janitorial                         9084\n",
      "Livestock & Pet Supplies                      6325\n",
      "Kitchen & Bathroom                            5268\n",
      "Home & Venue Decoration                       3924\n",
      "Toys / Games / Hobbies                        3191\n",
      "Gardening & Outdoors                          2208\n",
      "Childcare                                     2111\n",
      "Office Supplies                               1671\n",
      "Electronics                                   1499\n",
      "Apparel                                       1283\n",
      "Lighting & Fans                               1252\n",
      "Tobacco Products                              1252\n",
      "Not classified                                1018\n",
      "Hardware                                       923\n",
      "Arts & Crafts                                  803\n",
      "Automotive                                     778\n",
      "Appliances                                     689\n",
      "Sports & Outdoor Recreation Equipment          684\n",
      "Hospitality Supplies                           496\n",
      "Tools                                          474\n",
      "Books & Videos                                 377\n",
      "Electrical                                     215\n",
      "Heating / Ventilation / Air Conditioning       196\n",
      "Plumbing & Water Service                       172\n",
      "Paints & Coatings                               60\n",
      "Building Supplies                               40\n",
      "Power Sports                                    39\n",
      "Furniture                                       37\n",
      "Marine                                          16\n",
      "Flooring                                        13\n",
      "Material Handling                                6\n",
      "Agricultural Equipment                           3\n",
      "Power Transmission & Motion Control              1\n",
      "Musical Instruments                              1\n",
      "Name: Level 1, dtype: int64\n"
     ]
    }
   ],
   "source": [
    "syndigo_mapped, pim_gtin_mapped = prepare_data_1()"
   ]
  },
  {
   "cell_type": "code",
   "execution_count": 90,
   "metadata": {},
   "outputs": [
    {
     "name": "stdout",
     "output_type": "stream",
     "text": [
      "1. type(subset_df)= <class 'pandas.core.frame.DataFrame'>, len(subset_df)= 496 subset_df.shape (496, 24)  \n",
      " subset_df.head               GTIN               Level 1  \\\n",
      "2039  9.235249e+10  Hospitality Supplies   \n",
      "3212  6.286897e+11  Hospitality Supplies   \n",
      "3256  9.235292e+10  Hospitality Supplies   \n",
      "4331  9.235241e+10  Hospitality Supplies   \n",
      "5587  9.235243e+10  Hospitality Supplies   \n",
      "\n",
      "                                    Level 2 Level 3 Level 4 Level 5 Level 6  \\\n",
      "2039  Paper / Plastic / Foam Plates & Bowls     NaN     NaN     NaN     NaN   \n",
      "3212            Paper / Plastic / Foam Cups     NaN     NaN     NaN     NaN   \n",
      "3256                       Plastic Flatware     NaN     NaN     NaN     NaN   \n",
      "4331                       Plastic Flatware     NaN     NaN     NaN     NaN   \n",
      "5587                       Plastic Flatware     NaN     NaN     NaN     NaN   \n",
      "\n",
      "     Level 7 Level 8 Level 9  ... REC_DPT_CD    REC_DPT_DSC  DPT_CD  \\\n",
      "2039     NaN     NaN     NaN  ...         03            HBC    76.0   \n",
      "3212     NaN     NaN     NaN  ...         17  NATURAL FOODS    63.0   \n",
      "3256     NaN     NaN     NaN  ...         03            HBC    76.0   \n",
      "4331     NaN     NaN     NaN  ...         03            HBC    76.0   \n",
      "5587     NaN     NaN     NaN  ...         03            HBC    76.0   \n",
      "\n",
      "            DPT_DSC COM_CD         COM_DSC  SUBCOM_CD           SUBCOM_DSC  \\\n",
      "2039          CARDS  974.0  PARTY SUPPLIES    96001.0       PARTY SUPPLIES   \n",
      "3212  NF NON-EDIBLE  295.0        NF PAPER    98379.0  NATURAL FOODS PAPER   \n",
      "3256          CARDS  974.0  PARTY SUPPLIES    96001.0       PARTY SUPPLIES   \n",
      "4331          CARDS  235.0  GREETING CARDS    85205.0       PARTY EVERYDAY   \n",
      "5587          CARDS  974.0  PARTY SUPPLIES    96001.0       PARTY SUPPLIES   \n",
      "\n",
      "                                  VND_ECOM_DSC  \\\n",
      "2039                     PLT7 10CT RED PF SENS   \n",
      "3212               Tulip Parchment Baking Cups   \n",
      "3256               AST CUT 32CT BOX CBLT BL SE   \n",
      "4331  Sensations Cutlery Plastic Metalic 24 Ct   \n",
      "5587               AST CUT 32CT BOX C RED SENS   \n",
      "\n",
      "                                       ITEM_SUBCOM_text  \n",
      "2039               plt7 10ct red pf sens party supplies  \n",
      "3212    tulip parchment baking cups natural foods paper  \n",
      "3256         ast cut 32ct box cblt bl se party supplies  \n",
      "4331  sensations cutlery plastic metalic 24 ct party...  \n",
      "5587         ast cut 32ct box c red sens party supplies  \n",
      "\n",
      "[5 rows x 24 columns]\n",
      " series Note Pads & Paper                          1\n",
      "Beverage Carriers                          1\n",
      "Beverage Container Covers                  1\n",
      "Dispensers                                 3\n",
      "Comment Cards                              3\n",
      "Ice Buckets                                4\n",
      "Food & Beverage Condiments                 5\n",
      "Paper / Plastic / Foam Cups Sleeves        5\n",
      "Plastic Flatware                          65\n",
      "Paper / Plastic / Foam Cups              138\n",
      "Paper / Plastic / Foam Plates & Bowls    270\n",
      "Name: Level 2, dtype: int64 \n",
      " type(series)= <class 'pandas.core.series.Series'>, len(series)= 11 \n",
      " series.tolist() [1, 1, 1, 3, 3, 4, 5, 5, 65, 138, 270] \n",
      "2. type(subset_df)= <class 'pandas.core.frame.DataFrame'>, len(subset_df)= 493 subset_df.shape (493, 24)  \n",
      " subset_df.head               GTIN               Level 1  \\\n",
      "2039  9.235249e+10  Hospitality Supplies   \n",
      "3212  6.286897e+11  Hospitality Supplies   \n",
      "3256  9.235292e+10  Hospitality Supplies   \n",
      "4331  9.235241e+10  Hospitality Supplies   \n",
      "5587  9.235243e+10  Hospitality Supplies   \n",
      "\n",
      "                                    Level 2 Level 3 Level 4 Level 5 Level 6  \\\n",
      "2039  Paper / Plastic / Foam Plates & Bowls     NaN     NaN     NaN     NaN   \n",
      "3212            Paper / Plastic / Foam Cups     NaN     NaN     NaN     NaN   \n",
      "3256                       Plastic Flatware     NaN     NaN     NaN     NaN   \n",
      "4331                       Plastic Flatware     NaN     NaN     NaN     NaN   \n",
      "5587                       Plastic Flatware     NaN     NaN     NaN     NaN   \n",
      "\n",
      "     Level 7 Level 8 Level 9  ... REC_DPT_CD    REC_DPT_DSC  DPT_CD  \\\n",
      "2039     NaN     NaN     NaN  ...         03            HBC    76.0   \n",
      "3212     NaN     NaN     NaN  ...         17  NATURAL FOODS    63.0   \n",
      "3256     NaN     NaN     NaN  ...         03            HBC    76.0   \n",
      "4331     NaN     NaN     NaN  ...         03            HBC    76.0   \n",
      "5587     NaN     NaN     NaN  ...         03            HBC    76.0   \n",
      "\n",
      "            DPT_DSC COM_CD         COM_DSC  SUBCOM_CD           SUBCOM_DSC  \\\n",
      "2039          CARDS  974.0  PARTY SUPPLIES    96001.0       PARTY SUPPLIES   \n",
      "3212  NF NON-EDIBLE  295.0        NF PAPER    98379.0  NATURAL FOODS PAPER   \n",
      "3256          CARDS  974.0  PARTY SUPPLIES    96001.0       PARTY SUPPLIES   \n",
      "4331          CARDS  235.0  GREETING CARDS    85205.0       PARTY EVERYDAY   \n",
      "5587          CARDS  974.0  PARTY SUPPLIES    96001.0       PARTY SUPPLIES   \n",
      "\n",
      "                                  VND_ECOM_DSC  \\\n",
      "2039                     PLT7 10CT RED PF SENS   \n",
      "3212               Tulip Parchment Baking Cups   \n",
      "3256               AST CUT 32CT BOX CBLT BL SE   \n",
      "4331  Sensations Cutlery Plastic Metalic 24 Ct   \n",
      "5587               AST CUT 32CT BOX C RED SENS   \n",
      "\n",
      "                                       ITEM_SUBCOM_text  \n",
      "2039               plt7 10ct red pf sens party supplies  \n",
      "3212    tulip parchment baking cups natural foods paper  \n",
      "3256         ast cut 32ct box cblt bl se party supplies  \n",
      "4331  sensations cutlery plastic metalic 24 ct party...  \n",
      "5587         ast cut 32ct box c red sens party supplies  \n",
      "\n",
      "[5 rows x 24 columns]\n"
     ]
    }
   ],
   "source": [
    "\n",
    "#vect = TfidfVectorizer(ngram_range= (1,2), max_features = 100000)\n",
    "#X_subset, y_subset, subset_df =  prepare_data_2(\"Toys / Games / Hobbies\") \n",
    "X_subset, y_subset, subset_df, level2_id_map =  prepare_data_2(\"Hospitality Supplies\")"
   ]
  },
  {
   "cell_type": "code",
   "execution_count": 87,
   "metadata": {},
   "outputs": [
    {
     "name": "stdout",
     "output_type": "stream",
     "text": [
      "Training - \"Hospitality Supplies\"\n",
      "type(preds) <class 'numpy.ndarray'> len(preds) 50 \n",
      " preds[0:10] [0 7 1 1 0 0 1 1 1 0]\n",
      "type(probs) <class 'numpy.ndarray'> len(probs) 50 \n",
      " probs[0:10] [[9.99964569e-01 1.10869811e-05 9.28915670e-06 2.90611540e-06\n",
      "  2.97634138e-06 2.99779565e-06 2.82694203e-06 3.34749880e-06]\n",
      " [6.49287420e-04 8.92135251e-02 4.34854418e-04 1.66365035e-04\n",
      "  1.66066905e-04 1.70142269e-04 1.63521026e-04 9.09036238e-01]\n",
      " [1.47153211e-02 9.70833942e-01 9.53746369e-03 6.93434187e-04\n",
      "  1.12437008e-03 1.08721657e-03 1.20039911e-03 8.07853118e-04]\n",
      " [7.17467419e-05 9.99461348e-01 3.16981222e-05 2.02860547e-05\n",
      "  1.94752005e-05 2.08325893e-05 2.02444738e-05 3.54368357e-04]\n",
      " [9.98290748e-01 1.14870360e-03 2.93146336e-04 5.60808581e-05\n",
      "  5.64360190e-05 5.68049291e-05 5.56012399e-05 4.24790211e-05]\n",
      " [9.99920116e-01 5.08096841e-05 1.03869392e-05 3.37059063e-06\n",
      "  5.80910769e-06 3.40816898e-06 3.38925760e-06 2.71015256e-06]\n",
      " [2.21784669e-01 6.77404486e-01 6.26859837e-02 8.38881982e-03\n",
      "  1.01371978e-02 6.02564974e-03 5.76591245e-03 7.80728152e-03]\n",
      " [9.27966467e-04 9.91792595e-01 1.70338651e-04 9.80291099e-05\n",
      "  1.01507692e-04 9.96457258e-05 9.50629392e-05 6.71485458e-03]\n",
      " [4.29470279e-01 5.67879154e-01 5.45271673e-04 3.87594413e-04\n",
      "  4.09107123e-04 3.98179316e-04 3.98062332e-04 5.12352151e-04]\n",
      " [9.99922241e-01 2.40994005e-05 2.14385775e-05 6.69039269e-06\n",
      "  7.20423188e-06 6.80133623e-06 6.73601209e-06 4.78891667e-06]]\n",
      "type(preds_train) <class 'numpy.ndarray'> len(preds_train) 443 \n",
      " preds_train[0:10] [0 0 0 0 0 2 0 0 0 1] \n",
      "type(probs_train) <class 'numpy.ndarray'> len(probs_train) 443 \n",
      " probs_train[0:10] [[9.99786570e-01 1.18500127e-04 6.59872788e-05 8.13701439e-06\n",
      "  5.81043131e-06 5.41350894e-06 5.33227727e-06 4.24932291e-06]\n",
      " [9.99456668e-01 1.16272700e-04 3.66518668e-04 1.22277061e-05\n",
      "  1.31409954e-05 1.27055773e-05 1.25579312e-05 9.90874202e-06]\n",
      " [9.99879461e-01 4.95795981e-05 2.58046584e-05 9.00762661e-06\n",
      "  9.84962281e-06 9.16399675e-06 9.08253693e-06 8.05136894e-06]\n",
      " [9.99817258e-01 8.56562268e-05 4.50851270e-05 8.62565970e-06\n",
      "  8.20254742e-06 8.69040292e-06 8.58529013e-06 1.78970640e-05]\n",
      " [9.99999641e-01 3.72163641e-08 6.76813834e-08 4.98551956e-08\n",
      "  5.27860958e-08 5.15087386e-08 5.12724615e-08 4.84358742e-08]\n",
      " [4.37454905e-04 3.57933572e-04 9.99090817e-01 3.08554547e-05\n",
      "  2.22896376e-05 2.17552956e-05 2.14236701e-05 1.74709114e-05]\n",
      " [9.99910437e-01 7.24517400e-06 8.64972126e-06 4.43262761e-06\n",
      "  4.44944416e-06 4.46722765e-06 4.36589929e-06 5.59530495e-05]\n",
      " [9.99277518e-01 3.85223695e-04 2.04836224e-04 2.36365267e-05\n",
      "  3.32217530e-05 2.39941285e-05 2.37436145e-05 2.78260202e-05]\n",
      " [9.99971367e-01 9.88291080e-06 6.07406194e-06 2.65060861e-06\n",
      "  2.79408814e-06 2.66968340e-06 2.65235593e-06 1.90977760e-06]\n",
      " [2.52141863e-05 9.99832163e-01 2.23269028e-05 9.32053228e-06\n",
      "  1.90087507e-05 9.45757888e-06 2.17629547e-05 6.07459992e-05]]\n",
      "Done Training - \"Hospitality Supplies\"\n"
     ]
    }
   ],
   "source": [
    "level__1 = \"Hospitality Supplies\"\n",
    "filenamee = \"HOSPITALITY_SUPPLIES\"\n",
    "preds, preds_lrtf, probs, preds_train, probs_train = proc_predict(level__1)\n",
    "   "
   ]
  },
  {
   "cell_type": "code",
   "execution_count": 102,
   "metadata": {},
   "outputs": [
    {
     "name": "stdout",
     "output_type": "stream",
     "text": [
      "---------------------------------------------\\FINAL COUNTS:\n",
      "---------------------------------------------\n",
      "1) 493\n",
      "2) 493\n",
      "3) 493\n",
      "4) 493\n",
      "5) 493\n",
      "6) 493\n",
      "HOSPITALITY_SUPPLIES.csv   --file created successfully\n"
     ]
    }
   ],
   "source": [
    "proc_save(level__1, filenamee) "
   ]
  },
  {
   "cell_type": "markdown",
   "metadata": {},
   "source": [
    "## Wip"
   ]
  },
  {
   "cell_type": "code",
   "execution_count": null,
   "metadata": {},
   "outputs": [],
   "source": [
    " x.dropna().unique()"
   ]
  },
  {
   "cell_type": "code",
   "execution_count": 112,
   "metadata": {},
   "outputs": [
    {
     "data": {
      "text/plain": [
       "array(['Food / Beverages', 'Health & Beauty', 'Beer / Wine / Spirits',\n",
       "       'Kitchen & Bathroom', 'Cleaning & Janitorial',\n",
       "       'Home & Venue Decoration', 'Livestock & Pet Supplies',\n",
       "       'Toys / Games / Hobbies', 'Childcare', 'Tobacco Products',\n",
       "       'Apparel', 'Gardening & Outdoors',\n",
       "       'Sports & Outdoor Recreation Equipment', 'Office Supplies',\n",
       "       'Plumbing & Water Service', 'Lighting & Fans', 'Appliances',\n",
       "       'Electronics', 'Not classified', 'Automotive', 'Tools', 'Hardware',\n",
       "       'Books & Videos', 'Arts & Crafts', 'Electrical',\n",
       "       'Heating / Ventilation / Air Conditioning', 'Hospitality Supplies',\n",
       "       'Furniture', 'Power Sports', 'Power Transmission & Motion Control',\n",
       "       'Marine', 'Flooring', 'Paints & Coatings', 'Building Supplies',\n",
       "       'Musical Instruments', 'Material Handling',\n",
       "       'Agricultural Equipment'], dtype=object)"
      ]
     },
     "execution_count": 112,
     "metadata": {},
     "output_type": "execute_result"
    }
   ],
   "source": [
    "\n",
    "#key = syndigo_mapped['Level 1'].unique()\n",
    "key = unique_no_nan(syndigo_mapped['Level 1'])\n",
    "key\n",
    " "
   ]
  },
  {
   "cell_type": "code",
   "execution_count": 127,
   "metadata": {},
   "outputs": [
    {
     "data": {
      "text/plain": [
       "['Food_Beverages',\n",
       " 'Health_Beauty',\n",
       " 'Beer_Wine_Spirits',\n",
       " 'Kitchen_Bathroom',\n",
       " 'Cleaning_Janitorial',\n",
       " 'Home_Venue_Decoration',\n",
       " 'Livestock_Pet_Supplies',\n",
       " 'Toys_Games_Hobbies',\n",
       " 'Childcare',\n",
       " 'Tobacco_Products',\n",
       " 'Apparel',\n",
       " 'Gardening_Outdoors',\n",
       " 'Sports_Outdoor_Recreation_Equipment',\n",
       " 'Office_Supplies',\n",
       " 'Plumbing_Water_Service',\n",
       " 'Lighting_Fans',\n",
       " 'Appliances',\n",
       " 'Electronics',\n",
       " 'Not_classified',\n",
       " 'Automotive',\n",
       " 'Tools',\n",
       " 'Hardware',\n",
       " 'Books_Videos',\n",
       " 'Arts_Crafts',\n",
       " 'Electrical',\n",
       " 'Heating_Ventilation_Air_Conditioning',\n",
       " 'Hospitality_Supplies',\n",
       " 'Furniture',\n",
       " 'Power_Sports',\n",
       " 'Power_Transmission_Motion_Control',\n",
       " 'Marine',\n",
       " 'Flooring',\n",
       " 'Paints_Coatings',\n",
       " 'Building_Supplies',\n",
       " 'Musical_Instruments',\n",
       " 'Material_Handling',\n",
       " 'Agricultural_Equipment']"
      ]
     },
     "execution_count": 127,
     "metadata": {},
     "output_type": "execute_result"
    }
   ],
   "source": [
    "#val1 = list(map( re.sub('&', ''),  key))\n",
    "#a = map(lambda x : int(x) , list(np.zeros(N)))\n",
    "val1 = list( map(lambda x : re.sub('&|/', '', x), key))\n",
    "#string = re.sub(\"m|n|\\s\", \"#\", string)\n",
    "val1 = list( map(lambda x : re.sub(' +', '_', x), val1))\n",
    "val1"
   ]
  },
  {
   "cell_type": "code",
   "execution_count": 129,
   "metadata": {},
   "outputs": [
    {
     "data": {
      "text/plain": [
       "['food / beverages',\n",
       " 'health & beauty',\n",
       " 'beer / wine / spirits',\n",
       " 'kitchen & bathroom',\n",
       " 'cleaning & janitorial',\n",
       " 'home & venue decoration',\n",
       " 'livestock & pet supplies',\n",
       " 'toys / games / hobbies',\n",
       " 'childcare',\n",
       " 'tobacco products',\n",
       " 'apparel',\n",
       " 'gardening & outdoors',\n",
       " 'sports & outdoor recreation equipment',\n",
       " 'office supplies',\n",
       " 'plumbing & water service',\n",
       " 'lighting & fans',\n",
       " 'appliances',\n",
       " 'electronics',\n",
       " 'not classified',\n",
       " 'automotive',\n",
       " 'tools',\n",
       " 'hardware',\n",
       " 'books & videos',\n",
       " 'arts & crafts',\n",
       " 'electrical',\n",
       " 'heating / ventilation / air conditioning',\n",
       " 'hospitality supplies',\n",
       " 'furniture',\n",
       " 'power sports',\n",
       " 'power transmission & motion control',\n",
       " 'marine',\n",
       " 'flooring',\n",
       " 'paints & coatings',\n",
       " 'building supplies',\n",
       " 'musical instruments',\n",
       " 'material handling',\n",
       " 'agricultural equipment']"
      ]
     },
     "execution_count": 129,
     "metadata": {},
     "output_type": "execute_result"
    }
   ],
   "source": [
    "#values = unique_no_nan(syndigo_mapped['Level 1']).re.sub('&', '')\n",
    "#values = lower(unique_no_nan(syndigo_mapped['Level 1']))\n",
    "values= list(map(str.lower, key))\n",
    "values"
   ]
  },
  {
   "cell_type": "code",
   "execution_count": 21,
   "metadata": {},
   "outputs": [
    {
     "name": "stderr",
     "output_type": "stream",
     "text": [
      "                                                                                                                       "
     ]
    },
    {
     "name": "stdout",
     "output_type": "stream",
     "text": [
      "                                    Model  Accuracy     AUC  Recall   Prec.  \\\n",
      "ridge                    Ridge Classifier    0.7743  0.0000  0.7743  0.7697   \n",
      "svm                   SVM - Linear Kernel    0.7698  0.0000  0.7698  0.7654   \n",
      "et                 Extra Trees Classifier    0.7667  0.7501  0.7667  0.7609   \n",
      "rf               Random Forest Classifier    0.7591  0.7502  0.7591  0.7541   \n",
      "gbc          Gradient Boosting Classifier    0.7497  0.7454  0.7497  0.7540   \n",
      "knn                K Neighbors Classifier    0.7416  0.7256  0.7416  0.7370   \n",
      "dt               Decision Tree Classifier    0.7322  0.6641  0.7322  0.7299   \n",
      "lr                    Logistic Regression    0.7286  0.7516  0.7286  0.7326   \n",
      "lightgbm  Light Gradient Boosting Machine    0.7067  0.7339  0.7067  0.6991   \n",
      "nb                            Naive Bayes    0.6565  0.6301  0.6565  0.6626   \n",
      "ada                  Ada Boost Classifier    0.6234  0.4970  0.6234  0.5346   \n",
      "lda          Linear Discriminant Analysis    0.4935  0.6657  0.4935  0.7375   \n",
      "dummy                    Dummy Classifier    0.3569  0.4000  0.3569  0.1274   \n",
      "qda       Quadratic Discriminant Analysis    0.0282  0.3999  0.0282  0.0035   \n",
      "\n",
      "              F1   Kappa     MCC  TT (Sec)  \n",
      "ridge     0.7612  0.7096  0.7147     1.215  \n",
      "svm       0.7603  0.7076  0.7107     2.184  \n",
      "et        0.7544  0.7000  0.7050     3.269  \n",
      "rf        0.7445  0.6883  0.6954     2.338  \n",
      "gbc       0.7362  0.6749  0.6840    43.689  \n",
      "knn       0.7311  0.6741  0.6757     1.773  \n",
      "dt        0.7243  0.6592  0.6620     1.302  \n",
      "lr        0.7034  0.6402  0.6574     6.776  \n",
      "lightgbm  0.6969  0.6270  0.6292     2.888  \n",
      "nb        0.6551  0.5693  0.5704     1.301  \n",
      "ada       0.5501  0.4793  0.5282     2.439  \n",
      "lda       0.5313  0.3997  0.4265    37.422  \n",
      "dummy     0.1878  0.0000  0.0000     1.018  \n",
      "qda       0.0059 -0.0011 -0.0029     6.160  \n",
      "RidgeClassifier(alpha=1.0, class_weight=None, copy_X=True, fit_intercept=True,\n",
      "                max_iter=None, positive=False, random_state=3760, solver='auto',\n",
      "                tol=0.0001)\n"
     ]
    },
    {
     "name": "stderr",
     "output_type": "stream",
     "text": [
      "\r"
     ]
    }
   ],
   "source": [
    "# conda install -c conda-forge pycaret\n",
    "\n",
    "# setup the dataset\n",
    "#grid = setup(data=X_subset, target= y_subset, html=False, silent=True, verbose=False)\n",
    "grid = setup(data=df3, target= df3.columns[-1], html=False, verbose=False)\n",
    "# evaluate models and compare models\n",
    "best = compare_models()\n",
    "# report the best model\n",
    "print(best)"
   ]
  },
  {
   "cell_type": "code",
   "execution_count": 24,
   "metadata": {},
   "outputs": [
    {
     "name": "stderr",
     "output_type": "stream",
     "text": [
      "\n",
      "Processing:   0%|                                                                                | 0/7 [00:00<?, ?it/s]\u001b[A\n",
      "Processing:  14%|██████████▎                                                             | 1/7 [00:00<00:02,  2.75it/s]\u001b[A"
     ]
    },
    {
     "name": "stdout",
     "output_type": "stream",
     "text": [
      "Fitting 10 folds for each of 200 candidates, totalling 2000 fits\n"
     ]
    },
    {
     "name": "stderr",
     "output_type": "stream",
     "text": [
      "\n",
      "Processing:  43%|█████████████████████████████▌                                       | 3/7 [40:37<1:00:11, 902.81s/it]\u001b[A\n",
      "Processing:  57%|████████████████████████████████████████▌                              | 4/7 [40:38<29:32, 590.74s/it]\u001b[A\n",
      "Processing:  86%|████████████████████████████████████████████████████████████▊          | 6/7 [40:57<05:01, 301.83s/it]\u001b[A\n",
      "Processing: 100%|███████████████████████████████████████████████████████████████████████| 7/7 [41:02<00:00, 224.00s/it]\u001b[A\n",
      "                                                                                                                       \u001b[A"
     ]
    },
    {
     "name": "stdout",
     "output_type": "stream",
     "text": [
      "      Accuracy  AUC  Recall   Prec.      F1   Kappa     MCC\n",
      "Fold                                                       \n",
      "0       0.7723  0.0  0.7723  0.7708  0.7598  0.7098  0.7131\n",
      "1       0.7902  0.0  0.7902  0.7777  0.7777  0.7331  0.7355\n",
      "2       0.7411  0.0  0.7411  0.7254  0.7301  0.6703  0.6724\n",
      "3       0.7758  0.0  0.7758  0.7718  0.7647  0.7114  0.7158\n",
      "4       0.7444  0.0  0.7444  0.7328  0.7279  0.6701  0.6756\n",
      "5       0.7848  0.0  0.7848  0.7654  0.7668  0.7238  0.7277\n",
      "6       0.8027  0.0  0.8027  0.8037  0.7922  0.7481  0.7511\n",
      "7       0.8117  0.0  0.8117  0.7968  0.7986  0.7597  0.7621\n",
      "8       0.8027  0.0  0.8027  0.8076  0.7930  0.7473  0.7520\n",
      "9       0.7713  0.0  0.7713  0.7731  0.7619  0.7072  0.7119\n",
      "Mean    0.7797  0.0  0.7797  0.7725  0.7672  0.7181  0.7217\n",
      "Std     0.0226  0.0  0.0226  0.0258  0.0232  0.0293  0.0290\n"
     ]
    },
    {
     "ename": "NameError",
     "evalue": "name 'best_tune' is not defined",
     "output_type": "error",
     "traceback": [
      "\u001b[1;31m---------------------------------------------------------------------------\u001b[0m",
      "\u001b[1;31mNameError\u001b[0m                                 Traceback (most recent call last)",
      "Cell \u001b[1;32mIn[24], line 4\u001b[0m\n\u001b[0;32m      2\u001b[0m best_yune \u001b[38;5;241m=\u001b[39m tune_model( RidgeClassifier(), n_iter\u001b[38;5;241m=\u001b[39m\u001b[38;5;241m200\u001b[39m, choose_better\u001b[38;5;241m=\u001b[39m\u001b[38;5;28;01mTrue\u001b[39;00m)\n\u001b[0;32m      3\u001b[0m \u001b[38;5;66;03m# report the best model\u001b[39;00m\n\u001b[1;32m----> 4\u001b[0m \u001b[38;5;28mprint\u001b[39m(\u001b[43mbest_tune\u001b[49m)\n",
      "\u001b[1;31mNameError\u001b[0m: name 'best_tune' is not defined"
     ]
    }
   ],
   "source": [
    "# tune model hyperparameters\n",
    "best_yune = tune_model( RidgeClassifier(), n_iter=200, choose_better=True)\n",
    "# report the best model\n",
    "print(best_tune)"
   ]
  },
  {
   "cell_type": "code",
   "execution_count": 25,
   "metadata": {},
   "outputs": [
    {
     "name": "stdout",
     "output_type": "stream",
     "text": [
      "RidgeClassifier(alpha=0.47, class_weight=None, copy_X=True, fit_intercept=True,\n",
      "                max_iter=None, positive=False, random_state=None, solver='auto',\n",
      "                tol=0.0001)\n"
     ]
    }
   ],
   "source": [
    "print(best_yune)"
   ]
  },
  {
   "cell_type": "code",
   "execution_count": 16,
   "metadata": {},
   "outputs": [
    {
     "data": {
      "text/plain": [
       "1    1139\n",
       "0     540\n",
       "5     394\n",
       "3     372\n",
       "6     258\n",
       "7     191\n",
       "4     164\n",
       "8      82\n",
       "2      38\n",
       "9      12\n",
       "Name: Level 2, dtype: int64"
      ]
     },
     "execution_count": 16,
     "metadata": {},
     "output_type": "execute_result"
    }
   ],
   "source": [
    "df_y.value_counts( dropna = False)"
   ]
  },
  {
   "cell_type": "code",
   "execution_count": 27,
   "metadata": {},
   "outputs": [
    {
     "name": "stderr",
     "output_type": "stream",
     "text": [
      "\n",
      "\n",
      "Processing:   0%|                                                                                | 0/7 [00:00<?, ?it/s]\u001b[A\u001b[A\n",
      "\n",
      "                                                                                                                       \u001b[A\u001b[A\r"
     ]
    },
    {
     "name": "stdout",
     "output_type": "stream",
     "text": [
      "Fitting 10 folds for each of 200 candidates, totalling 2000 fits\n"
     ]
    },
    {
     "ename": "ValueError",
     "evalue": "Invalid parameter 'actual_estimator' for estimator LogisticRegressionCV(Cs=10, class_weight='balanced', cv=None, dual=False,\n                     fit_intercept=True, intercept_scaling=1.0, l1_ratios=None,\n                     max_iter=100, multi_class='auto', n_jobs=None,\n                     penalty='l2', random_state=None, refit=True, scoring=None,\n                     solver='lbfgs', tol=0.0001, verbose=0). Valid parameters are: ['Cs', 'class_weight', 'cv', 'dual', 'fit_intercept', 'intercept_scaling', 'l1_ratios', 'max_iter', 'multi_class', 'n_jobs', 'penalty', 'random_state', 'refit', 'scoring', 'solver', 'tol', 'verbose'].",
     "output_type": "error",
     "traceback": [
      "\u001b[1;31m---------------------------------------------------------------------------\u001b[0m",
      "\u001b[1;31m_RemoteTraceback\u001b[0m                          Traceback (most recent call last)",
      "\u001b[1;31m_RemoteTraceback\u001b[0m: \n\"\"\"\nTraceback (most recent call last):\n  File \"C:\\Users\\iny2819\\AppData\\Roaming\\Python\\Python310\\site-packages\\pycaret\\internal\\pipeline.py\", line 379, in set_params\n    result = super().set_params(**kwargs)\n  File \"C:\\Users\\iny2819\\AppData\\Local\\anaconda3\\lib\\site-packages\\sklearn\\pipeline.py\", line 211, in set_params\n    self._set_params(\"steps\", **kwargs)\n  File \"C:\\Users\\iny2819\\AppData\\Local\\anaconda3\\lib\\site-packages\\sklearn\\utils\\metaestimators.py\", line 70, in _set_params\n    super().set_params(**params)\n  File \"C:\\Users\\iny2819\\AppData\\Local\\anaconda3\\lib\\site-packages\\sklearn\\base.py\", line 217, in set_params\n    valid_params[key].set_params(**sub_params)\n  File \"C:\\Users\\iny2819\\AppData\\Local\\anaconda3\\lib\\site-packages\\sklearn\\base.py\", line 205, in set_params\n    raise ValueError(\nValueError: Invalid parameter 'C' for estimator LogisticRegressionCV(Cs=10, class_weight='balanced', cv=None, dual=False,\n                     fit_intercept=True, intercept_scaling=1.0, l1_ratios=None,\n                     max_iter=100, multi_class='auto', n_jobs=None,\n                     penalty='l2', random_state=None, refit=True, scoring=None,\n                     solver='lbfgs', tol=0.0001, verbose=0). Valid parameters are: ['Cs', 'class_weight', 'cv', 'dual', 'fit_intercept', 'intercept_scaling', 'l1_ratios', 'max_iter', 'multi_class', 'n_jobs', 'penalty', 'random_state', 'refit', 'scoring', 'solver', 'tol', 'verbose'].\n\nDuring handling of the above exception, another exception occurred:\n\nTraceback (most recent call last):\n  File \"C:\\Users\\iny2819\\AppData\\Roaming\\Python\\Python310\\site-packages\\joblib\\externals\\loky\\process_executor.py\", line 463, in _process_worker\n    r = call_item()\n  File \"C:\\Users\\iny2819\\AppData\\Roaming\\Python\\Python310\\site-packages\\joblib\\externals\\loky\\process_executor.py\", line 291, in __call__\n    return self.fn(*self.args, **self.kwargs)\n  File \"C:\\Users\\iny2819\\AppData\\Roaming\\Python\\Python310\\site-packages\\joblib\\parallel.py\", line 589, in __call__\n    return [func(*args, **kwargs)\n  File \"C:\\Users\\iny2819\\AppData\\Roaming\\Python\\Python310\\site-packages\\joblib\\parallel.py\", line 589, in <listcomp>\n    return [func(*args, **kwargs)\n  File \"C:\\Users\\iny2819\\AppData\\Local\\anaconda3\\lib\\site-packages\\sklearn\\utils\\parallel.py\", line 123, in __call__\n    return self.function(*args, **kwargs)\n  File \"C:\\Users\\iny2819\\AppData\\Local\\anaconda3\\lib\\site-packages\\sklearn\\model_selection\\_validation.py\", line 674, in _fit_and_score\n    estimator = estimator.set_params(**cloned_parameters)\n  File \"C:\\Users\\iny2819\\AppData\\Roaming\\Python\\Python310\\site-packages\\pycaret\\internal\\pipeline.py\", line 381, in set_params\n    result = self._final_estimator.set_params(**kwargs)\n  File \"C:\\Users\\iny2819\\AppData\\Local\\anaconda3\\lib\\site-packages\\sklearn\\base.py\", line 205, in set_params\n    raise ValueError(\nValueError: Invalid parameter 'actual_estimator' for estimator LogisticRegressionCV(Cs=10, class_weight='balanced', cv=None, dual=False,\n                     fit_intercept=True, intercept_scaling=1.0, l1_ratios=None,\n                     max_iter=100, multi_class='auto', n_jobs=None,\n                     penalty='l2', random_state=None, refit=True, scoring=None,\n                     solver='lbfgs', tol=0.0001, verbose=0). Valid parameters are: ['Cs', 'class_weight', 'cv', 'dual', 'fit_intercept', 'intercept_scaling', 'l1_ratios', 'max_iter', 'multi_class', 'n_jobs', 'penalty', 'random_state', 'refit', 'scoring', 'solver', 'tol', 'verbose'].\n\"\"\"",
      "\nThe above exception was the direct cause of the following exception:\n",
      "\u001b[1;31mValueError\u001b[0m                                Traceback (most recent call last)",
      "Cell \u001b[1;32mIn[27], line 2\u001b[0m\n\u001b[0;32m      1\u001b[0m \u001b[38;5;66;03m# tune model hyperparameters\u001b[39;00m\n\u001b[1;32m----> 2\u001b[0m best_tune \u001b[38;5;241m=\u001b[39m \u001b[43mtune_model\u001b[49m\u001b[43m(\u001b[49m\u001b[43m \u001b[49m\u001b[43mLogisticRegressionCV\u001b[49m\u001b[43m(\u001b[49m\u001b[43m)\u001b[49m\u001b[43m,\u001b[49m\u001b[43m \u001b[49m\u001b[43mn_iter\u001b[49m\u001b[38;5;241;43m=\u001b[39;49m\u001b[38;5;241;43m200\u001b[39;49m\u001b[43m,\u001b[49m\u001b[43m \u001b[49m\u001b[43mchoose_better\u001b[49m\u001b[38;5;241;43m=\u001b[39;49m\u001b[38;5;28;43;01mTrue\u001b[39;49;00m\u001b[43m)\u001b[49m\n\u001b[0;32m      3\u001b[0m \u001b[38;5;66;03m# report the best model\u001b[39;00m\n\u001b[0;32m      4\u001b[0m \u001b[38;5;28mprint\u001b[39m(best_tune)\n",
      "File \u001b[1;32m~\\AppData\\Roaming\\Python\\Python310\\site-packages\\pycaret\\utils\\generic.py:965\u001b[0m, in \u001b[0;36mcheck_if_global_is_not_none.<locals>.decorator.<locals>.wrapper\u001b[1;34m(*args, **kwargs)\u001b[0m\n\u001b[0;32m    963\u001b[0m     \u001b[38;5;28;01mif\u001b[39;00m globals_d[name] \u001b[38;5;129;01mis\u001b[39;00m \u001b[38;5;28;01mNone\u001b[39;00m:\n\u001b[0;32m    964\u001b[0m         \u001b[38;5;28;01mraise\u001b[39;00m \u001b[38;5;167;01mValueError\u001b[39;00m(message)\n\u001b[1;32m--> 965\u001b[0m \u001b[38;5;28;01mreturn\u001b[39;00m func(\u001b[38;5;241m*\u001b[39margs, \u001b[38;5;241m*\u001b[39m\u001b[38;5;241m*\u001b[39mkwargs)\n",
      "File \u001b[1;32m~\\AppData\\Roaming\\Python\\Python310\\site-packages\\pycaret\\classification\\functional.py:1216\u001b[0m, in \u001b[0;36mtune_model\u001b[1;34m(estimator, fold, round, n_iter, custom_grid, optimize, custom_scorer, search_library, search_algorithm, early_stopping, early_stopping_max_iters, choose_better, fit_kwargs, groups, return_tuner, verbose, tuner_verbose, return_train_score, **kwargs)\u001b[0m\n\u001b[0;32m   1025\u001b[0m \u001b[38;5;129m@check_if_global_is_not_none\u001b[39m(\u001b[38;5;28mglobals\u001b[39m(), _CURRENT_EXPERIMENT_DECORATOR_DICT)\n\u001b[0;32m   1026\u001b[0m \u001b[38;5;28;01mdef\u001b[39;00m \u001b[38;5;21mtune_model\u001b[39m(\n\u001b[0;32m   1027\u001b[0m     estimator,\n\u001b[1;32m   (...)\u001b[0m\n\u001b[0;32m   1045\u001b[0m     \u001b[38;5;241m*\u001b[39m\u001b[38;5;241m*\u001b[39mkwargs,\n\u001b[0;32m   1046\u001b[0m ) \u001b[38;5;241m-\u001b[39m\u001b[38;5;241m>\u001b[39m Any:\n\u001b[0;32m   1047\u001b[0m     \u001b[38;5;124;03m\"\"\"\u001b[39;00m\n\u001b[0;32m   1048\u001b[0m \u001b[38;5;124;03m    This function tunes the hyperparameters of a given estimator. The output of\u001b[39;00m\n\u001b[0;32m   1049\u001b[0m \u001b[38;5;124;03m    this function is a score grid with CV scores by fold of the best selected\u001b[39;00m\n\u001b[1;32m   (...)\u001b[0m\n\u001b[0;32m   1213\u001b[0m \n\u001b[0;32m   1214\u001b[0m \u001b[38;5;124;03m    \"\"\"\u001b[39;00m\n\u001b[1;32m-> 1216\u001b[0m     \u001b[38;5;28;01mreturn\u001b[39;00m _CURRENT_EXPERIMENT\u001b[38;5;241m.\u001b[39mtune_model(\n\u001b[0;32m   1217\u001b[0m         estimator\u001b[38;5;241m=\u001b[39mestimator,\n\u001b[0;32m   1218\u001b[0m         fold\u001b[38;5;241m=\u001b[39mfold,\n\u001b[0;32m   1219\u001b[0m         \u001b[38;5;28mround\u001b[39m\u001b[38;5;241m=\u001b[39m\u001b[38;5;28mround\u001b[39m,\n\u001b[0;32m   1220\u001b[0m         n_iter\u001b[38;5;241m=\u001b[39mn_iter,\n\u001b[0;32m   1221\u001b[0m         custom_grid\u001b[38;5;241m=\u001b[39mcustom_grid,\n\u001b[0;32m   1222\u001b[0m         optimize\u001b[38;5;241m=\u001b[39moptimize,\n\u001b[0;32m   1223\u001b[0m         custom_scorer\u001b[38;5;241m=\u001b[39mcustom_scorer,\n\u001b[0;32m   1224\u001b[0m         search_library\u001b[38;5;241m=\u001b[39msearch_library,\n\u001b[0;32m   1225\u001b[0m         search_algorithm\u001b[38;5;241m=\u001b[39msearch_algorithm,\n\u001b[0;32m   1226\u001b[0m         early_stopping\u001b[38;5;241m=\u001b[39mearly_stopping,\n\u001b[0;32m   1227\u001b[0m         early_stopping_max_iters\u001b[38;5;241m=\u001b[39mearly_stopping_max_iters,\n\u001b[0;32m   1228\u001b[0m         choose_better\u001b[38;5;241m=\u001b[39mchoose_better,\n\u001b[0;32m   1229\u001b[0m         fit_kwargs\u001b[38;5;241m=\u001b[39mfit_kwargs,\n\u001b[0;32m   1230\u001b[0m         groups\u001b[38;5;241m=\u001b[39mgroups,\n\u001b[0;32m   1231\u001b[0m         return_tuner\u001b[38;5;241m=\u001b[39mreturn_tuner,\n\u001b[0;32m   1232\u001b[0m         verbose\u001b[38;5;241m=\u001b[39mverbose,\n\u001b[0;32m   1233\u001b[0m         tuner_verbose\u001b[38;5;241m=\u001b[39mtuner_verbose,\n\u001b[0;32m   1234\u001b[0m         return_train_score\u001b[38;5;241m=\u001b[39mreturn_train_score,\n\u001b[0;32m   1235\u001b[0m         \u001b[38;5;241m*\u001b[39m\u001b[38;5;241m*\u001b[39mkwargs,\n\u001b[0;32m   1236\u001b[0m     )\n",
      "File \u001b[1;32m~\\AppData\\Roaming\\Python\\Python310\\site-packages\\pycaret\\classification\\oop.py:1564\u001b[0m, in \u001b[0;36mClassificationExperiment.tune_model\u001b[1;34m(self, estimator, fold, round, n_iter, custom_grid, optimize, custom_scorer, search_library, search_algorithm, early_stopping, early_stopping_max_iters, choose_better, fit_kwargs, groups, return_tuner, verbose, tuner_verbose, return_train_score, **kwargs)\u001b[0m\n\u001b[0;32m   1373\u001b[0m \u001b[38;5;28;01mdef\u001b[39;00m \u001b[38;5;21mtune_model\u001b[39m(\n\u001b[0;32m   1374\u001b[0m     \u001b[38;5;28mself\u001b[39m,\n\u001b[0;32m   1375\u001b[0m     estimator,\n\u001b[1;32m   (...)\u001b[0m\n\u001b[0;32m   1393\u001b[0m     \u001b[38;5;241m*\u001b[39m\u001b[38;5;241m*\u001b[39mkwargs,\n\u001b[0;32m   1394\u001b[0m ) \u001b[38;5;241m-\u001b[39m\u001b[38;5;241m>\u001b[39m Any:\n\u001b[0;32m   1395\u001b[0m     \u001b[38;5;124;03m\"\"\"\u001b[39;00m\n\u001b[0;32m   1396\u001b[0m \u001b[38;5;124;03m    This function tunes the hyperparameters of a given estimator. The output of\u001b[39;00m\n\u001b[0;32m   1397\u001b[0m \u001b[38;5;124;03m    this function is a score grid with CV scores by fold of the best selected\u001b[39;00m\n\u001b[1;32m   (...)\u001b[0m\n\u001b[0;32m   1561\u001b[0m \n\u001b[0;32m   1562\u001b[0m \u001b[38;5;124;03m    \"\"\"\u001b[39;00m\n\u001b[1;32m-> 1564\u001b[0m     \u001b[38;5;28;01mreturn\u001b[39;00m \u001b[38;5;28msuper\u001b[39m()\u001b[38;5;241m.\u001b[39mtune_model(\n\u001b[0;32m   1565\u001b[0m         estimator\u001b[38;5;241m=\u001b[39mestimator,\n\u001b[0;32m   1566\u001b[0m         fold\u001b[38;5;241m=\u001b[39mfold,\n\u001b[0;32m   1567\u001b[0m         \u001b[38;5;28mround\u001b[39m\u001b[38;5;241m=\u001b[39m\u001b[38;5;28mround\u001b[39m,\n\u001b[0;32m   1568\u001b[0m         n_iter\u001b[38;5;241m=\u001b[39mn_iter,\n\u001b[0;32m   1569\u001b[0m         custom_grid\u001b[38;5;241m=\u001b[39mcustom_grid,\n\u001b[0;32m   1570\u001b[0m         optimize\u001b[38;5;241m=\u001b[39moptimize,\n\u001b[0;32m   1571\u001b[0m         custom_scorer\u001b[38;5;241m=\u001b[39mcustom_scorer,\n\u001b[0;32m   1572\u001b[0m         search_library\u001b[38;5;241m=\u001b[39msearch_library,\n\u001b[0;32m   1573\u001b[0m         search_algorithm\u001b[38;5;241m=\u001b[39msearch_algorithm,\n\u001b[0;32m   1574\u001b[0m         early_stopping\u001b[38;5;241m=\u001b[39mearly_stopping,\n\u001b[0;32m   1575\u001b[0m         early_stopping_max_iters\u001b[38;5;241m=\u001b[39mearly_stopping_max_iters,\n\u001b[0;32m   1576\u001b[0m         choose_better\u001b[38;5;241m=\u001b[39mchoose_better,\n\u001b[0;32m   1577\u001b[0m         fit_kwargs\u001b[38;5;241m=\u001b[39mfit_kwargs,\n\u001b[0;32m   1578\u001b[0m         groups\u001b[38;5;241m=\u001b[39mgroups,\n\u001b[0;32m   1579\u001b[0m         return_tuner\u001b[38;5;241m=\u001b[39mreturn_tuner,\n\u001b[0;32m   1580\u001b[0m         verbose\u001b[38;5;241m=\u001b[39mverbose,\n\u001b[0;32m   1581\u001b[0m         tuner_verbose\u001b[38;5;241m=\u001b[39mtuner_verbose,\n\u001b[0;32m   1582\u001b[0m         return_train_score\u001b[38;5;241m=\u001b[39mreturn_train_score,\n\u001b[0;32m   1583\u001b[0m         \u001b[38;5;241m*\u001b[39m\u001b[38;5;241m*\u001b[39mkwargs,\n\u001b[0;32m   1584\u001b[0m     )\n",
      "File \u001b[1;32m~\\AppData\\Roaming\\Python\\Python310\\site-packages\\pycaret\\internal\\pycaret_experiment\\supervised_experiment.py:2655\u001b[0m, in \u001b[0;36m_SupervisedExperiment.tune_model\u001b[1;34m(self, estimator, fold, round, n_iter, custom_grid, optimize, custom_scorer, search_library, search_algorithm, early_stopping, early_stopping_max_iters, choose_better, fit_kwargs, groups, return_tuner, verbose, tuner_verbose, return_train_score, **kwargs)\u001b[0m\n\u001b[0;32m   2647\u001b[0m     \u001b[38;5;28;01mwith\u001b[39;00m patch(\n\u001b[0;32m   2648\u001b[0m         \u001b[38;5;124m\"\u001b[39m\u001b[38;5;124msklearn.model_selection._search.sample_without_replacement\u001b[39m\u001b[38;5;124m\"\u001b[39m,\n\u001b[0;32m   2649\u001b[0m         pycaret\u001b[38;5;241m.\u001b[39minternal\u001b[38;5;241m.\u001b[39mpatches\u001b[38;5;241m.\u001b[39msklearn\u001b[38;5;241m.\u001b[39m_mp_sample_without_replacement,\n\u001b[0;32m   2650\u001b[0m     ):\n\u001b[0;32m   2651\u001b[0m         \u001b[38;5;28;01mwith\u001b[39;00m patch(\n\u001b[0;32m   2652\u001b[0m             \u001b[38;5;124m\"\u001b[39m\u001b[38;5;124msklearn.model_selection._search.ParameterGrid.__getitem__\u001b[39m\u001b[38;5;124m\"\u001b[39m,\n\u001b[0;32m   2653\u001b[0m             pycaret\u001b[38;5;241m.\u001b[39minternal\u001b[38;5;241m.\u001b[39mpatches\u001b[38;5;241m.\u001b[39msklearn\u001b[38;5;241m.\u001b[39m_mp_ParameterGrid_getitem,\n\u001b[0;32m   2654\u001b[0m         ):\n\u001b[1;32m-> 2655\u001b[0m             model_grid\u001b[38;5;241m.\u001b[39mfit(data_X, data_y, groups\u001b[38;5;241m=\u001b[39mgroups, \u001b[38;5;241m*\u001b[39m\u001b[38;5;241m*\u001b[39mfit_kwargs)\n\u001b[0;32m   2656\u001b[0m \u001b[38;5;28;01melse\u001b[39;00m:\n\u001b[0;32m   2657\u001b[0m     model_grid\u001b[38;5;241m.\u001b[39mfit(data_X, data_y, groups\u001b[38;5;241m=\u001b[39mgroups, \u001b[38;5;241m*\u001b[39m\u001b[38;5;241m*\u001b[39mfit_kwargs)\n",
      "File \u001b[1;32m~\\AppData\\Local\\anaconda3\\lib\\site-packages\\sklearn\\model_selection\\_search.py:874\u001b[0m, in \u001b[0;36mBaseSearchCV.fit\u001b[1;34m(self, X, y, groups, **fit_params)\u001b[0m\n\u001b[0;32m    868\u001b[0m     results \u001b[38;5;241m=\u001b[39m \u001b[38;5;28mself\u001b[39m\u001b[38;5;241m.\u001b[39m_format_results(\n\u001b[0;32m    869\u001b[0m         all_candidate_params, n_splits, all_out, all_more_results\n\u001b[0;32m    870\u001b[0m     )\n\u001b[0;32m    872\u001b[0m     \u001b[38;5;28;01mreturn\u001b[39;00m results\n\u001b[1;32m--> 874\u001b[0m \u001b[38;5;28;43mself\u001b[39;49m\u001b[38;5;241;43m.\u001b[39;49m\u001b[43m_run_search\u001b[49m\u001b[43m(\u001b[49m\u001b[43mevaluate_candidates\u001b[49m\u001b[43m)\u001b[49m\n\u001b[0;32m    876\u001b[0m \u001b[38;5;66;03m# multimetric is determined here because in the case of a callable\u001b[39;00m\n\u001b[0;32m    877\u001b[0m \u001b[38;5;66;03m# self.scoring the return type is only known after calling\u001b[39;00m\n\u001b[0;32m    878\u001b[0m first_test_score \u001b[38;5;241m=\u001b[39m all_out[\u001b[38;5;241m0\u001b[39m][\u001b[38;5;124m\"\u001b[39m\u001b[38;5;124mtest_scores\u001b[39m\u001b[38;5;124m\"\u001b[39m]\n",
      "File \u001b[1;32m~\\AppData\\Local\\anaconda3\\lib\\site-packages\\sklearn\\model_selection\\_search.py:1768\u001b[0m, in \u001b[0;36mRandomizedSearchCV._run_search\u001b[1;34m(self, evaluate_candidates)\u001b[0m\n\u001b[0;32m   1766\u001b[0m \u001b[38;5;28;01mdef\u001b[39;00m \u001b[38;5;21m_run_search\u001b[39m(\u001b[38;5;28mself\u001b[39m, evaluate_candidates):\n\u001b[0;32m   1767\u001b[0m     \u001b[38;5;124;03m\"\"\"Search n_iter candidates from param_distributions\"\"\"\u001b[39;00m\n\u001b[1;32m-> 1768\u001b[0m     \u001b[43mevaluate_candidates\u001b[49m\u001b[43m(\u001b[49m\n\u001b[0;32m   1769\u001b[0m \u001b[43m        \u001b[49m\u001b[43mParameterSampler\u001b[49m\u001b[43m(\u001b[49m\n\u001b[0;32m   1770\u001b[0m \u001b[43m            \u001b[49m\u001b[38;5;28;43mself\u001b[39;49m\u001b[38;5;241;43m.\u001b[39;49m\u001b[43mparam_distributions\u001b[49m\u001b[43m,\u001b[49m\u001b[43m \u001b[49m\u001b[38;5;28;43mself\u001b[39;49m\u001b[38;5;241;43m.\u001b[39;49m\u001b[43mn_iter\u001b[49m\u001b[43m,\u001b[49m\u001b[43m \u001b[49m\u001b[43mrandom_state\u001b[49m\u001b[38;5;241;43m=\u001b[39;49m\u001b[38;5;28;43mself\u001b[39;49m\u001b[38;5;241;43m.\u001b[39;49m\u001b[43mrandom_state\u001b[49m\n\u001b[0;32m   1771\u001b[0m \u001b[43m        \u001b[49m\u001b[43m)\u001b[49m\n\u001b[0;32m   1772\u001b[0m \u001b[43m    \u001b[49m\u001b[43m)\u001b[49m\n",
      "File \u001b[1;32m~\\AppData\\Local\\anaconda3\\lib\\site-packages\\sklearn\\model_selection\\_search.py:821\u001b[0m, in \u001b[0;36mBaseSearchCV.fit.<locals>.evaluate_candidates\u001b[1;34m(candidate_params, cv, more_results)\u001b[0m\n\u001b[0;32m    813\u001b[0m \u001b[38;5;28;01mif\u001b[39;00m \u001b[38;5;28mself\u001b[39m\u001b[38;5;241m.\u001b[39mverbose \u001b[38;5;241m>\u001b[39m \u001b[38;5;241m0\u001b[39m:\n\u001b[0;32m    814\u001b[0m     \u001b[38;5;28mprint\u001b[39m(\n\u001b[0;32m    815\u001b[0m         \u001b[38;5;124m\"\u001b[39m\u001b[38;5;124mFitting \u001b[39m\u001b[38;5;132;01m{0}\u001b[39;00m\u001b[38;5;124m folds for each of \u001b[39m\u001b[38;5;132;01m{1}\u001b[39;00m\u001b[38;5;124m candidates,\u001b[39m\u001b[38;5;124m\"\u001b[39m\n\u001b[0;32m    816\u001b[0m         \u001b[38;5;124m\"\u001b[39m\u001b[38;5;124m totalling \u001b[39m\u001b[38;5;132;01m{2}\u001b[39;00m\u001b[38;5;124m fits\u001b[39m\u001b[38;5;124m\"\u001b[39m\u001b[38;5;241m.\u001b[39mformat(\n\u001b[0;32m    817\u001b[0m             n_splits, n_candidates, n_candidates \u001b[38;5;241m*\u001b[39m n_splits\n\u001b[0;32m    818\u001b[0m         )\n\u001b[0;32m    819\u001b[0m     )\n\u001b[1;32m--> 821\u001b[0m out \u001b[38;5;241m=\u001b[39m \u001b[43mparallel\u001b[49m\u001b[43m(\u001b[49m\n\u001b[0;32m    822\u001b[0m \u001b[43m    \u001b[49m\u001b[43mdelayed\u001b[49m\u001b[43m(\u001b[49m\u001b[43m_fit_and_score\u001b[49m\u001b[43m)\u001b[49m\u001b[43m(\u001b[49m\n\u001b[0;32m    823\u001b[0m \u001b[43m        \u001b[49m\u001b[43mclone\u001b[49m\u001b[43m(\u001b[49m\u001b[43mbase_estimator\u001b[49m\u001b[43m)\u001b[49m\u001b[43m,\u001b[49m\n\u001b[0;32m    824\u001b[0m \u001b[43m        \u001b[49m\u001b[43mX\u001b[49m\u001b[43m,\u001b[49m\n\u001b[0;32m    825\u001b[0m \u001b[43m        \u001b[49m\u001b[43my\u001b[49m\u001b[43m,\u001b[49m\n\u001b[0;32m    826\u001b[0m \u001b[43m        \u001b[49m\u001b[43mtrain\u001b[49m\u001b[38;5;241;43m=\u001b[39;49m\u001b[43mtrain\u001b[49m\u001b[43m,\u001b[49m\n\u001b[0;32m    827\u001b[0m \u001b[43m        \u001b[49m\u001b[43mtest\u001b[49m\u001b[38;5;241;43m=\u001b[39;49m\u001b[43mtest\u001b[49m\u001b[43m,\u001b[49m\n\u001b[0;32m    828\u001b[0m \u001b[43m        \u001b[49m\u001b[43mparameters\u001b[49m\u001b[38;5;241;43m=\u001b[39;49m\u001b[43mparameters\u001b[49m\u001b[43m,\u001b[49m\n\u001b[0;32m    829\u001b[0m \u001b[43m        \u001b[49m\u001b[43msplit_progress\u001b[49m\u001b[38;5;241;43m=\u001b[39;49m\u001b[43m(\u001b[49m\u001b[43msplit_idx\u001b[49m\u001b[43m,\u001b[49m\u001b[43m \u001b[49m\u001b[43mn_splits\u001b[49m\u001b[43m)\u001b[49m\u001b[43m,\u001b[49m\n\u001b[0;32m    830\u001b[0m \u001b[43m        \u001b[49m\u001b[43mcandidate_progress\u001b[49m\u001b[38;5;241;43m=\u001b[39;49m\u001b[43m(\u001b[49m\u001b[43mcand_idx\u001b[49m\u001b[43m,\u001b[49m\u001b[43m \u001b[49m\u001b[43mn_candidates\u001b[49m\u001b[43m)\u001b[49m\u001b[43m,\u001b[49m\n\u001b[0;32m    831\u001b[0m \u001b[43m        \u001b[49m\u001b[38;5;241;43m*\u001b[39;49m\u001b[38;5;241;43m*\u001b[39;49m\u001b[43mfit_and_score_kwargs\u001b[49m\u001b[43m,\u001b[49m\n\u001b[0;32m    832\u001b[0m \u001b[43m    \u001b[49m\u001b[43m)\u001b[49m\n\u001b[0;32m    833\u001b[0m \u001b[43m    \u001b[49m\u001b[38;5;28;43;01mfor\u001b[39;49;00m\u001b[43m \u001b[49m\u001b[43m(\u001b[49m\u001b[43mcand_idx\u001b[49m\u001b[43m,\u001b[49m\u001b[43m \u001b[49m\u001b[43mparameters\u001b[49m\u001b[43m)\u001b[49m\u001b[43m,\u001b[49m\u001b[43m \u001b[49m\u001b[43m(\u001b[49m\u001b[43msplit_idx\u001b[49m\u001b[43m,\u001b[49m\u001b[43m \u001b[49m\u001b[43m(\u001b[49m\u001b[43mtrain\u001b[49m\u001b[43m,\u001b[49m\u001b[43m \u001b[49m\u001b[43mtest\u001b[49m\u001b[43m)\u001b[49m\u001b[43m)\u001b[49m\u001b[43m \u001b[49m\u001b[38;5;129;43;01min\u001b[39;49;00m\u001b[43m \u001b[49m\u001b[43mproduct\u001b[49m\u001b[43m(\u001b[49m\n\u001b[0;32m    834\u001b[0m \u001b[43m        \u001b[49m\u001b[38;5;28;43menumerate\u001b[39;49m\u001b[43m(\u001b[49m\u001b[43mcandidate_params\u001b[49m\u001b[43m)\u001b[49m\u001b[43m,\u001b[49m\u001b[43m \u001b[49m\u001b[38;5;28;43menumerate\u001b[39;49m\u001b[43m(\u001b[49m\u001b[43mcv\u001b[49m\u001b[38;5;241;43m.\u001b[39;49m\u001b[43msplit\u001b[49m\u001b[43m(\u001b[49m\u001b[43mX\u001b[49m\u001b[43m,\u001b[49m\u001b[43m \u001b[49m\u001b[43my\u001b[49m\u001b[43m,\u001b[49m\u001b[43m \u001b[49m\u001b[43mgroups\u001b[49m\u001b[43m)\u001b[49m\u001b[43m)\u001b[49m\n\u001b[0;32m    835\u001b[0m \u001b[43m    \u001b[49m\u001b[43m)\u001b[49m\n\u001b[0;32m    836\u001b[0m \u001b[43m\u001b[49m\u001b[43m)\u001b[49m\n\u001b[0;32m    838\u001b[0m \u001b[38;5;28;01mif\u001b[39;00m \u001b[38;5;28mlen\u001b[39m(out) \u001b[38;5;241m<\u001b[39m \u001b[38;5;241m1\u001b[39m:\n\u001b[0;32m    839\u001b[0m     \u001b[38;5;28;01mraise\u001b[39;00m \u001b[38;5;167;01mValueError\u001b[39;00m(\n\u001b[0;32m    840\u001b[0m         \u001b[38;5;124m\"\u001b[39m\u001b[38;5;124mNo fits were performed. \u001b[39m\u001b[38;5;124m\"\u001b[39m\n\u001b[0;32m    841\u001b[0m         \u001b[38;5;124m\"\u001b[39m\u001b[38;5;124mWas the CV iterator empty? \u001b[39m\u001b[38;5;124m\"\u001b[39m\n\u001b[0;32m    842\u001b[0m         \u001b[38;5;124m\"\u001b[39m\u001b[38;5;124mWere there no candidates?\u001b[39m\u001b[38;5;124m\"\u001b[39m\n\u001b[0;32m    843\u001b[0m     )\n",
      "File \u001b[1;32m~\\AppData\\Local\\anaconda3\\lib\\site-packages\\sklearn\\utils\\parallel.py:63\u001b[0m, in \u001b[0;36mParallel.__call__\u001b[1;34m(self, iterable)\u001b[0m\n\u001b[0;32m     58\u001b[0m config \u001b[38;5;241m=\u001b[39m get_config()\n\u001b[0;32m     59\u001b[0m iterable_with_config \u001b[38;5;241m=\u001b[39m (\n\u001b[0;32m     60\u001b[0m     (_with_config(delayed_func, config), args, kwargs)\n\u001b[0;32m     61\u001b[0m     \u001b[38;5;28;01mfor\u001b[39;00m delayed_func, args, kwargs \u001b[38;5;129;01min\u001b[39;00m iterable\n\u001b[0;32m     62\u001b[0m )\n\u001b[1;32m---> 63\u001b[0m \u001b[38;5;28;01mreturn\u001b[39;00m \u001b[38;5;28;43msuper\u001b[39;49m\u001b[43m(\u001b[49m\u001b[43m)\u001b[49m\u001b[38;5;241;43m.\u001b[39;49m\u001b[38;5;21;43m__call__\u001b[39;49m\u001b[43m(\u001b[49m\u001b[43miterable_with_config\u001b[49m\u001b[43m)\u001b[49m\n",
      "File \u001b[1;32m~\\AppData\\Roaming\\Python\\Python310\\site-packages\\joblib\\parallel.py:1952\u001b[0m, in \u001b[0;36mParallel.__call__\u001b[1;34m(self, iterable)\u001b[0m\n\u001b[0;32m   1946\u001b[0m \u001b[38;5;66;03m# The first item from the output is blank, but it makes the interpreter\u001b[39;00m\n\u001b[0;32m   1947\u001b[0m \u001b[38;5;66;03m# progress until it enters the Try/Except block of the generator and\u001b[39;00m\n\u001b[0;32m   1948\u001b[0m \u001b[38;5;66;03m# reach the first `yield` statement. This starts the aynchronous\u001b[39;00m\n\u001b[0;32m   1949\u001b[0m \u001b[38;5;66;03m# dispatch of the tasks to the workers.\u001b[39;00m\n\u001b[0;32m   1950\u001b[0m \u001b[38;5;28mnext\u001b[39m(output)\n\u001b[1;32m-> 1952\u001b[0m \u001b[38;5;28;01mreturn\u001b[39;00m output \u001b[38;5;28;01mif\u001b[39;00m \u001b[38;5;28mself\u001b[39m\u001b[38;5;241m.\u001b[39mreturn_generator \u001b[38;5;28;01melse\u001b[39;00m \u001b[38;5;28;43mlist\u001b[39;49m\u001b[43m(\u001b[49m\u001b[43moutput\u001b[49m\u001b[43m)\u001b[49m\n",
      "File \u001b[1;32m~\\AppData\\Roaming\\Python\\Python310\\site-packages\\joblib\\parallel.py:1595\u001b[0m, in \u001b[0;36mParallel._get_outputs\u001b[1;34m(self, iterator, pre_dispatch)\u001b[0m\n\u001b[0;32m   1592\u001b[0m     \u001b[38;5;28;01myield\u001b[39;00m\n\u001b[0;32m   1594\u001b[0m     \u001b[38;5;28;01mwith\u001b[39;00m \u001b[38;5;28mself\u001b[39m\u001b[38;5;241m.\u001b[39m_backend\u001b[38;5;241m.\u001b[39mretrieval_context():\n\u001b[1;32m-> 1595\u001b[0m         \u001b[38;5;28;01myield from\u001b[39;00m \u001b[38;5;28mself\u001b[39m\u001b[38;5;241m.\u001b[39m_retrieve()\n\u001b[0;32m   1597\u001b[0m \u001b[38;5;28;01mexcept\u001b[39;00m \u001b[38;5;167;01mGeneratorExit\u001b[39;00m:\n\u001b[0;32m   1598\u001b[0m     \u001b[38;5;66;03m# The generator has been garbage collected before being fully\u001b[39;00m\n\u001b[0;32m   1599\u001b[0m     \u001b[38;5;66;03m# consumed. This aborts the remaining tasks if possible and warn\u001b[39;00m\n\u001b[0;32m   1600\u001b[0m     \u001b[38;5;66;03m# the user if necessary.\u001b[39;00m\n\u001b[0;32m   1601\u001b[0m     \u001b[38;5;28mself\u001b[39m\u001b[38;5;241m.\u001b[39m_exception \u001b[38;5;241m=\u001b[39m \u001b[38;5;28;01mTrue\u001b[39;00m\n",
      "File \u001b[1;32m~\\AppData\\Roaming\\Python\\Python310\\site-packages\\joblib\\parallel.py:1699\u001b[0m, in \u001b[0;36mParallel._retrieve\u001b[1;34m(self)\u001b[0m\n\u001b[0;32m   1692\u001b[0m \u001b[38;5;28;01mwhile\u001b[39;00m \u001b[38;5;28mself\u001b[39m\u001b[38;5;241m.\u001b[39m_wait_retrieval():\n\u001b[0;32m   1693\u001b[0m \n\u001b[0;32m   1694\u001b[0m     \u001b[38;5;66;03m# If the callback thread of a worker has signaled that its task\u001b[39;00m\n\u001b[0;32m   1695\u001b[0m     \u001b[38;5;66;03m# triggered an exception, or if the retrieval loop has raised an\u001b[39;00m\n\u001b[0;32m   1696\u001b[0m     \u001b[38;5;66;03m# exception (e.g. `GeneratorExit`), exit the loop and surface the\u001b[39;00m\n\u001b[0;32m   1697\u001b[0m     \u001b[38;5;66;03m# worker traceback.\u001b[39;00m\n\u001b[0;32m   1698\u001b[0m     \u001b[38;5;28;01mif\u001b[39;00m \u001b[38;5;28mself\u001b[39m\u001b[38;5;241m.\u001b[39m_aborting:\n\u001b[1;32m-> 1699\u001b[0m         \u001b[38;5;28;43mself\u001b[39;49m\u001b[38;5;241;43m.\u001b[39;49m\u001b[43m_raise_error_fast\u001b[49m\u001b[43m(\u001b[49m\u001b[43m)\u001b[49m\n\u001b[0;32m   1700\u001b[0m         \u001b[38;5;28;01mbreak\u001b[39;00m\n\u001b[0;32m   1702\u001b[0m     \u001b[38;5;66;03m# If the next job is not ready for retrieval yet, we just wait for\u001b[39;00m\n\u001b[0;32m   1703\u001b[0m     \u001b[38;5;66;03m# async callbacks to progress.\u001b[39;00m\n",
      "File \u001b[1;32m~\\AppData\\Roaming\\Python\\Python310\\site-packages\\joblib\\parallel.py:1734\u001b[0m, in \u001b[0;36mParallel._raise_error_fast\u001b[1;34m(self)\u001b[0m\n\u001b[0;32m   1730\u001b[0m \u001b[38;5;66;03m# If this error job exists, immediatly raise the error by\u001b[39;00m\n\u001b[0;32m   1731\u001b[0m \u001b[38;5;66;03m# calling get_result. This job might not exists if abort has been\u001b[39;00m\n\u001b[0;32m   1732\u001b[0m \u001b[38;5;66;03m# called directly or if the generator is gc'ed.\u001b[39;00m\n\u001b[0;32m   1733\u001b[0m \u001b[38;5;28;01mif\u001b[39;00m error_job \u001b[38;5;129;01mis\u001b[39;00m \u001b[38;5;129;01mnot\u001b[39;00m \u001b[38;5;28;01mNone\u001b[39;00m:\n\u001b[1;32m-> 1734\u001b[0m     \u001b[43merror_job\u001b[49m\u001b[38;5;241;43m.\u001b[39;49m\u001b[43mget_result\u001b[49m\u001b[43m(\u001b[49m\u001b[38;5;28;43mself\u001b[39;49m\u001b[38;5;241;43m.\u001b[39;49m\u001b[43mtimeout\u001b[49m\u001b[43m)\u001b[49m\n",
      "File \u001b[1;32m~\\AppData\\Roaming\\Python\\Python310\\site-packages\\joblib\\parallel.py:736\u001b[0m, in \u001b[0;36mBatchCompletionCallBack.get_result\u001b[1;34m(self, timeout)\u001b[0m\n\u001b[0;32m    730\u001b[0m backend \u001b[38;5;241m=\u001b[39m \u001b[38;5;28mself\u001b[39m\u001b[38;5;241m.\u001b[39mparallel\u001b[38;5;241m.\u001b[39m_backend\n\u001b[0;32m    732\u001b[0m \u001b[38;5;28;01mif\u001b[39;00m backend\u001b[38;5;241m.\u001b[39msupports_retrieve_callback:\n\u001b[0;32m    733\u001b[0m     \u001b[38;5;66;03m# We assume that the result has already been retrieved by the\u001b[39;00m\n\u001b[0;32m    734\u001b[0m     \u001b[38;5;66;03m# callback thread, and is stored internally. It's just waiting to\u001b[39;00m\n\u001b[0;32m    735\u001b[0m     \u001b[38;5;66;03m# be returned.\u001b[39;00m\n\u001b[1;32m--> 736\u001b[0m     \u001b[38;5;28;01mreturn\u001b[39;00m \u001b[38;5;28;43mself\u001b[39;49m\u001b[38;5;241;43m.\u001b[39;49m\u001b[43m_return_or_raise\u001b[49m\u001b[43m(\u001b[49m\u001b[43m)\u001b[49m\n\u001b[0;32m    738\u001b[0m \u001b[38;5;66;03m# For other backends, the main thread needs to run the retrieval step.\u001b[39;00m\n\u001b[0;32m    739\u001b[0m \u001b[38;5;28;01mtry\u001b[39;00m:\n",
      "File \u001b[1;32m~\\AppData\\Roaming\\Python\\Python310\\site-packages\\joblib\\parallel.py:754\u001b[0m, in \u001b[0;36mBatchCompletionCallBack._return_or_raise\u001b[1;34m(self)\u001b[0m\n\u001b[0;32m    752\u001b[0m \u001b[38;5;28;01mtry\u001b[39;00m:\n\u001b[0;32m    753\u001b[0m     \u001b[38;5;28;01mif\u001b[39;00m \u001b[38;5;28mself\u001b[39m\u001b[38;5;241m.\u001b[39mstatus \u001b[38;5;241m==\u001b[39m TASK_ERROR:\n\u001b[1;32m--> 754\u001b[0m         \u001b[38;5;28;01mraise\u001b[39;00m \u001b[38;5;28mself\u001b[39m\u001b[38;5;241m.\u001b[39m_result\n\u001b[0;32m    755\u001b[0m     \u001b[38;5;28;01mreturn\u001b[39;00m \u001b[38;5;28mself\u001b[39m\u001b[38;5;241m.\u001b[39m_result\n\u001b[0;32m    756\u001b[0m \u001b[38;5;28;01mfinally\u001b[39;00m:\n",
      "\u001b[1;31mValueError\u001b[0m: Invalid parameter 'actual_estimator' for estimator LogisticRegressionCV(Cs=10, class_weight='balanced', cv=None, dual=False,\n                     fit_intercept=True, intercept_scaling=1.0, l1_ratios=None,\n                     max_iter=100, multi_class='auto', n_jobs=None,\n                     penalty='l2', random_state=None, refit=True, scoring=None,\n                     solver='lbfgs', tol=0.0001, verbose=0). Valid parameters are: ['Cs', 'class_weight', 'cv', 'dual', 'fit_intercept', 'intercept_scaling', 'l1_ratios', 'max_iter', 'multi_class', 'n_jobs', 'penalty', 'random_state', 'refit', 'scoring', 'solver', 'tol', 'verbose']."
     ]
    }
   ],
   "source": [
    "# tune model hyperparameters\n",
    "best_tune = tune_model( LogisticRegressionCV(), n_iter=200, choose_better=True)\n",
    "# report the best model\n",
    "print(best_tune)"
   ]
  },
  {
   "cell_type": "code",
   "execution_count": 13,
   "metadata": {},
   "outputs": [
    {
     "data": {
      "text/plain": [
       "Int64Index([    53,     71,     80,    108,    170,    180,    205,    290,\n",
       "               297,    361,\n",
       "            ...\n",
       "            257772, 257788, 257916, 257958, 257985, 258215, 258376, 258717,\n",
       "            258827, 258831],\n",
       "           dtype='int64', length=3190)"
      ]
     },
     "execution_count": 13,
     "metadata": {},
     "output_type": "execute_result"
    }
   ],
   "source": [
    "y_subset.index"
   ]
  },
  {
   "cell_type": "code",
   "execution_count": 66,
   "metadata": {},
   "outputs": [
    {
     "data": {
      "text/html": [
       "<div>\n",
       "<style scoped>\n",
       "    .dataframe tbody tr th:only-of-type {\n",
       "        vertical-align: middle;\n",
       "    }\n",
       "\n",
       "    .dataframe tbody tr th {\n",
       "        vertical-align: top;\n",
       "    }\n",
       "\n",
       "    .dataframe thead th {\n",
       "        text-align: right;\n",
       "    }\n",
       "</style>\n",
       "<table border=\"1\" class=\"dataframe\">\n",
       "  <thead>\n",
       "    <tr style=\"text-align: right;\">\n",
       "      <th></th>\n",
       "      <th>0</th>\n",
       "      <th>1</th>\n",
       "      <th>2</th>\n",
       "      <th>3</th>\n",
       "      <th>4</th>\n",
       "      <th>5</th>\n",
       "      <th>6</th>\n",
       "      <th>7</th>\n",
       "      <th>8</th>\n",
       "      <th>9</th>\n",
       "      <th>...</th>\n",
       "      <th>16564</th>\n",
       "      <th>16565</th>\n",
       "      <th>16566</th>\n",
       "      <th>16567</th>\n",
       "      <th>16568</th>\n",
       "      <th>16569</th>\n",
       "      <th>16570</th>\n",
       "      <th>16571</th>\n",
       "      <th>16572</th>\n",
       "      <th>16573</th>\n",
       "    </tr>\n",
       "  </thead>\n",
       "  <tbody>\n",
       "    <tr>\n",
       "      <th>0</th>\n",
       "      <td>0.0</td>\n",
       "      <td>0.0</td>\n",
       "      <td>0.0</td>\n",
       "      <td>0.0</td>\n",
       "      <td>0.0</td>\n",
       "      <td>0.0</td>\n",
       "      <td>0.0</td>\n",
       "      <td>0.0</td>\n",
       "      <td>0.0</td>\n",
       "      <td>0.0</td>\n",
       "      <td>...</td>\n",
       "      <td>0.0</td>\n",
       "      <td>0.0</td>\n",
       "      <td>0.0</td>\n",
       "      <td>0.0</td>\n",
       "      <td>0.0</td>\n",
       "      <td>0.0</td>\n",
       "      <td>0.0</td>\n",
       "      <td>0.0</td>\n",
       "      <td>0.0</td>\n",
       "      <td>0.0</td>\n",
       "    </tr>\n",
       "    <tr>\n",
       "      <th>1</th>\n",
       "      <td>0.0</td>\n",
       "      <td>0.0</td>\n",
       "      <td>0.0</td>\n",
       "      <td>0.0</td>\n",
       "      <td>0.0</td>\n",
       "      <td>0.0</td>\n",
       "      <td>0.0</td>\n",
       "      <td>0.0</td>\n",
       "      <td>0.0</td>\n",
       "      <td>0.0</td>\n",
       "      <td>...</td>\n",
       "      <td>0.0</td>\n",
       "      <td>0.0</td>\n",
       "      <td>0.0</td>\n",
       "      <td>0.0</td>\n",
       "      <td>0.0</td>\n",
       "      <td>0.0</td>\n",
       "      <td>0.0</td>\n",
       "      <td>0.0</td>\n",
       "      <td>0.0</td>\n",
       "      <td>0.0</td>\n",
       "    </tr>\n",
       "    <tr>\n",
       "      <th>2</th>\n",
       "      <td>0.0</td>\n",
       "      <td>0.0</td>\n",
       "      <td>0.0</td>\n",
       "      <td>0.0</td>\n",
       "      <td>0.0</td>\n",
       "      <td>0.0</td>\n",
       "      <td>0.0</td>\n",
       "      <td>0.0</td>\n",
       "      <td>0.0</td>\n",
       "      <td>0.0</td>\n",
       "      <td>...</td>\n",
       "      <td>0.0</td>\n",
       "      <td>0.0</td>\n",
       "      <td>0.0</td>\n",
       "      <td>0.0</td>\n",
       "      <td>0.0</td>\n",
       "      <td>0.0</td>\n",
       "      <td>0.0</td>\n",
       "      <td>0.0</td>\n",
       "      <td>0.0</td>\n",
       "      <td>0.0</td>\n",
       "    </tr>\n",
       "    <tr>\n",
       "      <th>3</th>\n",
       "      <td>0.0</td>\n",
       "      <td>0.0</td>\n",
       "      <td>0.0</td>\n",
       "      <td>0.0</td>\n",
       "      <td>0.0</td>\n",
       "      <td>0.0</td>\n",
       "      <td>0.0</td>\n",
       "      <td>0.0</td>\n",
       "      <td>0.0</td>\n",
       "      <td>0.0</td>\n",
       "      <td>...</td>\n",
       "      <td>0.0</td>\n",
       "      <td>0.0</td>\n",
       "      <td>0.0</td>\n",
       "      <td>0.0</td>\n",
       "      <td>0.0</td>\n",
       "      <td>0.0</td>\n",
       "      <td>0.0</td>\n",
       "      <td>0.0</td>\n",
       "      <td>0.0</td>\n",
       "      <td>0.0</td>\n",
       "    </tr>\n",
       "    <tr>\n",
       "      <th>4</th>\n",
       "      <td>0.0</td>\n",
       "      <td>0.0</td>\n",
       "      <td>0.0</td>\n",
       "      <td>0.0</td>\n",
       "      <td>0.0</td>\n",
       "      <td>0.0</td>\n",
       "      <td>0.0</td>\n",
       "      <td>0.0</td>\n",
       "      <td>0.0</td>\n",
       "      <td>0.0</td>\n",
       "      <td>...</td>\n",
       "      <td>0.0</td>\n",
       "      <td>0.0</td>\n",
       "      <td>0.0</td>\n",
       "      <td>0.0</td>\n",
       "      <td>0.0</td>\n",
       "      <td>0.0</td>\n",
       "      <td>0.0</td>\n",
       "      <td>0.0</td>\n",
       "      <td>0.0</td>\n",
       "      <td>0.0</td>\n",
       "    </tr>\n",
       "  </tbody>\n",
       "</table>\n",
       "<p>5 rows × 16574 columns</p>\n",
       "</div>"
      ],
      "text/plain": [
       "   0      1      2      3      4      5      6      7      8      9      ...  \\\n",
       "0    0.0    0.0    0.0    0.0    0.0    0.0    0.0    0.0    0.0    0.0  ...   \n",
       "1    0.0    0.0    0.0    0.0    0.0    0.0    0.0    0.0    0.0    0.0  ...   \n",
       "2    0.0    0.0    0.0    0.0    0.0    0.0    0.0    0.0    0.0    0.0  ...   \n",
       "3    0.0    0.0    0.0    0.0    0.0    0.0    0.0    0.0    0.0    0.0  ...   \n",
       "4    0.0    0.0    0.0    0.0    0.0    0.0    0.0    0.0    0.0    0.0  ...   \n",
       "\n",
       "   16564  16565  16566  16567  16568  16569  16570  16571  16572  16573  \n",
       "0    0.0    0.0    0.0    0.0    0.0    0.0    0.0    0.0    0.0    0.0  \n",
       "1    0.0    0.0    0.0    0.0    0.0    0.0    0.0    0.0    0.0    0.0  \n",
       "2    0.0    0.0    0.0    0.0    0.0    0.0    0.0    0.0    0.0    0.0  \n",
       "3    0.0    0.0    0.0    0.0    0.0    0.0    0.0    0.0    0.0    0.0  \n",
       "4    0.0    0.0    0.0    0.0    0.0    0.0    0.0    0.0    0.0    0.0  \n",
       "\n",
       "[5 rows x 16574 columns]"
      ]
     },
     "execution_count": 66,
     "metadata": {},
     "output_type": "execute_result"
    }
   ],
   "source": [
    "df1=dfx.reset_index().drop('index', axis = 1) \n",
    "df1.head()"
   ]
  },
  {
   "cell_type": "code",
   "execution_count": 65,
   "metadata": {},
   "outputs": [
    {
     "data": {
      "text/html": [
       "<div>\n",
       "<style scoped>\n",
       "    .dataframe tbody tr th:only-of-type {\n",
       "        vertical-align: middle;\n",
       "    }\n",
       "\n",
       "    .dataframe tbody tr th {\n",
       "        vertical-align: top;\n",
       "    }\n",
       "\n",
       "    .dataframe thead th {\n",
       "        text-align: right;\n",
       "    }\n",
       "</style>\n",
       "<table border=\"1\" class=\"dataframe\">\n",
       "  <thead>\n",
       "    <tr style=\"text-align: right;\">\n",
       "      <th></th>\n",
       "      <th>Level 2</th>\n",
       "    </tr>\n",
       "  </thead>\n",
       "  <tbody>\n",
       "    <tr>\n",
       "      <th>0</th>\n",
       "      <td>Games &amp; Puzzles</td>\n",
       "    </tr>\n",
       "    <tr>\n",
       "      <th>1</th>\n",
       "      <td>Toy Figures</td>\n",
       "    </tr>\n",
       "    <tr>\n",
       "      <th>2</th>\n",
       "      <td>Toy Figures</td>\n",
       "    </tr>\n",
       "    <tr>\n",
       "      <th>3</th>\n",
       "      <td>Games &amp; Puzzles</td>\n",
       "    </tr>\n",
       "    <tr>\n",
       "      <th>4</th>\n",
       "      <td>Toy Figures</td>\n",
       "    </tr>\n",
       "  </tbody>\n",
       "</table>\n",
       "</div>"
      ],
      "text/plain": [
       "           Level 2\n",
       "0  Games & Puzzles\n",
       "1      Toy Figures\n",
       "2      Toy Figures\n",
       "3  Games & Puzzles\n",
       "4      Toy Figures"
      ]
     },
     "execution_count": 65,
     "metadata": {},
     "output_type": "execute_result"
    }
   ],
   "source": [
    "df2=dfy.reset_index().drop('index', axis = 1)\n",
    "\n",
    "df2.head()"
   ]
  },
  {
   "cell_type": "code",
   "execution_count": 67,
   "metadata": {},
   "outputs": [
    {
     "data": {
      "text/html": [
       "<div>\n",
       "<style scoped>\n",
       "    .dataframe tbody tr th:only-of-type {\n",
       "        vertical-align: middle;\n",
       "    }\n",
       "\n",
       "    .dataframe tbody tr th {\n",
       "        vertical-align: top;\n",
       "    }\n",
       "\n",
       "    .dataframe thead th {\n",
       "        text-align: right;\n",
       "    }\n",
       "</style>\n",
       "<table border=\"1\" class=\"dataframe\">\n",
       "  <thead>\n",
       "    <tr style=\"text-align: right;\">\n",
       "      <th></th>\n",
       "      <th>0</th>\n",
       "      <th>1</th>\n",
       "      <th>2</th>\n",
       "      <th>3</th>\n",
       "      <th>4</th>\n",
       "      <th>5</th>\n",
       "      <th>6</th>\n",
       "      <th>7</th>\n",
       "      <th>8</th>\n",
       "      <th>9</th>\n",
       "      <th>...</th>\n",
       "      <th>16565</th>\n",
       "      <th>16566</th>\n",
       "      <th>16567</th>\n",
       "      <th>16568</th>\n",
       "      <th>16569</th>\n",
       "      <th>16570</th>\n",
       "      <th>16571</th>\n",
       "      <th>16572</th>\n",
       "      <th>16573</th>\n",
       "      <th>Level 2</th>\n",
       "    </tr>\n",
       "  </thead>\n",
       "  <tbody>\n",
       "    <tr>\n",
       "      <th>0</th>\n",
       "      <td>0.0</td>\n",
       "      <td>0.0</td>\n",
       "      <td>0.0</td>\n",
       "      <td>0.0</td>\n",
       "      <td>0.0</td>\n",
       "      <td>0.0</td>\n",
       "      <td>0.0</td>\n",
       "      <td>0.0</td>\n",
       "      <td>0.0</td>\n",
       "      <td>0.0</td>\n",
       "      <td>...</td>\n",
       "      <td>0.0</td>\n",
       "      <td>0.0</td>\n",
       "      <td>0.0</td>\n",
       "      <td>0.0</td>\n",
       "      <td>0.0</td>\n",
       "      <td>0.0</td>\n",
       "      <td>0.0</td>\n",
       "      <td>0.0</td>\n",
       "      <td>0.0</td>\n",
       "      <td>Games &amp; Puzzles</td>\n",
       "    </tr>\n",
       "    <tr>\n",
       "      <th>1</th>\n",
       "      <td>0.0</td>\n",
       "      <td>0.0</td>\n",
       "      <td>0.0</td>\n",
       "      <td>0.0</td>\n",
       "      <td>0.0</td>\n",
       "      <td>0.0</td>\n",
       "      <td>0.0</td>\n",
       "      <td>0.0</td>\n",
       "      <td>0.0</td>\n",
       "      <td>0.0</td>\n",
       "      <td>...</td>\n",
       "      <td>0.0</td>\n",
       "      <td>0.0</td>\n",
       "      <td>0.0</td>\n",
       "      <td>0.0</td>\n",
       "      <td>0.0</td>\n",
       "      <td>0.0</td>\n",
       "      <td>0.0</td>\n",
       "      <td>0.0</td>\n",
       "      <td>0.0</td>\n",
       "      <td>Toy Figures</td>\n",
       "    </tr>\n",
       "    <tr>\n",
       "      <th>2</th>\n",
       "      <td>0.0</td>\n",
       "      <td>0.0</td>\n",
       "      <td>0.0</td>\n",
       "      <td>0.0</td>\n",
       "      <td>0.0</td>\n",
       "      <td>0.0</td>\n",
       "      <td>0.0</td>\n",
       "      <td>0.0</td>\n",
       "      <td>0.0</td>\n",
       "      <td>0.0</td>\n",
       "      <td>...</td>\n",
       "      <td>0.0</td>\n",
       "      <td>0.0</td>\n",
       "      <td>0.0</td>\n",
       "      <td>0.0</td>\n",
       "      <td>0.0</td>\n",
       "      <td>0.0</td>\n",
       "      <td>0.0</td>\n",
       "      <td>0.0</td>\n",
       "      <td>0.0</td>\n",
       "      <td>Toy Figures</td>\n",
       "    </tr>\n",
       "    <tr>\n",
       "      <th>3</th>\n",
       "      <td>0.0</td>\n",
       "      <td>0.0</td>\n",
       "      <td>0.0</td>\n",
       "      <td>0.0</td>\n",
       "      <td>0.0</td>\n",
       "      <td>0.0</td>\n",
       "      <td>0.0</td>\n",
       "      <td>0.0</td>\n",
       "      <td>0.0</td>\n",
       "      <td>0.0</td>\n",
       "      <td>...</td>\n",
       "      <td>0.0</td>\n",
       "      <td>0.0</td>\n",
       "      <td>0.0</td>\n",
       "      <td>0.0</td>\n",
       "      <td>0.0</td>\n",
       "      <td>0.0</td>\n",
       "      <td>0.0</td>\n",
       "      <td>0.0</td>\n",
       "      <td>0.0</td>\n",
       "      <td>Games &amp; Puzzles</td>\n",
       "    </tr>\n",
       "    <tr>\n",
       "      <th>4</th>\n",
       "      <td>0.0</td>\n",
       "      <td>0.0</td>\n",
       "      <td>0.0</td>\n",
       "      <td>0.0</td>\n",
       "      <td>0.0</td>\n",
       "      <td>0.0</td>\n",
       "      <td>0.0</td>\n",
       "      <td>0.0</td>\n",
       "      <td>0.0</td>\n",
       "      <td>0.0</td>\n",
       "      <td>...</td>\n",
       "      <td>0.0</td>\n",
       "      <td>0.0</td>\n",
       "      <td>0.0</td>\n",
       "      <td>0.0</td>\n",
       "      <td>0.0</td>\n",
       "      <td>0.0</td>\n",
       "      <td>0.0</td>\n",
       "      <td>0.0</td>\n",
       "      <td>0.0</td>\n",
       "      <td>Toy Figures</td>\n",
       "    </tr>\n",
       "  </tbody>\n",
       "</table>\n",
       "<p>5 rows × 16575 columns</p>\n",
       "</div>"
      ],
      "text/plain": [
       "     0    1    2    3    4    5    6    7    8    9  ...  16565  16566  16567  \\\n",
       "0  0.0  0.0  0.0  0.0  0.0  0.0  0.0  0.0  0.0  0.0  ...    0.0    0.0    0.0   \n",
       "1  0.0  0.0  0.0  0.0  0.0  0.0  0.0  0.0  0.0  0.0  ...    0.0    0.0    0.0   \n",
       "2  0.0  0.0  0.0  0.0  0.0  0.0  0.0  0.0  0.0  0.0  ...    0.0    0.0    0.0   \n",
       "3  0.0  0.0  0.0  0.0  0.0  0.0  0.0  0.0  0.0  0.0  ...    0.0    0.0    0.0   \n",
       "4  0.0  0.0  0.0  0.0  0.0  0.0  0.0  0.0  0.0  0.0  ...    0.0    0.0    0.0   \n",
       "\n",
       "   16568  16569  16570  16571  16572  16573          Level 2  \n",
       "0    0.0    0.0    0.0    0.0    0.0    0.0  Games & Puzzles  \n",
       "1    0.0    0.0    0.0    0.0    0.0    0.0      Toy Figures  \n",
       "2    0.0    0.0    0.0    0.0    0.0    0.0      Toy Figures  \n",
       "3    0.0    0.0    0.0    0.0    0.0    0.0  Games & Puzzles  \n",
       "4    0.0    0.0    0.0    0.0    0.0    0.0      Toy Figures  \n",
       "\n",
       "[5 rows x 16575 columns]"
      ]
     },
     "execution_count": 67,
     "metadata": {},
     "output_type": "execute_result"
    }
   ],
   "source": [
    "df3 = pd.merge(df1, df2, left_index=True, right_index=True)\n",
    "df3.head()"
   ]
  },
  {
   "cell_type": "code",
   "execution_count": 68,
   "metadata": {},
   "outputs": [
    {
     "data": {
      "text/plain": [
       "Toy Figures                    1139\n",
       "Games & Puzzles                 540\n",
       "Construction & Modeling         394\n",
       "Baby Toys & Games               372\n",
       "Toy Vehicles                    258\n",
       "Outdoor Toys & Games            191\n",
       "Role Playing & Pretend Play     164\n",
       "Sports Toys & Games              82\n",
       "Remote & Radio Control           38\n",
       "Nature / Science                 12\n",
       "Name: Level 2, dtype: int64"
      ]
     },
     "execution_count": 68,
     "metadata": {},
     "output_type": "execute_result"
    }
   ],
   "source": [
    "df3['Level 2'].value_counts(dropna = False)"
   ]
  },
  {
   "cell_type": "code",
   "execution_count": 57,
   "metadata": {},
   "outputs": [
    {
     "data": {
      "text/html": [
       "<div>\n",
       "<style scoped>\n",
       "    .dataframe tbody tr th:only-of-type {\n",
       "        vertical-align: middle;\n",
       "    }\n",
       "\n",
       "    .dataframe tbody tr th {\n",
       "        vertical-align: top;\n",
       "    }\n",
       "\n",
       "    .dataframe thead th {\n",
       "        text-align: right;\n",
       "    }\n",
       "</style>\n",
       "<table border=\"1\" class=\"dataframe\">\n",
       "  <thead>\n",
       "    <tr style=\"text-align: right;\">\n",
       "      <th></th>\n",
       "      <th>0</th>\n",
       "      <th>1</th>\n",
       "      <th>2</th>\n",
       "      <th>3</th>\n",
       "      <th>4</th>\n",
       "      <th>5</th>\n",
       "      <th>6</th>\n",
       "      <th>7</th>\n",
       "      <th>8</th>\n",
       "      <th>9</th>\n",
       "      <th>...</th>\n",
       "      <th>16565</th>\n",
       "      <th>16566</th>\n",
       "      <th>16567</th>\n",
       "      <th>16568</th>\n",
       "      <th>16569</th>\n",
       "      <th>16570</th>\n",
       "      <th>16571</th>\n",
       "      <th>16572</th>\n",
       "      <th>16573</th>\n",
       "      <th>Level 2</th>\n",
       "    </tr>\n",
       "  </thead>\n",
       "  <tbody>\n",
       "    <tr>\n",
       "      <th>53</th>\n",
       "      <td>0.0</td>\n",
       "      <td>0.0</td>\n",
       "      <td>0.0</td>\n",
       "      <td>0.0</td>\n",
       "      <td>0.0</td>\n",
       "      <td>0.0</td>\n",
       "      <td>0.0</td>\n",
       "      <td>0.0</td>\n",
       "      <td>0.0</td>\n",
       "      <td>0.0</td>\n",
       "      <td>...</td>\n",
       "      <td>0.0</td>\n",
       "      <td>0.0</td>\n",
       "      <td>0.0</td>\n",
       "      <td>0.0</td>\n",
       "      <td>0.0</td>\n",
       "      <td>0.0</td>\n",
       "      <td>0.0</td>\n",
       "      <td>0.0</td>\n",
       "      <td>0.0</td>\n",
       "      <td>Games &amp; Puzzles</td>\n",
       "    </tr>\n",
       "    <tr>\n",
       "      <th>71</th>\n",
       "      <td>0.0</td>\n",
       "      <td>0.0</td>\n",
       "      <td>0.0</td>\n",
       "      <td>0.0</td>\n",
       "      <td>0.0</td>\n",
       "      <td>0.0</td>\n",
       "      <td>0.0</td>\n",
       "      <td>0.0</td>\n",
       "      <td>0.0</td>\n",
       "      <td>0.0</td>\n",
       "      <td>...</td>\n",
       "      <td>0.0</td>\n",
       "      <td>0.0</td>\n",
       "      <td>0.0</td>\n",
       "      <td>0.0</td>\n",
       "      <td>0.0</td>\n",
       "      <td>0.0</td>\n",
       "      <td>0.0</td>\n",
       "      <td>0.0</td>\n",
       "      <td>0.0</td>\n",
       "      <td>Toy Figures</td>\n",
       "    </tr>\n",
       "    <tr>\n",
       "      <th>80</th>\n",
       "      <td>0.0</td>\n",
       "      <td>0.0</td>\n",
       "      <td>0.0</td>\n",
       "      <td>0.0</td>\n",
       "      <td>0.0</td>\n",
       "      <td>0.0</td>\n",
       "      <td>0.0</td>\n",
       "      <td>0.0</td>\n",
       "      <td>0.0</td>\n",
       "      <td>0.0</td>\n",
       "      <td>...</td>\n",
       "      <td>0.0</td>\n",
       "      <td>0.0</td>\n",
       "      <td>0.0</td>\n",
       "      <td>0.0</td>\n",
       "      <td>0.0</td>\n",
       "      <td>0.0</td>\n",
       "      <td>0.0</td>\n",
       "      <td>0.0</td>\n",
       "      <td>0.0</td>\n",
       "      <td>Toy Figures</td>\n",
       "    </tr>\n",
       "    <tr>\n",
       "      <th>108</th>\n",
       "      <td>0.0</td>\n",
       "      <td>0.0</td>\n",
       "      <td>0.0</td>\n",
       "      <td>0.0</td>\n",
       "      <td>0.0</td>\n",
       "      <td>0.0</td>\n",
       "      <td>0.0</td>\n",
       "      <td>0.0</td>\n",
       "      <td>0.0</td>\n",
       "      <td>0.0</td>\n",
       "      <td>...</td>\n",
       "      <td>0.0</td>\n",
       "      <td>0.0</td>\n",
       "      <td>0.0</td>\n",
       "      <td>0.0</td>\n",
       "      <td>0.0</td>\n",
       "      <td>0.0</td>\n",
       "      <td>0.0</td>\n",
       "      <td>0.0</td>\n",
       "      <td>0.0</td>\n",
       "      <td>Games &amp; Puzzles</td>\n",
       "    </tr>\n",
       "    <tr>\n",
       "      <th>170</th>\n",
       "      <td>0.0</td>\n",
       "      <td>0.0</td>\n",
       "      <td>0.0</td>\n",
       "      <td>0.0</td>\n",
       "      <td>0.0</td>\n",
       "      <td>0.0</td>\n",
       "      <td>0.0</td>\n",
       "      <td>0.0</td>\n",
       "      <td>0.0</td>\n",
       "      <td>0.0</td>\n",
       "      <td>...</td>\n",
       "      <td>0.0</td>\n",
       "      <td>0.0</td>\n",
       "      <td>0.0</td>\n",
       "      <td>0.0</td>\n",
       "      <td>0.0</td>\n",
       "      <td>0.0</td>\n",
       "      <td>0.0</td>\n",
       "      <td>0.0</td>\n",
       "      <td>0.0</td>\n",
       "      <td>Toy Figures</td>\n",
       "    </tr>\n",
       "  </tbody>\n",
       "</table>\n",
       "<p>5 rows × 16575 columns</p>\n",
       "</div>"
      ],
      "text/plain": [
       "       0    1    2    3    4    5    6    7    8    9  ...  16565  16566  \\\n",
       "53   0.0  0.0  0.0  0.0  0.0  0.0  0.0  0.0  0.0  0.0  ...    0.0    0.0   \n",
       "71   0.0  0.0  0.0  0.0  0.0  0.0  0.0  0.0  0.0  0.0  ...    0.0    0.0   \n",
       "80   0.0  0.0  0.0  0.0  0.0  0.0  0.0  0.0  0.0  0.0  ...    0.0    0.0   \n",
       "108  0.0  0.0  0.0  0.0  0.0  0.0  0.0  0.0  0.0  0.0  ...    0.0    0.0   \n",
       "170  0.0  0.0  0.0  0.0  0.0  0.0  0.0  0.0  0.0  0.0  ...    0.0    0.0   \n",
       "\n",
       "     16567  16568  16569  16570  16571  16572  16573          Level 2  \n",
       "53     0.0    0.0    0.0    0.0    0.0    0.0    0.0  Games & Puzzles  \n",
       "71     0.0    0.0    0.0    0.0    0.0    0.0    0.0      Toy Figures  \n",
       "80     0.0    0.0    0.0    0.0    0.0    0.0    0.0      Toy Figures  \n",
       "108    0.0    0.0    0.0    0.0    0.0    0.0    0.0  Games & Puzzles  \n",
       "170    0.0    0.0    0.0    0.0    0.0    0.0    0.0      Toy Figures  \n",
       "\n",
       "[5 rows x 16575 columns]"
      ]
     },
     "execution_count": 57,
     "metadata": {},
     "output_type": "execute_result"
    }
   ],
   "source": [
    "dfx = pd.DataFrame(X_subset.toarray())\n",
    "#dfx['y'] = y_subset\n",
    "subset_df[['Level 2']]\n",
    "dfy =  subset_df[['Level 2']]\n",
    "dfz = pd.merge(dfx, dfy, left_index=True, right_index=True)\n",
    "dfz.head()"
   ]
  },
  {
   "cell_type": "code",
   "execution_count": 61,
   "metadata": {},
   "outputs": [
    {
     "data": {
      "text/plain": [
       "Toy Figures                    22\n",
       "Games & Puzzles                13\n",
       "Construction & Modeling         6\n",
       "Baby Toys & Games               5\n",
       "Role Playing & Pretend Play     4\n",
       "Toy Vehicles                    2\n",
       "Remote & Radio Control          1\n",
       "Outdoor Toys & Games            1\n",
       "Name: Level 2, dtype: int64"
      ]
     },
     "execution_count": 61,
     "metadata": {},
     "output_type": "execute_result"
    }
   ],
   "source": [
    "dfz['Level 2'].value_counts(dropna = True)"
   ]
  },
  {
   "cell_type": "code",
   "execution_count": null,
   "metadata": {},
   "outputs": [],
   "source": [
    "subset_df."
   ]
  },
  {
   "cell_type": "code",
   "execution_count": 56,
   "metadata": {},
   "outputs": [
    {
     "data": {
      "text/html": [
       "<div>\n",
       "<style scoped>\n",
       "    .dataframe tbody tr th:only-of-type {\n",
       "        vertical-align: middle;\n",
       "    }\n",
       "\n",
       "    .dataframe tbody tr th {\n",
       "        vertical-align: top;\n",
       "    }\n",
       "\n",
       "    .dataframe thead th {\n",
       "        text-align: right;\n",
       "    }\n",
       "</style>\n",
       "<table border=\"1\" class=\"dataframe\">\n",
       "  <thead>\n",
       "    <tr style=\"text-align: right;\">\n",
       "      <th></th>\n",
       "      <th>GTIN</th>\n",
       "      <th>Level 1</th>\n",
       "      <th>Level 2</th>\n",
       "      <th>Level 3</th>\n",
       "      <th>Level 4</th>\n",
       "      <th>Level 5</th>\n",
       "      <th>Level 6</th>\n",
       "      <th>Level 7</th>\n",
       "      <th>Level 8</th>\n",
       "      <th>Level 9</th>\n",
       "      <th>...</th>\n",
       "      <th>REC_DPT_CD</th>\n",
       "      <th>REC_DPT_DSC</th>\n",
       "      <th>DPT_CD</th>\n",
       "      <th>DPT_DSC</th>\n",
       "      <th>COM_CD</th>\n",
       "      <th>COM_DSC</th>\n",
       "      <th>SUBCOM_CD</th>\n",
       "      <th>SUBCOM_DSC</th>\n",
       "      <th>VND_ECOM_DSC</th>\n",
       "      <th>ITEM_SUBCOM_text</th>\n",
       "    </tr>\n",
       "  </thead>\n",
       "  <tbody>\n",
       "    <tr>\n",
       "      <th>53</th>\n",
       "      <td>6.305095e+11</td>\n",
       "      <td>Toys / Games / Hobbies</td>\n",
       "      <td>Games &amp; Puzzles</td>\n",
       "      <td>Board Games</td>\n",
       "      <td>Family</td>\n",
       "      <td>NaN</td>\n",
       "      <td>NaN</td>\n",
       "      <td>NaN</td>\n",
       "      <td>NaN</td>\n",
       "      <td>NaN</td>\n",
       "      <td>...</td>\n",
       "      <td>87</td>\n",
       "      <td>GM</td>\n",
       "      <td>64.0</td>\n",
       "      <td>TOYS</td>\n",
       "      <td>842.0</td>\n",
       "      <td>GAMES</td>\n",
       "      <td>87608.0</td>\n",
       "      <td>BOARD GAMES</td>\n",
       "      <td>Monopoly® Board Game</td>\n",
       "      <td>monopoly® board game board games</td>\n",
       "    </tr>\n",
       "    <tr>\n",
       "      <th>71</th>\n",
       "      <td>6.305095e+11</td>\n",
       "      <td>Toys / Games / Hobbies</td>\n",
       "      <td>Toy Figures</td>\n",
       "      <td>Action Figures</td>\n",
       "      <td>Individual</td>\n",
       "      <td>NaN</td>\n",
       "      <td>NaN</td>\n",
       "      <td>NaN</td>\n",
       "      <td>NaN</td>\n",
       "      <td>NaN</td>\n",
       "      <td>...</td>\n",
       "      <td>87</td>\n",
       "      <td>GM</td>\n",
       "      <td>64.0</td>\n",
       "      <td>TOYS</td>\n",
       "      <td>973.0</td>\n",
       "      <td>BASIC GIRL</td>\n",
       "      <td>87662.0</td>\n",
       "      <td>FASHION DOLLS</td>\n",
       "      <td>DPR TANGLED STORY FIG</td>\n",
       "      <td>dpr tangled story fig fashion dolls</td>\n",
       "    </tr>\n",
       "    <tr>\n",
       "      <th>80</th>\n",
       "      <td>8.879616e+11</td>\n",
       "      <td>Toys / Games / Hobbies</td>\n",
       "      <td>Toy Figures</td>\n",
       "      <td>Action Figures</td>\n",
       "      <td>Individual</td>\n",
       "      <td>NaN</td>\n",
       "      <td>NaN</td>\n",
       "      <td>NaN</td>\n",
       "      <td>NaN</td>\n",
       "      <td>NaN</td>\n",
       "      <td>...</td>\n",
       "      <td>87</td>\n",
       "      <td>GM</td>\n",
       "      <td>64.0</td>\n",
       "      <td>TOYS</td>\n",
       "      <td>954.0</td>\n",
       "      <td>BASIC PRE-SCHOOL</td>\n",
       "      <td>87651.0</td>\n",
       "      <td>FISHER PRICE</td>\n",
       "      <td>Fisher-Price Imaginext Jurassic World Dinosaur...</td>\n",
       "      <td>fisher-price imaginext jurassic world dinosaur...</td>\n",
       "    </tr>\n",
       "    <tr>\n",
       "      <th>108</th>\n",
       "      <td>6.894230e+11</td>\n",
       "      <td>Toys / Games / Hobbies</td>\n",
       "      <td>Games &amp; Puzzles</td>\n",
       "      <td>Spinning Tops</td>\n",
       "      <td>NaN</td>\n",
       "      <td>NaN</td>\n",
       "      <td>NaN</td>\n",
       "      <td>NaN</td>\n",
       "      <td>NaN</td>\n",
       "      <td>NaN</td>\n",
       "      <td>...</td>\n",
       "      <td>01</td>\n",
       "      <td>GROCERY</td>\n",
       "      <td>1.0</td>\n",
       "      <td>GROC-ALL OTHER</td>\n",
       "      <td>135.0</td>\n",
       "      <td>KOSHER FOODS AND PRODUCTS</td>\n",
       "      <td>18278.0</td>\n",
       "      <td>KOSHER CANDY</td>\n",
       "      <td>GEDILLA CANDY - CHANUKAH DREIDLE</td>\n",
       "      <td>gedilla candy - chanukah dreidle kosher candy</td>\n",
       "    </tr>\n",
       "    <tr>\n",
       "      <th>170</th>\n",
       "      <td>8.879616e+11</td>\n",
       "      <td>Toys / Games / Hobbies</td>\n",
       "      <td>Toy Figures</td>\n",
       "      <td>Action Figures</td>\n",
       "      <td>Sets</td>\n",
       "      <td>NaN</td>\n",
       "      <td>NaN</td>\n",
       "      <td>NaN</td>\n",
       "      <td>NaN</td>\n",
       "      <td>NaN</td>\n",
       "      <td>...</td>\n",
       "      <td>87</td>\n",
       "      <td>GM</td>\n",
       "      <td>64.0</td>\n",
       "      <td>TOYS</td>\n",
       "      <td>973.0</td>\n",
       "      <td>BASIC GIRL</td>\n",
       "      <td>97305.0</td>\n",
       "      <td>BARBIE DOLLS</td>\n",
       "      <td>MTL BRB LIC FASHION LOOKS</td>\n",
       "      <td>mtl brb lic fashion looks barbie dolls</td>\n",
       "    </tr>\n",
       "    <tr>\n",
       "      <th>180</th>\n",
       "      <td>6.305096e+11</td>\n",
       "      <td>Toys / Games / Hobbies</td>\n",
       "      <td>Toy Figures</td>\n",
       "      <td>Action Figures</td>\n",
       "      <td>Individual</td>\n",
       "      <td>NaN</td>\n",
       "      <td>NaN</td>\n",
       "      <td>NaN</td>\n",
       "      <td>NaN</td>\n",
       "      <td>NaN</td>\n",
       "      <td>...</td>\n",
       "      <td>87</td>\n",
       "      <td>GM</td>\n",
       "      <td>64.0</td>\n",
       "      <td>TOYS</td>\n",
       "      <td>834.0</td>\n",
       "      <td>BASIC BOYS TOYS</td>\n",
       "      <td>87605.0</td>\n",
       "      <td>ACTION FIGURES</td>\n",
       "      <td>SPD 6 QUICK SHOT</td>\n",
       "      <td>spd 6 quick shot action figures</td>\n",
       "    </tr>\n",
       "    <tr>\n",
       "      <th>205</th>\n",
       "      <td>6.535700e+11</td>\n",
       "      <td>Toys / Games / Hobbies</td>\n",
       "      <td>Games &amp; Puzzles</td>\n",
       "      <td>Puzzles</td>\n",
       "      <td>Brain Teasers</td>\n",
       "      <td>Assembly / Disassembly</td>\n",
       "      <td>NaN</td>\n",
       "      <td>NaN</td>\n",
       "      <td>NaN</td>\n",
       "      <td>NaN</td>\n",
       "      <td>...</td>\n",
       "      <td>87</td>\n",
       "      <td>GM</td>\n",
       "      <td>64.0</td>\n",
       "      <td>TOYS</td>\n",
       "      <td>842.0</td>\n",
       "      <td>GAMES</td>\n",
       "      <td>87614.0</td>\n",
       "      <td>CARD GAMES</td>\n",
       "      <td>Hasbro Gaming Rubik's Cube Game</td>\n",
       "      <td>hasbro gaming rubik's cube game card games</td>\n",
       "    </tr>\n",
       "    <tr>\n",
       "      <th>290</th>\n",
       "      <td>6.305096e+11</td>\n",
       "      <td>Toys / Games / Hobbies</td>\n",
       "      <td>Toy Figures</td>\n",
       "      <td>Stuffed Animals</td>\n",
       "      <td>NaN</td>\n",
       "      <td>NaN</td>\n",
       "      <td>NaN</td>\n",
       "      <td>NaN</td>\n",
       "      <td>NaN</td>\n",
       "      <td>NaN</td>\n",
       "      <td>...</td>\n",
       "      <td>87</td>\n",
       "      <td>GM</td>\n",
       "      <td>64.0</td>\n",
       "      <td>TOYS</td>\n",
       "      <td>954.0</td>\n",
       "      <td>BASIC PRE-SCHOOL</td>\n",
       "      <td>87646.0</td>\n",
       "      <td>PRESCHOOL TOYS</td>\n",
       "      <td>Hasbro Sesame Street Abby Cadabby Mini Plush Doll</td>\n",
       "      <td>hasbro sesame street abby cadabby mini plush d...</td>\n",
       "    </tr>\n",
       "    <tr>\n",
       "      <th>297</th>\n",
       "      <td>8.879616e+11</td>\n",
       "      <td>Toys / Games / Hobbies</td>\n",
       "      <td>Toy Figures</td>\n",
       "      <td>Action Figures</td>\n",
       "      <td>Sets</td>\n",
       "      <td>NaN</td>\n",
       "      <td>NaN</td>\n",
       "      <td>NaN</td>\n",
       "      <td>NaN</td>\n",
       "      <td>NaN</td>\n",
       "      <td>...</td>\n",
       "      <td>87</td>\n",
       "      <td>GM</td>\n",
       "      <td>64.0</td>\n",
       "      <td>TOYS</td>\n",
       "      <td>834.0</td>\n",
       "      <td>BASIC BOYS TOYS</td>\n",
       "      <td>87668.0</td>\n",
       "      <td>CONSTRUCTION</td>\n",
       "      <td>MEGA Mega Construx Pokmon Blastoise</td>\n",
       "      <td>mega mega construx pokmon blastoise construction</td>\n",
       "    </tr>\n",
       "    <tr>\n",
       "      <th>361</th>\n",
       "      <td>6.535696e+11</td>\n",
       "      <td>Toys / Games / Hobbies</td>\n",
       "      <td>Toy Figures</td>\n",
       "      <td>Action Figures</td>\n",
       "      <td>Individual</td>\n",
       "      <td>NaN</td>\n",
       "      <td>NaN</td>\n",
       "      <td>NaN</td>\n",
       "      <td>NaN</td>\n",
       "      <td>NaN</td>\n",
       "      <td>...</td>\n",
       "      <td>87</td>\n",
       "      <td>GM</td>\n",
       "      <td>64.0</td>\n",
       "      <td>TOYS</td>\n",
       "      <td>834.0</td>\n",
       "      <td>BASIC BOYS TOYS</td>\n",
       "      <td>87605.0</td>\n",
       "      <td>ACTION FIGURES</td>\n",
       "      <td>TRA3 CYBERTECH DLX</td>\n",
       "      <td>tra3 cybertech dlx action figures</td>\n",
       "    </tr>\n",
       "  </tbody>\n",
       "</table>\n",
       "<p>10 rows × 24 columns</p>\n",
       "</div>"
      ],
      "text/plain": [
       "             GTIN                 Level 1          Level 2          Level 3  \\\n",
       "53   6.305095e+11  Toys / Games / Hobbies  Games & Puzzles      Board Games   \n",
       "71   6.305095e+11  Toys / Games / Hobbies      Toy Figures   Action Figures   \n",
       "80   8.879616e+11  Toys / Games / Hobbies      Toy Figures   Action Figures   \n",
       "108  6.894230e+11  Toys / Games / Hobbies  Games & Puzzles    Spinning Tops   \n",
       "170  8.879616e+11  Toys / Games / Hobbies      Toy Figures   Action Figures   \n",
       "180  6.305096e+11  Toys / Games / Hobbies      Toy Figures   Action Figures   \n",
       "205  6.535700e+11  Toys / Games / Hobbies  Games & Puzzles          Puzzles   \n",
       "290  6.305096e+11  Toys / Games / Hobbies      Toy Figures  Stuffed Animals   \n",
       "297  8.879616e+11  Toys / Games / Hobbies      Toy Figures   Action Figures   \n",
       "361  6.535696e+11  Toys / Games / Hobbies      Toy Figures   Action Figures   \n",
       "\n",
       "           Level 4                 Level 5 Level 6 Level 7 Level 8 Level 9  \\\n",
       "53          Family                     NaN     NaN     NaN     NaN     NaN   \n",
       "71      Individual                     NaN     NaN     NaN     NaN     NaN   \n",
       "80      Individual                     NaN     NaN     NaN     NaN     NaN   \n",
       "108            NaN                     NaN     NaN     NaN     NaN     NaN   \n",
       "170           Sets                     NaN     NaN     NaN     NaN     NaN   \n",
       "180     Individual                     NaN     NaN     NaN     NaN     NaN   \n",
       "205  Brain Teasers  Assembly / Disassembly     NaN     NaN     NaN     NaN   \n",
       "290            NaN                     NaN     NaN     NaN     NaN     NaN   \n",
       "297           Sets                     NaN     NaN     NaN     NaN     NaN   \n",
       "361     Individual                     NaN     NaN     NaN     NaN     NaN   \n",
       "\n",
       "     ... REC_DPT_CD  REC_DPT_DSC  DPT_CD         DPT_DSC COM_CD  \\\n",
       "53   ...         87           GM    64.0            TOYS  842.0   \n",
       "71   ...         87           GM    64.0            TOYS  973.0   \n",
       "80   ...         87           GM    64.0            TOYS  954.0   \n",
       "108  ...         01      GROCERY     1.0  GROC-ALL OTHER  135.0   \n",
       "170  ...         87           GM    64.0            TOYS  973.0   \n",
       "180  ...         87           GM    64.0            TOYS  834.0   \n",
       "205  ...         87           GM    64.0            TOYS  842.0   \n",
       "290  ...         87           GM    64.0            TOYS  954.0   \n",
       "297  ...         87           GM    64.0            TOYS  834.0   \n",
       "361  ...         87           GM    64.0            TOYS  834.0   \n",
       "\n",
       "                       COM_DSC  SUBCOM_CD      SUBCOM_DSC  \\\n",
       "53                       GAMES    87608.0     BOARD GAMES   \n",
       "71                  BASIC GIRL    87662.0   FASHION DOLLS   \n",
       "80            BASIC PRE-SCHOOL    87651.0    FISHER PRICE   \n",
       "108  KOSHER FOODS AND PRODUCTS    18278.0    KOSHER CANDY   \n",
       "170                 BASIC GIRL    97305.0    BARBIE DOLLS   \n",
       "180            BASIC BOYS TOYS    87605.0  ACTION FIGURES   \n",
       "205                      GAMES    87614.0      CARD GAMES   \n",
       "290           BASIC PRE-SCHOOL    87646.0  PRESCHOOL TOYS   \n",
       "297            BASIC BOYS TOYS    87668.0    CONSTRUCTION   \n",
       "361            BASIC BOYS TOYS    87605.0  ACTION FIGURES   \n",
       "\n",
       "                                          VND_ECOM_DSC  \\\n",
       "53                                Monopoly® Board Game   \n",
       "71                               DPR TANGLED STORY FIG   \n",
       "80   Fisher-Price Imaginext Jurassic World Dinosaur...   \n",
       "108                   GEDILLA CANDY - CHANUKAH DREIDLE   \n",
       "170                          MTL BRB LIC FASHION LOOKS   \n",
       "180                                   SPD 6 QUICK SHOT   \n",
       "205                    Hasbro Gaming Rubik's Cube Game   \n",
       "290  Hasbro Sesame Street Abby Cadabby Mini Plush Doll   \n",
       "297                MEGA Mega Construx Pokmon Blastoise   \n",
       "361                                 TRA3 CYBERTECH DLX   \n",
       "\n",
       "                                      ITEM_SUBCOM_text  \n",
       "53                    monopoly® board game board games  \n",
       "71                 dpr tangled story fig fashion dolls  \n",
       "80   fisher-price imaginext jurassic world dinosaur...  \n",
       "108      gedilla candy - chanukah dreidle kosher candy  \n",
       "170             mtl brb lic fashion looks barbie dolls  \n",
       "180                    spd 6 quick shot action figures  \n",
       "205         hasbro gaming rubik's cube game card games  \n",
       "290  hasbro sesame street abby cadabby mini plush d...  \n",
       "297   mega mega construx pokmon blastoise construction  \n",
       "361                  tra3 cybertech dlx action figures  \n",
       "\n",
       "[10 rows x 24 columns]"
      ]
     },
     "execution_count": 56,
     "metadata": {},
     "output_type": "execute_result"
    }
   ],
   "source": [
    "subset_df.head(10)"
   ]
  },
  {
   "cell_type": "code",
   "execution_count": 53,
   "metadata": {},
   "outputs": [
    {
     "data": {
      "text/plain": [
       "53                Games & Puzzles\n",
       "71                    Toy Figures\n",
       "80                    Toy Figures\n",
       "108               Games & Puzzles\n",
       "170                   Toy Figures\n",
       "                   ...           \n",
       "258215    Construction & Modeling\n",
       "258376               Toy Vehicles\n",
       "258717                Toy Figures\n",
       "258827                Toy Figures\n",
       "258831    Construction & Modeling\n",
       "Name: Level 2, Length: 3190, dtype: object"
      ]
     },
     "execution_count": 53,
     "metadata": {},
     "output_type": "execute_result"
    }
   ],
   "source": [
    "subset_df['Level 2']"
   ]
  },
  {
   "cell_type": "code",
   "execution_count": 54,
   "metadata": {},
   "outputs": [
    {
     "data": {
      "text/html": [
       "<div>\n",
       "<style scoped>\n",
       "    .dataframe tbody tr th:only-of-type {\n",
       "        vertical-align: middle;\n",
       "    }\n",
       "\n",
       "    .dataframe tbody tr th {\n",
       "        vertical-align: top;\n",
       "    }\n",
       "\n",
       "    .dataframe thead th {\n",
       "        text-align: right;\n",
       "    }\n",
       "</style>\n",
       "<table border=\"1\" class=\"dataframe\">\n",
       "  <thead>\n",
       "    <tr style=\"text-align: right;\">\n",
       "      <th></th>\n",
       "      <th>Level 2</th>\n",
       "    </tr>\n",
       "  </thead>\n",
       "  <tbody>\n",
       "    <tr>\n",
       "      <th>53</th>\n",
       "      <td>Games &amp; Puzzles</td>\n",
       "    </tr>\n",
       "    <tr>\n",
       "      <th>71</th>\n",
       "      <td>Toy Figures</td>\n",
       "    </tr>\n",
       "    <tr>\n",
       "      <th>80</th>\n",
       "      <td>Toy Figures</td>\n",
       "    </tr>\n",
       "    <tr>\n",
       "      <th>108</th>\n",
       "      <td>Games &amp; Puzzles</td>\n",
       "    </tr>\n",
       "    <tr>\n",
       "      <th>170</th>\n",
       "      <td>Toy Figures</td>\n",
       "    </tr>\n",
       "    <tr>\n",
       "      <th>...</th>\n",
       "      <td>...</td>\n",
       "    </tr>\n",
       "    <tr>\n",
       "      <th>258215</th>\n",
       "      <td>Construction &amp; Modeling</td>\n",
       "    </tr>\n",
       "    <tr>\n",
       "      <th>258376</th>\n",
       "      <td>Toy Vehicles</td>\n",
       "    </tr>\n",
       "    <tr>\n",
       "      <th>258717</th>\n",
       "      <td>Toy Figures</td>\n",
       "    </tr>\n",
       "    <tr>\n",
       "      <th>258827</th>\n",
       "      <td>Toy Figures</td>\n",
       "    </tr>\n",
       "    <tr>\n",
       "      <th>258831</th>\n",
       "      <td>Construction &amp; Modeling</td>\n",
       "    </tr>\n",
       "  </tbody>\n",
       "</table>\n",
       "<p>3190 rows × 1 columns</p>\n",
       "</div>"
      ],
      "text/plain": [
       "                        Level 2\n",
       "53              Games & Puzzles\n",
       "71                  Toy Figures\n",
       "80                  Toy Figures\n",
       "108             Games & Puzzles\n",
       "170                 Toy Figures\n",
       "...                         ...\n",
       "258215  Construction & Modeling\n",
       "258376             Toy Vehicles\n",
       "258717              Toy Figures\n",
       "258827              Toy Figures\n",
       "258831  Construction & Modeling\n",
       "\n",
       "[3190 rows x 1 columns]"
      ]
     },
     "execution_count": 54,
     "metadata": {},
     "output_type": "execute_result"
    }
   ],
   "source": [
    "subset_df[['Level 2']]"
   ]
  },
  {
   "cell_type": "code",
   "execution_count": 55,
   "metadata": {},
   "outputs": [
    {
     "data": {
      "text/plain": [
       "Int64Index([    53,     71,     80,    108,    170,    180,    205,    290,\n",
       "               297,    361,\n",
       "            ...\n",
       "            257772, 257788, 257916, 257958, 257985, 258215, 258376, 258717,\n",
       "            258827, 258831],\n",
       "           dtype='int64', length=3190)"
      ]
     },
     "execution_count": 55,
     "metadata": {},
     "output_type": "execute_result"
    }
   ],
   "source": [
    "subset_df[['Level 2']].index"
   ]
  },
  {
   "cell_type": "code",
   "execution_count": 14,
   "metadata": {},
   "outputs": [],
   "source": [
    "# Load libraries\n",
    "from pandas import read_csv\n",
    "from pandas.plotting import scatter_matrix\n",
    "from matplotlib import pyplot\n",
    "from sklearn.model_selection import train_test_split\n",
    "from sklearn.model_selection import cross_val_score\n",
    "from sklearn.model_selection import StratifiedKFold\n",
    "from sklearn.metrics import classification_report\n",
    "from sklearn.metrics import confusion_matrix\n",
    "from sklearn.metrics import accuracy_score\n",
    "from sklearn.linear_model import LogisticRegression\n",
    "from sklearn.tree import DecisionTreeClassifier\n",
    "from sklearn.neighbors import KNeighborsClassifier\n",
    "from sklearn.discriminant_analysis import LinearDiscriminantAnalysis\n",
    "from sklearn.naive_bayes import GaussianNB\n",
    "from sklearn.svm import SVC\n"
   ]
  },
  {
   "cell_type": "code",
   "execution_count": 21,
   "metadata": {},
   "outputs": [
    {
     "ename": "KeyboardInterrupt",
     "evalue": "",
     "output_type": "error",
     "traceback": [
      "\u001b[1;31m---------------------------------------------------------------------------\u001b[0m",
      "\u001b[1;31mKeyboardInterrupt\u001b[0m                         Traceback (most recent call last)",
      "Cell \u001b[1;32mIn[21], line 14\u001b[0m\n\u001b[0;32m     12\u001b[0m \u001b[38;5;28;01mfor\u001b[39;00m name, model \u001b[38;5;129;01min\u001b[39;00m models:\n\u001b[0;32m     13\u001b[0m \tkfold \u001b[38;5;241m=\u001b[39m StratifiedKFold(n_splits\u001b[38;5;241m=\u001b[39m\u001b[38;5;241m10\u001b[39m, random_state\u001b[38;5;241m=\u001b[39m\u001b[38;5;241m1\u001b[39m, shuffle\u001b[38;5;241m=\u001b[39m\u001b[38;5;28;01mTrue\u001b[39;00m)\n\u001b[1;32m---> 14\u001b[0m \tcv_results \u001b[38;5;241m=\u001b[39m \u001b[43mcross_val_score\u001b[49m\u001b[43m(\u001b[49m\u001b[43mmodel\u001b[49m\u001b[43m,\u001b[49m\u001b[43m \u001b[49m\u001b[43mX_subset\u001b[49m\u001b[43m,\u001b[49m\u001b[43m \u001b[49m\u001b[43my_subset\u001b[49m\u001b[43m,\u001b[49m\u001b[43m \u001b[49m\u001b[43mcv\u001b[49m\u001b[38;5;241;43m=\u001b[39;49m\u001b[43mkfold\u001b[49m\u001b[43m,\u001b[49m\u001b[43m \u001b[49m\u001b[43mscoring\u001b[49m\u001b[38;5;241;43m=\u001b[39;49m\u001b[38;5;124;43m'\u001b[39;49m\u001b[38;5;124;43maccuracy\u001b[39;49m\u001b[38;5;124;43m'\u001b[39;49m\u001b[43m)\u001b[49m\n\u001b[0;32m     15\u001b[0m \tresults\u001b[38;5;241m.\u001b[39mappend(cv_results)\n\u001b[0;32m     16\u001b[0m \tnames\u001b[38;5;241m.\u001b[39mappend(name)\n",
      "File \u001b[1;32m~\\AppData\\Local\\anaconda3\\lib\\site-packages\\sklearn\\model_selection\\_validation.py:515\u001b[0m, in \u001b[0;36mcross_val_score\u001b[1;34m(estimator, X, y, groups, scoring, cv, n_jobs, verbose, fit_params, pre_dispatch, error_score)\u001b[0m\n\u001b[0;32m    512\u001b[0m \u001b[38;5;66;03m# To ensure multimetric format is not supported\u001b[39;00m\n\u001b[0;32m    513\u001b[0m scorer \u001b[38;5;241m=\u001b[39m check_scoring(estimator, scoring\u001b[38;5;241m=\u001b[39mscoring)\n\u001b[1;32m--> 515\u001b[0m cv_results \u001b[38;5;241m=\u001b[39m \u001b[43mcross_validate\u001b[49m\u001b[43m(\u001b[49m\n\u001b[0;32m    516\u001b[0m \u001b[43m    \u001b[49m\u001b[43mestimator\u001b[49m\u001b[38;5;241;43m=\u001b[39;49m\u001b[43mestimator\u001b[49m\u001b[43m,\u001b[49m\n\u001b[0;32m    517\u001b[0m \u001b[43m    \u001b[49m\u001b[43mX\u001b[49m\u001b[38;5;241;43m=\u001b[39;49m\u001b[43mX\u001b[49m\u001b[43m,\u001b[49m\n\u001b[0;32m    518\u001b[0m \u001b[43m    \u001b[49m\u001b[43my\u001b[49m\u001b[38;5;241;43m=\u001b[39;49m\u001b[43my\u001b[49m\u001b[43m,\u001b[49m\n\u001b[0;32m    519\u001b[0m \u001b[43m    \u001b[49m\u001b[43mgroups\u001b[49m\u001b[38;5;241;43m=\u001b[39;49m\u001b[43mgroups\u001b[49m\u001b[43m,\u001b[49m\n\u001b[0;32m    520\u001b[0m \u001b[43m    \u001b[49m\u001b[43mscoring\u001b[49m\u001b[38;5;241;43m=\u001b[39;49m\u001b[43m{\u001b[49m\u001b[38;5;124;43m\"\u001b[39;49m\u001b[38;5;124;43mscore\u001b[39;49m\u001b[38;5;124;43m\"\u001b[39;49m\u001b[43m:\u001b[49m\u001b[43m \u001b[49m\u001b[43mscorer\u001b[49m\u001b[43m}\u001b[49m\u001b[43m,\u001b[49m\n\u001b[0;32m    521\u001b[0m \u001b[43m    \u001b[49m\u001b[43mcv\u001b[49m\u001b[38;5;241;43m=\u001b[39;49m\u001b[43mcv\u001b[49m\u001b[43m,\u001b[49m\n\u001b[0;32m    522\u001b[0m \u001b[43m    \u001b[49m\u001b[43mn_jobs\u001b[49m\u001b[38;5;241;43m=\u001b[39;49m\u001b[43mn_jobs\u001b[49m\u001b[43m,\u001b[49m\n\u001b[0;32m    523\u001b[0m \u001b[43m    \u001b[49m\u001b[43mverbose\u001b[49m\u001b[38;5;241;43m=\u001b[39;49m\u001b[43mverbose\u001b[49m\u001b[43m,\u001b[49m\n\u001b[0;32m    524\u001b[0m \u001b[43m    \u001b[49m\u001b[43mfit_params\u001b[49m\u001b[38;5;241;43m=\u001b[39;49m\u001b[43mfit_params\u001b[49m\u001b[43m,\u001b[49m\n\u001b[0;32m    525\u001b[0m \u001b[43m    \u001b[49m\u001b[43mpre_dispatch\u001b[49m\u001b[38;5;241;43m=\u001b[39;49m\u001b[43mpre_dispatch\u001b[49m\u001b[43m,\u001b[49m\n\u001b[0;32m    526\u001b[0m \u001b[43m    \u001b[49m\u001b[43merror_score\u001b[49m\u001b[38;5;241;43m=\u001b[39;49m\u001b[43merror_score\u001b[49m\u001b[43m,\u001b[49m\n\u001b[0;32m    527\u001b[0m \u001b[43m\u001b[49m\u001b[43m)\u001b[49m\n\u001b[0;32m    528\u001b[0m \u001b[38;5;28;01mreturn\u001b[39;00m cv_results[\u001b[38;5;124m\"\u001b[39m\u001b[38;5;124mtest_score\u001b[39m\u001b[38;5;124m\"\u001b[39m]\n",
      "File \u001b[1;32m~\\AppData\\Local\\anaconda3\\lib\\site-packages\\sklearn\\model_selection\\_validation.py:266\u001b[0m, in \u001b[0;36mcross_validate\u001b[1;34m(estimator, X, y, groups, scoring, cv, n_jobs, verbose, fit_params, pre_dispatch, return_train_score, return_estimator, error_score)\u001b[0m\n\u001b[0;32m    263\u001b[0m \u001b[38;5;66;03m# We clone the estimator to make sure that all the folds are\u001b[39;00m\n\u001b[0;32m    264\u001b[0m \u001b[38;5;66;03m# independent, and that it is pickle-able.\u001b[39;00m\n\u001b[0;32m    265\u001b[0m parallel \u001b[38;5;241m=\u001b[39m Parallel(n_jobs\u001b[38;5;241m=\u001b[39mn_jobs, verbose\u001b[38;5;241m=\u001b[39mverbose, pre_dispatch\u001b[38;5;241m=\u001b[39mpre_dispatch)\n\u001b[1;32m--> 266\u001b[0m results \u001b[38;5;241m=\u001b[39m \u001b[43mparallel\u001b[49m\u001b[43m(\u001b[49m\n\u001b[0;32m    267\u001b[0m \u001b[43m    \u001b[49m\u001b[43mdelayed\u001b[49m\u001b[43m(\u001b[49m\u001b[43m_fit_and_score\u001b[49m\u001b[43m)\u001b[49m\u001b[43m(\u001b[49m\n\u001b[0;32m    268\u001b[0m \u001b[43m        \u001b[49m\u001b[43mclone\u001b[49m\u001b[43m(\u001b[49m\u001b[43mestimator\u001b[49m\u001b[43m)\u001b[49m\u001b[43m,\u001b[49m\n\u001b[0;32m    269\u001b[0m \u001b[43m        \u001b[49m\u001b[43mX\u001b[49m\u001b[43m,\u001b[49m\n\u001b[0;32m    270\u001b[0m \u001b[43m        \u001b[49m\u001b[43my\u001b[49m\u001b[43m,\u001b[49m\n\u001b[0;32m    271\u001b[0m \u001b[43m        \u001b[49m\u001b[43mscorers\u001b[49m\u001b[43m,\u001b[49m\n\u001b[0;32m    272\u001b[0m \u001b[43m        \u001b[49m\u001b[43mtrain\u001b[49m\u001b[43m,\u001b[49m\n\u001b[0;32m    273\u001b[0m \u001b[43m        \u001b[49m\u001b[43mtest\u001b[49m\u001b[43m,\u001b[49m\n\u001b[0;32m    274\u001b[0m \u001b[43m        \u001b[49m\u001b[43mverbose\u001b[49m\u001b[43m,\u001b[49m\n\u001b[0;32m    275\u001b[0m \u001b[43m        \u001b[49m\u001b[38;5;28;43;01mNone\u001b[39;49;00m\u001b[43m,\u001b[49m\n\u001b[0;32m    276\u001b[0m \u001b[43m        \u001b[49m\u001b[43mfit_params\u001b[49m\u001b[43m,\u001b[49m\n\u001b[0;32m    277\u001b[0m \u001b[43m        \u001b[49m\u001b[43mreturn_train_score\u001b[49m\u001b[38;5;241;43m=\u001b[39;49m\u001b[43mreturn_train_score\u001b[49m\u001b[43m,\u001b[49m\n\u001b[0;32m    278\u001b[0m \u001b[43m        \u001b[49m\u001b[43mreturn_times\u001b[49m\u001b[38;5;241;43m=\u001b[39;49m\u001b[38;5;28;43;01mTrue\u001b[39;49;00m\u001b[43m,\u001b[49m\n\u001b[0;32m    279\u001b[0m \u001b[43m        \u001b[49m\u001b[43mreturn_estimator\u001b[49m\u001b[38;5;241;43m=\u001b[39;49m\u001b[43mreturn_estimator\u001b[49m\u001b[43m,\u001b[49m\n\u001b[0;32m    280\u001b[0m \u001b[43m        \u001b[49m\u001b[43merror_score\u001b[49m\u001b[38;5;241;43m=\u001b[39;49m\u001b[43merror_score\u001b[49m\u001b[43m,\u001b[49m\n\u001b[0;32m    281\u001b[0m \u001b[43m    \u001b[49m\u001b[43m)\u001b[49m\n\u001b[0;32m    282\u001b[0m \u001b[43m    \u001b[49m\u001b[38;5;28;43;01mfor\u001b[39;49;00m\u001b[43m \u001b[49m\u001b[43mtrain\u001b[49m\u001b[43m,\u001b[49m\u001b[43m \u001b[49m\u001b[43mtest\u001b[49m\u001b[43m \u001b[49m\u001b[38;5;129;43;01min\u001b[39;49;00m\u001b[43m \u001b[49m\u001b[43mcv\u001b[49m\u001b[38;5;241;43m.\u001b[39;49m\u001b[43msplit\u001b[49m\u001b[43m(\u001b[49m\u001b[43mX\u001b[49m\u001b[43m,\u001b[49m\u001b[43m \u001b[49m\u001b[43my\u001b[49m\u001b[43m,\u001b[49m\u001b[43m \u001b[49m\u001b[43mgroups\u001b[49m\u001b[43m)\u001b[49m\n\u001b[0;32m    283\u001b[0m \u001b[43m\u001b[49m\u001b[43m)\u001b[49m\n\u001b[0;32m    285\u001b[0m _warn_or_raise_about_fit_failures(results, error_score)\n\u001b[0;32m    287\u001b[0m \u001b[38;5;66;03m# For callabe scoring, the return type is only know after calling. If the\u001b[39;00m\n\u001b[0;32m    288\u001b[0m \u001b[38;5;66;03m# return type is a dictionary, the error scores can now be inserted with\u001b[39;00m\n\u001b[0;32m    289\u001b[0m \u001b[38;5;66;03m# the correct key.\u001b[39;00m\n",
      "File \u001b[1;32m~\\AppData\\Local\\anaconda3\\lib\\site-packages\\sklearn\\utils\\parallel.py:63\u001b[0m, in \u001b[0;36mParallel.__call__\u001b[1;34m(self, iterable)\u001b[0m\n\u001b[0;32m     58\u001b[0m config \u001b[38;5;241m=\u001b[39m get_config()\n\u001b[0;32m     59\u001b[0m iterable_with_config \u001b[38;5;241m=\u001b[39m (\n\u001b[0;32m     60\u001b[0m     (_with_config(delayed_func, config), args, kwargs)\n\u001b[0;32m     61\u001b[0m     \u001b[38;5;28;01mfor\u001b[39;00m delayed_func, args, kwargs \u001b[38;5;129;01min\u001b[39;00m iterable\n\u001b[0;32m     62\u001b[0m )\n\u001b[1;32m---> 63\u001b[0m \u001b[38;5;28;01mreturn\u001b[39;00m \u001b[38;5;28;43msuper\u001b[39;49m\u001b[43m(\u001b[49m\u001b[43m)\u001b[49m\u001b[38;5;241;43m.\u001b[39;49m\u001b[38;5;21;43m__call__\u001b[39;49m\u001b[43m(\u001b[49m\u001b[43miterable_with_config\u001b[49m\u001b[43m)\u001b[49m\n",
      "File \u001b[1;32m~\\AppData\\Roaming\\Python\\Python310\\site-packages\\joblib\\parallel.py:1863\u001b[0m, in \u001b[0;36mParallel.__call__\u001b[1;34m(self, iterable)\u001b[0m\n\u001b[0;32m   1861\u001b[0m     output \u001b[38;5;241m=\u001b[39m \u001b[38;5;28mself\u001b[39m\u001b[38;5;241m.\u001b[39m_get_sequential_output(iterable)\n\u001b[0;32m   1862\u001b[0m     \u001b[38;5;28mnext\u001b[39m(output)\n\u001b[1;32m-> 1863\u001b[0m     \u001b[38;5;28;01mreturn\u001b[39;00m output \u001b[38;5;28;01mif\u001b[39;00m \u001b[38;5;28mself\u001b[39m\u001b[38;5;241m.\u001b[39mreturn_generator \u001b[38;5;28;01melse\u001b[39;00m \u001b[38;5;28;43mlist\u001b[39;49m\u001b[43m(\u001b[49m\u001b[43moutput\u001b[49m\u001b[43m)\u001b[49m\n\u001b[0;32m   1865\u001b[0m \u001b[38;5;66;03m# Let's create an ID that uniquely identifies the current call. If the\u001b[39;00m\n\u001b[0;32m   1866\u001b[0m \u001b[38;5;66;03m# call is interrupted early and that the same instance is immediately\u001b[39;00m\n\u001b[0;32m   1867\u001b[0m \u001b[38;5;66;03m# re-used, this id will be used to prevent workers that were\u001b[39;00m\n\u001b[0;32m   1868\u001b[0m \u001b[38;5;66;03m# concurrently finalizing a task from the previous call to run the\u001b[39;00m\n\u001b[0;32m   1869\u001b[0m \u001b[38;5;66;03m# callback.\u001b[39;00m\n\u001b[0;32m   1870\u001b[0m \u001b[38;5;28;01mwith\u001b[39;00m \u001b[38;5;28mself\u001b[39m\u001b[38;5;241m.\u001b[39m_lock:\n",
      "File \u001b[1;32m~\\AppData\\Roaming\\Python\\Python310\\site-packages\\joblib\\parallel.py:1792\u001b[0m, in \u001b[0;36mParallel._get_sequential_output\u001b[1;34m(self, iterable)\u001b[0m\n\u001b[0;32m   1790\u001b[0m \u001b[38;5;28mself\u001b[39m\u001b[38;5;241m.\u001b[39mn_dispatched_batches \u001b[38;5;241m+\u001b[39m\u001b[38;5;241m=\u001b[39m \u001b[38;5;241m1\u001b[39m\n\u001b[0;32m   1791\u001b[0m \u001b[38;5;28mself\u001b[39m\u001b[38;5;241m.\u001b[39mn_dispatched_tasks \u001b[38;5;241m+\u001b[39m\u001b[38;5;241m=\u001b[39m \u001b[38;5;241m1\u001b[39m\n\u001b[1;32m-> 1792\u001b[0m res \u001b[38;5;241m=\u001b[39m func(\u001b[38;5;241m*\u001b[39margs, \u001b[38;5;241m*\u001b[39m\u001b[38;5;241m*\u001b[39mkwargs)\n\u001b[0;32m   1793\u001b[0m \u001b[38;5;28mself\u001b[39m\u001b[38;5;241m.\u001b[39mn_completed_tasks \u001b[38;5;241m+\u001b[39m\u001b[38;5;241m=\u001b[39m \u001b[38;5;241m1\u001b[39m\n\u001b[0;32m   1794\u001b[0m \u001b[38;5;28mself\u001b[39m\u001b[38;5;241m.\u001b[39mprint_progress()\n",
      "File \u001b[1;32m~\\AppData\\Local\\anaconda3\\lib\\site-packages\\sklearn\\utils\\parallel.py:123\u001b[0m, in \u001b[0;36m_FuncWrapper.__call__\u001b[1;34m(self, *args, **kwargs)\u001b[0m\n\u001b[0;32m    121\u001b[0m     config \u001b[38;5;241m=\u001b[39m {}\n\u001b[0;32m    122\u001b[0m \u001b[38;5;28;01mwith\u001b[39;00m config_context(\u001b[38;5;241m*\u001b[39m\u001b[38;5;241m*\u001b[39mconfig):\n\u001b[1;32m--> 123\u001b[0m     \u001b[38;5;28;01mreturn\u001b[39;00m \u001b[38;5;28mself\u001b[39m\u001b[38;5;241m.\u001b[39mfunction(\u001b[38;5;241m*\u001b[39margs, \u001b[38;5;241m*\u001b[39m\u001b[38;5;241m*\u001b[39mkwargs)\n",
      "File \u001b[1;32m~\\AppData\\Local\\anaconda3\\lib\\site-packages\\sklearn\\model_selection\\_validation.py:686\u001b[0m, in \u001b[0;36m_fit_and_score\u001b[1;34m(estimator, X, y, scorer, train, test, verbose, parameters, fit_params, return_train_score, return_parameters, return_n_test_samples, return_times, return_estimator, split_progress, candidate_progress, error_score)\u001b[0m\n\u001b[0;32m    684\u001b[0m         estimator\u001b[38;5;241m.\u001b[39mfit(X_train, \u001b[38;5;241m*\u001b[39m\u001b[38;5;241m*\u001b[39mfit_params)\n\u001b[0;32m    685\u001b[0m     \u001b[38;5;28;01melse\u001b[39;00m:\n\u001b[1;32m--> 686\u001b[0m         estimator\u001b[38;5;241m.\u001b[39mfit(X_train, y_train, \u001b[38;5;241m*\u001b[39m\u001b[38;5;241m*\u001b[39mfit_params)\n\u001b[0;32m    688\u001b[0m \u001b[38;5;28;01mexcept\u001b[39;00m \u001b[38;5;167;01mException\u001b[39;00m:\n\u001b[0;32m    689\u001b[0m     \u001b[38;5;66;03m# Note fit time as time until error\u001b[39;00m\n\u001b[0;32m    690\u001b[0m     fit_time \u001b[38;5;241m=\u001b[39m time\u001b[38;5;241m.\u001b[39mtime() \u001b[38;5;241m-\u001b[39m start_time\n",
      "File \u001b[1;32m~\\AppData\\Local\\anaconda3\\lib\\site-packages\\sklearn\\linear_model\\_logistic.py:1869\u001b[0m, in \u001b[0;36mLogisticRegressionCV.fit\u001b[1;34m(self, X, y, sample_weight)\u001b[0m\n\u001b[0;32m   1866\u001b[0m \u001b[38;5;28;01melse\u001b[39;00m:\n\u001b[0;32m   1867\u001b[0m     prefer \u001b[38;5;241m=\u001b[39m \u001b[38;5;124m\"\u001b[39m\u001b[38;5;124mprocesses\u001b[39m\u001b[38;5;124m\"\u001b[39m\n\u001b[1;32m-> 1869\u001b[0m fold_coefs_ \u001b[38;5;241m=\u001b[39m \u001b[43mParallel\u001b[49m\u001b[43m(\u001b[49m\u001b[43mn_jobs\u001b[49m\u001b[38;5;241;43m=\u001b[39;49m\u001b[38;5;28;43mself\u001b[39;49m\u001b[38;5;241;43m.\u001b[39;49m\u001b[43mn_jobs\u001b[49m\u001b[43m,\u001b[49m\u001b[43m \u001b[49m\u001b[43mverbose\u001b[49m\u001b[38;5;241;43m=\u001b[39;49m\u001b[38;5;28;43mself\u001b[39;49m\u001b[38;5;241;43m.\u001b[39;49m\u001b[43mverbose\u001b[49m\u001b[43m,\u001b[49m\u001b[43m \u001b[49m\u001b[43mprefer\u001b[49m\u001b[38;5;241;43m=\u001b[39;49m\u001b[43mprefer\u001b[49m\u001b[43m)\u001b[49m\u001b[43m(\u001b[49m\n\u001b[0;32m   1870\u001b[0m \u001b[43m    \u001b[49m\u001b[43mpath_func\u001b[49m\u001b[43m(\u001b[49m\n\u001b[0;32m   1871\u001b[0m \u001b[43m        \u001b[49m\u001b[43mX\u001b[49m\u001b[43m,\u001b[49m\n\u001b[0;32m   1872\u001b[0m \u001b[43m        \u001b[49m\u001b[43my\u001b[49m\u001b[43m,\u001b[49m\n\u001b[0;32m   1873\u001b[0m \u001b[43m        \u001b[49m\u001b[43mtrain\u001b[49m\u001b[43m,\u001b[49m\n\u001b[0;32m   1874\u001b[0m \u001b[43m        \u001b[49m\u001b[43mtest\u001b[49m\u001b[43m,\u001b[49m\n\u001b[0;32m   1875\u001b[0m \u001b[43m        \u001b[49m\u001b[43mpos_class\u001b[49m\u001b[38;5;241;43m=\u001b[39;49m\u001b[43mlabel\u001b[49m\u001b[43m,\u001b[49m\n\u001b[0;32m   1876\u001b[0m \u001b[43m        \u001b[49m\u001b[43mCs\u001b[49m\u001b[38;5;241;43m=\u001b[39;49m\u001b[38;5;28;43mself\u001b[39;49m\u001b[38;5;241;43m.\u001b[39;49m\u001b[43mCs\u001b[49m\u001b[43m,\u001b[49m\n\u001b[0;32m   1877\u001b[0m \u001b[43m        \u001b[49m\u001b[43mfit_intercept\u001b[49m\u001b[38;5;241;43m=\u001b[39;49m\u001b[38;5;28;43mself\u001b[39;49m\u001b[38;5;241;43m.\u001b[39;49m\u001b[43mfit_intercept\u001b[49m\u001b[43m,\u001b[49m\n\u001b[0;32m   1878\u001b[0m \u001b[43m        \u001b[49m\u001b[43mpenalty\u001b[49m\u001b[38;5;241;43m=\u001b[39;49m\u001b[38;5;28;43mself\u001b[39;49m\u001b[38;5;241;43m.\u001b[39;49m\u001b[43mpenalty\u001b[49m\u001b[43m,\u001b[49m\n\u001b[0;32m   1879\u001b[0m \u001b[43m        \u001b[49m\u001b[43mdual\u001b[49m\u001b[38;5;241;43m=\u001b[39;49m\u001b[38;5;28;43mself\u001b[39;49m\u001b[38;5;241;43m.\u001b[39;49m\u001b[43mdual\u001b[49m\u001b[43m,\u001b[49m\n\u001b[0;32m   1880\u001b[0m \u001b[43m        \u001b[49m\u001b[43msolver\u001b[49m\u001b[38;5;241;43m=\u001b[39;49m\u001b[43msolver\u001b[49m\u001b[43m,\u001b[49m\n\u001b[0;32m   1881\u001b[0m \u001b[43m        \u001b[49m\u001b[43mtol\u001b[49m\u001b[38;5;241;43m=\u001b[39;49m\u001b[38;5;28;43mself\u001b[39;49m\u001b[38;5;241;43m.\u001b[39;49m\u001b[43mtol\u001b[49m\u001b[43m,\u001b[49m\n\u001b[0;32m   1882\u001b[0m \u001b[43m        \u001b[49m\u001b[43mmax_iter\u001b[49m\u001b[38;5;241;43m=\u001b[39;49m\u001b[38;5;28;43mself\u001b[39;49m\u001b[38;5;241;43m.\u001b[39;49m\u001b[43mmax_iter\u001b[49m\u001b[43m,\u001b[49m\n\u001b[0;32m   1883\u001b[0m \u001b[43m        \u001b[49m\u001b[43mverbose\u001b[49m\u001b[38;5;241;43m=\u001b[39;49m\u001b[38;5;28;43mself\u001b[39;49m\u001b[38;5;241;43m.\u001b[39;49m\u001b[43mverbose\u001b[49m\u001b[43m,\u001b[49m\n\u001b[0;32m   1884\u001b[0m \u001b[43m        \u001b[49m\u001b[43mclass_weight\u001b[49m\u001b[38;5;241;43m=\u001b[39;49m\u001b[43mclass_weight\u001b[49m\u001b[43m,\u001b[49m\n\u001b[0;32m   1885\u001b[0m \u001b[43m        \u001b[49m\u001b[43mscoring\u001b[49m\u001b[38;5;241;43m=\u001b[39;49m\u001b[38;5;28;43mself\u001b[39;49m\u001b[38;5;241;43m.\u001b[39;49m\u001b[43mscoring\u001b[49m\u001b[43m,\u001b[49m\n\u001b[0;32m   1886\u001b[0m \u001b[43m        \u001b[49m\u001b[43mmulti_class\u001b[49m\u001b[38;5;241;43m=\u001b[39;49m\u001b[43mmulti_class\u001b[49m\u001b[43m,\u001b[49m\n\u001b[0;32m   1887\u001b[0m \u001b[43m        \u001b[49m\u001b[43mintercept_scaling\u001b[49m\u001b[38;5;241;43m=\u001b[39;49m\u001b[38;5;28;43mself\u001b[39;49m\u001b[38;5;241;43m.\u001b[39;49m\u001b[43mintercept_scaling\u001b[49m\u001b[43m,\u001b[49m\n\u001b[0;32m   1888\u001b[0m \u001b[43m        \u001b[49m\u001b[43mrandom_state\u001b[49m\u001b[38;5;241;43m=\u001b[39;49m\u001b[38;5;28;43mself\u001b[39;49m\u001b[38;5;241;43m.\u001b[39;49m\u001b[43mrandom_state\u001b[49m\u001b[43m,\u001b[49m\n\u001b[0;32m   1889\u001b[0m \u001b[43m        \u001b[49m\u001b[43mmax_squared_sum\u001b[49m\u001b[38;5;241;43m=\u001b[39;49m\u001b[43mmax_squared_sum\u001b[49m\u001b[43m,\u001b[49m\n\u001b[0;32m   1890\u001b[0m \u001b[43m        \u001b[49m\u001b[43msample_weight\u001b[49m\u001b[38;5;241;43m=\u001b[39;49m\u001b[43msample_weight\u001b[49m\u001b[43m,\u001b[49m\n\u001b[0;32m   1891\u001b[0m \u001b[43m        \u001b[49m\u001b[43ml1_ratio\u001b[49m\u001b[38;5;241;43m=\u001b[39;49m\u001b[43ml1_ratio\u001b[49m\u001b[43m,\u001b[49m\n\u001b[0;32m   1892\u001b[0m \u001b[43m    \u001b[49m\u001b[43m)\u001b[49m\n\u001b[0;32m   1893\u001b[0m \u001b[43m    \u001b[49m\u001b[38;5;28;43;01mfor\u001b[39;49;00m\u001b[43m \u001b[49m\u001b[43mlabel\u001b[49m\u001b[43m \u001b[49m\u001b[38;5;129;43;01min\u001b[39;49;00m\u001b[43m \u001b[49m\u001b[43miter_encoded_labels\u001b[49m\n\u001b[0;32m   1894\u001b[0m \u001b[43m    \u001b[49m\u001b[38;5;28;43;01mfor\u001b[39;49;00m\u001b[43m \u001b[49m\u001b[43mtrain\u001b[49m\u001b[43m,\u001b[49m\u001b[43m \u001b[49m\u001b[43mtest\u001b[49m\u001b[43m \u001b[49m\u001b[38;5;129;43;01min\u001b[39;49;00m\u001b[43m \u001b[49m\u001b[43mfolds\u001b[49m\n\u001b[0;32m   1895\u001b[0m \u001b[43m    \u001b[49m\u001b[38;5;28;43;01mfor\u001b[39;49;00m\u001b[43m \u001b[49m\u001b[43ml1_ratio\u001b[49m\u001b[43m \u001b[49m\u001b[38;5;129;43;01min\u001b[39;49;00m\u001b[43m \u001b[49m\u001b[43ml1_ratios_\u001b[49m\n\u001b[0;32m   1896\u001b[0m \u001b[43m\u001b[49m\u001b[43m)\u001b[49m\n\u001b[0;32m   1898\u001b[0m \u001b[38;5;66;03m# _log_reg_scoring_path will output different shapes depending on the\u001b[39;00m\n\u001b[0;32m   1899\u001b[0m \u001b[38;5;66;03m# multi_class param, so we need to reshape the outputs accordingly.\u001b[39;00m\n\u001b[0;32m   1900\u001b[0m \u001b[38;5;66;03m# Cs is of shape (n_classes . n_folds . n_l1_ratios, n_Cs) and all the\u001b[39;00m\n\u001b[1;32m   (...)\u001b[0m\n\u001b[0;32m   1907\u001b[0m \u001b[38;5;66;03m#  (n_classes, n_folds, n_Cs . n_l1_ratios) or\u001b[39;00m\n\u001b[0;32m   1908\u001b[0m \u001b[38;5;66;03m#  (1, n_folds, n_Cs . n_l1_ratios)\u001b[39;00m\n\u001b[0;32m   1909\u001b[0m coefs_paths, Cs, scores, n_iter_ \u001b[38;5;241m=\u001b[39m \u001b[38;5;28mzip\u001b[39m(\u001b[38;5;241m*\u001b[39mfold_coefs_)\n",
      "File \u001b[1;32m~\\AppData\\Local\\anaconda3\\lib\\site-packages\\sklearn\\utils\\parallel.py:63\u001b[0m, in \u001b[0;36mParallel.__call__\u001b[1;34m(self, iterable)\u001b[0m\n\u001b[0;32m     58\u001b[0m config \u001b[38;5;241m=\u001b[39m get_config()\n\u001b[0;32m     59\u001b[0m iterable_with_config \u001b[38;5;241m=\u001b[39m (\n\u001b[0;32m     60\u001b[0m     (_with_config(delayed_func, config), args, kwargs)\n\u001b[0;32m     61\u001b[0m     \u001b[38;5;28;01mfor\u001b[39;00m delayed_func, args, kwargs \u001b[38;5;129;01min\u001b[39;00m iterable\n\u001b[0;32m     62\u001b[0m )\n\u001b[1;32m---> 63\u001b[0m \u001b[38;5;28;01mreturn\u001b[39;00m \u001b[38;5;28;43msuper\u001b[39;49m\u001b[43m(\u001b[49m\u001b[43m)\u001b[49m\u001b[38;5;241;43m.\u001b[39;49m\u001b[38;5;21;43m__call__\u001b[39;49m\u001b[43m(\u001b[49m\u001b[43miterable_with_config\u001b[49m\u001b[43m)\u001b[49m\n",
      "File \u001b[1;32m~\\AppData\\Roaming\\Python\\Python310\\site-packages\\joblib\\parallel.py:1863\u001b[0m, in \u001b[0;36mParallel.__call__\u001b[1;34m(self, iterable)\u001b[0m\n\u001b[0;32m   1861\u001b[0m     output \u001b[38;5;241m=\u001b[39m \u001b[38;5;28mself\u001b[39m\u001b[38;5;241m.\u001b[39m_get_sequential_output(iterable)\n\u001b[0;32m   1862\u001b[0m     \u001b[38;5;28mnext\u001b[39m(output)\n\u001b[1;32m-> 1863\u001b[0m     \u001b[38;5;28;01mreturn\u001b[39;00m output \u001b[38;5;28;01mif\u001b[39;00m \u001b[38;5;28mself\u001b[39m\u001b[38;5;241m.\u001b[39mreturn_generator \u001b[38;5;28;01melse\u001b[39;00m \u001b[38;5;28;43mlist\u001b[39;49m\u001b[43m(\u001b[49m\u001b[43moutput\u001b[49m\u001b[43m)\u001b[49m\n\u001b[0;32m   1865\u001b[0m \u001b[38;5;66;03m# Let's create an ID that uniquely identifies the current call. If the\u001b[39;00m\n\u001b[0;32m   1866\u001b[0m \u001b[38;5;66;03m# call is interrupted early and that the same instance is immediately\u001b[39;00m\n\u001b[0;32m   1867\u001b[0m \u001b[38;5;66;03m# re-used, this id will be used to prevent workers that were\u001b[39;00m\n\u001b[0;32m   1868\u001b[0m \u001b[38;5;66;03m# concurrently finalizing a task from the previous call to run the\u001b[39;00m\n\u001b[0;32m   1869\u001b[0m \u001b[38;5;66;03m# callback.\u001b[39;00m\n\u001b[0;32m   1870\u001b[0m \u001b[38;5;28;01mwith\u001b[39;00m \u001b[38;5;28mself\u001b[39m\u001b[38;5;241m.\u001b[39m_lock:\n",
      "File \u001b[1;32m~\\AppData\\Roaming\\Python\\Python310\\site-packages\\joblib\\parallel.py:1792\u001b[0m, in \u001b[0;36mParallel._get_sequential_output\u001b[1;34m(self, iterable)\u001b[0m\n\u001b[0;32m   1790\u001b[0m \u001b[38;5;28mself\u001b[39m\u001b[38;5;241m.\u001b[39mn_dispatched_batches \u001b[38;5;241m+\u001b[39m\u001b[38;5;241m=\u001b[39m \u001b[38;5;241m1\u001b[39m\n\u001b[0;32m   1791\u001b[0m \u001b[38;5;28mself\u001b[39m\u001b[38;5;241m.\u001b[39mn_dispatched_tasks \u001b[38;5;241m+\u001b[39m\u001b[38;5;241m=\u001b[39m \u001b[38;5;241m1\u001b[39m\n\u001b[1;32m-> 1792\u001b[0m res \u001b[38;5;241m=\u001b[39m func(\u001b[38;5;241m*\u001b[39margs, \u001b[38;5;241m*\u001b[39m\u001b[38;5;241m*\u001b[39mkwargs)\n\u001b[0;32m   1793\u001b[0m \u001b[38;5;28mself\u001b[39m\u001b[38;5;241m.\u001b[39mn_completed_tasks \u001b[38;5;241m+\u001b[39m\u001b[38;5;241m=\u001b[39m \u001b[38;5;241m1\u001b[39m\n\u001b[0;32m   1794\u001b[0m \u001b[38;5;28mself\u001b[39m\u001b[38;5;241m.\u001b[39mprint_progress()\n",
      "File \u001b[1;32m~\\AppData\\Local\\anaconda3\\lib\\site-packages\\sklearn\\utils\\parallel.py:123\u001b[0m, in \u001b[0;36m_FuncWrapper.__call__\u001b[1;34m(self, *args, **kwargs)\u001b[0m\n\u001b[0;32m    121\u001b[0m     config \u001b[38;5;241m=\u001b[39m {}\n\u001b[0;32m    122\u001b[0m \u001b[38;5;28;01mwith\u001b[39;00m config_context(\u001b[38;5;241m*\u001b[39m\u001b[38;5;241m*\u001b[39mconfig):\n\u001b[1;32m--> 123\u001b[0m     \u001b[38;5;28;01mreturn\u001b[39;00m \u001b[38;5;28mself\u001b[39m\u001b[38;5;241m.\u001b[39mfunction(\u001b[38;5;241m*\u001b[39margs, \u001b[38;5;241m*\u001b[39m\u001b[38;5;241m*\u001b[39mkwargs)\n",
      "File \u001b[1;32m~\\AppData\\Local\\anaconda3\\lib\\site-packages\\sklearn\\linear_model\\_logistic.py:723\u001b[0m, in \u001b[0;36m_log_reg_scoring_path\u001b[1;34m(X, y, train, test, pos_class, Cs, scoring, fit_intercept, max_iter, tol, class_weight, verbose, solver, penalty, dual, intercept_scaling, multi_class, random_state, max_squared_sum, sample_weight, l1_ratio)\u001b[0m\n\u001b[0;32m    720\u001b[0m     sample_weight \u001b[38;5;241m=\u001b[39m _check_sample_weight(sample_weight, X)\n\u001b[0;32m    721\u001b[0m     sample_weight \u001b[38;5;241m=\u001b[39m sample_weight[train]\n\u001b[1;32m--> 723\u001b[0m coefs, Cs, n_iter \u001b[38;5;241m=\u001b[39m \u001b[43m_logistic_regression_path\u001b[49m\u001b[43m(\u001b[49m\n\u001b[0;32m    724\u001b[0m \u001b[43m    \u001b[49m\u001b[43mX_train\u001b[49m\u001b[43m,\u001b[49m\n\u001b[0;32m    725\u001b[0m \u001b[43m    \u001b[49m\u001b[43my_train\u001b[49m\u001b[43m,\u001b[49m\n\u001b[0;32m    726\u001b[0m \u001b[43m    \u001b[49m\u001b[43mCs\u001b[49m\u001b[38;5;241;43m=\u001b[39;49m\u001b[43mCs\u001b[49m\u001b[43m,\u001b[49m\n\u001b[0;32m    727\u001b[0m \u001b[43m    \u001b[49m\u001b[43ml1_ratio\u001b[49m\u001b[38;5;241;43m=\u001b[39;49m\u001b[43ml1_ratio\u001b[49m\u001b[43m,\u001b[49m\n\u001b[0;32m    728\u001b[0m \u001b[43m    \u001b[49m\u001b[43mfit_intercept\u001b[49m\u001b[38;5;241;43m=\u001b[39;49m\u001b[43mfit_intercept\u001b[49m\u001b[43m,\u001b[49m\n\u001b[0;32m    729\u001b[0m \u001b[43m    \u001b[49m\u001b[43msolver\u001b[49m\u001b[38;5;241;43m=\u001b[39;49m\u001b[43msolver\u001b[49m\u001b[43m,\u001b[49m\n\u001b[0;32m    730\u001b[0m \u001b[43m    \u001b[49m\u001b[43mmax_iter\u001b[49m\u001b[38;5;241;43m=\u001b[39;49m\u001b[43mmax_iter\u001b[49m\u001b[43m,\u001b[49m\n\u001b[0;32m    731\u001b[0m \u001b[43m    \u001b[49m\u001b[43mclass_weight\u001b[49m\u001b[38;5;241;43m=\u001b[39;49m\u001b[43mclass_weight\u001b[49m\u001b[43m,\u001b[49m\n\u001b[0;32m    732\u001b[0m \u001b[43m    \u001b[49m\u001b[43mpos_class\u001b[49m\u001b[38;5;241;43m=\u001b[39;49m\u001b[43mpos_class\u001b[49m\u001b[43m,\u001b[49m\n\u001b[0;32m    733\u001b[0m \u001b[43m    \u001b[49m\u001b[43mmulti_class\u001b[49m\u001b[38;5;241;43m=\u001b[39;49m\u001b[43mmulti_class\u001b[49m\u001b[43m,\u001b[49m\n\u001b[0;32m    734\u001b[0m \u001b[43m    \u001b[49m\u001b[43mtol\u001b[49m\u001b[38;5;241;43m=\u001b[39;49m\u001b[43mtol\u001b[49m\u001b[43m,\u001b[49m\n\u001b[0;32m    735\u001b[0m \u001b[43m    \u001b[49m\u001b[43mverbose\u001b[49m\u001b[38;5;241;43m=\u001b[39;49m\u001b[43mverbose\u001b[49m\u001b[43m,\u001b[49m\n\u001b[0;32m    736\u001b[0m \u001b[43m    \u001b[49m\u001b[43mdual\u001b[49m\u001b[38;5;241;43m=\u001b[39;49m\u001b[43mdual\u001b[49m\u001b[43m,\u001b[49m\n\u001b[0;32m    737\u001b[0m \u001b[43m    \u001b[49m\u001b[43mpenalty\u001b[49m\u001b[38;5;241;43m=\u001b[39;49m\u001b[43mpenalty\u001b[49m\u001b[43m,\u001b[49m\n\u001b[0;32m    738\u001b[0m \u001b[43m    \u001b[49m\u001b[43mintercept_scaling\u001b[49m\u001b[38;5;241;43m=\u001b[39;49m\u001b[43mintercept_scaling\u001b[49m\u001b[43m,\u001b[49m\n\u001b[0;32m    739\u001b[0m \u001b[43m    \u001b[49m\u001b[43mrandom_state\u001b[49m\u001b[38;5;241;43m=\u001b[39;49m\u001b[43mrandom_state\u001b[49m\u001b[43m,\u001b[49m\n\u001b[0;32m    740\u001b[0m \u001b[43m    \u001b[49m\u001b[43mcheck_input\u001b[49m\u001b[38;5;241;43m=\u001b[39;49m\u001b[38;5;28;43;01mFalse\u001b[39;49;00m\u001b[43m,\u001b[49m\n\u001b[0;32m    741\u001b[0m \u001b[43m    \u001b[49m\u001b[43mmax_squared_sum\u001b[49m\u001b[38;5;241;43m=\u001b[39;49m\u001b[43mmax_squared_sum\u001b[49m\u001b[43m,\u001b[49m\n\u001b[0;32m    742\u001b[0m \u001b[43m    \u001b[49m\u001b[43msample_weight\u001b[49m\u001b[38;5;241;43m=\u001b[39;49m\u001b[43msample_weight\u001b[49m\u001b[43m,\u001b[49m\n\u001b[0;32m    743\u001b[0m \u001b[43m\u001b[49m\u001b[43m)\u001b[49m\n\u001b[0;32m    745\u001b[0m log_reg \u001b[38;5;241m=\u001b[39m LogisticRegression(solver\u001b[38;5;241m=\u001b[39msolver, multi_class\u001b[38;5;241m=\u001b[39mmulti_class)\n\u001b[0;32m    747\u001b[0m \u001b[38;5;66;03m# The score method of Logistic Regression has a classes_ attribute.\u001b[39;00m\n",
      "File \u001b[1;32m~\\AppData\\Local\\anaconda3\\lib\\site-packages\\sklearn\\linear_model\\_logistic.py:524\u001b[0m, in \u001b[0;36m_logistic_regression_path\u001b[1;34m(X, y, pos_class, Cs, fit_intercept, max_iter, tol, verbose, solver, coef, class_weight, dual, penalty, intercept_scaling, multi_class, random_state, check_input, max_squared_sum, sample_weight, l1_ratio, n_threads)\u001b[0m\n\u001b[0;32m    521\u001b[0m         alpha \u001b[38;5;241m=\u001b[39m (\u001b[38;5;241m1.0\u001b[39m \u001b[38;5;241m/\u001b[39m C) \u001b[38;5;241m*\u001b[39m (\u001b[38;5;241m1\u001b[39m \u001b[38;5;241m-\u001b[39m l1_ratio)\n\u001b[0;32m    522\u001b[0m         beta \u001b[38;5;241m=\u001b[39m (\u001b[38;5;241m1.0\u001b[39m \u001b[38;5;241m/\u001b[39m C) \u001b[38;5;241m*\u001b[39m l1_ratio\n\u001b[1;32m--> 524\u001b[0m     w0, n_iter_i, warm_start_sag \u001b[38;5;241m=\u001b[39m \u001b[43msag_solver\u001b[49m\u001b[43m(\u001b[49m\n\u001b[0;32m    525\u001b[0m \u001b[43m        \u001b[49m\u001b[43mX\u001b[49m\u001b[43m,\u001b[49m\n\u001b[0;32m    526\u001b[0m \u001b[43m        \u001b[49m\u001b[43mtarget\u001b[49m\u001b[43m,\u001b[49m\n\u001b[0;32m    527\u001b[0m \u001b[43m        \u001b[49m\u001b[43msample_weight\u001b[49m\u001b[43m,\u001b[49m\n\u001b[0;32m    528\u001b[0m \u001b[43m        \u001b[49m\u001b[43mloss\u001b[49m\u001b[43m,\u001b[49m\n\u001b[0;32m    529\u001b[0m \u001b[43m        \u001b[49m\u001b[43malpha\u001b[49m\u001b[43m,\u001b[49m\n\u001b[0;32m    530\u001b[0m \u001b[43m        \u001b[49m\u001b[43mbeta\u001b[49m\u001b[43m,\u001b[49m\n\u001b[0;32m    531\u001b[0m \u001b[43m        \u001b[49m\u001b[43mmax_iter\u001b[49m\u001b[43m,\u001b[49m\n\u001b[0;32m    532\u001b[0m \u001b[43m        \u001b[49m\u001b[43mtol\u001b[49m\u001b[43m,\u001b[49m\n\u001b[0;32m    533\u001b[0m \u001b[43m        \u001b[49m\u001b[43mverbose\u001b[49m\u001b[43m,\u001b[49m\n\u001b[0;32m    534\u001b[0m \u001b[43m        \u001b[49m\u001b[43mrandom_state\u001b[49m\u001b[43m,\u001b[49m\n\u001b[0;32m    535\u001b[0m \u001b[43m        \u001b[49m\u001b[38;5;28;43;01mFalse\u001b[39;49;00m\u001b[43m,\u001b[49m\n\u001b[0;32m    536\u001b[0m \u001b[43m        \u001b[49m\u001b[43mmax_squared_sum\u001b[49m\u001b[43m,\u001b[49m\n\u001b[0;32m    537\u001b[0m \u001b[43m        \u001b[49m\u001b[43mwarm_start_sag\u001b[49m\u001b[43m,\u001b[49m\n\u001b[0;32m    538\u001b[0m \u001b[43m        \u001b[49m\u001b[43mis_saga\u001b[49m\u001b[38;5;241;43m=\u001b[39;49m\u001b[43m(\u001b[49m\u001b[43msolver\u001b[49m\u001b[43m \u001b[49m\u001b[38;5;241;43m==\u001b[39;49m\u001b[43m \u001b[49m\u001b[38;5;124;43m\"\u001b[39;49m\u001b[38;5;124;43msaga\u001b[39;49m\u001b[38;5;124;43m\"\u001b[39;49m\u001b[43m)\u001b[49m\u001b[43m,\u001b[49m\n\u001b[0;32m    539\u001b[0m \u001b[43m    \u001b[49m\u001b[43m)\u001b[49m\n\u001b[0;32m    541\u001b[0m \u001b[38;5;28;01melse\u001b[39;00m:\n\u001b[0;32m    542\u001b[0m     \u001b[38;5;28;01mraise\u001b[39;00m \u001b[38;5;167;01mValueError\u001b[39;00m(\n\u001b[0;32m    543\u001b[0m         \u001b[38;5;124m\"\u001b[39m\u001b[38;5;124msolver must be one of \u001b[39m\u001b[38;5;124m{\u001b[39m\u001b[38;5;124m'\u001b[39m\u001b[38;5;124mliblinear\u001b[39m\u001b[38;5;124m'\u001b[39m\u001b[38;5;124m, \u001b[39m\u001b[38;5;124m'\u001b[39m\u001b[38;5;124mlbfgs\u001b[39m\u001b[38;5;124m'\u001b[39m\u001b[38;5;124m, \u001b[39m\u001b[38;5;124m\"\u001b[39m\n\u001b[0;32m    544\u001b[0m         \u001b[38;5;124m\"\u001b[39m\u001b[38;5;124m'\u001b[39m\u001b[38;5;124mnewton-cg\u001b[39m\u001b[38;5;124m'\u001b[39m\u001b[38;5;124m, \u001b[39m\u001b[38;5;124m'\u001b[39m\u001b[38;5;124msag\u001b[39m\u001b[38;5;124m'\u001b[39m\u001b[38;5;124m}, got \u001b[39m\u001b[38;5;124m'\u001b[39m\u001b[38;5;132;01m%s\u001b[39;00m\u001b[38;5;124m'\u001b[39m\u001b[38;5;124m instead\u001b[39m\u001b[38;5;124m\"\u001b[39m \u001b[38;5;241m%\u001b[39m solver\n\u001b[0;32m    545\u001b[0m     )\n",
      "File \u001b[1;32m~\\AppData\\Local\\anaconda3\\lib\\site-packages\\sklearn\\linear_model\\_sag.py:325\u001b[0m, in \u001b[0;36msag_solver\u001b[1;34m(X, y, sample_weight, loss, alpha, beta, max_iter, tol, verbose, random_state, check_input, max_squared_sum, warm_start_mem, is_saga)\u001b[0m\n\u001b[0;32m    319\u001b[0m     \u001b[38;5;28;01mraise\u001b[39;00m \u001b[38;5;167;01mZeroDivisionError\u001b[39;00m(\n\u001b[0;32m    320\u001b[0m         \u001b[38;5;124m\"\u001b[39m\u001b[38;5;124mCurrent sag implementation does not handle \u001b[39m\u001b[38;5;124m\"\u001b[39m\n\u001b[0;32m    321\u001b[0m         \u001b[38;5;124m\"\u001b[39m\u001b[38;5;124mthe case step_size * alpha_scaled == 1\u001b[39m\u001b[38;5;124m\"\u001b[39m\n\u001b[0;32m    322\u001b[0m     )\n\u001b[0;32m    324\u001b[0m sag \u001b[38;5;241m=\u001b[39m sag64 \u001b[38;5;28;01mif\u001b[39;00m X\u001b[38;5;241m.\u001b[39mdtype \u001b[38;5;241m==\u001b[39m np\u001b[38;5;241m.\u001b[39mfloat64 \u001b[38;5;28;01melse\u001b[39;00m sag32\n\u001b[1;32m--> 325\u001b[0m num_seen, n_iter_ \u001b[38;5;241m=\u001b[39m \u001b[43msag\u001b[49m\u001b[43m(\u001b[49m\n\u001b[0;32m    326\u001b[0m \u001b[43m    \u001b[49m\u001b[43mdataset\u001b[49m\u001b[43m,\u001b[49m\n\u001b[0;32m    327\u001b[0m \u001b[43m    \u001b[49m\u001b[43mcoef_init\u001b[49m\u001b[43m,\u001b[49m\n\u001b[0;32m    328\u001b[0m \u001b[43m    \u001b[49m\u001b[43mintercept_init\u001b[49m\u001b[43m,\u001b[49m\n\u001b[0;32m    329\u001b[0m \u001b[43m    \u001b[49m\u001b[43mn_samples\u001b[49m\u001b[43m,\u001b[49m\n\u001b[0;32m    330\u001b[0m \u001b[43m    \u001b[49m\u001b[43mn_features\u001b[49m\u001b[43m,\u001b[49m\n\u001b[0;32m    331\u001b[0m \u001b[43m    \u001b[49m\u001b[43mn_classes\u001b[49m\u001b[43m,\u001b[49m\n\u001b[0;32m    332\u001b[0m \u001b[43m    \u001b[49m\u001b[43mtol\u001b[49m\u001b[43m,\u001b[49m\n\u001b[0;32m    333\u001b[0m \u001b[43m    \u001b[49m\u001b[43mmax_iter\u001b[49m\u001b[43m,\u001b[49m\n\u001b[0;32m    334\u001b[0m \u001b[43m    \u001b[49m\u001b[43mloss\u001b[49m\u001b[43m,\u001b[49m\n\u001b[0;32m    335\u001b[0m \u001b[43m    \u001b[49m\u001b[43mstep_size\u001b[49m\u001b[43m,\u001b[49m\n\u001b[0;32m    336\u001b[0m \u001b[43m    \u001b[49m\u001b[43malpha_scaled\u001b[49m\u001b[43m,\u001b[49m\n\u001b[0;32m    337\u001b[0m \u001b[43m    \u001b[49m\u001b[43mbeta_scaled\u001b[49m\u001b[43m,\u001b[49m\n\u001b[0;32m    338\u001b[0m \u001b[43m    \u001b[49m\u001b[43msum_gradient_init\u001b[49m\u001b[43m,\u001b[49m\n\u001b[0;32m    339\u001b[0m \u001b[43m    \u001b[49m\u001b[43mgradient_memory_init\u001b[49m\u001b[43m,\u001b[49m\n\u001b[0;32m    340\u001b[0m \u001b[43m    \u001b[49m\u001b[43mseen_init\u001b[49m\u001b[43m,\u001b[49m\n\u001b[0;32m    341\u001b[0m \u001b[43m    \u001b[49m\u001b[43mnum_seen_init\u001b[49m\u001b[43m,\u001b[49m\n\u001b[0;32m    342\u001b[0m \u001b[43m    \u001b[49m\u001b[43mfit_intercept\u001b[49m\u001b[43m,\u001b[49m\n\u001b[0;32m    343\u001b[0m \u001b[43m    \u001b[49m\u001b[43mintercept_sum_gradient\u001b[49m\u001b[43m,\u001b[49m\n\u001b[0;32m    344\u001b[0m \u001b[43m    \u001b[49m\u001b[43mintercept_decay\u001b[49m\u001b[43m,\u001b[49m\n\u001b[0;32m    345\u001b[0m \u001b[43m    \u001b[49m\u001b[43mis_saga\u001b[49m\u001b[43m,\u001b[49m\n\u001b[0;32m    346\u001b[0m \u001b[43m    \u001b[49m\u001b[43mverbose\u001b[49m\u001b[43m,\u001b[49m\n\u001b[0;32m    347\u001b[0m \u001b[43m\u001b[49m\u001b[43m)\u001b[49m\n\u001b[0;32m    349\u001b[0m \u001b[38;5;28;01mif\u001b[39;00m n_iter_ \u001b[38;5;241m==\u001b[39m max_iter:\n\u001b[0;32m    350\u001b[0m     warnings\u001b[38;5;241m.\u001b[39mwarn(\n\u001b[0;32m    351\u001b[0m         \u001b[38;5;124m\"\u001b[39m\u001b[38;5;124mThe max_iter was reached which means the coef_ did not converge\u001b[39m\u001b[38;5;124m\"\u001b[39m,\n\u001b[0;32m    352\u001b[0m         ConvergenceWarning,\n\u001b[0;32m    353\u001b[0m     )\n",
      "\u001b[1;31mKeyboardInterrupt\u001b[0m: "
     ]
    }
   ],
   "source": [
    "models = []\n",
    "models.append(('LRC', LogisticRegressionCV(solver='saga', multi_class='multinomial')))\n",
    "models.append(('LR', LogisticRegression(solver='liblinear', multi_class='ovr')))\n",
    "models.append(('LDA', LinearDiscriminantAnalysis()))\n",
    "models.append(('KNN', KNeighborsClassifier()))\n",
    "models.append(('CART', DecisionTreeClassifier()))\n",
    "models.append(('NB', GaussianNB()))\n",
    "models.append(('SVM', SVC(gamma='auto')))\n",
    "# evaluate each model in turn\n",
    "results = []\n",
    "names = []\n",
    "for name, model in models:\n",
    "\tkfold = StratifiedKFold(n_splits=10, random_state=1, shuffle=True)\n",
    "\tcv_results = cross_val_score(model, X_subset, y_subset, cv=kfold, scoring='accuracy')\n",
    "\tresults.append(cv_results)\n",
    "\tnames.append(name)\n",
    "\tprint('%s: %f (%f)' % (name, cv_results.mean(), cv_results.std()))\n"
   ]
  },
  {
   "cell_type": "code",
   "execution_count": 69,
   "metadata": {},
   "outputs": [
    {
     "ename": "NameError",
     "evalue": "name 'best' is not defined",
     "output_type": "error",
     "traceback": [
      "\u001b[1;31m---------------------------------------------------------------------------\u001b[0m",
      "\u001b[1;31mNameError\u001b[0m                                 Traceback (most recent call last)",
      "Cell \u001b[1;32mIn[69], line 10\u001b[0m\n\u001b[0;32m      7\u001b[0m grid \u001b[38;5;241m=\u001b[39m setup(data\u001b[38;5;241m=\u001b[39mdf3, target\u001b[38;5;241m=\u001b[39m df3\u001b[38;5;241m.\u001b[39mcolumns[\u001b[38;5;241m-\u001b[39m\u001b[38;5;241m1\u001b[39m], html\u001b[38;5;241m=\u001b[39m\u001b[38;5;28;01mFalse\u001b[39;00m, verbose\u001b[38;5;241m=\u001b[39m\u001b[38;5;28;01mFalse\u001b[39;00m)\n\u001b[0;32m      8\u001b[0m \u001b[38;5;66;03m# evaluate models and compare models\u001b[39;00m\n\u001b[0;32m      9\u001b[0m \u001b[38;5;66;03m# report the best model\u001b[39;00m\n\u001b[1;32m---> 10\u001b[0m \u001b[38;5;28mprint\u001b[39m(\u001b[43mbest\u001b[49m)\n",
      "\u001b[1;31mNameError\u001b[0m: name 'best' is not defined"
     ]
    }
   ],
   "source": [
    "\n",
    "# conda install -c conda-forge pycaret\n",
    "from pycaret.classification import setup\n",
    "from pycaret.classification import compare_models\n",
    "\n",
    "# setup the dataset\n",
    "#grid = setup(data=X_subset, target= y_subset, html=False, silent=True, verbose=False)\n",
    "grid = setup(data=df3, target= df3.columns[-1], html=False, verbose=False)\n",
    "# evaluate models and compare models\n",
    "best = compare_models()\n",
    "# report the best model\n",
    "print(best)"
   ]
  },
  {
   "cell_type": "code",
   "execution_count": 70,
   "metadata": {},
   "outputs": [
    {
     "name": "stderr",
     "output_type": "stream",
     "text": [
      "                                                                                                                       "
     ]
    },
    {
     "name": "stdout",
     "output_type": "stream",
     "text": [
      "                                    Model  Accuracy     AUC  Recall   Prec.  \\\n",
      "svm                   SVM - Linear Kernel    0.7631  0.0000  0.7631  0.7556   \n",
      "ridge                    Ridge Classifier    0.7590  0.0000  0.7590  0.7483   \n",
      "et                 Extra Trees Classifier    0.7510  0.7434  0.7510  0.7393   \n",
      "rf               Random Forest Classifier    0.7488  0.7444  0.7488  0.7356   \n",
      "gbc          Gradient Boosting Classifier    0.7398  0.7425  0.7398  0.7355   \n",
      "lr                    Logistic Regression    0.7254  0.7502  0.7254  0.7260   \n",
      "dt               Decision Tree Classifier    0.7125  0.6556  0.7125  0.7060   \n",
      "knn                K Neighbors Classifier    0.7111  0.7123  0.7111  0.6986   \n",
      "lightgbm  Light Gradient Boosting Machine    0.6955  0.7302  0.6955  0.6844   \n",
      "nb                            Naive Bayes    0.6574  0.6323  0.6574  0.6660   \n",
      "ada                  Ada Boost Classifier    0.6498  0.5107  0.6498  0.5892   \n",
      "lda          Linear Discriminant Analysis    0.4250  0.6364  0.4250  0.7783   \n",
      "dummy                    Dummy Classifier    0.3569  0.4000  0.3569  0.1274   \n",
      "qda       Quadratic Discriminant Analysis    0.0313  0.3963  0.0313  0.0069   \n",
      "\n",
      "              F1   Kappa     MCC  TT (Sec)  \n",
      "svm       0.7496  0.6972  0.7007     4.892  \n",
      "ridge     0.7431  0.6895  0.6949     2.885  \n",
      "et        0.7357  0.6837  0.6868     4.163  \n",
      "rf        0.7322  0.6797  0.6833     4.691  \n",
      "gbc       0.7242  0.6626  0.6707    83.335  \n",
      "lr        0.7001  0.6350  0.6541    12.152  \n",
      "dt        0.7025  0.6372  0.6392     2.937  \n",
      "knn       0.7014  0.6372  0.6381     4.508  \n",
      "lightgbm  0.6852  0.6126  0.6148     6.060  \n",
      "nb        0.6579  0.5710  0.5720     3.858  \n",
      "ada       0.5890  0.5194  0.5678     4.616  \n",
      "lda       0.4949  0.3409  0.3843    48.615  \n",
      "dummy     0.1878  0.0000  0.0000     1.372  \n",
      "qda       0.0101 -0.0041 -0.0105     9.510  \n",
      "SGDClassifier(alpha=0.0001, average=False, class_weight=None,\n",
      "              early_stopping=False, epsilon=0.1, eta0=0.001, fit_intercept=True,\n",
      "              l1_ratio=0.15, learning_rate='optimal', loss='hinge',\n",
      "              max_iter=1000, n_iter_no_change=5, n_jobs=-1, penalty='l2',\n",
      "              power_t=0.5, random_state=6801, shuffle=True, tol=0.001,\n",
      "              validation_fraction=0.1, verbose=0, warm_start=False)\n"
     ]
    },
    {
     "name": "stderr",
     "output_type": "stream",
     "text": [
      "\r"
     ]
    }
   ],
   "source": [
    "# evaluate models and compare models\n",
    "best = compare_models()\n",
    "# report the best model\n",
    "print(best)"
   ]
  },
  {
   "cell_type": "code",
   "execution_count": null,
   "metadata": {},
   "outputs": [
    {
     "name": "stderr",
     "output_type": "stream",
     "text": [
      "Processing:  14%|██████████▎                                                             | 1/7 [00:00<00:04,  1.48it/s]"
     ]
    },
    {
     "name": "stdout",
     "output_type": "stream",
     "text": [
      "Fitting 10 folds for each of 200 candidates, totalling 2000 fits\n"
     ]
    }
   ],
   "source": [
    "# tune model hyperparameters\n",
    "best_yune = tune_model(SGDClassifier(), n_iter=200, choose_better=True)\n",
    "# report the best model\n",
    "print(best_tune)\n"
   ]
  },
  {
   "cell_type": "code",
   "execution_count": 19,
   "metadata": {},
   "outputs": [
    {
     "data": {
      "text/plain": [
       "3190"
      ]
     },
     "execution_count": 19,
     "metadata": {},
     "output_type": "execute_result"
    }
   ],
   "source": [
    "#getnnz(X_subset)\n",
    "#len(X_subset) # NW; sparse matrix length is ambiguous; use getnnz() or shape[0]\n",
    "X_subset.shape[0] # 3190"
   ]
  },
  {
   "cell_type": "code",
   "execution_count": null,
   "metadata": {},
   "outputs": [],
   "source": []
  },
  {
   "cell_type": "code",
   "execution_count": null,
   "metadata": {},
   "outputs": [],
   "source": []
  },
  {
   "cell_type": "code",
   "execution_count": 47,
   "metadata": {},
   "outputs": [
    {
     "data": {
      "text/plain": [
       "Toy Figures                    1139\n",
       "Games & Puzzles                 540\n",
       "Construction & Modeling         394\n",
       "Baby Toys & Games               372\n",
       "Toy Vehicles                    258\n",
       "Outdoor Toys & Games            191\n",
       "Role Playing & Pretend Play     164\n",
       "Sports Toys & Games              82\n",
       "Remote & Radio Control           38\n",
       "Nature / Science                 12\n",
       "Name: Level 2, dtype: int64"
      ]
     },
     "execution_count": 47,
     "metadata": {},
     "output_type": "execute_result"
    }
   ],
   "source": [
    "subset_df['Level 2'].value_counts(dropna = True)"
   ]
  },
  {
   "cell_type": "code",
   "execution_count": 32,
   "metadata": {},
   "outputs": [
    {
     "data": {
      "text/plain": [
       "3190"
      ]
     },
     "execution_count": 32,
     "metadata": {},
     "output_type": "execute_result"
    }
   ],
   "source": [
    "type(y_subset)\n",
    "y_subset.shape[0]"
   ]
  },
  {
   "cell_type": "code",
   "execution_count": 30,
   "metadata": {},
   "outputs": [
    {
     "data": {
      "text/plain": [
       "(3190, 16574)"
      ]
     },
     "execution_count": 30,
     "metadata": {},
     "output_type": "execute_result"
    }
   ],
   "source": [
    "X_subset.toarray().shape"
   ]
  },
  {
   "cell_type": "code",
   "execution_count": 36,
   "metadata": {},
   "outputs": [
    {
     "data": {
      "text/plain": [
       "array([[0., 0., 0., ..., 0., 0., 0.],\n",
       "       [0., 0., 0., ..., 0., 0., 0.],\n",
       "       [0., 0., 0., ..., 0., 0., 0.],\n",
       "       ...,\n",
       "       [0., 0., 0., ..., 0., 0., 0.],\n",
       "       [0., 0., 0., ..., 0., 0., 0.],\n",
       "       [0., 0., 0., ..., 0., 0., 0.]])"
      ]
     },
     "execution_count": 36,
     "metadata": {},
     "output_type": "execute_result"
    }
   ],
   "source": [
    "X_subset.toarray()"
   ]
  },
  {
   "cell_type": "code",
   "execution_count": 37,
   "metadata": {},
   "outputs": [
    {
     "data": {
      "text/html": [
       "<div>\n",
       "<style scoped>\n",
       "    .dataframe tbody tr th:only-of-type {\n",
       "        vertical-align: middle;\n",
       "    }\n",
       "\n",
       "    .dataframe tbody tr th {\n",
       "        vertical-align: top;\n",
       "    }\n",
       "\n",
       "    .dataframe thead th {\n",
       "        text-align: right;\n",
       "    }\n",
       "</style>\n",
       "<table border=\"1\" class=\"dataframe\">\n",
       "  <thead>\n",
       "    <tr style=\"text-align: right;\">\n",
       "      <th></th>\n",
       "      <th>index</th>\n",
       "      <th>Level 2</th>\n",
       "    </tr>\n",
       "  </thead>\n",
       "  <tbody>\n",
       "    <tr>\n",
       "      <th>0</th>\n",
       "      <td>53</td>\n",
       "      <td>0</td>\n",
       "    </tr>\n",
       "    <tr>\n",
       "      <th>1</th>\n",
       "      <td>71</td>\n",
       "      <td>1</td>\n",
       "    </tr>\n",
       "    <tr>\n",
       "      <th>2</th>\n",
       "      <td>80</td>\n",
       "      <td>1</td>\n",
       "    </tr>\n",
       "    <tr>\n",
       "      <th>3</th>\n",
       "      <td>108</td>\n",
       "      <td>0</td>\n",
       "    </tr>\n",
       "    <tr>\n",
       "      <th>4</th>\n",
       "      <td>170</td>\n",
       "      <td>1</td>\n",
       "    </tr>\n",
       "    <tr>\n",
       "      <th>...</th>\n",
       "      <td>...</td>\n",
       "      <td>...</td>\n",
       "    </tr>\n",
       "    <tr>\n",
       "      <th>3185</th>\n",
       "      <td>258215</td>\n",
       "      <td>5</td>\n",
       "    </tr>\n",
       "    <tr>\n",
       "      <th>3186</th>\n",
       "      <td>258376</td>\n",
       "      <td>6</td>\n",
       "    </tr>\n",
       "    <tr>\n",
       "      <th>3187</th>\n",
       "      <td>258717</td>\n",
       "      <td>1</td>\n",
       "    </tr>\n",
       "    <tr>\n",
       "      <th>3188</th>\n",
       "      <td>258827</td>\n",
       "      <td>1</td>\n",
       "    </tr>\n",
       "    <tr>\n",
       "      <th>3189</th>\n",
       "      <td>258831</td>\n",
       "      <td>5</td>\n",
       "    </tr>\n",
       "  </tbody>\n",
       "</table>\n",
       "<p>3190 rows × 2 columns</p>\n",
       "</div>"
      ],
      "text/plain": [
       "       index  Level 2\n",
       "0         53        0\n",
       "1         71        1\n",
       "2         80        1\n",
       "3        108        0\n",
       "4        170        1\n",
       "...      ...      ...\n",
       "3185  258215        5\n",
       "3186  258376        6\n",
       "3187  258717        1\n",
       "3188  258827        1\n",
       "3189  258831        5\n",
       "\n",
       "[3190 rows x 2 columns]"
      ]
     },
     "execution_count": 37,
     "metadata": {},
     "output_type": "execute_result"
    }
   ],
   "source": [
    "dfy = y_subset.reset_index()"
   ]
  },
  {
   "cell_type": "code",
   "execution_count": 34,
   "metadata": {},
   "outputs": [
    {
     "data": {
      "text/plain": [
       "53     0\n",
       "71     1\n",
       "80     1\n",
       "108    0\n",
       "170    1\n",
       "180    1\n",
       "205    0\n",
       "290    1\n",
       "297    1\n",
       "361    1\n",
       "Name: Level 2, dtype: int64"
      ]
     },
     "execution_count": 34,
     "metadata": {},
     "output_type": "execute_result"
    }
   ],
   "source": [
    "y_subset[0:10]"
   ]
  },
  {
   "cell_type": "code",
   "execution_count": 3,
   "metadata": {
    "application/vnd.databricks.v1+cell": {
     "cellMetadata": {},
     "inputWidgets": {},
     "nuid": "323b9a6b-839b-432c-b6a5-f246845c4e3a",
     "showTitle": false,
     "title": ""
    }
   },
   "outputs": [],
   "source": [
    "# Reading PIMMART data\n",
    "pim_gtin_mapped = pd.read_csv(DBFR + \"PIM_Data_New_50_82Mn.csv\", dtype=object)\n",
    "for i in ['SUBCOM_CD', 'DPT_CD', 'COM_CD','PMY_DPT_CD', 'REC_DPT_CD', 'ITM_ID', 'GTIN']:\n",
    "    pim_gtin_mapped[i] = pim_gtin_mapped[i].astype(np.float64)\n",
    "\n",
    "# Reading Syndigo 259K data\n",
    "synd_ALL = pd.read_csv(DBFR + 'Syndigo_Final_ALL.csv', dtype='unicode') # 259k Syndigo Data\n",
    "for i in ['SUBCOM_CD', 'DPT_CD', 'COM_CD', 'GTIN', 'ITM_ID', 'PMY_DPT_CD']:\n",
    "    synd_ALL[i] = synd_ALL[i].astype(np.float64)\n",
    "\n",
    "# Stripping spaces from all columns\n",
    "df_obj = synd_ALL.select_dtypes(['object'])\n",
    "synd_ALL[df_obj.columns] = df_obj.apply(lambda x: x.str.strip())"
   ]
  },
  {
   "cell_type": "code",
   "execution_count": 4,
   "metadata": {
    "application/vnd.databricks.v1+cell": {
     "cellMetadata": {},
     "inputWidgets": {},
     "nuid": "0add1fd8-ce00-476d-8ef5-148dd7ed93c8",
     "showTitle": false,
     "title": ""
    }
   },
   "outputs": [],
   "source": [
    "syndigo_mapped = synd_ALL\n",
    "pimmart = pim_gtin_mapped"
   ]
  },
  {
   "cell_type": "code",
   "execution_count": 5,
   "metadata": {
    "application/vnd.databricks.v1+cell": {
     "cellMetadata": {},
     "inputWidgets": {},
     "nuid": "468865de-5785-4aa8-88ce-eb09127442f3",
     "showTitle": false,
     "title": ""
    }
   },
   "outputs": [],
   "source": [
    "syndigo_mapped.drop_duplicates('GTIN', inplace = True)"
   ]
  },
  {
   "cell_type": "code",
   "execution_count": 6,
   "metadata": {
    "application/vnd.databricks.v1+cell": {
     "cellMetadata": {},
     "inputWidgets": {},
     "nuid": "35a8bc41-1917-40ec-942e-c78e178a71b3",
     "showTitle": false,
     "title": ""
    }
   },
   "outputs": [],
   "source": [
    "syndigo_mapped['ITEM_SUBCOM_text'] = \\\n",
    "(syndigo_mapped.VND_ECOM_DSC + ' ' + syndigo_mapped.SUBCOM_DSC).fillna('').str.lower()"
   ]
  },
  {
   "cell_type": "code",
   "execution_count": 7,
   "metadata": {
    "application/vnd.databricks.v1+cell": {
     "cellMetadata": {},
     "inputWidgets": {},
     "nuid": "573044f9-3feb-48ea-9744-48d5d9c89b92",
     "showTitle": false,
     "title": ""
    }
   },
   "outputs": [
    {
     "data": {
      "text/plain": [
       "Food / Beverages                            131593\n",
       "Health & Beauty                              62259\n",
       "Beer / Wine / Spirits                        17992\n",
       "Cleaning & Janitorial                         9084\n",
       "Livestock & Pet Supplies                      6325\n",
       "Kitchen & Bathroom                            5268\n",
       "Home & Venue Decoration                       3924\n",
       "Toys / Games / Hobbies                        3191\n",
       "Gardening & Outdoors                          2208\n",
       "Childcare                                     2111\n",
       "Office Supplies                               1671\n",
       "Electronics                                   1499\n",
       "Apparel                                       1283\n",
       "Lighting & Fans                               1252\n",
       "Tobacco Products                              1252\n",
       "Not classified                                1018\n",
       "Hardware                                       923\n",
       "Arts & Crafts                                  803\n",
       "Automotive                                     778\n",
       "Appliances                                     689\n",
       "Sports & Outdoor Recreation Equipment          684\n",
       "Hospitality Supplies                           496\n",
       "Tools                                          474\n",
       "Books & Videos                                 377\n",
       "Electrical                                     215\n",
       "Heating / Ventilation / Air Conditioning       196\n",
       "Plumbing & Water Service                       172\n",
       "Paints & Coatings                               60\n",
       "Building Supplies                               40\n",
       "Power Sports                                    39\n",
       "Furniture                                       37\n",
       "Marine                                          16\n",
       "Flooring                                        13\n",
       "Material Handling                                6\n",
       "Agricultural Equipment                           3\n",
       "Power Transmission & Motion Control              1\n",
       "Musical Instruments                              1\n",
       "Name: Level 1, dtype: int64"
      ]
     },
     "execution_count": 7,
     "metadata": {},
     "output_type": "execute_result"
    }
   ],
   "source": [
    "syndigo_mapped['Level 1'].value_counts()"
   ]
  },
  {
   "cell_type": "code",
   "execution_count": 8,
   "metadata": {
    "application/vnd.databricks.v1+cell": {
     "cellMetadata": {},
     "inputWidgets": {},
     "nuid": "eeb8719e-7b17-40ae-a855-dc4f3df7a006",
     "showTitle": false,
     "title": ""
    }
   },
   "outputs": [],
   "source": [
    "from sklearn.feature_extraction.text import TfidfVectorizer\n",
    "vect = TfidfVectorizer(ngram_range= (1,2), max_features = 800000)"
   ]
  },
  {
   "cell_type": "code",
   "execution_count": 9,
   "metadata": {
    "application/vnd.databricks.v1+cell": {
     "cellMetadata": {},
     "inputWidgets": {},
     "nuid": "d61f83c5-88d4-4788-beae-41be8e02577c",
     "showTitle": false,
     "title": ""
    }
   },
   "outputs": [
    {
     "data": {
      "text/plain": [
       "Food / Beverages                            131593\n",
       "Health & Beauty                              62259\n",
       "Beer / Wine / Spirits                        17992\n",
       "Cleaning & Janitorial                         9084\n",
       "Livestock & Pet Supplies                      6325\n",
       "Kitchen & Bathroom                            5268\n",
       "Home & Venue Decoration                       3924\n",
       "Toys / Games / Hobbies                        3191\n",
       "Gardening & Outdoors                          2208\n",
       "Childcare                                     2111\n",
       "Office Supplies                               1671\n",
       "Electronics                                   1499\n",
       "Apparel                                       1283\n",
       "Lighting & Fans                               1252\n",
       "Tobacco Products                              1252\n",
       "Not classified                                1018\n",
       "Hardware                                       923\n",
       "Arts & Crafts                                  803\n",
       "Automotive                                     778\n",
       "Appliances                                     689\n",
       "Sports & Outdoor Recreation Equipment          684\n",
       "Hospitality Supplies                           496\n",
       "Tools                                          474\n",
       "Books & Videos                                 377\n",
       "Electrical                                     215\n",
       "Heating / Ventilation / Air Conditioning       196\n",
       "Plumbing & Water Service                       172\n",
       "Paints & Coatings                               60\n",
       "Building Supplies                               40\n",
       "Power Sports                                    39\n",
       "Furniture                                       37\n",
       "Marine                                          16\n",
       "Flooring                                        13\n",
       "Material Handling                                6\n",
       "Agricultural Equipment                           3\n",
       "Power Transmission & Motion Control              1\n",
       "Musical Instruments                              1\n",
       "Name: Level 1, dtype: int64"
      ]
     },
     "execution_count": 9,
     "metadata": {},
     "output_type": "execute_result"
    }
   ],
   "source": [
    "syndigo_mapped['Level 1'].value_counts()"
   ]
  },
  {
   "cell_type": "markdown",
   "metadata": {
    "application/vnd.databricks.v1+cell": {
     "cellMetadata": {},
     "inputWidgets": {},
     "nuid": "478d3b32-9d94-4764-957f-d0fb53421831",
     "showTitle": false,
     "title": ""
    }
   },
   "source": [
    "## RUN UNTIL HERE only ONCE"
   ]
  },
  {
   "cell_type": "code",
   "execution_count": 10,
   "metadata": {
    "application/vnd.databricks.v1+cell": {
     "cellMetadata": {
      "byteLimit": 2048000,
      "rowLimit": 10000
     },
     "inputWidgets": {},
     "nuid": "5231bbdc-be06-4e19-acf9-c2713de758cc",
     "showTitle": false,
     "title": ""
    }
   },
   "outputs": [
    {
     "data": {
      "text/plain": [
       "Note Pads & Paper                          1\n",
       "Beverage Carriers                          1\n",
       "Beverage Container Covers                  1\n",
       "Dispensers                                 3\n",
       "Comment Cards                              3\n",
       "Ice Buckets                                4\n",
       "Food & Beverage Condiments                 5\n",
       "Paper / Plastic / Foam Cups Sleeves        5\n",
       "Plastic Flatware                          65\n",
       "Paper / Plastic / Foam Cups              138\n",
       "Paper / Plastic / Foam Plates & Bowls    270\n",
       "Name: Level 2, dtype: int64"
      ]
     },
     "execution_count": 10,
     "metadata": {},
     "output_type": "execute_result"
    }
   ],
   "source": [
    "#level__1 = \"Toys / Games / Hobbies\"\n",
    "#filenamee = \"TOYS_GAMES_HOBBIES\"\n",
    "\n",
    "# level__1 = \"Tobacco Products\"\n",
    "# filenamee = \"TOBACCO_PRODUCTS\"\n",
    "\n",
    "# level__1 = \"Cleaning & Janitorial\"\n",
    "# filenamee = \"CLEANING_JANITORIAL\"\n",
    "\n",
    "# level__1 = \"Office Supplies\"\n",
    "# filenamee = \"OFFICE_SUPPLIES\"\n",
    "\n",
    "# level__1 = \"Beer / Wine / Spirits\"\n",
    "# filenamee = \"BEER_WINE_SPIRITS\"\n",
    "\n",
    "# level__1 = \"Livestock & Pet Supplies\"\n",
    "# filenamee = \"LIVESTOCK_PET_SUPPLIES\"\n",
    "\n",
    "# level__1 = \"Kitchen & Bathroom\"\n",
    "# filenamee = \"KITCHEN_BATHROOM\"\n",
    "\n",
    "level__1 = \"Hospitality Supplies\"\n",
    "filenamee = \"HOSPITALITY_SUPPLIES\"\n",
    "\n",
    "# level__1 = \"Home & Venue Decoration\"\n",
    "# filenamee = \"HOME_VENUE_DECORATION\"\n",
    "\n",
    "# level__1 = \"Heating / Ventilation / Air Conditioning\"\n",
    "# filenamee = \"HEATING_VENTILATION_AIR_CONDITIONING\"\n",
    "\n",
    "# level__1 = \"Gardening & Outdoors\"\n",
    "# filenamee = \"GARDENING_OUTDOORS\"\n",
    "\n",
    "# level__1 = \"Sports & Outdoor Recreation Equipment\"\n",
    "# filenamee = \"SPORTS_OUTDOOR_RECREATION_EQUIPMENT\"\n",
    "\n",
    "syndigo_mapped[syndigo_mapped['Level 1']==level__1]['Level 2'].value_counts(ascending=True)"
   ]
  },
  {
   "cell_type": "code",
   "execution_count": 11,
   "metadata": {
    "application/vnd.databricks.v1+cell": {
     "cellMetadata": {},
     "inputWidgets": {},
     "nuid": "3bceb8e8-d0bf-497a-be4b-2ff5adb2c80f",
     "showTitle": true,
     "title": "Ignore any warnings from this cell"
    }
   },
   "outputs": [
    {
     "name": "stdout",
     "output_type": "stream",
     "text": [
      "Training - \"Hospitality Supplies\"\n"
     ]
    },
    {
     "name": "stderr",
     "output_type": "stream",
     "text": [
      "C:\\Users\\iny2819\\AppData\\Local\\anaconda3\\lib\\site-packages\\sklearn\\model_selection\\_split.py:700: UserWarning: The least populated class in y has only 3 members, which is less than n_splits=5.\n",
      "  warnings.warn(\n"
     ]
    },
    {
     "name": "stdout",
     "output_type": "stream",
     "text": [
      "Done Training - \"Hospitality Supplies\"\n"
     ]
    }
   ],
   "source": [
    "level_1 = level__1\n",
    "subset_df = syndigo_mapped[syndigo_mapped['Level 1'] == level_1]\n",
    "series = syndigo_mapped[syndigo_mapped['Level 1']==level__1]['Level 2'].value_counts(ascending=True)\n",
    "if series.tolist():\n",
    "    subset_df = subset_df.drop(subset_df[subset_df['Level 2'].isin(series[series==1].index.tolist())].index)\n",
    "\n",
    "vect_subset = TfidfVectorizer(ngram_range = (1,2), max_features = 1000000)\n",
    "X_subset = vect_subset.fit_transform(subset_df.ITEM_SUBCOM_text)\n",
    "level2_id_map = dict(zip(subset_df['Level 2'].fillna('Other').unique(), range(subset_df['Level 2'].fillna('Other').nunique())))\n",
    "id2_level_map = dict(zip(range(subset_df['Level 2'].fillna('Other').nunique()), subset_df['Level 2'].fillna('Other').unique()))\n",
    "y_subset  = subset_df['Level 2'].fillna('Other').map(level2_id_map)\n",
    "A_train, A_test, B_train, B_test = train_test_split(subset_df.GTIN.tolist(), subset_df['Level 2'].tolist(), test_size=0.1, stratify=y_subset, random_state=42)\n",
    "X_train, X_test, y_train, y_test = train_test_split(X_subset, y_subset, test_size= 0.1, stratify=y_subset, random_state=42)\n",
    "lr_tf = LogisticRegressionCV(cv = 5, multi_class = 'multinomial', solver = 'saga', n_jobs=-1, max_iter=10000000)\n",
    "\n",
    "print(f\"Training - \\\"{level_1}\\\"\")\n",
    "lr_tf.fit(X_train, y_train)\n",
    "preds = lr_tf.predict(X_test)\n",
    "preds_lrtf = preds\n",
    "probs = lr_tf.predict_proba(X_test)\n",
    "preds_train = lr_tf.predict(X_train)\n",
    "probs_train = lr_tf.predict_proba(X_train)\n",
    "print(f\"Done Training - \\\"{level_1}\\\"\")"
   ]
  },
  {
   "cell_type": "code",
   "execution_count": 12,
   "metadata": {
    "application/vnd.databricks.v1+cell": {
     "cellMetadata": {},
     "inputWidgets": {},
     "nuid": "6dda9f8b-f131-4178-9a9e-0fe8bd02ddc4",
     "showTitle": false,
     "title": ""
    }
   },
   "outputs": [
    {
     "name": "stdout",
     "output_type": "stream",
     "text": [
      "50\n"
     ]
    }
   ],
   "source": [
    "level_num = []\n",
    "testProobs = []\n",
    "number = 1\n",
    "\n",
    "print(len(preds))\n",
    "for i in range(len(preds)):\n",
    "    for j in range(number):\n",
    "        try:\n",
    "            level_num.append(int(np.where(probs[i]==probs[i][np.argsort(probs[i])][::-1][:3][j])[0]))\n",
    "        except TypeError:\n",
    "            level_num.append(int(np.where(probs[i]==probs[i][np.argsort(probs[i])][::-1][:3][2])[0][0]))\n",
    "            print(\"problem occurred with: \", i, j, flush=True)\n",
    "    testProobs.append(probs[i][np.argsort(probs[i])][::-1][:1])\n",
    "\n",
    "test_new_proobs = []\n",
    "for i in range(len(testProobs)):\n",
    "    test_new_proobs.append(testProobs[i].tolist())\n",
    "test_new_proobs = [element for sublist in list(test_new_proobs) for element in sublist]"
   ]
  },
  {
   "cell_type": "code",
   "execution_count": 13,
   "metadata": {
    "application/vnd.databricks.v1+cell": {
     "cellMetadata": {},
     "inputWidgets": {},
     "nuid": "5d1f23cd-b044-493a-999c-25de1351083e",
     "showTitle": false,
     "title": ""
    }
   },
   "outputs": [
    {
     "name": "stdout",
     "output_type": "stream",
     "text": [
      "443\n"
     ]
    }
   ],
   "source": [
    "level_num = []\n",
    "trainProobs = []\n",
    "\n",
    "print(len(preds_train))\n",
    "for i in range(len(preds_train)):\n",
    "    for j in range(number):\n",
    "        try:\n",
    "            level_num.append(int(np.where(probs_train[i]==probs_train[i][np.argsort(probs_train[i])][::-1][:3][j])[0]))\n",
    "        except TypeError:\n",
    "            level_num.append(int(np.where(probs_train[i]==probs_train[i][np.argsort(probs_train[i])][::-1][:3][2])[0][0]))\n",
    "            print(\"problem occurred with: \", i, j, flush=True)\n",
    "    trainProobs.append(probs_train[i][np.argsort(probs_train[i])][::-1][:1]) \n",
    "\n",
    "train_new_proobs = []\n",
    "for i in range(len(trainProobs)):\n",
    "    train_new_proobs.append(trainProobs[i].tolist())\n",
    "train_new_proobs = [element for sublist in list(train_new_proobs) for element in sublist]"
   ]
  },
  {
   "cell_type": "code",
   "execution_count": 14,
   "metadata": {
    "application/vnd.databricks.v1+cell": {
     "cellMetadata": {},
     "inputWidgets": {},
     "nuid": "df06039a-7117-48ed-9673-2c712f1b0d2e",
     "showTitle": false,
     "title": ""
    }
   },
   "outputs": [],
   "source": [
    "testLevels = []\n",
    "for j in y_test:\n",
    "    testLevels.append([i for i in level2_id_map if level2_id_map[i]==j][0])\n",
    "\n",
    "testLevelss = []\n",
    "for j in preds:\n",
    "    testLevelss.append([i for i in level2_id_map if level2_id_map[i]==j][0])\n",
    "\n",
    "trainLevelss = []\n",
    "for j in preds_train:\n",
    "    trainLevelss.append([i for i in level2_id_map if level2_id_map[i]==j][0])"
   ]
  },
  {
   "cell_type": "code",
   "execution_count": 15,
   "metadata": {
    "application/vnd.databricks.v1+cell": {
     "cellMetadata": {},
     "inputWidgets": {},
     "nuid": "5dba2fa9-97bc-4807-a06b-6f7a8f2189b3",
     "showTitle": false,
     "title": ""
    }
   },
   "outputs": [
    {
     "name": "stdout",
     "output_type": "stream",
     "text": [
      "---------------------------------------------\\FINAL COUNTS:\n",
      "---------------------------------------------\n",
      "1) 493\n",
      "2) 493\n",
      "3) 493\n",
      "4) 493\n",
      "5) 493\n",
      "6) 493\n"
     ]
    }
   ],
   "source": [
    "print(\"---------------------------------------------\\FINAL COUNTS:\\n---------------------------------------------\")\n",
    "print(\"1)\", len(A_test + A_train))\n",
    "print(\"2)\", len(['Test']*len(A_test) + ['Train']*len(A_train)))\n",
    "print(\"3)\", len(B_test + B_train))\n",
    "print(\"4)\", len(testLevels + B_train))\n",
    "print(\"5)\", len(testLevelss + trainLevelss))\n",
    "print(\"6)\", int(len(test_new_proobs + train_new_proobs)))"
   ]
  },
  {
   "cell_type": "code",
   "execution_count": 16,
   "metadata": {
    "application/vnd.databricks.v1+cell": {
     "cellMetadata": {},
     "inputWidgets": {},
     "nuid": "c7349f53-6f3a-4a5c-83d4-70ee595fb4b6",
     "showTitle": false,
     "title": ""
    }
   },
   "outputs": [],
   "source": [
    "data = {\n",
    "    'GTIN' : A_test + A_train,\n",
    "    'Source': ['Test']*len(A_test) + ['Train']*len(A_train),\n",
    "    'Actual Level 2' : B_test + B_train,\n",
    "    'Actuals' : testLevels + B_train,\n",
    "    'Predictions' : testLevelss + trainLevelss,\n",
    "    'Scores' : test_new_proobs + train_new_proobs,\n",
    "    'L1 Name' : level_1\n",
    "}\n",
    "\n",
    "df = pd.DataFrame(data)\n",
    "df = df.merge(pim_gtin_mapped[['GTIN', 'ITM_ID', 'PMY_DPT_CD', 'PMY_DPT_DSC', 'REC_DPT_CD',\n",
    "    'REC_DPT_DSC', 'DPT_CD', 'DPT_DSC', 'COM_CD', 'COM_DSC', 'SUBCOM_CD',\n",
    "    'SUBCOM_DSC', 'VND_ECOM_DSC']], on='GTIN', how='left')\n",
    "df = df[['ITM_ID', 'GTIN', 'PMY_DPT_CD', 'PMY_DPT_DSC', 'REC_DPT_CD', 'REC_DPT_DSC', 'DPT_CD',\n",
    "    'DPT_DSC', 'COM_CD', 'COM_DSC', 'SUBCOM_CD', 'SUBCOM_DSC',\n",
    "    'VND_ECOM_DSC', 'Source', 'Actual Level 2', 'Actuals', 'Predictions', 'Scores', 'L1 Name']]"
   ]
  },
  {
   "cell_type": "markdown",
   "metadata": {
    "application/vnd.databricks.v1+cell": {
     "cellMetadata": {},
     "inputWidgets": {},
     "nuid": "27ee1c73-72c8-4226-a81b-10f4556206e8",
     "showTitle": false,
     "title": ""
    }
   },
   "source": [
    "## Keep the output of the below cell for all Level 1 executed"
   ]
  },
  {
   "cell_type": "code",
   "execution_count": 17,
   "metadata": {
    "application/vnd.databricks.v1+cell": {
     "cellMetadata": {
      "byteLimit": 2048000,
      "rowLimit": 10000
     },
     "inputWidgets": {},
     "nuid": "74055d3e-c020-4172-9b52-44358f40546a",
     "showTitle": false,
     "title": ""
    }
   },
   "outputs": [
    {
     "name": "stdout",
     "output_type": "stream",
     "text": [
      "HOSPITALITY_SUPPLIES.csv   --file created successfully\n"
     ]
    }
   ],
   "source": [
    "df.to_csv(DBFO + filenamee + '.csv', index=False)\n",
    "print(f\"{filenamee}.csv   --file created successfully\")"
   ]
  }
 ],
 "metadata": {
  "application/vnd.databricks.v1+notebook": {
   "dashboards": [],
   "language": "python",
   "notebookMetadata": {
    "pythonIndentUnit": 4
   },
   "notebookName": "Syndigo Mapping MachineLearning",
   "widgets": {}
  },
  "kernelspec": {
   "display_name": "Python 3 (ipykernel)",
   "language": "python",
   "name": "python3"
  },
  "language_info": {
   "codemirror_mode": {
    "name": "ipython",
    "version": 3
   },
   "file_extension": ".py",
   "mimetype": "text/x-python",
   "name": "python",
   "nbconvert_exporter": "python",
   "pygments_lexer": "ipython3",
   "version": "3.10.9"
  }
 },
 "nbformat": 4,
 "nbformat_minor": 1
}
